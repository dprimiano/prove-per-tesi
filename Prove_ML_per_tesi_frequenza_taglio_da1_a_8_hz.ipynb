{
  "nbformat": 4,
  "nbformat_minor": 0,
  "metadata": {
    "anaconda-cloud": {},
    "colab": {
      "name": "Prove_ML_per_tesi frequenza taglio da1 a 8 hz.ipynb",
      "provenance": [],
      "collapsed_sections": [
        "UqMP_dBn90fs",
        "FXYYCtOJvT12"
      ],
      "toc_visible": true
    },
    "kernelspec": {
      "display_name": "Python 3",
      "language": "python",
      "name": "python3"
    },
    "language_info": {
      "codemirror_mode": {
        "name": "ipython",
        "version": 3
      },
      "file_extension": ".py",
      "mimetype": "text/x-python",
      "name": "python",
      "nbconvert_exporter": "python",
      "pygments_lexer": "ipython3",
      "version": "3.8.3"
    },
    "toc": {
      "nav_menu": {},
      "number_sections": true,
      "sideBar": true,
      "skip_h1_title": false,
      "title_cell": "Table of Contents",
      "title_sidebar": "Contents",
      "toc_cell": false,
      "toc_position": {},
      "toc_section_display": true,
      "toc_window_display": false
    }
  },
  "cells": [
    {
      "cell_type": "markdown",
      "metadata": {
        "id": "qeoP3Mk-60Zw"
      },
      "source": [
        "# Prove ML per tesi"
      ]
    },
    {
      "cell_type": "code",
      "metadata": {
        "id": "X4ReBTXfZG4-"
      },
      "source": [
        ""
      ],
      "execution_count": null,
      "outputs": []
    },
    {
      "cell_type": "code",
      "metadata": {
        "colab": {
          "base_uri": "https://localhost:8080/"
        },
        "id": "oFoXnoQKZJ3G",
        "outputId": "608a362c-73d7-4b44-958a-0ed77a909f72"
      },
      "source": [
        "from google.colab import drive\n",
        "drive.mount('/content/drive')"
      ],
      "execution_count": null,
      "outputs": [
        {
          "output_type": "stream",
          "name": "stdout",
          "text": [
            "Mounted at /content/drive\n"
          ]
        }
      ]
    },
    {
      "cell_type": "markdown",
      "metadata": {
        "id": "h7E124NO7lW2"
      },
      "source": [
        "Si parte dal precedente progetto \"Elaborazione del segnale EEG con metodi supervisionati per la classificazione dei pazienti di Alzheimer\". Si individuano alcuni dei classificaori utilizzati, per eseguerire k-fold cross validation unita alla greadsearchCV per individuare gli iperparametri ottimali con i quali addestrare i classificatori e alla fine eseguire i modelli."
      ]
    },
    {
      "cell_type": "markdown",
      "metadata": {
        "id": "UM3STYYL9gNY"
      },
      "source": [
        "Si esegue l'import delle principali librerie utilizzate per il progetto di machine learning"
      ]
    },
    {
      "cell_type": "code",
      "metadata": {
        "id": "NyX9DTjDhrI5"
      },
      "source": [
        "import numpy as np\n",
        "import scipy as sp\n",
        "import matplotlib as mpl\n",
        "import seaborn as sns\n",
        "import matplotlib.pyplot as plt\n",
        "import plotly.express as px\n",
        "import pandas as pd\n",
        "from scipy.fftpack import fft, ifft, fftfreq,rfft\n",
        "from sklearn import tree\n",
        "from sklearn.model_selection import train_test_split\n",
        "from sklearn.tree import DecisionTreeClassifier\n",
        "from sklearn.metrics import accuracy_score\n",
        "from sklearn.metrics import classification_report, confusion_matrix\n",
        "from sklearn.metrics import precision_score, \\\n",
        "    recall_score, \\\n",
        "    accuracy_score, f1_score\n",
        "\n",
        "# Lets import some modules for basic computation\n",
        "import time\n",
        "\n",
        "\n",
        "import pickle\n",
        "\n",
        "# Some modules for plotting and visualizing\n",
        "import seaborn as sns\n",
        "import matplotlib.pyplot as plt\n",
        "from IPython.display import display\n",
        "\n",
        "# And some Machine Learning modules from scikit-learn\n",
        "from sklearn.decomposition import PCA\n",
        "from sklearn.preprocessing import StandardScaler, LabelEncoder\n",
        "\n",
        "from sklearn.linear_model import LogisticRegression\n",
        "from sklearn.svm import SVC\n",
        "from sklearn.neighbors import KNeighborsClassifier\n",
        "from sklearn import tree\n",
        "from sklearn.neural_network import MLPClassifier\n",
        "from sklearn.neighbors import KNeighborsClassifier\n",
        "from sklearn.ensemble import GradientBoostingClassifier\n",
        "from sklearn.gaussian_process.kernels import RBF\n",
        "from sklearn.ensemble import RandomForestClassifier\n",
        "from sklearn.naive_bayes import GaussianNB\n",
        "\n",
        "from sklearn.metrics import accuracy_score\n",
        "from sklearn.preprocessing import StandardScaler\n",
        "\n",
        "from sklearn.decomposition import PCA\n",
        "from sklearn.pipeline import make_pipeline\n",
        "from sklearn.model_selection import GridSearchCV\n",
        "from sklearn.model_selection import RandomizedSearchCV\n",
        "from sklearn.model_selection import cross_val_score\n",
        "from sklearn.ensemble import RandomForestClassifier\n",
        "from sklearn.model_selection import GroupKFold\n",
        "\n",
        "from sklearn.discriminant_analysis import LinearDiscriminantAnalysis as LDA\n",
        "from sklearn.decomposition import KernelPCA"
      ],
      "execution_count": null,
      "outputs": []
    },
    {
      "cell_type": "code",
      "metadata": {
        "id": "6wyL4LnwZ9IO"
      },
      "source": [
        ""
      ],
      "execution_count": null,
      "outputs": []
    },
    {
      "cell_type": "markdown",
      "metadata": {
        "id": "UqMP_dBn90fs"
      },
      "source": [
        "## Principali funzioni di utilità"
      ]
    },
    {
      "cell_type": "code",
      "metadata": {
        "id": "qsHn2py9-Sa8"
      },
      "source": [
        "def tuning_albero_decisione(caso,numerocv):\n",
        "    ncv=numerocv\n",
        "    if caso==1:\n",
        "       X_traina=X_train_caso1\n",
        "       y_traina=y_train_caso1\n",
        "       X_testa=X_test_caso1\n",
        "       y_testa=y_test_caso1\n",
        "    if caso==2:\n",
        "       X_traina=X_train_caso2\n",
        "       y_traina=y_train_caso2\n",
        "       X_testa=X_test_caso2\n",
        "       y_testa=y_test_caso2\n",
        "    if caso==3:\n",
        "       X_traina=X_train_caso3\n",
        "       y_traina=y_train_caso3  \n",
        "       X_testa=X_test_caso3\n",
        "       y_testa=y_test_caso3   \n",
        "    if caso==4:\n",
        "       X_traina=X_train_caso4\n",
        "       y_traina=y_train_caso4   \n",
        "       X_testa=X_test_caso4\n",
        "       y_testa=y_test_caso4     \n",
        "\n",
        "    parametri1 = {\"criterion\":[\"gini\",\"entropy\"],\n",
        "              \"max_depth\": [3,4,5,10]}\n",
        "\n",
        "    parametri = {\"criterion\":[\"gini\",\"entropy\"],\n",
        "              \"max_depth\": [3,4,5,10],\n",
        "              \"min_samples_leaf\":[1,2,3],\n",
        "              \"min_samples_split\":[1,2,3],\n",
        "              \"min_weight_fraction_leaf\":[0,1,2]\n",
        "              }\n",
        "\n",
        "    cercap = GridSearchCV(estimator=DecisionTreeClassifier(), \n",
        "                  param_grid=parametri, \n",
        "                  scoring='accuracy', \n",
        "                  refit=True,\n",
        "                  cv=ncv,\n",
        "                  verbose=1,\n",
        "                  n_jobs=-1)\n",
        "    gs = cercap.fit(X_traina, y_traina)\n",
        "    print('Accuratezza fase di Cross Validation con dati di Addestramento/Validazione: %.3f' % gs.best_score_)\n",
        "    print(gs.best_params_)\n",
        "\n",
        "\n",
        "    clf = gs.best_estimator_\n",
        "    # clf.fit(X_train, y_train) \n",
        "    \n",
        "  \n",
        "    print('Accuratezza con dati di Test: %.3f' % clf.score(X_testa, y_testa))\n",
        "\n",
        "    y_true, y_pred = y_testa , clf.predict(X_testa)\n",
        "    \n",
        "    print('Risultato sui dati di test:')\n",
        "    print(classification_report(y_true, y_pred))\n",
        "\n",
        "    target_names = ['Positivo','Negativo']\n",
        "    print(confusion_matrix(y_testa,y_pred))\n",
        "    matrice=confusion_matrix(y_testa,y_pred)\n",
        "        #print(y_test,y_pred)\n",
        "    tp=matrice[0,0]\n",
        "    fn=matrice[0,1]\n",
        "    fp=matrice[1,0]\n",
        "    tn=matrice[1,1]\n",
        "         \n",
        "        #print(tp,fp,fn,tn)\n",
        "    accurancy=int(((tp+tn)/(tn+fp+fn+tp))*100)\n",
        "    precision=int((tp/(tp+fp))*100)\n",
        "    sensitivity=int((tp/(tp+fn))*100)\n",
        "    specificity=int((tn/(tn+fp))*100)\n",
        "    if (precision== 0 and sensitivity==0):\n",
        "        f1score=0\n",
        "    else:\n",
        "        f1score=int(2*((precision * sensitivity)/(precision + sensitivity)))\n",
        "\n",
        "    print('Accuratezza Test: %.3f' % accurancy)  \n",
        "    print('Precisione  Test: %.3f' % precision)\n",
        "    print('Sensitività Test: %.3f' % sensitivity)\n",
        "    print('Specificità Test: %.3f' % specificity)\n",
        "    print('F1 score    Test: %.3f' % f1score)\n",
        "    #print(classification_report(y_test,y_pred,target_names=target_names))"
      ],
      "execution_count": null,
      "outputs": []
    },
    {
      "cell_type": "code",
      "metadata": {
        "id": "UsJEZFSr-SzM"
      },
      "source": [
        "def tuning_albero_decisione_CV(caso,numerocv):\n",
        "    ncv=numerocv\n",
        "    if caso==1:\n",
        "       X_traina=X_train_caso1\n",
        "       y_traina=y_train_caso1\n",
        "       X_testa=X_test_caso1\n",
        "       y_testa=y_test_caso1\n",
        "    if caso==2:\n",
        "       X_traina=X_train_caso2\n",
        "       y_traina=y_train_caso2\n",
        "       X_testa=X_test_caso2\n",
        "       y_testa=y_test_caso2\n",
        "    if caso==3:\n",
        "       X_traina=X_train_caso3\n",
        "       y_traina=y_train_caso3  \n",
        "       X_testa=X_test_caso3\n",
        "       y_testa=y_test_caso3   \n",
        "    if caso==4:\n",
        "       X_traina=X_train_caso4\n",
        "       y_traina=y_train_caso4   \n",
        "       X_testa=X_test_caso4\n",
        "       y_testa=y_test_caso4 \n",
        "\n",
        "    parametri1 = {\"criterion\":[\"gini\",\"entropy\"],\n",
        "              \"max_depth\": [3,4,5,10]}\n",
        "\n",
        "    parametri = {\"criterion\":[\"gini\",\"entropy\"],\n",
        "              \"max_depth\": [3,4,5,10],\n",
        "              \"min_samples_leaf\":[1,2,3],\n",
        "              \"min_samples_split\":[1,2,3],\n",
        "              \"min_weight_fraction_leaf\":[0,1,2]}\n",
        "\n",
        "    cercap = GridSearchCV(estimator=DecisionTreeClassifier(random_state=0), \n",
        "                  param_grid=parametri, \n",
        "                  scoring='accuracy', \n",
        "                  refit=True,\n",
        "                  cv=2,\n",
        "                  verbose=1,\n",
        "                  n_jobs=-1)\n",
        "    gs = cercap.fit(X_traina, y_traina)\n",
        "    print(gs.best_score_)\n",
        "    print(gs.best_params_)\n",
        "\n",
        "\n",
        "    clf = gs.best_estimator_\n",
        "    # clf.fit(X_train, y_train) \n",
        "         \n",
        "    #questa parte non viene eseguita in quanto  è stato già eseguita avendo imnpostato refit=True.\n",
        "   \n",
        "\n",
        "    scores = cross_val_score(gs, X_traina, y_traina, \n",
        "                         scoring='accuracy', cv=ncv)\n",
        "    print('CV accuracy: %.3f +/- %.3f' % (np.mean(scores),\n",
        "                                      np.std(scores)))\n",
        "\n",
        "    print('Test accuracy: %.3f' % clf.score(X_testa, y_testa))"
      ],
      "execution_count": null,
      "outputs": []
    },
    {
      "cell_type": "code",
      "metadata": {
        "id": "QhjwAbFn-TZD"
      },
      "source": [
        ""
      ],
      "execution_count": null,
      "outputs": []
    },
    {
      "cell_type": "code",
      "metadata": {
        "id": "Y5SUVDLTG8XV"
      },
      "source": [
        "def tuning_SVM(caso,numerocv):\n",
        "    ncv=numerocv\n",
        "    if caso==1:\n",
        "       X_trains=X_train_caso1\n",
        "       y_trains=y_train_caso1\n",
        "       X_tests=X_test_caso1\n",
        "       y_tests=y_test_caso1\n",
        "    if caso==2:\n",
        "       X_trains=X_train_caso2\n",
        "       y_trains=y_train_caso2\n",
        "       X_tests=X_test_caso2\n",
        "       y_tests=y_test_caso2\n",
        "    if caso==3:\n",
        "       X_trains=X_train_caso3\n",
        "       y_trains=y_train_caso3  \n",
        "       X_tests=X_test_caso3\n",
        "       y_tests=y_test_caso3   \n",
        "    if caso==4:\n",
        "       X_trains=X_train_caso4\n",
        "       y_trains=y_train_caso4   \n",
        "       X_tests=X_test_caso4\n",
        "       y_tests=y_test_caso4     \n",
        "\n",
        "    \n",
        "    #parametri = {'C': [0.0001, 0.001, 0.01, 0.1, 1.0, 10.0, 100.0, 1000.0], \n",
        "    #           'gamma': [0.0001, 0.001, 0.01, 0.1, 1.0, 10.0, 100.0, 1000.0], \n",
        "    #           'kernel': ['linear','rbf']}\n",
        "\n",
        "    parametri1 = {'kernel': ['linear','rbf']}\n",
        "\n",
        "    #cercap = GridSearchCV(estimator=SVC(), \n",
        "    #              param_grid=parametri, \n",
        "    #              scoring='accuracy', \n",
        "    #              refit=True,\n",
        "    #              cv=ncv,\n",
        "    #              verbose=1,\n",
        "    #              n_jobs=-1)\n",
        "    cercap = RandomizedSearchCV(estimator=SVC(), \n",
        "                  param_distributions=parametri1, \n",
        "                  scoring='accuracy', \n",
        "                  refit=True,\n",
        "                  cv=ncv,\n",
        "                  verbose=1,\n",
        "                  n_iter=20,\n",
        "                  n_jobs=-1)\n",
        "    gs = cercap.fit(X_trains, y_trains)\n",
        "    print('Accuratezza fase di Cross Validation con dati di Addestramento/Validazione: %.3f' % gs.best_score_)\n",
        "    print(gs.best_params_)\n",
        "\n",
        "\n",
        "    clf = gs.best_estimator_\n",
        "    # clf.fit(X_train, y_train) \n",
        "    # note that we do not need to refit the classifier\n",
        "    # because this is done automatically via refit=True.\n",
        "    print('Accuratezza con dati di Test: %.3f' % clf.score(X_tests, y_tests))\n",
        "\n",
        "    y_true, y_pred = y_tests , clf.predict(X_tests)\n",
        "    \n",
        "    print('Risultato sui dati di test:')\n",
        "    print(classification_report(y_true, y_pred))\n",
        "\n",
        "    target_names = ['Positivo','Negativo']\n",
        "    print(confusion_matrix(y_tests,y_pred))\n",
        "    matrice=confusion_matrix(y_tests,y_pred)\n",
        "        #print(y_test,y_pred)\n",
        "    tp=matrice[0,0]\n",
        "    fn=matrice[0,1]\n",
        "    fp=matrice[1,0]\n",
        "    tn=matrice[1,1]\n",
        "         \n",
        "        #print(tp,fp,fn,tn)\n",
        "    accurancy=int(((tp+tn)/(tn+fp+fn+tp))*100)\n",
        "    precision=int((tp/(tp+fp))*100)\n",
        "    sensitivity=int((tp/(tp+fn))*100)\n",
        "    specificity=int((tn/(tn+fp))*100)\n",
        "    if (precision== 0 and sensitivity==0):\n",
        "        f1score=0\n",
        "    else:\n",
        "        f1score=int(2*((precision * sensitivity)/(precision + sensitivity)))\n",
        "\n",
        "    print('Accuratezza Test: %.3f' % accurancy)  \n",
        "    print('Precisione  Test: %.3f' % precision)\n",
        "    print('Sensitività Test: %.3f' % sensitivity)\n",
        "    print('Specificità Test: %.3f' % specificity)\n",
        "    print('F1 score    Test: %.3f' % f1score)"
      ],
      "execution_count": null,
      "outputs": []
    },
    {
      "cell_type": "code",
      "metadata": {
        "id": "ED-M4IyNTZiY"
      },
      "source": [
        "def tuning_foresta(caso,numerocv):\n",
        "    ncv=numerocv\n",
        "    if caso==1:\n",
        "       X_trainf=X_train_caso1\n",
        "       y_trainf=y_train_caso1\n",
        "       X_testf=X_test_caso1\n",
        "       y_testf=y_test_caso1\n",
        "    if caso==2:\n",
        "       X_trainf=X_train_caso2\n",
        "       y_trainf=y_train_caso2\n",
        "       X_testf=X_test_caso2\n",
        "       y_testf=y_test_caso2\n",
        "    if caso==3:\n",
        "       X_trainf=X_train_caso3\n",
        "       y_trainf=y_train_caso3  \n",
        "       X_testf=X_test_caso3\n",
        "       y_testf=y_test_caso3   \n",
        "    if caso==4:\n",
        "       X_trainf=X_train_caso4\n",
        "       y_trainf=y_train_caso4   \n",
        "       X_testf=X_test_caso4\n",
        "       y_testf=y_test_caso4     \n",
        "\n",
        "     \n",
        "    parametri = {\"max_depth\": [8, 12, None],\n",
        "                 \"max_features\": [1, 3, 10],\n",
        "                 \"min_samples_split\": [1, 3, 10],\n",
        "                 \"min_samples_leaf\": [1, 3, 10],\n",
        "                 \"bootstrap\": [True, False],\n",
        "                 \"criterion\": [\"gini\", \"entropy\"],\n",
        "                 \"n_estimators\": [20, 40, 80]}\n",
        "  \n",
        "\n",
        "    #cercap = GridSearchCV(estimator=RandomForestClassifier(random_state=42), \n",
        "    #              param_grid=parametri, \n",
        "    #              scoring='accuracy', \n",
        "    #              refit=True,\n",
        "    #              cv=ncv,\n",
        "    #              verbose=1,\n",
        "    #              n_jobs=-1)\n",
        "    cercap = RandomizedSearchCV(estimator=RandomForestClassifier(random_state=42), \n",
        "                  param_distributions=parametri, \n",
        "                  scoring='accuracy', \n",
        "                  refit=True,\n",
        "                  cv=ncv,\n",
        "                  verbose=1,\n",
        "                  n_iter=20,\n",
        "                  n_jobs=-1)\n",
        "    \n",
        "   \n",
        "    gs = cercap.fit(X_trainf, y_trainf)\n",
        "    print('Accuratezza fase di Cross Validation con dati di Addestramento/Validazione: %.3f' % gs.best_score_)\n",
        "    print(gs.best_params_)\n",
        "\n",
        "\n",
        "    clf = gs.best_estimator_\n",
        "    # clf.fit(X_train, y_train) \n",
        "    \n",
        "    print('Accuratezza con dati di Test: %.3f' % clf.score(X_testf, y_testf))\n",
        "\n",
        "    y_true, y_pred = y_testf , clf.predict(X_testf)\n",
        "    \n",
        "    print('Risultato sui dati di test:')\n",
        "    print(classification_report(y_true, y_pred))\n",
        "\n",
        "    target_names = ['Positivo','Negativo']\n",
        "    print(confusion_matrix(y_testf,y_pred))\n",
        "    matrice=confusion_matrix(y_testf,y_pred)\n",
        "        #print(y_test,y_pred)\n",
        "    tp=matrice[0,0]\n",
        "    fn=matrice[0,1]\n",
        "    fp=matrice[1,0]\n",
        "    tn=matrice[1,1]\n",
        "         \n",
        "        #print(tp,fp,fn,tn)\n",
        "    accurancy=int(((tp+tn)/(tn+fp+fn+tp))*100)\n",
        "    precision=int((tp/(tp+fp))*100)\n",
        "    sensitivity=int((tp/(tp+fn))*100)\n",
        "    specificity=int((tn/(tn+fp))*100)\n",
        "    if (precision== 0 and sensitivity==0):\n",
        "        f1score=0\n",
        "    else:\n",
        "        f1score=int(2*((precision * sensitivity)/(precision + sensitivity)))\n",
        "\n",
        "    print('Accuratezza Test: %.3f' % accurancy)  \n",
        "    print('Precisione  Test: %.3f' % precision)\n",
        "    print('Sensitività Test: %.3f' % sensitivity)\n",
        "    print('Specificità Test: %.3f' % specificity)\n",
        "    print('F1 score    Test: %.3f' % f1score)\n"
      ],
      "execution_count": null,
      "outputs": []
    },
    {
      "cell_type": "code",
      "metadata": {
        "id": "27v1j31vTecI"
      },
      "source": [
        "def tuning_SVM_CV(caso,numerocv):\n",
        "    ncv=numerocv\n",
        "    if caso==1:\n",
        "       X_train=X_train_caso1\n",
        "       y_train=y_train_caso1\n",
        "       X_test=X_test_caso1\n",
        "       y_test=y_test_caso1\n",
        "    if caso==2:\n",
        "       X_train=X_train_caso2\n",
        "       y_train=y_train_caso2\n",
        "       X_test=X_test_caso2\n",
        "       y_test=y_test_caso2\n",
        "    if caso==3:\n",
        "       X_train=X_train_caso3\n",
        "       y_train=y_train_caso3  \n",
        "       X_test=X_test_caso3\n",
        "       y_test=y_test_caso3   \n",
        "    if caso==4:\n",
        "       X_train=X_train_caso4\n",
        "       y_train=y_train_caso4   \n",
        "       X_test=X_test_caso4\n",
        "       y_test=y_test_caso4 \n",
        "\n",
        "    range_valori = [0.0001, 0.001, 0.01, 0.1, 1.0, 10.0, 100.0, 1000.0]\n",
        "\n",
        "    parametri = {'C': [0.0001, 0.001, 0.01, 0.1, 1.0, 10.0, 100.0, 1000.0], \n",
        "               'gamma': [0.0001, 0.001, 0.01, 0.1, 1.0, 10.0, 100.0, 1000.0], \n",
        "               'kernel': ['linear','rbf']}\n",
        "\n",
        "  \n",
        "\n",
        "    cercap = GridSearchCV(estimator=SVC(), \n",
        "                  param_grid=parametri, \n",
        "                  scoring='accuracy', \n",
        "                  refit=True,\n",
        "                  cv=2,\n",
        "                  verbose=1,\n",
        "                  n_jobs=-1)\n",
        "    \n",
        "    gs = cercap.fit(X_train, y_train)\n",
        "    print(gs.best_score_)\n",
        "    print(gs.best_params_)\n",
        "\n",
        "\n",
        "    clf = gs.best_estimator_\n",
        "    # clf.fit(X_train, y_train) \n",
        "    \n",
        "\n",
        "    scores = cross_val_score(gs, X_train, y_train, \n",
        "                         scoring='accuracy', cv=ncv)\n",
        "    print('Accuratezza fase di Cross Validation con dati di Addestramento/Validazione:: %.3f +/- %.3f' % (np.mean(scores),\n",
        "                                      np.std(scores)))\n",
        "\n",
        "    print('Accuratezza con dati di Test: %.3f' % clf.score(X_test, y_test))"
      ],
      "execution_count": null,
      "outputs": []
    },
    {
      "cell_type": "code",
      "metadata": {
        "id": "3ToL3lGmTaDl"
      },
      "source": [
        "def tuning_KNN(caso,numerocv):\n",
        "    ncv=numerocv\n",
        "\n",
        "    if caso==1:\n",
        "       X_traink=X_train_caso1\n",
        "       y_traink=y_train_caso1\n",
        "       X_testk=X_test_caso1\n",
        "       y_testk=y_test_caso1\n",
        "    if caso==2:\n",
        "       X_traink=X_train_caso2\n",
        "       y_traink=y_train_caso2\n",
        "       X_testk=X_test_caso2\n",
        "       y_testk=y_test_caso2\n",
        "    if caso==3:\n",
        "       X_traink=X_train_caso3\n",
        "       y_traink=y_train_caso3  \n",
        "       X_testk=X_test_caso3\n",
        "       y_testk=y_test_caso3   \n",
        "    if caso==4:\n",
        "       X_traink=X_train_caso4\n",
        "       y_traink=y_train_caso4   \n",
        "       X_testk=X_test_caso4\n",
        "       y_testk=y_test_caso4     \n",
        "\n",
        "    parametri = {\n",
        "             'n_neighbors' : [5, 20],\n",
        "             'weights': ['uniform', 'distance'],\n",
        "             'algorithm': ['auto', 'ball_tree', 'kd_tree', 'brute']\n",
        "              }\n",
        "\n",
        "    cercap = GridSearchCV(estimator=KNeighborsClassifier(), \n",
        "                  param_grid=parametri, \n",
        "                  scoring='accuracy', \n",
        "                  refit=True,\n",
        "                  cv=ncv,\n",
        "                  verbose=1,\n",
        "                  n_jobs=-1)\n",
        "    \n",
        "    gs = cercap.fit(X_traink, y_traink)\n",
        "    print('Accuratezza fase di Cross Validation con dati di Addestramento/Validazione: %.3f' % gs.best_score_)\n",
        "    print(gs.best_params_)\n",
        "\n",
        "\n",
        "    clf = gs.best_estimator_\n",
        "    # clf.fit(X_train, y_train) \n",
        "    \n",
        "    print('Accuratezza con dati di Test: %.3f' % clf.score(X_testk, y_testk))\n",
        "\n",
        "    y_true, y_pred = y_testk , clf.predict(X_testk)\n",
        "    \n",
        "    print('Risultato sui dati di test:')\n",
        "    print(classification_report(y_true, y_pred))\n",
        "\n",
        "    target_names = ['Positivo','Negativo']\n",
        "    print(confusion_matrix(y_testk,y_pred))\n",
        "    matrice=confusion_matrix(y_testk,y_pred)\n",
        "        #print(y_test,y_pred)\n",
        "    tp=matrice[0,0]\n",
        "    fn=matrice[0,1]\n",
        "    fp=matrice[1,0]\n",
        "    tn=matrice[1,1]\n",
        "         \n",
        "        #print(tp,fp,fn,tn)\n",
        "    accurancy=int(((tp+tn)/(tn+fp+fn+tp))*100)\n",
        "    precision=int((tp/(tp+fp))*100)\n",
        "    sensitivity=int((tp/(tp+fn))*100)\n",
        "    specificity=int((tn/(tn+fp))*100)\n",
        "    if (precision== 0 and sensitivity==0):\n",
        "        f1score=0\n",
        "    else:\n",
        "        f1score=int(2*((precision * sensitivity)/(precision + sensitivity)))\n",
        "\n",
        "    print('Accuratezza Test: %.3f' % accurancy)  \n",
        "    print('Precisione  Test: %.3f' % precision)\n",
        "    print('Sensitività Test: %.3f' % sensitivity)\n",
        "    print('Specificità Test: %.3f' % specificity)\n",
        "    print('F1 score    Test: %.3f' % f1score)"
      ],
      "execution_count": null,
      "outputs": []
    },
    {
      "cell_type": "code",
      "metadata": {
        "id": "jbV9ClqhndQp"
      },
      "source": [
        ""
      ],
      "execution_count": null,
      "outputs": []
    },
    {
      "cell_type": "code",
      "metadata": {
        "id": "g9fMRq18ndon"
      },
      "source": [
        "def tuning_MP(caso,numerocv):\n",
        "    ncv=numerocv\n",
        "\n",
        "    if caso==1:\n",
        "       X_trainm=X_train_caso1\n",
        "       y_trainm=y_train_caso1\n",
        "       X_testm=X_test_caso1\n",
        "       y_testm=y_test_caso1\n",
        "    if caso==2:\n",
        "       X_trainm=X_train_caso2\n",
        "       y_trainm=y_train_caso2\n",
        "       X_testm=X_test_caso2\n",
        "       y_testm=y_test_caso2\n",
        "    if caso==3:\n",
        "       X_trainm=X_train_caso3\n",
        "       y_trainm=y_train_caso3  \n",
        "       X_testm=X_test_caso3\n",
        "       y_testm=y_test_caso3   \n",
        "    if caso==4:\n",
        "       X_trainm=X_train_caso4\n",
        "       y_trainm=y_train_caso4   \n",
        "       X_testm=X_test_caso4\n",
        "       y_testm=y_test_caso4     \n",
        "\n",
        "    parametri = {  'hidden_layer_sizes': [(10,30,10),(20,)],\n",
        "                    'activation': ['tanh', 'relu'],\n",
        "                    'solver': ['sgd', 'adam'],\n",
        "                    'alpha': [0.0001, 0.05, 0.1,1],\n",
        "                    'learning_rate': ['constant','adaptive']\n",
        "                  }\n",
        "\n",
        "    cercap = GridSearchCV(estimator=MLPClassifier(max_iter=100), \n",
        "                  param_grid=parametri, \n",
        "                  scoring='accuracy', \n",
        "                  refit=True,\n",
        "                  cv=ncv,\n",
        "                  verbose=1,\n",
        "                  n_jobs=-1)\n",
        "    \n",
        "    gs = cercap.fit(X_trainm, y_trainm)\n",
        "    print('Accuratezza fase di Cross Validation con dati di Addestramento/Validazione: %.3f' % gs.best_score_)\n",
        "    print('I migliori parametri trvati sono :\\n', gs.best_params_)\n",
        "    #print(gs.best_params_)\n",
        "\n",
        "    means = gs.cv_results_['mean_test_score']\n",
        "    stds = gs.cv_results_['std_test_score']\n",
        "    #for mean, std, params in zip(means, stds, gs.cv_results_['params']):\n",
        "    #    print(\"%0.3f (+/-%0.03f) for %r\" % (mean, std * 2, params))\n",
        "\n",
        "    \n",
        "    \n",
        "    clf = gs.best_estimator_\n",
        "    # clf.fit(X_train, y_train) \n",
        "    \n",
        "    print('Accuratezza con dati di Test: %.3f' % clf.score(X_testm, y_testm))\n",
        "\n",
        "    y_true, y_pred = y_testm , clf.predict(X_testm)\n",
        "    \n",
        "    print('Risultato sui dati di test:')\n",
        "    print(classification_report(y_true, y_pred))\n",
        "\n",
        "    target_names = ['Positivo','Negativo']\n",
        "    print(confusion_matrix(y_testm,y_pred))\n",
        "    matrice=confusion_matrix(y_testm,y_pred)\n",
        "        #print(y_test,y_pred)\n",
        "    tp=matrice[0,0]\n",
        "    fn=matrice[0,1]\n",
        "    fp=matrice[1,0]\n",
        "    tn=matrice[1,1]\n",
        "         \n",
        "        #print(tp,fp,fn,tn)\n",
        "    accurancy=int(((tp+tn)/(tn+fp+fn+tp))*100)\n",
        "    precision=int((tp/(tp+fp))*100)\n",
        "    sensitivity=int((tp/(tp+fn))*100)\n",
        "    specificity=int((tn/(tn+fp))*100)\n",
        "    if (precision== 0 and sensitivity==0):\n",
        "        f1score=0\n",
        "    else:\n",
        "        f1score=int(2*((precision * sensitivity)/(precision + sensitivity)))\n",
        "\n",
        "    print('Accuratezza Test: %.3f' % accurancy)  \n",
        "    print('Precisione  Test: %.3f' % precision)\n",
        "    print('Sensitività Test: %.3f' % sensitivity)\n",
        "    print('Specificità Test: %.3f' % specificity)\n",
        "    print('F1 score    Test: %.3f' % f1score)"
      ],
      "execution_count": null,
      "outputs": []
    },
    {
      "cell_type": "code",
      "metadata": {
        "id": "kakkSbyZfVJT"
      },
      "source": [
        ""
      ],
      "execution_count": null,
      "outputs": []
    },
    {
      "cell_type": "code",
      "metadata": {
        "id": "jeEO52RXwaYD"
      },
      "source": [
        ""
      ],
      "execution_count": null,
      "outputs": []
    },
    {
      "cell_type": "code",
      "metadata": {
        "id": "Y-rBLQWcwayw"
      },
      "source": [
        "def tuning_LR(caso,numerocv):\n",
        "    ncv=numerocv\n",
        "\n",
        "    if caso==1:\n",
        "       X_trainl=X_train_caso1\n",
        "       y_trainl=y_train_caso1\n",
        "       X_testl=X_test_caso1\n",
        "       y_testl=y_test_caso1\n",
        "    if caso==2:\n",
        "       X_trainl=X_train_caso2\n",
        "       y_trainl=y_train_caso2\n",
        "       X_testl=X_test_caso2\n",
        "       y_testl=y_test_caso2\n",
        "    if caso==3:\n",
        "       X_trainl=X_train_caso3\n",
        "       y_trainl=y_train_caso3  \n",
        "       X_testl=X_test_caso3\n",
        "       y_testl=y_test_caso3   \n",
        "    if caso==4:\n",
        "       X_trainl=X_train_caso4\n",
        "       y_trainl=y_train_caso4   \n",
        "       X_testl=X_test_caso4\n",
        "       y_testl=y_test_caso4     \n",
        "\n",
        "    \n",
        "    parametri ={\"C\":np.logspace(-3,3,7), \"penalty\":[\"l1\",\"l2\"]}\n",
        "\n",
        "    cercap = GridSearchCV(estimator=LogisticRegression(), \n",
        "                  param_grid=parametri, \n",
        "                  scoring='accuracy', \n",
        "                  refit=True,\n",
        "                  cv=ncv,\n",
        "                  verbose=1,\n",
        "                  n_jobs=-1)\n",
        "    \n",
        "    gs = cercap.fit(X_trainl, y_trainl)\n",
        "    print('Accuratezza fase di Cross Validation con dati di Addestramento/Validazione: %.3f' % gs.best_score_)\n",
        "    print('I migliori parametri trvati sono :\\n', gs.best_params_)\n",
        "    #print(gs.best_params_)\n",
        "\n",
        "    means = gs.cv_results_['mean_test_score']\n",
        "    stds = gs.cv_results_['std_test_score']\n",
        "    #for mean, std, params in zip(means, stds, gs.cv_results_['params']):\n",
        "    #    print(\"%0.3f (+/-%0.03f) for %r\" % (mean, std * 2, params))\n",
        "\n",
        "    \n",
        "    \n",
        "    clf = gs.best_estimator_\n",
        "    # clf.fit(X_train, y_train) \n",
        "    \n",
        "    print('Accuratezza con dati di Test: %.3f' % clf.score(X_testl, y_testl))\n",
        "\n",
        "    y_true, y_pred = y_testl , clf.predict(X_testl)\n",
        "    print('Risultato sui dati di test:')\n",
        "    print(classification_report(y_true, y_pred))\n",
        "\n",
        "    target_names = ['Positivo','Negativo']\n",
        "    print(confusion_matrix(y_testl,y_pred))\n",
        "    matrice=confusion_matrix(y_testl,y_pred)\n",
        "        #print(y_test,y_pred)\n",
        "    tp=matrice[0,0]\n",
        "    fn=matrice[0,1]\n",
        "    fp=matrice[1,0]\n",
        "    tn=matrice[1,1]\n",
        "         \n",
        "        #print(tp,fp,fn,tn)\n",
        "    accurancy=int(((tp+tn)/(tn+fp+fn+tp))*100)\n",
        "    if (fp== 0 and fp==0):\n",
        "        precision=0\n",
        "    else:\n",
        "        precision=int((tp/(tp+fp))*100)\n",
        "    sensitivity=int((tp/(tp+fn))*100)\n",
        "    specificity=int((tn/(tn+fp))*100)\n",
        "    if (precision== 0 and sensitivity==0):\n",
        "        f1score=0\n",
        "    else:\n",
        "        f1score=int(2*((precision * sensitivity)/(precision + sensitivity)))\n",
        "\n",
        "    print('Accuratezza Test: %.3f' % accurancy)  \n",
        "    print('Precisione  Test: %.3f' % precision)\n",
        "    print('Sensitività Test: %.3f' % sensitivity)\n",
        "    print('Specificità Test: %.3f' % specificity)\n",
        "    print('F1 score    Test: %.3f' % f1score)"
      ],
      "execution_count": null,
      "outputs": []
    },
    {
      "cell_type": "code",
      "metadata": {
        "id": "r-N6wUlVV0El"
      },
      "source": [
        "def validazione_incrociata_kfold(caso,numerocv,modello):\n",
        "    ncv=numerocv\n",
        "    if modello==1:\n",
        "       classificatore=DecisionTreeClassifier()\n",
        "    if modello==2:\n",
        "       classificatore=SVC()\n",
        "       \n",
        "\n",
        "    if caso==1:\n",
        "       X_train=X_train_caso1\n",
        "       y_train=y_train_caso1\n",
        "       X_test=X_test_caso1\n",
        "       y_test=y_test_caso1\n",
        "    if caso==2:\n",
        "       X_train=X_train_caso2\n",
        "       y_train=y_train_caso2\n",
        "       X_test=X_test_caso2\n",
        "       y_test=y_test_caso2\n",
        "    if caso==3:\n",
        "       X_train=X_train_caso3\n",
        "       y_train=y_train_caso3  \n",
        "       X_test=X_test_caso3\n",
        "       y_test=y_test_caso3   \n",
        "    if caso==4:\n",
        "       X_train=X_train_caso4\n",
        "       y_train=y_train_caso4   \n",
        "       X_test=X_test_caso4\n",
        "       y_test=y_test_caso4     \n",
        "\n",
        "    from sklearn.model_selection import StratifiedKFold\n",
        "    \n",
        "\n",
        "    kfold = StratifiedKFold(n_splits=10).split(X_train, y_train)\n",
        "\n",
        "    scores = []\n",
        "    for k, (train, test) in enumerate(kfold):\n",
        "        classificatore.fit(X_train[train], y_train[train])\n",
        "        score = classificatore.score(X_train[test], y_train[test])\n",
        "        scores.append(score)\n",
        "        print('Fold: %2d, Class dist.: %s, Acc: %.3f' % (k+1,\n",
        "              np.bincount(y_train[train]), score))\n",
        "    \n",
        "    print('\\nCV accuracy: %.3f +/- %.3f' % (np.mean(scores), np.std(scores)))"
      ],
      "execution_count": null,
      "outputs": []
    },
    {
      "cell_type": "code",
      "metadata": {
        "id": "xn0MP7vjVuUP"
      },
      "source": [
        "\n",
        "def validazione_incrociata_score(caso,numerocv,modello):\n",
        "    ncv=numerocv\n",
        "    if modello==1:\n",
        "       classificatore=DecisionTreeClassifier()\n",
        "    if modello==2:\n",
        "       classificatore=SVC()\n",
        "       \n",
        "\n",
        "    if caso==1:\n",
        "       X_train=X_train_caso1\n",
        "       y_train=y_train_caso1\n",
        "       X_test=X_test_caso1\n",
        "       y_test=y_test_caso1\n",
        "    if caso==2:\n",
        "       X_train=X_train_caso2\n",
        "       y_train=y_train_caso2\n",
        "       X_test=X_test_caso2\n",
        "       y_test=y_test_caso2\n",
        "    if caso==3:\n",
        "       X_train=X_train_caso3\n",
        "       y_train=y_train_caso3  \n",
        "       X_test=X_test_caso3\n",
        "       y_test=y_test_caso3   \n",
        "    if caso==4:\n",
        "       X_train=X_train_caso4\n",
        "       y_train=y_train_caso4   \n",
        "       X_test=X_test_caso4\n",
        "       y_test=y_test_caso4     \n",
        "\n",
        "    \n",
        "    scores = cross_val_score(estimator=classificatore,\n",
        "                             X=X_train,\n",
        "                             y=y_train,\n",
        "                             cv=10,\n",
        "                             n_jobs=1)\n",
        "    print('CV accuracy scores: %s' % scores)\n",
        "    print('CV accuracy: %.3f +/- %.3f' % (np.mean(scores), np.std(scores)))"
      ],
      "execution_count": null,
      "outputs": []
    },
    {
      "cell_type": "code",
      "metadata": {
        "id": "YcF92qAtVuxr"
      },
      "source": [
        ""
      ],
      "execution_count": null,
      "outputs": []
    },
    {
      "cell_type": "code",
      "metadata": {
        "id": "uEwFqaH7VvNj"
      },
      "source": [
        "def prepara_dati(caso,pca,split):\n",
        "    \n",
        "    \n",
        "       \n",
        "\n",
        "    if caso==1:\n",
        "       df=pca_wa_AD_HCF.iloc[:,1:913]\n",
        "       X = df.to_numpy()\n",
        "       Y = pca_wa_AD_HCF[' class']\n",
        "       y = Y.to_numpy()\n",
        "       y = np.where(y == ' Control', 1, 0)\n",
        "\n",
        "    if caso==2:\n",
        "       df=pca_wa_MCI_AD.iloc[:,1:913]\n",
        "       X = df.to_numpy()\n",
        "       Y = pca_wa_MCI_AD[' class']\n",
        "       y = Y.to_numpy()\n",
        "       y = np.where(y == ' AD', 1, 0)\n",
        "       X_train=X_train_caso2\n",
        "       y_train=y_train_caso2\n",
        "       X_test=X_test_caso2\n",
        "       y_test=y_test_caso2\n",
        "    if caso==3:\n",
        "       df=pca_wa_MCI_HCF.iloc[:,1:913]\n",
        "       X = df.to_numpy()\n",
        "       Y = pca_wa_MCI_HCF[' class']\n",
        "       y = Y.to_numpy()\n",
        "       y = np.where(y == ' MCI', 1, 0)\n",
        "       X_train=X_train_caso3\n",
        "       y_train=y_train_caso3  \n",
        "       X_test=X_test_caso3\n",
        "       y_test=y_test_caso3   \n",
        "    if caso==4:\n",
        "       df=pca_wa_CASE_HCF.iloc[:,1:913]\n",
        "       X = df.to_numpy()\n",
        "       Y = pca_wa_CASE_HCF[' class']\n",
        "       y = Y.to_numpy()\n",
        "       y = np.where(y == ' Case', 1, 0)\n",
        "       X_train=X_train_caso4\n",
        "       y_train=y_train_caso4   \n",
        "       X_test=X_test_caso4\n",
        "       y_test=y_test_caso4     \n",
        "\n",
        "    \n",
        "   \n",
        "    \n",
        "    pipe_cl = make_pipeline(StandardScaler(),\n",
        "                        PCA(n_components=2),\n",
        "                        classificatore)\n",
        "\n",
        "    pipe_cl.fit(X_train, y_train)\n",
        "    y_pred = pipe_cl.predict(X_test)\n",
        "    print('Test Accuracy: %.3f' % pipe_lr.score(X_test, y_test))"
      ],
      "execution_count": null,
      "outputs": []
    },
    {
      "cell_type": "code",
      "metadata": {
        "id": "4IxkSQsubMaO"
      },
      "source": [
        "\n",
        "def exec_trad(caso,modello):\n",
        "    \n",
        "    if modello==1:\n",
        "       classificatore=DecisionTreeClassifier(criterion='gini', max_depth=3)\n",
        "    if modello==2:\n",
        "       classificatore=SVC()\n",
        "       \n",
        "    if caso==1:\n",
        "       df=pca_wa_AD_HCF.iloc[:,1:913]\n",
        "       X = df.to_numpy()\n",
        "       Y = pca_wa_AD_HCF[' class']\n",
        "       y = Y.to_numpy()\n",
        "       y = np.where(y == ' Control', 1, 0)\n",
        "       X_train, X_test, y_train, y_test = train_test_split(X, y, test_size=0.3,stratify=y,random_state=42)\n",
        "    if caso==2:\n",
        "       df=pca_wa_MCI_AD.iloc[:,1:913]\n",
        "       X = df.to_numpy()\n",
        "       Y = pca_wa_MCI_AD[' class']\n",
        "       y = Y.to_numpy()\n",
        "       y = np.where(y == ' AD', 1, 0)\n",
        "       X_train, X_test, y_train, y_test = train_test_split(X, y, test_size=0.3,stratify=y,random_state=42)\n",
        "      \n",
        "    if caso==3:\n",
        "       df=pca_wa_MCI_HCF.iloc[:,1:913]\n",
        "       X = df.to_numpy()\n",
        "       Y = pca_wa_MCI_HCF[' class']\n",
        "       y = Y.to_numpy()\n",
        "       y = np.where(y == ' MCI', 1, 0)\n",
        "       X_train, X_test, y_train, y_test = train_test_split(X, y, test_size=0.3,stratify=y,random_state=42)\n",
        "         \n",
        "    if caso==4:\n",
        "       df=pca_wa_CASE_HCF.iloc[:,1:913]\n",
        "       X = df.to_numpy()\n",
        "       Y = pca_wa_CASE_HCF[' class']\n",
        "       y = Y.to_numpy()\n",
        "       y = np.where(y == ' Case', 1, 0)\n",
        "       X_train, X_test, y_train, y_test = train_test_split(X, y, test_size=0.3,stratify=y,random_state=42)\n",
        "           \n",
        "\n",
        "    \n",
        "      \n",
        "    classificatore.fit(X_train, y_train)\n",
        "        \n",
        "    train_score = int((classificatore.score(X_train, y_train))*100)\n",
        "    test_score = int((classificatore.score(X_test, y_test))*100)\n",
        "    y_pred = classificatore.predict(X_test)\n",
        "    test_accurancy=int((accuracy_score(y_test, y_pred))*100)\n",
        "    print(\"accurancy test :\", test_accurancy)"
      ],
      "execution_count": null,
      "outputs": []
    },
    {
      "cell_type": "code",
      "metadata": {
        "id": "C9lO1MiMVvdr"
      },
      "source": [
        ""
      ],
      "execution_count": null,
      "outputs": []
    },
    {
      "cell_type": "code",
      "metadata": {
        "id": "AjTDzuayiBwX"
      },
      "source": [
        "\n",
        "def prova_pipeline(caso,modello):\n",
        "    \n",
        "    if modello==1:\n",
        "       classificatore=tree.DecisionTreeClassifier(criterion='gini', max_depth=3)\n",
        "    if modello==2:\n",
        "       classificatore=SVC()\n",
        "       \n",
        "    if caso==1:\n",
        "       df=pca_wa_AD_HCF.iloc[:,1:913]\n",
        "       X = df.to_numpy()\n",
        "       Y = pca_wa_AD_HCF[' class']\n",
        "       y = Y.to_numpy()\n",
        "       y = np.where(y == ' Control', 1, 0)\n",
        "       X_train, X_test, y_train, y_test = train_test_split(X, y, test_size=0.2,stratify=y,random_state=42)\n",
        "    if caso==2:\n",
        "       df=pca_wa_MCI_AD.iloc[:,1:913]\n",
        "       X = df.to_numpy()\n",
        "       Y = pca_wa_MCI_AD[' class']\n",
        "       y = Y.to_numpy()\n",
        "       y = np.where(y == ' AD', 1, 0)\n",
        "       X_train, X_test, y_train, y_test = train_test_split(X, y, test_size=0.2,stratify=y,random_state=42)\n",
        "      \n",
        "    if caso==3:\n",
        "       df=pca_wa_MCI_HCF.iloc[:,1:913]\n",
        "       X = df.to_numpy()\n",
        "       Y = pca_wa_MCI_HCF[' class']\n",
        "       y = Y.to_numpy()\n",
        "       y = np.where(y == ' MCI', 1, 0)\n",
        "       X_train, X_test, y_train, y_test = train_test_split(X, y, test_size=0.2,stratify=y,random_state=42)\n",
        "         \n",
        "    if caso==4:\n",
        "       df=pca_wa_CASE_HCF.iloc[:,1:913]\n",
        "       X = df.to_numpy()\n",
        "       Y = pca_wa_CASE_HCF[' class']\n",
        "       y = Y.to_numpy()\n",
        "       y = np.where(y == ' Case', 1, 0)\n",
        "       X_train, X_test, y_train, y_test = train_test_split(X, y, test_size=0.2,stratify=y,random_state=42)\n",
        "           \n",
        "\n",
        "    \n",
        "   \n",
        "    \n",
        "    pipe_cl = make_pipeline(StandardScaler(),\n",
        "                        PCA(n_components=2),\n",
        "                        classificatore)\n",
        "\n",
        "    pipe_cl.fit(X_train, y_train)\n",
        "    y_pred = pipe_cl.predict(X_test)\n",
        "    print('Test Accuracy: %.3f' % pipe_cl.score(X_test, y_test))"
      ],
      "execution_count": null,
      "outputs": []
    },
    {
      "cell_type": "markdown",
      "metadata": {
        "id": "FXYYCtOJvT12"
      },
      "source": [
        "## Preparazione dei dati con altr frequenza di taglio (da 1 a 8 hz)"
      ]
    },
    {
      "cell_type": "code",
      "metadata": {
        "id": "-oPUFtSdvT13"
      },
      "source": [
        ""
      ],
      "execution_count": null,
      "outputs": []
    },
    {
      "cell_type": "code",
      "metadata": {
        "id": "8bMHeO1babT1"
      },
      "source": [
        "hz1=pd.read_csv(\"/content/drive/MyDrive/Dati EEG/frequenze/Freq_1_Avg_PxxAdMciHc_2.txt\",sep=\"|\",header=None)\n",
        "hz2=pd.read_csv(\"/content/drive/MyDrive/Dati EEG/frequenze/Freq_2_Avg_PxxAdMciHc_2.txt\",sep=\"|\",header=None)\n",
        "hz3=pd.read_csv(\"/content/drive/MyDrive/Dati EEG/frequenze/Freq_3_Avg_PxxAdMciHc_2.txt\",sep=\"|\",header=None)\n",
        "hz4=pd.read_csv(\"/content/drive/MyDrive/Dati EEG/frequenze/Freq_4_Avg_PxxAdMciHc_2.txt\",sep=\"|\",header=None)\n",
        "hz5=pd.read_csv(\"/content/drive/MyDrive/Dati EEG/frequenze/Freq_5_Avg_PxxAdMciHc_2.txt\",sep=\"|\",header=None)\n",
        "hz6=pd.read_csv(\"/content/drive/MyDrive/Dati EEG/frequenze/Freq_6_Avg_PxxAdMciHc_2.txt\",sep=\"|\",header=None)\n",
        "hz8=pd.read_csv(\"/content/drive/MyDrive/Dati EEG/frequenze/Freq_8_Avg_PxxAdMciHc_2.txt\",sep=\"|\",header=None)\n",
        "hz9=pd.read_csv(\"/content/drive/MyDrive/Dati EEG/frequenze/Freq_9_Avg_PxxAdMciHc_2.txt\",sep=\"|\",header=None)\n",
        "hz10=pd.read_csv(\"/content/drive/MyDrive/Dati EEG/frequenze/Freq_10_Avg_PxxAdMciHc_2.txt\",sep=\"|\",header=None)\n",
        "hz11=pd.read_csv(\"/content/drive/MyDrive/Dati EEG/frequenze/Freq_11_Avg_PxxAdMciHc_2.txt\",sep=\"|\",header=None)\n",
        "hz12=pd.read_csv(\"/content/drive/MyDrive/Dati EEG/frequenze/Freq_12_Avg_PxxAdMciHc_2.txt\",sep=\"|\",header=None)\n",
        "hz13=pd.read_csv(\"/content/drive/MyDrive/Dati EEG/frequenze/Freq_13_Avg_PxxAdMciHc_2.txt\",sep=\"|\",header=None)\n",
        "hz14=pd.read_csv(\"/content/drive/MyDrive/Dati EEG/frequenze/Freq_14_Avg_PxxAdMciHc_2.txt\",sep=\"|\",header=None)\n",
        "hz15=pd.read_csv(\"/content/drive/MyDrive/Dati EEG/frequenze/Freq_15_Avg_PxxAdMciHc_2.txt\",sep=\"|\",header=None)\n",
        "hz16=pd.read_csv(\"/content/drive/MyDrive/Dati EEG/frequenze/Freq_16_Avg_PxxAdMciHc_2.txt\",sep=\"|\",header=None)\n",
        "\n",
        "\n"
      ],
      "execution_count": null,
      "outputs": []
    },
    {
      "cell_type": "code",
      "metadata": {
        "id": "Ufwptq5PGZp4"
      },
      "source": [
        ""
      ],
      "execution_count": null,
      "outputs": []
    },
    {
      "cell_type": "code",
      "metadata": {
        "id": "621zHDU0HXKw"
      },
      "source": [
        ""
      ],
      "execution_count": null,
      "outputs": []
    },
    {
      "cell_type": "markdown",
      "metadata": {
        "id": "UM62TXsrHY9W"
      },
      "source": [
        "## Valutazione modello con altre frequenza di taglio (da 1 a 8 hz)"
      ]
    },
    {
      "cell_type": "markdown",
      "metadata": {
        "id": "ftIL30r1IPTA"
      },
      "source": [
        "### 1 hz"
      ]
    },
    {
      "cell_type": "code",
      "metadata": {
        "id": "Q2YXc2I0JQPy"
      },
      "source": [
        ""
      ],
      "execution_count": null,
      "outputs": []
    },
    {
      "cell_type": "code",
      "metadata": {
        "id": "NEy11Nl6qLve"
      },
      "source": [
        "\n",
        "y1=hz1.loc[:,0].to_numpy()\n",
        "y2=hz1.loc[:,1].to_numpy()\n",
        "y3=hz1.loc[:,2].to_numpy()\n",
        "\n"
      ],
      "execution_count": null,
      "outputs": []
    },
    {
      "cell_type": "code",
      "metadata": {
        "colab": {
          "base_uri": "https://localhost:8080/"
        },
        "id": "QWlvfPIzcgCF",
        "outputId": "0d6ee8fa-4b02-4dac-84c1-953cfab72042"
      },
      "source": [
        "y1,y2,y3,hz1"
      ],
      "execution_count": null,
      "outputs": [
        {
          "output_type": "execute_result",
          "data": {
            "text/plain": [
              "(array([ 69511.39933644, 105757.34528029,  62207.37792689, 104996.07706748,\n",
              "         76429.52733412,  78796.62831736,  53533.79247454,  40626.99275502,\n",
              "         68179.64353836,  67466.112359  ,  69668.40863297,  77656.84768359,\n",
              "        390724.15961142,  83323.91383037, 110885.02906494,  89837.86529047,\n",
              "         91959.85586134,  92650.37956277,  71115.79917129]),\n",
              " array([ 26656.99930603,  17179.08519968,  12382.04235719,  32686.0958938 ,\n",
              "         24746.32454088,  28920.80009917,  30704.80211995,  54195.16408546,\n",
              "         22500.72730452,  14346.25835511,  26143.372509  ,  25769.69480937,\n",
              "         16945.29297037,  57707.12750294,  17466.04741557,  25519.76227995,\n",
              "        210704.46977622, 264340.66216905,  34391.0943176 ]),\n",
              " array([11271.68575552, 13568.35009691,  5337.80593778,  2234.40149129,\n",
              "         1432.08462939, 17088.91498177,  6565.64485098,  3421.72725158,\n",
              "        49866.21640109,  5682.47534629,  1618.40279488, 13027.79349669,\n",
              "         9521.37499171,  5024.40388126,  1828.09006613,  1492.82678392,\n",
              "        12591.3431141 ,  5054.35389429,  3061.40677282]),\n",
              "                 0              1             2\n",
              " 0    69511.399336   26656.999306  11271.685756\n",
              " 1   105757.345280   17179.085200  13568.350097\n",
              " 2    62207.377927   12382.042357   5337.805938\n",
              " 3   104996.077067   32686.095894   2234.401491\n",
              " 4    76429.527334   24746.324541   1432.084629\n",
              " 5    78796.628317   28920.800099  17088.914982\n",
              " 6    53533.792475   30704.802120   6565.644851\n",
              " 7    40626.992755   54195.164085   3421.727252\n",
              " 8    68179.643538   22500.727305  49866.216401\n",
              " 9    67466.112359   14346.258355   5682.475346\n",
              " 10   69668.408633   26143.372509   1618.402795\n",
              " 11   77656.847684   25769.694809  13027.793497\n",
              " 12  390724.159611   16945.292970   9521.374992\n",
              " 13   83323.913830   57707.127503   5024.403881\n",
              " 14  110885.029065   17466.047416   1828.090066\n",
              " 15   89837.865290   25519.762280   1492.826784\n",
              " 16   91959.855861  210704.469776  12591.343114\n",
              " 17   92650.379563  264340.662169   5054.353894\n",
              " 18   71115.799171   34391.094318   3061.406773)"
            ]
          },
          "metadata": {},
          "execution_count": 18
        }
      ]
    },
    {
      "cell_type": "code",
      "metadata": {
        "id": "XU3KpKpTqLvi"
      },
      "source": [
        "x1 = np.linspace(0, 19, len(y1), endpoint=True)\n",
        "x2 = np.linspace(0, 19,len(y2), endpoint=True)\n",
        "x3 = np.linspace(0, 19,len(y3), endpoint=True)"
      ],
      "execution_count": null,
      "outputs": []
    },
    {
      "cell_type": "code",
      "metadata": {
        "colab": {
          "base_uri": "https://localhost:8080/",
          "height": 265
        },
        "id": "ombqNjnoqLvj",
        "outputId": "d1f057b7-fd74-496a-d619-7acc39dcbd7b"
      },
      "source": [
        "plt.plot(x1, y1, 'g')\n",
        "plt.plot(x2, y2, 'b')\n",
        "plt.plot(x3, y3, 'r')\n",
        "#plt.ylim(0,300000)\n",
        "plt.show()"
      ],
      "execution_count": null,
      "outputs": [
        {
          "output_type": "display_data",
          "data": {
            "image/png": "[encoded data removed]",
            "text/plain": [
              "<Figure size 432x288 with 1 Axes>"
            ]
          },
          "metadata": {
            "needs_background": "light"
          }
        }
      ]
    },
    {
      "cell_type": "code",
      "metadata": {
        "id": "W-pDVuIXJQtB"
      },
      "source": [
        ""
      ],
      "execution_count": null,
      "outputs": []
    },
    {
      "cell_type": "code",
      "metadata": {
        "id": "lxccq__YKV7r"
      },
      "source": [
        "matriceAD = np.zeros((len(y1),2))\n",
        "matriceMCI = np.zeros((len(y2),2))\n",
        "matriceHC = np.zeros((len(y3),2))\n"
      ],
      "execution_count": null,
      "outputs": []
    },
    {
      "cell_type": "code",
      "metadata": {
        "id": "q4b3ah1gKV7r"
      },
      "source": [
        "matriceADHC = np.zeros((len(y1)+len(y3),2))\n",
        "matriceMCIHC = np.zeros((len(y2)+len(y3),2))\n",
        "matriceADMCI = np.zeros((len(y1)+len(y2),2))\n",
        "matriceCASEHC = np.zeros((len(y2)+len(y3)+len(y1),2))"
      ],
      "execution_count": null,
      "outputs": []
    },
    {
      "cell_type": "code",
      "metadata": {
        "id": "1INI_mHbKV7s"
      },
      "source": [
        "for i in range(len(y1)):\n",
        "      matriceAD[i,0]=y1[i]\n",
        "      matriceAD[i,1]=1"
      ],
      "execution_count": null,
      "outputs": []
    },
    {
      "cell_type": "code",
      "metadata": {
        "id": "CV8AR5nhKV7t"
      },
      "source": [
        "for i in range(len(y2)):\n",
        "      matriceMCI[i,0]=y2[i]\n",
        "      matriceMCI[i,1]=2"
      ],
      "execution_count": null,
      "outputs": []
    },
    {
      "cell_type": "code",
      "metadata": {
        "id": "AmiPTiTVKV7t"
      },
      "source": [
        "for i in range(len(y3)):\n",
        "      matriceHC[i,0]=y3[i]\n",
        "      matriceHC[i,1]=3"
      ],
      "execution_count": null,
      "outputs": []
    },
    {
      "cell_type": "code",
      "metadata": {
        "id": "tXO3d_hcKV7t"
      },
      "source": [
        "AD=pd.DataFrame(matriceAD)\n",
        "HC=pd.DataFrame(matriceHC)\n",
        "MCI=pd.DataFrame(matriceMCI)"
      ],
      "execution_count": null,
      "outputs": []
    },
    {
      "cell_type": "code",
      "metadata": {
        "id": "VlTnVenXKV7u"
      },
      "source": [
        "ADHC=AD.copy()\n",
        "ADHC=ADHC.append(HC,ignore_index=True)"
      ],
      "execution_count": null,
      "outputs": []
    },
    {
      "cell_type": "code",
      "metadata": {
        "id": "ggDXIjoQKV7u"
      },
      "source": [
        "ADMCI=AD.copy()\n",
        "ADMCI=ADMCI.append(MCI,ignore_index=True)"
      ],
      "execution_count": null,
      "outputs": []
    },
    {
      "cell_type": "code",
      "metadata": {
        "id": "fD1cDONNKV7u"
      },
      "source": [
        "MCIHC=MCI.copy()\n",
        "MCIHC=MCIHC.append(HC,ignore_index=True)"
      ],
      "execution_count": null,
      "outputs": []
    },
    {
      "cell_type": "code",
      "metadata": {
        "id": "BNbAD0weKV7u"
      },
      "source": [
        "CASEHC=AD.copy()\n",
        "CASEHC=CASEHC.append(MCI,ignore_index=True)\n",
        "CASEHC=CASEHC.append(HC,ignore_index=True)"
      ],
      "execution_count": null,
      "outputs": []
    },
    {
      "cell_type": "code",
      "metadata": {
        "id": "AYbV04O3JRFi"
      },
      "source": [
        ""
      ],
      "execution_count": null,
      "outputs": []
    },
    {
      "cell_type": "markdown",
      "metadata": {
        "id": "2_uI75sWHY9X"
      },
      "source": [
        "#### Caso1 AD vs HCF"
      ]
    },
    {
      "cell_type": "code",
      "metadata": {
        "id": "h8LHPDBXHY9X"
      },
      "source": [
        "df=ADHC.loc[:,0]\n",
        "\n",
        "X = df.to_numpy()\n",
        "\n",
        "Y = ADHC.loc[:,1]\n",
        "y = Y.to_numpy()"
      ],
      "execution_count": null,
      "outputs": []
    },
    {
      "cell_type": "code",
      "metadata": {
        "id": "v_0MyoJYHY9Y"
      },
      "source": [
        "y = np.where(y == 1, 1, 0)"
      ],
      "execution_count": null,
      "outputs": []
    },
    {
      "cell_type": "code",
      "metadata": {
        "colab": {
          "base_uri": "https://localhost:8080/"
        },
        "id": "7H_AnmA4HY9Y",
        "outputId": "20f7fa39-3fcd-4feb-8637-bc9bd6b6b084"
      },
      "source": [
        "X,y"
      ],
      "execution_count": null,
      "outputs": [
        {
          "output_type": "execute_result",
          "data": {
            "text/plain": [
              "(array([ 69511.39933644, 105757.34528029,  62207.37792689, 104996.07706748,\n",
              "         76429.52733412,  78796.62831736,  53533.79247454,  40626.99275502,\n",
              "         68179.64353836,  67466.112359  ,  69668.40863297,  77656.84768359,\n",
              "        390724.15961142,  83323.91383037, 110885.02906494,  89837.86529047,\n",
              "         91959.85586134,  92650.37956277,  71115.79917129,  11271.68575552,\n",
              "         13568.35009691,   5337.80593778,   2234.40149129,   1432.08462939,\n",
              "         17088.91498177,   6565.64485098,   3421.72725158,  49866.21640109,\n",
              "          5682.47534629,   1618.40279488,  13027.79349669,   9521.37499171,\n",
              "          5024.40388126,   1828.09006613,   1492.82678392,  12591.3431141 ,\n",
              "          5054.35389429,   3061.40677282]),\n",
              " array([1, 1, 1, 1, 1, 1, 1, 1, 1, 1, 1, 1, 1, 1, 1, 1, 1, 1, 1, 0, 0, 0,\n",
              "        0, 0, 0, 0, 0, 0, 0, 0, 0, 0, 0, 0, 0, 0, 0, 0]))"
            ]
          },
          "metadata": {},
          "execution_count": 23
        }
      ]
    },
    {
      "cell_type": "code",
      "metadata": {
        "id": "K3VfeUvsHY9n"
      },
      "source": [
        "df=ADHC.loc[:,0]\n",
        "\n",
        "X = df.to_numpy()\n",
        "\n",
        "Y = ADHC.loc[:,1]\n",
        "y = Y.to_numpy()\n",
        "y = np.where(y == 1, 1, 0)\n",
        "#from sklearn.model_selection import train_test_split\n",
        "\n",
        "\n",
        "X_train, X_test, y_train, y_test = train_test_split(X, y, test_size=0.3,stratify=y,random_state=42)\n",
        "\n",
        "#pca = PCA(n_components=2)\n",
        "\n",
        "#X_train_pca = pca.fit_transform(X_train)\n",
        "#X_test_pca = pca.transform(X_test)\n",
        "\n",
        "X_train_caso1=X_train\n",
        "X_test_caso1=X_test\n",
        "y_train_caso1=y_train\n",
        "y_test_caso1=y_test\n",
        "\n"
      ],
      "execution_count": null,
      "outputs": []
    },
    {
      "cell_type": "code",
      "metadata": {
        "id": "t-JKfy0pHY9o"
      },
      "source": [
        "X_train_caso1=X_train_caso1.reshape(-1,1)\n",
        "X_test_caso1=X_test_caso1.reshape(-1,1)\n",
        "y_train_caso1=y_train_caso1.reshape(-1,1)\n",
        "y_test_caso1=y_test_caso1.reshape(-1,1)\n"
      ],
      "execution_count": null,
      "outputs": []
    },
    {
      "cell_type": "code",
      "metadata": {
        "id": "EYPeOWZRHY9o"
      },
      "source": [
        ""
      ],
      "execution_count": null,
      "outputs": []
    },
    {
      "cell_type": "code",
      "metadata": {
        "colab": {
          "base_uri": "https://localhost:8080/"
        },
        "id": "-q4aK5MsHY9o",
        "outputId": "436df09d-ed88-445f-b690-0b45fab97ac1"
      },
      "source": [
        "tuning_albero_decisione(1,5)"
      ],
      "execution_count": null,
      "outputs": [
        {
          "output_type": "stream",
          "name": "stdout",
          "text": [
            "Fitting 5 folds for each of 216 candidates, totalling 1080 fits\n"
          ]
        },
        {
          "output_type": "stream",
          "name": "stderr",
          "text": [
            "[Parallel(n_jobs=-1)]: Using backend LokyBackend with 2 concurrent workers.\n"
          ]
        },
        {
          "output_type": "stream",
          "name": "stdout",
          "text": [
            "Accuratezza fase di Cross Validation con dati di Addestramento/Validazione: 0.967\n",
            "{'criterion': 'gini', 'max_depth': 3, 'min_samples_leaf': 3, 'min_samples_split': 2, 'min_weight_fraction_leaf': 0}\n",
            "Accuratezza con dati di Test: 1.000\n",
            "Risultato sui dati di test:\n",
            "              precision    recall  f1-score   support\n",
            "\n",
            "           0       1.00      1.00      1.00         6\n",
            "           1       1.00      1.00      1.00         6\n",
            "\n",
            "    accuracy                           1.00        12\n",
            "   macro avg       1.00      1.00      1.00        12\n",
            "weighted avg       1.00      1.00      1.00        12\n",
            "\n",
            "[[6 0]\n",
            " [0 6]]\n",
            "Accuratezza Test: 100.000\n",
            "Precisione  Test: 100.000\n",
            "Sensitività Test: 100.000\n",
            "Specificità Test: 100.000\n",
            "F1 score    Test: 100.000\n"
          ]
        },
        {
          "output_type": "stream",
          "name": "stderr",
          "text": [
            "[Parallel(n_jobs=-1)]: Done 904 tasks      | elapsed:    2.7s\n",
            "[Parallel(n_jobs=-1)]: Done 1080 out of 1080 | elapsed:    2.9s finished\n"
          ]
        }
      ]
    },
    {
      "cell_type": "code",
      "metadata": {
        "colab": {
          "base_uri": "https://localhost:8080/"
        },
        "id": "4DBKKrVPHY9p",
        "outputId": "ab9ac9f4-8eea-413d-f915-d92d83c77c18"
      },
      "source": [
        "tuning_SVM(1,5)"
      ],
      "execution_count": null,
      "outputs": [
        {
          "output_type": "stream",
          "name": "stderr",
          "text": [
            "/usr/local/lib/python3.7/dist-packages/sklearn/model_selection/_search.py:281: UserWarning:\n",
            "\n",
            "The total space of parameters 2 is smaller than n_iter=20. Running 2 iterations. For exhaustive searches, use GridSearchCV.\n",
            "\n",
            "[Parallel(n_jobs=-1)]: Using backend LokyBackend with 2 concurrent workers.\n"
          ]
        },
        {
          "output_type": "stream",
          "name": "stdout",
          "text": [
            "Fitting 5 folds for each of 2 candidates, totalling 10 fits\n"
          ]
        },
        {
          "output_type": "stream",
          "name": "stderr",
          "text": [
            "[Parallel(n_jobs=-1)]: Done   7 out of  10 | elapsed:    8.5s remaining:    3.6s\n",
            "[Parallel(n_jobs=-1)]: Done  10 out of  10 | elapsed:    8.5s finished\n",
            "/usr/local/lib/python3.7/dist-packages/sklearn/utils/validation.py:760: DataConversionWarning:\n",
            "\n",
            "A column-vector y was passed when a 1d array was expected. Please change the shape of y to (n_samples, ), for example using ravel().\n",
            "\n"
          ]
        },
        {
          "output_type": "stream",
          "name": "stdout",
          "text": [
            "Accuratezza fase di Cross Validation con dati di Addestramento/Validazione: 0.967\n",
            "{'kernel': 'linear'}\n",
            "Accuratezza con dati di Test: 1.000\n",
            "Risultato sui dati di test:\n",
            "              precision    recall  f1-score   support\n",
            "\n",
            "           0       1.00      1.00      1.00         6\n",
            "           1       1.00      1.00      1.00         6\n",
            "\n",
            "    accuracy                           1.00        12\n",
            "   macro avg       1.00      1.00      1.00        12\n",
            "weighted avg       1.00      1.00      1.00        12\n",
            "\n",
            "[[6 0]\n",
            " [0 6]]\n",
            "Accuratezza Test: 100.000\n",
            "Precisione  Test: 100.000\n",
            "Sensitività Test: 100.000\n",
            "Specificità Test: 100.000\n",
            "F1 score    Test: 100.000\n"
          ]
        }
      ]
    },
    {
      "cell_type": "code",
      "metadata": {
        "id": "rxToP04iHY9p"
      },
      "source": [
        "#tuning_foresta(1,10)"
      ],
      "execution_count": null,
      "outputs": []
    },
    {
      "cell_type": "code",
      "metadata": {
        "id": "Hq00-d1WHY9s"
      },
      "source": [
        "#tuning_albero_decisione_CV(1,10)"
      ],
      "execution_count": null,
      "outputs": []
    },
    {
      "cell_type": "code",
      "metadata": {
        "id": "xEtPO9DHHY9s"
      },
      "source": [
        "#tuning_SVM_CV(1,10)"
      ],
      "execution_count": null,
      "outputs": []
    },
    {
      "cell_type": "code",
      "metadata": {
        "id": "38xVoiaGHY9s"
      },
      "source": [
        "#validazione_incrociata_kfold(1,10,1)"
      ],
      "execution_count": null,
      "outputs": []
    },
    {
      "cell_type": "code",
      "metadata": {
        "id": "078xWBd3HY9s"
      },
      "source": [
        "#validazione_incrociata_kfold(1,10,2)"
      ],
      "execution_count": null,
      "outputs": []
    },
    {
      "cell_type": "code",
      "metadata": {
        "id": "uSbQjdc6HY9t"
      },
      "source": [
        "#validazione_incrociata_score(1,10,1)"
      ],
      "execution_count": null,
      "outputs": []
    },
    {
      "cell_type": "code",
      "metadata": {
        "id": "kTs66qiBHY9t"
      },
      "source": [
        "#validazione_incrociata_score(1,10,2)"
      ],
      "execution_count": null,
      "outputs": []
    },
    {
      "cell_type": "code",
      "metadata": {
        "id": "aiTzPwsVHY9t"
      },
      "source": [
        "#prova_pipeline(1,2)"
      ],
      "execution_count": null,
      "outputs": []
    },
    {
      "cell_type": "code",
      "metadata": {
        "id": "1fCofss-HY9u"
      },
      "source": [
        ""
      ],
      "execution_count": null,
      "outputs": []
    },
    {
      "cell_type": "code",
      "metadata": {
        "colab": {
          "base_uri": "https://localhost:8080/"
        },
        "id": "TTW6dsb0HY9u",
        "outputId": "35cbec6f-9950-4edd-940c-caf474182397"
      },
      "source": [
        "tuning_KNN(1,5)"
      ],
      "execution_count": null,
      "outputs": [
        {
          "output_type": "stream",
          "name": "stdout",
          "text": [
            "Fitting 5 folds for each of 16 candidates, totalling 80 fits\n"
          ]
        },
        {
          "output_type": "stream",
          "name": "stderr",
          "text": [
            "[Parallel(n_jobs=-1)]: Using backend LokyBackend with 2 concurrent workers.\n"
          ]
        },
        {
          "output_type": "stream",
          "name": "stdout",
          "text": [
            "Accuratezza fase di Cross Validation con dati di Addestramento/Validazione: 0.967\n",
            "{'algorithm': 'auto', 'n_neighbors': 5, 'weights': 'uniform'}\n",
            "Accuratezza con dati di Test: 1.000\n",
            "Risultato sui dati di test:\n",
            "              precision    recall  f1-score   support\n",
            "\n",
            "           0       1.00      1.00      1.00         6\n",
            "           1       1.00      1.00      1.00         6\n",
            "\n",
            "    accuracy                           1.00        12\n",
            "   macro avg       1.00      1.00      1.00        12\n",
            "weighted avg       1.00      1.00      1.00        12\n",
            "\n",
            "[[6 0]\n",
            " [0 6]]\n",
            "Accuratezza Test: 100.000\n",
            "Precisione  Test: 100.000\n",
            "Sensitività Test: 100.000\n",
            "Specificità Test: 100.000\n",
            "F1 score    Test: 100.000\n"
          ]
        },
        {
          "output_type": "stream",
          "name": "stderr",
          "text": [
            "[Parallel(n_jobs=-1)]: Done  80 out of  80 | elapsed:    0.3s finished\n",
            "/usr/local/lib/python3.7/dist-packages/sklearn/model_selection/_search.py:739: DataConversionWarning:\n",
            "\n",
            "A column-vector y was passed when a 1d array was expected. Please change the shape of y to (n_samples, ), for example using ravel().\n",
            "\n"
          ]
        }
      ]
    },
    {
      "cell_type": "code",
      "metadata": {
        "colab": {
          "base_uri": "https://localhost:8080/"
        },
        "id": "oQqDENz4HY9u",
        "outputId": "6f69e109-8bcd-4ee2-b385-ea9a2ff53361"
      },
      "source": [
        "#tuning_MP(1,5)"
      ],
      "execution_count": null,
      "outputs": [
        {
          "output_type": "stream",
          "name": "stdout",
          "text": [
            "Fitting 5 folds for each of 64 candidates, totalling 320 fits\n"
          ]
        },
        {
          "output_type": "stream",
          "name": "stderr",
          "text": [
            "[Parallel(n_jobs=-1)]: Using backend LokyBackend with 2 concurrent workers.\n",
            "[Parallel(n_jobs=-1)]: Done 164 tasks      | elapsed:    4.3s\n"
          ]
        },
        {
          "output_type": "stream",
          "name": "stdout",
          "text": [
            "Accuratezza fase di Cross Validation con dati di Addestramento/Validazione: 0.580\n",
            "I migliori parametri trvati sono :\n",
            " {'activation': 'relu', 'alpha': 1, 'hidden_layer_sizes': (10, 30, 10), 'learning_rate': 'constant', 'solver': 'sgd'}\n",
            "Accuratezza con dati di Test: 0.500\n",
            "Risultato sui dati di test:\n",
            "              precision    recall  f1-score   support\n",
            "\n",
            "           0       0.50      1.00      0.67         6\n",
            "           1       0.00      0.00      0.00         6\n",
            "\n",
            "    accuracy                           0.50        12\n",
            "   macro avg       0.25      0.50      0.33        12\n",
            "weighted avg       0.25      0.50      0.33        12\n",
            "\n",
            "[[6 0]\n",
            " [6 0]]\n",
            "Accuratezza Test: 50.000\n",
            "Precisione  Test: 50.000\n",
            "Sensitività Test: 100.000\n",
            "Specificità Test: 0.000\n",
            "F1 score    Test: 66.000\n"
          ]
        },
        {
          "output_type": "stream",
          "name": "stderr",
          "text": [
            "[Parallel(n_jobs=-1)]: Done 320 out of 320 | elapsed:    7.7s finished\n",
            "/usr/local/lib/python3.7/dist-packages/sklearn/neural_network/_multilayer_perceptron.py:934: DataConversionWarning:\n",
            "\n",
            "A column-vector y was passed when a 1d array was expected. Please change the shape of y to (n_samples, ), for example using ravel().\n",
            "\n",
            "/usr/local/lib/python3.7/dist-packages/sklearn/metrics/_classification.py:1272: UndefinedMetricWarning:\n",
            "\n",
            "Precision and F-score are ill-defined and being set to 0.0 in labels with no predicted samples. Use `zero_division` parameter to control this behavior.\n",
            "\n"
          ]
        }
      ]
    },
    {
      "cell_type": "code",
      "metadata": {
        "colab": {
          "base_uri": "https://localhost:8080/"
        },
        "id": "7j5tyf0sHY9v",
        "outputId": "678684ac-3c0d-4936-8493-8b1449ed061b"
      },
      "source": [
        "tuning_LR(1,5)"
      ],
      "execution_count": null,
      "outputs": [
        {
          "output_type": "stream",
          "name": "stdout",
          "text": [
            "Fitting 5 folds for each of 14 candidates, totalling 70 fits\n"
          ]
        },
        {
          "output_type": "stream",
          "name": "stderr",
          "text": [
            "[Parallel(n_jobs=-1)]: Using backend LokyBackend with 2 concurrent workers.\n"
          ]
        },
        {
          "output_type": "stream",
          "name": "stdout",
          "text": [
            "Accuratezza fase di Cross Validation con dati di Addestramento/Validazione: 0.567\n",
            "I migliori parametri trvati sono :\n",
            " {'C': 0.001, 'penalty': 'l2'}\n",
            "Accuratezza con dati di Test: 0.500\n",
            "Risultato sui dati di test:\n",
            "              precision    recall  f1-score   support\n",
            "\n",
            "           0       0.00      0.00      0.00         6\n",
            "           1       0.50      1.00      0.67         6\n",
            "\n",
            "    accuracy                           0.50        12\n",
            "   macro avg       0.25      0.50      0.33        12\n",
            "weighted avg       0.25      0.50      0.33        12\n",
            "\n",
            "[[0 6]\n",
            " [0 6]]\n",
            "Accuratezza Test: 50.000\n",
            "Precisione  Test: 0.000\n",
            "Sensitività Test: 0.000\n",
            "Specificità Test: 100.000\n",
            "F1 score    Test: 0.000\n"
          ]
        },
        {
          "output_type": "stream",
          "name": "stderr",
          "text": [
            "[Parallel(n_jobs=-1)]: Done  70 out of  70 | elapsed:    0.3s finished\n",
            "/usr/local/lib/python3.7/dist-packages/sklearn/utils/validation.py:760: DataConversionWarning:\n",
            "\n",
            "A column-vector y was passed when a 1d array was expected. Please change the shape of y to (n_samples, ), for example using ravel().\n",
            "\n",
            "/usr/local/lib/python3.7/dist-packages/sklearn/metrics/_classification.py:1272: UndefinedMetricWarning:\n",
            "\n",
            "Precision and F-score are ill-defined and being set to 0.0 in labels with no predicted samples. Use `zero_division` parameter to control this behavior.\n",
            "\n"
          ]
        }
      ]
    },
    {
      "cell_type": "code",
      "metadata": {
        "colab": {
          "base_uri": "https://localhost:8080/"
        },
        "id": "AxJMu5geHY9v",
        "outputId": "d54e085c-8e62-466c-e749-82144c56dafc"
      },
      "source": [
        "#tuning_foresta(1,5)"
      ],
      "execution_count": null,
      "outputs": [
        {
          "output_type": "stream",
          "name": "stdout",
          "text": [
            "Fitting 5 folds for each of 20 candidates, totalling 100 fits\n"
          ]
        },
        {
          "output_type": "stream",
          "name": "stderr",
          "text": [
            "[Parallel(n_jobs=-1)]: Using backend LokyBackend with 2 concurrent workers.\n"
          ]
        },
        {
          "output_type": "stream",
          "name": "stdout",
          "text": [
            "Accuratezza fase di Cross Validation con dati di Addestramento/Validazione: 0.967\n",
            "{'n_estimators': 40, 'min_samples_split': 10, 'min_samples_leaf': 1, 'max_features': 1, 'max_depth': None, 'criterion': 'entropy', 'bootstrap': True}\n",
            "Accuratezza con dati di Test: 1.000\n",
            "Risultato sui dati di test:\n",
            "              precision    recall  f1-score   support\n",
            "\n",
            "           0       1.00      1.00      1.00         6\n",
            "           1       1.00      1.00      1.00         6\n",
            "\n",
            "    accuracy                           1.00        12\n",
            "   macro avg       1.00      1.00      1.00        12\n",
            "weighted avg       1.00      1.00      1.00        12\n",
            "\n",
            "[[6 0]\n",
            " [0 6]]\n",
            "Accuratezza Test: 100.000\n",
            "Precisione  Test: 100.000\n",
            "Sensitività Test: 100.000\n",
            "Specificità Test: 100.000\n",
            "F1 score    Test: 100.000\n"
          ]
        },
        {
          "output_type": "stream",
          "name": "stderr",
          "text": [
            "[Parallel(n_jobs=-1)]: Done 100 out of 100 | elapsed:    2.6s finished\n",
            "/usr/local/lib/python3.7/dist-packages/sklearn/model_selection/_search.py:739: DataConversionWarning:\n",
            "\n",
            "A column-vector y was passed when a 1d array was expected. Please change the shape of y to (n_samples,), for example using ravel().\n",
            "\n"
          ]
        }
      ]
    },
    {
      "cell_type": "code",
      "metadata": {
        "id": "cUYR8EQyHY9v"
      },
      "source": [
        ""
      ],
      "execution_count": null,
      "outputs": []
    },
    {
      "cell_type": "markdown",
      "metadata": {
        "id": "Dy-R6Uz1HY9w"
      },
      "source": [
        "#### Caso2 AD vs MCI"
      ]
    },
    {
      "cell_type": "code",
      "metadata": {
        "id": "ESzMqmLYHY9w"
      },
      "source": [
        ""
      ],
      "execution_count": null,
      "outputs": []
    },
    {
      "cell_type": "code",
      "metadata": {
        "id": "ZHgABZiiHY9w"
      },
      "source": [
        "\n",
        "df=ADMCI.loc[:,0]\n",
        "\n",
        "X = df.to_numpy()\n",
        "\n",
        "Y = ADMCI.loc[:,1]\n",
        "y = Y.to_numpy()\n",
        "y = np.where(y == 1, 1, 0)\n",
        "#from sklearn.model_selection import train_test_split\n",
        "\n",
        "X_train, X_test, y_train, y_test = train_test_split(X, y, test_size=0.3,stratify=y,random_state=42)\n",
        "\n",
        "#pca = PCA(n_components=5)\n",
        "\n",
        "#X_train_pca = pca.fit_transform(X_train)\n",
        "#X_test_pca = pca.transform(X_test)\n",
        "\n",
        "X_train_caso2=X_train\n",
        "X_test_caso2=X_test\n",
        "y_train_caso2=y_train\n",
        "y_test_caso2=y_test"
      ],
      "execution_count": null,
      "outputs": []
    },
    {
      "cell_type": "code",
      "metadata": {
        "id": "Gn-qwWd_HY9x"
      },
      "source": [
        "X_train_caso2=X_train_caso2.reshape(-1,1)\n",
        "X_test_caso2=X_test_caso2.reshape(-1,1)\n",
        "y_train_caso2=y_train_caso2.reshape(-1,1)\n",
        "y_test_caso2=y_test_caso2.reshape(-1,1)"
      ],
      "execution_count": null,
      "outputs": []
    },
    {
      "cell_type": "code",
      "metadata": {
        "colab": {
          "base_uri": "https://localhost:8080/"
        },
        "id": "IL9GhlVmHY9x",
        "outputId": "69d3c3e3-4b68-4dce-f9cf-ef045383081a"
      },
      "source": [
        "tuning_albero_decisione(2,5)"
      ],
      "execution_count": null,
      "outputs": [
        {
          "output_type": "stream",
          "name": "stdout",
          "text": [
            "Fitting 5 folds for each of 216 candidates, totalling 1080 fits\n"
          ]
        },
        {
          "output_type": "stream",
          "name": "stderr",
          "text": [
            "[Parallel(n_jobs=-1)]: Using backend LokyBackend with 2 concurrent workers.\n"
          ]
        },
        {
          "output_type": "stream",
          "name": "stdout",
          "text": [
            "Accuratezza fase di Cross Validation con dati di Addestramento/Validazione: 0.820\n",
            "{'criterion': 'gini', 'max_depth': 3, 'min_samples_leaf': 1, 'min_samples_split': 2, 'min_weight_fraction_leaf': 0}\n",
            "Accuratezza con dati di Test: 0.833\n",
            "Risultato sui dati di test:\n",
            "              precision    recall  f1-score   support\n",
            "\n",
            "           0       0.83      0.83      0.83         6\n",
            "           1       0.83      0.83      0.83         6\n",
            "\n",
            "    accuracy                           0.83        12\n",
            "   macro avg       0.83      0.83      0.83        12\n",
            "weighted avg       0.83      0.83      0.83        12\n",
            "\n",
            "[[5 1]\n",
            " [1 5]]\n",
            "Accuratezza Test: 83.000\n",
            "Precisione  Test: 83.000\n",
            "Sensitività Test: 83.000\n",
            "Specificità Test: 83.000\n",
            "F1 score    Test: 83.000\n"
          ]
        },
        {
          "output_type": "stream",
          "name": "stderr",
          "text": [
            "[Parallel(n_jobs=-1)]: Done 940 tasks      | elapsed:    1.5s\n",
            "[Parallel(n_jobs=-1)]: Done 1077 out of 1080 | elapsed:    1.5s remaining:    0.0s\n",
            "[Parallel(n_jobs=-1)]: Done 1080 out of 1080 | elapsed:    1.5s finished\n"
          ]
        }
      ]
    },
    {
      "cell_type": "code",
      "metadata": {
        "colab": {
          "base_uri": "https://localhost:8080/"
        },
        "id": "T_bvHY8LHY9x",
        "outputId": "91ff75f8-6d9e-45e5-d3e9-0b75827e66fb"
      },
      "source": [
        "tuning_SVM(2,5)"
      ],
      "execution_count": null,
      "outputs": [
        {
          "output_type": "stream",
          "name": "stderr",
          "text": [
            "/usr/local/lib/python3.7/dist-packages/sklearn/model_selection/_search.py:281: UserWarning:\n",
            "\n",
            "The total space of parameters 2 is smaller than n_iter=20. Running 2 iterations. For exhaustive searches, use GridSearchCV.\n",
            "\n",
            "[Parallel(n_jobs=-1)]: Using backend LokyBackend with 2 concurrent workers.\n"
          ]
        },
        {
          "output_type": "stream",
          "name": "stdout",
          "text": [
            "Fitting 5 folds for each of 2 candidates, totalling 10 fits\n",
            "Accuratezza fase di Cross Validation con dati di Addestramento/Validazione: 0.860\n",
            "{'kernel': 'rbf'}\n",
            "Accuratezza con dati di Test: 0.833\n",
            "Risultato sui dati di test:\n",
            "              precision    recall  f1-score   support\n",
            "\n",
            "           0       0.83      0.83      0.83         6\n",
            "           1       0.83      0.83      0.83         6\n",
            "\n",
            "    accuracy                           0.83        12\n",
            "   macro avg       0.83      0.83      0.83        12\n",
            "weighted avg       0.83      0.83      0.83        12\n",
            "\n",
            "[[5 1]\n",
            " [1 5]]\n",
            "Accuratezza Test: 83.000\n",
            "Precisione  Test: 83.000\n",
            "Sensitività Test: 83.000\n",
            "Specificità Test: 83.000\n",
            "F1 score    Test: 83.000\n"
          ]
        },
        {
          "output_type": "stream",
          "name": "stderr",
          "text": [
            "[Parallel(n_jobs=-1)]: Done  10 out of  10 | elapsed:   39.2s finished\n",
            "/usr/local/lib/python3.7/dist-packages/sklearn/utils/validation.py:760: DataConversionWarning:\n",
            "\n",
            "A column-vector y was passed when a 1d array was expected. Please change the shape of y to (n_samples, ), for example using ravel().\n",
            "\n"
          ]
        }
      ]
    },
    {
      "cell_type": "code",
      "metadata": {
        "id": "wlTNGJulHY9y"
      },
      "source": [
        "#tuning_foresta(2,10)"
      ],
      "execution_count": null,
      "outputs": []
    },
    {
      "cell_type": "code",
      "metadata": {
        "id": "iRUhDLOCHY9y"
      },
      "source": [
        "#tuning_albero_decisione_CV(2,10)"
      ],
      "execution_count": null,
      "outputs": []
    },
    {
      "cell_type": "code",
      "metadata": {
        "id": "sRDiH0vOHY9y"
      },
      "source": [
        "#tuning_SVM_CV(2,10)"
      ],
      "execution_count": null,
      "outputs": []
    },
    {
      "cell_type": "code",
      "metadata": {
        "id": "j_dmZDYLHY9z"
      },
      "source": [
        "#validazione_incrociata_kfold(2,10,1)"
      ],
      "execution_count": null,
      "outputs": []
    },
    {
      "cell_type": "code",
      "metadata": {
        "id": "3RM0U8vZHY9z"
      },
      "source": [
        "#validazione_incrociata_kfold(2,10,2)"
      ],
      "execution_count": null,
      "outputs": []
    },
    {
      "cell_type": "code",
      "metadata": {
        "id": "aU5_bKxuHY9z"
      },
      "source": [
        "#validazione_incrociata_score(2,10,1)"
      ],
      "execution_count": null,
      "outputs": []
    },
    {
      "cell_type": "code",
      "metadata": {
        "id": "u2yvzBm-HY90"
      },
      "source": [
        "#validazione_incrociata_score(2,10,2)"
      ],
      "execution_count": null,
      "outputs": []
    },
    {
      "cell_type": "code",
      "metadata": {
        "id": "KJ18gPpWHY90"
      },
      "source": [
        "#prova_pipeline(2,2)"
      ],
      "execution_count": null,
      "outputs": []
    },
    {
      "cell_type": "code",
      "metadata": {
        "id": "7X7CnNBYHY90"
      },
      "source": [
        "#exec_trad(2,1)"
      ],
      "execution_count": null,
      "outputs": []
    },
    {
      "cell_type": "code",
      "metadata": {
        "id": "OeqwEcNFHY91"
      },
      "source": [
        "#exec_trad(2,2)"
      ],
      "execution_count": null,
      "outputs": []
    },
    {
      "cell_type": "code",
      "metadata": {
        "colab": {
          "base_uri": "https://localhost:8080/"
        },
        "id": "VSjudgfmHY91",
        "outputId": "dd452566-5c6d-455b-a2f1-3a9c49f76257"
      },
      "source": [
        "tuning_KNN(2,5)"
      ],
      "execution_count": null,
      "outputs": [
        {
          "output_type": "stream",
          "name": "stdout",
          "text": [
            "Fitting 5 folds for each of 16 candidates, totalling 80 fits\n"
          ]
        },
        {
          "output_type": "stream",
          "name": "stderr",
          "text": [
            "[Parallel(n_jobs=-1)]: Using backend LokyBackend with 2 concurrent workers.\n"
          ]
        },
        {
          "output_type": "stream",
          "name": "stdout",
          "text": [
            "Accuratezza fase di Cross Validation con dati di Addestramento/Validazione: 0.860\n",
            "{'algorithm': 'auto', 'n_neighbors': 5, 'weights': 'uniform'}\n",
            "Accuratezza con dati di Test: 0.917\n",
            "Risultato sui dati di test:\n",
            "              precision    recall  f1-score   support\n",
            "\n",
            "           0       1.00      0.83      0.91         6\n",
            "           1       0.86      1.00      0.92         6\n",
            "\n",
            "    accuracy                           0.92        12\n",
            "   macro avg       0.93      0.92      0.92        12\n",
            "weighted avg       0.93      0.92      0.92        12\n",
            "\n",
            "[[5 1]\n",
            " [0 6]]\n",
            "Accuratezza Test: 91.000\n",
            "Precisione  Test: 100.000\n",
            "Sensitività Test: 83.000\n",
            "Specificità Test: 100.000\n",
            "F1 score    Test: 90.000\n"
          ]
        },
        {
          "output_type": "stream",
          "name": "stderr",
          "text": [
            "[Parallel(n_jobs=-1)]: Done  80 out of  80 | elapsed:    0.3s finished\n",
            "/usr/local/lib/python3.7/dist-packages/sklearn/model_selection/_search.py:739: DataConversionWarning:\n",
            "\n",
            "A column-vector y was passed when a 1d array was expected. Please change the shape of y to (n_samples, ), for example using ravel().\n",
            "\n"
          ]
        }
      ]
    },
    {
      "cell_type": "code",
      "metadata": {
        "colab": {
          "base_uri": "https://localhost:8080/",
          "height": 900
        },
        "id": "1GueyLKpHY91",
        "outputId": "17f495cc-286d-428f-b15a-b2cf24a0e95a"
      },
      "source": [
        "#tuning_MP(2,10)"
      ],
      "execution_count": null,
      "outputs": [
        {
          "output_type": "stream",
          "name": "stdout",
          "text": [
            "Fitting 10 folds for each of 64 candidates, totalling 640 fits\n"
          ]
        },
        {
          "output_type": "stream",
          "name": "stderr",
          "text": [
            "[Parallel(n_jobs=-1)]: Using backend LokyBackend with 2 concurrent workers.\n",
            "[Parallel(n_jobs=-1)]: Done 300 tasks      | elapsed:    8.5s\n"
          ]
        },
        {
          "output_type": "stream",
          "name": "stdout",
          "text": [
            "Accuratezza fase di Cross Validation con dati di Addestramento/Validazione: 0.567\n",
            "I migliori parametri trvati sono :\n",
            " {'activation': 'relu', 'alpha': 1, 'hidden_layer_sizes': (10, 30, 10), 'learning_rate': 'adaptive', 'solver': 'sgd'}\n",
            "Accuratezza con dati di Test: 0.500\n",
            "Risultato sui dati di test:\n",
            "              precision    recall  f1-score   support\n",
            "\n",
            "           0       0.00      0.00      0.00         6\n",
            "           1       0.50      1.00      0.67         6\n",
            "\n",
            "    accuracy                           0.50        12\n",
            "   macro avg       0.25      0.50      0.33        12\n",
            "weighted avg       0.25      0.50      0.33        12\n",
            "\n",
            "[[0 6]\n",
            " [0 6]]\n"
          ]
        },
        {
          "output_type": "stream",
          "name": "stderr",
          "text": [
            "[Parallel(n_jobs=-1)]: Done 640 out of 640 | elapsed:   15.6s finished\n",
            "/usr/local/lib/python3.7/dist-packages/sklearn/neural_network/_multilayer_perceptron.py:934: DataConversionWarning:\n",
            "\n",
            "A column-vector y was passed when a 1d array was expected. Please change the shape of y to (n_samples, ), for example using ravel().\n",
            "\n",
            "/usr/local/lib/python3.7/dist-packages/sklearn/metrics/_classification.py:1272: UndefinedMetricWarning:\n",
            "\n",
            "Precision and F-score are ill-defined and being set to 0.0 in labels with no predicted samples. Use `zero_division` parameter to control this behavior.\n",
            "\n",
            "/usr/local/lib/python3.7/dist-packages/ipykernel_launcher.py:73: RuntimeWarning:\n",
            "\n",
            "invalid value encountered in long_scalars\n",
            "\n"
          ]
        },
        {
          "output_type": "error",
          "ename": "ValueError",
          "evalue": "ignored",
          "traceback": [
            "\u001b[0;31m---------------------------------------------------------------------------\u001b[0m",
            "\u001b[0;31mValueError\u001b[0m                                Traceback (most recent call last)",
            "\u001b[0;32m<ipython-input-66-bd8bcce64434>\u001b[0m in \u001b[0;36m<module>\u001b[0;34m()\u001b[0m\n\u001b[0;32m----> 1\u001b[0;31m \u001b[0mtuning_MP\u001b[0m\u001b[0;34m(\u001b[0m\u001b[0;36m2\u001b[0m\u001b[0;34m,\u001b[0m\u001b[0;36m10\u001b[0m\u001b[0;34m)\u001b[0m\u001b[0;34m\u001b[0m\u001b[0;34m\u001b[0m\u001b[0m\n\u001b[0m",
            "\u001b[0;32m<ipython-input-9-b2bff7f3cebf>\u001b[0m in \u001b[0;36mtuning_MP\u001b[0;34m(caso, numerocv)\u001b[0m\n\u001b[1;32m     71\u001b[0m         \u001b[0;31m#print(tp,fp,fn,tn)\u001b[0m\u001b[0;34m\u001b[0m\u001b[0;34m\u001b[0m\u001b[0;34m\u001b[0m\u001b[0m\n\u001b[1;32m     72\u001b[0m     \u001b[0maccurancy\u001b[0m\u001b[0;34m=\u001b[0m\u001b[0mint\u001b[0m\u001b[0;34m(\u001b[0m\u001b[0;34m(\u001b[0m\u001b[0;34m(\u001b[0m\u001b[0mtp\u001b[0m\u001b[0;34m+\u001b[0m\u001b[0mtn\u001b[0m\u001b[0;34m)\u001b[0m\u001b[0;34m/\u001b[0m\u001b[0;34m(\u001b[0m\u001b[0mtn\u001b[0m\u001b[0;34m+\u001b[0m\u001b[0mfp\u001b[0m\u001b[0;34m+\u001b[0m\u001b[0mfn\u001b[0m\u001b[0;34m+\u001b[0m\u001b[0mtp\u001b[0m\u001b[0;34m)\u001b[0m\u001b[0;34m)\u001b[0m\u001b[0;34m*\u001b[0m\u001b[0;36m100\u001b[0m\u001b[0;34m)\u001b[0m\u001b[0;34m\u001b[0m\u001b[0;34m\u001b[0m\u001b[0m\n\u001b[0;32m---> 73\u001b[0;31m     \u001b[0mprecision\u001b[0m\u001b[0;34m=\u001b[0m\u001b[0mint\u001b[0m\u001b[0;34m(\u001b[0m\u001b[0;34m(\u001b[0m\u001b[0mtp\u001b[0m\u001b[0;34m/\u001b[0m\u001b[0;34m(\u001b[0m\u001b[0mtp\u001b[0m\u001b[0;34m+\u001b[0m\u001b[0mfp\u001b[0m\u001b[0;34m)\u001b[0m\u001b[0;34m)\u001b[0m\u001b[0;34m*\u001b[0m\u001b[0;36m100\u001b[0m\u001b[0;34m)\u001b[0m\u001b[0;34m\u001b[0m\u001b[0;34m\u001b[0m\u001b[0m\n\u001b[0m\u001b[1;32m     74\u001b[0m     \u001b[0msensitivity\u001b[0m\u001b[0;34m=\u001b[0m\u001b[0mint\u001b[0m\u001b[0;34m(\u001b[0m\u001b[0;34m(\u001b[0m\u001b[0mtp\u001b[0m\u001b[0;34m/\u001b[0m\u001b[0;34m(\u001b[0m\u001b[0mtp\u001b[0m\u001b[0;34m+\u001b[0m\u001b[0mfn\u001b[0m\u001b[0;34m)\u001b[0m\u001b[0;34m)\u001b[0m\u001b[0;34m*\u001b[0m\u001b[0;36m100\u001b[0m\u001b[0;34m)\u001b[0m\u001b[0;34m\u001b[0m\u001b[0;34m\u001b[0m\u001b[0m\n\u001b[1;32m     75\u001b[0m     \u001b[0mspecificity\u001b[0m\u001b[0;34m=\u001b[0m\u001b[0mint\u001b[0m\u001b[0;34m(\u001b[0m\u001b[0;34m(\u001b[0m\u001b[0mtn\u001b[0m\u001b[0;34m/\u001b[0m\u001b[0;34m(\u001b[0m\u001b[0mtn\u001b[0m\u001b[0;34m+\u001b[0m\u001b[0mfp\u001b[0m\u001b[0;34m)\u001b[0m\u001b[0;34m)\u001b[0m\u001b[0;34m*\u001b[0m\u001b[0;36m100\u001b[0m\u001b[0;34m)\u001b[0m\u001b[0;34m\u001b[0m\u001b[0;34m\u001b[0m\u001b[0m\n",
            "\u001b[0;31mValueError\u001b[0m: cannot convert float NaN to integer"
          ]
        }
      ]
    },
    {
      "cell_type": "code",
      "metadata": {
        "colab": {
          "base_uri": "https://localhost:8080/"
        },
        "id": "veQbHYSFHY92",
        "outputId": "3af71a83-7698-4506-8a31-5ddd0e89d033"
      },
      "source": [
        "tuning_LR(2,5)"
      ],
      "execution_count": null,
      "outputs": [
        {
          "output_type": "stream",
          "name": "stdout",
          "text": [
            "Fitting 5 folds for each of 14 candidates, totalling 70 fits\n"
          ]
        },
        {
          "output_type": "stream",
          "name": "stderr",
          "text": [
            "[Parallel(n_jobs=-1)]: Using backend LokyBackend with 2 concurrent workers.\n"
          ]
        },
        {
          "output_type": "stream",
          "name": "stdout",
          "text": [
            "Accuratezza fase di Cross Validation con dati di Addestramento/Validazione: 0.500\n",
            "I migliori parametri trvati sono :\n",
            " {'C': 0.001, 'penalty': 'l2'}\n",
            "Accuratezza con dati di Test: 0.500\n",
            "Risultato sui dati di test:\n",
            "              precision    recall  f1-score   support\n",
            "\n",
            "           0       0.00      0.00      0.00         6\n",
            "           1       0.50      1.00      0.67         6\n",
            "\n",
            "    accuracy                           0.50        12\n",
            "   macro avg       0.25      0.50      0.33        12\n",
            "weighted avg       0.25      0.50      0.33        12\n",
            "\n",
            "[[0 6]\n",
            " [0 6]]\n",
            "Accuratezza Test: 50.000\n",
            "Precisione  Test: 0.000\n",
            "Sensitività Test: 0.000\n",
            "Specificità Test: 100.000\n",
            "F1 score    Test: 0.000\n"
          ]
        },
        {
          "output_type": "stream",
          "name": "stderr",
          "text": [
            "[Parallel(n_jobs=-1)]: Done  70 out of  70 | elapsed:    0.2s finished\n",
            "/usr/local/lib/python3.7/dist-packages/sklearn/utils/validation.py:760: DataConversionWarning:\n",
            "\n",
            "A column-vector y was passed when a 1d array was expected. Please change the shape of y to (n_samples, ), for example using ravel().\n",
            "\n",
            "/usr/local/lib/python3.7/dist-packages/sklearn/metrics/_classification.py:1272: UndefinedMetricWarning:\n",
            "\n",
            "Precision and F-score are ill-defined and being set to 0.0 in labels with no predicted samples. Use `zero_division` parameter to control this behavior.\n",
            "\n"
          ]
        }
      ]
    },
    {
      "cell_type": "markdown",
      "metadata": {
        "id": "p72RYkjwHY92"
      },
      "source": [
        "<br>\n",
        "<br>"
      ]
    },
    {
      "cell_type": "markdown",
      "metadata": {
        "id": "-EtB-brXHY92"
      },
      "source": [
        "<br>\n",
        "<br>"
      ]
    },
    {
      "cell_type": "code",
      "metadata": {
        "colab": {
          "base_uri": "https://localhost:8080/"
        },
        "id": "ZHwacI4OHY93",
        "outputId": "e870461a-1f51-473c-9fe5-add93294f3e4"
      },
      "source": [
        "#tuning_foresta(2,10)"
      ],
      "execution_count": null,
      "outputs": [
        {
          "output_type": "stream",
          "text": [
            "Fitting 10 folds for each of 20 candidates, totalling 200 fits\n"
          ],
          "name": "stdout"
        },
        {
          "output_type": "stream",
          "text": [
            "[Parallel(n_jobs=-1)]: Using backend LokyBackend with 2 concurrent workers.\n",
            "[Parallel(n_jobs=-1)]: Done 122 tasks      | elapsed:    5.3s\n"
          ],
          "name": "stderr"
        },
        {
          "output_type": "stream",
          "text": [
            "Accuratezza fase di Cross Validation con dati di Addestramento/Validazione: 0.617\n",
            "{'n_estimators': 80, 'min_samples_split': 3, 'min_samples_leaf': 3, 'max_features': 3, 'max_depth': 8, 'criterion': 'gini', 'bootstrap': False}\n",
            "Accuratezza con dati di Test: 0.423\n",
            "Risultato sui dati di test:\n",
            "              precision    recall  f1-score   support\n",
            "\n",
            "           0       0.25      0.18      0.21        11\n",
            "           1       0.50      0.60      0.55        15\n",
            "\n",
            "    accuracy                           0.42        26\n",
            "   macro avg       0.38      0.39      0.38        26\n",
            "weighted avg       0.39      0.42      0.40        26\n",
            "\n",
            "[[2 9]\n",
            " [6 9]]\n",
            "Accuratezza Test: 42.000\n",
            "Precisione  Test: 25.000\n",
            "Sensitività Test: 18.000\n",
            "Specificità Test: 60.000\n",
            "F1 score    Test: 20.000\n"
          ],
          "name": "stdout"
        },
        {
          "output_type": "stream",
          "text": [
            "[Parallel(n_jobs=-1)]: Done 200 out of 200 | elapsed:    7.1s finished\n"
          ],
          "name": "stderr"
        }
      ]
    },
    {
      "cell_type": "markdown",
      "metadata": {
        "id": "dBQ0El5QHY96"
      },
      "source": [
        "#### Caso3 MCI vs HCF"
      ]
    },
    {
      "cell_type": "code",
      "metadata": {
        "id": "EztTZG_WHY96"
      },
      "source": [
        ""
      ],
      "execution_count": null,
      "outputs": []
    },
    {
      "cell_type": "code",
      "metadata": {
        "id": "eMpAz7YEHY96"
      },
      "source": [
        "\n",
        "df=MCIHC.loc[:,0]\n",
        "\n",
        "X = df.to_numpy()\n",
        "\n",
        "Y = MCIHC.loc[:,1]\n",
        "y = Y.to_numpy()\n",
        "y = np.where(y == 2, 1, 0)\n",
        "\n",
        "#from sklearn.model_selection import train_test_split\n",
        "\n",
        "\n",
        "X_train, X_test, y_train, y_test = train_test_split(X, y, test_size=0.3,stratify=y,random_state=42)\n",
        "\n",
        "#pca = PCA(n_components=2)\n",
        "\n",
        "#X_train_pca = pca.fit_transform(X_train)\n",
        "#X_test_pca = pca.transform(X_test)\n",
        "\n",
        "X_train_caso3=X_train\n",
        "X_test_caso3=X_test\n",
        "y_train_caso3=y_train\n",
        "y_test_caso3=y_test"
      ],
      "execution_count": null,
      "outputs": []
    },
    {
      "cell_type": "code",
      "metadata": {
        "id": "JaXfRSDAHY97"
      },
      "source": [
        "X_train_caso3=X_train_caso3.reshape(-1,1)\n",
        "X_test_caso3=X_test_caso3.reshape(-1,1)\n",
        "y_train_caso3=y_train_caso3.reshape(-1,1)\n",
        "y_test_caso3=y_test_caso3.reshape(-1,1)"
      ],
      "execution_count": null,
      "outputs": []
    },
    {
      "cell_type": "code",
      "metadata": {
        "colab": {
          "base_uri": "https://localhost:8080/"
        },
        "id": "KDfTaplhHY97",
        "outputId": "b7ada193-bd94-46a6-b1d6-4ca3e66ac076"
      },
      "source": [
        "tuning_albero_decisione(3,5)"
      ],
      "execution_count": null,
      "outputs": [
        {
          "output_type": "stream",
          "name": "stdout",
          "text": [
            "Fitting 5 folds for each of 216 candidates, totalling 1080 fits\n"
          ]
        },
        {
          "output_type": "stream",
          "name": "stderr",
          "text": [
            "[Parallel(n_jobs=-1)]: Using backend LokyBackend with 2 concurrent workers.\n"
          ]
        },
        {
          "output_type": "stream",
          "name": "stdout",
          "text": [
            "Accuratezza fase di Cross Validation con dati di Addestramento/Validazione: 0.847\n",
            "{'criterion': 'gini', 'max_depth': 3, 'min_samples_leaf': 2, 'min_samples_split': 2, 'min_weight_fraction_leaf': 0}\n",
            "Accuratezza con dati di Test: 0.750\n",
            "Risultato sui dati di test:\n",
            "              precision    recall  f1-score   support\n",
            "\n",
            "           0       0.67      1.00      0.80         6\n",
            "           1       1.00      0.50      0.67         6\n",
            "\n",
            "    accuracy                           0.75        12\n",
            "   macro avg       0.83      0.75      0.73        12\n",
            "weighted avg       0.83      0.75      0.73        12\n",
            "\n",
            "[[6 0]\n",
            " [3 3]]\n",
            "Accuratezza Test: 75.000\n",
            "Precisione  Test: 66.000\n",
            "Sensitività Test: 100.000\n",
            "Specificità Test: 50.000\n",
            "F1 score    Test: 79.000\n"
          ]
        },
        {
          "output_type": "stream",
          "name": "stderr",
          "text": [
            "[Parallel(n_jobs=-1)]: Done 1062 tasks      | elapsed:    1.4s\n",
            "[Parallel(n_jobs=-1)]: Done 1077 out of 1080 | elapsed:    1.4s remaining:    0.0s\n",
            "[Parallel(n_jobs=-1)]: Done 1080 out of 1080 | elapsed:    1.4s finished\n"
          ]
        }
      ]
    },
    {
      "cell_type": "code",
      "metadata": {
        "colab": {
          "base_uri": "https://localhost:8080/"
        },
        "id": "rAbWLgoAHY97",
        "outputId": "ba74eea1-ff0d-4004-eed7-8f19d71bfdf0"
      },
      "source": [
        "tuning_SVM(3,5)"
      ],
      "execution_count": null,
      "outputs": [
        {
          "output_type": "stream",
          "name": "stderr",
          "text": [
            "/usr/local/lib/python3.7/dist-packages/sklearn/model_selection/_search.py:281: UserWarning:\n",
            "\n",
            "The total space of parameters 2 is smaller than n_iter=20. Running 2 iterations. For exhaustive searches, use GridSearchCV.\n",
            "\n",
            "[Parallel(n_jobs=-1)]: Using backend LokyBackend with 2 concurrent workers.\n"
          ]
        },
        {
          "output_type": "stream",
          "name": "stdout",
          "text": [
            "Fitting 5 folds for each of 2 candidates, totalling 10 fits\n"
          ]
        },
        {
          "output_type": "stream",
          "name": "stderr",
          "text": [
            "[Parallel(n_jobs=-1)]: Done   7 out of  10 | elapsed:  2.7min remaining:  1.2min\n"
          ]
        },
        {
          "output_type": "stream",
          "name": "stdout",
          "text": [
            "Accuratezza fase di Cross Validation con dati di Addestramento/Validazione: 0.847\n",
            "{'kernel': 'rbf'}\n",
            "Accuratezza con dati di Test: 0.750\n",
            "Risultato sui dati di test:\n",
            "              precision    recall  f1-score   support\n",
            "\n",
            "           0       0.67      1.00      0.80         6\n",
            "           1       1.00      0.50      0.67         6\n",
            "\n",
            "    accuracy                           0.75        12\n",
            "   macro avg       0.83      0.75      0.73        12\n",
            "weighted avg       0.83      0.75      0.73        12\n",
            "\n",
            "[[6 0]\n",
            " [3 3]]\n",
            "Accuratezza Test: 75.000\n",
            "Precisione  Test: 66.000\n",
            "Sensitività Test: 100.000\n",
            "Specificità Test: 50.000\n",
            "F1 score    Test: 79.000\n"
          ]
        },
        {
          "output_type": "stream",
          "name": "stderr",
          "text": [
            "[Parallel(n_jobs=-1)]: Done  10 out of  10 | elapsed:  2.9min finished\n",
            "/usr/local/lib/python3.7/dist-packages/sklearn/utils/validation.py:760: DataConversionWarning:\n",
            "\n",
            "A column-vector y was passed when a 1d array was expected. Please change the shape of y to (n_samples, ), for example using ravel().\n",
            "\n"
          ]
        }
      ]
    },
    {
      "cell_type": "code",
      "metadata": {
        "id": "nkPHlId5HY98"
      },
      "source": [
        "#tuning_albero_decisione_CV(3,10)"
      ],
      "execution_count": null,
      "outputs": []
    },
    {
      "cell_type": "code",
      "metadata": {
        "id": "81r_7gPXHY98"
      },
      "source": [
        "#tuning_SVM_CV(3,10)"
      ],
      "execution_count": null,
      "outputs": []
    },
    {
      "cell_type": "code",
      "metadata": {
        "id": "tWLaRx0lHY99"
      },
      "source": [
        "#validazione_incrociata_kfold(3,10,1)"
      ],
      "execution_count": null,
      "outputs": []
    },
    {
      "cell_type": "code",
      "metadata": {
        "id": "5210zIBQHY99"
      },
      "source": [
        "#validazione_incrociata_kfold(3,10,2)"
      ],
      "execution_count": null,
      "outputs": []
    },
    {
      "cell_type": "code",
      "metadata": {
        "id": "4K-070bRHY99"
      },
      "source": [
        "#validazione_incrociata_score(3,10,1)"
      ],
      "execution_count": null,
      "outputs": []
    },
    {
      "cell_type": "code",
      "metadata": {
        "id": "cqcRW7JyHY99"
      },
      "source": [
        "#validazione_incrociata_score(3,10,2)"
      ],
      "execution_count": null,
      "outputs": []
    },
    {
      "cell_type": "code",
      "metadata": {
        "id": "2-v9qMqvHY9-"
      },
      "source": [
        "#prova_pipeline(3,2)"
      ],
      "execution_count": null,
      "outputs": []
    },
    {
      "cell_type": "code",
      "metadata": {
        "id": "t1VSESGQHY9-"
      },
      "source": [
        "#exec_trad(3,1)"
      ],
      "execution_count": null,
      "outputs": []
    },
    {
      "cell_type": "code",
      "metadata": {
        "id": "jiSboiQKHY9-"
      },
      "source": [
        "#exec_trad(3,2)"
      ],
      "execution_count": null,
      "outputs": []
    },
    {
      "cell_type": "code",
      "metadata": {
        "colab": {
          "base_uri": "https://localhost:8080/"
        },
        "id": "rK035LiAHY9_",
        "outputId": "ccb364a0-adad-4dbd-8d54-5fb57b9ca8b9"
      },
      "source": [
        "tuning_KNN(3,5)"
      ],
      "execution_count": null,
      "outputs": [
        {
          "output_type": "stream",
          "name": "stdout",
          "text": [
            "Fitting 5 folds for each of 16 candidates, totalling 80 fits\n"
          ]
        },
        {
          "output_type": "stream",
          "name": "stderr",
          "text": [
            "[Parallel(n_jobs=-1)]: Using backend LokyBackend with 2 concurrent workers.\n"
          ]
        },
        {
          "output_type": "stream",
          "name": "stdout",
          "text": [
            "Accuratezza fase di Cross Validation con dati di Addestramento/Validazione: 0.887\n",
            "{'algorithm': 'auto', 'n_neighbors': 5, 'weights': 'uniform'}\n",
            "Accuratezza con dati di Test: 0.750\n",
            "Risultato sui dati di test:\n",
            "              precision    recall  f1-score   support\n",
            "\n",
            "           0       0.67      1.00      0.80         6\n",
            "           1       1.00      0.50      0.67         6\n",
            "\n",
            "    accuracy                           0.75        12\n",
            "   macro avg       0.83      0.75      0.73        12\n",
            "weighted avg       0.83      0.75      0.73        12\n",
            "\n",
            "[[6 0]\n",
            " [3 3]]\n",
            "Accuratezza Test: 75.000\n",
            "Precisione  Test: 66.000\n",
            "Sensitività Test: 100.000\n",
            "Specificità Test: 50.000\n",
            "F1 score    Test: 79.000\n"
          ]
        },
        {
          "output_type": "stream",
          "name": "stderr",
          "text": [
            "[Parallel(n_jobs=-1)]: Done  80 out of  80 | elapsed:    0.2s finished\n",
            "/usr/local/lib/python3.7/dist-packages/sklearn/model_selection/_search.py:739: DataConversionWarning:\n",
            "\n",
            "A column-vector y was passed when a 1d array was expected. Please change the shape of y to (n_samples, ), for example using ravel().\n",
            "\n"
          ]
        }
      ]
    },
    {
      "cell_type": "code",
      "metadata": {
        "colab": {
          "base_uri": "https://localhost:8080/"
        },
        "id": "inn24YyKHY9_",
        "outputId": "28129481-2f43-455b-ea48-b30df773cc53"
      },
      "source": [
        "#tuning_MP(3,10)"
      ],
      "execution_count": null,
      "outputs": [
        {
          "output_type": "stream",
          "text": [
            "Fitting 10 folds for each of 64 candidates, totalling 640 fits\n"
          ],
          "name": "stdout"
        },
        {
          "output_type": "stream",
          "text": [
            "[Parallel(n_jobs=-1)]: Using backend LokyBackend with 2 concurrent workers.\n",
            "[Parallel(n_jobs=-1)]: Done  88 tasks      | elapsed:    3.8s\n",
            "[Parallel(n_jobs=-1)]: Done 388 tasks      | elapsed:   16.4s\n"
          ],
          "name": "stderr"
        },
        {
          "output_type": "stream",
          "text": [
            "Accuratezza fase di Cross Validation con dati di Addestramento/Validazione: 0.740\n",
            "I migliori parametri trvati sono :\n",
            " {'activation': 'tanh', 'alpha': 0.1, 'hidden_layer_sizes': (10, 30, 10), 'learning_rate': 'adaptive', 'solver': 'adam'}\n",
            "Accuratezza con dati di Test: 0.500\n",
            "Risultato sui dati di test:\n",
            "              precision    recall  f1-score   support\n",
            "\n",
            "           0       0.33      0.29      0.31         7\n",
            "           1       0.58      0.64      0.61        11\n",
            "\n",
            "    accuracy                           0.50        18\n",
            "   macro avg       0.46      0.46      0.46        18\n",
            "weighted avg       0.49      0.50      0.49        18\n",
            "\n",
            "[[2 5]\n",
            " [4 7]]\n",
            "Accuratezza Test: 50.000\n",
            "Precisione  Test: 33.000\n",
            "Sensitività Test: 28.000\n",
            "Specificità Test: 63.000\n",
            "F1 score    Test: 30.000\n"
          ],
          "name": "stdout"
        },
        {
          "output_type": "stream",
          "text": [
            "[Parallel(n_jobs=-1)]: Done 640 out of 640 | elapsed:   26.5s finished\n",
            "/usr/local/lib/python3.7/dist-packages/sklearn/neural_network/_multilayer_perceptron.py:571: ConvergenceWarning:\n",
            "\n",
            "Stochastic Optimizer: Maximum iterations (100) reached and the optimization hasn't converged yet.\n",
            "\n"
          ],
          "name": "stderr"
        }
      ]
    },
    {
      "cell_type": "code",
      "metadata": {
        "colab": {
          "base_uri": "https://localhost:8080/"
        },
        "id": "VO6a0Q5NHY9_",
        "outputId": "17a468f5-9f51-400d-d776-9105f4363da2"
      },
      "source": [
        "tuning_LR(3,5)"
      ],
      "execution_count": null,
      "outputs": [
        {
          "output_type": "stream",
          "name": "stdout",
          "text": [
            "Fitting 5 folds for each of 14 candidates, totalling 70 fits\n"
          ]
        },
        {
          "output_type": "stream",
          "name": "stderr",
          "text": [
            "[Parallel(n_jobs=-1)]: Using backend LokyBackend with 2 concurrent workers.\n"
          ]
        },
        {
          "output_type": "stream",
          "name": "stdout",
          "text": [
            "Accuratezza fase di Cross Validation con dati di Addestramento/Validazione: 0.727\n",
            "I migliori parametri trvati sono :\n",
            " {'C': 0.001, 'penalty': 'l2'}\n",
            "Accuratezza con dati di Test: 0.500\n",
            "Risultato sui dati di test:\n",
            "              precision    recall  f1-score   support\n",
            "\n",
            "           0       0.00      0.00      0.00         6\n",
            "           1       0.50      1.00      0.67         6\n",
            "\n",
            "    accuracy                           0.50        12\n",
            "   macro avg       0.25      0.50      0.33        12\n",
            "weighted avg       0.25      0.50      0.33        12\n",
            "\n",
            "[[0 6]\n",
            " [0 6]]\n",
            "Accuratezza Test: 50.000\n",
            "Precisione  Test: 0.000\n",
            "Sensitività Test: 0.000\n",
            "Specificità Test: 100.000\n",
            "F1 score    Test: 0.000\n"
          ]
        },
        {
          "output_type": "stream",
          "name": "stderr",
          "text": [
            "[Parallel(n_jobs=-1)]: Done  70 out of  70 | elapsed:    0.4s finished\n",
            "/usr/local/lib/python3.7/dist-packages/sklearn/utils/validation.py:760: DataConversionWarning:\n",
            "\n",
            "A column-vector y was passed when a 1d array was expected. Please change the shape of y to (n_samples, ), for example using ravel().\n",
            "\n",
            "/usr/local/lib/python3.7/dist-packages/sklearn/metrics/_classification.py:1272: UndefinedMetricWarning:\n",
            "\n",
            "Precision and F-score are ill-defined and being set to 0.0 in labels with no predicted samples. Use `zero_division` parameter to control this behavior.\n",
            "\n"
          ]
        }
      ]
    },
    {
      "cell_type": "code",
      "metadata": {
        "colab": {
          "base_uri": "https://localhost:8080/",
          "height": 761
        },
        "id": "ia7ZlXRRHY-A",
        "outputId": "73f9f1f0-4482-4f6c-8887-9eade97c891e"
      },
      "source": [
        "#tuning_foresta(3,10)"
      ],
      "execution_count": null,
      "outputs": [
        {
          "output_type": "stream",
          "text": [
            "Fitting 10 folds for each of 20 candidates, totalling 200 fits\n"
          ],
          "name": "stdout"
        },
        {
          "output_type": "stream",
          "text": [
            "[Parallel(n_jobs=-1)]: Using backend LokyBackend with 2 concurrent workers.\n",
            "[Parallel(n_jobs=-1)]: Done 164 tasks      | elapsed:    3.4s\n"
          ],
          "name": "stderr"
        },
        {
          "output_type": "stream",
          "text": [
            "Accuratezza fase di Cross Validation con dati di Addestramento/Validazione: 0.595\n",
            "{'n_estimators': 40, 'min_samples_split': 10, 'min_samples_leaf': 10, 'max_features': 1, 'max_depth': None, 'criterion': 'gini', 'bootstrap': True}\n",
            "Accuratezza con dati di Test: 0.611\n",
            "Risultato sui dati di test:\n",
            "              precision    recall  f1-score   support\n",
            "\n",
            "           0       0.00      0.00      0.00         7\n",
            "           1       0.61      1.00      0.76        11\n",
            "\n",
            "    accuracy                           0.61        18\n",
            "   macro avg       0.31      0.50      0.38        18\n",
            "weighted avg       0.37      0.61      0.46        18\n",
            "\n",
            "[[ 0  7]\n",
            " [ 0 11]]\n"
          ],
          "name": "stdout"
        },
        {
          "output_type": "stream",
          "text": [
            "[Parallel(n_jobs=-1)]: Done 200 out of 200 | elapsed:    4.2s finished\n",
            "/usr/local/lib/python3.7/dist-packages/sklearn/metrics/_classification.py:1272: UndefinedMetricWarning:\n",
            "\n",
            "Precision and F-score are ill-defined and being set to 0.0 in labels with no predicted samples. Use `zero_division` parameter to control this behavior.\n",
            "\n",
            "/usr/local/lib/python3.7/dist-packages/ipykernel_launcher.py:78: RuntimeWarning:\n",
            "\n",
            "invalid value encountered in long_scalars\n",
            "\n"
          ],
          "name": "stderr"
        },
        {
          "output_type": "error",
          "ename": "ValueError",
          "evalue": "ignored",
          "traceback": [
            "\u001b[0;31m---------------------------------------------------------------------------\u001b[0m",
            "\u001b[0;31mValueError\u001b[0m                                Traceback (most recent call last)",
            "\u001b[0;32m<ipython-input-175-b969c7f4516b>\u001b[0m in \u001b[0;36m<module>\u001b[0;34m()\u001b[0m\n\u001b[0;32m----> 1\u001b[0;31m \u001b[0mtuning_foresta\u001b[0m\u001b[0;34m(\u001b[0m\u001b[0;36m3\u001b[0m\u001b[0;34m,\u001b[0m\u001b[0;36m10\u001b[0m\u001b[0;34m)\u001b[0m\u001b[0;34m\u001b[0m\u001b[0;34m\u001b[0m\u001b[0m\n\u001b[0m",
            "\u001b[0;32m<ipython-input-160-eca344a37b16>\u001b[0m in \u001b[0;36mtuning_foresta\u001b[0;34m(caso, numerocv)\u001b[0m\n\u001b[1;32m     76\u001b[0m         \u001b[0;31m#print(tp,fp,fn,tn)\u001b[0m\u001b[0;34m\u001b[0m\u001b[0;34m\u001b[0m\u001b[0;34m\u001b[0m\u001b[0m\n\u001b[1;32m     77\u001b[0m     \u001b[0maccurancy\u001b[0m\u001b[0;34m=\u001b[0m\u001b[0mint\u001b[0m\u001b[0;34m(\u001b[0m\u001b[0;34m(\u001b[0m\u001b[0;34m(\u001b[0m\u001b[0mtp\u001b[0m\u001b[0;34m+\u001b[0m\u001b[0mtn\u001b[0m\u001b[0;34m)\u001b[0m\u001b[0;34m/\u001b[0m\u001b[0;34m(\u001b[0m\u001b[0mtn\u001b[0m\u001b[0;34m+\u001b[0m\u001b[0mfp\u001b[0m\u001b[0;34m+\u001b[0m\u001b[0mfn\u001b[0m\u001b[0;34m+\u001b[0m\u001b[0mtp\u001b[0m\u001b[0;34m)\u001b[0m\u001b[0;34m)\u001b[0m\u001b[0;34m*\u001b[0m\u001b[0;36m100\u001b[0m\u001b[0;34m)\u001b[0m\u001b[0;34m\u001b[0m\u001b[0;34m\u001b[0m\u001b[0m\n\u001b[0;32m---> 78\u001b[0;31m     \u001b[0mprecision\u001b[0m\u001b[0;34m=\u001b[0m\u001b[0mint\u001b[0m\u001b[0;34m(\u001b[0m\u001b[0;34m(\u001b[0m\u001b[0mtp\u001b[0m\u001b[0;34m/\u001b[0m\u001b[0;34m(\u001b[0m\u001b[0mtp\u001b[0m\u001b[0;34m+\u001b[0m\u001b[0mfp\u001b[0m\u001b[0;34m)\u001b[0m\u001b[0;34m)\u001b[0m\u001b[0;34m*\u001b[0m\u001b[0;36m100\u001b[0m\u001b[0;34m)\u001b[0m\u001b[0;34m\u001b[0m\u001b[0;34m\u001b[0m\u001b[0m\n\u001b[0m\u001b[1;32m     79\u001b[0m     \u001b[0msensitivity\u001b[0m\u001b[0;34m=\u001b[0m\u001b[0mint\u001b[0m\u001b[0;34m(\u001b[0m\u001b[0;34m(\u001b[0m\u001b[0mtp\u001b[0m\u001b[0;34m/\u001b[0m\u001b[0;34m(\u001b[0m\u001b[0mtp\u001b[0m\u001b[0;34m+\u001b[0m\u001b[0mfn\u001b[0m\u001b[0;34m)\u001b[0m\u001b[0;34m)\u001b[0m\u001b[0;34m*\u001b[0m\u001b[0;36m100\u001b[0m\u001b[0;34m)\u001b[0m\u001b[0;34m\u001b[0m\u001b[0;34m\u001b[0m\u001b[0m\n\u001b[1;32m     80\u001b[0m     \u001b[0mspecificity\u001b[0m\u001b[0;34m=\u001b[0m\u001b[0mint\u001b[0m\u001b[0;34m(\u001b[0m\u001b[0;34m(\u001b[0m\u001b[0mtn\u001b[0m\u001b[0;34m/\u001b[0m\u001b[0;34m(\u001b[0m\u001b[0mtn\u001b[0m\u001b[0;34m+\u001b[0m\u001b[0mfp\u001b[0m\u001b[0;34m)\u001b[0m\u001b[0;34m)\u001b[0m\u001b[0;34m*\u001b[0m\u001b[0;36m100\u001b[0m\u001b[0;34m)\u001b[0m\u001b[0;34m\u001b[0m\u001b[0;34m\u001b[0m\u001b[0m\n",
            "\u001b[0;31mValueError\u001b[0m: cannot convert float NaN to integer"
          ]
        }
      ]
    },
    {
      "cell_type": "code",
      "metadata": {
        "id": "ouYf-SJXHY-A"
      },
      "source": [
        ""
      ],
      "execution_count": null,
      "outputs": []
    },
    {
      "cell_type": "markdown",
      "metadata": {
        "id": "J5FND3LCHY-A"
      },
      "source": [
        "#### Caso4 CASE vs HCF"
      ]
    },
    {
      "cell_type": "code",
      "metadata": {
        "id": "y8j4utczHY-B"
      },
      "source": [
        ""
      ],
      "execution_count": null,
      "outputs": []
    },
    {
      "cell_type": "code",
      "metadata": {
        "id": "4mkD1BKwHY-B"
      },
      "source": [
        "df=CASEHC.loc[:,0]\n",
        "\n",
        "X = df.to_numpy()\n",
        "\n",
        "Y = CASEHC.loc[:,1]\n",
        "y = Y.to_numpy()\n",
        "y = np.where(y == 3, 1, 0)\n",
        "#from sklearn.model_selection import train_test_split\n",
        "\n",
        "\n",
        "X_train, X_test, y_train, y_test = train_test_split(X, y, test_size=0.3,stratify=y,random_state=42)\n",
        "\n",
        "#pca = PCA(n_components=2)\n",
        "\n",
        "#X_train_pca = pca.fit_transform(X_train)\n",
        "#X_test_pca = pca.transform(X_test)\n",
        "\n",
        "X_train_caso4=X_train\n",
        "X_test_caso4=X_test\n",
        "y_train_caso4=y_train\n",
        "y_test_caso4=y_test"
      ],
      "execution_count": null,
      "outputs": []
    },
    {
      "cell_type": "code",
      "metadata": {
        "id": "pKLdVvczHY-B"
      },
      "source": [
        "X_train_caso4=X_train_caso4.reshape(-1,1)\n",
        "X_test_caso4=X_test_caso4.reshape(-1,1)\n",
        "y_train_caso4=y_train_caso4.reshape(-1,1)\n",
        "y_test_caso4=y_test_caso4.reshape(-1,1)"
      ],
      "execution_count": null,
      "outputs": []
    },
    {
      "cell_type": "code",
      "metadata": {
        "colab": {
          "base_uri": "https://localhost:8080/"
        },
        "id": "YZXUtgulHY-D",
        "outputId": "aec7bcdd-bf0c-48db-815e-833e9d34cc35"
      },
      "source": [
        "tuning_albero_decisione(4,5)"
      ],
      "execution_count": null,
      "outputs": [
        {
          "output_type": "stream",
          "name": "stdout",
          "text": [
            "Fitting 5 folds for each of 216 candidates, totalling 1080 fits\n"
          ]
        },
        {
          "output_type": "stream",
          "name": "stderr",
          "text": [
            "[Parallel(n_jobs=-1)]: Using backend LokyBackend with 2 concurrent workers.\n"
          ]
        },
        {
          "output_type": "stream",
          "name": "stdout",
          "text": [
            "Accuratezza fase di Cross Validation con dati di Addestramento/Validazione: 0.925\n",
            "{'criterion': 'gini', 'max_depth': 3, 'min_samples_leaf': 3, 'min_samples_split': 2, 'min_weight_fraction_leaf': 0}\n",
            "Accuratezza con dati di Test: 0.778\n",
            "Risultato sui dati di test:\n",
            "              precision    recall  f1-score   support\n",
            "\n",
            "           0       0.90      0.75      0.82        12\n",
            "           1       0.62      0.83      0.71         6\n",
            "\n",
            "    accuracy                           0.78        18\n",
            "   macro avg       0.76      0.79      0.77        18\n",
            "weighted avg       0.81      0.78      0.78        18\n",
            "\n",
            "[[9 3]\n",
            " [1 5]]\n",
            "Accuratezza Test: 77.000\n",
            "Precisione  Test: 90.000\n",
            "Sensitività Test: 75.000\n",
            "Specificità Test: 83.000\n",
            "F1 score    Test: 81.000\n"
          ]
        },
        {
          "output_type": "stream",
          "name": "stderr",
          "text": [
            "[Parallel(n_jobs=-1)]: Done 1062 tasks      | elapsed:    1.4s\n",
            "[Parallel(n_jobs=-1)]: Done 1077 out of 1080 | elapsed:    1.4s remaining:    0.0s\n",
            "[Parallel(n_jobs=-1)]: Done 1080 out of 1080 | elapsed:    1.4s finished\n"
          ]
        }
      ]
    },
    {
      "cell_type": "code",
      "metadata": {
        "colab": {
          "base_uri": "https://localhost:8080/"
        },
        "id": "s31ML8g7HY-E",
        "outputId": "f475a008-bcba-491a-8b36-5beb29d6c09e"
      },
      "source": [
        "tuning_SVM(4,5)"
      ],
      "execution_count": null,
      "outputs": [
        {
          "output_type": "stream",
          "name": "stderr",
          "text": [
            "/usr/local/lib/python3.7/dist-packages/sklearn/model_selection/_search.py:281: UserWarning:\n",
            "\n",
            "The total space of parameters 2 is smaller than n_iter=20. Running 2 iterations. For exhaustive searches, use GridSearchCV.\n",
            "\n",
            "[Parallel(n_jobs=-1)]: Using backend LokyBackend with 2 concurrent workers.\n"
          ]
        },
        {
          "output_type": "stream",
          "name": "stdout",
          "text": [
            "Fitting 5 folds for each of 2 candidates, totalling 10 fits\n"
          ]
        },
        {
          "output_type": "stream",
          "name": "stderr",
          "text": [
            "[Parallel(n_jobs=-1)]: Done   7 out of  10 | elapsed:    2.4s remaining:    1.0s\n",
            "[Parallel(n_jobs=-1)]: Done  10 out of  10 | elapsed:    8.1s finished\n",
            "/usr/local/lib/python3.7/dist-packages/sklearn/utils/validation.py:760: DataConversionWarning:\n",
            "\n",
            "A column-vector y was passed when a 1d array was expected. Please change the shape of y to (n_samples, ), for example using ravel().\n",
            "\n"
          ]
        },
        {
          "output_type": "stream",
          "name": "stdout",
          "text": [
            "Accuratezza fase di Cross Validation con dati di Addestramento/Validazione: 0.925\n",
            "{'kernel': 'linear'}\n",
            "Accuratezza con dati di Test: 0.778\n",
            "Risultato sui dati di test:\n",
            "              precision    recall  f1-score   support\n",
            "\n",
            "           0       0.90      0.75      0.82        12\n",
            "           1       0.62      0.83      0.71         6\n",
            "\n",
            "    accuracy                           0.78        18\n",
            "   macro avg       0.76      0.79      0.77        18\n",
            "weighted avg       0.81      0.78      0.78        18\n",
            "\n",
            "[[9 3]\n",
            " [1 5]]\n",
            "Accuratezza Test: 77.000\n",
            "Precisione  Test: 90.000\n",
            "Sensitività Test: 75.000\n",
            "Specificità Test: 83.000\n",
            "F1 score    Test: 81.000\n"
          ]
        }
      ]
    },
    {
      "cell_type": "code",
      "metadata": {
        "id": "ExQdOb6tHY-E"
      },
      "source": [
        "#tuning_albero_decisione_CV(4,10)"
      ],
      "execution_count": null,
      "outputs": []
    },
    {
      "cell_type": "code",
      "metadata": {
        "id": "oJhHXuYAHY-F"
      },
      "source": [
        "#tuning_SVM_CV(4,10)"
      ],
      "execution_count": null,
      "outputs": []
    },
    {
      "cell_type": "code",
      "metadata": {
        "id": "AGVFqDT9HY-G"
      },
      "source": [
        "#validazione_incrociata_kfold(4,10,1)"
      ],
      "execution_count": null,
      "outputs": []
    },
    {
      "cell_type": "code",
      "metadata": {
        "id": "cdm-8IxLHY-G"
      },
      "source": [
        "#validazione_incrociata_kfold(4,10,2)"
      ],
      "execution_count": null,
      "outputs": []
    },
    {
      "cell_type": "code",
      "metadata": {
        "id": "zwiXm_p6HY-G"
      },
      "source": [
        "#validazione_incrociata_score(4,10,1)"
      ],
      "execution_count": null,
      "outputs": []
    },
    {
      "cell_type": "code",
      "metadata": {
        "id": "lSPWcm8tHY-G"
      },
      "source": [
        "#validazione_incrociata_score(4,10,2)"
      ],
      "execution_count": null,
      "outputs": []
    },
    {
      "cell_type": "code",
      "metadata": {
        "id": "4gM4U6rvHY-H"
      },
      "source": [
        "#prova_pipeline(4,2)"
      ],
      "execution_count": null,
      "outputs": []
    },
    {
      "cell_type": "code",
      "metadata": {
        "id": "X9gzSyaCHY-H"
      },
      "source": [
        "#exec_trad(4,1)"
      ],
      "execution_count": null,
      "outputs": []
    },
    {
      "cell_type": "code",
      "metadata": {
        "id": "55JxyTKdHY-H"
      },
      "source": [
        "#exec_trad(4,2)"
      ],
      "execution_count": null,
      "outputs": []
    },
    {
      "cell_type": "code",
      "metadata": {
        "colab": {
          "base_uri": "https://localhost:8080/"
        },
        "id": "h1HyOPWDHY-I",
        "outputId": "ee16b6ae-f546-4608-c092-d62d8a84c744"
      },
      "source": [
        "tuning_KNN(4,5)"
      ],
      "execution_count": null,
      "outputs": [
        {
          "output_type": "stream",
          "name": "stdout",
          "text": [
            "Fitting 5 folds for each of 16 candidates, totalling 80 fits\n"
          ]
        },
        {
          "output_type": "stream",
          "name": "stderr",
          "text": [
            "[Parallel(n_jobs=-1)]: Using backend LokyBackend with 2 concurrent workers.\n"
          ]
        },
        {
          "output_type": "stream",
          "name": "stdout",
          "text": [
            "Accuratezza fase di Cross Validation con dati di Addestramento/Validazione: 0.950\n",
            "{'algorithm': 'auto', 'n_neighbors': 5, 'weights': 'uniform'}\n",
            "Accuratezza con dati di Test: 0.778\n",
            "Risultato sui dati di test:\n",
            "              precision    recall  f1-score   support\n",
            "\n",
            "           0       0.90      0.75      0.82        12\n",
            "           1       0.62      0.83      0.71         6\n",
            "\n",
            "    accuracy                           0.78        18\n",
            "   macro avg       0.76      0.79      0.77        18\n",
            "weighted avg       0.81      0.78      0.78        18\n",
            "\n",
            "[[9 3]\n",
            " [1 5]]\n",
            "Accuratezza Test: 77.000\n",
            "Precisione  Test: 90.000\n",
            "Sensitività Test: 75.000\n",
            "Specificità Test: 83.000\n",
            "F1 score    Test: 81.000\n"
          ]
        },
        {
          "output_type": "stream",
          "name": "stderr",
          "text": [
            "[Parallel(n_jobs=-1)]: Done  80 out of  80 | elapsed:    0.2s finished\n",
            "/usr/local/lib/python3.7/dist-packages/sklearn/model_selection/_search.py:739: DataConversionWarning:\n",
            "\n",
            "A column-vector y was passed when a 1d array was expected. Please change the shape of y to (n_samples, ), for example using ravel().\n",
            "\n"
          ]
        }
      ]
    },
    {
      "cell_type": "code",
      "metadata": {
        "colab": {
          "base_uri": "https://localhost:8080/"
        },
        "id": "bfWquvzaHY-I",
        "outputId": "ec2cd125-4858-471e-9a5b-9771cef4a332"
      },
      "source": [
        "#tuning_MP(4,10)"
      ],
      "execution_count": null,
      "outputs": [
        {
          "output_type": "stream",
          "text": [
            "Fitting 10 folds for each of 64 candidates, totalling 640 fits\n"
          ],
          "name": "stdout"
        },
        {
          "output_type": "stream",
          "text": [
            "[Parallel(n_jobs=-1)]: Using backend LokyBackend with 2 concurrent workers.\n",
            "[Parallel(n_jobs=-1)]: Done  88 tasks      | elapsed:    3.9s\n",
            "[Parallel(n_jobs=-1)]: Done 388 tasks      | elapsed:   16.9s\n"
          ],
          "name": "stderr"
        },
        {
          "output_type": "stream",
          "text": [
            "Accuratezza fase di Cross Validation con dati di Addestramento/Validazione: 0.820\n",
            "I migliori parametri trvati sono :\n",
            " {'activation': 'tanh', 'alpha': 0.0001, 'hidden_layer_sizes': (20,), 'learning_rate': 'constant', 'solver': 'sgd'}\n",
            "Accuratezza con dati di Test: 0.758\n",
            "Risultato sui dati di test:\n",
            "              precision    recall  f1-score   support\n",
            "\n",
            "           0       0.00      0.00      0.00         7\n",
            "           1       0.78      0.96      0.86        26\n",
            "\n",
            "    accuracy                           0.76        33\n",
            "   macro avg       0.39      0.48      0.43        33\n",
            "weighted avg       0.62      0.76      0.68        33\n",
            "\n",
            "[[ 0  7]\n",
            " [ 1 25]]\n",
            "Accuratezza Test: 75.000\n",
            "Precisione  Test: 0.000\n",
            "Sensitività Test: 0.000\n",
            "Specificità Test: 96.000\n",
            "F1 score    Test: 0.000\n"
          ],
          "name": "stdout"
        },
        {
          "output_type": "stream",
          "text": [
            "[Parallel(n_jobs=-1)]: Done 640 out of 640 | elapsed:   27.1s finished\n"
          ],
          "name": "stderr"
        }
      ]
    },
    {
      "cell_type": "code",
      "metadata": {
        "colab": {
          "base_uri": "https://localhost:8080/"
        },
        "id": "TL5QhscEHY-J",
        "outputId": "3c5a4591-e85a-41d2-d34c-0455aee98bde"
      },
      "source": [
        "tuning_LR(4,5)"
      ],
      "execution_count": null,
      "outputs": [
        {
          "output_type": "stream",
          "name": "stdout",
          "text": [
            "Fitting 5 folds for each of 14 candidates, totalling 70 fits\n"
          ]
        },
        {
          "output_type": "stream",
          "name": "stderr",
          "text": [
            "[Parallel(n_jobs=-1)]: Using backend LokyBackend with 2 concurrent workers.\n"
          ]
        },
        {
          "output_type": "stream",
          "name": "stdout",
          "text": [
            "Accuratezza fase di Cross Validation con dati di Addestramento/Validazione: 0.843\n",
            "I migliori parametri trvati sono :\n",
            " {'C': 0.001, 'penalty': 'l2'}\n",
            "Accuratezza con dati di Test: 0.889\n",
            "Risultato sui dati di test:\n",
            "              precision    recall  f1-score   support\n",
            "\n",
            "           0       0.92      0.92      0.92        12\n",
            "           1       0.83      0.83      0.83         6\n",
            "\n",
            "    accuracy                           0.89        18\n",
            "   macro avg       0.88      0.88      0.88        18\n",
            "weighted avg       0.89      0.89      0.89        18\n",
            "\n",
            "[[11  1]\n",
            " [ 1  5]]\n",
            "Accuratezza Test: 88.000\n",
            "Precisione  Test: 91.000\n",
            "Sensitività Test: 91.000\n",
            "Specificità Test: 83.000\n",
            "F1 score    Test: 91.000\n"
          ]
        },
        {
          "output_type": "stream",
          "name": "stderr",
          "text": [
            "[Parallel(n_jobs=-1)]: Done  70 out of  70 | elapsed:    0.4s finished\n",
            "/usr/local/lib/python3.7/dist-packages/sklearn/utils/validation.py:760: DataConversionWarning:\n",
            "\n",
            "A column-vector y was passed when a 1d array was expected. Please change the shape of y to (n_samples, ), for example using ravel().\n",
            "\n"
          ]
        }
      ]
    },
    {
      "cell_type": "code",
      "metadata": {
        "colab": {
          "base_uri": "https://localhost:8080/"
        },
        "id": "j_QeO6A1HY-J",
        "outputId": "830d47b3-56b9-4657-8db1-4101c5d0c59d"
      },
      "source": [
        "#tuning_foresta(4,10)"
      ],
      "execution_count": null,
      "outputs": [
        {
          "output_type": "stream",
          "text": [
            "Fitting 10 folds for each of 20 candidates, totalling 200 fits\n"
          ],
          "name": "stdout"
        },
        {
          "output_type": "stream",
          "text": [
            "[Parallel(n_jobs=-1)]: Using backend LokyBackend with 2 concurrent workers.\n",
            "[Parallel(n_jobs=-1)]: Done 164 tasks      | elapsed:    4.6s\n"
          ],
          "name": "stderr"
        },
        {
          "output_type": "stream",
          "text": [
            "Accuratezza fase di Cross Validation con dati di Addestramento/Validazione: 0.673\n",
            "{'n_estimators': 40, 'min_samples_split': 10, 'min_samples_leaf': 1, 'max_features': 1, 'max_depth': 12, 'criterion': 'gini', 'bootstrap': False}\n",
            "Accuratezza con dati di Test: 0.727\n",
            "Risultato sui dati di test:\n",
            "              precision    recall  f1-score   support\n",
            "\n",
            "           0       0.00      0.00      0.00         7\n",
            "           1       0.77      0.92      0.84        26\n",
            "\n",
            "    accuracy                           0.73        33\n",
            "   macro avg       0.39      0.46      0.42        33\n",
            "weighted avg       0.61      0.73      0.66        33\n",
            "\n",
            "[[ 0  7]\n",
            " [ 2 24]]\n",
            "Accuratezza Test: 72.000\n",
            "Precisione  Test: 0.000\n",
            "Sensitività Test: 0.000\n",
            "Specificità Test: 92.000\n",
            "F1 score    Test: 0.000\n"
          ],
          "name": "stdout"
        },
        {
          "output_type": "stream",
          "text": [
            "[Parallel(n_jobs=-1)]: Done 200 out of 200 | elapsed:    5.3s finished\n"
          ],
          "name": "stderr"
        }
      ]
    },
    {
      "cell_type": "markdown",
      "metadata": {
        "id": "EG7SG6RRHY-J"
      },
      "source": [
        "<br>\n",
        "<br>"
      ]
    },
    {
      "cell_type": "code",
      "metadata": {
        "id": "mPyvxR0bHY-N"
      },
      "source": [
        ""
      ],
      "execution_count": null,
      "outputs": []
    },
    {
      "cell_type": "code",
      "metadata": {
        "id": "h-UdfQKvHY-N"
      },
      "source": [
        ""
      ],
      "execution_count": null,
      "outputs": []
    },
    {
      "cell_type": "code",
      "metadata": {
        "id": "ZNjIrXk4VuOJ"
      },
      "source": [
        ""
      ],
      "execution_count": null,
      "outputs": []
    },
    {
      "cell_type": "markdown",
      "metadata": {
        "id": "UBH2AnBqWXwQ"
      },
      "source": [
        "### 2 hz"
      ]
    },
    {
      "cell_type": "code",
      "metadata": {
        "id": "_YjP2KmCWXwR"
      },
      "source": [
        ""
      ],
      "execution_count": null,
      "outputs": []
    },
    {
      "cell_type": "code",
      "metadata": {
        "id": "fJhpxEUdWXwR"
      },
      "source": [
        "\n",
        "y1=hz2.loc[:,0].to_numpy()\n",
        "y2=hz2.loc[:,1].to_numpy()\n",
        "y3=hz2.loc[:,2].to_numpy()\n",
        "\n"
      ],
      "execution_count": null,
      "outputs": []
    },
    {
      "cell_type": "code",
      "metadata": {
        "id": "7VE9BxR7dZm_"
      },
      "source": [
        ""
      ],
      "execution_count": null,
      "outputs": []
    },
    {
      "cell_type": "code",
      "metadata": {
        "colab": {
          "base_uri": "https://localhost:8080/"
        },
        "id": "BjQgukGzdZ-9",
        "outputId": "94448007-188e-428a-ec2f-2f73b158a9b9"
      },
      "source": [
        "y1,y2,y3,hz2"
      ],
      "execution_count": null,
      "outputs": [
        {
          "output_type": "execute_result",
          "data": {
            "text/plain": [
              "(array([ 26426.78539415,  13869.91318326,  22446.20039679,  63950.29185487,\n",
              "         31537.98079601,  31130.55996601,  28025.54710119,  12353.53125113,\n",
              "         15973.93913271,  24770.09685874,  31648.87997432,  26622.05088163,\n",
              "        296896.23883423,  36568.44382741,  40856.98724407,  24671.74015177,\n",
              "         51208.52829398,  33618.74101188,  31726.57059637]),\n",
              " array([  9041.39279091,   6912.43789668,   5234.99493444,  21506.19514454,\n",
              "         26174.56219764,  12279.73509002,  18927.10137509,  34132.08142086,\n",
              "         11077.11869163,   6197.99072717,  12673.50903248,   9746.07235865,\n",
              "          7492.39228193,  11765.31439852,   9251.52687683,  17383.61716389,\n",
              "        143252.87274653, 133341.52924602,  21503.91171693]),\n",
              " array([ 5704.38756293,  8257.5595305 ,  3551.70122151,  1256.49081804,\n",
              "          784.61156093, 11068.9136488 ,  3997.83955983,  1829.38444123,\n",
              "        31994.65418675,  3695.58795688,   815.87391549,  6651.98229692,\n",
              "         6161.1081621 ,  3296.30585711,   974.3722764 ,   896.35577261,\n",
              "         7672.94361881,  3217.28328165,  1965.09751075]),\n",
              "                 0              1             2\n",
              " 0    26426.785394    9041.392791   5704.387563\n",
              " 1    13869.913183    6912.437897   8257.559530\n",
              " 2    22446.200397    5234.994934   3551.701222\n",
              " 3    63950.291855   21506.195145   1256.490818\n",
              " 4    31537.980796   26174.562198    784.611561\n",
              " 5    31130.559966   12279.735090  11068.913649\n",
              " 6    28025.547101   18927.101375   3997.839560\n",
              " 7    12353.531251   34132.081421   1829.384441\n",
              " 8    15973.939133   11077.118692  31994.654187\n",
              " 9    24770.096859    6197.990727   3695.587957\n",
              " 10   31648.879974   12673.509032    815.873915\n",
              " 11   26622.050882    9746.072359   6651.982297\n",
              " 12  296896.238834    7492.392282   6161.108162\n",
              " 13   36568.443827   11765.314399   3296.305857\n",
              " 14   40856.987244    9251.526877    974.372276\n",
              " 15   24671.740152   17383.617164    896.355773\n",
              " 16   51208.528294  143252.872747   7672.943619\n",
              " 17   33618.741012  133341.529246   3217.283282\n",
              " 18   31726.570596   21503.911717   1965.097511)"
            ]
          },
          "metadata": {},
          "execution_count": 61
        }
      ]
    },
    {
      "cell_type": "code",
      "metadata": {
        "id": "bRE7Vk82WXwR"
      },
      "source": [
        "x1 = np.linspace(0, 19, len(y1), endpoint=True)\n",
        "x2 = np.linspace(0, 19,len(y2), endpoint=True)\n",
        "x3 = np.linspace(0, 19,len(y3), endpoint=True)"
      ],
      "execution_count": null,
      "outputs": []
    },
    {
      "cell_type": "code",
      "metadata": {
        "colab": {
          "base_uri": "https://localhost:8080/",
          "height": 265
        },
        "id": "_Y0DKzX4WXwS",
        "outputId": "b5dae1d7-1a11-4f62-d48e-84048b52d9f0"
      },
      "source": [
        "plt.plot(x1, y1, 'g')\n",
        "plt.plot(x2, y2, 'b')\n",
        "plt.plot(x3, y3, 'r')\n",
        "#plt.ylim(0,300000)\n",
        "plt.show()"
      ],
      "execution_count": null,
      "outputs": [
        {
          "output_type": "display_data",
          "data": {
            "image/png": "[encoded data removed]",
            "text/plain": [
              "<Figure size 432x288 with 1 Axes>"
            ]
          },
          "metadata": {
            "needs_background": "light"
          }
        }
      ]
    },
    {
      "cell_type": "code",
      "metadata": {
        "id": "6i8M4oHwWXwS"
      },
      "source": [
        ""
      ],
      "execution_count": null,
      "outputs": []
    },
    {
      "cell_type": "code",
      "metadata": {
        "id": "xmduIy0AWXwS"
      },
      "source": [
        "matriceAD = np.zeros((len(y1),2))\n",
        "matriceMCI = np.zeros((len(y2),2))\n",
        "matriceHC = np.zeros((len(y3),2))\n"
      ],
      "execution_count": null,
      "outputs": []
    },
    {
      "cell_type": "code",
      "metadata": {
        "id": "-vJHq-hYWXwS"
      },
      "source": [
        "matriceADHC = np.zeros((len(y1)+len(y3),2))\n",
        "matriceMCIHC = np.zeros((len(y2)+len(y3),2))\n",
        "matriceADMCI = np.zeros((len(y1)+len(y2),2))\n",
        "matriceCASEHC = np.zeros((len(y2)+len(y3)+len(y1),2))"
      ],
      "execution_count": null,
      "outputs": []
    },
    {
      "cell_type": "code",
      "metadata": {
        "id": "MUHjbfUCWXwT"
      },
      "source": [
        "for i in range(len(y1)):\n",
        "      matriceAD[i,0]=y1[i]\n",
        "      matriceAD[i,1]=1"
      ],
      "execution_count": null,
      "outputs": []
    },
    {
      "cell_type": "code",
      "metadata": {
        "id": "ErdVNxXMWXwT"
      },
      "source": [
        "for i in range(len(y2)):\n",
        "      matriceMCI[i,0]=y2[i]\n",
        "      matriceMCI[i,1]=2"
      ],
      "execution_count": null,
      "outputs": []
    },
    {
      "cell_type": "code",
      "metadata": {
        "id": "jGuH8LEDWXwT"
      },
      "source": [
        "for i in range(len(y3)):\n",
        "      matriceHC[i,0]=y3[i]\n",
        "      matriceHC[i,1]=3"
      ],
      "execution_count": null,
      "outputs": []
    },
    {
      "cell_type": "code",
      "metadata": {
        "id": "FR0wOFcfWXwU"
      },
      "source": [
        "AD=pd.DataFrame(matriceAD)\n",
        "HC=pd.DataFrame(matriceHC)\n",
        "MCI=pd.DataFrame(matriceMCI)"
      ],
      "execution_count": null,
      "outputs": []
    },
    {
      "cell_type": "code",
      "metadata": {
        "id": "YfiMTfZNWXwU"
      },
      "source": [
        "ADHC=AD.copy()\n",
        "ADHC=ADHC.append(HC,ignore_index=True)"
      ],
      "execution_count": null,
      "outputs": []
    },
    {
      "cell_type": "code",
      "metadata": {
        "id": "1uEPfzeFWXwU"
      },
      "source": [
        "ADMCI=AD.copy()\n",
        "ADMCI=ADMCI.append(MCI,ignore_index=True)"
      ],
      "execution_count": null,
      "outputs": []
    },
    {
      "cell_type": "code",
      "metadata": {
        "id": "foHS2y6mWXwU"
      },
      "source": [
        "MCIHC=MCI.copy()\n",
        "MCIHC=MCIHC.append(HC,ignore_index=True)"
      ],
      "execution_count": null,
      "outputs": []
    },
    {
      "cell_type": "code",
      "metadata": {
        "id": "M2LLSw9AWXwV"
      },
      "source": [
        "CASEHC=AD.copy()\n",
        "CASEHC=CASEHC.append(MCI,ignore_index=True)\n",
        "CASEHC=CASEHC.append(HC,ignore_index=True)"
      ],
      "execution_count": null,
      "outputs": []
    },
    {
      "cell_type": "code",
      "metadata": {
        "id": "fWygkZ0cWXwV"
      },
      "source": [
        ""
      ],
      "execution_count": null,
      "outputs": []
    },
    {
      "cell_type": "markdown",
      "metadata": {
        "id": "Z1pypxgwWXwV"
      },
      "source": [
        "#### Caso1 AD vs HCF"
      ]
    },
    {
      "cell_type": "code",
      "metadata": {
        "id": "Zr_gVW49WXwV"
      },
      "source": [
        "df=ADHC.loc[:,0]\n",
        "\n",
        "X = df.to_numpy()\n",
        "\n",
        "Y = ADHC.loc[:,1]\n",
        "y = Y.to_numpy()"
      ],
      "execution_count": null,
      "outputs": []
    },
    {
      "cell_type": "code",
      "metadata": {
        "id": "l15vfWh5WXwW"
      },
      "source": [
        "y = np.where(y == 1, 1, 0)"
      ],
      "execution_count": null,
      "outputs": []
    },
    {
      "cell_type": "code",
      "metadata": {
        "colab": {
          "base_uri": "https://localhost:8080/"
        },
        "id": "QA-DR-IiWXwW",
        "outputId": "5f6b1fc3-5cf4-45d0-9359-a76fa24fa265"
      },
      "source": [
        "X,y"
      ],
      "execution_count": null,
      "outputs": [
        {
          "output_type": "execute_result",
          "data": {
            "text/plain": [
              "(array([ 26426.78539415,  13869.91318326,  22446.20039679,  63950.29185487,\n",
              "         31537.98079601,  31130.55996601,  28025.54710119,  12353.53125113,\n",
              "         15973.93913271,  24770.09685874,  31648.87997432,  26622.05088163,\n",
              "        296896.23883423,  36568.44382741,  40856.98724407,  24671.74015177,\n",
              "         51208.52829398,  33618.74101188,  31726.57059637,   5704.38756293,\n",
              "          8257.5595305 ,   3551.70122151,   1256.49081804,    784.61156093,\n",
              "         11068.9136488 ,   3997.83955983,   1829.38444123,  31994.65418675,\n",
              "          3695.58795688,    815.87391549,   6651.98229692,   6161.1081621 ,\n",
              "          3296.30585711,    974.3722764 ,    896.35577261,   7672.94361881,\n",
              "          3217.28328165,   1965.09751075]),\n",
              " array([1, 1, 1, 1, 1, 1, 1, 1, 1, 1, 1, 1, 1, 1, 1, 1, 1, 1, 1, 0, 0, 0,\n",
              "        0, 0, 0, 0, 0, 0, 0, 0, 0, 0, 0, 0, 0, 0, 0, 0]))"
            ]
          },
          "metadata": {},
          "execution_count": 76
        }
      ]
    },
    {
      "cell_type": "code",
      "metadata": {
        "id": "3KPmLbXAWXwW"
      },
      "source": [
        "df=ADHC.loc[:,0]\n",
        "\n",
        "X = df.to_numpy()\n",
        "\n",
        "Y = ADHC.loc[:,1]\n",
        "y = Y.to_numpy()\n",
        "y = np.where(y == 1, 1, 0)\n",
        "#from sklearn.model_selection import train_test_split\n",
        "\n",
        "\n",
        "X_train, X_test, y_train, y_test = train_test_split(X, y, test_size=0.3,stratify=y,random_state=42)\n",
        "\n",
        "#pca = PCA(n_components=2)\n",
        "\n",
        "#X_train_pca = pca.fit_transform(X_train)\n",
        "#X_test_pca = pca.transform(X_test)\n",
        "\n",
        "X_train_caso1=X_train\n",
        "X_test_caso1=X_test\n",
        "y_train_caso1=y_train\n",
        "y_test_caso1=y_test\n",
        "\n"
      ],
      "execution_count": null,
      "outputs": []
    },
    {
      "cell_type": "code",
      "metadata": {
        "id": "sMh3GzXNWXwW"
      },
      "source": [
        "X_train_caso1=X_train_caso1.reshape(-1,1)\n",
        "X_test_caso1=X_test_caso1.reshape(-1,1)\n",
        "y_train_caso1=y_train_caso1.reshape(-1,1)\n",
        "y_test_caso1=y_test_caso1.reshape(-1,1)\n"
      ],
      "execution_count": null,
      "outputs": []
    },
    {
      "cell_type": "code",
      "metadata": {
        "id": "Q1rG6AS7WXwX"
      },
      "source": [
        ""
      ],
      "execution_count": null,
      "outputs": []
    },
    {
      "cell_type": "code",
      "metadata": {
        "colab": {
          "base_uri": "https://localhost:8080/"
        },
        "id": "GS17Tg-vWXwX",
        "outputId": "0ea774e2-62d9-45bb-a59d-8071090a5530"
      },
      "source": [
        "tuning_albero_decisione(1,5)"
      ],
      "execution_count": null,
      "outputs": [
        {
          "output_type": "stream",
          "name": "stdout",
          "text": [
            "Fitting 5 folds for each of 216 candidates, totalling 1080 fits\n"
          ]
        },
        {
          "output_type": "stream",
          "name": "stderr",
          "text": [
            "[Parallel(n_jobs=-1)]: Using backend LokyBackend with 2 concurrent workers.\n"
          ]
        },
        {
          "output_type": "stream",
          "name": "stdout",
          "text": [
            "Accuratezza fase di Cross Validation con dati di Addestramento/Validazione: 0.893\n",
            "{'criterion': 'gini', 'max_depth': 3, 'min_samples_leaf': 3, 'min_samples_split': 2, 'min_weight_fraction_leaf': 0}\n",
            "Accuratezza con dati di Test: 1.000\n",
            "Risultato sui dati di test:\n",
            "              precision    recall  f1-score   support\n",
            "\n",
            "           0       1.00      1.00      1.00         6\n",
            "           1       1.00      1.00      1.00         6\n",
            "\n",
            "    accuracy                           1.00        12\n",
            "   macro avg       1.00      1.00      1.00        12\n",
            "weighted avg       1.00      1.00      1.00        12\n",
            "\n",
            "[[6 0]\n",
            " [0 6]]\n",
            "Accuratezza Test: 100.000\n",
            "Precisione  Test: 100.000\n",
            "Sensitività Test: 100.000\n",
            "Specificità Test: 100.000\n",
            "F1 score    Test: 100.000\n"
          ]
        },
        {
          "output_type": "stream",
          "name": "stderr",
          "text": [
            "[Parallel(n_jobs=-1)]: Done 937 tasks      | elapsed:    1.4s\n",
            "[Parallel(n_jobs=-1)]: Done 1077 out of 1080 | elapsed:    1.4s remaining:    0.0s\n",
            "[Parallel(n_jobs=-1)]: Done 1080 out of 1080 | elapsed:    1.4s finished\n"
          ]
        }
      ]
    },
    {
      "cell_type": "code",
      "metadata": {
        "colab": {
          "base_uri": "https://localhost:8080/"
        },
        "id": "8LGqFL95WXwX",
        "outputId": "e791a743-d2b4-4e6d-d187-6e8ee9720da2"
      },
      "source": [
        "tuning_SVM(1,5)"
      ],
      "execution_count": null,
      "outputs": [
        {
          "output_type": "stream",
          "name": "stderr",
          "text": [
            "/usr/local/lib/python3.7/dist-packages/sklearn/model_selection/_search.py:281: UserWarning:\n",
            "\n",
            "The total space of parameters 2 is smaller than n_iter=20. Running 2 iterations. For exhaustive searches, use GridSearchCV.\n",
            "\n",
            "[Parallel(n_jobs=-1)]: Using backend LokyBackend with 2 concurrent workers.\n"
          ]
        },
        {
          "output_type": "stream",
          "name": "stdout",
          "text": [
            "Fitting 5 folds for each of 2 candidates, totalling 10 fits\n"
          ]
        },
        {
          "output_type": "stream",
          "name": "stderr",
          "text": [
            "[Parallel(n_jobs=-1)]: Done   7 out of  10 | elapsed:   35.7s remaining:   15.3s\n",
            "[Parallel(n_jobs=-1)]: Done  10 out of  10 | elapsed:   45.5s finished\n",
            "/usr/local/lib/python3.7/dist-packages/sklearn/utils/validation.py:760: DataConversionWarning:\n",
            "\n",
            "A column-vector y was passed when a 1d array was expected. Please change the shape of y to (n_samples, ), for example using ravel().\n",
            "\n"
          ]
        },
        {
          "output_type": "stream",
          "name": "stdout",
          "text": [
            "Accuratezza fase di Cross Validation con dati di Addestramento/Validazione: 0.893\n",
            "{'kernel': 'linear'}\n",
            "Accuratezza con dati di Test: 1.000\n",
            "Risultato sui dati di test:\n",
            "              precision    recall  f1-score   support\n",
            "\n",
            "           0       1.00      1.00      1.00         6\n",
            "           1       1.00      1.00      1.00         6\n",
            "\n",
            "    accuracy                           1.00        12\n",
            "   macro avg       1.00      1.00      1.00        12\n",
            "weighted avg       1.00      1.00      1.00        12\n",
            "\n",
            "[[6 0]\n",
            " [0 6]]\n",
            "Accuratezza Test: 100.000\n",
            "Precisione  Test: 100.000\n",
            "Sensitività Test: 100.000\n",
            "Specificità Test: 100.000\n",
            "F1 score    Test: 100.000\n"
          ]
        }
      ]
    },
    {
      "cell_type": "code",
      "metadata": {
        "id": "MDcLrtvoWXwX"
      },
      "source": [
        "#tuning_foresta(1,10)"
      ],
      "execution_count": null,
      "outputs": []
    },
    {
      "cell_type": "code",
      "metadata": {
        "id": "oX9R4Yr_WXwY"
      },
      "source": [
        "#tuning_albero_decisione_CV(1,10)"
      ],
      "execution_count": null,
      "outputs": []
    },
    {
      "cell_type": "code",
      "metadata": {
        "id": "ZpYNgWqCWXwY"
      },
      "source": [
        "#tuning_SVM_CV(1,10)"
      ],
      "execution_count": null,
      "outputs": []
    },
    {
      "cell_type": "code",
      "metadata": {
        "id": "XenK8ERgWXwY"
      },
      "source": [
        "#validazione_incrociata_kfold(1,10,1)"
      ],
      "execution_count": null,
      "outputs": []
    },
    {
      "cell_type": "code",
      "metadata": {
        "id": "43I3OSs7WXwY"
      },
      "source": [
        "#validazione_incrociata_kfold(1,10,2)"
      ],
      "execution_count": null,
      "outputs": []
    },
    {
      "cell_type": "code",
      "metadata": {
        "id": "Q3vcvDB1WXwY"
      },
      "source": [
        "#validazione_incrociata_score(1,10,1)"
      ],
      "execution_count": null,
      "outputs": []
    },
    {
      "cell_type": "code",
      "metadata": {
        "id": "FIjaq9diWXwZ"
      },
      "source": [
        "#validazione_incrociata_score(1,10,2)"
      ],
      "execution_count": null,
      "outputs": []
    },
    {
      "cell_type": "code",
      "metadata": {
        "id": "GRqklkHMWXwZ"
      },
      "source": [
        "#prova_pipeline(1,2)"
      ],
      "execution_count": null,
      "outputs": []
    },
    {
      "cell_type": "code",
      "metadata": {
        "id": "jrC2sflhWXwZ"
      },
      "source": [
        ""
      ],
      "execution_count": null,
      "outputs": []
    },
    {
      "cell_type": "code",
      "metadata": {
        "colab": {
          "base_uri": "https://localhost:8080/"
        },
        "id": "1nkFo5QyWXwa",
        "outputId": "cb3405eb-1afd-4c32-e0c4-fe1419eb1cc1"
      },
      "source": [
        "tuning_KNN(1,5)"
      ],
      "execution_count": null,
      "outputs": [
        {
          "output_type": "stream",
          "name": "stdout",
          "text": [
            "Fitting 5 folds for each of 16 candidates, totalling 80 fits\n"
          ]
        },
        {
          "output_type": "stream",
          "name": "stderr",
          "text": [
            "[Parallel(n_jobs=-1)]: Using backend LokyBackend with 2 concurrent workers.\n"
          ]
        },
        {
          "output_type": "stream",
          "name": "stdout",
          "text": [
            "Accuratezza fase di Cross Validation con dati di Addestramento/Validazione: 0.893\n",
            "{'algorithm': 'auto', 'n_neighbors': 5, 'weights': 'uniform'}\n",
            "Accuratezza con dati di Test: 0.917\n",
            "Risultato sui dati di test:\n",
            "              precision    recall  f1-score   support\n",
            "\n",
            "           0       0.86      1.00      0.92         6\n",
            "           1       1.00      0.83      0.91         6\n",
            "\n",
            "    accuracy                           0.92        12\n",
            "   macro avg       0.93      0.92      0.92        12\n",
            "weighted avg       0.93      0.92      0.92        12\n",
            "\n",
            "[[6 0]\n",
            " [1 5]]\n",
            "Accuratezza Test: 91.000\n",
            "Precisione  Test: 85.000\n",
            "Sensitività Test: 100.000\n",
            "Specificità Test: 83.000\n",
            "F1 score    Test: 91.000\n"
          ]
        },
        {
          "output_type": "stream",
          "name": "stderr",
          "text": [
            "[Parallel(n_jobs=-1)]: Done  80 out of  80 | elapsed:    0.3s finished\n",
            "/usr/local/lib/python3.7/dist-packages/sklearn/model_selection/_search.py:739: DataConversionWarning:\n",
            "\n",
            "A column-vector y was passed when a 1d array was expected. Please change the shape of y to (n_samples, ), for example using ravel().\n",
            "\n"
          ]
        }
      ]
    },
    {
      "cell_type": "code",
      "metadata": {
        "id": "Z_y2x6x_WXwa"
      },
      "source": [
        "#tuning_MP(1,5)"
      ],
      "execution_count": null,
      "outputs": []
    },
    {
      "cell_type": "code",
      "metadata": {
        "colab": {
          "base_uri": "https://localhost:8080/"
        },
        "id": "z6pmde81WXwb",
        "outputId": "9305ba02-726c-4c7c-bfd0-a1b4202cd6a9"
      },
      "source": [
        "tuning_LR(1,5)"
      ],
      "execution_count": null,
      "outputs": [
        {
          "output_type": "stream",
          "name": "stderr",
          "text": [
            "[Parallel(n_jobs=-1)]: Using backend LokyBackend with 2 concurrent workers.\n"
          ]
        },
        {
          "output_type": "stream",
          "name": "stdout",
          "text": [
            "Fitting 5 folds for each of 14 candidates, totalling 70 fits\n",
            "Accuratezza fase di Cross Validation con dati di Addestramento/Validazione: 0.773\n",
            "I migliori parametri trvati sono :\n",
            " {'C': 0.001, 'penalty': 'l2'}\n",
            "Accuratezza con dati di Test: 0.917\n",
            "Risultato sui dati di test:\n",
            "              precision    recall  f1-score   support\n",
            "\n",
            "           0       0.86      1.00      0.92         6\n",
            "           1       1.00      0.83      0.91         6\n",
            "\n",
            "    accuracy                           0.92        12\n",
            "   macro avg       0.93      0.92      0.92        12\n",
            "weighted avg       0.93      0.92      0.92        12\n",
            "\n",
            "[[6 0]\n",
            " [1 5]]\n",
            "Accuratezza Test: 91.000\n",
            "Precisione  Test: 85.000\n",
            "Sensitività Test: 100.000\n",
            "Specificità Test: 83.000\n",
            "F1 score    Test: 91.000\n"
          ]
        },
        {
          "output_type": "stream",
          "name": "stderr",
          "text": [
            "[Parallel(n_jobs=-1)]: Done  70 out of  70 | elapsed:    0.4s finished\n",
            "/usr/local/lib/python3.7/dist-packages/sklearn/utils/validation.py:760: DataConversionWarning:\n",
            "\n",
            "A column-vector y was passed when a 1d array was expected. Please change the shape of y to (n_samples, ), for example using ravel().\n",
            "\n"
          ]
        }
      ]
    },
    {
      "cell_type": "code",
      "metadata": {
        "id": "N9Bvyt9lWXwb"
      },
      "source": [
        "#tuning_foresta(1,5)"
      ],
      "execution_count": null,
      "outputs": []
    },
    {
      "cell_type": "code",
      "metadata": {
        "id": "ZFRWZTlxWXwb"
      },
      "source": [
        ""
      ],
      "execution_count": null,
      "outputs": []
    },
    {
      "cell_type": "markdown",
      "metadata": {
        "id": "h5gLx-eEWXwc"
      },
      "source": [
        "#### Caso2 AD vs MCI"
      ]
    },
    {
      "cell_type": "code",
      "metadata": {
        "id": "YO2kQBbpWXwc"
      },
      "source": [
        ""
      ],
      "execution_count": null,
      "outputs": []
    },
    {
      "cell_type": "code",
      "metadata": {
        "id": "3zGQhB8IWXwc"
      },
      "source": [
        "\n",
        "df=ADMCI.loc[:,0]\n",
        "\n",
        "X = df.to_numpy()\n",
        "\n",
        "Y = ADMCI.loc[:,1]\n",
        "y = Y.to_numpy()\n",
        "y = np.where(y == 1, 1, 0)\n",
        "#from sklearn.model_selection import train_test_split\n",
        "\n",
        "X_train, X_test, y_train, y_test = train_test_split(X, y, test_size=0.3,stratify=y,random_state=42)\n",
        "\n",
        "#pca = PCA(n_components=5)\n",
        "\n",
        "#X_train_pca = pca.fit_transform(X_train)\n",
        "#X_test_pca = pca.transform(X_test)\n",
        "\n",
        "X_train_caso2=X_train\n",
        "X_test_caso2=X_test\n",
        "y_train_caso2=y_train\n",
        "y_test_caso2=y_test"
      ],
      "execution_count": null,
      "outputs": []
    },
    {
      "cell_type": "code",
      "metadata": {
        "id": "SFglF8IIWXwc"
      },
      "source": [
        "X_train_caso2=X_train_caso2.reshape(-1,1)\n",
        "X_test_caso2=X_test_caso2.reshape(-1,1)\n",
        "y_train_caso2=y_train_caso2.reshape(-1,1)\n",
        "y_test_caso2=y_test_caso2.reshape(-1,1)"
      ],
      "execution_count": null,
      "outputs": []
    },
    {
      "cell_type": "code",
      "metadata": {
        "colab": {
          "base_uri": "https://localhost:8080/"
        },
        "id": "OUHzIcNrWXwd",
        "outputId": "e0289d70-f6c7-4831-e72c-a5cc076145fd"
      },
      "source": [
        "tuning_albero_decisione(2,5)"
      ],
      "execution_count": null,
      "outputs": [
        {
          "output_type": "stream",
          "name": "stderr",
          "text": [
            "[Parallel(n_jobs=-1)]: Using backend LokyBackend with 2 concurrent workers.\n"
          ]
        },
        {
          "output_type": "stream",
          "name": "stdout",
          "text": [
            "Fitting 5 folds for each of 216 candidates, totalling 1080 fits\n",
            "Accuratezza fase di Cross Validation con dati di Addestramento/Validazione: 0.740\n",
            "{'criterion': 'entropy', 'max_depth': 3, 'min_samples_leaf': 1, 'min_samples_split': 2, 'min_weight_fraction_leaf': 0}\n",
            "Accuratezza con dati di Test: 0.667\n",
            "Risultato sui dati di test:\n",
            "              precision    recall  f1-score   support\n",
            "\n",
            "           0       0.67      0.67      0.67         6\n",
            "           1       0.67      0.67      0.67         6\n",
            "\n",
            "    accuracy                           0.67        12\n",
            "   macro avg       0.67      0.67      0.67        12\n",
            "weighted avg       0.67      0.67      0.67        12\n",
            "\n",
            "[[4 2]\n",
            " [2 4]]\n",
            "Accuratezza Test: 66.000\n",
            "Precisione  Test: 66.000\n",
            "Sensitività Test: 66.000\n",
            "Specificità Test: 66.000\n",
            "F1 score    Test: 66.000\n"
          ]
        },
        {
          "output_type": "stream",
          "name": "stderr",
          "text": [
            "[Parallel(n_jobs=-1)]: Done 1062 tasks      | elapsed:    1.4s\n",
            "[Parallel(n_jobs=-1)]: Done 1077 out of 1080 | elapsed:    1.4s remaining:    0.0s\n",
            "[Parallel(n_jobs=-1)]: Done 1080 out of 1080 | elapsed:    1.4s finished\n"
          ]
        }
      ]
    },
    {
      "cell_type": "code",
      "metadata": {
        "colab": {
          "base_uri": "https://localhost:8080/"
        },
        "id": "85heyIPSWXwd",
        "outputId": "27b4fd47-1735-4e4e-cf2a-398c90164c9a"
      },
      "source": [
        "tuning_SVM(2,5)"
      ],
      "execution_count": null,
      "outputs": [
        {
          "output_type": "stream",
          "name": "stderr",
          "text": [
            "/usr/local/lib/python3.7/dist-packages/sklearn/model_selection/_search.py:281: UserWarning:\n",
            "\n",
            "The total space of parameters 2 is smaller than n_iter=20. Running 2 iterations. For exhaustive searches, use GridSearchCV.\n",
            "\n",
            "[Parallel(n_jobs=-1)]: Using backend LokyBackend with 2 concurrent workers.\n"
          ]
        },
        {
          "output_type": "stream",
          "name": "stdout",
          "text": [
            "Fitting 5 folds for each of 2 candidates, totalling 10 fits\n",
            "Accuratezza fase di Cross Validation con dati di Addestramento/Validazione: 0.740\n",
            "{'kernel': 'rbf'}\n",
            "Accuratezza con dati di Test: 0.667\n",
            "Risultato sui dati di test:\n",
            "              precision    recall  f1-score   support\n",
            "\n",
            "           0       0.67      0.67      0.67         6\n",
            "           1       0.67      0.67      0.67         6\n",
            "\n",
            "    accuracy                           0.67        12\n",
            "   macro avg       0.67      0.67      0.67        12\n",
            "weighted avg       0.67      0.67      0.67        12\n",
            "\n",
            "[[4 2]\n",
            " [2 4]]\n",
            "Accuratezza Test: 66.000\n",
            "Precisione  Test: 66.000\n",
            "Sensitività Test: 66.000\n",
            "Specificità Test: 66.000\n",
            "F1 score    Test: 66.000\n"
          ]
        },
        {
          "output_type": "stream",
          "name": "stderr",
          "text": [
            "[Parallel(n_jobs=-1)]: Done  10 out of  10 | elapsed:   29.5s finished\n",
            "/usr/local/lib/python3.7/dist-packages/sklearn/utils/validation.py:760: DataConversionWarning:\n",
            "\n",
            "A column-vector y was passed when a 1d array was expected. Please change the shape of y to (n_samples, ), for example using ravel().\n",
            "\n"
          ]
        }
      ]
    },
    {
      "cell_type": "code",
      "metadata": {
        "id": "VOaVE2ppWXwd"
      },
      "source": [
        "#tuning_foresta(2,10)"
      ],
      "execution_count": null,
      "outputs": []
    },
    {
      "cell_type": "code",
      "metadata": {
        "id": "X5IcH79UWXwd"
      },
      "source": [
        "#tuning_albero_decisione_CV(2,10)"
      ],
      "execution_count": null,
      "outputs": []
    },
    {
      "cell_type": "code",
      "metadata": {
        "id": "u3opof0_WXwe"
      },
      "source": [
        "#tuning_SVM_CV(2,10)"
      ],
      "execution_count": null,
      "outputs": []
    },
    {
      "cell_type": "code",
      "metadata": {
        "id": "SfPax6p0WXwe"
      },
      "source": [
        "#validazione_incrociata_kfold(2,10,1)"
      ],
      "execution_count": null,
      "outputs": []
    },
    {
      "cell_type": "code",
      "metadata": {
        "id": "OcmBQc4AWXwe"
      },
      "source": [
        "#validazione_incrociata_kfold(2,10,2)"
      ],
      "execution_count": null,
      "outputs": []
    },
    {
      "cell_type": "code",
      "metadata": {
        "id": "AUDk00v2WXwe"
      },
      "source": [
        "#validazione_incrociata_score(2,10,1)"
      ],
      "execution_count": null,
      "outputs": []
    },
    {
      "cell_type": "code",
      "metadata": {
        "id": "mFW88CFoWXwf"
      },
      "source": [
        "#validazione_incrociata_score(2,10,2)"
      ],
      "execution_count": null,
      "outputs": []
    },
    {
      "cell_type": "code",
      "metadata": {
        "id": "Ckr_ytVWWXwf"
      },
      "source": [
        "#prova_pipeline(2,2)"
      ],
      "execution_count": null,
      "outputs": []
    },
    {
      "cell_type": "code",
      "metadata": {
        "id": "-q2ekvXpWXwf"
      },
      "source": [
        "#exec_trad(2,1)"
      ],
      "execution_count": null,
      "outputs": []
    },
    {
      "cell_type": "code",
      "metadata": {
        "id": "IiiShL7gWXwg"
      },
      "source": [
        "#exec_trad(2,2)"
      ],
      "execution_count": null,
      "outputs": []
    },
    {
      "cell_type": "code",
      "metadata": {
        "colab": {
          "base_uri": "https://localhost:8080/"
        },
        "id": "tORM1c-_WXwg",
        "outputId": "d90b1d63-7c19-4954-a697-4d46ec6ba555"
      },
      "source": [
        "tuning_KNN(2,5)"
      ],
      "execution_count": null,
      "outputs": [
        {
          "output_type": "stream",
          "name": "stderr",
          "text": [
            "[Parallel(n_jobs=-1)]: Using backend LokyBackend with 2 concurrent workers.\n"
          ]
        },
        {
          "output_type": "stream",
          "name": "stdout",
          "text": [
            "Fitting 5 folds for each of 16 candidates, totalling 80 fits\n",
            "Accuratezza fase di Cross Validation con dati di Addestramento/Validazione: 0.740\n",
            "{'algorithm': 'auto', 'n_neighbors': 5, 'weights': 'distance'}\n",
            "Accuratezza con dati di Test: 0.667\n",
            "Risultato sui dati di test:\n",
            "              precision    recall  f1-score   support\n",
            "\n",
            "           0       0.67      0.67      0.67         6\n",
            "           1       0.67      0.67      0.67         6\n",
            "\n",
            "    accuracy                           0.67        12\n",
            "   macro avg       0.67      0.67      0.67        12\n",
            "weighted avg       0.67      0.67      0.67        12\n",
            "\n",
            "[[4 2]\n",
            " [2 4]]\n",
            "Accuratezza Test: 66.000\n",
            "Precisione  Test: 66.000\n",
            "Sensitività Test: 66.000\n",
            "Specificità Test: 66.000\n",
            "F1 score    Test: 66.000\n"
          ]
        },
        {
          "output_type": "stream",
          "name": "stderr",
          "text": [
            "[Parallel(n_jobs=-1)]: Done  80 out of  80 | elapsed:    0.3s finished\n",
            "/usr/local/lib/python3.7/dist-packages/sklearn/model_selection/_search.py:739: DataConversionWarning:\n",
            "\n",
            "A column-vector y was passed when a 1d array was expected. Please change the shape of y to (n_samples, ), for example using ravel().\n",
            "\n"
          ]
        }
      ]
    },
    {
      "cell_type": "code",
      "metadata": {
        "id": "faXchZD0WXwg"
      },
      "source": [
        "#tuning_MP(2,10)"
      ],
      "execution_count": null,
      "outputs": []
    },
    {
      "cell_type": "code",
      "metadata": {
        "colab": {
          "base_uri": "https://localhost:8080/"
        },
        "id": "TLiLtmVTWXwh",
        "outputId": "bae301d0-c56d-49f6-d179-16baf4d85a51"
      },
      "source": [
        "tuning_LR(2,5)"
      ],
      "execution_count": null,
      "outputs": [
        {
          "output_type": "stream",
          "name": "stderr",
          "text": [
            "[Parallel(n_jobs=-1)]: Using backend LokyBackend with 2 concurrent workers.\n"
          ]
        },
        {
          "output_type": "stream",
          "name": "stdout",
          "text": [
            "Fitting 5 folds for each of 14 candidates, totalling 70 fits\n",
            "Accuratezza fase di Cross Validation con dati di Addestramento/Validazione: 0.500\n",
            "I migliori parametri trvati sono :\n",
            " {'C': 0.001, 'penalty': 'l2'}\n",
            "Accuratezza con dati di Test: 0.500\n",
            "Risultato sui dati di test:\n",
            "              precision    recall  f1-score   support\n",
            "\n",
            "           0       0.00      0.00      0.00         6\n",
            "           1       0.50      1.00      0.67         6\n",
            "\n",
            "    accuracy                           0.50        12\n",
            "   macro avg       0.25      0.50      0.33        12\n",
            "weighted avg       0.25      0.50      0.33        12\n",
            "\n",
            "[[0 6]\n",
            " [0 6]]\n",
            "Accuratezza Test: 50.000\n",
            "Precisione  Test: 0.000\n",
            "Sensitività Test: 0.000\n",
            "Specificità Test: 100.000\n",
            "F1 score    Test: 0.000\n"
          ]
        },
        {
          "output_type": "stream",
          "name": "stderr",
          "text": [
            "[Parallel(n_jobs=-1)]: Done  70 out of  70 | elapsed:    0.2s finished\n",
            "/usr/local/lib/python3.7/dist-packages/sklearn/utils/validation.py:760: DataConversionWarning:\n",
            "\n",
            "A column-vector y was passed when a 1d array was expected. Please change the shape of y to (n_samples, ), for example using ravel().\n",
            "\n",
            "/usr/local/lib/python3.7/dist-packages/sklearn/metrics/_classification.py:1272: UndefinedMetricWarning:\n",
            "\n",
            "Precision and F-score are ill-defined and being set to 0.0 in labels with no predicted samples. Use `zero_division` parameter to control this behavior.\n",
            "\n"
          ]
        }
      ]
    },
    {
      "cell_type": "markdown",
      "metadata": {
        "id": "1XYf9_7GWXwh"
      },
      "source": [
        "<br>\n",
        "<br>"
      ]
    },
    {
      "cell_type": "markdown",
      "metadata": {
        "id": "Oy8smfMpWXwh"
      },
      "source": [
        "<br>\n",
        "<br>"
      ]
    },
    {
      "cell_type": "code",
      "metadata": {
        "id": "ZpFtd-VAWXwi"
      },
      "source": [
        "#tuning_foresta(2,10)"
      ],
      "execution_count": null,
      "outputs": []
    },
    {
      "cell_type": "markdown",
      "metadata": {
        "id": "feG7TzKVWXwi"
      },
      "source": [
        "#### Caso3 MCI vs HCF"
      ]
    },
    {
      "cell_type": "code",
      "metadata": {
        "id": "_1fX8zdLWXwi"
      },
      "source": [
        ""
      ],
      "execution_count": null,
      "outputs": []
    },
    {
      "cell_type": "code",
      "metadata": {
        "id": "d7vYeT7DWXwi"
      },
      "source": [
        "\n",
        "df=MCIHC.loc[:,0]\n",
        "\n",
        "X = df.to_numpy()\n",
        "\n",
        "Y = MCIHC.loc[:,1]\n",
        "y = Y.to_numpy()\n",
        "y = np.where(y == 2, 1, 0)\n",
        "\n",
        "#from sklearn.model_selection import train_test_split\n",
        "\n",
        "\n",
        "X_train, X_test, y_train, y_test = train_test_split(X, y, test_size=0.3,stratify=y,random_state=42)\n",
        "\n",
        "#pca = PCA(n_components=2)\n",
        "\n",
        "#X_train_pca = pca.fit_transform(X_train)\n",
        "#X_test_pca = pca.transform(X_test)\n",
        "\n",
        "X_train_caso3=X_train\n",
        "X_test_caso3=X_test\n",
        "y_train_caso3=y_train\n",
        "y_test_caso3=y_test"
      ],
      "execution_count": null,
      "outputs": []
    },
    {
      "cell_type": "code",
      "metadata": {
        "id": "s8Kv5c06WXwj"
      },
      "source": [
        "X_train_caso3=X_train_caso3.reshape(-1,1)\n",
        "X_test_caso3=X_test_caso3.reshape(-1,1)\n",
        "y_train_caso3=y_train_caso3.reshape(-1,1)\n",
        "y_test_caso3=y_test_caso3.reshape(-1,1)"
      ],
      "execution_count": null,
      "outputs": []
    },
    {
      "cell_type": "code",
      "metadata": {
        "colab": {
          "base_uri": "https://localhost:8080/"
        },
        "id": "cC48oRcnWXwj",
        "outputId": "f8dfa138-f042-497c-bc8d-487825955812"
      },
      "source": [
        "tuning_albero_decisione(3,10)"
      ],
      "execution_count": null,
      "outputs": [
        {
          "output_type": "stream",
          "name": "stderr",
          "text": [
            "[Parallel(n_jobs=-1)]: Using backend LokyBackend with 2 concurrent workers.\n"
          ]
        },
        {
          "output_type": "stream",
          "name": "stdout",
          "text": [
            "Fitting 10 folds for each of 216 candidates, totalling 2160 fits\n",
            "Accuratezza fase di Cross Validation con dati di Addestramento/Validazione: 0.817\n",
            "{'criterion': 'gini', 'max_depth': 3, 'min_samples_leaf': 2, 'min_samples_split': 2, 'min_weight_fraction_leaf': 0}\n",
            "Accuratezza con dati di Test: 0.583\n",
            "Risultato sui dati di test:\n",
            "              precision    recall  f1-score   support\n",
            "\n",
            "           0       0.55      1.00      0.71         6\n",
            "           1       1.00      0.17      0.29         6\n",
            "\n",
            "    accuracy                           0.58        12\n",
            "   macro avg       0.77      0.58      0.50        12\n",
            "weighted avg       0.77      0.58      0.50        12\n",
            "\n",
            "[[6 0]\n",
            " [5 1]]\n",
            "Accuratezza Test: 58.000\n",
            "Precisione  Test: 54.000\n",
            "Sensitività Test: 100.000\n",
            "Specificità Test: 16.000\n",
            "F1 score    Test: 70.000\n"
          ]
        },
        {
          "output_type": "stream",
          "name": "stderr",
          "text": [
            "[Parallel(n_jobs=-1)]: Done 1951 tasks      | elapsed:    2.7s\n",
            "[Parallel(n_jobs=-1)]: Done 2160 out of 2160 | elapsed:    2.8s finished\n"
          ]
        }
      ]
    },
    {
      "cell_type": "code",
      "metadata": {
        "colab": {
          "base_uri": "https://localhost:8080/"
        },
        "id": "z7XO-U8RWXwj",
        "outputId": "616cb6d8-8828-4584-f5e1-a316ebc258af"
      },
      "source": [
        "tuning_SVM(3,10)"
      ],
      "execution_count": null,
      "outputs": [
        {
          "output_type": "stream",
          "name": "stderr",
          "text": [
            "/usr/local/lib/python3.7/dist-packages/sklearn/model_selection/_search.py:281: UserWarning:\n",
            "\n",
            "The total space of parameters 2 is smaller than n_iter=20. Running 2 iterations. For exhaustive searches, use GridSearchCV.\n",
            "\n",
            "[Parallel(n_jobs=-1)]: Using backend LokyBackend with 2 concurrent workers.\n"
          ]
        },
        {
          "output_type": "stream",
          "name": "stdout",
          "text": [
            "Fitting 10 folds for each of 2 candidates, totalling 20 fits\n",
            "Accuratezza fase di Cross Validation con dati di Addestramento/Validazione: 0.783\n",
            "{'kernel': 'rbf'}\n",
            "Accuratezza con dati di Test: 0.500\n",
            "Risultato sui dati di test:\n",
            "              precision    recall  f1-score   support\n",
            "\n",
            "           0       0.50      1.00      0.67         6\n",
            "           1       0.00      0.00      0.00         6\n",
            "\n",
            "    accuracy                           0.50        12\n",
            "   macro avg       0.25      0.50      0.33        12\n",
            "weighted avg       0.25      0.50      0.33        12\n",
            "\n",
            "[[6 0]\n",
            " [6 0]]\n",
            "Accuratezza Test: 50.000\n",
            "Precisione  Test: 50.000\n",
            "Sensitività Test: 100.000\n",
            "Specificità Test: 0.000\n",
            "F1 score    Test: 66.000\n"
          ]
        },
        {
          "output_type": "stream",
          "name": "stderr",
          "text": [
            "[Parallel(n_jobs=-1)]: Done  20 out of  20 | elapsed:  1.0min finished\n",
            "/usr/local/lib/python3.7/dist-packages/sklearn/utils/validation.py:760: DataConversionWarning:\n",
            "\n",
            "A column-vector y was passed when a 1d array was expected. Please change the shape of y to (n_samples, ), for example using ravel().\n",
            "\n",
            "/usr/local/lib/python3.7/dist-packages/sklearn/metrics/_classification.py:1272: UndefinedMetricWarning:\n",
            "\n",
            "Precision and F-score are ill-defined and being set to 0.0 in labels with no predicted samples. Use `zero_division` parameter to control this behavior.\n",
            "\n"
          ]
        }
      ]
    },
    {
      "cell_type": "code",
      "metadata": {
        "id": "lTYzYFIMWXwk"
      },
      "source": [
        "#tuning_albero_decisione_CV(3,10)"
      ],
      "execution_count": null,
      "outputs": []
    },
    {
      "cell_type": "code",
      "metadata": {
        "id": "TntVBbHEWXwk"
      },
      "source": [
        "#tuning_SVM_CV(3,10)"
      ],
      "execution_count": null,
      "outputs": []
    },
    {
      "cell_type": "code",
      "metadata": {
        "id": "E42z8nu1WXwk"
      },
      "source": [
        "#validazione_incrociata_kfold(3,10,1)"
      ],
      "execution_count": null,
      "outputs": []
    },
    {
      "cell_type": "code",
      "metadata": {
        "id": "jOW46WaiWXwk"
      },
      "source": [
        "#validazione_incrociata_kfold(3,10,2)"
      ],
      "execution_count": null,
      "outputs": []
    },
    {
      "cell_type": "code",
      "metadata": {
        "id": "O8ahKsnlWXwl"
      },
      "source": [
        "#validazione_incrociata_score(3,10,1)"
      ],
      "execution_count": null,
      "outputs": []
    },
    {
      "cell_type": "code",
      "metadata": {
        "id": "-B_sO9BqWXwl"
      },
      "source": [
        "#validazione_incrociata_score(3,10,2)"
      ],
      "execution_count": null,
      "outputs": []
    },
    {
      "cell_type": "code",
      "metadata": {
        "id": "48Zgd3K7WXwl"
      },
      "source": [
        "#prova_pipeline(3,2)"
      ],
      "execution_count": null,
      "outputs": []
    },
    {
      "cell_type": "code",
      "metadata": {
        "id": "ZgiiK9NKWXwl"
      },
      "source": [
        "#exec_trad(3,1)"
      ],
      "execution_count": null,
      "outputs": []
    },
    {
      "cell_type": "code",
      "metadata": {
        "id": "DP8mrr3mWXwl"
      },
      "source": [
        "#exec_trad(3,2)"
      ],
      "execution_count": null,
      "outputs": []
    },
    {
      "cell_type": "code",
      "metadata": {
        "colab": {
          "base_uri": "https://localhost:8080/"
        },
        "id": "x_ECll7GWXwl",
        "outputId": "f570ec51-cff3-4b07-a316-a545beb5cc4b"
      },
      "source": [
        "tuning_KNN(3,5)"
      ],
      "execution_count": null,
      "outputs": [
        {
          "output_type": "stream",
          "name": "stderr",
          "text": [
            "[Parallel(n_jobs=-1)]: Using backend LokyBackend with 2 concurrent workers.\n"
          ]
        },
        {
          "output_type": "stream",
          "name": "stdout",
          "text": [
            "Fitting 5 folds for each of 16 candidates, totalling 80 fits\n",
            "Accuratezza fase di Cross Validation con dati di Addestramento/Validazione: 0.847\n",
            "{'algorithm': 'auto', 'n_neighbors': 5, 'weights': 'uniform'}\n",
            "Accuratezza con dati di Test: 0.667\n",
            "Risultato sui dati di test:\n",
            "              precision    recall  f1-score   support\n",
            "\n",
            "           0       0.60      1.00      0.75         6\n",
            "           1       1.00      0.33      0.50         6\n",
            "\n",
            "    accuracy                           0.67        12\n",
            "   macro avg       0.80      0.67      0.62        12\n",
            "weighted avg       0.80      0.67      0.62        12\n",
            "\n",
            "[[6 0]\n",
            " [4 2]]\n",
            "Accuratezza Test: 66.000\n",
            "Precisione  Test: 60.000\n",
            "Sensitività Test: 100.000\n",
            "Specificità Test: 33.000\n",
            "F1 score    Test: 75.000\n"
          ]
        },
        {
          "output_type": "stream",
          "name": "stderr",
          "text": [
            "[Parallel(n_jobs=-1)]: Done  80 out of  80 | elapsed:    0.3s finished\n",
            "/usr/local/lib/python3.7/dist-packages/sklearn/model_selection/_search.py:739: DataConversionWarning:\n",
            "\n",
            "A column-vector y was passed when a 1d array was expected. Please change the shape of y to (n_samples, ), for example using ravel().\n",
            "\n"
          ]
        }
      ]
    },
    {
      "cell_type": "code",
      "metadata": {
        "id": "2_W6dp4pWXwm"
      },
      "source": [
        "#tuning_MP(3,10)"
      ],
      "execution_count": null,
      "outputs": []
    },
    {
      "cell_type": "code",
      "metadata": {
        "colab": {
          "base_uri": "https://localhost:8080/"
        },
        "id": "jgu9cLptWXwm",
        "outputId": "60e34ada-0182-4586-faff-30068f3fa80d"
      },
      "source": [
        "tuning_LR(3,5)"
      ],
      "execution_count": null,
      "outputs": [
        {
          "output_type": "stream",
          "name": "stderr",
          "text": [
            "[Parallel(n_jobs=-1)]: Using backend LokyBackend with 2 concurrent workers.\n"
          ]
        },
        {
          "output_type": "stream",
          "name": "stdout",
          "text": [
            "Fitting 5 folds for each of 14 candidates, totalling 70 fits\n",
            "Accuratezza fase di Cross Validation con dati di Addestramento/Validazione: 0.567\n",
            "I migliori parametri trvati sono :\n",
            " {'C': 0.001, 'penalty': 'l2'}\n",
            "Accuratezza con dati di Test: 0.500\n",
            "Risultato sui dati di test:\n",
            "              precision    recall  f1-score   support\n",
            "\n",
            "           0       0.00      0.00      0.00         6\n",
            "           1       0.50      1.00      0.67         6\n",
            "\n",
            "    accuracy                           0.50        12\n",
            "   macro avg       0.25      0.50      0.33        12\n",
            "weighted avg       0.25      0.50      0.33        12\n",
            "\n",
            "[[0 6]\n",
            " [0 6]]\n",
            "Accuratezza Test: 50.000\n",
            "Precisione  Test: 0.000\n",
            "Sensitività Test: 0.000\n",
            "Specificità Test: 100.000\n",
            "F1 score    Test: 0.000\n"
          ]
        },
        {
          "output_type": "stream",
          "name": "stderr",
          "text": [
            "[Parallel(n_jobs=-1)]: Done  67 out of  70 | elapsed:    0.3s remaining:    0.0s\n",
            "[Parallel(n_jobs=-1)]: Done  70 out of  70 | elapsed:    0.3s finished\n",
            "/usr/local/lib/python3.7/dist-packages/sklearn/utils/validation.py:760: DataConversionWarning:\n",
            "\n",
            "A column-vector y was passed when a 1d array was expected. Please change the shape of y to (n_samples, ), for example using ravel().\n",
            "\n",
            "/usr/local/lib/python3.7/dist-packages/sklearn/metrics/_classification.py:1272: UndefinedMetricWarning:\n",
            "\n",
            "Precision and F-score are ill-defined and being set to 0.0 in labels with no predicted samples. Use `zero_division` parameter to control this behavior.\n",
            "\n"
          ]
        }
      ]
    },
    {
      "cell_type": "code",
      "metadata": {
        "id": "RADqZYnTWXwm"
      },
      "source": [
        "#tuning_foresta(3,10)"
      ],
      "execution_count": null,
      "outputs": []
    },
    {
      "cell_type": "code",
      "metadata": {
        "id": "6Gn2SWL0WXwn"
      },
      "source": [
        ""
      ],
      "execution_count": null,
      "outputs": []
    },
    {
      "cell_type": "markdown",
      "metadata": {
        "id": "ZuO4I4mJWXwn"
      },
      "source": [
        "#### Caso4 CASE vs HCF"
      ]
    },
    {
      "cell_type": "code",
      "metadata": {
        "id": "7ojuETOSWXwn"
      },
      "source": [
        ""
      ],
      "execution_count": null,
      "outputs": []
    },
    {
      "cell_type": "code",
      "metadata": {
        "id": "0DPNBuWvWXwn"
      },
      "source": [
        "df=CASEHC.loc[:,0]\n",
        "\n",
        "X = df.to_numpy()\n",
        "\n",
        "Y = CASEHC.loc[:,1]\n",
        "y = Y.to_numpy()\n",
        "y = np.where(y == 3, 1, 0)\n",
        "#from sklearn.model_selection import train_test_split\n",
        "\n",
        "\n",
        "X_train, X_test, y_train, y_test = train_test_split(X, y, test_size=0.3,stratify=y,random_state=42)\n",
        "\n",
        "#pca = PCA(n_components=2)\n",
        "\n",
        "#X_train_pca = pca.fit_transform(X_train)\n",
        "#X_test_pca = pca.transform(X_test)\n",
        "\n",
        "X_train_caso4=X_train\n",
        "X_test_caso4=X_test\n",
        "y_train_caso4=y_train\n",
        "y_test_caso4=y_test"
      ],
      "execution_count": null,
      "outputs": []
    },
    {
      "cell_type": "code",
      "metadata": {
        "id": "_lIEe1zTWXwn"
      },
      "source": [
        "X_train_caso4=X_train_caso4.reshape(-1,1)\n",
        "X_test_caso4=X_test_caso4.reshape(-1,1)\n",
        "y_train_caso4=y_train_caso4.reshape(-1,1)\n",
        "y_test_caso4=y_test_caso4.reshape(-1,1)"
      ],
      "execution_count": null,
      "outputs": []
    },
    {
      "cell_type": "code",
      "metadata": {
        "colab": {
          "base_uri": "https://localhost:8080/"
        },
        "id": "8RUTlcc1WXwo",
        "outputId": "2f46a962-9bd0-4493-fbeb-c614496e76e4"
      },
      "source": [
        "tuning_albero_decisione(4,5)"
      ],
      "execution_count": null,
      "outputs": [
        {
          "output_type": "stream",
          "name": "stderr",
          "text": [
            "[Parallel(n_jobs=-1)]: Using backend LokyBackend with 2 concurrent workers.\n"
          ]
        },
        {
          "output_type": "stream",
          "name": "stdout",
          "text": [
            "Fitting 5 folds for each of 216 candidates, totalling 1080 fits\n",
            "Accuratezza fase di Cross Validation con dati di Addestramento/Validazione: 0.925\n",
            "{'criterion': 'gini', 'max_depth': 3, 'min_samples_leaf': 1, 'min_samples_split': 2, 'min_weight_fraction_leaf': 0}\n",
            "Accuratezza con dati di Test: 0.778\n",
            "Risultato sui dati di test:\n",
            "              precision    recall  f1-score   support\n",
            "\n",
            "           0       0.90      0.75      0.82        12\n",
            "           1       0.62      0.83      0.71         6\n",
            "\n",
            "    accuracy                           0.78        18\n",
            "   macro avg       0.76      0.79      0.77        18\n",
            "weighted avg       0.81      0.78      0.78        18\n",
            "\n",
            "[[9 3]\n",
            " [1 5]]\n",
            "Accuratezza Test: 77.000\n",
            "Precisione  Test: 90.000\n",
            "Sensitività Test: 75.000\n",
            "Specificità Test: 83.000\n",
            "F1 score    Test: 81.000\n"
          ]
        },
        {
          "output_type": "stream",
          "name": "stderr",
          "text": [
            "[Parallel(n_jobs=-1)]: Done 1065 tasks      | elapsed:    1.4s\n",
            "[Parallel(n_jobs=-1)]: Done 1077 out of 1080 | elapsed:    1.4s remaining:    0.0s\n",
            "[Parallel(n_jobs=-1)]: Done 1080 out of 1080 | elapsed:    1.4s finished\n"
          ]
        }
      ]
    },
    {
      "cell_type": "code",
      "metadata": {
        "colab": {
          "base_uri": "https://localhost:8080/"
        },
        "id": "duWLnElBWXwo",
        "outputId": "c754b8ac-e984-463b-d5ea-e16e2c952f3d"
      },
      "source": [
        "tuning_SVM(4,5)"
      ],
      "execution_count": null,
      "outputs": [
        {
          "output_type": "stream",
          "name": "stderr",
          "text": [
            "/usr/local/lib/python3.7/dist-packages/sklearn/model_selection/_search.py:281: UserWarning:\n",
            "\n",
            "The total space of parameters 2 is smaller than n_iter=20. Running 2 iterations. For exhaustive searches, use GridSearchCV.\n",
            "\n",
            "[Parallel(n_jobs=-1)]: Using backend LokyBackend with 2 concurrent workers.\n"
          ]
        },
        {
          "output_type": "stream",
          "name": "stdout",
          "text": [
            "Fitting 5 folds for each of 2 candidates, totalling 10 fits\n"
          ]
        },
        {
          "output_type": "stream",
          "name": "stderr",
          "text": [
            "[Parallel(n_jobs=-1)]: Done  10 out of  10 | elapsed:   17.3s finished\n",
            "/usr/local/lib/python3.7/dist-packages/sklearn/utils/validation.py:760: DataConversionWarning:\n",
            "\n",
            "A column-vector y was passed when a 1d array was expected. Please change the shape of y to (n_samples, ), for example using ravel().\n",
            "\n"
          ]
        },
        {
          "output_type": "stream",
          "name": "stdout",
          "text": [
            "Accuratezza fase di Cross Validation con dati di Addestramento/Validazione: 0.950\n",
            "{'kernel': 'linear'}\n",
            "Accuratezza con dati di Test: 0.833\n",
            "Risultato sui dati di test:\n",
            "              precision    recall  f1-score   support\n",
            "\n",
            "           0       0.85      0.92      0.88        12\n",
            "           1       0.80      0.67      0.73         6\n",
            "\n",
            "    accuracy                           0.83        18\n",
            "   macro avg       0.82      0.79      0.80        18\n",
            "weighted avg       0.83      0.83      0.83        18\n",
            "\n",
            "[[11  1]\n",
            " [ 2  4]]\n",
            "Accuratezza Test: 83.000\n",
            "Precisione  Test: 84.000\n",
            "Sensitività Test: 91.000\n",
            "Specificità Test: 66.000\n",
            "F1 score    Test: 87.000\n"
          ]
        }
      ]
    },
    {
      "cell_type": "code",
      "metadata": {
        "id": "K99JHtwQWXwo"
      },
      "source": [
        "#tuning_albero_decisione_CV(4,10)"
      ],
      "execution_count": null,
      "outputs": []
    },
    {
      "cell_type": "code",
      "metadata": {
        "id": "IitO43Z8WXwo"
      },
      "source": [
        "#tuning_SVM_CV(4,10)"
      ],
      "execution_count": null,
      "outputs": []
    },
    {
      "cell_type": "code",
      "metadata": {
        "id": "wBqsodwRWXwo"
      },
      "source": [
        "#validazione_incrociata_kfold(4,10,1)"
      ],
      "execution_count": null,
      "outputs": []
    },
    {
      "cell_type": "code",
      "metadata": {
        "id": "5oGXbWULWXwp"
      },
      "source": [
        "#validazione_incrociata_kfold(4,10,2)"
      ],
      "execution_count": null,
      "outputs": []
    },
    {
      "cell_type": "code",
      "metadata": {
        "id": "A_6GEKFPWXwp"
      },
      "source": [
        "#validazione_incrociata_score(4,10,1)"
      ],
      "execution_count": null,
      "outputs": []
    },
    {
      "cell_type": "code",
      "metadata": {
        "id": "YlmJWWIkWXwp"
      },
      "source": [
        "#validazione_incrociata_score(4,10,2)"
      ],
      "execution_count": null,
      "outputs": []
    },
    {
      "cell_type": "code",
      "metadata": {
        "id": "9_kb2W6FWXwp"
      },
      "source": [
        "#prova_pipeline(4,2)"
      ],
      "execution_count": null,
      "outputs": []
    },
    {
      "cell_type": "code",
      "metadata": {
        "id": "Y2cyPpSiWXwp"
      },
      "source": [
        "#exec_trad(4,1)"
      ],
      "execution_count": null,
      "outputs": []
    },
    {
      "cell_type": "code",
      "metadata": {
        "id": "tOw8WoHnWXwq"
      },
      "source": [
        "#exec_trad(4,2)"
      ],
      "execution_count": null,
      "outputs": []
    },
    {
      "cell_type": "code",
      "metadata": {
        "colab": {
          "base_uri": "https://localhost:8080/"
        },
        "id": "-eFVuy6DWXwq",
        "outputId": "e820c2a2-c643-4544-ccbf-5891935e6f19"
      },
      "source": [
        "tuning_KNN(4,5)"
      ],
      "execution_count": null,
      "outputs": [
        {
          "output_type": "stream",
          "name": "stdout",
          "text": [
            "Fitting 5 folds for each of 16 candidates, totalling 80 fits\n"
          ]
        },
        {
          "output_type": "stream",
          "name": "stderr",
          "text": [
            "[Parallel(n_jobs=-1)]: Using backend LokyBackend with 2 concurrent workers.\n"
          ]
        },
        {
          "output_type": "stream",
          "name": "stdout",
          "text": [
            "Accuratezza fase di Cross Validation con dati di Addestramento/Validazione: 0.925\n",
            "{'algorithm': 'auto', 'n_neighbors': 5, 'weights': 'distance'}\n",
            "Accuratezza con dati di Test: 0.722\n",
            "Risultato sui dati di test:\n",
            "              precision    recall  f1-score   support\n",
            "\n",
            "           0       0.82      0.75      0.78        12\n",
            "           1       0.57      0.67      0.62         6\n",
            "\n",
            "    accuracy                           0.72        18\n",
            "   macro avg       0.69      0.71      0.70        18\n",
            "weighted avg       0.74      0.72      0.73        18\n",
            "\n",
            "[[9 3]\n",
            " [2 4]]\n",
            "Accuratezza Test: 72.000\n",
            "Precisione  Test: 81.000\n",
            "Sensitività Test: 75.000\n",
            "Specificità Test: 66.000\n",
            "F1 score    Test: 77.000\n"
          ]
        },
        {
          "output_type": "stream",
          "name": "stderr",
          "text": [
            "[Parallel(n_jobs=-1)]: Done  80 out of  80 | elapsed:    0.3s finished\n",
            "/usr/local/lib/python3.7/dist-packages/sklearn/model_selection/_search.py:739: DataConversionWarning:\n",
            "\n",
            "A column-vector y was passed when a 1d array was expected. Please change the shape of y to (n_samples, ), for example using ravel().\n",
            "\n"
          ]
        }
      ]
    },
    {
      "cell_type": "code",
      "metadata": {
        "id": "O6rChXN4WXwq"
      },
      "source": [
        "#tuning_MP(4,10)"
      ],
      "execution_count": null,
      "outputs": []
    },
    {
      "cell_type": "code",
      "metadata": {
        "colab": {
          "base_uri": "https://localhost:8080/"
        },
        "id": "SGzP45lmWXwq",
        "outputId": "85dbc2d7-def5-4c50-9a28-fda1774b275a"
      },
      "source": [
        "tuning_LR(4,5)"
      ],
      "execution_count": null,
      "outputs": [
        {
          "output_type": "stream",
          "name": "stderr",
          "text": [
            "[Parallel(n_jobs=-1)]: Using backend LokyBackend with 2 concurrent workers.\n"
          ]
        },
        {
          "output_type": "stream",
          "name": "stdout",
          "text": [
            "Fitting 5 folds for each of 14 candidates, totalling 70 fits\n",
            "Accuratezza fase di Cross Validation con dati di Addestramento/Validazione: 0.925\n",
            "I migliori parametri trvati sono :\n",
            " {'C': 0.001, 'penalty': 'l2'}\n",
            "Accuratezza con dati di Test: 0.722\n",
            "Risultato sui dati di test:\n",
            "              precision    recall  f1-score   support\n",
            "\n",
            "           0       0.82      0.75      0.78        12\n",
            "           1       0.57      0.67      0.62         6\n",
            "\n",
            "    accuracy                           0.72        18\n",
            "   macro avg       0.69      0.71      0.70        18\n",
            "weighted avg       0.74      0.72      0.73        18\n",
            "\n",
            "[[9 3]\n",
            " [2 4]]\n",
            "Accuratezza Test: 72.000\n",
            "Precisione  Test: 81.000\n",
            "Sensitività Test: 75.000\n",
            "Specificità Test: 66.000\n",
            "F1 score    Test: 77.000\n"
          ]
        },
        {
          "output_type": "stream",
          "name": "stderr",
          "text": [
            "[Parallel(n_jobs=-1)]: Done  70 out of  70 | elapsed:    0.6s finished\n",
            "/usr/local/lib/python3.7/dist-packages/sklearn/utils/validation.py:760: DataConversionWarning:\n",
            "\n",
            "A column-vector y was passed when a 1d array was expected. Please change the shape of y to (n_samples, ), for example using ravel().\n",
            "\n"
          ]
        }
      ]
    },
    {
      "cell_type": "code",
      "metadata": {
        "id": "3_3K5NfrWXww"
      },
      "source": [
        "#tuning_foresta(4,10)"
      ],
      "execution_count": null,
      "outputs": []
    },
    {
      "cell_type": "markdown",
      "metadata": {
        "id": "Dj8tlauEWXwx"
      },
      "source": [
        "<br>\n",
        "<br>"
      ]
    },
    {
      "cell_type": "code",
      "metadata": {
        "id": "_JWMWwuBWXwx"
      },
      "source": [
        ""
      ],
      "execution_count": null,
      "outputs": []
    },
    {
      "cell_type": "code",
      "metadata": {
        "id": "FwSh4gpCWXwx"
      },
      "source": [
        ""
      ],
      "execution_count": null,
      "outputs": []
    },
    {
      "cell_type": "markdown",
      "metadata": {
        "id": "6DXi4eg0cSY2"
      },
      "source": [
        "### 3 hz"
      ]
    },
    {
      "cell_type": "code",
      "metadata": {
        "id": "dtkNggxXcSY4"
      },
      "source": [
        ""
      ],
      "execution_count": null,
      "outputs": []
    },
    {
      "cell_type": "code",
      "metadata": {
        "id": "7VFRseEucSY4"
      },
      "source": [
        "\n",
        "y1=hz3.loc[:,0].to_numpy()\n",
        "y2=hz3.loc[:,1].to_numpy()\n",
        "y3=hz3.loc[:,2].to_numpy()\n",
        "\n"
      ],
      "execution_count": null,
      "outputs": []
    },
    {
      "cell_type": "code",
      "metadata": {
        "id": "9UoF8V3RdqMd"
      },
      "source": [
        ""
      ],
      "execution_count": null,
      "outputs": []
    },
    {
      "cell_type": "code",
      "metadata": {
        "colab": {
          "base_uri": "https://localhost:8080/"
        },
        "id": "z7ZrYD0DdqyS",
        "outputId": "e360152b-660a-4164-ffed-6ecd72fd93e0"
      },
      "source": [
        "y1,y2,y3,hz3"
      ],
      "execution_count": null,
      "outputs": [
        {
          "output_type": "execute_result",
          "data": {
            "text/plain": [
              "(array([ 11941.87873848,  21550.00190442,   7954.53323449,  42676.08920607,\n",
              "         12148.52499844,  12297.44206568,  19050.99566514,   4992.63032391,\n",
              "         16011.53399227,   9151.56994628,  14843.20181831,  10445.07001644,\n",
              "        182700.81680301,  15954.13977107,  11744.1096727 ,   7023.7075574 ,\n",
              "         37297.83935963,  11622.94020792,  14182.83836805]),\n",
              " array([  4543.07919863,   3171.54341213,   2502.25057178,  17653.02373685,\n",
              "         27477.27413088,   3811.75103388,  10227.17836015,  22822.83780603,\n",
              "          6828.01815951,   3078.35328472,   9843.4910841 ,   5141.19654723,\n",
              "          4200.4707423 ,  16579.98591867,   5865.3298286 ,  12802.7490111 ,\n",
              "        104104.83264797,  71138.56445602,  23134.71397511]),\n",
              " array([ 4260.98848233,  6215.95922743,  2878.11366384,   946.37260614,\n",
              "          612.11074237,  7665.30831264,  3062.98432112,  1211.44062576,\n",
              "        22390.06200896,  2888.25694934,   563.05778567,  4760.09344506,\n",
              "         4973.64447907,  2618.74960792,   698.50099081,   703.47702381,\n",
              "         4747.69448038,  2467.78636984,  1533.93387699]),\n",
              "                 0              1             2\n",
              " 0    11941.878738    4543.079199   4260.988482\n",
              " 1    21550.001904    3171.543412   6215.959227\n",
              " 2     7954.533234    2502.250572   2878.113664\n",
              " 3    42676.089206   17653.023737    946.372606\n",
              " 4    12148.524998   27477.274131    612.110742\n",
              " 5    12297.442066    3811.751034   7665.308313\n",
              " 6    19050.995665   10227.178360   3062.984321\n",
              " 7     4992.630324   22822.837806   1211.440626\n",
              " 8    16011.533992    6828.018160  22390.062009\n",
              " 9     9151.569946    3078.353285   2888.256949\n",
              " 10   14843.201818    9843.491084    563.057786\n",
              " 11   10445.070016    5141.196547   4760.093445\n",
              " 12  182700.816803    4200.470742   4973.644479\n",
              " 13   15954.139771   16579.985919   2618.749608\n",
              " 14   11744.109673    5865.329829    698.500991\n",
              " 15    7023.707557   12802.749011    703.477024\n",
              " 16   37297.839360  104104.832648   4747.694480\n",
              " 17   11622.940208   71138.564456   2467.786370\n",
              " 18   14182.838368   23134.713975   1533.933877)"
            ]
          },
          "metadata": {},
          "execution_count": 146
        }
      ]
    },
    {
      "cell_type": "code",
      "metadata": {
        "id": "_k4odneScSY5"
      },
      "source": [
        "x1 = np.linspace(0, 19, len(y1), endpoint=True)\n",
        "x2 = np.linspace(0, 19,len(y2), endpoint=True)\n",
        "x3 = np.linspace(0, 19,len(y3), endpoint=True)"
      ],
      "execution_count": null,
      "outputs": []
    },
    {
      "cell_type": "code",
      "metadata": {
        "colab": {
          "base_uri": "https://localhost:8080/",
          "height": 265
        },
        "id": "exQjb9aZcSY5",
        "outputId": "ff5f06e7-ecf9-4781-f583-3d604865c339"
      },
      "source": [
        "plt.plot(x1, y1, 'g')\n",
        "plt.plot(x2, y2, 'b')\n",
        "plt.plot(x3, y3, 'r')\n",
        "#plt.ylim(0,300000)\n",
        "plt.show()"
      ],
      "execution_count": null,
      "outputs": [
        {
          "output_type": "display_data",
          "data": {
            "image/png": "[encoded data removed]",
            "text/plain": [
              "<Figure size 432x288 with 1 Axes>"
            ]
          },
          "metadata": {
            "needs_background": "light"
          }
        }
      ]
    },
    {
      "cell_type": "code",
      "metadata": {
        "id": "wAcCarD5cSY6"
      },
      "source": [
        ""
      ],
      "execution_count": null,
      "outputs": []
    },
    {
      "cell_type": "code",
      "metadata": {
        "id": "cB3HHBkXcSY7"
      },
      "source": [
        "matriceAD = np.zeros((len(y1),2))\n",
        "matriceMCI = np.zeros((len(y2),2))\n",
        "matriceHC = np.zeros((len(y3),2))\n"
      ],
      "execution_count": null,
      "outputs": []
    },
    {
      "cell_type": "code",
      "metadata": {
        "id": "oozRiEcYcSY7"
      },
      "source": [
        "matriceADHC = np.zeros((len(y1)+len(y3),2))\n",
        "matriceMCIHC = np.zeros((len(y2)+len(y3),2))\n",
        "matriceADMCI = np.zeros((len(y1)+len(y2),2))\n",
        "matriceCASEHC = np.zeros((len(y2)+len(y3)+len(y1),2))"
      ],
      "execution_count": null,
      "outputs": []
    },
    {
      "cell_type": "code",
      "metadata": {
        "id": "Mosgb3iPcSY7"
      },
      "source": [
        "for i in range(len(y1)):\n",
        "      matriceAD[i,0]=y1[i]\n",
        "      matriceAD[i,1]=1"
      ],
      "execution_count": null,
      "outputs": []
    },
    {
      "cell_type": "code",
      "metadata": {
        "id": "-pPvamwMcSY8"
      },
      "source": [
        "for i in range(len(y2)):\n",
        "      matriceMCI[i,0]=y2[i]\n",
        "      matriceMCI[i,1]=2"
      ],
      "execution_count": null,
      "outputs": []
    },
    {
      "cell_type": "code",
      "metadata": {
        "id": "kinOBykMcSY8"
      },
      "source": [
        "for i in range(len(y3)):\n",
        "      matriceHC[i,0]=y3[i]\n",
        "      matriceHC[i,1]=3"
      ],
      "execution_count": null,
      "outputs": []
    },
    {
      "cell_type": "code",
      "metadata": {
        "id": "TlmblS1HcSY8"
      },
      "source": [
        "AD=pd.DataFrame(matriceAD)\n",
        "HC=pd.DataFrame(matriceHC)\n",
        "MCI=pd.DataFrame(matriceMCI)"
      ],
      "execution_count": null,
      "outputs": []
    },
    {
      "cell_type": "code",
      "metadata": {
        "id": "khOPEocBcSY9"
      },
      "source": [
        "ADHC=AD.copy()\n",
        "ADHC=ADHC.append(HC,ignore_index=True)"
      ],
      "execution_count": null,
      "outputs": []
    },
    {
      "cell_type": "code",
      "metadata": {
        "id": "53qZA9S7cSY9"
      },
      "source": [
        "ADMCI=AD.copy()\n",
        "ADMCI=ADMCI.append(MCI,ignore_index=True)"
      ],
      "execution_count": null,
      "outputs": []
    },
    {
      "cell_type": "code",
      "metadata": {
        "id": "0EBK0b_vcSY9"
      },
      "source": [
        "MCIHC=MCI.copy()\n",
        "MCIHC=MCIHC.append(HC,ignore_index=True)"
      ],
      "execution_count": null,
      "outputs": []
    },
    {
      "cell_type": "code",
      "metadata": {
        "id": "nA26k96rcSY9"
      },
      "source": [
        "CASEHC=AD.copy()\n",
        "CASEHC=CASEHC.append(MCI,ignore_index=True)\n",
        "CASEHC=CASEHC.append(HC,ignore_index=True)"
      ],
      "execution_count": null,
      "outputs": []
    },
    {
      "cell_type": "code",
      "metadata": {
        "id": "My0s9wILcSY-"
      },
      "source": [
        ""
      ],
      "execution_count": null,
      "outputs": []
    },
    {
      "cell_type": "markdown",
      "metadata": {
        "id": "qAXAhO3UcSY-"
      },
      "source": [
        "#### Caso1 AD vs HCF"
      ]
    },
    {
      "cell_type": "code",
      "metadata": {
        "id": "3BWcqFXicSY-"
      },
      "source": [
        "df=ADHC.loc[:,0]\n",
        "\n",
        "X = df.to_numpy()\n",
        "\n",
        "Y = ADHC.loc[:,1]\n",
        "y = Y.to_numpy()"
      ],
      "execution_count": null,
      "outputs": []
    },
    {
      "cell_type": "code",
      "metadata": {
        "id": "W18B9TtScSY_"
      },
      "source": [
        "y = np.where(y == 1, 1, 0)"
      ],
      "execution_count": null,
      "outputs": []
    },
    {
      "cell_type": "code",
      "metadata": {
        "colab": {
          "base_uri": "https://localhost:8080/"
        },
        "id": "2Wj4QZ39cSY_",
        "outputId": "d7b398b1-174c-4978-fa0e-1d96f9c229b5"
      },
      "source": [
        "X,y"
      ],
      "execution_count": null,
      "outputs": [
        {
          "output_type": "execute_result",
          "data": {
            "text/plain": [
              "(array([ 11941.87873848,  21550.00190442,   7954.53323449,  42676.08920607,\n",
              "         12148.52499844,  12297.44206568,  19050.99566514,   4992.63032391,\n",
              "         16011.53399227,   9151.56994628,  14843.20181831,  10445.07001644,\n",
              "        182700.81680301,  15954.13977107,  11744.1096727 ,   7023.7075574 ,\n",
              "         37297.83935963,  11622.94020792,  14182.83836805,   4260.98848233,\n",
              "          6215.95922743,   2878.11366384,    946.37260614,    612.11074237,\n",
              "          7665.30831264,   3062.98432112,   1211.44062576,  22390.06200896,\n",
              "          2888.25694934,    563.05778567,   4760.09344506,   4973.64447907,\n",
              "          2618.74960792,    698.50099081,    703.47702381,   4747.69448038,\n",
              "          2467.78636984,   1533.93387699]),\n",
              " array([1, 1, 1, 1, 1, 1, 1, 1, 1, 1, 1, 1, 1, 1, 1, 1, 1, 1, 1, 0, 0, 0,\n",
              "        0, 0, 0, 0, 0, 0, 0, 0, 0, 0, 0, 0, 0, 0, 0, 0]))"
            ]
          },
          "metadata": {},
          "execution_count": 161
        }
      ]
    },
    {
      "cell_type": "code",
      "metadata": {
        "id": "PXXdmAWBcSZC"
      },
      "source": [
        "df=ADHC.loc[:,0]\n",
        "\n",
        "X = df.to_numpy()\n",
        "\n",
        "Y = ADHC.loc[:,1]\n",
        "y = Y.to_numpy()\n",
        "y = np.where(y == 1, 1, 0)\n",
        "#from sklearn.model_selection import train_test_split\n",
        "\n",
        "\n",
        "X_train, X_test, y_train, y_test = train_test_split(X, y, test_size=0.3,stratify=y,random_state=42)\n",
        "\n",
        "#pca = PCA(n_components=2)\n",
        "\n",
        "#X_train_pca = pca.fit_transform(X_train)\n",
        "#X_test_pca = pca.transform(X_test)\n",
        "\n",
        "X_train_caso1=X_train\n",
        "X_test_caso1=X_test\n",
        "y_train_caso1=y_train\n",
        "y_test_caso1=y_test\n",
        "\n"
      ],
      "execution_count": null,
      "outputs": []
    },
    {
      "cell_type": "code",
      "metadata": {
        "id": "kdcP9f-1cSZD"
      },
      "source": [
        "X_train_caso1=X_train_caso1.reshape(-1,1)\n",
        "X_test_caso1=X_test_caso1.reshape(-1,1)\n",
        "y_train_caso1=y_train_caso1.reshape(-1,1)\n",
        "y_test_caso1=y_test_caso1.reshape(-1,1)\n"
      ],
      "execution_count": null,
      "outputs": []
    },
    {
      "cell_type": "code",
      "metadata": {
        "id": "6ZPUENXicSZD"
      },
      "source": [
        ""
      ],
      "execution_count": null,
      "outputs": []
    },
    {
      "cell_type": "code",
      "metadata": {
        "colab": {
          "base_uri": "https://localhost:8080/"
        },
        "id": "n_eSEyE0cSZE",
        "outputId": "09e6b012-ec17-440e-d30b-5d1ae0b2f02f"
      },
      "source": [
        "tuning_albero_decisione(1,5)"
      ],
      "execution_count": null,
      "outputs": [
        {
          "output_type": "stream",
          "name": "stdout",
          "text": [
            "Fitting 5 folds for each of 216 candidates, totalling 1080 fits\n"
          ]
        },
        {
          "output_type": "stream",
          "name": "stderr",
          "text": [
            "[Parallel(n_jobs=-1)]: Using backend LokyBackend with 2 concurrent workers.\n"
          ]
        },
        {
          "output_type": "stream",
          "name": "stdout",
          "text": [
            "Accuratezza fase di Cross Validation con dati di Addestramento/Validazione: 0.773\n",
            "{'criterion': 'gini', 'max_depth': 3, 'min_samples_leaf': 3, 'min_samples_split': 2, 'min_weight_fraction_leaf': 0}\n",
            "Accuratezza con dati di Test: 1.000\n",
            "Risultato sui dati di test:\n",
            "              precision    recall  f1-score   support\n",
            "\n",
            "           0       1.00      1.00      1.00         6\n",
            "           1       1.00      1.00      1.00         6\n",
            "\n",
            "    accuracy                           1.00        12\n",
            "   macro avg       1.00      1.00      1.00        12\n",
            "weighted avg       1.00      1.00      1.00        12\n",
            "\n",
            "[[6 0]\n",
            " [0 6]]\n",
            "Accuratezza Test: 100.000\n",
            "Precisione  Test: 100.000\n",
            "Sensitività Test: 100.000\n",
            "Specificità Test: 100.000\n",
            "F1 score    Test: 100.000\n"
          ]
        },
        {
          "output_type": "stream",
          "name": "stderr",
          "text": [
            "[Parallel(n_jobs=-1)]: Done 1062 tasks      | elapsed:    1.5s\n",
            "[Parallel(n_jobs=-1)]: Done 1077 out of 1080 | elapsed:    1.5s remaining:    0.0s\n",
            "[Parallel(n_jobs=-1)]: Done 1080 out of 1080 | elapsed:    1.5s finished\n"
          ]
        }
      ]
    },
    {
      "cell_type": "code",
      "metadata": {
        "colab": {
          "base_uri": "https://localhost:8080/"
        },
        "id": "a85aLWzocSZE",
        "outputId": "908c2e29-23a2-4176-90a3-35e77924c0ac"
      },
      "source": [
        "tuning_SVM(1,5)"
      ],
      "execution_count": null,
      "outputs": [
        {
          "output_type": "stream",
          "name": "stderr",
          "text": [
            "/usr/local/lib/python3.7/dist-packages/sklearn/model_selection/_search.py:281: UserWarning:\n",
            "\n",
            "The total space of parameters 2 is smaller than n_iter=20. Running 2 iterations. For exhaustive searches, use GridSearchCV.\n",
            "\n",
            "[Parallel(n_jobs=-1)]: Using backend LokyBackend with 2 concurrent workers.\n"
          ]
        },
        {
          "output_type": "stream",
          "name": "stdout",
          "text": [
            "Fitting 5 folds for each of 2 candidates, totalling 10 fits\n"
          ]
        },
        {
          "output_type": "stream",
          "name": "stderr",
          "text": [
            "[Parallel(n_jobs=-1)]: Done  10 out of  10 | elapsed:   30.1s finished\n",
            "/usr/local/lib/python3.7/dist-packages/sklearn/utils/validation.py:760: DataConversionWarning:\n",
            "\n",
            "A column-vector y was passed when a 1d array was expected. Please change the shape of y to (n_samples, ), for example using ravel().\n",
            "\n"
          ]
        },
        {
          "output_type": "stream",
          "name": "stdout",
          "text": [
            "Accuratezza fase di Cross Validation con dati di Addestramento/Validazione: 0.853\n",
            "{'kernel': 'linear'}\n",
            "Accuratezza con dati di Test: 1.000\n",
            "Risultato sui dati di test:\n",
            "              precision    recall  f1-score   support\n",
            "\n",
            "           0       1.00      1.00      1.00         6\n",
            "           1       1.00      1.00      1.00         6\n",
            "\n",
            "    accuracy                           1.00        12\n",
            "   macro avg       1.00      1.00      1.00        12\n",
            "weighted avg       1.00      1.00      1.00        12\n",
            "\n",
            "[[6 0]\n",
            " [0 6]]\n",
            "Accuratezza Test: 100.000\n",
            "Precisione  Test: 100.000\n",
            "Sensitività Test: 100.000\n",
            "Specificità Test: 100.000\n",
            "F1 score    Test: 100.000\n"
          ]
        }
      ]
    },
    {
      "cell_type": "code",
      "metadata": {
        "id": "WcCEG8-HcSZF"
      },
      "source": [
        "#tuning_foresta(1,10)"
      ],
      "execution_count": null,
      "outputs": []
    },
    {
      "cell_type": "code",
      "metadata": {
        "id": "gWP7c_OVcSZF"
      },
      "source": [
        "#tuning_albero_decisione_CV(1,10)"
      ],
      "execution_count": null,
      "outputs": []
    },
    {
      "cell_type": "code",
      "metadata": {
        "id": "1zjUKr8lcSZG"
      },
      "source": [
        "#tuning_SVM_CV(1,10)"
      ],
      "execution_count": null,
      "outputs": []
    },
    {
      "cell_type": "code",
      "metadata": {
        "id": "EGmsDasrcSZG"
      },
      "source": [
        "#validazione_incrociata_kfold(1,10,1)"
      ],
      "execution_count": null,
      "outputs": []
    },
    {
      "cell_type": "code",
      "metadata": {
        "id": "QtOtKyttcSZH"
      },
      "source": [
        "#validazione_incrociata_kfold(1,10,2)"
      ],
      "execution_count": null,
      "outputs": []
    },
    {
      "cell_type": "code",
      "metadata": {
        "id": "j6hjG7PocSZH"
      },
      "source": [
        "#validazione_incrociata_score(1,10,1)"
      ],
      "execution_count": null,
      "outputs": []
    },
    {
      "cell_type": "code",
      "metadata": {
        "id": "DvsQ1vhNcSZI"
      },
      "source": [
        "#validazione_incrociata_score(1,10,2)"
      ],
      "execution_count": null,
      "outputs": []
    },
    {
      "cell_type": "code",
      "metadata": {
        "id": "0hupy0HFcSZI"
      },
      "source": [
        "#prova_pipeline(1,2)"
      ],
      "execution_count": null,
      "outputs": []
    },
    {
      "cell_type": "code",
      "metadata": {
        "id": "0GOsjHr3cSZJ"
      },
      "source": [
        ""
      ],
      "execution_count": null,
      "outputs": []
    },
    {
      "cell_type": "code",
      "metadata": {
        "colab": {
          "base_uri": "https://localhost:8080/"
        },
        "id": "GLYdamqAcSZJ",
        "outputId": "54d1f0b9-8aea-478f-d396-bb0138ecaef6"
      },
      "source": [
        "tuning_KNN(1,5)"
      ],
      "execution_count": null,
      "outputs": [
        {
          "output_type": "stream",
          "name": "stdout",
          "text": [
            "Fitting 5 folds for each of 16 candidates, totalling 80 fits\n"
          ]
        },
        {
          "output_type": "stream",
          "name": "stderr",
          "text": [
            "[Parallel(n_jobs=-1)]: Using backend LokyBackend with 2 concurrent workers.\n"
          ]
        },
        {
          "output_type": "stream",
          "name": "stdout",
          "text": [
            "Accuratezza fase di Cross Validation con dati di Addestramento/Validazione: 0.813\n",
            "{'algorithm': 'auto', 'n_neighbors': 5, 'weights': 'uniform'}\n",
            "Accuratezza con dati di Test: 1.000\n",
            "Risultato sui dati di test:\n",
            "              precision    recall  f1-score   support\n",
            "\n",
            "           0       1.00      1.00      1.00         6\n",
            "           1       1.00      1.00      1.00         6\n",
            "\n",
            "    accuracy                           1.00        12\n",
            "   macro avg       1.00      1.00      1.00        12\n",
            "weighted avg       1.00      1.00      1.00        12\n",
            "\n",
            "[[6 0]\n",
            " [0 6]]\n",
            "Accuratezza Test: 100.000\n",
            "Precisione  Test: 100.000\n",
            "Sensitività Test: 100.000\n",
            "Specificità Test: 100.000\n",
            "F1 score    Test: 100.000\n"
          ]
        },
        {
          "output_type": "stream",
          "name": "stderr",
          "text": [
            "[Parallel(n_jobs=-1)]: Done  80 out of  80 | elapsed:    0.3s finished\n",
            "/usr/local/lib/python3.7/dist-packages/sklearn/model_selection/_search.py:739: DataConversionWarning:\n",
            "\n",
            "A column-vector y was passed when a 1d array was expected. Please change the shape of y to (n_samples, ), for example using ravel().\n",
            "\n"
          ]
        }
      ]
    },
    {
      "cell_type": "code",
      "metadata": {
        "id": "GNncabGFcSZJ"
      },
      "source": [
        "#tuning_MP(1,5)"
      ],
      "execution_count": null,
      "outputs": []
    },
    {
      "cell_type": "code",
      "metadata": {
        "colab": {
          "base_uri": "https://localhost:8080/"
        },
        "id": "vPt7FCOjcSZK",
        "outputId": "f986260a-613c-4192-b2fd-458aeb72f654"
      },
      "source": [
        "tuning_LR(1,5)"
      ],
      "execution_count": null,
      "outputs": [
        {
          "output_type": "stream",
          "name": "stderr",
          "text": [
            "[Parallel(n_jobs=-1)]: Using backend LokyBackend with 2 concurrent workers.\n"
          ]
        },
        {
          "output_type": "stream",
          "name": "stdout",
          "text": [
            "Fitting 5 folds for each of 14 candidates, totalling 70 fits\n",
            "Accuratezza fase di Cross Validation con dati di Addestramento/Validazione: 0.653\n",
            "I migliori parametri trvati sono :\n",
            " {'C': 0.001, 'penalty': 'l2'}\n",
            "Accuratezza con dati di Test: 0.500\n",
            "Risultato sui dati di test:\n",
            "              precision    recall  f1-score   support\n",
            "\n",
            "           0       0.00      0.00      0.00         6\n",
            "           1       0.50      1.00      0.67         6\n",
            "\n",
            "    accuracy                           0.50        12\n",
            "   macro avg       0.25      0.50      0.33        12\n",
            "weighted avg       0.25      0.50      0.33        12\n",
            "\n",
            "[[0 6]\n",
            " [0 6]]\n",
            "Accuratezza Test: 50.000\n",
            "Precisione  Test: 0.000\n",
            "Sensitività Test: 0.000\n",
            "Specificità Test: 100.000\n",
            "F1 score    Test: 0.000\n"
          ]
        },
        {
          "output_type": "stream",
          "name": "stderr",
          "text": [
            "[Parallel(n_jobs=-1)]: Done  70 out of  70 | elapsed:    0.4s finished\n",
            "/usr/local/lib/python3.7/dist-packages/sklearn/utils/validation.py:760: DataConversionWarning:\n",
            "\n",
            "A column-vector y was passed when a 1d array was expected. Please change the shape of y to (n_samples, ), for example using ravel().\n",
            "\n",
            "/usr/local/lib/python3.7/dist-packages/sklearn/metrics/_classification.py:1272: UndefinedMetricWarning:\n",
            "\n",
            "Precision and F-score are ill-defined and being set to 0.0 in labels with no predicted samples. Use `zero_division` parameter to control this behavior.\n",
            "\n"
          ]
        }
      ]
    },
    {
      "cell_type": "code",
      "metadata": {
        "id": "UCAx79xfcSZK"
      },
      "source": [
        "#tuning_foresta(1,5)"
      ],
      "execution_count": null,
      "outputs": []
    },
    {
      "cell_type": "code",
      "metadata": {
        "id": "6G5c3wG6cSZL"
      },
      "source": [
        ""
      ],
      "execution_count": null,
      "outputs": []
    },
    {
      "cell_type": "markdown",
      "metadata": {
        "id": "jqZZXcqpcSZL"
      },
      "source": [
        "#### Caso2 AD vs MCI"
      ]
    },
    {
      "cell_type": "code",
      "metadata": {
        "id": "BgnHUd10cSZM"
      },
      "source": [
        ""
      ],
      "execution_count": null,
      "outputs": []
    },
    {
      "cell_type": "code",
      "metadata": {
        "id": "dBTs18bLcSZM"
      },
      "source": [
        "\n",
        "df=ADMCI.loc[:,0]\n",
        "\n",
        "X = df.to_numpy()\n",
        "\n",
        "Y = ADMCI.loc[:,1]\n",
        "y = Y.to_numpy()\n",
        "y = np.where(y == 1, 1, 0)\n",
        "#from sklearn.model_selection import train_test_split\n",
        "\n",
        "X_train, X_test, y_train, y_test = train_test_split(X, y, test_size=0.3,stratify=y,random_state=42)\n",
        "\n",
        "#pca = PCA(n_components=5)\n",
        "\n",
        "#X_train_pca = pca.fit_transform(X_train)\n",
        "#X_test_pca = pca.transform(X_test)\n",
        "\n",
        "X_train_caso2=X_train\n",
        "X_test_caso2=X_test\n",
        "y_train_caso2=y_train\n",
        "y_test_caso2=y_test"
      ],
      "execution_count": null,
      "outputs": []
    },
    {
      "cell_type": "code",
      "metadata": {
        "id": "pKWnjeJAcSZN"
      },
      "source": [
        "X_train_caso2=X_train_caso2.reshape(-1,1)\n",
        "X_test_caso2=X_test_caso2.reshape(-1,1)\n",
        "y_train_caso2=y_train_caso2.reshape(-1,1)\n",
        "y_test_caso2=y_test_caso2.reshape(-1,1)"
      ],
      "execution_count": null,
      "outputs": []
    },
    {
      "cell_type": "code",
      "metadata": {
        "colab": {
          "base_uri": "https://localhost:8080/"
        },
        "id": "qIZs7jCncSZN",
        "outputId": "f15e5bd8-1d2b-49e7-fa9e-31a03e8e6260"
      },
      "source": [
        "tuning_albero_decisione(2,5)"
      ],
      "execution_count": null,
      "outputs": [
        {
          "output_type": "stream",
          "name": "stderr",
          "text": [
            "[Parallel(n_jobs=-1)]: Using backend LokyBackend with 2 concurrent workers.\n"
          ]
        },
        {
          "output_type": "stream",
          "name": "stdout",
          "text": [
            "Fitting 5 folds for each of 216 candidates, totalling 1080 fits\n",
            "Accuratezza fase di Cross Validation con dati di Addestramento/Validazione: 0.627\n",
            "{'criterion': 'gini', 'max_depth': 5, 'min_samples_leaf': 2, 'min_samples_split': 2, 'min_weight_fraction_leaf': 0}\n",
            "Accuratezza con dati di Test: 0.667\n",
            "Risultato sui dati di test:\n",
            "              precision    recall  f1-score   support\n",
            "\n",
            "           0       0.67      0.67      0.67         6\n",
            "           1       0.67      0.67      0.67         6\n",
            "\n",
            "    accuracy                           0.67        12\n",
            "   macro avg       0.67      0.67      0.67        12\n",
            "weighted avg       0.67      0.67      0.67        12\n",
            "\n",
            "[[4 2]\n",
            " [2 4]]\n",
            "Accuratezza Test: 66.000\n",
            "Precisione  Test: 66.000\n",
            "Sensitività Test: 66.000\n",
            "Specificità Test: 66.000\n",
            "F1 score    Test: 66.000\n"
          ]
        },
        {
          "output_type": "stream",
          "name": "stderr",
          "text": [
            "[Parallel(n_jobs=-1)]: Done 958 tasks      | elapsed:    1.4s\n",
            "[Parallel(n_jobs=-1)]: Done 1080 out of 1080 | elapsed:    1.5s finished\n"
          ]
        }
      ]
    },
    {
      "cell_type": "code",
      "metadata": {
        "colab": {
          "base_uri": "https://localhost:8080/"
        },
        "id": "kALwEqRQcSZO",
        "outputId": "1f660585-92a9-43bb-895c-618562b8eab0"
      },
      "source": [
        "tuning_SVM(2,5)"
      ],
      "execution_count": null,
      "outputs": [
        {
          "output_type": "stream",
          "name": "stderr",
          "text": [
            "/usr/local/lib/python3.7/dist-packages/sklearn/model_selection/_search.py:281: UserWarning:\n",
            "\n",
            "The total space of parameters 2 is smaller than n_iter=20. Running 2 iterations. For exhaustive searches, use GridSearchCV.\n",
            "\n",
            "[Parallel(n_jobs=-1)]: Using backend LokyBackend with 2 concurrent workers.\n"
          ]
        },
        {
          "output_type": "stream",
          "name": "stdout",
          "text": [
            "Fitting 5 folds for each of 2 candidates, totalling 10 fits\n",
            "Accuratezza fase di Cross Validation con dati di Addestramento/Validazione: 0.500\n",
            "{'kernel': 'rbf'}\n",
            "Accuratezza con dati di Test: 0.500\n",
            "Risultato sui dati di test:\n",
            "              precision    recall  f1-score   support\n",
            "\n",
            "           0       0.50      0.33      0.40         6\n",
            "           1       0.50      0.67      0.57         6\n",
            "\n",
            "    accuracy                           0.50        12\n",
            "   macro avg       0.50      0.50      0.49        12\n",
            "weighted avg       0.50      0.50      0.49        12\n",
            "\n",
            "[[2 4]\n",
            " [2 4]]\n",
            "Accuratezza Test: 50.000\n",
            "Precisione  Test: 50.000\n",
            "Sensitività Test: 33.000\n",
            "Specificità Test: 66.000\n",
            "F1 score    Test: 39.000\n"
          ]
        },
        {
          "output_type": "stream",
          "name": "stderr",
          "text": [
            "[Parallel(n_jobs=-1)]: Done  10 out of  10 | elapsed:   46.9s finished\n",
            "/usr/local/lib/python3.7/dist-packages/sklearn/utils/validation.py:760: DataConversionWarning:\n",
            "\n",
            "A column-vector y was passed when a 1d array was expected. Please change the shape of y to (n_samples, ), for example using ravel().\n",
            "\n"
          ]
        }
      ]
    },
    {
      "cell_type": "code",
      "metadata": {
        "id": "PXM1DaAecSZO"
      },
      "source": [
        "#tuning_foresta(2,10)"
      ],
      "execution_count": null,
      "outputs": []
    },
    {
      "cell_type": "code",
      "metadata": {
        "id": "n9P0xuuwcSZO"
      },
      "source": [
        "#tuning_albero_decisione_CV(2,10)"
      ],
      "execution_count": null,
      "outputs": []
    },
    {
      "cell_type": "code",
      "metadata": {
        "id": "DAl7kt9KcSZP"
      },
      "source": [
        "#tuning_SVM_CV(2,10)"
      ],
      "execution_count": null,
      "outputs": []
    },
    {
      "cell_type": "code",
      "metadata": {
        "id": "-VPeOjC4cSZP"
      },
      "source": [
        "#validazione_incrociata_kfold(2,10,1)"
      ],
      "execution_count": null,
      "outputs": []
    },
    {
      "cell_type": "code",
      "metadata": {
        "id": "KRoC2H6FcSZP"
      },
      "source": [
        "#validazione_incrociata_kfold(2,10,2)"
      ],
      "execution_count": null,
      "outputs": []
    },
    {
      "cell_type": "code",
      "metadata": {
        "id": "AQck4yiHcSZP"
      },
      "source": [
        "#validazione_incrociata_score(2,10,1)"
      ],
      "execution_count": null,
      "outputs": []
    },
    {
      "cell_type": "code",
      "metadata": {
        "id": "kYiDzWYHcSZQ"
      },
      "source": [
        "#validazione_incrociata_score(2,10,2)"
      ],
      "execution_count": null,
      "outputs": []
    },
    {
      "cell_type": "code",
      "metadata": {
        "id": "qntFn1DicSZQ"
      },
      "source": [
        "#prova_pipeline(2,2)"
      ],
      "execution_count": null,
      "outputs": []
    },
    {
      "cell_type": "code",
      "metadata": {
        "id": "igHnjBrrcSZQ"
      },
      "source": [
        "#exec_trad(2,1)"
      ],
      "execution_count": null,
      "outputs": []
    },
    {
      "cell_type": "code",
      "metadata": {
        "id": "s5Mpujj2cSZQ"
      },
      "source": [
        "#exec_trad(2,2)"
      ],
      "execution_count": null,
      "outputs": []
    },
    {
      "cell_type": "code",
      "metadata": {
        "colab": {
          "base_uri": "https://localhost:8080/"
        },
        "id": "9BPU8dgqcSZR",
        "outputId": "54ef9bae-38ec-4cb9-81b3-057725e57504"
      },
      "source": [
        "tuning_KNN(2,5)"
      ],
      "execution_count": null,
      "outputs": [
        {
          "output_type": "stream",
          "name": "stderr",
          "text": [
            "[Parallel(n_jobs=-1)]: Using backend LokyBackend with 2 concurrent workers.\n"
          ]
        },
        {
          "output_type": "stream",
          "name": "stdout",
          "text": [
            "Fitting 5 folds for each of 16 candidates, totalling 80 fits\n",
            "Accuratezza fase di Cross Validation con dati di Addestramento/Validazione: 0.700\n",
            "{'algorithm': 'auto', 'n_neighbors': 5, 'weights': 'uniform'}\n",
            "Accuratezza con dati di Test: 0.667\n",
            "Risultato sui dati di test:\n",
            "              precision    recall  f1-score   support\n",
            "\n",
            "           0       0.67      0.67      0.67         6\n",
            "           1       0.67      0.67      0.67         6\n",
            "\n",
            "    accuracy                           0.67        12\n",
            "   macro avg       0.67      0.67      0.67        12\n",
            "weighted avg       0.67      0.67      0.67        12\n",
            "\n",
            "[[4 2]\n",
            " [2 4]]\n",
            "Accuratezza Test: 66.000\n",
            "Precisione  Test: 66.000\n",
            "Sensitività Test: 66.000\n",
            "Specificità Test: 66.000\n",
            "F1 score    Test: 66.000\n"
          ]
        },
        {
          "output_type": "stream",
          "name": "stderr",
          "text": [
            "[Parallel(n_jobs=-1)]: Done  80 out of  80 | elapsed:    0.2s finished\n",
            "/usr/local/lib/python3.7/dist-packages/sklearn/model_selection/_search.py:739: DataConversionWarning:\n",
            "\n",
            "A column-vector y was passed when a 1d array was expected. Please change the shape of y to (n_samples, ), for example using ravel().\n",
            "\n"
          ]
        }
      ]
    },
    {
      "cell_type": "code",
      "metadata": {
        "id": "xvksvClocSZR"
      },
      "source": [
        "#tuning_MP(2,10)"
      ],
      "execution_count": null,
      "outputs": []
    },
    {
      "cell_type": "code",
      "metadata": {
        "colab": {
          "base_uri": "https://localhost:8080/"
        },
        "id": "dC3Vw9OBcSZR",
        "outputId": "ed7c6f01-f2c7-46a8-fc7c-6ff48945b3d5"
      },
      "source": [
        "tuning_LR(2,5)"
      ],
      "execution_count": null,
      "outputs": [
        {
          "output_type": "stream",
          "name": "stderr",
          "text": [
            "[Parallel(n_jobs=-1)]: Using backend LokyBackend with 2 concurrent workers.\n"
          ]
        },
        {
          "output_type": "stream",
          "name": "stdout",
          "text": [
            "Fitting 5 folds for each of 14 candidates, totalling 70 fits\n",
            "Accuratezza fase di Cross Validation con dati di Addestramento/Validazione: 0.467\n",
            "I migliori parametri trvati sono :\n",
            " {'C': 0.001, 'penalty': 'l2'}\n",
            "Accuratezza con dati di Test: 0.500\n",
            "Risultato sui dati di test:\n",
            "              precision    recall  f1-score   support\n",
            "\n",
            "           0       0.50      1.00      0.67         6\n",
            "           1       0.00      0.00      0.00         6\n",
            "\n",
            "    accuracy                           0.50        12\n",
            "   macro avg       0.25      0.50      0.33        12\n",
            "weighted avg       0.25      0.50      0.33        12\n",
            "\n",
            "[[6 0]\n",
            " [6 0]]\n",
            "Accuratezza Test: 50.000\n",
            "Precisione  Test: 50.000\n",
            "Sensitività Test: 100.000\n",
            "Specificità Test: 0.000\n",
            "F1 score    Test: 66.000\n"
          ]
        },
        {
          "output_type": "stream",
          "name": "stderr",
          "text": [
            "[Parallel(n_jobs=-1)]: Done  70 out of  70 | elapsed:    0.3s finished\n",
            "/usr/local/lib/python3.7/dist-packages/sklearn/utils/validation.py:760: DataConversionWarning:\n",
            "\n",
            "A column-vector y was passed when a 1d array was expected. Please change the shape of y to (n_samples, ), for example using ravel().\n",
            "\n",
            "/usr/local/lib/python3.7/dist-packages/sklearn/metrics/_classification.py:1272: UndefinedMetricWarning:\n",
            "\n",
            "Precision and F-score are ill-defined and being set to 0.0 in labels with no predicted samples. Use `zero_division` parameter to control this behavior.\n",
            "\n"
          ]
        }
      ]
    },
    {
      "cell_type": "markdown",
      "metadata": {
        "id": "7f95oU3scSZS"
      },
      "source": [
        "<br>\n",
        "<br>"
      ]
    },
    {
      "cell_type": "markdown",
      "metadata": {
        "id": "_4t6JhqucSZS"
      },
      "source": [
        "<br>\n",
        "<br>"
      ]
    },
    {
      "cell_type": "code",
      "metadata": {
        "id": "3peGxz8ccSZS"
      },
      "source": [
        "#tuning_foresta(2,10)"
      ],
      "execution_count": null,
      "outputs": []
    },
    {
      "cell_type": "markdown",
      "metadata": {
        "id": "GDtinXPBcSZT"
      },
      "source": [
        "#### Caso3 MCI vs HCF"
      ]
    },
    {
      "cell_type": "code",
      "metadata": {
        "id": "o5lN5HvvcSZW"
      },
      "source": [
        ""
      ],
      "execution_count": null,
      "outputs": []
    },
    {
      "cell_type": "code",
      "metadata": {
        "id": "leNxqVmIcSZW"
      },
      "source": [
        "\n",
        "df=MCIHC.loc[:,0]\n",
        "\n",
        "X = df.to_numpy()\n",
        "\n",
        "Y = MCIHC.loc[:,1]\n",
        "y = Y.to_numpy()\n",
        "y = np.where(y == 2, 1, 0)\n",
        "\n",
        "#from sklearn.model_selection import train_test_split\n",
        "\n",
        "\n",
        "X_train, X_test, y_train, y_test = train_test_split(X, y, test_size=0.3,stratify=y,random_state=42)\n",
        "\n",
        "#pca = PCA(n_components=2)\n",
        "\n",
        "#X_train_pca = pca.fit_transform(X_train)\n",
        "#X_test_pca = pca.transform(X_test)\n",
        "\n",
        "X_train_caso3=X_train\n",
        "X_test_caso3=X_test\n",
        "y_train_caso3=y_train\n",
        "y_test_caso3=y_test"
      ],
      "execution_count": null,
      "outputs": []
    },
    {
      "cell_type": "code",
      "metadata": {
        "id": "GoxIeP7_cSZX"
      },
      "source": [
        "X_train_caso3=X_train_caso3.reshape(-1,1)\n",
        "X_test_caso3=X_test_caso3.reshape(-1,1)\n",
        "y_train_caso3=y_train_caso3.reshape(-1,1)\n",
        "y_test_caso3=y_test_caso3.reshape(-1,1)"
      ],
      "execution_count": null,
      "outputs": []
    },
    {
      "cell_type": "code",
      "metadata": {
        "colab": {
          "base_uri": "https://localhost:8080/"
        },
        "id": "Yh63LnHzcSZX",
        "outputId": "21fae0d5-bad8-470a-9f70-2ce90c19086a"
      },
      "source": [
        "tuning_albero_decisione(3,10)"
      ],
      "execution_count": null,
      "outputs": [
        {
          "output_type": "stream",
          "name": "stderr",
          "text": [
            "[Parallel(n_jobs=-1)]: Using backend LokyBackend with 2 concurrent workers.\n"
          ]
        },
        {
          "output_type": "stream",
          "name": "stdout",
          "text": [
            "Fitting 10 folds for each of 216 candidates, totalling 2160 fits\n",
            "Accuratezza fase di Cross Validation con dati di Addestramento/Validazione: 0.767\n",
            "{'criterion': 'gini', 'max_depth': 3, 'min_samples_leaf': 2, 'min_samples_split': 2, 'min_weight_fraction_leaf': 0}\n",
            "Accuratezza con dati di Test: 0.500\n",
            "Risultato sui dati di test:\n",
            "              precision    recall  f1-score   support\n",
            "\n",
            "           0       0.50      1.00      0.67         6\n",
            "           1       0.00      0.00      0.00         6\n",
            "\n",
            "    accuracy                           0.50        12\n",
            "   macro avg       0.25      0.50      0.33        12\n",
            "weighted avg       0.25      0.50      0.33        12\n",
            "\n",
            "[[6 0]\n",
            " [6 0]]\n",
            "Accuratezza Test: 50.000\n",
            "Precisione  Test: 50.000\n",
            "Sensitività Test: 100.000\n",
            "Specificità Test: 0.000\n",
            "F1 score    Test: 66.000\n"
          ]
        },
        {
          "output_type": "stream",
          "name": "stderr",
          "text": [
            "[Parallel(n_jobs=-1)]: Done 2074 tasks      | elapsed:    2.8s\n",
            "[Parallel(n_jobs=-1)]: Done 2160 out of 2160 | elapsed:    2.9s finished\n",
            "/usr/local/lib/python3.7/dist-packages/sklearn/metrics/_classification.py:1272: UndefinedMetricWarning:\n",
            "\n",
            "Precision and F-score are ill-defined and being set to 0.0 in labels with no predicted samples. Use `zero_division` parameter to control this behavior.\n",
            "\n"
          ]
        }
      ]
    },
    {
      "cell_type": "code",
      "metadata": {
        "colab": {
          "base_uri": "https://localhost:8080/"
        },
        "id": "Rt0UYJo_cSZX",
        "outputId": "930f47a6-3275-49f2-a009-b0f8b3fa2872"
      },
      "source": [
        "tuning_SVM(3,10)"
      ],
      "execution_count": null,
      "outputs": [
        {
          "output_type": "stream",
          "name": "stderr",
          "text": [
            "/usr/local/lib/python3.7/dist-packages/sklearn/model_selection/_search.py:281: UserWarning:\n",
            "\n",
            "The total space of parameters 2 is smaller than n_iter=20. Running 2 iterations. For exhaustive searches, use GridSearchCV.\n",
            "\n",
            "[Parallel(n_jobs=-1)]: Using backend LokyBackend with 2 concurrent workers.\n"
          ]
        },
        {
          "output_type": "stream",
          "name": "stdout",
          "text": [
            "Fitting 10 folds for each of 2 candidates, totalling 20 fits\n"
          ]
        },
        {
          "output_type": "stream",
          "name": "stderr",
          "text": [
            "[Parallel(n_jobs=-1)]: Done  20 out of  20 | elapsed:  1.7min finished\n",
            "/usr/local/lib/python3.7/dist-packages/sklearn/utils/validation.py:760: DataConversionWarning:\n",
            "\n",
            "A column-vector y was passed when a 1d array was expected. Please change the shape of y to (n_samples, ), for example using ravel().\n",
            "\n"
          ]
        },
        {
          "output_type": "stream",
          "name": "stdout",
          "text": [
            "Accuratezza fase di Cross Validation con dati di Addestramento/Validazione: 0.817\n",
            "{'kernel': 'linear'}\n",
            "Accuratezza con dati di Test: 0.500\n",
            "Risultato sui dati di test:\n",
            "              precision    recall  f1-score   support\n",
            "\n",
            "           0       0.50      1.00      0.67         6\n",
            "           1       0.00      0.00      0.00         6\n",
            "\n",
            "    accuracy                           0.50        12\n",
            "   macro avg       0.25      0.50      0.33        12\n",
            "weighted avg       0.25      0.50      0.33        12\n",
            "\n",
            "[[6 0]\n",
            " [6 0]]\n",
            "Accuratezza Test: 50.000\n",
            "Precisione  Test: 50.000\n",
            "Sensitività Test: 100.000\n",
            "Specificità Test: 0.000\n",
            "F1 score    Test: 66.000\n"
          ]
        },
        {
          "output_type": "stream",
          "name": "stderr",
          "text": [
            "/usr/local/lib/python3.7/dist-packages/sklearn/metrics/_classification.py:1272: UndefinedMetricWarning:\n",
            "\n",
            "Precision and F-score are ill-defined and being set to 0.0 in labels with no predicted samples. Use `zero_division` parameter to control this behavior.\n",
            "\n"
          ]
        }
      ]
    },
    {
      "cell_type": "code",
      "metadata": {
        "id": "gQ3yUqLScSZY"
      },
      "source": [
        "#tuning_albero_decisione_CV(3,10)"
      ],
      "execution_count": null,
      "outputs": []
    },
    {
      "cell_type": "code",
      "metadata": {
        "id": "BNaVjvHgcSZY"
      },
      "source": [
        "#tuning_SVM_CV(3,10)"
      ],
      "execution_count": null,
      "outputs": []
    },
    {
      "cell_type": "code",
      "metadata": {
        "id": "e9BBXTd3cSZY"
      },
      "source": [
        "#validazione_incrociata_kfold(3,10,1)"
      ],
      "execution_count": null,
      "outputs": []
    },
    {
      "cell_type": "code",
      "metadata": {
        "id": "1nf10VSwcSZY"
      },
      "source": [
        "#validazione_incrociata_kfold(3,10,2)"
      ],
      "execution_count": null,
      "outputs": []
    },
    {
      "cell_type": "code",
      "metadata": {
        "id": "tgHNc7drcSZZ"
      },
      "source": [
        "#validazione_incrociata_score(3,10,1)"
      ],
      "execution_count": null,
      "outputs": []
    },
    {
      "cell_type": "code",
      "metadata": {
        "id": "LnPVDfPQcSZZ"
      },
      "source": [
        "#validazione_incrociata_score(3,10,2)"
      ],
      "execution_count": null,
      "outputs": []
    },
    {
      "cell_type": "code",
      "metadata": {
        "id": "oWgbtPsucSZZ"
      },
      "source": [
        "#prova_pipeline(3,2)"
      ],
      "execution_count": null,
      "outputs": []
    },
    {
      "cell_type": "code",
      "metadata": {
        "id": "ll8TUBHpcSZa"
      },
      "source": [
        "#exec_trad(3,1)"
      ],
      "execution_count": null,
      "outputs": []
    },
    {
      "cell_type": "code",
      "metadata": {
        "id": "S7wWhyRzcSZa"
      },
      "source": [
        "#exec_trad(3,2)"
      ],
      "execution_count": null,
      "outputs": []
    },
    {
      "cell_type": "code",
      "metadata": {
        "colab": {
          "base_uri": "https://localhost:8080/"
        },
        "id": "QIssBEFqcSZa",
        "outputId": "d1741b59-8efc-44da-d354-1e78d8f33c95"
      },
      "source": [
        "tuning_KNN(3,5)"
      ],
      "execution_count": null,
      "outputs": [
        {
          "output_type": "stream",
          "name": "stdout",
          "text": [
            "Fitting 5 folds for each of 16 candidates, totalling 80 fits\n"
          ]
        },
        {
          "output_type": "stream",
          "name": "stderr",
          "text": [
            "[Parallel(n_jobs=-1)]: Using backend LokyBackend with 2 concurrent workers.\n"
          ]
        },
        {
          "output_type": "stream",
          "name": "stdout",
          "text": [
            "Accuratezza fase di Cross Validation con dati di Addestramento/Validazione: 0.767\n",
            "{'algorithm': 'auto', 'n_neighbors': 5, 'weights': 'uniform'}\n",
            "Accuratezza con dati di Test: 0.500\n",
            "Risultato sui dati di test:\n",
            "              precision    recall  f1-score   support\n",
            "\n",
            "           0       0.50      1.00      0.67         6\n",
            "           1       0.00      0.00      0.00         6\n",
            "\n",
            "    accuracy                           0.50        12\n",
            "   macro avg       0.25      0.50      0.33        12\n",
            "weighted avg       0.25      0.50      0.33        12\n",
            "\n",
            "[[6 0]\n",
            " [6 0]]\n",
            "Accuratezza Test: 50.000\n",
            "Precisione  Test: 50.000\n",
            "Sensitività Test: 100.000\n",
            "Specificità Test: 0.000\n",
            "F1 score    Test: 66.000\n"
          ]
        },
        {
          "output_type": "stream",
          "name": "stderr",
          "text": [
            "[Parallel(n_jobs=-1)]: Done  80 out of  80 | elapsed:    0.3s finished\n",
            "/usr/local/lib/python3.7/dist-packages/sklearn/model_selection/_search.py:739: DataConversionWarning:\n",
            "\n",
            "A column-vector y was passed when a 1d array was expected. Please change the shape of y to (n_samples, ), for example using ravel().\n",
            "\n",
            "/usr/local/lib/python3.7/dist-packages/sklearn/metrics/_classification.py:1272: UndefinedMetricWarning:\n",
            "\n",
            "Precision and F-score are ill-defined and being set to 0.0 in labels with no predicted samples. Use `zero_division` parameter to control this behavior.\n",
            "\n"
          ]
        }
      ]
    },
    {
      "cell_type": "code",
      "metadata": {
        "id": "3WB7HPpmcSZb"
      },
      "source": [
        "#tuning_MP(3,10)"
      ],
      "execution_count": null,
      "outputs": []
    },
    {
      "cell_type": "code",
      "metadata": {
        "colab": {
          "base_uri": "https://localhost:8080/"
        },
        "id": "WtZGWNN4cSZb",
        "outputId": "cc38bf85-de18-4f7b-c6a0-bf31eec162b0"
      },
      "source": [
        "tuning_LR(3,5)"
      ],
      "execution_count": null,
      "outputs": [
        {
          "output_type": "stream",
          "name": "stderr",
          "text": [
            "[Parallel(n_jobs=-1)]: Using backend LokyBackend with 2 concurrent workers.\n"
          ]
        },
        {
          "output_type": "stream",
          "name": "stdout",
          "text": [
            "Fitting 5 folds for each of 14 candidates, totalling 70 fits\n",
            "Accuratezza fase di Cross Validation con dati di Addestramento/Validazione: 0.807\n",
            "I migliori parametri trvati sono :\n",
            " {'C': 0.001, 'penalty': 'l2'}\n",
            "Accuratezza con dati di Test: 0.500\n",
            "Risultato sui dati di test:\n",
            "              precision    recall  f1-score   support\n",
            "\n",
            "           0       0.00      0.00      0.00         6\n",
            "           1       0.50      1.00      0.67         6\n",
            "\n",
            "    accuracy                           0.50        12\n",
            "   macro avg       0.25      0.50      0.33        12\n",
            "weighted avg       0.25      0.50      0.33        12\n",
            "\n",
            "[[0 6]\n",
            " [0 6]]\n",
            "Accuratezza Test: 50.000\n",
            "Precisione  Test: 0.000\n",
            "Sensitività Test: 0.000\n",
            "Specificità Test: 100.000\n",
            "F1 score    Test: 0.000\n"
          ]
        },
        {
          "output_type": "stream",
          "name": "stderr",
          "text": [
            "[Parallel(n_jobs=-1)]: Done  70 out of  70 | elapsed:    0.5s finished\n",
            "/usr/local/lib/python3.7/dist-packages/sklearn/utils/validation.py:760: DataConversionWarning:\n",
            "\n",
            "A column-vector y was passed when a 1d array was expected. Please change the shape of y to (n_samples, ), for example using ravel().\n",
            "\n",
            "/usr/local/lib/python3.7/dist-packages/sklearn/metrics/_classification.py:1272: UndefinedMetricWarning:\n",
            "\n",
            "Precision and F-score are ill-defined and being set to 0.0 in labels with no predicted samples. Use `zero_division` parameter to control this behavior.\n",
            "\n"
          ]
        }
      ]
    },
    {
      "cell_type": "code",
      "metadata": {
        "id": "0WeGWD83cSZb"
      },
      "source": [
        "#tuning_foresta(3,10)"
      ],
      "execution_count": null,
      "outputs": []
    },
    {
      "cell_type": "code",
      "metadata": {
        "id": "RaT4rEDtcSZc"
      },
      "source": [
        ""
      ],
      "execution_count": null,
      "outputs": []
    },
    {
      "cell_type": "markdown",
      "metadata": {
        "id": "1v2f8SxlcSZc"
      },
      "source": [
        "#### Caso4 CASE vs HCF"
      ]
    },
    {
      "cell_type": "code",
      "metadata": {
        "id": "aGHJ0FyycSZc"
      },
      "source": [
        ""
      ],
      "execution_count": null,
      "outputs": []
    },
    {
      "cell_type": "code",
      "metadata": {
        "id": "s6VqhRmrcSZc"
      },
      "source": [
        "df=CASEHC.loc[:,0]\n",
        "\n",
        "X = df.to_numpy()\n",
        "\n",
        "Y = CASEHC.loc[:,1]\n",
        "y = Y.to_numpy()\n",
        "y = np.where(y == 3, 1, 0)\n",
        "#from sklearn.model_selection import train_test_split\n",
        "\n",
        "\n",
        "X_train, X_test, y_train, y_test = train_test_split(X, y, test_size=0.3,stratify=y,random_state=42)\n",
        "\n",
        "#pca = PCA(n_components=2)\n",
        "\n",
        "#X_train_pca = pca.fit_transform(X_train)\n",
        "#X_test_pca = pca.transform(X_test)\n",
        "\n",
        "X_train_caso4=X_train\n",
        "X_test_caso4=X_test\n",
        "y_train_caso4=y_train\n",
        "y_test_caso4=y_test"
      ],
      "execution_count": null,
      "outputs": []
    },
    {
      "cell_type": "code",
      "metadata": {
        "id": "hVR9oGD8cSZd"
      },
      "source": [
        "X_train_caso4=X_train_caso4.reshape(-1,1)\n",
        "X_test_caso4=X_test_caso4.reshape(-1,1)\n",
        "y_train_caso4=y_train_caso4.reshape(-1,1)\n",
        "y_test_caso4=y_test_caso4.reshape(-1,1)"
      ],
      "execution_count": null,
      "outputs": []
    },
    {
      "cell_type": "code",
      "metadata": {
        "colab": {
          "base_uri": "https://localhost:8080/"
        },
        "id": "Ab6mDVwEcSZd",
        "outputId": "6af92c37-946c-4467-b3aa-f8e762b7c26c"
      },
      "source": [
        "tuning_albero_decisione(4,5)"
      ],
      "execution_count": null,
      "outputs": [
        {
          "output_type": "stream",
          "name": "stderr",
          "text": [
            "[Parallel(n_jobs=-1)]: Using backend LokyBackend with 2 concurrent workers.\n"
          ]
        },
        {
          "output_type": "stream",
          "name": "stdout",
          "text": [
            "Fitting 5 folds for each of 216 candidates, totalling 1080 fits\n",
            "Accuratezza fase di Cross Validation con dati di Addestramento/Validazione: 0.821\n",
            "{'criterion': 'gini', 'max_depth': 3, 'min_samples_leaf': 1, 'min_samples_split': 2, 'min_weight_fraction_leaf': 0}\n",
            "Accuratezza con dati di Test: 0.611\n",
            "Risultato sui dati di test:\n",
            "              precision    recall  f1-score   support\n",
            "\n",
            "           0       0.73      0.67      0.70        12\n",
            "           1       0.43      0.50      0.46         6\n",
            "\n",
            "    accuracy                           0.61        18\n",
            "   macro avg       0.58      0.58      0.58        18\n",
            "weighted avg       0.63      0.61      0.62        18\n",
            "\n",
            "[[8 4]\n",
            " [3 3]]\n",
            "Accuratezza Test: 61.000\n",
            "Precisione  Test: 72.000\n",
            "Sensitività Test: 66.000\n",
            "Specificità Test: 50.000\n",
            "F1 score    Test: 68.000\n"
          ]
        },
        {
          "output_type": "stream",
          "name": "stderr",
          "text": [
            "[Parallel(n_jobs=-1)]: Done 1050 tasks      | elapsed:    1.5s\n",
            "[Parallel(n_jobs=-1)]: Done 1077 out of 1080 | elapsed:    1.6s remaining:    0.0s\n",
            "[Parallel(n_jobs=-1)]: Done 1080 out of 1080 | elapsed:    1.6s finished\n"
          ]
        }
      ]
    },
    {
      "cell_type": "code",
      "metadata": {
        "colab": {
          "base_uri": "https://localhost:8080/"
        },
        "id": "jliGNnArcSZd",
        "outputId": "bc0341dc-438f-4f5d-d68b-6dd25a1b8ca2"
      },
      "source": [
        "tuning_SVM(4,5)"
      ],
      "execution_count": null,
      "outputs": [
        {
          "output_type": "stream",
          "name": "stderr",
          "text": [
            "/usr/local/lib/python3.7/dist-packages/sklearn/model_selection/_search.py:281: UserWarning:\n",
            "\n",
            "The total space of parameters 2 is smaller than n_iter=20. Running 2 iterations. For exhaustive searches, use GridSearchCV.\n",
            "\n",
            "[Parallel(n_jobs=-1)]: Using backend LokyBackend with 2 concurrent workers.\n"
          ]
        },
        {
          "output_type": "stream",
          "name": "stdout",
          "text": [
            "Fitting 5 folds for each of 2 candidates, totalling 10 fits\n"
          ]
        },
        {
          "output_type": "stream",
          "name": "stderr",
          "text": [
            "[Parallel(n_jobs=-1)]: Done  10 out of  10 | elapsed:    8.2s finished\n",
            "/usr/local/lib/python3.7/dist-packages/sklearn/utils/validation.py:760: DataConversionWarning:\n",
            "\n",
            "A column-vector y was passed when a 1d array was expected. Please change the shape of y to (n_samples, ), for example using ravel().\n",
            "\n"
          ]
        },
        {
          "output_type": "stream",
          "name": "stdout",
          "text": [
            "Accuratezza fase di Cross Validation con dati di Addestramento/Validazione: 0.825\n",
            "{'kernel': 'linear'}\n",
            "Accuratezza con dati di Test: 0.722\n",
            "Risultato sui dati di test:\n",
            "              precision    recall  f1-score   support\n",
            "\n",
            "           0       0.82      0.75      0.78        12\n",
            "           1       0.57      0.67      0.62         6\n",
            "\n",
            "    accuracy                           0.72        18\n",
            "   macro avg       0.69      0.71      0.70        18\n",
            "weighted avg       0.74      0.72      0.73        18\n",
            "\n",
            "[[9 3]\n",
            " [2 4]]\n",
            "Accuratezza Test: 72.000\n",
            "Precisione  Test: 81.000\n",
            "Sensitività Test: 75.000\n",
            "Specificità Test: 66.000\n",
            "F1 score    Test: 77.000\n"
          ]
        }
      ]
    },
    {
      "cell_type": "code",
      "metadata": {
        "id": "XxJTuo--cSZd"
      },
      "source": [
        "#tuning_albero_decisione_CV(4,10)"
      ],
      "execution_count": null,
      "outputs": []
    },
    {
      "cell_type": "code",
      "metadata": {
        "id": "qLXT4J6DcSZe"
      },
      "source": [
        "#tuning_SVM_CV(4,10)"
      ],
      "execution_count": null,
      "outputs": []
    },
    {
      "cell_type": "code",
      "metadata": {
        "id": "vad2juI-cSZe"
      },
      "source": [
        "#validazione_incrociata_kfold(4,10,1)"
      ],
      "execution_count": null,
      "outputs": []
    },
    {
      "cell_type": "code",
      "metadata": {
        "id": "Nt3VxycLcSZe"
      },
      "source": [
        "#validazione_incrociata_kfold(4,10,2)"
      ],
      "execution_count": null,
      "outputs": []
    },
    {
      "cell_type": "code",
      "metadata": {
        "id": "D7lqjO-DcSZe"
      },
      "source": [
        "#validazione_incrociata_score(4,10,1)"
      ],
      "execution_count": null,
      "outputs": []
    },
    {
      "cell_type": "code",
      "metadata": {
        "id": "DFg771vucSZf"
      },
      "source": [
        "#validazione_incrociata_score(4,10,2)"
      ],
      "execution_count": null,
      "outputs": []
    },
    {
      "cell_type": "code",
      "metadata": {
        "id": "qVUXnYnlcSZf"
      },
      "source": [
        "#prova_pipeline(4,2)"
      ],
      "execution_count": null,
      "outputs": []
    },
    {
      "cell_type": "code",
      "metadata": {
        "id": "M1hvGdLQcSZf"
      },
      "source": [
        "#exec_trad(4,1)"
      ],
      "execution_count": null,
      "outputs": []
    },
    {
      "cell_type": "code",
      "metadata": {
        "id": "Lhr5f28WcSZf"
      },
      "source": [
        "#exec_trad(4,2)"
      ],
      "execution_count": null,
      "outputs": []
    },
    {
      "cell_type": "code",
      "metadata": {
        "colab": {
          "base_uri": "https://localhost:8080/"
        },
        "id": "SbHN7mbVcSZg",
        "outputId": "c8d20c42-810e-4e66-bda6-af0813a580d0"
      },
      "source": [
        "tuning_KNN(4,5)"
      ],
      "execution_count": null,
      "outputs": [
        {
          "output_type": "stream",
          "name": "stdout",
          "text": [
            "Fitting 5 folds for each of 16 candidates, totalling 80 fits\n"
          ]
        },
        {
          "output_type": "stream",
          "name": "stderr",
          "text": [
            "[Parallel(n_jobs=-1)]: Using backend LokyBackend with 2 concurrent workers.\n"
          ]
        },
        {
          "output_type": "stream",
          "name": "stdout",
          "text": [
            "Accuratezza fase di Cross Validation con dati di Addestramento/Validazione: 0.825\n",
            "{'algorithm': 'auto', 'n_neighbors': 20, 'weights': 'distance'}\n",
            "Accuratezza con dati di Test: 0.611\n",
            "Risultato sui dati di test:\n",
            "              precision    recall  f1-score   support\n",
            "\n",
            "           0       0.73      0.67      0.70        12\n",
            "           1       0.43      0.50      0.46         6\n",
            "\n",
            "    accuracy                           0.61        18\n",
            "   macro avg       0.58      0.58      0.58        18\n",
            "weighted avg       0.63      0.61      0.62        18\n",
            "\n",
            "[[8 4]\n",
            " [3 3]]\n",
            "Accuratezza Test: 61.000\n",
            "Precisione  Test: 72.000\n",
            "Sensitività Test: 66.000\n",
            "Specificità Test: 50.000\n",
            "F1 score    Test: 68.000\n"
          ]
        },
        {
          "output_type": "stream",
          "name": "stderr",
          "text": [
            "[Parallel(n_jobs=-1)]: Done  80 out of  80 | elapsed:    0.3s finished\n",
            "/usr/local/lib/python3.7/dist-packages/sklearn/model_selection/_search.py:739: DataConversionWarning:\n",
            "\n",
            "A column-vector y was passed when a 1d array was expected. Please change the shape of y to (n_samples, ), for example using ravel().\n",
            "\n"
          ]
        }
      ]
    },
    {
      "cell_type": "code",
      "metadata": {
        "id": "DLFqk_YOcSZg"
      },
      "source": [
        "#tuning_MP(4,10)"
      ],
      "execution_count": null,
      "outputs": []
    },
    {
      "cell_type": "code",
      "metadata": {
        "colab": {
          "base_uri": "https://localhost:8080/"
        },
        "id": "bv6q24wYcSZg",
        "outputId": "6dc27373-3050-489f-a512-acbb49f87df1"
      },
      "source": [
        "tuning_LR(4,5)"
      ],
      "execution_count": null,
      "outputs": [
        {
          "output_type": "stream",
          "name": "stderr",
          "text": [
            "[Parallel(n_jobs=-1)]: Using backend LokyBackend with 2 concurrent workers.\n"
          ]
        },
        {
          "output_type": "stream",
          "name": "stdout",
          "text": [
            "Fitting 5 folds for each of 14 candidates, totalling 70 fits\n",
            "Accuratezza fase di Cross Validation con dati di Addestramento/Validazione: 0.825\n",
            "I migliori parametri trvati sono :\n",
            " {'C': 0.001, 'penalty': 'l2'}\n",
            "Accuratezza con dati di Test: 0.722\n",
            "Risultato sui dati di test:\n",
            "              precision    recall  f1-score   support\n",
            "\n",
            "           0       0.82      0.75      0.78        12\n",
            "           1       0.57      0.67      0.62         6\n",
            "\n",
            "    accuracy                           0.72        18\n",
            "   macro avg       0.69      0.71      0.70        18\n",
            "weighted avg       0.74      0.72      0.73        18\n",
            "\n",
            "[[9 3]\n",
            " [2 4]]\n",
            "Accuratezza Test: 72.000\n",
            "Precisione  Test: 81.000\n",
            "Sensitività Test: 75.000\n",
            "Specificità Test: 66.000\n",
            "F1 score    Test: 77.000\n"
          ]
        },
        {
          "output_type": "stream",
          "name": "stderr",
          "text": [
            "[Parallel(n_jobs=-1)]: Done  70 out of  70 | elapsed:    0.5s finished\n",
            "/usr/local/lib/python3.7/dist-packages/sklearn/utils/validation.py:760: DataConversionWarning:\n",
            "\n",
            "A column-vector y was passed when a 1d array was expected. Please change the shape of y to (n_samples, ), for example using ravel().\n",
            "\n"
          ]
        }
      ]
    },
    {
      "cell_type": "code",
      "metadata": {
        "id": "DjaoPc5AcSZj"
      },
      "source": [
        "#tuning_foresta(4,10)"
      ],
      "execution_count": null,
      "outputs": []
    },
    {
      "cell_type": "markdown",
      "metadata": {
        "id": "4NfyPOHCcSZk"
      },
      "source": [
        "<br>\n",
        "<br>"
      ]
    },
    {
      "cell_type": "code",
      "metadata": {
        "id": "Nn-71WjycSZk"
      },
      "source": [
        ""
      ],
      "execution_count": null,
      "outputs": []
    },
    {
      "cell_type": "code",
      "metadata": {
        "id": "jg7DpO91cSZk"
      },
      "source": [
        ""
      ],
      "execution_count": null,
      "outputs": []
    },
    {
      "cell_type": "markdown",
      "metadata": {
        "id": "UW81vUL9h1Kc"
      },
      "source": [
        "### 4 hz"
      ]
    },
    {
      "cell_type": "code",
      "metadata": {
        "id": "xS0plE9mh1Kd"
      },
      "source": [
        ""
      ],
      "execution_count": null,
      "outputs": []
    },
    {
      "cell_type": "code",
      "metadata": {
        "id": "IdrVyQfSh1Kd"
      },
      "source": [
        "\n",
        "y1=hz4.loc[:,0].to_numpy()\n",
        "y2=hz4.loc[:,1].to_numpy()\n",
        "y3=hz4.loc[:,2].to_numpy()\n",
        "\n"
      ],
      "execution_count": null,
      "outputs": []
    },
    {
      "cell_type": "code",
      "metadata": {
        "id": "8RFVhtHph1Ke"
      },
      "source": [
        ""
      ],
      "execution_count": null,
      "outputs": []
    },
    {
      "cell_type": "code",
      "metadata": {
        "colab": {
          "base_uri": "https://localhost:8080/"
        },
        "id": "X3Zsk-5Lh1Ke",
        "outputId": "b796e88b-2961-4a85-9a2a-4075e71012af"
      },
      "source": [
        "y1,y2,y3,hz3"
      ],
      "execution_count": null,
      "outputs": [
        {
          "output_type": "execute_result",
          "data": {
            "text/plain": [
              "(array([ 9975.58991528, 78349.23148313,  5366.27036613, 35355.19572558,\n",
              "         4516.99338283,  7097.37597394, 19055.2658651 ,  6493.44169099,\n",
              "        39428.4358365 ,  6553.36739722,  7297.73006652, 10679.80134239,\n",
              "        68775.38741324,  6891.19709735,  3366.63281144, 10412.14102347,\n",
              "        35259.80361413,  6942.62834894,  5696.638515  ]),\n",
              " array([ 3278.94543908,  1989.01632392,  1609.77594249, 16011.10808331,\n",
              "        28503.2867512 ,  1933.71496518,  6199.15291648, 13872.81560342,\n",
              "         5165.79479087,  1917.91737537,  8220.29046406,  4227.34083582,\n",
              "         3209.92073741, 21627.49548375,  4117.50737171,  6434.64959203,\n",
              "        59546.07679633, 31466.18637085, 24481.09052705]),\n",
              " array([ 3685.27635041,  4907.40522338,  2491.8084164 ,   811.55063025,\n",
              "          542.49083525,  4879.68164543,  2466.41436217,  1121.62303151,\n",
              "        14160.09919403,  2364.13823891,   473.20955415,  4011.5578254 ,\n",
              "         4284.30889563,  2234.46682334,   565.09558521,   627.18986308,\n",
              "         4633.55977466,  2040.06304235,  1277.5753047 ]),\n",
              "                 0              1             2\n",
              " 0    11941.878738    4543.079199   4260.988482\n",
              " 1    21550.001904    3171.543412   6215.959227\n",
              " 2     7954.533234    2502.250572   2878.113664\n",
              " 3    42676.089206   17653.023737    946.372606\n",
              " 4    12148.524998   27477.274131    612.110742\n",
              " 5    12297.442066    3811.751034   7665.308313\n",
              " 6    19050.995665   10227.178360   3062.984321\n",
              " 7     4992.630324   22822.837806   1211.440626\n",
              " 8    16011.533992    6828.018160  22390.062009\n",
              " 9     9151.569946    3078.353285   2888.256949\n",
              " 10   14843.201818    9843.491084    563.057786\n",
              " 11   10445.070016    5141.196547   4760.093445\n",
              " 12  182700.816803    4200.470742   4973.644479\n",
              " 13   15954.139771   16579.985919   2618.749608\n",
              " 14   11744.109673    5865.329829    698.500991\n",
              " 15    7023.707557   12802.749011    703.477024\n",
              " 16   37297.839360  104104.832648   4747.694480\n",
              " 17   11622.940208   71138.564456   2467.786370\n",
              " 18   14182.838368   23134.713975   1533.933877)"
            ]
          },
          "metadata": {},
          "execution_count": 231
        }
      ]
    },
    {
      "cell_type": "code",
      "metadata": {
        "id": "Sxj5VBMxh1Kf"
      },
      "source": [
        "x1 = np.linspace(0, 19, len(y1), endpoint=True)\n",
        "x2 = np.linspace(0, 19,len(y2), endpoint=True)\n",
        "x3 = np.linspace(0, 19,len(y3), endpoint=True)"
      ],
      "execution_count": null,
      "outputs": []
    },
    {
      "cell_type": "code",
      "metadata": {
        "colab": {
          "base_uri": "https://localhost:8080/",
          "height": 265
        },
        "id": "bOke0BUGh1Kg",
        "outputId": "63194c0e-41cc-453d-9c6e-43f42530a11d"
      },
      "source": [
        "plt.plot(x1, y1, 'g')\n",
        "plt.plot(x2, y2, 'b')\n",
        "plt.plot(x3, y3, 'r')\n",
        "#plt.ylim(0,300000)\n",
        "plt.show()"
      ],
      "execution_count": null,
      "outputs": [
        {
          "output_type": "display_data",
          "data": {
            "image/png": "[encoded data removed]",
            "text/plain": [
              "<Figure size 432x288 with 1 Axes>"
            ]
          },
          "metadata": {
            "needs_background": "light"
          }
        }
      ]
    },
    {
      "cell_type": "code",
      "metadata": {
        "id": "UfYdaBedh1Kg"
      },
      "source": [
        ""
      ],
      "execution_count": null,
      "outputs": []
    },
    {
      "cell_type": "code",
      "metadata": {
        "id": "4eM6Z-4Nh1Kh"
      },
      "source": [
        "matriceAD = np.zeros((len(y1),2))\n",
        "matriceMCI = np.zeros((len(y2),2))\n",
        "matriceHC = np.zeros((len(y3),2))\n"
      ],
      "execution_count": null,
      "outputs": []
    },
    {
      "cell_type": "code",
      "metadata": {
        "id": "HOtYai9Zh1Kh"
      },
      "source": [
        "matriceADHC = np.zeros((len(y1)+len(y3),2))\n",
        "matriceMCIHC = np.zeros((len(y2)+len(y3),2))\n",
        "matriceADMCI = np.zeros((len(y1)+len(y2),2))\n",
        "matriceCASEHC = np.zeros((len(y2)+len(y3)+len(y1),2))"
      ],
      "execution_count": null,
      "outputs": []
    },
    {
      "cell_type": "code",
      "metadata": {
        "id": "fDJjK3XCh1Kh"
      },
      "source": [
        "for i in range(len(y1)):\n",
        "      matriceAD[i,0]=y1[i]\n",
        "      matriceAD[i,1]=1"
      ],
      "execution_count": null,
      "outputs": []
    },
    {
      "cell_type": "code",
      "metadata": {
        "id": "Hj2pf8zkh1Ki"
      },
      "source": [
        "for i in range(len(y2)):\n",
        "      matriceMCI[i,0]=y2[i]\n",
        "      matriceMCI[i,1]=2"
      ],
      "execution_count": null,
      "outputs": []
    },
    {
      "cell_type": "code",
      "metadata": {
        "id": "Lc3cyFOeh1Ki"
      },
      "source": [
        "for i in range(len(y3)):\n",
        "      matriceHC[i,0]=y3[i]\n",
        "      matriceHC[i,1]=3"
      ],
      "execution_count": null,
      "outputs": []
    },
    {
      "cell_type": "code",
      "metadata": {
        "id": "o29GcQ1mh1Kj"
      },
      "source": [
        "AD=pd.DataFrame(matriceAD)\n",
        "HC=pd.DataFrame(matriceHC)\n",
        "MCI=pd.DataFrame(matriceMCI)"
      ],
      "execution_count": null,
      "outputs": []
    },
    {
      "cell_type": "code",
      "metadata": {
        "id": "_AtwH3y3h1Kj"
      },
      "source": [
        "ADHC=AD.copy()\n",
        "ADHC=ADHC.append(HC,ignore_index=True)"
      ],
      "execution_count": null,
      "outputs": []
    },
    {
      "cell_type": "code",
      "metadata": {
        "id": "HG24U7nlh1Kk"
      },
      "source": [
        "ADMCI=AD.copy()\n",
        "ADMCI=ADMCI.append(MCI,ignore_index=True)"
      ],
      "execution_count": null,
      "outputs": []
    },
    {
      "cell_type": "code",
      "metadata": {
        "id": "fTOQo4u0h1Kk"
      },
      "source": [
        "MCIHC=MCI.copy()\n",
        "MCIHC=MCIHC.append(HC,ignore_index=True)"
      ],
      "execution_count": null,
      "outputs": []
    },
    {
      "cell_type": "code",
      "metadata": {
        "id": "84KgWNvah1Kk"
      },
      "source": [
        "CASEHC=AD.copy()\n",
        "CASEHC=CASEHC.append(MCI,ignore_index=True)\n",
        "CASEHC=CASEHC.append(HC,ignore_index=True)"
      ],
      "execution_count": null,
      "outputs": []
    },
    {
      "cell_type": "code",
      "metadata": {
        "id": "PEjMwM3Xh1Kk"
      },
      "source": [
        ""
      ],
      "execution_count": null,
      "outputs": []
    },
    {
      "cell_type": "markdown",
      "metadata": {
        "id": "mIMGZFQPh1Kl"
      },
      "source": [
        "#### Caso1 AD vs HCF"
      ]
    },
    {
      "cell_type": "code",
      "metadata": {
        "id": "3xaDUBG1h1Kl"
      },
      "source": [
        "df=ADHC.loc[:,0]\n",
        "\n",
        "X = df.to_numpy()\n",
        "\n",
        "Y = ADHC.loc[:,1]\n",
        "y = Y.to_numpy()"
      ],
      "execution_count": null,
      "outputs": []
    },
    {
      "cell_type": "code",
      "metadata": {
        "id": "WMrCYGOgh1Kl"
      },
      "source": [
        "y = np.where(y == 1, 1, 0)"
      ],
      "execution_count": null,
      "outputs": []
    },
    {
      "cell_type": "code",
      "metadata": {
        "colab": {
          "base_uri": "https://localhost:8080/"
        },
        "id": "KAZEhy0vh1Km",
        "outputId": "f7cf0655-5499-4fd9-88fc-8fb192ef7c9f"
      },
      "source": [
        "X,y"
      ],
      "execution_count": null,
      "outputs": [
        {
          "output_type": "execute_result",
          "data": {
            "text/plain": [
              "(array([ 9975.58991528, 78349.23148313,  5366.27036613, 35355.19572558,\n",
              "         4516.99338283,  7097.37597394, 19055.2658651 ,  6493.44169099,\n",
              "        39428.4358365 ,  6553.36739722,  7297.73006652, 10679.80134239,\n",
              "        68775.38741324,  6891.19709735,  3366.63281144, 10412.14102347,\n",
              "        35259.80361413,  6942.62834894,  5696.638515  ,  3685.27635041,\n",
              "         4907.40522338,  2491.8084164 ,   811.55063025,   542.49083525,\n",
              "         4879.68164543,  2466.41436217,  1121.62303151, 14160.09919403,\n",
              "         2364.13823891,   473.20955415,  4011.5578254 ,  4284.30889563,\n",
              "         2234.46682334,   565.09558521,   627.18986308,  4633.55977466,\n",
              "         2040.06304235,  1277.5753047 ]),\n",
              " array([1, 1, 1, 1, 1, 1, 1, 1, 1, 1, 1, 1, 1, 1, 1, 1, 1, 1, 1, 0, 0, 0,\n",
              "        0, 0, 0, 0, 0, 0, 0, 0, 0, 0, 0, 0, 0, 0, 0, 0]))"
            ]
          },
          "metadata": {},
          "execution_count": 246
        }
      ]
    },
    {
      "cell_type": "code",
      "metadata": {
        "id": "3R8MPEQwh1Km"
      },
      "source": [
        "df=ADHC.loc[:,0]\n",
        "\n",
        "X = df.to_numpy()\n",
        "\n",
        "Y = ADHC.loc[:,1]\n",
        "y = Y.to_numpy()\n",
        "y = np.where(y == 1, 1, 0)\n",
        "#from sklearn.model_selection import train_test_split\n",
        "\n",
        "\n",
        "X_train, X_test, y_train, y_test = train_test_split(X, y, test_size=0.3,stratify=y,random_state=42)\n",
        "\n",
        "#pca = PCA(n_components=2)\n",
        "\n",
        "#X_train_pca = pca.fit_transform(X_train)\n",
        "#X_test_pca = pca.transform(X_test)\n",
        "\n",
        "X_train_caso1=X_train\n",
        "X_test_caso1=X_test\n",
        "y_train_caso1=y_train\n",
        "y_test_caso1=y_test\n",
        "\n"
      ],
      "execution_count": null,
      "outputs": []
    },
    {
      "cell_type": "code",
      "metadata": {
        "id": "HlgX2dJGh1Km"
      },
      "source": [
        "X_train_caso1=X_train_caso1.reshape(-1,1)\n",
        "X_test_caso1=X_test_caso1.reshape(-1,1)\n",
        "y_train_caso1=y_train_caso1.reshape(-1,1)\n",
        "y_test_caso1=y_test_caso1.reshape(-1,1)\n"
      ],
      "execution_count": null,
      "outputs": []
    },
    {
      "cell_type": "code",
      "metadata": {
        "id": "PkqSaOuUh1Kn"
      },
      "source": [
        ""
      ],
      "execution_count": null,
      "outputs": []
    },
    {
      "cell_type": "code",
      "metadata": {
        "colab": {
          "base_uri": "https://localhost:8080/"
        },
        "id": "w4K4EfXkh1Kn",
        "outputId": "e285982b-7de4-4300-b2c3-84215160a481"
      },
      "source": [
        "tuning_albero_decisione(1,5)"
      ],
      "execution_count": null,
      "outputs": [
        {
          "output_type": "stream",
          "name": "stdout",
          "text": [
            "Fitting 5 folds for each of 216 candidates, totalling 1080 fits\n"
          ]
        },
        {
          "output_type": "stream",
          "name": "stderr",
          "text": [
            "[Parallel(n_jobs=-1)]: Using backend LokyBackend with 2 concurrent workers.\n"
          ]
        },
        {
          "output_type": "stream",
          "name": "stdout",
          "text": [
            "Accuratezza fase di Cross Validation con dati di Addestramento/Validazione: 0.893\n",
            "{'criterion': 'gini', 'max_depth': 3, 'min_samples_leaf': 3, 'min_samples_split': 2, 'min_weight_fraction_leaf': 0}\n",
            "Accuratezza con dati di Test: 1.000\n",
            "Risultato sui dati di test:\n",
            "              precision    recall  f1-score   support\n",
            "\n",
            "           0       1.00      1.00      1.00         6\n",
            "           1       1.00      1.00      1.00         6\n",
            "\n",
            "    accuracy                           1.00        12\n",
            "   macro avg       1.00      1.00      1.00        12\n",
            "weighted avg       1.00      1.00      1.00        12\n",
            "\n",
            "[[6 0]\n",
            " [0 6]]\n",
            "Accuratezza Test: 100.000\n",
            "Precisione  Test: 100.000\n",
            "Sensitività Test: 100.000\n",
            "Specificità Test: 100.000\n",
            "F1 score    Test: 100.000\n"
          ]
        },
        {
          "output_type": "stream",
          "name": "stderr",
          "text": [
            "[Parallel(n_jobs=-1)]: Done 1050 tasks      | elapsed:    1.5s\n",
            "[Parallel(n_jobs=-1)]: Done 1077 out of 1080 | elapsed:    1.6s remaining:    0.0s\n",
            "[Parallel(n_jobs=-1)]: Done 1080 out of 1080 | elapsed:    1.6s finished\n"
          ]
        }
      ]
    },
    {
      "cell_type": "code",
      "metadata": {
        "colab": {
          "base_uri": "https://localhost:8080/"
        },
        "id": "DimIZ-0sh1Kn",
        "outputId": "20ff0009-2f28-4646-bb60-b1c6af6f749a"
      },
      "source": [
        "tuning_SVM(1,5)"
      ],
      "execution_count": null,
      "outputs": [
        {
          "output_type": "stream",
          "name": "stderr",
          "text": [
            "/usr/local/lib/python3.7/dist-packages/sklearn/model_selection/_search.py:281: UserWarning:\n",
            "\n",
            "The total space of parameters 2 is smaller than n_iter=20. Running 2 iterations. For exhaustive searches, use GridSearchCV.\n",
            "\n",
            "[Parallel(n_jobs=-1)]: Using backend LokyBackend with 2 concurrent workers.\n"
          ]
        },
        {
          "output_type": "stream",
          "name": "stdout",
          "text": [
            "Fitting 5 folds for each of 2 candidates, totalling 10 fits\n"
          ]
        },
        {
          "output_type": "stream",
          "name": "stderr",
          "text": [
            "[Parallel(n_jobs=-1)]: Done  10 out of  10 | elapsed:   20.5s finished\n",
            "/usr/local/lib/python3.7/dist-packages/sklearn/utils/validation.py:760: DataConversionWarning:\n",
            "\n",
            "A column-vector y was passed when a 1d array was expected. Please change the shape of y to (n_samples, ), for example using ravel().\n",
            "\n"
          ]
        },
        {
          "output_type": "stream",
          "name": "stdout",
          "text": [
            "Accuratezza fase di Cross Validation con dati di Addestramento/Validazione: 0.773\n",
            "{'kernel': 'linear'}\n",
            "Accuratezza con dati di Test: 1.000\n",
            "Risultato sui dati di test:\n",
            "              precision    recall  f1-score   support\n",
            "\n",
            "           0       1.00      1.00      1.00         6\n",
            "           1       1.00      1.00      1.00         6\n",
            "\n",
            "    accuracy                           1.00        12\n",
            "   macro avg       1.00      1.00      1.00        12\n",
            "weighted avg       1.00      1.00      1.00        12\n",
            "\n",
            "[[6 0]\n",
            " [0 6]]\n",
            "Accuratezza Test: 100.000\n",
            "Precisione  Test: 100.000\n",
            "Sensitività Test: 100.000\n",
            "Specificità Test: 100.000\n",
            "F1 score    Test: 100.000\n"
          ]
        }
      ]
    },
    {
      "cell_type": "code",
      "metadata": {
        "id": "lWd7s6Evh1Ko"
      },
      "source": [
        "#tuning_foresta(1,10)"
      ],
      "execution_count": null,
      "outputs": []
    },
    {
      "cell_type": "code",
      "metadata": {
        "id": "7v2ZuThZh1Ko"
      },
      "source": [
        "#tuning_albero_decisione_CV(1,10)"
      ],
      "execution_count": null,
      "outputs": []
    },
    {
      "cell_type": "code",
      "metadata": {
        "id": "PUx7YFF2h1Ko"
      },
      "source": [
        "#tuning_SVM_CV(1,10)"
      ],
      "execution_count": null,
      "outputs": []
    },
    {
      "cell_type": "code",
      "metadata": {
        "id": "6CfIsAPPh1Ko"
      },
      "source": [
        "#validazione_incrociata_kfold(1,10,1)"
      ],
      "execution_count": null,
      "outputs": []
    },
    {
      "cell_type": "code",
      "metadata": {
        "id": "Y1wO_MiMh1Ko"
      },
      "source": [
        "#validazione_incrociata_kfold(1,10,2)"
      ],
      "execution_count": null,
      "outputs": []
    },
    {
      "cell_type": "code",
      "metadata": {
        "id": "crfs1oRYh1Kp"
      },
      "source": [
        "#validazione_incrociata_score(1,10,1)"
      ],
      "execution_count": null,
      "outputs": []
    },
    {
      "cell_type": "code",
      "metadata": {
        "id": "ItYW8Hjgh1Kp"
      },
      "source": [
        "#validazione_incrociata_score(1,10,2)"
      ],
      "execution_count": null,
      "outputs": []
    },
    {
      "cell_type": "code",
      "metadata": {
        "id": "anJCOvdJh1Kp"
      },
      "source": [
        "#prova_pipeline(1,2)"
      ],
      "execution_count": null,
      "outputs": []
    },
    {
      "cell_type": "code",
      "metadata": {
        "id": "by6P21JBh1Kp"
      },
      "source": [
        ""
      ],
      "execution_count": null,
      "outputs": []
    },
    {
      "cell_type": "code",
      "metadata": {
        "colab": {
          "base_uri": "https://localhost:8080/"
        },
        "id": "z9VcQW4Xh1Kq",
        "outputId": "e371e31f-be69-4dbe-a455-7d8c4ed9ce93"
      },
      "source": [
        "tuning_KNN(1,5)"
      ],
      "execution_count": null,
      "outputs": [
        {
          "output_type": "stream",
          "name": "stdout",
          "text": [
            "Fitting 5 folds for each of 16 candidates, totalling 80 fits\n"
          ]
        },
        {
          "output_type": "stream",
          "name": "stderr",
          "text": [
            "[Parallel(n_jobs=-1)]: Using backend LokyBackend with 2 concurrent workers.\n"
          ]
        },
        {
          "output_type": "stream",
          "name": "stdout",
          "text": [
            "Accuratezza fase di Cross Validation con dati di Addestramento/Validazione: 0.813\n",
            "{'algorithm': 'auto', 'n_neighbors': 5, 'weights': 'uniform'}\n",
            "Accuratezza con dati di Test: 1.000\n",
            "Risultato sui dati di test:\n",
            "              precision    recall  f1-score   support\n",
            "\n",
            "           0       1.00      1.00      1.00         6\n",
            "           1       1.00      1.00      1.00         6\n",
            "\n",
            "    accuracy                           1.00        12\n",
            "   macro avg       1.00      1.00      1.00        12\n",
            "weighted avg       1.00      1.00      1.00        12\n",
            "\n",
            "[[6 0]\n",
            " [0 6]]\n",
            "Accuratezza Test: 100.000\n",
            "Precisione  Test: 100.000\n",
            "Sensitività Test: 100.000\n",
            "Specificità Test: 100.000\n",
            "F1 score    Test: 100.000\n"
          ]
        },
        {
          "output_type": "stream",
          "name": "stderr",
          "text": [
            "[Parallel(n_jobs=-1)]: Done  80 out of  80 | elapsed:    0.3s finished\n",
            "/usr/local/lib/python3.7/dist-packages/sklearn/model_selection/_search.py:739: DataConversionWarning:\n",
            "\n",
            "A column-vector y was passed when a 1d array was expected. Please change the shape of y to (n_samples, ), for example using ravel().\n",
            "\n"
          ]
        }
      ]
    },
    {
      "cell_type": "code",
      "metadata": {
        "id": "5qzgHUvIh1Kq"
      },
      "source": [
        "#tuning_MP(1,5)"
      ],
      "execution_count": null,
      "outputs": []
    },
    {
      "cell_type": "code",
      "metadata": {
        "colab": {
          "base_uri": "https://localhost:8080/"
        },
        "id": "Y-QO6d3gh1Kq",
        "outputId": "c1a8c1c8-b774-4af8-a6f2-ef4e5a7b7b20"
      },
      "source": [
        "tuning_LR(1,5)"
      ],
      "execution_count": null,
      "outputs": [
        {
          "output_type": "stream",
          "name": "stderr",
          "text": [
            "[Parallel(n_jobs=-1)]: Using backend LokyBackend with 2 concurrent workers.\n"
          ]
        },
        {
          "output_type": "stream",
          "name": "stdout",
          "text": [
            "Fitting 5 folds for each of 14 candidates, totalling 70 fits\n",
            "Accuratezza fase di Cross Validation con dati di Addestramento/Validazione: 0.773\n",
            "I migliori parametri trvati sono :\n",
            " {'C': 0.001, 'penalty': 'l2'}\n",
            "Accuratezza con dati di Test: 1.000\n",
            "Risultato sui dati di test:\n",
            "              precision    recall  f1-score   support\n",
            "\n",
            "           0       1.00      1.00      1.00         6\n",
            "           1       1.00      1.00      1.00         6\n",
            "\n",
            "    accuracy                           1.00        12\n",
            "   macro avg       1.00      1.00      1.00        12\n",
            "weighted avg       1.00      1.00      1.00        12\n",
            "\n",
            "[[6 0]\n",
            " [0 6]]\n",
            "Accuratezza Test: 100.000\n",
            "Precisione  Test: 0.000\n",
            "Sensitività Test: 100.000\n",
            "Specificità Test: 100.000\n",
            "F1 score    Test: 0.000\n"
          ]
        },
        {
          "output_type": "stream",
          "name": "stderr",
          "text": [
            "[Parallel(n_jobs=-1)]: Done  70 out of  70 | elapsed:    0.4s finished\n",
            "/usr/local/lib/python3.7/dist-packages/sklearn/utils/validation.py:760: DataConversionWarning:\n",
            "\n",
            "A column-vector y was passed when a 1d array was expected. Please change the shape of y to (n_samples, ), for example using ravel().\n",
            "\n"
          ]
        }
      ]
    },
    {
      "cell_type": "code",
      "metadata": {
        "id": "TtRVM9Gsh1Kq"
      },
      "source": [
        "#tuning_foresta(1,5)"
      ],
      "execution_count": null,
      "outputs": []
    },
    {
      "cell_type": "code",
      "metadata": {
        "id": "dZM4T00Jh1Kr"
      },
      "source": [
        ""
      ],
      "execution_count": null,
      "outputs": []
    },
    {
      "cell_type": "markdown",
      "metadata": {
        "id": "emupxFQVh1Kr"
      },
      "source": [
        "#### Caso2 AD vs MCI"
      ]
    },
    {
      "cell_type": "code",
      "metadata": {
        "id": "1Oy02Bb_h1Kr"
      },
      "source": [
        ""
      ],
      "execution_count": null,
      "outputs": []
    },
    {
      "cell_type": "code",
      "metadata": {
        "id": "JXEzvTbYh1Kr"
      },
      "source": [
        "\n",
        "df=ADMCI.loc[:,0]\n",
        "\n",
        "X = df.to_numpy()\n",
        "\n",
        "Y = ADMCI.loc[:,1]\n",
        "y = Y.to_numpy()\n",
        "y = np.where(y == 1, 1, 0)\n",
        "#from sklearn.model_selection import train_test_split\n",
        "\n",
        "X_train, X_test, y_train, y_test = train_test_split(X, y, test_size=0.3,stratify=y,random_state=42)\n",
        "\n",
        "#pca = PCA(n_components=5)\n",
        "\n",
        "#X_train_pca = pca.fit_transform(X_train)\n",
        "#X_test_pca = pca.transform(X_test)\n",
        "\n",
        "X_train_caso2=X_train\n",
        "X_test_caso2=X_test\n",
        "y_train_caso2=y_train\n",
        "y_test_caso2=y_test"
      ],
      "execution_count": null,
      "outputs": []
    },
    {
      "cell_type": "code",
      "metadata": {
        "id": "rLf3RL1Ah1Kr"
      },
      "source": [
        "X_train_caso2=X_train_caso2.reshape(-1,1)\n",
        "X_test_caso2=X_test_caso2.reshape(-1,1)\n",
        "y_train_caso2=y_train_caso2.reshape(-1,1)\n",
        "y_test_caso2=y_test_caso2.reshape(-1,1)"
      ],
      "execution_count": null,
      "outputs": []
    },
    {
      "cell_type": "code",
      "metadata": {
        "colab": {
          "base_uri": "https://localhost:8080/"
        },
        "id": "RGyvokroh1Ks",
        "outputId": "3b8e40cc-de90-4d8c-b372-6ddf36637b58"
      },
      "source": [
        "tuning_albero_decisione(2,5)"
      ],
      "execution_count": null,
      "outputs": [
        {
          "output_type": "stream",
          "name": "stderr",
          "text": [
            "[Parallel(n_jobs=-1)]: Using backend LokyBackend with 2 concurrent workers.\n"
          ]
        },
        {
          "output_type": "stream",
          "name": "stdout",
          "text": [
            "Fitting 5 folds for each of 216 candidates, totalling 1080 fits\n",
            "Accuratezza fase di Cross Validation con dati di Addestramento/Validazione: 0.540\n",
            "{'criterion': 'gini', 'max_depth': 3, 'min_samples_leaf': 1, 'min_samples_split': 2, 'min_weight_fraction_leaf': 0}\n",
            "Accuratezza con dati di Test: 0.750\n",
            "Risultato sui dati di test:\n",
            "              precision    recall  f1-score   support\n",
            "\n",
            "           0       1.00      0.50      0.67         6\n",
            "           1       0.67      1.00      0.80         6\n",
            "\n",
            "    accuracy                           0.75        12\n",
            "   macro avg       0.83      0.75      0.73        12\n",
            "weighted avg       0.83      0.75      0.73        12\n",
            "\n",
            "[[3 3]\n",
            " [0 6]]\n",
            "Accuratezza Test: 75.000\n",
            "Precisione  Test: 100.000\n",
            "Sensitività Test: 50.000\n",
            "Specificità Test: 100.000\n",
            "F1 score    Test: 66.000\n"
          ]
        },
        {
          "output_type": "stream",
          "name": "stderr",
          "text": [
            "[Parallel(n_jobs=-1)]: Done 1062 tasks      | elapsed:    1.4s\n",
            "[Parallel(n_jobs=-1)]: Done 1077 out of 1080 | elapsed:    1.5s remaining:    0.0s\n",
            "[Parallel(n_jobs=-1)]: Done 1080 out of 1080 | elapsed:    1.5s finished\n"
          ]
        }
      ]
    },
    {
      "cell_type": "code",
      "metadata": {
        "colab": {
          "base_uri": "https://localhost:8080/"
        },
        "id": "FnCu9kI9h1Ks",
        "outputId": "d7bbac3d-6487-4a6e-b00a-6b2eb916fc74"
      },
      "source": [
        "tuning_SVM(2,5)"
      ],
      "execution_count": null,
      "outputs": [
        {
          "output_type": "stream",
          "name": "stderr",
          "text": [
            "/usr/local/lib/python3.7/dist-packages/sklearn/model_selection/_search.py:281: UserWarning:\n",
            "\n",
            "The total space of parameters 2 is smaller than n_iter=20. Running 2 iterations. For exhaustive searches, use GridSearchCV.\n",
            "\n",
            "[Parallel(n_jobs=-1)]: Using backend LokyBackend with 2 concurrent workers.\n"
          ]
        },
        {
          "output_type": "stream",
          "name": "stdout",
          "text": [
            "Fitting 5 folds for each of 2 candidates, totalling 10 fits\n"
          ]
        },
        {
          "output_type": "stream",
          "name": "stderr",
          "text": [
            "[Parallel(n_jobs=-1)]: Done  10 out of  10 | elapsed:   27.2s finished\n",
            "/usr/local/lib/python3.7/dist-packages/sklearn/utils/validation.py:760: DataConversionWarning:\n",
            "\n",
            "A column-vector y was passed when a 1d array was expected. Please change the shape of y to (n_samples, ), for example using ravel().\n",
            "\n"
          ]
        },
        {
          "output_type": "stream",
          "name": "stdout",
          "text": [
            "Accuratezza fase di Cross Validation con dati di Addestramento/Validazione: 0.380\n",
            "{'kernel': 'linear'}\n",
            "Accuratezza con dati di Test: 0.500\n",
            "Risultato sui dati di test:\n",
            "              precision    recall  f1-score   support\n",
            "\n",
            "           0       0.50      1.00      0.67         6\n",
            "           1       0.00      0.00      0.00         6\n",
            "\n",
            "    accuracy                           0.50        12\n",
            "   macro avg       0.25      0.50      0.33        12\n",
            "weighted avg       0.25      0.50      0.33        12\n",
            "\n",
            "[[6 0]\n",
            " [6 0]]\n",
            "Accuratezza Test: 50.000\n",
            "Precisione  Test: 50.000\n",
            "Sensitività Test: 100.000\n",
            "Specificità Test: 0.000\n",
            "F1 score    Test: 66.000\n"
          ]
        },
        {
          "output_type": "stream",
          "name": "stderr",
          "text": [
            "/usr/local/lib/python3.7/dist-packages/sklearn/metrics/_classification.py:1272: UndefinedMetricWarning:\n",
            "\n",
            "Precision and F-score are ill-defined and being set to 0.0 in labels with no predicted samples. Use `zero_division` parameter to control this behavior.\n",
            "\n"
          ]
        }
      ]
    },
    {
      "cell_type": "code",
      "metadata": {
        "id": "WvQyaV7uh1Ks"
      },
      "source": [
        "#tuning_foresta(2,10)"
      ],
      "execution_count": null,
      "outputs": []
    },
    {
      "cell_type": "code",
      "metadata": {
        "id": "sSVWZ0Vph1Kt"
      },
      "source": [
        "#tuning_albero_decisione_CV(2,10)"
      ],
      "execution_count": null,
      "outputs": []
    },
    {
      "cell_type": "code",
      "metadata": {
        "id": "2UwOzqrgh1Kt"
      },
      "source": [
        "#tuning_SVM_CV(2,10)"
      ],
      "execution_count": null,
      "outputs": []
    },
    {
      "cell_type": "code",
      "metadata": {
        "id": "7cQSSRt-h1Kt"
      },
      "source": [
        "#validazione_incrociata_kfold(2,10,1)"
      ],
      "execution_count": null,
      "outputs": []
    },
    {
      "cell_type": "code",
      "metadata": {
        "id": "nmawVimFh1Kt"
      },
      "source": [
        "#validazione_incrociata_kfold(2,10,2)"
      ],
      "execution_count": null,
      "outputs": []
    },
    {
      "cell_type": "code",
      "metadata": {
        "id": "fAQIyRdDh1Ku"
      },
      "source": [
        "#validazione_incrociata_score(2,10,1)"
      ],
      "execution_count": null,
      "outputs": []
    },
    {
      "cell_type": "code",
      "metadata": {
        "id": "wNK8mHhVh1Ku"
      },
      "source": [
        "#validazione_incrociata_score(2,10,2)"
      ],
      "execution_count": null,
      "outputs": []
    },
    {
      "cell_type": "code",
      "metadata": {
        "id": "SqKY_Tlhh1Kv"
      },
      "source": [
        "#prova_pipeline(2,2)"
      ],
      "execution_count": null,
      "outputs": []
    },
    {
      "cell_type": "code",
      "metadata": {
        "id": "mdpXCINch1Kv"
      },
      "source": [
        "#exec_trad(2,1)"
      ],
      "execution_count": null,
      "outputs": []
    },
    {
      "cell_type": "code",
      "metadata": {
        "id": "ZiFhinAXh1Kv"
      },
      "source": [
        "#exec_trad(2,2)"
      ],
      "execution_count": null,
      "outputs": []
    },
    {
      "cell_type": "code",
      "metadata": {
        "colab": {
          "base_uri": "https://localhost:8080/"
        },
        "id": "nYT0XxMBh1Kv",
        "outputId": "460a3469-99c7-4d8a-81b5-89c6345ddb0c"
      },
      "source": [
        "tuning_KNN(2,5)"
      ],
      "execution_count": null,
      "outputs": [
        {
          "output_type": "stream",
          "name": "stdout",
          "text": [
            "Fitting 5 folds for each of 16 candidates, totalling 80 fits\n"
          ]
        },
        {
          "output_type": "stream",
          "name": "stderr",
          "text": [
            "[Parallel(n_jobs=-1)]: Using backend LokyBackend with 2 concurrent workers.\n"
          ]
        },
        {
          "output_type": "stream",
          "name": "stdout",
          "text": [
            "Accuratezza fase di Cross Validation con dati di Addestramento/Validazione: 0.620\n",
            "{'algorithm': 'auto', 'n_neighbors': 5, 'weights': 'uniform'}\n",
            "Accuratezza con dati di Test: 0.750\n",
            "Risultato sui dati di test:\n",
            "              precision    recall  f1-score   support\n",
            "\n",
            "           0       1.00      0.50      0.67         6\n",
            "           1       0.67      1.00      0.80         6\n",
            "\n",
            "    accuracy                           0.75        12\n",
            "   macro avg       0.83      0.75      0.73        12\n",
            "weighted avg       0.83      0.75      0.73        12\n",
            "\n",
            "[[3 3]\n",
            " [0 6]]\n",
            "Accuratezza Test: 75.000\n",
            "Precisione  Test: 100.000\n",
            "Sensitività Test: 50.000\n",
            "Specificità Test: 100.000\n",
            "F1 score    Test: 66.000\n"
          ]
        },
        {
          "output_type": "stream",
          "name": "stderr",
          "text": [
            "[Parallel(n_jobs=-1)]: Done  80 out of  80 | elapsed:    0.3s finished\n",
            "/usr/local/lib/python3.7/dist-packages/sklearn/model_selection/_search.py:739: DataConversionWarning:\n",
            "\n",
            "A column-vector y was passed when a 1d array was expected. Please change the shape of y to (n_samples, ), for example using ravel().\n",
            "\n"
          ]
        }
      ]
    },
    {
      "cell_type": "code",
      "metadata": {
        "id": "KYaQBWash1Kw"
      },
      "source": [
        "#tuning_MP(2,10)"
      ],
      "execution_count": null,
      "outputs": []
    },
    {
      "cell_type": "code",
      "metadata": {
        "colab": {
          "base_uri": "https://localhost:8080/"
        },
        "id": "PCbd_7Xih1Kw",
        "outputId": "4b2324b2-e7e1-4dc1-e7d2-43d272b37ab2"
      },
      "source": [
        "tuning_LR(2,5)"
      ],
      "execution_count": null,
      "outputs": [
        {
          "output_type": "stream",
          "name": "stderr",
          "text": [
            "[Parallel(n_jobs=-1)]: Using backend LokyBackend with 2 concurrent workers.\n"
          ]
        },
        {
          "output_type": "stream",
          "name": "stdout",
          "text": [
            "Fitting 5 folds for each of 14 candidates, totalling 70 fits\n",
            "Accuratezza fase di Cross Validation con dati di Addestramento/Validazione: 0.393\n",
            "I migliori parametri trvati sono :\n",
            " {'C': 0.001, 'penalty': 'l2'}\n",
            "Accuratezza con dati di Test: 0.500\n",
            "Risultato sui dati di test:\n",
            "              precision    recall  f1-score   support\n",
            "\n",
            "           0       0.00      0.00      0.00         6\n",
            "           1       0.50      1.00      0.67         6\n",
            "\n",
            "    accuracy                           0.50        12\n",
            "   macro avg       0.25      0.50      0.33        12\n",
            "weighted avg       0.25      0.50      0.33        12\n",
            "\n",
            "[[0 6]\n",
            " [0 6]]\n",
            "Accuratezza Test: 50.000\n",
            "Precisione  Test: 0.000\n",
            "Sensitività Test: 0.000\n",
            "Specificità Test: 100.000\n",
            "F1 score    Test: 0.000\n"
          ]
        },
        {
          "output_type": "stream",
          "name": "stderr",
          "text": [
            "[Parallel(n_jobs=-1)]: Done  70 out of  70 | elapsed:    0.3s finished\n",
            "/usr/local/lib/python3.7/dist-packages/sklearn/utils/validation.py:760: DataConversionWarning:\n",
            "\n",
            "A column-vector y was passed when a 1d array was expected. Please change the shape of y to (n_samples, ), for example using ravel().\n",
            "\n",
            "/usr/local/lib/python3.7/dist-packages/sklearn/metrics/_classification.py:1272: UndefinedMetricWarning:\n",
            "\n",
            "Precision and F-score are ill-defined and being set to 0.0 in labels with no predicted samples. Use `zero_division` parameter to control this behavior.\n",
            "\n"
          ]
        }
      ]
    },
    {
      "cell_type": "markdown",
      "metadata": {
        "id": "_8UhTptsh1Kw"
      },
      "source": [
        "<br>\n",
        "<br>"
      ]
    },
    {
      "cell_type": "markdown",
      "metadata": {
        "id": "XhS0DGYmh1Kx"
      },
      "source": [
        "<br>\n",
        "<br>"
      ]
    },
    {
      "cell_type": "code",
      "metadata": {
        "id": "QTbsviq9h1Kx"
      },
      "source": [
        "#tuning_foresta(2,10)"
      ],
      "execution_count": null,
      "outputs": []
    },
    {
      "cell_type": "markdown",
      "metadata": {
        "id": "yltH7xILh1Kx"
      },
      "source": [
        "#### Caso3 MCI vs HCF"
      ]
    },
    {
      "cell_type": "code",
      "metadata": {
        "id": "5AJbYBdzh1Kx"
      },
      "source": [
        ""
      ],
      "execution_count": null,
      "outputs": []
    },
    {
      "cell_type": "code",
      "metadata": {
        "id": "ZsZpwdy9h1Ky"
      },
      "source": [
        "\n",
        "df=MCIHC.loc[:,0]\n",
        "\n",
        "X = df.to_numpy()\n",
        "\n",
        "Y = MCIHC.loc[:,1]\n",
        "y = Y.to_numpy()\n",
        "y = np.where(y == 2, 1, 0)\n",
        "\n",
        "#from sklearn.model_selection import train_test_split\n",
        "\n",
        "\n",
        "X_train, X_test, y_train, y_test = train_test_split(X, y, test_size=0.3,stratify=y,random_state=42)\n",
        "\n",
        "#pca = PCA(n_components=2)\n",
        "\n",
        "#X_train_pca = pca.fit_transform(X_train)\n",
        "#X_test_pca = pca.transform(X_test)\n",
        "\n",
        "X_train_caso3=X_train\n",
        "X_test_caso3=X_test\n",
        "y_train_caso3=y_train\n",
        "y_test_caso3=y_test"
      ],
      "execution_count": null,
      "outputs": []
    },
    {
      "cell_type": "code",
      "metadata": {
        "id": "7YRVep1lh1Ky"
      },
      "source": [
        "X_train_caso3=X_train_caso3.reshape(-1,1)\n",
        "X_test_caso3=X_test_caso3.reshape(-1,1)\n",
        "y_train_caso3=y_train_caso3.reshape(-1,1)\n",
        "y_test_caso3=y_test_caso3.reshape(-1,1)"
      ],
      "execution_count": null,
      "outputs": []
    },
    {
      "cell_type": "code",
      "metadata": {
        "colab": {
          "base_uri": "https://localhost:8080/"
        },
        "id": "8Rs4DGidh1Ky",
        "outputId": "7182cccc-5985-4682-cdda-a8247ed24645"
      },
      "source": [
        "tuning_albero_decisione(3,10)"
      ],
      "execution_count": null,
      "outputs": [
        {
          "output_type": "stream",
          "name": "stderr",
          "text": [
            "[Parallel(n_jobs=-1)]: Using backend LokyBackend with 2 concurrent workers.\n"
          ]
        },
        {
          "output_type": "stream",
          "name": "stdout",
          "text": [
            "Fitting 10 folds for each of 216 candidates, totalling 2160 fits\n",
            "Accuratezza fase di Cross Validation con dati di Addestramento/Validazione: 0.867\n",
            "{'criterion': 'gini', 'max_depth': 3, 'min_samples_leaf': 3, 'min_samples_split': 2, 'min_weight_fraction_leaf': 0}\n",
            "Accuratezza con dati di Test: 0.500\n",
            "Risultato sui dati di test:\n",
            "              precision    recall  f1-score   support\n",
            "\n",
            "           0       0.50      1.00      0.67         6\n",
            "           1       0.00      0.00      0.00         6\n",
            "\n",
            "    accuracy                           0.50        12\n",
            "   macro avg       0.25      0.50      0.33        12\n",
            "weighted avg       0.25      0.50      0.33        12\n",
            "\n",
            "[[6 0]\n",
            " [6 0]]\n",
            "Accuratezza Test: 50.000\n",
            "Precisione  Test: 50.000\n",
            "Sensitività Test: 100.000\n",
            "Specificità Test: 0.000\n",
            "F1 score    Test: 66.000\n"
          ]
        },
        {
          "output_type": "stream",
          "name": "stderr",
          "text": [
            "[Parallel(n_jobs=-1)]: Done 2090 tasks      | elapsed:    2.7s\n",
            "[Parallel(n_jobs=-1)]: Done 2160 out of 2160 | elapsed:    2.8s finished\n",
            "/usr/local/lib/python3.7/dist-packages/sklearn/metrics/_classification.py:1272: UndefinedMetricWarning:\n",
            "\n",
            "Precision and F-score are ill-defined and being set to 0.0 in labels with no predicted samples. Use `zero_division` parameter to control this behavior.\n",
            "\n"
          ]
        }
      ]
    },
    {
      "cell_type": "code",
      "metadata": {
        "colab": {
          "base_uri": "https://localhost:8080/"
        },
        "id": "YMmoq0Ezh1Kz",
        "outputId": "e062cec7-d146-405b-868e-19bc6c25ea09"
      },
      "source": [
        "tuning_SVM(3,10)"
      ],
      "execution_count": null,
      "outputs": [
        {
          "output_type": "stream",
          "name": "stderr",
          "text": [
            "/usr/local/lib/python3.7/dist-packages/sklearn/model_selection/_search.py:281: UserWarning:\n",
            "\n",
            "The total space of parameters 2 is smaller than n_iter=20. Running 2 iterations. For exhaustive searches, use GridSearchCV.\n",
            "\n",
            "[Parallel(n_jobs=-1)]: Using backend LokyBackend with 2 concurrent workers.\n"
          ]
        },
        {
          "output_type": "stream",
          "name": "stdout",
          "text": [
            "Fitting 10 folds for each of 2 candidates, totalling 20 fits\n",
            "Accuratezza fase di Cross Validation con dati di Addestramento/Validazione: 0.750\n",
            "{'kernel': 'rbf'}\n",
            "Accuratezza con dati di Test: 0.500\n",
            "Risultato sui dati di test:\n",
            "              precision    recall  f1-score   support\n",
            "\n",
            "           0       0.50      1.00      0.67         6\n",
            "           1       0.00      0.00      0.00         6\n",
            "\n",
            "    accuracy                           0.50        12\n",
            "   macro avg       0.25      0.50      0.33        12\n",
            "weighted avg       0.25      0.50      0.33        12\n",
            "\n",
            "[[6 0]\n",
            " [6 0]]\n",
            "Accuratezza Test: 50.000\n",
            "Precisione  Test: 50.000\n",
            "Sensitività Test: 100.000\n",
            "Specificità Test: 0.000\n",
            "F1 score    Test: 66.000\n"
          ]
        },
        {
          "output_type": "stream",
          "name": "stderr",
          "text": [
            "[Parallel(n_jobs=-1)]: Done  20 out of  20 | elapsed:  1.4min finished\n",
            "/usr/local/lib/python3.7/dist-packages/sklearn/utils/validation.py:760: DataConversionWarning:\n",
            "\n",
            "A column-vector y was passed when a 1d array was expected. Please change the shape of y to (n_samples, ), for example using ravel().\n",
            "\n",
            "/usr/local/lib/python3.7/dist-packages/sklearn/metrics/_classification.py:1272: UndefinedMetricWarning:\n",
            "\n",
            "Precision and F-score are ill-defined and being set to 0.0 in labels with no predicted samples. Use `zero_division` parameter to control this behavior.\n",
            "\n"
          ]
        }
      ]
    },
    {
      "cell_type": "code",
      "metadata": {
        "id": "bxyZ-Nfyh1Kz"
      },
      "source": [
        "#tuning_albero_decisione_CV(3,10)"
      ],
      "execution_count": null,
      "outputs": []
    },
    {
      "cell_type": "code",
      "metadata": {
        "id": "jdb_AzsHh1Kz"
      },
      "source": [
        "#tuning_SVM_CV(3,10)"
      ],
      "execution_count": null,
      "outputs": []
    },
    {
      "cell_type": "code",
      "metadata": {
        "id": "ZFDBHU_Oh1Kz"
      },
      "source": [
        "#validazione_incrociata_kfold(3,10,1)"
      ],
      "execution_count": null,
      "outputs": []
    },
    {
      "cell_type": "code",
      "metadata": {
        "id": "vaWlMiIdh1K0"
      },
      "source": [
        "#validazione_incrociata_kfold(3,10,2)"
      ],
      "execution_count": null,
      "outputs": []
    },
    {
      "cell_type": "code",
      "metadata": {
        "id": "HhNUAcuoh1K2"
      },
      "source": [
        "#validazione_incrociata_score(3,10,1)"
      ],
      "execution_count": null,
      "outputs": []
    },
    {
      "cell_type": "code",
      "metadata": {
        "id": "Vt4T61TZh1K2"
      },
      "source": [
        "#validazione_incrociata_score(3,10,2)"
      ],
      "execution_count": null,
      "outputs": []
    },
    {
      "cell_type": "code",
      "metadata": {
        "id": "qiRrRqhsh1K2"
      },
      "source": [
        "#prova_pipeline(3,2)"
      ],
      "execution_count": null,
      "outputs": []
    },
    {
      "cell_type": "code",
      "metadata": {
        "id": "OF1rFQMKh1K3"
      },
      "source": [
        "#exec_trad(3,1)"
      ],
      "execution_count": null,
      "outputs": []
    },
    {
      "cell_type": "code",
      "metadata": {
        "id": "RTi4PeNVh1K3"
      },
      "source": [
        "#exec_trad(3,2)"
      ],
      "execution_count": null,
      "outputs": []
    },
    {
      "cell_type": "code",
      "metadata": {
        "colab": {
          "base_uri": "https://localhost:8080/"
        },
        "id": "ExnkCguEh1K3",
        "outputId": "15039c7d-e431-43f9-b5bb-01283934186e"
      },
      "source": [
        "tuning_KNN(3,5)"
      ],
      "execution_count": null,
      "outputs": [
        {
          "output_type": "stream",
          "name": "stderr",
          "text": [
            "[Parallel(n_jobs=-1)]: Using backend LokyBackend with 2 concurrent workers.\n"
          ]
        },
        {
          "output_type": "stream",
          "name": "stdout",
          "text": [
            "Fitting 5 folds for each of 16 candidates, totalling 80 fits\n",
            "Accuratezza fase di Cross Validation con dati di Addestramento/Validazione: 0.767\n",
            "{'algorithm': 'auto', 'n_neighbors': 5, 'weights': 'uniform'}\n",
            "Accuratezza con dati di Test: 0.500\n",
            "Risultato sui dati di test:\n",
            "              precision    recall  f1-score   support\n",
            "\n",
            "           0       0.50      1.00      0.67         6\n",
            "           1       0.00      0.00      0.00         6\n",
            "\n",
            "    accuracy                           0.50        12\n",
            "   macro avg       0.25      0.50      0.33        12\n",
            "weighted avg       0.25      0.50      0.33        12\n",
            "\n",
            "[[6 0]\n",
            " [6 0]]\n",
            "Accuratezza Test: 50.000\n",
            "Precisione  Test: 50.000\n",
            "Sensitività Test: 100.000\n",
            "Specificità Test: 0.000\n",
            "F1 score    Test: 66.000\n"
          ]
        },
        {
          "output_type": "stream",
          "name": "stderr",
          "text": [
            "[Parallel(n_jobs=-1)]: Done  80 out of  80 | elapsed:    0.3s finished\n",
            "/usr/local/lib/python3.7/dist-packages/sklearn/model_selection/_search.py:739: DataConversionWarning:\n",
            "\n",
            "A column-vector y was passed when a 1d array was expected. Please change the shape of y to (n_samples, ), for example using ravel().\n",
            "\n",
            "/usr/local/lib/python3.7/dist-packages/sklearn/metrics/_classification.py:1272: UndefinedMetricWarning:\n",
            "\n",
            "Precision and F-score are ill-defined and being set to 0.0 in labels with no predicted samples. Use `zero_division` parameter to control this behavior.\n",
            "\n"
          ]
        }
      ]
    },
    {
      "cell_type": "code",
      "metadata": {
        "id": "whKCCJMgh1K3"
      },
      "source": [
        "#tuning_MP(3,10)"
      ],
      "execution_count": null,
      "outputs": []
    },
    {
      "cell_type": "code",
      "metadata": {
        "colab": {
          "base_uri": "https://localhost:8080/"
        },
        "id": "Uugayvlbh1K4",
        "outputId": "93bfe43c-37b2-442e-f88a-eff197e4913e"
      },
      "source": [
        "tuning_LR(3,5)"
      ],
      "execution_count": null,
      "outputs": [
        {
          "output_type": "stream",
          "name": "stderr",
          "text": [
            "[Parallel(n_jobs=-1)]: Using backend LokyBackend with 2 concurrent workers.\n"
          ]
        },
        {
          "output_type": "stream",
          "name": "stdout",
          "text": [
            "Fitting 5 folds for each of 14 candidates, totalling 70 fits\n",
            "Accuratezza fase di Cross Validation con dati di Addestramento/Validazione: 0.767\n",
            "I migliori parametri trvati sono :\n",
            " {'C': 0.001, 'penalty': 'l2'}\n",
            "Accuratezza con dati di Test: 0.500\n",
            "Risultato sui dati di test:\n",
            "              precision    recall  f1-score   support\n",
            "\n",
            "           0       0.50      1.00      0.67         6\n",
            "           1       0.00      0.00      0.00         6\n",
            "\n",
            "    accuracy                           0.50        12\n",
            "   macro avg       0.25      0.50      0.33        12\n",
            "weighted avg       0.25      0.50      0.33        12\n",
            "\n",
            "[[6 0]\n",
            " [6 0]]\n",
            "Accuratezza Test: 50.000\n",
            "Precisione  Test: 50.000\n",
            "Sensitività Test: 100.000\n",
            "Specificità Test: 0.000\n",
            "F1 score    Test: 66.000\n"
          ]
        },
        {
          "output_type": "stream",
          "name": "stderr",
          "text": [
            "[Parallel(n_jobs=-1)]: Done  67 out of  70 | elapsed:    0.4s remaining:    0.0s\n",
            "[Parallel(n_jobs=-1)]: Done  70 out of  70 | elapsed:    0.5s finished\n",
            "/usr/local/lib/python3.7/dist-packages/sklearn/utils/validation.py:760: DataConversionWarning:\n",
            "\n",
            "A column-vector y was passed when a 1d array was expected. Please change the shape of y to (n_samples, ), for example using ravel().\n",
            "\n",
            "/usr/local/lib/python3.7/dist-packages/sklearn/metrics/_classification.py:1272: UndefinedMetricWarning:\n",
            "\n",
            "Precision and F-score are ill-defined and being set to 0.0 in labels with no predicted samples. Use `zero_division` parameter to control this behavior.\n",
            "\n"
          ]
        }
      ]
    },
    {
      "cell_type": "code",
      "metadata": {
        "id": "xp2rIp-fh1K4"
      },
      "source": [
        "#tuning_foresta(3,10)"
      ],
      "execution_count": null,
      "outputs": []
    },
    {
      "cell_type": "code",
      "metadata": {
        "id": "QzlG98hJh1K5"
      },
      "source": [
        ""
      ],
      "execution_count": null,
      "outputs": []
    },
    {
      "cell_type": "markdown",
      "metadata": {
        "id": "Qq-y6awvh1K5"
      },
      "source": [
        "#### Caso4 CASE vs HCF"
      ]
    },
    {
      "cell_type": "code",
      "metadata": {
        "id": "6C4Uu4lqh1K5"
      },
      "source": [
        ""
      ],
      "execution_count": null,
      "outputs": []
    },
    {
      "cell_type": "code",
      "metadata": {
        "id": "crCuRESuh1K5"
      },
      "source": [
        "df=CASEHC.loc[:,0]\n",
        "\n",
        "X = df.to_numpy()\n",
        "\n",
        "Y = CASEHC.loc[:,1]\n",
        "y = Y.to_numpy()\n",
        "y = np.where(y == 3, 1, 0)\n",
        "#from sklearn.model_selection import train_test_split\n",
        "\n",
        "\n",
        "X_train, X_test, y_train, y_test = train_test_split(X, y, test_size=0.3,stratify=y,random_state=42)\n",
        "\n",
        "#pca = PCA(n_components=2)\n",
        "\n",
        "#X_train_pca = pca.fit_transform(X_train)\n",
        "#X_test_pca = pca.transform(X_test)\n",
        "\n",
        "X_train_caso4=X_train\n",
        "X_test_caso4=X_test\n",
        "y_train_caso4=y_train\n",
        "y_test_caso4=y_test"
      ],
      "execution_count": null,
      "outputs": []
    },
    {
      "cell_type": "code",
      "metadata": {
        "id": "fozZPeCbh1K5"
      },
      "source": [
        "X_train_caso4=X_train_caso4.reshape(-1,1)\n",
        "X_test_caso4=X_test_caso4.reshape(-1,1)\n",
        "y_train_caso4=y_train_caso4.reshape(-1,1)\n",
        "y_test_caso4=y_test_caso4.reshape(-1,1)"
      ],
      "execution_count": null,
      "outputs": []
    },
    {
      "cell_type": "code",
      "metadata": {
        "colab": {
          "base_uri": "https://localhost:8080/"
        },
        "id": "px6MFYuih1K6",
        "outputId": "313fea92-4c94-4bfb-ed4e-b1823a0dcc3e"
      },
      "source": [
        "tuning_albero_decisione(4,5)"
      ],
      "execution_count": null,
      "outputs": [
        {
          "output_type": "stream",
          "name": "stderr",
          "text": [
            "[Parallel(n_jobs=-1)]: Using backend LokyBackend with 2 concurrent workers.\n"
          ]
        },
        {
          "output_type": "stream",
          "name": "stdout",
          "text": [
            "Fitting 5 folds for each of 216 candidates, totalling 1080 fits\n",
            "Accuratezza fase di Cross Validation con dati di Addestramento/Validazione: 0.825\n",
            "{'criterion': 'gini', 'max_depth': 3, 'min_samples_leaf': 1, 'min_samples_split': 2, 'min_weight_fraction_leaf': 0}\n",
            "Accuratezza con dati di Test: 0.778\n",
            "Risultato sui dati di test:\n",
            "              precision    recall  f1-score   support\n",
            "\n",
            "           0       0.83      0.83      0.83        12\n",
            "           1       0.67      0.67      0.67         6\n",
            "\n",
            "    accuracy                           0.78        18\n",
            "   macro avg       0.75      0.75      0.75        18\n",
            "weighted avg       0.78      0.78      0.78        18\n",
            "\n",
            "[[10  2]\n",
            " [ 2  4]]\n",
            "Accuratezza Test: 77.000\n",
            "Precisione  Test: 83.000\n",
            "Sensitività Test: 83.000\n",
            "Specificità Test: 66.000\n",
            "F1 score    Test: 83.000\n"
          ]
        },
        {
          "output_type": "stream",
          "name": "stderr",
          "text": [
            "[Parallel(n_jobs=-1)]: Done 1067 tasks      | elapsed:    1.5s\n",
            "[Parallel(n_jobs=-1)]: Done 1080 out of 1080 | elapsed:    1.5s finished\n"
          ]
        }
      ]
    },
    {
      "cell_type": "code",
      "metadata": {
        "colab": {
          "base_uri": "https://localhost:8080/"
        },
        "id": "1XYDuctfh1K6",
        "outputId": "7f1be0fa-4e5e-4a2c-e328-fa774000af3e"
      },
      "source": [
        "tuning_SVM(4,5)"
      ],
      "execution_count": null,
      "outputs": [
        {
          "output_type": "stream",
          "name": "stderr",
          "text": [
            "/usr/local/lib/python3.7/dist-packages/sklearn/model_selection/_search.py:281: UserWarning:\n",
            "\n",
            "The total space of parameters 2 is smaller than n_iter=20. Running 2 iterations. For exhaustive searches, use GridSearchCV.\n",
            "\n",
            "[Parallel(n_jobs=-1)]: Using backend LokyBackend with 2 concurrent workers.\n"
          ]
        },
        {
          "output_type": "stream",
          "name": "stdout",
          "text": [
            "Fitting 5 folds for each of 2 candidates, totalling 10 fits\n"
          ]
        },
        {
          "output_type": "stream",
          "name": "stderr",
          "text": [
            "[Parallel(n_jobs=-1)]: Done  10 out of  10 | elapsed:   23.0s finished\n",
            "/usr/local/lib/python3.7/dist-packages/sklearn/utils/validation.py:760: DataConversionWarning:\n",
            "\n",
            "A column-vector y was passed when a 1d array was expected. Please change the shape of y to (n_samples, ), for example using ravel().\n",
            "\n"
          ]
        },
        {
          "output_type": "stream",
          "name": "stdout",
          "text": [
            "Accuratezza fase di Cross Validation con dati di Addestramento/Validazione: 0.825\n",
            "{'kernel': 'linear'}\n",
            "Accuratezza con dati di Test: 0.667\n",
            "Risultato sui dati di test:\n",
            "              precision    recall  f1-score   support\n",
            "\n",
            "           0       0.80      0.67      0.73        12\n",
            "           1       0.50      0.67      0.57         6\n",
            "\n",
            "    accuracy                           0.67        18\n",
            "   macro avg       0.65      0.67      0.65        18\n",
            "weighted avg       0.70      0.67      0.68        18\n",
            "\n",
            "[[8 4]\n",
            " [2 4]]\n",
            "Accuratezza Test: 66.000\n",
            "Precisione  Test: 80.000\n",
            "Sensitività Test: 66.000\n",
            "Specificità Test: 66.000\n",
            "F1 score    Test: 72.000\n"
          ]
        }
      ]
    },
    {
      "cell_type": "code",
      "metadata": {
        "id": "mYNPRtSBh1K6"
      },
      "source": [
        "#tuning_albero_decisione_CV(4,10)"
      ],
      "execution_count": null,
      "outputs": []
    },
    {
      "cell_type": "code",
      "metadata": {
        "id": "PdIG_yC7h1K7"
      },
      "source": [
        "#tuning_SVM_CV(4,10)"
      ],
      "execution_count": null,
      "outputs": []
    },
    {
      "cell_type": "code",
      "metadata": {
        "id": "awxC3BBih1K7"
      },
      "source": [
        "#validazione_incrociata_kfold(4,10,1)"
      ],
      "execution_count": null,
      "outputs": []
    },
    {
      "cell_type": "code",
      "metadata": {
        "id": "saoc2Dsch1K7"
      },
      "source": [
        "#validazione_incrociata_kfold(4,10,2)"
      ],
      "execution_count": null,
      "outputs": []
    },
    {
      "cell_type": "code",
      "metadata": {
        "id": "PoaYcyolh1K7"
      },
      "source": [
        "#validazione_incrociata_score(4,10,1)"
      ],
      "execution_count": null,
      "outputs": []
    },
    {
      "cell_type": "code",
      "metadata": {
        "id": "Z21tX69_h1K8"
      },
      "source": [
        "#validazione_incrociata_score(4,10,2)"
      ],
      "execution_count": null,
      "outputs": []
    },
    {
      "cell_type": "code",
      "metadata": {
        "id": "TF3j_ivch1K8"
      },
      "source": [
        "#prova_pipeline(4,2)"
      ],
      "execution_count": null,
      "outputs": []
    },
    {
      "cell_type": "code",
      "metadata": {
        "id": "efjI6aWYh1K8"
      },
      "source": [
        "#exec_trad(4,1)"
      ],
      "execution_count": null,
      "outputs": []
    },
    {
      "cell_type": "code",
      "metadata": {
        "id": "FOvDftDih1K8"
      },
      "source": [
        "#exec_trad(4,2)"
      ],
      "execution_count": null,
      "outputs": []
    },
    {
      "cell_type": "code",
      "metadata": {
        "colab": {
          "base_uri": "https://localhost:8080/"
        },
        "id": "JdeMEkemh1K9",
        "outputId": "fb8c7968-b336-4b14-b8b2-48d53903e14b"
      },
      "source": [
        "tuning_KNN(4,5)"
      ],
      "execution_count": null,
      "outputs": [
        {
          "output_type": "stream",
          "name": "stdout",
          "text": [
            "Fitting 5 folds for each of 16 candidates, totalling 80 fits\n"
          ]
        },
        {
          "output_type": "stream",
          "name": "stderr",
          "text": [
            "[Parallel(n_jobs=-1)]: Using backend LokyBackend with 2 concurrent workers.\n"
          ]
        },
        {
          "output_type": "stream",
          "name": "stdout",
          "text": [
            "Accuratezza fase di Cross Validation con dati di Addestramento/Validazione: 0.750\n",
            "{'algorithm': 'auto', 'n_neighbors': 5, 'weights': 'distance'}\n",
            "Accuratezza con dati di Test: 0.889\n",
            "Risultato sui dati di test:\n",
            "              precision    recall  f1-score   support\n",
            "\n",
            "           0       0.86      1.00      0.92        12\n",
            "           1       1.00      0.67      0.80         6\n",
            "\n",
            "    accuracy                           0.89        18\n",
            "   macro avg       0.93      0.83      0.86        18\n",
            "weighted avg       0.90      0.89      0.88        18\n",
            "\n",
            "[[12  0]\n",
            " [ 2  4]]\n",
            "Accuratezza Test: 88.000\n",
            "Precisione  Test: 85.000\n",
            "Sensitività Test: 100.000\n",
            "Specificità Test: 66.000\n",
            "F1 score    Test: 91.000\n"
          ]
        },
        {
          "output_type": "stream",
          "name": "stderr",
          "text": [
            "[Parallel(n_jobs=-1)]: Done  80 out of  80 | elapsed:    0.3s finished\n",
            "/usr/local/lib/python3.7/dist-packages/sklearn/model_selection/_search.py:739: DataConversionWarning:\n",
            "\n",
            "A column-vector y was passed when a 1d array was expected. Please change the shape of y to (n_samples, ), for example using ravel().\n",
            "\n"
          ]
        }
      ]
    },
    {
      "cell_type": "code",
      "metadata": {
        "id": "2sRZfMqxh1K9"
      },
      "source": [
        "#tuning_MP(4,10)"
      ],
      "execution_count": null,
      "outputs": []
    },
    {
      "cell_type": "code",
      "metadata": {
        "colab": {
          "base_uri": "https://localhost:8080/"
        },
        "id": "hIdsf-C4h1K_",
        "outputId": "28b38390-db69-41e5-d45f-e2ff887f2383"
      },
      "source": [
        "tuning_LR(4,5)"
      ],
      "execution_count": null,
      "outputs": [
        {
          "output_type": "stream",
          "name": "stderr",
          "text": [
            "[Parallel(n_jobs=-1)]: Using backend LokyBackend with 2 concurrent workers.\n"
          ]
        },
        {
          "output_type": "stream",
          "name": "stdout",
          "text": [
            "Fitting 5 folds for each of 14 candidates, totalling 70 fits\n",
            "Accuratezza fase di Cross Validation con dati di Addestramento/Validazione: 0.825\n",
            "I migliori parametri trvati sono :\n",
            " {'C': 0.001, 'penalty': 'l2'}\n",
            "Accuratezza con dati di Test: 0.667\n",
            "Risultato sui dati di test:\n",
            "              precision    recall  f1-score   support\n",
            "\n",
            "           0       0.80      0.67      0.73        12\n",
            "           1       0.50      0.67      0.57         6\n",
            "\n",
            "    accuracy                           0.67        18\n",
            "   macro avg       0.65      0.67      0.65        18\n",
            "weighted avg       0.70      0.67      0.68        18\n",
            "\n",
            "[[8 4]\n",
            " [2 4]]\n",
            "Accuratezza Test: 66.000\n",
            "Precisione  Test: 80.000\n",
            "Sensitività Test: 66.000\n",
            "Specificità Test: 66.000\n",
            "F1 score    Test: 72.000\n"
          ]
        },
        {
          "output_type": "stream",
          "name": "stderr",
          "text": [
            "[Parallel(n_jobs=-1)]: Done  70 out of  70 | elapsed:    0.6s finished\n",
            "/usr/local/lib/python3.7/dist-packages/sklearn/utils/validation.py:760: DataConversionWarning:\n",
            "\n",
            "A column-vector y was passed when a 1d array was expected. Please change the shape of y to (n_samples, ), for example using ravel().\n",
            "\n"
          ]
        }
      ]
    },
    {
      "cell_type": "code",
      "metadata": {
        "id": "47Cu_yJmh1K_"
      },
      "source": [
        "#tuning_foresta(4,10)"
      ],
      "execution_count": null,
      "outputs": []
    },
    {
      "cell_type": "markdown",
      "metadata": {
        "id": "c6IrxCiHh1LA"
      },
      "source": [
        "<br>\n",
        "<br>"
      ]
    },
    {
      "cell_type": "code",
      "metadata": {
        "id": "YD6soIrWh1LA"
      },
      "source": [
        ""
      ],
      "execution_count": null,
      "outputs": []
    },
    {
      "cell_type": "code",
      "metadata": {
        "id": "XHexOwiFiFbO"
      },
      "source": [
        ""
      ],
      "execution_count": null,
      "outputs": []
    },
    {
      "cell_type": "markdown",
      "metadata": {
        "id": "7bCMZMvZiOtr"
      },
      "source": [
        "### 5 hz"
      ]
    },
    {
      "cell_type": "code",
      "metadata": {
        "id": "ANDWckZliOts"
      },
      "source": [
        ""
      ],
      "execution_count": null,
      "outputs": []
    },
    {
      "cell_type": "code",
      "metadata": {
        "id": "sqg-RwdKiOts"
      },
      "source": [
        "\n",
        "y1=hz5.loc[:,0].to_numpy()\n",
        "y2=hz5.loc[:,1].to_numpy()\n",
        "y3=hz5.loc[:,2].to_numpy()\n",
        "\n"
      ],
      "execution_count": null,
      "outputs": []
    },
    {
      "cell_type": "code",
      "metadata": {
        "id": "CGIGi11biOtt"
      },
      "source": [
        ""
      ],
      "execution_count": null,
      "outputs": []
    },
    {
      "cell_type": "code",
      "metadata": {
        "colab": {
          "base_uri": "https://localhost:8080/"
        },
        "id": "lg_rJEQSiOtt",
        "outputId": "52aca30a-e2f9-4329-bf16-56bd3dcf2e33"
      },
      "source": [
        "y1,y2,y3,hz3"
      ],
      "execution_count": null,
      "outputs": [
        {
          "output_type": "execute_result",
          "data": {
            "text/plain": [
              "(array([ 14743.7467391 , 142197.52793324,   8872.84146972,  35857.40742789,\n",
              "          3735.07963105,   9840.14076053,  13898.04604296,  11151.17830918,\n",
              "         62131.60213414,  10615.79119497,   4395.75280149,  18553.16158274,\n",
              "          8588.46189756,   4897.29331135,   6091.46616001,  21209.77829687,\n",
              "         38502.5356624 ,   9677.37949005,   2900.84970437]),\n",
              " array([ 3191.71340257,  1478.5148852 ,  1036.83442708,  8294.09569593,\n",
              "        25959.29947074,  2395.81808669,  5358.75450392,  6998.39125534,\n",
              "         3920.91895401,  1315.343393  ,  4211.88716659,  4105.21677954,\n",
              "         3758.78262634, 23182.9581754 ,  1496.02424271,  1764.92530093,\n",
              "        20885.68540659, 15766.46072284, 28017.13848049]),\n",
              " array([2032.18438411, 2061.0165368 , 1014.27299517,  402.78584981,\n",
              "         145.53790165, 2439.61747033, 1003.39382556,  650.46323346,\n",
              "        6601.1741776 ,  961.53940522,  207.70975292, 2263.28741708,\n",
              "        2099.71343148,  785.82287287,  175.90032873,  159.29906569,\n",
              "        2930.16071893,  764.27026318,  422.72992815]),\n",
              "                 0              1             2\n",
              " 0    11941.878738    4543.079199   4260.988482\n",
              " 1    21550.001904    3171.543412   6215.959227\n",
              " 2     7954.533234    2502.250572   2878.113664\n",
              " 3    42676.089206   17653.023737    946.372606\n",
              " 4    12148.524998   27477.274131    612.110742\n",
              " 5    12297.442066    3811.751034   7665.308313\n",
              " 6    19050.995665   10227.178360   3062.984321\n",
              " 7     4992.630324   22822.837806   1211.440626\n",
              " 8    16011.533992    6828.018160  22390.062009\n",
              " 9     9151.569946    3078.353285   2888.256949\n",
              " 10   14843.201818    9843.491084    563.057786\n",
              " 11   10445.070016    5141.196547   4760.093445\n",
              " 12  182700.816803    4200.470742   4973.644479\n",
              " 13   15954.139771   16579.985919   2618.749608\n",
              " 14   11744.109673    5865.329829    698.500991\n",
              " 15    7023.707557   12802.749011    703.477024\n",
              " 16   37297.839360  104104.832648   4747.694480\n",
              " 17   11622.940208   71138.564456   2467.786370\n",
              " 18   14182.838368   23134.713975   1533.933877)"
            ]
          },
          "metadata": {},
          "execution_count": 574
        }
      ]
    },
    {
      "cell_type": "code",
      "metadata": {
        "id": "A_Et5WjhiOtt"
      },
      "source": [
        "x1 = np.linspace(0, 30, len(y1), endpoint=True)\n",
        "x2 = np.linspace(0, 30,len(y2), endpoint=False)\n",
        "x3 = np.linspace(0, 30,len(y3), endpoint=False)"
      ],
      "execution_count": null,
      "outputs": []
    },
    {
      "cell_type": "code",
      "metadata": {
        "colab": {
          "base_uri": "https://localhost:8080/",
          "height": 265
        },
        "id": "_rSzN--piOtu",
        "outputId": "7a7a4a2d-1c1f-4740-dd11-6cb5a6b5da98"
      },
      "source": [
        "plt.plot(x1, y1, 'g')\n",
        "plt.plot(x2, y2, 'b')\n",
        "plt.plot(x3, y3, 'r')\n",
        "#plt.ylim(0,300000)\n",
        "plt.show()"
      ],
      "execution_count": null,
      "outputs": [
        {
          "output_type": "display_data",
          "data": {
            "image/png": "[encoded data removed]",
            "text/plain": [
              "<Figure size 432x288 with 1 Axes>"
            ]
          },
          "metadata": {
            "needs_background": "light"
          }
        }
      ]
    },
    {
      "cell_type": "code",
      "metadata": {
        "id": "tTbILa9FiOtu"
      },
      "source": [
        ""
      ],
      "execution_count": null,
      "outputs": []
    },
    {
      "cell_type": "code",
      "metadata": {
        "id": "OxFFOPXdiOtu"
      },
      "source": [
        "matriceAD = np.zeros((len(y1),2))\n",
        "matriceMCI = np.zeros((len(y2),2))\n",
        "matriceHC = np.zeros((len(y3),2))\n"
      ],
      "execution_count": null,
      "outputs": []
    },
    {
      "cell_type": "code",
      "metadata": {
        "id": "oq8oF6M3iOtu"
      },
      "source": [
        "matriceADHC = np.zeros((len(y1)+len(y3),2))\n",
        "matriceMCIHC = np.zeros((len(y2)+len(y3),2))\n",
        "matriceADMCI = np.zeros((len(y1)+len(y2),2))\n",
        "matriceCASEHC = np.zeros((len(y2)+len(y3)+len(y1),2))"
      ],
      "execution_count": null,
      "outputs": []
    },
    {
      "cell_type": "code",
      "metadata": {
        "id": "9LEQGtbSiOtv"
      },
      "source": [
        "for i in range(len(y1)):\n",
        "      matriceAD[i,0]=y1[i]\n",
        "      matriceAD[i,1]=1"
      ],
      "execution_count": null,
      "outputs": []
    },
    {
      "cell_type": "code",
      "metadata": {
        "id": "HT1PzPhpiOtv"
      },
      "source": [
        "for i in range(len(y2)):\n",
        "      matriceMCI[i,0]=y2[i]\n",
        "      matriceMCI[i,1]=2"
      ],
      "execution_count": null,
      "outputs": []
    },
    {
      "cell_type": "code",
      "metadata": {
        "id": "fFZVVKtuiOtv"
      },
      "source": [
        "for i in range(len(y3)):\n",
        "      matriceHC[i,0]=y3[i]\n",
        "      matriceHC[i,1]=3"
      ],
      "execution_count": null,
      "outputs": []
    },
    {
      "cell_type": "code",
      "metadata": {
        "id": "60F7YFeiiOtv"
      },
      "source": [
        "AD=pd.DataFrame(matriceAD)\n",
        "HC=pd.DataFrame(matriceHC)\n",
        "MCI=pd.DataFrame(matriceMCI)"
      ],
      "execution_count": null,
      "outputs": []
    },
    {
      "cell_type": "code",
      "metadata": {
        "id": "rpMGGr0yiOtw"
      },
      "source": [
        "ADHC=AD.copy()\n",
        "ADHC=ADHC.append(HC,ignore_index=True)"
      ],
      "execution_count": null,
      "outputs": []
    },
    {
      "cell_type": "code",
      "metadata": {
        "id": "NxI_4shZiOtw"
      },
      "source": [
        "ADMCI=AD.copy()\n",
        "ADMCI=ADMCI.append(MCI,ignore_index=True)"
      ],
      "execution_count": null,
      "outputs": []
    },
    {
      "cell_type": "code",
      "metadata": {
        "id": "saZyu0FIiOtw"
      },
      "source": [
        "MCIHC=MCI.copy()\n",
        "MCIHC=MCIHC.append(HC,ignore_index=True)"
      ],
      "execution_count": null,
      "outputs": []
    },
    {
      "cell_type": "code",
      "metadata": {
        "id": "d8VickJAiOtx"
      },
      "source": [
        "CASEHC=AD.copy()\n",
        "CASEHC=CASEHC.append(MCI,ignore_index=True)\n",
        "CASEHC=CASEHC.append(HC,ignore_index=True)"
      ],
      "execution_count": null,
      "outputs": []
    },
    {
      "cell_type": "code",
      "metadata": {
        "id": "jo52INmtiOtx"
      },
      "source": [
        ""
      ],
      "execution_count": null,
      "outputs": []
    },
    {
      "cell_type": "markdown",
      "metadata": {
        "id": "rvj-ReegiOtx"
      },
      "source": [
        "#### Caso1 AD vs HCF"
      ]
    },
    {
      "cell_type": "code",
      "metadata": {
        "id": "Hj9bR5rHiOtx"
      },
      "source": [
        "df=ADHC.loc[:,0]\n",
        "\n",
        "X = df.to_numpy()\n",
        "\n",
        "Y = ADHC.loc[:,1]\n",
        "y = Y.to_numpy()"
      ],
      "execution_count": null,
      "outputs": []
    },
    {
      "cell_type": "code",
      "metadata": {
        "id": "7TFcbsSciOty"
      },
      "source": [
        "y = np.where(y == 1, 1, 0)"
      ],
      "execution_count": null,
      "outputs": []
    },
    {
      "cell_type": "code",
      "metadata": {
        "colab": {
          "base_uri": "https://localhost:8080/"
        },
        "id": "o8uNYddDiOty",
        "outputId": "cb9076f1-661e-402c-fc73-07772d3be906"
      },
      "source": [
        "X,y"
      ],
      "execution_count": null,
      "outputs": [
        {
          "output_type": "execute_result",
          "data": {
            "text/plain": [
              "(array([ 14743.7467391 , 142197.52793324,   8872.84146972,  35857.40742789,\n",
              "          3735.07963105,   9840.14076053,  13898.04604296,  11151.17830918,\n",
              "         62131.60213414,  10615.79119497,   4395.75280149,  18553.16158274,\n",
              "          8588.46189756,   4897.29331135,   6091.46616001,  21209.77829687,\n",
              "         38502.5356624 ,   9677.37949005,   2900.84970437,   2032.18438411,\n",
              "          2061.0165368 ,   1014.27299517,    402.78584981,    145.53790165,\n",
              "          2439.61747033,   1003.39382556,    650.46323346,   6601.1741776 ,\n",
              "           961.53940522,    207.70975292,   2263.28741708,   2099.71343148,\n",
              "           785.82287287,    175.90032873,    159.29906569,   2930.16071893,\n",
              "           764.27026318,    422.72992815]),\n",
              " array([1, 1, 1, 1, 1, 1, 1, 1, 1, 1, 1, 1, 1, 1, 1, 1, 1, 1, 1, 0, 0, 0,\n",
              "        0, 0, 0, 0, 0, 0, 0, 0, 0, 0, 0, 0, 0, 0, 0, 0]))"
            ]
          },
          "metadata": {},
          "execution_count": 589
        }
      ]
    },
    {
      "cell_type": "code",
      "metadata": {
        "id": "_VmwnvW3iOty"
      },
      "source": [
        "df=ADHC.loc[:,0]\n",
        "\n",
        "X = df.to_numpy()\n",
        "\n",
        "Y = ADHC.loc[:,1]\n",
        "y = Y.to_numpy()\n",
        "y = np.where(y == 1, 1, 0)\n",
        "#from sklearn.model_selection import train_test_split\n",
        "\n",
        "\n",
        "X_train, X_test, y_train, y_test = train_test_split(X, y, test_size=0.3,stratify=y,random_state=42)\n",
        "\n",
        "#pca = PCA(n_components=2)\n",
        "\n",
        "#X_train_pca = pca.fit_transform(X_train)\n",
        "#X_test_pca = pca.transform(X_test)\n",
        "\n",
        "X_train_caso1=X_train\n",
        "X_test_caso1=X_test\n",
        "y_train_caso1=y_train\n",
        "y_test_caso1=y_test\n",
        "\n"
      ],
      "execution_count": null,
      "outputs": []
    },
    {
      "cell_type": "code",
      "metadata": {
        "id": "qVCeRbViiOty"
      },
      "source": [
        "X_train_caso1=X_train_caso1.reshape(-1,1)\n",
        "X_test_caso1=X_test_caso1.reshape(-1,1)\n",
        "y_train_caso1=y_train_caso1.reshape(-1,1)\n",
        "y_test_caso1=y_test_caso1.reshape(-1,1)\n"
      ],
      "execution_count": null,
      "outputs": []
    },
    {
      "cell_type": "code",
      "metadata": {
        "id": "1aHf3__MiOtz"
      },
      "source": [
        ""
      ],
      "execution_count": null,
      "outputs": []
    },
    {
      "cell_type": "code",
      "metadata": {
        "colab": {
          "base_uri": "https://localhost:8080/"
        },
        "id": "v9kM1RxPiOtz",
        "outputId": "d56d733f-7784-40f1-9964-beb41c355b5b"
      },
      "source": [
        "tuning_albero_decisione(1,5)"
      ],
      "execution_count": null,
      "outputs": [
        {
          "output_type": "stream",
          "name": "stdout",
          "text": [
            "Fitting 5 folds for each of 216 candidates, totalling 1080 fits\n"
          ]
        },
        {
          "output_type": "stream",
          "name": "stderr",
          "text": [
            "[Parallel(n_jobs=-1)]: Using backend LokyBackend with 2 concurrent workers.\n"
          ]
        },
        {
          "output_type": "stream",
          "name": "stdout",
          "text": [
            "Accuratezza fase di Cross Validation con dati di Addestramento/Validazione: 0.893\n",
            "{'criterion': 'gini', 'max_depth': 3, 'min_samples_leaf': 2, 'min_samples_split': 2, 'min_weight_fraction_leaf': 0}\n",
            "Accuratezza con dati di Test: 1.000\n",
            "Risultato sui dati di test:\n",
            "              precision    recall  f1-score   support\n",
            "\n",
            "           0       1.00      1.00      1.00         6\n",
            "           1       1.00      1.00      1.00         6\n",
            "\n",
            "    accuracy                           1.00        12\n",
            "   macro avg       1.00      1.00      1.00        12\n",
            "weighted avg       1.00      1.00      1.00        12\n",
            "\n",
            "[[6 0]\n",
            " [0 6]]\n",
            "Accuratezza Test: 100.000\n",
            "Precisione  Test: 100.000\n",
            "Sensitività Test: 100.000\n",
            "Specificità Test: 100.000\n",
            "F1 score    Test: 100.000\n"
          ]
        },
        {
          "output_type": "stream",
          "name": "stderr",
          "text": [
            "[Parallel(n_jobs=-1)]: Done 1062 tasks      | elapsed:    1.2s\n",
            "[Parallel(n_jobs=-1)]: Done 1077 out of 1080 | elapsed:    1.3s remaining:    0.0s\n",
            "[Parallel(n_jobs=-1)]: Done 1080 out of 1080 | elapsed:    1.3s finished\n"
          ]
        }
      ]
    },
    {
      "cell_type": "code",
      "metadata": {
        "colab": {
          "base_uri": "https://localhost:8080/"
        },
        "id": "PefFZ1aBiOtz",
        "outputId": "60d98e91-26f6-4c34-b8c0-bf9379821f8a"
      },
      "source": [
        "tuning_SVM(1,5)"
      ],
      "execution_count": null,
      "outputs": [
        {
          "output_type": "stream",
          "name": "stderr",
          "text": [
            "/usr/local/lib/python3.7/dist-packages/sklearn/model_selection/_search.py:281: UserWarning:\n",
            "\n",
            "The total space of parameters 2 is smaller than n_iter=20. Running 2 iterations. For exhaustive searches, use GridSearchCV.\n",
            "\n",
            "[Parallel(n_jobs=-1)]: Using backend LokyBackend with 2 concurrent workers.\n"
          ]
        },
        {
          "output_type": "stream",
          "name": "stdout",
          "text": [
            "Fitting 5 folds for each of 2 candidates, totalling 10 fits\n"
          ]
        },
        {
          "output_type": "stream",
          "name": "stderr",
          "text": [
            "[Parallel(n_jobs=-1)]: Done   7 out of  10 | elapsed:    4.0s remaining:    1.7s\n",
            "[Parallel(n_jobs=-1)]: Done  10 out of  10 | elapsed:    9.1s finished\n",
            "/usr/local/lib/python3.7/dist-packages/sklearn/utils/validation.py:760: DataConversionWarning:\n",
            "\n",
            "A column-vector y was passed when a 1d array was expected. Please change the shape of y to (n_samples, ), for example using ravel().\n",
            "\n"
          ]
        },
        {
          "output_type": "stream",
          "name": "stdout",
          "text": [
            "Accuratezza fase di Cross Validation con dati di Addestramento/Validazione: 0.893\n",
            "{'kernel': 'linear'}\n",
            "Accuratezza con dati di Test: 1.000\n",
            "Risultato sui dati di test:\n",
            "              precision    recall  f1-score   support\n",
            "\n",
            "           0       1.00      1.00      1.00         6\n",
            "           1       1.00      1.00      1.00         6\n",
            "\n",
            "    accuracy                           1.00        12\n",
            "   macro avg       1.00      1.00      1.00        12\n",
            "weighted avg       1.00      1.00      1.00        12\n",
            "\n",
            "[[6 0]\n",
            " [0 6]]\n",
            "Accuratezza Test: 100.000\n",
            "Precisione  Test: 100.000\n",
            "Sensitività Test: 100.000\n",
            "Specificità Test: 100.000\n",
            "F1 score    Test: 100.000\n"
          ]
        }
      ]
    },
    {
      "cell_type": "code",
      "metadata": {
        "id": "yK-PLmlliOt0"
      },
      "source": [
        "#tuning_foresta(1,10)"
      ],
      "execution_count": null,
      "outputs": []
    },
    {
      "cell_type": "code",
      "metadata": {
        "id": "jUlPHrR-iOt0"
      },
      "source": [
        "#tuning_albero_decisione_CV(1,10)"
      ],
      "execution_count": null,
      "outputs": []
    },
    {
      "cell_type": "code",
      "metadata": {
        "id": "53hXv7ueiOt1"
      },
      "source": [
        "#tuning_SVM_CV(1,10)"
      ],
      "execution_count": null,
      "outputs": []
    },
    {
      "cell_type": "code",
      "metadata": {
        "id": "_vfszM2IiOt1"
      },
      "source": [
        "#validazione_incrociata_kfold(1,10,1)"
      ],
      "execution_count": null,
      "outputs": []
    },
    {
      "cell_type": "code",
      "metadata": {
        "id": "JpchJavoiOt2"
      },
      "source": [
        "#validazione_incrociata_kfold(1,10,2)"
      ],
      "execution_count": null,
      "outputs": []
    },
    {
      "cell_type": "code",
      "metadata": {
        "id": "1-L5_4fgiOt2"
      },
      "source": [
        "#validazione_incrociata_score(1,10,1)"
      ],
      "execution_count": null,
      "outputs": []
    },
    {
      "cell_type": "code",
      "metadata": {
        "id": "C0FD13sSiOt2"
      },
      "source": [
        "#validazione_incrociata_score(1,10,2)"
      ],
      "execution_count": null,
      "outputs": []
    },
    {
      "cell_type": "code",
      "metadata": {
        "id": "tc5meiEhiOt2"
      },
      "source": [
        "#prova_pipeline(1,2)"
      ],
      "execution_count": null,
      "outputs": []
    },
    {
      "cell_type": "code",
      "metadata": {
        "id": "yR2Fxk1FiOt3"
      },
      "source": [
        ""
      ],
      "execution_count": null,
      "outputs": []
    },
    {
      "cell_type": "code",
      "metadata": {
        "colab": {
          "base_uri": "https://localhost:8080/"
        },
        "id": "qX-LFjMWiOt3",
        "outputId": "3d09bea5-a242-46ab-d684-ad8816d79696"
      },
      "source": [
        "tuning_KNN(1,5)"
      ],
      "execution_count": null,
      "outputs": [
        {
          "output_type": "stream",
          "name": "stdout",
          "text": [
            "Fitting 5 folds for each of 16 candidates, totalling 80 fits\n"
          ]
        },
        {
          "output_type": "stream",
          "name": "stderr",
          "text": [
            "[Parallel(n_jobs=-1)]: Using backend LokyBackend with 2 concurrent workers.\n"
          ]
        },
        {
          "output_type": "stream",
          "name": "stdout",
          "text": [
            "Accuratezza fase di Cross Validation con dati di Addestramento/Validazione: 0.893\n",
            "{'algorithm': 'auto', 'n_neighbors': 5, 'weights': 'uniform'}\n",
            "Accuratezza con dati di Test: 1.000\n",
            "Risultato sui dati di test:\n",
            "              precision    recall  f1-score   support\n",
            "\n",
            "           0       1.00      1.00      1.00         6\n",
            "           1       1.00      1.00      1.00         6\n",
            "\n",
            "    accuracy                           1.00        12\n",
            "   macro avg       1.00      1.00      1.00        12\n",
            "weighted avg       1.00      1.00      1.00        12\n",
            "\n",
            "[[6 0]\n",
            " [0 6]]\n",
            "Accuratezza Test: 100.000\n",
            "Precisione  Test: 100.000\n",
            "Sensitività Test: 100.000\n",
            "Specificità Test: 100.000\n",
            "F1 score    Test: 100.000\n"
          ]
        },
        {
          "output_type": "stream",
          "name": "stderr",
          "text": [
            "[Parallel(n_jobs=-1)]: Done  77 out of  80 | elapsed:    0.3s remaining:    0.0s\n",
            "[Parallel(n_jobs=-1)]: Done  80 out of  80 | elapsed:    0.3s finished\n",
            "/usr/local/lib/python3.7/dist-packages/sklearn/model_selection/_search.py:739: DataConversionWarning:\n",
            "\n",
            "A column-vector y was passed when a 1d array was expected. Please change the shape of y to (n_samples, ), for example using ravel().\n",
            "\n"
          ]
        }
      ]
    },
    {
      "cell_type": "code",
      "metadata": {
        "id": "h97iqYEZiOt3"
      },
      "source": [
        "#tuning_MP(1,5)"
      ],
      "execution_count": null,
      "outputs": []
    },
    {
      "cell_type": "code",
      "metadata": {
        "colab": {
          "base_uri": "https://localhost:8080/"
        },
        "id": "phrutL48iOt4",
        "outputId": "f7349ecf-7187-4082-ef44-3189f1ef169a"
      },
      "source": [
        "tuning_LR(1,5)"
      ],
      "execution_count": null,
      "outputs": [
        {
          "output_type": "stream",
          "name": "stderr",
          "text": [
            "[Parallel(n_jobs=-1)]: Using backend LokyBackend with 2 concurrent workers.\n"
          ]
        },
        {
          "output_type": "stream",
          "name": "stdout",
          "text": [
            "Fitting 5 folds for each of 14 candidates, totalling 70 fits\n",
            "Accuratezza fase di Cross Validation con dati di Addestramento/Validazione: 0.853\n",
            "I migliori parametri trvati sono :\n",
            " {'C': 0.001, 'penalty': 'l2'}\n",
            "Accuratezza con dati di Test: 1.000\n",
            "Risultato sui dati di test:\n",
            "              precision    recall  f1-score   support\n",
            "\n",
            "           0       1.00      1.00      1.00         6\n",
            "           1       1.00      1.00      1.00         6\n",
            "\n",
            "    accuracy                           1.00        12\n",
            "   macro avg       1.00      1.00      1.00        12\n",
            "weighted avg       1.00      1.00      1.00        12\n",
            "\n",
            "[[6 0]\n",
            " [0 6]]\n",
            "Accuratezza Test: 100.000\n",
            "Precisione  Test: 0.000\n",
            "Sensitività Test: 100.000\n",
            "Specificità Test: 100.000\n",
            "F1 score    Test: 0.000\n"
          ]
        },
        {
          "output_type": "stream",
          "name": "stderr",
          "text": [
            "[Parallel(n_jobs=-1)]: Done  70 out of  70 | elapsed:    0.5s finished\n",
            "/usr/local/lib/python3.7/dist-packages/sklearn/utils/validation.py:760: DataConversionWarning:\n",
            "\n",
            "A column-vector y was passed when a 1d array was expected. Please change the shape of y to (n_samples, ), for example using ravel().\n",
            "\n"
          ]
        }
      ]
    },
    {
      "cell_type": "code",
      "metadata": {
        "id": "1BuC45eAiOt4"
      },
      "source": [
        "#tuning_foresta(1,5)"
      ],
      "execution_count": null,
      "outputs": []
    },
    {
      "cell_type": "code",
      "metadata": {
        "id": "ye2edUFqiOt4"
      },
      "source": [
        ""
      ],
      "execution_count": null,
      "outputs": []
    },
    {
      "cell_type": "markdown",
      "metadata": {
        "id": "SyBIP9QYiOt5"
      },
      "source": [
        "#### Caso2 AD vs MCI"
      ]
    },
    {
      "cell_type": "code",
      "metadata": {
        "id": "9FZ_jMkBiOt5"
      },
      "source": [
        ""
      ],
      "execution_count": null,
      "outputs": []
    },
    {
      "cell_type": "code",
      "metadata": {
        "id": "K02gRLv0iOt6"
      },
      "source": [
        "\n",
        "df=ADMCI.loc[:,0]\n",
        "\n",
        "X = df.to_numpy()\n",
        "\n",
        "Y = ADMCI.loc[:,1]\n",
        "y = Y.to_numpy()\n",
        "y = np.where(y == 1, 1, 0)\n",
        "#from sklearn.model_selection import train_test_split\n",
        "\n",
        "X_train, X_test, y_train, y_test = train_test_split(X, y, test_size=0.3,stratify=y,random_state=42)\n",
        "\n",
        "#pca = PCA(n_components=5)\n",
        "\n",
        "#X_train_pca = pca.fit_transform(X_train)\n",
        "#X_test_pca = pca.transform(X_test)\n",
        "\n",
        "X_train_caso2=X_train\n",
        "X_test_caso2=X_test\n",
        "y_train_caso2=y_train\n",
        "y_test_caso2=y_test"
      ],
      "execution_count": null,
      "outputs": []
    },
    {
      "cell_type": "code",
      "metadata": {
        "id": "HT3inRsEiOt7"
      },
      "source": [
        "X_train_caso2=X_train_caso2.reshape(-1,1)\n",
        "X_test_caso2=X_test_caso2.reshape(-1,1)\n",
        "y_train_caso2=y_train_caso2.reshape(-1,1)\n",
        "y_test_caso2=y_test_caso2.reshape(-1,1)"
      ],
      "execution_count": null,
      "outputs": []
    },
    {
      "cell_type": "code",
      "metadata": {
        "colab": {
          "base_uri": "https://localhost:8080/"
        },
        "id": "HchL6IpeiOt7",
        "outputId": "0e136cd1-e6f0-4413-b5c7-661b30b745de"
      },
      "source": [
        "tuning_albero_decisione(2,5)"
      ],
      "execution_count": null,
      "outputs": [
        {
          "output_type": "stream",
          "name": "stderr",
          "text": [
            "[Parallel(n_jobs=-1)]: Using backend LokyBackend with 2 concurrent workers.\n"
          ]
        },
        {
          "output_type": "stream",
          "name": "stdout",
          "text": [
            "Fitting 5 folds for each of 216 candidates, totalling 1080 fits\n",
            "Accuratezza fase di Cross Validation con dati di Addestramento/Validazione: 0.580\n",
            "{'criterion': 'gini', 'max_depth': 10, 'min_samples_leaf': 2, 'min_samples_split': 2, 'min_weight_fraction_leaf': 0}\n",
            "Accuratezza con dati di Test: 0.750\n",
            "Risultato sui dati di test:\n",
            "              precision    recall  f1-score   support\n",
            "\n",
            "           0       0.80      0.67      0.73         6\n",
            "           1       0.71      0.83      0.77         6\n",
            "\n",
            "    accuracy                           0.75        12\n",
            "   macro avg       0.76      0.75      0.75        12\n",
            "weighted avg       0.76      0.75      0.75        12\n",
            "\n",
            "[[4 2]\n",
            " [1 5]]\n",
            "Accuratezza Test: 75.000\n",
            "Precisione  Test: 80.000\n",
            "Sensitività Test: 66.000\n",
            "Specificità Test: 83.000\n",
            "F1 score    Test: 72.000\n"
          ]
        },
        {
          "output_type": "stream",
          "name": "stderr",
          "text": [
            "[Parallel(n_jobs=-1)]: Done 955 tasks      | elapsed:    1.3s\n",
            "[Parallel(n_jobs=-1)]: Done 1080 out of 1080 | elapsed:    1.4s finished\n"
          ]
        }
      ]
    },
    {
      "cell_type": "code",
      "metadata": {
        "colab": {
          "base_uri": "https://localhost:8080/"
        },
        "id": "4OyWOcoAiOt8",
        "outputId": "984ee266-13ff-46e1-c29a-26a78776b79e"
      },
      "source": [
        "tuning_SVM(2,5)"
      ],
      "execution_count": null,
      "outputs": [
        {
          "output_type": "stream",
          "name": "stderr",
          "text": [
            "/usr/local/lib/python3.7/dist-packages/sklearn/model_selection/_search.py:281: UserWarning:\n",
            "\n",
            "The total space of parameters 2 is smaller than n_iter=20. Running 2 iterations. For exhaustive searches, use GridSearchCV.\n",
            "\n",
            "[Parallel(n_jobs=-1)]: Using backend LokyBackend with 2 concurrent workers.\n"
          ]
        },
        {
          "output_type": "stream",
          "name": "stdout",
          "text": [
            "Fitting 5 folds for each of 2 candidates, totalling 10 fits\n"
          ]
        },
        {
          "output_type": "stream",
          "name": "stderr",
          "text": [
            "[Parallel(n_jobs=-1)]: Done  10 out of  10 | elapsed:  2.4min finished\n",
            "/usr/local/lib/python3.7/dist-packages/sklearn/utils/validation.py:760: DataConversionWarning:\n",
            "\n",
            "A column-vector y was passed when a 1d array was expected. Please change the shape of y to (n_samples, ), for example using ravel().\n",
            "\n"
          ]
        },
        {
          "output_type": "stream",
          "name": "stdout",
          "text": [
            "Accuratezza fase di Cross Validation con dati di Addestramento/Validazione: 0.507\n",
            "{'kernel': 'linear'}\n",
            "Accuratezza con dati di Test: 0.667\n",
            "Risultato sui dati di test:\n",
            "              precision    recall  f1-score   support\n",
            "\n",
            "           0       1.00      0.33      0.50         6\n",
            "           1       0.60      1.00      0.75         6\n",
            "\n",
            "    accuracy                           0.67        12\n",
            "   macro avg       0.80      0.67      0.62        12\n",
            "weighted avg       0.80      0.67      0.62        12\n",
            "\n",
            "[[2 4]\n",
            " [0 6]]\n",
            "Accuratezza Test: 66.000\n",
            "Precisione  Test: 100.000\n",
            "Sensitività Test: 33.000\n",
            "Specificità Test: 100.000\n",
            "F1 score    Test: 49.000\n"
          ]
        }
      ]
    },
    {
      "cell_type": "code",
      "metadata": {
        "id": "WaMt6DCZiOt8"
      },
      "source": [
        "#tuning_foresta(2,10)"
      ],
      "execution_count": null,
      "outputs": []
    },
    {
      "cell_type": "code",
      "metadata": {
        "id": "qQF1mVEAiOt8"
      },
      "source": [
        "#tuning_albero_decisione_CV(2,10)"
      ],
      "execution_count": null,
      "outputs": []
    },
    {
      "cell_type": "code",
      "metadata": {
        "id": "rjAQOl1iiOt8"
      },
      "source": [
        "#tuning_SVM_CV(2,10)"
      ],
      "execution_count": null,
      "outputs": []
    },
    {
      "cell_type": "code",
      "metadata": {
        "id": "Z7qPlsi_iOt9"
      },
      "source": [
        "#validazione_incrociata_kfold(2,10,1)"
      ],
      "execution_count": null,
      "outputs": []
    },
    {
      "cell_type": "code",
      "metadata": {
        "id": "_NMmrI9PiOt9"
      },
      "source": [
        "#validazione_incrociata_kfold(2,10,2)"
      ],
      "execution_count": null,
      "outputs": []
    },
    {
      "cell_type": "code",
      "metadata": {
        "id": "kr5tkbYxiOt9"
      },
      "source": [
        "#validazione_incrociata_score(2,10,1)"
      ],
      "execution_count": null,
      "outputs": []
    },
    {
      "cell_type": "code",
      "metadata": {
        "id": "bFuA2SnGiOt9"
      },
      "source": [
        "#validazione_incrociata_score(2,10,2)"
      ],
      "execution_count": null,
      "outputs": []
    },
    {
      "cell_type": "code",
      "metadata": {
        "id": "y6e0-BUsiOt-"
      },
      "source": [
        "#prova_pipeline(2,2)"
      ],
      "execution_count": null,
      "outputs": []
    },
    {
      "cell_type": "code",
      "metadata": {
        "id": "ayH9_zEPiOt-"
      },
      "source": [
        "#exec_trad(2,1)"
      ],
      "execution_count": null,
      "outputs": []
    },
    {
      "cell_type": "code",
      "metadata": {
        "id": "ZhT_pb-EiOt-"
      },
      "source": [
        "#exec_trad(2,2)"
      ],
      "execution_count": null,
      "outputs": []
    },
    {
      "cell_type": "code",
      "metadata": {
        "colab": {
          "base_uri": "https://localhost:8080/"
        },
        "id": "vlKQQNm_iOt-",
        "outputId": "b7e81a58-0ed9-47e7-84be-75e7f743c2ce"
      },
      "source": [
        "tuning_KNN(2,5)"
      ],
      "execution_count": null,
      "outputs": [
        {
          "output_type": "stream",
          "name": "stdout",
          "text": [
            "Fitting 5 folds for each of 16 candidates, totalling 80 fits\n"
          ]
        },
        {
          "output_type": "stream",
          "name": "stderr",
          "text": [
            "[Parallel(n_jobs=-1)]: Using backend LokyBackend with 2 concurrent workers.\n"
          ]
        },
        {
          "output_type": "stream",
          "name": "stdout",
          "text": [
            "Accuratezza fase di Cross Validation con dati di Addestramento/Validazione: 0.580\n",
            "{'algorithm': 'auto', 'n_neighbors': 20, 'weights': 'uniform'}\n",
            "Accuratezza con dati di Test: 0.500\n",
            "Risultato sui dati di test:\n",
            "              precision    recall  f1-score   support\n",
            "\n",
            "           0       0.50      0.83      0.62         6\n",
            "           1       0.50      0.17      0.25         6\n",
            "\n",
            "    accuracy                           0.50        12\n",
            "   macro avg       0.50      0.50      0.44        12\n",
            "weighted avg       0.50      0.50      0.44        12\n",
            "\n",
            "[[5 1]\n",
            " [5 1]]\n",
            "Accuratezza Test: 50.000\n",
            "Precisione  Test: 50.000\n",
            "Sensitività Test: 83.000\n",
            "Specificità Test: 16.000\n",
            "F1 score    Test: 62.000\n"
          ]
        },
        {
          "output_type": "stream",
          "name": "stderr",
          "text": [
            "[Parallel(n_jobs=-1)]: Done  80 out of  80 | elapsed:    0.2s finished\n",
            "/usr/local/lib/python3.7/dist-packages/sklearn/model_selection/_search.py:739: DataConversionWarning:\n",
            "\n",
            "A column-vector y was passed when a 1d array was expected. Please change the shape of y to (n_samples, ), for example using ravel().\n",
            "\n"
          ]
        }
      ]
    },
    {
      "cell_type": "code",
      "metadata": {
        "id": "cJpuActQiOt_"
      },
      "source": [
        "#tuning_MP(2,10)"
      ],
      "execution_count": null,
      "outputs": []
    },
    {
      "cell_type": "code",
      "metadata": {
        "colab": {
          "base_uri": "https://localhost:8080/"
        },
        "id": "V0_mm2KkiOt_",
        "outputId": "2d0761a0-cba0-4e6b-a4e6-97408453e450"
      },
      "source": [
        "tuning_LR(2,5)"
      ],
      "execution_count": null,
      "outputs": [
        {
          "output_type": "stream",
          "name": "stderr",
          "text": [
            "[Parallel(n_jobs=-1)]: Using backend LokyBackend with 2 concurrent workers.\n"
          ]
        },
        {
          "output_type": "stream",
          "name": "stdout",
          "text": [
            "Fitting 5 folds for each of 14 candidates, totalling 70 fits\n",
            "Accuratezza fase di Cross Validation con dati di Addestramento/Validazione: 0.500\n",
            "I migliori parametri trvati sono :\n",
            " {'C': 0.001, 'penalty': 'l2'}\n",
            "Accuratezza con dati di Test: 0.500\n",
            "Risultato sui dati di test:\n",
            "              precision    recall  f1-score   support\n",
            "\n",
            "           0       0.00      0.00      0.00         6\n",
            "           1       0.50      1.00      0.67         6\n",
            "\n",
            "    accuracy                           0.50        12\n",
            "   macro avg       0.25      0.50      0.33        12\n",
            "weighted avg       0.25      0.50      0.33        12\n",
            "\n",
            "[[0 6]\n",
            " [0 6]]\n",
            "Accuratezza Test: 50.000\n",
            "Precisione  Test: 0.000\n",
            "Sensitività Test: 0.000\n",
            "Specificità Test: 100.000\n",
            "F1 score    Test: 0.000\n"
          ]
        },
        {
          "output_type": "stream",
          "name": "stderr",
          "text": [
            "[Parallel(n_jobs=-1)]: Done  70 out of  70 | elapsed:    0.3s finished\n",
            "/usr/local/lib/python3.7/dist-packages/sklearn/utils/validation.py:760: DataConversionWarning:\n",
            "\n",
            "A column-vector y was passed when a 1d array was expected. Please change the shape of y to (n_samples, ), for example using ravel().\n",
            "\n",
            "/usr/local/lib/python3.7/dist-packages/sklearn/metrics/_classification.py:1272: UndefinedMetricWarning:\n",
            "\n",
            "Precision and F-score are ill-defined and being set to 0.0 in labels with no predicted samples. Use `zero_division` parameter to control this behavior.\n",
            "\n"
          ]
        }
      ]
    },
    {
      "cell_type": "markdown",
      "metadata": {
        "id": "sgsizviIiOuA"
      },
      "source": [
        "<br>\n",
        "<br>"
      ]
    },
    {
      "cell_type": "markdown",
      "metadata": {
        "id": "wa47Fe2kiOuA"
      },
      "source": [
        "<br>\n",
        "<br>"
      ]
    },
    {
      "cell_type": "code",
      "metadata": {
        "id": "JY4zrEytiOuA"
      },
      "source": [
        "#tuning_foresta(2,10)"
      ],
      "execution_count": null,
      "outputs": []
    },
    {
      "cell_type": "markdown",
      "metadata": {
        "id": "GFM3eA6iiOuB"
      },
      "source": [
        "#### Caso3 MCI vs HCF"
      ]
    },
    {
      "cell_type": "code",
      "metadata": {
        "id": "T_hUtNpJiOuB"
      },
      "source": [
        ""
      ],
      "execution_count": null,
      "outputs": []
    },
    {
      "cell_type": "code",
      "metadata": {
        "id": "3nyEa0YSiOuB"
      },
      "source": [
        "\n",
        "df=MCIHC.loc[:,0]\n",
        "\n",
        "X = df.to_numpy()\n",
        "\n",
        "Y = MCIHC.loc[:,1]\n",
        "y = Y.to_numpy()\n",
        "y = np.where(y == 2, 1, 0)\n",
        "\n",
        "#from sklearn.model_selection import train_test_split\n",
        "\n",
        "\n",
        "X_train, X_test, y_train, y_test = train_test_split(X, y, test_size=0.3,stratify=y,random_state=42)\n",
        "\n",
        "#pca = PCA(n_components=2)\n",
        "\n",
        "#X_train_pca = pca.fit_transform(X_train)\n",
        "#X_test_pca = pca.transform(X_test)\n",
        "\n",
        "X_train_caso3=X_train\n",
        "X_test_caso3=X_test\n",
        "y_train_caso3=y_train\n",
        "y_test_caso3=y_test"
      ],
      "execution_count": null,
      "outputs": []
    },
    {
      "cell_type": "code",
      "metadata": {
        "id": "aWZFs1ADiOuB"
      },
      "source": [
        "X_train_caso3=X_train_caso3.reshape(-1,1)\n",
        "X_test_caso3=X_test_caso3.reshape(-1,1)\n",
        "y_train_caso3=y_train_caso3.reshape(-1,1)\n",
        "y_test_caso3=y_test_caso3.reshape(-1,1)"
      ],
      "execution_count": null,
      "outputs": []
    },
    {
      "cell_type": "code",
      "metadata": {
        "colab": {
          "base_uri": "https://localhost:8080/"
        },
        "id": "CTYHc7wXiOuC",
        "outputId": "af1d15d2-829b-4f20-99ae-aa9af8492520"
      },
      "source": [
        "tuning_albero_decisione(3,10)"
      ],
      "execution_count": null,
      "outputs": [
        {
          "output_type": "stream",
          "name": "stderr",
          "text": [
            "[Parallel(n_jobs=-1)]: Using backend LokyBackend with 2 concurrent workers.\n"
          ]
        },
        {
          "output_type": "stream",
          "name": "stdout",
          "text": [
            "Fitting 10 folds for each of 216 candidates, totalling 2160 fits\n"
          ]
        },
        {
          "output_type": "stream",
          "name": "stderr",
          "text": [
            "[Parallel(n_jobs=-1)]: Done 1660 tasks      | elapsed:    2.3s\n"
          ]
        },
        {
          "output_type": "stream",
          "name": "stdout",
          "text": [
            "Accuratezza fase di Cross Validation con dati di Addestramento/Validazione: 0.833\n",
            "{'criterion': 'gini', 'max_depth': 3, 'min_samples_leaf': 1, 'min_samples_split': 2, 'min_weight_fraction_leaf': 0}\n",
            "Accuratezza con dati di Test: 0.833\n",
            "Risultato sui dati di test:\n",
            "              precision    recall  f1-score   support\n",
            "\n",
            "           0       0.75      1.00      0.86         6\n",
            "           1       1.00      0.67      0.80         6\n",
            "\n",
            "    accuracy                           0.83        12\n",
            "   macro avg       0.88      0.83      0.83        12\n",
            "weighted avg       0.88      0.83      0.83        12\n",
            "\n",
            "[[6 0]\n",
            " [2 4]]\n",
            "Accuratezza Test: 83.000\n",
            "Precisione  Test: 75.000\n",
            "Sensitività Test: 100.000\n",
            "Specificità Test: 66.000\n",
            "F1 score    Test: 85.000\n"
          ]
        },
        {
          "output_type": "stream",
          "name": "stderr",
          "text": [
            "[Parallel(n_jobs=-1)]: Done 2160 out of 2160 | elapsed:    2.8s finished\n"
          ]
        }
      ]
    },
    {
      "cell_type": "code",
      "metadata": {
        "colab": {
          "base_uri": "https://localhost:8080/"
        },
        "id": "B4bCtkv7iOuC",
        "outputId": "5d9aabb3-1ecc-4492-8934-47605d82f972"
      },
      "source": [
        "tuning_SVM(3,10)"
      ],
      "execution_count": null,
      "outputs": [
        {
          "output_type": "stream",
          "name": "stderr",
          "text": [
            "/usr/local/lib/python3.7/dist-packages/sklearn/model_selection/_search.py:281: UserWarning:\n",
            "\n",
            "The total space of parameters 2 is smaller than n_iter=20. Running 2 iterations. For exhaustive searches, use GridSearchCV.\n",
            "\n",
            "[Parallel(n_jobs=-1)]: Using backend LokyBackend with 2 concurrent workers.\n"
          ]
        },
        {
          "output_type": "stream",
          "name": "stdout",
          "text": [
            "Fitting 10 folds for each of 2 candidates, totalling 20 fits\n"
          ]
        },
        {
          "output_type": "stream",
          "name": "stderr",
          "text": [
            "[Parallel(n_jobs=-1)]: Done  20 out of  20 | elapsed:   45.0s finished\n",
            "/usr/local/lib/python3.7/dist-packages/sklearn/utils/validation.py:760: DataConversionWarning:\n",
            "\n",
            "A column-vector y was passed when a 1d array was expected. Please change the shape of y to (n_samples, ), for example using ravel().\n",
            "\n"
          ]
        },
        {
          "output_type": "stream",
          "name": "stdout",
          "text": [
            "Accuratezza fase di Cross Validation con dati di Addestramento/Validazione: 0.867\n",
            "{'kernel': 'linear'}\n",
            "Accuratezza con dati di Test: 0.750\n",
            "Risultato sui dati di test:\n",
            "              precision    recall  f1-score   support\n",
            "\n",
            "           0       0.67      1.00      0.80         6\n",
            "           1       1.00      0.50      0.67         6\n",
            "\n",
            "    accuracy                           0.75        12\n",
            "   macro avg       0.83      0.75      0.73        12\n",
            "weighted avg       0.83      0.75      0.73        12\n",
            "\n",
            "[[6 0]\n",
            " [3 3]]\n",
            "Accuratezza Test: 75.000\n",
            "Precisione  Test: 66.000\n",
            "Sensitività Test: 100.000\n",
            "Specificità Test: 50.000\n",
            "F1 score    Test: 79.000\n"
          ]
        }
      ]
    },
    {
      "cell_type": "code",
      "metadata": {
        "id": "Hvn9JclUiOuC"
      },
      "source": [
        "#tuning_albero_decisione_CV(3,10)"
      ],
      "execution_count": null,
      "outputs": []
    },
    {
      "cell_type": "code",
      "metadata": {
        "id": "4wUU7ANwiOuD"
      },
      "source": [
        "#tuning_SVM_CV(3,10)"
      ],
      "execution_count": null,
      "outputs": []
    },
    {
      "cell_type": "code",
      "metadata": {
        "id": "Hb8isLzEiOuD"
      },
      "source": [
        "#validazione_incrociata_kfold(3,10,1)"
      ],
      "execution_count": null,
      "outputs": []
    },
    {
      "cell_type": "code",
      "metadata": {
        "id": "iHSbdhkKiOuD"
      },
      "source": [
        "#validazione_incrociata_kfold(3,10,2)"
      ],
      "execution_count": null,
      "outputs": []
    },
    {
      "cell_type": "code",
      "metadata": {
        "id": "GAC1cqfBiOuD"
      },
      "source": [
        "#validazione_incrociata_score(3,10,1)"
      ],
      "execution_count": null,
      "outputs": []
    },
    {
      "cell_type": "code",
      "metadata": {
        "id": "xixf_m4RiOuE"
      },
      "source": [
        "#validazione_incrociata_score(3,10,2)"
      ],
      "execution_count": null,
      "outputs": []
    },
    {
      "cell_type": "code",
      "metadata": {
        "id": "VgOBsP0wiOuE"
      },
      "source": [
        "#prova_pipeline(3,2)"
      ],
      "execution_count": null,
      "outputs": []
    },
    {
      "cell_type": "code",
      "metadata": {
        "id": "mKm27xZYiOuE"
      },
      "source": [
        "#exec_trad(3,1)"
      ],
      "execution_count": null,
      "outputs": []
    },
    {
      "cell_type": "code",
      "metadata": {
        "id": "J4O1pitiiOuE"
      },
      "source": [
        "#exec_trad(3,2)"
      ],
      "execution_count": null,
      "outputs": []
    },
    {
      "cell_type": "code",
      "metadata": {
        "colab": {
          "base_uri": "https://localhost:8080/"
        },
        "id": "IkCoFwTyiOuF",
        "outputId": "e97585c9-f15b-4085-f18f-8d663f52c1a6"
      },
      "source": [
        "tuning_KNN(3,5)"
      ],
      "execution_count": null,
      "outputs": [
        {
          "output_type": "stream",
          "name": "stdout",
          "text": [
            "Fitting 5 folds for each of 16 candidates, totalling 80 fits\n"
          ]
        },
        {
          "output_type": "stream",
          "name": "stderr",
          "text": [
            "[Parallel(n_jobs=-1)]: Using backend LokyBackend with 2 concurrent workers.\n"
          ]
        },
        {
          "output_type": "stream",
          "name": "stdout",
          "text": [
            "Accuratezza fase di Cross Validation con dati di Addestramento/Validazione: 0.807\n",
            "{'algorithm': 'auto', 'n_neighbors': 5, 'weights': 'distance'}\n",
            "Accuratezza con dati di Test: 0.833\n",
            "Risultato sui dati di test:\n",
            "              precision    recall  f1-score   support\n",
            "\n",
            "           0       0.75      1.00      0.86         6\n",
            "           1       1.00      0.67      0.80         6\n",
            "\n",
            "    accuracy                           0.83        12\n",
            "   macro avg       0.88      0.83      0.83        12\n",
            "weighted avg       0.88      0.83      0.83        12\n",
            "\n",
            "[[6 0]\n",
            " [2 4]]\n",
            "Accuratezza Test: 83.000\n",
            "Precisione  Test: 75.000\n",
            "Sensitività Test: 100.000\n",
            "Specificità Test: 66.000\n",
            "F1 score    Test: 85.000\n"
          ]
        },
        {
          "output_type": "stream",
          "name": "stderr",
          "text": [
            "[Parallel(n_jobs=-1)]: Done  80 out of  80 | elapsed:    0.2s finished\n",
            "/usr/local/lib/python3.7/dist-packages/sklearn/model_selection/_search.py:739: DataConversionWarning:\n",
            "\n",
            "A column-vector y was passed when a 1d array was expected. Please change the shape of y to (n_samples, ), for example using ravel().\n",
            "\n"
          ]
        }
      ]
    },
    {
      "cell_type": "code",
      "metadata": {
        "id": "nv1gRPNeiOuF"
      },
      "source": [
        "#tuning_MP(3,10)"
      ],
      "execution_count": null,
      "outputs": []
    },
    {
      "cell_type": "code",
      "metadata": {
        "colab": {
          "base_uri": "https://localhost:8080/"
        },
        "id": "Wvb6pwD-iOuG",
        "outputId": "dffc31e5-42a4-47ea-c644-5f5f3f93602f"
      },
      "source": [
        "tuning_LR(3,5)"
      ],
      "execution_count": null,
      "outputs": [
        {
          "output_type": "stream",
          "name": "stderr",
          "text": [
            "[Parallel(n_jobs=-1)]: Using backend LokyBackend with 2 concurrent workers.\n"
          ]
        },
        {
          "output_type": "stream",
          "name": "stdout",
          "text": [
            "Fitting 5 folds for each of 14 candidates, totalling 70 fits\n",
            "Accuratezza fase di Cross Validation con dati di Addestramento/Validazione: 0.773\n",
            "I migliori parametri trvati sono :\n",
            " {'C': 0.001, 'penalty': 'l2'}\n",
            "Accuratezza con dati di Test: 0.667\n",
            "Risultato sui dati di test:\n",
            "              precision    recall  f1-score   support\n",
            "\n",
            "           0       0.60      1.00      0.75         6\n",
            "           1       1.00      0.33      0.50         6\n",
            "\n",
            "    accuracy                           0.67        12\n",
            "   macro avg       0.80      0.67      0.62        12\n",
            "weighted avg       0.80      0.67      0.62        12\n",
            "\n",
            "[[6 0]\n",
            " [4 2]]\n",
            "Accuratezza Test: 66.000\n",
            "Precisione  Test: 60.000\n",
            "Sensitività Test: 100.000\n",
            "Specificità Test: 33.000\n",
            "F1 score    Test: 75.000\n"
          ]
        },
        {
          "output_type": "stream",
          "name": "stderr",
          "text": [
            "[Parallel(n_jobs=-1)]: Done  70 out of  70 | elapsed:    0.4s finished\n",
            "/usr/local/lib/python3.7/dist-packages/sklearn/utils/validation.py:760: DataConversionWarning:\n",
            "\n",
            "A column-vector y was passed when a 1d array was expected. Please change the shape of y to (n_samples, ), for example using ravel().\n",
            "\n"
          ]
        }
      ]
    },
    {
      "cell_type": "code",
      "metadata": {
        "id": "NTiOnrPaiOuG"
      },
      "source": [
        "#tuning_foresta(3,10)"
      ],
      "execution_count": null,
      "outputs": []
    },
    {
      "cell_type": "code",
      "metadata": {
        "id": "agUvJ6esiOuG"
      },
      "source": [
        ""
      ],
      "execution_count": null,
      "outputs": []
    },
    {
      "cell_type": "markdown",
      "metadata": {
        "id": "W2GX47BFiOuG"
      },
      "source": [
        "#### Caso4 CASE vs HCF"
      ]
    },
    {
      "cell_type": "code",
      "metadata": {
        "id": "RlUvTMlSiOuH"
      },
      "source": [
        ""
      ],
      "execution_count": null,
      "outputs": []
    },
    {
      "cell_type": "code",
      "metadata": {
        "id": "SytmrOnHiOuH"
      },
      "source": [
        "df=CASEHC.loc[:,0]\n",
        "\n",
        "X = df.to_numpy()\n",
        "\n",
        "Y = CASEHC.loc[:,1]\n",
        "y = Y.to_numpy()\n",
        "y = np.where(y == 3, 1, 0)\n",
        "#from sklearn.model_selection import train_test_split\n",
        "\n",
        "\n",
        "X_train, X_test, y_train, y_test = train_test_split(X, y, test_size=0.3,stratify=y,random_state=42)\n",
        "\n",
        "#pca = PCA(n_components=2)\n",
        "\n",
        "#X_train_pca = pca.fit_transform(X_train)\n",
        "#X_test_pca = pca.transform(X_test)\n",
        "\n",
        "X_train_caso4=X_train\n",
        "X_test_caso4=X_test\n",
        "y_train_caso4=y_train\n",
        "y_test_caso4=y_test"
      ],
      "execution_count": null,
      "outputs": []
    },
    {
      "cell_type": "code",
      "metadata": {
        "id": "4ohJw680iOuH"
      },
      "source": [
        "X_train_caso4=X_train_caso4.reshape(-1,1)\n",
        "X_test_caso4=X_test_caso4.reshape(-1,1)\n",
        "y_train_caso4=y_train_caso4.reshape(-1,1)\n",
        "y_test_caso4=y_test_caso4.reshape(-1,1)"
      ],
      "execution_count": null,
      "outputs": []
    },
    {
      "cell_type": "code",
      "metadata": {
        "colab": {
          "base_uri": "https://localhost:8080/"
        },
        "id": "d7jVj7ERiOuH",
        "outputId": "0ea3d324-1540-4a45-a5b0-fa8de07d91f2"
      },
      "source": [
        "tuning_albero_decisione(4,5)"
      ],
      "execution_count": null,
      "outputs": [
        {
          "output_type": "stream",
          "name": "stderr",
          "text": [
            "[Parallel(n_jobs=-1)]: Using backend LokyBackend with 2 concurrent workers.\n"
          ]
        },
        {
          "output_type": "stream",
          "name": "stdout",
          "text": [
            "Fitting 5 folds for each of 216 candidates, totalling 1080 fits\n",
            "Accuratezza fase di Cross Validation con dati di Addestramento/Validazione: 0.875\n",
            "{'criterion': 'gini', 'max_depth': 3, 'min_samples_leaf': 1, 'min_samples_split': 2, 'min_weight_fraction_leaf': 0}\n",
            "Accuratezza con dati di Test: 0.833\n",
            "Risultato sui dati di test:\n",
            "              precision    recall  f1-score   support\n",
            "\n",
            "           0       0.91      0.83      0.87        12\n",
            "           1       0.71      0.83      0.77         6\n",
            "\n",
            "    accuracy                           0.83        18\n",
            "   macro avg       0.81      0.83      0.82        18\n",
            "weighted avg       0.84      0.83      0.84        18\n",
            "\n",
            "[[10  2]\n",
            " [ 1  5]]\n",
            "Accuratezza Test: 83.000\n",
            "Precisione  Test: 90.000\n",
            "Sensitività Test: 83.000\n",
            "Specificità Test: 83.000\n",
            "F1 score    Test: 86.000\n"
          ]
        },
        {
          "output_type": "stream",
          "name": "stderr",
          "text": [
            "[Parallel(n_jobs=-1)]: Done 1064 tasks      | elapsed:    1.4s\n",
            "[Parallel(n_jobs=-1)]: Done 1077 out of 1080 | elapsed:    1.5s remaining:    0.0s\n",
            "[Parallel(n_jobs=-1)]: Done 1080 out of 1080 | elapsed:    1.5s finished\n"
          ]
        }
      ]
    },
    {
      "cell_type": "code",
      "metadata": {
        "colab": {
          "base_uri": "https://localhost:8080/"
        },
        "id": "Og72plzqiOuI",
        "outputId": "58020219-1f8d-4fea-ce2f-bc2c6b6c4c96"
      },
      "source": [
        "tuning_SVM(4,5)"
      ],
      "execution_count": null,
      "outputs": [
        {
          "output_type": "stream",
          "name": "stderr",
          "text": [
            "/usr/local/lib/python3.7/dist-packages/sklearn/model_selection/_search.py:281: UserWarning:\n",
            "\n",
            "The total space of parameters 2 is smaller than n_iter=20. Running 2 iterations. For exhaustive searches, use GridSearchCV.\n",
            "\n",
            "[Parallel(n_jobs=-1)]: Using backend LokyBackend with 2 concurrent workers.\n"
          ]
        },
        {
          "output_type": "stream",
          "name": "stdout",
          "text": [
            "Fitting 5 folds for each of 2 candidates, totalling 10 fits\n"
          ]
        },
        {
          "output_type": "stream",
          "name": "stderr",
          "text": [
            "[Parallel(n_jobs=-1)]: Done  10 out of  10 | elapsed:    3.2s finished\n",
            "/usr/local/lib/python3.7/dist-packages/sklearn/utils/validation.py:760: DataConversionWarning:\n",
            "\n",
            "A column-vector y was passed when a 1d array was expected. Please change the shape of y to (n_samples, ), for example using ravel().\n",
            "\n"
          ]
        },
        {
          "output_type": "stream",
          "name": "stdout",
          "text": [
            "Accuratezza fase di Cross Validation con dati di Addestramento/Validazione: 0.825\n",
            "{'kernel': 'linear'}\n",
            "Accuratezza con dati di Test: 0.778\n",
            "Risultato sui dati di test:\n",
            "              precision    recall  f1-score   support\n",
            "\n",
            "           0       0.90      0.75      0.82        12\n",
            "           1       0.62      0.83      0.71         6\n",
            "\n",
            "    accuracy                           0.78        18\n",
            "   macro avg       0.76      0.79      0.77        18\n",
            "weighted avg       0.81      0.78      0.78        18\n",
            "\n",
            "[[9 3]\n",
            " [1 5]]\n",
            "Accuratezza Test: 77.000\n",
            "Precisione  Test: 90.000\n",
            "Sensitività Test: 75.000\n",
            "Specificità Test: 83.000\n",
            "F1 score    Test: 81.000\n"
          ]
        }
      ]
    },
    {
      "cell_type": "code",
      "metadata": {
        "id": "yMK9LockiOuI"
      },
      "source": [
        "#tuning_albero_decisione_CV(4,10)"
      ],
      "execution_count": null,
      "outputs": []
    },
    {
      "cell_type": "code",
      "metadata": {
        "id": "WEGx9Gh9iOuI"
      },
      "source": [
        "#tuning_SVM_CV(4,10)"
      ],
      "execution_count": null,
      "outputs": []
    },
    {
      "cell_type": "code",
      "metadata": {
        "id": "-nIrhZKPiOuJ"
      },
      "source": [
        "#validazione_incrociata_kfold(4,10,1)"
      ],
      "execution_count": null,
      "outputs": []
    },
    {
      "cell_type": "code",
      "metadata": {
        "id": "D8cP3thqiOuJ"
      },
      "source": [
        "#validazione_incrociata_kfold(4,10,2)"
      ],
      "execution_count": null,
      "outputs": []
    },
    {
      "cell_type": "code",
      "metadata": {
        "id": "4PX-TlsOiOuJ"
      },
      "source": [
        "#validazione_incrociata_score(4,10,1)"
      ],
      "execution_count": null,
      "outputs": []
    },
    {
      "cell_type": "code",
      "metadata": {
        "id": "kuN56eCriOuJ"
      },
      "source": [
        "#validazione_incrociata_score(4,10,2)"
      ],
      "execution_count": null,
      "outputs": []
    },
    {
      "cell_type": "code",
      "metadata": {
        "id": "T8yGJVoviOuJ"
      },
      "source": [
        "#prova_pipeline(4,2)"
      ],
      "execution_count": null,
      "outputs": []
    },
    {
      "cell_type": "code",
      "metadata": {
        "id": "-mE5FGujiOuK"
      },
      "source": [
        "#exec_trad(4,1)"
      ],
      "execution_count": null,
      "outputs": []
    },
    {
      "cell_type": "code",
      "metadata": {
        "id": "2tf0-wgpiOuL"
      },
      "source": [
        "#exec_trad(4,2)"
      ],
      "execution_count": null,
      "outputs": []
    },
    {
      "cell_type": "code",
      "metadata": {
        "colab": {
          "base_uri": "https://localhost:8080/"
        },
        "id": "E1EmIQOKiOuL",
        "outputId": "980ee8bb-1846-4051-d015-e3e529785c64"
      },
      "source": [
        "tuning_KNN(4,5)"
      ],
      "execution_count": null,
      "outputs": [
        {
          "output_type": "stream",
          "name": "stdout",
          "text": [
            "Fitting 5 folds for each of 16 candidates, totalling 80 fits\n"
          ]
        },
        {
          "output_type": "stream",
          "name": "stderr",
          "text": [
            "[Parallel(n_jobs=-1)]: Using backend LokyBackend with 2 concurrent workers.\n"
          ]
        },
        {
          "output_type": "stream",
          "name": "stdout",
          "text": [
            "Accuratezza fase di Cross Validation con dati di Addestramento/Validazione: 0.900\n",
            "{'algorithm': 'auto', 'n_neighbors': 5, 'weights': 'uniform'}\n",
            "Accuratezza con dati di Test: 0.722\n",
            "Risultato sui dati di test:\n",
            "              precision    recall  f1-score   support\n",
            "\n",
            "           0       0.89      0.67      0.76        12\n",
            "           1       0.56      0.83      0.67         6\n",
            "\n",
            "    accuracy                           0.72        18\n",
            "   macro avg       0.72      0.75      0.71        18\n",
            "weighted avg       0.78      0.72      0.73        18\n",
            "\n",
            "[[8 4]\n",
            " [1 5]]\n",
            "Accuratezza Test: 72.000\n",
            "Precisione  Test: 88.000\n",
            "Sensitività Test: 66.000\n",
            "Specificità Test: 83.000\n",
            "F1 score    Test: 75.000\n"
          ]
        },
        {
          "output_type": "stream",
          "name": "stderr",
          "text": [
            "[Parallel(n_jobs=-1)]: Done  77 out of  80 | elapsed:    0.2s remaining:    0.0s\n",
            "[Parallel(n_jobs=-1)]: Done  80 out of  80 | elapsed:    0.2s finished\n",
            "/usr/local/lib/python3.7/dist-packages/sklearn/model_selection/_search.py:739: DataConversionWarning:\n",
            "\n",
            "A column-vector y was passed when a 1d array was expected. Please change the shape of y to (n_samples, ), for example using ravel().\n",
            "\n"
          ]
        }
      ]
    },
    {
      "cell_type": "code",
      "metadata": {
        "id": "iC4V3wlyiOuL"
      },
      "source": [
        "#tuning_MP(4,10)"
      ],
      "execution_count": null,
      "outputs": []
    },
    {
      "cell_type": "code",
      "metadata": {
        "colab": {
          "base_uri": "https://localhost:8080/"
        },
        "id": "9wKx-uNAiOuM",
        "outputId": "f2fa3562-1f14-4793-86a2-c7e4a337e2a3"
      },
      "source": [
        "tuning_LR(4,5)"
      ],
      "execution_count": null,
      "outputs": [
        {
          "output_type": "stream",
          "name": "stderr",
          "text": [
            "[Parallel(n_jobs=-1)]: Using backend LokyBackend with 2 concurrent workers.\n"
          ]
        },
        {
          "output_type": "stream",
          "name": "stdout",
          "text": [
            "Fitting 5 folds for each of 14 candidates, totalling 70 fits\n",
            "Accuratezza fase di Cross Validation con dati di Addestramento/Validazione: 0.850\n",
            "I migliori parametri trvati sono :\n",
            " {'C': 0.001, 'penalty': 'l2'}\n",
            "Accuratezza con dati di Test: 0.778\n",
            "Risultato sui dati di test:\n",
            "              precision    recall  f1-score   support\n",
            "\n",
            "           0       0.90      0.75      0.82        12\n",
            "           1       0.62      0.83      0.71         6\n",
            "\n",
            "    accuracy                           0.78        18\n",
            "   macro avg       0.76      0.79      0.77        18\n",
            "weighted avg       0.81      0.78      0.78        18\n",
            "\n",
            "[[9 3]\n",
            " [1 5]]\n",
            "Accuratezza Test: 77.000\n",
            "Precisione  Test: 90.000\n",
            "Sensitività Test: 75.000\n",
            "Specificità Test: 83.000\n",
            "F1 score    Test: 81.000\n"
          ]
        },
        {
          "output_type": "stream",
          "name": "stderr",
          "text": [
            "[Parallel(n_jobs=-1)]: Done  70 out of  70 | elapsed:    0.4s finished\n",
            "/usr/local/lib/python3.7/dist-packages/sklearn/utils/validation.py:760: DataConversionWarning:\n",
            "\n",
            "A column-vector y was passed when a 1d array was expected. Please change the shape of y to (n_samples, ), for example using ravel().\n",
            "\n"
          ]
        }
      ]
    },
    {
      "cell_type": "code",
      "metadata": {
        "id": "f4YLWqIPiOuM"
      },
      "source": [
        "#tuning_foresta(4,10)"
      ],
      "execution_count": null,
      "outputs": []
    },
    {
      "cell_type": "markdown",
      "metadata": {
        "id": "YigxGnLliOuM"
      },
      "source": [
        "<br>\n",
        "<br>"
      ]
    },
    {
      "cell_type": "code",
      "metadata": {
        "id": "dGOfHufxiOuN"
      },
      "source": [
        ""
      ],
      "execution_count": null,
      "outputs": []
    },
    {
      "cell_type": "code",
      "metadata": {
        "id": "0QMbtreJh1LA"
      },
      "source": [
        ""
      ],
      "execution_count": null,
      "outputs": []
    },
    {
      "cell_type": "markdown",
      "metadata": {
        "id": "Dkj8Od5CjXr3"
      },
      "source": [
        "### 6 hz"
      ]
    },
    {
      "cell_type": "code",
      "metadata": {
        "id": "sCVnMOVijXr4"
      },
      "source": [
        ""
      ],
      "execution_count": null,
      "outputs": []
    },
    {
      "cell_type": "code",
      "metadata": {
        "id": "wRoMaD8kjXr4"
      },
      "source": [
        "\n",
        "y1=hz6.loc[:,0].to_numpy()\n",
        "y2=hz6.loc[:,1].to_numpy()\n",
        "y3=hz6.loc[:,2].to_numpy()\n",
        "\n"
      ],
      "execution_count": null,
      "outputs": []
    },
    {
      "cell_type": "code",
      "metadata": {
        "id": "opM9Zb83jXr5"
      },
      "source": [
        ""
      ],
      "execution_count": null,
      "outputs": []
    },
    {
      "cell_type": "code",
      "metadata": {
        "colab": {
          "base_uri": "https://localhost:8080/"
        },
        "id": "PkrCCTRHjXr6",
        "outputId": "8fe5b674-6a29-49e2-e4b4-83bbd2865f28"
      },
      "source": [
        "y1,y2,y3,hz3"
      ],
      "execution_count": null,
      "outputs": [
        {
          "output_type": "execute_result",
          "data": {
            "text/plain": [
              "(array([ 20605.35781238, 193059.86999533,  13548.13442627,  40440.35877151,\n",
              "          5677.21419155,  15435.65164431,  23898.92330471,  15598.78588432,\n",
              "         81566.30175693,  16178.62229427,   7095.43878758,  27126.23245298,\n",
              "         19277.66646264,   6515.92762751,  13880.98858739,  35663.43466399,\n",
              "         42157.56354046,  16978.64259144,   3615.01427794]),\n",
              " array([ 6712.8763669 ,  3137.64253139,  2514.00498426, 18783.19356326,\n",
              "        33016.01258108,  7664.32314507, 11645.5581384 ,  7424.58816717,\n",
              "         7738.00911809,  2908.96978721,  8067.29135074,  6748.82757693,\n",
              "         5920.94917521, 30404.19845216,  5717.39335481,  6064.70074557,\n",
              "        28428.83334165, 28281.78545888, 40953.73417881]),\n",
              " array([1829.15314726, 1384.91699972,  806.73095217,  436.88486117,\n",
              "         239.82324028, 1605.4569868 ,  727.66069501,  796.24790332,\n",
              "        3544.14340126,  858.96199285,  287.55758294, 2360.14270563,\n",
              "        1720.64241207,  720.97309496,  222.42531001,  224.37192244,\n",
              "        2847.29639847,  606.95348046,  377.37949283]),\n",
              "                 0              1             2\n",
              " 0    11941.878738    4543.079199   4260.988482\n",
              " 1    21550.001904    3171.543412   6215.959227\n",
              " 2     7954.533234    2502.250572   2878.113664\n",
              " 3    42676.089206   17653.023737    946.372606\n",
              " 4    12148.524998   27477.274131    612.110742\n",
              " 5    12297.442066    3811.751034   7665.308313\n",
              " 6    19050.995665   10227.178360   3062.984321\n",
              " 7     4992.630324   22822.837806   1211.440626\n",
              " 8    16011.533992    6828.018160  22390.062009\n",
              " 9     9151.569946    3078.353285   2888.256949\n",
              " 10   14843.201818    9843.491084    563.057786\n",
              " 11   10445.070016    5141.196547   4760.093445\n",
              " 12  182700.816803    4200.470742   4973.644479\n",
              " 13   15954.139771   16579.985919   2618.749608\n",
              " 14   11744.109673    5865.329829    698.500991\n",
              " 15    7023.707557   12802.749011    703.477024\n",
              " 16   37297.839360  104104.832648   4747.694480\n",
              " 17   11622.940208   71138.564456   2467.786370\n",
              " 18   14182.838368   23134.713975   1533.933877)"
            ]
          },
          "metadata": {},
          "execution_count": 401
        }
      ]
    },
    {
      "cell_type": "code",
      "metadata": {
        "id": "FTE3xcEfjXr7"
      },
      "source": [
        "x1 = np.linspace(0, 30, len(y1), endpoint=True)\n",
        "x2 = np.linspace(0, 30,len(y2), endpoint=False)\n",
        "x3 = np.linspace(0, 30,len(y3), endpoint=False)"
      ],
      "execution_count": null,
      "outputs": []
    },
    {
      "cell_type": "code",
      "metadata": {
        "colab": {
          "base_uri": "https://localhost:8080/",
          "height": 267
        },
        "id": "UETa2UkOjXr8",
        "outputId": "1be24ac6-0b8f-4993-e7ce-4bbade4fdd60"
      },
      "source": [
        "plt.plot(x1, y1, 'g')\n",
        "plt.plot(x2, y2, 'b')\n",
        "plt.plot(x3, y3, 'r')\n",
        "#plt.ylim(0,300000)\n",
        "plt.show()"
      ],
      "execution_count": null,
      "outputs": [
        {
          "output_type": "display_data",
          "data": {
            "image/png": "[encoded data removed]",
            "text/plain": [
              "<Figure size 432x288 with 1 Axes>"
            ]
          },
          "metadata": {
            "needs_background": "light"
          }
        }
      ]
    },
    {
      "cell_type": "code",
      "metadata": {
        "id": "oXM20EZijXr9"
      },
      "source": [
        ""
      ],
      "execution_count": null,
      "outputs": []
    },
    {
      "cell_type": "code",
      "metadata": {
        "id": "jSy3infWjXr-"
      },
      "source": [
        "matriceAD = np.zeros((len(y1),2))\n",
        "matriceMCI = np.zeros((len(y2),2))\n",
        "matriceHC = np.zeros((len(y3),2))\n"
      ],
      "execution_count": null,
      "outputs": []
    },
    {
      "cell_type": "code",
      "metadata": {
        "id": "80bPIb1pjXr_"
      },
      "source": [
        "matriceADHC = np.zeros((len(y1)+len(y3),2))\n",
        "matriceMCIHC = np.zeros((len(y2)+len(y3),2))\n",
        "matriceADMCI = np.zeros((len(y1)+len(y2),2))\n",
        "matriceCASEHC = np.zeros((len(y2)+len(y3)+len(y1),2))"
      ],
      "execution_count": null,
      "outputs": []
    },
    {
      "cell_type": "code",
      "metadata": {
        "id": "UzpajjoxjXsA"
      },
      "source": [
        "for i in range(len(y1)):\n",
        "      matriceAD[i,0]=y1[i]\n",
        "      matriceAD[i,1]=1"
      ],
      "execution_count": null,
      "outputs": []
    },
    {
      "cell_type": "code",
      "metadata": {
        "id": "bDXKt-bzjXsB"
      },
      "source": [
        "for i in range(len(y2)):\n",
        "      matriceMCI[i,0]=y2[i]\n",
        "      matriceMCI[i,1]=2"
      ],
      "execution_count": null,
      "outputs": []
    },
    {
      "cell_type": "code",
      "metadata": {
        "id": "FdiUh9_zjXsC"
      },
      "source": [
        "for i in range(len(y3)):\n",
        "      matriceHC[i,0]=y3[i]\n",
        "      matriceHC[i,1]=3"
      ],
      "execution_count": null,
      "outputs": []
    },
    {
      "cell_type": "code",
      "metadata": {
        "id": "eUFMNChljXsC"
      },
      "source": [
        "AD=pd.DataFrame(matriceAD)\n",
        "HC=pd.DataFrame(matriceHC)\n",
        "MCI=pd.DataFrame(matriceMCI)"
      ],
      "execution_count": null,
      "outputs": []
    },
    {
      "cell_type": "code",
      "metadata": {
        "id": "WYTsJvznjXsD"
      },
      "source": [
        "ADHC=AD.copy()\n",
        "ADHC=ADHC.append(HC,ignore_index=True)"
      ],
      "execution_count": null,
      "outputs": []
    },
    {
      "cell_type": "code",
      "metadata": {
        "id": "gvX-MBVgjXsD"
      },
      "source": [
        "ADMCI=AD.copy()\n",
        "ADMCI=ADMCI.append(MCI,ignore_index=True)"
      ],
      "execution_count": null,
      "outputs": []
    },
    {
      "cell_type": "code",
      "metadata": {
        "id": "jZ8gEhsxjXsE"
      },
      "source": [
        "MCIHC=MCI.copy()\n",
        "MCIHC=MCIHC.append(HC,ignore_index=True)"
      ],
      "execution_count": null,
      "outputs": []
    },
    {
      "cell_type": "code",
      "metadata": {
        "id": "YEWDpRS3jXsE"
      },
      "source": [
        "CASEHC=AD.copy()\n",
        "CASEHC=CASEHC.append(MCI,ignore_index=True)\n",
        "CASEHC=CASEHC.append(HC,ignore_index=True)"
      ],
      "execution_count": null,
      "outputs": []
    },
    {
      "cell_type": "code",
      "metadata": {
        "id": "-DL0ZzIZjXsF"
      },
      "source": [
        ""
      ],
      "execution_count": null,
      "outputs": []
    },
    {
      "cell_type": "markdown",
      "metadata": {
        "id": "5GyWde1ojXsF"
      },
      "source": [
        "#### Caso1 AD vs HCF"
      ]
    },
    {
      "cell_type": "code",
      "metadata": {
        "id": "3S_dQrzXjXsF"
      },
      "source": [
        "df=ADHC.loc[:,0]\n",
        "\n",
        "X = df.to_numpy()\n",
        "\n",
        "Y = ADHC.loc[:,1]\n",
        "y = Y.to_numpy()"
      ],
      "execution_count": null,
      "outputs": []
    },
    {
      "cell_type": "code",
      "metadata": {
        "id": "oVvtL6VTjXsG"
      },
      "source": [
        "y = np.where(y == 1, 1, 0)"
      ],
      "execution_count": null,
      "outputs": []
    },
    {
      "cell_type": "code",
      "metadata": {
        "colab": {
          "base_uri": "https://localhost:8080/"
        },
        "id": "2fbue_u2jXsG",
        "outputId": "966d5851-2d2c-4e1c-e32c-062cd4b094b4"
      },
      "source": [
        "X,y"
      ],
      "execution_count": null,
      "outputs": [
        {
          "output_type": "execute_result",
          "data": {
            "text/plain": [
              "(array([ 20605.35781238, 193059.86999533,  13548.13442627,  40440.35877151,\n",
              "          5677.21419155,  15435.65164431,  23898.92330471,  15598.78588432,\n",
              "         81566.30175693,  16178.62229427,   7095.43878758,  27126.23245298,\n",
              "         19277.66646264,   6515.92762751,  13880.98858739,  35663.43466399,\n",
              "         42157.56354046,  16978.64259144,   3615.01427794,   1829.15314726,\n",
              "          1384.91699972,    806.73095217,    436.88486117,    239.82324028,\n",
              "          1605.4569868 ,    727.66069501,    796.24790332,   3544.14340126,\n",
              "           858.96199285,    287.55758294,   2360.14270563,   1720.64241207,\n",
              "           720.97309496,    222.42531001,    224.37192244,   2847.29639847,\n",
              "           606.95348046,    377.37949283]),\n",
              " array([1, 1, 1, 1, 1, 1, 1, 1, 1, 1, 1, 1, 1, 1, 1, 1, 1, 1, 1, 0, 0, 0,\n",
              "        0, 0, 0, 0, 0, 0, 0, 0, 0, 0, 0, 0, 0, 0, 0, 0]))"
            ]
          },
          "metadata": {},
          "execution_count": 416
        }
      ]
    },
    {
      "cell_type": "code",
      "metadata": {
        "id": "EGh7JHIejXsG"
      },
      "source": [
        "df=ADHC.loc[:,0]\n",
        "\n",
        "X = df.to_numpy()\n",
        "\n",
        "Y = ADHC.loc[:,1]\n",
        "y = Y.to_numpy()\n",
        "y = np.where(y == 1, 1, 0)\n",
        "#from sklearn.model_selection import train_test_split\n",
        "\n",
        "\n",
        "X_train, X_test, y_train, y_test = train_test_split(X, y, test_size=0.3,stratify=y,random_state=42)\n",
        "\n",
        "#pca = PCA(n_components=2)\n",
        "\n",
        "#X_train_pca = pca.fit_transform(X_train)\n",
        "#X_test_pca = pca.transform(X_test)\n",
        "\n",
        "X_train_caso1=X_train\n",
        "X_test_caso1=X_test\n",
        "y_train_caso1=y_train\n",
        "y_test_caso1=y_test\n",
        "\n"
      ],
      "execution_count": null,
      "outputs": []
    },
    {
      "cell_type": "code",
      "metadata": {
        "id": "f-1s6sEhjXsH"
      },
      "source": [
        "X_train_caso1=X_train_caso1.reshape(-1,1)\n",
        "X_test_caso1=X_test_caso1.reshape(-1,1)\n",
        "y_train_caso1=y_train_caso1.reshape(-1,1)\n",
        "y_test_caso1=y_test_caso1.reshape(-1,1)\n"
      ],
      "execution_count": null,
      "outputs": []
    },
    {
      "cell_type": "code",
      "metadata": {
        "id": "wZAhuhMhjXsH"
      },
      "source": [
        ""
      ],
      "execution_count": null,
      "outputs": []
    },
    {
      "cell_type": "code",
      "metadata": {
        "colab": {
          "base_uri": "https://localhost:8080/"
        },
        "id": "KzqTWSi7jXsH",
        "outputId": "97677e0c-e41e-4208-f3fb-b84920b28400"
      },
      "source": [
        "tuning_albero_decisione(1,5)"
      ],
      "execution_count": null,
      "outputs": [
        {
          "output_type": "stream",
          "name": "stdout",
          "text": [
            "Fitting 5 folds for each of 216 candidates, totalling 1080 fits\n"
          ]
        },
        {
          "output_type": "stream",
          "name": "stderr",
          "text": [
            "[Parallel(n_jobs=-1)]: Using backend LokyBackend with 2 concurrent workers.\n"
          ]
        },
        {
          "output_type": "stream",
          "name": "stdout",
          "text": [
            "Accuratezza fase di Cross Validation con dati di Addestramento/Validazione: 0.927\n",
            "{'criterion': 'gini', 'max_depth': 3, 'min_samples_leaf': 1, 'min_samples_split': 2, 'min_weight_fraction_leaf': 0}\n",
            "Accuratezza con dati di Test: 1.000\n",
            "Risultato sui dati di test:\n",
            "              precision    recall  f1-score   support\n",
            "\n",
            "           0       1.00      1.00      1.00         6\n",
            "           1       1.00      1.00      1.00         6\n",
            "\n",
            "    accuracy                           1.00        12\n",
            "   macro avg       1.00      1.00      1.00        12\n",
            "weighted avg       1.00      1.00      1.00        12\n",
            "\n",
            "[[6 0]\n",
            " [0 6]]\n",
            "Accuratezza Test: 100.000\n",
            "Precisione  Test: 100.000\n",
            "Sensitività Test: 100.000\n",
            "Specificità Test: 100.000\n",
            "F1 score    Test: 100.000\n"
          ]
        },
        {
          "output_type": "stream",
          "name": "stderr",
          "text": [
            "[Parallel(n_jobs=-1)]: Done 1062 tasks      | elapsed:    1.5s\n",
            "[Parallel(n_jobs=-1)]: Done 1077 out of 1080 | elapsed:    1.5s remaining:    0.0s\n",
            "[Parallel(n_jobs=-1)]: Done 1080 out of 1080 | elapsed:    1.5s finished\n"
          ]
        }
      ]
    },
    {
      "cell_type": "code",
      "metadata": {
        "colab": {
          "base_uri": "https://localhost:8080/"
        },
        "id": "lOekml-EjXsI",
        "outputId": "1d11c771-771a-4de8-949c-c670c9598432"
      },
      "source": [
        "tuning_SVM(1,5)"
      ],
      "execution_count": null,
      "outputs": [
        {
          "output_type": "stream",
          "name": "stdout",
          "text": [
            "Fitting 5 folds for each of 2 candidates, totalling 10 fits\n",
            "Accuratezza fase di Cross Validation con dati di Addestramento/Validazione: 0.927\n",
            "{'kernel': 'linear'}\n",
            "Accuratezza con dati di Test: 1.000\n",
            "Risultato sui dati di test:\n",
            "              precision    recall  f1-score   support\n",
            "\n",
            "           0       1.00      1.00      1.00         6\n",
            "           1       1.00      1.00      1.00         6\n",
            "\n",
            "    accuracy                           1.00        12\n",
            "   macro avg       1.00      1.00      1.00        12\n",
            "weighted avg       1.00      1.00      1.00        12\n",
            "\n",
            "[[6 0]\n",
            " [0 6]]\n",
            "Accuratezza Test: 100.000\n",
            "Precisione  Test: 100.000\n",
            "Sensitività Test: 100.000\n",
            "Specificità Test: 100.000\n",
            "F1 score    Test: 100.000\n"
          ]
        },
        {
          "output_type": "stream",
          "name": "stderr",
          "text": [
            "/usr/local/lib/python3.7/dist-packages/sklearn/model_selection/_search.py:281: UserWarning:\n",
            "\n",
            "The total space of parameters 2 is smaller than n_iter=20. Running 2 iterations. For exhaustive searches, use GridSearchCV.\n",
            "\n",
            "[Parallel(n_jobs=-1)]: Using backend LokyBackend with 2 concurrent workers.\n",
            "[Parallel(n_jobs=-1)]: Done  10 out of  10 | elapsed:    0.0s finished\n",
            "/usr/local/lib/python3.7/dist-packages/sklearn/utils/validation.py:760: DataConversionWarning:\n",
            "\n",
            "A column-vector y was passed when a 1d array was expected. Please change the shape of y to (n_samples, ), for example using ravel().\n",
            "\n"
          ]
        }
      ]
    },
    {
      "cell_type": "code",
      "metadata": {
        "id": "o9jjvMnfjXsI"
      },
      "source": [
        "#tuning_foresta(1,10)"
      ],
      "execution_count": null,
      "outputs": []
    },
    {
      "cell_type": "code",
      "metadata": {
        "id": "4ZPqHgf0jXsJ"
      },
      "source": [
        "#tuning_albero_decisione_CV(1,10)"
      ],
      "execution_count": null,
      "outputs": []
    },
    {
      "cell_type": "code",
      "metadata": {
        "id": "bJb5ZU5gjXsJ"
      },
      "source": [
        "#tuning_SVM_CV(1,10)"
      ],
      "execution_count": null,
      "outputs": []
    },
    {
      "cell_type": "code",
      "metadata": {
        "id": "L32FpU2GjXsJ"
      },
      "source": [
        "#validazione_incrociata_kfold(1,10,1)"
      ],
      "execution_count": null,
      "outputs": []
    },
    {
      "cell_type": "code",
      "metadata": {
        "id": "Lco4Tsm4jXsK"
      },
      "source": [
        "#validazione_incrociata_kfold(1,10,2)"
      ],
      "execution_count": null,
      "outputs": []
    },
    {
      "cell_type": "code",
      "metadata": {
        "id": "n6opy3tMjXsK"
      },
      "source": [
        "#validazione_incrociata_score(1,10,1)"
      ],
      "execution_count": null,
      "outputs": []
    },
    {
      "cell_type": "code",
      "metadata": {
        "id": "YOH-YdmpjXsK"
      },
      "source": [
        "#validazione_incrociata_score(1,10,2)"
      ],
      "execution_count": null,
      "outputs": []
    },
    {
      "cell_type": "code",
      "metadata": {
        "id": "nlq4EuSSjXsK"
      },
      "source": [
        "#prova_pipeline(1,2)"
      ],
      "execution_count": null,
      "outputs": []
    },
    {
      "cell_type": "code",
      "metadata": {
        "id": "P0yPCAPAjXsL"
      },
      "source": [
        ""
      ],
      "execution_count": null,
      "outputs": []
    },
    {
      "cell_type": "code",
      "metadata": {
        "colab": {
          "base_uri": "https://localhost:8080/"
        },
        "id": "VdooEpqBjXsL",
        "outputId": "0f3bf77b-0aae-4131-b607-2cc2936e87e7"
      },
      "source": [
        "tuning_KNN(1,5)"
      ],
      "execution_count": null,
      "outputs": [
        {
          "output_type": "stream",
          "name": "stdout",
          "text": [
            "Fitting 5 folds for each of 16 candidates, totalling 80 fits\n"
          ]
        },
        {
          "output_type": "stream",
          "name": "stderr",
          "text": [
            "[Parallel(n_jobs=-1)]: Using backend LokyBackend with 2 concurrent workers.\n"
          ]
        },
        {
          "output_type": "stream",
          "name": "stdout",
          "text": [
            "Accuratezza fase di Cross Validation con dati di Addestramento/Validazione: 0.927\n",
            "{'algorithm': 'auto', 'n_neighbors': 5, 'weights': 'distance'}\n",
            "Accuratezza con dati di Test: 1.000\n",
            "Risultato sui dati di test:\n",
            "              precision    recall  f1-score   support\n",
            "\n",
            "           0       1.00      1.00      1.00         6\n",
            "           1       1.00      1.00      1.00         6\n",
            "\n",
            "    accuracy                           1.00        12\n",
            "   macro avg       1.00      1.00      1.00        12\n",
            "weighted avg       1.00      1.00      1.00        12\n",
            "\n",
            "[[6 0]\n",
            " [0 6]]\n",
            "Accuratezza Test: 100.000\n",
            "Precisione  Test: 100.000\n",
            "Sensitività Test: 100.000\n",
            "Specificità Test: 100.000\n",
            "F1 score    Test: 100.000\n"
          ]
        },
        {
          "output_type": "stream",
          "name": "stderr",
          "text": [
            "[Parallel(n_jobs=-1)]: Done  80 out of  80 | elapsed:    0.3s finished\n",
            "/usr/local/lib/python3.7/dist-packages/sklearn/model_selection/_search.py:739: DataConversionWarning:\n",
            "\n",
            "A column-vector y was passed when a 1d array was expected. Please change the shape of y to (n_samples, ), for example using ravel().\n",
            "\n"
          ]
        }
      ]
    },
    {
      "cell_type": "code",
      "metadata": {
        "id": "HvAA0LfOjXsL"
      },
      "source": [
        "#tuning_MP(1,5)"
      ],
      "execution_count": null,
      "outputs": []
    },
    {
      "cell_type": "code",
      "metadata": {
        "colab": {
          "base_uri": "https://localhost:8080/"
        },
        "id": "pLoJzzTujXsL",
        "outputId": "cfb32bcd-7c6f-435f-8abe-c9303a6a3624"
      },
      "source": [
        "tuning_LR(1,5)"
      ],
      "execution_count": null,
      "outputs": [
        {
          "output_type": "stream",
          "name": "stderr",
          "text": [
            "[Parallel(n_jobs=-1)]: Using backend LokyBackend with 2 concurrent workers.\n"
          ]
        },
        {
          "output_type": "stream",
          "name": "stdout",
          "text": [
            "Fitting 5 folds for each of 14 candidates, totalling 70 fits\n",
            "Accuratezza fase di Cross Validation con dati di Addestramento/Validazione: 0.927\n",
            "I migliori parametri trvati sono :\n",
            " {'C': 0.001, 'penalty': 'l2'}\n",
            "Accuratezza con dati di Test: 1.000\n",
            "Risultato sui dati di test:\n",
            "              precision    recall  f1-score   support\n",
            "\n",
            "           0       1.00      1.00      1.00         6\n",
            "           1       1.00      1.00      1.00         6\n",
            "\n",
            "    accuracy                           1.00        12\n",
            "   macro avg       1.00      1.00      1.00        12\n",
            "weighted avg       1.00      1.00      1.00        12\n",
            "\n",
            "[[6 0]\n",
            " [0 6]]\n",
            "Accuratezza Test: 100.000\n",
            "Precisione  Test: 0.000\n",
            "Sensitività Test: 100.000\n",
            "Specificità Test: 100.000\n",
            "F1 score    Test: 0.000\n"
          ]
        },
        {
          "output_type": "stream",
          "name": "stderr",
          "text": [
            "[Parallel(n_jobs=-1)]: Done  70 out of  70 | elapsed:    0.6s finished\n",
            "/usr/local/lib/python3.7/dist-packages/sklearn/utils/validation.py:760: DataConversionWarning:\n",
            "\n",
            "A column-vector y was passed when a 1d array was expected. Please change the shape of y to (n_samples, ), for example using ravel().\n",
            "\n"
          ]
        }
      ]
    },
    {
      "cell_type": "code",
      "metadata": {
        "id": "mUEyIebQjXsM"
      },
      "source": [
        "#tuning_foresta(1,5)"
      ],
      "execution_count": null,
      "outputs": []
    },
    {
      "cell_type": "code",
      "metadata": {
        "id": "Ky3XS0nUjXsM"
      },
      "source": [
        ""
      ],
      "execution_count": null,
      "outputs": []
    },
    {
      "cell_type": "markdown",
      "metadata": {
        "id": "MVfSbfafjXsM"
      },
      "source": [
        "#### Caso2 AD vs MCI"
      ]
    },
    {
      "cell_type": "code",
      "metadata": {
        "id": "pMdk46rEjXsN"
      },
      "source": [
        ""
      ],
      "execution_count": null,
      "outputs": []
    },
    {
      "cell_type": "code",
      "metadata": {
        "id": "uWg4tLUhjXsN"
      },
      "source": [
        "\n",
        "df=ADMCI.loc[:,0]\n",
        "\n",
        "X = df.to_numpy()\n",
        "\n",
        "Y = ADMCI.loc[:,1]\n",
        "y = Y.to_numpy()\n",
        "y = np.where(y == 1, 1, 0)\n",
        "#from sklearn.model_selection import train_test_split\n",
        "\n",
        "X_train, X_test, y_train, y_test = train_test_split(X, y, test_size=0.3,stratify=y,random_state=42)\n",
        "\n",
        "#pca = PCA(n_components=5)\n",
        "\n",
        "#X_train_pca = pca.fit_transform(X_train)\n",
        "#X_test_pca = pca.transform(X_test)\n",
        "\n",
        "X_train_caso2=X_train\n",
        "X_test_caso2=X_test\n",
        "y_train_caso2=y_train\n",
        "y_test_caso2=y_test"
      ],
      "execution_count": null,
      "outputs": []
    },
    {
      "cell_type": "code",
      "metadata": {
        "id": "iGR-00AEjXsN"
      },
      "source": [
        "X_train_caso2=X_train_caso2.reshape(-1,1)\n",
        "X_test_caso2=X_test_caso2.reshape(-1,1)\n",
        "y_train_caso2=y_train_caso2.reshape(-1,1)\n",
        "y_test_caso2=y_test_caso2.reshape(-1,1)"
      ],
      "execution_count": null,
      "outputs": []
    },
    {
      "cell_type": "code",
      "metadata": {
        "colab": {
          "base_uri": "https://localhost:8080/"
        },
        "id": "J2JDMZwojXsT",
        "outputId": "7de15deb-cf82-412b-a721-700492009d58"
      },
      "source": [
        "tuning_albero_decisione(2,5)"
      ],
      "execution_count": null,
      "outputs": [
        {
          "output_type": "stream",
          "name": "stderr",
          "text": [
            "[Parallel(n_jobs=-1)]: Using backend LokyBackend with 2 concurrent workers.\n"
          ]
        },
        {
          "output_type": "stream",
          "name": "stdout",
          "text": [
            "Fitting 5 folds for each of 216 candidates, totalling 1080 fits\n",
            "Accuratezza fase di Cross Validation con dati di Addestramento/Validazione: 0.653\n",
            "{'criterion': 'gini', 'max_depth': 5, 'min_samples_leaf': 2, 'min_samples_split': 2, 'min_weight_fraction_leaf': 0}\n",
            "Accuratezza con dati di Test: 0.583\n",
            "Risultato sui dati di test:\n",
            "              precision    recall  f1-score   support\n",
            "\n",
            "           0       0.57      0.67      0.62         6\n",
            "           1       0.60      0.50      0.55         6\n",
            "\n",
            "    accuracy                           0.58        12\n",
            "   macro avg       0.59      0.58      0.58        12\n",
            "weighted avg       0.59      0.58      0.58        12\n",
            "\n",
            "[[4 2]\n",
            " [3 3]]\n",
            "Accuratezza Test: 58.000\n",
            "Precisione  Test: 57.000\n",
            "Sensitività Test: 66.000\n",
            "Specificità Test: 50.000\n",
            "F1 score    Test: 61.000\n"
          ]
        },
        {
          "output_type": "stream",
          "name": "stderr",
          "text": [
            "[Parallel(n_jobs=-1)]: Done 1076 tasks      | elapsed:    1.2s\n",
            "[Parallel(n_jobs=-1)]: Done 1080 out of 1080 | elapsed:    1.2s finished\n"
          ]
        }
      ]
    },
    {
      "cell_type": "code",
      "metadata": {
        "colab": {
          "base_uri": "https://localhost:8080/"
        },
        "id": "9uJrMMTMjXsU",
        "outputId": "68d1cb23-c81d-4143-c293-7db94ab0eaec"
      },
      "source": [
        "tuning_SVM(2,5)"
      ],
      "execution_count": null,
      "outputs": [
        {
          "output_type": "stream",
          "name": "stderr",
          "text": [
            "/usr/local/lib/python3.7/dist-packages/sklearn/model_selection/_search.py:281: UserWarning:\n",
            "\n",
            "The total space of parameters 2 is smaller than n_iter=20. Running 2 iterations. For exhaustive searches, use GridSearchCV.\n",
            "\n",
            "[Parallel(n_jobs=-1)]: Using backend LokyBackend with 2 concurrent workers.\n"
          ]
        },
        {
          "output_type": "stream",
          "name": "stdout",
          "text": [
            "Fitting 5 folds for each of 2 candidates, totalling 10 fits\n"
          ]
        },
        {
          "output_type": "stream",
          "name": "stderr",
          "text": [
            "[Parallel(n_jobs=-1)]: Done  10 out of  10 | elapsed:   40.8s finished\n",
            "/usr/local/lib/python3.7/dist-packages/sklearn/utils/validation.py:760: DataConversionWarning:\n",
            "\n",
            "A column-vector y was passed when a 1d array was expected. Please change the shape of y to (n_samples, ), for example using ravel().\n",
            "\n"
          ]
        },
        {
          "output_type": "stream",
          "name": "stdout",
          "text": [
            "Accuratezza fase di Cross Validation con dati di Addestramento/Validazione: 0.587\n",
            "{'kernel': 'linear'}\n",
            "Accuratezza con dati di Test: 0.667\n",
            "Risultato sui dati di test:\n",
            "              precision    recall  f1-score   support\n",
            "\n",
            "           0       1.00      0.33      0.50         6\n",
            "           1       0.60      1.00      0.75         6\n",
            "\n",
            "    accuracy                           0.67        12\n",
            "   macro avg       0.80      0.67      0.62        12\n",
            "weighted avg       0.80      0.67      0.62        12\n",
            "\n",
            "[[2 4]\n",
            " [0 6]]\n",
            "Accuratezza Test: 66.000\n",
            "Precisione  Test: 100.000\n",
            "Sensitività Test: 33.000\n",
            "Specificità Test: 100.000\n",
            "F1 score    Test: 49.000\n"
          ]
        }
      ]
    },
    {
      "cell_type": "code",
      "metadata": {
        "id": "vgiO8HWSjXsU"
      },
      "source": [
        "#tuning_foresta(2,10)"
      ],
      "execution_count": null,
      "outputs": []
    },
    {
      "cell_type": "code",
      "metadata": {
        "id": "f_YgyNBijXsU"
      },
      "source": [
        "#tuning_albero_decisione_CV(2,10)"
      ],
      "execution_count": null,
      "outputs": []
    },
    {
      "cell_type": "code",
      "metadata": {
        "id": "Ht4i--zXjXsV"
      },
      "source": [
        "#tuning_SVM_CV(2,10)"
      ],
      "execution_count": null,
      "outputs": []
    },
    {
      "cell_type": "code",
      "metadata": {
        "id": "yrTmdaXUjXsV"
      },
      "source": [
        "#validazione_incrociata_kfold(2,10,1)"
      ],
      "execution_count": null,
      "outputs": []
    },
    {
      "cell_type": "code",
      "metadata": {
        "id": "LGmnGRrCjXsV"
      },
      "source": [
        "#validazione_incrociata_kfold(2,10,2)"
      ],
      "execution_count": null,
      "outputs": []
    },
    {
      "cell_type": "code",
      "metadata": {
        "id": "2OP26tqnjXsV"
      },
      "source": [
        "#validazione_incrociata_score(2,10,1)"
      ],
      "execution_count": null,
      "outputs": []
    },
    {
      "cell_type": "code",
      "metadata": {
        "id": "9PAZ-ekpjXsb"
      },
      "source": [
        "#validazione_incrociata_score(2,10,2)"
      ],
      "execution_count": null,
      "outputs": []
    },
    {
      "cell_type": "code",
      "metadata": {
        "id": "vnc22bpVjXsb"
      },
      "source": [
        "#prova_pipeline(2,2)"
      ],
      "execution_count": null,
      "outputs": []
    },
    {
      "cell_type": "code",
      "metadata": {
        "id": "Rb75mTXSjXsb"
      },
      "source": [
        "#exec_trad(2,1)"
      ],
      "execution_count": null,
      "outputs": []
    },
    {
      "cell_type": "code",
      "metadata": {
        "id": "NzX0IqaejXsc"
      },
      "source": [
        "#exec_trad(2,2)"
      ],
      "execution_count": null,
      "outputs": []
    },
    {
      "cell_type": "code",
      "metadata": {
        "colab": {
          "base_uri": "https://localhost:8080/"
        },
        "id": "bEe6bBXSjXsc",
        "outputId": "f82612c4-5939-4b1a-f3f6-3f8de3055b8d"
      },
      "source": [
        "tuning_KNN(2,5)"
      ],
      "execution_count": null,
      "outputs": [
        {
          "output_type": "stream",
          "name": "stdout",
          "text": [
            "Fitting 5 folds for each of 16 candidates, totalling 80 fits\n"
          ]
        },
        {
          "output_type": "stream",
          "name": "stderr",
          "text": [
            "[Parallel(n_jobs=-1)]: Using backend LokyBackend with 2 concurrent workers.\n"
          ]
        },
        {
          "output_type": "stream",
          "name": "stdout",
          "text": [
            "Accuratezza fase di Cross Validation con dati di Addestramento/Validazione: 0.540\n",
            "{'algorithm': 'auto', 'n_neighbors': 20, 'weights': 'uniform'}\n",
            "Accuratezza con dati di Test: 0.583\n",
            "Risultato sui dati di test:\n",
            "              precision    recall  f1-score   support\n",
            "\n",
            "           0       0.55      1.00      0.71         6\n",
            "           1       1.00      0.17      0.29         6\n",
            "\n",
            "    accuracy                           0.58        12\n",
            "   macro avg       0.77      0.58      0.50        12\n",
            "weighted avg       0.77      0.58      0.50        12\n",
            "\n",
            "[[6 0]\n",
            " [5 1]]\n",
            "Accuratezza Test: 58.000\n",
            "Precisione  Test: 54.000\n",
            "Sensitività Test: 100.000\n",
            "Specificità Test: 16.000\n",
            "F1 score    Test: 70.000\n"
          ]
        },
        {
          "output_type": "stream",
          "name": "stderr",
          "text": [
            "[Parallel(n_jobs=-1)]: Done  80 out of  80 | elapsed:    0.3s finished\n",
            "/usr/local/lib/python3.7/dist-packages/sklearn/model_selection/_search.py:739: DataConversionWarning:\n",
            "\n",
            "A column-vector y was passed when a 1d array was expected. Please change the shape of y to (n_samples, ), for example using ravel().\n",
            "\n"
          ]
        }
      ]
    },
    {
      "cell_type": "code",
      "metadata": {
        "id": "goYVesLIjXsd"
      },
      "source": [
        "#tuning_MP(2,10)"
      ],
      "execution_count": null,
      "outputs": []
    },
    {
      "cell_type": "code",
      "metadata": {
        "colab": {
          "base_uri": "https://localhost:8080/"
        },
        "id": "NdyGYkl4jXsd",
        "outputId": "f1074cfa-4212-4df1-80ec-17df855c8a68"
      },
      "source": [
        "tuning_LR(2,5)"
      ],
      "execution_count": null,
      "outputs": [
        {
          "output_type": "stream",
          "name": "stderr",
          "text": [
            "[Parallel(n_jobs=-1)]: Using backend LokyBackend with 2 concurrent workers.\n"
          ]
        },
        {
          "output_type": "stream",
          "name": "stdout",
          "text": [
            "Fitting 5 folds for each of 14 candidates, totalling 70 fits\n",
            "Accuratezza fase di Cross Validation con dati di Addestramento/Validazione: 0.500\n",
            "I migliori parametri trvati sono :\n",
            " {'C': 0.001, 'penalty': 'l2'}\n",
            "Accuratezza con dati di Test: 0.500\n",
            "Risultato sui dati di test:\n",
            "              precision    recall  f1-score   support\n",
            "\n",
            "           0       0.00      0.00      0.00         6\n",
            "           1       0.50      1.00      0.67         6\n",
            "\n",
            "    accuracy                           0.50        12\n",
            "   macro avg       0.25      0.50      0.33        12\n",
            "weighted avg       0.25      0.50      0.33        12\n",
            "\n",
            "[[0 6]\n",
            " [0 6]]\n",
            "Accuratezza Test: 50.000\n",
            "Precisione  Test: 0.000\n",
            "Sensitività Test: 0.000\n",
            "Specificità Test: 100.000\n",
            "F1 score    Test: 0.000\n"
          ]
        },
        {
          "output_type": "stream",
          "name": "stderr",
          "text": [
            "[Parallel(n_jobs=-1)]: Done  70 out of  70 | elapsed:    0.2s finished\n",
            "/usr/local/lib/python3.7/dist-packages/sklearn/utils/validation.py:760: DataConversionWarning:\n",
            "\n",
            "A column-vector y was passed when a 1d array was expected. Please change the shape of y to (n_samples, ), for example using ravel().\n",
            "\n",
            "/usr/local/lib/python3.7/dist-packages/sklearn/metrics/_classification.py:1272: UndefinedMetricWarning:\n",
            "\n",
            "Precision and F-score are ill-defined and being set to 0.0 in labels with no predicted samples. Use `zero_division` parameter to control this behavior.\n",
            "\n"
          ]
        }
      ]
    },
    {
      "cell_type": "markdown",
      "metadata": {
        "id": "xxPQhHsvjXsd"
      },
      "source": [
        "<br>\n",
        "<br>"
      ]
    },
    {
      "cell_type": "markdown",
      "metadata": {
        "id": "ZKOoMELNjXse"
      },
      "source": [
        "<br>\n",
        "<br>"
      ]
    },
    {
      "cell_type": "code",
      "metadata": {
        "id": "2rgwQxFQjXse"
      },
      "source": [
        "#tuning_foresta(2,10)"
      ],
      "execution_count": null,
      "outputs": []
    },
    {
      "cell_type": "markdown",
      "metadata": {
        "id": "NAfNHxWGjXse"
      },
      "source": [
        "#### Caso3 MCI vs HCF"
      ]
    },
    {
      "cell_type": "code",
      "metadata": {
        "id": "aOrDFZQejXse"
      },
      "source": [
        ""
      ],
      "execution_count": null,
      "outputs": []
    },
    {
      "cell_type": "code",
      "metadata": {
        "id": "dNbon_7ajXsf"
      },
      "source": [
        "\n",
        "df=MCIHC.loc[:,0]\n",
        "\n",
        "X = df.to_numpy()\n",
        "\n",
        "Y = MCIHC.loc[:,1]\n",
        "y = Y.to_numpy()\n",
        "y = np.where(y == 2, 1, 0)\n",
        "\n",
        "#from sklearn.model_selection import train_test_split\n",
        "\n",
        "\n",
        "X_train, X_test, y_train, y_test = train_test_split(X, y, test_size=0.3,stratify=y,random_state=42)\n",
        "\n",
        "#pca = PCA(n_components=2)\n",
        "\n",
        "#X_train_pca = pca.fit_transform(X_train)\n",
        "#X_test_pca = pca.transform(X_test)\n",
        "\n",
        "X_train_caso3=X_train\n",
        "X_test_caso3=X_test\n",
        "y_train_caso3=y_train\n",
        "y_test_caso3=y_test"
      ],
      "execution_count": null,
      "outputs": []
    },
    {
      "cell_type": "code",
      "metadata": {
        "id": "PViJn1n1jXsf"
      },
      "source": [
        "X_train_caso3=X_train_caso3.reshape(-1,1)\n",
        "X_test_caso3=X_test_caso3.reshape(-1,1)\n",
        "y_train_caso3=y_train_caso3.reshape(-1,1)\n",
        "y_test_caso3=y_test_caso3.reshape(-1,1)"
      ],
      "execution_count": null,
      "outputs": []
    },
    {
      "cell_type": "code",
      "metadata": {
        "colab": {
          "base_uri": "https://localhost:8080/"
        },
        "id": "QXktPgCmjXsf",
        "outputId": "f872dc72-11b5-4651-eaae-81798cff8a4b"
      },
      "source": [
        "tuning_albero_decisione(3,10)"
      ],
      "execution_count": null,
      "outputs": [
        {
          "output_type": "stream",
          "name": "stderr",
          "text": [
            "[Parallel(n_jobs=-1)]: Using backend LokyBackend with 2 concurrent workers.\n"
          ]
        },
        {
          "output_type": "stream",
          "name": "stdout",
          "text": [
            "Fitting 10 folds for each of 216 candidates, totalling 2160 fits\n",
            "Accuratezza fase di Cross Validation con dati di Addestramento/Validazione: 0.967\n",
            "{'criterion': 'gini', 'max_depth': 3, 'min_samples_leaf': 2, 'min_samples_split': 2, 'min_weight_fraction_leaf': 0}\n",
            "Accuratezza con dati di Test: 0.833\n",
            "Risultato sui dati di test:\n",
            "              precision    recall  f1-score   support\n",
            "\n",
            "           0       0.75      1.00      0.86         6\n",
            "           1       1.00      0.67      0.80         6\n",
            "\n",
            "    accuracy                           0.83        12\n",
            "   macro avg       0.88      0.83      0.83        12\n",
            "weighted avg       0.88      0.83      0.83        12\n",
            "\n",
            "[[6 0]\n",
            " [2 4]]\n",
            "Accuratezza Test: 83.000\n",
            "Precisione  Test: 75.000\n",
            "Sensitività Test: 100.000\n",
            "Specificità Test: 66.000\n",
            "F1 score    Test: 85.000\n"
          ]
        },
        {
          "output_type": "stream",
          "name": "stderr",
          "text": [
            "[Parallel(n_jobs=-1)]: Done 2079 tasks      | elapsed:    2.8s\n",
            "[Parallel(n_jobs=-1)]: Done 2160 out of 2160 | elapsed:    2.9s finished\n"
          ]
        }
      ]
    },
    {
      "cell_type": "code",
      "metadata": {
        "colab": {
          "base_uri": "https://localhost:8080/"
        },
        "id": "IhOiXIlQjXsf",
        "outputId": "99e237dd-8b99-444c-ed15-99470c9750ac"
      },
      "source": [
        "tuning_SVM(3,10)"
      ],
      "execution_count": null,
      "outputs": [
        {
          "output_type": "stream",
          "name": "stderr",
          "text": [
            "/usr/local/lib/python3.7/dist-packages/sklearn/model_selection/_search.py:281: UserWarning:\n",
            "\n",
            "The total space of parameters 2 is smaller than n_iter=20. Running 2 iterations. For exhaustive searches, use GridSearchCV.\n",
            "\n",
            "[Parallel(n_jobs=-1)]: Using backend LokyBackend with 2 concurrent workers.\n"
          ]
        },
        {
          "output_type": "stream",
          "name": "stdout",
          "text": [
            "Fitting 10 folds for each of 2 candidates, totalling 20 fits\n"
          ]
        },
        {
          "output_type": "stream",
          "name": "stderr",
          "text": [
            "[Parallel(n_jobs=-1)]: Done  20 out of  20 | elapsed:    5.2s finished\n",
            "/usr/local/lib/python3.7/dist-packages/sklearn/utils/validation.py:760: DataConversionWarning:\n",
            "\n",
            "A column-vector y was passed when a 1d array was expected. Please change the shape of y to (n_samples, ), for example using ravel().\n",
            "\n"
          ]
        },
        {
          "output_type": "stream",
          "name": "stdout",
          "text": [
            "Accuratezza fase di Cross Validation con dati di Addestramento/Validazione: 0.967\n",
            "{'kernel': 'linear'}\n",
            "Accuratezza con dati di Test: 0.833\n",
            "Risultato sui dati di test:\n",
            "              precision    recall  f1-score   support\n",
            "\n",
            "           0       0.75      1.00      0.86         6\n",
            "           1       1.00      0.67      0.80         6\n",
            "\n",
            "    accuracy                           0.83        12\n",
            "   macro avg       0.88      0.83      0.83        12\n",
            "weighted avg       0.88      0.83      0.83        12\n",
            "\n",
            "[[6 0]\n",
            " [2 4]]\n",
            "Accuratezza Test: 83.000\n",
            "Precisione  Test: 75.000\n",
            "Sensitività Test: 100.000\n",
            "Specificità Test: 66.000\n",
            "F1 score    Test: 85.000\n"
          ]
        }
      ]
    },
    {
      "cell_type": "code",
      "metadata": {
        "id": "GSSz_c3ejXsg"
      },
      "source": [
        "#tuning_albero_decisione_CV(3,10)"
      ],
      "execution_count": null,
      "outputs": []
    },
    {
      "cell_type": "code",
      "metadata": {
        "id": "tLFJjgqujXsg"
      },
      "source": [
        "#tuning_SVM_CV(3,10)"
      ],
      "execution_count": null,
      "outputs": []
    },
    {
      "cell_type": "code",
      "metadata": {
        "id": "vfk3Nq38jXsg"
      },
      "source": [
        "#validazione_incrociata_kfold(3,10,1)"
      ],
      "execution_count": null,
      "outputs": []
    },
    {
      "cell_type": "code",
      "metadata": {
        "id": "bN91j743jXsh"
      },
      "source": [
        "#validazione_incrociata_kfold(3,10,2)"
      ],
      "execution_count": null,
      "outputs": []
    },
    {
      "cell_type": "code",
      "metadata": {
        "id": "vnmJvGzAjXsh"
      },
      "source": [
        "#validazione_incrociata_score(3,10,1)"
      ],
      "execution_count": null,
      "outputs": []
    },
    {
      "cell_type": "code",
      "metadata": {
        "id": "vNBBbQZ0jXsi"
      },
      "source": [
        "#validazione_incrociata_score(3,10,2)"
      ],
      "execution_count": null,
      "outputs": []
    },
    {
      "cell_type": "code",
      "metadata": {
        "id": "uM6zVJaYjXsi"
      },
      "source": [
        "#prova_pipeline(3,2)"
      ],
      "execution_count": null,
      "outputs": []
    },
    {
      "cell_type": "code",
      "metadata": {
        "id": "4d6wxM0QjXsi"
      },
      "source": [
        "#exec_trad(3,1)"
      ],
      "execution_count": null,
      "outputs": []
    },
    {
      "cell_type": "code",
      "metadata": {
        "id": "DNjXGk9LjXsi"
      },
      "source": [
        "#exec_trad(3,2)"
      ],
      "execution_count": null,
      "outputs": []
    },
    {
      "cell_type": "code",
      "metadata": {
        "colab": {
          "base_uri": "https://localhost:8080/"
        },
        "id": "MBfPepJQjXsj",
        "outputId": "519caaa3-885c-410c-f390-5f18fc64882b"
      },
      "source": [
        "tuning_KNN(3,5)"
      ],
      "execution_count": null,
      "outputs": [
        {
          "output_type": "stream",
          "name": "stdout",
          "text": [
            "Fitting 5 folds for each of 16 candidates, totalling 80 fits\n"
          ]
        },
        {
          "output_type": "stream",
          "name": "stderr",
          "text": [
            "[Parallel(n_jobs=-1)]: Using backend LokyBackend with 2 concurrent workers.\n"
          ]
        },
        {
          "output_type": "stream",
          "name": "stdout",
          "text": [
            "Accuratezza fase di Cross Validation con dati di Addestramento/Validazione: 0.960\n",
            "{'algorithm': 'auto', 'n_neighbors': 5, 'weights': 'uniform'}\n",
            "Accuratezza con dati di Test: 0.833\n",
            "Risultato sui dati di test:\n",
            "              precision    recall  f1-score   support\n",
            "\n",
            "           0       0.75      1.00      0.86         6\n",
            "           1       1.00      0.67      0.80         6\n",
            "\n",
            "    accuracy                           0.83        12\n",
            "   macro avg       0.88      0.83      0.83        12\n",
            "weighted avg       0.88      0.83      0.83        12\n",
            "\n",
            "[[6 0]\n",
            " [2 4]]\n",
            "Accuratezza Test: 83.000\n",
            "Precisione  Test: 75.000\n",
            "Sensitività Test: 100.000\n",
            "Specificità Test: 66.000\n",
            "F1 score    Test: 85.000\n"
          ]
        },
        {
          "output_type": "stream",
          "name": "stderr",
          "text": [
            "[Parallel(n_jobs=-1)]: Done  80 out of  80 | elapsed:    0.3s finished\n",
            "/usr/local/lib/python3.7/dist-packages/sklearn/model_selection/_search.py:739: DataConversionWarning:\n",
            "\n",
            "A column-vector y was passed when a 1d array was expected. Please change the shape of y to (n_samples, ), for example using ravel().\n",
            "\n"
          ]
        }
      ]
    },
    {
      "cell_type": "code",
      "metadata": {
        "id": "ye7m0G-sjXsj"
      },
      "source": [
        "#tuning_MP(3,10)"
      ],
      "execution_count": null,
      "outputs": []
    },
    {
      "cell_type": "code",
      "metadata": {
        "colab": {
          "base_uri": "https://localhost:8080/"
        },
        "id": "_BtJUFCCjXsj",
        "outputId": "047e423f-7b32-4898-80d0-ccdf6a0d4f6c"
      },
      "source": [
        "tuning_LR(3,5)"
      ],
      "execution_count": null,
      "outputs": [
        {
          "output_type": "stream",
          "name": "stderr",
          "text": [
            "[Parallel(n_jobs=-1)]: Using backend LokyBackend with 2 concurrent workers.\n"
          ]
        },
        {
          "output_type": "stream",
          "name": "stdout",
          "text": [
            "Fitting 5 folds for each of 14 candidates, totalling 70 fits\n",
            "Accuratezza fase di Cross Validation con dati di Addestramento/Validazione: 0.893\n",
            "I migliori parametri trvati sono :\n",
            " {'C': 0.001, 'penalty': 'l2'}\n",
            "Accuratezza con dati di Test: 0.833\n",
            "Risultato sui dati di test:\n",
            "              precision    recall  f1-score   support\n",
            "\n",
            "           0       0.75      1.00      0.86         6\n",
            "           1       1.00      0.67      0.80         6\n",
            "\n",
            "    accuracy                           0.83        12\n",
            "   macro avg       0.88      0.83      0.83        12\n",
            "weighted avg       0.88      0.83      0.83        12\n",
            "\n",
            "[[6 0]\n",
            " [2 4]]\n",
            "Accuratezza Test: 83.000\n",
            "Precisione  Test: 75.000\n",
            "Sensitività Test: 100.000\n",
            "Specificità Test: 66.000\n",
            "F1 score    Test: 85.000\n"
          ]
        },
        {
          "output_type": "stream",
          "name": "stderr",
          "text": [
            "[Parallel(n_jobs=-1)]: Done  70 out of  70 | elapsed:    0.6s finished\n",
            "/usr/local/lib/python3.7/dist-packages/sklearn/utils/validation.py:760: DataConversionWarning:\n",
            "\n",
            "A column-vector y was passed when a 1d array was expected. Please change the shape of y to (n_samples, ), for example using ravel().\n",
            "\n"
          ]
        }
      ]
    },
    {
      "cell_type": "code",
      "metadata": {
        "id": "LFUysaCKjXsk"
      },
      "source": [
        "#tuning_foresta(3,10)"
      ],
      "execution_count": null,
      "outputs": []
    },
    {
      "cell_type": "code",
      "metadata": {
        "id": "2zFlZSP-jXsk"
      },
      "source": [
        ""
      ],
      "execution_count": null,
      "outputs": []
    },
    {
      "cell_type": "markdown",
      "metadata": {
        "id": "mMmXobu4jXsk"
      },
      "source": [
        "#### Caso4 CASE vs HCF"
      ]
    },
    {
      "cell_type": "code",
      "metadata": {
        "id": "4Ry1F9PsjXsl"
      },
      "source": [
        ""
      ],
      "execution_count": null,
      "outputs": []
    },
    {
      "cell_type": "code",
      "metadata": {
        "id": "kL5VO6OIjXsl"
      },
      "source": [
        "df=CASEHC.loc[:,0]\n",
        "\n",
        "X = df.to_numpy()\n",
        "\n",
        "Y = CASEHC.loc[:,1]\n",
        "y = Y.to_numpy()\n",
        "y = np.where(y == 3, 1, 0)\n",
        "#from sklearn.model_selection import train_test_split\n",
        "\n",
        "\n",
        "X_train, X_test, y_train, y_test = train_test_split(X, y, test_size=0.3,stratify=y,random_state=42)\n",
        "\n",
        "#pca = PCA(n_components=2)\n",
        "\n",
        "#X_train_pca = pca.fit_transform(X_train)\n",
        "#X_test_pca = pca.transform(X_test)\n",
        "\n",
        "X_train_caso4=X_train\n",
        "X_test_caso4=X_test\n",
        "y_train_caso4=y_train\n",
        "y_test_caso4=y_test"
      ],
      "execution_count": null,
      "outputs": []
    },
    {
      "cell_type": "code",
      "metadata": {
        "id": "QLxCeZlFjXsl"
      },
      "source": [
        "X_train_caso4=X_train_caso4.reshape(-1,1)\n",
        "X_test_caso4=X_test_caso4.reshape(-1,1)\n",
        "y_train_caso4=y_train_caso4.reshape(-1,1)\n",
        "y_test_caso4=y_test_caso4.reshape(-1,1)"
      ],
      "execution_count": null,
      "outputs": []
    },
    {
      "cell_type": "code",
      "metadata": {
        "colab": {
          "base_uri": "https://localhost:8080/"
        },
        "id": "T8cNhTXTjXsl",
        "outputId": "7b567a11-c5e8-4b4e-8124-8b3ab7aca431"
      },
      "source": [
        "tuning_albero_decisione(4,5)"
      ],
      "execution_count": null,
      "outputs": [
        {
          "output_type": "stream",
          "name": "stderr",
          "text": [
            "[Parallel(n_jobs=-1)]: Using backend LokyBackend with 2 concurrent workers.\n"
          ]
        },
        {
          "output_type": "stream",
          "name": "stdout",
          "text": [
            "Fitting 5 folds for each of 216 candidates, totalling 1080 fits\n",
            "Accuratezza fase di Cross Validation con dati di Addestramento/Validazione: 0.925\n",
            "{'criterion': 'gini', 'max_depth': 3, 'min_samples_leaf': 1, 'min_samples_split': 2, 'min_weight_fraction_leaf': 0}\n",
            "Accuratezza con dati di Test: 0.833\n",
            "Risultato sui dati di test:\n",
            "              precision    recall  f1-score   support\n",
            "\n",
            "           0       1.00      0.75      0.86        12\n",
            "           1       0.67      1.00      0.80         6\n",
            "\n",
            "    accuracy                           0.83        18\n",
            "   macro avg       0.83      0.88      0.83        18\n",
            "weighted avg       0.89      0.83      0.84        18\n",
            "\n",
            "[[9 3]\n",
            " [0 6]]\n",
            "Accuratezza Test: 83.000\n",
            "Precisione  Test: 100.000\n",
            "Sensitività Test: 75.000\n",
            "Specificità Test: 100.000\n",
            "F1 score    Test: 85.000\n"
          ]
        },
        {
          "output_type": "stream",
          "name": "stderr",
          "text": [
            "[Parallel(n_jobs=-1)]: Done 1062 tasks      | elapsed:    1.4s\n",
            "[Parallel(n_jobs=-1)]: Done 1077 out of 1080 | elapsed:    1.5s remaining:    0.0s\n",
            "[Parallel(n_jobs=-1)]: Done 1080 out of 1080 | elapsed:    1.5s finished\n"
          ]
        }
      ]
    },
    {
      "cell_type": "code",
      "metadata": {
        "colab": {
          "base_uri": "https://localhost:8080/"
        },
        "id": "QxlKAJYYjXsm",
        "outputId": "816783ee-5509-4d59-cf2c-fb05a979aa9a"
      },
      "source": [
        "tuning_SVM(4,5)"
      ],
      "execution_count": null,
      "outputs": [
        {
          "output_type": "stream",
          "name": "stderr",
          "text": [
            "/usr/local/lib/python3.7/dist-packages/sklearn/model_selection/_search.py:281: UserWarning:\n",
            "\n",
            "The total space of parameters 2 is smaller than n_iter=20. Running 2 iterations. For exhaustive searches, use GridSearchCV.\n",
            "\n",
            "[Parallel(n_jobs=-1)]: Using backend LokyBackend with 2 concurrent workers.\n"
          ]
        },
        {
          "output_type": "stream",
          "name": "stdout",
          "text": [
            "Fitting 5 folds for each of 2 candidates, totalling 10 fits\n"
          ]
        },
        {
          "output_type": "stream",
          "name": "stderr",
          "text": [
            "[Parallel(n_jobs=-1)]: Done   7 out of  10 | elapsed:    1.2s remaining:    0.5s\n"
          ]
        },
        {
          "output_type": "stream",
          "name": "stdout",
          "text": [
            "Accuratezza fase di Cross Validation con dati di Addestramento/Validazione: 0.975\n",
            "{'kernel': 'rbf'}\n",
            "Accuratezza con dati di Test: 0.667\n",
            "Risultato sui dati di test:\n",
            "              precision    recall  f1-score   support\n",
            "\n",
            "           0       1.00      0.50      0.67        12\n",
            "           1       0.50      1.00      0.67         6\n",
            "\n",
            "    accuracy                           0.67        18\n",
            "   macro avg       0.75      0.75      0.67        18\n",
            "weighted avg       0.83      0.67      0.67        18\n",
            "\n",
            "[[6 6]\n",
            " [0 6]]\n",
            "Accuratezza Test: 66.000\n",
            "Precisione  Test: 100.000\n",
            "Sensitività Test: 50.000\n",
            "Specificità Test: 100.000\n",
            "F1 score    Test: 66.000\n"
          ]
        },
        {
          "output_type": "stream",
          "name": "stderr",
          "text": [
            "[Parallel(n_jobs=-1)]: Done  10 out of  10 | elapsed:    1.7s finished\n",
            "/usr/local/lib/python3.7/dist-packages/sklearn/utils/validation.py:760: DataConversionWarning:\n",
            "\n",
            "A column-vector y was passed when a 1d array was expected. Please change the shape of y to (n_samples, ), for example using ravel().\n",
            "\n"
          ]
        }
      ]
    },
    {
      "cell_type": "code",
      "metadata": {
        "id": "jM2WXrjUjXsm"
      },
      "source": [
        "#tuning_albero_decisione_CV(4,10)"
      ],
      "execution_count": null,
      "outputs": []
    },
    {
      "cell_type": "code",
      "metadata": {
        "id": "3iIzLa4ejXsm"
      },
      "source": [
        "#tuning_SVM_CV(4,10)"
      ],
      "execution_count": null,
      "outputs": []
    },
    {
      "cell_type": "code",
      "metadata": {
        "id": "3FwOxZXGjXsn"
      },
      "source": [
        "#validazione_incrociata_kfold(4,10,1)"
      ],
      "execution_count": null,
      "outputs": []
    },
    {
      "cell_type": "code",
      "metadata": {
        "id": "FTEXFxQpjXsn"
      },
      "source": [
        "#validazione_incrociata_kfold(4,10,2)"
      ],
      "execution_count": null,
      "outputs": []
    },
    {
      "cell_type": "code",
      "metadata": {
        "id": "366WdYKQjXsn"
      },
      "source": [
        "#validazione_incrociata_score(4,10,1)"
      ],
      "execution_count": null,
      "outputs": []
    },
    {
      "cell_type": "code",
      "metadata": {
        "id": "t3ZoyEHwjXsn"
      },
      "source": [
        "#validazione_incrociata_score(4,10,2)"
      ],
      "execution_count": null,
      "outputs": []
    },
    {
      "cell_type": "code",
      "metadata": {
        "id": "_TyXjYGgjXsn"
      },
      "source": [
        "#prova_pipeline(4,2)"
      ],
      "execution_count": null,
      "outputs": []
    },
    {
      "cell_type": "code",
      "metadata": {
        "id": "WdRTj28EjXso"
      },
      "source": [
        "#exec_trad(4,1)"
      ],
      "execution_count": null,
      "outputs": []
    },
    {
      "cell_type": "code",
      "metadata": {
        "id": "1zFKg3ZEjXso"
      },
      "source": [
        "#exec_trad(4,2)"
      ],
      "execution_count": null,
      "outputs": []
    },
    {
      "cell_type": "code",
      "metadata": {
        "colab": {
          "base_uri": "https://localhost:8080/"
        },
        "id": "vswhdFptjXso",
        "outputId": "79e8c417-608f-4934-e66a-e7d4706f2e18"
      },
      "source": [
        "tuning_KNN(4,5)"
      ],
      "execution_count": null,
      "outputs": [
        {
          "output_type": "stream",
          "name": "stderr",
          "text": [
            "[Parallel(n_jobs=-1)]: Using backend LokyBackend with 2 concurrent workers.\n"
          ]
        },
        {
          "output_type": "stream",
          "name": "stdout",
          "text": [
            "Fitting 5 folds for each of 16 candidates, totalling 80 fits\n",
            "Accuratezza fase di Cross Validation con dati di Addestramento/Validazione: 0.975\n",
            "{'algorithm': 'auto', 'n_neighbors': 5, 'weights': 'uniform'}\n",
            "Accuratezza con dati di Test: 0.833\n",
            "Risultato sui dati di test:\n",
            "              precision    recall  f1-score   support\n",
            "\n",
            "           0       1.00      0.75      0.86        12\n",
            "           1       0.67      1.00      0.80         6\n",
            "\n",
            "    accuracy                           0.83        18\n",
            "   macro avg       0.83      0.88      0.83        18\n",
            "weighted avg       0.89      0.83      0.84        18\n",
            "\n",
            "[[9 3]\n",
            " [0 6]]\n",
            "Accuratezza Test: 83.000\n",
            "Precisione  Test: 100.000\n",
            "Sensitività Test: 75.000\n",
            "Specificità Test: 100.000\n",
            "F1 score    Test: 85.000\n"
          ]
        },
        {
          "output_type": "stream",
          "name": "stderr",
          "text": [
            "[Parallel(n_jobs=-1)]: Done  80 out of  80 | elapsed:    0.3s finished\n",
            "/usr/local/lib/python3.7/dist-packages/sklearn/model_selection/_search.py:739: DataConversionWarning:\n",
            "\n",
            "A column-vector y was passed when a 1d array was expected. Please change the shape of y to (n_samples, ), for example using ravel().\n",
            "\n"
          ]
        }
      ]
    },
    {
      "cell_type": "code",
      "metadata": {
        "id": "OLyfbVaNjXso"
      },
      "source": [
        "#tuning_MP(4,10)"
      ],
      "execution_count": null,
      "outputs": []
    },
    {
      "cell_type": "code",
      "metadata": {
        "colab": {
          "base_uri": "https://localhost:8080/"
        },
        "id": "jJDn0b12jXsp",
        "outputId": "7d309d09-e3ba-4340-cd4a-aa0a197904fc"
      },
      "source": [
        "tuning_LR(4,5)"
      ],
      "execution_count": null,
      "outputs": [
        {
          "output_type": "stream",
          "name": "stderr",
          "text": [
            "[Parallel(n_jobs=-1)]: Using backend LokyBackend with 2 concurrent workers.\n"
          ]
        },
        {
          "output_type": "stream",
          "name": "stdout",
          "text": [
            "Fitting 5 folds for each of 14 candidates, totalling 70 fits\n",
            "Accuratezza fase di Cross Validation con dati di Addestramento/Validazione: 0.925\n",
            "I migliori parametri trvati sono :\n",
            " {'C': 0.001, 'penalty': 'l2'}\n",
            "Accuratezza con dati di Test: 0.889\n",
            "Risultato sui dati di test:\n",
            "              precision    recall  f1-score   support\n",
            "\n",
            "           0       0.92      0.92      0.92        12\n",
            "           1       0.83      0.83      0.83         6\n",
            "\n",
            "    accuracy                           0.89        18\n",
            "   macro avg       0.88      0.88      0.88        18\n",
            "weighted avg       0.89      0.89      0.89        18\n",
            "\n",
            "[[11  1]\n",
            " [ 1  5]]\n",
            "Accuratezza Test: 88.000\n",
            "Precisione  Test: 91.000\n",
            "Sensitività Test: 91.000\n",
            "Specificità Test: 83.000\n",
            "F1 score    Test: 91.000\n"
          ]
        },
        {
          "output_type": "stream",
          "name": "stderr",
          "text": [
            "[Parallel(n_jobs=-1)]: Done  70 out of  70 | elapsed:    0.5s finished\n",
            "/usr/local/lib/python3.7/dist-packages/sklearn/utils/validation.py:760: DataConversionWarning:\n",
            "\n",
            "A column-vector y was passed when a 1d array was expected. Please change the shape of y to (n_samples, ), for example using ravel().\n",
            "\n"
          ]
        }
      ]
    },
    {
      "cell_type": "code",
      "metadata": {
        "id": "XYmK9cxSjXsp"
      },
      "source": [
        "#tuning_foresta(4,10)"
      ],
      "execution_count": null,
      "outputs": []
    },
    {
      "cell_type": "markdown",
      "metadata": {
        "id": "RYjlL4YfjXsp"
      },
      "source": [
        "<br>\n",
        "<br>"
      ]
    },
    {
      "cell_type": "code",
      "metadata": {
        "id": "FAZinsEJjXsq"
      },
      "source": [
        ""
      ],
      "execution_count": null,
      "outputs": []
    },
    {
      "cell_type": "code",
      "metadata": {
        "id": "xt-3TcIMjXsq"
      },
      "source": [
        ""
      ],
      "execution_count": null,
      "outputs": []
    },
    {
      "cell_type": "code",
      "metadata": {
        "id": "H36div6NjJy9"
      },
      "source": [
        ""
      ],
      "execution_count": null,
      "outputs": []
    },
    {
      "cell_type": "markdown",
      "metadata": {
        "id": "7-t_W7GAmmJT"
      },
      "source": [
        "### 8 hz"
      ]
    },
    {
      "cell_type": "code",
      "metadata": {
        "id": "0_XaPnGNmmJU"
      },
      "source": [
        ""
      ],
      "execution_count": null,
      "outputs": []
    },
    {
      "cell_type": "code",
      "metadata": {
        "id": "8nWrT-XCmmJV"
      },
      "source": [
        "\n",
        "y1=hz8.loc[:,0].to_numpy()\n",
        "y2=hz8.loc[:,1].to_numpy()\n",
        "y3=hz8.loc[:,2].to_numpy()\n",
        "\n"
      ],
      "execution_count": null,
      "outputs": []
    },
    {
      "cell_type": "code",
      "metadata": {
        "id": "703j2B5AmmJV"
      },
      "source": [
        ""
      ],
      "execution_count": null,
      "outputs": []
    },
    {
      "cell_type": "code",
      "metadata": {
        "colab": {
          "base_uri": "https://localhost:8080/"
        },
        "id": "dJvV5mrGmmJW",
        "outputId": "0532d533-841c-4fae-8704-c0c5de19a136"
      },
      "source": [
        "y1,y2,y3,hz3"
      ],
      "execution_count": null,
      "outputs": [
        {
          "output_type": "execute_result",
          "data": {
            "text/plain": [
              "(array([ 34752.15675047, 250913.15759798,  26295.66208837,  52052.5169674 ,\n",
              "         15788.76457173,  31743.30742218,  35868.97396914,  26651.99738345,\n",
              "         99833.61600971,  29406.92524743,  22258.25588666,  44981.64061625,\n",
              "        158799.32615801,  17739.10797974,  37017.97618986,  61262.35387063,\n",
              "         51043.09870588,  34873.18484116,  11863.85528898]),\n",
              " array([ 18715.58826231,   9596.07739131,   6545.53110283,  28259.67988364,\n",
              "         43826.13232855,  20359.94771248,  20730.68269658,  10754.11583838,\n",
              "         14815.54796779,   7805.05741157,  16659.99644491,  16300.30187346,\n",
              "         12929.15050224,  45538.92407351,  12011.27104638,  16222.19327914,\n",
              "        119730.28301966,  79909.49088991,  56089.6782724 ]),\n",
              " array([1676.48183003, 1280.1394041 ,  456.56049086,  503.75386828,\n",
              "         504.11432031, 4126.21475617,  874.17253023, 1106.48289038,\n",
              "         702.65669485,  599.19490764,  509.5651957 , 3066.70349052,\n",
              "         744.97025478,  534.68060178,  392.33466682,  448.45455426,\n",
              "        2896.23171167,  394.16219149,  456.04616464]),\n",
              "                 0              1             2\n",
              " 0    11941.878738    4543.079199   4260.988482\n",
              " 1    21550.001904    3171.543412   6215.959227\n",
              " 2     7954.533234    2502.250572   2878.113664\n",
              " 3    42676.089206   17653.023737    946.372606\n",
              " 4    12148.524998   27477.274131    612.110742\n",
              " 5    12297.442066    3811.751034   7665.308313\n",
              " 6    19050.995665   10227.178360   3062.984321\n",
              " 7     4992.630324   22822.837806   1211.440626\n",
              " 8    16011.533992    6828.018160  22390.062009\n",
              " 9     9151.569946    3078.353285   2888.256949\n",
              " 10   14843.201818    9843.491084    563.057786\n",
              " 11   10445.070016    5141.196547   4760.093445\n",
              " 12  182700.816803    4200.470742   4973.644479\n",
              " 13   15954.139771   16579.985919   2618.749608\n",
              " 14   11744.109673    5865.329829    698.500991\n",
              " 15    7023.707557   12802.749011    703.477024\n",
              " 16   37297.839360  104104.832648   4747.694480\n",
              " 17   11622.940208   71138.564456   2467.786370\n",
              " 18   14182.838368   23134.713975   1533.933877)"
            ]
          },
          "metadata": {},
          "execution_count": 117
        }
      ]
    },
    {
      "cell_type": "code",
      "metadata": {
        "id": "LoJBxukimmJX"
      },
      "source": [
        "x1 = np.linspace(0, 30, len(y1), endpoint=True)\n",
        "x2 = np.linspace(0, 30,len(y2), endpoint=False)\n",
        "x3 = np.linspace(0, 30,len(y3), endpoint=False)"
      ],
      "execution_count": null,
      "outputs": []
    },
    {
      "cell_type": "code",
      "metadata": {
        "colab": {
          "base_uri": "https://localhost:8080/",
          "height": 265
        },
        "id": "6tc7nShkmmJX",
        "outputId": "d79065c0-12ce-4a75-eba8-f739ffc8f666"
      },
      "source": [
        "plt.plot(x1, y1, 'g')\n",
        "plt.plot(x2, y2, 'b')\n",
        "plt.plot(x3, y3, 'r')\n",
        "#plt.ylim(0,300000)\n",
        "plt.show()"
      ],
      "execution_count": null,
      "outputs": [
        {
          "output_type": "display_data",
          "data": {
            "image/png": "[encoded data removed]",
            "text/plain": [
              "<Figure size 432x288 with 1 Axes>"
            ]
          },
          "metadata": {
            "needs_background": "light"
          }
        }
      ]
    },
    {
      "cell_type": "code",
      "metadata": {
        "id": "9x0SGn0BmmJY"
      },
      "source": [
        ""
      ],
      "execution_count": null,
      "outputs": []
    },
    {
      "cell_type": "code",
      "metadata": {
        "id": "pgQfs7WxmmJY"
      },
      "source": [
        "matriceAD = np.zeros((len(y1),2))\n",
        "matriceMCI = np.zeros((len(y2),2))\n",
        "matriceHC = np.zeros((len(y3),2))\n"
      ],
      "execution_count": null,
      "outputs": []
    },
    {
      "cell_type": "code",
      "metadata": {
        "id": "jTOHLOCUmmJY"
      },
      "source": [
        "matriceADHC = np.zeros((len(y1)+len(y3),2))\n",
        "matriceMCIHC = np.zeros((len(y2)+len(y3),2))\n",
        "matriceADMCI = np.zeros((len(y1)+len(y2),2))\n",
        "matriceCASEHC = np.zeros((len(y2)+len(y3)+len(y1),2))"
      ],
      "execution_count": null,
      "outputs": []
    },
    {
      "cell_type": "code",
      "metadata": {
        "id": "pRERp6O6mmJY"
      },
      "source": [
        "for i in range(len(y1)):\n",
        "      matriceAD[i,0]=y1[i]\n",
        "      matriceAD[i,1]=1"
      ],
      "execution_count": null,
      "outputs": []
    },
    {
      "cell_type": "code",
      "metadata": {
        "id": "kuZnl6VsmmJZ"
      },
      "source": [
        "for i in range(len(y2)):\n",
        "      matriceMCI[i,0]=y2[i]\n",
        "      matriceMCI[i,1]=2"
      ],
      "execution_count": null,
      "outputs": []
    },
    {
      "cell_type": "code",
      "metadata": {
        "id": "C6ot8KJZmmJZ"
      },
      "source": [
        "for i in range(len(y3)):\n",
        "      matriceHC[i,0]=y3[i]\n",
        "      matriceHC[i,1]=3"
      ],
      "execution_count": null,
      "outputs": []
    },
    {
      "cell_type": "code",
      "metadata": {
        "id": "8_wKel-UmmJZ"
      },
      "source": [
        "AD=pd.DataFrame(matriceAD)\n",
        "HC=pd.DataFrame(matriceHC)\n",
        "MCI=pd.DataFrame(matriceMCI)"
      ],
      "execution_count": null,
      "outputs": []
    },
    {
      "cell_type": "code",
      "metadata": {
        "id": "W0uU75yrmmJZ"
      },
      "source": [
        "ADHC=AD.copy()\n",
        "ADHC=ADHC.append(HC,ignore_index=True)"
      ],
      "execution_count": null,
      "outputs": []
    },
    {
      "cell_type": "code",
      "metadata": {
        "id": "MdNeeizvmmJa"
      },
      "source": [
        "ADMCI=AD.copy()\n",
        "ADMCI=ADMCI.append(MCI,ignore_index=True)"
      ],
      "execution_count": null,
      "outputs": []
    },
    {
      "cell_type": "code",
      "metadata": {
        "id": "kog25t4bmmJa"
      },
      "source": [
        "MCIHC=MCI.copy()\n",
        "MCIHC=MCIHC.append(HC,ignore_index=True)"
      ],
      "execution_count": null,
      "outputs": []
    },
    {
      "cell_type": "code",
      "metadata": {
        "id": "xVjWXX-emmJa"
      },
      "source": [
        "CASEHC=AD.copy()\n",
        "CASEHC=CASEHC.append(MCI,ignore_index=True)\n",
        "CASEHC=CASEHC.append(HC,ignore_index=True)"
      ],
      "execution_count": null,
      "outputs": []
    },
    {
      "cell_type": "code",
      "metadata": {
        "id": "YuThLGdemmJa"
      },
      "source": [
        ""
      ],
      "execution_count": null,
      "outputs": []
    },
    {
      "cell_type": "markdown",
      "metadata": {
        "id": "WwmF1UanmmJb"
      },
      "source": [
        "#### Caso1 AD vs HCF"
      ]
    },
    {
      "cell_type": "code",
      "metadata": {
        "id": "XxIrRzajmmJb"
      },
      "source": [
        "df=ADHC.loc[:,0]\n",
        "\n",
        "X = df.to_numpy()\n",
        "\n",
        "Y = ADHC.loc[:,1]\n",
        "y = Y.to_numpy()"
      ],
      "execution_count": null,
      "outputs": []
    },
    {
      "cell_type": "code",
      "metadata": {
        "id": "6NAXZEkWmmJc"
      },
      "source": [
        "y = np.where(y == 1, 1, 0)"
      ],
      "execution_count": null,
      "outputs": []
    },
    {
      "cell_type": "code",
      "metadata": {
        "colab": {
          "base_uri": "https://localhost:8080/"
        },
        "id": "NCi02vRWmmJc",
        "outputId": "1eced9e3-355d-4313-ba1d-7e25cb9131f9"
      },
      "source": [
        "X,y"
      ],
      "execution_count": null,
      "outputs": [
        {
          "output_type": "execute_result",
          "data": {
            "text/plain": [
              "(array([ 34752.15675047, 250913.15759798,  26295.66208837,  52052.5169674 ,\n",
              "         15788.76457173,  31743.30742218,  35868.97396914,  26651.99738345,\n",
              "         99833.61600971,  29406.92524743,  22258.25588666,  44981.64061625,\n",
              "        158799.32615801,  17739.10797974,  37017.97618986,  61262.35387063,\n",
              "         51043.09870588,  34873.18484116,  11863.85528898,   1676.48183003,\n",
              "          1280.1394041 ,    456.56049086,    503.75386828,    504.11432031,\n",
              "          4126.21475617,    874.17253023,   1106.48289038,    702.65669485,\n",
              "           599.19490764,    509.5651957 ,   3066.70349052,    744.97025478,\n",
              "           534.68060178,    392.33466682,    448.45455426,   2896.23171167,\n",
              "           394.16219149,    456.04616464]),\n",
              " array([1, 1, 1, 1, 1, 1, 1, 1, 1, 1, 1, 1, 1, 1, 1, 1, 1, 1, 1, 0, 0, 0,\n",
              "        0, 0, 0, 0, 0, 0, 0, 0, 0, 0, 0, 0, 0, 0, 0, 0]))"
            ]
          },
          "metadata": {},
          "execution_count": 132
        }
      ]
    },
    {
      "cell_type": "code",
      "metadata": {
        "id": "Ze5VOzVDmmJc"
      },
      "source": [
        "df=ADHC.loc[:,0]\n",
        "\n",
        "X = df.to_numpy()\n",
        "\n",
        "Y = ADHC.loc[:,1]\n",
        "y = Y.to_numpy()\n",
        "y = np.where(y == 1, 1, 0)\n",
        "#from sklearn.model_selection import train_test_split\n",
        "\n",
        "\n",
        "X_train, X_test, y_train, y_test = train_test_split(X, y, test_size=0.3,stratify=y)\n",
        "\n",
        "#pca = PCA(n_components=2)\n",
        "\n",
        "#X_train_pca = pca.fit_transform(X_train)\n",
        "#X_test_pca = pca.transform(X_test)\n",
        "\n",
        "X_train_caso1=X_train\n",
        "X_test_caso1=X_test\n",
        "y_train_caso1=y_train\n",
        "y_test_caso1=y_test\n",
        "\n"
      ],
      "execution_count": null,
      "outputs": []
    },
    {
      "cell_type": "code",
      "metadata": {
        "id": "kTgQrGvWmmJd"
      },
      "source": [
        "X_train_caso1=X_train_caso1.reshape(-1,1)\n",
        "X_test_caso1=X_test_caso1.reshape(-1,1)\n",
        "y_train_caso1=y_train_caso1.reshape(-1,1)\n",
        "y_test_caso1=y_test_caso1.reshape(-1,1)\n"
      ],
      "execution_count": null,
      "outputs": []
    },
    {
      "cell_type": "code",
      "metadata": {
        "id": "0WHsv0zJmmJd"
      },
      "source": [
        ""
      ],
      "execution_count": null,
      "outputs": []
    },
    {
      "cell_type": "code",
      "metadata": {
        "colab": {
          "base_uri": "https://localhost:8080/"
        },
        "id": "qlkVFeKVmmJd",
        "outputId": "29b3ea0a-333f-400e-b0ec-7ff921dd71e7"
      },
      "source": [
        "tuning_albero_decisione(1,5)"
      ],
      "execution_count": null,
      "outputs": [
        {
          "output_type": "stream",
          "name": "stdout",
          "text": [
            "Fitting 5 folds for each of 216 candidates, totalling 1080 fits\n"
          ]
        },
        {
          "output_type": "stream",
          "name": "stderr",
          "text": [
            "[Parallel(n_jobs=-1)]: Using backend LokyBackend with 2 concurrent workers.\n"
          ]
        },
        {
          "output_type": "stream",
          "name": "stdout",
          "text": [
            "Accuratezza fase di Cross Validation con dati di Addestramento/Validazione: 0.967\n",
            "{'criterion': 'gini', 'max_depth': 3, 'min_samples_leaf': 1, 'min_samples_split': 2, 'min_weight_fraction_leaf': 0}\n",
            "Accuratezza con dati di Test: 1.000\n",
            "Risultato sui dati di test:\n",
            "              precision    recall  f1-score   support\n",
            "\n",
            "           0       1.00      1.00      1.00         6\n",
            "           1       1.00      1.00      1.00         6\n",
            "\n",
            "    accuracy                           1.00        12\n",
            "   macro avg       1.00      1.00      1.00        12\n",
            "weighted avg       1.00      1.00      1.00        12\n",
            "\n",
            "[[6 0]\n",
            " [0 6]]\n",
            "Accuratezza Test: 100.000\n",
            "Precisione  Test: 100.000\n",
            "Sensitività Test: 100.000\n",
            "Specificità Test: 100.000\n",
            "F1 score    Test: 100.000\n"
          ]
        },
        {
          "output_type": "stream",
          "name": "stderr",
          "text": [
            "[Parallel(n_jobs=-1)]: Done 1062 tasks      | elapsed:    1.4s\n",
            "[Parallel(n_jobs=-1)]: Done 1077 out of 1080 | elapsed:    1.5s remaining:    0.0s\n",
            "[Parallel(n_jobs=-1)]: Done 1080 out of 1080 | elapsed:    1.5s finished\n"
          ]
        }
      ]
    },
    {
      "cell_type": "code",
      "metadata": {
        "colab": {
          "base_uri": "https://localhost:8080/"
        },
        "id": "Eev-5dKjmmJe",
        "outputId": "55151a10-f48e-4995-86b1-c9685f0bd644"
      },
      "source": [
        "tuning_SVM(1,5)"
      ],
      "execution_count": null,
      "outputs": [
        {
          "output_type": "stream",
          "name": "stdout",
          "text": [
            "Fitting 5 folds for each of 2 candidates, totalling 10 fits\n",
            "Accuratezza fase di Cross Validation con dati di Addestramento/Validazione: 0.967\n",
            "{'kernel': 'linear'}\n",
            "Accuratezza con dati di Test: 1.000\n",
            "Risultato sui dati di test:\n",
            "              precision    recall  f1-score   support\n",
            "\n",
            "           0       1.00      1.00      1.00         6\n",
            "           1       1.00      1.00      1.00         6\n",
            "\n",
            "    accuracy                           1.00        12\n",
            "   macro avg       1.00      1.00      1.00        12\n",
            "weighted avg       1.00      1.00      1.00        12\n",
            "\n",
            "[[6 0]\n",
            " [0 6]]\n",
            "Accuratezza Test: 100.000\n",
            "Precisione  Test: 100.000\n",
            "Sensitività Test: 100.000\n",
            "Specificità Test: 100.000\n",
            "F1 score    Test: 100.000\n"
          ]
        },
        {
          "output_type": "stream",
          "name": "stderr",
          "text": [
            "/usr/local/lib/python3.7/dist-packages/sklearn/model_selection/_search.py:281: UserWarning:\n",
            "\n",
            "The total space of parameters 2 is smaller than n_iter=20. Running 2 iterations. For exhaustive searches, use GridSearchCV.\n",
            "\n",
            "[Parallel(n_jobs=-1)]: Using backend LokyBackend with 2 concurrent workers.\n",
            "[Parallel(n_jobs=-1)]: Done  10 out of  10 | elapsed:    0.0s finished\n",
            "/usr/local/lib/python3.7/dist-packages/sklearn/utils/validation.py:760: DataConversionWarning:\n",
            "\n",
            "A column-vector y was passed when a 1d array was expected. Please change the shape of y to (n_samples, ), for example using ravel().\n",
            "\n"
          ]
        }
      ]
    },
    {
      "cell_type": "code",
      "metadata": {
        "id": "ZSqW76odmmJe"
      },
      "source": [
        "#tuning_foresta(1,10)"
      ],
      "execution_count": null,
      "outputs": []
    },
    {
      "cell_type": "code",
      "metadata": {
        "id": "ABbowqNImmJe"
      },
      "source": [
        "#tuning_albero_decisione_CV(1,10)"
      ],
      "execution_count": null,
      "outputs": []
    },
    {
      "cell_type": "code",
      "metadata": {
        "id": "s2q6c8KFmmJe"
      },
      "source": [
        "#tuning_SVM_CV(1,10)"
      ],
      "execution_count": null,
      "outputs": []
    },
    {
      "cell_type": "code",
      "metadata": {
        "id": "cmmJTOuommJf"
      },
      "source": [
        "#validazione_incrociata_kfold(1,10,1)"
      ],
      "execution_count": null,
      "outputs": []
    },
    {
      "cell_type": "code",
      "metadata": {
        "id": "c_mnllLEmmJf"
      },
      "source": [
        "#validazione_incrociata_kfold(1,10,2)"
      ],
      "execution_count": null,
      "outputs": []
    },
    {
      "cell_type": "code",
      "metadata": {
        "id": "j_vbaHmPmmJf"
      },
      "source": [
        "#validazione_incrociata_score(1,10,1)"
      ],
      "execution_count": null,
      "outputs": []
    },
    {
      "cell_type": "code",
      "metadata": {
        "id": "Mmmi3mf0mmJf"
      },
      "source": [
        "#validazione_incrociata_score(1,10,2)"
      ],
      "execution_count": null,
      "outputs": []
    },
    {
      "cell_type": "code",
      "metadata": {
        "id": "CU6bEGOZmmJg"
      },
      "source": [
        "#prova_pipeline(1,2)"
      ],
      "execution_count": null,
      "outputs": []
    },
    {
      "cell_type": "code",
      "metadata": {
        "id": "H4YOQVHmmmJg"
      },
      "source": [
        ""
      ],
      "execution_count": null,
      "outputs": []
    },
    {
      "cell_type": "code",
      "metadata": {
        "colab": {
          "base_uri": "https://localhost:8080/"
        },
        "id": "Lzrvkp6qmmJg",
        "outputId": "6d264bed-76b2-45b9-8352-39f971705f4a"
      },
      "source": [
        "tuning_KNN(1,5)"
      ],
      "execution_count": null,
      "outputs": [
        {
          "output_type": "stream",
          "name": "stdout",
          "text": [
            "Fitting 5 folds for each of 16 candidates, totalling 80 fits\n"
          ]
        },
        {
          "output_type": "stream",
          "name": "stderr",
          "text": [
            "[Parallel(n_jobs=-1)]: Using backend LokyBackend with 2 concurrent workers.\n"
          ]
        },
        {
          "output_type": "stream",
          "name": "stdout",
          "text": [
            "Accuratezza fase di Cross Validation con dati di Addestramento/Validazione: 0.967\n",
            "{'algorithm': 'auto', 'n_neighbors': 5, 'weights': 'uniform'}\n",
            "Accuratezza con dati di Test: 1.000\n",
            "Risultato sui dati di test:\n",
            "              precision    recall  f1-score   support\n",
            "\n",
            "           0       1.00      1.00      1.00         6\n",
            "           1       1.00      1.00      1.00         6\n",
            "\n",
            "    accuracy                           1.00        12\n",
            "   macro avg       1.00      1.00      1.00        12\n",
            "weighted avg       1.00      1.00      1.00        12\n",
            "\n",
            "[[6 0]\n",
            " [0 6]]\n",
            "Accuratezza Test: 100.000\n",
            "Precisione  Test: 100.000\n",
            "Sensitività Test: 100.000\n",
            "Specificità Test: 100.000\n",
            "F1 score    Test: 100.000\n"
          ]
        },
        {
          "output_type": "stream",
          "name": "stderr",
          "text": [
            "[Parallel(n_jobs=-1)]: Done  80 out of  80 | elapsed:    0.3s finished\n",
            "/usr/local/lib/python3.7/dist-packages/sklearn/model_selection/_search.py:739: DataConversionWarning:\n",
            "\n",
            "A column-vector y was passed when a 1d array was expected. Please change the shape of y to (n_samples, ), for example using ravel().\n",
            "\n"
          ]
        }
      ]
    },
    {
      "cell_type": "code",
      "metadata": {
        "id": "1fWg97sTmmJg"
      },
      "source": [
        "#tuning_MP(1,5)"
      ],
      "execution_count": null,
      "outputs": []
    },
    {
      "cell_type": "code",
      "metadata": {
        "colab": {
          "base_uri": "https://localhost:8080/"
        },
        "id": "BYRDh7ZdmmJh",
        "outputId": "83fc66e5-c0cf-4662-d70e-bdc597567bb9"
      },
      "source": [
        "tuning_LR(1,5)"
      ],
      "execution_count": null,
      "outputs": [
        {
          "output_type": "stream",
          "name": "stderr",
          "text": [
            "[Parallel(n_jobs=-1)]: Using backend LokyBackend with 2 concurrent workers.\n"
          ]
        },
        {
          "output_type": "stream",
          "name": "stdout",
          "text": [
            "Fitting 5 folds for each of 14 candidates, totalling 70 fits\n",
            "Accuratezza fase di Cross Validation con dati di Addestramento/Validazione: 0.967\n",
            "I migliori parametri trvati sono :\n",
            " {'C': 0.001, 'penalty': 'l2'}\n",
            "Accuratezza con dati di Test: 1.000\n",
            "Risultato sui dati di test:\n",
            "              precision    recall  f1-score   support\n",
            "\n",
            "           0       1.00      1.00      1.00         6\n",
            "           1       1.00      1.00      1.00         6\n",
            "\n",
            "    accuracy                           1.00        12\n",
            "   macro avg       1.00      1.00      1.00        12\n",
            "weighted avg       1.00      1.00      1.00        12\n",
            "\n",
            "[[6 0]\n",
            " [0 6]]\n",
            "Accuratezza Test: 100.000\n",
            "Precisione  Test: 0.000\n",
            "Sensitività Test: 100.000\n",
            "Specificità Test: 100.000\n",
            "F1 score    Test: 0.000\n"
          ]
        },
        {
          "output_type": "stream",
          "name": "stderr",
          "text": [
            "[Parallel(n_jobs=-1)]: Done  70 out of  70 | elapsed:    0.5s finished\n",
            "/usr/local/lib/python3.7/dist-packages/sklearn/utils/validation.py:760: DataConversionWarning:\n",
            "\n",
            "A column-vector y was passed when a 1d array was expected. Please change the shape of y to (n_samples, ), for example using ravel().\n",
            "\n"
          ]
        }
      ]
    },
    {
      "cell_type": "code",
      "metadata": {
        "id": "vN3Acm8PmmJh"
      },
      "source": [
        "#tuning_foresta(1,5)"
      ],
      "execution_count": null,
      "outputs": []
    },
    {
      "cell_type": "code",
      "metadata": {
        "id": "ZOftuVI9mmJh"
      },
      "source": [
        ""
      ],
      "execution_count": null,
      "outputs": []
    },
    {
      "cell_type": "markdown",
      "metadata": {
        "id": "AvZpDnI8mmJh"
      },
      "source": [
        "#### Caso2 AD vs MCI"
      ]
    },
    {
      "cell_type": "code",
      "metadata": {
        "id": "BxR0uzu_mmJi"
      },
      "source": [
        ""
      ],
      "execution_count": null,
      "outputs": []
    },
    {
      "cell_type": "code",
      "metadata": {
        "id": "Hr-k4CtGmmJi"
      },
      "source": [
        "\n",
        "df=ADMCI.loc[:,0]\n",
        "\n",
        "X = df.to_numpy()\n",
        "\n",
        "Y = ADMCI.loc[:,1]\n",
        "y = Y.to_numpy()\n",
        "y = np.where(y == 1, 1, 0)\n",
        "#from sklearn.model_selection import train_test_split\n",
        "\n",
        "X_train, X_test, y_train, y_test = train_test_split(X, y, test_size=0.3,stratify=y)\n",
        "\n",
        "#pca = PCA(n_components=5)\n",
        "\n",
        "#X_train_pca = pca.fit_transform(X_train)\n",
        "#X_test_pca = pca.transform(X_test)\n",
        "\n",
        "X_train_caso2=X_train\n",
        "X_test_caso2=X_test\n",
        "y_train_caso2=y_train\n",
        "y_test_caso2=y_test"
      ],
      "execution_count": null,
      "outputs": []
    },
    {
      "cell_type": "code",
      "metadata": {
        "id": "-XpAFIq1mmJi"
      },
      "source": [
        "X_train_caso2=X_train_caso2.reshape(-1,1)\n",
        "X_test_caso2=X_test_caso2.reshape(-1,1)\n",
        "y_train_caso2=y_train_caso2.reshape(-1,1)\n",
        "y_test_caso2=y_test_caso2.reshape(-1,1)"
      ],
      "execution_count": null,
      "outputs": []
    },
    {
      "cell_type": "code",
      "metadata": {
        "colab": {
          "base_uri": "https://localhost:8080/"
        },
        "id": "Afo5ATqpmmJi",
        "outputId": "d1a3adb8-afac-4d1d-f166-bf4957a6d7b9"
      },
      "source": [
        "tuning_albero_decisione(2,5)"
      ],
      "execution_count": null,
      "outputs": [
        {
          "output_type": "stream",
          "name": "stderr",
          "text": [
            "[Parallel(n_jobs=-1)]: Using backend LokyBackend with 2 concurrent workers.\n"
          ]
        },
        {
          "output_type": "stream",
          "name": "stdout",
          "text": [
            "Fitting 5 folds for each of 216 candidates, totalling 1080 fits\n",
            "Accuratezza fase di Cross Validation con dati di Addestramento/Validazione: 0.700\n",
            "{'criterion': 'gini', 'max_depth': 3, 'min_samples_leaf': 3, 'min_samples_split': 2, 'min_weight_fraction_leaf': 0}\n",
            "Accuratezza con dati di Test: 0.583\n",
            "Risultato sui dati di test:\n",
            "              precision    recall  f1-score   support\n",
            "\n",
            "           0       0.55      1.00      0.71         6\n",
            "           1       1.00      0.17      0.29         6\n",
            "\n",
            "    accuracy                           0.58        12\n",
            "   macro avg       0.77      0.58      0.50        12\n",
            "weighted avg       0.77      0.58      0.50        12\n",
            "\n",
            "[[6 0]\n",
            " [5 1]]\n",
            "Accuratezza Test: 58.000\n",
            "Precisione  Test: 54.000\n",
            "Sensitività Test: 100.000\n",
            "Specificità Test: 16.000\n",
            "F1 score    Test: 70.000\n"
          ]
        },
        {
          "output_type": "stream",
          "name": "stderr",
          "text": [
            "[Parallel(n_jobs=-1)]: Done 1065 tasks      | elapsed:    1.4s\n",
            "[Parallel(n_jobs=-1)]: Done 1077 out of 1080 | elapsed:    1.4s remaining:    0.0s\n",
            "[Parallel(n_jobs=-1)]: Done 1080 out of 1080 | elapsed:    1.4s finished\n"
          ]
        }
      ]
    },
    {
      "cell_type": "code",
      "metadata": {
        "colab": {
          "base_uri": "https://localhost:8080/"
        },
        "id": "3Uablb1ommJi",
        "outputId": "30b81777-d1b6-4613-93f5-5c0d3a8899c6"
      },
      "source": [
        "tuning_SVM(2,5)"
      ],
      "execution_count": null,
      "outputs": [
        {
          "output_type": "stream",
          "name": "stderr",
          "text": [
            "/usr/local/lib/python3.7/dist-packages/sklearn/model_selection/_search.py:281: UserWarning:\n",
            "\n",
            "The total space of parameters 2 is smaller than n_iter=20. Running 2 iterations. For exhaustive searches, use GridSearchCV.\n",
            "\n",
            "[Parallel(n_jobs=-1)]: Using backend LokyBackend with 2 concurrent workers.\n"
          ]
        },
        {
          "output_type": "stream",
          "name": "stdout",
          "text": [
            "Fitting 5 folds for each of 2 candidates, totalling 10 fits\n"
          ]
        },
        {
          "output_type": "stream",
          "name": "stderr",
          "text": [
            "[Parallel(n_jobs=-1)]: Done  10 out of  10 | elapsed:  2.0min finished\n",
            "/usr/local/lib/python3.7/dist-packages/sklearn/utils/validation.py:760: DataConversionWarning:\n",
            "\n",
            "A column-vector y was passed when a 1d array was expected. Please change the shape of y to (n_samples, ), for example using ravel().\n",
            "\n"
          ]
        },
        {
          "output_type": "stream",
          "name": "stdout",
          "text": [
            "Accuratezza fase di Cross Validation con dati di Addestramento/Validazione: 0.413\n",
            "{'kernel': 'linear'}\n",
            "Accuratezza con dati di Test: 0.750\n",
            "Risultato sui dati di test:\n",
            "              precision    recall  f1-score   support\n",
            "\n",
            "           0       1.00      0.50      0.67         6\n",
            "           1       0.67      1.00      0.80         6\n",
            "\n",
            "    accuracy                           0.75        12\n",
            "   macro avg       0.83      0.75      0.73        12\n",
            "weighted avg       0.83      0.75      0.73        12\n",
            "\n",
            "[[3 3]\n",
            " [0 6]]\n",
            "Accuratezza Test: 75.000\n",
            "Precisione  Test: 100.000\n",
            "Sensitività Test: 50.000\n",
            "Specificità Test: 100.000\n",
            "F1 score    Test: 66.000\n"
          ]
        }
      ]
    },
    {
      "cell_type": "code",
      "metadata": {
        "id": "QWJ-paLImmJj"
      },
      "source": [
        "#tuning_foresta(2,10)"
      ],
      "execution_count": null,
      "outputs": []
    },
    {
      "cell_type": "code",
      "metadata": {
        "id": "z5YAKXG2mmJj"
      },
      "source": [
        "#tuning_albero_decisione_CV(2,10)"
      ],
      "execution_count": null,
      "outputs": []
    },
    {
      "cell_type": "code",
      "metadata": {
        "id": "sL8J75wTmmJk"
      },
      "source": [
        "#tuning_SVM_CV(2,10)"
      ],
      "execution_count": null,
      "outputs": []
    },
    {
      "cell_type": "code",
      "metadata": {
        "id": "2FLJ8_RJmmJk"
      },
      "source": [
        "#validazione_incrociata_kfold(2,10,1)"
      ],
      "execution_count": null,
      "outputs": []
    },
    {
      "cell_type": "code",
      "metadata": {
        "id": "TbFABsjMmmJk"
      },
      "source": [
        "#validazione_incrociata_kfold(2,10,2)"
      ],
      "execution_count": null,
      "outputs": []
    },
    {
      "cell_type": "code",
      "metadata": {
        "id": "QZUldswDmmJk"
      },
      "source": [
        "#validazione_incrociata_score(2,10,1)"
      ],
      "execution_count": null,
      "outputs": []
    },
    {
      "cell_type": "code",
      "metadata": {
        "id": "ioovyQYemmJl"
      },
      "source": [
        "#validazione_incrociata_score(2,10,2)"
      ],
      "execution_count": null,
      "outputs": []
    },
    {
      "cell_type": "code",
      "metadata": {
        "id": "0NEY9NPNmmJl"
      },
      "source": [
        "#prova_pipeline(2,2)"
      ],
      "execution_count": null,
      "outputs": []
    },
    {
      "cell_type": "code",
      "metadata": {
        "id": "qNkTrtKpmmJl"
      },
      "source": [
        "#exec_trad(2,1)"
      ],
      "execution_count": null,
      "outputs": []
    },
    {
      "cell_type": "code",
      "metadata": {
        "id": "3sg-m1jJmmJl"
      },
      "source": [
        "#exec_trad(2,2)"
      ],
      "execution_count": null,
      "outputs": []
    },
    {
      "cell_type": "code",
      "metadata": {
        "colab": {
          "base_uri": "https://localhost:8080/"
        },
        "id": "o-USHohwmmJm",
        "outputId": "3c27a55a-c34f-4210-f287-dfaa347263a0"
      },
      "source": [
        "tuning_KNN(2,5)"
      ],
      "execution_count": null,
      "outputs": [
        {
          "output_type": "stream",
          "name": "stdout",
          "text": [
            "Fitting 5 folds for each of 16 candidates, totalling 80 fits\n"
          ]
        },
        {
          "output_type": "stream",
          "name": "stderr",
          "text": [
            "[Parallel(n_jobs=-1)]: Using backend LokyBackend with 2 concurrent workers.\n"
          ]
        },
        {
          "output_type": "stream",
          "name": "stdout",
          "text": [
            "Accuratezza fase di Cross Validation con dati di Addestramento/Validazione: 0.700\n",
            "{'algorithm': 'auto', 'n_neighbors': 5, 'weights': 'uniform'}\n",
            "Accuratezza con dati di Test: 0.583\n",
            "Risultato sui dati di test:\n",
            "              precision    recall  f1-score   support\n",
            "\n",
            "           0       0.55      1.00      0.71         6\n",
            "           1       1.00      0.17      0.29         6\n",
            "\n",
            "    accuracy                           0.58        12\n",
            "   macro avg       0.77      0.58      0.50        12\n",
            "weighted avg       0.77      0.58      0.50        12\n",
            "\n",
            "[[6 0]\n",
            " [5 1]]\n",
            "Accuratezza Test: 58.000\n",
            "Precisione  Test: 54.000\n",
            "Sensitività Test: 100.000\n",
            "Specificità Test: 16.000\n",
            "F1 score    Test: 70.000\n"
          ]
        },
        {
          "output_type": "stream",
          "name": "stderr",
          "text": [
            "[Parallel(n_jobs=-1)]: Done  80 out of  80 | elapsed:    0.2s finished\n",
            "/usr/local/lib/python3.7/dist-packages/sklearn/model_selection/_search.py:739: DataConversionWarning:\n",
            "\n",
            "A column-vector y was passed when a 1d array was expected. Please change the shape of y to (n_samples, ), for example using ravel().\n",
            "\n"
          ]
        }
      ]
    },
    {
      "cell_type": "code",
      "metadata": {
        "id": "MV5bv2YNmmJm"
      },
      "source": [
        "#tuning_MP(2,10)"
      ],
      "execution_count": null,
      "outputs": []
    },
    {
      "cell_type": "code",
      "metadata": {
        "id": "rSY-RNeummJm"
      },
      "source": [
        "#tuning_LR(2,5)"
      ],
      "execution_count": null,
      "outputs": []
    },
    {
      "cell_type": "markdown",
      "metadata": {
        "id": "IEHlCMi_mmJn"
      },
      "source": [
        "<br>\n",
        "<br>"
      ]
    },
    {
      "cell_type": "markdown",
      "metadata": {
        "id": "k_kIvQEEmmJn"
      },
      "source": [
        "<br>\n",
        "<br>"
      ]
    },
    {
      "cell_type": "code",
      "metadata": {
        "id": "1uhfKxVRmmJn"
      },
      "source": [
        "#tuning_foresta(2,10)"
      ],
      "execution_count": null,
      "outputs": []
    },
    {
      "cell_type": "markdown",
      "metadata": {
        "id": "zjUrXzptmmJn"
      },
      "source": [
        "#### Caso3 MCI vs HCF"
      ]
    },
    {
      "cell_type": "code",
      "metadata": {
        "id": "FE9wW3DpmmJo"
      },
      "source": [
        ""
      ],
      "execution_count": null,
      "outputs": []
    },
    {
      "cell_type": "code",
      "metadata": {
        "id": "t55ZI4EgmmJo"
      },
      "source": [
        "\n",
        "df=MCIHC.loc[:,0]\n",
        "\n",
        "X = df.to_numpy()\n",
        "\n",
        "Y = MCIHC.loc[:,1]\n",
        "y = Y.to_numpy()\n",
        "y = np.where(y == 2, 1, 0)\n",
        "\n",
        "#from sklearn.model_selection import train_test_split\n",
        "\n",
        "\n",
        "X_train, X_test, y_train, y_test = train_test_split(X, y, test_size=0.3,stratify=y)\n",
        "\n",
        "#pca = PCA(n_components=2)\n",
        "\n",
        "#X_train_pca = pca.fit_transform(X_train)\n",
        "#X_test_pca = pca.transform(X_test)\n",
        "\n",
        "X_train_caso3=X_train\n",
        "X_test_caso3=X_test\n",
        "y_train_caso3=y_train\n",
        "y_test_caso3=y_test"
      ],
      "execution_count": null,
      "outputs": []
    },
    {
      "cell_type": "code",
      "metadata": {
        "id": "EPBNhg4AmmJo"
      },
      "source": [
        "X_train_caso3=X_train_caso3.reshape(-1,1)\n",
        "X_test_caso3=X_test_caso3.reshape(-1,1)\n",
        "y_train_caso3=y_train_caso3.reshape(-1,1)\n",
        "y_test_caso3=y_test_caso3.reshape(-1,1)"
      ],
      "execution_count": null,
      "outputs": []
    },
    {
      "cell_type": "code",
      "metadata": {
        "colab": {
          "base_uri": "https://localhost:8080/"
        },
        "id": "KG8LTrgLmmJo",
        "outputId": "4d6f3449-446d-4dcb-d054-d63bde6fc8a9"
      },
      "source": [
        "tuning_albero_decisione(3,10)"
      ],
      "execution_count": null,
      "outputs": [
        {
          "output_type": "stream",
          "name": "stderr",
          "text": [
            "[Parallel(n_jobs=-1)]: Using backend LokyBackend with 2 concurrent workers.\n"
          ]
        },
        {
          "output_type": "stream",
          "name": "stdout",
          "text": [
            "Fitting 10 folds for each of 216 candidates, totalling 2160 fits\n"
          ]
        },
        {
          "output_type": "stream",
          "name": "stderr",
          "text": [
            "[Parallel(n_jobs=-1)]: Done 1908 tasks      | elapsed:    2.0s\n",
            "[Parallel(n_jobs=-1)]: Done 2160 out of 2160 | elapsed:    2.2s finished\n"
          ]
        },
        {
          "output_type": "stream",
          "name": "stdout",
          "text": [
            "Accuratezza fase di Cross Validation con dati di Addestramento/Validazione: 1.000\n",
            "{'criterion': 'gini', 'max_depth': 3, 'min_samples_leaf': 1, 'min_samples_split': 2, 'min_weight_fraction_leaf': 0}\n",
            "Accuratezza con dati di Test: 0.917\n",
            "Risultato sui dati di test:\n",
            "              precision    recall  f1-score   support\n",
            "\n",
            "           0       0.86      1.00      0.92         6\n",
            "           1       1.00      0.83      0.91         6\n",
            "\n",
            "    accuracy                           0.92        12\n",
            "   macro avg       0.93      0.92      0.92        12\n",
            "weighted avg       0.93      0.92      0.92        12\n",
            "\n",
            "[[6 0]\n",
            " [1 5]]\n",
            "Accuratezza Test: 91.000\n",
            "Precisione  Test: 85.000\n",
            "Sensitività Test: 100.000\n",
            "Specificità Test: 83.000\n",
            "F1 score    Test: 91.000\n"
          ]
        }
      ]
    },
    {
      "cell_type": "code",
      "metadata": {
        "colab": {
          "base_uri": "https://localhost:8080/"
        },
        "id": "6V145EErmmJp",
        "outputId": "d937961a-1d9d-4d53-88ea-fe58c18277da"
      },
      "source": [
        "tuning_SVM(3,10)"
      ],
      "execution_count": null,
      "outputs": [
        {
          "output_type": "stream",
          "name": "stdout",
          "text": [
            "Fitting 10 folds for each of 2 candidates, totalling 20 fits\n",
            "Accuratezza fase di Cross Validation con dati di Addestramento/Validazione: 1.000\n",
            "{'kernel': 'linear'}\n",
            "Accuratezza con dati di Test: 0.917\n",
            "Risultato sui dati di test:\n",
            "              precision    recall  f1-score   support\n",
            "\n",
            "           0       0.86      1.00      0.92         6\n",
            "           1       1.00      0.83      0.91         6\n",
            "\n",
            "    accuracy                           0.92        12\n",
            "   macro avg       0.93      0.92      0.92        12\n",
            "weighted avg       0.93      0.92      0.92        12\n",
            "\n",
            "[[6 0]\n",
            " [1 5]]\n",
            "Accuratezza Test: 91.000\n",
            "Precisione  Test: 85.000\n",
            "Sensitività Test: 100.000\n",
            "Specificità Test: 83.000\n",
            "F1 score    Test: 91.000\n"
          ]
        },
        {
          "output_type": "stream",
          "name": "stderr",
          "text": [
            "/usr/local/lib/python3.7/dist-packages/sklearn/model_selection/_search.py:281: UserWarning:\n",
            "\n",
            "The total space of parameters 2 is smaller than n_iter=20. Running 2 iterations. For exhaustive searches, use GridSearchCV.\n",
            "\n",
            "[Parallel(n_jobs=-1)]: Using backend LokyBackend with 2 concurrent workers.\n",
            "[Parallel(n_jobs=-1)]: Done  20 out of  20 | elapsed:    0.1s finished\n",
            "/usr/local/lib/python3.7/dist-packages/sklearn/utils/validation.py:760: DataConversionWarning:\n",
            "\n",
            "A column-vector y was passed when a 1d array was expected. Please change the shape of y to (n_samples, ), for example using ravel().\n",
            "\n"
          ]
        }
      ]
    },
    {
      "cell_type": "code",
      "metadata": {
        "id": "p5jblJOUmmJp"
      },
      "source": [
        "#tuning_albero_decisione_CV(3,10)"
      ],
      "execution_count": null,
      "outputs": []
    },
    {
      "cell_type": "code",
      "metadata": {
        "id": "J1UJHE9NmmJp"
      },
      "source": [
        "#tuning_SVM_CV(3,10)"
      ],
      "execution_count": null,
      "outputs": []
    },
    {
      "cell_type": "code",
      "metadata": {
        "id": "yunY8E9-mmJq"
      },
      "source": [
        "#validazione_incrociata_kfold(3,10,1)"
      ],
      "execution_count": null,
      "outputs": []
    },
    {
      "cell_type": "code",
      "metadata": {
        "id": "od1CHNrrmmJq"
      },
      "source": [
        "#validazione_incrociata_kfold(3,10,2)"
      ],
      "execution_count": null,
      "outputs": []
    },
    {
      "cell_type": "code",
      "metadata": {
        "id": "g5xIEizrmmJq"
      },
      "source": [
        "#validazione_incrociata_score(3,10,1)"
      ],
      "execution_count": null,
      "outputs": []
    },
    {
      "cell_type": "code",
      "metadata": {
        "id": "kXWyReqsmmJq"
      },
      "source": [
        "#validazione_incrociata_score(3,10,2)"
      ],
      "execution_count": null,
      "outputs": []
    },
    {
      "cell_type": "code",
      "metadata": {
        "id": "r560Yo3ommJr"
      },
      "source": [
        "#prova_pipeline(3,2)"
      ],
      "execution_count": null,
      "outputs": []
    },
    {
      "cell_type": "code",
      "metadata": {
        "id": "ZKcQO4qHmmJr"
      },
      "source": [
        "#exec_trad(3,1)"
      ],
      "execution_count": null,
      "outputs": []
    },
    {
      "cell_type": "code",
      "metadata": {
        "id": "0uMvgI66mmJr"
      },
      "source": [
        "#exec_trad(3,2)"
      ],
      "execution_count": null,
      "outputs": []
    },
    {
      "cell_type": "code",
      "metadata": {
        "colab": {
          "base_uri": "https://localhost:8080/"
        },
        "id": "J0pOzIIzmmJr",
        "outputId": "38c571ba-ce75-4c47-c3b4-f51d7cfacfd4"
      },
      "source": [
        "tuning_KNN(3,5)"
      ],
      "execution_count": null,
      "outputs": [
        {
          "output_type": "stream",
          "name": "stderr",
          "text": [
            "[Parallel(n_jobs=-1)]: Using backend LokyBackend with 2 concurrent workers.\n"
          ]
        },
        {
          "output_type": "stream",
          "name": "stdout",
          "text": [
            "Fitting 5 folds for each of 16 candidates, totalling 80 fits\n",
            "Accuratezza fase di Cross Validation con dati di Addestramento/Validazione: 1.000\n",
            "{'algorithm': 'auto', 'n_neighbors': 5, 'weights': 'uniform'}\n",
            "Accuratezza con dati di Test: 0.917\n",
            "Risultato sui dati di test:\n",
            "              precision    recall  f1-score   support\n",
            "\n",
            "           0       0.86      1.00      0.92         6\n",
            "           1       1.00      0.83      0.91         6\n",
            "\n",
            "    accuracy                           0.92        12\n",
            "   macro avg       0.93      0.92      0.92        12\n",
            "weighted avg       0.93      0.92      0.92        12\n",
            "\n",
            "[[6 0]\n",
            " [1 5]]\n",
            "Accuratezza Test: 91.000\n",
            "Precisione  Test: 85.000\n",
            "Sensitività Test: 100.000\n",
            "Specificità Test: 83.000\n",
            "F1 score    Test: 91.000\n"
          ]
        },
        {
          "output_type": "stream",
          "name": "stderr",
          "text": [
            "[Parallel(n_jobs=-1)]: Done  80 out of  80 | elapsed:    0.2s finished\n",
            "/usr/local/lib/python3.7/dist-packages/sklearn/model_selection/_search.py:739: DataConversionWarning:\n",
            "\n",
            "A column-vector y was passed when a 1d array was expected. Please change the shape of y to (n_samples, ), for example using ravel().\n",
            "\n"
          ]
        }
      ]
    },
    {
      "cell_type": "code",
      "metadata": {
        "id": "8iHAVJSxmmJs"
      },
      "source": [
        "#tuning_MP(3,10)"
      ],
      "execution_count": null,
      "outputs": []
    },
    {
      "cell_type": "code",
      "metadata": {
        "id": "hh-naNydmmJs"
      },
      "source": [
        "#tuning_LR(3,5)"
      ],
      "execution_count": null,
      "outputs": []
    },
    {
      "cell_type": "code",
      "metadata": {
        "id": "_S1G2aPlmmJs"
      },
      "source": [
        "#tuning_foresta(3,10)"
      ],
      "execution_count": null,
      "outputs": []
    },
    {
      "cell_type": "code",
      "metadata": {
        "id": "Np7ZMS7TmmJs"
      },
      "source": [
        ""
      ],
      "execution_count": null,
      "outputs": []
    },
    {
      "cell_type": "markdown",
      "metadata": {
        "id": "Ep9D_ElKmmJt"
      },
      "source": [
        "#### Caso4 CASE vs HCF"
      ]
    },
    {
      "cell_type": "code",
      "metadata": {
        "id": "pGbIaHLfmmJt"
      },
      "source": [
        ""
      ],
      "execution_count": null,
      "outputs": []
    },
    {
      "cell_type": "code",
      "metadata": {
        "id": "nNyK9tRommJt"
      },
      "source": [
        "df=CASEHC.loc[:,0]\n",
        "\n",
        "X = df.to_numpy()\n",
        "\n",
        "Y = CASEHC.loc[:,1]\n",
        "y = Y.to_numpy()\n",
        "y = np.where(y == 3, 1, 0)\n",
        "#from sklearn.model_selection import train_test_split\n",
        "\n",
        "\n",
        "X_train, X_test, y_train, y_test = train_test_split(X, y, test_size=0.3,stratify=y)\n",
        "\n",
        "#pca = PCA(n_components=2)\n",
        "\n",
        "#X_train_pca = pca.fit_transform(X_train)\n",
        "#X_test_pca = pca.transform(X_test)\n",
        "\n",
        "X_train_caso4=X_train\n",
        "X_test_caso4=X_test\n",
        "y_train_caso4=y_train\n",
        "y_test_caso4=y_test"
      ],
      "execution_count": null,
      "outputs": []
    },
    {
      "cell_type": "code",
      "metadata": {
        "id": "3Y-gzFT4mmJt"
      },
      "source": [
        "X_train_caso4=X_train_caso4.reshape(-1,1)\n",
        "X_test_caso4=X_test_caso4.reshape(-1,1)\n",
        "y_train_caso4=y_train_caso4.reshape(-1,1)\n",
        "y_test_caso4=y_test_caso4.reshape(-1,1)"
      ],
      "execution_count": null,
      "outputs": []
    },
    {
      "cell_type": "code",
      "metadata": {
        "colab": {
          "base_uri": "https://localhost:8080/"
        },
        "id": "R0-qQnJcmmJu",
        "outputId": "79ebcdc3-7ca5-499f-d6e5-2f17deaa3ee3"
      },
      "source": [
        "tuning_albero_decisione(4,5)"
      ],
      "execution_count": null,
      "outputs": [
        {
          "output_type": "stream",
          "name": "stderr",
          "text": [
            "[Parallel(n_jobs=-1)]: Using backend LokyBackend with 2 concurrent workers.\n"
          ]
        },
        {
          "output_type": "stream",
          "name": "stdout",
          "text": [
            "Fitting 5 folds for each of 216 candidates, totalling 1080 fits\n",
            "Accuratezza fase di Cross Validation con dati di Addestramento/Validazione: 0.971\n",
            "{'criterion': 'gini', 'max_depth': 3, 'min_samples_leaf': 1, 'min_samples_split': 2, 'min_weight_fraction_leaf': 0}\n",
            "Accuratezza con dati di Test: 1.000\n",
            "Risultato sui dati di test:\n",
            "              precision    recall  f1-score   support\n",
            "\n",
            "           0       1.00      1.00      1.00        12\n",
            "           1       1.00      1.00      1.00         6\n",
            "\n",
            "    accuracy                           1.00        18\n",
            "   macro avg       1.00      1.00      1.00        18\n",
            "weighted avg       1.00      1.00      1.00        18\n",
            "\n",
            "[[12  0]\n",
            " [ 0  6]]\n",
            "Accuratezza Test: 100.000\n",
            "Precisione  Test: 100.000\n",
            "Sensitività Test: 100.000\n",
            "Specificità Test: 100.000\n",
            "F1 score    Test: 100.000\n"
          ]
        },
        {
          "output_type": "stream",
          "name": "stderr",
          "text": [
            "[Parallel(n_jobs=-1)]: Done 1065 tasks      | elapsed:    1.4s\n",
            "[Parallel(n_jobs=-1)]: Done 1077 out of 1080 | elapsed:    1.4s remaining:    0.0s\n",
            "[Parallel(n_jobs=-1)]: Done 1080 out of 1080 | elapsed:    1.4s finished\n"
          ]
        }
      ]
    },
    {
      "cell_type": "code",
      "metadata": {
        "colab": {
          "base_uri": "https://localhost:8080/"
        },
        "id": "1dB4XN-8mmJu",
        "outputId": "b6994fef-ec14-4a8f-cb50-35d1e2806286"
      },
      "source": [
        "tuning_SVM(4,5)"
      ],
      "execution_count": null,
      "outputs": [
        {
          "output_type": "stream",
          "name": "stdout",
          "text": [
            "Fitting 5 folds for each of 2 candidates, totalling 10 fits\n",
            "Accuratezza fase di Cross Validation con dati di Addestramento/Validazione: 0.971\n",
            "{'kernel': 'linear'}\n",
            "Accuratezza con dati di Test: 1.000\n",
            "Risultato sui dati di test:\n",
            "              precision    recall  f1-score   support\n",
            "\n",
            "           0       1.00      1.00      1.00        12\n",
            "           1       1.00      1.00      1.00         6\n",
            "\n",
            "    accuracy                           1.00        18\n",
            "   macro avg       1.00      1.00      1.00        18\n",
            "weighted avg       1.00      1.00      1.00        18\n",
            "\n",
            "[[12  0]\n",
            " [ 0  6]]\n",
            "Accuratezza Test: 100.000\n",
            "Precisione  Test: 100.000\n",
            "Sensitività Test: 100.000\n",
            "Specificità Test: 100.000\n",
            "F1 score    Test: 100.000\n"
          ]
        },
        {
          "output_type": "stream",
          "name": "stderr",
          "text": [
            "/usr/local/lib/python3.7/dist-packages/sklearn/model_selection/_search.py:281: UserWarning:\n",
            "\n",
            "The total space of parameters 2 is smaller than n_iter=20. Running 2 iterations. For exhaustive searches, use GridSearchCV.\n",
            "\n",
            "[Parallel(n_jobs=-1)]: Using backend LokyBackend with 2 concurrent workers.\n",
            "[Parallel(n_jobs=-1)]: Done  10 out of  10 | elapsed:    0.0s finished\n",
            "/usr/local/lib/python3.7/dist-packages/sklearn/utils/validation.py:760: DataConversionWarning:\n",
            "\n",
            "A column-vector y was passed when a 1d array was expected. Please change the shape of y to (n_samples, ), for example using ravel().\n",
            "\n"
          ]
        }
      ]
    },
    {
      "cell_type": "code",
      "metadata": {
        "id": "9Va2C5FrmmJu"
      },
      "source": [
        "#tuning_albero_decisione_CV(4,10)"
      ],
      "execution_count": null,
      "outputs": []
    },
    {
      "cell_type": "code",
      "metadata": {
        "id": "4Al_y5L-mmJv"
      },
      "source": [
        "#tuning_SVM_CV(4,10)"
      ],
      "execution_count": null,
      "outputs": []
    },
    {
      "cell_type": "code",
      "metadata": {
        "id": "dOfA6ncbmmJv"
      },
      "source": [
        "#validazione_incrociata_kfold(4,10,1)"
      ],
      "execution_count": null,
      "outputs": []
    },
    {
      "cell_type": "code",
      "metadata": {
        "id": "cOC-r9z4mmJv"
      },
      "source": [
        "#validazione_incrociata_kfold(4,10,2)"
      ],
      "execution_count": null,
      "outputs": []
    },
    {
      "cell_type": "code",
      "metadata": {
        "id": "lbFbYkhPmmJv"
      },
      "source": [
        "#validazione_incrociata_score(4,10,1)"
      ],
      "execution_count": null,
      "outputs": []
    },
    {
      "cell_type": "code",
      "metadata": {
        "id": "fjOifRjHmmJw"
      },
      "source": [
        "#validazione_incrociata_score(4,10,2)"
      ],
      "execution_count": null,
      "outputs": []
    },
    {
      "cell_type": "code",
      "metadata": {
        "id": "IkCfWwM0mmJw"
      },
      "source": [
        "#prova_pipeline(4,2)"
      ],
      "execution_count": null,
      "outputs": []
    },
    {
      "cell_type": "code",
      "metadata": {
        "id": "VIvM2DFImmJw"
      },
      "source": [
        "#exec_trad(4,1)"
      ],
      "execution_count": null,
      "outputs": []
    },
    {
      "cell_type": "code",
      "metadata": {
        "id": "YSvg_KrammJw"
      },
      "source": [
        "#exec_trad(4,2)"
      ],
      "execution_count": null,
      "outputs": []
    },
    {
      "cell_type": "code",
      "metadata": {
        "colab": {
          "base_uri": "https://localhost:8080/"
        },
        "id": "JK9G7Oj-mmJx",
        "outputId": "67c23f81-dc92-4370-d1b9-2313d4473759"
      },
      "source": [
        "tuning_KNN(4,5)"
      ],
      "execution_count": null,
      "outputs": [
        {
          "output_type": "stream",
          "name": "stderr",
          "text": [
            "[Parallel(n_jobs=-1)]: Using backend LokyBackend with 2 concurrent workers.\n"
          ]
        },
        {
          "output_type": "stream",
          "name": "stdout",
          "text": [
            "Fitting 5 folds for each of 16 candidates, totalling 80 fits\n",
            "Accuratezza fase di Cross Validation con dati di Addestramento/Validazione: 1.000\n",
            "{'algorithm': 'auto', 'n_neighbors': 5, 'weights': 'uniform'}\n",
            "Accuratezza con dati di Test: 1.000\n",
            "Risultato sui dati di test:\n",
            "              precision    recall  f1-score   support\n",
            "\n",
            "           0       1.00      1.00      1.00        12\n",
            "           1       1.00      1.00      1.00         6\n",
            "\n",
            "    accuracy                           1.00        18\n",
            "   macro avg       1.00      1.00      1.00        18\n",
            "weighted avg       1.00      1.00      1.00        18\n",
            "\n",
            "[[12  0]\n",
            " [ 0  6]]\n",
            "Accuratezza Test: 100.000\n",
            "Precisione  Test: 100.000\n",
            "Sensitività Test: 100.000\n",
            "Specificità Test: 100.000\n",
            "F1 score    Test: 100.000\n"
          ]
        },
        {
          "output_type": "stream",
          "name": "stderr",
          "text": [
            "[Parallel(n_jobs=-1)]: Done  80 out of  80 | elapsed:    0.3s finished\n",
            "/usr/local/lib/python3.7/dist-packages/sklearn/model_selection/_search.py:739: DataConversionWarning:\n",
            "\n",
            "A column-vector y was passed when a 1d array was expected. Please change the shape of y to (n_samples, ), for example using ravel().\n",
            "\n"
          ]
        }
      ]
    },
    {
      "cell_type": "code",
      "metadata": {
        "id": "_cFFSAVummJx"
      },
      "source": [
        "#tuning_MP(4,10)"
      ],
      "execution_count": null,
      "outputs": []
    },
    {
      "cell_type": "code",
      "metadata": {
        "id": "ppKpM_WSmmJx"
      },
      "source": [
        "#tuning_LR(4,5)"
      ],
      "execution_count": null,
      "outputs": []
    },
    {
      "cell_type": "code",
      "metadata": {
        "id": "NEccFgiFmmJx"
      },
      "source": [
        "#tuning_foresta(4,10)"
      ],
      "execution_count": null,
      "outputs": []
    },
    {
      "cell_type": "markdown",
      "metadata": {
        "id": "dgVVBBqlmmJy"
      },
      "source": [
        "<br>\n",
        "<br>"
      ]
    },
    {
      "cell_type": "code",
      "metadata": {
        "id": "crkuQgqEmmJy"
      },
      "source": [
        ""
      ],
      "execution_count": null,
      "outputs": []
    },
    {
      "cell_type": "code",
      "metadata": {
        "id": "Z0_yr_CTmmJy"
      },
      "source": [
        ""
      ],
      "execution_count": null,
      "outputs": []
    },
    {
      "cell_type": "code",
      "metadata": {
        "id": "Zt6sHVlah1LB"
      },
      "source": [
        ""
      ],
      "execution_count": null,
      "outputs": []
    },
    {
      "cell_type": "code",
      "metadata": {
        "id": "746-RYMWh1LB"
      },
      "source": [
        ""
      ],
      "execution_count": null,
      "outputs": []
    },
    {
      "cell_type": "code",
      "metadata": {
        "id": "MIMbj8E4h1LB"
      },
      "source": [
        ""
      ],
      "execution_count": null,
      "outputs": []
    },
    {
      "cell_type": "code",
      "metadata": {
        "id": "QbgAXGtRh1LC"
      },
      "source": [
        ""
      ],
      "execution_count": null,
      "outputs": []
    },
    {
      "cell_type": "code",
      "metadata": {
        "id": "2F72RxAuh1LC"
      },
      "source": [
        ""
      ],
      "execution_count": null,
      "outputs": []
    },
    {
      "cell_type": "code",
      "metadata": {
        "id": "LxTfgKZIh1LC"
      },
      "source": [
        ""
      ],
      "execution_count": null,
      "outputs": []
    },
    {
      "cell_type": "code",
      "metadata": {
        "id": "DJ9ajyIWh1LC"
      },
      "source": [
        ""
      ],
      "execution_count": null,
      "outputs": []
    },
    {
      "cell_type": "code",
      "metadata": {
        "id": "xhDO3AlOh1LC"
      },
      "source": [
        ""
      ],
      "execution_count": null,
      "outputs": []
    },
    {
      "cell_type": "code",
      "metadata": {
        "id": "wkiR8qgHh1LD"
      },
      "source": [
        ""
      ],
      "execution_count": null,
      "outputs": []
    },
    {
      "cell_type": "code",
      "metadata": {
        "id": "zyTmu0kph1LD"
      },
      "source": [
        ""
      ],
      "execution_count": null,
      "outputs": []
    },
    {
      "cell_type": "code",
      "metadata": {
        "id": "taBJ9ZHsh1LD"
      },
      "source": [
        ""
      ],
      "execution_count": null,
      "outputs": []
    },
    {
      "cell_type": "code",
      "metadata": {
        "id": "5M3bQuwbh1LD"
      },
      "source": [
        ""
      ],
      "execution_count": null,
      "outputs": []
    },
    {
      "cell_type": "code",
      "metadata": {
        "id": "A2SUxsKGh1LD"
      },
      "source": [
        ""
      ],
      "execution_count": null,
      "outputs": []
    },
    {
      "cell_type": "code",
      "metadata": {
        "id": "pBJPIMBhh1LE"
      },
      "source": [
        ""
      ],
      "execution_count": null,
      "outputs": []
    },
    {
      "cell_type": "code",
      "metadata": {
        "id": "ZFSRKyzdh1LE"
      },
      "source": [
        ""
      ],
      "execution_count": null,
      "outputs": []
    },
    {
      "cell_type": "code",
      "metadata": {
        "id": "Ril9waA5h1LE"
      },
      "source": [
        ""
      ],
      "execution_count": null,
      "outputs": []
    },
    {
      "cell_type": "code",
      "metadata": {
        "id": "AHABECJdh1LE"
      },
      "source": [
        ""
      ],
      "execution_count": null,
      "outputs": []
    },
    {
      "cell_type": "code",
      "metadata": {
        "id": "Ug6LbemzcSZk"
      },
      "source": [
        ""
      ],
      "execution_count": null,
      "outputs": []
    },
    {
      "cell_type": "code",
      "metadata": {
        "id": "5wIM3PxWcSZk"
      },
      "source": [
        ""
      ],
      "execution_count": null,
      "outputs": []
    },
    {
      "cell_type": "code",
      "metadata": {
        "id": "lptmHhEpcSZl"
      },
      "source": [
        ""
      ],
      "execution_count": null,
      "outputs": []
    },
    {
      "cell_type": "code",
      "metadata": {
        "id": "k_m79zqccSZl"
      },
      "source": [
        ""
      ],
      "execution_count": null,
      "outputs": []
    },
    {
      "cell_type": "code",
      "metadata": {
        "id": "sC7dj_eHcSZl"
      },
      "source": [
        ""
      ],
      "execution_count": null,
      "outputs": []
    },
    {
      "cell_type": "code",
      "metadata": {
        "id": "mSZP5nHCcSZl"
      },
      "source": [
        ""
      ],
      "execution_count": null,
      "outputs": []
    },
    {
      "cell_type": "code",
      "metadata": {
        "id": "pFFsI1gBcSZl"
      },
      "source": [
        ""
      ],
      "execution_count": null,
      "outputs": []
    },
    {
      "cell_type": "code",
      "metadata": {
        "id": "v1sAPB6TcSZl"
      },
      "source": [
        ""
      ],
      "execution_count": null,
      "outputs": []
    },
    {
      "cell_type": "code",
      "metadata": {
        "id": "nWoQtNaCWXxe"
      },
      "source": [
        ""
      ],
      "execution_count": null,
      "outputs": []
    },
    {
      "cell_type": "code",
      "metadata": {
        "id": "kimRrAkAVuOJ"
      },
      "source": [
        ""
      ],
      "execution_count": null,
      "outputs": []
    },
    {
      "cell_type": "code",
      "metadata": {
        "id": "yVfcsM6pVuOJ"
      },
      "source": [
        ""
      ],
      "execution_count": null,
      "outputs": []
    },
    {
      "cell_type": "code",
      "metadata": {
        "id": "0dTQlqXpHY-O"
      },
      "source": [
        ""
      ],
      "execution_count": null,
      "outputs": []
    },
    {
      "cell_type": "code",
      "metadata": {
        "id": "oTMfCn1qHY-o"
      },
      "source": [
        ""
      ],
      "execution_count": null,
      "outputs": []
    },
    {
      "cell_type": "code",
      "metadata": {
        "id": "I1L3IPMhVr4m"
      },
      "source": [
        ""
      ],
      "execution_count": null,
      "outputs": []
    },
    {
      "cell_type": "code",
      "metadata": {
        "id": "w-wLEsVkWROt"
      },
      "source": [
        ""
      ],
      "execution_count": null,
      "outputs": []
    },
    {
      "cell_type": "code",
      "metadata": {
        "id": "hjYs_dniWWNl"
      },
      "source": [
        ""
      ],
      "execution_count": null,
      "outputs": []
    },
    {
      "cell_type": "code",
      "metadata": {
        "id": "Q2feIOZMcRCY"
      },
      "source": [
        ""
      ],
      "execution_count": null,
      "outputs": []
    },
    {
      "cell_type": "code",
      "metadata": {
        "id": "COTqaONtjXs0"
      },
      "source": [
        ""
      ],
      "execution_count": null,
      "outputs": []
    },
    {
      "cell_type": "code",
      "metadata": {
        "id": "x1WuHuh3hzSI"
      },
      "source": [
        ""
      ],
      "execution_count": null,
      "outputs": []
    },
    {
      "cell_type": "code",
      "metadata": {
        "id": "cT5oRQ-ymmJ6"
      },
      "source": [
        ""
      ],
      "execution_count": null,
      "outputs": []
    },
    {
      "cell_type": "code",
      "metadata": {
        "id": "mRRutOMXjreM"
      },
      "source": [
        ""
      ],
      "execution_count": null,
      "outputs": []
    }
  ]
}