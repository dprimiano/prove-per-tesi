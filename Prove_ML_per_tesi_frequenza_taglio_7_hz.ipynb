{
  "nbformat": 4,
  "nbformat_minor": 0,
  "metadata": {
    "anaconda-cloud": {},
    "colab": {
      "name": "Prove_ML_per_tesi frequenza taglio 7 hz.ipynb",
      "provenance": [],
      "collapsed_sections": [
        "jafZTpCMyCkT",
        "ZIu4zqksyKjd",
        "bXiBZ_UlSmOS",
        "Rj_mdFmkTzHT",
        "UoDDOHRaUGFb",
        "rkM6EDsmUxnO",
        "5DXJhR3ZWhRn"
      ],
      "toc_visible": true
    },
    "kernelspec": {
      "display_name": "Python 3",
      "language": "python",
      "name": "python3"
    },
    "language_info": {
      "codemirror_mode": {
        "name": "ipython",
        "version": 3
      },
      "file_extension": ".py",
      "mimetype": "text/x-python",
      "name": "python",
      "nbconvert_exporter": "python",
      "pygments_lexer": "ipython3",
      "version": "3.8.3"
    },
    "toc": {
      "nav_menu": {},
      "number_sections": true,
      "sideBar": true,
      "skip_h1_title": false,
      "title_cell": "Table of Contents",
      "title_sidebar": "Contents",
      "toc_cell": false,
      "toc_position": {},
      "toc_section_display": true,
      "toc_window_display": false
    }
  },
  "cells": [
    {
      "cell_type": "markdown",
      "metadata": {
        "id": "qeoP3Mk-60Zw"
      },
      "source": [
        "# Prove ML per tesi"
      ]
    },
    {
      "cell_type": "code",
      "metadata": {
        "id": "X4ReBTXfZG4-"
      },
      "source": [
        ""
      ],
      "execution_count": null,
      "outputs": []
    },
    {
      "cell_type": "code",
      "metadata": {
        "colab": {
          "base_uri": "https://localhost:8080/"
        },
        "id": "oFoXnoQKZJ3G",
        "outputId": "a3100cde-0bda-47d9-e976-b0c807700d26"
      },
      "source": [
        "from google.colab import drive\n",
        "drive.mount('/content/drive')"
      ],
      "execution_count": null,
      "outputs": [
        {
          "output_type": "stream",
          "name": "stdout",
          "text": [
            "Mounted at /content/drive\n"
          ]
        }
      ]
    },
    {
      "cell_type": "markdown",
      "metadata": {
        "id": "h7E124NO7lW2"
      },
      "source": [
        "Si parte dal precedente progetto \"Elaborazione del segnale EEG con metodi supervisionati per la classificazione dei pazienti di Alzheimer\". Si individuano alcuni dei classificaori utilizzati, per eseguerire k-fold cross validation unita alla greadsearchCV per individuare gli iperparametri ottimali con i quali addestrare i classificatori e alla fine eseguire i modelli."
      ]
    },
    {
      "cell_type": "markdown",
      "metadata": {
        "id": "UM3STYYL9gNY"
      },
      "source": [
        "Si esegue l'import delle principali librerie utilizzate per il progetto di machine learning"
      ]
    },
    {
      "cell_type": "code",
      "metadata": {
        "id": "NyX9DTjDhrI5"
      },
      "source": [
        "import numpy as np\n",
        "import scipy as sp\n",
        "import matplotlib as mpl\n",
        "import seaborn as sns\n",
        "import matplotlib.pyplot as plt\n",
        "import plotly.express as px\n",
        "import pandas as pd\n",
        "from scipy.fftpack import fft, ifft, fftfreq,rfft\n",
        "from sklearn import tree\n",
        "from sklearn.model_selection import train_test_split\n",
        "from sklearn.tree import DecisionTreeClassifier\n",
        "from sklearn.metrics import accuracy_score\n",
        "from sklearn.metrics import classification_report, confusion_matrix\n",
        "from sklearn.metrics import precision_score, \\\n",
        "    recall_score, \\\n",
        "    accuracy_score, f1_score\n",
        "\n",
        "# Lets import some modules for basic computation\n",
        "import time\n",
        "\n",
        "\n",
        "import pickle\n",
        "\n",
        "# Some modules for plotting and visualizing\n",
        "import seaborn as sns\n",
        "import matplotlib.pyplot as plt\n",
        "from IPython.display import display\n",
        "\n",
        "# And some Machine Learning modules from scikit-learn\n",
        "from sklearn.decomposition import PCA\n",
        "from sklearn.preprocessing import StandardScaler, LabelEncoder\n",
        "\n",
        "from sklearn.linear_model import LogisticRegression\n",
        "from sklearn.svm import SVC\n",
        "from sklearn.neighbors import KNeighborsClassifier\n",
        "from sklearn import tree\n",
        "from sklearn.neural_network import MLPClassifier\n",
        "from sklearn.neighbors import KNeighborsClassifier\n",
        "from sklearn.ensemble import GradientBoostingClassifier\n",
        "from sklearn.gaussian_process.kernels import RBF\n",
        "from sklearn.ensemble import RandomForestClassifier\n",
        "from sklearn.naive_bayes import GaussianNB\n",
        "\n",
        "from sklearn.metrics import accuracy_score\n",
        "from sklearn.preprocessing import StandardScaler\n",
        "\n",
        "from sklearn.decomposition import PCA\n",
        "from sklearn.pipeline import make_pipeline\n",
        "from sklearn.model_selection import GridSearchCV\n",
        "from sklearn.model_selection import RandomizedSearchCV\n",
        "from sklearn.model_selection import cross_val_score\n",
        "from sklearn.ensemble import RandomForestClassifier\n",
        "from sklearn.model_selection import GroupKFold\n",
        "\n",
        "from sklearn.discriminant_analysis import LinearDiscriminantAnalysis as LDA\n",
        "from sklearn.decomposition import KernelPCA"
      ],
      "execution_count": null,
      "outputs": []
    },
    {
      "cell_type": "code",
      "metadata": {
        "id": "6wyL4LnwZ9IO"
      },
      "source": [
        ""
      ],
      "execution_count": null,
      "outputs": []
    },
    {
      "cell_type": "markdown",
      "metadata": {
        "id": "UqMP_dBn90fs"
      },
      "source": [
        "## Principali funzioni di utilità"
      ]
    },
    {
      "cell_type": "code",
      "metadata": {
        "id": "qsHn2py9-Sa8"
      },
      "source": [
        "def tuning_albero_decisione(caso,numerocv):\n",
        "    ncv=numerocv\n",
        "    if caso==1:\n",
        "       X_traina=X_train_caso1\n",
        "       y_traina=y_train_caso1\n",
        "       X_testa=X_test_caso1\n",
        "       y_testa=y_test_caso1\n",
        "    if caso==2:\n",
        "       X_traina=X_train_caso2\n",
        "       y_traina=y_train_caso2\n",
        "       X_testa=X_test_caso2\n",
        "       y_testa=y_test_caso2\n",
        "    if caso==3:\n",
        "       X_traina=X_train_caso3\n",
        "       y_traina=y_train_caso3  \n",
        "       X_testa=X_test_caso3\n",
        "       y_testa=y_test_caso3   \n",
        "    if caso==4:\n",
        "       X_traina=X_train_caso4\n",
        "       y_traina=y_train_caso4   \n",
        "       X_testa=X_test_caso4\n",
        "       y_testa=y_test_caso4     \n",
        "     \n",
        "    print (\"stimatore utilizzato - DecisionTreeClassifier\") \n",
        "    parametri1 = {\"criterion\":[\"gini\",\"entropy\"],\n",
        "              \"max_depth\": [3,4,5,10]}\n",
        "\n",
        "    parametri = {\"criterion\":[\"gini\",\"entropy\"],\n",
        "              \"max_depth\": [3,4,5,10],\n",
        "              \"min_samples_leaf\":[1,2,3],\n",
        "              \"min_samples_split\":[1,2,3],\n",
        "              \"min_weight_fraction_leaf\":[0,1,2]\n",
        "              }\n",
        "\n",
        "    cercap = GridSearchCV(estimator=DecisionTreeClassifier(), \n",
        "                  param_grid=parametri, \n",
        "                  scoring='accuracy', \n",
        "                  refit=True,\n",
        "                  cv=ncv,\n",
        "                  verbose=1,\n",
        "                  n_jobs=-1)\n",
        "    gs = cercap.fit(X_traina, y_traina)\n",
        "    print('Accuratezza fase di Cross Validation con dati di Addestramento/Validazione: %.3f' % gs.best_score_)\n",
        "    print(gs.best_params_)\n",
        "\n",
        "\n",
        "    clf = gs.best_estimator_\n",
        "    # clf.fit(X_train, y_train) \n",
        "    \n",
        "  \n",
        "    print('Accuratezza con dati di Test: %.3f' % clf.score(X_testa, y_testa))\n",
        "\n",
        "    y_true, y_pred = y_testa , clf.predict(X_testa)\n",
        "    \n",
        "    print('Risultato sui dati di test:')\n",
        "    print(classification_report(y_true, y_pred))\n",
        "\n",
        "    target_names = ['Positivo','Negativo']\n",
        "    print(confusion_matrix(y_testa,y_pred))\n",
        "    matrice=confusion_matrix(y_testa,y_pred)\n",
        "        #print(y_test,y_pred)\n",
        "    tp=matrice[0,0]\n",
        "    fn=matrice[0,1]\n",
        "    fp=matrice[1,0]\n",
        "    tn=matrice[1,1]\n",
        "         \n",
        "        #print(tp,fp,fn,tn)\n",
        "    accurancy=int(((tp+tn)/(tn+fp+fn+tp))*100)\n",
        "    precision=int((tp/(tp+fp))*100)\n",
        "    sensitivity=int((tp/(tp+fn))*100)\n",
        "    specificity=int((tn/(tn+fp))*100)\n",
        "    if (precision== 0 and sensitivity==0):\n",
        "        f1score=0\n",
        "    else:\n",
        "        f1score=int(2*((precision * sensitivity)/(precision + sensitivity)))\n",
        "\n",
        "    print('Accuratezza Test: %.3f' % accurancy)  \n",
        "    print('Precisione  Test: %.3f' % precision)\n",
        "    print('Sensitività Test: %.3f' % sensitivity)\n",
        "    print('Specificità Test: %.3f' % specificity)\n",
        "    print('F1 score    Test: %.3f' % f1score)\n",
        "    #print(classification_report(y_test,y_pred,target_names=target_names))"
      ],
      "execution_count": null,
      "outputs": []
    },
    {
      "cell_type": "code",
      "metadata": {
        "id": "UsJEZFSr-SzM"
      },
      "source": [
        "def tuning_albero_decisione_CV(caso,numerocv):\n",
        "    ncv=numerocv\n",
        "    if caso==1:\n",
        "       X_traina=X_train_caso1\n",
        "       y_traina=y_train_caso1\n",
        "       X_testa=X_test_caso1\n",
        "       y_testa=y_test_caso1\n",
        "    if caso==2:\n",
        "       X_traina=X_train_caso2\n",
        "       y_traina=y_train_caso2\n",
        "       X_testa=X_test_caso2\n",
        "       y_testa=y_test_caso2\n",
        "    if caso==3:\n",
        "       X_traina=X_train_caso3\n",
        "       y_traina=y_train_caso3  \n",
        "       X_testa=X_test_caso3\n",
        "       y_testa=y_test_caso3   \n",
        "    if caso==4:\n",
        "       X_traina=X_train_caso4\n",
        "       y_traina=y_train_caso4   \n",
        "       X_testa=X_test_caso4\n",
        "       y_testa=y_test_caso4 \n",
        "\n",
        "    parametri1 = {\"criterion\":[\"gini\",\"entropy\"],\n",
        "              \"max_depth\": [3,4,5,10]}\n",
        "\n",
        "    parametri = {\"criterion\":[\"gini\",\"entropy\"],\n",
        "              \"max_depth\": [3,4,5,10],\n",
        "              \"min_samples_leaf\":[1,2,3],\n",
        "              \"min_samples_split\":[1,2,3],\n",
        "              \"min_weight_fraction_leaf\":[0,1,2]}\n",
        "\n",
        "    cercap = GridSearchCV(estimator=DecisionTreeClassifier(random_state=0), \n",
        "                  param_grid=parametri, \n",
        "                  scoring='accuracy', \n",
        "                  refit=True,\n",
        "                  cv=2,\n",
        "                  verbose=1,\n",
        "                  n_jobs=-1)\n",
        "    gs = cercap.fit(X_traina, y_traina)\n",
        "    print(gs.best_score_)\n",
        "    print(gs.best_params_)\n",
        "\n",
        "\n",
        "    clf = gs.best_estimator_\n",
        "    # clf.fit(X_train, y_train) \n",
        "         \n",
        "    #questa parte non viene eseguita in quanto  è stato già eseguita avendo imnpostato refit=True.\n",
        "   \n",
        "\n",
        "    scores = cross_val_score(gs, X_traina, y_traina, \n",
        "                         scoring='accuracy', cv=ncv)\n",
        "    print('CV accuracy: %.3f +/- %.3f' % (np.mean(scores),\n",
        "                                      np.std(scores)))\n",
        "\n",
        "    print('Test accuracy: %.3f' % clf.score(X_testa, y_testa))"
      ],
      "execution_count": null,
      "outputs": []
    },
    {
      "cell_type": "code",
      "metadata": {
        "id": "QhjwAbFn-TZD"
      },
      "source": [
        ""
      ],
      "execution_count": null,
      "outputs": []
    },
    {
      "cell_type": "code",
      "metadata": {
        "id": "Y5SUVDLTG8XV"
      },
      "source": [
        "def tuning_SVM(caso,numerocv):\n",
        "    ncv=numerocv\n",
        "    if caso==1:\n",
        "       X_trains=X_train_caso1\n",
        "       y_trains=y_train_caso1\n",
        "       X_tests=X_test_caso1\n",
        "       y_tests=y_test_caso1\n",
        "    if caso==2:\n",
        "       X_trains=X_train_caso2\n",
        "       y_trains=y_train_caso2\n",
        "       X_tests=X_test_caso2\n",
        "       y_tests=y_test_caso2\n",
        "    if caso==3:\n",
        "       X_trains=X_train_caso3\n",
        "       y_trains=y_train_caso3  \n",
        "       X_tests=X_test_caso3\n",
        "       y_tests=y_test_caso3   \n",
        "    if caso==4:\n",
        "       X_trains=X_train_caso4\n",
        "       y_trains=y_train_caso4   \n",
        "       X_tests=X_test_caso4\n",
        "       y_tests=y_test_caso4     \n",
        "\n",
        "    print (\"stimatore utilizzato - Support vector machine (SVC)\") \n",
        "    parametri = {'C': [0.0001, 0.001, 0.01, 0.1, 1.0, 10.0, 100.0, 1000.0], \n",
        "               'gamma': [0.0001, 0.001, 0.01, 0.1, 1.0, 10.0, 100.0, 1000.0], \n",
        "               'kernel': ['linear','rbf']}\n",
        "\n",
        "    parametri1 = {'kernel': ['linear','rbf']}\n",
        "\n",
        "    #cercap = GridSearchCV(estimator=SVC(), \n",
        "    #              param_grid=parametri, \n",
        "    #              scoring='accuracy', \n",
        "    #              refit=True,\n",
        "    #              cv=ncv,\n",
        "    #              verbose=1,\n",
        "    #              n_jobs=-1)\n",
        "    cercap = RandomizedSearchCV(estimator=SVC(), \n",
        "                  param_distributions=parametri1, \n",
        "                  scoring='accuracy', \n",
        "                  refit=True,\n",
        "                  cv=ncv,\n",
        "                  verbose=1,\n",
        "                  n_iter=20,\n",
        "                  n_jobs=-1)\n",
        "    gs = cercap.fit(X_trains, y_trains)\n",
        "    print('Accuratezza fase di Cross Validation con dati di Addestramento/Validazione: %.3f' % gs.best_score_)\n",
        "    print(gs.best_params_)\n",
        "\n",
        "\n",
        "    clf = gs.best_estimator_\n",
        "    # clf.fit(X_train, y_train) \n",
        "    # note that we do not need to refit the classifier\n",
        "    # because this is done automatically via refit=True.\n",
        "    print('Accuratezza con dati di Test: %.3f' % clf.score(X_tests, y_tests))\n",
        "\n",
        "    y_true, y_pred = y_tests , clf.predict(X_tests)\n",
        "    \n",
        "    print('Risultato sui dati di test:')\n",
        "    print(classification_report(y_true, y_pred))\n",
        "\n",
        "    target_names = ['Positivo','Negativo']\n",
        "    print(confusion_matrix(y_tests,y_pred))\n",
        "    matrice=confusion_matrix(y_tests,y_pred)\n",
        "        #print(y_test,y_pred)\n",
        "    tp=matrice[0,0]\n",
        "    fn=matrice[0,1]\n",
        "    fp=matrice[1,0]\n",
        "    tn=matrice[1,1]\n",
        "         \n",
        "        #print(tp,fp,fn,tn)\n",
        "    accurancy=int(((tp+tn)/(tn+fp+fn+tp))*100)\n",
        "    precision=int((tp/(tp+fp))*100)\n",
        "    sensitivity=int((tp/(tp+fn))*100)\n",
        "    specificity=int((tn/(tn+fp))*100)\n",
        "    if (precision== 0 and sensitivity==0):\n",
        "        f1score=0\n",
        "    else:\n",
        "        f1score=int(2*((precision * sensitivity)/(precision + sensitivity)))\n",
        "\n",
        "    print('Accuratezza Test: %.3f' % accurancy)  \n",
        "    print('Precisione  Test: %.3f' % precision)\n",
        "    print('Sensitività Test: %.3f' % sensitivity)\n",
        "    print('Specificità Test: %.3f' % specificity)\n",
        "    print('F1 score    Test: %.3f' % f1score)"
      ],
      "execution_count": null,
      "outputs": []
    },
    {
      "cell_type": "code",
      "metadata": {
        "id": "R9UH718mOpXZ"
      },
      "source": [
        "def tuning_SVM_1(caso,numerocv):\n",
        "    ncv=numerocv\n",
        "    if caso==1:\n",
        "       X_trains=X_train_caso1\n",
        "       y_trains=y_train_caso1\n",
        "       X_tests=X_test_caso1\n",
        "       y_tests=y_test_caso1\n",
        "    if caso==2:\n",
        "       X_trains=X_train_caso2\n",
        "       y_trains=y_train_caso2\n",
        "       X_tests=X_test_caso2\n",
        "       y_tests=y_test_caso2\n",
        "    if caso==3:\n",
        "       X_trains=X_train_caso3\n",
        "       y_trains=y_train_caso3  \n",
        "       X_tests=X_test_caso3\n",
        "       y_tests=y_test_caso3   \n",
        "    if caso==4:\n",
        "       X_trains=X_train_caso4\n",
        "       y_trains=y_train_caso4   \n",
        "       X_tests=X_test_caso4\n",
        "       y_tests=y_test_caso4\n",
        "    if caso==5:\n",
        "       X_trains=X_train_caso5\n",
        "       y_trains=y_train_caso5   \n",
        "       X_tests=X_test_caso5\n",
        "       y_tests=y_test_caso5       \n",
        "\n",
        "    print (\"stimatore utilizzato - Support vector machine (SVC)\")\n",
        "    parametri = {'C': [0.0001, 0.001, 0.01, 0.1, 1.0, 10.0, 100.0, 1000.0], \n",
        "               'gamma': [0.0001, 0.001, 0.01, 0.1, 1.0, 10.0, 100.0, 1000.0], \n",
        "               'kernel': ['linear','rbf']}\n",
        "\n",
        "    parametri1 = {'C': [1000.0], \n",
        "               'gamma': [0.001], \n",
        "               'kernel': ['rbf']}\n",
        "\n",
        "    cercap = GridSearchCV(estimator=SVC(), \n",
        "                  param_grid=parametri, \n",
        "                  scoring='accuracy', \n",
        "                  refit=True,\n",
        "                  cv=ncv,\n",
        "                  verbose=1,\n",
        "                  n_jobs=-1)\n",
        "    #cercap = RandomizedSearchCV(estimator=SVC(), \n",
        "    #              param_distributions=parametri, \n",
        "    #              scoring='accuracy', \n",
        "    #              refit=True,\n",
        "    #              cv=ncv,\n",
        "    #              verbose=1,\n",
        "    #              n_iter=20,\n",
        "    #              n_jobs=-1)\n",
        "    gs = cercap.fit(X_trains, y_trains)\n",
        "    print('Accuratezza fase di Cross Validation con dati di Addestramento/Validazione: %.3f' % gs.best_score_)\n",
        "    print(gs.best_params_)\n",
        "\n",
        "\n",
        "    clf = gs.best_estimator_\n",
        "    # clf.fit(X_train, y_train) \n",
        "    # note that we do not need to refit the classifier\n",
        "    # because this is done automatically via refit=True.\n",
        "    print('Accuratezza con dati di Test: %.3f' % clf.score(X_tests, y_tests))\n",
        "\n",
        "    y_true, y_pred = y_tests , clf.predict(X_tests)\n",
        "    \n",
        "    print('Risultato sui dati di test:')\n",
        "    print(classification_report(y_true, y_pred))\n",
        "\n",
        "    target_names = ['Positivo','Negativo']\n",
        "    print(confusion_matrix(y_tests,y_pred))\n",
        "    matrice=confusion_matrix(y_tests,y_pred)\n",
        "        #print(y_test,y_pred)\n",
        "    if caso !=5:\n",
        "        tp=matrice[0,0]\n",
        "        fn=matrice[0,1]\n",
        "        fp=matrice[1,0]\n",
        "        tn=matrice[1,1]\n",
        "            \n",
        "            #print(tp,fp,fn,tn)\n",
        "        accurancy=int(((tp+tn)/(tn+fp+fn+tp))*100)\n",
        "        precision=int((tp/(tp+fp))*100)\n",
        "        sensitivity=int((tp/(tp+fn))*100)\n",
        "        specificity=int((tn/(tn+fp))*100)\n",
        "        if (precision== 0 and sensitivity==0):\n",
        "            f1score=0\n",
        "        else:\n",
        "            f1score=int(2*((precision * sensitivity)/(precision + sensitivity)))\n",
        "\n",
        "        print('Accuratezza Test: %.3f' % accurancy)  \n",
        "        print('Precisione  Test: %.3f' % precision)\n",
        "        print('Sensitività Test: %.3f' % sensitivity)\n",
        "        print('Specificità Test: %.3f' % specificity)\n",
        "        print('F1 score    Test: %.3f' % f1score)"
      ],
      "execution_count": null,
      "outputs": []
    },
    {
      "cell_type": "code",
      "metadata": {
        "id": "ED-M4IyNTZiY"
      },
      "source": [
        "def tuning_foresta(caso,numerocv):\n",
        "    ncv=numerocv\n",
        "    if caso==1:\n",
        "       X_trainf=X_train_caso1\n",
        "       y_trainf=y_train_caso1\n",
        "       X_testf=X_test_caso1\n",
        "       y_testf=y_test_caso1\n",
        "    if caso==2:\n",
        "       X_trainf=X_train_caso2\n",
        "       y_trainf=y_train_caso2\n",
        "       X_testf=X_test_caso2\n",
        "       y_testf=y_test_caso2\n",
        "    if caso==3:\n",
        "       X_trainf=X_train_caso3\n",
        "       y_trainf=y_train_caso3  \n",
        "       X_testf=X_test_caso3\n",
        "       y_testf=y_test_caso3   \n",
        "    if caso==4:\n",
        "       X_trainf=X_train_caso4\n",
        "       y_trainf=y_train_caso4   \n",
        "       X_testf=X_test_caso4\n",
        "       y_testf=y_test_caso4     \n",
        "\n",
        "     \n",
        "    parametri = {\"max_depth\": [8, 12, None],\n",
        "                 \"max_features\": [1, 3, 10],\n",
        "                 \"min_samples_split\": [1, 3, 10],\n",
        "                 \"min_samples_leaf\": [1, 3, 10],\n",
        "                 \"bootstrap\": [True, False],\n",
        "                 \"criterion\": [\"gini\", \"entropy\"],\n",
        "                 \"n_estimators\": [20, 40, 80]}\n",
        "  \n",
        "\n",
        "    #cercap = GridSearchCV(estimator=RandomForestClassifier(random_state=42), \n",
        "    #              param_grid=parametri, \n",
        "    #              scoring='accuracy', \n",
        "    #              refit=True,\n",
        "    #              cv=ncv,\n",
        "    #              verbose=1,\n",
        "    #              n_jobs=-1)\n",
        "    cercap = RandomizedSearchCV(estimator=RandomForestClassifier(random_state=42), \n",
        "                  param_distributions=parametri, \n",
        "                  scoring='accuracy', \n",
        "                  refit=True,\n",
        "                  cv=ncv,\n",
        "                  verbose=1,\n",
        "                  n_iter=20,\n",
        "                  n_jobs=-1)\n",
        "    \n",
        "   \n",
        "    gs = cercap.fit(X_trainf, y_trainf)\n",
        "    print('Accuratezza fase di Cross Validation con dati di Addestramento/Validazione: %.3f' % gs.best_score_)\n",
        "    print(gs.best_params_)\n",
        "\n",
        "\n",
        "    clf = gs.best_estimator_\n",
        "    # clf.fit(X_train, y_train) \n",
        "    \n",
        "    print('Accuratezza con dati di Test: %.3f' % clf.score(X_testf, y_testf))\n",
        "\n",
        "    y_true, y_pred = y_testf , clf.predict(X_testf)\n",
        "    \n",
        "    print('Risultato sui dati di test:')\n",
        "    print(classification_report(y_true, y_pred))\n",
        "\n",
        "    target_names = ['Positivo','Negativo']\n",
        "    print(confusion_matrix(y_testf,y_pred))\n",
        "    matrice=confusion_matrix(y_testf,y_pred)\n",
        "        #print(y_test,y_pred)\n",
        "    tp=matrice[0,0]\n",
        "    fn=matrice[0,1]\n",
        "    fp=matrice[1,0]\n",
        "    tn=matrice[1,1]\n",
        "         \n",
        "        #print(tp,fp,fn,tn)\n",
        "    accurancy=int(((tp+tn)/(tn+fp+fn+tp))*100)\n",
        "    precision=int((tp/(tp+fp))*100)\n",
        "    sensitivity=int((tp/(tp+fn))*100)\n",
        "    specificity=int((tn/(tn+fp))*100)\n",
        "    if (precision== 0 and sensitivity==0):\n",
        "        f1score=0\n",
        "    else:\n",
        "        f1score=int(2*((precision * sensitivity)/(precision + sensitivity)))\n",
        "\n",
        "    print('Accuratezza Test: %.3f' % accurancy)  \n",
        "    print('Precisione  Test: %.3f' % precision)\n",
        "    print('Sensitività Test: %.3f' % sensitivity)\n",
        "    print('Specificità Test: %.3f' % specificity)\n",
        "    print('F1 score    Test: %.3f' % f1score)\n"
      ],
      "execution_count": null,
      "outputs": []
    },
    {
      "cell_type": "code",
      "metadata": {
        "id": "27v1j31vTecI"
      },
      "source": [
        "def tuning_SVM_CV(caso,numerocv):\n",
        "    ncv=numerocv\n",
        "    if caso==1:\n",
        "       X_train=X_train_caso1\n",
        "       y_train=y_train_caso1\n",
        "       X_test=X_test_caso1\n",
        "       y_test=y_test_caso1\n",
        "    if caso==2:\n",
        "       X_train=X_train_caso2\n",
        "       y_train=y_train_caso2\n",
        "       X_test=X_test_caso2\n",
        "       y_test=y_test_caso2\n",
        "    if caso==3:\n",
        "       X_train=X_train_caso3\n",
        "       y_train=y_train_caso3  \n",
        "       X_test=X_test_caso3\n",
        "       y_test=y_test_caso3   \n",
        "    if caso==4:\n",
        "       X_train=X_train_caso4\n",
        "       y_train=y_train_caso4   \n",
        "       X_test=X_test_caso4\n",
        "       y_test=y_test_caso4 \n",
        "\n",
        "    range_valori = [0.0001, 0.001, 0.01, 0.1, 1.0, 10.0, 100.0, 1000.0]\n",
        "\n",
        "    parametri = {'C': [0.0001, 0.001, 0.01, 0.1, 1.0, 10.0, 100.0, 1000.0], \n",
        "               'gamma': [0.0001, 0.001, 0.01, 0.1, 1.0, 10.0, 100.0, 1000.0], \n",
        "               'kernel': ['linear','rbf']}\n",
        "\n",
        "  \n",
        "\n",
        "    cercap = GridSearchCV(estimator=SVC(), \n",
        "                  param_grid=parametri, \n",
        "                  scoring='accuracy', \n",
        "                  refit=True,\n",
        "                  cv=2,\n",
        "                  verbose=1,\n",
        "                  n_jobs=-1)\n",
        "    \n",
        "    gs = cercap.fit(X_train, y_train)\n",
        "    print(gs.best_score_)\n",
        "    print(gs.best_params_)\n",
        "\n",
        "\n",
        "    clf = gs.best_estimator_\n",
        "    # clf.fit(X_train, y_train) \n",
        "    \n",
        "\n",
        "    scores = cross_val_score(gs, X_train, y_train, \n",
        "                         scoring='accuracy', cv=ncv)\n",
        "    print('Accuratezza fase di Cross Validation con dati di Addestramento/Validazione:: %.3f +/- %.3f' % (np.mean(scores),\n",
        "                                      np.std(scores)))\n",
        "\n",
        "    print('Accuratezza con dati di Test: %.3f' % clf.score(X_test, y_test))"
      ],
      "execution_count": null,
      "outputs": []
    },
    {
      "cell_type": "code",
      "metadata": {
        "id": "3ToL3lGmTaDl"
      },
      "source": [
        "def tuning_KNN(caso,numerocv):\n",
        "    ncv=numerocv\n",
        "\n",
        "    if caso==1:\n",
        "       X_traink=X_train_caso1\n",
        "       y_traink=y_train_caso1\n",
        "       X_testk=X_test_caso1\n",
        "       y_testk=y_test_caso1\n",
        "    if caso==2:\n",
        "       X_traink=X_train_caso2\n",
        "       y_traink=y_train_caso2\n",
        "       X_testk=X_test_caso2\n",
        "       y_testk=y_test_caso2\n",
        "    if caso==3:\n",
        "       X_traink=X_train_caso3\n",
        "       y_traink=y_train_caso3  \n",
        "       X_testk=X_test_caso3\n",
        "       y_testk=y_test_caso3   \n",
        "    if caso==4:\n",
        "       X_traink=X_train_caso4\n",
        "       y_traink=y_train_caso4   \n",
        "       X_testk=X_test_caso4\n",
        "       y_testk=y_test_caso4     \n",
        "\n",
        "    print (\"stimatore utilizzato - KNeighborsClassifier\")   \n",
        "    parametri = {\n",
        "             'n_neighbors' : [5, 20],\n",
        "             'weights': ['uniform', 'distance'],\n",
        "             'algorithm': ['auto', 'ball_tree', 'kd_tree', 'brute']\n",
        "              }\n",
        "\n",
        "    cercap = GridSearchCV(estimator=KNeighborsClassifier(), \n",
        "                  param_grid=parametri, \n",
        "                  scoring='accuracy', \n",
        "                  refit=True,\n",
        "                  cv=ncv,\n",
        "                  verbose=1,\n",
        "                  n_jobs=-1)\n",
        "    \n",
        "    gs = cercap.fit(X_traink, y_traink)\n",
        "    print('Accuratezza fase di Cross Validation con dati di Addestramento/Validazione: %.3f' % gs.best_score_)\n",
        "    print(gs.best_params_)\n",
        "\n",
        "\n",
        "    clf = gs.best_estimator_\n",
        "    # clf.fit(X_train, y_train) \n",
        "    \n",
        "    print('Accuratezza con dati di Test: %.3f' % clf.score(X_testk, y_testk))\n",
        "\n",
        "    y_true, y_pred = y_testk , clf.predict(X_testk)\n",
        "    \n",
        "    print('Risultato sui dati di test:')\n",
        "    print(classification_report(y_true, y_pred))\n",
        "\n",
        "    target_names = ['Positivo','Negativo']\n",
        "    print(confusion_matrix(y_testk,y_pred))\n",
        "    matrice=confusion_matrix(y_testk,y_pred)\n",
        "        #print(y_test,y_pred)\n",
        "    tp=matrice[0,0]\n",
        "    fn=matrice[0,1]\n",
        "    fp=matrice[1,0]\n",
        "    tn=matrice[1,1]\n",
        "         \n",
        "        #print(tp,fp,fn,tn)\n",
        "    accurancy=int(((tp+tn)/(tn+fp+fn+tp))*100)\n",
        "    precision=int((tp/(tp+fp))*100)\n",
        "    sensitivity=int((tp/(tp+fn))*100)\n",
        "    specificity=int((tn/(tn+fp))*100)\n",
        "    if (precision== 0 and sensitivity==0):\n",
        "        f1score=0\n",
        "    else:\n",
        "        f1score=int(2*((precision * sensitivity)/(precision + sensitivity)))\n",
        "\n",
        "    print('Accuratezza Test: %.3f' % accurancy)  \n",
        "    print('Precisione  Test: %.3f' % precision)\n",
        "    print('Sensitività Test: %.3f' % sensitivity)\n",
        "    print('Specificità Test: %.3f' % specificity)\n",
        "    print('F1 score    Test: %.3f' % f1score)"
      ],
      "execution_count": null,
      "outputs": []
    },
    {
      "cell_type": "code",
      "metadata": {
        "id": "jbV9ClqhndQp"
      },
      "source": [
        ""
      ],
      "execution_count": null,
      "outputs": []
    },
    {
      "cell_type": "code",
      "metadata": {
        "id": "g9fMRq18ndon"
      },
      "source": [
        "def tuning_MP(caso,numerocv):\n",
        "    ncv=numerocv\n",
        "\n",
        "    if caso==1:\n",
        "       X_trainm=X_train_caso1\n",
        "       y_trainm=y_train_caso1\n",
        "       X_testm=X_test_caso1\n",
        "       y_testm=y_test_caso1\n",
        "    if caso==2:\n",
        "       X_trainm=X_train_caso2\n",
        "       y_trainm=y_train_caso2\n",
        "       X_testm=X_test_caso2\n",
        "       y_testm=y_test_caso2\n",
        "    if caso==3:\n",
        "       X_trainm=X_train_caso3\n",
        "       y_trainm=y_train_caso3  \n",
        "       X_testm=X_test_caso3\n",
        "       y_testm=y_test_caso3   \n",
        "    if caso==4:\n",
        "       X_trainm=X_train_caso4\n",
        "       y_trainm=y_train_caso4   \n",
        "       X_testm=X_test_caso4\n",
        "       y_testm=y_test_caso4     \n",
        "\n",
        "    parametri = {  'hidden_layer_sizes': [(10,30,10),(20,)],\n",
        "                    'activation': ['tanh', 'relu'],\n",
        "                    'solver': ['sgd', 'adam'],\n",
        "                    'alpha': [0.0001, 0.05, 0.1,1],\n",
        "                    'learning_rate': ['constant','adaptive']\n",
        "                  }\n",
        "\n",
        "    cercap = GridSearchCV(estimator=MLPClassifier(max_iter=100), \n",
        "                  param_grid=parametri, \n",
        "                  scoring='accuracy', \n",
        "                  refit=True,\n",
        "                  cv=ncv,\n",
        "                  verbose=1,\n",
        "                  n_jobs=-1)\n",
        "    \n",
        "    gs = cercap.fit(X_trainm, y_trainm)\n",
        "    print('Accuratezza fase di Cross Validation con dati di Addestramento/Validazione: %.3f' % gs.best_score_)\n",
        "    print('I migliori parametri trvati sono :\\n', gs.best_params_)\n",
        "    #print(gs.best_params_)\n",
        "\n",
        "    means = gs.cv_results_['mean_test_score']\n",
        "    stds = gs.cv_results_['std_test_score']\n",
        "    #for mean, std, params in zip(means, stds, gs.cv_results_['params']):\n",
        "    #    print(\"%0.3f (+/-%0.03f) for %r\" % (mean, std * 2, params))\n",
        "\n",
        "    \n",
        "    \n",
        "    clf = gs.best_estimator_\n",
        "    # clf.fit(X_train, y_train) \n",
        "    \n",
        "    print('Accuratezza con dati di Test: %.3f' % clf.score(X_testm, y_testm))\n",
        "\n",
        "    y_true, y_pred = y_testm , clf.predict(X_testm)\n",
        "    \n",
        "    print('Risultato sui dati di test:')\n",
        "    print(classification_report(y_true, y_pred))\n",
        "\n",
        "    target_names = ['Positivo','Negativo']\n",
        "    print(confusion_matrix(y_testm,y_pred))\n",
        "    matrice=confusion_matrix(y_testm,y_pred)\n",
        "        #print(y_test,y_pred)\n",
        "    tp=matrice[0,0]\n",
        "    fn=matrice[0,1]\n",
        "    fp=matrice[1,0]\n",
        "    tn=matrice[1,1]\n",
        "         \n",
        "        #print(tp,fp,fn,tn)\n",
        "    accurancy=int(((tp+tn)/(tn+fp+fn+tp))*100)\n",
        "    precision=int((tp/(tp+fp))*100)\n",
        "    sensitivity=int((tp/(tp+fn))*100)\n",
        "    specificity=int((tn/(tn+fp))*100)\n",
        "    if (precision== 0 and sensitivity==0):\n",
        "        f1score=0\n",
        "    else:\n",
        "        f1score=int(2*((precision * sensitivity)/(precision + sensitivity)))\n",
        "\n",
        "    print('Accuratezza Test: %.3f' % accurancy)  \n",
        "    print('Precisione  Test: %.3f' % precision)\n",
        "    print('Sensitività Test: %.3f' % sensitivity)\n",
        "    print('Specificità Test: %.3f' % specificity)\n",
        "    print('F1 score    Test: %.3f' % f1score)"
      ],
      "execution_count": null,
      "outputs": []
    },
    {
      "cell_type": "code",
      "metadata": {
        "id": "kakkSbyZfVJT"
      },
      "source": [
        ""
      ],
      "execution_count": null,
      "outputs": []
    },
    {
      "cell_type": "code",
      "metadata": {
        "id": "jeEO52RXwaYD"
      },
      "source": [
        ""
      ],
      "execution_count": null,
      "outputs": []
    },
    {
      "cell_type": "code",
      "metadata": {
        "id": "Y-rBLQWcwayw"
      },
      "source": [
        "def tuning_LR(caso,numerocv):\n",
        "    ncv=numerocv\n",
        "\n",
        "    if caso==1:\n",
        "       X_trainl=X_train_caso1\n",
        "       y_trainl=y_train_caso1\n",
        "       X_testl=X_test_caso1\n",
        "       y_testl=y_test_caso1\n",
        "    if caso==2:\n",
        "       X_trainl=X_train_caso2\n",
        "       y_trainl=y_train_caso2\n",
        "       X_testl=X_test_caso2\n",
        "       y_testl=y_test_caso2\n",
        "    if caso==3:\n",
        "       X_trainl=X_train_caso3\n",
        "       y_trainl=y_train_caso3  \n",
        "       X_testl=X_test_caso3\n",
        "       y_testl=y_test_caso3   \n",
        "    if caso==4:\n",
        "       X_trainl=X_train_caso4\n",
        "       y_trainl=y_train_caso4   \n",
        "       X_testl=X_test_caso4\n",
        "       y_testl=y_test_caso4     \n",
        "\n",
        "    \n",
        "    parametri ={\"C\":np.logspace(-3,3,7), \"penalty\":[\"l1\",\"l2\"]}\n",
        "\n",
        "    cercap = GridSearchCV(estimator=LogisticRegression(), \n",
        "                  param_grid=parametri, \n",
        "                  scoring='accuracy', \n",
        "                  refit=True,\n",
        "                  cv=ncv,\n",
        "                  verbose=1,\n",
        "                  n_jobs=-1)\n",
        "    \n",
        "    gs = cercap.fit(X_trainl, y_trainl)\n",
        "    print('Accuratezza fase di Cross Validation con dati di Addestramento/Validazione: %.3f' % gs.best_score_)\n",
        "    print('I migliori parametri trvati sono :\\n', gs.best_params_)\n",
        "    #print(gs.best_params_)\n",
        "\n",
        "    means = gs.cv_results_['mean_test_score']\n",
        "    stds = gs.cv_results_['std_test_score']\n",
        "    #for mean, std, params in zip(means, stds, gs.cv_results_['params']):\n",
        "    #    print(\"%0.3f (+/-%0.03f) for %r\" % (mean, std * 2, params))\n",
        "\n",
        "    \n",
        "    \n",
        "    clf = gs.best_estimator_\n",
        "    # clf.fit(X_train, y_train) \n",
        "    \n",
        "    print('Accuratezza con dati di Test: %.3f' % clf.score(X_testl, y_testl))\n",
        "\n",
        "    y_true, y_pred = y_testl , clf.predict(X_testl)\n",
        "    print('Risultato sui dati di test:')\n",
        "    print(classification_report(y_true, y_pred))\n",
        "\n",
        "    target_names = ['Positivo','Negativo']\n",
        "    print(confusion_matrix(y_testl,y_pred))\n",
        "    matrice=confusion_matrix(y_testl,y_pred)\n",
        "        #print(y_test,y_pred)\n",
        "    tp=matrice[0,0]\n",
        "    fn=matrice[0,1]\n",
        "    fp=matrice[1,0]\n",
        "    tn=matrice[1,1]\n",
        "         \n",
        "        #print(tp,fp,fn,tn)\n",
        "    accurancy=int(((tp+tn)/(tn+fp+fn+tp))*100)\n",
        "    if (fp== 0 and fp==0):\n",
        "        precision=0\n",
        "    else:\n",
        "        precision=int((tp/(tp+fp))*100)\n",
        "    sensitivity=int((tp/(tp+fn))*100)\n",
        "    specificity=int((tn/(tn+fp))*100)\n",
        "    if (precision== 0 and sensitivity==0):\n",
        "        f1score=0\n",
        "    else:\n",
        "        f1score=int(2*((precision * sensitivity)/(precision + sensitivity)))\n",
        "\n",
        "    print('Accuratezza Test: %.3f' % accurancy)  \n",
        "    print('Precisione  Test: %.3f' % precision)\n",
        "    print('Sensitività Test: %.3f' % sensitivity)\n",
        "    print('Specificità Test: %.3f' % specificity)\n",
        "    print('F1 score    Test: %.3f' % f1score)"
      ],
      "execution_count": null,
      "outputs": []
    },
    {
      "cell_type": "code",
      "metadata": {
        "id": "r-N6wUlVV0El"
      },
      "source": [
        "def validazione_incrociata_kfold(caso,numerocv,modello):\n",
        "    ncv=numerocv\n",
        "    if modello==1:\n",
        "       classificatore=DecisionTreeClassifier()\n",
        "    if modello==2:\n",
        "       classificatore=SVC()\n",
        "       \n",
        "\n",
        "    if caso==1:\n",
        "       X_train=X_train_caso1\n",
        "       y_train=y_train_caso1\n",
        "       X_test=X_test_caso1\n",
        "       y_test=y_test_caso1\n",
        "    if caso==2:\n",
        "       X_train=X_train_caso2\n",
        "       y_train=y_train_caso2\n",
        "       X_test=X_test_caso2\n",
        "       y_test=y_test_caso2\n",
        "    if caso==3:\n",
        "       X_train=X_train_caso3\n",
        "       y_train=y_train_caso3  \n",
        "       X_test=X_test_caso3\n",
        "       y_test=y_test_caso3   \n",
        "    if caso==4:\n",
        "       X_train=X_train_caso4\n",
        "       y_train=y_train_caso4   \n",
        "       X_test=X_test_caso4\n",
        "       y_test=y_test_caso4     \n",
        "\n",
        "    from sklearn.model_selection import StratifiedKFold\n",
        "    \n",
        "\n",
        "    kfold = StratifiedKFold(n_splits=10).split(X_train, y_train)\n",
        "\n",
        "    scores = []\n",
        "    for k, (train, test) in enumerate(kfold):\n",
        "        classificatore.fit(X_train[train], y_train[train])\n",
        "        score = classificatore.score(X_train[test], y_train[test])\n",
        "        scores.append(score)\n",
        "        print('Fold: %2d, Class dist.: %s, Acc: %.3f' % (k+1,\n",
        "              np.bincount(y_train[train]), score))\n",
        "    \n",
        "    print('\\nCV accuracy: %.3f +/- %.3f' % (np.mean(scores), np.std(scores)))"
      ],
      "execution_count": null,
      "outputs": []
    },
    {
      "cell_type": "code",
      "metadata": {
        "id": "xn0MP7vjVuUP"
      },
      "source": [
        "\n",
        "def validazione_incrociata_score(caso,numerocv,modello):\n",
        "    ncv=numerocv\n",
        "    if modello==1:\n",
        "       classificatore=DecisionTreeClassifier()\n",
        "    if modello==2:\n",
        "       classificatore=SVC()\n",
        "       \n",
        "\n",
        "    if caso==1:\n",
        "       X_train=X_train_caso1\n",
        "       y_train=y_train_caso1\n",
        "       X_test=X_test_caso1\n",
        "       y_test=y_test_caso1\n",
        "    if caso==2:\n",
        "       X_train=X_train_caso2\n",
        "       y_train=y_train_caso2\n",
        "       X_test=X_test_caso2\n",
        "       y_test=y_test_caso2\n",
        "    if caso==3:\n",
        "       X_train=X_train_caso3\n",
        "       y_train=y_train_caso3  \n",
        "       X_test=X_test_caso3\n",
        "       y_test=y_test_caso3   \n",
        "    if caso==4:\n",
        "       X_train=X_train_caso4\n",
        "       y_train=y_train_caso4   \n",
        "       X_test=X_test_caso4\n",
        "       y_test=y_test_caso4     \n",
        "\n",
        "    \n",
        "    scores = cross_val_score(estimator=classificatore,\n",
        "                             X=X_train,\n",
        "                             y=y_train,\n",
        "                             cv=10,\n",
        "                             n_jobs=1)\n",
        "    print('CV accuracy scores: %s' % scores)\n",
        "    print('CV accuracy: %.3f +/- %.3f' % (np.mean(scores), np.std(scores)))"
      ],
      "execution_count": null,
      "outputs": []
    },
    {
      "cell_type": "markdown",
      "metadata": {
        "id": "gzXYEWesX__s"
      },
      "source": [
        "## Preparazione dei dati frequenza di taglio a 7 HZ"
      ]
    },
    {
      "cell_type": "code",
      "metadata": {
        "id": "emjl7lsxeWyr"
      },
      "source": [
        "pmAD=pd.read_csv(\"/content/drive/MyDrive/Dati EEG/mean_PxxAD_2.txt\", sep=\",\",header=None)\n",
        "pmMCI=pd.read_csv(\"/content/drive/MyDrive/Dati EEG/mean_PxxMCI_2.txt\", sep=\",\",header=None)\n",
        "pmHC=pd.read_csv(\"/content/drive/MyDrive/Dati EEG/mean_PxxHC_2.txt\", sep=\",\",header=None)"
      ],
      "execution_count": null,
      "outputs": []
    },
    {
      "cell_type": "code",
      "metadata": {
        "id": "5aQrS7WQiq6B"
      },
      "source": [
        "pAD=pd.read_csv(\"/content/drive/MyDrive/Dati EEG/PxxAD.txt\", sep=\",\",header=None)\n",
        "pMCI=pd.read_csv(\"/content/drive/MyDrive/Dati EEG/PxxMCI.txt\", sep=\",\",header=None)\n",
        "pHC=pd.read_csv(\"/content/drive/MyDrive/Dati EEG/PxxHC.txt\", sep=\",\",header=None)"
      ],
      "execution_count": null,
      "outputs": []
    },
    {
      "cell_type": "code",
      "metadata": {
        "id": "48HRXFzuOr3b"
      },
      "source": [
        "\n",
        "y1=pmAD.iloc[0,:].to_numpy()\n",
        "y2=pmMCI.iloc[0,:].to_numpy()\n",
        "y3=pmHC.iloc[0,:].to_numpy()\n",
        "\n"
      ],
      "execution_count": null,
      "outputs": []
    },
    {
      "cell_type": "code",
      "metadata": {
        "id": "jvRfNkz_uqB-"
      },
      "source": [
        "y1d=10*np.log10(y1)\n",
        "y2d=10*np.log10(y2)\n",
        "y3d=10*np.log10(y3)"
      ],
      "execution_count": null,
      "outputs": []
    },
    {
      "cell_type": "markdown",
      "metadata": {
        "id": "jafZTpCMyCkT"
      },
      "source": [
        "### Grafico 1"
      ]
    },
    {
      "cell_type": "code",
      "metadata": {
        "id": "g0Wrx-wDXMTt"
      },
      "source": [
        "#dfstampa=pmad.concat(pm)\n",
        "df_pmAD = pd.DataFrame(\n",
        "{\"potenze\" : [y1d[0],y1d[1],y1d[2],y1d[3],y1d[4],\n",
        "              y1d[5],y1d[6],y1d[7],y1d[8],y1d[9],\n",
        "              y1d[10],y1d[11],y1d[12],y1d[13],y1d[14],\n",
        "              y1d[15],y1d[16],y1d[17],y1d[18]],\n",
        " \"elettrodo\" : [1,2,3,4,5,6,7,8,9,10,11,12,13,14,15,16,17,18,19],\n",
        " \"label\" : [\"AD\",\"AD\",\"AD\",\"AD\",\"AD\",\"AD\",\"AD\",\"AD\",\"AD\",\"AD\",\n",
        "            \"AD\",\"AD\",\"AD\",\"AD\",\"AD\",\"AD\",\"AD\",\"AD\",\"AD\"]},\n",
        "index = [0,1,2,3,4,5,6,7,8,9,10,11,12,13,14,15,16,17,18])\n",
        "\n",
        "\n"
      ],
      "execution_count": null,
      "outputs": []
    },
    {
      "cell_type": "code",
      "metadata": {
        "id": "0ZcGszOPmG-M"
      },
      "source": [
        "df_pmMCI = pd.DataFrame(\n",
        "{\"potenze\" : [y2d[0],y2d[1],y2d[2],y2d[3],y2d[4],\n",
        "              y2d[5],y2d[6],y2d[7],y2d[8],y2d[9],\n",
        "              y2d[10],y2d[11],y2d[12],y2d[13],y2d[14],\n",
        "              y2d[15],y2d[16],y2d[17],y2d[18]],\n",
        "\"elettrodo\" : [1,2,3,4,5,6,7,8,9,10,11,12,13,14,15,16,17,18,19],\n",
        " \"label\" : [\"MCI\",\"MCI\",\"MCI\",\"MCI\",\"MCI\",\"MCI\",\"MCI\",\"MCI\",\"MCI\",\"MCI\",\n",
        "            \"MCI\",\"MCI\",\"MCI\",\"MCI\",\"MCI\",\"MCI\",\"MCI\",\"MCI\",\"MCI\"]},\n",
        "index = [0,1,2,3,4,5,6,7,8,9,10,11,12,13,14,15,16,17,18])"
      ],
      "execution_count": null,
      "outputs": []
    },
    {
      "cell_type": "code",
      "metadata": {
        "id": "DvOLIiKsmfdy"
      },
      "source": [
        "df_pmHC = pd.DataFrame(\n",
        "{\"potenze\" : [y3d[0],y3d[1],y3d[2],y3d[3],y3d[4],\n",
        "              y3d[5],y3d[6],y3d[7],y3d[8],y3d[9],\n",
        "              y3d[10],y3d[11],y3d[12],y3d[13],y3d[14],\n",
        "              y3d[15],y3d[16],y3d[17],y3d[18]],\n",
        "\"elettrodo\" : [1,2,3,4,5,6,7,8,9,10,11,12,13,14,15,16,17,18,19],\n",
        " \"label\" : [\"HC\",\"HC\",\"HC\",\"HC\",\"HC\",\"HC\",\"HC\",\"HC\",\"HC\",\"HC\",\n",
        "            \"HC\",\"HC\",\"HC\",\"HC\",\"HC\",\"HC\",\"HC\",\"HC\",\"HC\"]},\n",
        "index = [0,1,2,3,4,5,6,7,8,9,10,11,12,13,14,15,16,17,18])"
      ],
      "execution_count": null,
      "outputs": []
    },
    {
      "cell_type": "code",
      "metadata": {
        "id": "WB6NDsE0g8PZ"
      },
      "source": [
        ""
      ],
      "execution_count": null,
      "outputs": []
    },
    {
      "cell_type": "code",
      "metadata": {
        "id": "E9KiE_Fig8j7"
      },
      "source": [
        "sADHC=df_pmAD.copy()\n",
        "sADHC=sADHC.append(df_pmHC,ignore_index=True)"
      ],
      "execution_count": null,
      "outputs": []
    },
    {
      "cell_type": "code",
      "metadata": {
        "id": "ZRGBxE5wg8j8"
      },
      "source": [
        "sADMCI=df_pmAD.copy()\n",
        "sADMCI=sADMCI.append(df_pmMCI,ignore_index=True)"
      ],
      "execution_count": null,
      "outputs": []
    },
    {
      "cell_type": "code",
      "metadata": {
        "id": "DdiJDvYFg8j8"
      },
      "source": [
        "sMCIHC=df_pmMCI.copy()\n",
        "sMCIHC=sMCIHC.append(df_pmHC,ignore_index=True)"
      ],
      "execution_count": null,
      "outputs": []
    },
    {
      "cell_type": "code",
      "metadata": {
        "id": "BLR7qDWCg8j8"
      },
      "source": [
        "sCASEHC=df_pmAD.copy()\n",
        "sCASEHC=sCASEHC.append(df_pmMCI,ignore_index=True)\n",
        "sCASEHC=sCASEHC.append(df_pmHC,ignore_index=True)"
      ],
      "execution_count": null,
      "outputs": []
    },
    {
      "cell_type": "code",
      "metadata": {
        "id": "k_JKRbgHoTvV"
      },
      "source": [
        "sCASEHC"
      ],
      "execution_count": null,
      "outputs": []
    },
    {
      "cell_type": "code",
      "metadata": {
        "id": "fA1lPH1qXbo-",
        "colab": {
          "base_uri": "https://localhost:8080/",
          "height": 542
        },
        "outputId": "fdcf2a0c-6bee-4820-bb3a-adacfce8dd2d"
      },
      "source": [
        "fig = px.line(sCASEHC, x=\"elettrodo\", y=\"potenze\", color=\"label\")\n",
        "             # symbol=\"label\")\n",
        "\n",
        "fig.update_layout(#title='Adamento della potenzia media del segnale',\n",
        "                   xaxis_title='elettrodi',\n",
        "                   yaxis_title='decibel')\n",
        "\n",
        "\n",
        "fig.show()\n",
        "#fig.to_image(\"/content/grafico 1 Andamento Potenza 7 hz.png\")"
      ],
      "execution_count": null,
      "outputs": [
        {
          "output_type": "display_data",
          "data": {
            "text/html": [
              "<html>\n",
              "<head><meta charset=\"utf-8\" /></head>\n",
              "<body>\n",
              "    <div>\n",
              "            <script src=\"https://cdnjs.cloudflare.com/ajax/libs/mathjax/2.7.5/MathJax.js?config=TeX-AMS-MML_SVG\"></script><script type=\"text/javascript\">if (window.MathJax) {MathJax.Hub.Config({SVG: {font: \"STIX-Web\"}});}</script>\n",
              "                <script type=\"text/javascript\">window.PlotlyConfig = {MathJaxConfig: 'local'};</script>\n",
              "        <script src=\"https://cdn.plot.ly/plotly-latest.min.js\"></script>    \n",
              "            <div id=\"093ee576-7a92-4c7b-a2c7-a225f2b0f130\" class=\"plotly-graph-div\" style=\"height:525px; width:100%;\"></div>\n",
              "            <script type=\"text/javascript\">\n",
              "                \n",
              "                    window.PLOTLYENV=window.PLOTLYENV || {};\n",
              "                    \n",
              "                if (document.getElementById(\"093ee576-7a92-4c7b-a2c7-a225f2b0f130\")) {\n",
              "                    Plotly.newPlot(\n",
              "                        '093ee576-7a92-4c7b-a2c7-a225f2b0f130',\n",
              "                        [{\"hoverlabel\": {\"namelength\": 0}, \"hovertemplate\": \"label=AD<br>elettrodo=%{x}<br>potenze=%{y}\", \"legendgroup\": \"label=AD\", \"line\": {\"color\": \"#636efa\", \"dash\": \"solid\"}, \"mode\": \"lines\", \"name\": \"label=AD\", \"showlegend\": true, \"type\": \"scatter\", \"x\": [1, 2, 3, 4, 5, 6, 7, 8, 9, 10, 11, 12, 13, 14, 15, 16, 17, 18, 19], \"xaxis\": \"x\", \"y\": [44.343620662344506, 53.58444272194851, 42.94859112180848, 46.666681088907474, 39.50184518404482, 43.558905388223366, 44.70106716566201, 43.015951741025766, 49.68440179867814, 43.49776802067771, 41.345552392353596, 45.56466665602726, 49.11983379158574, 40.42206552931881, 43.73854848946092, 46.89419361379095, 46.65150086953596, 44.07967216273538, 37.967385083191616], \"yaxis\": \"y\"}, {\"hoverlabel\": {\"namelength\": 0}, \"hovertemplate\": \"label=MCI<br>elettrodo=%{x}<br>potenze=%{y}\", \"legendgroup\": \"label=MCI\", \"line\": {\"color\": \"#EF553B\", \"dash\": \"solid\"}, \"mode\": \"lines\", \"name\": \"label=MCI\", \"showlegend\": true, \"type\": \"scatter\", \"x\": [1, 2, 3, 4, 5, 6, 7, 8, 9, 10, 11, 12, 13, 14, 15, 16, 17, 18, 19], \"xaxis\": \"x\", \"y\": [41.39264583883505, 38.14578678981567, 36.68886963016112, 43.876730512360496, 45.88195839342902, 41.76418332390846, 42.230848718410776, 39.35942717986893, 40.69264719489646, 37.329032596769125, 40.929410128017736, 40.78307152765272, 39.84552507605854, 45.98123569632566, 39.78668237388679, 40.742544861881456, 48.90451282834532, 47.01094517784352, 47.00603661797839], \"yaxis\": \"y\"}, {\"hoverlabel\": {\"namelength\": 0}, \"hovertemplate\": \"label=HC<br>elettrodo=%{x}<br>potenze=%{y}\", \"legendgroup\": \"label=HC\", \"line\": {\"color\": \"#00cc96\", \"dash\": \"solid\"}, \"mode\": \"lines\", \"name\": \"label=HC\", \"showlegend\": true, \"type\": \"scatter\", \"x\": [1, 2, 3, 4, 5, 6, 7, 8, 9, 10, 11, 12, 13, 14, 15, 16, 17, 18, 19], \"xaxis\": \"x\", \"y\": [31.22418022031157, 29.55872444263171, 27.431289390615106, 26.44771802779185, 25.08172697390897, 34.57043360246891, 28.275167006223324, 29.60245683266954, 31.533106528490332, 28.184529577469156, 25.26939521417333, 33.56642354890973, 30.511327553442303, 27.140634104275705, 24.047299851757682, 24.419198322926015, 34.346603351709646, 25.975125176539677, 24.882993361064074], \"yaxis\": \"y\"}],\n",
              "                        {\"legend\": {\"tracegroupgap\": 0}, \"margin\": {\"t\": 60}, \"template\": {\"data\": {\"bar\": [{\"error_x\": {\"color\": \"#2a3f5f\"}, \"error_y\": {\"color\": \"#2a3f5f\"}, \"marker\": {\"line\": {\"color\": \"#E5ECF6\", \"width\": 0.5}}, \"type\": \"bar\"}], \"barpolar\": [{\"marker\": {\"line\": {\"color\": \"#E5ECF6\", \"width\": 0.5}}, \"type\": \"barpolar\"}], \"carpet\": [{\"aaxis\": {\"endlinecolor\": \"#2a3f5f\", \"gridcolor\": \"white\", \"linecolor\": \"white\", \"minorgridcolor\": \"white\", \"startlinecolor\": \"#2a3f5f\"}, \"baxis\": {\"endlinecolor\": \"#2a3f5f\", \"gridcolor\": \"white\", \"linecolor\": \"white\", \"minorgridcolor\": \"white\", \"startlinecolor\": \"#2a3f5f\"}, \"type\": \"carpet\"}], \"choropleth\": [{\"colorbar\": {\"outlinewidth\": 0, \"ticks\": \"\"}, \"type\": \"choropleth\"}], \"contour\": [{\"colorbar\": {\"outlinewidth\": 0, \"ticks\": \"\"}, \"colorscale\": [[0.0, \"#0d0887\"], [0.1111111111111111, \"#46039f\"], [0.2222222222222222, \"#7201a8\"], [0.3333333333333333, \"#9c179e\"], [0.4444444444444444, \"#bd3786\"], [0.5555555555555556, \"#d8576b\"], [0.6666666666666666, \"#ed7953\"], [0.7777777777777778, \"#fb9f3a\"], [0.8888888888888888, \"#fdca26\"], [1.0, \"#f0f921\"]], \"type\": \"contour\"}], \"contourcarpet\": [{\"colorbar\": {\"outlinewidth\": 0, \"ticks\": \"\"}, \"type\": \"contourcarpet\"}], \"heatmap\": [{\"colorbar\": {\"outlinewidth\": 0, \"ticks\": \"\"}, \"colorscale\": [[0.0, \"#0d0887\"], [0.1111111111111111, \"#46039f\"], [0.2222222222222222, \"#7201a8\"], [0.3333333333333333, \"#9c179e\"], [0.4444444444444444, \"#bd3786\"], [0.5555555555555556, \"#d8576b\"], [0.6666666666666666, \"#ed7953\"], [0.7777777777777778, \"#fb9f3a\"], [0.8888888888888888, \"#fdca26\"], [1.0, \"#f0f921\"]], \"type\": \"heatmap\"}], \"heatmapgl\": [{\"colorbar\": {\"outlinewidth\": 0, \"ticks\": \"\"}, \"colorscale\": [[0.0, \"#0d0887\"], [0.1111111111111111, \"#46039f\"], [0.2222222222222222, \"#7201a8\"], [0.3333333333333333, \"#9c179e\"], [0.4444444444444444, \"#bd3786\"], [0.5555555555555556, \"#d8576b\"], [0.6666666666666666, \"#ed7953\"], [0.7777777777777778, \"#fb9f3a\"], [0.8888888888888888, \"#fdca26\"], [1.0, \"#f0f921\"]], \"type\": \"heatmapgl\"}], \"histogram\": [{\"marker\": {\"colorbar\": {\"outlinewidth\": 0, \"ticks\": \"\"}}, \"type\": \"histogram\"}], \"histogram2d\": [{\"colorbar\": {\"outlinewidth\": 0, \"ticks\": \"\"}, \"colorscale\": [[0.0, \"#0d0887\"], [0.1111111111111111, \"#46039f\"], [0.2222222222222222, \"#7201a8\"], [0.3333333333333333, \"#9c179e\"], [0.4444444444444444, \"#bd3786\"], [0.5555555555555556, \"#d8576b\"], [0.6666666666666666, \"#ed7953\"], [0.7777777777777778, \"#fb9f3a\"], [0.8888888888888888, \"#fdca26\"], [1.0, \"#f0f921\"]], \"type\": \"histogram2d\"}], \"histogram2dcontour\": [{\"colorbar\": {\"outlinewidth\": 0, \"ticks\": \"\"}, \"colorscale\": [[0.0, \"#0d0887\"], [0.1111111111111111, \"#46039f\"], [0.2222222222222222, \"#7201a8\"], [0.3333333333333333, \"#9c179e\"], [0.4444444444444444, \"#bd3786\"], [0.5555555555555556, \"#d8576b\"], [0.6666666666666666, \"#ed7953\"], [0.7777777777777778, \"#fb9f3a\"], [0.8888888888888888, \"#fdca26\"], [1.0, \"#f0f921\"]], \"type\": \"histogram2dcontour\"}], \"mesh3d\": [{\"colorbar\": {\"outlinewidth\": 0, \"ticks\": \"\"}, \"type\": \"mesh3d\"}], \"parcoords\": [{\"line\": {\"colorbar\": {\"outlinewidth\": 0, \"ticks\": \"\"}}, \"type\": \"parcoords\"}], \"pie\": [{\"automargin\": true, \"type\": \"pie\"}], \"scatter\": [{\"marker\": {\"colorbar\": {\"outlinewidth\": 0, \"ticks\": \"\"}}, \"type\": \"scatter\"}], \"scatter3d\": [{\"line\": {\"colorbar\": {\"outlinewidth\": 0, \"ticks\": \"\"}}, \"marker\": {\"colorbar\": {\"outlinewidth\": 0, \"ticks\": \"\"}}, \"type\": \"scatter3d\"}], \"scattercarpet\": [{\"marker\": {\"colorbar\": {\"outlinewidth\": 0, \"ticks\": \"\"}}, \"type\": \"scattercarpet\"}], \"scattergeo\": [{\"marker\": {\"colorbar\": {\"outlinewidth\": 0, \"ticks\": \"\"}}, \"type\": \"scattergeo\"}], \"scattergl\": [{\"marker\": {\"colorbar\": {\"outlinewidth\": 0, \"ticks\": \"\"}}, \"type\": \"scattergl\"}], \"scattermapbox\": [{\"marker\": {\"colorbar\": {\"outlinewidth\": 0, \"ticks\": \"\"}}, \"type\": \"scattermapbox\"}], \"scatterpolar\": [{\"marker\": {\"colorbar\": {\"outlinewidth\": 0, \"ticks\": \"\"}}, \"type\": \"scatterpolar\"}], \"scatterpolargl\": [{\"marker\": {\"colorbar\": {\"outlinewidth\": 0, \"ticks\": \"\"}}, \"type\": \"scatterpolargl\"}], \"scatterternary\": [{\"marker\": {\"colorbar\": {\"outlinewidth\": 0, \"ticks\": \"\"}}, \"type\": \"scatterternary\"}], \"surface\": [{\"colorbar\": {\"outlinewidth\": 0, \"ticks\": \"\"}, \"colorscale\": [[0.0, \"#0d0887\"], [0.1111111111111111, \"#46039f\"], [0.2222222222222222, \"#7201a8\"], [0.3333333333333333, \"#9c179e\"], [0.4444444444444444, \"#bd3786\"], [0.5555555555555556, \"#d8576b\"], [0.6666666666666666, \"#ed7953\"], [0.7777777777777778, \"#fb9f3a\"], [0.8888888888888888, \"#fdca26\"], [1.0, \"#f0f921\"]], \"type\": \"surface\"}], \"table\": [{\"cells\": {\"fill\": {\"color\": \"#EBF0F8\"}, \"line\": {\"color\": \"white\"}}, \"header\": {\"fill\": {\"color\": \"#C8D4E3\"}, \"line\": {\"color\": \"white\"}}, \"type\": \"table\"}]}, \"layout\": {\"annotationdefaults\": {\"arrowcolor\": \"#2a3f5f\", \"arrowhead\": 0, \"arrowwidth\": 1}, \"coloraxis\": {\"colorbar\": {\"outlinewidth\": 0, \"ticks\": \"\"}}, \"colorscale\": {\"diverging\": [[0, \"#8e0152\"], [0.1, \"#c51b7d\"], [0.2, \"#de77ae\"], [0.3, \"#f1b6da\"], [0.4, \"#fde0ef\"], [0.5, \"#f7f7f7\"], [0.6, \"#e6f5d0\"], [0.7, \"#b8e186\"], [0.8, \"#7fbc41\"], [0.9, \"#4d9221\"], [1, \"#276419\"]], \"sequential\": [[0.0, \"#0d0887\"], [0.1111111111111111, \"#46039f\"], [0.2222222222222222, \"#7201a8\"], [0.3333333333333333, \"#9c179e\"], [0.4444444444444444, \"#bd3786\"], [0.5555555555555556, \"#d8576b\"], [0.6666666666666666, \"#ed7953\"], [0.7777777777777778, \"#fb9f3a\"], [0.8888888888888888, \"#fdca26\"], [1.0, \"#f0f921\"]], \"sequentialminus\": [[0.0, \"#0d0887\"], [0.1111111111111111, \"#46039f\"], [0.2222222222222222, \"#7201a8\"], [0.3333333333333333, \"#9c179e\"], [0.4444444444444444, \"#bd3786\"], [0.5555555555555556, \"#d8576b\"], [0.6666666666666666, \"#ed7953\"], [0.7777777777777778, \"#fb9f3a\"], [0.8888888888888888, \"#fdca26\"], [1.0, \"#f0f921\"]]}, \"colorway\": [\"#636efa\", \"#EF553B\", \"#00cc96\", \"#ab63fa\", \"#FFA15A\", \"#19d3f3\", \"#FF6692\", \"#B6E880\", \"#FF97FF\", \"#FECB52\"], \"font\": {\"color\": \"#2a3f5f\"}, \"geo\": {\"bgcolor\": \"white\", \"lakecolor\": \"white\", \"landcolor\": \"#E5ECF6\", \"showlakes\": true, \"showland\": true, \"subunitcolor\": \"white\"}, \"hoverlabel\": {\"align\": \"left\"}, \"hovermode\": \"closest\", \"mapbox\": {\"style\": \"light\"}, \"paper_bgcolor\": \"white\", \"plot_bgcolor\": \"#E5ECF6\", \"polar\": {\"angularaxis\": {\"gridcolor\": \"white\", \"linecolor\": \"white\", \"ticks\": \"\"}, \"bgcolor\": \"#E5ECF6\", \"radialaxis\": {\"gridcolor\": \"white\", \"linecolor\": \"white\", \"ticks\": \"\"}}, \"scene\": {\"xaxis\": {\"backgroundcolor\": \"#E5ECF6\", \"gridcolor\": \"white\", \"gridwidth\": 2, \"linecolor\": \"white\", \"showbackground\": true, \"ticks\": \"\", \"zerolinecolor\": \"white\"}, \"yaxis\": {\"backgroundcolor\": \"#E5ECF6\", \"gridcolor\": \"white\", \"gridwidth\": 2, \"linecolor\": \"white\", \"showbackground\": true, \"ticks\": \"\", \"zerolinecolor\": \"white\"}, \"zaxis\": {\"backgroundcolor\": \"#E5ECF6\", \"gridcolor\": \"white\", \"gridwidth\": 2, \"linecolor\": \"white\", \"showbackground\": true, \"ticks\": \"\", \"zerolinecolor\": \"white\"}}, \"shapedefaults\": {\"line\": {\"color\": \"#2a3f5f\"}}, \"ternary\": {\"aaxis\": {\"gridcolor\": \"white\", \"linecolor\": \"white\", \"ticks\": \"\"}, \"baxis\": {\"gridcolor\": \"white\", \"linecolor\": \"white\", \"ticks\": \"\"}, \"bgcolor\": \"#E5ECF6\", \"caxis\": {\"gridcolor\": \"white\", \"linecolor\": \"white\", \"ticks\": \"\"}}, \"title\": {\"x\": 0.05}, \"xaxis\": {\"automargin\": true, \"gridcolor\": \"white\", \"linecolor\": \"white\", \"ticks\": \"\", \"title\": {\"standoff\": 15}, \"zerolinecolor\": \"white\", \"zerolinewidth\": 2}, \"yaxis\": {\"automargin\": true, \"gridcolor\": \"white\", \"linecolor\": \"white\", \"ticks\": \"\", \"title\": {\"standoff\": 15}, \"zerolinecolor\": \"white\", \"zerolinewidth\": 2}}}, \"xaxis\": {\"anchor\": \"y\", \"domain\": [0.0, 1.0], \"title\": {\"text\": \"elettrodi\"}}, \"yaxis\": {\"anchor\": \"x\", \"domain\": [0.0, 1.0], \"title\": {\"text\": \"decibel\"}}},\n",
              "                        {\"responsive\": true}\n",
              "                    ).then(function(){\n",
              "                            \n",
              "var gd = document.getElementById('093ee576-7a92-4c7b-a2c7-a225f2b0f130');\n",
              "var x = new MutationObserver(function (mutations, observer) {{\n",
              "        var display = window.getComputedStyle(gd).display;\n",
              "        if (!display || display === 'none') {{\n",
              "            console.log([gd, 'removed!']);\n",
              "            Plotly.purge(gd);\n",
              "            observer.disconnect();\n",
              "        }}\n",
              "}});\n",
              "\n",
              "// Listen for the removal of the full notebook cells\n",
              "var notebookContainer = gd.closest('#notebook-container');\n",
              "if (notebookContainer) {{\n",
              "    x.observe(notebookContainer, {childList: true});\n",
              "}}\n",
              "\n",
              "// Listen for the clearing of the current output cell\n",
              "var outputEl = gd.closest('.output');\n",
              "if (outputEl) {{\n",
              "    x.observe(outputEl, {childList: true});\n",
              "}}\n",
              "\n",
              "                        })\n",
              "                };\n",
              "                \n",
              "            </script>\n",
              "        </div>\n",
              "</body>\n",
              "</html>"
            ]
          },
          "metadata": {}
        }
      ]
    },
    {
      "cell_type": "markdown",
      "metadata": {
        "id": "ZIu4zqksyKjd"
      },
      "source": [
        "### Grafico 2"
      ]
    },
    {
      "cell_type": "code",
      "metadata": {
        "colab": {
          "base_uri": "https://localhost:8080/",
          "height": 283
        },
        "id": "Ab8ajoagx8Xv",
        "outputId": "ef5be00b-251f-464d-f915-543c3b77ff88"
      },
      "source": [
        "sx=list(range(19))\n",
        "\n",
        "\n",
        "fig, ax = plt.subplots()  \n",
        "ax.plot(sx, y1d, label='AD')  \n",
        "ax.plot(sx, y2d, label='MCI') \n",
        "ax.plot(sx, y3d, label='HC')  \n",
        " \n",
        "ax.set_xlabel('Elettrodi') \n",
        "ax.set_ylabel('Decibel')  \n",
        "#ax.set_title(\"Confronto andamento medio PM10 Citta di Milano\") \n",
        "ax.legend()  \n",
        "#plt.show()\n",
        "plt.savefig(\"grafico 2 Andamento Potenza 7 hz\")\n",
        "\n"
      ],
      "execution_count": null,
      "outputs": [
        {
          "output_type": "display_data",
          "data": {
            "image/png": "[encoded data removed]",
            "text/plain": [
              "<Figure size 432x288 with 1 Axes>"
            ]
          },
          "metadata": {
            "needs_background": "light"
          }
        }
      ]
    },
    {
      "cell_type": "markdown",
      "metadata": {
        "id": "QzzdC-HOyPml"
      },
      "source": [
        "### Grafico 3 "
      ]
    },
    {
      "cell_type": "code",
      "metadata": {
        "id": "7BrybTjJQ52W"
      },
      "source": [
        "x1 = np.linspace(0, 19, len(y1), endpoint=True)\n",
        "x2 = np.linspace(0, 19,len(y2), endpoint=True)\n",
        "x3 = np.linspace(0, 19,len(y3), endpoint=True)"
      ],
      "execution_count": null,
      "outputs": []
    },
    {
      "cell_type": "code",
      "metadata": {
        "colab": {
          "base_uri": "https://localhost:8080/",
          "height": 269
        },
        "id": "rWm6He4TpET-",
        "outputId": "47dff580-c52f-4245-9f3f-624532816ec7"
      },
      "source": [
        "\n",
        "\n",
        "plt.plot(x1, y1d, 'g')\n",
        "plt.plot(x2, y2d, 'b')\n",
        "plt.plot(x3, y3d, 'r')\n",
        "\n",
        "plt.show()"
      ],
      "execution_count": null,
      "outputs": [
        {
          "output_type": "display_data",
          "data": {
            "image/png": "[encoded data removed]",
            "text/plain": [
              "<Figure size 432x288 with 1 Axes>"
            ]
          },
          "metadata": {
            "needs_background": "light"
          }
        }
      ]
    },
    {
      "cell_type": "code",
      "metadata": {
        "id": "-qXpKXnmYQr-"
      },
      "source": [
        ""
      ],
      "execution_count": null,
      "outputs": []
    },
    {
      "cell_type": "markdown",
      "metadata": {
        "id": "50HA2uk7yWh1"
      },
      "source": [
        "### preprazioni dati"
      ]
    },
    {
      "cell_type": "code",
      "metadata": {
        "id": "BPTuc3S8ZzC_"
      },
      "source": [
        "matriceAD = np.zeros((len(y1),2))\n",
        "matriceMCI = np.zeros((len(y2),2))\n",
        "matriceHC = np.zeros((len(y3),2))\n"
      ],
      "execution_count": null,
      "outputs": []
    },
    {
      "cell_type": "code",
      "metadata": {
        "id": "Q0jR8beWIL3G"
      },
      "source": [
        "matriceADHC = np.zeros((len(y1)+len(y3),2))\n",
        "matriceMCIHC = np.zeros((len(y2)+len(y3),2))\n",
        "matriceADMCI = np.zeros((len(y1)+len(y2),2))\n",
        "matriceCASEHC = np.zeros((len(y2)+len(y3)+len(y1),2))"
      ],
      "execution_count": null,
      "outputs": []
    },
    {
      "cell_type": "code",
      "metadata": {
        "id": "WtFO_ThXLalL"
      },
      "source": [
        "for i in range(len(y1)):\n",
        "      matriceAD[i,0]=y1[i]\n",
        "      matriceAD[i,1]=1"
      ],
      "execution_count": null,
      "outputs": []
    },
    {
      "cell_type": "code",
      "metadata": {
        "id": "kL-hWpYLLbHz"
      },
      "source": [
        "for i in range(len(y2)):\n",
        "      matriceMCI[i,0]=y2[i]\n",
        "      matriceMCI[i,1]=2"
      ],
      "execution_count": null,
      "outputs": []
    },
    {
      "cell_type": "code",
      "metadata": {
        "id": "MY9_gL5ihDW_"
      },
      "source": [
        "for i in range(len(y3)):\n",
        "      matriceHC[i,0]=y3[i]\n",
        "      matriceHC[i,1]=3"
      ],
      "execution_count": null,
      "outputs": []
    },
    {
      "cell_type": "code",
      "metadata": {
        "id": "9e4sCOWIpOgI"
      },
      "source": [
        "AD=pd.DataFrame(matriceAD)\n",
        "HC=pd.DataFrame(matriceHC)\n",
        "MCI=pd.DataFrame(matriceMCI)"
      ],
      "execution_count": null,
      "outputs": []
    },
    {
      "cell_type": "code",
      "metadata": {
        "id": "4MryzZx6pO0u"
      },
      "source": [
        "ADHC=AD.copy()\n",
        "ADHC=ADHC.append(HC,ignore_index=True)"
      ],
      "execution_count": null,
      "outputs": []
    },
    {
      "cell_type": "code",
      "metadata": {
        "id": "y07Sf4fHgIYJ"
      },
      "source": [
        "ADMCI=AD.copy()\n",
        "ADMCI=ADMCI.append(MCI,ignore_index=True)"
      ],
      "execution_count": null,
      "outputs": []
    },
    {
      "cell_type": "code",
      "metadata": {
        "id": "0vAqsOd1gI3Y"
      },
      "source": [
        "MCIHC=MCI.copy()\n",
        "MCIHC=MCIHC.append(HC,ignore_index=True)"
      ],
      "execution_count": null,
      "outputs": []
    },
    {
      "cell_type": "code",
      "metadata": {
        "id": "v4mfn9vZgJQO"
      },
      "source": [
        "CASEHC=AD.copy()\n",
        "CASEHC=CASEHC.append(MCI,ignore_index=True)\n",
        "CASEHC=CASEHC.append(HC,ignore_index=True)"
      ],
      "execution_count": null,
      "outputs": []
    },
    {
      "cell_type": "markdown",
      "metadata": {
        "id": "SSj3LcYk1Hnz"
      },
      "source": [
        "## Valutazione modello con frequenza di taglio a 7 hz"
      ]
    },
    {
      "cell_type": "markdown",
      "metadata": {
        "id": "5NBqwdkxdE2x"
      },
      "source": [
        "### Caso1 AD vs HCF"
      ]
    },
    {
      "cell_type": "markdown",
      "metadata": {
        "id": "bXiBZ_UlSmOS"
      },
      "source": [
        "#### 10 RUN"
      ]
    },
    {
      "cell_type": "code",
      "metadata": {
        "colab": {
          "base_uri": "https://localhost:8080/"
        },
        "id": "lGPg45P1MlSi",
        "outputId": "b1b4d91b-9caa-4293-ddb5-221bcbfbc55b"
      },
      "source": [
        "for i in range(10):\n",
        "    df=ADHC.loc[:,0]\n",
        "\n",
        "    X = df.to_numpy()\n",
        "\n",
        "    Y = ADHC.loc[:,1]\n",
        "    y = Y.to_numpy()\n",
        "    y = np.where(y == 1, 1, 0)\n",
        "    #from sklearn.model_selection import train_test_split\n",
        "\n",
        "\n",
        "    X_train, X_test, y_train, y_test = train_test_split(X, y, test_size=0.3,stratify=y)\n",
        "\n",
        "    #pca = PCA(n_components=2)\n",
        "\n",
        "    #X_train_pca = pca.fit_transform(X_train)\n",
        "    #X_test_pca = pca.transform(X_test)\n",
        "\n",
        "    X_train_caso1=X_train\n",
        "    X_test_caso1=X_test\n",
        "    y_train_caso1=y_train\n",
        "    y_test_caso1=y_test\n",
        "    X_train_caso1=X_train_caso1.reshape(-1,1)\n",
        "    X_test_caso1=X_test_caso1.reshape(-1,1)\n",
        "    y_train_caso1=y_train_caso1.reshape(-1,1)\n",
        "    y_test_caso1=y_test_caso1.reshape(-1,1)\n",
        "    tuning_albero_decisione(1,5)\n",
        "    tuning_SVM(1,5)\n",
        "    tuning_KNN(1,5)"
      ],
      "execution_count": null,
      "outputs": [
        {
          "output_type": "stream",
          "name": "stdout",
          "text": [
            "stimatore utilizzato - DecisionTreeClassifier\n",
            "Fitting 5 folds for each of 216 candidates, totalling 1080 fits\n"
          ]
        },
        {
          "output_type": "stream",
          "name": "stderr",
          "text": [
            "[Parallel(n_jobs=-1)]: Using backend LokyBackend with 2 concurrent workers.\n",
            "[Parallel(n_jobs=-1)]: Done 912 tasks      | elapsed:    1.8s\n",
            "[Parallel(n_jobs=-1)]: Done 1080 out of 1080 | elapsed:    1.9s finished\n",
            "[Parallel(n_jobs=-1)]: Using backend LokyBackend with 2 concurrent workers.\n"
          ]
        },
        {
          "output_type": "stream",
          "name": "stdout",
          "text": [
            "Accuratezza fase di Cross Validation con dati di Addestramento/Validazione: 0.960\n",
            "{'criterion': 'gini', 'max_depth': 3, 'min_samples_leaf': 1, 'min_samples_split': 2, 'min_weight_fraction_leaf': 0}\n",
            "Accuratezza con dati di Test: 1.000\n",
            "Risultato sui dati di test:\n",
            "              precision    recall  f1-score   support\n",
            "\n",
            "           0       1.00      1.00      1.00         6\n",
            "           1       1.00      1.00      1.00         6\n",
            "\n",
            "    accuracy                           1.00        12\n",
            "   macro avg       1.00      1.00      1.00        12\n",
            "weighted avg       1.00      1.00      1.00        12\n",
            "\n",
            "[[6 0]\n",
            " [0 6]]\n",
            "Accuratezza Test: 100.000\n",
            "Precisione  Test: 100.000\n",
            "Sensitività Test: 100.000\n",
            "Specificità Test: 100.000\n",
            "F1 score    Test: 100.000\n",
            "stimatore utilizzato - Support vector machine (SVC)\n",
            "Fitting 5 folds for each of 20 candidates, totalling 100 fits\n",
            "Accuratezza fase di Cross Validation con dati di Addestramento/Validazione: 0.960\n",
            "{'kernel': 'linear', 'gamma': 0.001, 'C': 100.0}\n",
            "Accuratezza con dati di Test: 1.000\n",
            "Risultato sui dati di test:\n",
            "              precision    recall  f1-score   support\n",
            "\n",
            "           0       1.00      1.00      1.00         6\n",
            "           1       1.00      1.00      1.00         6\n",
            "\n",
            "    accuracy                           1.00        12\n",
            "   macro avg       1.00      1.00      1.00        12\n",
            "weighted avg       1.00      1.00      1.00        12\n",
            "\n",
            "[[6 0]\n",
            " [0 6]]\n",
            "Accuratezza Test: 100.000\n",
            "Precisione  Test: 100.000\n",
            "Sensitività Test: 100.000\n",
            "Specificità Test: 100.000\n",
            "F1 score    Test: 100.000\n",
            "stimatore utilizzato - KNeighborsClassifier\n",
            "Fitting 5 folds for each of 16 candidates, totalling 80 fits\n"
          ]
        },
        {
          "output_type": "stream",
          "name": "stderr",
          "text": [
            "[Parallel(n_jobs=-1)]: Done 100 out of 100 | elapsed:    0.2s finished\n",
            "/usr/local/lib/python3.7/dist-packages/sklearn/utils/validation.py:760: DataConversionWarning:\n",
            "\n",
            "A column-vector y was passed when a 1d array was expected. Please change the shape of y to (n_samples, ), for example using ravel().\n",
            "\n",
            "[Parallel(n_jobs=-1)]: Using backend LokyBackend with 2 concurrent workers.\n",
            "[Parallel(n_jobs=-1)]: Done  80 out of  80 | elapsed:    0.2s finished\n",
            "/usr/local/lib/python3.7/dist-packages/sklearn/model_selection/_search.py:739: DataConversionWarning:\n",
            "\n",
            "A column-vector y was passed when a 1d array was expected. Please change the shape of y to (n_samples, ), for example using ravel().\n",
            "\n",
            "[Parallel(n_jobs=-1)]: Using backend LokyBackend with 2 concurrent workers.\n"
          ]
        },
        {
          "output_type": "stream",
          "name": "stdout",
          "text": [
            "Accuratezza fase di Cross Validation con dati di Addestramento/Validazione: 0.920\n",
            "{'algorithm': 'auto', 'n_neighbors': 5, 'weights': 'uniform'}\n",
            "Accuratezza con dati di Test: 1.000\n",
            "Risultato sui dati di test:\n",
            "              precision    recall  f1-score   support\n",
            "\n",
            "           0       1.00      1.00      1.00         6\n",
            "           1       1.00      1.00      1.00         6\n",
            "\n",
            "    accuracy                           1.00        12\n",
            "   macro avg       1.00      1.00      1.00        12\n",
            "weighted avg       1.00      1.00      1.00        12\n",
            "\n",
            "[[6 0]\n",
            " [0 6]]\n",
            "Accuratezza Test: 100.000\n",
            "Precisione  Test: 100.000\n",
            "Sensitività Test: 100.000\n",
            "Specificità Test: 100.000\n",
            "F1 score    Test: 100.000\n",
            "stimatore utilizzato - DecisionTreeClassifier\n",
            "Fitting 5 folds for each of 216 candidates, totalling 1080 fits\n"
          ]
        },
        {
          "output_type": "stream",
          "name": "stderr",
          "text": [
            "[Parallel(n_jobs=-1)]: Done 1062 tasks      | elapsed:    1.1s\n",
            "[Parallel(n_jobs=-1)]: Done 1077 out of 1080 | elapsed:    1.2s remaining:    0.0s\n",
            "[Parallel(n_jobs=-1)]: Done 1080 out of 1080 | elapsed:    1.2s finished\n",
            "[Parallel(n_jobs=-1)]: Using backend LokyBackend with 2 concurrent workers.\n"
          ]
        },
        {
          "output_type": "stream",
          "name": "stdout",
          "text": [
            "Accuratezza fase di Cross Validation con dati di Addestramento/Validazione: 0.967\n",
            "{'criterion': 'gini', 'max_depth': 3, 'min_samples_leaf': 1, 'min_samples_split': 2, 'min_weight_fraction_leaf': 0}\n",
            "Accuratezza con dati di Test: 1.000\n",
            "Risultato sui dati di test:\n",
            "              precision    recall  f1-score   support\n",
            "\n",
            "           0       1.00      1.00      1.00         6\n",
            "           1       1.00      1.00      1.00         6\n",
            "\n",
            "    accuracy                           1.00        12\n",
            "   macro avg       1.00      1.00      1.00        12\n",
            "weighted avg       1.00      1.00      1.00        12\n",
            "\n",
            "[[6 0]\n",
            " [0 6]]\n",
            "Accuratezza Test: 100.000\n",
            "Precisione  Test: 100.000\n",
            "Sensitività Test: 100.000\n",
            "Specificità Test: 100.000\n",
            "F1 score    Test: 100.000\n",
            "stimatore utilizzato - Support vector machine (SVC)\n",
            "Fitting 5 folds for each of 20 candidates, totalling 100 fits\n"
          ]
        },
        {
          "output_type": "stream",
          "name": "stderr",
          "text": [
            "[Parallel(n_jobs=-1)]: Done  97 out of 100 | elapsed:    0.2s remaining:    0.0s\n",
            "[Parallel(n_jobs=-1)]: Done 100 out of 100 | elapsed:    0.2s finished\n",
            "/usr/local/lib/python3.7/dist-packages/sklearn/utils/validation.py:760: DataConversionWarning:\n",
            "\n",
            "A column-vector y was passed when a 1d array was expected. Please change the shape of y to (n_samples, ), for example using ravel().\n",
            "\n",
            "[Parallel(n_jobs=-1)]: Using backend LokyBackend with 2 concurrent workers.\n"
          ]
        },
        {
          "output_type": "stream",
          "name": "stdout",
          "text": [
            "Accuratezza fase di Cross Validation con dati di Addestramento/Validazione: 0.967\n",
            "{'kernel': 'linear', 'gamma': 0.0001, 'C': 100.0}\n",
            "Accuratezza con dati di Test: 1.000\n",
            "Risultato sui dati di test:\n",
            "              precision    recall  f1-score   support\n",
            "\n",
            "           0       1.00      1.00      1.00         6\n",
            "           1       1.00      1.00      1.00         6\n",
            "\n",
            "    accuracy                           1.00        12\n",
            "   macro avg       1.00      1.00      1.00        12\n",
            "weighted avg       1.00      1.00      1.00        12\n",
            "\n",
            "[[6 0]\n",
            " [0 6]]\n",
            "Accuratezza Test: 100.000\n",
            "Precisione  Test: 100.000\n",
            "Sensitività Test: 100.000\n",
            "Specificità Test: 100.000\n",
            "F1 score    Test: 100.000\n",
            "stimatore utilizzato - KNeighborsClassifier\n",
            "Fitting 5 folds for each of 16 candidates, totalling 80 fits\n"
          ]
        },
        {
          "output_type": "stream",
          "name": "stderr",
          "text": [
            "[Parallel(n_jobs=-1)]: Done  80 out of  80 | elapsed:    0.3s finished\n",
            "/usr/local/lib/python3.7/dist-packages/sklearn/model_selection/_search.py:739: DataConversionWarning:\n",
            "\n",
            "A column-vector y was passed when a 1d array was expected. Please change the shape of y to (n_samples, ), for example using ravel().\n",
            "\n",
            "[Parallel(n_jobs=-1)]: Using backend LokyBackend with 2 concurrent workers.\n"
          ]
        },
        {
          "output_type": "stream",
          "name": "stdout",
          "text": [
            "Accuratezza fase di Cross Validation con dati di Addestramento/Validazione: 0.967\n",
            "{'algorithm': 'auto', 'n_neighbors': 5, 'weights': 'uniform'}\n",
            "Accuratezza con dati di Test: 1.000\n",
            "Risultato sui dati di test:\n",
            "              precision    recall  f1-score   support\n",
            "\n",
            "           0       1.00      1.00      1.00         6\n",
            "           1       1.00      1.00      1.00         6\n",
            "\n",
            "    accuracy                           1.00        12\n",
            "   macro avg       1.00      1.00      1.00        12\n",
            "weighted avg       1.00      1.00      1.00        12\n",
            "\n",
            "[[6 0]\n",
            " [0 6]]\n",
            "Accuratezza Test: 100.000\n",
            "Precisione  Test: 100.000\n",
            "Sensitività Test: 100.000\n",
            "Specificità Test: 100.000\n",
            "F1 score    Test: 100.000\n",
            "stimatore utilizzato - DecisionTreeClassifier\n",
            "Fitting 5 folds for each of 216 candidates, totalling 1080 fits\n"
          ]
        },
        {
          "output_type": "stream",
          "name": "stderr",
          "text": [
            "[Parallel(n_jobs=-1)]: Done 1062 tasks      | elapsed:    1.2s\n",
            "[Parallel(n_jobs=-1)]: Done 1077 out of 1080 | elapsed:    1.2s remaining:    0.0s\n",
            "[Parallel(n_jobs=-1)]: Done 1080 out of 1080 | elapsed:    1.2s finished\n",
            "[Parallel(n_jobs=-1)]: Using backend LokyBackend with 2 concurrent workers.\n"
          ]
        },
        {
          "output_type": "stream",
          "name": "stdout",
          "text": [
            "Accuratezza fase di Cross Validation con dati di Addestramento/Validazione: 1.000\n",
            "{'criterion': 'gini', 'max_depth': 3, 'min_samples_leaf': 1, 'min_samples_split': 2, 'min_weight_fraction_leaf': 0}\n",
            "Accuratezza con dati di Test: 1.000\n",
            "Risultato sui dati di test:\n",
            "              precision    recall  f1-score   support\n",
            "\n",
            "           0       1.00      1.00      1.00         6\n",
            "           1       1.00      1.00      1.00         6\n",
            "\n",
            "    accuracy                           1.00        12\n",
            "   macro avg       1.00      1.00      1.00        12\n",
            "weighted avg       1.00      1.00      1.00        12\n",
            "\n",
            "[[6 0]\n",
            " [0 6]]\n",
            "Accuratezza Test: 100.000\n",
            "Precisione  Test: 100.000\n",
            "Sensitività Test: 100.000\n",
            "Specificità Test: 100.000\n",
            "F1 score    Test: 100.000\n",
            "stimatore utilizzato - Support vector machine (SVC)\n",
            "Fitting 5 folds for each of 20 candidates, totalling 100 fits\n"
          ]
        },
        {
          "output_type": "stream",
          "name": "stderr",
          "text": [
            "[Parallel(n_jobs=-1)]: Done 100 out of 100 | elapsed:    0.2s finished\n",
            "/usr/local/lib/python3.7/dist-packages/sklearn/utils/validation.py:760: DataConversionWarning:\n",
            "\n",
            "A column-vector y was passed when a 1d array was expected. Please change the shape of y to (n_samples, ), for example using ravel().\n",
            "\n",
            "[Parallel(n_jobs=-1)]: Using backend LokyBackend with 2 concurrent workers.\n"
          ]
        },
        {
          "output_type": "stream",
          "name": "stdout",
          "text": [
            "Accuratezza fase di Cross Validation con dati di Addestramento/Validazione: 1.000\n",
            "{'kernel': 'linear', 'gamma': 1000.0, 'C': 1.0}\n",
            "Accuratezza con dati di Test: 1.000\n",
            "Risultato sui dati di test:\n",
            "              precision    recall  f1-score   support\n",
            "\n",
            "           0       1.00      1.00      1.00         6\n",
            "           1       1.00      1.00      1.00         6\n",
            "\n",
            "    accuracy                           1.00        12\n",
            "   macro avg       1.00      1.00      1.00        12\n",
            "weighted avg       1.00      1.00      1.00        12\n",
            "\n",
            "[[6 0]\n",
            " [0 6]]\n",
            "Accuratezza Test: 100.000\n",
            "Precisione  Test: 100.000\n",
            "Sensitività Test: 100.000\n",
            "Specificità Test: 100.000\n",
            "F1 score    Test: 100.000\n",
            "stimatore utilizzato - KNeighborsClassifier\n",
            "Fitting 5 folds for each of 16 candidates, totalling 80 fits\n"
          ]
        },
        {
          "output_type": "stream",
          "name": "stderr",
          "text": [
            "[Parallel(n_jobs=-1)]: Done  80 out of  80 | elapsed:    0.3s finished\n",
            "/usr/local/lib/python3.7/dist-packages/sklearn/model_selection/_search.py:739: DataConversionWarning:\n",
            "\n",
            "A column-vector y was passed when a 1d array was expected. Please change the shape of y to (n_samples, ), for example using ravel().\n",
            "\n",
            "[Parallel(n_jobs=-1)]: Using backend LokyBackend with 2 concurrent workers.\n"
          ]
        },
        {
          "output_type": "stream",
          "name": "stdout",
          "text": [
            "Accuratezza fase di Cross Validation con dati di Addestramento/Validazione: 0.960\n",
            "{'algorithm': 'auto', 'n_neighbors': 5, 'weights': 'distance'}\n",
            "Accuratezza con dati di Test: 1.000\n",
            "Risultato sui dati di test:\n",
            "              precision    recall  f1-score   support\n",
            "\n",
            "           0       1.00      1.00      1.00         6\n",
            "           1       1.00      1.00      1.00         6\n",
            "\n",
            "    accuracy                           1.00        12\n",
            "   macro avg       1.00      1.00      1.00        12\n",
            "weighted avg       1.00      1.00      1.00        12\n",
            "\n",
            "[[6 0]\n",
            " [0 6]]\n",
            "Accuratezza Test: 100.000\n",
            "Precisione  Test: 100.000\n",
            "Sensitività Test: 100.000\n",
            "Specificità Test: 100.000\n",
            "F1 score    Test: 100.000\n",
            "stimatore utilizzato - DecisionTreeClassifier\n",
            "Fitting 5 folds for each of 216 candidates, totalling 1080 fits\n"
          ]
        },
        {
          "output_type": "stream",
          "name": "stderr",
          "text": [
            "[Parallel(n_jobs=-1)]: Done 1065 tasks      | elapsed:    1.2s\n",
            "[Parallel(n_jobs=-1)]: Done 1077 out of 1080 | elapsed:    1.2s remaining:    0.0s\n",
            "[Parallel(n_jobs=-1)]: Done 1080 out of 1080 | elapsed:    1.2s finished\n",
            "[Parallel(n_jobs=-1)]: Using backend LokyBackend with 2 concurrent workers.\n",
            "[Parallel(n_jobs=-1)]: Done 100 out of 100 | elapsed:    0.2s finished\n",
            "/usr/local/lib/python3.7/dist-packages/sklearn/utils/validation.py:760: DataConversionWarning:\n",
            "\n",
            "A column-vector y was passed when a 1d array was expected. Please change the shape of y to (n_samples, ), for example using ravel().\n",
            "\n"
          ]
        },
        {
          "output_type": "stream",
          "name": "stdout",
          "text": [
            "Accuratezza fase di Cross Validation con dati di Addestramento/Validazione: 1.000\n",
            "{'criterion': 'gini', 'max_depth': 3, 'min_samples_leaf': 1, 'min_samples_split': 2, 'min_weight_fraction_leaf': 0}\n",
            "Accuratezza con dati di Test: 1.000\n",
            "Risultato sui dati di test:\n",
            "              precision    recall  f1-score   support\n",
            "\n",
            "           0       1.00      1.00      1.00         6\n",
            "           1       1.00      1.00      1.00         6\n",
            "\n",
            "    accuracy                           1.00        12\n",
            "   macro avg       1.00      1.00      1.00        12\n",
            "weighted avg       1.00      1.00      1.00        12\n",
            "\n",
            "[[6 0]\n",
            " [0 6]]\n",
            "Accuratezza Test: 100.000\n",
            "Precisione  Test: 100.000\n",
            "Sensitività Test: 100.000\n",
            "Specificità Test: 100.000\n",
            "F1 score    Test: 100.000\n",
            "stimatore utilizzato - Support vector machine (SVC)\n",
            "Fitting 5 folds for each of 20 candidates, totalling 100 fits\n",
            "Accuratezza fase di Cross Validation con dati di Addestramento/Validazione: 1.000\n",
            "{'kernel': 'linear', 'gamma': 1000.0, 'C': 0.0001}\n",
            "Accuratezza con dati di Test: 1.000\n",
            "Risultato sui dati di test:\n",
            "              precision    recall  f1-score   support\n",
            "\n",
            "           0       1.00      1.00      1.00         6\n",
            "           1       1.00      1.00      1.00         6\n",
            "\n",
            "    accuracy                           1.00        12\n",
            "   macro avg       1.00      1.00      1.00        12\n",
            "weighted avg       1.00      1.00      1.00        12\n",
            "\n",
            "[[6 0]\n",
            " [0 6]]\n",
            "Accuratezza Test: 100.000\n",
            "Precisione  Test: 100.000\n",
            "Sensitività Test: 100.000\n",
            "Specificità Test: 100.000\n",
            "F1 score    Test: 100.000\n",
            "stimatore utilizzato - KNeighborsClassifier\n",
            "Fitting 5 folds for each of 16 candidates, totalling 80 fits\n"
          ]
        },
        {
          "output_type": "stream",
          "name": "stderr",
          "text": [
            "[Parallel(n_jobs=-1)]: Using backend LokyBackend with 2 concurrent workers.\n",
            "[Parallel(n_jobs=-1)]: Done  80 out of  80 | elapsed:    0.2s finished\n",
            "/usr/local/lib/python3.7/dist-packages/sklearn/model_selection/_search.py:739: DataConversionWarning:\n",
            "\n",
            "A column-vector y was passed when a 1d array was expected. Please change the shape of y to (n_samples, ), for example using ravel().\n",
            "\n"
          ]
        },
        {
          "output_type": "stream",
          "name": "stdout",
          "text": [
            "Accuratezza fase di Cross Validation con dati di Addestramento/Validazione: 1.000\n",
            "{'algorithm': 'auto', 'n_neighbors': 5, 'weights': 'distance'}\n",
            "Accuratezza con dati di Test: 0.917\n",
            "Risultato sui dati di test:\n",
            "              precision    recall  f1-score   support\n",
            "\n",
            "           0       0.86      1.00      0.92         6\n",
            "           1       1.00      0.83      0.91         6\n",
            "\n",
            "    accuracy                           0.92        12\n",
            "   macro avg       0.93      0.92      0.92        12\n",
            "weighted avg       0.93      0.92      0.92        12\n",
            "\n",
            "[[6 0]\n",
            " [1 5]]\n",
            "Accuratezza Test: 91.000\n",
            "Precisione  Test: 85.000\n",
            "Sensitività Test: 100.000\n",
            "Specificità Test: 83.000\n",
            "F1 score    Test: 91.000\n",
            "stimatore utilizzato - DecisionTreeClassifier\n",
            "Fitting 5 folds for each of 216 candidates, totalling 1080 fits\n"
          ]
        },
        {
          "output_type": "stream",
          "name": "stderr",
          "text": [
            "[Parallel(n_jobs=-1)]: Using backend LokyBackend with 2 concurrent workers.\n",
            "[Parallel(n_jobs=-1)]: Done 1018 tasks      | elapsed:    1.1s\n",
            "[Parallel(n_jobs=-1)]: Done 1080 out of 1080 | elapsed:    1.2s finished\n",
            "[Parallel(n_jobs=-1)]: Using backend LokyBackend with 2 concurrent workers.\n"
          ]
        },
        {
          "output_type": "stream",
          "name": "stdout",
          "text": [
            "Accuratezza fase di Cross Validation con dati di Addestramento/Validazione: 1.000\n",
            "{'criterion': 'gini', 'max_depth': 3, 'min_samples_leaf': 1, 'min_samples_split': 2, 'min_weight_fraction_leaf': 0}\n",
            "Accuratezza con dati di Test: 1.000\n",
            "Risultato sui dati di test:\n",
            "              precision    recall  f1-score   support\n",
            "\n",
            "           0       1.00      1.00      1.00         6\n",
            "           1       1.00      1.00      1.00         6\n",
            "\n",
            "    accuracy                           1.00        12\n",
            "   macro avg       1.00      1.00      1.00        12\n",
            "weighted avg       1.00      1.00      1.00        12\n",
            "\n",
            "[[6 0]\n",
            " [0 6]]\n",
            "Accuratezza Test: 100.000\n",
            "Precisione  Test: 100.000\n",
            "Sensitività Test: 100.000\n",
            "Specificità Test: 100.000\n",
            "F1 score    Test: 100.000\n",
            "stimatore utilizzato - Support vector machine (SVC)\n",
            "Fitting 5 folds for each of 20 candidates, totalling 100 fits\n"
          ]
        },
        {
          "output_type": "stream",
          "name": "stderr",
          "text": [
            "[Parallel(n_jobs=-1)]: Done 100 out of 100 | elapsed:    0.2s finished\n",
            "/usr/local/lib/python3.7/dist-packages/sklearn/utils/validation.py:760: DataConversionWarning:\n",
            "\n",
            "A column-vector y was passed when a 1d array was expected. Please change the shape of y to (n_samples, ), for example using ravel().\n",
            "\n",
            "[Parallel(n_jobs=-1)]: Using backend LokyBackend with 2 concurrent workers.\n"
          ]
        },
        {
          "output_type": "stream",
          "name": "stdout",
          "text": [
            "Accuratezza fase di Cross Validation con dati di Addestramento/Validazione: 1.000\n",
            "{'kernel': 'linear', 'gamma': 1.0, 'C': 10.0}\n",
            "Accuratezza con dati di Test: 1.000\n",
            "Risultato sui dati di test:\n",
            "              precision    recall  f1-score   support\n",
            "\n",
            "           0       1.00      1.00      1.00         6\n",
            "           1       1.00      1.00      1.00         6\n",
            "\n",
            "    accuracy                           1.00        12\n",
            "   macro avg       1.00      1.00      1.00        12\n",
            "weighted avg       1.00      1.00      1.00        12\n",
            "\n",
            "[[6 0]\n",
            " [0 6]]\n",
            "Accuratezza Test: 100.000\n",
            "Precisione  Test: 100.000\n",
            "Sensitività Test: 100.000\n",
            "Specificità Test: 100.000\n",
            "F1 score    Test: 100.000\n",
            "stimatore utilizzato - KNeighborsClassifier\n",
            "Fitting 5 folds for each of 16 candidates, totalling 80 fits\n"
          ]
        },
        {
          "output_type": "stream",
          "name": "stderr",
          "text": [
            "[Parallel(n_jobs=-1)]: Done  80 out of  80 | elapsed:    0.2s finished\n",
            "/usr/local/lib/python3.7/dist-packages/sklearn/model_selection/_search.py:739: DataConversionWarning:\n",
            "\n",
            "A column-vector y was passed when a 1d array was expected. Please change the shape of y to (n_samples, ), for example using ravel().\n",
            "\n",
            "[Parallel(n_jobs=-1)]: Using backend LokyBackend with 2 concurrent workers.\n"
          ]
        },
        {
          "output_type": "stream",
          "name": "stdout",
          "text": [
            "Accuratezza fase di Cross Validation con dati di Addestramento/Validazione: 0.920\n",
            "{'algorithm': 'auto', 'n_neighbors': 5, 'weights': 'uniform'}\n",
            "Accuratezza con dati di Test: 1.000\n",
            "Risultato sui dati di test:\n",
            "              precision    recall  f1-score   support\n",
            "\n",
            "           0       1.00      1.00      1.00         6\n",
            "           1       1.00      1.00      1.00         6\n",
            "\n",
            "    accuracy                           1.00        12\n",
            "   macro avg       1.00      1.00      1.00        12\n",
            "weighted avg       1.00      1.00      1.00        12\n",
            "\n",
            "[[6 0]\n",
            " [0 6]]\n",
            "Accuratezza Test: 100.000\n",
            "Precisione  Test: 100.000\n",
            "Sensitività Test: 100.000\n",
            "Specificità Test: 100.000\n",
            "F1 score    Test: 100.000\n",
            "stimatore utilizzato - DecisionTreeClassifier\n",
            "Fitting 5 folds for each of 216 candidates, totalling 1080 fits\n"
          ]
        },
        {
          "output_type": "stream",
          "name": "stderr",
          "text": [
            "[Parallel(n_jobs=-1)]: Done 1062 tasks      | elapsed:    1.4s\n",
            "[Parallel(n_jobs=-1)]: Done 1077 out of 1080 | elapsed:    1.4s remaining:    0.0s\n",
            "[Parallel(n_jobs=-1)]: Done 1080 out of 1080 | elapsed:    1.4s finished\n",
            "[Parallel(n_jobs=-1)]: Using backend LokyBackend with 2 concurrent workers.\n"
          ]
        },
        {
          "output_type": "stream",
          "name": "stdout",
          "text": [
            "Accuratezza fase di Cross Validation con dati di Addestramento/Validazione: 0.960\n",
            "{'criterion': 'gini', 'max_depth': 3, 'min_samples_leaf': 1, 'min_samples_split': 2, 'min_weight_fraction_leaf': 0}\n",
            "Accuratezza con dati di Test: 1.000\n",
            "Risultato sui dati di test:\n",
            "              precision    recall  f1-score   support\n",
            "\n",
            "           0       1.00      1.00      1.00         6\n",
            "           1       1.00      1.00      1.00         6\n",
            "\n",
            "    accuracy                           1.00        12\n",
            "   macro avg       1.00      1.00      1.00        12\n",
            "weighted avg       1.00      1.00      1.00        12\n",
            "\n",
            "[[6 0]\n",
            " [0 6]]\n",
            "Accuratezza Test: 100.000\n",
            "Precisione  Test: 100.000\n",
            "Sensitività Test: 100.000\n",
            "Specificità Test: 100.000\n",
            "F1 score    Test: 100.000\n",
            "stimatore utilizzato - Support vector machine (SVC)\n",
            "Fitting 5 folds for each of 20 candidates, totalling 100 fits\n"
          ]
        },
        {
          "output_type": "stream",
          "name": "stderr",
          "text": [
            "[Parallel(n_jobs=-1)]: Done 100 out of 100 | elapsed:    0.2s finished\n",
            "/usr/local/lib/python3.7/dist-packages/sklearn/utils/validation.py:760: DataConversionWarning:\n",
            "\n",
            "A column-vector y was passed when a 1d array was expected. Please change the shape of y to (n_samples, ), for example using ravel().\n",
            "\n",
            "[Parallel(n_jobs=-1)]: Using backend LokyBackend with 2 concurrent workers.\n"
          ]
        },
        {
          "output_type": "stream",
          "name": "stdout",
          "text": [
            "Accuratezza fase di Cross Validation con dati di Addestramento/Validazione: 0.960\n",
            "{'kernel': 'linear', 'gamma': 0.1, 'C': 1.0}\n",
            "Accuratezza con dati di Test: 1.000\n",
            "Risultato sui dati di test:\n",
            "              precision    recall  f1-score   support\n",
            "\n",
            "           0       1.00      1.00      1.00         6\n",
            "           1       1.00      1.00      1.00         6\n",
            "\n",
            "    accuracy                           1.00        12\n",
            "   macro avg       1.00      1.00      1.00        12\n",
            "weighted avg       1.00      1.00      1.00        12\n",
            "\n",
            "[[6 0]\n",
            " [0 6]]\n",
            "Accuratezza Test: 100.000\n",
            "Precisione  Test: 100.000\n",
            "Sensitività Test: 100.000\n",
            "Specificità Test: 100.000\n",
            "F1 score    Test: 100.000\n",
            "stimatore utilizzato - KNeighborsClassifier\n",
            "Fitting 5 folds for each of 16 candidates, totalling 80 fits\n"
          ]
        },
        {
          "output_type": "stream",
          "name": "stderr",
          "text": [
            "[Parallel(n_jobs=-1)]: Done  80 out of  80 | elapsed:    0.3s finished\n",
            "/usr/local/lib/python3.7/dist-packages/sklearn/model_selection/_search.py:739: DataConversionWarning:\n",
            "\n",
            "A column-vector y was passed when a 1d array was expected. Please change the shape of y to (n_samples, ), for example using ravel().\n",
            "\n",
            "[Parallel(n_jobs=-1)]: Using backend LokyBackend with 2 concurrent workers.\n"
          ]
        },
        {
          "output_type": "stream",
          "name": "stdout",
          "text": [
            "Accuratezza fase di Cross Validation con dati di Addestramento/Validazione: 0.920\n",
            "{'algorithm': 'auto', 'n_neighbors': 5, 'weights': 'uniform'}\n",
            "Accuratezza con dati di Test: 0.917\n",
            "Risultato sui dati di test:\n",
            "              precision    recall  f1-score   support\n",
            "\n",
            "           0       0.86      1.00      0.92         6\n",
            "           1       1.00      0.83      0.91         6\n",
            "\n",
            "    accuracy                           0.92        12\n",
            "   macro avg       0.93      0.92      0.92        12\n",
            "weighted avg       0.93      0.92      0.92        12\n",
            "\n",
            "[[6 0]\n",
            " [1 5]]\n",
            "Accuratezza Test: 91.000\n",
            "Precisione  Test: 85.000\n",
            "Sensitività Test: 100.000\n",
            "Specificità Test: 83.000\n",
            "F1 score    Test: 91.000\n",
            "stimatore utilizzato - DecisionTreeClassifier\n",
            "Fitting 5 folds for each of 216 candidates, totalling 1080 fits\n"
          ]
        },
        {
          "output_type": "stream",
          "name": "stderr",
          "text": [
            "[Parallel(n_jobs=-1)]: Done 1062 tasks      | elapsed:    1.2s\n",
            "[Parallel(n_jobs=-1)]: Done 1077 out of 1080 | elapsed:    1.3s remaining:    0.0s\n",
            "[Parallel(n_jobs=-1)]: Done 1080 out of 1080 | elapsed:    1.3s finished\n",
            "[Parallel(n_jobs=-1)]: Using backend LokyBackend with 2 concurrent workers.\n"
          ]
        },
        {
          "output_type": "stream",
          "name": "stdout",
          "text": [
            "Accuratezza fase di Cross Validation con dati di Addestramento/Validazione: 1.000\n",
            "{'criterion': 'gini', 'max_depth': 3, 'min_samples_leaf': 1, 'min_samples_split': 2, 'min_weight_fraction_leaf': 0}\n",
            "Accuratezza con dati di Test: 1.000\n",
            "Risultato sui dati di test:\n",
            "              precision    recall  f1-score   support\n",
            "\n",
            "           0       1.00      1.00      1.00         6\n",
            "           1       1.00      1.00      1.00         6\n",
            "\n",
            "    accuracy                           1.00        12\n",
            "   macro avg       1.00      1.00      1.00        12\n",
            "weighted avg       1.00      1.00      1.00        12\n",
            "\n",
            "[[6 0]\n",
            " [0 6]]\n",
            "Accuratezza Test: 100.000\n",
            "Precisione  Test: 100.000\n",
            "Sensitività Test: 100.000\n",
            "Specificità Test: 100.000\n",
            "F1 score    Test: 100.000\n",
            "stimatore utilizzato - Support vector machine (SVC)\n",
            "Fitting 5 folds for each of 20 candidates, totalling 100 fits\n"
          ]
        },
        {
          "output_type": "stream",
          "name": "stderr",
          "text": [
            "[Parallel(n_jobs=-1)]: Done 100 out of 100 | elapsed:    0.2s finished\n",
            "/usr/local/lib/python3.7/dist-packages/sklearn/utils/validation.py:760: DataConversionWarning:\n",
            "\n",
            "A column-vector y was passed when a 1d array was expected. Please change the shape of y to (n_samples, ), for example using ravel().\n",
            "\n",
            "[Parallel(n_jobs=-1)]: Using backend LokyBackend with 2 concurrent workers.\n",
            "[Parallel(n_jobs=-1)]: Done  77 out of  80 | elapsed:    0.2s remaining:    0.0s\n",
            "[Parallel(n_jobs=-1)]: Done  80 out of  80 | elapsed:    0.2s finished\n"
          ]
        },
        {
          "output_type": "stream",
          "name": "stdout",
          "text": [
            "Accuratezza fase di Cross Validation con dati di Addestramento/Validazione: 1.000\n",
            "{'kernel': 'linear', 'gamma': 1.0, 'C': 0.01}\n",
            "Accuratezza con dati di Test: 1.000\n",
            "Risultato sui dati di test:\n",
            "              precision    recall  f1-score   support\n",
            "\n",
            "           0       1.00      1.00      1.00         6\n",
            "           1       1.00      1.00      1.00         6\n",
            "\n",
            "    accuracy                           1.00        12\n",
            "   macro avg       1.00      1.00      1.00        12\n",
            "weighted avg       1.00      1.00      1.00        12\n",
            "\n",
            "[[6 0]\n",
            " [0 6]]\n",
            "Accuratezza Test: 100.000\n",
            "Precisione  Test: 100.000\n",
            "Sensitività Test: 100.000\n",
            "Specificità Test: 100.000\n",
            "F1 score    Test: 100.000\n",
            "stimatore utilizzato - KNeighborsClassifier\n",
            "Fitting 5 folds for each of 16 candidates, totalling 80 fits\n",
            "Accuratezza fase di Cross Validation con dati di Addestramento/Validazione: 0.960\n",
            "{'algorithm': 'auto', 'n_neighbors': 5, 'weights': 'distance'}\n",
            "Accuratezza con dati di Test: 1.000\n",
            "Risultato sui dati di test:\n",
            "              precision    recall  f1-score   support\n",
            "\n",
            "           0       1.00      1.00      1.00         6\n",
            "           1       1.00      1.00      1.00         6\n",
            "\n",
            "    accuracy                           1.00        12\n",
            "   macro avg       1.00      1.00      1.00        12\n",
            "weighted avg       1.00      1.00      1.00        12\n",
            "\n",
            "[[6 0]\n",
            " [0 6]]\n",
            "Accuratezza Test: 100.000\n",
            "Precisione  Test: 100.000\n",
            "Sensitività Test: 100.000\n",
            "Specificità Test: 100.000\n",
            "F1 score    Test: 100.000\n",
            "stimatore utilizzato - DecisionTreeClassifier\n",
            "Fitting 5 folds for each of 216 candidates, totalling 1080 fits\n"
          ]
        },
        {
          "output_type": "stream",
          "name": "stderr",
          "text": [
            "/usr/local/lib/python3.7/dist-packages/sklearn/model_selection/_search.py:739: DataConversionWarning:\n",
            "\n",
            "A column-vector y was passed when a 1d array was expected. Please change the shape of y to (n_samples, ), for example using ravel().\n",
            "\n",
            "[Parallel(n_jobs=-1)]: Using backend LokyBackend with 2 concurrent workers.\n",
            "[Parallel(n_jobs=-1)]: Done 1062 tasks      | elapsed:    1.1s\n",
            "[Parallel(n_jobs=-1)]: Done 1077 out of 1080 | elapsed:    1.1s remaining:    0.0s\n",
            "[Parallel(n_jobs=-1)]: Done 1080 out of 1080 | elapsed:    1.1s finished\n",
            "[Parallel(n_jobs=-1)]: Using backend LokyBackend with 2 concurrent workers.\n"
          ]
        },
        {
          "output_type": "stream",
          "name": "stdout",
          "text": [
            "Accuratezza fase di Cross Validation con dati di Addestramento/Validazione: 1.000\n",
            "{'criterion': 'gini', 'max_depth': 3, 'min_samples_leaf': 1, 'min_samples_split': 2, 'min_weight_fraction_leaf': 0}\n",
            "Accuratezza con dati di Test: 1.000\n",
            "Risultato sui dati di test:\n",
            "              precision    recall  f1-score   support\n",
            "\n",
            "           0       1.00      1.00      1.00         6\n",
            "           1       1.00      1.00      1.00         6\n",
            "\n",
            "    accuracy                           1.00        12\n",
            "   macro avg       1.00      1.00      1.00        12\n",
            "weighted avg       1.00      1.00      1.00        12\n",
            "\n",
            "[[6 0]\n",
            " [0 6]]\n",
            "Accuratezza Test: 100.000\n",
            "Precisione  Test: 100.000\n",
            "Sensitività Test: 100.000\n",
            "Specificità Test: 100.000\n",
            "F1 score    Test: 100.000\n",
            "stimatore utilizzato - Support vector machine (SVC)\n",
            "Fitting 5 folds for each of 20 candidates, totalling 100 fits\n"
          ]
        },
        {
          "output_type": "stream",
          "name": "stderr",
          "text": [
            "[Parallel(n_jobs=-1)]: Done 100 out of 100 | elapsed:    0.2s finished\n",
            "/usr/local/lib/python3.7/dist-packages/sklearn/utils/validation.py:760: DataConversionWarning:\n",
            "\n",
            "A column-vector y was passed when a 1d array was expected. Please change the shape of y to (n_samples, ), for example using ravel().\n",
            "\n",
            "[Parallel(n_jobs=-1)]: Using backend LokyBackend with 2 concurrent workers.\n",
            "[Parallel(n_jobs=-1)]: Done  80 out of  80 | elapsed:    0.2s finished\n",
            "/usr/local/lib/python3.7/dist-packages/sklearn/model_selection/_search.py:739: DataConversionWarning:\n",
            "\n",
            "A column-vector y was passed when a 1d array was expected. Please change the shape of y to (n_samples, ), for example using ravel().\n",
            "\n"
          ]
        },
        {
          "output_type": "stream",
          "name": "stdout",
          "text": [
            "Accuratezza fase di Cross Validation con dati di Addestramento/Validazione: 1.000\n",
            "{'kernel': 'linear', 'gamma': 1.0, 'C': 0.0001}\n",
            "Accuratezza con dati di Test: 1.000\n",
            "Risultato sui dati di test:\n",
            "              precision    recall  f1-score   support\n",
            "\n",
            "           0       1.00      1.00      1.00         6\n",
            "           1       1.00      1.00      1.00         6\n",
            "\n",
            "    accuracy                           1.00        12\n",
            "   macro avg       1.00      1.00      1.00        12\n",
            "weighted avg       1.00      1.00      1.00        12\n",
            "\n",
            "[[6 0]\n",
            " [0 6]]\n",
            "Accuratezza Test: 100.000\n",
            "Precisione  Test: 100.000\n",
            "Sensitività Test: 100.000\n",
            "Specificità Test: 100.000\n",
            "F1 score    Test: 100.000\n",
            "stimatore utilizzato - KNeighborsClassifier\n",
            "Fitting 5 folds for each of 16 candidates, totalling 80 fits\n",
            "Accuratezza fase di Cross Validation con dati di Addestramento/Validazione: 0.967\n",
            "{'algorithm': 'auto', 'n_neighbors': 5, 'weights': 'distance'}\n",
            "Accuratezza con dati di Test: 1.000\n",
            "Risultato sui dati di test:\n",
            "              precision    recall  f1-score   support\n",
            "\n",
            "           0       1.00      1.00      1.00         6\n",
            "           1       1.00      1.00      1.00         6\n",
            "\n",
            "    accuracy                           1.00        12\n",
            "   macro avg       1.00      1.00      1.00        12\n",
            "weighted avg       1.00      1.00      1.00        12\n",
            "\n",
            "[[6 0]\n",
            " [0 6]]\n",
            "Accuratezza Test: 100.000\n",
            "Precisione  Test: 100.000\n",
            "Sensitività Test: 100.000\n",
            "Specificità Test: 100.000\n",
            "F1 score    Test: 100.000\n",
            "stimatore utilizzato - DecisionTreeClassifier\n",
            "Fitting 5 folds for each of 216 candidates, totalling 1080 fits\n"
          ]
        },
        {
          "output_type": "stream",
          "name": "stderr",
          "text": [
            "[Parallel(n_jobs=-1)]: Using backend LokyBackend with 2 concurrent workers.\n",
            "[Parallel(n_jobs=-1)]: Done 1064 tasks      | elapsed:    1.2s\n",
            "[Parallel(n_jobs=-1)]: Done 1080 out of 1080 | elapsed:    1.2s finished\n",
            "[Parallel(n_jobs=-1)]: Using backend LokyBackend with 2 concurrent workers.\n"
          ]
        },
        {
          "output_type": "stream",
          "name": "stdout",
          "text": [
            "Accuratezza fase di Cross Validation con dati di Addestramento/Validazione: 1.000\n",
            "{'criterion': 'gini', 'max_depth': 3, 'min_samples_leaf': 1, 'min_samples_split': 2, 'min_weight_fraction_leaf': 0}\n",
            "Accuratezza con dati di Test: 1.000\n",
            "Risultato sui dati di test:\n",
            "              precision    recall  f1-score   support\n",
            "\n",
            "           0       1.00      1.00      1.00         6\n",
            "           1       1.00      1.00      1.00         6\n",
            "\n",
            "    accuracy                           1.00        12\n",
            "   macro avg       1.00      1.00      1.00        12\n",
            "weighted avg       1.00      1.00      1.00        12\n",
            "\n",
            "[[6 0]\n",
            " [0 6]]\n",
            "Accuratezza Test: 100.000\n",
            "Precisione  Test: 100.000\n",
            "Sensitività Test: 100.000\n",
            "Specificità Test: 100.000\n",
            "F1 score    Test: 100.000\n",
            "stimatore utilizzato - Support vector machine (SVC)\n",
            "Fitting 5 folds for each of 20 candidates, totalling 100 fits\n"
          ]
        },
        {
          "output_type": "stream",
          "name": "stderr",
          "text": [
            "[Parallel(n_jobs=-1)]: Done 100 out of 100 | elapsed:    0.2s finished\n",
            "/usr/local/lib/python3.7/dist-packages/sklearn/utils/validation.py:760: DataConversionWarning:\n",
            "\n",
            "A column-vector y was passed when a 1d array was expected. Please change the shape of y to (n_samples, ), for example using ravel().\n",
            "\n",
            "[Parallel(n_jobs=-1)]: Using backend LokyBackend with 2 concurrent workers.\n"
          ]
        },
        {
          "output_type": "stream",
          "name": "stdout",
          "text": [
            "Accuratezza fase di Cross Validation con dati di Addestramento/Validazione: 1.000\n",
            "{'kernel': 'linear', 'gamma': 0.01, 'C': 10.0}\n",
            "Accuratezza con dati di Test: 1.000\n",
            "Risultato sui dati di test:\n",
            "              precision    recall  f1-score   support\n",
            "\n",
            "           0       1.00      1.00      1.00         6\n",
            "           1       1.00      1.00      1.00         6\n",
            "\n",
            "    accuracy                           1.00        12\n",
            "   macro avg       1.00      1.00      1.00        12\n",
            "weighted avg       1.00      1.00      1.00        12\n",
            "\n",
            "[[6 0]\n",
            " [0 6]]\n",
            "Accuratezza Test: 100.000\n",
            "Precisione  Test: 100.000\n",
            "Sensitività Test: 100.000\n",
            "Specificità Test: 100.000\n",
            "F1 score    Test: 100.000\n",
            "stimatore utilizzato - KNeighborsClassifier\n",
            "Fitting 5 folds for each of 16 candidates, totalling 80 fits\n"
          ]
        },
        {
          "output_type": "stream",
          "name": "stderr",
          "text": [
            "[Parallel(n_jobs=-1)]: Done  80 out of  80 | elapsed:    0.3s finished\n",
            "/usr/local/lib/python3.7/dist-packages/sklearn/model_selection/_search.py:739: DataConversionWarning:\n",
            "\n",
            "A column-vector y was passed when a 1d array was expected. Please change the shape of y to (n_samples, ), for example using ravel().\n",
            "\n",
            "[Parallel(n_jobs=-1)]: Using backend LokyBackend with 2 concurrent workers.\n"
          ]
        },
        {
          "output_type": "stream",
          "name": "stdout",
          "text": [
            "Accuratezza fase di Cross Validation con dati di Addestramento/Validazione: 0.960\n",
            "{'algorithm': 'auto', 'n_neighbors': 5, 'weights': 'distance'}\n",
            "Accuratezza con dati di Test: 1.000\n",
            "Risultato sui dati di test:\n",
            "              precision    recall  f1-score   support\n",
            "\n",
            "           0       1.00      1.00      1.00         6\n",
            "           1       1.00      1.00      1.00         6\n",
            "\n",
            "    accuracy                           1.00        12\n",
            "   macro avg       1.00      1.00      1.00        12\n",
            "weighted avg       1.00      1.00      1.00        12\n",
            "\n",
            "[[6 0]\n",
            " [0 6]]\n",
            "Accuratezza Test: 100.000\n",
            "Precisione  Test: 100.000\n",
            "Sensitività Test: 100.000\n",
            "Specificità Test: 100.000\n",
            "F1 score    Test: 100.000\n",
            "stimatore utilizzato - DecisionTreeClassifier\n",
            "Fitting 5 folds for each of 216 candidates, totalling 1080 fits\n"
          ]
        },
        {
          "output_type": "stream",
          "name": "stderr",
          "text": [
            "[Parallel(n_jobs=-1)]: Done 1062 tasks      | elapsed:    1.1s\n",
            "[Parallel(n_jobs=-1)]: Done 1077 out of 1080 | elapsed:    1.2s remaining:    0.0s\n",
            "[Parallel(n_jobs=-1)]: Done 1080 out of 1080 | elapsed:    1.2s finished\n",
            "[Parallel(n_jobs=-1)]: Using backend LokyBackend with 2 concurrent workers.\n"
          ]
        },
        {
          "output_type": "stream",
          "name": "stdout",
          "text": [
            "Accuratezza fase di Cross Validation con dati di Addestramento/Validazione: 0.960\n",
            "{'criterion': 'gini', 'max_depth': 3, 'min_samples_leaf': 1, 'min_samples_split': 2, 'min_weight_fraction_leaf': 0}\n",
            "Accuratezza con dati di Test: 1.000\n",
            "Risultato sui dati di test:\n",
            "              precision    recall  f1-score   support\n",
            "\n",
            "           0       1.00      1.00      1.00         6\n",
            "           1       1.00      1.00      1.00         6\n",
            "\n",
            "    accuracy                           1.00        12\n",
            "   macro avg       1.00      1.00      1.00        12\n",
            "weighted avg       1.00      1.00      1.00        12\n",
            "\n",
            "[[6 0]\n",
            " [0 6]]\n",
            "Accuratezza Test: 100.000\n",
            "Precisione  Test: 100.000\n",
            "Sensitività Test: 100.000\n",
            "Specificità Test: 100.000\n",
            "F1 score    Test: 100.000\n",
            "stimatore utilizzato - Support vector machine (SVC)\n",
            "Fitting 5 folds for each of 20 candidates, totalling 100 fits\n",
            "Accuratezza fase di Cross Validation con dati di Addestramento/Validazione: 0.960\n",
            "{'kernel': 'linear', 'gamma': 0.0001, 'C': 0.001}\n",
            "Accuratezza con dati di Test: 1.000\n",
            "Risultato sui dati di test:\n",
            "              precision    recall  f1-score   support\n",
            "\n",
            "           0       1.00      1.00      1.00         6\n",
            "           1       1.00      1.00      1.00         6\n",
            "\n",
            "    accuracy                           1.00        12\n",
            "   macro avg       1.00      1.00      1.00        12\n",
            "weighted avg       1.00      1.00      1.00        12\n",
            "\n",
            "[[6 0]\n",
            " [0 6]]\n",
            "Accuratezza Test: 100.000\n",
            "Precisione  Test: 100.000\n",
            "Sensitività Test: 100.000\n",
            "Specificità Test: 100.000\n",
            "F1 score    Test: 100.000\n",
            "stimatore utilizzato - KNeighborsClassifier\n"
          ]
        },
        {
          "output_type": "stream",
          "name": "stderr",
          "text": [
            "[Parallel(n_jobs=-1)]: Done 100 out of 100 | elapsed:    0.2s finished\n",
            "/usr/local/lib/python3.7/dist-packages/sklearn/utils/validation.py:760: DataConversionWarning:\n",
            "\n",
            "A column-vector y was passed when a 1d array was expected. Please change the shape of y to (n_samples, ), for example using ravel().\n",
            "\n",
            "[Parallel(n_jobs=-1)]: Using backend LokyBackend with 2 concurrent workers.\n"
          ]
        },
        {
          "output_type": "stream",
          "name": "stdout",
          "text": [
            "Fitting 5 folds for each of 16 candidates, totalling 80 fits\n",
            "Accuratezza fase di Cross Validation con dati di Addestramento/Validazione: 0.960\n",
            "{'algorithm': 'auto', 'n_neighbors': 5, 'weights': 'uniform'}\n",
            "Accuratezza con dati di Test: 0.917\n",
            "Risultato sui dati di test:\n",
            "              precision    recall  f1-score   support\n",
            "\n",
            "           0       0.86      1.00      0.92         6\n",
            "           1       1.00      0.83      0.91         6\n",
            "\n",
            "    accuracy                           0.92        12\n",
            "   macro avg       0.93      0.92      0.92        12\n",
            "weighted avg       0.93      0.92      0.92        12\n",
            "\n",
            "[[6 0]\n",
            " [1 5]]\n",
            "Accuratezza Test: 91.000\n",
            "Precisione  Test: 85.000\n",
            "Sensitività Test: 100.000\n",
            "Specificità Test: 83.000\n",
            "F1 score    Test: 91.000\n"
          ]
        },
        {
          "output_type": "stream",
          "name": "stderr",
          "text": [
            "[Parallel(n_jobs=-1)]: Done  80 out of  80 | elapsed:    0.2s finished\n",
            "/usr/local/lib/python3.7/dist-packages/sklearn/model_selection/_search.py:739: DataConversionWarning:\n",
            "\n",
            "A column-vector y was passed when a 1d array was expected. Please change the shape of y to (n_samples, ), for example using ravel().\n",
            "\n"
          ]
        }
      ]
    },
    {
      "cell_type": "markdown",
      "metadata": {
        "id": "0DkhtVUWSwic"
      },
      "source": [
        "#### Run Singolo\n"
      ]
    },
    {
      "cell_type": "code",
      "metadata": {
        "id": "nrP3khsfI1nS"
      },
      "source": [
        "df=ADHC.loc[:,0]\n",
        "\n",
        "X = df.to_numpy()\n",
        "\n",
        "Y = ADHC.loc[:,1]\n",
        "y = Y.to_numpy()"
      ],
      "execution_count": null,
      "outputs": []
    },
    {
      "cell_type": "code",
      "metadata": {
        "id": "r4XdxOnhhc2g"
      },
      "source": [
        "y = np.where(y == 1, 1, 0)"
      ],
      "execution_count": null,
      "outputs": []
    },
    {
      "cell_type": "code",
      "metadata": {
        "id": "Y6SWgOuOI2fh"
      },
      "source": [
        "df=ADHC.loc[:,0]\n",
        "\n",
        "X = df.to_numpy()\n",
        "\n",
        "Y = ADHC.loc[:,1]\n",
        "y = Y.to_numpy()\n",
        "y = np.where(y == 1, 1, 0)\n",
        "#from sklearn.model_selection import train_test_split\n",
        "\n",
        "\n",
        "X_train, X_test, y_train, y_test = train_test_split(X, y, test_size=0.3,stratify=y)\n",
        "\n",
        "#pca = PCA(n_components=2)\n",
        "\n",
        "#X_train_pca = pca.fit_transform(X_train)\n",
        "#X_test_pca = pca.transform(X_test)\n",
        "\n",
        "X_train_caso1=X_train\n",
        "X_test_caso1=X_test\n",
        "y_train_caso1=y_train\n",
        "y_test_caso1=y_test\n",
        "\n"
      ],
      "execution_count": null,
      "outputs": []
    },
    {
      "cell_type": "code",
      "metadata": {
        "id": "ZkvgvV-PHCLo"
      },
      "source": [
        "X_train_caso1=X_train_caso1.reshape(-1,1)\n",
        "X_test_caso1=X_test_caso1.reshape(-1,1)\n",
        "y_train_caso1=y_train_caso1.reshape(-1,1)\n",
        "y_test_caso1=y_test_caso1.reshape(-1,1)\n"
      ],
      "execution_count": null,
      "outputs": []
    },
    {
      "cell_type": "code",
      "metadata": {
        "id": "uh3T9J6cKcyI"
      },
      "source": [
        ""
      ],
      "execution_count": null,
      "outputs": []
    },
    {
      "cell_type": "code",
      "metadata": {
        "colab": {
          "base_uri": "https://localhost:8080/"
        },
        "id": "Fjz8NPpHdNtn",
        "outputId": "fc882798-bb6a-401c-be07-8e4beb42f233"
      },
      "source": [
        "tuning_albero_decisione(1,5)"
      ],
      "execution_count": null,
      "outputs": [
        {
          "output_type": "stream",
          "name": "stdout",
          "text": [
            "Fitting 5 folds for each of 216 candidates, totalling 1080 fits\n"
          ]
        },
        {
          "output_type": "stream",
          "name": "stderr",
          "text": [
            "[Parallel(n_jobs=-1)]: Using backend LokyBackend with 2 concurrent workers.\n"
          ]
        },
        {
          "output_type": "stream",
          "name": "stdout",
          "text": [
            "Accuratezza fase di Cross Validation con dati di Addestramento/Validazione: 1.000\n",
            "{'criterion': 'gini', 'max_depth': 3, 'min_samples_leaf': 1, 'min_samples_split': 2, 'min_weight_fraction_leaf': 0}\n",
            "Accuratezza con dati di Test: 1.000\n",
            "Risultato sui dati di test:\n",
            "              precision    recall  f1-score   support\n",
            "\n",
            "           0       1.00      1.00      1.00         6\n",
            "           1       1.00      1.00      1.00         6\n",
            "\n",
            "    accuracy                           1.00        12\n",
            "   macro avg       1.00      1.00      1.00        12\n",
            "weighted avg       1.00      1.00      1.00        12\n",
            "\n",
            "[[6 0]\n",
            " [0 6]]\n",
            "Accuratezza Test: 100.000\n",
            "Precisione  Test: 100.000\n",
            "Sensitività Test: 100.000\n",
            "Specificità Test: 100.000\n",
            "F1 score    Test: 100.000\n"
          ]
        },
        {
          "output_type": "stream",
          "name": "stderr",
          "text": [
            "[Parallel(n_jobs=-1)]: Done 960 tasks      | elapsed:    1.0s\n",
            "[Parallel(n_jobs=-1)]: Done 1080 out of 1080 | elapsed:    1.1s finished\n"
          ]
        }
      ]
    },
    {
      "cell_type": "code",
      "metadata": {
        "colab": {
          "base_uri": "https://localhost:8080/"
        },
        "id": "WS-Rbkf5fhlC",
        "outputId": "e8a7e839-628a-4faa-aed4-0271c2abbdc3"
      },
      "source": [
        "tuning_SVM(1,5)"
      ],
      "execution_count": null,
      "outputs": [
        {
          "output_type": "stream",
          "name": "stdout",
          "text": [
            "Fitting 5 folds for each of 2 candidates, totalling 10 fits\n",
            "Accuratezza fase di Cross Validation con dati di Addestramento/Validazione: 1.000\n",
            "{'kernel': 'linear'}\n",
            "Accuratezza con dati di Test: 1.000\n",
            "Risultato sui dati di test:\n",
            "              precision    recall  f1-score   support\n",
            "\n",
            "           0       1.00      1.00      1.00         6\n",
            "           1       1.00      1.00      1.00         6\n",
            "\n",
            "    accuracy                           1.00        12\n",
            "   macro avg       1.00      1.00      1.00        12\n",
            "weighted avg       1.00      1.00      1.00        12\n",
            "\n",
            "[[6 0]\n",
            " [0 6]]\n",
            "Accuratezza Test: 100.000\n",
            "Precisione  Test: 100.000\n",
            "Sensitività Test: 100.000\n",
            "Specificità Test: 100.000\n",
            "F1 score    Test: 100.000\n"
          ]
        },
        {
          "output_type": "stream",
          "name": "stderr",
          "text": [
            "/usr/local/lib/python3.7/dist-packages/sklearn/model_selection/_search.py:281: UserWarning:\n",
            "\n",
            "The total space of parameters 2 is smaller than n_iter=20. Running 2 iterations. For exhaustive searches, use GridSearchCV.\n",
            "\n",
            "[Parallel(n_jobs=-1)]: Using backend LokyBackend with 2 concurrent workers.\n",
            "[Parallel(n_jobs=-1)]: Done  10 out of  10 | elapsed:    0.0s finished\n",
            "/usr/local/lib/python3.7/dist-packages/sklearn/utils/validation.py:760: DataConversionWarning:\n",
            "\n",
            "A column-vector y was passed when a 1d array was expected. Please change the shape of y to (n_samples, ), for example using ravel().\n",
            "\n"
          ]
        }
      ]
    },
    {
      "cell_type": "code",
      "metadata": {
        "id": "kCRLpQF2l-ZS"
      },
      "source": [
        "#tuning_foresta(1,10)"
      ],
      "execution_count": null,
      "outputs": []
    },
    {
      "cell_type": "code",
      "metadata": {
        "id": "jqVnoQLc5hVt"
      },
      "source": [
        "#tuning_albero_decisione_CV(1,10)"
      ],
      "execution_count": null,
      "outputs": []
    },
    {
      "cell_type": "code",
      "metadata": {
        "id": "oLAluIB45hv8"
      },
      "source": [
        "#tuning_SVM_CV(1,10)"
      ],
      "execution_count": null,
      "outputs": []
    },
    {
      "cell_type": "code",
      "metadata": {
        "id": "OcXTmGY0hVZg"
      },
      "source": [
        "#validazione_incrociata_kfold(1,10,1)"
      ],
      "execution_count": null,
      "outputs": []
    },
    {
      "cell_type": "code",
      "metadata": {
        "id": "f4CrlbiC5gKH"
      },
      "source": [
        "#validazione_incrociata_kfold(1,10,2)"
      ],
      "execution_count": null,
      "outputs": []
    },
    {
      "cell_type": "code",
      "metadata": {
        "id": "bPEwGLGl6hEd"
      },
      "source": [
        "#validazione_incrociata_score(1,10,1)"
      ],
      "execution_count": null,
      "outputs": []
    },
    {
      "cell_type": "code",
      "metadata": {
        "id": "cQ_U2dgX7HqC"
      },
      "source": [
        "#validazione_incrociata_score(1,10,2)"
      ],
      "execution_count": null,
      "outputs": []
    },
    {
      "cell_type": "code",
      "metadata": {
        "id": "xGAzBzLfePHw"
      },
      "source": [
        "#prova_pipeline(1,2)"
      ],
      "execution_count": null,
      "outputs": []
    },
    {
      "cell_type": "code",
      "metadata": {
        "id": "hZuHsgSYePgF"
      },
      "source": [
        ""
      ],
      "execution_count": null,
      "outputs": []
    },
    {
      "cell_type": "code",
      "metadata": {
        "colab": {
          "base_uri": "https://localhost:8080/"
        },
        "id": "VJWmucjUmXCa",
        "outputId": "cbbcd4bd-8115-40a6-9587-4003d3a8a548"
      },
      "source": [
        "tuning_KNN(1,5)"
      ],
      "execution_count": null,
      "outputs": [
        {
          "output_type": "stream",
          "name": "stdout",
          "text": [
            "Fitting 5 folds for each of 16 candidates, totalling 80 fits\n"
          ]
        },
        {
          "output_type": "stream",
          "name": "stderr",
          "text": [
            "[Parallel(n_jobs=-1)]: Using backend LokyBackend with 2 concurrent workers.\n"
          ]
        },
        {
          "output_type": "stream",
          "name": "stdout",
          "text": [
            "Accuratezza fase di Cross Validation con dati di Addestramento/Validazione: 0.920\n",
            "{'algorithm': 'auto', 'n_neighbors': 5, 'weights': 'uniform'}\n",
            "Accuratezza con dati di Test: 1.000\n",
            "Risultato sui dati di test:\n",
            "              precision    recall  f1-score   support\n",
            "\n",
            "           0       1.00      1.00      1.00         6\n",
            "           1       1.00      1.00      1.00         6\n",
            "\n",
            "    accuracy                           1.00        12\n",
            "   macro avg       1.00      1.00      1.00        12\n",
            "weighted avg       1.00      1.00      1.00        12\n",
            "\n",
            "[[6 0]\n",
            " [0 6]]\n",
            "Accuratezza Test: 100.000\n",
            "Precisione  Test: 100.000\n",
            "Sensitività Test: 100.000\n",
            "Specificità Test: 100.000\n",
            "F1 score    Test: 100.000\n"
          ]
        },
        {
          "output_type": "stream",
          "name": "stderr",
          "text": [
            "[Parallel(n_jobs=-1)]: Done  80 out of  80 | elapsed:    0.2s finished\n",
            "/usr/local/lib/python3.7/dist-packages/sklearn/model_selection/_search.py:739: DataConversionWarning:\n",
            "\n",
            "A column-vector y was passed when a 1d array was expected. Please change the shape of y to (n_samples, ), for example using ravel().\n",
            "\n"
          ]
        }
      ]
    },
    {
      "cell_type": "code",
      "metadata": {
        "id": "WSrjUeB6mXCh"
      },
      "source": [
        "#tuning_MP(1,5)"
      ],
      "execution_count": null,
      "outputs": []
    },
    {
      "cell_type": "code",
      "metadata": {
        "id": "J3EClDg1mj4H"
      },
      "source": [
        "#tuning_LR(1,5)"
      ],
      "execution_count": null,
      "outputs": []
    },
    {
      "cell_type": "code",
      "metadata": {
        "id": "CgqVabv-ZEgv"
      },
      "source": [
        "#tuning_foresta(1,5)"
      ],
      "execution_count": null,
      "outputs": []
    },
    {
      "cell_type": "code",
      "metadata": {
        "id": "ZFWa93BKfSKx"
      },
      "source": [
        ""
      ],
      "execution_count": null,
      "outputs": []
    },
    {
      "cell_type": "markdown",
      "metadata": {
        "id": "pcKyjDWzfSuI"
      },
      "source": [
        "### Caso2 AD vs MCI"
      ]
    },
    {
      "cell_type": "markdown",
      "metadata": {
        "id": "Rj_mdFmkTzHT"
      },
      "source": [
        "#### 10 RUN "
      ]
    },
    {
      "cell_type": "code",
      "metadata": {
        "id": "D-MNzsIJKQcs",
        "colab": {
          "base_uri": "https://localhost:8080/"
        },
        "outputId": "47fa857e-a6ae-4f0b-bc1c-ab820bd5263d"
      },
      "source": [
        "for i in range(10):\n",
        "    df=ADMCI.loc[:,0]\n",
        "\n",
        "    X = df.to_numpy()\n",
        "\n",
        "    Y = ADMCI.loc[:,1]\n",
        "    y = Y.to_numpy()\n",
        "    y = np.where(y == 1, 1, 0)\n",
        "    #from sklearn.model_selection import train_test_split\n",
        "\n",
        "    X_train, X_test, y_train, y_test = train_test_split(X, y, test_size=0.3,stratify=y)\n",
        "\n",
        "    #pca = PCA(n_components=5)\n",
        "\n",
        "    #X_train_pca = pca.fit_transform(X_train)\n",
        "    #X_test_pca = pca.transform(X_test)\n",
        "\n",
        "    X_train_caso2=X_train\n",
        "    X_test_caso2=X_test\n",
        "    y_train_caso2=y_train\n",
        "    y_test_caso2=y_test\n",
        "    X_train_caso2=X_train_caso2.reshape(-1,1)\n",
        "    X_test_caso2=X_test_caso2.reshape(-1,1)\n",
        "    y_train_caso2=y_train_caso2.reshape(-1,1)\n",
        "    y_test_caso2=y_test_caso2.reshape(-1,1)\n",
        "\n",
        "    tuning_albero_decisione(2,5)\n",
        "    tuning_SVM(2,5)\n",
        "    tuning_KNN(2,5)"
      ],
      "execution_count": null,
      "outputs": [
        {
          "output_type": "stream",
          "name": "stdout",
          "text": [
            "stimatore utilizzato - DecisionTreeClassifier\n",
            "Fitting 5 folds for each of 216 candidates, totalling 1080 fits\n"
          ]
        },
        {
          "output_type": "stream",
          "name": "stderr",
          "text": [
            "[Parallel(n_jobs=-1)]: Using backend LokyBackend with 2 concurrent workers.\n",
            "[Parallel(n_jobs=-1)]: Done 1038 tasks      | elapsed:    1.9s\n",
            "[Parallel(n_jobs=-1)]: Done 1080 out of 1080 | elapsed:    2.0s finished\n",
            "/usr/local/lib/python3.7/dist-packages/sklearn/model_selection/_search.py:281: UserWarning:\n",
            "\n",
            "The total space of parameters 2 is smaller than n_iter=20. Running 2 iterations. For exhaustive searches, use GridSearchCV.\n",
            "\n",
            "[Parallel(n_jobs=-1)]: Using backend LokyBackend with 2 concurrent workers.\n"
          ]
        },
        {
          "output_type": "stream",
          "name": "stdout",
          "text": [
            "Accuratezza fase di Cross Validation con dati di Addestramento/Validazione: 0.693\n",
            "{'criterion': 'gini', 'max_depth': 3, 'min_samples_leaf': 1, 'min_samples_split': 2, 'min_weight_fraction_leaf': 0}\n",
            "Accuratezza con dati di Test: 0.417\n",
            "Risultato sui dati di test:\n",
            "              precision    recall  f1-score   support\n",
            "\n",
            "           0       0.40      0.33      0.36         6\n",
            "           1       0.43      0.50      0.46         6\n",
            "\n",
            "    accuracy                           0.42        12\n",
            "   macro avg       0.41      0.42      0.41        12\n",
            "weighted avg       0.41      0.42      0.41        12\n",
            "\n",
            "[[2 4]\n",
            " [3 3]]\n",
            "Accuratezza Test: 41.000\n",
            "Precisione  Test: 40.000\n",
            "Sensitività Test: 33.000\n",
            "Specificità Test: 50.000\n",
            "F1 score    Test: 36.000\n",
            "stimatore utilizzato - Support vector machine (SVC)\n",
            "Fitting 5 folds for each of 2 candidates, totalling 10 fits\n"
          ]
        },
        {
          "output_type": "stream",
          "name": "stderr",
          "text": [
            "[Parallel(n_jobs=-1)]: Done  10 out of  10 | elapsed:   27.6s finished\n",
            "/usr/local/lib/python3.7/dist-packages/sklearn/utils/validation.py:760: DataConversionWarning:\n",
            "\n",
            "A column-vector y was passed when a 1d array was expected. Please change the shape of y to (n_samples, ), for example using ravel().\n",
            "\n"
          ]
        },
        {
          "output_type": "stream",
          "name": "stdout",
          "text": [
            "Accuratezza fase di Cross Validation con dati di Addestramento/Validazione: 0.773\n",
            "{'kernel': 'linear'}\n",
            "Accuratezza con dati di Test: 0.583\n",
            "Risultato sui dati di test:\n",
            "              precision    recall  f1-score   support\n",
            "\n",
            "           0       0.60      0.50      0.55         6\n",
            "           1       0.57      0.67      0.62         6\n",
            "\n",
            "    accuracy                           0.58        12\n",
            "   macro avg       0.59      0.58      0.58        12\n",
            "weighted avg       0.59      0.58      0.58        12\n",
            "\n",
            "[[3 3]\n",
            " [2 4]]\n",
            "Accuratezza Test: 58.000\n",
            "Precisione  Test: 60.000\n",
            "Sensitività Test: 50.000\n",
            "Specificità Test: 66.000\n",
            "F1 score    Test: 54.000\n",
            "stimatore utilizzato - KNeighborsClassifier\n",
            "Fitting 5 folds for each of 16 candidates, totalling 80 fits\n",
            "Accuratezza fase di Cross Validation con dati di Addestramento/Validazione: 0.813\n",
            "{'algorithm': 'auto', 'n_neighbors': 5, 'weights': 'uniform'}\n",
            "Accuratezza con dati di Test: 0.583\n",
            "Risultato sui dati di test:\n"
          ]
        },
        {
          "output_type": "stream",
          "name": "stderr",
          "text": [
            "[Parallel(n_jobs=-1)]: Using backend LokyBackend with 2 concurrent workers.\n",
            "[Parallel(n_jobs=-1)]: Done  80 out of  80 | elapsed:    0.2s finished\n",
            "/usr/local/lib/python3.7/dist-packages/sklearn/model_selection/_search.py:739: DataConversionWarning:\n",
            "\n",
            "A column-vector y was passed when a 1d array was expected. Please change the shape of y to (n_samples, ), for example using ravel().\n",
            "\n",
            "[Parallel(n_jobs=-1)]: Using backend LokyBackend with 2 concurrent workers.\n"
          ]
        },
        {
          "output_type": "stream",
          "name": "stdout",
          "text": [
            "              precision    recall  f1-score   support\n",
            "\n",
            "           0       0.60      0.50      0.55         6\n",
            "           1       0.57      0.67      0.62         6\n",
            "\n",
            "    accuracy                           0.58        12\n",
            "   macro avg       0.59      0.58      0.58        12\n",
            "weighted avg       0.59      0.58      0.58        12\n",
            "\n",
            "[[3 3]\n",
            " [2 4]]\n",
            "Accuratezza Test: 58.000\n",
            "Precisione  Test: 60.000\n",
            "Sensitività Test: 50.000\n",
            "Specificità Test: 66.000\n",
            "F1 score    Test: 54.000\n",
            "stimatore utilizzato - DecisionTreeClassifier\n",
            "Fitting 5 folds for each of 216 candidates, totalling 1080 fits\n"
          ]
        },
        {
          "output_type": "stream",
          "name": "stderr",
          "text": [
            "[Parallel(n_jobs=-1)]: Done 1021 tasks      | elapsed:    1.2s\n",
            "[Parallel(n_jobs=-1)]: Done 1080 out of 1080 | elapsed:    1.3s finished\n",
            "/usr/local/lib/python3.7/dist-packages/sklearn/model_selection/_search.py:281: UserWarning:\n",
            "\n",
            "The total space of parameters 2 is smaller than n_iter=20. Running 2 iterations. For exhaustive searches, use GridSearchCV.\n",
            "\n",
            "[Parallel(n_jobs=-1)]: Using backend LokyBackend with 2 concurrent workers.\n"
          ]
        },
        {
          "output_type": "stream",
          "name": "stdout",
          "text": [
            "Accuratezza fase di Cross Validation con dati di Addestramento/Validazione: 0.733\n",
            "{'criterion': 'gini', 'max_depth': 3, 'min_samples_leaf': 1, 'min_samples_split': 2, 'min_weight_fraction_leaf': 0}\n",
            "Accuratezza con dati di Test: 0.583\n",
            "Risultato sui dati di test:\n",
            "              precision    recall  f1-score   support\n",
            "\n",
            "           0       0.67      0.33      0.44         6\n",
            "           1       0.56      0.83      0.67         6\n",
            "\n",
            "    accuracy                           0.58        12\n",
            "   macro avg       0.61      0.58      0.56        12\n",
            "weighted avg       0.61      0.58      0.56        12\n",
            "\n",
            "[[2 4]\n",
            " [1 5]]\n",
            "Accuratezza Test: 58.000\n",
            "Precisione  Test: 66.000\n",
            "Sensitività Test: 33.000\n",
            "Specificità Test: 83.000\n",
            "F1 score    Test: 44.000\n",
            "stimatore utilizzato - Support vector machine (SVC)\n",
            "Fitting 5 folds for each of 2 candidates, totalling 10 fits\n"
          ]
        },
        {
          "output_type": "stream",
          "name": "stderr",
          "text": [
            "[Parallel(n_jobs=-1)]: Done  10 out of  10 | elapsed:  2.5min finished\n",
            "/usr/local/lib/python3.7/dist-packages/sklearn/utils/validation.py:760: DataConversionWarning:\n",
            "\n",
            "A column-vector y was passed when a 1d array was expected. Please change the shape of y to (n_samples, ), for example using ravel().\n",
            "\n"
          ]
        },
        {
          "output_type": "stream",
          "name": "stdout",
          "text": [
            "Accuratezza fase di Cross Validation con dati di Addestramento/Validazione: 0.613\n",
            "{'kernel': 'linear'}\n",
            "Accuratezza con dati di Test: 0.750\n",
            "Risultato sui dati di test:\n",
            "              precision    recall  f1-score   support\n",
            "\n",
            "           0       0.80      0.67      0.73         6\n",
            "           1       0.71      0.83      0.77         6\n",
            "\n",
            "    accuracy                           0.75        12\n",
            "   macro avg       0.76      0.75      0.75        12\n",
            "weighted avg       0.76      0.75      0.75        12\n",
            "\n",
            "[[4 2]\n",
            " [1 5]]\n",
            "Accuratezza Test: 75.000\n",
            "Precisione  Test: 80.000\n",
            "Sensitività Test: 66.000\n",
            "Specificità Test: 83.000\n",
            "F1 score    Test: 72.000\n",
            "stimatore utilizzato - KNeighborsClassifier\n",
            "Fitting 5 folds for each of 16 candidates, totalling 80 fits\n",
            "Accuratezza fase di Cross Validation con dati di Addestramento/Validazione: 0.727\n",
            "{'algorithm': 'auto', 'n_neighbors': 5, 'weights': 'distance'}\n",
            "Accuratezza con dati di Test: 0.667\n",
            "Risultato sui dati di test:\n",
            "              precision    recall  f1-score   support\n",
            "\n",
            "           0       0.67      0.67      0.67         6\n",
            "           1       0.67      0.67      0.67         6\n",
            "\n",
            "    accuracy                           0.67        12\n",
            "   macro avg       0.67      0.67      0.67        12\n",
            "weighted avg       0.67      0.67      0.67        12\n",
            "\n",
            "[[4 2]\n",
            " [2 4]]\n",
            "Accuratezza Test: 66.000\n",
            "Precisione  Test: 66.000\n",
            "Sensitività Test: 66.000\n",
            "Specificità Test: 66.000\n",
            "F1 score    Test: 66.000\n",
            "stimatore utilizzato - DecisionTreeClassifier\n"
          ]
        },
        {
          "output_type": "stream",
          "name": "stderr",
          "text": [
            "[Parallel(n_jobs=-1)]: Using backend LokyBackend with 2 concurrent workers.\n",
            "[Parallel(n_jobs=-1)]: Done  80 out of  80 | elapsed:    0.2s finished\n",
            "/usr/local/lib/python3.7/dist-packages/sklearn/model_selection/_search.py:739: DataConversionWarning:\n",
            "\n",
            "A column-vector y was passed when a 1d array was expected. Please change the shape of y to (n_samples, ), for example using ravel().\n",
            "\n",
            "[Parallel(n_jobs=-1)]: Using backend LokyBackend with 2 concurrent workers.\n"
          ]
        },
        {
          "output_type": "stream",
          "name": "stdout",
          "text": [
            "Fitting 5 folds for each of 216 candidates, totalling 1080 fits\n"
          ]
        },
        {
          "output_type": "stream",
          "name": "stderr",
          "text": [
            "[Parallel(n_jobs=-1)]: Done 1062 tasks      | elapsed:    1.1s\n",
            "[Parallel(n_jobs=-1)]: Done 1077 out of 1080 | elapsed:    1.2s remaining:    0.0s\n",
            "[Parallel(n_jobs=-1)]: Done 1080 out of 1080 | elapsed:    1.2s finished\n",
            "/usr/local/lib/python3.7/dist-packages/sklearn/model_selection/_search.py:281: UserWarning:\n",
            "\n",
            "The total space of parameters 2 is smaller than n_iter=20. Running 2 iterations. For exhaustive searches, use GridSearchCV.\n",
            "\n",
            "[Parallel(n_jobs=-1)]: Using backend LokyBackend with 2 concurrent workers.\n"
          ]
        },
        {
          "output_type": "stream",
          "name": "stdout",
          "text": [
            "Accuratezza fase di Cross Validation con dati di Addestramento/Validazione: 0.620\n",
            "{'criterion': 'gini', 'max_depth': 3, 'min_samples_leaf': 3, 'min_samples_split': 2, 'min_weight_fraction_leaf': 0}\n",
            "Accuratezza con dati di Test: 0.500\n",
            "Risultato sui dati di test:\n",
            "              precision    recall  f1-score   support\n",
            "\n",
            "           0       0.50      0.50      0.50         6\n",
            "           1       0.50      0.50      0.50         6\n",
            "\n",
            "    accuracy                           0.50        12\n",
            "   macro avg       0.50      0.50      0.50        12\n",
            "weighted avg       0.50      0.50      0.50        12\n",
            "\n",
            "[[3 3]\n",
            " [3 3]]\n",
            "Accuratezza Test: 50.000\n",
            "Precisione  Test: 50.000\n",
            "Sensitività Test: 50.000\n",
            "Specificità Test: 50.000\n",
            "F1 score    Test: 50.000\n",
            "stimatore utilizzato - Support vector machine (SVC)\n",
            "Fitting 5 folds for each of 2 candidates, totalling 10 fits\n"
          ]
        },
        {
          "output_type": "stream",
          "name": "stderr",
          "text": [
            "[Parallel(n_jobs=-1)]: Done  10 out of  10 | elapsed:  1.1min finished\n",
            "/usr/local/lib/python3.7/dist-packages/sklearn/utils/validation.py:760: DataConversionWarning:\n",
            "\n",
            "A column-vector y was passed when a 1d array was expected. Please change the shape of y to (n_samples, ), for example using ravel().\n",
            "\n"
          ]
        },
        {
          "output_type": "stream",
          "name": "stdout",
          "text": [
            "Accuratezza fase di Cross Validation con dati di Addestramento/Validazione: 0.580\n",
            "{'kernel': 'linear'}\n",
            "Accuratezza con dati di Test: 0.583\n",
            "Risultato sui dati di test:\n",
            "              precision    recall  f1-score   support\n",
            "\n",
            "           0       1.00      0.17      0.29         6\n",
            "           1       0.55      1.00      0.71         6\n",
            "\n",
            "    accuracy                           0.58        12\n",
            "   macro avg       0.77      0.58      0.50        12\n",
            "weighted avg       0.77      0.58      0.50        12\n",
            "\n",
            "[[1 5]\n",
            " [0 6]]\n",
            "Accuratezza Test: 58.000\n",
            "Precisione  Test: 100.000\n",
            "Sensitività Test: 16.000\n",
            "Specificità Test: 100.000\n",
            "F1 score    Test: 27.000\n",
            "stimatore utilizzato - KNeighborsClassifier\n",
            "Fitting 5 folds for each of 16 candidates, totalling 80 fits\n"
          ]
        },
        {
          "output_type": "stream",
          "name": "stderr",
          "text": [
            "[Parallel(n_jobs=-1)]: Using backend LokyBackend with 2 concurrent workers.\n",
            "[Parallel(n_jobs=-1)]: Done  80 out of  80 | elapsed:    0.2s finished\n",
            "/usr/local/lib/python3.7/dist-packages/sklearn/model_selection/_search.py:739: DataConversionWarning:\n",
            "\n",
            "A column-vector y was passed when a 1d array was expected. Please change the shape of y to (n_samples, ), for example using ravel().\n",
            "\n",
            "[Parallel(n_jobs=-1)]: Using backend LokyBackend with 2 concurrent workers.\n"
          ]
        },
        {
          "output_type": "stream",
          "name": "stdout",
          "text": [
            "Accuratezza fase di Cross Validation con dati di Addestramento/Validazione: 0.693\n",
            "{'algorithm': 'auto', 'n_neighbors': 5, 'weights': 'uniform'}\n",
            "Accuratezza con dati di Test: 0.667\n",
            "Risultato sui dati di test:\n",
            "              precision    recall  f1-score   support\n",
            "\n",
            "           0       0.67      0.67      0.67         6\n",
            "           1       0.67      0.67      0.67         6\n",
            "\n",
            "    accuracy                           0.67        12\n",
            "   macro avg       0.67      0.67      0.67        12\n",
            "weighted avg       0.67      0.67      0.67        12\n",
            "\n",
            "[[4 2]\n",
            " [2 4]]\n",
            "Accuratezza Test: 66.000\n",
            "Precisione  Test: 66.000\n",
            "Sensitività Test: 66.000\n",
            "Specificità Test: 66.000\n",
            "F1 score    Test: 66.000\n",
            "stimatore utilizzato - DecisionTreeClassifier\n",
            "Fitting 5 folds for each of 216 candidates, totalling 1080 fits\n"
          ]
        },
        {
          "output_type": "stream",
          "name": "stderr",
          "text": [
            "[Parallel(n_jobs=-1)]: Done 1065 tasks      | elapsed:    1.2s\n",
            "[Parallel(n_jobs=-1)]: Done 1077 out of 1080 | elapsed:    1.2s remaining:    0.0s\n",
            "[Parallel(n_jobs=-1)]: Done 1080 out of 1080 | elapsed:    1.2s finished\n",
            "/usr/local/lib/python3.7/dist-packages/sklearn/model_selection/_search.py:281: UserWarning:\n",
            "\n",
            "The total space of parameters 2 is smaller than n_iter=20. Running 2 iterations. For exhaustive searches, use GridSearchCV.\n",
            "\n",
            "[Parallel(n_jobs=-1)]: Using backend LokyBackend with 2 concurrent workers.\n"
          ]
        },
        {
          "output_type": "stream",
          "name": "stdout",
          "text": [
            "Accuratezza fase di Cross Validation con dati di Addestramento/Validazione: 0.620\n",
            "{'criterion': 'gini', 'max_depth': 3, 'min_samples_leaf': 1, 'min_samples_split': 2, 'min_weight_fraction_leaf': 0}\n",
            "Accuratezza con dati di Test: 0.417\n",
            "Risultato sui dati di test:\n",
            "              precision    recall  f1-score   support\n",
            "\n",
            "           0       0.40      0.33      0.36         6\n",
            "           1       0.43      0.50      0.46         6\n",
            "\n",
            "    accuracy                           0.42        12\n",
            "   macro avg       0.41      0.42      0.41        12\n",
            "weighted avg       0.41      0.42      0.41        12\n",
            "\n",
            "[[2 4]\n",
            " [3 3]]\n",
            "Accuratezza Test: 41.000\n",
            "Precisione  Test: 40.000\n",
            "Sensitività Test: 33.000\n",
            "Specificità Test: 50.000\n",
            "F1 score    Test: 36.000\n",
            "stimatore utilizzato - Support vector machine (SVC)\n",
            "Fitting 5 folds for each of 2 candidates, totalling 10 fits\n"
          ]
        },
        {
          "output_type": "stream",
          "name": "stderr",
          "text": [
            "[Parallel(n_jobs=-1)]: Done  10 out of  10 | elapsed:  1.4min finished\n",
            "/usr/local/lib/python3.7/dist-packages/sklearn/utils/validation.py:760: DataConversionWarning:\n",
            "\n",
            "A column-vector y was passed when a 1d array was expected. Please change the shape of y to (n_samples, ), for example using ravel().\n",
            "\n"
          ]
        },
        {
          "output_type": "stream",
          "name": "stdout",
          "text": [
            "Accuratezza fase di Cross Validation con dati di Addestramento/Validazione: 0.653\n",
            "{'kernel': 'linear'}\n",
            "Accuratezza con dati di Test: 0.500\n",
            "Risultato sui dati di test:\n",
            "              precision    recall  f1-score   support\n",
            "\n",
            "           0       0.50      0.67      0.57         6\n",
            "           1       0.50      0.33      0.40         6\n",
            "\n",
            "    accuracy                           0.50        12\n",
            "   macro avg       0.50      0.50      0.49        12\n",
            "weighted avg       0.50      0.50      0.49        12\n",
            "\n",
            "[[4 2]\n",
            " [4 2]]\n",
            "Accuratezza Test: 50.000\n",
            "Precisione  Test: 50.000\n",
            "Sensitività Test: 66.000\n",
            "Specificità Test: 33.000\n",
            "F1 score    Test: 56.000\n",
            "stimatore utilizzato - KNeighborsClassifier\n",
            "Fitting 5 folds for each of 16 candidates, totalling 80 fits\n",
            "Accuratezza fase di Cross Validation con dati di Addestramento/Validazione: 0.693\n",
            "{'algorithm': 'auto', 'n_neighbors': 5, 'weights': 'uniform'}\n",
            "Accuratezza con dati di Test: 0.583\n",
            "Risultato sui dati di test:\n"
          ]
        },
        {
          "output_type": "stream",
          "name": "stderr",
          "text": [
            "[Parallel(n_jobs=-1)]: Using backend LokyBackend with 2 concurrent workers.\n",
            "[Parallel(n_jobs=-1)]: Done  80 out of  80 | elapsed:    0.2s finished\n",
            "/usr/local/lib/python3.7/dist-packages/sklearn/model_selection/_search.py:739: DataConversionWarning:\n",
            "\n",
            "A column-vector y was passed when a 1d array was expected. Please change the shape of y to (n_samples, ), for example using ravel().\n",
            "\n",
            "[Parallel(n_jobs=-1)]: Using backend LokyBackend with 2 concurrent workers.\n"
          ]
        },
        {
          "output_type": "stream",
          "name": "stdout",
          "text": [
            "              precision    recall  f1-score   support\n",
            "\n",
            "           0       0.57      0.67      0.62         6\n",
            "           1       0.60      0.50      0.55         6\n",
            "\n",
            "    accuracy                           0.58        12\n",
            "   macro avg       0.59      0.58      0.58        12\n",
            "weighted avg       0.59      0.58      0.58        12\n",
            "\n",
            "[[4 2]\n",
            " [3 3]]\n",
            "Accuratezza Test: 58.000\n",
            "Precisione  Test: 57.000\n",
            "Sensitività Test: 66.000\n",
            "Specificità Test: 50.000\n",
            "F1 score    Test: 61.000\n",
            "stimatore utilizzato - DecisionTreeClassifier\n",
            "Fitting 5 folds for each of 216 candidates, totalling 1080 fits\n"
          ]
        },
        {
          "output_type": "stream",
          "name": "stderr",
          "text": [
            "[Parallel(n_jobs=-1)]: Done 1062 tasks      | elapsed:    1.1s\n",
            "[Parallel(n_jobs=-1)]: Done 1077 out of 1080 | elapsed:    1.1s remaining:    0.0s\n",
            "[Parallel(n_jobs=-1)]: Done 1080 out of 1080 | elapsed:    1.1s finished\n",
            "/usr/local/lib/python3.7/dist-packages/sklearn/model_selection/_search.py:281: UserWarning:\n",
            "\n",
            "The total space of parameters 2 is smaller than n_iter=20. Running 2 iterations. For exhaustive searches, use GridSearchCV.\n",
            "\n",
            "[Parallel(n_jobs=-1)]: Using backend LokyBackend with 2 concurrent workers.\n"
          ]
        },
        {
          "output_type": "stream",
          "name": "stdout",
          "text": [
            "Accuratezza fase di Cross Validation con dati di Addestramento/Validazione: 0.687\n",
            "{'criterion': 'gini', 'max_depth': 4, 'min_samples_leaf': 1, 'min_samples_split': 2, 'min_weight_fraction_leaf': 0}\n",
            "Accuratezza con dati di Test: 0.583\n",
            "Risultato sui dati di test:\n",
            "              precision    recall  f1-score   support\n",
            "\n",
            "           0       0.56      0.83      0.67         6\n",
            "           1       0.67      0.33      0.44         6\n",
            "\n",
            "    accuracy                           0.58        12\n",
            "   macro avg       0.61      0.58      0.56        12\n",
            "weighted avg       0.61      0.58      0.56        12\n",
            "\n",
            "[[5 1]\n",
            " [4 2]]\n",
            "Accuratezza Test: 58.000\n",
            "Precisione  Test: 55.000\n",
            "Sensitività Test: 83.000\n",
            "Specificità Test: 33.000\n",
            "F1 score    Test: 66.000\n",
            "stimatore utilizzato - Support vector machine (SVC)\n",
            "Fitting 5 folds for each of 2 candidates, totalling 10 fits\n"
          ]
        },
        {
          "output_type": "stream",
          "name": "stderr",
          "text": [
            "[Parallel(n_jobs=-1)]: Done  10 out of  10 | elapsed:   46.9s finished\n",
            "/usr/local/lib/python3.7/dist-packages/sklearn/utils/validation.py:760: DataConversionWarning:\n",
            "\n",
            "A column-vector y was passed when a 1d array was expected. Please change the shape of y to (n_samples, ), for example using ravel().\n",
            "\n"
          ]
        },
        {
          "output_type": "stream",
          "name": "stdout",
          "text": [
            "Accuratezza fase di Cross Validation con dati di Addestramento/Validazione: 0.760\n",
            "{'kernel': 'linear'}\n",
            "Accuratezza con dati di Test: 0.667\n",
            "Risultato sui dati di test:\n",
            "              precision    recall  f1-score   support\n",
            "\n",
            "           0       0.67      0.67      0.67         6\n",
            "           1       0.67      0.67      0.67         6\n",
            "\n",
            "    accuracy                           0.67        12\n",
            "   macro avg       0.67      0.67      0.67        12\n",
            "weighted avg       0.67      0.67      0.67        12\n",
            "\n",
            "[[4 2]\n",
            " [2 4]]\n",
            "Accuratezza Test: 66.000\n",
            "Precisione  Test: 66.000\n",
            "Sensitività Test: 66.000\n",
            "Specificità Test: 66.000\n",
            "F1 score    Test: 66.000\n",
            "stimatore utilizzato - KNeighborsClassifier\n",
            "Fitting 5 folds for each of 16 candidates, totalling 80 fits\n",
            "Accuratezza fase di Cross Validation con dati di Addestramento/Validazione: 0.647\n",
            "{'algorithm': 'auto', 'n_neighbors': 5, 'weights': 'uniform'}\n",
            "Accuratezza con dati di Test: 0.583\n",
            "Risultato sui dati di test:\n",
            "              precision    recall  f1-score   support\n",
            "\n",
            "           0       0.56      0.83      0.67         6\n",
            "           1       0.67      0.33      0.44         6\n",
            "\n",
            "    accuracy                           0.58        12\n",
            "   macro avg       0.61      0.58      0.56        12\n",
            "weighted avg       0.61      0.58      0.56        12\n",
            "\n",
            "[[5 1]\n",
            " [4 2]]\n"
          ]
        },
        {
          "output_type": "stream",
          "name": "stderr",
          "text": [
            "[Parallel(n_jobs=-1)]: Using backend LokyBackend with 2 concurrent workers.\n",
            "[Parallel(n_jobs=-1)]: Done  80 out of  80 | elapsed:    0.2s finished\n",
            "/usr/local/lib/python3.7/dist-packages/sklearn/model_selection/_search.py:739: DataConversionWarning:\n",
            "\n",
            "A column-vector y was passed when a 1d array was expected. Please change the shape of y to (n_samples, ), for example using ravel().\n",
            "\n",
            "[Parallel(n_jobs=-1)]: Using backend LokyBackend with 2 concurrent workers.\n"
          ]
        },
        {
          "output_type": "stream",
          "name": "stdout",
          "text": [
            "Accuratezza Test: 58.000\n",
            "Precisione  Test: 55.000\n",
            "Sensitività Test: 83.000\n",
            "Specificità Test: 33.000\n",
            "F1 score    Test: 66.000\n",
            "stimatore utilizzato - DecisionTreeClassifier\n",
            "Fitting 5 folds for each of 216 candidates, totalling 1080 fits\n"
          ]
        },
        {
          "output_type": "stream",
          "name": "stderr",
          "text": [
            "[Parallel(n_jobs=-1)]: Done 1065 tasks      | elapsed:    1.0s\n",
            "[Parallel(n_jobs=-1)]: Done 1077 out of 1080 | elapsed:    1.1s remaining:    0.0s\n",
            "[Parallel(n_jobs=-1)]: Done 1080 out of 1080 | elapsed:    1.1s finished\n",
            "/usr/local/lib/python3.7/dist-packages/sklearn/model_selection/_search.py:281: UserWarning:\n",
            "\n",
            "The total space of parameters 2 is smaller than n_iter=20. Running 2 iterations. For exhaustive searches, use GridSearchCV.\n",
            "\n",
            "[Parallel(n_jobs=-1)]: Using backend LokyBackend with 2 concurrent workers.\n"
          ]
        },
        {
          "output_type": "stream",
          "name": "stdout",
          "text": [
            "Accuratezza fase di Cross Validation con dati di Addestramento/Validazione: 0.700\n",
            "{'criterion': 'gini', 'max_depth': 4, 'min_samples_leaf': 2, 'min_samples_split': 2, 'min_weight_fraction_leaf': 0}\n",
            "Accuratezza con dati di Test: 0.333\n",
            "Risultato sui dati di test:\n",
            "              precision    recall  f1-score   support\n",
            "\n",
            "           0       0.33      0.33      0.33         6\n",
            "           1       0.33      0.33      0.33         6\n",
            "\n",
            "    accuracy                           0.33        12\n",
            "   macro avg       0.33      0.33      0.33        12\n",
            "weighted avg       0.33      0.33      0.33        12\n",
            "\n",
            "[[2 4]\n",
            " [4 2]]\n",
            "Accuratezza Test: 33.000\n",
            "Precisione  Test: 33.000\n",
            "Sensitività Test: 33.000\n",
            "Specificità Test: 33.000\n",
            "F1 score    Test: 33.000\n",
            "stimatore utilizzato - Support vector machine (SVC)\n",
            "Fitting 5 folds for each of 2 candidates, totalling 10 fits\n"
          ]
        },
        {
          "output_type": "stream",
          "name": "stderr",
          "text": [
            "[Parallel(n_jobs=-1)]: Done  10 out of  10 | elapsed:   34.1s finished\n",
            "/usr/local/lib/python3.7/dist-packages/sklearn/utils/validation.py:760: DataConversionWarning:\n",
            "\n",
            "A column-vector y was passed when a 1d array was expected. Please change the shape of y to (n_samples, ), for example using ravel().\n",
            "\n",
            "[Parallel(n_jobs=-1)]: Using backend LokyBackend with 2 concurrent workers.\n",
            "[Parallel(n_jobs=-1)]: Done  80 out of  80 | elapsed:    0.2s finished\n",
            "/usr/local/lib/python3.7/dist-packages/sklearn/model_selection/_search.py:739: DataConversionWarning:\n",
            "\n",
            "A column-vector y was passed when a 1d array was expected. Please change the shape of y to (n_samples, ), for example using ravel().\n",
            "\n",
            "[Parallel(n_jobs=-1)]: Using backend LokyBackend with 2 concurrent workers.\n"
          ]
        },
        {
          "output_type": "stream",
          "name": "stdout",
          "text": [
            "Accuratezza fase di Cross Validation con dati di Addestramento/Validazione: 0.627\n",
            "{'kernel': 'rbf'}\n",
            "Accuratezza con dati di Test: 0.500\n",
            "Risultato sui dati di test:\n",
            "              precision    recall  f1-score   support\n",
            "\n",
            "           0       0.50      0.67      0.57         6\n",
            "           1       0.50      0.33      0.40         6\n",
            "\n",
            "    accuracy                           0.50        12\n",
            "   macro avg       0.50      0.50      0.49        12\n",
            "weighted avg       0.50      0.50      0.49        12\n",
            "\n",
            "[[4 2]\n",
            " [4 2]]\n",
            "Accuratezza Test: 50.000\n",
            "Precisione  Test: 50.000\n",
            "Sensitività Test: 66.000\n",
            "Specificità Test: 33.000\n",
            "F1 score    Test: 56.000\n",
            "stimatore utilizzato - KNeighborsClassifier\n",
            "Fitting 5 folds for each of 16 candidates, totalling 80 fits\n",
            "Accuratezza fase di Cross Validation con dati di Addestramento/Validazione: 0.660\n",
            "{'algorithm': 'auto', 'n_neighbors': 20, 'weights': 'distance'}\n",
            "Accuratezza con dati di Test: 0.667\n",
            "Risultato sui dati di test:\n",
            "              precision    recall  f1-score   support\n",
            "\n",
            "           0       0.67      0.67      0.67         6\n",
            "           1       0.67      0.67      0.67         6\n",
            "\n",
            "    accuracy                           0.67        12\n",
            "   macro avg       0.67      0.67      0.67        12\n",
            "weighted avg       0.67      0.67      0.67        12\n",
            "\n",
            "[[4 2]\n",
            " [2 4]]\n",
            "Accuratezza Test: 66.000\n",
            "Precisione  Test: 66.000\n",
            "Sensitività Test: 66.000\n",
            "Specificità Test: 66.000\n",
            "F1 score    Test: 66.000\n",
            "stimatore utilizzato - DecisionTreeClassifier\n",
            "Fitting 5 folds for each of 216 candidates, totalling 1080 fits\n"
          ]
        },
        {
          "output_type": "stream",
          "name": "stderr",
          "text": [
            "[Parallel(n_jobs=-1)]: Done 1065 tasks      | elapsed:    1.0s\n",
            "[Parallel(n_jobs=-1)]: Done 1077 out of 1080 | elapsed:    1.0s remaining:    0.0s\n",
            "[Parallel(n_jobs=-1)]: Done 1080 out of 1080 | elapsed:    1.0s finished\n",
            "/usr/local/lib/python3.7/dist-packages/sklearn/model_selection/_search.py:281: UserWarning:\n",
            "\n",
            "The total space of parameters 2 is smaller than n_iter=20. Running 2 iterations. For exhaustive searches, use GridSearchCV.\n",
            "\n",
            "[Parallel(n_jobs=-1)]: Using backend LokyBackend with 2 concurrent workers.\n"
          ]
        },
        {
          "output_type": "stream",
          "name": "stdout",
          "text": [
            "Accuratezza fase di Cross Validation con dati di Addestramento/Validazione: 0.580\n",
            "{'criterion': 'gini', 'max_depth': 10, 'min_samples_leaf': 1, 'min_samples_split': 2, 'min_weight_fraction_leaf': 0}\n",
            "Accuratezza con dati di Test: 0.667\n",
            "Risultato sui dati di test:\n",
            "              precision    recall  f1-score   support\n",
            "\n",
            "           0       0.62      0.83      0.71         6\n",
            "           1       0.75      0.50      0.60         6\n",
            "\n",
            "    accuracy                           0.67        12\n",
            "   macro avg       0.69      0.67      0.66        12\n",
            "weighted avg       0.69      0.67      0.66        12\n",
            "\n",
            "[[5 1]\n",
            " [3 3]]\n",
            "Accuratezza Test: 66.000\n",
            "Precisione  Test: 62.000\n",
            "Sensitività Test: 83.000\n",
            "Specificità Test: 50.000\n",
            "F1 score    Test: 70.000\n",
            "stimatore utilizzato - Support vector machine (SVC)\n",
            "Fitting 5 folds for each of 2 candidates, totalling 10 fits\n"
          ]
        },
        {
          "output_type": "stream",
          "name": "stderr",
          "text": [
            "[Parallel(n_jobs=-1)]: Done  10 out of  10 | elapsed:   22.3s finished\n",
            "/usr/local/lib/python3.7/dist-packages/sklearn/utils/validation.py:760: DataConversionWarning:\n",
            "\n",
            "A column-vector y was passed when a 1d array was expected. Please change the shape of y to (n_samples, ), for example using ravel().\n",
            "\n"
          ]
        },
        {
          "output_type": "stream",
          "name": "stdout",
          "text": [
            "Accuratezza fase di Cross Validation con dati di Addestramento/Validazione: 0.720\n",
            "{'kernel': 'linear'}\n",
            "Accuratezza con dati di Test: 0.750\n",
            "Risultato sui dati di test:\n",
            "              precision    recall  f1-score   support\n",
            "\n",
            "           0       0.80      0.67      0.73         6\n",
            "           1       0.71      0.83      0.77         6\n",
            "\n",
            "    accuracy                           0.75        12\n",
            "   macro avg       0.76      0.75      0.75        12\n",
            "weighted avg       0.76      0.75      0.75        12\n",
            "\n",
            "[[4 2]\n",
            " [1 5]]\n",
            "Accuratezza Test: 75.000\n",
            "Precisione  Test: 80.000\n",
            "Sensitività Test: 66.000\n",
            "Specificità Test: 83.000\n",
            "F1 score    Test: 72.000\n",
            "stimatore utilizzato - KNeighborsClassifier\n",
            "Fitting 5 folds for each of 16 candidates, totalling 80 fits\n"
          ]
        },
        {
          "output_type": "stream",
          "name": "stderr",
          "text": [
            "[Parallel(n_jobs=-1)]: Using backend LokyBackend with 2 concurrent workers.\n",
            "[Parallel(n_jobs=-1)]: Done  80 out of  80 | elapsed:    0.2s finished\n",
            "/usr/local/lib/python3.7/dist-packages/sklearn/model_selection/_search.py:739: DataConversionWarning:\n",
            "\n",
            "A column-vector y was passed when a 1d array was expected. Please change the shape of y to (n_samples, ), for example using ravel().\n",
            "\n",
            "[Parallel(n_jobs=-1)]: Using backend LokyBackend with 2 concurrent workers.\n"
          ]
        },
        {
          "output_type": "stream",
          "name": "stdout",
          "text": [
            "Accuratezza fase di Cross Validation con dati di Addestramento/Validazione: 0.693\n",
            "{'algorithm': 'auto', 'n_neighbors': 5, 'weights': 'distance'}\n",
            "Accuratezza con dati di Test: 0.667\n",
            "Risultato sui dati di test:\n",
            "              precision    recall  f1-score   support\n",
            "\n",
            "           0       0.67      0.67      0.67         6\n",
            "           1       0.67      0.67      0.67         6\n",
            "\n",
            "    accuracy                           0.67        12\n",
            "   macro avg       0.67      0.67      0.67        12\n",
            "weighted avg       0.67      0.67      0.67        12\n",
            "\n",
            "[[4 2]\n",
            " [2 4]]\n",
            "Accuratezza Test: 66.000\n",
            "Precisione  Test: 66.000\n",
            "Sensitività Test: 66.000\n",
            "Specificità Test: 66.000\n",
            "F1 score    Test: 66.000\n",
            "stimatore utilizzato - DecisionTreeClassifier\n",
            "Fitting 5 folds for each of 216 candidates, totalling 1080 fits\n"
          ]
        },
        {
          "output_type": "stream",
          "name": "stderr",
          "text": [
            "[Parallel(n_jobs=-1)]: Done 1062 tasks      | elapsed:    1.4s\n",
            "[Parallel(n_jobs=-1)]: Done 1077 out of 1080 | elapsed:    1.4s remaining:    0.0s\n",
            "[Parallel(n_jobs=-1)]: Done 1080 out of 1080 | elapsed:    1.4s finished\n",
            "/usr/local/lib/python3.7/dist-packages/sklearn/model_selection/_search.py:281: UserWarning:\n",
            "\n",
            "The total space of parameters 2 is smaller than n_iter=20. Running 2 iterations. For exhaustive searches, use GridSearchCV.\n",
            "\n",
            "[Parallel(n_jobs=-1)]: Using backend LokyBackend with 2 concurrent workers.\n"
          ]
        },
        {
          "output_type": "stream",
          "name": "stdout",
          "text": [
            "Accuratezza fase di Cross Validation con dati di Addestramento/Validazione: 0.580\n",
            "{'criterion': 'gini', 'max_depth': 10, 'min_samples_leaf': 1, 'min_samples_split': 2, 'min_weight_fraction_leaf': 0}\n",
            "Accuratezza con dati di Test: 0.500\n",
            "Risultato sui dati di test:\n",
            "              precision    recall  f1-score   support\n",
            "\n",
            "           0       0.50      0.33      0.40         6\n",
            "           1       0.50      0.67      0.57         6\n",
            "\n",
            "    accuracy                           0.50        12\n",
            "   macro avg       0.50      0.50      0.49        12\n",
            "weighted avg       0.50      0.50      0.49        12\n",
            "\n",
            "[[2 4]\n",
            " [2 4]]\n",
            "Accuratezza Test: 50.000\n",
            "Precisione  Test: 50.000\n",
            "Sensitività Test: 33.000\n",
            "Specificità Test: 66.000\n",
            "F1 score    Test: 39.000\n",
            "stimatore utilizzato - Support vector machine (SVC)\n",
            "Fitting 5 folds for each of 2 candidates, totalling 10 fits\n"
          ]
        },
        {
          "output_type": "stream",
          "name": "stderr",
          "text": [
            "[Parallel(n_jobs=-1)]: Done  10 out of  10 | elapsed:   21.8s finished\n",
            "/usr/local/lib/python3.7/dist-packages/sklearn/utils/validation.py:760: DataConversionWarning:\n",
            "\n",
            "A column-vector y was passed when a 1d array was expected. Please change the shape of y to (n_samples, ), for example using ravel().\n",
            "\n"
          ]
        },
        {
          "output_type": "stream",
          "name": "stdout",
          "text": [
            "Accuratezza fase di Cross Validation con dati di Addestramento/Validazione: 0.540\n",
            "{'kernel': 'linear'}\n",
            "Accuratezza con dati di Test: 0.750\n",
            "Risultato sui dati di test:\n",
            "              precision    recall  f1-score   support\n",
            "\n",
            "           0       0.67      1.00      0.80         6\n",
            "           1       1.00      0.50      0.67         6\n",
            "\n",
            "    accuracy                           0.75        12\n",
            "   macro avg       0.83      0.75      0.73        12\n",
            "weighted avg       0.83      0.75      0.73        12\n",
            "\n",
            "[[6 0]\n",
            " [3 3]]\n",
            "Accuratezza Test: 75.000\n",
            "Precisione  Test: 66.000\n",
            "Sensitività Test: 100.000\n",
            "Specificità Test: 50.000\n",
            "F1 score    Test: 79.000\n",
            "stimatore utilizzato - KNeighborsClassifier\n",
            "Fitting 5 folds for each of 16 candidates, totalling 80 fits\n"
          ]
        },
        {
          "output_type": "stream",
          "name": "stderr",
          "text": [
            "[Parallel(n_jobs=-1)]: Using backend LokyBackend with 2 concurrent workers.\n",
            "[Parallel(n_jobs=-1)]: Done  80 out of  80 | elapsed:    0.2s finished\n",
            "/usr/local/lib/python3.7/dist-packages/sklearn/model_selection/_search.py:739: DataConversionWarning:\n",
            "\n",
            "A column-vector y was passed when a 1d array was expected. Please change the shape of y to (n_samples, ), for example using ravel().\n",
            "\n",
            "[Parallel(n_jobs=-1)]: Using backend LokyBackend with 2 concurrent workers.\n"
          ]
        },
        {
          "output_type": "stream",
          "name": "stdout",
          "text": [
            "Accuratezza fase di Cross Validation con dati di Addestramento/Validazione: 0.620\n",
            "{'algorithm': 'auto', 'n_neighbors': 5, 'weights': 'distance'}\n",
            "Accuratezza con dati di Test: 0.667\n",
            "Risultato sui dati di test:\n",
            "              precision    recall  f1-score   support\n",
            "\n",
            "           0       0.62      0.83      0.71         6\n",
            "           1       0.75      0.50      0.60         6\n",
            "\n",
            "    accuracy                           0.67        12\n",
            "   macro avg       0.69      0.67      0.66        12\n",
            "weighted avg       0.69      0.67      0.66        12\n",
            "\n",
            "[[5 1]\n",
            " [3 3]]\n",
            "Accuratezza Test: 66.000\n",
            "Precisione  Test: 62.000\n",
            "Sensitività Test: 83.000\n",
            "Specificità Test: 50.000\n",
            "F1 score    Test: 70.000\n",
            "stimatore utilizzato - DecisionTreeClassifier\n",
            "Fitting 5 folds for each of 216 candidates, totalling 1080 fits\n"
          ]
        },
        {
          "output_type": "stream",
          "name": "stderr",
          "text": [
            "[Parallel(n_jobs=-1)]: Done 1062 tasks      | elapsed:    1.3s\n",
            "[Parallel(n_jobs=-1)]: Done 1077 out of 1080 | elapsed:    1.3s remaining:    0.0s\n",
            "[Parallel(n_jobs=-1)]: Done 1080 out of 1080 | elapsed:    1.3s finished\n",
            "/usr/local/lib/python3.7/dist-packages/sklearn/model_selection/_search.py:281: UserWarning:\n",
            "\n",
            "The total space of parameters 2 is smaller than n_iter=20. Running 2 iterations. For exhaustive searches, use GridSearchCV.\n",
            "\n",
            "[Parallel(n_jobs=-1)]: Using backend LokyBackend with 2 concurrent workers.\n"
          ]
        },
        {
          "output_type": "stream",
          "name": "stdout",
          "text": [
            "Accuratezza fase di Cross Validation con dati di Addestramento/Validazione: 0.767\n",
            "{'criterion': 'gini', 'max_depth': 3, 'min_samples_leaf': 2, 'min_samples_split': 2, 'min_weight_fraction_leaf': 0}\n",
            "Accuratezza con dati di Test: 0.417\n",
            "Risultato sui dati di test:\n",
            "              precision    recall  f1-score   support\n",
            "\n",
            "           0       0.43      0.50      0.46         6\n",
            "           1       0.40      0.33      0.36         6\n",
            "\n",
            "    accuracy                           0.42        12\n",
            "   macro avg       0.41      0.42      0.41        12\n",
            "weighted avg       0.41      0.42      0.41        12\n",
            "\n",
            "[[3 3]\n",
            " [4 2]]\n",
            "Accuratezza Test: 41.000\n",
            "Precisione  Test: 42.000\n",
            "Sensitività Test: 50.000\n",
            "Specificità Test: 33.000\n",
            "F1 score    Test: 45.000\n",
            "stimatore utilizzato - Support vector machine (SVC)\n",
            "Fitting 5 folds for each of 2 candidates, totalling 10 fits\n"
          ]
        },
        {
          "output_type": "stream",
          "name": "stderr",
          "text": [
            "[Parallel(n_jobs=-1)]: Done  10 out of  10 | elapsed:   25.3s finished\n",
            "/usr/local/lib/python3.7/dist-packages/sklearn/utils/validation.py:760: DataConversionWarning:\n",
            "\n",
            "A column-vector y was passed when a 1d array was expected. Please change the shape of y to (n_samples, ), for example using ravel().\n",
            "\n",
            "[Parallel(n_jobs=-1)]: Using backend LokyBackend with 2 concurrent workers.\n"
          ]
        },
        {
          "output_type": "stream",
          "name": "stdout",
          "text": [
            "Accuratezza fase di Cross Validation con dati di Addestramento/Validazione: 0.733\n",
            "{'kernel': 'rbf'}\n",
            "Accuratezza con dati di Test: 0.583\n",
            "Risultato sui dati di test:\n",
            "              precision    recall  f1-score   support\n",
            "\n",
            "           0       0.60      0.50      0.55         6\n",
            "           1       0.57      0.67      0.62         6\n",
            "\n",
            "    accuracy                           0.58        12\n",
            "   macro avg       0.59      0.58      0.58        12\n",
            "weighted avg       0.59      0.58      0.58        12\n",
            "\n",
            "[[3 3]\n",
            " [2 4]]\n",
            "Accuratezza Test: 58.000\n",
            "Precisione  Test: 60.000\n",
            "Sensitività Test: 50.000\n",
            "Specificità Test: 66.000\n",
            "F1 score    Test: 54.000\n",
            "stimatore utilizzato - KNeighborsClassifier\n",
            "Fitting 5 folds for each of 16 candidates, totalling 80 fits\n"
          ]
        },
        {
          "output_type": "stream",
          "name": "stderr",
          "text": [
            "[Parallel(n_jobs=-1)]: Done  80 out of  80 | elapsed:    0.3s finished\n",
            "/usr/local/lib/python3.7/dist-packages/sklearn/model_selection/_search.py:739: DataConversionWarning:\n",
            "\n",
            "A column-vector y was passed when a 1d array was expected. Please change the shape of y to (n_samples, ), for example using ravel().\n",
            "\n",
            "[Parallel(n_jobs=-1)]: Using backend LokyBackend with 2 concurrent workers.\n"
          ]
        },
        {
          "output_type": "stream",
          "name": "stdout",
          "text": [
            "Accuratezza fase di Cross Validation con dati di Addestramento/Validazione: 0.733\n",
            "{'algorithm': 'auto', 'n_neighbors': 5, 'weights': 'uniform'}\n",
            "Accuratezza con dati di Test: 0.417\n",
            "Risultato sui dati di test:\n",
            "              precision    recall  f1-score   support\n",
            "\n",
            "           0       0.40      0.33      0.36         6\n",
            "           1       0.43      0.50      0.46         6\n",
            "\n",
            "    accuracy                           0.42        12\n",
            "   macro avg       0.41      0.42      0.41        12\n",
            "weighted avg       0.41      0.42      0.41        12\n",
            "\n",
            "[[2 4]\n",
            " [3 3]]\n",
            "Accuratezza Test: 41.000\n",
            "Precisione  Test: 40.000\n",
            "Sensitività Test: 33.000\n",
            "Specificità Test: 50.000\n",
            "F1 score    Test: 36.000\n",
            "stimatore utilizzato - DecisionTreeClassifier\n",
            "Fitting 5 folds for each of 216 candidates, totalling 1080 fits\n"
          ]
        },
        {
          "output_type": "stream",
          "name": "stderr",
          "text": [
            "[Parallel(n_jobs=-1)]: Done 1062 tasks      | elapsed:    1.2s\n",
            "[Parallel(n_jobs=-1)]: Done 1077 out of 1080 | elapsed:    1.3s remaining:    0.0s\n",
            "[Parallel(n_jobs=-1)]: Done 1080 out of 1080 | elapsed:    1.3s finished\n",
            "/usr/local/lib/python3.7/dist-packages/sklearn/model_selection/_search.py:281: UserWarning:\n",
            "\n",
            "The total space of parameters 2 is smaller than n_iter=20. Running 2 iterations. For exhaustive searches, use GridSearchCV.\n",
            "\n",
            "[Parallel(n_jobs=-1)]: Using backend LokyBackend with 2 concurrent workers.\n"
          ]
        },
        {
          "output_type": "stream",
          "name": "stdout",
          "text": [
            "Accuratezza fase di Cross Validation con dati di Addestramento/Validazione: 0.687\n",
            "{'criterion': 'gini', 'max_depth': 5, 'min_samples_leaf': 1, 'min_samples_split': 2, 'min_weight_fraction_leaf': 0}\n",
            "Accuratezza con dati di Test: 0.500\n",
            "Risultato sui dati di test:\n",
            "              precision    recall  f1-score   support\n",
            "\n",
            "           0       0.50      0.33      0.40         6\n",
            "           1       0.50      0.67      0.57         6\n",
            "\n",
            "    accuracy                           0.50        12\n",
            "   macro avg       0.50      0.50      0.49        12\n",
            "weighted avg       0.50      0.50      0.49        12\n",
            "\n",
            "[[2 4]\n",
            " [2 4]]\n",
            "Accuratezza Test: 50.000\n",
            "Precisione  Test: 50.000\n",
            "Sensitività Test: 33.000\n",
            "Specificità Test: 66.000\n",
            "F1 score    Test: 39.000\n",
            "stimatore utilizzato - Support vector machine (SVC)\n",
            "Fitting 5 folds for each of 2 candidates, totalling 10 fits\n"
          ]
        },
        {
          "output_type": "stream",
          "name": "stderr",
          "text": [
            "[Parallel(n_jobs=-1)]: Done  10 out of  10 | elapsed:   17.4s finished\n",
            "/usr/local/lib/python3.7/dist-packages/sklearn/utils/validation.py:760: DataConversionWarning:\n",
            "\n",
            "A column-vector y was passed when a 1d array was expected. Please change the shape of y to (n_samples, ), for example using ravel().\n",
            "\n",
            "[Parallel(n_jobs=-1)]: Using backend LokyBackend with 2 concurrent workers.\n"
          ]
        },
        {
          "output_type": "stream",
          "name": "stdout",
          "text": [
            "Accuratezza fase di Cross Validation con dati di Addestramento/Validazione: 0.687\n",
            "{'kernel': 'rbf'}\n",
            "Accuratezza con dati di Test: 0.333\n",
            "Risultato sui dati di test:\n",
            "              precision    recall  f1-score   support\n",
            "\n",
            "           0       0.40      0.67      0.50         6\n",
            "           1       0.00      0.00      0.00         6\n",
            "\n",
            "    accuracy                           0.33        12\n",
            "   macro avg       0.20      0.33      0.25        12\n",
            "weighted avg       0.20      0.33      0.25        12\n",
            "\n",
            "[[4 2]\n",
            " [6 0]]\n",
            "Accuratezza Test: 33.000\n",
            "Precisione  Test: 40.000\n",
            "Sensitività Test: 66.000\n",
            "Specificità Test: 0.000\n",
            "F1 score    Test: 49.000\n",
            "stimatore utilizzato - KNeighborsClassifier\n",
            "Fitting 5 folds for each of 16 candidates, totalling 80 fits\n",
            "Accuratezza fase di Cross Validation con dati di Addestramento/Validazione: 0.727\n",
            "{'algorithm': 'auto', 'n_neighbors': 5, 'weights': 'uniform'}\n",
            "Accuratezza con dati di Test: 0.583\n",
            "Risultato sui dati di test:\n",
            "              precision    recall  f1-score   support\n",
            "\n",
            "           0       0.60      0.50      0.55         6\n",
            "           1       0.57      0.67      0.62         6\n",
            "\n",
            "    accuracy                           0.58        12\n",
            "   macro avg       0.59      0.58      0.58        12\n",
            "weighted avg       0.59      0.58      0.58        12\n",
            "\n",
            "[[3 3]\n",
            " [2 4]]\n",
            "Accuratezza Test: 58.000\n",
            "Precisione  Test: 60.000\n",
            "Sensitività Test: 50.000\n",
            "Specificità Test: 66.000\n",
            "F1 score    Test: 54.000\n"
          ]
        },
        {
          "output_type": "stream",
          "name": "stderr",
          "text": [
            "[Parallel(n_jobs=-1)]: Done  80 out of  80 | elapsed:    0.2s finished\n",
            "/usr/local/lib/python3.7/dist-packages/sklearn/model_selection/_search.py:739: DataConversionWarning:\n",
            "\n",
            "A column-vector y was passed when a 1d array was expected. Please change the shape of y to (n_samples, ), for example using ravel().\n",
            "\n"
          ]
        }
      ]
    },
    {
      "cell_type": "markdown",
      "metadata": {
        "id": "UoDDOHRaUGFb"
      },
      "source": [
        "#### Run Singolo"
      ]
    },
    {
      "cell_type": "code",
      "metadata": {
        "id": "s9Ey2kBDKQ1c"
      },
      "source": [
        "\n",
        "df=ADMCI.loc[:,0]\n",
        "\n",
        "X = df.to_numpy()\n",
        "\n",
        "Y = ADMCI.loc[:,1]\n",
        "y = Y.to_numpy()\n",
        "y = np.where(y == 1, 1, 0)\n",
        "#from sklearn.model_selection import train_test_split\n",
        "\n",
        "X_train, X_test, y_train, y_test = train_test_split(X, y, test_size=0.3,stratify=y)\n",
        "\n",
        "#pca = PCA(n_components=5)\n",
        "\n",
        "#X_train_pca = pca.fit_transform(X_train)\n",
        "#X_test_pca = pca.transform(X_test)\n",
        "\n",
        "X_train_caso2=X_train\n",
        "X_test_caso2=X_test\n",
        "y_train_caso2=y_train\n",
        "y_test_caso2=y_test\n"
      ],
      "execution_count": null,
      "outputs": []
    },
    {
      "cell_type": "code",
      "metadata": {
        "id": "7vFHr-EEM7j3"
      },
      "source": [
        "X_train_caso2=X_train_caso2.reshape(-1,1)\n",
        "X_test_caso2=X_test_caso2.reshape(-1,1)\n",
        "y_train_caso2=y_train_caso2.reshape(-1,1)\n",
        "y_test_caso2=y_test_caso2.reshape(-1,1)"
      ],
      "execution_count": null,
      "outputs": []
    },
    {
      "cell_type": "code",
      "metadata": {
        "colab": {
          "base_uri": "https://localhost:8080/"
        },
        "id": "TW9gnHEzfSuL",
        "outputId": "9e972eb8-5aee-41dc-df19-15d617e448e6"
      },
      "source": [
        "tuning_albero_decisione(2,5)"
      ],
      "execution_count": null,
      "outputs": [
        {
          "output_type": "stream",
          "name": "stdout",
          "text": [
            "Fitting 5 folds for each of 216 candidates, totalling 1080 fits\n"
          ]
        },
        {
          "output_type": "stream",
          "name": "stderr",
          "text": [
            "[Parallel(n_jobs=-1)]: Using backend LokyBackend with 2 concurrent workers.\n"
          ]
        },
        {
          "output_type": "stream",
          "name": "stdout",
          "text": [
            "Accuratezza fase di Cross Validation con dati di Addestramento/Validazione: 0.573\n",
            "{'criterion': 'gini', 'max_depth': 3, 'min_samples_leaf': 2, 'min_samples_split': 2, 'min_weight_fraction_leaf': 0}\n",
            "Accuratezza con dati di Test: 0.667\n",
            "Risultato sui dati di test:\n",
            "              precision    recall  f1-score   support\n",
            "\n",
            "           0       0.67      0.67      0.67         6\n",
            "           1       0.67      0.67      0.67         6\n",
            "\n",
            "    accuracy                           0.67        12\n",
            "   macro avg       0.67      0.67      0.67        12\n",
            "weighted avg       0.67      0.67      0.67        12\n",
            "\n",
            "[[4 2]\n",
            " [2 4]]\n",
            "Accuratezza Test: 66.000\n",
            "Precisione  Test: 66.000\n",
            "Sensitività Test: 66.000\n",
            "Specificità Test: 66.000\n",
            "F1 score    Test: 66.000\n"
          ]
        },
        {
          "output_type": "stream",
          "name": "stderr",
          "text": [
            "[Parallel(n_jobs=-1)]: Done 1064 tasks      | elapsed:    1.1s\n",
            "[Parallel(n_jobs=-1)]: Done 1080 out of 1080 | elapsed:    1.1s finished\n"
          ]
        }
      ]
    },
    {
      "cell_type": "code",
      "metadata": {
        "colab": {
          "base_uri": "https://localhost:8080/"
        },
        "id": "pXhWGoq-fSuT",
        "outputId": "dae4cd36-1118-4862-d2d5-474e0b5716a4"
      },
      "source": [
        "tuning_SVM(2,5)"
      ],
      "execution_count": null,
      "outputs": [
        {
          "output_type": "stream",
          "name": "stderr",
          "text": [
            "/usr/local/lib/python3.7/dist-packages/sklearn/model_selection/_search.py:281: UserWarning:\n",
            "\n",
            "The total space of parameters 2 is smaller than n_iter=20. Running 2 iterations. For exhaustive searches, use GridSearchCV.\n",
            "\n",
            "[Parallel(n_jobs=-1)]: Using backend LokyBackend with 2 concurrent workers.\n"
          ]
        },
        {
          "output_type": "stream",
          "name": "stdout",
          "text": [
            "Fitting 5 folds for each of 2 candidates, totalling 10 fits\n"
          ]
        },
        {
          "output_type": "stream",
          "name": "stderr",
          "text": [
            "[Parallel(n_jobs=-1)]: Done  10 out of  10 | elapsed:  1.8min finished\n",
            "/usr/local/lib/python3.7/dist-packages/sklearn/utils/validation.py:760: DataConversionWarning:\n",
            "\n",
            "A column-vector y was passed when a 1d array was expected. Please change the shape of y to (n_samples, ), for example using ravel().\n",
            "\n"
          ]
        },
        {
          "output_type": "stream",
          "name": "stdout",
          "text": [
            "Accuratezza fase di Cross Validation con dati di Addestramento/Validazione: 0.567\n",
            "{'kernel': 'linear'}\n",
            "Accuratezza con dati di Test: 0.833\n",
            "Risultato sui dati di test:\n",
            "              precision    recall  f1-score   support\n",
            "\n",
            "           0       0.83      0.83      0.83         6\n",
            "           1       0.83      0.83      0.83         6\n",
            "\n",
            "    accuracy                           0.83        12\n",
            "   macro avg       0.83      0.83      0.83        12\n",
            "weighted avg       0.83      0.83      0.83        12\n",
            "\n",
            "[[5 1]\n",
            " [1 5]]\n",
            "Accuratezza Test: 83.000\n",
            "Precisione  Test: 83.000\n",
            "Sensitività Test: 83.000\n",
            "Specificità Test: 83.000\n",
            "F1 score    Test: 83.000\n"
          ]
        }
      ]
    },
    {
      "cell_type": "code",
      "metadata": {
        "id": "dRiAuzZap42v"
      },
      "source": [
        "#tuning_foresta(2,10)"
      ],
      "execution_count": null,
      "outputs": []
    },
    {
      "cell_type": "code",
      "metadata": {
        "id": "q_HsyUWHfSuT"
      },
      "source": [
        "#tuning_albero_decisione_CV(2,10)"
      ],
      "execution_count": null,
      "outputs": []
    },
    {
      "cell_type": "code",
      "metadata": {
        "id": "PMvvP8AUfSuU"
      },
      "source": [
        "#tuning_SVM_CV(2,10)"
      ],
      "execution_count": null,
      "outputs": []
    },
    {
      "cell_type": "code",
      "metadata": {
        "id": "WiGJRDZSfSuV"
      },
      "source": [
        "#validazione_incrociata_kfold(2,10,1)"
      ],
      "execution_count": null,
      "outputs": []
    },
    {
      "cell_type": "code",
      "metadata": {
        "id": "LrRrnfwVfSuW"
      },
      "source": [
        "#validazione_incrociata_kfold(2,10,2)"
      ],
      "execution_count": null,
      "outputs": []
    },
    {
      "cell_type": "code",
      "metadata": {
        "id": "6RRAuA1qfSuW"
      },
      "source": [
        "#validazione_incrociata_score(2,10,1)"
      ],
      "execution_count": null,
      "outputs": []
    },
    {
      "cell_type": "code",
      "metadata": {
        "id": "H7px54K2fSuX"
      },
      "source": [
        "#validazione_incrociata_score(2,10,2)"
      ],
      "execution_count": null,
      "outputs": []
    },
    {
      "cell_type": "code",
      "metadata": {
        "id": "4i_AWLXsfSuX"
      },
      "source": [
        "#prova_pipeline(2,2)"
      ],
      "execution_count": null,
      "outputs": []
    },
    {
      "cell_type": "code",
      "metadata": {
        "id": "SrWDGW1PfSuY"
      },
      "source": [
        "#exec_trad(2,1)"
      ],
      "execution_count": null,
      "outputs": []
    },
    {
      "cell_type": "code",
      "metadata": {
        "id": "iHTBu8kMfSuY"
      },
      "source": [
        "#exec_trad(2,2)"
      ],
      "execution_count": null,
      "outputs": []
    },
    {
      "cell_type": "code",
      "metadata": {
        "colab": {
          "base_uri": "https://localhost:8080/"
        },
        "id": "_WXavkVEmsPb",
        "outputId": "a9b9b706-044e-4dc0-ce7c-e43cf168775b"
      },
      "source": [
        "tuning_KNN(2,5)"
      ],
      "execution_count": null,
      "outputs": [
        {
          "output_type": "stream",
          "name": "stdout",
          "text": [
            "Fitting 5 folds for each of 16 candidates, totalling 80 fits\n"
          ]
        },
        {
          "output_type": "stream",
          "name": "stderr",
          "text": [
            "[Parallel(n_jobs=-1)]: Using backend LokyBackend with 2 concurrent workers.\n"
          ]
        },
        {
          "output_type": "stream",
          "name": "stdout",
          "text": [
            "Accuratezza fase di Cross Validation con dati di Addestramento/Validazione: 0.573\n",
            "{'algorithm': 'auto', 'n_neighbors': 5, 'weights': 'distance'}\n",
            "Accuratezza con dati di Test: 0.667\n",
            "Risultato sui dati di test:\n",
            "              precision    recall  f1-score   support\n",
            "\n",
            "           0       0.62      0.83      0.71         6\n",
            "           1       0.75      0.50      0.60         6\n",
            "\n",
            "    accuracy                           0.67        12\n",
            "   macro avg       0.69      0.67      0.66        12\n",
            "weighted avg       0.69      0.67      0.66        12\n",
            "\n",
            "[[5 1]\n",
            " [3 3]]\n",
            "Accuratezza Test: 66.000\n",
            "Precisione  Test: 62.000\n",
            "Sensitività Test: 83.000\n",
            "Specificità Test: 50.000\n",
            "F1 score    Test: 70.000\n"
          ]
        },
        {
          "output_type": "stream",
          "name": "stderr",
          "text": [
            "[Parallel(n_jobs=-1)]: Done  80 out of  80 | elapsed:    0.2s finished\n",
            "/usr/local/lib/python3.7/dist-packages/sklearn/model_selection/_search.py:739: DataConversionWarning:\n",
            "\n",
            "A column-vector y was passed when a 1d array was expected. Please change the shape of y to (n_samples, ), for example using ravel().\n",
            "\n"
          ]
        }
      ]
    },
    {
      "cell_type": "code",
      "metadata": {
        "id": "WSj-6bF6msPe"
      },
      "source": [
        "#tuning_MP(2,5)"
      ],
      "execution_count": null,
      "outputs": []
    },
    {
      "cell_type": "code",
      "metadata": {
        "id": "LpyJDt5amsPg"
      },
      "source": [
        "#tuning_LR(2,10)"
      ],
      "execution_count": null,
      "outputs": []
    },
    {
      "cell_type": "markdown",
      "metadata": {
        "id": "dJGuPZpZjRor"
      },
      "source": [
        "<br>\n",
        "<br>"
      ]
    },
    {
      "cell_type": "markdown",
      "metadata": {
        "id": "v_Guzf0TjRot"
      },
      "source": [
        "<br>\n",
        "<br>"
      ]
    },
    {
      "cell_type": "code",
      "metadata": {
        "id": "LjXHnjb7iILZ"
      },
      "source": [
        "#tuning_foresta(2,5)"
      ],
      "execution_count": null,
      "outputs": []
    },
    {
      "cell_type": "markdown",
      "metadata": {
        "id": "M3cduXq-iMIL"
      },
      "source": [
        "### Caso3 MCI vs HCF"
      ]
    },
    {
      "cell_type": "code",
      "metadata": {
        "id": "wmxlNbNqK7UC"
      },
      "source": [
        ""
      ],
      "execution_count": null,
      "outputs": []
    },
    {
      "cell_type": "markdown",
      "metadata": {
        "id": "rkM6EDsmUxnO"
      },
      "source": [
        "#### 10 RUN"
      ]
    },
    {
      "cell_type": "code",
      "metadata": {
        "colab": {
          "base_uri": "https://localhost:8080/"
        },
        "id": "7usY_9tbU8ss",
        "outputId": "3bca9b44-6cbd-43ce-9ea2-b40cfba7b822"
      },
      "source": [
        "for i in range(10):\n",
        "    df=MCIHC.loc[:,0]\n",
        "\n",
        "    X = df.to_numpy()\n",
        "\n",
        "    Y = MCIHC.loc[:,1]\n",
        "    y = Y.to_numpy()\n",
        "    y = np.where(y == 2, 1, 0)\n",
        "\n",
        "    #from sklearn.model_selection import train_test_split\n",
        "\n",
        "\n",
        "    X_train, X_test, y_train, y_test = train_test_split(X, y, test_size=0.3,stratify=y)\n",
        "\n",
        "    #pca = PCA(n_components=2)\n",
        "\n",
        "    #X_train_pca = pca.fit_transform(X_train)\n",
        "    #X_test_pca = pca.transform(X_test)\n",
        "\n",
        "    X_train_caso3=X_train\n",
        "    X_test_caso3=X_test\n",
        "    y_train_caso3=y_train\n",
        "    y_test_caso3=y_test\n",
        "    X_train_caso3=X_train_caso3.reshape(-1,1)\n",
        "    X_test_caso3=X_test_caso3.reshape(-1,1)\n",
        "    y_train_caso3=y_train_caso3.reshape(-1,1)\n",
        "    y_test_caso3=y_test_caso3.reshape(-1,1)\n",
        "\n",
        "    tuning_albero_decisione(3,10)\n",
        "    tuning_SVM(3,5)\n",
        "    tuning_KNN(3,5)"
      ],
      "execution_count": null,
      "outputs": [
        {
          "output_type": "stream",
          "name": "stdout",
          "text": [
            "stimatore utilizzato - DecisionTreeClassifier\n",
            "Fitting 10 folds for each of 216 candidates, totalling 2160 fits\n"
          ]
        },
        {
          "output_type": "stream",
          "name": "stderr",
          "text": [
            "[Parallel(n_jobs=-1)]: Using backend LokyBackend with 2 concurrent workers.\n",
            "[Parallel(n_jobs=-1)]: Done 1951 tasks      | elapsed:    2.3s\n",
            "[Parallel(n_jobs=-1)]: Done 2160 out of 2160 | elapsed:    2.4s finished\n",
            "/usr/local/lib/python3.7/dist-packages/sklearn/model_selection/_search.py:281: UserWarning:\n",
            "\n",
            "The total space of parameters 2 is smaller than n_iter=20. Running 2 iterations. For exhaustive searches, use GridSearchCV.\n",
            "\n",
            "[Parallel(n_jobs=-1)]: Using backend LokyBackend with 2 concurrent workers.\n",
            "[Parallel(n_jobs=-1)]: Done  10 out of  10 | elapsed:    0.0s finished\n",
            "/usr/local/lib/python3.7/dist-packages/sklearn/utils/validation.py:760: DataConversionWarning:\n",
            "\n",
            "A column-vector y was passed when a 1d array was expected. Please change the shape of y to (n_samples, ), for example using ravel().\n",
            "\n"
          ]
        },
        {
          "output_type": "stream",
          "name": "stdout",
          "text": [
            "Accuratezza fase di Cross Validation con dati di Addestramento/Validazione: 1.000\n",
            "{'criterion': 'gini', 'max_depth': 3, 'min_samples_leaf': 1, 'min_samples_split': 2, 'min_weight_fraction_leaf': 0}\n",
            "Accuratezza con dati di Test: 1.000\n",
            "Risultato sui dati di test:\n",
            "              precision    recall  f1-score   support\n",
            "\n",
            "           0       1.00      1.00      1.00         6\n",
            "           1       1.00      1.00      1.00         6\n",
            "\n",
            "    accuracy                           1.00        12\n",
            "   macro avg       1.00      1.00      1.00        12\n",
            "weighted avg       1.00      1.00      1.00        12\n",
            "\n",
            "[[6 0]\n",
            " [0 6]]\n",
            "Accuratezza Test: 100.000\n",
            "Precisione  Test: 100.000\n",
            "Sensitività Test: 100.000\n",
            "Specificità Test: 100.000\n",
            "F1 score    Test: 100.000\n",
            "stimatore utilizzato - Support vector machine (SVC)\n",
            "Fitting 5 folds for each of 2 candidates, totalling 10 fits\n",
            "Accuratezza fase di Cross Validation con dati di Addestramento/Validazione: 1.000\n",
            "{'kernel': 'linear'}\n",
            "Accuratezza con dati di Test: 1.000\n",
            "Risultato sui dati di test:\n",
            "              precision    recall  f1-score   support\n",
            "\n",
            "           0       1.00      1.00      1.00         6\n",
            "           1       1.00      1.00      1.00         6\n",
            "\n",
            "    accuracy                           1.00        12\n",
            "   macro avg       1.00      1.00      1.00        12\n",
            "weighted avg       1.00      1.00      1.00        12\n",
            "\n",
            "[[6 0]\n",
            " [0 6]]\n",
            "Accuratezza Test: 100.000\n",
            "Precisione  Test: 100.000\n",
            "Sensitività Test: 100.000\n",
            "Specificità Test: 100.000\n",
            "F1 score    Test: 100.000\n",
            "stimatore utilizzato - KNeighborsClassifier\n",
            "Fitting 5 folds for each of 16 candidates, totalling 80 fits\n"
          ]
        },
        {
          "output_type": "stream",
          "name": "stderr",
          "text": [
            "[Parallel(n_jobs=-1)]: Using backend LokyBackend with 2 concurrent workers.\n",
            "[Parallel(n_jobs=-1)]: Done  80 out of  80 | elapsed:    0.2s finished\n",
            "/usr/local/lib/python3.7/dist-packages/sklearn/model_selection/_search.py:739: DataConversionWarning:\n",
            "\n",
            "A column-vector y was passed when a 1d array was expected. Please change the shape of y to (n_samples, ), for example using ravel().\n",
            "\n"
          ]
        },
        {
          "output_type": "stream",
          "name": "stdout",
          "text": [
            "Accuratezza fase di Cross Validation con dati di Addestramento/Validazione: 0.960\n",
            "{'algorithm': 'auto', 'n_neighbors': 5, 'weights': 'uniform'}\n",
            "Accuratezza con dati di Test: 1.000\n",
            "Risultato sui dati di test:\n",
            "              precision    recall  f1-score   support\n",
            "\n",
            "           0       1.00      1.00      1.00         6\n",
            "           1       1.00      1.00      1.00         6\n",
            "\n",
            "    accuracy                           1.00        12\n",
            "   macro avg       1.00      1.00      1.00        12\n",
            "weighted avg       1.00      1.00      1.00        12\n",
            "\n",
            "[[6 0]\n",
            " [0 6]]\n",
            "Accuratezza Test: 100.000\n",
            "Precisione  Test: 100.000\n",
            "Sensitività Test: 100.000\n",
            "Specificità Test: 100.000\n",
            "F1 score    Test: 100.000\n",
            "stimatore utilizzato - DecisionTreeClassifier\n",
            "Fitting 10 folds for each of 216 candidates, totalling 2160 fits\n"
          ]
        },
        {
          "output_type": "stream",
          "name": "stderr",
          "text": [
            "[Parallel(n_jobs=-1)]: Using backend LokyBackend with 2 concurrent workers.\n",
            "[Parallel(n_jobs=-1)]: Done 1951 tasks      | elapsed:    2.2s\n",
            "[Parallel(n_jobs=-1)]: Done 2160 out of 2160 | elapsed:    2.3s finished\n",
            "/usr/local/lib/python3.7/dist-packages/sklearn/model_selection/_search.py:281: UserWarning:\n",
            "\n",
            "The total space of parameters 2 is smaller than n_iter=20. Running 2 iterations. For exhaustive searches, use GridSearchCV.\n",
            "\n",
            "[Parallel(n_jobs=-1)]: Using backend LokyBackend with 2 concurrent workers.\n",
            "[Parallel(n_jobs=-1)]: Done  10 out of  10 | elapsed:    0.0s finished\n",
            "/usr/local/lib/python3.7/dist-packages/sklearn/utils/validation.py:760: DataConversionWarning:\n",
            "\n",
            "A column-vector y was passed when a 1d array was expected. Please change the shape of y to (n_samples, ), for example using ravel().\n",
            "\n",
            "[Parallel(n_jobs=-1)]: Using backend LokyBackend with 2 concurrent workers.\n"
          ]
        },
        {
          "output_type": "stream",
          "name": "stdout",
          "text": [
            "Accuratezza fase di Cross Validation con dati di Addestramento/Validazione: 1.000\n",
            "{'criterion': 'gini', 'max_depth': 3, 'min_samples_leaf': 1, 'min_samples_split': 2, 'min_weight_fraction_leaf': 0}\n",
            "Accuratezza con dati di Test: 1.000\n",
            "Risultato sui dati di test:\n",
            "              precision    recall  f1-score   support\n",
            "\n",
            "           0       1.00      1.00      1.00         6\n",
            "           1       1.00      1.00      1.00         6\n",
            "\n",
            "    accuracy                           1.00        12\n",
            "   macro avg       1.00      1.00      1.00        12\n",
            "weighted avg       1.00      1.00      1.00        12\n",
            "\n",
            "[[6 0]\n",
            " [0 6]]\n",
            "Accuratezza Test: 100.000\n",
            "Precisione  Test: 100.000\n",
            "Sensitività Test: 100.000\n",
            "Specificità Test: 100.000\n",
            "F1 score    Test: 100.000\n",
            "stimatore utilizzato - Support vector machine (SVC)\n",
            "Fitting 5 folds for each of 2 candidates, totalling 10 fits\n",
            "Accuratezza fase di Cross Validation con dati di Addestramento/Validazione: 0.920\n",
            "{'kernel': 'linear'}\n",
            "Accuratezza con dati di Test: 1.000\n",
            "Risultato sui dati di test:\n",
            "              precision    recall  f1-score   support\n",
            "\n",
            "           0       1.00      1.00      1.00         6\n",
            "           1       1.00      1.00      1.00         6\n",
            "\n",
            "    accuracy                           1.00        12\n",
            "   macro avg       1.00      1.00      1.00        12\n",
            "weighted avg       1.00      1.00      1.00        12\n",
            "\n",
            "[[6 0]\n",
            " [0 6]]\n",
            "Accuratezza Test: 100.000\n",
            "Precisione  Test: 100.000\n",
            "Sensitività Test: 100.000\n",
            "Specificità Test: 100.000\n",
            "F1 score    Test: 100.000\n",
            "stimatore utilizzato - KNeighborsClassifier\n",
            "Fitting 5 folds for each of 16 candidates, totalling 80 fits\n"
          ]
        },
        {
          "output_type": "stream",
          "name": "stderr",
          "text": [
            "[Parallel(n_jobs=-1)]: Done  80 out of  80 | elapsed:    0.2s finished\n",
            "/usr/local/lib/python3.7/dist-packages/sklearn/model_selection/_search.py:739: DataConversionWarning:\n",
            "\n",
            "A column-vector y was passed when a 1d array was expected. Please change the shape of y to (n_samples, ), for example using ravel().\n",
            "\n",
            "[Parallel(n_jobs=-1)]: Using backend LokyBackend with 2 concurrent workers.\n"
          ]
        },
        {
          "output_type": "stream",
          "name": "stdout",
          "text": [
            "Accuratezza fase di Cross Validation con dati di Addestramento/Validazione: 0.920\n",
            "{'algorithm': 'auto', 'n_neighbors': 5, 'weights': 'uniform'}\n",
            "Accuratezza con dati di Test: 1.000\n",
            "Risultato sui dati di test:\n",
            "              precision    recall  f1-score   support\n",
            "\n",
            "           0       1.00      1.00      1.00         6\n",
            "           1       1.00      1.00      1.00         6\n",
            "\n",
            "    accuracy                           1.00        12\n",
            "   macro avg       1.00      1.00      1.00        12\n",
            "weighted avg       1.00      1.00      1.00        12\n",
            "\n",
            "[[6 0]\n",
            " [0 6]]\n",
            "Accuratezza Test: 100.000\n",
            "Precisione  Test: 100.000\n",
            "Sensitività Test: 100.000\n",
            "Specificità Test: 100.000\n",
            "F1 score    Test: 100.000\n",
            "stimatore utilizzato - DecisionTreeClassifier\n",
            "Fitting 10 folds for each of 216 candidates, totalling 2160 fits\n"
          ]
        },
        {
          "output_type": "stream",
          "name": "stderr",
          "text": [
            "[Parallel(n_jobs=-1)]: Done 2074 tasks      | elapsed:    2.2s\n",
            "[Parallel(n_jobs=-1)]: Done 2160 out of 2160 | elapsed:    2.3s finished\n",
            "/usr/local/lib/python3.7/dist-packages/sklearn/model_selection/_search.py:281: UserWarning:\n",
            "\n",
            "The total space of parameters 2 is smaller than n_iter=20. Running 2 iterations. For exhaustive searches, use GridSearchCV.\n",
            "\n",
            "[Parallel(n_jobs=-1)]: Using backend LokyBackend with 2 concurrent workers.\n",
            "[Parallel(n_jobs=-1)]: Done  10 out of  10 | elapsed:    0.0s finished\n",
            "/usr/local/lib/python3.7/dist-packages/sklearn/utils/validation.py:760: DataConversionWarning:\n",
            "\n",
            "A column-vector y was passed when a 1d array was expected. Please change the shape of y to (n_samples, ), for example using ravel().\n",
            "\n",
            "[Parallel(n_jobs=-1)]: Using backend LokyBackend with 2 concurrent workers.\n"
          ]
        },
        {
          "output_type": "stream",
          "name": "stdout",
          "text": [
            "Accuratezza fase di Cross Validation con dati di Addestramento/Validazione: 1.000\n",
            "{'criterion': 'gini', 'max_depth': 3, 'min_samples_leaf': 1, 'min_samples_split': 2, 'min_weight_fraction_leaf': 0}\n",
            "Accuratezza con dati di Test: 1.000\n",
            "Risultato sui dati di test:\n",
            "              precision    recall  f1-score   support\n",
            "\n",
            "           0       1.00      1.00      1.00         6\n",
            "           1       1.00      1.00      1.00         6\n",
            "\n",
            "    accuracy                           1.00        12\n",
            "   macro avg       1.00      1.00      1.00        12\n",
            "weighted avg       1.00      1.00      1.00        12\n",
            "\n",
            "[[6 0]\n",
            " [0 6]]\n",
            "Accuratezza Test: 100.000\n",
            "Precisione  Test: 100.000\n",
            "Sensitività Test: 100.000\n",
            "Specificità Test: 100.000\n",
            "F1 score    Test: 100.000\n",
            "stimatore utilizzato - Support vector machine (SVC)\n",
            "Fitting 5 folds for each of 2 candidates, totalling 10 fits\n",
            "Accuratezza fase di Cross Validation con dati di Addestramento/Validazione: 1.000\n",
            "{'kernel': 'linear'}\n",
            "Accuratezza con dati di Test: 1.000\n",
            "Risultato sui dati di test:\n",
            "              precision    recall  f1-score   support\n",
            "\n",
            "           0       1.00      1.00      1.00         6\n",
            "           1       1.00      1.00      1.00         6\n",
            "\n",
            "    accuracy                           1.00        12\n",
            "   macro avg       1.00      1.00      1.00        12\n",
            "weighted avg       1.00      1.00      1.00        12\n",
            "\n",
            "[[6 0]\n",
            " [0 6]]\n",
            "Accuratezza Test: 100.000\n",
            "Precisione  Test: 100.000\n",
            "Sensitività Test: 100.000\n",
            "Specificità Test: 100.000\n",
            "F1 score    Test: 100.000\n",
            "stimatore utilizzato - KNeighborsClassifier\n",
            "Fitting 5 folds for each of 16 candidates, totalling 80 fits\n"
          ]
        },
        {
          "output_type": "stream",
          "name": "stderr",
          "text": [
            "[Parallel(n_jobs=-1)]: Done  80 out of  80 | elapsed:    0.2s finished\n",
            "/usr/local/lib/python3.7/dist-packages/sklearn/model_selection/_search.py:739: DataConversionWarning:\n",
            "\n",
            "A column-vector y was passed when a 1d array was expected. Please change the shape of y to (n_samples, ), for example using ravel().\n",
            "\n",
            "[Parallel(n_jobs=-1)]: Using backend LokyBackend with 2 concurrent workers.\n"
          ]
        },
        {
          "output_type": "stream",
          "name": "stdout",
          "text": [
            "Accuratezza fase di Cross Validation con dati di Addestramento/Validazione: 1.000\n",
            "{'algorithm': 'auto', 'n_neighbors': 5, 'weights': 'distance'}\n",
            "Accuratezza con dati di Test: 1.000\n",
            "Risultato sui dati di test:\n",
            "              precision    recall  f1-score   support\n",
            "\n",
            "           0       1.00      1.00      1.00         6\n",
            "           1       1.00      1.00      1.00         6\n",
            "\n",
            "    accuracy                           1.00        12\n",
            "   macro avg       1.00      1.00      1.00        12\n",
            "weighted avg       1.00      1.00      1.00        12\n",
            "\n",
            "[[6 0]\n",
            " [0 6]]\n",
            "Accuratezza Test: 100.000\n",
            "Precisione  Test: 100.000\n",
            "Sensitività Test: 100.000\n",
            "Specificità Test: 100.000\n",
            "F1 score    Test: 100.000\n",
            "stimatore utilizzato - DecisionTreeClassifier\n",
            "Fitting 10 folds for each of 216 candidates, totalling 2160 fits\n"
          ]
        },
        {
          "output_type": "stream",
          "name": "stderr",
          "text": [
            "[Parallel(n_jobs=-1)]: Done 2074 tasks      | elapsed:    2.2s\n",
            "[Parallel(n_jobs=-1)]: Done 2160 out of 2160 | elapsed:    2.3s finished\n",
            "/usr/local/lib/python3.7/dist-packages/sklearn/model_selection/_search.py:281: UserWarning:\n",
            "\n",
            "The total space of parameters 2 is smaller than n_iter=20. Running 2 iterations. For exhaustive searches, use GridSearchCV.\n",
            "\n",
            "[Parallel(n_jobs=-1)]: Using backend LokyBackend with 2 concurrent workers.\n",
            "[Parallel(n_jobs=-1)]: Done  10 out of  10 | elapsed:    0.0s finished\n",
            "/usr/local/lib/python3.7/dist-packages/sklearn/utils/validation.py:760: DataConversionWarning:\n",
            "\n",
            "A column-vector y was passed when a 1d array was expected. Please change the shape of y to (n_samples, ), for example using ravel().\n",
            "\n",
            "[Parallel(n_jobs=-1)]: Using backend LokyBackend with 2 concurrent workers.\n"
          ]
        },
        {
          "output_type": "stream",
          "name": "stdout",
          "text": [
            "Accuratezza fase di Cross Validation con dati di Addestramento/Validazione: 1.000\n",
            "{'criterion': 'gini', 'max_depth': 3, 'min_samples_leaf': 1, 'min_samples_split': 2, 'min_weight_fraction_leaf': 0}\n",
            "Accuratezza con dati di Test: 1.000\n",
            "Risultato sui dati di test:\n",
            "              precision    recall  f1-score   support\n",
            "\n",
            "           0       1.00      1.00      1.00         6\n",
            "           1       1.00      1.00      1.00         6\n",
            "\n",
            "    accuracy                           1.00        12\n",
            "   macro avg       1.00      1.00      1.00        12\n",
            "weighted avg       1.00      1.00      1.00        12\n",
            "\n",
            "[[6 0]\n",
            " [0 6]]\n",
            "Accuratezza Test: 100.000\n",
            "Precisione  Test: 100.000\n",
            "Sensitività Test: 100.000\n",
            "Specificità Test: 100.000\n",
            "F1 score    Test: 100.000\n",
            "stimatore utilizzato - Support vector machine (SVC)\n",
            "Fitting 5 folds for each of 2 candidates, totalling 10 fits\n",
            "Accuratezza fase di Cross Validation con dati di Addestramento/Validazione: 1.000\n",
            "{'kernel': 'linear'}\n",
            "Accuratezza con dati di Test: 1.000\n",
            "Risultato sui dati di test:\n",
            "              precision    recall  f1-score   support\n",
            "\n",
            "           0       1.00      1.00      1.00         6\n",
            "           1       1.00      1.00      1.00         6\n",
            "\n",
            "    accuracy                           1.00        12\n",
            "   macro avg       1.00      1.00      1.00        12\n",
            "weighted avg       1.00      1.00      1.00        12\n",
            "\n",
            "[[6 0]\n",
            " [0 6]]\n",
            "Accuratezza Test: 100.000\n",
            "Precisione  Test: 100.000\n",
            "Sensitività Test: 100.000\n",
            "Specificità Test: 100.000\n",
            "F1 score    Test: 100.000\n",
            "stimatore utilizzato - KNeighborsClassifier\n",
            "Fitting 5 folds for each of 16 candidates, totalling 80 fits\n"
          ]
        },
        {
          "output_type": "stream",
          "name": "stderr",
          "text": [
            "[Parallel(n_jobs=-1)]: Done  80 out of  80 | elapsed:    0.2s finished\n",
            "/usr/local/lib/python3.7/dist-packages/sklearn/model_selection/_search.py:739: DataConversionWarning:\n",
            "\n",
            "A column-vector y was passed when a 1d array was expected. Please change the shape of y to (n_samples, ), for example using ravel().\n",
            "\n",
            "[Parallel(n_jobs=-1)]: Using backend LokyBackend with 2 concurrent workers.\n"
          ]
        },
        {
          "output_type": "stream",
          "name": "stdout",
          "text": [
            "Accuratezza fase di Cross Validation con dati di Addestramento/Validazione: 0.960\n",
            "{'algorithm': 'auto', 'n_neighbors': 5, 'weights': 'distance'}\n",
            "Accuratezza con dati di Test: 1.000\n",
            "Risultato sui dati di test:\n",
            "              precision    recall  f1-score   support\n",
            "\n",
            "           0       1.00      1.00      1.00         6\n",
            "           1       1.00      1.00      1.00         6\n",
            "\n",
            "    accuracy                           1.00        12\n",
            "   macro avg       1.00      1.00      1.00        12\n",
            "weighted avg       1.00      1.00      1.00        12\n",
            "\n",
            "[[6 0]\n",
            " [0 6]]\n",
            "Accuratezza Test: 100.000\n",
            "Precisione  Test: 100.000\n",
            "Sensitività Test: 100.000\n",
            "Specificità Test: 100.000\n",
            "F1 score    Test: 100.000\n",
            "stimatore utilizzato - DecisionTreeClassifier\n",
            "Fitting 10 folds for each of 216 candidates, totalling 2160 fits\n"
          ]
        },
        {
          "output_type": "stream",
          "name": "stderr",
          "text": [
            "[Parallel(n_jobs=-1)]: Done 1972 tasks      | elapsed:    2.1s\n",
            "[Parallel(n_jobs=-1)]: Done 2160 out of 2160 | elapsed:    2.2s finished\n",
            "/usr/local/lib/python3.7/dist-packages/sklearn/model_selection/_search.py:281: UserWarning:\n",
            "\n",
            "The total space of parameters 2 is smaller than n_iter=20. Running 2 iterations. For exhaustive searches, use GridSearchCV.\n",
            "\n",
            "[Parallel(n_jobs=-1)]: Using backend LokyBackend with 2 concurrent workers.\n",
            "[Parallel(n_jobs=-1)]: Done  10 out of  10 | elapsed:    0.0s finished\n",
            "/usr/local/lib/python3.7/dist-packages/sklearn/utils/validation.py:760: DataConversionWarning:\n",
            "\n",
            "A column-vector y was passed when a 1d array was expected. Please change the shape of y to (n_samples, ), for example using ravel().\n",
            "\n",
            "[Parallel(n_jobs=-1)]: Using backend LokyBackend with 2 concurrent workers.\n"
          ]
        },
        {
          "output_type": "stream",
          "name": "stdout",
          "text": [
            "Accuratezza fase di Cross Validation con dati di Addestramento/Validazione: 0.967\n",
            "{'criterion': 'gini', 'max_depth': 3, 'min_samples_leaf': 1, 'min_samples_split': 2, 'min_weight_fraction_leaf': 0}\n",
            "Accuratezza con dati di Test: 1.000\n",
            "Risultato sui dati di test:\n",
            "              precision    recall  f1-score   support\n",
            "\n",
            "           0       1.00      1.00      1.00         6\n",
            "           1       1.00      1.00      1.00         6\n",
            "\n",
            "    accuracy                           1.00        12\n",
            "   macro avg       1.00      1.00      1.00        12\n",
            "weighted avg       1.00      1.00      1.00        12\n",
            "\n",
            "[[6 0]\n",
            " [0 6]]\n",
            "Accuratezza Test: 100.000\n",
            "Precisione  Test: 100.000\n",
            "Sensitività Test: 100.000\n",
            "Specificità Test: 100.000\n",
            "F1 score    Test: 100.000\n",
            "stimatore utilizzato - Support vector machine (SVC)\n",
            "Fitting 5 folds for each of 2 candidates, totalling 10 fits\n",
            "Accuratezza fase di Cross Validation con dati di Addestramento/Validazione: 0.960\n",
            "{'kernel': 'linear'}\n",
            "Accuratezza con dati di Test: 1.000\n",
            "Risultato sui dati di test:\n",
            "              precision    recall  f1-score   support\n",
            "\n",
            "           0       1.00      1.00      1.00         6\n",
            "           1       1.00      1.00      1.00         6\n",
            "\n",
            "    accuracy                           1.00        12\n",
            "   macro avg       1.00      1.00      1.00        12\n",
            "weighted avg       1.00      1.00      1.00        12\n",
            "\n",
            "[[6 0]\n",
            " [0 6]]\n",
            "Accuratezza Test: 100.000\n",
            "Precisione  Test: 100.000\n",
            "Sensitività Test: 100.000\n",
            "Specificità Test: 100.000\n",
            "F1 score    Test: 100.000\n",
            "stimatore utilizzato - KNeighborsClassifier\n",
            "Fitting 5 folds for each of 16 candidates, totalling 80 fits\n"
          ]
        },
        {
          "output_type": "stream",
          "name": "stderr",
          "text": [
            "[Parallel(n_jobs=-1)]: Done  80 out of  80 | elapsed:    0.2s finished\n",
            "/usr/local/lib/python3.7/dist-packages/sklearn/model_selection/_search.py:739: DataConversionWarning:\n",
            "\n",
            "A column-vector y was passed when a 1d array was expected. Please change the shape of y to (n_samples, ), for example using ravel().\n",
            "\n",
            "[Parallel(n_jobs=-1)]: Using backend LokyBackend with 2 concurrent workers.\n"
          ]
        },
        {
          "output_type": "stream",
          "name": "stdout",
          "text": [
            "Accuratezza fase di Cross Validation con dati di Addestramento/Validazione: 0.960\n",
            "{'algorithm': 'auto', 'n_neighbors': 5, 'weights': 'uniform'}\n",
            "Accuratezza con dati di Test: 0.917\n",
            "Risultato sui dati di test:\n",
            "              precision    recall  f1-score   support\n",
            "\n",
            "           0       0.86      1.00      0.92         6\n",
            "           1       1.00      0.83      0.91         6\n",
            "\n",
            "    accuracy                           0.92        12\n",
            "   macro avg       0.93      0.92      0.92        12\n",
            "weighted avg       0.93      0.92      0.92        12\n",
            "\n",
            "[[6 0]\n",
            " [1 5]]\n",
            "Accuratezza Test: 91.000\n",
            "Precisione  Test: 85.000\n",
            "Sensitività Test: 100.000\n",
            "Specificità Test: 83.000\n",
            "F1 score    Test: 91.000\n",
            "stimatore utilizzato - DecisionTreeClassifier\n",
            "Fitting 10 folds for each of 216 candidates, totalling 2160 fits\n"
          ]
        },
        {
          "output_type": "stream",
          "name": "stderr",
          "text": [
            "[Parallel(n_jobs=-1)]: Done 1016 tasks      | elapsed:    1.3s\n",
            "[Parallel(n_jobs=-1)]: Done 2160 out of 2160 | elapsed:    2.3s finished\n",
            "/usr/local/lib/python3.7/dist-packages/sklearn/model_selection/_search.py:281: UserWarning:\n",
            "\n",
            "The total space of parameters 2 is smaller than n_iter=20. Running 2 iterations. For exhaustive searches, use GridSearchCV.\n",
            "\n",
            "[Parallel(n_jobs=-1)]: Using backend LokyBackend with 2 concurrent workers.\n",
            "[Parallel(n_jobs=-1)]: Done  10 out of  10 | elapsed:    0.0s finished\n",
            "/usr/local/lib/python3.7/dist-packages/sklearn/utils/validation.py:760: DataConversionWarning:\n",
            "\n",
            "A column-vector y was passed when a 1d array was expected. Please change the shape of y to (n_samples, ), for example using ravel().\n",
            "\n",
            "[Parallel(n_jobs=-1)]: Using backend LokyBackend with 2 concurrent workers.\n"
          ]
        },
        {
          "output_type": "stream",
          "name": "stdout",
          "text": [
            "Accuratezza fase di Cross Validation con dati di Addestramento/Validazione: 1.000\n",
            "{'criterion': 'gini', 'max_depth': 3, 'min_samples_leaf': 1, 'min_samples_split': 2, 'min_weight_fraction_leaf': 0}\n",
            "Accuratezza con dati di Test: 1.000\n",
            "Risultato sui dati di test:\n",
            "              precision    recall  f1-score   support\n",
            "\n",
            "           0       1.00      1.00      1.00         6\n",
            "           1       1.00      1.00      1.00         6\n",
            "\n",
            "    accuracy                           1.00        12\n",
            "   macro avg       1.00      1.00      1.00        12\n",
            "weighted avg       1.00      1.00      1.00        12\n",
            "\n",
            "[[6 0]\n",
            " [0 6]]\n",
            "Accuratezza Test: 100.000\n",
            "Precisione  Test: 100.000\n",
            "Sensitività Test: 100.000\n",
            "Specificità Test: 100.000\n",
            "F1 score    Test: 100.000\n",
            "stimatore utilizzato - Support vector machine (SVC)\n",
            "Fitting 5 folds for each of 2 candidates, totalling 10 fits\n",
            "Accuratezza fase di Cross Validation con dati di Addestramento/Validazione: 1.000\n",
            "{'kernel': 'linear'}\n",
            "Accuratezza con dati di Test: 1.000\n",
            "Risultato sui dati di test:\n",
            "              precision    recall  f1-score   support\n",
            "\n",
            "           0       1.00      1.00      1.00         6\n",
            "           1       1.00      1.00      1.00         6\n",
            "\n",
            "    accuracy                           1.00        12\n",
            "   macro avg       1.00      1.00      1.00        12\n",
            "weighted avg       1.00      1.00      1.00        12\n",
            "\n",
            "[[6 0]\n",
            " [0 6]]\n",
            "Accuratezza Test: 100.000\n",
            "Precisione  Test: 100.000\n",
            "Sensitività Test: 100.000\n",
            "Specificità Test: 100.000\n",
            "F1 score    Test: 100.000\n",
            "stimatore utilizzato - KNeighborsClassifier\n",
            "Fitting 5 folds for each of 16 candidates, totalling 80 fits\n"
          ]
        },
        {
          "output_type": "stream",
          "name": "stderr",
          "text": [
            "[Parallel(n_jobs=-1)]: Done  80 out of  80 | elapsed:    0.2s finished\n",
            "/usr/local/lib/python3.7/dist-packages/sklearn/model_selection/_search.py:739: DataConversionWarning:\n",
            "\n",
            "A column-vector y was passed when a 1d array was expected. Please change the shape of y to (n_samples, ), for example using ravel().\n",
            "\n",
            "[Parallel(n_jobs=-1)]: Using backend LokyBackend with 2 concurrent workers.\n"
          ]
        },
        {
          "output_type": "stream",
          "name": "stdout",
          "text": [
            "Accuratezza fase di Cross Validation con dati di Addestramento/Validazione: 0.960\n",
            "{'algorithm': 'auto', 'n_neighbors': 5, 'weights': 'uniform'}\n",
            "Accuratezza con dati di Test: 1.000\n",
            "Risultato sui dati di test:\n",
            "              precision    recall  f1-score   support\n",
            "\n",
            "           0       1.00      1.00      1.00         6\n",
            "           1       1.00      1.00      1.00         6\n",
            "\n",
            "    accuracy                           1.00        12\n",
            "   macro avg       1.00      1.00      1.00        12\n",
            "weighted avg       1.00      1.00      1.00        12\n",
            "\n",
            "[[6 0]\n",
            " [0 6]]\n",
            "Accuratezza Test: 100.000\n",
            "Precisione  Test: 100.000\n",
            "Sensitività Test: 100.000\n",
            "Specificità Test: 100.000\n",
            "F1 score    Test: 100.000\n",
            "stimatore utilizzato - DecisionTreeClassifier\n",
            "Fitting 10 folds for each of 216 candidates, totalling 2160 fits\n"
          ]
        },
        {
          "output_type": "stream",
          "name": "stderr",
          "text": [
            "[Parallel(n_jobs=-1)]: Done 2074 tasks      | elapsed:    2.1s\n",
            "[Parallel(n_jobs=-1)]: Done 2160 out of 2160 | elapsed:    2.2s finished\n",
            "/usr/local/lib/python3.7/dist-packages/sklearn/model_selection/_search.py:281: UserWarning:\n",
            "\n",
            "The total space of parameters 2 is smaller than n_iter=20. Running 2 iterations. For exhaustive searches, use GridSearchCV.\n",
            "\n",
            "[Parallel(n_jobs=-1)]: Using backend LokyBackend with 2 concurrent workers.\n",
            "[Parallel(n_jobs=-1)]: Done  10 out of  10 | elapsed:    0.0s finished\n",
            "/usr/local/lib/python3.7/dist-packages/sklearn/utils/validation.py:760: DataConversionWarning:\n",
            "\n",
            "A column-vector y was passed when a 1d array was expected. Please change the shape of y to (n_samples, ), for example using ravel().\n",
            "\n",
            "[Parallel(n_jobs=-1)]: Using backend LokyBackend with 2 concurrent workers.\n"
          ]
        },
        {
          "output_type": "stream",
          "name": "stdout",
          "text": [
            "Accuratezza fase di Cross Validation con dati di Addestramento/Validazione: 1.000\n",
            "{'criterion': 'gini', 'max_depth': 3, 'min_samples_leaf': 1, 'min_samples_split': 2, 'min_weight_fraction_leaf': 0}\n",
            "Accuratezza con dati di Test: 1.000\n",
            "Risultato sui dati di test:\n",
            "              precision    recall  f1-score   support\n",
            "\n",
            "           0       1.00      1.00      1.00         6\n",
            "           1       1.00      1.00      1.00         6\n",
            "\n",
            "    accuracy                           1.00        12\n",
            "   macro avg       1.00      1.00      1.00        12\n",
            "weighted avg       1.00      1.00      1.00        12\n",
            "\n",
            "[[6 0]\n",
            " [0 6]]\n",
            "Accuratezza Test: 100.000\n",
            "Precisione  Test: 100.000\n",
            "Sensitività Test: 100.000\n",
            "Specificità Test: 100.000\n",
            "F1 score    Test: 100.000\n",
            "stimatore utilizzato - Support vector machine (SVC)\n",
            "Fitting 5 folds for each of 2 candidates, totalling 10 fits\n",
            "Accuratezza fase di Cross Validation con dati di Addestramento/Validazione: 1.000\n",
            "{'kernel': 'linear'}\n",
            "Accuratezza con dati di Test: 1.000\n",
            "Risultato sui dati di test:\n",
            "              precision    recall  f1-score   support\n",
            "\n",
            "           0       1.00      1.00      1.00         6\n",
            "           1       1.00      1.00      1.00         6\n",
            "\n",
            "    accuracy                           1.00        12\n",
            "   macro avg       1.00      1.00      1.00        12\n",
            "weighted avg       1.00      1.00      1.00        12\n",
            "\n",
            "[[6 0]\n",
            " [0 6]]\n",
            "Accuratezza Test: 100.000\n",
            "Precisione  Test: 100.000\n",
            "Sensitività Test: 100.000\n",
            "Specificità Test: 100.000\n",
            "F1 score    Test: 100.000\n",
            "stimatore utilizzato - KNeighborsClassifier\n",
            "Fitting 5 folds for each of 16 candidates, totalling 80 fits\n"
          ]
        },
        {
          "output_type": "stream",
          "name": "stderr",
          "text": [
            "[Parallel(n_jobs=-1)]: Done  80 out of  80 | elapsed:    0.2s finished\n",
            "/usr/local/lib/python3.7/dist-packages/sklearn/model_selection/_search.py:739: DataConversionWarning:\n",
            "\n",
            "A column-vector y was passed when a 1d array was expected. Please change the shape of y to (n_samples, ), for example using ravel().\n",
            "\n",
            "[Parallel(n_jobs=-1)]: Using backend LokyBackend with 2 concurrent workers.\n"
          ]
        },
        {
          "output_type": "stream",
          "name": "stdout",
          "text": [
            "Accuratezza fase di Cross Validation con dati di Addestramento/Validazione: 0.960\n",
            "{'algorithm': 'auto', 'n_neighbors': 5, 'weights': 'distance'}\n",
            "Accuratezza con dati di Test: 1.000\n",
            "Risultato sui dati di test:\n",
            "              precision    recall  f1-score   support\n",
            "\n",
            "           0       1.00      1.00      1.00         6\n",
            "           1       1.00      1.00      1.00         6\n",
            "\n",
            "    accuracy                           1.00        12\n",
            "   macro avg       1.00      1.00      1.00        12\n",
            "weighted avg       1.00      1.00      1.00        12\n",
            "\n",
            "[[6 0]\n",
            " [0 6]]\n",
            "Accuratezza Test: 100.000\n",
            "Precisione  Test: 100.000\n",
            "Sensitività Test: 100.000\n",
            "Specificità Test: 100.000\n",
            "F1 score    Test: 100.000\n",
            "stimatore utilizzato - DecisionTreeClassifier\n",
            "Fitting 10 folds for each of 216 candidates, totalling 2160 fits\n"
          ]
        },
        {
          "output_type": "stream",
          "name": "stderr",
          "text": [
            "[Parallel(n_jobs=-1)]: Done 1843 tasks      | elapsed:    2.1s\n",
            "[Parallel(n_jobs=-1)]: Done 2160 out of 2160 | elapsed:    2.2s finished\n",
            "/usr/local/lib/python3.7/dist-packages/sklearn/model_selection/_search.py:281: UserWarning:\n",
            "\n",
            "The total space of parameters 2 is smaller than n_iter=20. Running 2 iterations. For exhaustive searches, use GridSearchCV.\n",
            "\n",
            "[Parallel(n_jobs=-1)]: Using backend LokyBackend with 2 concurrent workers.\n",
            "[Parallel(n_jobs=-1)]: Done  10 out of  10 | elapsed:    0.0s finished\n",
            "/usr/local/lib/python3.7/dist-packages/sklearn/utils/validation.py:760: DataConversionWarning:\n",
            "\n",
            "A column-vector y was passed when a 1d array was expected. Please change the shape of y to (n_samples, ), for example using ravel().\n",
            "\n",
            "[Parallel(n_jobs=-1)]: Using backend LokyBackend with 2 concurrent workers.\n"
          ]
        },
        {
          "output_type": "stream",
          "name": "stdout",
          "text": [
            "Accuratezza fase di Cross Validation con dati di Addestramento/Validazione: 1.000\n",
            "{'criterion': 'gini', 'max_depth': 3, 'min_samples_leaf': 1, 'min_samples_split': 2, 'min_weight_fraction_leaf': 0}\n",
            "Accuratezza con dati di Test: 1.000\n",
            "Risultato sui dati di test:\n",
            "              precision    recall  f1-score   support\n",
            "\n",
            "           0       1.00      1.00      1.00         6\n",
            "           1       1.00      1.00      1.00         6\n",
            "\n",
            "    accuracy                           1.00        12\n",
            "   macro avg       1.00      1.00      1.00        12\n",
            "weighted avg       1.00      1.00      1.00        12\n",
            "\n",
            "[[6 0]\n",
            " [0 6]]\n",
            "Accuratezza Test: 100.000\n",
            "Precisione  Test: 100.000\n",
            "Sensitività Test: 100.000\n",
            "Specificità Test: 100.000\n",
            "F1 score    Test: 100.000\n",
            "stimatore utilizzato - Support vector machine (SVC)\n",
            "Fitting 5 folds for each of 2 candidates, totalling 10 fits\n",
            "Accuratezza fase di Cross Validation con dati di Addestramento/Validazione: 1.000\n",
            "{'kernel': 'linear'}\n",
            "Accuratezza con dati di Test: 1.000\n",
            "Risultato sui dati di test:\n",
            "              precision    recall  f1-score   support\n",
            "\n",
            "           0       1.00      1.00      1.00         6\n",
            "           1       1.00      1.00      1.00         6\n",
            "\n",
            "    accuracy                           1.00        12\n",
            "   macro avg       1.00      1.00      1.00        12\n",
            "weighted avg       1.00      1.00      1.00        12\n",
            "\n",
            "[[6 0]\n",
            " [0 6]]\n",
            "Accuratezza Test: 100.000\n",
            "Precisione  Test: 100.000\n",
            "Sensitività Test: 100.000\n",
            "Specificità Test: 100.000\n",
            "F1 score    Test: 100.000\n",
            "stimatore utilizzato - KNeighborsClassifier\n",
            "Fitting 5 folds for each of 16 candidates, totalling 80 fits\n"
          ]
        },
        {
          "output_type": "stream",
          "name": "stderr",
          "text": [
            "[Parallel(n_jobs=-1)]: Done  80 out of  80 | elapsed:    0.2s finished\n",
            "/usr/local/lib/python3.7/dist-packages/sklearn/model_selection/_search.py:739: DataConversionWarning:\n",
            "\n",
            "A column-vector y was passed when a 1d array was expected. Please change the shape of y to (n_samples, ), for example using ravel().\n",
            "\n",
            "[Parallel(n_jobs=-1)]: Using backend LokyBackend with 2 concurrent workers.\n"
          ]
        },
        {
          "output_type": "stream",
          "name": "stdout",
          "text": [
            "Accuratezza fase di Cross Validation con dati di Addestramento/Validazione: 0.960\n",
            "{'algorithm': 'auto', 'n_neighbors': 5, 'weights': 'distance'}\n",
            "Accuratezza con dati di Test: 1.000\n",
            "Risultato sui dati di test:\n",
            "              precision    recall  f1-score   support\n",
            "\n",
            "           0       1.00      1.00      1.00         6\n",
            "           1       1.00      1.00      1.00         6\n",
            "\n",
            "    accuracy                           1.00        12\n",
            "   macro avg       1.00      1.00      1.00        12\n",
            "weighted avg       1.00      1.00      1.00        12\n",
            "\n",
            "[[6 0]\n",
            " [0 6]]\n",
            "Accuratezza Test: 100.000\n",
            "Precisione  Test: 100.000\n",
            "Sensitività Test: 100.000\n",
            "Specificità Test: 100.000\n",
            "F1 score    Test: 100.000\n",
            "stimatore utilizzato - DecisionTreeClassifier\n",
            "Fitting 10 folds for each of 216 candidates, totalling 2160 fits\n"
          ]
        },
        {
          "output_type": "stream",
          "name": "stderr",
          "text": [
            "[Parallel(n_jobs=-1)]: Done 2094 tasks      | elapsed:    2.0s\n",
            "[Parallel(n_jobs=-1)]: Done 2160 out of 2160 | elapsed:    2.1s finished\n",
            "/usr/local/lib/python3.7/dist-packages/sklearn/model_selection/_search.py:281: UserWarning:\n",
            "\n",
            "The total space of parameters 2 is smaller than n_iter=20. Running 2 iterations. For exhaustive searches, use GridSearchCV.\n",
            "\n",
            "[Parallel(n_jobs=-1)]: Using backend LokyBackend with 2 concurrent workers.\n",
            "[Parallel(n_jobs=-1)]: Done  10 out of  10 | elapsed:    0.0s finished\n",
            "/usr/local/lib/python3.7/dist-packages/sklearn/utils/validation.py:760: DataConversionWarning:\n",
            "\n",
            "A column-vector y was passed when a 1d array was expected. Please change the shape of y to (n_samples, ), for example using ravel().\n",
            "\n",
            "[Parallel(n_jobs=-1)]: Using backend LokyBackend with 2 concurrent workers.\n"
          ]
        },
        {
          "output_type": "stream",
          "name": "stdout",
          "text": [
            "Accuratezza fase di Cross Validation con dati di Addestramento/Validazione: 0.967\n",
            "{'criterion': 'gini', 'max_depth': 3, 'min_samples_leaf': 1, 'min_samples_split': 2, 'min_weight_fraction_leaf': 0}\n",
            "Accuratezza con dati di Test: 1.000\n",
            "Risultato sui dati di test:\n",
            "              precision    recall  f1-score   support\n",
            "\n",
            "           0       1.00      1.00      1.00         6\n",
            "           1       1.00      1.00      1.00         6\n",
            "\n",
            "    accuracy                           1.00        12\n",
            "   macro avg       1.00      1.00      1.00        12\n",
            "weighted avg       1.00      1.00      1.00        12\n",
            "\n",
            "[[6 0]\n",
            " [0 6]]\n",
            "Accuratezza Test: 100.000\n",
            "Precisione  Test: 100.000\n",
            "Sensitività Test: 100.000\n",
            "Specificità Test: 100.000\n",
            "F1 score    Test: 100.000\n",
            "stimatore utilizzato - Support vector machine (SVC)\n",
            "Fitting 5 folds for each of 2 candidates, totalling 10 fits\n",
            "Accuratezza fase di Cross Validation con dati di Addestramento/Validazione: 0.967\n",
            "{'kernel': 'linear'}\n",
            "Accuratezza con dati di Test: 1.000\n",
            "Risultato sui dati di test:\n",
            "              precision    recall  f1-score   support\n",
            "\n",
            "           0       1.00      1.00      1.00         6\n",
            "           1       1.00      1.00      1.00         6\n",
            "\n",
            "    accuracy                           1.00        12\n",
            "   macro avg       1.00      1.00      1.00        12\n",
            "weighted avg       1.00      1.00      1.00        12\n",
            "\n",
            "[[6 0]\n",
            " [0 6]]\n",
            "Accuratezza Test: 100.000\n",
            "Precisione  Test: 100.000\n",
            "Sensitività Test: 100.000\n",
            "Specificità Test: 100.000\n",
            "F1 score    Test: 100.000\n",
            "stimatore utilizzato - KNeighborsClassifier\n",
            "Fitting 5 folds for each of 16 candidates, totalling 80 fits\n"
          ]
        },
        {
          "output_type": "stream",
          "name": "stderr",
          "text": [
            "[Parallel(n_jobs=-1)]: Done  80 out of  80 | elapsed:    0.2s finished\n",
            "/usr/local/lib/python3.7/dist-packages/sklearn/model_selection/_search.py:739: DataConversionWarning:\n",
            "\n",
            "A column-vector y was passed when a 1d array was expected. Please change the shape of y to (n_samples, ), for example using ravel().\n",
            "\n",
            "[Parallel(n_jobs=-1)]: Using backend LokyBackend with 2 concurrent workers.\n"
          ]
        },
        {
          "output_type": "stream",
          "name": "stdout",
          "text": [
            "Accuratezza fase di Cross Validation con dati di Addestramento/Validazione: 0.967\n",
            "{'algorithm': 'auto', 'n_neighbors': 5, 'weights': 'uniform'}\n",
            "Accuratezza con dati di Test: 0.917\n",
            "Risultato sui dati di test:\n",
            "              precision    recall  f1-score   support\n",
            "\n",
            "           0       0.86      1.00      0.92         6\n",
            "           1       1.00      0.83      0.91         6\n",
            "\n",
            "    accuracy                           0.92        12\n",
            "   macro avg       0.93      0.92      0.92        12\n",
            "weighted avg       0.93      0.92      0.92        12\n",
            "\n",
            "[[6 0]\n",
            " [1 5]]\n",
            "Accuratezza Test: 91.000\n",
            "Precisione  Test: 85.000\n",
            "Sensitività Test: 100.000\n",
            "Specificità Test: 83.000\n",
            "F1 score    Test: 91.000\n",
            "stimatore utilizzato - DecisionTreeClassifier\n",
            "Fitting 10 folds for each of 216 candidates, totalling 2160 fits\n"
          ]
        },
        {
          "output_type": "stream",
          "name": "stderr",
          "text": [
            "[Parallel(n_jobs=-1)]: Done 1951 tasks      | elapsed:    2.1s\n",
            "[Parallel(n_jobs=-1)]: Done 2160 out of 2160 | elapsed:    2.2s finished\n",
            "/usr/local/lib/python3.7/dist-packages/sklearn/model_selection/_search.py:281: UserWarning:\n",
            "\n",
            "The total space of parameters 2 is smaller than n_iter=20. Running 2 iterations. For exhaustive searches, use GridSearchCV.\n",
            "\n",
            "[Parallel(n_jobs=-1)]: Using backend LokyBackend with 2 concurrent workers.\n",
            "[Parallel(n_jobs=-1)]: Done  10 out of  10 | elapsed:    0.0s finished\n",
            "/usr/local/lib/python3.7/dist-packages/sklearn/utils/validation.py:760: DataConversionWarning:\n",
            "\n",
            "A column-vector y was passed when a 1d array was expected. Please change the shape of y to (n_samples, ), for example using ravel().\n",
            "\n",
            "[Parallel(n_jobs=-1)]: Using backend LokyBackend with 2 concurrent workers.\n"
          ]
        },
        {
          "output_type": "stream",
          "name": "stdout",
          "text": [
            "Accuratezza fase di Cross Validation con dati di Addestramento/Validazione: 1.000\n",
            "{'criterion': 'gini', 'max_depth': 3, 'min_samples_leaf': 1, 'min_samples_split': 2, 'min_weight_fraction_leaf': 0}\n",
            "Accuratezza con dati di Test: 1.000\n",
            "Risultato sui dati di test:\n",
            "              precision    recall  f1-score   support\n",
            "\n",
            "           0       1.00      1.00      1.00         6\n",
            "           1       1.00      1.00      1.00         6\n",
            "\n",
            "    accuracy                           1.00        12\n",
            "   macro avg       1.00      1.00      1.00        12\n",
            "weighted avg       1.00      1.00      1.00        12\n",
            "\n",
            "[[6 0]\n",
            " [0 6]]\n",
            "Accuratezza Test: 100.000\n",
            "Precisione  Test: 100.000\n",
            "Sensitività Test: 100.000\n",
            "Specificità Test: 100.000\n",
            "F1 score    Test: 100.000\n",
            "stimatore utilizzato - Support vector machine (SVC)\n",
            "Fitting 5 folds for each of 2 candidates, totalling 10 fits\n",
            "Accuratezza fase di Cross Validation con dati di Addestramento/Validazione: 1.000\n",
            "{'kernel': 'linear'}\n",
            "Accuratezza con dati di Test: 1.000\n",
            "Risultato sui dati di test:\n",
            "              precision    recall  f1-score   support\n",
            "\n",
            "           0       1.00      1.00      1.00         6\n",
            "           1       1.00      1.00      1.00         6\n",
            "\n",
            "    accuracy                           1.00        12\n",
            "   macro avg       1.00      1.00      1.00        12\n",
            "weighted avg       1.00      1.00      1.00        12\n",
            "\n",
            "[[6 0]\n",
            " [0 6]]\n",
            "Accuratezza Test: 100.000\n",
            "Precisione  Test: 100.000\n",
            "Sensitività Test: 100.000\n",
            "Specificità Test: 100.000\n",
            "F1 score    Test: 100.000\n",
            "stimatore utilizzato - KNeighborsClassifier\n",
            "Fitting 5 folds for each of 16 candidates, totalling 80 fits\n",
            "Accuratezza fase di Cross Validation con dati di Addestramento/Validazione: 1.000\n",
            "{'algorithm': 'auto', 'n_neighbors': 5, 'weights': 'distance'}\n",
            "Accuratezza con dati di Test: 1.000\n",
            "Risultato sui dati di test:\n",
            "              precision    recall  f1-score   support\n",
            "\n",
            "           0       1.00      1.00      1.00         6\n",
            "           1       1.00      1.00      1.00         6\n",
            "\n",
            "    accuracy                           1.00        12\n",
            "   macro avg       1.00      1.00      1.00        12\n",
            "weighted avg       1.00      1.00      1.00        12\n",
            "\n",
            "[[6 0]\n",
            " [0 6]]\n",
            "Accuratezza Test: 100.000\n",
            "Precisione  Test: 100.000\n",
            "Sensitività Test: 100.000\n",
            "Specificità Test: 100.000\n",
            "F1 score    Test: 100.000\n"
          ]
        },
        {
          "output_type": "stream",
          "name": "stderr",
          "text": [
            "[Parallel(n_jobs=-1)]: Done  80 out of  80 | elapsed:    0.2s finished\n",
            "/usr/local/lib/python3.7/dist-packages/sklearn/model_selection/_search.py:739: DataConversionWarning:\n",
            "\n",
            "A column-vector y was passed when a 1d array was expected. Please change the shape of y to (n_samples, ), for example using ravel().\n",
            "\n"
          ]
        }
      ]
    },
    {
      "cell_type": "markdown",
      "metadata": {
        "id": "uPu-7eU4U2As"
      },
      "source": [
        "#### Run Singolo"
      ]
    },
    {
      "cell_type": "code",
      "metadata": {
        "id": "gT2p--yxK7qk"
      },
      "source": [
        "\n",
        "df=MCIHC.loc[:,0]\n",
        "\n",
        "X = df.to_numpy()\n",
        "\n",
        "Y = MCIHC.loc[:,1]\n",
        "y = Y.to_numpy()\n",
        "y = np.where(y == 2, 1, 0)\n",
        "\n",
        "#from sklearn.model_selection import train_test_split\n",
        "\n",
        "\n",
        "X_train, X_test, y_train, y_test = train_test_split(X, y, test_size=0.3,stratify=y)\n",
        "\n",
        "#pca = PCA(n_components=2)\n",
        "\n",
        "#X_train_pca = pca.fit_transform(X_train)\n",
        "#X_test_pca = pca.transform(X_test)\n",
        "\n",
        "X_train_caso3=X_train\n",
        "X_test_caso3=X_test\n",
        "y_train_caso3=y_train\n",
        "y_test_caso3=y_test"
      ],
      "execution_count": null,
      "outputs": []
    },
    {
      "cell_type": "code",
      "metadata": {
        "id": "LUE8xnr5Nu2p"
      },
      "source": [
        "X_train_caso3=X_train_caso3.reshape(-1,1)\n",
        "X_test_caso3=X_test_caso3.reshape(-1,1)\n",
        "y_train_caso3=y_train_caso3.reshape(-1,1)\n",
        "y_test_caso3=y_test_caso3.reshape(-1,1)"
      ],
      "execution_count": null,
      "outputs": []
    },
    {
      "cell_type": "code",
      "metadata": {
        "colab": {
          "base_uri": "https://localhost:8080/"
        },
        "id": "yLe1VeMTiMIN",
        "outputId": "b7708d86-7b4c-4802-9b0a-63e3c2813fe7"
      },
      "source": [
        "tuning_albero_decisione(3,10)"
      ],
      "execution_count": null,
      "outputs": [
        {
          "output_type": "stream",
          "name": "stdout",
          "text": [
            "Fitting 10 folds for each of 216 candidates, totalling 2160 fits\n"
          ]
        },
        {
          "output_type": "stream",
          "name": "stderr",
          "text": [
            "[Parallel(n_jobs=-1)]: Using backend LokyBackend with 2 concurrent workers.\n"
          ]
        },
        {
          "output_type": "stream",
          "name": "stdout",
          "text": [
            "Accuratezza fase di Cross Validation con dati di Addestramento/Validazione: 1.000\n",
            "{'criterion': 'gini', 'max_depth': 3, 'min_samples_leaf': 1, 'min_samples_split': 2, 'min_weight_fraction_leaf': 0}\n",
            "Accuratezza con dati di Test: 0.917\n",
            "Risultato sui dati di test:\n",
            "              precision    recall  f1-score   support\n",
            "\n",
            "           0       0.86      1.00      0.92         6\n",
            "           1       1.00      0.83      0.91         6\n",
            "\n",
            "    accuracy                           0.92        12\n",
            "   macro avg       0.93      0.92      0.92        12\n",
            "weighted avg       0.93      0.92      0.92        12\n",
            "\n",
            "[[6 0]\n",
            " [1 5]]\n",
            "Accuratezza Test: 91.000\n",
            "Precisione  Test: 85.000\n",
            "Sensitività Test: 100.000\n",
            "Specificità Test: 83.000\n",
            "F1 score    Test: 91.000\n"
          ]
        },
        {
          "output_type": "stream",
          "name": "stderr",
          "text": [
            "[Parallel(n_jobs=-1)]: Done 2094 tasks      | elapsed:    2.0s\n",
            "[Parallel(n_jobs=-1)]: Done 2160 out of 2160 | elapsed:    2.1s finished\n"
          ]
        }
      ]
    },
    {
      "cell_type": "code",
      "metadata": {
        "id": "wI0oLtBuiMIO",
        "colab": {
          "base_uri": "https://localhost:8080/"
        },
        "outputId": "310f6e82-3d1f-4af7-e92b-460f7eeb91ac"
      },
      "source": [
        "tuning_SVM(3,5)"
      ],
      "execution_count": null,
      "outputs": [
        {
          "output_type": "stream",
          "name": "stdout",
          "text": [
            "Fitting 5 folds for each of 2 candidates, totalling 10 fits\n",
            "Accuratezza fase di Cross Validation con dati di Addestramento/Validazione: 1.000\n",
            "{'kernel': 'linear'}\n",
            "Accuratezza con dati di Test: 0.917\n",
            "Risultato sui dati di test:\n",
            "              precision    recall  f1-score   support\n",
            "\n",
            "           0       0.86      1.00      0.92         6\n",
            "           1       1.00      0.83      0.91         6\n",
            "\n",
            "    accuracy                           0.92        12\n",
            "   macro avg       0.93      0.92      0.92        12\n",
            "weighted avg       0.93      0.92      0.92        12\n",
            "\n",
            "[[6 0]\n",
            " [1 5]]\n",
            "Accuratezza Test: 91.000\n",
            "Precisione  Test: 85.000\n",
            "Sensitività Test: 100.000\n",
            "Specificità Test: 83.000\n",
            "F1 score    Test: 91.000\n"
          ]
        },
        {
          "output_type": "stream",
          "name": "stderr",
          "text": [
            "/usr/local/lib/python3.7/dist-packages/sklearn/model_selection/_search.py:281: UserWarning:\n",
            "\n",
            "The total space of parameters 2 is smaller than n_iter=20. Running 2 iterations. For exhaustive searches, use GridSearchCV.\n",
            "\n",
            "[Parallel(n_jobs=-1)]: Using backend LokyBackend with 2 concurrent workers.\n",
            "[Parallel(n_jobs=-1)]: Done   7 out of  10 | elapsed:    0.0s remaining:    0.0s\n",
            "[Parallel(n_jobs=-1)]: Done  10 out of  10 | elapsed:    0.0s finished\n",
            "/usr/local/lib/python3.7/dist-packages/sklearn/utils/validation.py:760: DataConversionWarning:\n",
            "\n",
            "A column-vector y was passed when a 1d array was expected. Please change the shape of y to (n_samples, ), for example using ravel().\n",
            "\n"
          ]
        }
      ]
    },
    {
      "cell_type": "code",
      "metadata": {
        "id": "kwH4VXMoiMIP"
      },
      "source": [
        "#tuning_albero_decisione_CV(3,10)"
      ],
      "execution_count": null,
      "outputs": []
    },
    {
      "cell_type": "code",
      "metadata": {
        "id": "czBUhiLAiMIQ"
      },
      "source": [
        "#tuning_SVM_CV(3,10)"
      ],
      "execution_count": null,
      "outputs": []
    },
    {
      "cell_type": "code",
      "metadata": {
        "id": "glM4t-oXiMIR"
      },
      "source": [
        "#validazione_incrociata_kfold(3,10,1)"
      ],
      "execution_count": null,
      "outputs": []
    },
    {
      "cell_type": "code",
      "metadata": {
        "id": "iyMJ5m4JiMIS"
      },
      "source": [
        "#validazione_incrociata_kfold(3,10,2)"
      ],
      "execution_count": null,
      "outputs": []
    },
    {
      "cell_type": "code",
      "metadata": {
        "id": "eH3J9XmwiMIT"
      },
      "source": [
        "#validazione_incrociata_score(3,10,1)"
      ],
      "execution_count": null,
      "outputs": []
    },
    {
      "cell_type": "code",
      "metadata": {
        "id": "FHx-NAlriMIU"
      },
      "source": [
        "#validazione_incrociata_score(3,10,2)"
      ],
      "execution_count": null,
      "outputs": []
    },
    {
      "cell_type": "code",
      "metadata": {
        "id": "SUXUIDjmiMIV"
      },
      "source": [
        "#prova_pipeline(3,2)"
      ],
      "execution_count": null,
      "outputs": []
    },
    {
      "cell_type": "code",
      "metadata": {
        "id": "wnRXTARmiMIW"
      },
      "source": [
        "#exec_trad(3,1)"
      ],
      "execution_count": null,
      "outputs": []
    },
    {
      "cell_type": "code",
      "metadata": {
        "id": "PJqtaHb6iMIZ"
      },
      "source": [
        "#exec_trad(3,2)"
      ],
      "execution_count": null,
      "outputs": []
    },
    {
      "cell_type": "code",
      "metadata": {
        "colab": {
          "base_uri": "https://localhost:8080/"
        },
        "id": "wxKwOTMdmytB",
        "outputId": "c44e2e4b-fe0b-40b5-bd34-efda71fa6e26"
      },
      "source": [
        "tuning_KNN(3,5)"
      ],
      "execution_count": null,
      "outputs": [
        {
          "output_type": "stream",
          "name": "stdout",
          "text": [
            "Fitting 5 folds for each of 16 candidates, totalling 80 fits\n"
          ]
        },
        {
          "output_type": "stream",
          "name": "stderr",
          "text": [
            "[Parallel(n_jobs=-1)]: Using backend LokyBackend with 2 concurrent workers.\n"
          ]
        },
        {
          "output_type": "stream",
          "name": "stdout",
          "text": [
            "Accuratezza fase di Cross Validation con dati di Addestramento/Validazione: 1.000\n",
            "{'algorithm': 'auto', 'n_neighbors': 5, 'weights': 'uniform'}\n",
            "Accuratezza con dati di Test: 0.833\n",
            "Risultato sui dati di test:\n",
            "              precision    recall  f1-score   support\n",
            "\n",
            "           0       0.75      1.00      0.86         6\n",
            "           1       1.00      0.67      0.80         6\n",
            "\n",
            "    accuracy                           0.83        12\n",
            "   macro avg       0.88      0.83      0.83        12\n",
            "weighted avg       0.88      0.83      0.83        12\n",
            "\n",
            "[[6 0]\n",
            " [2 4]]\n",
            "Accuratezza Test: 83.000\n",
            "Precisione  Test: 75.000\n",
            "Sensitività Test: 100.000\n",
            "Specificità Test: 66.000\n",
            "F1 score    Test: 85.000\n"
          ]
        },
        {
          "output_type": "stream",
          "name": "stderr",
          "text": [
            "[Parallel(n_jobs=-1)]: Done  77 out of  80 | elapsed:    0.2s remaining:    0.0s\n",
            "[Parallel(n_jobs=-1)]: Done  80 out of  80 | elapsed:    0.2s finished\n",
            "/usr/local/lib/python3.7/dist-packages/sklearn/model_selection/_search.py:739: DataConversionWarning:\n",
            "\n",
            "A column-vector y was passed when a 1d array was expected. Please change the shape of y to (n_samples, ), for example using ravel().\n",
            "\n"
          ]
        }
      ]
    },
    {
      "cell_type": "code",
      "metadata": {
        "id": "WDlhWC3pmytC"
      },
      "source": [
        "#tuning_MP(3,10)"
      ],
      "execution_count": null,
      "outputs": []
    },
    {
      "cell_type": "code",
      "metadata": {
        "id": "y_RVi2_5mytD"
      },
      "source": [
        "#tuning_LR(3,10)"
      ],
      "execution_count": null,
      "outputs": []
    },
    {
      "cell_type": "code",
      "metadata": {
        "id": "9ySwvY8yi2-r"
      },
      "source": [
        "#tuning_foresta(3,10)"
      ],
      "execution_count": null,
      "outputs": []
    },
    {
      "cell_type": "code",
      "metadata": {
        "id": "CdJOjkYOi3eD"
      },
      "source": [
        ""
      ],
      "execution_count": null,
      "outputs": []
    },
    {
      "cell_type": "markdown",
      "metadata": {
        "id": "rTbZscg9i6gj"
      },
      "source": [
        "### Caso4 CASE vs HCF"
      ]
    },
    {
      "cell_type": "code",
      "metadata": {
        "id": "25XFuM53LU45"
      },
      "source": [
        ""
      ],
      "execution_count": null,
      "outputs": []
    },
    {
      "cell_type": "markdown",
      "metadata": {
        "id": "5DXJhR3ZWhRn"
      },
      "source": [
        "#### 10 Run"
      ]
    },
    {
      "cell_type": "code",
      "metadata": {
        "colab": {
          "base_uri": "https://localhost:8080/"
        },
        "id": "_9xk4nkhWl3O",
        "outputId": "c5483009-225b-4e50-94fa-4164bab7aa07"
      },
      "source": [
        "for i in range(10):\n",
        "    df=CASEHC.loc[:,0]\n",
        "\n",
        "    X = df.to_numpy()\n",
        "\n",
        "    Y = CASEHC.loc[:,1]\n",
        "    y = Y.to_numpy()\n",
        "    y = np.where(y == 3, 1, 0)\n",
        "    #from sklearn.model_selection import train_test_split\n",
        "\n",
        "\n",
        "    X_train, X_test, y_train, y_test = train_test_split(X, y, test_size=0.3,stratify=y)\n",
        "\n",
        "    #pca = PCA(n_components=2)\n",
        "\n",
        "    #X_train_pca = pca.fit_transform(X_train)\n",
        "    #X_test_pca = pca.transform(X_test)\n",
        "\n",
        "    X_train_caso4=X_train\n",
        "    X_test_caso4=X_test\n",
        "    y_train_caso4=y_train\n",
        "    y_test_caso4=y_test\n",
        "    X_train_caso4=X_train_caso4.reshape(-1,1)\n",
        "    X_test_caso4=X_test_caso4.reshape(-1,1)\n",
        "    y_train_caso4=y_train_caso4.reshape(-1,1)\n",
        "    y_test_caso4=y_test_caso4.reshape(-1,1)\n",
        "\n",
        "    tuning_albero_decisione(4,5)\n",
        "    tuning_SVM(4,5)\n",
        "    tuning_KNN(4,5)"
      ],
      "execution_count": null,
      "outputs": [
        {
          "output_type": "stream",
          "name": "stdout",
          "text": [
            "stimatore utilizzato - DecisionTreeClassifier\n",
            "Fitting 5 folds for each of 216 candidates, totalling 1080 fits\n"
          ]
        },
        {
          "output_type": "stream",
          "name": "stderr",
          "text": [
            "[Parallel(n_jobs=-1)]: Using backend LokyBackend with 2 concurrent workers.\n",
            "[Parallel(n_jobs=-1)]: Done 1065 tasks      | elapsed:    1.1s\n",
            "[Parallel(n_jobs=-1)]: Done 1077 out of 1080 | elapsed:    1.2s remaining:    0.0s\n",
            "[Parallel(n_jobs=-1)]: Done 1080 out of 1080 | elapsed:    1.2s finished\n",
            "/usr/local/lib/python3.7/dist-packages/sklearn/model_selection/_search.py:281: UserWarning:\n",
            "\n",
            "The total space of parameters 2 is smaller than n_iter=20. Running 2 iterations. For exhaustive searches, use GridSearchCV.\n",
            "\n",
            "[Parallel(n_jobs=-1)]: Using backend LokyBackend with 2 concurrent workers.\n",
            "[Parallel(n_jobs=-1)]: Done  10 out of  10 | elapsed:    0.0s finished\n",
            "/usr/local/lib/python3.7/dist-packages/sklearn/utils/validation.py:760: DataConversionWarning:\n",
            "\n",
            "A column-vector y was passed when a 1d array was expected. Please change the shape of y to (n_samples, ), for example using ravel().\n",
            "\n",
            "[Parallel(n_jobs=-1)]: Using backend LokyBackend with 2 concurrent workers.\n"
          ]
        },
        {
          "output_type": "stream",
          "name": "stdout",
          "text": [
            "Accuratezza fase di Cross Validation con dati di Addestramento/Validazione: 1.000\n",
            "{'criterion': 'gini', 'max_depth': 3, 'min_samples_leaf': 1, 'min_samples_split': 2, 'min_weight_fraction_leaf': 0}\n",
            "Accuratezza con dati di Test: 1.000\n",
            "Risultato sui dati di test:\n",
            "              precision    recall  f1-score   support\n",
            "\n",
            "           0       1.00      1.00      1.00        12\n",
            "           1       1.00      1.00      1.00         6\n",
            "\n",
            "    accuracy                           1.00        18\n",
            "   macro avg       1.00      1.00      1.00        18\n",
            "weighted avg       1.00      1.00      1.00        18\n",
            "\n",
            "[[12  0]\n",
            " [ 0  6]]\n",
            "Accuratezza Test: 100.000\n",
            "Precisione  Test: 100.000\n",
            "Sensitività Test: 100.000\n",
            "Specificità Test: 100.000\n",
            "F1 score    Test: 100.000\n",
            "stimatore utilizzato - Support vector machine (SVC)\n",
            "Fitting 5 folds for each of 2 candidates, totalling 10 fits\n",
            "Accuratezza fase di Cross Validation con dati di Addestramento/Validazione: 1.000\n",
            "{'kernel': 'linear'}\n",
            "Accuratezza con dati di Test: 1.000\n",
            "Risultato sui dati di test:\n",
            "              precision    recall  f1-score   support\n",
            "\n",
            "           0       1.00      1.00      1.00        12\n",
            "           1       1.00      1.00      1.00         6\n",
            "\n",
            "    accuracy                           1.00        18\n",
            "   macro avg       1.00      1.00      1.00        18\n",
            "weighted avg       1.00      1.00      1.00        18\n",
            "\n",
            "[[12  0]\n",
            " [ 0  6]]\n",
            "Accuratezza Test: 100.000\n",
            "Precisione  Test: 100.000\n",
            "Sensitività Test: 100.000\n",
            "Specificità Test: 100.000\n",
            "F1 score    Test: 100.000\n",
            "stimatore utilizzato - KNeighborsClassifier\n",
            "Fitting 5 folds for each of 16 candidates, totalling 80 fits\n"
          ]
        },
        {
          "output_type": "stream",
          "name": "stderr",
          "text": [
            "[Parallel(n_jobs=-1)]: Done  80 out of  80 | elapsed:    0.2s finished\n",
            "/usr/local/lib/python3.7/dist-packages/sklearn/model_selection/_search.py:739: DataConversionWarning:\n",
            "\n",
            "A column-vector y was passed when a 1d array was expected. Please change the shape of y to (n_samples, ), for example using ravel().\n",
            "\n",
            "[Parallel(n_jobs=-1)]: Using backend LokyBackend with 2 concurrent workers.\n"
          ]
        },
        {
          "output_type": "stream",
          "name": "stdout",
          "text": [
            "Accuratezza fase di Cross Validation con dati di Addestramento/Validazione: 1.000\n",
            "{'algorithm': 'auto', 'n_neighbors': 5, 'weights': 'uniform'}\n",
            "Accuratezza con dati di Test: 0.889\n",
            "Risultato sui dati di test:\n",
            "              precision    recall  f1-score   support\n",
            "\n",
            "           0       1.00      0.83      0.91        12\n",
            "           1       0.75      1.00      0.86         6\n",
            "\n",
            "    accuracy                           0.89        18\n",
            "   macro avg       0.88      0.92      0.88        18\n",
            "weighted avg       0.92      0.89      0.89        18\n",
            "\n",
            "[[10  2]\n",
            " [ 0  6]]\n",
            "Accuratezza Test: 88.000\n",
            "Precisione  Test: 100.000\n",
            "Sensitività Test: 83.000\n",
            "Specificità Test: 100.000\n",
            "F1 score    Test: 90.000\n",
            "stimatore utilizzato - DecisionTreeClassifier\n",
            "Fitting 5 folds for each of 216 candidates, totalling 1080 fits\n"
          ]
        },
        {
          "output_type": "stream",
          "name": "stderr",
          "text": [
            "[Parallel(n_jobs=-1)]: Done 1062 tasks      | elapsed:    1.2s\n",
            "[Parallel(n_jobs=-1)]: Done 1077 out of 1080 | elapsed:    1.2s remaining:    0.0s\n",
            "[Parallel(n_jobs=-1)]: Done 1080 out of 1080 | elapsed:    1.2s finished\n",
            "/usr/local/lib/python3.7/dist-packages/sklearn/model_selection/_search.py:281: UserWarning:\n",
            "\n",
            "The total space of parameters 2 is smaller than n_iter=20. Running 2 iterations. For exhaustive searches, use GridSearchCV.\n",
            "\n",
            "[Parallel(n_jobs=-1)]: Using backend LokyBackend with 2 concurrent workers.\n",
            "[Parallel(n_jobs=-1)]: Done  10 out of  10 | elapsed:    0.0s finished\n",
            "/usr/local/lib/python3.7/dist-packages/sklearn/utils/validation.py:760: DataConversionWarning:\n",
            "\n",
            "A column-vector y was passed when a 1d array was expected. Please change the shape of y to (n_samples, ), for example using ravel().\n",
            "\n",
            "[Parallel(n_jobs=-1)]: Using backend LokyBackend with 2 concurrent workers.\n"
          ]
        },
        {
          "output_type": "stream",
          "name": "stdout",
          "text": [
            "Accuratezza fase di Cross Validation con dati di Addestramento/Validazione: 0.975\n",
            "{'criterion': 'gini', 'max_depth': 3, 'min_samples_leaf': 1, 'min_samples_split': 2, 'min_weight_fraction_leaf': 0}\n",
            "Accuratezza con dati di Test: 1.000\n",
            "Risultato sui dati di test:\n",
            "              precision    recall  f1-score   support\n",
            "\n",
            "           0       1.00      1.00      1.00        12\n",
            "           1       1.00      1.00      1.00         6\n",
            "\n",
            "    accuracy                           1.00        18\n",
            "   macro avg       1.00      1.00      1.00        18\n",
            "weighted avg       1.00      1.00      1.00        18\n",
            "\n",
            "[[12  0]\n",
            " [ 0  6]]\n",
            "Accuratezza Test: 100.000\n",
            "Precisione  Test: 100.000\n",
            "Sensitività Test: 100.000\n",
            "Specificità Test: 100.000\n",
            "F1 score    Test: 100.000\n",
            "stimatore utilizzato - Support vector machine (SVC)\n",
            "Fitting 5 folds for each of 2 candidates, totalling 10 fits\n",
            "Accuratezza fase di Cross Validation con dati di Addestramento/Validazione: 0.975\n",
            "{'kernel': 'linear'}\n",
            "Accuratezza con dati di Test: 1.000\n",
            "Risultato sui dati di test:\n",
            "              precision    recall  f1-score   support\n",
            "\n",
            "           0       1.00      1.00      1.00        12\n",
            "           1       1.00      1.00      1.00         6\n",
            "\n",
            "    accuracy                           1.00        18\n",
            "   macro avg       1.00      1.00      1.00        18\n",
            "weighted avg       1.00      1.00      1.00        18\n",
            "\n",
            "[[12  0]\n",
            " [ 0  6]]\n",
            "Accuratezza Test: 100.000\n",
            "Precisione  Test: 100.000\n",
            "Sensitività Test: 100.000\n",
            "Specificità Test: 100.000\n",
            "F1 score    Test: 100.000\n",
            "stimatore utilizzato - KNeighborsClassifier\n",
            "Fitting 5 folds for each of 16 candidates, totalling 80 fits\n"
          ]
        },
        {
          "output_type": "stream",
          "name": "stderr",
          "text": [
            "[Parallel(n_jobs=-1)]: Done  80 out of  80 | elapsed:    0.2s finished\n",
            "/usr/local/lib/python3.7/dist-packages/sklearn/model_selection/_search.py:739: DataConversionWarning:\n",
            "\n",
            "A column-vector y was passed when a 1d array was expected. Please change the shape of y to (n_samples, ), for example using ravel().\n",
            "\n",
            "[Parallel(n_jobs=-1)]: Using backend LokyBackend with 2 concurrent workers.\n"
          ]
        },
        {
          "output_type": "stream",
          "name": "stdout",
          "text": [
            "Accuratezza fase di Cross Validation con dati di Addestramento/Validazione: 0.975\n",
            "{'algorithm': 'auto', 'n_neighbors': 5, 'weights': 'uniform'}\n",
            "Accuratezza con dati di Test: 1.000\n",
            "Risultato sui dati di test:\n",
            "              precision    recall  f1-score   support\n",
            "\n",
            "           0       1.00      1.00      1.00        12\n",
            "           1       1.00      1.00      1.00         6\n",
            "\n",
            "    accuracy                           1.00        18\n",
            "   macro avg       1.00      1.00      1.00        18\n",
            "weighted avg       1.00      1.00      1.00        18\n",
            "\n",
            "[[12  0]\n",
            " [ 0  6]]\n",
            "Accuratezza Test: 100.000\n",
            "Precisione  Test: 100.000\n",
            "Sensitività Test: 100.000\n",
            "Specificità Test: 100.000\n",
            "F1 score    Test: 100.000\n",
            "stimatore utilizzato - DecisionTreeClassifier\n",
            "Fitting 5 folds for each of 216 candidates, totalling 1080 fits\n"
          ]
        },
        {
          "output_type": "stream",
          "name": "stderr",
          "text": [
            "[Parallel(n_jobs=-1)]: Done 1062 tasks      | elapsed:    1.1s\n",
            "[Parallel(n_jobs=-1)]: Done 1077 out of 1080 | elapsed:    1.1s remaining:    0.0s\n",
            "[Parallel(n_jobs=-1)]: Done 1080 out of 1080 | elapsed:    1.1s finished\n",
            "/usr/local/lib/python3.7/dist-packages/sklearn/model_selection/_search.py:281: UserWarning:\n",
            "\n",
            "The total space of parameters 2 is smaller than n_iter=20. Running 2 iterations. For exhaustive searches, use GridSearchCV.\n",
            "\n",
            "[Parallel(n_jobs=-1)]: Using backend LokyBackend with 2 concurrent workers.\n",
            "[Parallel(n_jobs=-1)]: Done  10 out of  10 | elapsed:    0.0s finished\n",
            "/usr/local/lib/python3.7/dist-packages/sklearn/utils/validation.py:760: DataConversionWarning:\n",
            "\n",
            "A column-vector y was passed when a 1d array was expected. Please change the shape of y to (n_samples, ), for example using ravel().\n",
            "\n",
            "[Parallel(n_jobs=-1)]: Using backend LokyBackend with 2 concurrent workers.\n"
          ]
        },
        {
          "output_type": "stream",
          "name": "stdout",
          "text": [
            "Accuratezza fase di Cross Validation con dati di Addestramento/Validazione: 1.000\n",
            "{'criterion': 'gini', 'max_depth': 3, 'min_samples_leaf': 1, 'min_samples_split': 2, 'min_weight_fraction_leaf': 0}\n",
            "Accuratezza con dati di Test: 1.000\n",
            "Risultato sui dati di test:\n",
            "              precision    recall  f1-score   support\n",
            "\n",
            "           0       1.00      1.00      1.00        12\n",
            "           1       1.00      1.00      1.00         6\n",
            "\n",
            "    accuracy                           1.00        18\n",
            "   macro avg       1.00      1.00      1.00        18\n",
            "weighted avg       1.00      1.00      1.00        18\n",
            "\n",
            "[[12  0]\n",
            " [ 0  6]]\n",
            "Accuratezza Test: 100.000\n",
            "Precisione  Test: 100.000\n",
            "Sensitività Test: 100.000\n",
            "Specificità Test: 100.000\n",
            "F1 score    Test: 100.000\n",
            "stimatore utilizzato - Support vector machine (SVC)\n",
            "Fitting 5 folds for each of 2 candidates, totalling 10 fits\n",
            "Accuratezza fase di Cross Validation con dati di Addestramento/Validazione: 1.000\n",
            "{'kernel': 'linear'}\n",
            "Accuratezza con dati di Test: 1.000\n",
            "Risultato sui dati di test:\n",
            "              precision    recall  f1-score   support\n",
            "\n",
            "           0       1.00      1.00      1.00        12\n",
            "           1       1.00      1.00      1.00         6\n",
            "\n",
            "    accuracy                           1.00        18\n",
            "   macro avg       1.00      1.00      1.00        18\n",
            "weighted avg       1.00      1.00      1.00        18\n",
            "\n",
            "[[12  0]\n",
            " [ 0  6]]\n",
            "Accuratezza Test: 100.000\n",
            "Precisione  Test: 100.000\n",
            "Sensitività Test: 100.000\n",
            "Specificità Test: 100.000\n",
            "F1 score    Test: 100.000\n",
            "stimatore utilizzato - KNeighborsClassifier\n",
            "Fitting 5 folds for each of 16 candidates, totalling 80 fits\n"
          ]
        },
        {
          "output_type": "stream",
          "name": "stderr",
          "text": [
            "[Parallel(n_jobs=-1)]: Done  80 out of  80 | elapsed:    0.2s finished\n",
            "/usr/local/lib/python3.7/dist-packages/sklearn/model_selection/_search.py:739: DataConversionWarning:\n",
            "\n",
            "A column-vector y was passed when a 1d array was expected. Please change the shape of y to (n_samples, ), for example using ravel().\n",
            "\n",
            "[Parallel(n_jobs=-1)]: Using backend LokyBackend with 2 concurrent workers.\n"
          ]
        },
        {
          "output_type": "stream",
          "name": "stdout",
          "text": [
            "Accuratezza fase di Cross Validation con dati di Addestramento/Validazione: 0.975\n",
            "{'algorithm': 'auto', 'n_neighbors': 5, 'weights': 'uniform'}\n",
            "Accuratezza con dati di Test: 1.000\n",
            "Risultato sui dati di test:\n",
            "              precision    recall  f1-score   support\n",
            "\n",
            "           0       1.00      1.00      1.00        12\n",
            "           1       1.00      1.00      1.00         6\n",
            "\n",
            "    accuracy                           1.00        18\n",
            "   macro avg       1.00      1.00      1.00        18\n",
            "weighted avg       1.00      1.00      1.00        18\n",
            "\n",
            "[[12  0]\n",
            " [ 0  6]]\n",
            "Accuratezza Test: 100.000\n",
            "Precisione  Test: 100.000\n",
            "Sensitività Test: 100.000\n",
            "Specificità Test: 100.000\n",
            "F1 score    Test: 100.000\n",
            "stimatore utilizzato - DecisionTreeClassifier\n",
            "Fitting 5 folds for each of 216 candidates, totalling 1080 fits\n"
          ]
        },
        {
          "output_type": "stream",
          "name": "stderr",
          "text": [
            "[Parallel(n_jobs=-1)]: Done 1065 tasks      | elapsed:    1.1s\n",
            "[Parallel(n_jobs=-1)]: Done 1077 out of 1080 | elapsed:    1.1s remaining:    0.0s\n",
            "[Parallel(n_jobs=-1)]: Done 1080 out of 1080 | elapsed:    1.1s finished\n",
            "/usr/local/lib/python3.7/dist-packages/sklearn/model_selection/_search.py:281: UserWarning:\n",
            "\n",
            "The total space of parameters 2 is smaller than n_iter=20. Running 2 iterations. For exhaustive searches, use GridSearchCV.\n",
            "\n",
            "[Parallel(n_jobs=-1)]: Using backend LokyBackend with 2 concurrent workers.\n",
            "[Parallel(n_jobs=-1)]: Done  10 out of  10 | elapsed:    0.0s finished\n",
            "/usr/local/lib/python3.7/dist-packages/sklearn/utils/validation.py:760: DataConversionWarning:\n",
            "\n",
            "A column-vector y was passed when a 1d array was expected. Please change the shape of y to (n_samples, ), for example using ravel().\n",
            "\n",
            "[Parallel(n_jobs=-1)]: Using backend LokyBackend with 2 concurrent workers.\n"
          ]
        },
        {
          "output_type": "stream",
          "name": "stdout",
          "text": [
            "Accuratezza fase di Cross Validation con dati di Addestramento/Validazione: 1.000\n",
            "{'criterion': 'gini', 'max_depth': 3, 'min_samples_leaf': 1, 'min_samples_split': 2, 'min_weight_fraction_leaf': 0}\n",
            "Accuratezza con dati di Test: 1.000\n",
            "Risultato sui dati di test:\n",
            "              precision    recall  f1-score   support\n",
            "\n",
            "           0       1.00      1.00      1.00        12\n",
            "           1       1.00      1.00      1.00         6\n",
            "\n",
            "    accuracy                           1.00        18\n",
            "   macro avg       1.00      1.00      1.00        18\n",
            "weighted avg       1.00      1.00      1.00        18\n",
            "\n",
            "[[12  0]\n",
            " [ 0  6]]\n",
            "Accuratezza Test: 100.000\n",
            "Precisione  Test: 100.000\n",
            "Sensitività Test: 100.000\n",
            "Specificità Test: 100.000\n",
            "F1 score    Test: 100.000\n",
            "stimatore utilizzato - Support vector machine (SVC)\n",
            "Fitting 5 folds for each of 2 candidates, totalling 10 fits\n",
            "Accuratezza fase di Cross Validation con dati di Addestramento/Validazione: 1.000\n",
            "{'kernel': 'linear'}\n",
            "Accuratezza con dati di Test: 1.000\n",
            "Risultato sui dati di test:\n",
            "              precision    recall  f1-score   support\n",
            "\n",
            "           0       1.00      1.00      1.00        12\n",
            "           1       1.00      1.00      1.00         6\n",
            "\n",
            "    accuracy                           1.00        18\n",
            "   macro avg       1.00      1.00      1.00        18\n",
            "weighted avg       1.00      1.00      1.00        18\n",
            "\n",
            "[[12  0]\n",
            " [ 0  6]]\n",
            "Accuratezza Test: 100.000\n",
            "Precisione  Test: 100.000\n",
            "Sensitività Test: 100.000\n",
            "Specificità Test: 100.000\n",
            "F1 score    Test: 100.000\n",
            "stimatore utilizzato - KNeighborsClassifier\n",
            "Fitting 5 folds for each of 16 candidates, totalling 80 fits\n"
          ]
        },
        {
          "output_type": "stream",
          "name": "stderr",
          "text": [
            "[Parallel(n_jobs=-1)]: Done  77 out of  80 | elapsed:    0.2s remaining:    0.0s\n",
            "[Parallel(n_jobs=-1)]: Done  80 out of  80 | elapsed:    0.2s finished\n",
            "/usr/local/lib/python3.7/dist-packages/sklearn/model_selection/_search.py:739: DataConversionWarning:\n",
            "\n",
            "A column-vector y was passed when a 1d array was expected. Please change the shape of y to (n_samples, ), for example using ravel().\n",
            "\n",
            "[Parallel(n_jobs=-1)]: Using backend LokyBackend with 2 concurrent workers.\n"
          ]
        },
        {
          "output_type": "stream",
          "name": "stdout",
          "text": [
            "Accuratezza fase di Cross Validation con dati di Addestramento/Validazione: 0.975\n",
            "{'algorithm': 'auto', 'n_neighbors': 5, 'weights': 'distance'}\n",
            "Accuratezza con dati di Test: 1.000\n",
            "Risultato sui dati di test:\n",
            "              precision    recall  f1-score   support\n",
            "\n",
            "           0       1.00      1.00      1.00        12\n",
            "           1       1.00      1.00      1.00         6\n",
            "\n",
            "    accuracy                           1.00        18\n",
            "   macro avg       1.00      1.00      1.00        18\n",
            "weighted avg       1.00      1.00      1.00        18\n",
            "\n",
            "[[12  0]\n",
            " [ 0  6]]\n",
            "Accuratezza Test: 100.000\n",
            "Precisione  Test: 100.000\n",
            "Sensitività Test: 100.000\n",
            "Specificità Test: 100.000\n",
            "F1 score    Test: 100.000\n",
            "stimatore utilizzato - DecisionTreeClassifier\n",
            "Fitting 5 folds for each of 216 candidates, totalling 1080 fits\n"
          ]
        },
        {
          "output_type": "stream",
          "name": "stderr",
          "text": [
            "[Parallel(n_jobs=-1)]: Done 937 tasks      | elapsed:    1.1s\n",
            "[Parallel(n_jobs=-1)]: Done 1080 out of 1080 | elapsed:    1.2s finished\n",
            "/usr/local/lib/python3.7/dist-packages/sklearn/model_selection/_search.py:281: UserWarning:\n",
            "\n",
            "The total space of parameters 2 is smaller than n_iter=20. Running 2 iterations. For exhaustive searches, use GridSearchCV.\n",
            "\n",
            "[Parallel(n_jobs=-1)]: Using backend LokyBackend with 2 concurrent workers.\n",
            "[Parallel(n_jobs=-1)]: Done  10 out of  10 | elapsed:    0.0s finished\n",
            "/usr/local/lib/python3.7/dist-packages/sklearn/utils/validation.py:760: DataConversionWarning:\n",
            "\n",
            "A column-vector y was passed when a 1d array was expected. Please change the shape of y to (n_samples, ), for example using ravel().\n",
            "\n",
            "[Parallel(n_jobs=-1)]: Using backend LokyBackend with 2 concurrent workers.\n"
          ]
        },
        {
          "output_type": "stream",
          "name": "stdout",
          "text": [
            "Accuratezza fase di Cross Validation con dati di Addestramento/Validazione: 1.000\n",
            "{'criterion': 'gini', 'max_depth': 3, 'min_samples_leaf': 1, 'min_samples_split': 2, 'min_weight_fraction_leaf': 0}\n",
            "Accuratezza con dati di Test: 1.000\n",
            "Risultato sui dati di test:\n",
            "              precision    recall  f1-score   support\n",
            "\n",
            "           0       1.00      1.00      1.00        12\n",
            "           1       1.00      1.00      1.00         6\n",
            "\n",
            "    accuracy                           1.00        18\n",
            "   macro avg       1.00      1.00      1.00        18\n",
            "weighted avg       1.00      1.00      1.00        18\n",
            "\n",
            "[[12  0]\n",
            " [ 0  6]]\n",
            "Accuratezza Test: 100.000\n",
            "Precisione  Test: 100.000\n",
            "Sensitività Test: 100.000\n",
            "Specificità Test: 100.000\n",
            "F1 score    Test: 100.000\n",
            "stimatore utilizzato - Support vector machine (SVC)\n",
            "Fitting 5 folds for each of 2 candidates, totalling 10 fits\n",
            "Accuratezza fase di Cross Validation con dati di Addestramento/Validazione: 1.000\n",
            "{'kernel': 'linear'}\n",
            "Accuratezza con dati di Test: 1.000\n",
            "Risultato sui dati di test:\n",
            "              precision    recall  f1-score   support\n",
            "\n",
            "           0       1.00      1.00      1.00        12\n",
            "           1       1.00      1.00      1.00         6\n",
            "\n",
            "    accuracy                           1.00        18\n",
            "   macro avg       1.00      1.00      1.00        18\n",
            "weighted avg       1.00      1.00      1.00        18\n",
            "\n",
            "[[12  0]\n",
            " [ 0  6]]\n",
            "Accuratezza Test: 100.000\n",
            "Precisione  Test: 100.000\n",
            "Sensitività Test: 100.000\n",
            "Specificità Test: 100.000\n",
            "F1 score    Test: 100.000\n",
            "stimatore utilizzato - KNeighborsClassifier\n",
            "Fitting 5 folds for each of 16 candidates, totalling 80 fits\n"
          ]
        },
        {
          "output_type": "stream",
          "name": "stderr",
          "text": [
            "[Parallel(n_jobs=-1)]: Done  80 out of  80 | elapsed:    0.2s finished\n",
            "/usr/local/lib/python3.7/dist-packages/sklearn/model_selection/_search.py:739: DataConversionWarning:\n",
            "\n",
            "A column-vector y was passed when a 1d array was expected. Please change the shape of y to (n_samples, ), for example using ravel().\n",
            "\n",
            "[Parallel(n_jobs=-1)]: Using backend LokyBackend with 2 concurrent workers.\n"
          ]
        },
        {
          "output_type": "stream",
          "name": "stdout",
          "text": [
            "Accuratezza fase di Cross Validation con dati di Addestramento/Validazione: 1.000\n",
            "{'algorithm': 'auto', 'n_neighbors': 5, 'weights': 'distance'}\n",
            "Accuratezza con dati di Test: 1.000\n",
            "Risultato sui dati di test:\n",
            "              precision    recall  f1-score   support\n",
            "\n",
            "           0       1.00      1.00      1.00        12\n",
            "           1       1.00      1.00      1.00         6\n",
            "\n",
            "    accuracy                           1.00        18\n",
            "   macro avg       1.00      1.00      1.00        18\n",
            "weighted avg       1.00      1.00      1.00        18\n",
            "\n",
            "[[12  0]\n",
            " [ 0  6]]\n",
            "Accuratezza Test: 100.000\n",
            "Precisione  Test: 100.000\n",
            "Sensitività Test: 100.000\n",
            "Specificità Test: 100.000\n",
            "F1 score    Test: 100.000\n",
            "stimatore utilizzato - DecisionTreeClassifier\n",
            "Fitting 5 folds for each of 216 candidates, totalling 1080 fits\n"
          ]
        },
        {
          "output_type": "stream",
          "name": "stderr",
          "text": [
            "[Parallel(n_jobs=-1)]: Done 1064 tasks      | elapsed:    1.0s\n",
            "[Parallel(n_jobs=-1)]: Done 1080 out of 1080 | elapsed:    1.0s finished\n",
            "/usr/local/lib/python3.7/dist-packages/sklearn/model_selection/_search.py:281: UserWarning:\n",
            "\n",
            "The total space of parameters 2 is smaller than n_iter=20. Running 2 iterations. For exhaustive searches, use GridSearchCV.\n",
            "\n",
            "[Parallel(n_jobs=-1)]: Using backend LokyBackend with 2 concurrent workers.\n",
            "[Parallel(n_jobs=-1)]: Done   7 out of  10 | elapsed:    0.0s remaining:    0.0s\n",
            "[Parallel(n_jobs=-1)]: Done  10 out of  10 | elapsed:    0.0s finished\n",
            "/usr/local/lib/python3.7/dist-packages/sklearn/utils/validation.py:760: DataConversionWarning:\n",
            "\n",
            "A column-vector y was passed when a 1d array was expected. Please change the shape of y to (n_samples, ), for example using ravel().\n",
            "\n",
            "[Parallel(n_jobs=-1)]: Using backend LokyBackend with 2 concurrent workers.\n"
          ]
        },
        {
          "output_type": "stream",
          "name": "stdout",
          "text": [
            "Accuratezza fase di Cross Validation con dati di Addestramento/Validazione: 1.000\n",
            "{'criterion': 'gini', 'max_depth': 3, 'min_samples_leaf': 1, 'min_samples_split': 2, 'min_weight_fraction_leaf': 0}\n",
            "Accuratezza con dati di Test: 1.000\n",
            "Risultato sui dati di test:\n",
            "              precision    recall  f1-score   support\n",
            "\n",
            "           0       1.00      1.00      1.00        12\n",
            "           1       1.00      1.00      1.00         6\n",
            "\n",
            "    accuracy                           1.00        18\n",
            "   macro avg       1.00      1.00      1.00        18\n",
            "weighted avg       1.00      1.00      1.00        18\n",
            "\n",
            "[[12  0]\n",
            " [ 0  6]]\n",
            "Accuratezza Test: 100.000\n",
            "Precisione  Test: 100.000\n",
            "Sensitività Test: 100.000\n",
            "Specificità Test: 100.000\n",
            "F1 score    Test: 100.000\n",
            "stimatore utilizzato - Support vector machine (SVC)\n",
            "Fitting 5 folds for each of 2 candidates, totalling 10 fits\n",
            "Accuratezza fase di Cross Validation con dati di Addestramento/Validazione: 1.000\n",
            "{'kernel': 'linear'}\n",
            "Accuratezza con dati di Test: 1.000\n",
            "Risultato sui dati di test:\n",
            "              precision    recall  f1-score   support\n",
            "\n",
            "           0       1.00      1.00      1.00        12\n",
            "           1       1.00      1.00      1.00         6\n",
            "\n",
            "    accuracy                           1.00        18\n",
            "   macro avg       1.00      1.00      1.00        18\n",
            "weighted avg       1.00      1.00      1.00        18\n",
            "\n",
            "[[12  0]\n",
            " [ 0  6]]\n",
            "Accuratezza Test: 100.000\n",
            "Precisione  Test: 100.000\n",
            "Sensitività Test: 100.000\n",
            "Specificità Test: 100.000\n",
            "F1 score    Test: 100.000\n",
            "stimatore utilizzato - KNeighborsClassifier\n",
            "Fitting 5 folds for each of 16 candidates, totalling 80 fits\n"
          ]
        },
        {
          "output_type": "stream",
          "name": "stderr",
          "text": [
            "[Parallel(n_jobs=-1)]: Done  80 out of  80 | elapsed:    0.2s finished\n",
            "/usr/local/lib/python3.7/dist-packages/sklearn/model_selection/_search.py:739: DataConversionWarning:\n",
            "\n",
            "A column-vector y was passed when a 1d array was expected. Please change the shape of y to (n_samples, ), for example using ravel().\n",
            "\n",
            "[Parallel(n_jobs=-1)]: Using backend LokyBackend with 2 concurrent workers.\n"
          ]
        },
        {
          "output_type": "stream",
          "name": "stdout",
          "text": [
            "Accuratezza fase di Cross Validation con dati di Addestramento/Validazione: 1.000\n",
            "{'algorithm': 'auto', 'n_neighbors': 5, 'weights': 'uniform'}\n",
            "Accuratezza con dati di Test: 0.944\n",
            "Risultato sui dati di test:\n",
            "              precision    recall  f1-score   support\n",
            "\n",
            "           0       1.00      0.92      0.96        12\n",
            "           1       0.86      1.00      0.92         6\n",
            "\n",
            "    accuracy                           0.94        18\n",
            "   macro avg       0.93      0.96      0.94        18\n",
            "weighted avg       0.95      0.94      0.95        18\n",
            "\n",
            "[[11  1]\n",
            " [ 0  6]]\n",
            "Accuratezza Test: 94.000\n",
            "Precisione  Test: 100.000\n",
            "Sensitività Test: 91.000\n",
            "Specificità Test: 100.000\n",
            "F1 score    Test: 95.000\n",
            "stimatore utilizzato - DecisionTreeClassifier\n",
            "Fitting 5 folds for each of 216 candidates, totalling 1080 fits\n"
          ]
        },
        {
          "output_type": "stream",
          "name": "stderr",
          "text": [
            "[Parallel(n_jobs=-1)]: Done 1062 tasks      | elapsed:    1.0s\n",
            "[Parallel(n_jobs=-1)]: Done 1077 out of 1080 | elapsed:    1.0s remaining:    0.0s\n",
            "[Parallel(n_jobs=-1)]: Done 1080 out of 1080 | elapsed:    1.0s finished\n",
            "/usr/local/lib/python3.7/dist-packages/sklearn/model_selection/_search.py:281: UserWarning:\n",
            "\n",
            "The total space of parameters 2 is smaller than n_iter=20. Running 2 iterations. For exhaustive searches, use GridSearchCV.\n",
            "\n",
            "[Parallel(n_jobs=-1)]: Using backend LokyBackend with 2 concurrent workers.\n",
            "[Parallel(n_jobs=-1)]: Done  10 out of  10 | elapsed:    0.0s finished\n",
            "/usr/local/lib/python3.7/dist-packages/sklearn/utils/validation.py:760: DataConversionWarning:\n",
            "\n",
            "A column-vector y was passed when a 1d array was expected. Please change the shape of y to (n_samples, ), for example using ravel().\n",
            "\n",
            "[Parallel(n_jobs=-1)]: Using backend LokyBackend with 2 concurrent workers.\n"
          ]
        },
        {
          "output_type": "stream",
          "name": "stdout",
          "text": [
            "Accuratezza fase di Cross Validation con dati di Addestramento/Validazione: 1.000\n",
            "{'criterion': 'gini', 'max_depth': 3, 'min_samples_leaf': 1, 'min_samples_split': 2, 'min_weight_fraction_leaf': 0}\n",
            "Accuratezza con dati di Test: 1.000\n",
            "Risultato sui dati di test:\n",
            "              precision    recall  f1-score   support\n",
            "\n",
            "           0       1.00      1.00      1.00        12\n",
            "           1       1.00      1.00      1.00         6\n",
            "\n",
            "    accuracy                           1.00        18\n",
            "   macro avg       1.00      1.00      1.00        18\n",
            "weighted avg       1.00      1.00      1.00        18\n",
            "\n",
            "[[12  0]\n",
            " [ 0  6]]\n",
            "Accuratezza Test: 100.000\n",
            "Precisione  Test: 100.000\n",
            "Sensitività Test: 100.000\n",
            "Specificità Test: 100.000\n",
            "F1 score    Test: 100.000\n",
            "stimatore utilizzato - Support vector machine (SVC)\n",
            "Fitting 5 folds for each of 2 candidates, totalling 10 fits\n",
            "Accuratezza fase di Cross Validation con dati di Addestramento/Validazione: 1.000\n",
            "{'kernel': 'linear'}\n",
            "Accuratezza con dati di Test: 1.000\n",
            "Risultato sui dati di test:\n",
            "              precision    recall  f1-score   support\n",
            "\n",
            "           0       1.00      1.00      1.00        12\n",
            "           1       1.00      1.00      1.00         6\n",
            "\n",
            "    accuracy                           1.00        18\n",
            "   macro avg       1.00      1.00      1.00        18\n",
            "weighted avg       1.00      1.00      1.00        18\n",
            "\n",
            "[[12  0]\n",
            " [ 0  6]]\n",
            "Accuratezza Test: 100.000\n",
            "Precisione  Test: 100.000\n",
            "Sensitività Test: 100.000\n",
            "Specificità Test: 100.000\n",
            "F1 score    Test: 100.000\n",
            "stimatore utilizzato - KNeighborsClassifier\n",
            "Fitting 5 folds for each of 16 candidates, totalling 80 fits\n"
          ]
        },
        {
          "output_type": "stream",
          "name": "stderr",
          "text": [
            "[Parallel(n_jobs=-1)]: Done  80 out of  80 | elapsed:    0.2s finished\n",
            "/usr/local/lib/python3.7/dist-packages/sklearn/model_selection/_search.py:739: DataConversionWarning:\n",
            "\n",
            "A column-vector y was passed when a 1d array was expected. Please change the shape of y to (n_samples, ), for example using ravel().\n",
            "\n",
            "[Parallel(n_jobs=-1)]: Using backend LokyBackend with 2 concurrent workers.\n"
          ]
        },
        {
          "output_type": "stream",
          "name": "stdout",
          "text": [
            "Accuratezza fase di Cross Validation con dati di Addestramento/Validazione: 1.000\n",
            "{'algorithm': 'auto', 'n_neighbors': 5, 'weights': 'distance'}\n",
            "Accuratezza con dati di Test: 1.000\n",
            "Risultato sui dati di test:\n",
            "              precision    recall  f1-score   support\n",
            "\n",
            "           0       1.00      1.00      1.00        12\n",
            "           1       1.00      1.00      1.00         6\n",
            "\n",
            "    accuracy                           1.00        18\n",
            "   macro avg       1.00      1.00      1.00        18\n",
            "weighted avg       1.00      1.00      1.00        18\n",
            "\n",
            "[[12  0]\n",
            " [ 0  6]]\n",
            "Accuratezza Test: 100.000\n",
            "Precisione  Test: 100.000\n",
            "Sensitività Test: 100.000\n",
            "Specificità Test: 100.000\n",
            "F1 score    Test: 100.000\n",
            "stimatore utilizzato - DecisionTreeClassifier\n",
            "Fitting 5 folds for each of 216 candidates, totalling 1080 fits\n"
          ]
        },
        {
          "output_type": "stream",
          "name": "stderr",
          "text": [
            "[Parallel(n_jobs=-1)]: Done 1062 tasks      | elapsed:    1.2s\n",
            "[Parallel(n_jobs=-1)]: Done 1077 out of 1080 | elapsed:    1.2s remaining:    0.0s\n",
            "[Parallel(n_jobs=-1)]: Done 1080 out of 1080 | elapsed:    1.2s finished\n",
            "/usr/local/lib/python3.7/dist-packages/sklearn/model_selection/_search.py:281: UserWarning:\n",
            "\n",
            "The total space of parameters 2 is smaller than n_iter=20. Running 2 iterations. For exhaustive searches, use GridSearchCV.\n",
            "\n",
            "[Parallel(n_jobs=-1)]: Using backend LokyBackend with 2 concurrent workers.\n",
            "[Parallel(n_jobs=-1)]: Done   7 out of  10 | elapsed:    0.0s remaining:    0.0s\n",
            "[Parallel(n_jobs=-1)]: Done  10 out of  10 | elapsed:    0.0s finished\n",
            "/usr/local/lib/python3.7/dist-packages/sklearn/utils/validation.py:760: DataConversionWarning:\n",
            "\n",
            "A column-vector y was passed when a 1d array was expected. Please change the shape of y to (n_samples, ), for example using ravel().\n",
            "\n",
            "[Parallel(n_jobs=-1)]: Using backend LokyBackend with 2 concurrent workers.\n"
          ]
        },
        {
          "output_type": "stream",
          "name": "stdout",
          "text": [
            "Accuratezza fase di Cross Validation con dati di Addestramento/Validazione: 1.000\n",
            "{'criterion': 'gini', 'max_depth': 3, 'min_samples_leaf': 1, 'min_samples_split': 2, 'min_weight_fraction_leaf': 0}\n",
            "Accuratezza con dati di Test: 1.000\n",
            "Risultato sui dati di test:\n",
            "              precision    recall  f1-score   support\n",
            "\n",
            "           0       1.00      1.00      1.00        12\n",
            "           1       1.00      1.00      1.00         6\n",
            "\n",
            "    accuracy                           1.00        18\n",
            "   macro avg       1.00      1.00      1.00        18\n",
            "weighted avg       1.00      1.00      1.00        18\n",
            "\n",
            "[[12  0]\n",
            " [ 0  6]]\n",
            "Accuratezza Test: 100.000\n",
            "Precisione  Test: 100.000\n",
            "Sensitività Test: 100.000\n",
            "Specificità Test: 100.000\n",
            "F1 score    Test: 100.000\n",
            "stimatore utilizzato - Support vector machine (SVC)\n",
            "Fitting 5 folds for each of 2 candidates, totalling 10 fits\n",
            "Accuratezza fase di Cross Validation con dati di Addestramento/Validazione: 1.000\n",
            "{'kernel': 'linear'}\n",
            "Accuratezza con dati di Test: 1.000\n",
            "Risultato sui dati di test:\n",
            "              precision    recall  f1-score   support\n",
            "\n",
            "           0       1.00      1.00      1.00        12\n",
            "           1       1.00      1.00      1.00         6\n",
            "\n",
            "    accuracy                           1.00        18\n",
            "   macro avg       1.00      1.00      1.00        18\n",
            "weighted avg       1.00      1.00      1.00        18\n",
            "\n",
            "[[12  0]\n",
            " [ 0  6]]\n",
            "Accuratezza Test: 100.000\n",
            "Precisione  Test: 100.000\n",
            "Sensitività Test: 100.000\n",
            "Specificità Test: 100.000\n",
            "F1 score    Test: 100.000\n",
            "stimatore utilizzato - KNeighborsClassifier\n",
            "Fitting 5 folds for each of 16 candidates, totalling 80 fits\n"
          ]
        },
        {
          "output_type": "stream",
          "name": "stderr",
          "text": [
            "[Parallel(n_jobs=-1)]: Done  80 out of  80 | elapsed:    0.2s finished\n",
            "/usr/local/lib/python3.7/dist-packages/sklearn/model_selection/_search.py:739: DataConversionWarning:\n",
            "\n",
            "A column-vector y was passed when a 1d array was expected. Please change the shape of y to (n_samples, ), for example using ravel().\n",
            "\n",
            "[Parallel(n_jobs=-1)]: Using backend LokyBackend with 2 concurrent workers.\n"
          ]
        },
        {
          "output_type": "stream",
          "name": "stdout",
          "text": [
            "Accuratezza fase di Cross Validation con dati di Addestramento/Validazione: 1.000\n",
            "{'algorithm': 'auto', 'n_neighbors': 5, 'weights': 'uniform'}\n",
            "Accuratezza con dati di Test: 1.000\n",
            "Risultato sui dati di test:\n",
            "              precision    recall  f1-score   support\n",
            "\n",
            "           0       1.00      1.00      1.00        12\n",
            "           1       1.00      1.00      1.00         6\n",
            "\n",
            "    accuracy                           1.00        18\n",
            "   macro avg       1.00      1.00      1.00        18\n",
            "weighted avg       1.00      1.00      1.00        18\n",
            "\n",
            "[[12  0]\n",
            " [ 0  6]]\n",
            "Accuratezza Test: 100.000\n",
            "Precisione  Test: 100.000\n",
            "Sensitività Test: 100.000\n",
            "Specificità Test: 100.000\n",
            "F1 score    Test: 100.000\n",
            "stimatore utilizzato - DecisionTreeClassifier\n",
            "Fitting 5 folds for each of 216 candidates, totalling 1080 fits\n"
          ]
        },
        {
          "output_type": "stream",
          "name": "stderr",
          "text": [
            "[Parallel(n_jobs=-1)]: Done 1062 tasks      | elapsed:    1.1s\n",
            "[Parallel(n_jobs=-1)]: Done 1077 out of 1080 | elapsed:    1.1s remaining:    0.0s\n",
            "[Parallel(n_jobs=-1)]: Done 1080 out of 1080 | elapsed:    1.2s finished\n",
            "/usr/local/lib/python3.7/dist-packages/sklearn/model_selection/_search.py:281: UserWarning:\n",
            "\n",
            "The total space of parameters 2 is smaller than n_iter=20. Running 2 iterations. For exhaustive searches, use GridSearchCV.\n",
            "\n",
            "[Parallel(n_jobs=-1)]: Using backend LokyBackend with 2 concurrent workers.\n",
            "[Parallel(n_jobs=-1)]: Done  10 out of  10 | elapsed:    0.0s finished\n",
            "/usr/local/lib/python3.7/dist-packages/sklearn/utils/validation.py:760: DataConversionWarning:\n",
            "\n",
            "A column-vector y was passed when a 1d array was expected. Please change the shape of y to (n_samples, ), for example using ravel().\n",
            "\n",
            "[Parallel(n_jobs=-1)]: Using backend LokyBackend with 2 concurrent workers.\n"
          ]
        },
        {
          "output_type": "stream",
          "name": "stdout",
          "text": [
            "Accuratezza fase di Cross Validation con dati di Addestramento/Validazione: 1.000\n",
            "{'criterion': 'gini', 'max_depth': 3, 'min_samples_leaf': 1, 'min_samples_split': 2, 'min_weight_fraction_leaf': 0}\n",
            "Accuratezza con dati di Test: 1.000\n",
            "Risultato sui dati di test:\n",
            "              precision    recall  f1-score   support\n",
            "\n",
            "           0       1.00      1.00      1.00        12\n",
            "           1       1.00      1.00      1.00         6\n",
            "\n",
            "    accuracy                           1.00        18\n",
            "   macro avg       1.00      1.00      1.00        18\n",
            "weighted avg       1.00      1.00      1.00        18\n",
            "\n",
            "[[12  0]\n",
            " [ 0  6]]\n",
            "Accuratezza Test: 100.000\n",
            "Precisione  Test: 100.000\n",
            "Sensitività Test: 100.000\n",
            "Specificità Test: 100.000\n",
            "F1 score    Test: 100.000\n",
            "stimatore utilizzato - Support vector machine (SVC)\n",
            "Fitting 5 folds for each of 2 candidates, totalling 10 fits\n",
            "Accuratezza fase di Cross Validation con dati di Addestramento/Validazione: 1.000\n",
            "{'kernel': 'linear'}\n",
            "Accuratezza con dati di Test: 1.000\n",
            "Risultato sui dati di test:\n",
            "              precision    recall  f1-score   support\n",
            "\n",
            "           0       1.00      1.00      1.00        12\n",
            "           1       1.00      1.00      1.00         6\n",
            "\n",
            "    accuracy                           1.00        18\n",
            "   macro avg       1.00      1.00      1.00        18\n",
            "weighted avg       1.00      1.00      1.00        18\n",
            "\n",
            "[[12  0]\n",
            " [ 0  6]]\n",
            "Accuratezza Test: 100.000\n",
            "Precisione  Test: 100.000\n",
            "Sensitività Test: 100.000\n",
            "Specificità Test: 100.000\n",
            "F1 score    Test: 100.000\n",
            "stimatore utilizzato - KNeighborsClassifier\n",
            "Fitting 5 folds for each of 16 candidates, totalling 80 fits\n"
          ]
        },
        {
          "output_type": "stream",
          "name": "stderr",
          "text": [
            "[Parallel(n_jobs=-1)]: Done  80 out of  80 | elapsed:    0.2s finished\n",
            "/usr/local/lib/python3.7/dist-packages/sklearn/model_selection/_search.py:739: DataConversionWarning:\n",
            "\n",
            "A column-vector y was passed when a 1d array was expected. Please change the shape of y to (n_samples, ), for example using ravel().\n",
            "\n",
            "[Parallel(n_jobs=-1)]: Using backend LokyBackend with 2 concurrent workers.\n"
          ]
        },
        {
          "output_type": "stream",
          "name": "stdout",
          "text": [
            "Accuratezza fase di Cross Validation con dati di Addestramento/Validazione: 0.975\n",
            "{'algorithm': 'auto', 'n_neighbors': 5, 'weights': 'distance'}\n",
            "Accuratezza con dati di Test: 1.000\n",
            "Risultato sui dati di test:\n",
            "              precision    recall  f1-score   support\n",
            "\n",
            "           0       1.00      1.00      1.00        12\n",
            "           1       1.00      1.00      1.00         6\n",
            "\n",
            "    accuracy                           1.00        18\n",
            "   macro avg       1.00      1.00      1.00        18\n",
            "weighted avg       1.00      1.00      1.00        18\n",
            "\n",
            "[[12  0]\n",
            " [ 0  6]]\n",
            "Accuratezza Test: 100.000\n",
            "Precisione  Test: 100.000\n",
            "Sensitività Test: 100.000\n",
            "Specificità Test: 100.000\n",
            "F1 score    Test: 100.000\n",
            "stimatore utilizzato - DecisionTreeClassifier\n",
            "Fitting 5 folds for each of 216 candidates, totalling 1080 fits\n"
          ]
        },
        {
          "output_type": "stream",
          "name": "stderr",
          "text": [
            "[Parallel(n_jobs=-1)]: Done 937 tasks      | elapsed:    1.1s\n",
            "[Parallel(n_jobs=-1)]: Done 1077 out of 1080 | elapsed:    1.1s remaining:    0.0s\n",
            "[Parallel(n_jobs=-1)]: Done 1080 out of 1080 | elapsed:    1.1s finished\n",
            "/usr/local/lib/python3.7/dist-packages/sklearn/model_selection/_search.py:281: UserWarning:\n",
            "\n",
            "The total space of parameters 2 is smaller than n_iter=20. Running 2 iterations. For exhaustive searches, use GridSearchCV.\n",
            "\n",
            "[Parallel(n_jobs=-1)]: Using backend LokyBackend with 2 concurrent workers.\n",
            "[Parallel(n_jobs=-1)]: Done  10 out of  10 | elapsed:    0.0s finished\n",
            "/usr/local/lib/python3.7/dist-packages/sklearn/utils/validation.py:760: DataConversionWarning:\n",
            "\n",
            "A column-vector y was passed when a 1d array was expected. Please change the shape of y to (n_samples, ), for example using ravel().\n",
            "\n",
            "[Parallel(n_jobs=-1)]: Using backend LokyBackend with 2 concurrent workers.\n"
          ]
        },
        {
          "output_type": "stream",
          "name": "stdout",
          "text": [
            "Accuratezza fase di Cross Validation con dati di Addestramento/Validazione: 0.975\n",
            "{'criterion': 'gini', 'max_depth': 3, 'min_samples_leaf': 1, 'min_samples_split': 2, 'min_weight_fraction_leaf': 0}\n",
            "Accuratezza con dati di Test: 1.000\n",
            "Risultato sui dati di test:\n",
            "              precision    recall  f1-score   support\n",
            "\n",
            "           0       1.00      1.00      1.00        12\n",
            "           1       1.00      1.00      1.00         6\n",
            "\n",
            "    accuracy                           1.00        18\n",
            "   macro avg       1.00      1.00      1.00        18\n",
            "weighted avg       1.00      1.00      1.00        18\n",
            "\n",
            "[[12  0]\n",
            " [ 0  6]]\n",
            "Accuratezza Test: 100.000\n",
            "Precisione  Test: 100.000\n",
            "Sensitività Test: 100.000\n",
            "Specificità Test: 100.000\n",
            "F1 score    Test: 100.000\n",
            "stimatore utilizzato - Support vector machine (SVC)\n",
            "Fitting 5 folds for each of 2 candidates, totalling 10 fits\n",
            "Accuratezza fase di Cross Validation con dati di Addestramento/Validazione: 0.975\n",
            "{'kernel': 'linear'}\n",
            "Accuratezza con dati di Test: 1.000\n",
            "Risultato sui dati di test:\n",
            "              precision    recall  f1-score   support\n",
            "\n",
            "           0       1.00      1.00      1.00        12\n",
            "           1       1.00      1.00      1.00         6\n",
            "\n",
            "    accuracy                           1.00        18\n",
            "   macro avg       1.00      1.00      1.00        18\n",
            "weighted avg       1.00      1.00      1.00        18\n",
            "\n",
            "[[12  0]\n",
            " [ 0  6]]\n",
            "Accuratezza Test: 100.000\n",
            "Precisione  Test: 100.000\n",
            "Sensitività Test: 100.000\n",
            "Specificità Test: 100.000\n",
            "F1 score    Test: 100.000\n",
            "stimatore utilizzato - KNeighborsClassifier\n",
            "Fitting 5 folds for each of 16 candidates, totalling 80 fits\n",
            "Accuratezza fase di Cross Validation con dati di Addestramento/Validazione: 1.000\n",
            "{'algorithm': 'auto', 'n_neighbors': 5, 'weights': 'uniform'}\n",
            "Accuratezza con dati di Test: 0.944\n",
            "Risultato sui dati di test:\n",
            "              precision    recall  f1-score   support\n",
            "\n",
            "           0       1.00      0.92      0.96        12\n",
            "           1       0.86      1.00      0.92         6\n",
            "\n",
            "    accuracy                           0.94        18\n",
            "   macro avg       0.93      0.96      0.94        18\n",
            "weighted avg       0.95      0.94      0.95        18\n",
            "\n",
            "[[11  1]\n",
            " [ 0  6]]\n",
            "Accuratezza Test: 94.000\n",
            "Precisione  Test: 100.000\n",
            "Sensitività Test: 91.000\n",
            "Specificità Test: 100.000\n",
            "F1 score    Test: 95.000\n"
          ]
        },
        {
          "output_type": "stream",
          "name": "stderr",
          "text": [
            "[Parallel(n_jobs=-1)]: Done  80 out of  80 | elapsed:    0.2s finished\n",
            "/usr/local/lib/python3.7/dist-packages/sklearn/model_selection/_search.py:739: DataConversionWarning:\n",
            "\n",
            "A column-vector y was passed when a 1d array was expected. Please change the shape of y to (n_samples, ), for example using ravel().\n",
            "\n"
          ]
        }
      ]
    },
    {
      "cell_type": "markdown",
      "metadata": {
        "id": "zDpA1ZFjWmeO"
      },
      "source": [
        "#### Run Singolo"
      ]
    },
    {
      "cell_type": "code",
      "metadata": {
        "id": "0aKRy4Q4LVW5"
      },
      "source": [
        "df=CASEHC.loc[:,0]\n",
        "\n",
        "X = df.to_numpy()\n",
        "\n",
        "Y = CASEHC.loc[:,1]\n",
        "y = Y.to_numpy()\n",
        "y = np.where(y == 3, 1, 0)\n",
        "#from sklearn.model_selection import train_test_split\n",
        "\n",
        "\n",
        "X_train, X_test, y_train, y_test = train_test_split(X, y, test_size=0.3,stratify=y)\n",
        "\n",
        "#pca = PCA(n_components=2)\n",
        "\n",
        "#X_train_pca = pca.fit_transform(X_train)\n",
        "#X_test_pca = pca.transform(X_test)\n",
        "\n",
        "X_train_caso4=X_train\n",
        "X_test_caso4=X_test\n",
        "y_train_caso4=y_train\n",
        "y_test_caso4=y_test"
      ],
      "execution_count": null,
      "outputs": []
    },
    {
      "cell_type": "code",
      "metadata": {
        "id": "ZOH7UBe4OZQi"
      },
      "source": [
        "X_train_caso4=X_train_caso4.reshape(-1,1)\n",
        "X_test_caso4=X_test_caso4.reshape(-1,1)\n",
        "y_train_caso4=y_train_caso4.reshape(-1,1)\n",
        "y_test_caso4=y_test_caso4.reshape(-1,1)"
      ],
      "execution_count": null,
      "outputs": []
    },
    {
      "cell_type": "code",
      "metadata": {
        "colab": {
          "base_uri": "https://localhost:8080/"
        },
        "id": "X4LvXraSi6gm",
        "outputId": "1e42bf4d-a0d5-45fe-e05b-c159360fdb03"
      },
      "source": [
        "tuning_albero_decisione(4,5)"
      ],
      "execution_count": null,
      "outputs": [
        {
          "output_type": "stream",
          "name": "stdout",
          "text": [
            "Fitting 5 folds for each of 216 candidates, totalling 1080 fits\n"
          ]
        },
        {
          "output_type": "stream",
          "name": "stderr",
          "text": [
            "[Parallel(n_jobs=-1)]: Using backend LokyBackend with 2 concurrent workers.\n"
          ]
        },
        {
          "output_type": "stream",
          "name": "stdout",
          "text": [
            "Accuratezza fase di Cross Validation con dati di Addestramento/Validazione: 0.975\n",
            "{'criterion': 'gini', 'max_depth': 3, 'min_samples_leaf': 1, 'min_samples_split': 2, 'min_weight_fraction_leaf': 0}\n",
            "Accuratezza con dati di Test: 1.000\n",
            "Risultato sui dati di test:\n",
            "              precision    recall  f1-score   support\n",
            "\n",
            "           0       1.00      1.00      1.00        12\n",
            "           1       1.00      1.00      1.00         6\n",
            "\n",
            "    accuracy                           1.00        18\n",
            "   macro avg       1.00      1.00      1.00        18\n",
            "weighted avg       1.00      1.00      1.00        18\n",
            "\n",
            "[[12  0]\n",
            " [ 0  6]]\n",
            "Accuratezza Test: 100.000\n",
            "Precisione  Test: 100.000\n",
            "Sensitività Test: 100.000\n",
            "Specificità Test: 100.000\n",
            "F1 score    Test: 100.000\n"
          ]
        },
        {
          "output_type": "stream",
          "name": "stderr",
          "text": [
            "[Parallel(n_jobs=-1)]: Done 1062 tasks      | elapsed:    1.2s\n",
            "[Parallel(n_jobs=-1)]: Done 1077 out of 1080 | elapsed:    1.2s remaining:    0.0s\n",
            "[Parallel(n_jobs=-1)]: Done 1080 out of 1080 | elapsed:    1.2s finished\n"
          ]
        }
      ]
    },
    {
      "cell_type": "code",
      "metadata": {
        "id": "Ummkm-HIi6gp",
        "colab": {
          "base_uri": "https://localhost:8080/"
        },
        "outputId": "2de440c7-7304-4fab-ae73-7189cbd03df3"
      },
      "source": [
        "tuning_SVM(4,5)"
      ],
      "execution_count": null,
      "outputs": [
        {
          "output_type": "stream",
          "name": "stdout",
          "text": [
            "Fitting 5 folds for each of 2 candidates, totalling 10 fits\n",
            "Accuratezza fase di Cross Validation con dati di Addestramento/Validazione: 0.975\n",
            "{'kernel': 'linear'}\n",
            "Accuratezza con dati di Test: 1.000\n",
            "Risultato sui dati di test:\n",
            "              precision    recall  f1-score   support\n",
            "\n",
            "           0       1.00      1.00      1.00        12\n",
            "           1       1.00      1.00      1.00         6\n",
            "\n",
            "    accuracy                           1.00        18\n",
            "   macro avg       1.00      1.00      1.00        18\n",
            "weighted avg       1.00      1.00      1.00        18\n",
            "\n",
            "[[12  0]\n",
            " [ 0  6]]\n",
            "Accuratezza Test: 100.000\n",
            "Precisione  Test: 100.000\n",
            "Sensitività Test: 100.000\n",
            "Specificità Test: 100.000\n",
            "F1 score    Test: 100.000\n"
          ]
        },
        {
          "output_type": "stream",
          "name": "stderr",
          "text": [
            "/usr/local/lib/python3.7/dist-packages/sklearn/model_selection/_search.py:281: UserWarning:\n",
            "\n",
            "The total space of parameters 2 is smaller than n_iter=20. Running 2 iterations. For exhaustive searches, use GridSearchCV.\n",
            "\n",
            "[Parallel(n_jobs=-1)]: Using backend LokyBackend with 2 concurrent workers.\n",
            "[Parallel(n_jobs=-1)]: Done  10 out of  10 | elapsed:    0.0s finished\n",
            "/usr/local/lib/python3.7/dist-packages/sklearn/utils/validation.py:760: DataConversionWarning:\n",
            "\n",
            "A column-vector y was passed when a 1d array was expected. Please change the shape of y to (n_samples, ), for example using ravel().\n",
            "\n"
          ]
        }
      ]
    },
    {
      "cell_type": "code",
      "metadata": {
        "id": "mOhBF3_ei6gr"
      },
      "source": [
        "#tuning_albero_decisione_CV(4,10)"
      ],
      "execution_count": null,
      "outputs": []
    },
    {
      "cell_type": "code",
      "metadata": {
        "id": "eO9IeabPi6gt"
      },
      "source": [
        "#tuning_SVM_CV(4,10)"
      ],
      "execution_count": null,
      "outputs": []
    },
    {
      "cell_type": "code",
      "metadata": {
        "id": "73z0PdmSi6gv"
      },
      "source": [
        "#validazione_incrociata_kfold(4,10,1)"
      ],
      "execution_count": null,
      "outputs": []
    },
    {
      "cell_type": "code",
      "metadata": {
        "id": "4tGWn7hGi6gx"
      },
      "source": [
        "#validazione_incrociata_kfold(4,10,2)"
      ],
      "execution_count": null,
      "outputs": []
    },
    {
      "cell_type": "code",
      "metadata": {
        "id": "-MyVoJrki6gy"
      },
      "source": [
        "#validazione_incrociata_score(4,10,1)"
      ],
      "execution_count": null,
      "outputs": []
    },
    {
      "cell_type": "code",
      "metadata": {
        "id": "dCr9fu3Zi6gz"
      },
      "source": [
        "#validazione_incrociata_score(4,10,2)"
      ],
      "execution_count": null,
      "outputs": []
    },
    {
      "cell_type": "code",
      "metadata": {
        "id": "cn-GCF1gi6g0"
      },
      "source": [
        "#prova_pipeline(4,2)"
      ],
      "execution_count": null,
      "outputs": []
    },
    {
      "cell_type": "code",
      "metadata": {
        "id": "ktaCUXZQi6g1"
      },
      "source": [
        "#exec_trad(4,1)"
      ],
      "execution_count": null,
      "outputs": []
    },
    {
      "cell_type": "code",
      "metadata": {
        "id": "rO5Cj1B5i6g2"
      },
      "source": [
        "#exec_trad(4,2)"
      ],
      "execution_count": null,
      "outputs": []
    },
    {
      "cell_type": "code",
      "metadata": {
        "colab": {
          "base_uri": "https://localhost:8080/"
        },
        "id": "MDeor0aAm5VX",
        "outputId": "866e8d61-7dbb-42c8-a55a-c1d36e4a3fa3"
      },
      "source": [
        "tuning_KNN(4,5)"
      ],
      "execution_count": null,
      "outputs": [
        {
          "output_type": "stream",
          "name": "stdout",
          "text": [
            "Fitting 5 folds for each of 16 candidates, totalling 80 fits\n"
          ]
        },
        {
          "output_type": "stream",
          "name": "stderr",
          "text": [
            "[Parallel(n_jobs=-1)]: Using backend LokyBackend with 2 concurrent workers.\n"
          ]
        },
        {
          "output_type": "stream",
          "name": "stdout",
          "text": [
            "Accuratezza fase di Cross Validation con dati di Addestramento/Validazione: 0.975\n",
            "{'algorithm': 'auto', 'n_neighbors': 5, 'weights': 'distance'}\n",
            "Accuratezza con dati di Test: 1.000\n",
            "Risultato sui dati di test:\n",
            "              precision    recall  f1-score   support\n",
            "\n",
            "           0       1.00      1.00      1.00        12\n",
            "           1       1.00      1.00      1.00         6\n",
            "\n",
            "    accuracy                           1.00        18\n",
            "   macro avg       1.00      1.00      1.00        18\n",
            "weighted avg       1.00      1.00      1.00        18\n",
            "\n",
            "[[12  0]\n",
            " [ 0  6]]\n",
            "Accuratezza Test: 100.000\n",
            "Precisione  Test: 100.000\n",
            "Sensitività Test: 100.000\n",
            "Specificità Test: 100.000\n",
            "F1 score    Test: 100.000\n"
          ]
        },
        {
          "output_type": "stream",
          "name": "stderr",
          "text": [
            "[Parallel(n_jobs=-1)]: Done  80 out of  80 | elapsed:    0.2s finished\n",
            "/usr/local/lib/python3.7/dist-packages/sklearn/model_selection/_search.py:739: DataConversionWarning:\n",
            "\n",
            "A column-vector y was passed when a 1d array was expected. Please change the shape of y to (n_samples, ), for example using ravel().\n",
            "\n"
          ]
        }
      ]
    },
    {
      "cell_type": "code",
      "metadata": {
        "id": "oFz5tANvm5VY"
      },
      "source": [
        "#tuning_MP(4,10)"
      ],
      "execution_count": null,
      "outputs": []
    },
    {
      "cell_type": "code",
      "metadata": {
        "id": "RPVPFj2pm5VZ"
      },
      "source": [
        "#tuning_LR(4,10)"
      ],
      "execution_count": null,
      "outputs": []
    },
    {
      "cell_type": "code",
      "metadata": {
        "id": "vgmWLYP4U95q"
      },
      "source": [
        "#tuning_foresta(4,10)"
      ],
      "execution_count": null,
      "outputs": []
    },
    {
      "cell_type": "markdown",
      "metadata": {
        "id": "4uuSEjd8i6g3"
      },
      "source": [
        "<br>\n",
        "<br>"
      ]
    }
  ]
}