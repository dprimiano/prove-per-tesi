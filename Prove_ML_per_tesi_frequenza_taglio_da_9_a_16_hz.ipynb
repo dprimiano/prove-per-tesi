{
  "nbformat": 4,
  "nbformat_minor": 0,
  "metadata": {
    "anaconda-cloud": {},
    "colab": {
      "name": "Prove_ML_per_tesi frequenza taglio da 9 a 16 hz.ipynb",
      "provenance": [],
      "collapsed_sections": [
        "Rj_mdFmkTzHT"
      ],
      "toc_visible": true
    },
    "kernelspec": {
      "display_name": "Python 3",
      "language": "python",
      "name": "python3"
    },
    "language_info": {
      "codemirror_mode": {
        "name": "ipython",
        "version": 3
      },
      "file_extension": ".py",
      "mimetype": "text/x-python",
      "name": "python",
      "nbconvert_exporter": "python",
      "pygments_lexer": "ipython3",
      "version": "3.8.3"
    },
    "toc": {
      "nav_menu": {},
      "number_sections": true,
      "sideBar": true,
      "skip_h1_title": false,
      "title_cell": "Table of Contents",
      "title_sidebar": "Contents",
      "toc_cell": false,
      "toc_position": {},
      "toc_section_display": true,
      "toc_window_display": false
    }
  },
  "cells": [
    {
      "cell_type": "markdown",
      "metadata": {
        "id": "qeoP3Mk-60Zw"
      },
      "source": [
        "# Prove ML per tesi"
      ]
    },
    {
      "cell_type": "code",
      "metadata": {
        "id": "X4ReBTXfZG4-"
      },
      "source": [
        ""
      ],
      "execution_count": null,
      "outputs": []
    },
    {
      "cell_type": "code",
      "metadata": {
        "colab": {
          "base_uri": "https://localhost:8080/"
        },
        "id": "oFoXnoQKZJ3G",
        "outputId": "258072d7-1825-4d2e-eb5c-b653cd1750cb"
      },
      "source": [
        "from google.colab import drive\n",
        "drive.mount('/content/drive')"
      ],
      "execution_count": null,
      "outputs": [
        {
          "name": "stdout",
          "output_type": "stream",
          "text": [
            "Mounted at /content/drive\n"
          ]
        }
      ]
    },
    {
      "cell_type": "markdown",
      "metadata": {
        "id": "h7E124NO7lW2"
      },
      "source": [
        "Si parte dal precedente progetto \"Elaborazione del segnale EEG con metodi supervisionati per la classificazione dei pazienti di Alzheimer\". Si individuano alcuni dei classificaori utilizzati, per eseguerire k-fold cross validation unita alla greadsearchCV per individuare gli iperparametri ottimali con i quali addestrare i classificatori e alla fine eseguire i modelli."
      ]
    },
    {
      "cell_type": "markdown",
      "metadata": {
        "id": "UM3STYYL9gNY"
      },
      "source": [
        "Si esegue l'import delle principali librerie utilizzate per il progetto di machine learning"
      ]
    },
    {
      "cell_type": "code",
      "metadata": {
        "id": "NyX9DTjDhrI5"
      },
      "source": [
        "import numpy as np\n",
        "import scipy as sp\n",
        "import matplotlib as mpl\n",
        "import seaborn as sns\n",
        "import matplotlib.pyplot as plt\n",
        "import plotly.express as px\n",
        "import pandas as pd\n",
        "from scipy.fftpack import fft, ifft, fftfreq,rfft\n",
        "from sklearn import tree\n",
        "from sklearn.model_selection import train_test_split\n",
        "from sklearn.tree import DecisionTreeClassifier\n",
        "from sklearn.metrics import accuracy_score\n",
        "from sklearn.metrics import classification_report, confusion_matrix\n",
        "from sklearn.metrics import precision_score, \\\n",
        "    recall_score, \\\n",
        "    accuracy_score, f1_score\n",
        "\n",
        "# Lets import some modules for basic computation\n",
        "import time\n",
        "\n",
        "\n",
        "import pickle\n",
        "\n",
        "# Some modules for plotting and visualizing\n",
        "import seaborn as sns\n",
        "import matplotlib.pyplot as plt\n",
        "from IPython.display import display\n",
        "\n",
        "# And some Machine Learning modules from scikit-learn\n",
        "from sklearn.decomposition import PCA\n",
        "from sklearn.preprocessing import StandardScaler, LabelEncoder\n",
        "\n",
        "from sklearn.linear_model import LogisticRegression\n",
        "from sklearn.svm import SVC\n",
        "from sklearn.neighbors import KNeighborsClassifier\n",
        "from sklearn import tree\n",
        "from sklearn.neural_network import MLPClassifier\n",
        "from sklearn.neighbors import KNeighborsClassifier\n",
        "from sklearn.ensemble import GradientBoostingClassifier\n",
        "from sklearn.gaussian_process.kernels import RBF\n",
        "from sklearn.ensemble import RandomForestClassifier\n",
        "from sklearn.naive_bayes import GaussianNB\n",
        "\n",
        "from sklearn.metrics import accuracy_score\n",
        "from sklearn.preprocessing import StandardScaler\n",
        "\n",
        "from sklearn.decomposition import PCA\n",
        "from sklearn.pipeline import make_pipeline\n",
        "from sklearn.model_selection import GridSearchCV\n",
        "from sklearn.model_selection import RandomizedSearchCV\n",
        "from sklearn.model_selection import cross_val_score\n",
        "from sklearn.ensemble import RandomForestClassifier\n",
        "from sklearn.model_selection import GroupKFold\n",
        "\n",
        "from sklearn.discriminant_analysis import LinearDiscriminantAnalysis as LDA\n",
        "from sklearn.decomposition import KernelPCA"
      ],
      "execution_count": null,
      "outputs": []
    },
    {
      "cell_type": "code",
      "metadata": {
        "id": "6wyL4LnwZ9IO"
      },
      "source": [
        ""
      ],
      "execution_count": null,
      "outputs": []
    },
    {
      "cell_type": "markdown",
      "metadata": {
        "id": "UqMP_dBn90fs"
      },
      "source": [
        "## Principali funzioni di utilità"
      ]
    },
    {
      "cell_type": "code",
      "metadata": {
        "id": "qsHn2py9-Sa8"
      },
      "source": [
        "def tuning_albero_decisione(caso,numerocv):\n",
        "    ncv=numerocv\n",
        "    if caso==1:\n",
        "       X_traina=X_train_caso1\n",
        "       y_traina=y_train_caso1\n",
        "       X_testa=X_test_caso1\n",
        "       y_testa=y_test_caso1\n",
        "    if caso==2:\n",
        "       X_traina=X_train_caso2\n",
        "       y_traina=y_train_caso2\n",
        "       X_testa=X_test_caso2\n",
        "       y_testa=y_test_caso2\n",
        "    if caso==3:\n",
        "       X_traina=X_train_caso3\n",
        "       y_traina=y_train_caso3  \n",
        "       X_testa=X_test_caso3\n",
        "       y_testa=y_test_caso3   \n",
        "    if caso==4:\n",
        "       X_traina=X_train_caso4\n",
        "       y_traina=y_train_caso4   \n",
        "       X_testa=X_test_caso4\n",
        "       y_testa=y_test_caso4     \n",
        "\n",
        "    parametri1 = {\"criterion\":[\"gini\",\"entropy\"],\n",
        "              \"max_depth\": [3,4,5,10]}\n",
        "\n",
        "    parametri = {\"criterion\":[\"gini\",\"entropy\"],\n",
        "              \"max_depth\": [3,4,5,10],\n",
        "              \"min_samples_leaf\":[1,2,3],\n",
        "              \"min_samples_split\":[1,2,3],\n",
        "              \"min_weight_fraction_leaf\":[0,1,2]\n",
        "              }\n",
        "\n",
        "    cercap = GridSearchCV(estimator=DecisionTreeClassifier(), \n",
        "                  param_grid=parametri, \n",
        "                  scoring='accuracy', \n",
        "                  refit=True,\n",
        "                  cv=ncv,\n",
        "                  verbose=1,\n",
        "                  n_jobs=-1)\n",
        "    gs = cercap.fit(X_traina, y_traina)\n",
        "    print('Accuratezza fase di Cross Validation con dati di Addestramento/Validazione: %.3f' % gs.best_score_)\n",
        "    print(gs.best_params_)\n",
        "\n",
        "\n",
        "    clf = gs.best_estimator_\n",
        "    # clf.fit(X_train, y_train) \n",
        "    \n",
        "  \n",
        "    print('Accuratezza con dati di Test: %.3f' % clf.score(X_testa, y_testa))\n",
        "\n",
        "    y_true, y_pred = y_testa , clf.predict(X_testa)\n",
        "    \n",
        "    print('Risultato sui dati di test:')\n",
        "    print(classification_report(y_true, y_pred))\n",
        "\n",
        "    target_names = ['Positivo','Negativo']\n",
        "    print(confusion_matrix(y_testa,y_pred))\n",
        "    matrice=confusion_matrix(y_testa,y_pred)\n",
        "        #print(y_test,y_pred)\n",
        "    tp=matrice[0,0]\n",
        "    fn=matrice[0,1]\n",
        "    fp=matrice[1,0]\n",
        "    tn=matrice[1,1]\n",
        "         \n",
        "        #print(tp,fp,fn,tn)\n",
        "    accurancy=int(((tp+tn)/(tn+fp+fn+tp))*100)\n",
        "    precision=int((tp/(tp+fp))*100)\n",
        "    sensitivity=int((tp/(tp+fn))*100)\n",
        "    specificity=int((tn/(tn+fp))*100)\n",
        "    if (precision== 0 and sensitivity==0):\n",
        "        f1score=0\n",
        "    else:\n",
        "        f1score=int(2*((precision * sensitivity)/(precision + sensitivity)))\n",
        "\n",
        "    print('Accuratezza Test: %.3f' % accurancy)  \n",
        "    print('Precisione  Test: %.3f' % precision)\n",
        "    print('Sensitività Test: %.3f' % sensitivity)\n",
        "    print('Specificità Test: %.3f' % specificity)\n",
        "    print('F1 score    Test: %.3f' % f1score)\n",
        "    #print(classification_report(y_test,y_pred,target_names=target_names))"
      ],
      "execution_count": null,
      "outputs": []
    },
    {
      "cell_type": "code",
      "metadata": {
        "id": "UsJEZFSr-SzM"
      },
      "source": [
        "def tuning_albero_decisione_CV(caso,numerocv):\n",
        "    ncv=numerocv\n",
        "    if caso==1:\n",
        "       X_traina=X_train_caso1\n",
        "       y_traina=y_train_caso1\n",
        "       X_testa=X_test_caso1\n",
        "       y_testa=y_test_caso1\n",
        "    if caso==2:\n",
        "       X_traina=X_train_caso2\n",
        "       y_traina=y_train_caso2\n",
        "       X_testa=X_test_caso2\n",
        "       y_testa=y_test_caso2\n",
        "    if caso==3:\n",
        "       X_traina=X_train_caso3\n",
        "       y_traina=y_train_caso3  \n",
        "       X_testa=X_test_caso3\n",
        "       y_testa=y_test_caso3   \n",
        "    if caso==4:\n",
        "       X_traina=X_train_caso4\n",
        "       y_traina=y_train_caso4   \n",
        "       X_testa=X_test_caso4\n",
        "       y_testa=y_test_caso4 \n",
        "\n",
        "    parametri1 = {\"criterion\":[\"gini\",\"entropy\"],\n",
        "              \"max_depth\": [3,4,5,10]}\n",
        "\n",
        "    parametri = {\"criterion\":[\"gini\",\"entropy\"],\n",
        "              \"max_depth\": [3,4,5,10],\n",
        "              \"min_samples_leaf\":[1,2,3],\n",
        "              \"min_samples_split\":[1,2,3],\n",
        "              \"min_weight_fraction_leaf\":[0,1,2]}\n",
        "\n",
        "    cercap = GridSearchCV(estimator=DecisionTreeClassifier(random_state=0), \n",
        "                  param_grid=parametri, \n",
        "                  scoring='accuracy', \n",
        "                  refit=True,\n",
        "                  cv=2,\n",
        "                  verbose=1,\n",
        "                  n_jobs=-1)\n",
        "    gs = cercap.fit(X_traina, y_traina)\n",
        "    print(gs.best_score_)\n",
        "    print(gs.best_params_)\n",
        "\n",
        "\n",
        "    clf = gs.best_estimator_\n",
        "    # clf.fit(X_train, y_train) \n",
        "         \n",
        "    #questa parte non viene eseguita in quanto  è stato già eseguita avendo imnpostato refit=True.\n",
        "   \n",
        "\n",
        "    scores = cross_val_score(gs, X_traina, y_traina, \n",
        "                         scoring='accuracy', cv=ncv)\n",
        "    print('CV accuracy: %.3f +/- %.3f' % (np.mean(scores),\n",
        "                                      np.std(scores)))\n",
        "\n",
        "    print('Test accuracy: %.3f' % clf.score(X_testa, y_testa))"
      ],
      "execution_count": null,
      "outputs": []
    },
    {
      "cell_type": "code",
      "metadata": {
        "id": "QhjwAbFn-TZD"
      },
      "source": [
        ""
      ],
      "execution_count": null,
      "outputs": []
    },
    {
      "cell_type": "code",
      "metadata": {
        "id": "Y5SUVDLTG8XV"
      },
      "source": [
        "def tuning_SVM(caso,numerocv):\n",
        "    ncv=numerocv\n",
        "    if caso==1:\n",
        "       X_trains=X_train_caso1\n",
        "       y_trains=y_train_caso1\n",
        "       X_tests=X_test_caso1\n",
        "       y_tests=y_test_caso1\n",
        "    if caso==2:\n",
        "       X_trains=X_train_caso2\n",
        "       y_trains=y_train_caso2\n",
        "       X_tests=X_test_caso2\n",
        "       y_tests=y_test_caso2\n",
        "    if caso==3:\n",
        "       X_trains=X_train_caso3\n",
        "       y_trains=y_train_caso3  \n",
        "       X_tests=X_test_caso3\n",
        "       y_tests=y_test_caso3   \n",
        "    if caso==4:\n",
        "       X_trains=X_train_caso4\n",
        "       y_trains=y_train_caso4   \n",
        "       X_tests=X_test_caso4\n",
        "       y_tests=y_test_caso4     \n",
        "\n",
        "    \n",
        "    #parametri = {'C': [0.0001, 0.001, 0.01, 0.1, 1.0, 10.0, 100.0, 1000.0], \n",
        "    #           'gamma': [0.0001, 0.001, 0.01, 0.1, 1.0, 10.0, 100.0, 1000.0], \n",
        "    #           'kernel': ['linear','rbf']}\n",
        "\n",
        "    parametri1 = {'kernel': ['linear','rbf']}\n",
        "\n",
        "    #cercap = GridSearchCV(estimator=SVC(), \n",
        "    #              param_grid=parametri, \n",
        "    #              scoring='accuracy', \n",
        "    #              refit=True,\n",
        "    #              cv=ncv,\n",
        "    #              verbose=1,\n",
        "    #              n_jobs=-1)\n",
        "    cercap = RandomizedSearchCV(estimator=SVC(), \n",
        "                  param_distributions=parametri1, \n",
        "                  scoring='accuracy', \n",
        "                  refit=True,\n",
        "                  cv=ncv,\n",
        "                  verbose=1,\n",
        "                  n_iter=20,\n",
        "                  n_jobs=-1)\n",
        "    gs = cercap.fit(X_trains, y_trains)\n",
        "    print('Accuratezza fase di Cross Validation con dati di Addestramento/Validazione: %.3f' % gs.best_score_)\n",
        "    print(gs.best_params_)\n",
        "\n",
        "\n",
        "    clf = gs.best_estimator_\n",
        "    # clf.fit(X_train, y_train) \n",
        "    # note that we do not need to refit the classifier\n",
        "    # because this is done automatically via refit=True.\n",
        "    print('Accuratezza con dati di Test: %.3f' % clf.score(X_tests, y_tests))\n",
        "\n",
        "    y_true, y_pred = y_tests , clf.predict(X_tests)\n",
        "    \n",
        "    print('Risultato sui dati di test:')\n",
        "    print(classification_report(y_true, y_pred))\n",
        "\n",
        "    target_names = ['Positivo','Negativo']\n",
        "    print(confusion_matrix(y_tests,y_pred))\n",
        "    matrice=confusion_matrix(y_tests,y_pred)\n",
        "        #print(y_test,y_pred)\n",
        "    tp=matrice[0,0]\n",
        "    fn=matrice[0,1]\n",
        "    fp=matrice[1,0]\n",
        "    tn=matrice[1,1]\n",
        "         \n",
        "        #print(tp,fp,fn,tn)\n",
        "    accurancy=int(((tp+tn)/(tn+fp+fn+tp))*100)\n",
        "    precision=int((tp/(tp+fp))*100)\n",
        "    sensitivity=int((tp/(tp+fn))*100)\n",
        "    specificity=int((tn/(tn+fp))*100)\n",
        "    if (precision== 0 and sensitivity==0):\n",
        "        f1score=0\n",
        "    else:\n",
        "        f1score=int(2*((precision * sensitivity)/(precision + sensitivity)))\n",
        "\n",
        "    print('Accuratezza Test: %.3f' % accurancy)  \n",
        "    print('Precisione  Test: %.3f' % precision)\n",
        "    print('Sensitività Test: %.3f' % sensitivity)\n",
        "    print('Specificità Test: %.3f' % specificity)\n",
        "    print('F1 score    Test: %.3f' % f1score)"
      ],
      "execution_count": null,
      "outputs": []
    },
    {
      "cell_type": "code",
      "metadata": {
        "id": "ED-M4IyNTZiY"
      },
      "source": [
        "def tuning_foresta(caso,numerocv):\n",
        "    ncv=numerocv\n",
        "    if caso==1:\n",
        "       X_trainf=X_train_caso1\n",
        "       y_trainf=y_train_caso1\n",
        "       X_testf=X_test_caso1\n",
        "       y_testf=y_test_caso1\n",
        "    if caso==2:\n",
        "       X_trainf=X_train_caso2\n",
        "       y_trainf=y_train_caso2\n",
        "       X_testf=X_test_caso2\n",
        "       y_testf=y_test_caso2\n",
        "    if caso==3:\n",
        "       X_trainf=X_train_caso3\n",
        "       y_trainf=y_train_caso3  \n",
        "       X_testf=X_test_caso3\n",
        "       y_testf=y_test_caso3   \n",
        "    if caso==4:\n",
        "       X_trainf=X_train_caso4\n",
        "       y_trainf=y_train_caso4   \n",
        "       X_testf=X_test_caso4\n",
        "       y_testf=y_test_caso4     \n",
        "\n",
        "     \n",
        "    parametri = {\"max_depth\": [8, 12, None],\n",
        "                 \"max_features\": [1, 3, 10],\n",
        "                 \"min_samples_split\": [1, 3, 10],\n",
        "                 \"min_samples_leaf\": [1, 3, 10],\n",
        "                 \"bootstrap\": [True, False],\n",
        "                 \"criterion\": [\"gini\", \"entropy\"],\n",
        "                 \"n_estimators\": [20, 40, 80]}\n",
        "  \n",
        "\n",
        "    #cercap = GridSearchCV(estimator=RandomForestClassifier(random_state=42), \n",
        "    #              param_grid=parametri, \n",
        "    #              scoring='accuracy', \n",
        "    #              refit=True,\n",
        "    #              cv=ncv,\n",
        "    #              verbose=1,\n",
        "    #              n_jobs=-1)\n",
        "    cercap = RandomizedSearchCV(estimator=RandomForestClassifier(random_state=42), \n",
        "                  param_distributions=parametri, \n",
        "                  scoring='accuracy', \n",
        "                  refit=True,\n",
        "                  cv=ncv,\n",
        "                  verbose=1,\n",
        "                  n_iter=20,\n",
        "                  n_jobs=-1)\n",
        "    \n",
        "   \n",
        "    gs = cercap.fit(X_trainf, y_trainf)\n",
        "    print('Accuratezza fase di Cross Validation con dati di Addestramento/Validazione: %.3f' % gs.best_score_)\n",
        "    print(gs.best_params_)\n",
        "\n",
        "\n",
        "    clf = gs.best_estimator_\n",
        "    # clf.fit(X_train, y_train) \n",
        "    \n",
        "    print('Accuratezza con dati di Test: %.3f' % clf.score(X_testf, y_testf))\n",
        "\n",
        "    y_true, y_pred = y_testf , clf.predict(X_testf)\n",
        "    \n",
        "    print('Risultato sui dati di test:')\n",
        "    print(classification_report(y_true, y_pred))\n",
        "\n",
        "    target_names = ['Positivo','Negativo']\n",
        "    print(confusion_matrix(y_testf,y_pred))\n",
        "    matrice=confusion_matrix(y_testf,y_pred)\n",
        "        #print(y_test,y_pred)\n",
        "    tp=matrice[0,0]\n",
        "    fn=matrice[0,1]\n",
        "    fp=matrice[1,0]\n",
        "    tn=matrice[1,1]\n",
        "         \n",
        "        #print(tp,fp,fn,tn)\n",
        "    accurancy=int(((tp+tn)/(tn+fp+fn+tp))*100)\n",
        "    precision=int((tp/(tp+fp))*100)\n",
        "    sensitivity=int((tp/(tp+fn))*100)\n",
        "    specificity=int((tn/(tn+fp))*100)\n",
        "    if (precision== 0 and sensitivity==0):\n",
        "        f1score=0\n",
        "    else:\n",
        "        f1score=int(2*((precision * sensitivity)/(precision + sensitivity)))\n",
        "\n",
        "    print('Accuratezza Test: %.3f' % accurancy)  \n",
        "    print('Precisione  Test: %.3f' % precision)\n",
        "    print('Sensitività Test: %.3f' % sensitivity)\n",
        "    print('Specificità Test: %.3f' % specificity)\n",
        "    print('F1 score    Test: %.3f' % f1score)\n"
      ],
      "execution_count": null,
      "outputs": []
    },
    {
      "cell_type": "code",
      "metadata": {
        "id": "27v1j31vTecI"
      },
      "source": [
        "def tuning_SVM_CV(caso,numerocv):\n",
        "    ncv=numerocv\n",
        "    if caso==1:\n",
        "       X_train=X_train_caso1\n",
        "       y_train=y_train_caso1\n",
        "       X_test=X_test_caso1\n",
        "       y_test=y_test_caso1\n",
        "    if caso==2:\n",
        "       X_train=X_train_caso2\n",
        "       y_train=y_train_caso2\n",
        "       X_test=X_test_caso2\n",
        "       y_test=y_test_caso2\n",
        "    if caso==3:\n",
        "       X_train=X_train_caso3\n",
        "       y_train=y_train_caso3  \n",
        "       X_test=X_test_caso3\n",
        "       y_test=y_test_caso3   \n",
        "    if caso==4:\n",
        "       X_train=X_train_caso4\n",
        "       y_train=y_train_caso4   \n",
        "       X_test=X_test_caso4\n",
        "       y_test=y_test_caso4 \n",
        "\n",
        "    range_valori = [0.0001, 0.001, 0.01, 0.1, 1.0, 10.0, 100.0, 1000.0]\n",
        "\n",
        "    parametri = {'C': [0.0001, 0.001, 0.01, 0.1, 1.0, 10.0, 100.0, 1000.0], \n",
        "               'gamma': [0.0001, 0.001, 0.01, 0.1, 1.0, 10.0, 100.0, 1000.0], \n",
        "               'kernel': ['linear','rbf']}\n",
        "\n",
        "  \n",
        "\n",
        "    cercap = GridSearchCV(estimator=SVC(), \n",
        "                  param_grid=parametri, \n",
        "                  scoring='accuracy', \n",
        "                  refit=True,\n",
        "                  cv=2,\n",
        "                  verbose=1,\n",
        "                  n_jobs=-1)\n",
        "    \n",
        "    gs = cercap.fit(X_train, y_train)\n",
        "    print(gs.best_score_)\n",
        "    print(gs.best_params_)\n",
        "\n",
        "\n",
        "    clf = gs.best_estimator_\n",
        "    # clf.fit(X_train, y_train) \n",
        "    \n",
        "\n",
        "    scores = cross_val_score(gs, X_train, y_train, \n",
        "                         scoring='accuracy', cv=ncv)\n",
        "    print('Accuratezza fase di Cross Validation con dati di Addestramento/Validazione:: %.3f +/- %.3f' % (np.mean(scores),\n",
        "                                      np.std(scores)))\n",
        "\n",
        "    print('Accuratezza con dati di Test: %.3f' % clf.score(X_test, y_test))"
      ],
      "execution_count": null,
      "outputs": []
    },
    {
      "cell_type": "code",
      "metadata": {
        "id": "3ToL3lGmTaDl"
      },
      "source": [
        "def tuning_KNN(caso,numerocv):\n",
        "    ncv=numerocv\n",
        "\n",
        "    if caso==1:\n",
        "       X_traink=X_train_caso1\n",
        "       y_traink=y_train_caso1\n",
        "       X_testk=X_test_caso1\n",
        "       y_testk=y_test_caso1\n",
        "    if caso==2:\n",
        "       X_traink=X_train_caso2\n",
        "       y_traink=y_train_caso2\n",
        "       X_testk=X_test_caso2\n",
        "       y_testk=y_test_caso2\n",
        "    if caso==3:\n",
        "       X_traink=X_train_caso3\n",
        "       y_traink=y_train_caso3  \n",
        "       X_testk=X_test_caso3\n",
        "       y_testk=y_test_caso3   \n",
        "    if caso==4:\n",
        "       X_traink=X_train_caso4\n",
        "       y_traink=y_train_caso4   \n",
        "       X_testk=X_test_caso4\n",
        "       y_testk=y_test_caso4     \n",
        "\n",
        "    parametri = {\n",
        "             'n_neighbors' : [5, 20],\n",
        "             'weights': ['uniform', 'distance'],\n",
        "             'algorithm': ['auto', 'ball_tree', 'kd_tree', 'brute']\n",
        "              }\n",
        "\n",
        "    cercap = GridSearchCV(estimator=KNeighborsClassifier(), \n",
        "                  param_grid=parametri, \n",
        "                  scoring='accuracy', \n",
        "                  refit=True,\n",
        "                  cv=ncv,\n",
        "                  verbose=1,\n",
        "                  n_jobs=-1)\n",
        "    \n",
        "    gs = cercap.fit(X_traink, y_traink)\n",
        "    print('Accuratezza fase di Cross Validation con dati di Addestramento/Validazione: %.3f' % gs.best_score_)\n",
        "    print(gs.best_params_)\n",
        "\n",
        "\n",
        "    clf = gs.best_estimator_\n",
        "    # clf.fit(X_train, y_train) \n",
        "    \n",
        "    print('Accuratezza con dati di Test: %.3f' % clf.score(X_testk, y_testk))\n",
        "\n",
        "    y_true, y_pred = y_testk , clf.predict(X_testk)\n",
        "    \n",
        "    print('Risultato sui dati di test:')\n",
        "    print(classification_report(y_true, y_pred))\n",
        "\n",
        "    target_names = ['Positivo','Negativo']\n",
        "    print(confusion_matrix(y_testk,y_pred))\n",
        "    matrice=confusion_matrix(y_testk,y_pred)\n",
        "        #print(y_test,y_pred)\n",
        "    tp=matrice[0,0]\n",
        "    fn=matrice[0,1]\n",
        "    fp=matrice[1,0]\n",
        "    tn=matrice[1,1]\n",
        "         \n",
        "        #print(tp,fp,fn,tn)\n",
        "    accurancy=int(((tp+tn)/(tn+fp+fn+tp))*100)\n",
        "    precision=int((tp/(tp+fp))*100)\n",
        "    sensitivity=int((tp/(tp+fn))*100)\n",
        "    specificity=int((tn/(tn+fp))*100)\n",
        "    if (precision== 0 and sensitivity==0):\n",
        "        f1score=0\n",
        "    else:\n",
        "        f1score=int(2*((precision * sensitivity)/(precision + sensitivity)))\n",
        "\n",
        "    print('Accuratezza Test: %.3f' % accurancy)  \n",
        "    print('Precisione  Test: %.3f' % precision)\n",
        "    print('Sensitività Test: %.3f' % sensitivity)\n",
        "    print('Specificità Test: %.3f' % specificity)\n",
        "    print('F1 score    Test: %.3f' % f1score)"
      ],
      "execution_count": null,
      "outputs": []
    },
    {
      "cell_type": "code",
      "metadata": {
        "id": "jbV9ClqhndQp"
      },
      "source": [
        ""
      ],
      "execution_count": null,
      "outputs": []
    },
    {
      "cell_type": "code",
      "metadata": {
        "id": "g9fMRq18ndon"
      },
      "source": [
        "def tuning_MP(caso,numerocv):\n",
        "    ncv=numerocv\n",
        "\n",
        "    if caso==1:\n",
        "       X_trainm=X_train_caso1\n",
        "       y_trainm=y_train_caso1\n",
        "       X_testm=X_test_caso1\n",
        "       y_testm=y_test_caso1\n",
        "    if caso==2:\n",
        "       X_trainm=X_train_caso2\n",
        "       y_trainm=y_train_caso2\n",
        "       X_testm=X_test_caso2\n",
        "       y_testm=y_test_caso2\n",
        "    if caso==3:\n",
        "       X_trainm=X_train_caso3\n",
        "       y_trainm=y_train_caso3  \n",
        "       X_testm=X_test_caso3\n",
        "       y_testm=y_test_caso3   \n",
        "    if caso==4:\n",
        "       X_trainm=X_train_caso4\n",
        "       y_trainm=y_train_caso4   \n",
        "       X_testm=X_test_caso4\n",
        "       y_testm=y_test_caso4     \n",
        "\n",
        "    parametri = {  'hidden_layer_sizes': [(10,30,10),(20,)],\n",
        "                    'activation': ['tanh', 'relu'],\n",
        "                    'solver': ['sgd', 'adam'],\n",
        "                    'alpha': [0.0001, 0.05, 0.1,1],\n",
        "                    'learning_rate': ['constant','adaptive']\n",
        "                  }\n",
        "\n",
        "    cercap = GridSearchCV(estimator=MLPClassifier(max_iter=100), \n",
        "                  param_grid=parametri, \n",
        "                  scoring='accuracy', \n",
        "                  refit=True,\n",
        "                  cv=ncv,\n",
        "                  verbose=1,\n",
        "                  n_jobs=-1)\n",
        "    \n",
        "    gs = cercap.fit(X_trainm, y_trainm)\n",
        "    print('Accuratezza fase di Cross Validation con dati di Addestramento/Validazione: %.3f' % gs.best_score_)\n",
        "    print('I migliori parametri trvati sono :\\n', gs.best_params_)\n",
        "    #print(gs.best_params_)\n",
        "\n",
        "    means = gs.cv_results_['mean_test_score']\n",
        "    stds = gs.cv_results_['std_test_score']\n",
        "    #for mean, std, params in zip(means, stds, gs.cv_results_['params']):\n",
        "    #    print(\"%0.3f (+/-%0.03f) for %r\" % (mean, std * 2, params))\n",
        "\n",
        "    \n",
        "    \n",
        "    clf = gs.best_estimator_\n",
        "    # clf.fit(X_train, y_train) \n",
        "    \n",
        "    print('Accuratezza con dati di Test: %.3f' % clf.score(X_testm, y_testm))\n",
        "\n",
        "    y_true, y_pred = y_testm , clf.predict(X_testm)\n",
        "    \n",
        "    print('Risultato sui dati di test:')\n",
        "    print(classification_report(y_true, y_pred))\n",
        "\n",
        "    target_names = ['Positivo','Negativo']\n",
        "    print(confusion_matrix(y_testm,y_pred))\n",
        "    matrice=confusion_matrix(y_testm,y_pred)\n",
        "        #print(y_test,y_pred)\n",
        "    tp=matrice[0,0]\n",
        "    fn=matrice[0,1]\n",
        "    fp=matrice[1,0]\n",
        "    tn=matrice[1,1]\n",
        "         \n",
        "        #print(tp,fp,fn,tn)\n",
        "    accurancy=int(((tp+tn)/(tn+fp+fn+tp))*100)\n",
        "    precision=int((tp/(tp+fp))*100)\n",
        "    sensitivity=int((tp/(tp+fn))*100)\n",
        "    specificity=int((tn/(tn+fp))*100)\n",
        "    if (precision== 0 and sensitivity==0):\n",
        "        f1score=0\n",
        "    else:\n",
        "        f1score=int(2*((precision * sensitivity)/(precision + sensitivity)))\n",
        "\n",
        "    print('Accuratezza Test: %.3f' % accurancy)  \n",
        "    print('Precisione  Test: %.3f' % precision)\n",
        "    print('Sensitività Test: %.3f' % sensitivity)\n",
        "    print('Specificità Test: %.3f' % specificity)\n",
        "    print('F1 score    Test: %.3f' % f1score)"
      ],
      "execution_count": null,
      "outputs": []
    },
    {
      "cell_type": "code",
      "metadata": {
        "id": "kakkSbyZfVJT"
      },
      "source": [
        ""
      ],
      "execution_count": null,
      "outputs": []
    },
    {
      "cell_type": "code",
      "metadata": {
        "id": "jeEO52RXwaYD"
      },
      "source": [
        ""
      ],
      "execution_count": null,
      "outputs": []
    },
    {
      "cell_type": "code",
      "metadata": {
        "id": "Y-rBLQWcwayw"
      },
      "source": [
        "def tuning_LR(caso,numerocv):\n",
        "    ncv=numerocv\n",
        "\n",
        "    if caso==1:\n",
        "       X_trainl=X_train_caso1\n",
        "       y_trainl=y_train_caso1\n",
        "       X_testl=X_test_caso1\n",
        "       y_testl=y_test_caso1\n",
        "    if caso==2:\n",
        "       X_trainl=X_train_caso2\n",
        "       y_trainl=y_train_caso2\n",
        "       X_testl=X_test_caso2\n",
        "       y_testl=y_test_caso2\n",
        "    if caso==3:\n",
        "       X_trainl=X_train_caso3\n",
        "       y_trainl=y_train_caso3  \n",
        "       X_testl=X_test_caso3\n",
        "       y_testl=y_test_caso3   \n",
        "    if caso==4:\n",
        "       X_trainl=X_train_caso4\n",
        "       y_trainl=y_train_caso4   \n",
        "       X_testl=X_test_caso4\n",
        "       y_testl=y_test_caso4     \n",
        "\n",
        "    \n",
        "    parametri ={\"C\":np.logspace(-3,3,7), \"penalty\":[\"l1\",\"l2\"]}\n",
        "\n",
        "    cercap = GridSearchCV(estimator=LogisticRegression(), \n",
        "                  param_grid=parametri, \n",
        "                  scoring='accuracy', \n",
        "                  refit=True,\n",
        "                  cv=ncv,\n",
        "                  verbose=1,\n",
        "                  n_jobs=-1)\n",
        "    \n",
        "    gs = cercap.fit(X_trainl, y_trainl)\n",
        "    print('Accuratezza fase di Cross Validation con dati di Addestramento/Validazione: %.3f' % gs.best_score_)\n",
        "    print('I migliori parametri trvati sono :\\n', gs.best_params_)\n",
        "    #print(gs.best_params_)\n",
        "\n",
        "    means = gs.cv_results_['mean_test_score']\n",
        "    stds = gs.cv_results_['std_test_score']\n",
        "    #for mean, std, params in zip(means, stds, gs.cv_results_['params']):\n",
        "    #    print(\"%0.3f (+/-%0.03f) for %r\" % (mean, std * 2, params))\n",
        "\n",
        "    \n",
        "    \n",
        "    clf = gs.best_estimator_\n",
        "    # clf.fit(X_train, y_train) \n",
        "    \n",
        "    print('Accuratezza con dati di Test: %.3f' % clf.score(X_testl, y_testl))\n",
        "\n",
        "    y_true, y_pred = y_testl , clf.predict(X_testl)\n",
        "    print('Risultato sui dati di test:')\n",
        "    print(classification_report(y_true, y_pred))\n",
        "\n",
        "    target_names = ['Positivo','Negativo']\n",
        "    print(confusion_matrix(y_testl,y_pred))\n",
        "    matrice=confusion_matrix(y_testl,y_pred)\n",
        "        #print(y_test,y_pred)\n",
        "    tp=matrice[0,0]\n",
        "    fn=matrice[0,1]\n",
        "    fp=matrice[1,0]\n",
        "    tn=matrice[1,1]\n",
        "         \n",
        "        #print(tp,fp,fn,tn)\n",
        "    accurancy=int(((tp+tn)/(tn+fp+fn+tp))*100)\n",
        "    if (fp== 0 and fp==0):\n",
        "        precision=0\n",
        "    else:\n",
        "        precision=int((tp/(tp+fp))*100)\n",
        "    sensitivity=int((tp/(tp+fn))*100)\n",
        "    specificity=int((tn/(tn+fp))*100)\n",
        "    if (precision== 0 and sensitivity==0):\n",
        "        f1score=0\n",
        "    else:\n",
        "        f1score=int(2*((precision * sensitivity)/(precision + sensitivity)))\n",
        "\n",
        "    print('Accuratezza Test: %.3f' % accurancy)  \n",
        "    print('Precisione  Test: %.3f' % precision)\n",
        "    print('Sensitività Test: %.3f' % sensitivity)\n",
        "    print('Specificità Test: %.3f' % specificity)\n",
        "    print('F1 score    Test: %.3f' % f1score)"
      ],
      "execution_count": null,
      "outputs": []
    },
    {
      "cell_type": "code",
      "metadata": {
        "id": "r-N6wUlVV0El"
      },
      "source": [
        "def validazione_incrociata_kfold(caso,numerocv,modello):\n",
        "    ncv=numerocv\n",
        "    if modello==1:\n",
        "       classificatore=DecisionTreeClassifier()\n",
        "    if modello==2:\n",
        "       classificatore=SVC()\n",
        "       \n",
        "\n",
        "    if caso==1:\n",
        "       X_train=X_train_caso1\n",
        "       y_train=y_train_caso1\n",
        "       X_test=X_test_caso1\n",
        "       y_test=y_test_caso1\n",
        "    if caso==2:\n",
        "       X_train=X_train_caso2\n",
        "       y_train=y_train_caso2\n",
        "       X_test=X_test_caso2\n",
        "       y_test=y_test_caso2\n",
        "    if caso==3:\n",
        "       X_train=X_train_caso3\n",
        "       y_train=y_train_caso3  \n",
        "       X_test=X_test_caso3\n",
        "       y_test=y_test_caso3   \n",
        "    if caso==4:\n",
        "       X_train=X_train_caso4\n",
        "       y_train=y_train_caso4   \n",
        "       X_test=X_test_caso4\n",
        "       y_test=y_test_caso4     \n",
        "\n",
        "    from sklearn.model_selection import StratifiedKFold\n",
        "    \n",
        "\n",
        "    kfold = StratifiedKFold(n_splits=10).split(X_train, y_train)\n",
        "\n",
        "    scores = []\n",
        "    for k, (train, test) in enumerate(kfold):\n",
        "        classificatore.fit(X_train[train], y_train[train])\n",
        "        score = classificatore.score(X_train[test], y_train[test])\n",
        "        scores.append(score)\n",
        "        print('Fold: %2d, Class dist.: %s, Acc: %.3f' % (k+1,\n",
        "              np.bincount(y_train[train]), score))\n",
        "    \n",
        "    print('\\nCV accuracy: %.3f +/- %.3f' % (np.mean(scores), np.std(scores)))"
      ],
      "execution_count": null,
      "outputs": []
    },
    {
      "cell_type": "code",
      "metadata": {
        "id": "xn0MP7vjVuUP"
      },
      "source": [
        "\n",
        "def validazione_incrociata_score(caso,numerocv,modello):\n",
        "    ncv=numerocv\n",
        "    if modello==1:\n",
        "       classificatore=DecisionTreeClassifier()\n",
        "    if modello==2:\n",
        "       classificatore=SVC()\n",
        "       \n",
        "\n",
        "    if caso==1:\n",
        "       X_train=X_train_caso1\n",
        "       y_train=y_train_caso1\n",
        "       X_test=X_test_caso1\n",
        "       y_test=y_test_caso1\n",
        "    if caso==2:\n",
        "       X_train=X_train_caso2\n",
        "       y_train=y_train_caso2\n",
        "       X_test=X_test_caso2\n",
        "       y_test=y_test_caso2\n",
        "    if caso==3:\n",
        "       X_train=X_train_caso3\n",
        "       y_train=y_train_caso3  \n",
        "       X_test=X_test_caso3\n",
        "       y_test=y_test_caso3   \n",
        "    if caso==4:\n",
        "       X_train=X_train_caso4\n",
        "       y_train=y_train_caso4   \n",
        "       X_test=X_test_caso4\n",
        "       y_test=y_test_caso4     \n",
        "\n",
        "    \n",
        "    scores = cross_val_score(estimator=classificatore,\n",
        "                             X=X_train,\n",
        "                             y=y_train,\n",
        "                             cv=10,\n",
        "                             n_jobs=1)\n",
        "    print('CV accuracy scores: %s' % scores)\n",
        "    print('CV accuracy: %.3f +/- %.3f' % (np.mean(scores), np.std(scores)))"
      ],
      "execution_count": null,
      "outputs": []
    },
    {
      "cell_type": "code",
      "metadata": {
        "id": "YcF92qAtVuxr"
      },
      "source": [
        ""
      ],
      "execution_count": null,
      "outputs": []
    },
    {
      "cell_type": "code",
      "metadata": {
        "id": "uEwFqaH7VvNj"
      },
      "source": [
        "def prepara_dati(caso,pca,split):\n",
        "    \n",
        "    \n",
        "       \n",
        "\n",
        "    if caso==1:\n",
        "       df=pca_wa_AD_HCF.iloc[:,1:913]\n",
        "       X = df.to_numpy()\n",
        "       Y = pca_wa_AD_HCF[' class']\n",
        "       y = Y.to_numpy()\n",
        "       y = np.where(y == ' Control', 1, 0)\n",
        "\n",
        "    if caso==2:\n",
        "       df=pca_wa_MCI_AD.iloc[:,1:913]\n",
        "       X = df.to_numpy()\n",
        "       Y = pca_wa_MCI_AD[' class']\n",
        "       y = Y.to_numpy()\n",
        "       y = np.where(y == ' AD', 1, 0)\n",
        "       X_train=X_train_caso2\n",
        "       y_train=y_train_caso2\n",
        "       X_test=X_test_caso2\n",
        "       y_test=y_test_caso2\n",
        "    if caso==3:\n",
        "       df=pca_wa_MCI_HCF.iloc[:,1:913]\n",
        "       X = df.to_numpy()\n",
        "       Y = pca_wa_MCI_HCF[' class']\n",
        "       y = Y.to_numpy()\n",
        "       y = np.where(y == ' MCI', 1, 0)\n",
        "       X_train=X_train_caso3\n",
        "       y_train=y_train_caso3  \n",
        "       X_test=X_test_caso3\n",
        "       y_test=y_test_caso3   \n",
        "    if caso==4:\n",
        "       df=pca_wa_CASE_HCF.iloc[:,1:913]\n",
        "       X = df.to_numpy()\n",
        "       Y = pca_wa_CASE_HCF[' class']\n",
        "       y = Y.to_numpy()\n",
        "       y = np.where(y == ' Case', 1, 0)\n",
        "       X_train=X_train_caso4\n",
        "       y_train=y_train_caso4   \n",
        "       X_test=X_test_caso4\n",
        "       y_test=y_test_caso4     \n",
        "\n",
        "    \n",
        "   \n",
        "    \n",
        "    pipe_cl = make_pipeline(StandardScaler(),\n",
        "                        PCA(n_components=2),\n",
        "                        classificatore)\n",
        "\n",
        "    pipe_cl.fit(X_train, y_train)\n",
        "    y_pred = pipe_cl.predict(X_test)\n",
        "    print('Test Accuracy: %.3f' % pipe_lr.score(X_test, y_test))"
      ],
      "execution_count": null,
      "outputs": []
    },
    {
      "cell_type": "code",
      "metadata": {
        "id": "4IxkSQsubMaO"
      },
      "source": [
        "\n",
        "def exec_trad(caso,modello):\n",
        "    \n",
        "    if modello==1:\n",
        "       classificatore=DecisionTreeClassifier(criterion='gini', max_depth=3)\n",
        "    if modello==2:\n",
        "       classificatore=SVC()\n",
        "       \n",
        "    if caso==1:\n",
        "       df=pca_wa_AD_HCF.iloc[:,1:913]\n",
        "       X = df.to_numpy()\n",
        "       Y = pca_wa_AD_HCF[' class']\n",
        "       y = Y.to_numpy()\n",
        "       y = np.where(y == ' Control', 1, 0)\n",
        "       X_train, X_test, y_train, y_test = train_test_split(X, y, test_size=0.3,stratify=y,random_state=42)\n",
        "    if caso==2:\n",
        "       df=pca_wa_MCI_AD.iloc[:,1:913]\n",
        "       X = df.to_numpy()\n",
        "       Y = pca_wa_MCI_AD[' class']\n",
        "       y = Y.to_numpy()\n",
        "       y = np.where(y == ' AD', 1, 0)\n",
        "       X_train, X_test, y_train, y_test = train_test_split(X, y, test_size=0.3,stratify=y,random_state=42)\n",
        "      \n",
        "    if caso==3:\n",
        "       df=pca_wa_MCI_HCF.iloc[:,1:913]\n",
        "       X = df.to_numpy()\n",
        "       Y = pca_wa_MCI_HCF[' class']\n",
        "       y = Y.to_numpy()\n",
        "       y = np.where(y == ' MCI', 1, 0)\n",
        "       X_train, X_test, y_train, y_test = train_test_split(X, y, test_size=0.3,stratify=y,random_state=42)\n",
        "         \n",
        "    if caso==4:\n",
        "       df=pca_wa_CASE_HCF.iloc[:,1:913]\n",
        "       X = df.to_numpy()\n",
        "       Y = pca_wa_CASE_HCF[' class']\n",
        "       y = Y.to_numpy()\n",
        "       y = np.where(y == ' Case', 1, 0)\n",
        "       X_train, X_test, y_train, y_test = train_test_split(X, y, test_size=0.3,stratify=y,random_state=42)\n",
        "           \n",
        "\n",
        "    \n",
        "      \n",
        "    classificatore.fit(X_train, y_train)\n",
        "        \n",
        "    train_score = int((classificatore.score(X_train, y_train))*100)\n",
        "    test_score = int((classificatore.score(X_test, y_test))*100)\n",
        "    y_pred = classificatore.predict(X_test)\n",
        "    test_accurancy=int((accuracy_score(y_test, y_pred))*100)\n",
        "    print(\"accurancy test :\", test_accurancy)"
      ],
      "execution_count": null,
      "outputs": []
    },
    {
      "cell_type": "code",
      "metadata": {
        "id": "C9lO1MiMVvdr"
      },
      "source": [
        ""
      ],
      "execution_count": null,
      "outputs": []
    },
    {
      "cell_type": "code",
      "metadata": {
        "id": "AjTDzuayiBwX"
      },
      "source": [
        "\n",
        "def prova_pipeline(caso,modello):\n",
        "    \n",
        "    if modello==1:\n",
        "       classificatore=tree.DecisionTreeClassifier(criterion='gini', max_depth=3)\n",
        "    if modello==2:\n",
        "       classificatore=SVC()\n",
        "       \n",
        "    if caso==1:\n",
        "       df=pca_wa_AD_HCF.iloc[:,1:913]\n",
        "       X = df.to_numpy()\n",
        "       Y = pca_wa_AD_HCF[' class']\n",
        "       y = Y.to_numpy()\n",
        "       y = np.where(y == ' Control', 1, 0)\n",
        "       X_train, X_test, y_train, y_test = train_test_split(X, y, test_size=0.2,stratify=y,random_state=42)\n",
        "    if caso==2:\n",
        "       df=pca_wa_MCI_AD.iloc[:,1:913]\n",
        "       X = df.to_numpy()\n",
        "       Y = pca_wa_MCI_AD[' class']\n",
        "       y = Y.to_numpy()\n",
        "       y = np.where(y == ' AD', 1, 0)\n",
        "       X_train, X_test, y_train, y_test = train_test_split(X, y, test_size=0.2,stratify=y,random_state=42)\n",
        "      \n",
        "    if caso==3:\n",
        "       df=pca_wa_MCI_HCF.iloc[:,1:913]\n",
        "       X = df.to_numpy()\n",
        "       Y = pca_wa_MCI_HCF[' class']\n",
        "       y = Y.to_numpy()\n",
        "       y = np.where(y == ' MCI', 1, 0)\n",
        "       X_train, X_test, y_train, y_test = train_test_split(X, y, test_size=0.2,stratify=y,random_state=42)\n",
        "         \n",
        "    if caso==4:\n",
        "       df=pca_wa_CASE_HCF.iloc[:,1:913]\n",
        "       X = df.to_numpy()\n",
        "       Y = pca_wa_CASE_HCF[' class']\n",
        "       y = Y.to_numpy()\n",
        "       y = np.where(y == ' Case', 1, 0)\n",
        "       X_train, X_test, y_train, y_test = train_test_split(X, y, test_size=0.2,stratify=y,random_state=42)\n",
        "           \n",
        "\n",
        "    \n",
        "   \n",
        "    \n",
        "    pipe_cl = make_pipeline(StandardScaler(),\n",
        "                        PCA(n_components=2),\n",
        "                        classificatore)\n",
        "\n",
        "    pipe_cl.fit(X_train, y_train)\n",
        "    y_pred = pipe_cl.predict(X_test)\n",
        "    print('Test Accuracy: %.3f' % pipe_cl.score(X_test, y_test))"
      ],
      "execution_count": null,
      "outputs": []
    },
    {
      "cell_type": "markdown",
      "metadata": {
        "id": "FXYYCtOJvT12"
      },
      "source": [
        "## Preparazione dei dati con altr frequenza di taglio (da 9 a 16 hz)"
      ]
    },
    {
      "cell_type": "code",
      "metadata": {
        "id": "-oPUFtSdvT13"
      },
      "source": [
        ""
      ],
      "execution_count": null,
      "outputs": []
    },
    {
      "cell_type": "code",
      "metadata": {
        "id": "8bMHeO1babT1"
      },
      "source": [
        "hz1=pd.read_csv(\"/content/drive/MyDrive/Dati EEG/frequenze/Freq_1_Avg_PxxAdMciHc_2.txt\",sep=\"|\",header=None)\n",
        "hz2=pd.read_csv(\"/content/drive/MyDrive/Dati EEG/frequenze/Freq_2_Avg_PxxAdMciHc_2.txt\",sep=\"|\",header=None)\n",
        "hz3=pd.read_csv(\"/content/drive/MyDrive/Dati EEG/frequenze/Freq_3_Avg_PxxAdMciHc_2.txt\",sep=\"|\",header=None)\n",
        "hz4=pd.read_csv(\"/content/drive/MyDrive/Dati EEG/frequenze/Freq_4_Avg_PxxAdMciHc_2.txt\",sep=\"|\",header=None)\n",
        "hz5=pd.read_csv(\"/content/drive/MyDrive/Dati EEG/frequenze/Freq_5_Avg_PxxAdMciHc_2.txt\",sep=\"|\",header=None)\n",
        "hz6=pd.read_csv(\"/content/drive/MyDrive/Dati EEG/frequenze/Freq_6_Avg_PxxAdMciHc_2.txt\",sep=\"|\",header=None)\n",
        "hz8=pd.read_csv(\"/content/drive/MyDrive/Dati EEG/frequenze/Freq_8_Avg_PxxAdMciHc_2.txt\",sep=\"|\",header=None)\n",
        "hz9=pd.read_csv(\"/content/drive/MyDrive/Dati EEG/frequenze/Freq_9_Avg_PxxAdMciHc_2.txt\",sep=\"|\",header=None)\n",
        "hz10=pd.read_csv(\"/content/drive/MyDrive/Dati EEG/frequenze/Freq_10_Avg_PxxAdMciHc_2.txt\",sep=\"|\",header=None)\n",
        "hz11=pd.read_csv(\"/content/drive/MyDrive/Dati EEG/frequenze/Freq_11_Avg_PxxAdMciHc_2.txt\",sep=\"|\",header=None)\n",
        "hz12=pd.read_csv(\"/content/drive/MyDrive/Dati EEG/frequenze/Freq_12_Avg_PxxAdMciHc_2.txt\",sep=\"|\",header=None)\n",
        "hz13=pd.read_csv(\"/content/drive/MyDrive/Dati EEG/frequenze/Freq_13_Avg_PxxAdMciHc_2.txt\",sep=\"|\",header=None)\n",
        "hz14=pd.read_csv(\"/content/drive/MyDrive/Dati EEG/frequenze/Freq_14_Avg_PxxAdMciHc_2.txt\",sep=\"|\",header=None)\n",
        "hz15=pd.read_csv(\"/content/drive/MyDrive/Dati EEG/frequenze/Freq_15_Avg_PxxAdMciHc_2.txt\",sep=\"|\",header=None)\n",
        "hz16=pd.read_csv(\"/content/drive/MyDrive/Dati EEG/frequenze/Freq_16_Avg_PxxAdMciHc_2.txt\",sep=\"|\",header=None)\n",
        "\n",
        "\n"
      ],
      "execution_count": null,
      "outputs": []
    },
    {
      "cell_type": "code",
      "metadata": {
        "id": "Ufwptq5PGZp4"
      },
      "source": [
        ""
      ],
      "execution_count": null,
      "outputs": []
    },
    {
      "cell_type": "code",
      "metadata": {
        "id": "621zHDU0HXKw"
      },
      "source": [
        ""
      ],
      "execution_count": null,
      "outputs": []
    },
    {
      "cell_type": "markdown",
      "metadata": {
        "id": "UM62TXsrHY9W"
      },
      "source": [
        "## Valutazione modello con altre frequenza di taglio (da 9 a 16 hz)"
      ]
    },
    {
      "cell_type": "markdown",
      "metadata": {
        "id": "ftIL30r1IPTA"
      },
      "source": [
        "### 9 hz"
      ]
    },
    {
      "cell_type": "code",
      "metadata": {
        "id": "Q2YXc2I0JQPy"
      },
      "source": [
        ""
      ],
      "execution_count": null,
      "outputs": []
    },
    {
      "cell_type": "code",
      "metadata": {
        "id": "NEy11Nl6qLve"
      },
      "source": [
        "\n",
        "y1=hz9.loc[:,0].to_numpy()\n",
        "y2=hz9.loc[:,1].to_numpy()\n",
        "y3=hz9.loc[:,2].to_numpy()\n",
        "\n"
      ],
      "execution_count": null,
      "outputs": []
    },
    {
      "cell_type": "code",
      "metadata": {
        "colab": {
          "base_uri": "https://localhost:8080/"
        },
        "id": "QWlvfPIzcgCF",
        "outputId": "e602993b-a8c8-4eb5-a05d-16b247f5b05e"
      },
      "source": [
        "y1,y2,y3,hz1"
      ],
      "execution_count": null,
      "outputs": [
        {
          "data": {
            "text/plain": [
              "(array([ 43914.4244471 , 266063.28196899,  33066.51580875,  58570.86453236,\n",
              "         21773.8436833 ,  41355.10043942,  40951.2253059 ,  31443.2283366 ,\n",
              "        105637.75776657,  36342.4142822 ,  29231.88617974,  54825.29101124,\n",
              "        220336.9656553 ,  24716.25738499,  51288.78030284,  70648.97309027,\n",
              "         56237.82434025,  43867.30877241,  17304.01616115]),\n",
              " array([ 22379.63544663,  12027.93900313,   8197.82390451,  31144.24671063,\n",
              "         46968.34411461,  24659.58270622,  23924.75215307,  12617.00674301,\n",
              "         17320.48206812,   9721.26111664,  19765.36057522,  19380.04419999,\n",
              "         15367.52802451,  49914.06217429,  13771.83711044,  18766.4319621 ,\n",
              "        136139.39857327, 112245.18110856,  60344.75340007]),\n",
              " array([4517.25296314, 3673.35077039, 1283.63893024,  678.81594379,\n",
              "         769.17363699, 6888.61617431, 1986.97986112, 1435.8017891 ,\n",
              "        3495.16899012, 1677.71220684,  740.10929211, 6173.44453993,\n",
              "        2503.42318328, 1491.65258988,  632.08487079,  690.15434302,\n",
              "        4514.09677   , 1127.16867849,  913.15281582]),\n",
              "                 0              1             2\n",
              " 0    69511.399336   26656.999306  11271.685756\n",
              " 1   105757.345280   17179.085200  13568.350097\n",
              " 2    62207.377927   12382.042357   5337.805938\n",
              " 3   104996.077067   32686.095894   2234.401491\n",
              " 4    76429.527334   24746.324541   1432.084629\n",
              " 5    78796.628317   28920.800099  17088.914982\n",
              " 6    53533.792475   30704.802120   6565.644851\n",
              " 7    40626.992755   54195.164085   3421.727252\n",
              " 8    68179.643538   22500.727305  49866.216401\n",
              " 9    67466.112359   14346.258355   5682.475346\n",
              " 10   69668.408633   26143.372509   1618.402795\n",
              " 11   77656.847684   25769.694809  13027.793497\n",
              " 12  390724.159611   16945.292970   9521.374992\n",
              " 13   83323.913830   57707.127503   5024.403881\n",
              " 14  110885.029065   17466.047416   1828.090066\n",
              " 15   89837.865290   25519.762280   1492.826784\n",
              " 16   91959.855861  210704.469776  12591.343114\n",
              " 17   92650.379563  264340.662169   5054.353894\n",
              " 18   71115.799171   34391.094318   3061.406773)"
            ]
          },
          "execution_count": 21,
          "metadata": {},
          "output_type": "execute_result"
        }
      ]
    },
    {
      "cell_type": "code",
      "metadata": {
        "id": "XU3KpKpTqLvi"
      },
      "source": [
        "x1 = np.linspace(0, 19, len(y1), endpoint=True)\n",
        "x2 = np.linspace(0, 19,len(y2), endpoint=True)\n",
        "x3 = np.linspace(0, 19,len(y3), endpoint=True)"
      ],
      "execution_count": null,
      "outputs": []
    },
    {
      "cell_type": "code",
      "metadata": {
        "colab": {
          "base_uri": "https://localhost:8080/",
          "height": 265
        },
        "id": "ombqNjnoqLvj",
        "outputId": "a30ff21d-8763-4275-9805-09c79a25fdb0"
      },
      "source": [
        "plt.plot(x1, y1, 'g')\n",
        "plt.plot(x2, y2, 'b')\n",
        "plt.plot(x3, y3, 'r')\n",
        "#plt.ylim(0,300000)\n",
        "plt.show()"
      ],
      "execution_count": null,
      "outputs": [
        {
          "data": {
            "image/png": "[encoded data removed]",
            "text/plain": [
              "<Figure size 432x288 with 1 Axes>"
            ]
          },
          "metadata": {},
          "output_type": "display_data"
        }
      ]
    },
    {
      "cell_type": "code",
      "metadata": {
        "id": "W-pDVuIXJQtB"
      },
      "source": [
        ""
      ],
      "execution_count": null,
      "outputs": []
    },
    {
      "cell_type": "code",
      "metadata": {
        "id": "lxccq__YKV7r"
      },
      "source": [
        "matriceAD = np.zeros((len(y1),2))\n",
        "matriceMCI = np.zeros((len(y2),2))\n",
        "matriceHC = np.zeros((len(y3),2))\n"
      ],
      "execution_count": null,
      "outputs": []
    },
    {
      "cell_type": "code",
      "metadata": {
        "id": "q4b3ah1gKV7r"
      },
      "source": [
        "matriceADHC = np.zeros((len(y1)+len(y3),2))\n",
        "matriceMCIHC = np.zeros((len(y2)+len(y3),2))\n",
        "matriceADMCI = np.zeros((len(y1)+len(y2),2))\n",
        "matriceCASEHC = np.zeros((len(y2)+len(y3)+len(y1),2))"
      ],
      "execution_count": null,
      "outputs": []
    },
    {
      "cell_type": "code",
      "metadata": {
        "id": "1INI_mHbKV7s"
      },
      "source": [
        "for i in range(len(y1)):\n",
        "      matriceAD[i,0]=y1[i]\n",
        "      matriceAD[i,1]=1"
      ],
      "execution_count": null,
      "outputs": []
    },
    {
      "cell_type": "code",
      "metadata": {
        "id": "CV8AR5nhKV7t"
      },
      "source": [
        "for i in range(len(y2)):\n",
        "      matriceMCI[i,0]=y2[i]\n",
        "      matriceMCI[i,1]=2"
      ],
      "execution_count": null,
      "outputs": []
    },
    {
      "cell_type": "code",
      "metadata": {
        "id": "AmiPTiTVKV7t"
      },
      "source": [
        "for i in range(len(y3)):\n",
        "      matriceHC[i,0]=y3[i]\n",
        "      matriceHC[i,1]=3"
      ],
      "execution_count": null,
      "outputs": []
    },
    {
      "cell_type": "code",
      "metadata": {
        "id": "tXO3d_hcKV7t"
      },
      "source": [
        "AD=pd.DataFrame(matriceAD)\n",
        "HC=pd.DataFrame(matriceHC)\n",
        "MCI=pd.DataFrame(matriceMCI)"
      ],
      "execution_count": null,
      "outputs": []
    },
    {
      "cell_type": "code",
      "metadata": {
        "id": "VlTnVenXKV7u"
      },
      "source": [
        "ADHC=AD.copy()\n",
        "ADHC=ADHC.append(HC,ignore_index=True)"
      ],
      "execution_count": null,
      "outputs": []
    },
    {
      "cell_type": "code",
      "metadata": {
        "id": "ggDXIjoQKV7u"
      },
      "source": [
        "ADMCI=AD.copy()\n",
        "ADMCI=ADMCI.append(MCI,ignore_index=True)"
      ],
      "execution_count": null,
      "outputs": []
    },
    {
      "cell_type": "code",
      "metadata": {
        "id": "fD1cDONNKV7u"
      },
      "source": [
        "MCIHC=MCI.copy()\n",
        "MCIHC=MCIHC.append(HC,ignore_index=True)"
      ],
      "execution_count": null,
      "outputs": []
    },
    {
      "cell_type": "code",
      "metadata": {
        "id": "BNbAD0weKV7u"
      },
      "source": [
        "CASEHC=AD.copy()\n",
        "CASEHC=CASEHC.append(MCI,ignore_index=True)\n",
        "CASEHC=CASEHC.append(HC,ignore_index=True)"
      ],
      "execution_count": null,
      "outputs": []
    },
    {
      "cell_type": "code",
      "metadata": {
        "id": "AYbV04O3JRFi"
      },
      "source": [
        ""
      ],
      "execution_count": null,
      "outputs": []
    },
    {
      "cell_type": "markdown",
      "metadata": {
        "id": "2_uI75sWHY9X"
      },
      "source": [
        "#### Caso1 AD vs HCF"
      ]
    },
    {
      "cell_type": "code",
      "metadata": {
        "id": "h8LHPDBXHY9X"
      },
      "source": [
        "df=ADHC.loc[:,0]\n",
        "\n",
        "X = df.to_numpy()\n",
        "\n",
        "Y = ADHC.loc[:,1]\n",
        "y = Y.to_numpy()"
      ],
      "execution_count": null,
      "outputs": []
    },
    {
      "cell_type": "code",
      "metadata": {
        "id": "v_0MyoJYHY9Y"
      },
      "source": [
        "y = np.where(y == 1, 1, 0)"
      ],
      "execution_count": null,
      "outputs": []
    },
    {
      "cell_type": "code",
      "metadata": {
        "colab": {
          "base_uri": "https://localhost:8080/"
        },
        "id": "7H_AnmA4HY9Y",
        "outputId": "fb1b8262-72fa-432d-cd15-18f00eb3e18d"
      },
      "source": [
        "X,y"
      ],
      "execution_count": null,
      "outputs": [
        {
          "data": {
            "text/plain": [
              "(array([ 43914.4244471 , 266063.28196899,  33066.51580875,  58570.86453236,\n",
              "         21773.8436833 ,  41355.10043942,  40951.2253059 ,  31443.2283366 ,\n",
              "        105637.75776657,  36342.4142822 ,  29231.88617974,  54825.29101124,\n",
              "        220336.9656553 ,  24716.25738499,  51288.78030284,  70648.97309027,\n",
              "         56237.82434025,  43867.30877241,  17304.01616115,   4517.25296314,\n",
              "          3673.35077039,   1283.63893024,    678.81594379,    769.17363699,\n",
              "          6888.61617431,   1986.97986112,   1435.8017891 ,   3495.16899012,\n",
              "          1677.71220684,    740.10929211,   6173.44453993,   2503.42318328,\n",
              "          1491.65258988,    632.08487079,    690.15434302,   4514.09677   ,\n",
              "          1127.16867849,    913.15281582]),\n",
              " array([1, 1, 1, 1, 1, 1, 1, 1, 1, 1, 1, 1, 1, 1, 1, 1, 1, 1, 1, 0, 0, 0,\n",
              "        0, 0, 0, 0, 0, 0, 0, 0, 0, 0, 0, 0, 0, 0, 0, 0]))"
            ]
          },
          "execution_count": 36,
          "metadata": {},
          "output_type": "execute_result"
        }
      ]
    },
    {
      "cell_type": "code",
      "metadata": {
        "id": "K3VfeUvsHY9n"
      },
      "source": [
        "df=ADHC.loc[:,0]\n",
        "\n",
        "X = df.to_numpy()\n",
        "\n",
        "Y = ADHC.loc[:,1]\n",
        "y = Y.to_numpy()\n",
        "y = np.where(y == 1, 1, 0)\n",
        "#from sklearn.model_selection import train_test_split\n",
        "\n",
        "\n",
        "X_train, X_test, y_train, y_test = train_test_split(X, y, test_size=0.3,stratify=y,random_state=42)\n",
        "\n",
        "#pca = PCA(n_components=2)\n",
        "\n",
        "#X_train_pca = pca.fit_transform(X_train)\n",
        "#X_test_pca = pca.transform(X_test)\n",
        "\n",
        "X_train_caso1=X_train\n",
        "X_test_caso1=X_test\n",
        "y_train_caso1=y_train\n",
        "y_test_caso1=y_test\n",
        "\n"
      ],
      "execution_count": null,
      "outputs": []
    },
    {
      "cell_type": "code",
      "metadata": {
        "id": "t-JKfy0pHY9o"
      },
      "source": [
        "X_train_caso1=X_train_caso1.reshape(-1,1)\n",
        "X_test_caso1=X_test_caso1.reshape(-1,1)\n",
        "y_train_caso1=y_train_caso1.reshape(-1,1)\n",
        "y_test_caso1=y_test_caso1.reshape(-1,1)\n"
      ],
      "execution_count": null,
      "outputs": []
    },
    {
      "cell_type": "code",
      "metadata": {
        "id": "EYPeOWZRHY9o"
      },
      "source": [
        ""
      ],
      "execution_count": null,
      "outputs": []
    },
    {
      "cell_type": "code",
      "metadata": {
        "colab": {
          "base_uri": "https://localhost:8080/"
        },
        "id": "-q4aK5MsHY9o",
        "outputId": "dc7b82a0-5308-4da5-b7f0-a57b5771e190"
      },
      "source": [
        "tuning_albero_decisione(1,5)"
      ],
      "execution_count": null,
      "outputs": [
        {
          "name": "stdout",
          "output_type": "stream",
          "text": [
            "Fitting 5 folds for each of 216 candidates, totalling 1080 fits\n"
          ]
        },
        {
          "name": "stderr",
          "output_type": "stream",
          "text": [
            "[Parallel(n_jobs=-1)]: Using backend LokyBackend with 2 concurrent workers.\n"
          ]
        },
        {
          "name": "stdout",
          "output_type": "stream",
          "text": [
            "Accuratezza fase di Cross Validation con dati di Addestramento/Validazione: 1.000\n",
            "{'criterion': 'gini', 'max_depth': 3, 'min_samples_leaf': 1, 'min_samples_split': 2, 'min_weight_fraction_leaf': 0}\n",
            "Accuratezza con dati di Test: 1.000\n",
            "Risultato sui dati di test:\n",
            "              precision    recall  f1-score   support\n",
            "\n",
            "           0       1.00      1.00      1.00         6\n",
            "           1       1.00      1.00      1.00         6\n",
            "\n",
            "    accuracy                           1.00        12\n",
            "   macro avg       1.00      1.00      1.00        12\n",
            "weighted avg       1.00      1.00      1.00        12\n",
            "\n",
            "[[6 0]\n",
            " [0 6]]\n",
            "Accuratezza Test: 100.000\n",
            "Precisione  Test: 100.000\n",
            "Sensitività Test: 100.000\n",
            "Specificità Test: 100.000\n",
            "F1 score    Test: 100.000\n"
          ]
        },
        {
          "name": "stderr",
          "output_type": "stream",
          "text": [
            "[Parallel(n_jobs=-1)]: Done 912 tasks      | elapsed:    2.3s\n",
            "[Parallel(n_jobs=-1)]: Done 1080 out of 1080 | elapsed:    2.5s finished\n"
          ]
        }
      ]
    },
    {
      "cell_type": "code",
      "metadata": {
        "colab": {
          "base_uri": "https://localhost:8080/"
        },
        "id": "4DBKKrVPHY9p",
        "outputId": "79442bcd-d6fd-432b-c772-d7706be09a80"
      },
      "source": [
        "tuning_SVM(1,5)"
      ],
      "execution_count": null,
      "outputs": [
        {
          "name": "stderr",
          "output_type": "stream",
          "text": [
            "/usr/local/lib/python3.7/dist-packages/sklearn/model_selection/_search.py:281: UserWarning:\n",
            "\n",
            "The total space of parameters 2 is smaller than n_iter=20. Running 2 iterations. For exhaustive searches, use GridSearchCV.\n",
            "\n",
            "[Parallel(n_jobs=-1)]: Using backend LokyBackend with 2 concurrent workers.\n"
          ]
        },
        {
          "name": "stdout",
          "output_type": "stream",
          "text": [
            "Fitting 5 folds for each of 2 candidates, totalling 10 fits\n",
            "Accuratezza fase di Cross Validation con dati di Addestramento/Validazione: 1.000\n",
            "{'kernel': 'linear'}\n",
            "Accuratezza con dati di Test: 1.000\n",
            "Risultato sui dati di test:\n",
            "              precision    recall  f1-score   support\n",
            "\n",
            "           0       1.00      1.00      1.00         6\n",
            "           1       1.00      1.00      1.00         6\n",
            "\n",
            "    accuracy                           1.00        12\n",
            "   macro avg       1.00      1.00      1.00        12\n",
            "weighted avg       1.00      1.00      1.00        12\n",
            "\n",
            "[[6 0]\n",
            " [0 6]]\n",
            "Accuratezza Test: 100.000\n",
            "Precisione  Test: 100.000\n",
            "Sensitività Test: 100.000\n",
            "Specificità Test: 100.000\n",
            "F1 score    Test: 100.000\n"
          ]
        },
        {
          "name": "stderr",
          "output_type": "stream",
          "text": [
            "[Parallel(n_jobs=-1)]: Done  10 out of  10 | elapsed:    0.0s finished\n",
            "/usr/local/lib/python3.7/dist-packages/sklearn/utils/validation.py:760: DataConversionWarning:\n",
            "\n",
            "A column-vector y was passed when a 1d array was expected. Please change the shape of y to (n_samples, ), for example using ravel().\n",
            "\n"
          ]
        }
      ]
    },
    {
      "cell_type": "code",
      "metadata": {
        "id": "rxToP04iHY9p"
      },
      "source": [
        "#tuning_foresta(1,10)"
      ],
      "execution_count": null,
      "outputs": []
    },
    {
      "cell_type": "code",
      "metadata": {
        "id": "Hq00-d1WHY9s"
      },
      "source": [
        "#tuning_albero_decisione_CV(1,10)"
      ],
      "execution_count": null,
      "outputs": []
    },
    {
      "cell_type": "code",
      "metadata": {
        "id": "xEtPO9DHHY9s"
      },
      "source": [
        "#tuning_SVM_CV(1,10)"
      ],
      "execution_count": null,
      "outputs": []
    },
    {
      "cell_type": "code",
      "metadata": {
        "id": "38xVoiaGHY9s"
      },
      "source": [
        "#validazione_incrociata_kfold(1,10,1)"
      ],
      "execution_count": null,
      "outputs": []
    },
    {
      "cell_type": "code",
      "metadata": {
        "id": "078xWBd3HY9s"
      },
      "source": [
        "#validazione_incrociata_kfold(1,10,2)"
      ],
      "execution_count": null,
      "outputs": []
    },
    {
      "cell_type": "code",
      "metadata": {
        "id": "uSbQjdc6HY9t"
      },
      "source": [
        "#validazione_incrociata_score(1,10,1)"
      ],
      "execution_count": null,
      "outputs": []
    },
    {
      "cell_type": "code",
      "metadata": {
        "id": "kTs66qiBHY9t"
      },
      "source": [
        "#validazione_incrociata_score(1,10,2)"
      ],
      "execution_count": null,
      "outputs": []
    },
    {
      "cell_type": "code",
      "metadata": {
        "id": "aiTzPwsVHY9t"
      },
      "source": [
        "#prova_pipeline(1,2)"
      ],
      "execution_count": null,
      "outputs": []
    },
    {
      "cell_type": "code",
      "metadata": {
        "id": "1fCofss-HY9u"
      },
      "source": [
        ""
      ],
      "execution_count": null,
      "outputs": []
    },
    {
      "cell_type": "code",
      "metadata": {
        "colab": {
          "base_uri": "https://localhost:8080/"
        },
        "id": "TTW6dsb0HY9u",
        "outputId": "9a07ca84-2ddd-444c-c463-7d4d593888ff"
      },
      "source": [
        "tuning_KNN(1,5)"
      ],
      "execution_count": null,
      "outputs": [
        {
          "name": "stdout",
          "output_type": "stream",
          "text": [
            "Fitting 5 folds for each of 16 candidates, totalling 80 fits\n"
          ]
        },
        {
          "name": "stderr",
          "output_type": "stream",
          "text": [
            "[Parallel(n_jobs=-1)]: Using backend LokyBackend with 2 concurrent workers.\n"
          ]
        },
        {
          "name": "stdout",
          "output_type": "stream",
          "text": [
            "Accuratezza fase di Cross Validation con dati di Addestramento/Validazione: 1.000\n",
            "{'algorithm': 'auto', 'n_neighbors': 5, 'weights': 'distance'}\n",
            "Accuratezza con dati di Test: 1.000\n",
            "Risultato sui dati di test:\n",
            "              precision    recall  f1-score   support\n",
            "\n",
            "           0       1.00      1.00      1.00         6\n",
            "           1       1.00      1.00      1.00         6\n",
            "\n",
            "    accuracy                           1.00        12\n",
            "   macro avg       1.00      1.00      1.00        12\n",
            "weighted avg       1.00      1.00      1.00        12\n",
            "\n",
            "[[6 0]\n",
            " [0 6]]\n",
            "Accuratezza Test: 100.000\n",
            "Precisione  Test: 100.000\n",
            "Sensitività Test: 100.000\n",
            "Specificità Test: 100.000\n",
            "F1 score    Test: 100.000\n"
          ]
        },
        {
          "name": "stderr",
          "output_type": "stream",
          "text": [
            "[Parallel(n_jobs=-1)]: Done  80 out of  80 | elapsed:    0.2s finished\n",
            "/usr/local/lib/python3.7/dist-packages/sklearn/model_selection/_search.py:739: DataConversionWarning:\n",
            "\n",
            "A column-vector y was passed when a 1d array was expected. Please change the shape of y to (n_samples, ), for example using ravel().\n",
            "\n"
          ]
        }
      ]
    },
    {
      "cell_type": "code",
      "metadata": {
        "id": "oQqDENz4HY9u"
      },
      "source": [
        "#tuning_MP(1,5)"
      ],
      "execution_count": null,
      "outputs": []
    },
    {
      "cell_type": "code",
      "metadata": {
        "colab": {
          "base_uri": "https://localhost:8080/"
        },
        "id": "7j5tyf0sHY9v",
        "outputId": "60cd9c30-331b-4bb1-beb7-71b2712d0dff"
      },
      "source": [
        "#tuning_LR(1,5)"
      ],
      "execution_count": null,
      "outputs": [
        {
          "name": "stderr",
          "output_type": "stream",
          "text": [
            "[Parallel(n_jobs=-1)]: Using backend LokyBackend with 2 concurrent workers.\n"
          ]
        },
        {
          "name": "stdout",
          "output_type": "stream",
          "text": [
            "Fitting 5 folds for each of 14 candidates, totalling 70 fits\n",
            "Accuratezza fase di Cross Validation con dati di Addestramento/Validazione: 1.000\n",
            "I migliori parametri trvati sono :\n",
            " {'C': 0.001, 'penalty': 'l2'}\n",
            "Accuratezza con dati di Test: 1.000\n",
            "Risultato sui dati di test:\n",
            "              precision    recall  f1-score   support\n",
            "\n",
            "           0       1.00      1.00      1.00         6\n",
            "           1       1.00      1.00      1.00         6\n",
            "\n",
            "    accuracy                           1.00        12\n",
            "   macro avg       1.00      1.00      1.00        12\n",
            "weighted avg       1.00      1.00      1.00        12\n",
            "\n",
            "[[6 0]\n",
            " [0 6]]\n",
            "Accuratezza Test: 100.000\n",
            "Precisione  Test: 0.000\n",
            "Sensitività Test: 100.000\n",
            "Specificità Test: 100.000\n",
            "F1 score    Test: 0.000\n"
          ]
        },
        {
          "name": "stderr",
          "output_type": "stream",
          "text": [
            "[Parallel(n_jobs=-1)]: Done  70 out of  70 | elapsed:    0.4s finished\n",
            "/usr/local/lib/python3.7/dist-packages/sklearn/utils/validation.py:760: DataConversionWarning:\n",
            "\n",
            "A column-vector y was passed when a 1d array was expected. Please change the shape of y to (n_samples, ), for example using ravel().\n",
            "\n"
          ]
        }
      ]
    },
    {
      "cell_type": "code",
      "metadata": {
        "id": "AxJMu5geHY9v"
      },
      "source": [
        "#tuning_foresta(1,5)"
      ],
      "execution_count": null,
      "outputs": []
    },
    {
      "cell_type": "code",
      "metadata": {
        "id": "cUYR8EQyHY9v"
      },
      "source": [
        ""
      ],
      "execution_count": null,
      "outputs": []
    },
    {
      "cell_type": "markdown",
      "metadata": {
        "id": "Dy-R6Uz1HY9w"
      },
      "source": [
        "#### Caso2 AD vs MCI"
      ]
    },
    {
      "cell_type": "code",
      "metadata": {
        "id": "ESzMqmLYHY9w"
      },
      "source": [
        ""
      ],
      "execution_count": null,
      "outputs": []
    },
    {
      "cell_type": "code",
      "metadata": {
        "id": "ZHgABZiiHY9w"
      },
      "source": [
        "\n",
        "df=ADMCI.loc[:,0]\n",
        "\n",
        "X = df.to_numpy()\n",
        "\n",
        "Y = ADMCI.loc[:,1]\n",
        "y = Y.to_numpy()\n",
        "y = np.where(y == 1, 1, 0)\n",
        "#from sklearn.model_selection import train_test_split\n",
        "\n",
        "X_train, X_test, y_train, y_test = train_test_split(X, y, test_size=0.3,stratify=y,random_state=42)\n",
        "\n",
        "#pca = PCA(n_components=5)\n",
        "\n",
        "#X_train_pca = pca.fit_transform(X_train)\n",
        "#X_test_pca = pca.transform(X_test)\n",
        "\n",
        "X_train_caso2=X_train\n",
        "X_test_caso2=X_test\n",
        "y_train_caso2=y_train\n",
        "y_test_caso2=y_test"
      ],
      "execution_count": null,
      "outputs": []
    },
    {
      "cell_type": "code",
      "metadata": {
        "id": "Gn-qwWd_HY9x"
      },
      "source": [
        "X_train_caso2=X_train_caso2.reshape(-1,1)\n",
        "X_test_caso2=X_test_caso2.reshape(-1,1)\n",
        "y_train_caso2=y_train_caso2.reshape(-1,1)\n",
        "y_test_caso2=y_test_caso2.reshape(-1,1)"
      ],
      "execution_count": null,
      "outputs": []
    },
    {
      "cell_type": "code",
      "metadata": {
        "colab": {
          "base_uri": "https://localhost:8080/"
        },
        "id": "IL9GhlVmHY9x",
        "outputId": "74c9ef12-f3d8-4daf-9edc-7d8b513d20a3"
      },
      "source": [
        "tuning_albero_decisione(2,5)"
      ],
      "execution_count": null,
      "outputs": [
        {
          "name": "stderr",
          "output_type": "stream",
          "text": [
            "[Parallel(n_jobs=-1)]: Using backend LokyBackend with 2 concurrent workers.\n"
          ]
        },
        {
          "name": "stdout",
          "output_type": "stream",
          "text": [
            "Fitting 5 folds for each of 216 candidates, totalling 1080 fits\n",
            "Accuratezza fase di Cross Validation con dati di Addestramento/Validazione: 0.627\n",
            "{'criterion': 'entropy', 'max_depth': 3, 'min_samples_leaf': 2, 'min_samples_split': 2, 'min_weight_fraction_leaf': 0}\n",
            "Accuratezza con dati di Test: 0.750\n",
            "Risultato sui dati di test:\n",
            "              precision    recall  f1-score   support\n",
            "\n",
            "           0       0.71      0.83      0.77         6\n",
            "           1       0.80      0.67      0.73         6\n",
            "\n",
            "    accuracy                           0.75        12\n",
            "   macro avg       0.76      0.75      0.75        12\n",
            "weighted avg       0.76      0.75      0.75        12\n",
            "\n",
            "[[5 1]\n",
            " [2 4]]\n",
            "Accuratezza Test: 75.000\n",
            "Precisione  Test: 71.000\n",
            "Sensitività Test: 83.000\n",
            "Specificità Test: 66.000\n",
            "F1 score    Test: 76.000\n"
          ]
        },
        {
          "name": "stderr",
          "output_type": "stream",
          "text": [
            "[Parallel(n_jobs=-1)]: Done 1062 tasks      | elapsed:    1.2s\n",
            "[Parallel(n_jobs=-1)]: Done 1077 out of 1080 | elapsed:    1.3s remaining:    0.0s\n",
            "[Parallel(n_jobs=-1)]: Done 1080 out of 1080 | elapsed:    1.3s finished\n"
          ]
        }
      ]
    },
    {
      "cell_type": "code",
      "metadata": {
        "colab": {
          "base_uri": "https://localhost:8080/"
        },
        "id": "T_bvHY8LHY9x",
        "outputId": "2a960fe7-f738-4173-c577-9d398f1e4f71"
      },
      "source": [
        "tuning_SVM(2,5)"
      ],
      "execution_count": null,
      "outputs": [
        {
          "name": "stderr",
          "output_type": "stream",
          "text": [
            "/usr/local/lib/python3.7/dist-packages/sklearn/model_selection/_search.py:281: UserWarning:\n",
            "\n",
            "The total space of parameters 2 is smaller than n_iter=20. Running 2 iterations. For exhaustive searches, use GridSearchCV.\n",
            "\n",
            "[Parallel(n_jobs=-1)]: Using backend LokyBackend with 2 concurrent workers.\n"
          ]
        },
        {
          "name": "stdout",
          "output_type": "stream",
          "text": [
            "Fitting 5 folds for each of 2 candidates, totalling 10 fits\n",
            "Accuratezza fase di Cross Validation con dati di Addestramento/Validazione: 0.667\n",
            "{'kernel': 'rbf'}\n",
            "Accuratezza con dati di Test: 0.750\n",
            "Risultato sui dati di test:\n",
            "              precision    recall  f1-score   support\n",
            "\n",
            "           0       0.71      0.83      0.77         6\n",
            "           1       0.80      0.67      0.73         6\n",
            "\n",
            "    accuracy                           0.75        12\n",
            "   macro avg       0.76      0.75      0.75        12\n",
            "weighted avg       0.76      0.75      0.75        12\n",
            "\n",
            "[[5 1]\n",
            " [2 4]]\n",
            "Accuratezza Test: 75.000\n",
            "Precisione  Test: 71.000\n",
            "Sensitività Test: 83.000\n",
            "Specificità Test: 66.000\n",
            "F1 score    Test: 76.000\n"
          ]
        },
        {
          "name": "stderr",
          "output_type": "stream",
          "text": [
            "[Parallel(n_jobs=-1)]: Done  10 out of  10 | elapsed:   35.9s finished\n",
            "/usr/local/lib/python3.7/dist-packages/sklearn/utils/validation.py:760: DataConversionWarning:\n",
            "\n",
            "A column-vector y was passed when a 1d array was expected. Please change the shape of y to (n_samples, ), for example using ravel().\n",
            "\n"
          ]
        }
      ]
    },
    {
      "cell_type": "code",
      "metadata": {
        "id": "wlTNGJulHY9y"
      },
      "source": [
        "#tuning_foresta(2,10)"
      ],
      "execution_count": null,
      "outputs": []
    },
    {
      "cell_type": "code",
      "metadata": {
        "id": "iRUhDLOCHY9y"
      },
      "source": [
        "#tuning_albero_decisione_CV(2,10)"
      ],
      "execution_count": null,
      "outputs": []
    },
    {
      "cell_type": "code",
      "metadata": {
        "id": "sRDiH0vOHY9y"
      },
      "source": [
        "#tuning_SVM_CV(2,10)"
      ],
      "execution_count": null,
      "outputs": []
    },
    {
      "cell_type": "code",
      "metadata": {
        "id": "j_dmZDYLHY9z"
      },
      "source": [
        "#validazione_incrociata_kfold(2,10,1)"
      ],
      "execution_count": null,
      "outputs": []
    },
    {
      "cell_type": "code",
      "metadata": {
        "id": "3RM0U8vZHY9z"
      },
      "source": [
        "#validazione_incrociata_kfold(2,10,2)"
      ],
      "execution_count": null,
      "outputs": []
    },
    {
      "cell_type": "code",
      "metadata": {
        "id": "aU5_bKxuHY9z"
      },
      "source": [
        "#validazione_incrociata_score(2,10,1)"
      ],
      "execution_count": null,
      "outputs": []
    },
    {
      "cell_type": "code",
      "metadata": {
        "id": "u2yvzBm-HY90"
      },
      "source": [
        "#validazione_incrociata_score(2,10,2)"
      ],
      "execution_count": null,
      "outputs": []
    },
    {
      "cell_type": "code",
      "metadata": {
        "id": "KJ18gPpWHY90"
      },
      "source": [
        "#prova_pipeline(2,2)"
      ],
      "execution_count": null,
      "outputs": []
    },
    {
      "cell_type": "code",
      "metadata": {
        "id": "7X7CnNBYHY90"
      },
      "source": [
        "#exec_trad(2,1)"
      ],
      "execution_count": null,
      "outputs": []
    },
    {
      "cell_type": "code",
      "metadata": {
        "id": "OeqwEcNFHY91"
      },
      "source": [
        "#exec_trad(2,2)"
      ],
      "execution_count": null,
      "outputs": []
    },
    {
      "cell_type": "code",
      "metadata": {
        "colab": {
          "base_uri": "https://localhost:8080/"
        },
        "id": "VSjudgfmHY91",
        "outputId": "b994691e-1a3c-4397-c183-6cc566ee910f"
      },
      "source": [
        "tuning_KNN(2,5)"
      ],
      "execution_count": null,
      "outputs": [
        {
          "name": "stderr",
          "output_type": "stream",
          "text": [
            "[Parallel(n_jobs=-1)]: Using backend LokyBackend with 2 concurrent workers.\n"
          ]
        },
        {
          "name": "stdout",
          "output_type": "stream",
          "text": [
            "Fitting 5 folds for each of 16 candidates, totalling 80 fits\n",
            "Accuratezza fase di Cross Validation con dati di Addestramento/Validazione: 0.633\n",
            "{'algorithm': 'auto', 'n_neighbors': 5, 'weights': 'uniform'}\n",
            "Accuratezza con dati di Test: 0.750\n",
            "Risultato sui dati di test:\n",
            "              precision    recall  f1-score   support\n",
            "\n",
            "           0       0.71      0.83      0.77         6\n",
            "           1       0.80      0.67      0.73         6\n",
            "\n",
            "    accuracy                           0.75        12\n",
            "   macro avg       0.76      0.75      0.75        12\n",
            "weighted avg       0.76      0.75      0.75        12\n",
            "\n",
            "[[5 1]\n",
            " [2 4]]\n",
            "Accuratezza Test: 75.000\n",
            "Precisione  Test: 71.000\n",
            "Sensitività Test: 83.000\n",
            "Specificità Test: 66.000\n",
            "F1 score    Test: 76.000\n"
          ]
        },
        {
          "name": "stderr",
          "output_type": "stream",
          "text": [
            "[Parallel(n_jobs=-1)]: Done  80 out of  80 | elapsed:    0.2s finished\n",
            "/usr/local/lib/python3.7/dist-packages/sklearn/model_selection/_search.py:739: DataConversionWarning:\n",
            "\n",
            "A column-vector y was passed when a 1d array was expected. Please change the shape of y to (n_samples, ), for example using ravel().\n",
            "\n"
          ]
        }
      ]
    },
    {
      "cell_type": "code",
      "metadata": {
        "id": "1GueyLKpHY91"
      },
      "source": [
        "#tuning_MP(2,10)"
      ],
      "execution_count": null,
      "outputs": []
    },
    {
      "cell_type": "code",
      "metadata": {
        "colab": {
          "base_uri": "https://localhost:8080/"
        },
        "id": "veQbHYSFHY92",
        "outputId": "1cdc1622-489c-4f46-a074-44066d82c716"
      },
      "source": [
        "#tuning_LR(2,5)"
      ],
      "execution_count": null,
      "outputs": [
        {
          "name": "stderr",
          "output_type": "stream",
          "text": [
            "[Parallel(n_jobs=-1)]: Using backend LokyBackend with 2 concurrent workers.\n",
            "[Parallel(n_jobs=-1)]: Done  70 out of  70 | elapsed:    0.2s finished\n",
            "/usr/local/lib/python3.7/dist-packages/sklearn/utils/validation.py:760: DataConversionWarning:\n",
            "\n",
            "A column-vector y was passed when a 1d array was expected. Please change the shape of y to (n_samples, ), for example using ravel().\n",
            "\n"
          ]
        },
        {
          "name": "stdout",
          "output_type": "stream",
          "text": [
            "Fitting 5 folds for each of 14 candidates, totalling 70 fits\n",
            "Accuratezza fase di Cross Validation con dati di Addestramento/Validazione: 0.420\n",
            "I migliori parametri trvati sono :\n",
            " {'C': 0.001, 'penalty': 'l2'}\n",
            "Accuratezza con dati di Test: 0.500\n",
            "Risultato sui dati di test:\n",
            "              precision    recall  f1-score   support\n",
            "\n",
            "           0       0.00      0.00      0.00         6\n",
            "           1       0.50      1.00      0.67         6\n",
            "\n",
            "    accuracy                           0.50        12\n",
            "   macro avg       0.25      0.50      0.33        12\n",
            "weighted avg       0.25      0.50      0.33        12\n",
            "\n",
            "[[0 6]\n",
            " [0 6]]\n",
            "Accuratezza Test: 50.000\n",
            "Precisione  Test: 0.000\n",
            "Sensitività Test: 0.000\n",
            "Specificità Test: 100.000\n",
            "F1 score    Test: 0.000\n"
          ]
        },
        {
          "name": "stderr",
          "output_type": "stream",
          "text": [
            "/usr/local/lib/python3.7/dist-packages/sklearn/metrics/_classification.py:1272: UndefinedMetricWarning:\n",
            "\n",
            "Precision and F-score are ill-defined and being set to 0.0 in labels with no predicted samples. Use `zero_division` parameter to control this behavior.\n",
            "\n"
          ]
        }
      ]
    },
    {
      "cell_type": "markdown",
      "metadata": {
        "id": "p72RYkjwHY92"
      },
      "source": [
        "<br>\n",
        "<br>"
      ]
    },
    {
      "cell_type": "markdown",
      "metadata": {
        "id": "-EtB-brXHY92"
      },
      "source": [
        "<br>\n",
        "<br>"
      ]
    },
    {
      "cell_type": "code",
      "metadata": {
        "id": "ZHwacI4OHY93"
      },
      "source": [
        "#tuning_foresta(2,10)"
      ],
      "execution_count": null,
      "outputs": []
    },
    {
      "cell_type": "markdown",
      "metadata": {
        "id": "dBQ0El5QHY96"
      },
      "source": [
        "#### Caso3 MCI vs HCF"
      ]
    },
    {
      "cell_type": "code",
      "metadata": {
        "id": "EztTZG_WHY96"
      },
      "source": [
        ""
      ],
      "execution_count": null,
      "outputs": []
    },
    {
      "cell_type": "code",
      "metadata": {
        "id": "eMpAz7YEHY96"
      },
      "source": [
        "\n",
        "df=MCIHC.loc[:,0]\n",
        "\n",
        "X = df.to_numpy()\n",
        "\n",
        "Y = MCIHC.loc[:,1]\n",
        "y = Y.to_numpy()\n",
        "y = np.where(y == 2, 1, 0)\n",
        "\n",
        "#from sklearn.model_selection import train_test_split\n",
        "\n",
        "\n",
        "X_train, X_test, y_train, y_test = train_test_split(X, y, test_size=0.3,stratify=y,random_state=42)\n",
        "\n",
        "#pca = PCA(n_components=2)\n",
        "\n",
        "#X_train_pca = pca.fit_transform(X_train)\n",
        "#X_test_pca = pca.transform(X_test)\n",
        "\n",
        "X_train_caso3=X_train\n",
        "X_test_caso3=X_test\n",
        "y_train_caso3=y_train\n",
        "y_test_caso3=y_test"
      ],
      "execution_count": null,
      "outputs": []
    },
    {
      "cell_type": "code",
      "metadata": {
        "id": "JaXfRSDAHY97"
      },
      "source": [
        "X_train_caso3=X_train_caso3.reshape(-1,1)\n",
        "X_test_caso3=X_test_caso3.reshape(-1,1)\n",
        "y_train_caso3=y_train_caso3.reshape(-1,1)\n",
        "y_test_caso3=y_test_caso3.reshape(-1,1)"
      ],
      "execution_count": null,
      "outputs": []
    },
    {
      "cell_type": "code",
      "metadata": {
        "colab": {
          "base_uri": "https://localhost:8080/"
        },
        "id": "KDfTaplhHY97",
        "outputId": "f85732c1-8869-4525-84ee-cc2d16443b6c"
      },
      "source": [
        "tuning_albero_decisione(3,5)"
      ],
      "execution_count": null,
      "outputs": [
        {
          "name": "stdout",
          "output_type": "stream",
          "text": [
            "Fitting 5 folds for each of 216 candidates, totalling 1080 fits\n"
          ]
        },
        {
          "name": "stderr",
          "output_type": "stream",
          "text": [
            "[Parallel(n_jobs=-1)]: Using backend LokyBackend with 2 concurrent workers.\n"
          ]
        },
        {
          "name": "stdout",
          "output_type": "stream",
          "text": [
            "Accuratezza fase di Cross Validation con dati di Addestramento/Validazione: 0.960\n",
            "{'criterion': 'gini', 'max_depth': 3, 'min_samples_leaf': 1, 'min_samples_split': 2, 'min_weight_fraction_leaf': 0}\n",
            "Accuratezza con dati di Test: 1.000\n",
            "Risultato sui dati di test:\n",
            "              precision    recall  f1-score   support\n",
            "\n",
            "           0       1.00      1.00      1.00         6\n",
            "           1       1.00      1.00      1.00         6\n",
            "\n",
            "    accuracy                           1.00        12\n",
            "   macro avg       1.00      1.00      1.00        12\n",
            "weighted avg       1.00      1.00      1.00        12\n",
            "\n",
            "[[6 0]\n",
            " [0 6]]\n",
            "Accuratezza Test: 100.000\n",
            "Precisione  Test: 100.000\n",
            "Sensitività Test: 100.000\n",
            "Specificità Test: 100.000\n",
            "F1 score    Test: 100.000\n"
          ]
        },
        {
          "name": "stderr",
          "output_type": "stream",
          "text": [
            "[Parallel(n_jobs=-1)]: Done 1062 tasks      | elapsed:    1.3s\n",
            "[Parallel(n_jobs=-1)]: Done 1077 out of 1080 | elapsed:    1.3s remaining:    0.0s\n",
            "[Parallel(n_jobs=-1)]: Done 1080 out of 1080 | elapsed:    1.3s finished\n"
          ]
        }
      ]
    },
    {
      "cell_type": "code",
      "metadata": {
        "colab": {
          "base_uri": "https://localhost:8080/"
        },
        "id": "rAbWLgoAHY97",
        "outputId": "5c345623-96c7-4684-bd49-67f2e029d6f1"
      },
      "source": [
        "tuning_SVM(3,5)"
      ],
      "execution_count": null,
      "outputs": [
        {
          "name": "stdout",
          "output_type": "stream",
          "text": [
            "Fitting 5 folds for each of 2 candidates, totalling 10 fits\n",
            "Accuratezza fase di Cross Validation con dati di Addestramento/Validazione: 0.960\n",
            "{'kernel': 'linear'}\n",
            "Accuratezza con dati di Test: 1.000\n",
            "Risultato sui dati di test:\n",
            "              precision    recall  f1-score   support\n",
            "\n",
            "           0       1.00      1.00      1.00         6\n",
            "           1       1.00      1.00      1.00         6\n",
            "\n",
            "    accuracy                           1.00        12\n",
            "   macro avg       1.00      1.00      1.00        12\n",
            "weighted avg       1.00      1.00      1.00        12\n",
            "\n",
            "[[6 0]\n",
            " [0 6]]\n",
            "Accuratezza Test: 100.000\n",
            "Precisione  Test: 100.000\n",
            "Sensitività Test: 100.000\n",
            "Specificità Test: 100.000\n",
            "F1 score    Test: 100.000\n"
          ]
        },
        {
          "name": "stderr",
          "output_type": "stream",
          "text": [
            "/usr/local/lib/python3.7/dist-packages/sklearn/model_selection/_search.py:281: UserWarning:\n",
            "\n",
            "The total space of parameters 2 is smaller than n_iter=20. Running 2 iterations. For exhaustive searches, use GridSearchCV.\n",
            "\n",
            "[Parallel(n_jobs=-1)]: Using backend LokyBackend with 2 concurrent workers.\n",
            "[Parallel(n_jobs=-1)]: Done  10 out of  10 | elapsed:    0.0s finished\n",
            "/usr/local/lib/python3.7/dist-packages/sklearn/utils/validation.py:760: DataConversionWarning:\n",
            "\n",
            "A column-vector y was passed when a 1d array was expected. Please change the shape of y to (n_samples, ), for example using ravel().\n",
            "\n"
          ]
        }
      ]
    },
    {
      "cell_type": "code",
      "metadata": {
        "id": "nkPHlId5HY98"
      },
      "source": [
        "#tuning_albero_decisione_CV(3,10)"
      ],
      "execution_count": null,
      "outputs": []
    },
    {
      "cell_type": "code",
      "metadata": {
        "id": "81r_7gPXHY98"
      },
      "source": [
        "#tuning_SVM_CV(3,10)"
      ],
      "execution_count": null,
      "outputs": []
    },
    {
      "cell_type": "code",
      "metadata": {
        "id": "tWLaRx0lHY99"
      },
      "source": [
        "#validazione_incrociata_kfold(3,10,1)"
      ],
      "execution_count": null,
      "outputs": []
    },
    {
      "cell_type": "code",
      "metadata": {
        "id": "5210zIBQHY99"
      },
      "source": [
        "#validazione_incrociata_kfold(3,10,2)"
      ],
      "execution_count": null,
      "outputs": []
    },
    {
      "cell_type": "code",
      "metadata": {
        "id": "4K-070bRHY99"
      },
      "source": [
        "#validazione_incrociata_score(3,10,1)"
      ],
      "execution_count": null,
      "outputs": []
    },
    {
      "cell_type": "code",
      "metadata": {
        "id": "cqcRW7JyHY99"
      },
      "source": [
        "#validazione_incrociata_score(3,10,2)"
      ],
      "execution_count": null,
      "outputs": []
    },
    {
      "cell_type": "code",
      "metadata": {
        "id": "2-v9qMqvHY9-"
      },
      "source": [
        "#prova_pipeline(3,2)"
      ],
      "execution_count": null,
      "outputs": []
    },
    {
      "cell_type": "code",
      "metadata": {
        "id": "t1VSESGQHY9-"
      },
      "source": [
        "#exec_trad(3,1)"
      ],
      "execution_count": null,
      "outputs": []
    },
    {
      "cell_type": "code",
      "metadata": {
        "id": "jiSboiQKHY9-"
      },
      "source": [
        "#exec_trad(3,2)"
      ],
      "execution_count": null,
      "outputs": []
    },
    {
      "cell_type": "code",
      "metadata": {
        "colab": {
          "base_uri": "https://localhost:8080/"
        },
        "id": "rK035LiAHY9_",
        "outputId": "34ace76d-5d70-479e-9c20-66722e0617b0"
      },
      "source": [
        "tuning_KNN(3,5)"
      ],
      "execution_count": null,
      "outputs": [
        {
          "name": "stderr",
          "output_type": "stream",
          "text": [
            "[Parallel(n_jobs=-1)]: Using backend LokyBackend with 2 concurrent workers.\n"
          ]
        },
        {
          "name": "stdout",
          "output_type": "stream",
          "text": [
            "Fitting 5 folds for each of 16 candidates, totalling 80 fits\n",
            "Accuratezza fase di Cross Validation con dati di Addestramento/Validazione: 0.960\n",
            "{'algorithm': 'auto', 'n_neighbors': 5, 'weights': 'uniform'}\n",
            "Accuratezza con dati di Test: 1.000\n",
            "Risultato sui dati di test:\n",
            "              precision    recall  f1-score   support\n",
            "\n",
            "           0       1.00      1.00      1.00         6\n",
            "           1       1.00      1.00      1.00         6\n",
            "\n",
            "    accuracy                           1.00        12\n",
            "   macro avg       1.00      1.00      1.00        12\n",
            "weighted avg       1.00      1.00      1.00        12\n",
            "\n",
            "[[6 0]\n",
            " [0 6]]\n",
            "Accuratezza Test: 100.000\n",
            "Precisione  Test: 100.000\n",
            "Sensitività Test: 100.000\n",
            "Specificità Test: 100.000\n",
            "F1 score    Test: 100.000\n"
          ]
        },
        {
          "name": "stderr",
          "output_type": "stream",
          "text": [
            "[Parallel(n_jobs=-1)]: Done  80 out of  80 | elapsed:    0.2s finished\n",
            "/usr/local/lib/python3.7/dist-packages/sklearn/model_selection/_search.py:739: DataConversionWarning:\n",
            "\n",
            "A column-vector y was passed when a 1d array was expected. Please change the shape of y to (n_samples, ), for example using ravel().\n",
            "\n"
          ]
        }
      ]
    },
    {
      "cell_type": "code",
      "metadata": {
        "id": "inn24YyKHY9_"
      },
      "source": [
        "#tuning_MP(3,10)"
      ],
      "execution_count": null,
      "outputs": []
    },
    {
      "cell_type": "code",
      "metadata": {
        "colab": {
          "base_uri": "https://localhost:8080/"
        },
        "id": "VO6a0Q5NHY9_",
        "outputId": "77f80739-4f75-4891-d88d-e1a477c162b7"
      },
      "source": [
        "#tuning_LR(3,5)"
      ],
      "execution_count": null,
      "outputs": [
        {
          "name": "stderr",
          "output_type": "stream",
          "text": [
            "[Parallel(n_jobs=-1)]: Using backend LokyBackend with 2 concurrent workers.\n"
          ]
        },
        {
          "name": "stdout",
          "output_type": "stream",
          "text": [
            "Fitting 5 folds for each of 14 candidates, totalling 70 fits\n",
            "Accuratezza fase di Cross Validation con dati di Addestramento/Validazione: 0.960\n",
            "I migliori parametri trvati sono :\n",
            " {'C': 0.001, 'penalty': 'l2'}\n",
            "Accuratezza con dati di Test: 1.000\n",
            "Risultato sui dati di test:\n",
            "              precision    recall  f1-score   support\n",
            "\n",
            "           0       1.00      1.00      1.00         6\n",
            "           1       1.00      1.00      1.00         6\n",
            "\n",
            "    accuracy                           1.00        12\n",
            "   macro avg       1.00      1.00      1.00        12\n",
            "weighted avg       1.00      1.00      1.00        12\n",
            "\n",
            "[[6 0]\n",
            " [0 6]]\n",
            "Accuratezza Test: 100.000\n",
            "Precisione  Test: 0.000\n",
            "Sensitività Test: 100.000\n",
            "Specificità Test: 100.000\n",
            "F1 score    Test: 0.000\n"
          ]
        },
        {
          "name": "stderr",
          "output_type": "stream",
          "text": [
            "[Parallel(n_jobs=-1)]: Done  70 out of  70 | elapsed:    0.4s finished\n",
            "/usr/local/lib/python3.7/dist-packages/sklearn/utils/validation.py:760: DataConversionWarning:\n",
            "\n",
            "A column-vector y was passed when a 1d array was expected. Please change the shape of y to (n_samples, ), for example using ravel().\n",
            "\n"
          ]
        }
      ]
    },
    {
      "cell_type": "code",
      "metadata": {
        "id": "ia7ZlXRRHY-A"
      },
      "source": [
        "#tuning_foresta(3,10)"
      ],
      "execution_count": null,
      "outputs": []
    },
    {
      "cell_type": "code",
      "metadata": {
        "id": "ouYf-SJXHY-A"
      },
      "source": [
        ""
      ],
      "execution_count": null,
      "outputs": []
    },
    {
      "cell_type": "markdown",
      "metadata": {
        "id": "J5FND3LCHY-A"
      },
      "source": [
        "#### Caso4 CASE vs HCF"
      ]
    },
    {
      "cell_type": "code",
      "metadata": {
        "id": "y8j4utczHY-B"
      },
      "source": [
        ""
      ],
      "execution_count": null,
      "outputs": []
    },
    {
      "cell_type": "code",
      "metadata": {
        "id": "4mkD1BKwHY-B"
      },
      "source": [
        "df=CASEHC.loc[:,0]\n",
        "\n",
        "X = df.to_numpy()\n",
        "\n",
        "Y = CASEHC.loc[:,1]\n",
        "y = Y.to_numpy()\n",
        "y = np.where(y == 3, 1, 0)\n",
        "#from sklearn.model_selection import train_test_split\n",
        "\n",
        "\n",
        "X_train, X_test, y_train, y_test = train_test_split(X, y, test_size=0.3,stratify=y,random_state=42)\n",
        "\n",
        "#pca = PCA(n_components=2)\n",
        "\n",
        "#X_train_pca = pca.fit_transform(X_train)\n",
        "#X_test_pca = pca.transform(X_test)\n",
        "\n",
        "X_train_caso4=X_train\n",
        "X_test_caso4=X_test\n",
        "y_train_caso4=y_train\n",
        "y_test_caso4=y_test"
      ],
      "execution_count": null,
      "outputs": []
    },
    {
      "cell_type": "code",
      "metadata": {
        "id": "pKLdVvczHY-B"
      },
      "source": [
        "X_train_caso4=X_train_caso4.reshape(-1,1)\n",
        "X_test_caso4=X_test_caso4.reshape(-1,1)\n",
        "y_train_caso4=y_train_caso4.reshape(-1,1)\n",
        "y_test_caso4=y_test_caso4.reshape(-1,1)"
      ],
      "execution_count": null,
      "outputs": []
    },
    {
      "cell_type": "code",
      "metadata": {
        "colab": {
          "base_uri": "https://localhost:8080/"
        },
        "id": "YZXUtgulHY-D",
        "outputId": "95ce7cae-0e68-4ec6-8be2-68c653c4e4be"
      },
      "source": [
        "tuning_albero_decisione(4,5)"
      ],
      "execution_count": null,
      "outputs": [
        {
          "name": "stderr",
          "output_type": "stream",
          "text": [
            "[Parallel(n_jobs=-1)]: Using backend LokyBackend with 2 concurrent workers.\n"
          ]
        },
        {
          "name": "stdout",
          "output_type": "stream",
          "text": [
            "Fitting 5 folds for each of 216 candidates, totalling 1080 fits\n",
            "Accuratezza fase di Cross Validation con dati di Addestramento/Validazione: 0.975\n",
            "{'criterion': 'gini', 'max_depth': 3, 'min_samples_leaf': 1, 'min_samples_split': 2, 'min_weight_fraction_leaf': 0}\n",
            "Accuratezza con dati di Test: 1.000\n",
            "Risultato sui dati di test:\n",
            "              precision    recall  f1-score   support\n",
            "\n",
            "           0       1.00      1.00      1.00        12\n",
            "           1       1.00      1.00      1.00         6\n",
            "\n",
            "    accuracy                           1.00        18\n",
            "   macro avg       1.00      1.00      1.00        18\n",
            "weighted avg       1.00      1.00      1.00        18\n",
            "\n",
            "[[12  0]\n",
            " [ 0  6]]\n",
            "Accuratezza Test: 100.000\n",
            "Precisione  Test: 100.000\n",
            "Sensitività Test: 100.000\n",
            "Specificità Test: 100.000\n",
            "F1 score    Test: 100.000\n"
          ]
        },
        {
          "name": "stderr",
          "output_type": "stream",
          "text": [
            "[Parallel(n_jobs=-1)]: Done 1080 out of 1080 | elapsed:    1.2s finished\n"
          ]
        }
      ]
    },
    {
      "cell_type": "code",
      "metadata": {
        "colab": {
          "base_uri": "https://localhost:8080/"
        },
        "id": "s31ML8g7HY-E",
        "outputId": "dfe4d557-6a3a-45d0-ef2d-40246ce50bc5"
      },
      "source": [
        "tuning_SVM(4,5)"
      ],
      "execution_count": null,
      "outputs": [
        {
          "name": "stdout",
          "output_type": "stream",
          "text": [
            "Fitting 5 folds for each of 2 candidates, totalling 10 fits\n",
            "Accuratezza fase di Cross Validation con dati di Addestramento/Validazione: 0.975\n",
            "{'kernel': 'linear'}\n",
            "Accuratezza con dati di Test: 1.000\n",
            "Risultato sui dati di test:\n",
            "              precision    recall  f1-score   support\n",
            "\n",
            "           0       1.00      1.00      1.00        12\n",
            "           1       1.00      1.00      1.00         6\n",
            "\n",
            "    accuracy                           1.00        18\n",
            "   macro avg       1.00      1.00      1.00        18\n",
            "weighted avg       1.00      1.00      1.00        18\n",
            "\n",
            "[[12  0]\n",
            " [ 0  6]]\n",
            "Accuratezza Test: 100.000\n",
            "Precisione  Test: 100.000\n",
            "Sensitività Test: 100.000\n",
            "Specificità Test: 100.000\n",
            "F1 score    Test: 100.000\n"
          ]
        },
        {
          "name": "stderr",
          "output_type": "stream",
          "text": [
            "/usr/local/lib/python3.7/dist-packages/sklearn/model_selection/_search.py:281: UserWarning:\n",
            "\n",
            "The total space of parameters 2 is smaller than n_iter=20. Running 2 iterations. For exhaustive searches, use GridSearchCV.\n",
            "\n",
            "[Parallel(n_jobs=-1)]: Using backend LokyBackend with 2 concurrent workers.\n",
            "[Parallel(n_jobs=-1)]: Done   7 out of  10 | elapsed:    0.0s remaining:    0.0s\n",
            "[Parallel(n_jobs=-1)]: Done  10 out of  10 | elapsed:    0.0s finished\n",
            "/usr/local/lib/python3.7/dist-packages/sklearn/utils/validation.py:760: DataConversionWarning:\n",
            "\n",
            "A column-vector y was passed when a 1d array was expected. Please change the shape of y to (n_samples, ), for example using ravel().\n",
            "\n"
          ]
        }
      ]
    },
    {
      "cell_type": "code",
      "metadata": {
        "id": "ExQdOb6tHY-E"
      },
      "source": [
        "#tuning_albero_decisione_CV(4,10)"
      ],
      "execution_count": null,
      "outputs": []
    },
    {
      "cell_type": "code",
      "metadata": {
        "id": "oJhHXuYAHY-F"
      },
      "source": [
        "#tuning_SVM_CV(4,10)"
      ],
      "execution_count": null,
      "outputs": []
    },
    {
      "cell_type": "code",
      "metadata": {
        "id": "AGVFqDT9HY-G"
      },
      "source": [
        "#validazione_incrociata_kfold(4,10,1)"
      ],
      "execution_count": null,
      "outputs": []
    },
    {
      "cell_type": "code",
      "metadata": {
        "id": "cdm-8IxLHY-G"
      },
      "source": [
        "#validazione_incrociata_kfold(4,10,2)"
      ],
      "execution_count": null,
      "outputs": []
    },
    {
      "cell_type": "code",
      "metadata": {
        "id": "zwiXm_p6HY-G"
      },
      "source": [
        "#validazione_incrociata_score(4,10,1)"
      ],
      "execution_count": null,
      "outputs": []
    },
    {
      "cell_type": "code",
      "metadata": {
        "id": "lSPWcm8tHY-G"
      },
      "source": [
        "#validazione_incrociata_score(4,10,2)"
      ],
      "execution_count": null,
      "outputs": []
    },
    {
      "cell_type": "code",
      "metadata": {
        "id": "4gM4U6rvHY-H"
      },
      "source": [
        "#prova_pipeline(4,2)"
      ],
      "execution_count": null,
      "outputs": []
    },
    {
      "cell_type": "code",
      "metadata": {
        "id": "X9gzSyaCHY-H"
      },
      "source": [
        "#exec_trad(4,1)"
      ],
      "execution_count": null,
      "outputs": []
    },
    {
      "cell_type": "code",
      "metadata": {
        "id": "55JxyTKdHY-H"
      },
      "source": [
        "#exec_trad(4,2)"
      ],
      "execution_count": null,
      "outputs": []
    },
    {
      "cell_type": "code",
      "metadata": {
        "colab": {
          "base_uri": "https://localhost:8080/"
        },
        "id": "h1HyOPWDHY-I",
        "outputId": "4eff40f9-ded7-433d-8609-92cdebd43f42"
      },
      "source": [
        "tuning_KNN(4,5)"
      ],
      "execution_count": null,
      "outputs": [
        {
          "name": "stderr",
          "output_type": "stream",
          "text": [
            "[Parallel(n_jobs=-1)]: Using backend LokyBackend with 2 concurrent workers.\n"
          ]
        },
        {
          "name": "stdout",
          "output_type": "stream",
          "text": [
            "Fitting 5 folds for each of 16 candidates, totalling 80 fits\n",
            "Accuratezza fase di Cross Validation con dati di Addestramento/Validazione: 0.975\n",
            "{'algorithm': 'auto', 'n_neighbors': 5, 'weights': 'uniform'}\n",
            "Accuratezza con dati di Test: 1.000\n",
            "Risultato sui dati di test:\n",
            "              precision    recall  f1-score   support\n",
            "\n",
            "           0       1.00      1.00      1.00        12\n",
            "           1       1.00      1.00      1.00         6\n",
            "\n",
            "    accuracy                           1.00        18\n",
            "   macro avg       1.00      1.00      1.00        18\n",
            "weighted avg       1.00      1.00      1.00        18\n",
            "\n",
            "[[12  0]\n",
            " [ 0  6]]\n",
            "Accuratezza Test: 100.000\n",
            "Precisione  Test: 100.000\n",
            "Sensitività Test: 100.000\n",
            "Specificità Test: 100.000\n",
            "F1 score    Test: 100.000\n"
          ]
        },
        {
          "name": "stderr",
          "output_type": "stream",
          "text": [
            "[Parallel(n_jobs=-1)]: Done  80 out of  80 | elapsed:    0.2s finished\n",
            "/usr/local/lib/python3.7/dist-packages/sklearn/model_selection/_search.py:739: DataConversionWarning:\n",
            "\n",
            "A column-vector y was passed when a 1d array was expected. Please change the shape of y to (n_samples, ), for example using ravel().\n",
            "\n"
          ]
        }
      ]
    },
    {
      "cell_type": "code",
      "metadata": {
        "id": "bfWquvzaHY-I"
      },
      "source": [
        "#tuning_MP(4,10)"
      ],
      "execution_count": null,
      "outputs": []
    },
    {
      "cell_type": "code",
      "metadata": {
        "colab": {
          "base_uri": "https://localhost:8080/"
        },
        "id": "TL5QhscEHY-J",
        "outputId": "2bf3aa69-68da-4ba0-cdf7-142d42b12344"
      },
      "source": [
        "#tuning_LR(4,5)"
      ],
      "execution_count": null,
      "outputs": [
        {
          "name": "stderr",
          "output_type": "stream",
          "text": [
            "[Parallel(n_jobs=-1)]: Using backend LokyBackend with 2 concurrent workers.\n"
          ]
        },
        {
          "name": "stdout",
          "output_type": "stream",
          "text": [
            "Fitting 5 folds for each of 14 candidates, totalling 70 fits\n",
            "Accuratezza fase di Cross Validation con dati di Addestramento/Validazione: 0.975\n",
            "I migliori parametri trvati sono :\n",
            " {'C': 0.001, 'penalty': 'l2'}\n",
            "Accuratezza con dati di Test: 1.000\n",
            "Risultato sui dati di test:\n",
            "              precision    recall  f1-score   support\n",
            "\n",
            "           0       1.00      1.00      1.00        12\n",
            "           1       1.00      1.00      1.00         6\n",
            "\n",
            "    accuracy                           1.00        18\n",
            "   macro avg       1.00      1.00      1.00        18\n",
            "weighted avg       1.00      1.00      1.00        18\n",
            "\n",
            "[[12  0]\n",
            " [ 0  6]]\n",
            "Accuratezza Test: 100.000\n",
            "Precisione  Test: 0.000\n",
            "Sensitività Test: 100.000\n",
            "Specificità Test: 100.000\n",
            "F1 score    Test: 0.000\n"
          ]
        },
        {
          "name": "stderr",
          "output_type": "stream",
          "text": [
            "[Parallel(n_jobs=-1)]: Done  70 out of  70 | elapsed:    0.5s finished\n",
            "/usr/local/lib/python3.7/dist-packages/sklearn/utils/validation.py:760: DataConversionWarning:\n",
            "\n",
            "A column-vector y was passed when a 1d array was expected. Please change the shape of y to (n_samples, ), for example using ravel().\n",
            "\n"
          ]
        }
      ]
    },
    {
      "cell_type": "code",
      "metadata": {
        "id": "j_QeO6A1HY-J"
      },
      "source": [
        "#tuning_foresta(4,10)"
      ],
      "execution_count": null,
      "outputs": []
    },
    {
      "cell_type": "markdown",
      "metadata": {
        "id": "EG7SG6RRHY-J"
      },
      "source": [
        "<br>\n",
        "<br>"
      ]
    },
    {
      "cell_type": "code",
      "metadata": {
        "id": "mPyvxR0bHY-N"
      },
      "source": [
        ""
      ],
      "execution_count": null,
      "outputs": []
    },
    {
      "cell_type": "code",
      "metadata": {
        "id": "h-UdfQKvHY-N"
      },
      "source": [
        ""
      ],
      "execution_count": null,
      "outputs": []
    },
    {
      "cell_type": "code",
      "metadata": {
        "id": "ZNjIrXk4VuOJ"
      },
      "source": [
        ""
      ],
      "execution_count": null,
      "outputs": []
    },
    {
      "cell_type": "markdown",
      "metadata": {
        "id": "UBH2AnBqWXwQ"
      },
      "source": [
        "### 10 hz"
      ]
    },
    {
      "cell_type": "code",
      "metadata": {
        "id": "_YjP2KmCWXwR"
      },
      "source": [
        ""
      ],
      "execution_count": null,
      "outputs": []
    },
    {
      "cell_type": "code",
      "metadata": {
        "id": "fJhpxEUdWXwR"
      },
      "source": [
        "\n",
        "y1=hz10.loc[:,0].to_numpy()\n",
        "y2=hz10.loc[:,1].to_numpy()\n",
        "y3=hz10.loc[:,2].to_numpy()\n",
        "\n"
      ],
      "execution_count": null,
      "outputs": []
    },
    {
      "cell_type": "code",
      "metadata": {
        "id": "7VE9BxR7dZm_"
      },
      "source": [
        ""
      ],
      "execution_count": null,
      "outputs": []
    },
    {
      "cell_type": "code",
      "metadata": {
        "colab": {
          "base_uri": "https://localhost:8080/"
        },
        "id": "BjQgukGzdZ-9",
        "outputId": "7f16b973-6dfb-4b28-9264-304b4b9191bc"
      },
      "source": [
        "y1,y2,y3,hz2"
      ],
      "execution_count": null,
      "outputs": [
        {
          "data": {
            "text/plain": [
              "(array([ 50682.31978664, 273013.94004451,  38754.53504556,  65274.29851265,\n",
              "         27804.19038706,  48984.51045147,  44867.79004291,  34904.18988617,\n",
              "        108707.87892858,  42139.28012214,  35139.11261899,  62432.74928516,\n",
              "        256014.51167242,  31398.71609776,  64193.68583109,  78237.42988516,\n",
              "         58331.12570566,  51973.04318241,  22504.64365344]),\n",
              " array([ 24998.2053162 ,  13882.00109232,   9599.95132591,  33561.77472365,\n",
              "         49614.60765203,  27992.45729151,  26711.93876183,  14942.85348063,\n",
              "         19401.14873908,  11355.44850789,  22072.8124201 ,  21837.30339913,\n",
              "         17346.17972531,  53136.42616971,  15183.75560259,  20429.77350308,\n",
              "        144712.33263523, 145352.16428351,  63855.22324571]),\n",
              " array([6456.50509038, 5415.07809418, 1997.4971545 ,  991.51494123,\n",
              "         988.38096583, 9379.47546145, 3226.79489999, 1848.32940927,\n",
              "        6896.75371521, 2550.88744396,  973.70061706, 8342.43144583,\n",
              "        3836.08620085, 2220.41266291,  902.42440082,  896.85063677,\n",
              "        6068.34614531, 1770.84742717, 1275.79153645]),\n",
              "                 0              1             2\n",
              " 0    26426.785394    9041.392791   5704.387563\n",
              " 1    13869.913183    6912.437897   8257.559530\n",
              " 2    22446.200397    5234.994934   3551.701222\n",
              " 3    63950.291855   21506.195145   1256.490818\n",
              " 4    31537.980796   26174.562198    784.611561\n",
              " 5    31130.559966   12279.735090  11068.913649\n",
              " 6    28025.547101   18927.101375   3997.839560\n",
              " 7    12353.531251   34132.081421   1829.384441\n",
              " 8    15973.939133   11077.118692  31994.654187\n",
              " 9    24770.096859    6197.990727   3695.587957\n",
              " 10   31648.879974   12673.509032    815.873915\n",
              " 11   26622.050882    9746.072359   6651.982297\n",
              " 12  296896.238834    7492.392282   6161.108162\n",
              " 13   36568.443827   11765.314399   3296.305857\n",
              " 14   40856.987244    9251.526877    974.372276\n",
              " 15   24671.740152   17383.617164    896.355773\n",
              " 16   51208.528294  143252.872747   7672.943619\n",
              " 17   33618.741012  133341.529246   3217.283282\n",
              " 18   31726.570596   21503.911717   1965.097511)"
            ]
          },
          "execution_count": 106,
          "metadata": {},
          "output_type": "execute_result"
        }
      ]
    },
    {
      "cell_type": "code",
      "metadata": {
        "id": "bRE7Vk82WXwR"
      },
      "source": [
        "x1 = np.linspace(0, 19, len(y1), endpoint=True)\n",
        "x2 = np.linspace(0, 19,len(y2), endpoint=True)\n",
        "x3 = np.linspace(0, 19,len(y3), endpoint=True)"
      ],
      "execution_count": null,
      "outputs": []
    },
    {
      "cell_type": "code",
      "metadata": {
        "colab": {
          "base_uri": "https://localhost:8080/",
          "height": 265
        },
        "id": "_Y0DKzX4WXwS",
        "outputId": "2d960bc0-285c-49b2-dc53-832a5563d215"
      },
      "source": [
        "plt.plot(x1, y1, 'g')\n",
        "plt.plot(x2, y2, 'b')\n",
        "plt.plot(x3, y3, 'r')\n",
        "#plt.ylim(0,300000)\n",
        "plt.show()"
      ],
      "execution_count": null,
      "outputs": [
        {
          "data": {
            "image/png": "[encoded data removed]",
            "text/plain": [
              "<Figure size 432x288 with 1 Axes>"
            ]
          },
          "metadata": {},
          "output_type": "display_data"
        }
      ]
    },
    {
      "cell_type": "code",
      "metadata": {
        "id": "6i8M4oHwWXwS"
      },
      "source": [
        ""
      ],
      "execution_count": null,
      "outputs": []
    },
    {
      "cell_type": "code",
      "metadata": {
        "id": "xmduIy0AWXwS"
      },
      "source": [
        "matriceAD = np.zeros((len(y1),2))\n",
        "matriceMCI = np.zeros((len(y2),2))\n",
        "matriceHC = np.zeros((len(y3),2))\n"
      ],
      "execution_count": null,
      "outputs": []
    },
    {
      "cell_type": "code",
      "metadata": {
        "id": "-vJHq-hYWXwS"
      },
      "source": [
        "matriceADHC = np.zeros((len(y1)+len(y3),2))\n",
        "matriceMCIHC = np.zeros((len(y2)+len(y3),2))\n",
        "matriceADMCI = np.zeros((len(y1)+len(y2),2))\n",
        "matriceCASEHC = np.zeros((len(y2)+len(y3)+len(y1),2))"
      ],
      "execution_count": null,
      "outputs": []
    },
    {
      "cell_type": "code",
      "metadata": {
        "id": "MUHjbfUCWXwT"
      },
      "source": [
        "for i in range(len(y1)):\n",
        "      matriceAD[i,0]=y1[i]\n",
        "      matriceAD[i,1]=1"
      ],
      "execution_count": null,
      "outputs": []
    },
    {
      "cell_type": "code",
      "metadata": {
        "id": "ErdVNxXMWXwT"
      },
      "source": [
        "for i in range(len(y2)):\n",
        "      matriceMCI[i,0]=y2[i]\n",
        "      matriceMCI[i,1]=2"
      ],
      "execution_count": null,
      "outputs": []
    },
    {
      "cell_type": "code",
      "metadata": {
        "id": "jGuH8LEDWXwT"
      },
      "source": [
        "for i in range(len(y3)):\n",
        "      matriceHC[i,0]=y3[i]\n",
        "      matriceHC[i,1]=3"
      ],
      "execution_count": null,
      "outputs": []
    },
    {
      "cell_type": "code",
      "metadata": {
        "id": "FR0wOFcfWXwU"
      },
      "source": [
        "AD=pd.DataFrame(matriceAD)\n",
        "HC=pd.DataFrame(matriceHC)\n",
        "MCI=pd.DataFrame(matriceMCI)"
      ],
      "execution_count": null,
      "outputs": []
    },
    {
      "cell_type": "code",
      "metadata": {
        "id": "YfiMTfZNWXwU"
      },
      "source": [
        "ADHC=AD.copy()\n",
        "ADHC=ADHC.append(HC,ignore_index=True)"
      ],
      "execution_count": null,
      "outputs": []
    },
    {
      "cell_type": "code",
      "metadata": {
        "id": "1uEPfzeFWXwU"
      },
      "source": [
        "ADMCI=AD.copy()\n",
        "ADMCI=ADMCI.append(MCI,ignore_index=True)"
      ],
      "execution_count": null,
      "outputs": []
    },
    {
      "cell_type": "code",
      "metadata": {
        "id": "foHS2y6mWXwU"
      },
      "source": [
        "MCIHC=MCI.copy()\n",
        "MCIHC=MCIHC.append(HC,ignore_index=True)"
      ],
      "execution_count": null,
      "outputs": []
    },
    {
      "cell_type": "code",
      "metadata": {
        "id": "M2LLSw9AWXwV"
      },
      "source": [
        "CASEHC=AD.copy()\n",
        "CASEHC=CASEHC.append(MCI,ignore_index=True)\n",
        "CASEHC=CASEHC.append(HC,ignore_index=True)"
      ],
      "execution_count": null,
      "outputs": []
    },
    {
      "cell_type": "code",
      "metadata": {
        "id": "fWygkZ0cWXwV"
      },
      "source": [
        ""
      ],
      "execution_count": null,
      "outputs": []
    },
    {
      "cell_type": "markdown",
      "metadata": {
        "id": "Z1pypxgwWXwV"
      },
      "source": [
        "#### Caso1 AD vs HCF"
      ]
    },
    {
      "cell_type": "code",
      "metadata": {
        "id": "Zr_gVW49WXwV"
      },
      "source": [
        "df=ADHC.loc[:,0]\n",
        "\n",
        "X = df.to_numpy()\n",
        "\n",
        "Y = ADHC.loc[:,1]\n",
        "y = Y.to_numpy()"
      ],
      "execution_count": null,
      "outputs": []
    },
    {
      "cell_type": "code",
      "metadata": {
        "id": "l15vfWh5WXwW"
      },
      "source": [
        "y = np.where(y == 1, 1, 0)"
      ],
      "execution_count": null,
      "outputs": []
    },
    {
      "cell_type": "code",
      "metadata": {
        "colab": {
          "base_uri": "https://localhost:8080/"
        },
        "id": "QA-DR-IiWXwW",
        "outputId": "ed4c5193-b337-4f44-b2d3-7ce6ed913e1d"
      },
      "source": [
        "X,y"
      ],
      "execution_count": null,
      "outputs": [
        {
          "data": {
            "text/plain": [
              "(array([ 50682.31978664, 273013.94004451,  38754.53504556,  65274.29851265,\n",
              "         27804.19038706,  48984.51045147,  44867.79004291,  34904.18988617,\n",
              "        108707.87892858,  42139.28012214,  35139.11261899,  62432.74928516,\n",
              "        256014.51167242,  31398.71609776,  64193.68583109,  78237.42988516,\n",
              "         58331.12570566,  51973.04318241,  22504.64365344,   6456.50509038,\n",
              "          5415.07809418,   1997.4971545 ,    991.51494123,    988.38096583,\n",
              "          9379.47546145,   3226.79489999,   1848.32940927,   6896.75371521,\n",
              "          2550.88744396,    973.70061706,   8342.43144583,   3836.08620085,\n",
              "          2220.41266291,    902.42440082,    896.85063677,   6068.34614531,\n",
              "          1770.84742717,   1275.79153645]),\n",
              " array([1, 1, 1, 1, 1, 1, 1, 1, 1, 1, 1, 1, 1, 1, 1, 1, 1, 1, 1, 0, 0, 0,\n",
              "        0, 0, 0, 0, 0, 0, 0, 0, 0, 0, 0, 0, 0, 0, 0, 0]))"
            ]
          },
          "execution_count": 121,
          "metadata": {},
          "output_type": "execute_result"
        }
      ]
    },
    {
      "cell_type": "code",
      "metadata": {
        "id": "3KPmLbXAWXwW"
      },
      "source": [
        "df=ADHC.loc[:,0]\n",
        "\n",
        "X = df.to_numpy()\n",
        "\n",
        "Y = ADHC.loc[:,1]\n",
        "y = Y.to_numpy()\n",
        "y = np.where(y == 1, 1, 0)\n",
        "#from sklearn.model_selection import train_test_split\n",
        "\n",
        "\n",
        "X_train, X_test, y_train, y_test = train_test_split(X, y, test_size=0.3,stratify=y,random_state=42)\n",
        "\n",
        "#pca = PCA(n_components=2)\n",
        "\n",
        "#X_train_pca = pca.fit_transform(X_train)\n",
        "#X_test_pca = pca.transform(X_test)\n",
        "\n",
        "X_train_caso1=X_train\n",
        "X_test_caso1=X_test\n",
        "y_train_caso1=y_train\n",
        "y_test_caso1=y_test\n",
        "\n"
      ],
      "execution_count": null,
      "outputs": []
    },
    {
      "cell_type": "code",
      "metadata": {
        "id": "sMh3GzXNWXwW"
      },
      "source": [
        "X_train_caso1=X_train_caso1.reshape(-1,1)\n",
        "X_test_caso1=X_test_caso1.reshape(-1,1)\n",
        "y_train_caso1=y_train_caso1.reshape(-1,1)\n",
        "y_test_caso1=y_test_caso1.reshape(-1,1)\n"
      ],
      "execution_count": null,
      "outputs": []
    },
    {
      "cell_type": "code",
      "metadata": {
        "id": "Q1rG6AS7WXwX"
      },
      "source": [
        ""
      ],
      "execution_count": null,
      "outputs": []
    },
    {
      "cell_type": "code",
      "metadata": {
        "colab": {
          "base_uri": "https://localhost:8080/"
        },
        "id": "GS17Tg-vWXwX",
        "outputId": "663fab26-965f-4d67-aeba-5301491d00dc"
      },
      "source": [
        "tuning_albero_decisione(1,5)"
      ],
      "execution_count": null,
      "outputs": [
        {
          "name": "stdout",
          "output_type": "stream",
          "text": [
            "Fitting 5 folds for each of 216 candidates, totalling 1080 fits\n"
          ]
        },
        {
          "name": "stderr",
          "output_type": "stream",
          "text": [
            "[Parallel(n_jobs=-1)]: Using backend LokyBackend with 2 concurrent workers.\n"
          ]
        },
        {
          "name": "stdout",
          "output_type": "stream",
          "text": [
            "Accuratezza fase di Cross Validation con dati di Addestramento/Validazione: 1.000\n",
            "{'criterion': 'gini', 'max_depth': 3, 'min_samples_leaf': 1, 'min_samples_split': 2, 'min_weight_fraction_leaf': 0}\n",
            "Accuratezza con dati di Test: 1.000\n",
            "Risultato sui dati di test:\n",
            "              precision    recall  f1-score   support\n",
            "\n",
            "           0       1.00      1.00      1.00         6\n",
            "           1       1.00      1.00      1.00         6\n",
            "\n",
            "    accuracy                           1.00        12\n",
            "   macro avg       1.00      1.00      1.00        12\n",
            "weighted avg       1.00      1.00      1.00        12\n",
            "\n",
            "[[6 0]\n",
            " [0 6]]\n",
            "Accuratezza Test: 100.000\n",
            "Precisione  Test: 100.000\n",
            "Sensitività Test: 100.000\n",
            "Specificità Test: 100.000\n",
            "F1 score    Test: 100.000\n"
          ]
        },
        {
          "name": "stderr",
          "output_type": "stream",
          "text": [
            "[Parallel(n_jobs=-1)]: Done 1065 tasks      | elapsed:    1.2s\n",
            "[Parallel(n_jobs=-1)]: Done 1077 out of 1080 | elapsed:    1.2s remaining:    0.0s\n",
            "[Parallel(n_jobs=-1)]: Done 1080 out of 1080 | elapsed:    1.2s finished\n"
          ]
        }
      ]
    },
    {
      "cell_type": "code",
      "metadata": {
        "colab": {
          "base_uri": "https://localhost:8080/"
        },
        "id": "8LGqFL95WXwX",
        "outputId": "324c0ec5-cc31-4890-f544-6df5bc9c1ca2"
      },
      "source": [
        "tuning_SVM(1,5)"
      ],
      "execution_count": null,
      "outputs": [
        {
          "name": "stdout",
          "output_type": "stream",
          "text": [
            "Fitting 5 folds for each of 2 candidates, totalling 10 fits\n",
            "Accuratezza fase di Cross Validation con dati di Addestramento/Validazione: 1.000\n",
            "{'kernel': 'linear'}\n",
            "Accuratezza con dati di Test: 1.000\n",
            "Risultato sui dati di test:\n",
            "              precision    recall  f1-score   support\n",
            "\n",
            "           0       1.00      1.00      1.00         6\n",
            "           1       1.00      1.00      1.00         6\n",
            "\n",
            "    accuracy                           1.00        12\n",
            "   macro avg       1.00      1.00      1.00        12\n",
            "weighted avg       1.00      1.00      1.00        12\n",
            "\n",
            "[[6 0]\n",
            " [0 6]]\n",
            "Accuratezza Test: 100.000\n",
            "Precisione  Test: 100.000\n",
            "Sensitività Test: 100.000\n",
            "Specificità Test: 100.000\n",
            "F1 score    Test: 100.000\n"
          ]
        },
        {
          "name": "stderr",
          "output_type": "stream",
          "text": [
            "/usr/local/lib/python3.7/dist-packages/sklearn/model_selection/_search.py:281: UserWarning:\n",
            "\n",
            "The total space of parameters 2 is smaller than n_iter=20. Running 2 iterations. For exhaustive searches, use GridSearchCV.\n",
            "\n",
            "[Parallel(n_jobs=-1)]: Using backend LokyBackend with 2 concurrent workers.\n",
            "[Parallel(n_jobs=-1)]: Done   7 out of  10 | elapsed:    0.0s remaining:    0.0s\n",
            "[Parallel(n_jobs=-1)]: Done  10 out of  10 | elapsed:    0.0s finished\n",
            "/usr/local/lib/python3.7/dist-packages/sklearn/utils/validation.py:760: DataConversionWarning:\n",
            "\n",
            "A column-vector y was passed when a 1d array was expected. Please change the shape of y to (n_samples, ), for example using ravel().\n",
            "\n"
          ]
        }
      ]
    },
    {
      "cell_type": "code",
      "metadata": {
        "id": "MDcLrtvoWXwX"
      },
      "source": [
        "#tuning_foresta(1,10)"
      ],
      "execution_count": null,
      "outputs": []
    },
    {
      "cell_type": "code",
      "metadata": {
        "id": "oX9R4Yr_WXwY"
      },
      "source": [
        "#tuning_albero_decisione_CV(1,10)"
      ],
      "execution_count": null,
      "outputs": []
    },
    {
      "cell_type": "code",
      "metadata": {
        "id": "ZpYNgWqCWXwY"
      },
      "source": [
        "#tuning_SVM_CV(1,10)"
      ],
      "execution_count": null,
      "outputs": []
    },
    {
      "cell_type": "code",
      "metadata": {
        "id": "XenK8ERgWXwY"
      },
      "source": [
        "#validazione_incrociata_kfold(1,10,1)"
      ],
      "execution_count": null,
      "outputs": []
    },
    {
      "cell_type": "code",
      "metadata": {
        "id": "43I3OSs7WXwY"
      },
      "source": [
        "#validazione_incrociata_kfold(1,10,2)"
      ],
      "execution_count": null,
      "outputs": []
    },
    {
      "cell_type": "code",
      "metadata": {
        "id": "Q3vcvDB1WXwY"
      },
      "source": [
        "#validazione_incrociata_score(1,10,1)"
      ],
      "execution_count": null,
      "outputs": []
    },
    {
      "cell_type": "code",
      "metadata": {
        "id": "FIjaq9diWXwZ"
      },
      "source": [
        "#validazione_incrociata_score(1,10,2)"
      ],
      "execution_count": null,
      "outputs": []
    },
    {
      "cell_type": "code",
      "metadata": {
        "id": "GRqklkHMWXwZ"
      },
      "source": [
        "#prova_pipeline(1,2)"
      ],
      "execution_count": null,
      "outputs": []
    },
    {
      "cell_type": "code",
      "metadata": {
        "id": "jrC2sflhWXwZ"
      },
      "source": [
        ""
      ],
      "execution_count": null,
      "outputs": []
    },
    {
      "cell_type": "code",
      "metadata": {
        "colab": {
          "base_uri": "https://localhost:8080/"
        },
        "id": "1nkFo5QyWXwa",
        "outputId": "3a1e94c7-0570-4258-abf3-6bf1ac29abf5"
      },
      "source": [
        "tuning_KNN(1,5)"
      ],
      "execution_count": null,
      "outputs": [
        {
          "name": "stdout",
          "output_type": "stream",
          "text": [
            "Fitting 5 folds for each of 16 candidates, totalling 80 fits\n"
          ]
        },
        {
          "name": "stderr",
          "output_type": "stream",
          "text": [
            "[Parallel(n_jobs=-1)]: Using backend LokyBackend with 2 concurrent workers.\n"
          ]
        },
        {
          "name": "stdout",
          "output_type": "stream",
          "text": [
            "Accuratezza fase di Cross Validation con dati di Addestramento/Validazione: 1.000\n",
            "{'algorithm': 'auto', 'n_neighbors': 5, 'weights': 'uniform'}\n",
            "Accuratezza con dati di Test: 1.000\n",
            "Risultato sui dati di test:\n",
            "              precision    recall  f1-score   support\n",
            "\n",
            "           0       1.00      1.00      1.00         6\n",
            "           1       1.00      1.00      1.00         6\n",
            "\n",
            "    accuracy                           1.00        12\n",
            "   macro avg       1.00      1.00      1.00        12\n",
            "weighted avg       1.00      1.00      1.00        12\n",
            "\n",
            "[[6 0]\n",
            " [0 6]]\n",
            "Accuratezza Test: 100.000\n",
            "Precisione  Test: 100.000\n",
            "Sensitività Test: 100.000\n",
            "Specificità Test: 100.000\n",
            "F1 score    Test: 100.000\n"
          ]
        },
        {
          "name": "stderr",
          "output_type": "stream",
          "text": [
            "[Parallel(n_jobs=-1)]: Done  77 out of  80 | elapsed:    0.2s remaining:    0.0s\n",
            "[Parallel(n_jobs=-1)]: Done  80 out of  80 | elapsed:    0.2s finished\n",
            "/usr/local/lib/python3.7/dist-packages/sklearn/model_selection/_search.py:739: DataConversionWarning:\n",
            "\n",
            "A column-vector y was passed when a 1d array was expected. Please change the shape of y to (n_samples, ), for example using ravel().\n",
            "\n"
          ]
        }
      ]
    },
    {
      "cell_type": "code",
      "metadata": {
        "id": "Z_y2x6x_WXwa"
      },
      "source": [
        "#tuning_MP(1,5)"
      ],
      "execution_count": null,
      "outputs": []
    },
    {
      "cell_type": "code",
      "metadata": {
        "colab": {
          "base_uri": "https://localhost:8080/"
        },
        "id": "z6pmde81WXwb",
        "outputId": "557ac9fe-809f-4b52-b497-29e54bd3d880"
      },
      "source": [
        "#tuning_LR(1,5)"
      ],
      "execution_count": null,
      "outputs": [
        {
          "name": "stderr",
          "output_type": "stream",
          "text": [
            "[Parallel(n_jobs=-1)]: Using backend LokyBackend with 2 concurrent workers.\n"
          ]
        },
        {
          "name": "stdout",
          "output_type": "stream",
          "text": [
            "Fitting 5 folds for each of 14 candidates, totalling 70 fits\n",
            "Accuratezza fase di Cross Validation con dati di Addestramento/Validazione: 1.000\n",
            "I migliori parametri trvati sono :\n",
            " {'C': 0.001, 'penalty': 'l2'}\n",
            "Accuratezza con dati di Test: 1.000\n",
            "Risultato sui dati di test:\n",
            "              precision    recall  f1-score   support\n",
            "\n",
            "           0       1.00      1.00      1.00         6\n",
            "           1       1.00      1.00      1.00         6\n",
            "\n",
            "    accuracy                           1.00        12\n",
            "   macro avg       1.00      1.00      1.00        12\n",
            "weighted avg       1.00      1.00      1.00        12\n",
            "\n",
            "[[6 0]\n",
            " [0 6]]\n",
            "Accuratezza Test: 100.000\n",
            "Precisione  Test: 0.000\n",
            "Sensitività Test: 100.000\n",
            "Specificità Test: 100.000\n",
            "F1 score    Test: 0.000\n"
          ]
        },
        {
          "name": "stderr",
          "output_type": "stream",
          "text": [
            "[Parallel(n_jobs=-1)]: Done  70 out of  70 | elapsed:    0.4s finished\n",
            "/usr/local/lib/python3.7/dist-packages/sklearn/utils/validation.py:760: DataConversionWarning:\n",
            "\n",
            "A column-vector y was passed when a 1d array was expected. Please change the shape of y to (n_samples, ), for example using ravel().\n",
            "\n"
          ]
        }
      ]
    },
    {
      "cell_type": "code",
      "metadata": {
        "id": "N9Bvyt9lWXwb"
      },
      "source": [
        "#tuning_foresta(1,5)"
      ],
      "execution_count": null,
      "outputs": []
    },
    {
      "cell_type": "code",
      "metadata": {
        "id": "ZFRWZTlxWXwb"
      },
      "source": [
        ""
      ],
      "execution_count": null,
      "outputs": []
    },
    {
      "cell_type": "markdown",
      "metadata": {
        "id": "h5gLx-eEWXwc"
      },
      "source": [
        "#### Caso2 AD vs MCI"
      ]
    },
    {
      "cell_type": "code",
      "metadata": {
        "id": "YO2kQBbpWXwc"
      },
      "source": [
        ""
      ],
      "execution_count": null,
      "outputs": []
    },
    {
      "cell_type": "code",
      "metadata": {
        "id": "3zGQhB8IWXwc"
      },
      "source": [
        "\n",
        "df=ADMCI.loc[:,0]\n",
        "\n",
        "X = df.to_numpy()\n",
        "\n",
        "Y = ADMCI.loc[:,1]\n",
        "y = Y.to_numpy()\n",
        "y = np.where(y == 1, 1, 0)\n",
        "#from sklearn.model_selection import train_test_split\n",
        "\n",
        "X_train, X_test, y_train, y_test = train_test_split(X, y, test_size=0.3,stratify=y,random_state=42)\n",
        "\n",
        "#pca = PCA(n_components=5)\n",
        "\n",
        "#X_train_pca = pca.fit_transform(X_train)\n",
        "#X_test_pca = pca.transform(X_test)\n",
        "\n",
        "X_train_caso2=X_train\n",
        "X_test_caso2=X_test\n",
        "y_train_caso2=y_train\n",
        "y_test_caso2=y_test"
      ],
      "execution_count": null,
      "outputs": []
    },
    {
      "cell_type": "code",
      "metadata": {
        "id": "SFglF8IIWXwc"
      },
      "source": [
        "X_train_caso2=X_train_caso2.reshape(-1,1)\n",
        "X_test_caso2=X_test_caso2.reshape(-1,1)\n",
        "y_train_caso2=y_train_caso2.reshape(-1,1)\n",
        "y_test_caso2=y_test_caso2.reshape(-1,1)"
      ],
      "execution_count": null,
      "outputs": []
    },
    {
      "cell_type": "code",
      "metadata": {
        "colab": {
          "base_uri": "https://localhost:8080/"
        },
        "id": "OUHzIcNrWXwd",
        "outputId": "b8328f5c-ebcf-4651-c90a-d4a1d61921d9"
      },
      "source": [
        "tuning_albero_decisione(2,5)"
      ],
      "execution_count": null,
      "outputs": [
        {
          "name": "stderr",
          "output_type": "stream",
          "text": [
            "[Parallel(n_jobs=-1)]: Using backend LokyBackend with 2 concurrent workers.\n"
          ]
        },
        {
          "name": "stdout",
          "output_type": "stream",
          "text": [
            "Fitting 5 folds for each of 216 candidates, totalling 1080 fits\n",
            "Accuratezza fase di Cross Validation con dati di Addestramento/Validazione: 0.587\n",
            "{'criterion': 'gini', 'max_depth': 3, 'min_samples_leaf': 1, 'min_samples_split': 2, 'min_weight_fraction_leaf': 0}\n",
            "Accuratezza con dati di Test: 0.750\n",
            "Risultato sui dati di test:\n",
            "              precision    recall  f1-score   support\n",
            "\n",
            "           0       0.71      0.83      0.77         6\n",
            "           1       0.80      0.67      0.73         6\n",
            "\n",
            "    accuracy                           0.75        12\n",
            "   macro avg       0.76      0.75      0.75        12\n",
            "weighted avg       0.76      0.75      0.75        12\n",
            "\n",
            "[[5 1]\n",
            " [2 4]]\n",
            "Accuratezza Test: 75.000\n",
            "Precisione  Test: 71.000\n",
            "Sensitività Test: 83.000\n",
            "Specificità Test: 66.000\n",
            "F1 score    Test: 76.000\n"
          ]
        },
        {
          "name": "stderr",
          "output_type": "stream",
          "text": [
            "[Parallel(n_jobs=-1)]: Done 957 tasks      | elapsed:    1.0s\n",
            "[Parallel(n_jobs=-1)]: Done 1080 out of 1080 | elapsed:    1.1s finished\n"
          ]
        }
      ]
    },
    {
      "cell_type": "code",
      "metadata": {
        "colab": {
          "base_uri": "https://localhost:8080/"
        },
        "id": "85heyIPSWXwd",
        "outputId": "8425dfac-6bb6-4099-a86c-416336f94f8d"
      },
      "source": [
        "tuning_SVM(2,5)"
      ],
      "execution_count": null,
      "outputs": [
        {
          "name": "stderr",
          "output_type": "stream",
          "text": [
            "/usr/local/lib/python3.7/dist-packages/sklearn/model_selection/_search.py:281: UserWarning:\n",
            "\n",
            "The total space of parameters 2 is smaller than n_iter=20. Running 2 iterations. For exhaustive searches, use GridSearchCV.\n",
            "\n",
            "[Parallel(n_jobs=-1)]: Using backend LokyBackend with 2 concurrent workers.\n"
          ]
        },
        {
          "name": "stdout",
          "output_type": "stream",
          "text": [
            "Fitting 5 folds for each of 2 candidates, totalling 10 fits\n",
            "Accuratezza fase di Cross Validation con dati di Addestramento/Validazione: 0.667\n",
            "{'kernel': 'rbf'}\n",
            "Accuratezza con dati di Test: 0.750\n",
            "Risultato sui dati di test:\n",
            "              precision    recall  f1-score   support\n",
            "\n",
            "           0       0.71      0.83      0.77         6\n",
            "           1       0.80      0.67      0.73         6\n",
            "\n",
            "    accuracy                           0.75        12\n",
            "   macro avg       0.76      0.75      0.75        12\n",
            "weighted avg       0.76      0.75      0.75        12\n",
            "\n",
            "[[5 1]\n",
            " [2 4]]\n",
            "Accuratezza Test: 75.000\n",
            "Precisione  Test: 71.000\n",
            "Sensitività Test: 83.000\n",
            "Specificità Test: 66.000\n",
            "F1 score    Test: 76.000\n"
          ]
        },
        {
          "name": "stderr",
          "output_type": "stream",
          "text": [
            "[Parallel(n_jobs=-1)]: Done  10 out of  10 | elapsed:  2.0min finished\n",
            "/usr/local/lib/python3.7/dist-packages/sklearn/utils/validation.py:760: DataConversionWarning:\n",
            "\n",
            "A column-vector y was passed when a 1d array was expected. Please change the shape of y to (n_samples, ), for example using ravel().\n",
            "\n"
          ]
        }
      ]
    },
    {
      "cell_type": "code",
      "metadata": {
        "id": "VOaVE2ppWXwd"
      },
      "source": [
        "#tuning_foresta(2,10)"
      ],
      "execution_count": null,
      "outputs": []
    },
    {
      "cell_type": "code",
      "metadata": {
        "id": "X5IcH79UWXwd"
      },
      "source": [
        "#tuning_albero_decisione_CV(2,10)"
      ],
      "execution_count": null,
      "outputs": []
    },
    {
      "cell_type": "code",
      "metadata": {
        "id": "u3opof0_WXwe"
      },
      "source": [
        "#tuning_SVM_CV(2,10)"
      ],
      "execution_count": null,
      "outputs": []
    },
    {
      "cell_type": "code",
      "metadata": {
        "id": "SfPax6p0WXwe"
      },
      "source": [
        "#validazione_incrociata_kfold(2,10,1)"
      ],
      "execution_count": null,
      "outputs": []
    },
    {
      "cell_type": "code",
      "metadata": {
        "id": "OcmBQc4AWXwe"
      },
      "source": [
        "#validazione_incrociata_kfold(2,10,2)"
      ],
      "execution_count": null,
      "outputs": []
    },
    {
      "cell_type": "code",
      "metadata": {
        "id": "AUDk00v2WXwe"
      },
      "source": [
        "#validazione_incrociata_score(2,10,1)"
      ],
      "execution_count": null,
      "outputs": []
    },
    {
      "cell_type": "code",
      "metadata": {
        "id": "mFW88CFoWXwf"
      },
      "source": [
        "#validazione_incrociata_score(2,10,2)"
      ],
      "execution_count": null,
      "outputs": []
    },
    {
      "cell_type": "code",
      "metadata": {
        "id": "Ckr_ytVWWXwf"
      },
      "source": [
        "#prova_pipeline(2,2)"
      ],
      "execution_count": null,
      "outputs": []
    },
    {
      "cell_type": "code",
      "metadata": {
        "id": "-q2ekvXpWXwf"
      },
      "source": [
        "#exec_trad(2,1)"
      ],
      "execution_count": null,
      "outputs": []
    },
    {
      "cell_type": "code",
      "metadata": {
        "id": "IiiShL7gWXwg"
      },
      "source": [
        "#exec_trad(2,2)"
      ],
      "execution_count": null,
      "outputs": []
    },
    {
      "cell_type": "code",
      "metadata": {
        "colab": {
          "base_uri": "https://localhost:8080/"
        },
        "id": "tORM1c-_WXwg",
        "outputId": "711a42ac-d3da-47ea-ee10-7e5270856e64"
      },
      "source": [
        "tuning_KNN(2,5)"
      ],
      "execution_count": null,
      "outputs": [
        {
          "name": "stderr",
          "output_type": "stream",
          "text": [
            "[Parallel(n_jobs=-1)]: Using backend LokyBackend with 2 concurrent workers.\n"
          ]
        },
        {
          "name": "stdout",
          "output_type": "stream",
          "text": [
            "Fitting 5 folds for each of 16 candidates, totalling 80 fits\n",
            "Accuratezza fase di Cross Validation con dati di Addestramento/Validazione: 0.673\n",
            "{'algorithm': 'auto', 'n_neighbors': 5, 'weights': 'uniform'}\n",
            "Accuratezza con dati di Test: 0.833\n",
            "Risultato sui dati di test:\n",
            "              precision    recall  f1-score   support\n",
            "\n",
            "           0       1.00      0.67      0.80         6\n",
            "           1       0.75      1.00      0.86         6\n",
            "\n",
            "    accuracy                           0.83        12\n",
            "   macro avg       0.88      0.83      0.83        12\n",
            "weighted avg       0.88      0.83      0.83        12\n",
            "\n",
            "[[4 2]\n",
            " [0 6]]\n",
            "Accuratezza Test: 83.000\n",
            "Precisione  Test: 100.000\n",
            "Sensitività Test: 66.000\n",
            "Specificità Test: 100.000\n",
            "F1 score    Test: 79.000\n"
          ]
        },
        {
          "name": "stderr",
          "output_type": "stream",
          "text": [
            "[Parallel(n_jobs=-1)]: Done  80 out of  80 | elapsed:    0.2s finished\n",
            "/usr/local/lib/python3.7/dist-packages/sklearn/model_selection/_search.py:739: DataConversionWarning:\n",
            "\n",
            "A column-vector y was passed when a 1d array was expected. Please change the shape of y to (n_samples, ), for example using ravel().\n",
            "\n"
          ]
        }
      ]
    },
    {
      "cell_type": "code",
      "metadata": {
        "id": "faXchZD0WXwg"
      },
      "source": [
        "#tuning_MP(2,10)"
      ],
      "execution_count": null,
      "outputs": []
    },
    {
      "cell_type": "code",
      "metadata": {
        "colab": {
          "base_uri": "https://localhost:8080/"
        },
        "id": "TLiLtmVTWXwh",
        "outputId": "eccb7d56-1b8b-46d5-c64a-a8a7e1e2607e"
      },
      "source": [
        "#tuning_LR(2,5)"
      ],
      "execution_count": null,
      "outputs": [
        {
          "name": "stderr",
          "output_type": "stream",
          "text": [
            "[Parallel(n_jobs=-1)]: Using backend LokyBackend with 2 concurrent workers.\n"
          ]
        },
        {
          "name": "stdout",
          "output_type": "stream",
          "text": [
            "Fitting 5 folds for each of 14 candidates, totalling 70 fits\n",
            "Accuratezza fase di Cross Validation con dati di Addestramento/Validazione: 0.353\n",
            "I migliori parametri trvati sono :\n",
            " {'C': 0.001, 'penalty': 'l2'}\n",
            "Accuratezza con dati di Test: 0.500\n",
            "Risultato sui dati di test:\n",
            "              precision    recall  f1-score   support\n",
            "\n",
            "           0       0.00      0.00      0.00         6\n",
            "           1       0.50      1.00      0.67         6\n",
            "\n",
            "    accuracy                           0.50        12\n",
            "   macro avg       0.25      0.50      0.33        12\n",
            "weighted avg       0.25      0.50      0.33        12\n",
            "\n",
            "[[0 6]\n",
            " [0 6]]\n",
            "Accuratezza Test: 50.000\n",
            "Precisione  Test: 0.000\n",
            "Sensitività Test: 0.000\n",
            "Specificità Test: 100.000\n",
            "F1 score    Test: 0.000\n"
          ]
        },
        {
          "name": "stderr",
          "output_type": "stream",
          "text": [
            "[Parallel(n_jobs=-1)]: Done  70 out of  70 | elapsed:    0.2s finished\n",
            "/usr/local/lib/python3.7/dist-packages/sklearn/utils/validation.py:760: DataConversionWarning:\n",
            "\n",
            "A column-vector y was passed when a 1d array was expected. Please change the shape of y to (n_samples, ), for example using ravel().\n",
            "\n",
            "/usr/local/lib/python3.7/dist-packages/sklearn/metrics/_classification.py:1272: UndefinedMetricWarning:\n",
            "\n",
            "Precision and F-score are ill-defined and being set to 0.0 in labels with no predicted samples. Use `zero_division` parameter to control this behavior.\n",
            "\n"
          ]
        }
      ]
    },
    {
      "cell_type": "markdown",
      "metadata": {
        "id": "1XYf9_7GWXwh"
      },
      "source": [
        "<br>\n",
        "<br>"
      ]
    },
    {
      "cell_type": "markdown",
      "metadata": {
        "id": "Oy8smfMpWXwh"
      },
      "source": [
        "<br>\n",
        "<br>"
      ]
    },
    {
      "cell_type": "code",
      "metadata": {
        "id": "ZpFtd-VAWXwi"
      },
      "source": [
        "#tuning_foresta(2,10)"
      ],
      "execution_count": null,
      "outputs": []
    },
    {
      "cell_type": "markdown",
      "metadata": {
        "id": "feG7TzKVWXwi"
      },
      "source": [
        "#### Caso3 MCI vs HCF"
      ]
    },
    {
      "cell_type": "code",
      "metadata": {
        "id": "_1fX8zdLWXwi"
      },
      "source": [
        ""
      ],
      "execution_count": null,
      "outputs": []
    },
    {
      "cell_type": "code",
      "metadata": {
        "id": "d7vYeT7DWXwi"
      },
      "source": [
        "\n",
        "df=MCIHC.loc[:,0]\n",
        "\n",
        "X = df.to_numpy()\n",
        "\n",
        "Y = MCIHC.loc[:,1]\n",
        "y = Y.to_numpy()\n",
        "y = np.where(y == 2, 1, 0)\n",
        "\n",
        "#from sklearn.model_selection import train_test_split\n",
        "\n",
        "\n",
        "X_train, X_test, y_train, y_test = train_test_split(X, y, test_size=0.3,stratify=y,random_state=42)\n",
        "\n",
        "#pca = PCA(n_components=2)\n",
        "\n",
        "#X_train_pca = pca.fit_transform(X_train)\n",
        "#X_test_pca = pca.transform(X_test)\n",
        "\n",
        "X_train_caso3=X_train\n",
        "X_test_caso3=X_test\n",
        "y_train_caso3=y_train\n",
        "y_test_caso3=y_test"
      ],
      "execution_count": null,
      "outputs": []
    },
    {
      "cell_type": "code",
      "metadata": {
        "id": "s8Kv5c06WXwj"
      },
      "source": [
        "X_train_caso3=X_train_caso3.reshape(-1,1)\n",
        "X_test_caso3=X_test_caso3.reshape(-1,1)\n",
        "y_train_caso3=y_train_caso3.reshape(-1,1)\n",
        "y_test_caso3=y_test_caso3.reshape(-1,1)"
      ],
      "execution_count": null,
      "outputs": []
    },
    {
      "cell_type": "code",
      "metadata": {
        "colab": {
          "base_uri": "https://localhost:8080/"
        },
        "id": "cC48oRcnWXwj",
        "outputId": "ff7fa7af-8e53-46b7-ddc6-66fd6b83ec65"
      },
      "source": [
        "tuning_albero_decisione(3,10)"
      ],
      "execution_count": null,
      "outputs": [
        {
          "name": "stderr",
          "output_type": "stream",
          "text": [
            "[Parallel(n_jobs=-1)]: Using backend LokyBackend with 2 concurrent workers.\n"
          ]
        },
        {
          "name": "stdout",
          "output_type": "stream",
          "text": [
            "Fitting 10 folds for each of 216 candidates, totalling 2160 fits\n",
            "Accuratezza fase di Cross Validation con dati di Addestramento/Validazione: 0.917\n",
            "{'criterion': 'gini', 'max_depth': 3, 'min_samples_leaf': 1, 'min_samples_split': 2, 'min_weight_fraction_leaf': 0}\n",
            "Accuratezza con dati di Test: 1.000\n",
            "Risultato sui dati di test:\n",
            "              precision    recall  f1-score   support\n",
            "\n",
            "           0       1.00      1.00      1.00         6\n",
            "           1       1.00      1.00      1.00         6\n",
            "\n",
            "    accuracy                           1.00        12\n",
            "   macro avg       1.00      1.00      1.00        12\n",
            "weighted avg       1.00      1.00      1.00        12\n",
            "\n",
            "[[6 0]\n",
            " [0 6]]\n",
            "Accuratezza Test: 100.000\n",
            "Precisione  Test: 100.000\n",
            "Sensitività Test: 100.000\n",
            "Specificità Test: 100.000\n",
            "F1 score    Test: 100.000\n"
          ]
        },
        {
          "name": "stderr",
          "output_type": "stream",
          "text": [
            "[Parallel(n_jobs=-1)]: Done 2074 tasks      | elapsed:    2.3s\n",
            "[Parallel(n_jobs=-1)]: Done 2160 out of 2160 | elapsed:    2.4s finished\n"
          ]
        }
      ]
    },
    {
      "cell_type": "code",
      "metadata": {
        "colab": {
          "base_uri": "https://localhost:8080/"
        },
        "id": "z7XO-U8RWXwj",
        "outputId": "4ef9dbbd-d00d-4d9d-834e-2affffcf5144"
      },
      "source": [
        "tuning_SVM(3,10)"
      ],
      "execution_count": null,
      "outputs": [
        {
          "name": "stderr",
          "output_type": "stream",
          "text": [
            "/usr/local/lib/python3.7/dist-packages/sklearn/model_selection/_search.py:281: UserWarning:\n",
            "\n",
            "The total space of parameters 2 is smaller than n_iter=20. Running 2 iterations. For exhaustive searches, use GridSearchCV.\n",
            "\n",
            "[Parallel(n_jobs=-1)]: Using backend LokyBackend with 2 concurrent workers.\n",
            "[Parallel(n_jobs=-1)]: Done  20 out of  20 | elapsed:    0.0s finished\n",
            "/usr/local/lib/python3.7/dist-packages/sklearn/utils/validation.py:760: DataConversionWarning:\n",
            "\n",
            "A column-vector y was passed when a 1d array was expected. Please change the shape of y to (n_samples, ), for example using ravel().\n",
            "\n"
          ]
        },
        {
          "name": "stdout",
          "output_type": "stream",
          "text": [
            "Fitting 10 folds for each of 2 candidates, totalling 20 fits\n",
            "Accuratezza fase di Cross Validation con dati di Addestramento/Validazione: 0.933\n",
            "{'kernel': 'rbf'}\n",
            "Accuratezza con dati di Test: 0.833\n",
            "Risultato sui dati di test:\n",
            "              precision    recall  f1-score   support\n",
            "\n",
            "           0       0.75      1.00      0.86         6\n",
            "           1       1.00      0.67      0.80         6\n",
            "\n",
            "    accuracy                           0.83        12\n",
            "   macro avg       0.88      0.83      0.83        12\n",
            "weighted avg       0.88      0.83      0.83        12\n",
            "\n",
            "[[6 0]\n",
            " [2 4]]\n",
            "Accuratezza Test: 83.000\n",
            "Precisione  Test: 75.000\n",
            "Sensitività Test: 100.000\n",
            "Specificità Test: 66.000\n",
            "F1 score    Test: 85.000\n"
          ]
        }
      ]
    },
    {
      "cell_type": "code",
      "metadata": {
        "id": "lTYzYFIMWXwk"
      },
      "source": [
        "#tuning_albero_decisione_CV(3,10)"
      ],
      "execution_count": null,
      "outputs": []
    },
    {
      "cell_type": "code",
      "metadata": {
        "id": "TntVBbHEWXwk"
      },
      "source": [
        "#tuning_SVM_CV(3,10)"
      ],
      "execution_count": null,
      "outputs": []
    },
    {
      "cell_type": "code",
      "metadata": {
        "id": "E42z8nu1WXwk"
      },
      "source": [
        "#validazione_incrociata_kfold(3,10,1)"
      ],
      "execution_count": null,
      "outputs": []
    },
    {
      "cell_type": "code",
      "metadata": {
        "id": "jOW46WaiWXwk"
      },
      "source": [
        "#validazione_incrociata_kfold(3,10,2)"
      ],
      "execution_count": null,
      "outputs": []
    },
    {
      "cell_type": "code",
      "metadata": {
        "id": "O8ahKsnlWXwl"
      },
      "source": [
        "#validazione_incrociata_score(3,10,1)"
      ],
      "execution_count": null,
      "outputs": []
    },
    {
      "cell_type": "code",
      "metadata": {
        "id": "-B_sO9BqWXwl"
      },
      "source": [
        "#validazione_incrociata_score(3,10,2)"
      ],
      "execution_count": null,
      "outputs": []
    },
    {
      "cell_type": "code",
      "metadata": {
        "id": "48Zgd3K7WXwl"
      },
      "source": [
        "#prova_pipeline(3,2)"
      ],
      "execution_count": null,
      "outputs": []
    },
    {
      "cell_type": "code",
      "metadata": {
        "id": "ZgiiK9NKWXwl"
      },
      "source": [
        "#exec_trad(3,1)"
      ],
      "execution_count": null,
      "outputs": []
    },
    {
      "cell_type": "code",
      "metadata": {
        "id": "DP8mrr3mWXwl"
      },
      "source": [
        "#exec_trad(3,2)"
      ],
      "execution_count": null,
      "outputs": []
    },
    {
      "cell_type": "code",
      "metadata": {
        "colab": {
          "base_uri": "https://localhost:8080/"
        },
        "id": "x_ECll7GWXwl",
        "outputId": "5440759c-6bfc-4411-990f-05f544fda022"
      },
      "source": [
        "tuning_KNN(3,5)"
      ],
      "execution_count": null,
      "outputs": [
        {
          "name": "stderr",
          "output_type": "stream",
          "text": [
            "[Parallel(n_jobs=-1)]: Using backend LokyBackend with 2 concurrent workers.\n"
          ]
        },
        {
          "name": "stdout",
          "output_type": "stream",
          "text": [
            "Fitting 5 folds for each of 16 candidates, totalling 80 fits\n",
            "Accuratezza fase di Cross Validation con dati di Addestramento/Validazione: 0.960\n",
            "{'algorithm': 'auto', 'n_neighbors': 5, 'weights': 'uniform'}\n",
            "Accuratezza con dati di Test: 1.000\n",
            "Risultato sui dati di test:\n",
            "              precision    recall  f1-score   support\n",
            "\n",
            "           0       1.00      1.00      1.00         6\n",
            "           1       1.00      1.00      1.00         6\n",
            "\n",
            "    accuracy                           1.00        12\n",
            "   macro avg       1.00      1.00      1.00        12\n",
            "weighted avg       1.00      1.00      1.00        12\n",
            "\n",
            "[[6 0]\n",
            " [0 6]]\n",
            "Accuratezza Test: 100.000\n",
            "Precisione  Test: 100.000\n",
            "Sensitività Test: 100.000\n",
            "Specificità Test: 100.000\n",
            "F1 score    Test: 100.000\n"
          ]
        },
        {
          "name": "stderr",
          "output_type": "stream",
          "text": [
            "[Parallel(n_jobs=-1)]: Done  80 out of  80 | elapsed:    0.2s finished\n",
            "/usr/local/lib/python3.7/dist-packages/sklearn/model_selection/_search.py:739: DataConversionWarning:\n",
            "\n",
            "A column-vector y was passed when a 1d array was expected. Please change the shape of y to (n_samples, ), for example using ravel().\n",
            "\n"
          ]
        }
      ]
    },
    {
      "cell_type": "code",
      "metadata": {
        "id": "2_W6dp4pWXwm"
      },
      "source": [
        "#tuning_MP(3,10)"
      ],
      "execution_count": null,
      "outputs": []
    },
    {
      "cell_type": "code",
      "metadata": {
        "colab": {
          "base_uri": "https://localhost:8080/"
        },
        "id": "jgu9cLptWXwm",
        "outputId": "3e171a21-32cb-4015-f056-d444095a205f"
      },
      "source": [
        "#tuning_LR(3,5)"
      ],
      "execution_count": null,
      "outputs": [
        {
          "name": "stderr",
          "output_type": "stream",
          "text": [
            "[Parallel(n_jobs=-1)]: Using backend LokyBackend with 2 concurrent workers.\n"
          ]
        },
        {
          "name": "stdout",
          "output_type": "stream",
          "text": [
            "Fitting 5 folds for each of 14 candidates, totalling 70 fits\n",
            "Accuratezza fase di Cross Validation con dati di Addestramento/Validazione: 0.920\n",
            "I migliori parametri trvati sono :\n",
            " {'C': 0.001, 'penalty': 'l2'}\n",
            "Accuratezza con dati di Test: 1.000\n",
            "Risultato sui dati di test:\n",
            "              precision    recall  f1-score   support\n",
            "\n",
            "           0       1.00      1.00      1.00         6\n",
            "           1       1.00      1.00      1.00         6\n",
            "\n",
            "    accuracy                           1.00        12\n",
            "   macro avg       1.00      1.00      1.00        12\n",
            "weighted avg       1.00      1.00      1.00        12\n",
            "\n",
            "[[6 0]\n",
            " [0 6]]\n",
            "Accuratezza Test: 100.000\n",
            "Precisione  Test: 0.000\n",
            "Sensitività Test: 100.000\n",
            "Specificità Test: 100.000\n",
            "F1 score    Test: 0.000\n"
          ]
        },
        {
          "name": "stderr",
          "output_type": "stream",
          "text": [
            "[Parallel(n_jobs=-1)]: Done  70 out of  70 | elapsed:    0.4s finished\n",
            "/usr/local/lib/python3.7/dist-packages/sklearn/utils/validation.py:760: DataConversionWarning:\n",
            "\n",
            "A column-vector y was passed when a 1d array was expected. Please change the shape of y to (n_samples, ), for example using ravel().\n",
            "\n"
          ]
        }
      ]
    },
    {
      "cell_type": "code",
      "metadata": {
        "id": "RADqZYnTWXwm"
      },
      "source": [
        "#tuning_foresta(3,10)"
      ],
      "execution_count": null,
      "outputs": []
    },
    {
      "cell_type": "code",
      "metadata": {
        "id": "6Gn2SWL0WXwn"
      },
      "source": [
        ""
      ],
      "execution_count": null,
      "outputs": []
    },
    {
      "cell_type": "markdown",
      "metadata": {
        "id": "ZuO4I4mJWXwn"
      },
      "source": [
        "#### Caso4 CASE vs HCF"
      ]
    },
    {
      "cell_type": "code",
      "metadata": {
        "id": "7ojuETOSWXwn"
      },
      "source": [
        ""
      ],
      "execution_count": null,
      "outputs": []
    },
    {
      "cell_type": "code",
      "metadata": {
        "id": "0DPNBuWvWXwn"
      },
      "source": [
        "df=CASEHC.loc[:,0]\n",
        "\n",
        "X = df.to_numpy()\n",
        "\n",
        "Y = CASEHC.loc[:,1]\n",
        "y = Y.to_numpy()\n",
        "y = np.where(y == 3, 1, 0)\n",
        "#from sklearn.model_selection import train_test_split\n",
        "\n",
        "\n",
        "X_train, X_test, y_train, y_test = train_test_split(X, y, test_size=0.3,stratify=y,random_state=42)\n",
        "\n",
        "#pca = PCA(n_components=2)\n",
        "\n",
        "#X_train_pca = pca.fit_transform(X_train)\n",
        "#X_test_pca = pca.transform(X_test)\n",
        "\n",
        "X_train_caso4=X_train\n",
        "X_test_caso4=X_test\n",
        "y_train_caso4=y_train\n",
        "y_test_caso4=y_test"
      ],
      "execution_count": null,
      "outputs": []
    },
    {
      "cell_type": "code",
      "metadata": {
        "id": "_lIEe1zTWXwn"
      },
      "source": [
        "X_train_caso4=X_train_caso4.reshape(-1,1)\n",
        "X_test_caso4=X_test_caso4.reshape(-1,1)\n",
        "y_train_caso4=y_train_caso4.reshape(-1,1)\n",
        "y_test_caso4=y_test_caso4.reshape(-1,1)"
      ],
      "execution_count": null,
      "outputs": []
    },
    {
      "cell_type": "code",
      "metadata": {
        "colab": {
          "base_uri": "https://localhost:8080/"
        },
        "id": "8RUTlcc1WXwo",
        "outputId": "13ff1bfe-7c05-440a-f3e8-01cc98f95437"
      },
      "source": [
        "tuning_albero_decisione(4,5)"
      ],
      "execution_count": null,
      "outputs": [
        {
          "name": "stderr",
          "output_type": "stream",
          "text": [
            "[Parallel(n_jobs=-1)]: Using backend LokyBackend with 2 concurrent workers.\n"
          ]
        },
        {
          "name": "stdout",
          "output_type": "stream",
          "text": [
            "Fitting 5 folds for each of 216 candidates, totalling 1080 fits\n",
            "Accuratezza fase di Cross Validation con dati di Addestramento/Validazione: 0.950\n",
            "{'criterion': 'gini', 'max_depth': 3, 'min_samples_leaf': 1, 'min_samples_split': 2, 'min_weight_fraction_leaf': 0}\n",
            "Accuratezza con dati di Test: 1.000\n",
            "Risultato sui dati di test:\n",
            "              precision    recall  f1-score   support\n",
            "\n",
            "           0       1.00      1.00      1.00        12\n",
            "           1       1.00      1.00      1.00         6\n",
            "\n",
            "    accuracy                           1.00        18\n",
            "   macro avg       1.00      1.00      1.00        18\n",
            "weighted avg       1.00      1.00      1.00        18\n",
            "\n",
            "[[12  0]\n",
            " [ 0  6]]\n",
            "Accuratezza Test: 100.000\n",
            "Precisione  Test: 100.000\n",
            "Sensitività Test: 100.000\n",
            "Specificità Test: 100.000\n",
            "F1 score    Test: 100.000\n"
          ]
        },
        {
          "name": "stderr",
          "output_type": "stream",
          "text": [
            "[Parallel(n_jobs=-1)]: Done 1062 tasks      | elapsed:    1.2s\n",
            "[Parallel(n_jobs=-1)]: Done 1077 out of 1080 | elapsed:    1.2s remaining:    0.0s\n",
            "[Parallel(n_jobs=-1)]: Done 1080 out of 1080 | elapsed:    1.2s finished\n"
          ]
        }
      ]
    },
    {
      "cell_type": "code",
      "metadata": {
        "colab": {
          "base_uri": "https://localhost:8080/"
        },
        "id": "duWLnElBWXwo",
        "outputId": "20d1d741-a638-4f88-9b14-954efb99e915"
      },
      "source": [
        "tuning_SVM(4,5)"
      ],
      "execution_count": null,
      "outputs": [
        {
          "name": "stdout",
          "output_type": "stream",
          "text": [
            "Fitting 5 folds for each of 2 candidates, totalling 10 fits\n",
            "Accuratezza fase di Cross Validation con dati di Addestramento/Validazione: 0.950\n",
            "{'kernel': 'linear'}\n",
            "Accuratezza con dati di Test: 1.000\n",
            "Risultato sui dati di test:\n",
            "              precision    recall  f1-score   support\n",
            "\n",
            "           0       1.00      1.00      1.00        12\n",
            "           1       1.00      1.00      1.00         6\n",
            "\n",
            "    accuracy                           1.00        18\n",
            "   macro avg       1.00      1.00      1.00        18\n",
            "weighted avg       1.00      1.00      1.00        18\n",
            "\n",
            "[[12  0]\n",
            " [ 0  6]]\n",
            "Accuratezza Test: 100.000\n",
            "Precisione  Test: 100.000\n",
            "Sensitività Test: 100.000\n",
            "Specificità Test: 100.000\n",
            "F1 score    Test: 100.000\n"
          ]
        },
        {
          "name": "stderr",
          "output_type": "stream",
          "text": [
            "/usr/local/lib/python3.7/dist-packages/sklearn/model_selection/_search.py:281: UserWarning:\n",
            "\n",
            "The total space of parameters 2 is smaller than n_iter=20. Running 2 iterations. For exhaustive searches, use GridSearchCV.\n",
            "\n",
            "[Parallel(n_jobs=-1)]: Using backend LokyBackend with 2 concurrent workers.\n",
            "[Parallel(n_jobs=-1)]: Done  10 out of  10 | elapsed:    0.0s finished\n",
            "/usr/local/lib/python3.7/dist-packages/sklearn/utils/validation.py:760: DataConversionWarning:\n",
            "\n",
            "A column-vector y was passed when a 1d array was expected. Please change the shape of y to (n_samples, ), for example using ravel().\n",
            "\n"
          ]
        }
      ]
    },
    {
      "cell_type": "code",
      "metadata": {
        "id": "K99JHtwQWXwo"
      },
      "source": [
        "#tuning_albero_decisione_CV(4,10)"
      ],
      "execution_count": null,
      "outputs": []
    },
    {
      "cell_type": "code",
      "metadata": {
        "id": "IitO43Z8WXwo"
      },
      "source": [
        "#tuning_SVM_CV(4,10)"
      ],
      "execution_count": null,
      "outputs": []
    },
    {
      "cell_type": "code",
      "metadata": {
        "id": "wBqsodwRWXwo"
      },
      "source": [
        "#validazione_incrociata_kfold(4,10,1)"
      ],
      "execution_count": null,
      "outputs": []
    },
    {
      "cell_type": "code",
      "metadata": {
        "id": "5oGXbWULWXwp"
      },
      "source": [
        "#validazione_incrociata_kfold(4,10,2)"
      ],
      "execution_count": null,
      "outputs": []
    },
    {
      "cell_type": "code",
      "metadata": {
        "id": "A_6GEKFPWXwp"
      },
      "source": [
        "#validazione_incrociata_score(4,10,1)"
      ],
      "execution_count": null,
      "outputs": []
    },
    {
      "cell_type": "code",
      "metadata": {
        "id": "YlmJWWIkWXwp"
      },
      "source": [
        "#validazione_incrociata_score(4,10,2)"
      ],
      "execution_count": null,
      "outputs": []
    },
    {
      "cell_type": "code",
      "metadata": {
        "id": "9_kb2W6FWXwp"
      },
      "source": [
        "#prova_pipeline(4,2)"
      ],
      "execution_count": null,
      "outputs": []
    },
    {
      "cell_type": "code",
      "metadata": {
        "id": "Y2cyPpSiWXwp"
      },
      "source": [
        "#exec_trad(4,1)"
      ],
      "execution_count": null,
      "outputs": []
    },
    {
      "cell_type": "code",
      "metadata": {
        "id": "tOw8WoHnWXwq"
      },
      "source": [
        "#exec_trad(4,2)"
      ],
      "execution_count": null,
      "outputs": []
    },
    {
      "cell_type": "code",
      "metadata": {
        "colab": {
          "base_uri": "https://localhost:8080/"
        },
        "id": "-eFVuy6DWXwq",
        "outputId": "788c8d9b-b80b-4d1d-dd3b-3dfa60f92d69"
      },
      "source": [
        "tuning_KNN(4,5)"
      ],
      "execution_count": null,
      "outputs": [
        {
          "name": "stderr",
          "output_type": "stream",
          "text": [
            "[Parallel(n_jobs=-1)]: Using backend LokyBackend with 2 concurrent workers.\n"
          ]
        },
        {
          "name": "stdout",
          "output_type": "stream",
          "text": [
            "Fitting 5 folds for each of 16 candidates, totalling 80 fits\n",
            "Accuratezza fase di Cross Validation con dati di Addestramento/Validazione: 0.975\n",
            "{'algorithm': 'auto', 'n_neighbors': 5, 'weights': 'uniform'}\n",
            "Accuratezza con dati di Test: 1.000\n",
            "Risultato sui dati di test:\n",
            "              precision    recall  f1-score   support\n",
            "\n",
            "           0       1.00      1.00      1.00        12\n",
            "           1       1.00      1.00      1.00         6\n",
            "\n",
            "    accuracy                           1.00        18\n",
            "   macro avg       1.00      1.00      1.00        18\n",
            "weighted avg       1.00      1.00      1.00        18\n",
            "\n",
            "[[12  0]\n",
            " [ 0  6]]\n",
            "Accuratezza Test: 100.000\n",
            "Precisione  Test: 100.000\n",
            "Sensitività Test: 100.000\n",
            "Specificità Test: 100.000\n",
            "F1 score    Test: 100.000\n"
          ]
        },
        {
          "name": "stderr",
          "output_type": "stream",
          "text": [
            "[Parallel(n_jobs=-1)]: Done  80 out of  80 | elapsed:    0.2s finished\n",
            "/usr/local/lib/python3.7/dist-packages/sklearn/model_selection/_search.py:739: DataConversionWarning:\n",
            "\n",
            "A column-vector y was passed when a 1d array was expected. Please change the shape of y to (n_samples, ), for example using ravel().\n",
            "\n"
          ]
        }
      ]
    },
    {
      "cell_type": "code",
      "metadata": {
        "id": "O6rChXN4WXwq"
      },
      "source": [
        "#tuning_MP(4,10)"
      ],
      "execution_count": null,
      "outputs": []
    },
    {
      "cell_type": "code",
      "metadata": {
        "colab": {
          "base_uri": "https://localhost:8080/"
        },
        "id": "SGzP45lmWXwq",
        "outputId": "f32c7bdb-4fae-4457-eeba-864065fef891"
      },
      "source": [
        "#tuning_LR(4,5)"
      ],
      "execution_count": null,
      "outputs": [
        {
          "name": "stderr",
          "output_type": "stream",
          "text": [
            "[Parallel(n_jobs=-1)]: Using backend LokyBackend with 2 concurrent workers.\n"
          ]
        },
        {
          "name": "stdout",
          "output_type": "stream",
          "text": [
            "Fitting 5 folds for each of 14 candidates, totalling 70 fits\n",
            "Accuratezza fase di Cross Validation con dati di Addestramento/Validazione: 0.950\n",
            "I migliori parametri trvati sono :\n",
            " {'C': 0.001, 'penalty': 'l2'}\n",
            "Accuratezza con dati di Test: 1.000\n",
            "Risultato sui dati di test:\n",
            "              precision    recall  f1-score   support\n",
            "\n",
            "           0       1.00      1.00      1.00        12\n",
            "           1       1.00      1.00      1.00         6\n",
            "\n",
            "    accuracy                           1.00        18\n",
            "   macro avg       1.00      1.00      1.00        18\n",
            "weighted avg       1.00      1.00      1.00        18\n",
            "\n",
            "[[12  0]\n",
            " [ 0  6]]\n",
            "Accuratezza Test: 100.000\n",
            "Precisione  Test: 0.000\n",
            "Sensitività Test: 100.000\n",
            "Specificità Test: 100.000\n",
            "F1 score    Test: 0.000\n"
          ]
        },
        {
          "name": "stderr",
          "output_type": "stream",
          "text": [
            "[Parallel(n_jobs=-1)]: Done  70 out of  70 | elapsed:    0.4s finished\n",
            "/usr/local/lib/python3.7/dist-packages/sklearn/utils/validation.py:760: DataConversionWarning:\n",
            "\n",
            "A column-vector y was passed when a 1d array was expected. Please change the shape of y to (n_samples, ), for example using ravel().\n",
            "\n"
          ]
        }
      ]
    },
    {
      "cell_type": "code",
      "metadata": {
        "id": "3_3K5NfrWXww"
      },
      "source": [
        "#tuning_foresta(4,10)"
      ],
      "execution_count": null,
      "outputs": []
    },
    {
      "cell_type": "markdown",
      "metadata": {
        "id": "Dj8tlauEWXwx"
      },
      "source": [
        "<br>\n",
        "<br>"
      ]
    },
    {
      "cell_type": "code",
      "metadata": {
        "id": "_JWMWwuBWXwx"
      },
      "source": [
        ""
      ],
      "execution_count": null,
      "outputs": []
    },
    {
      "cell_type": "code",
      "metadata": {
        "id": "FwSh4gpCWXwx"
      },
      "source": [
        ""
      ],
      "execution_count": null,
      "outputs": []
    },
    {
      "cell_type": "markdown",
      "metadata": {
        "id": "6DXi4eg0cSY2"
      },
      "source": [
        "### 11 hz"
      ]
    },
    {
      "cell_type": "code",
      "metadata": {
        "id": "dtkNggxXcSY4"
      },
      "source": [
        ""
      ],
      "execution_count": null,
      "outputs": []
    },
    {
      "cell_type": "code",
      "metadata": {
        "id": "7VFRseEucSY4"
      },
      "source": [
        "\n",
        "y1=hz11.loc[:,0].to_numpy()\n",
        "y2=hz11.loc[:,1].to_numpy()\n",
        "y3=hz11.loc[:,2].to_numpy()\n",
        "\n"
      ],
      "execution_count": null,
      "outputs": []
    },
    {
      "cell_type": "code",
      "metadata": {
        "id": "9UoF8V3RdqMd"
      },
      "source": [
        ""
      ],
      "execution_count": null,
      "outputs": []
    },
    {
      "cell_type": "code",
      "metadata": {
        "colab": {
          "base_uri": "https://localhost:8080/"
        },
        "id": "z7ZrYD0DdqyS",
        "outputId": "ebd4fcb0-bc82-484b-ec72-eb95972a3b84"
      },
      "source": [
        "y1,y2,y3,hz3"
      ],
      "execution_count": null,
      "outputs": [
        {
          "data": {
            "text/plain": [
              "(array([ 56693.5747699 , 277285.01987389,  44088.67439341,  73181.23868877,\n",
              "         33959.83974274,  55680.58470199,  49375.17927672,  37883.38706069,\n",
              "        112210.29118471,  47434.50519045,  40752.2542983 ,  69314.19649021,\n",
              "        274871.57379049,  37905.91328176,  74205.17920543,  85092.35345036,\n",
              "         59305.64066669,  59988.12074556,  27697.92682964]),\n",
              " array([ 27157.40001619,  15366.33069591,  10761.67239244,  37222.23253826,\n",
              "         52549.92513113,  30362.37009052,  29155.12723109,  17548.74599635,\n",
              "         21380.86318054,  12778.63417493,  27529.26915771,  23917.79701123,\n",
              "         19152.35416408,  54269.66796691,  16617.32421173,  22037.19262806,\n",
              "        154407.73916445, 175212.18959521,  67457.07939117]),\n",
              " array([ 7570.82614195,  6944.99806884,  2574.86639104,  1297.14972333,\n",
              "         1152.10834365, 11108.14039041,  4142.03469571,  2182.0986506 ,\n",
              "        10265.58466082,  3143.64517912,  1149.71686732,  9665.5010648 ,\n",
              "         4725.66501446,  2770.68860978,  1147.00281766,  1080.25638202,\n",
              "         6985.55187512,  2319.5857269 ,  1637.71721083]),\n",
              "                 0              1             2\n",
              " 0    11941.878738    4543.079199   4260.988482\n",
              " 1    21550.001904    3171.543412   6215.959227\n",
              " 2     7954.533234    2502.250572   2878.113664\n",
              " 3    42676.089206   17653.023737    946.372606\n",
              " 4    12148.524998   27477.274131    612.110742\n",
              " 5    12297.442066    3811.751034   7665.308313\n",
              " 6    19050.995665   10227.178360   3062.984321\n",
              " 7     4992.630324   22822.837806   1211.440626\n",
              " 8    16011.533992    6828.018160  22390.062009\n",
              " 9     9151.569946    3078.353285   2888.256949\n",
              " 10   14843.201818    9843.491084    563.057786\n",
              " 11   10445.070016    5141.196547   4760.093445\n",
              " 12  182700.816803    4200.470742   4973.644479\n",
              " 13   15954.139771   16579.985919   2618.749608\n",
              " 14   11744.109673    5865.329829    698.500991\n",
              " 15    7023.707557   12802.749011    703.477024\n",
              " 16   37297.839360  104104.832648   4747.694480\n",
              " 17   11622.940208   71138.564456   2467.786370\n",
              " 18   14182.838368   23134.713975   1533.933877)"
            ]
          },
          "execution_count": 191,
          "metadata": {},
          "output_type": "execute_result"
        }
      ]
    },
    {
      "cell_type": "code",
      "metadata": {
        "id": "_k4odneScSY5"
      },
      "source": [
        "x1 = np.linspace(0, 19, len(y1), endpoint=True)\n",
        "x2 = np.linspace(0, 19,len(y2), endpoint=True)\n",
        "x3 = np.linspace(0, 19,len(y3), endpoint=True)"
      ],
      "execution_count": null,
      "outputs": []
    },
    {
      "cell_type": "code",
      "metadata": {
        "colab": {
          "base_uri": "https://localhost:8080/",
          "height": 265
        },
        "id": "exQjb9aZcSY5",
        "outputId": "fb27488a-b443-4fc0-880e-4c35337e3e51"
      },
      "source": [
        "plt.plot(x1, y1, 'g')\n",
        "plt.plot(x2, y2, 'b')\n",
        "plt.plot(x3, y3, 'r')\n",
        "#plt.ylim(0,300000)\n",
        "plt.show()"
      ],
      "execution_count": null,
      "outputs": [
        {
          "data": {
            "image/png": "[encoded data removed]",
            "text/plain": [
              "<Figure size 432x288 with 1 Axes>"
            ]
          },
          "metadata": {},
          "output_type": "display_data"
        }
      ]
    },
    {
      "cell_type": "code",
      "metadata": {
        "id": "wAcCarD5cSY6"
      },
      "source": [
        ""
      ],
      "execution_count": null,
      "outputs": []
    },
    {
      "cell_type": "code",
      "metadata": {
        "id": "cB3HHBkXcSY7"
      },
      "source": [
        "matriceAD = np.zeros((len(y1),2))\n",
        "matriceMCI = np.zeros((len(y2),2))\n",
        "matriceHC = np.zeros((len(y3),2))\n"
      ],
      "execution_count": null,
      "outputs": []
    },
    {
      "cell_type": "code",
      "metadata": {
        "id": "oozRiEcYcSY7"
      },
      "source": [
        "matriceADHC = np.zeros((len(y1)+len(y3),2))\n",
        "matriceMCIHC = np.zeros((len(y2)+len(y3),2))\n",
        "matriceADMCI = np.zeros((len(y1)+len(y2),2))\n",
        "matriceCASEHC = np.zeros((len(y2)+len(y3)+len(y1),2))"
      ],
      "execution_count": null,
      "outputs": []
    },
    {
      "cell_type": "code",
      "metadata": {
        "id": "Mosgb3iPcSY7"
      },
      "source": [
        "for i in range(len(y1)):\n",
        "      matriceAD[i,0]=y1[i]\n",
        "      matriceAD[i,1]=1"
      ],
      "execution_count": null,
      "outputs": []
    },
    {
      "cell_type": "code",
      "metadata": {
        "id": "-pPvamwMcSY8"
      },
      "source": [
        "for i in range(len(y2)):\n",
        "      matriceMCI[i,0]=y2[i]\n",
        "      matriceMCI[i,1]=2"
      ],
      "execution_count": null,
      "outputs": []
    },
    {
      "cell_type": "code",
      "metadata": {
        "id": "kinOBykMcSY8"
      },
      "source": [
        "for i in range(len(y3)):\n",
        "      matriceHC[i,0]=y3[i]\n",
        "      matriceHC[i,1]=3"
      ],
      "execution_count": null,
      "outputs": []
    },
    {
      "cell_type": "code",
      "metadata": {
        "id": "TlmblS1HcSY8"
      },
      "source": [
        "AD=pd.DataFrame(matriceAD)\n",
        "HC=pd.DataFrame(matriceHC)\n",
        "MCI=pd.DataFrame(matriceMCI)"
      ],
      "execution_count": null,
      "outputs": []
    },
    {
      "cell_type": "code",
      "metadata": {
        "id": "khOPEocBcSY9"
      },
      "source": [
        "ADHC=AD.copy()\n",
        "ADHC=ADHC.append(HC,ignore_index=True)"
      ],
      "execution_count": null,
      "outputs": []
    },
    {
      "cell_type": "code",
      "metadata": {
        "id": "53qZA9S7cSY9"
      },
      "source": [
        "ADMCI=AD.copy()\n",
        "ADMCI=ADMCI.append(MCI,ignore_index=True)"
      ],
      "execution_count": null,
      "outputs": []
    },
    {
      "cell_type": "code",
      "metadata": {
        "id": "0EBK0b_vcSY9"
      },
      "source": [
        "MCIHC=MCI.copy()\n",
        "MCIHC=MCIHC.append(HC,ignore_index=True)"
      ],
      "execution_count": null,
      "outputs": []
    },
    {
      "cell_type": "code",
      "metadata": {
        "id": "nA26k96rcSY9"
      },
      "source": [
        "CASEHC=AD.copy()\n",
        "CASEHC=CASEHC.append(MCI,ignore_index=True)\n",
        "CASEHC=CASEHC.append(HC,ignore_index=True)"
      ],
      "execution_count": null,
      "outputs": []
    },
    {
      "cell_type": "code",
      "metadata": {
        "id": "My0s9wILcSY-"
      },
      "source": [
        ""
      ],
      "execution_count": null,
      "outputs": []
    },
    {
      "cell_type": "markdown",
      "metadata": {
        "id": "qAXAhO3UcSY-"
      },
      "source": [
        "#### Caso1 AD vs HCF"
      ]
    },
    {
      "cell_type": "code",
      "metadata": {
        "id": "3BWcqFXicSY-"
      },
      "source": [
        "df=ADHC.loc[:,0]\n",
        "\n",
        "X = df.to_numpy()\n",
        "\n",
        "Y = ADHC.loc[:,1]\n",
        "y = Y.to_numpy()"
      ],
      "execution_count": null,
      "outputs": []
    },
    {
      "cell_type": "code",
      "metadata": {
        "id": "W18B9TtScSY_"
      },
      "source": [
        "y = np.where(y == 1, 1, 0)"
      ],
      "execution_count": null,
      "outputs": []
    },
    {
      "cell_type": "code",
      "metadata": {
        "colab": {
          "base_uri": "https://localhost:8080/"
        },
        "id": "2Wj4QZ39cSY_",
        "outputId": "b6eae9c4-ae0a-4a2e-dd1b-c0d0ae3fd416"
      },
      "source": [
        "X,y"
      ],
      "execution_count": null,
      "outputs": [
        {
          "data": {
            "text/plain": [
              "(array([ 56693.5747699 , 277285.01987389,  44088.67439341,  73181.23868877,\n",
              "         33959.83974274,  55680.58470199,  49375.17927672,  37883.38706069,\n",
              "        112210.29118471,  47434.50519045,  40752.2542983 ,  69314.19649021,\n",
              "        274871.57379049,  37905.91328176,  74205.17920543,  85092.35345036,\n",
              "         59305.64066669,  59988.12074556,  27697.92682964,   7570.82614195,\n",
              "          6944.99806884,   2574.86639104,   1297.14972333,   1152.10834365,\n",
              "         11108.14039041,   4142.03469571,   2182.0986506 ,  10265.58466082,\n",
              "          3143.64517912,   1149.71686732,   9665.5010648 ,   4725.66501446,\n",
              "          2770.68860978,   1147.00281766,   1080.25638202,   6985.55187512,\n",
              "          2319.5857269 ,   1637.71721083]),\n",
              " array([1, 1, 1, 1, 1, 1, 1, 1, 1, 1, 1, 1, 1, 1, 1, 1, 1, 1, 1, 0, 0, 0,\n",
              "        0, 0, 0, 0, 0, 0, 0, 0, 0, 0, 0, 0, 0, 0, 0, 0]))"
            ]
          },
          "execution_count": 206,
          "metadata": {},
          "output_type": "execute_result"
        }
      ]
    },
    {
      "cell_type": "code",
      "metadata": {
        "id": "PXXdmAWBcSZC"
      },
      "source": [
        "df=ADHC.loc[:,0]\n",
        "\n",
        "X = df.to_numpy()\n",
        "\n",
        "Y = ADHC.loc[:,1]\n",
        "y = Y.to_numpy()\n",
        "y = np.where(y == 1, 1, 0)\n",
        "#from sklearn.model_selection import train_test_split\n",
        "\n",
        "\n",
        "X_train, X_test, y_train, y_test = train_test_split(X, y, test_size=0.3,stratify=y,random_state=42)\n",
        "\n",
        "#pca = PCA(n_components=2)\n",
        "\n",
        "#X_train_pca = pca.fit_transform(X_train)\n",
        "#X_test_pca = pca.transform(X_test)\n",
        "\n",
        "X_train_caso1=X_train\n",
        "X_test_caso1=X_test\n",
        "y_train_caso1=y_train\n",
        "y_test_caso1=y_test\n",
        "\n"
      ],
      "execution_count": null,
      "outputs": []
    },
    {
      "cell_type": "code",
      "metadata": {
        "id": "kdcP9f-1cSZD"
      },
      "source": [
        "X_train_caso1=X_train_caso1.reshape(-1,1)\n",
        "X_test_caso1=X_test_caso1.reshape(-1,1)\n",
        "y_train_caso1=y_train_caso1.reshape(-1,1)\n",
        "y_test_caso1=y_test_caso1.reshape(-1,1)\n"
      ],
      "execution_count": null,
      "outputs": []
    },
    {
      "cell_type": "code",
      "metadata": {
        "id": "6ZPUENXicSZD"
      },
      "source": [
        ""
      ],
      "execution_count": null,
      "outputs": []
    },
    {
      "cell_type": "code",
      "metadata": {
        "colab": {
          "base_uri": "https://localhost:8080/"
        },
        "id": "n_eSEyE0cSZE",
        "outputId": "8fb6641c-5738-440e-fe26-127cd2ae2f73"
      },
      "source": [
        "tuning_albero_decisione(1,5)"
      ],
      "execution_count": null,
      "outputs": [
        {
          "name": "stdout",
          "output_type": "stream",
          "text": [
            "Fitting 5 folds for each of 216 candidates, totalling 1080 fits\n"
          ]
        },
        {
          "name": "stderr",
          "output_type": "stream",
          "text": [
            "[Parallel(n_jobs=-1)]: Using backend LokyBackend with 2 concurrent workers.\n"
          ]
        },
        {
          "name": "stdout",
          "output_type": "stream",
          "text": [
            "Accuratezza fase di Cross Validation con dati di Addestramento/Validazione: 1.000\n",
            "{'criterion': 'gini', 'max_depth': 3, 'min_samples_leaf': 1, 'min_samples_split': 2, 'min_weight_fraction_leaf': 0}\n",
            "Accuratezza con dati di Test: 1.000\n",
            "Risultato sui dati di test:\n",
            "              precision    recall  f1-score   support\n",
            "\n",
            "           0       1.00      1.00      1.00         6\n",
            "           1       1.00      1.00      1.00         6\n",
            "\n",
            "    accuracy                           1.00        12\n",
            "   macro avg       1.00      1.00      1.00        12\n",
            "weighted avg       1.00      1.00      1.00        12\n",
            "\n",
            "[[6 0]\n",
            " [0 6]]\n",
            "Accuratezza Test: 100.000\n",
            "Precisione  Test: 100.000\n",
            "Sensitività Test: 100.000\n",
            "Specificità Test: 100.000\n",
            "F1 score    Test: 100.000\n"
          ]
        },
        {
          "name": "stderr",
          "output_type": "stream",
          "text": [
            "[Parallel(n_jobs=-1)]: Done 912 tasks      | elapsed:    2.1s\n",
            "[Parallel(n_jobs=-1)]: Done 1080 out of 1080 | elapsed:    2.1s finished\n"
          ]
        }
      ]
    },
    {
      "cell_type": "code",
      "metadata": {
        "colab": {
          "base_uri": "https://localhost:8080/"
        },
        "id": "a85aLWzocSZE",
        "outputId": "a48413c1-d71f-4898-d6e2-32e531866769"
      },
      "source": [
        "tuning_SVM(1,5)"
      ],
      "execution_count": null,
      "outputs": [
        {
          "name": "stdout",
          "output_type": "stream",
          "text": [
            "Fitting 5 folds for each of 2 candidates, totalling 10 fits\n",
            "Accuratezza fase di Cross Validation con dati di Addestramento/Validazione: 1.000\n",
            "{'kernel': 'linear'}\n",
            "Accuratezza con dati di Test: 1.000\n",
            "Risultato sui dati di test:\n",
            "              precision    recall  f1-score   support\n",
            "\n",
            "           0       1.00      1.00      1.00         6\n",
            "           1       1.00      1.00      1.00         6\n",
            "\n",
            "    accuracy                           1.00        12\n",
            "   macro avg       1.00      1.00      1.00        12\n",
            "weighted avg       1.00      1.00      1.00        12\n",
            "\n",
            "[[6 0]\n",
            " [0 6]]\n",
            "Accuratezza Test: 100.000\n",
            "Precisione  Test: 100.000\n",
            "Sensitività Test: 100.000\n",
            "Specificità Test: 100.000\n",
            "F1 score    Test: 100.000\n"
          ]
        },
        {
          "name": "stderr",
          "output_type": "stream",
          "text": [
            "/usr/local/lib/python3.7/dist-packages/sklearn/model_selection/_search.py:281: UserWarning:\n",
            "\n",
            "The total space of parameters 2 is smaller than n_iter=20. Running 2 iterations. For exhaustive searches, use GridSearchCV.\n",
            "\n",
            "[Parallel(n_jobs=-1)]: Using backend LokyBackend with 2 concurrent workers.\n",
            "[Parallel(n_jobs=-1)]: Done  10 out of  10 | elapsed:    0.0s finished\n",
            "/usr/local/lib/python3.7/dist-packages/sklearn/utils/validation.py:760: DataConversionWarning:\n",
            "\n",
            "A column-vector y was passed when a 1d array was expected. Please change the shape of y to (n_samples, ), for example using ravel().\n",
            "\n"
          ]
        }
      ]
    },
    {
      "cell_type": "code",
      "metadata": {
        "id": "WcCEG8-HcSZF"
      },
      "source": [
        "#tuning_foresta(1,10)"
      ],
      "execution_count": null,
      "outputs": []
    },
    {
      "cell_type": "code",
      "metadata": {
        "id": "gWP7c_OVcSZF"
      },
      "source": [
        "#tuning_albero_decisione_CV(1,10)"
      ],
      "execution_count": null,
      "outputs": []
    },
    {
      "cell_type": "code",
      "metadata": {
        "id": "1zjUKr8lcSZG"
      },
      "source": [
        "#tuning_SVM_CV(1,10)"
      ],
      "execution_count": null,
      "outputs": []
    },
    {
      "cell_type": "code",
      "metadata": {
        "id": "EGmsDasrcSZG"
      },
      "source": [
        "#validazione_incrociata_kfold(1,10,1)"
      ],
      "execution_count": null,
      "outputs": []
    },
    {
      "cell_type": "code",
      "metadata": {
        "id": "QtOtKyttcSZH"
      },
      "source": [
        "#validazione_incrociata_kfold(1,10,2)"
      ],
      "execution_count": null,
      "outputs": []
    },
    {
      "cell_type": "code",
      "metadata": {
        "id": "j6hjG7PocSZH"
      },
      "source": [
        "#validazione_incrociata_score(1,10,1)"
      ],
      "execution_count": null,
      "outputs": []
    },
    {
      "cell_type": "code",
      "metadata": {
        "id": "DvsQ1vhNcSZI"
      },
      "source": [
        "#validazione_incrociata_score(1,10,2)"
      ],
      "execution_count": null,
      "outputs": []
    },
    {
      "cell_type": "code",
      "metadata": {
        "id": "0hupy0HFcSZI"
      },
      "source": [
        "#prova_pipeline(1,2)"
      ],
      "execution_count": null,
      "outputs": []
    },
    {
      "cell_type": "code",
      "metadata": {
        "id": "0GOsjHr3cSZJ"
      },
      "source": [
        ""
      ],
      "execution_count": null,
      "outputs": []
    },
    {
      "cell_type": "code",
      "metadata": {
        "colab": {
          "base_uri": "https://localhost:8080/"
        },
        "id": "GLYdamqAcSZJ",
        "outputId": "9339b561-0162-4752-eefb-fa70973b89e9"
      },
      "source": [
        "tuning_KNN(1,5)"
      ],
      "execution_count": null,
      "outputs": [
        {
          "name": "stderr",
          "output_type": "stream",
          "text": [
            "[Parallel(n_jobs=-1)]: Using backend LokyBackend with 2 concurrent workers.\n"
          ]
        },
        {
          "name": "stdout",
          "output_type": "stream",
          "text": [
            "Fitting 5 folds for each of 16 candidates, totalling 80 fits\n",
            "Accuratezza fase di Cross Validation con dati di Addestramento/Validazione: 1.000\n",
            "{'algorithm': 'auto', 'n_neighbors': 5, 'weights': 'uniform'}\n",
            "Accuratezza con dati di Test: 1.000\n",
            "Risultato sui dati di test:\n",
            "              precision    recall  f1-score   support\n",
            "\n",
            "           0       1.00      1.00      1.00         6\n",
            "           1       1.00      1.00      1.00         6\n",
            "\n",
            "    accuracy                           1.00        12\n",
            "   macro avg       1.00      1.00      1.00        12\n",
            "weighted avg       1.00      1.00      1.00        12\n",
            "\n",
            "[[6 0]\n",
            " [0 6]]\n",
            "Accuratezza Test: 100.000\n",
            "Precisione  Test: 100.000\n",
            "Sensitività Test: 100.000\n",
            "Specificità Test: 100.000\n",
            "F1 score    Test: 100.000\n"
          ]
        },
        {
          "name": "stderr",
          "output_type": "stream",
          "text": [
            "[Parallel(n_jobs=-1)]: Done  80 out of  80 | elapsed:    0.2s finished\n",
            "/usr/local/lib/python3.7/dist-packages/sklearn/model_selection/_search.py:739: DataConversionWarning:\n",
            "\n",
            "A column-vector y was passed when a 1d array was expected. Please change the shape of y to (n_samples, ), for example using ravel().\n",
            "\n"
          ]
        }
      ]
    },
    {
      "cell_type": "code",
      "metadata": {
        "id": "GNncabGFcSZJ"
      },
      "source": [
        "#tuning_MP(1,5)"
      ],
      "execution_count": null,
      "outputs": []
    },
    {
      "cell_type": "code",
      "metadata": {
        "id": "vPt7FCOjcSZK"
      },
      "source": [
        "#tuning_LR(1,5)"
      ],
      "execution_count": null,
      "outputs": []
    },
    {
      "cell_type": "code",
      "metadata": {
        "id": "UCAx79xfcSZK"
      },
      "source": [
        "#tuning_foresta(1,5)"
      ],
      "execution_count": null,
      "outputs": []
    },
    {
      "cell_type": "code",
      "metadata": {
        "id": "6G5c3wG6cSZL"
      },
      "source": [
        ""
      ],
      "execution_count": null,
      "outputs": []
    },
    {
      "cell_type": "markdown",
      "metadata": {
        "id": "jqZZXcqpcSZL"
      },
      "source": [
        "#### Caso2 AD vs MCI"
      ]
    },
    {
      "cell_type": "code",
      "metadata": {
        "id": "BgnHUd10cSZM"
      },
      "source": [
        ""
      ],
      "execution_count": null,
      "outputs": []
    },
    {
      "cell_type": "code",
      "metadata": {
        "id": "dBTs18bLcSZM"
      },
      "source": [
        "\n",
        "df=ADMCI.loc[:,0]\n",
        "\n",
        "X = df.to_numpy()\n",
        "\n",
        "Y = ADMCI.loc[:,1]\n",
        "y = Y.to_numpy()\n",
        "y = np.where(y == 1, 1, 0)\n",
        "#from sklearn.model_selection import train_test_split\n",
        "\n",
        "X_train, X_test, y_train, y_test = train_test_split(X, y, test_size=0.3,stratify=y,random_state=42)\n",
        "\n",
        "#pca = PCA(n_components=5)\n",
        "\n",
        "#X_train_pca = pca.fit_transform(X_train)\n",
        "#X_test_pca = pca.transform(X_test)\n",
        "\n",
        "X_train_caso2=X_train\n",
        "X_test_caso2=X_test\n",
        "y_train_caso2=y_train\n",
        "y_test_caso2=y_test"
      ],
      "execution_count": null,
      "outputs": []
    },
    {
      "cell_type": "code",
      "metadata": {
        "id": "pKWnjeJAcSZN"
      },
      "source": [
        "X_train_caso2=X_train_caso2.reshape(-1,1)\n",
        "X_test_caso2=X_test_caso2.reshape(-1,1)\n",
        "y_train_caso2=y_train_caso2.reshape(-1,1)\n",
        "y_test_caso2=y_test_caso2.reshape(-1,1)"
      ],
      "execution_count": null,
      "outputs": []
    },
    {
      "cell_type": "code",
      "metadata": {
        "colab": {
          "base_uri": "https://localhost:8080/"
        },
        "id": "qIZs7jCncSZN",
        "outputId": "cc0f807f-9c93-4e3d-d730-ec8338e01d1c"
      },
      "source": [
        "tuning_albero_decisione(2,5)"
      ],
      "execution_count": null,
      "outputs": [
        {
          "name": "stderr",
          "output_type": "stream",
          "text": [
            "[Parallel(n_jobs=-1)]: Using backend LokyBackend with 2 concurrent workers.\n"
          ]
        },
        {
          "name": "stdout",
          "output_type": "stream",
          "text": [
            "Fitting 5 folds for each of 216 candidates, totalling 1080 fits\n",
            "Accuratezza fase di Cross Validation con dati di Addestramento/Validazione: 0.633\n",
            "{'criterion': 'gini', 'max_depth': 3, 'min_samples_leaf': 1, 'min_samples_split': 2, 'min_weight_fraction_leaf': 0}\n",
            "Accuratezza con dati di Test: 0.750\n",
            "Risultato sui dati di test:\n",
            "              precision    recall  f1-score   support\n",
            "\n",
            "           0       0.71      0.83      0.77         6\n",
            "           1       0.80      0.67      0.73         6\n",
            "\n",
            "    accuracy                           0.75        12\n",
            "   macro avg       0.76      0.75      0.75        12\n",
            "weighted avg       0.76      0.75      0.75        12\n",
            "\n",
            "[[5 1]\n",
            " [2 4]]\n",
            "Accuratezza Test: 75.000\n",
            "Precisione  Test: 71.000\n",
            "Sensitività Test: 83.000\n",
            "Specificità Test: 66.000\n",
            "F1 score    Test: 76.000\n"
          ]
        },
        {
          "name": "stderr",
          "output_type": "stream",
          "text": [
            "[Parallel(n_jobs=-1)]: Done 1062 tasks      | elapsed:    1.2s\n",
            "[Parallel(n_jobs=-1)]: Done 1077 out of 1080 | elapsed:    1.2s remaining:    0.0s\n",
            "[Parallel(n_jobs=-1)]: Done 1080 out of 1080 | elapsed:    1.2s finished\n"
          ]
        }
      ]
    },
    {
      "cell_type": "code",
      "metadata": {
        "colab": {
          "base_uri": "https://localhost:8080/"
        },
        "id": "kALwEqRQcSZO",
        "outputId": "3efbc538-6bd8-4ecd-c6e4-535bc88a2681"
      },
      "source": [
        "tuning_SVM(2,5)"
      ],
      "execution_count": null,
      "outputs": [
        {
          "name": "stderr",
          "output_type": "stream",
          "text": [
            "/usr/local/lib/python3.7/dist-packages/sklearn/model_selection/_search.py:281: UserWarning:\n",
            "\n",
            "The total space of parameters 2 is smaller than n_iter=20. Running 2 iterations. For exhaustive searches, use GridSearchCV.\n",
            "\n",
            "[Parallel(n_jobs=-1)]: Using backend LokyBackend with 2 concurrent workers.\n"
          ]
        },
        {
          "name": "stdout",
          "output_type": "stream",
          "text": [
            "Fitting 5 folds for each of 2 candidates, totalling 10 fits\n",
            "Accuratezza fase di Cross Validation con dati di Addestramento/Validazione: 0.673\n",
            "{'kernel': 'rbf'}\n",
            "Accuratezza con dati di Test: 0.750\n",
            "Risultato sui dati di test:\n",
            "              precision    recall  f1-score   support\n",
            "\n",
            "           0       0.71      0.83      0.77         6\n",
            "           1       0.80      0.67      0.73         6\n",
            "\n",
            "    accuracy                           0.75        12\n",
            "   macro avg       0.76      0.75      0.75        12\n",
            "weighted avg       0.76      0.75      0.75        12\n",
            "\n",
            "[[5 1]\n",
            " [2 4]]\n",
            "Accuratezza Test: 75.000\n",
            "Precisione  Test: 71.000\n",
            "Sensitività Test: 83.000\n",
            "Specificità Test: 66.000\n",
            "F1 score    Test: 76.000\n"
          ]
        },
        {
          "name": "stderr",
          "output_type": "stream",
          "text": [
            "[Parallel(n_jobs=-1)]: Done  10 out of  10 | elapsed:   17.1s finished\n",
            "/usr/local/lib/python3.7/dist-packages/sklearn/utils/validation.py:760: DataConversionWarning:\n",
            "\n",
            "A column-vector y was passed when a 1d array was expected. Please change the shape of y to (n_samples, ), for example using ravel().\n",
            "\n"
          ]
        }
      ]
    },
    {
      "cell_type": "code",
      "metadata": {
        "id": "PXM1DaAecSZO"
      },
      "source": [
        "#tuning_foresta(2,10)"
      ],
      "execution_count": null,
      "outputs": []
    },
    {
      "cell_type": "code",
      "metadata": {
        "id": "n9P0xuuwcSZO"
      },
      "source": [
        "#tuning_albero_decisione_CV(2,10)"
      ],
      "execution_count": null,
      "outputs": []
    },
    {
      "cell_type": "code",
      "metadata": {
        "id": "DAl7kt9KcSZP"
      },
      "source": [
        "#tuning_SVM_CV(2,10)"
      ],
      "execution_count": null,
      "outputs": []
    },
    {
      "cell_type": "code",
      "metadata": {
        "id": "-VPeOjC4cSZP"
      },
      "source": [
        "#validazione_incrociata_kfold(2,10,1)"
      ],
      "execution_count": null,
      "outputs": []
    },
    {
      "cell_type": "code",
      "metadata": {
        "id": "KRoC2H6FcSZP"
      },
      "source": [
        "#validazione_incrociata_kfold(2,10,2)"
      ],
      "execution_count": null,
      "outputs": []
    },
    {
      "cell_type": "code",
      "metadata": {
        "id": "AQck4yiHcSZP"
      },
      "source": [
        "#validazione_incrociata_score(2,10,1)"
      ],
      "execution_count": null,
      "outputs": []
    },
    {
      "cell_type": "code",
      "metadata": {
        "id": "kYiDzWYHcSZQ"
      },
      "source": [
        "#validazione_incrociata_score(2,10,2)"
      ],
      "execution_count": null,
      "outputs": []
    },
    {
      "cell_type": "code",
      "metadata": {
        "id": "qntFn1DicSZQ"
      },
      "source": [
        "#prova_pipeline(2,2)"
      ],
      "execution_count": null,
      "outputs": []
    },
    {
      "cell_type": "code",
      "metadata": {
        "id": "igHnjBrrcSZQ"
      },
      "source": [
        "#exec_trad(2,1)"
      ],
      "execution_count": null,
      "outputs": []
    },
    {
      "cell_type": "code",
      "metadata": {
        "id": "s5Mpujj2cSZQ"
      },
      "source": [
        "#exec_trad(2,2)"
      ],
      "execution_count": null,
      "outputs": []
    },
    {
      "cell_type": "code",
      "metadata": {
        "colab": {
          "base_uri": "https://localhost:8080/"
        },
        "id": "9BPU8dgqcSZR",
        "outputId": "20ebc4fc-8d6f-4712-a486-5212d69f3ca8"
      },
      "source": [
        "tuning_KNN(2,5)"
      ],
      "execution_count": null,
      "outputs": [
        {
          "name": "stderr",
          "output_type": "stream",
          "text": [
            "[Parallel(n_jobs=-1)]: Using backend LokyBackend with 2 concurrent workers.\n"
          ]
        },
        {
          "name": "stdout",
          "output_type": "stream",
          "text": [
            "Fitting 5 folds for each of 16 candidates, totalling 80 fits\n",
            "Accuratezza fase di Cross Validation con dati di Addestramento/Validazione: 0.740\n",
            "{'algorithm': 'auto', 'n_neighbors': 5, 'weights': 'uniform'}\n",
            "Accuratezza con dati di Test: 0.917\n",
            "Risultato sui dati di test:\n",
            "              precision    recall  f1-score   support\n",
            "\n",
            "           0       1.00      0.83      0.91         6\n",
            "           1       0.86      1.00      0.92         6\n",
            "\n",
            "    accuracy                           0.92        12\n",
            "   macro avg       0.93      0.92      0.92        12\n",
            "weighted avg       0.93      0.92      0.92        12\n",
            "\n",
            "[[5 1]\n",
            " [0 6]]\n",
            "Accuratezza Test: 91.000\n",
            "Precisione  Test: 100.000\n",
            "Sensitività Test: 83.000\n",
            "Specificità Test: 100.000\n",
            "F1 score    Test: 90.000\n"
          ]
        },
        {
          "name": "stderr",
          "output_type": "stream",
          "text": [
            "[Parallel(n_jobs=-1)]: Done  80 out of  80 | elapsed:    0.2s finished\n",
            "/usr/local/lib/python3.7/dist-packages/sklearn/model_selection/_search.py:739: DataConversionWarning:\n",
            "\n",
            "A column-vector y was passed when a 1d array was expected. Please change the shape of y to (n_samples, ), for example using ravel().\n",
            "\n"
          ]
        }
      ]
    },
    {
      "cell_type": "code",
      "metadata": {
        "id": "xvksvClocSZR"
      },
      "source": [
        "#tuning_MP(2,10)"
      ],
      "execution_count": null,
      "outputs": []
    },
    {
      "cell_type": "code",
      "metadata": {
        "id": "dC3Vw9OBcSZR"
      },
      "source": [
        "#tuning_LR(2,5)"
      ],
      "execution_count": null,
      "outputs": []
    },
    {
      "cell_type": "markdown",
      "metadata": {
        "id": "7f95oU3scSZS"
      },
      "source": [
        "<br>\n",
        "<br>"
      ]
    },
    {
      "cell_type": "markdown",
      "metadata": {
        "id": "_4t6JhqucSZS"
      },
      "source": [
        "<br>\n",
        "<br>"
      ]
    },
    {
      "cell_type": "code",
      "metadata": {
        "id": "3peGxz8ccSZS"
      },
      "source": [
        "#tuning_foresta(2,10)"
      ],
      "execution_count": null,
      "outputs": []
    },
    {
      "cell_type": "markdown",
      "metadata": {
        "id": "GDtinXPBcSZT"
      },
      "source": [
        "#### Caso3 MCI vs HCF"
      ]
    },
    {
      "cell_type": "code",
      "metadata": {
        "id": "o5lN5HvvcSZW"
      },
      "source": [
        ""
      ],
      "execution_count": null,
      "outputs": []
    },
    {
      "cell_type": "code",
      "metadata": {
        "id": "leNxqVmIcSZW"
      },
      "source": [
        "\n",
        "df=MCIHC.loc[:,0]\n",
        "\n",
        "X = df.to_numpy()\n",
        "\n",
        "Y = MCIHC.loc[:,1]\n",
        "y = Y.to_numpy()\n",
        "y = np.where(y == 2, 1, 0)\n",
        "\n",
        "#from sklearn.model_selection import train_test_split\n",
        "\n",
        "\n",
        "X_train, X_test, y_train, y_test = train_test_split(X, y, test_size=0.3,stratify=y,random_state=42)\n",
        "\n",
        "#pca = PCA(n_components=2)\n",
        "\n",
        "#X_train_pca = pca.fit_transform(X_train)\n",
        "#X_test_pca = pca.transform(X_test)\n",
        "\n",
        "X_train_caso3=X_train\n",
        "X_test_caso3=X_test\n",
        "y_train_caso3=y_train\n",
        "y_test_caso3=y_test"
      ],
      "execution_count": null,
      "outputs": []
    },
    {
      "cell_type": "code",
      "metadata": {
        "id": "GoxIeP7_cSZX"
      },
      "source": [
        "X_train_caso3=X_train_caso3.reshape(-1,1)\n",
        "X_test_caso3=X_test_caso3.reshape(-1,1)\n",
        "y_train_caso3=y_train_caso3.reshape(-1,1)\n",
        "y_test_caso3=y_test_caso3.reshape(-1,1)"
      ],
      "execution_count": null,
      "outputs": []
    },
    {
      "cell_type": "code",
      "metadata": {
        "colab": {
          "base_uri": "https://localhost:8080/"
        },
        "id": "Yh63LnHzcSZX",
        "outputId": "9ceb21f3-8fc8-444d-bc83-46c75732dd2f"
      },
      "source": [
        "tuning_albero_decisione(3,10)"
      ],
      "execution_count": null,
      "outputs": [
        {
          "name": "stderr",
          "output_type": "stream",
          "text": [
            "[Parallel(n_jobs=-1)]: Using backend LokyBackend with 2 concurrent workers.\n"
          ]
        },
        {
          "name": "stdout",
          "output_type": "stream",
          "text": [
            "Fitting 10 folds for each of 216 candidates, totalling 2160 fits\n",
            "Accuratezza fase di Cross Validation con dati di Addestramento/Validazione: 0.917\n",
            "{'criterion': 'gini', 'max_depth': 3, 'min_samples_leaf': 1, 'min_samples_split': 3, 'min_weight_fraction_leaf': 0}\n",
            "Accuratezza con dati di Test: 0.917\n",
            "Risultato sui dati di test:\n",
            "              precision    recall  f1-score   support\n",
            "\n",
            "           0       0.86      1.00      0.92         6\n",
            "           1       1.00      0.83      0.91         6\n",
            "\n",
            "    accuracy                           0.92        12\n",
            "   macro avg       0.93      0.92      0.92        12\n",
            "weighted avg       0.93      0.92      0.92        12\n",
            "\n",
            "[[6 0]\n",
            " [1 5]]\n",
            "Accuratezza Test: 91.000\n",
            "Precisione  Test: 85.000\n",
            "Sensitività Test: 100.000\n",
            "Specificità Test: 83.000\n",
            "F1 score    Test: 91.000\n"
          ]
        },
        {
          "name": "stderr",
          "output_type": "stream",
          "text": [
            "[Parallel(n_jobs=-1)]: Done 1956 tasks      | elapsed:    2.1s\n",
            "[Parallel(n_jobs=-1)]: Done 2160 out of 2160 | elapsed:    2.3s finished\n"
          ]
        }
      ]
    },
    {
      "cell_type": "code",
      "metadata": {
        "colab": {
          "base_uri": "https://localhost:8080/"
        },
        "id": "Rt0UYJo_cSZX",
        "outputId": "91c594a8-06cd-4655-97ae-692235d38e41"
      },
      "source": [
        "tuning_SVM(3,10)"
      ],
      "execution_count": null,
      "outputs": [
        {
          "name": "stderr",
          "output_type": "stream",
          "text": [
            "/usr/local/lib/python3.7/dist-packages/sklearn/model_selection/_search.py:281: UserWarning:\n",
            "\n",
            "The total space of parameters 2 is smaller than n_iter=20. Running 2 iterations. For exhaustive searches, use GridSearchCV.\n",
            "\n",
            "[Parallel(n_jobs=-1)]: Using backend LokyBackend with 2 concurrent workers.\n"
          ]
        },
        {
          "name": "stdout",
          "output_type": "stream",
          "text": [
            "Fitting 10 folds for each of 2 candidates, totalling 20 fits\n",
            "Accuratezza fase di Cross Validation con dati di Addestramento/Validazione: 0.933\n",
            "{'kernel': 'rbf'}\n",
            "Accuratezza con dati di Test: 0.833\n",
            "Risultato sui dati di test:\n",
            "              precision    recall  f1-score   support\n",
            "\n",
            "           0       0.75      1.00      0.86         6\n",
            "           1       1.00      0.67      0.80         6\n",
            "\n",
            "    accuracy                           0.83        12\n",
            "   macro avg       0.88      0.83      0.83        12\n",
            "weighted avg       0.88      0.83      0.83        12\n",
            "\n",
            "[[6 0]\n",
            " [2 4]]\n",
            "Accuratezza Test: 83.000\n",
            "Precisione  Test: 75.000\n",
            "Sensitività Test: 100.000\n",
            "Specificità Test: 66.000\n",
            "F1 score    Test: 85.000\n"
          ]
        },
        {
          "name": "stderr",
          "output_type": "stream",
          "text": [
            "[Parallel(n_jobs=-1)]: Done  20 out of  20 | elapsed:    0.7s finished\n",
            "/usr/local/lib/python3.7/dist-packages/sklearn/utils/validation.py:760: DataConversionWarning:\n",
            "\n",
            "A column-vector y was passed when a 1d array was expected. Please change the shape of y to (n_samples, ), for example using ravel().\n",
            "\n"
          ]
        }
      ]
    },
    {
      "cell_type": "code",
      "metadata": {
        "id": "gQ3yUqLScSZY"
      },
      "source": [
        "#tuning_albero_decisione_CV(3,10)"
      ],
      "execution_count": null,
      "outputs": []
    },
    {
      "cell_type": "code",
      "metadata": {
        "id": "BNaVjvHgcSZY"
      },
      "source": [
        "#tuning_SVM_CV(3,10)"
      ],
      "execution_count": null,
      "outputs": []
    },
    {
      "cell_type": "code",
      "metadata": {
        "id": "e9BBXTd3cSZY"
      },
      "source": [
        "#validazione_incrociata_kfold(3,10,1)"
      ],
      "execution_count": null,
      "outputs": []
    },
    {
      "cell_type": "code",
      "metadata": {
        "id": "1nf10VSwcSZY"
      },
      "source": [
        "#validazione_incrociata_kfold(3,10,2)"
      ],
      "execution_count": null,
      "outputs": []
    },
    {
      "cell_type": "code",
      "metadata": {
        "id": "tgHNc7drcSZZ"
      },
      "source": [
        "#validazione_incrociata_score(3,10,1)"
      ],
      "execution_count": null,
      "outputs": []
    },
    {
      "cell_type": "code",
      "metadata": {
        "id": "LnPVDfPQcSZZ"
      },
      "source": [
        "#validazione_incrociata_score(3,10,2)"
      ],
      "execution_count": null,
      "outputs": []
    },
    {
      "cell_type": "code",
      "metadata": {
        "id": "oWgbtPsucSZZ"
      },
      "source": [
        "#prova_pipeline(3,2)"
      ],
      "execution_count": null,
      "outputs": []
    },
    {
      "cell_type": "code",
      "metadata": {
        "id": "ll8TUBHpcSZa"
      },
      "source": [
        "#exec_trad(3,1)"
      ],
      "execution_count": null,
      "outputs": []
    },
    {
      "cell_type": "code",
      "metadata": {
        "id": "S7wWhyRzcSZa"
      },
      "source": [
        "#exec_trad(3,2)"
      ],
      "execution_count": null,
      "outputs": []
    },
    {
      "cell_type": "code",
      "metadata": {
        "colab": {
          "base_uri": "https://localhost:8080/"
        },
        "id": "QIssBEFqcSZa",
        "outputId": "9be19164-c384-4926-b51a-197cfae72771"
      },
      "source": [
        "tuning_KNN(3,5)"
      ],
      "execution_count": null,
      "outputs": [
        {
          "name": "stderr",
          "output_type": "stream",
          "text": [
            "[Parallel(n_jobs=-1)]: Using backend LokyBackend with 2 concurrent workers.\n"
          ]
        },
        {
          "name": "stdout",
          "output_type": "stream",
          "text": [
            "Fitting 5 folds for each of 16 candidates, totalling 80 fits\n",
            "Accuratezza fase di Cross Validation con dati di Addestramento/Validazione: 0.960\n",
            "{'algorithm': 'auto', 'n_neighbors': 5, 'weights': 'uniform'}\n",
            "Accuratezza con dati di Test: 0.917\n",
            "Risultato sui dati di test:\n",
            "              precision    recall  f1-score   support\n",
            "\n",
            "           0       0.86      1.00      0.92         6\n",
            "           1       1.00      0.83      0.91         6\n",
            "\n",
            "    accuracy                           0.92        12\n",
            "   macro avg       0.93      0.92      0.92        12\n",
            "weighted avg       0.93      0.92      0.92        12\n",
            "\n",
            "[[6 0]\n",
            " [1 5]]\n",
            "Accuratezza Test: 91.000\n",
            "Precisione  Test: 85.000\n",
            "Sensitività Test: 100.000\n",
            "Specificità Test: 83.000\n",
            "F1 score    Test: 91.000\n"
          ]
        },
        {
          "name": "stderr",
          "output_type": "stream",
          "text": [
            "[Parallel(n_jobs=-1)]: Done  80 out of  80 | elapsed:    0.2s finished\n",
            "/usr/local/lib/python3.7/dist-packages/sklearn/model_selection/_search.py:739: DataConversionWarning:\n",
            "\n",
            "A column-vector y was passed when a 1d array was expected. Please change the shape of y to (n_samples, ), for example using ravel().\n",
            "\n"
          ]
        }
      ]
    },
    {
      "cell_type": "code",
      "metadata": {
        "id": "3WB7HPpmcSZb"
      },
      "source": [
        "#tuning_MP(3,10)"
      ],
      "execution_count": null,
      "outputs": []
    },
    {
      "cell_type": "code",
      "metadata": {
        "id": "WtZGWNN4cSZb"
      },
      "source": [
        "#tuning_LR(3,5)"
      ],
      "execution_count": null,
      "outputs": []
    },
    {
      "cell_type": "code",
      "metadata": {
        "id": "0WeGWD83cSZb"
      },
      "source": [
        "#tuning_foresta(3,10)"
      ],
      "execution_count": null,
      "outputs": []
    },
    {
      "cell_type": "code",
      "metadata": {
        "id": "RaT4rEDtcSZc"
      },
      "source": [
        ""
      ],
      "execution_count": null,
      "outputs": []
    },
    {
      "cell_type": "markdown",
      "metadata": {
        "id": "1v2f8SxlcSZc"
      },
      "source": [
        "#### Caso4 CASE vs HCF"
      ]
    },
    {
      "cell_type": "code",
      "metadata": {
        "id": "aGHJ0FyycSZc"
      },
      "source": [
        ""
      ],
      "execution_count": null,
      "outputs": []
    },
    {
      "cell_type": "code",
      "metadata": {
        "id": "s6VqhRmrcSZc"
      },
      "source": [
        "df=CASEHC.loc[:,0]\n",
        "\n",
        "X = df.to_numpy()\n",
        "\n",
        "Y = CASEHC.loc[:,1]\n",
        "y = Y.to_numpy()\n",
        "y = np.where(y == 3, 1, 0)\n",
        "#from sklearn.model_selection import train_test_split\n",
        "\n",
        "\n",
        "X_train, X_test, y_train, y_test = train_test_split(X, y, test_size=0.3,stratify=y,random_state=42)\n",
        "\n",
        "#pca = PCA(n_components=2)\n",
        "\n",
        "#X_train_pca = pca.fit_transform(X_train)\n",
        "#X_test_pca = pca.transform(X_test)\n",
        "\n",
        "X_train_caso4=X_train\n",
        "X_test_caso4=X_test\n",
        "y_train_caso4=y_train\n",
        "y_test_caso4=y_test"
      ],
      "execution_count": null,
      "outputs": []
    },
    {
      "cell_type": "code",
      "metadata": {
        "id": "hVR9oGD8cSZd"
      },
      "source": [
        "X_train_caso4=X_train_caso4.reshape(-1,1)\n",
        "X_test_caso4=X_test_caso4.reshape(-1,1)\n",
        "y_train_caso4=y_train_caso4.reshape(-1,1)\n",
        "y_test_caso4=y_test_caso4.reshape(-1,1)"
      ],
      "execution_count": null,
      "outputs": []
    },
    {
      "cell_type": "code",
      "metadata": {
        "colab": {
          "base_uri": "https://localhost:8080/"
        },
        "id": "Ab6mDVwEcSZd",
        "outputId": "e10267cc-c52e-4ef3-fffb-5a8c061013d3"
      },
      "source": [
        "tuning_albero_decisione(4,5)"
      ],
      "execution_count": null,
      "outputs": [
        {
          "name": "stderr",
          "output_type": "stream",
          "text": [
            "[Parallel(n_jobs=-1)]: Using backend LokyBackend with 2 concurrent workers.\n"
          ]
        },
        {
          "name": "stdout",
          "output_type": "stream",
          "text": [
            "Fitting 5 folds for each of 216 candidates, totalling 1080 fits\n",
            "Accuratezza fase di Cross Validation con dati di Addestramento/Validazione: 0.950\n",
            "{'criterion': 'gini', 'max_depth': 3, 'min_samples_leaf': 3, 'min_samples_split': 2, 'min_weight_fraction_leaf': 0}\n",
            "Accuratezza con dati di Test: 0.944\n",
            "Risultato sui dati di test:\n",
            "              precision    recall  f1-score   support\n",
            "\n",
            "           0       1.00      0.92      0.96        12\n",
            "           1       0.86      1.00      0.92         6\n",
            "\n",
            "    accuracy                           0.94        18\n",
            "   macro avg       0.93      0.96      0.94        18\n",
            "weighted avg       0.95      0.94      0.95        18\n",
            "\n",
            "[[11  1]\n",
            " [ 0  6]]\n",
            "Accuratezza Test: 94.000\n",
            "Precisione  Test: 100.000\n",
            "Sensitività Test: 91.000\n",
            "Specificità Test: 100.000\n",
            "F1 score    Test: 95.000\n"
          ]
        },
        {
          "name": "stderr",
          "output_type": "stream",
          "text": [
            "[Parallel(n_jobs=-1)]: Done 1064 tasks      | elapsed:    1.2s\n",
            "[Parallel(n_jobs=-1)]: Done 1080 out of 1080 | elapsed:    1.2s finished\n"
          ]
        }
      ]
    },
    {
      "cell_type": "code",
      "metadata": {
        "colab": {
          "base_uri": "https://localhost:8080/"
        },
        "id": "jliGNnArcSZd",
        "outputId": "83b541da-02f3-4e9d-df78-c8a923786016"
      },
      "source": [
        "tuning_SVM(4,5)"
      ],
      "execution_count": null,
      "outputs": [
        {
          "name": "stderr",
          "output_type": "stream",
          "text": [
            "/usr/local/lib/python3.7/dist-packages/sklearn/model_selection/_search.py:281: UserWarning:\n",
            "\n",
            "The total space of parameters 2 is smaller than n_iter=20. Running 2 iterations. For exhaustive searches, use GridSearchCV.\n",
            "\n",
            "[Parallel(n_jobs=-1)]: Using backend LokyBackend with 2 concurrent workers.\n"
          ]
        },
        {
          "name": "stdout",
          "output_type": "stream",
          "text": [
            "Fitting 5 folds for each of 2 candidates, totalling 10 fits\n"
          ]
        },
        {
          "name": "stderr",
          "output_type": "stream",
          "text": [
            "[Parallel(n_jobs=-1)]: Done   7 out of  10 | elapsed:    0.6s remaining:    0.2s\n"
          ]
        },
        {
          "name": "stdout",
          "output_type": "stream",
          "text": [
            "Accuratezza fase di Cross Validation con dati di Addestramento/Validazione: 0.950\n",
            "{'kernel': 'rbf'}\n",
            "Accuratezza con dati di Test: 0.889\n",
            "Risultato sui dati di test:\n",
            "              precision    recall  f1-score   support\n",
            "\n",
            "           0       1.00      0.83      0.91        12\n",
            "           1       0.75      1.00      0.86         6\n",
            "\n",
            "    accuracy                           0.89        18\n",
            "   macro avg       0.88      0.92      0.88        18\n",
            "weighted avg       0.92      0.89      0.89        18\n",
            "\n",
            "[[10  2]\n",
            " [ 0  6]]\n",
            "Accuratezza Test: 88.000\n",
            "Precisione  Test: 100.000\n",
            "Sensitività Test: 83.000\n",
            "Specificità Test: 100.000\n",
            "F1 score    Test: 90.000\n"
          ]
        },
        {
          "name": "stderr",
          "output_type": "stream",
          "text": [
            "[Parallel(n_jobs=-1)]: Done  10 out of  10 | elapsed:    1.0s finished\n",
            "/usr/local/lib/python3.7/dist-packages/sklearn/utils/validation.py:760: DataConversionWarning:\n",
            "\n",
            "A column-vector y was passed when a 1d array was expected. Please change the shape of y to (n_samples, ), for example using ravel().\n",
            "\n"
          ]
        }
      ]
    },
    {
      "cell_type": "code",
      "metadata": {
        "id": "XxJTuo--cSZd"
      },
      "source": [
        "#tuning_albero_decisione_CV(4,10)"
      ],
      "execution_count": null,
      "outputs": []
    },
    {
      "cell_type": "code",
      "metadata": {
        "id": "qLXT4J6DcSZe"
      },
      "source": [
        "#tuning_SVM_CV(4,10)"
      ],
      "execution_count": null,
      "outputs": []
    },
    {
      "cell_type": "code",
      "metadata": {
        "id": "vad2juI-cSZe"
      },
      "source": [
        "#validazione_incrociata_kfold(4,10,1)"
      ],
      "execution_count": null,
      "outputs": []
    },
    {
      "cell_type": "code",
      "metadata": {
        "id": "Nt3VxycLcSZe"
      },
      "source": [
        "#validazione_incrociata_kfold(4,10,2)"
      ],
      "execution_count": null,
      "outputs": []
    },
    {
      "cell_type": "code",
      "metadata": {
        "id": "D7lqjO-DcSZe"
      },
      "source": [
        "#validazione_incrociata_score(4,10,1)"
      ],
      "execution_count": null,
      "outputs": []
    },
    {
      "cell_type": "code",
      "metadata": {
        "id": "DFg771vucSZf"
      },
      "source": [
        "#validazione_incrociata_score(4,10,2)"
      ],
      "execution_count": null,
      "outputs": []
    },
    {
      "cell_type": "code",
      "metadata": {
        "id": "qVUXnYnlcSZf"
      },
      "source": [
        "#prova_pipeline(4,2)"
      ],
      "execution_count": null,
      "outputs": []
    },
    {
      "cell_type": "code",
      "metadata": {
        "id": "M1hvGdLQcSZf"
      },
      "source": [
        "#exec_trad(4,1)"
      ],
      "execution_count": null,
      "outputs": []
    },
    {
      "cell_type": "code",
      "metadata": {
        "id": "Lhr5f28WcSZf"
      },
      "source": [
        "#exec_trad(4,2)"
      ],
      "execution_count": null,
      "outputs": []
    },
    {
      "cell_type": "code",
      "metadata": {
        "colab": {
          "base_uri": "https://localhost:8080/"
        },
        "id": "SbHN7mbVcSZg",
        "outputId": "47cf257d-d789-4a64-ee54-a8b21a6c1dc6"
      },
      "source": [
        "tuning_KNN(4,5)"
      ],
      "execution_count": null,
      "outputs": [
        {
          "name": "stderr",
          "output_type": "stream",
          "text": [
            "[Parallel(n_jobs=-1)]: Using backend LokyBackend with 2 concurrent workers.\n"
          ]
        },
        {
          "name": "stdout",
          "output_type": "stream",
          "text": [
            "Fitting 5 folds for each of 16 candidates, totalling 80 fits\n",
            "Accuratezza fase di Cross Validation con dati di Addestramento/Validazione: 0.975\n",
            "{'algorithm': 'auto', 'n_neighbors': 5, 'weights': 'uniform'}\n",
            "Accuratezza con dati di Test: 1.000\n",
            "Risultato sui dati di test:\n"
          ]
        },
        {
          "name": "stderr",
          "output_type": "stream",
          "text": [
            "[Parallel(n_jobs=-1)]: Done  77 out of  80 | elapsed:    0.2s remaining:    0.0s\n",
            "[Parallel(n_jobs=-1)]: Done  80 out of  80 | elapsed:    0.2s finished\n",
            "/usr/local/lib/python3.7/dist-packages/sklearn/model_selection/_search.py:739: DataConversionWarning:\n",
            "\n",
            "A column-vector y was passed when a 1d array was expected. Please change the shape of y to (n_samples, ), for example using ravel().\n",
            "\n"
          ]
        },
        {
          "name": "stdout",
          "output_type": "stream",
          "text": [
            "              precision    recall  f1-score   support\n",
            "\n",
            "           0       1.00      1.00      1.00        12\n",
            "           1       1.00      1.00      1.00         6\n",
            "\n",
            "    accuracy                           1.00        18\n",
            "   macro avg       1.00      1.00      1.00        18\n",
            "weighted avg       1.00      1.00      1.00        18\n",
            "\n",
            "[[12  0]\n",
            " [ 0  6]]\n",
            "Accuratezza Test: 100.000\n",
            "Precisione  Test: 100.000\n",
            "Sensitività Test: 100.000\n",
            "Specificità Test: 100.000\n",
            "F1 score    Test: 100.000\n"
          ]
        }
      ]
    },
    {
      "cell_type": "code",
      "metadata": {
        "id": "DLFqk_YOcSZg"
      },
      "source": [
        "#tuning_MP(4,10)"
      ],
      "execution_count": null,
      "outputs": []
    },
    {
      "cell_type": "code",
      "metadata": {
        "id": "bv6q24wYcSZg"
      },
      "source": [
        "#tuning_LR(4,5)"
      ],
      "execution_count": null,
      "outputs": []
    },
    {
      "cell_type": "code",
      "metadata": {
        "id": "DjaoPc5AcSZj"
      },
      "source": [
        "#tuning_foresta(4,10)"
      ],
      "execution_count": null,
      "outputs": []
    },
    {
      "cell_type": "markdown",
      "metadata": {
        "id": "4NfyPOHCcSZk"
      },
      "source": [
        "<br>\n",
        "<br>"
      ]
    },
    {
      "cell_type": "code",
      "metadata": {
        "id": "Nn-71WjycSZk"
      },
      "source": [
        ""
      ],
      "execution_count": null,
      "outputs": []
    },
    {
      "cell_type": "code",
      "metadata": {
        "id": "jg7DpO91cSZk"
      },
      "source": [
        ""
      ],
      "execution_count": null,
      "outputs": []
    },
    {
      "cell_type": "markdown",
      "metadata": {
        "id": "UW81vUL9h1Kc"
      },
      "source": [
        "### 12 hz"
      ]
    },
    {
      "cell_type": "code",
      "metadata": {
        "id": "xS0plE9mh1Kd"
      },
      "source": [
        ""
      ],
      "execution_count": null,
      "outputs": []
    },
    {
      "cell_type": "code",
      "metadata": {
        "id": "IdrVyQfSh1Kd"
      },
      "source": [
        "\n",
        "y1=hz12.loc[:,0].to_numpy()\n",
        "y2=hz12.loc[:,1].to_numpy()\n",
        "y3=hz12.loc[:,2].to_numpy()\n",
        "\n"
      ],
      "execution_count": null,
      "outputs": []
    },
    {
      "cell_type": "code",
      "metadata": {
        "id": "8RFVhtHph1Ke"
      },
      "source": [
        ""
      ],
      "execution_count": null,
      "outputs": []
    },
    {
      "cell_type": "code",
      "metadata": {
        "colab": {
          "base_uri": "https://localhost:8080/"
        },
        "id": "X3Zsk-5Lh1Ke",
        "outputId": "fcfd3185-27df-41cb-fc8b-535f53ef58a7"
      },
      "source": [
        "y1,y2,y3,hz3"
      ],
      "execution_count": null,
      "outputs": [
        {
          "data": {
            "text/plain": [
              "(array([ 63411.61627481, 279942.44132792,  50399.0079478 ,  79464.71103742,\n",
              "         41887.48524392,  62844.7692198 ,  52808.33629433,  41347.70271986,\n",
              "        116104.74887453,  53528.87795485,  47222.05633884,  77054.18218656,\n",
              "        291961.85920418,  45823.51451874,  81833.41569948,  93112.01797814,\n",
              "         59725.76279942,  69477.93408976,  34256.5200488 ]),\n",
              " array([ 29015.25639406,  16681.40673473,  11764.41013251,  38413.16470048,\n",
              "         54443.06755916,  32373.52704502,  30874.56552615,  20407.22891647,\n",
              "         22676.79606507,  13996.89549645,  28782.5234208 ,  25813.73151729,\n",
              "         20512.34709677,  56578.04705691,  17538.01495201,  23114.93935622,\n",
              "        167365.12383005, 204035.27014026,  70166.85503886]),\n",
              " array([ 8434.27615303,  8416.92072924,  3025.72528631,  1527.22648787,\n",
              "         1270.89531897, 12541.38858253,  4857.99588266,  2501.63037989,\n",
              "        14178.48629375,  3575.48584159,  1281.30249533, 10686.72863582,\n",
              "         5409.93651995,  3173.02432522,  1329.68223794,  1214.28918348,\n",
              "         7830.80793967,  2762.64001553,  1946.37970334]),\n",
              "                 0              1             2\n",
              " 0    11941.878738    4543.079199   4260.988482\n",
              " 1    21550.001904    3171.543412   6215.959227\n",
              " 2     7954.533234    2502.250572   2878.113664\n",
              " 3    42676.089206   17653.023737    946.372606\n",
              " 4    12148.524998   27477.274131    612.110742\n",
              " 5    12297.442066    3811.751034   7665.308313\n",
              " 6    19050.995665   10227.178360   3062.984321\n",
              " 7     4992.630324   22822.837806   1211.440626\n",
              " 8    16011.533992    6828.018160  22390.062009\n",
              " 9     9151.569946    3078.353285   2888.256949\n",
              " 10   14843.201818    9843.491084    563.057786\n",
              " 11   10445.070016    5141.196547   4760.093445\n",
              " 12  182700.816803    4200.470742   4973.644479\n",
              " 13   15954.139771   16579.985919   2618.749608\n",
              " 14   11744.109673    5865.329829    698.500991\n",
              " 15    7023.707557   12802.749011    703.477024\n",
              " 16   37297.839360  104104.832648   4747.694480\n",
              " 17   11622.940208   71138.564456   2467.786370\n",
              " 18   14182.838368   23134.713975   1533.933877)"
            ]
          },
          "execution_count": 276,
          "metadata": {},
          "output_type": "execute_result"
        }
      ]
    },
    {
      "cell_type": "code",
      "metadata": {
        "id": "Sxj5VBMxh1Kf"
      },
      "source": [
        "x1 = np.linspace(0, 19, len(y1), endpoint=True)\n",
        "x2 = np.linspace(0, 19,len(y2), endpoint=True)\n",
        "x3 = np.linspace(0, 19,len(y3), endpoint=True)"
      ],
      "execution_count": null,
      "outputs": []
    },
    {
      "cell_type": "code",
      "metadata": {
        "colab": {
          "base_uri": "https://localhost:8080/",
          "height": 265
        },
        "id": "bOke0BUGh1Kg",
        "outputId": "fef6556b-2e8d-45c7-cf67-65b881f1eb26"
      },
      "source": [
        "plt.plot(x1, y1, 'g')\n",
        "plt.plot(x2, y2, 'b')\n",
        "plt.plot(x3, y3, 'r')\n",
        "#plt.ylim(0,300000)\n",
        "plt.show()"
      ],
      "execution_count": null,
      "outputs": [
        {
          "data": {
            "image/png": "[encoded data removed]",
            "text/plain": [
              "<Figure size 432x288 with 1 Axes>"
            ]
          },
          "metadata": {},
          "output_type": "display_data"
        }
      ]
    },
    {
      "cell_type": "code",
      "metadata": {
        "id": "UfYdaBedh1Kg"
      },
      "source": [
        ""
      ],
      "execution_count": null,
      "outputs": []
    },
    {
      "cell_type": "code",
      "metadata": {
        "id": "4eM6Z-4Nh1Kh"
      },
      "source": [
        "matriceAD = np.zeros((len(y1),2))\n",
        "matriceMCI = np.zeros((len(y2),2))\n",
        "matriceHC = np.zeros((len(y3),2))\n"
      ],
      "execution_count": null,
      "outputs": []
    },
    {
      "cell_type": "code",
      "metadata": {
        "id": "HOtYai9Zh1Kh"
      },
      "source": [
        "matriceADHC = np.zeros((len(y1)+len(y3),2))\n",
        "matriceMCIHC = np.zeros((len(y2)+len(y3),2))\n",
        "matriceADMCI = np.zeros((len(y1)+len(y2),2))\n",
        "matriceCASEHC = np.zeros((len(y2)+len(y3)+len(y1),2))"
      ],
      "execution_count": null,
      "outputs": []
    },
    {
      "cell_type": "code",
      "metadata": {
        "id": "fDJjK3XCh1Kh"
      },
      "source": [
        "for i in range(len(y1)):\n",
        "      matriceAD[i,0]=y1[i]\n",
        "      matriceAD[i,1]=1"
      ],
      "execution_count": null,
      "outputs": []
    },
    {
      "cell_type": "code",
      "metadata": {
        "id": "Hj2pf8zkh1Ki"
      },
      "source": [
        "for i in range(len(y2)):\n",
        "      matriceMCI[i,0]=y2[i]\n",
        "      matriceMCI[i,1]=2"
      ],
      "execution_count": null,
      "outputs": []
    },
    {
      "cell_type": "code",
      "metadata": {
        "id": "Lc3cyFOeh1Ki"
      },
      "source": [
        "for i in range(len(y3)):\n",
        "      matriceHC[i,0]=y3[i]\n",
        "      matriceHC[i,1]=3"
      ],
      "execution_count": null,
      "outputs": []
    },
    {
      "cell_type": "code",
      "metadata": {
        "id": "o29GcQ1mh1Kj"
      },
      "source": [
        "AD=pd.DataFrame(matriceAD)\n",
        "HC=pd.DataFrame(matriceHC)\n",
        "MCI=pd.DataFrame(matriceMCI)"
      ],
      "execution_count": null,
      "outputs": []
    },
    {
      "cell_type": "code",
      "metadata": {
        "id": "_AtwH3y3h1Kj"
      },
      "source": [
        "ADHC=AD.copy()\n",
        "ADHC=ADHC.append(HC,ignore_index=True)"
      ],
      "execution_count": null,
      "outputs": []
    },
    {
      "cell_type": "code",
      "metadata": {
        "id": "HG24U7nlh1Kk"
      },
      "source": [
        "ADMCI=AD.copy()\n",
        "ADMCI=ADMCI.append(MCI,ignore_index=True)"
      ],
      "execution_count": null,
      "outputs": []
    },
    {
      "cell_type": "code",
      "metadata": {
        "id": "fTOQo4u0h1Kk"
      },
      "source": [
        "MCIHC=MCI.copy()\n",
        "MCIHC=MCIHC.append(HC,ignore_index=True)"
      ],
      "execution_count": null,
      "outputs": []
    },
    {
      "cell_type": "code",
      "metadata": {
        "id": "84KgWNvah1Kk"
      },
      "source": [
        "CASEHC=AD.copy()\n",
        "CASEHC=CASEHC.append(MCI,ignore_index=True)\n",
        "CASEHC=CASEHC.append(HC,ignore_index=True)"
      ],
      "execution_count": null,
      "outputs": []
    },
    {
      "cell_type": "code",
      "metadata": {
        "id": "PEjMwM3Xh1Kk"
      },
      "source": [
        ""
      ],
      "execution_count": null,
      "outputs": []
    },
    {
      "cell_type": "markdown",
      "metadata": {
        "id": "mIMGZFQPh1Kl"
      },
      "source": [
        "#### Caso1 AD vs HCF"
      ]
    },
    {
      "cell_type": "code",
      "metadata": {
        "id": "3xaDUBG1h1Kl"
      },
      "source": [
        "df=ADHC.loc[:,0]\n",
        "\n",
        "X = df.to_numpy()\n",
        "\n",
        "Y = ADHC.loc[:,1]\n",
        "y = Y.to_numpy()"
      ],
      "execution_count": null,
      "outputs": []
    },
    {
      "cell_type": "code",
      "metadata": {
        "id": "WMrCYGOgh1Kl"
      },
      "source": [
        "y = np.where(y == 1, 1, 0)"
      ],
      "execution_count": null,
      "outputs": []
    },
    {
      "cell_type": "code",
      "metadata": {
        "colab": {
          "base_uri": "https://localhost:8080/"
        },
        "id": "KAZEhy0vh1Km",
        "outputId": "95f458f7-ce91-4ae6-f171-292ead23d834"
      },
      "source": [
        "X,y"
      ],
      "execution_count": null,
      "outputs": [
        {
          "data": {
            "text/plain": [
              "(array([ 63411.61627481, 279942.44132792,  50399.0079478 ,  79464.71103742,\n",
              "         41887.48524392,  62844.7692198 ,  52808.33629433,  41347.70271986,\n",
              "        116104.74887453,  53528.87795485,  47222.05633884,  77054.18218656,\n",
              "        291961.85920418,  45823.51451874,  81833.41569948,  93112.01797814,\n",
              "         59725.76279942,  69477.93408976,  34256.5200488 ,   8434.27615303,\n",
              "          8416.92072924,   3025.72528631,   1527.22648787,   1270.89531897,\n",
              "         12541.38858253,   4857.99588266,   2501.63037989,  14178.48629375,\n",
              "          3575.48584159,   1281.30249533,  10686.72863582,   5409.93651995,\n",
              "          3173.02432522,   1329.68223794,   1214.28918348,   7830.80793967,\n",
              "          2762.64001553,   1946.37970334]),\n",
              " array([1, 1, 1, 1, 1, 1, 1, 1, 1, 1, 1, 1, 1, 1, 1, 1, 1, 1, 1, 0, 0, 0,\n",
              "        0, 0, 0, 0, 0, 0, 0, 0, 0, 0, 0, 0, 0, 0, 0, 0]))"
            ]
          },
          "execution_count": 291,
          "metadata": {},
          "output_type": "execute_result"
        }
      ]
    },
    {
      "cell_type": "code",
      "metadata": {
        "id": "3R8MPEQwh1Km"
      },
      "source": [
        "df=ADHC.loc[:,0]\n",
        "\n",
        "X = df.to_numpy()\n",
        "\n",
        "Y = ADHC.loc[:,1]\n",
        "y = Y.to_numpy()\n",
        "y = np.where(y == 1, 1, 0)\n",
        "#from sklearn.model_selection import train_test_split\n",
        "\n",
        "\n",
        "X_train, X_test, y_train, y_test = train_test_split(X, y, test_size=0.3,stratify=y,random_state=42)\n",
        "\n",
        "#pca = PCA(n_components=2)\n",
        "\n",
        "#X_train_pca = pca.fit_transform(X_train)\n",
        "#X_test_pca = pca.transform(X_test)\n",
        "\n",
        "X_train_caso1=X_train\n",
        "X_test_caso1=X_test\n",
        "y_train_caso1=y_train\n",
        "y_test_caso1=y_test\n",
        "\n"
      ],
      "execution_count": null,
      "outputs": []
    },
    {
      "cell_type": "code",
      "metadata": {
        "id": "HlgX2dJGh1Km"
      },
      "source": [
        "X_train_caso1=X_train_caso1.reshape(-1,1)\n",
        "X_test_caso1=X_test_caso1.reshape(-1,1)\n",
        "y_train_caso1=y_train_caso1.reshape(-1,1)\n",
        "y_test_caso1=y_test_caso1.reshape(-1,1)\n"
      ],
      "execution_count": null,
      "outputs": []
    },
    {
      "cell_type": "code",
      "metadata": {
        "id": "PkqSaOuUh1Kn"
      },
      "source": [
        ""
      ],
      "execution_count": null,
      "outputs": []
    },
    {
      "cell_type": "code",
      "metadata": {
        "colab": {
          "base_uri": "https://localhost:8080/"
        },
        "id": "w4K4EfXkh1Kn",
        "outputId": "e5256a40-2518-4605-e7ad-a65500a07e70"
      },
      "source": [
        "tuning_albero_decisione(1,5)"
      ],
      "execution_count": null,
      "outputs": [
        {
          "name": "stdout",
          "output_type": "stream",
          "text": [
            "Fitting 5 folds for each of 216 candidates, totalling 1080 fits\n"
          ]
        },
        {
          "name": "stderr",
          "output_type": "stream",
          "text": [
            "[Parallel(n_jobs=-1)]: Using backend LokyBackend with 2 concurrent workers.\n"
          ]
        },
        {
          "name": "stdout",
          "output_type": "stream",
          "text": [
            "Accuratezza fase di Cross Validation con dati di Addestramento/Validazione: 1.000\n",
            "{'criterion': 'gini', 'max_depth': 3, 'min_samples_leaf': 1, 'min_samples_split': 2, 'min_weight_fraction_leaf': 0}\n",
            "Accuratezza con dati di Test: 1.000\n",
            "Risultato sui dati di test:\n",
            "              precision    recall  f1-score   support\n",
            "\n",
            "           0       1.00      1.00      1.00         6\n",
            "           1       1.00      1.00      1.00         6\n",
            "\n",
            "    accuracy                           1.00        12\n",
            "   macro avg       1.00      1.00      1.00        12\n",
            "weighted avg       1.00      1.00      1.00        12\n",
            "\n",
            "[[6 0]\n",
            " [0 6]]\n",
            "Accuratezza Test: 100.000\n",
            "Precisione  Test: 100.000\n",
            "Sensitività Test: 100.000\n",
            "Specificità Test: 100.000\n",
            "F1 score    Test: 100.000\n"
          ]
        },
        {
          "name": "stderr",
          "output_type": "stream",
          "text": [
            "[Parallel(n_jobs=-1)]: Done 1038 tasks      | elapsed:    1.9s\n",
            "[Parallel(n_jobs=-1)]: Done 1080 out of 1080 | elapsed:    2.0s finished\n"
          ]
        }
      ]
    },
    {
      "cell_type": "code",
      "metadata": {
        "colab": {
          "base_uri": "https://localhost:8080/"
        },
        "id": "DimIZ-0sh1Kn",
        "outputId": "fa8ef920-2353-4e7c-d716-57d7531cf483"
      },
      "source": [
        "tuning_SVM(1,5)"
      ],
      "execution_count": null,
      "outputs": [
        {
          "name": "stdout",
          "output_type": "stream",
          "text": [
            "Fitting 5 folds for each of 2 candidates, totalling 10 fits\n",
            "Accuratezza fase di Cross Validation con dati di Addestramento/Validazione: 1.000\n",
            "{'kernel': 'linear'}\n",
            "Accuratezza con dati di Test: 1.000\n",
            "Risultato sui dati di test:\n",
            "              precision    recall  f1-score   support\n",
            "\n",
            "           0       1.00      1.00      1.00         6\n",
            "           1       1.00      1.00      1.00         6\n",
            "\n",
            "    accuracy                           1.00        12\n",
            "   macro avg       1.00      1.00      1.00        12\n",
            "weighted avg       1.00      1.00      1.00        12\n",
            "\n",
            "[[6 0]\n",
            " [0 6]]\n",
            "Accuratezza Test: 100.000\n",
            "Precisione  Test: 100.000\n",
            "Sensitività Test: 100.000\n",
            "Specificità Test: 100.000\n",
            "F1 score    Test: 100.000\n"
          ]
        },
        {
          "name": "stderr",
          "output_type": "stream",
          "text": [
            "/usr/local/lib/python3.7/dist-packages/sklearn/model_selection/_search.py:281: UserWarning:\n",
            "\n",
            "The total space of parameters 2 is smaller than n_iter=20. Running 2 iterations. For exhaustive searches, use GridSearchCV.\n",
            "\n",
            "[Parallel(n_jobs=-1)]: Using backend LokyBackend with 2 concurrent workers.\n",
            "[Parallel(n_jobs=-1)]: Done  10 out of  10 | elapsed:    0.0s finished\n",
            "/usr/local/lib/python3.7/dist-packages/sklearn/utils/validation.py:760: DataConversionWarning:\n",
            "\n",
            "A column-vector y was passed when a 1d array was expected. Please change the shape of y to (n_samples, ), for example using ravel().\n",
            "\n"
          ]
        }
      ]
    },
    {
      "cell_type": "code",
      "metadata": {
        "id": "lWd7s6Evh1Ko"
      },
      "source": [
        "#tuning_foresta(1,10)"
      ],
      "execution_count": null,
      "outputs": []
    },
    {
      "cell_type": "code",
      "metadata": {
        "id": "7v2ZuThZh1Ko"
      },
      "source": [
        "#tuning_albero_decisione_CV(1,10)"
      ],
      "execution_count": null,
      "outputs": []
    },
    {
      "cell_type": "code",
      "metadata": {
        "id": "PUx7YFF2h1Ko"
      },
      "source": [
        "#tuning_SVM_CV(1,10)"
      ],
      "execution_count": null,
      "outputs": []
    },
    {
      "cell_type": "code",
      "metadata": {
        "id": "6CfIsAPPh1Ko"
      },
      "source": [
        "#validazione_incrociata_kfold(1,10,1)"
      ],
      "execution_count": null,
      "outputs": []
    },
    {
      "cell_type": "code",
      "metadata": {
        "id": "Y1wO_MiMh1Ko"
      },
      "source": [
        "#validazione_incrociata_kfold(1,10,2)"
      ],
      "execution_count": null,
      "outputs": []
    },
    {
      "cell_type": "code",
      "metadata": {
        "id": "crfs1oRYh1Kp"
      },
      "source": [
        "#validazione_incrociata_score(1,10,1)"
      ],
      "execution_count": null,
      "outputs": []
    },
    {
      "cell_type": "code",
      "metadata": {
        "id": "ItYW8Hjgh1Kp"
      },
      "source": [
        "#validazione_incrociata_score(1,10,2)"
      ],
      "execution_count": null,
      "outputs": []
    },
    {
      "cell_type": "code",
      "metadata": {
        "id": "anJCOvdJh1Kp"
      },
      "source": [
        "#prova_pipeline(1,2)"
      ],
      "execution_count": null,
      "outputs": []
    },
    {
      "cell_type": "code",
      "metadata": {
        "id": "by6P21JBh1Kp"
      },
      "source": [
        ""
      ],
      "execution_count": null,
      "outputs": []
    },
    {
      "cell_type": "code",
      "metadata": {
        "colab": {
          "base_uri": "https://localhost:8080/"
        },
        "id": "z9VcQW4Xh1Kq",
        "outputId": "fc22bcbb-4f7c-4470-f0b0-f1a0a476d9de"
      },
      "source": [
        "tuning_KNN(1,5)"
      ],
      "execution_count": null,
      "outputs": [
        {
          "name": "stderr",
          "output_type": "stream",
          "text": [
            "[Parallel(n_jobs=-1)]: Using backend LokyBackend with 2 concurrent workers.\n"
          ]
        },
        {
          "name": "stdout",
          "output_type": "stream",
          "text": [
            "Fitting 5 folds for each of 16 candidates, totalling 80 fits\n",
            "Accuratezza fase di Cross Validation con dati di Addestramento/Validazione: 1.000\n",
            "{'algorithm': 'auto', 'n_neighbors': 5, 'weights': 'uniform'}\n",
            "Accuratezza con dati di Test: 1.000\n",
            "Risultato sui dati di test:\n",
            "              precision    recall  f1-score   support\n",
            "\n",
            "           0       1.00      1.00      1.00         6\n",
            "           1       1.00      1.00      1.00         6\n",
            "\n",
            "    accuracy                           1.00        12\n",
            "   macro avg       1.00      1.00      1.00        12\n",
            "weighted avg       1.00      1.00      1.00        12\n",
            "\n",
            "[[6 0]\n",
            " [0 6]]\n",
            "Accuratezza Test: 100.000\n",
            "Precisione  Test: 100.000\n",
            "Sensitività Test: 100.000\n",
            "Specificità Test: 100.000\n",
            "F1 score    Test: 100.000\n"
          ]
        },
        {
          "name": "stderr",
          "output_type": "stream",
          "text": [
            "[Parallel(n_jobs=-1)]: Done  80 out of  80 | elapsed:    0.2s finished\n",
            "/usr/local/lib/python3.7/dist-packages/sklearn/model_selection/_search.py:739: DataConversionWarning:\n",
            "\n",
            "A column-vector y was passed when a 1d array was expected. Please change the shape of y to (n_samples, ), for example using ravel().\n",
            "\n"
          ]
        }
      ]
    },
    {
      "cell_type": "code",
      "metadata": {
        "id": "5qzgHUvIh1Kq"
      },
      "source": [
        "#tuning_MP(1,5)"
      ],
      "execution_count": null,
      "outputs": []
    },
    {
      "cell_type": "code",
      "metadata": {
        "id": "Y-QO6d3gh1Kq"
      },
      "source": [
        "#tuning_LR(1,5)"
      ],
      "execution_count": null,
      "outputs": []
    },
    {
      "cell_type": "code",
      "metadata": {
        "id": "TtRVM9Gsh1Kq"
      },
      "source": [
        "#tuning_foresta(1,5)"
      ],
      "execution_count": null,
      "outputs": []
    },
    {
      "cell_type": "code",
      "metadata": {
        "id": "dZM4T00Jh1Kr"
      },
      "source": [
        ""
      ],
      "execution_count": null,
      "outputs": []
    },
    {
      "cell_type": "markdown",
      "metadata": {
        "id": "emupxFQVh1Kr"
      },
      "source": [
        "#### Caso2 AD vs MCI"
      ]
    },
    {
      "cell_type": "code",
      "metadata": {
        "id": "1Oy02Bb_h1Kr"
      },
      "source": [
        ""
      ],
      "execution_count": null,
      "outputs": []
    },
    {
      "cell_type": "code",
      "metadata": {
        "id": "JXEzvTbYh1Kr"
      },
      "source": [
        "\n",
        "df=ADMCI.loc[:,0]\n",
        "\n",
        "X = df.to_numpy()\n",
        "\n",
        "Y = ADMCI.loc[:,1]\n",
        "y = Y.to_numpy()\n",
        "y = np.where(y == 1, 1, 0)\n",
        "#from sklearn.model_selection import train_test_split\n",
        "\n",
        "X_train, X_test, y_train, y_test = train_test_split(X, y, test_size=0.3,stratify=y,random_state=42)\n",
        "\n",
        "#pca = PCA(n_components=5)\n",
        "\n",
        "#X_train_pca = pca.fit_transform(X_train)\n",
        "#X_test_pca = pca.transform(X_test)\n",
        "\n",
        "X_train_caso2=X_train\n",
        "X_test_caso2=X_test\n",
        "y_train_caso2=y_train\n",
        "y_test_caso2=y_test"
      ],
      "execution_count": null,
      "outputs": []
    },
    {
      "cell_type": "code",
      "metadata": {
        "id": "rLf3RL1Ah1Kr"
      },
      "source": [
        "X_train_caso2=X_train_caso2.reshape(-1,1)\n",
        "X_test_caso2=X_test_caso2.reshape(-1,1)\n",
        "y_train_caso2=y_train_caso2.reshape(-1,1)\n",
        "y_test_caso2=y_test_caso2.reshape(-1,1)"
      ],
      "execution_count": null,
      "outputs": []
    },
    {
      "cell_type": "code",
      "metadata": {
        "colab": {
          "base_uri": "https://localhost:8080/"
        },
        "id": "RGyvokroh1Ks",
        "outputId": "d6e46c0d-dab6-43df-e923-49169c364766"
      },
      "source": [
        "tuning_albero_decisione(2,5)"
      ],
      "execution_count": null,
      "outputs": [
        {
          "name": "stderr",
          "output_type": "stream",
          "text": [
            "[Parallel(n_jobs=-1)]: Using backend LokyBackend with 2 concurrent workers.\n"
          ]
        },
        {
          "name": "stdout",
          "output_type": "stream",
          "text": [
            "Fitting 5 folds for each of 216 candidates, totalling 1080 fits\n",
            "Accuratezza fase di Cross Validation con dati di Addestramento/Validazione: 0.773\n",
            "{'criterion': 'gini', 'max_depth': 3, 'min_samples_leaf': 1, 'min_samples_split': 2, 'min_weight_fraction_leaf': 0}\n",
            "Accuratezza con dati di Test: 0.750\n",
            "Risultato sui dati di test:\n",
            "              precision    recall  f1-score   support\n",
            "\n",
            "           0       0.71      0.83      0.77         6\n",
            "           1       0.80      0.67      0.73         6\n",
            "\n",
            "    accuracy                           0.75        12\n",
            "   macro avg       0.76      0.75      0.75        12\n",
            "weighted avg       0.76      0.75      0.75        12\n",
            "\n",
            "[[5 1]\n",
            " [2 4]]\n",
            "Accuratezza Test: 75.000\n",
            "Precisione  Test: 71.000\n",
            "Sensitività Test: 83.000\n",
            "Specificità Test: 66.000\n",
            "F1 score    Test: 76.000\n"
          ]
        },
        {
          "name": "stderr",
          "output_type": "stream",
          "text": [
            "[Parallel(n_jobs=-1)]: Done 1062 tasks      | elapsed:    1.2s\n",
            "[Parallel(n_jobs=-1)]: Done 1077 out of 1080 | elapsed:    1.2s remaining:    0.0s\n",
            "[Parallel(n_jobs=-1)]: Done 1080 out of 1080 | elapsed:    1.2s finished\n"
          ]
        }
      ]
    },
    {
      "cell_type": "code",
      "metadata": {
        "colab": {
          "base_uri": "https://localhost:8080/"
        },
        "id": "FnCu9kI9h1Ks",
        "outputId": "bc831193-f9c2-4703-eebb-5366c512af27"
      },
      "source": [
        "tuning_SVM(2,5)"
      ],
      "execution_count": null,
      "outputs": [
        {
          "name": "stderr",
          "output_type": "stream",
          "text": [
            "/usr/local/lib/python3.7/dist-packages/sklearn/model_selection/_search.py:281: UserWarning:\n",
            "\n",
            "The total space of parameters 2 is smaller than n_iter=20. Running 2 iterations. For exhaustive searches, use GridSearchCV.\n",
            "\n",
            "[Parallel(n_jobs=-1)]: Using backend LokyBackend with 2 concurrent workers.\n"
          ]
        },
        {
          "name": "stdout",
          "output_type": "stream",
          "text": [
            "Fitting 5 folds for each of 2 candidates, totalling 10 fits\n",
            "Accuratezza fase di Cross Validation con dati di Addestramento/Validazione: 0.773\n",
            "{'kernel': 'rbf'}\n",
            "Accuratezza con dati di Test: 0.750\n",
            "Risultato sui dati di test:\n",
            "              precision    recall  f1-score   support\n",
            "\n",
            "           0       0.71      0.83      0.77         6\n",
            "           1       0.80      0.67      0.73         6\n",
            "\n",
            "    accuracy                           0.75        12\n",
            "   macro avg       0.76      0.75      0.75        12\n",
            "weighted avg       0.76      0.75      0.75        12\n",
            "\n",
            "[[5 1]\n",
            " [2 4]]\n",
            "Accuratezza Test: 75.000\n",
            "Precisione  Test: 71.000\n",
            "Sensitività Test: 83.000\n",
            "Specificità Test: 66.000\n",
            "F1 score    Test: 76.000\n"
          ]
        },
        {
          "name": "stderr",
          "output_type": "stream",
          "text": [
            "[Parallel(n_jobs=-1)]: Done  10 out of  10 | elapsed:  1.3min finished\n",
            "/usr/local/lib/python3.7/dist-packages/sklearn/utils/validation.py:760: DataConversionWarning:\n",
            "\n",
            "A column-vector y was passed when a 1d array was expected. Please change the shape of y to (n_samples, ), for example using ravel().\n",
            "\n"
          ]
        }
      ]
    },
    {
      "cell_type": "code",
      "metadata": {
        "id": "WvQyaV7uh1Ks"
      },
      "source": [
        "#tuning_foresta(2,10)"
      ],
      "execution_count": null,
      "outputs": []
    },
    {
      "cell_type": "code",
      "metadata": {
        "id": "sSVWZ0Vph1Kt"
      },
      "source": [
        "#tuning_albero_decisione_CV(2,10)"
      ],
      "execution_count": null,
      "outputs": []
    },
    {
      "cell_type": "code",
      "metadata": {
        "id": "2UwOzqrgh1Kt"
      },
      "source": [
        "#tuning_SVM_CV(2,10)"
      ],
      "execution_count": null,
      "outputs": []
    },
    {
      "cell_type": "code",
      "metadata": {
        "id": "7cQSSRt-h1Kt"
      },
      "source": [
        "#validazione_incrociata_kfold(2,10,1)"
      ],
      "execution_count": null,
      "outputs": []
    },
    {
      "cell_type": "code",
      "metadata": {
        "id": "nmawVimFh1Kt"
      },
      "source": [
        "#validazione_incrociata_kfold(2,10,2)"
      ],
      "execution_count": null,
      "outputs": []
    },
    {
      "cell_type": "code",
      "metadata": {
        "id": "fAQIyRdDh1Ku"
      },
      "source": [
        "#validazione_incrociata_score(2,10,1)"
      ],
      "execution_count": null,
      "outputs": []
    },
    {
      "cell_type": "code",
      "metadata": {
        "id": "wNK8mHhVh1Ku"
      },
      "source": [
        "#validazione_incrociata_score(2,10,2)"
      ],
      "execution_count": null,
      "outputs": []
    },
    {
      "cell_type": "code",
      "metadata": {
        "id": "SqKY_Tlhh1Kv"
      },
      "source": [
        "#prova_pipeline(2,2)"
      ],
      "execution_count": null,
      "outputs": []
    },
    {
      "cell_type": "code",
      "metadata": {
        "id": "mdpXCINch1Kv"
      },
      "source": [
        "#exec_trad(2,1)"
      ],
      "execution_count": null,
      "outputs": []
    },
    {
      "cell_type": "code",
      "metadata": {
        "id": "ZiFhinAXh1Kv"
      },
      "source": [
        "#exec_trad(2,2)"
      ],
      "execution_count": null,
      "outputs": []
    },
    {
      "cell_type": "code",
      "metadata": {
        "colab": {
          "base_uri": "https://localhost:8080/"
        },
        "id": "nYT0XxMBh1Kv",
        "outputId": "b50df9f6-9b4c-4eef-bd5b-6e3b4dbae49b"
      },
      "source": [
        "tuning_KNN(2,5)"
      ],
      "execution_count": null,
      "outputs": [
        {
          "name": "stderr",
          "output_type": "stream",
          "text": [
            "[Parallel(n_jobs=-1)]: Using backend LokyBackend with 2 concurrent workers.\n"
          ]
        },
        {
          "name": "stdout",
          "output_type": "stream",
          "text": [
            "Fitting 5 folds for each of 16 candidates, totalling 80 fits\n",
            "Accuratezza fase di Cross Validation con dati di Addestramento/Validazione: 0.773\n",
            "{'algorithm': 'auto', 'n_neighbors': 5, 'weights': 'uniform'}\n",
            "Accuratezza con dati di Test: 0.917\n",
            "Risultato sui dati di test:\n",
            "              precision    recall  f1-score   support\n",
            "\n",
            "           0       1.00      0.83      0.91         6\n",
            "           1       0.86      1.00      0.92         6\n",
            "\n",
            "    accuracy                           0.92        12\n",
            "   macro avg       0.93      0.92      0.92        12\n",
            "weighted avg       0.93      0.92      0.92        12\n",
            "\n",
            "[[5 1]\n",
            " [0 6]]\n",
            "Accuratezza Test: 91.000\n",
            "Precisione  Test: 100.000\n",
            "Sensitività Test: 83.000\n",
            "Specificità Test: 100.000\n",
            "F1 score    Test: 90.000\n"
          ]
        },
        {
          "name": "stderr",
          "output_type": "stream",
          "text": [
            "[Parallel(n_jobs=-1)]: Done  80 out of  80 | elapsed:    0.2s finished\n",
            "/usr/local/lib/python3.7/dist-packages/sklearn/model_selection/_search.py:739: DataConversionWarning:\n",
            "\n",
            "A column-vector y was passed when a 1d array was expected. Please change the shape of y to (n_samples, ), for example using ravel().\n",
            "\n"
          ]
        }
      ]
    },
    {
      "cell_type": "code",
      "metadata": {
        "id": "KYaQBWash1Kw"
      },
      "source": [
        "#tuning_MP(2,10)"
      ],
      "execution_count": null,
      "outputs": []
    },
    {
      "cell_type": "code",
      "metadata": {
        "id": "PCbd_7Xih1Kw"
      },
      "source": [
        "#tuning_LR(2,5)"
      ],
      "execution_count": null,
      "outputs": []
    },
    {
      "cell_type": "markdown",
      "metadata": {
        "id": "_8UhTptsh1Kw"
      },
      "source": [
        "<br>\n",
        "<br>"
      ]
    },
    {
      "cell_type": "markdown",
      "metadata": {
        "id": "XhS0DGYmh1Kx"
      },
      "source": [
        "<br>\n",
        "<br>"
      ]
    },
    {
      "cell_type": "code",
      "metadata": {
        "id": "QTbsviq9h1Kx"
      },
      "source": [
        "#tuning_foresta(2,10)"
      ],
      "execution_count": null,
      "outputs": []
    },
    {
      "cell_type": "markdown",
      "metadata": {
        "id": "yltH7xILh1Kx"
      },
      "source": [
        "#### Caso3 MCI vs HCF"
      ]
    },
    {
      "cell_type": "code",
      "metadata": {
        "id": "5AJbYBdzh1Kx"
      },
      "source": [
        ""
      ],
      "execution_count": null,
      "outputs": []
    },
    {
      "cell_type": "code",
      "metadata": {
        "id": "ZsZpwdy9h1Ky"
      },
      "source": [
        "\n",
        "df=MCIHC.loc[:,0]\n",
        "\n",
        "X = df.to_numpy()\n",
        "\n",
        "Y = MCIHC.loc[:,1]\n",
        "y = Y.to_numpy()\n",
        "y = np.where(y == 2, 1, 0)\n",
        "\n",
        "#from sklearn.model_selection import train_test_split\n",
        "\n",
        "\n",
        "X_train, X_test, y_train, y_test = train_test_split(X, y, test_size=0.3,stratify=y,random_state=42)\n",
        "\n",
        "#pca = PCA(n_components=2)\n",
        "\n",
        "#X_train_pca = pca.fit_transform(X_train)\n",
        "#X_test_pca = pca.transform(X_test)\n",
        "\n",
        "X_train_caso3=X_train\n",
        "X_test_caso3=X_test\n",
        "y_train_caso3=y_train\n",
        "y_test_caso3=y_test"
      ],
      "execution_count": null,
      "outputs": []
    },
    {
      "cell_type": "code",
      "metadata": {
        "id": "7YRVep1lh1Ky"
      },
      "source": [
        "X_train_caso3=X_train_caso3.reshape(-1,1)\n",
        "X_test_caso3=X_test_caso3.reshape(-1,1)\n",
        "y_train_caso3=y_train_caso3.reshape(-1,1)\n",
        "y_test_caso3=y_test_caso3.reshape(-1,1)"
      ],
      "execution_count": null,
      "outputs": []
    },
    {
      "cell_type": "code",
      "metadata": {
        "colab": {
          "base_uri": "https://localhost:8080/"
        },
        "id": "8Rs4DGidh1Ky",
        "outputId": "053159bf-4f40-452c-b7b5-9e9652a8d99f"
      },
      "source": [
        "tuning_albero_decisione(3,10)"
      ],
      "execution_count": null,
      "outputs": [
        {
          "name": "stderr",
          "output_type": "stream",
          "text": [
            "[Parallel(n_jobs=-1)]: Using backend LokyBackend with 2 concurrent workers.\n"
          ]
        },
        {
          "name": "stdout",
          "output_type": "stream",
          "text": [
            "Fitting 10 folds for each of 216 candidates, totalling 2160 fits\n",
            "Accuratezza fase di Cross Validation con dati di Addestramento/Validazione: 0.967\n",
            "{'criterion': 'gini', 'max_depth': 3, 'min_samples_leaf': 2, 'min_samples_split': 2, 'min_weight_fraction_leaf': 0}\n",
            "Accuratezza con dati di Test: 0.917\n",
            "Risultato sui dati di test:\n",
            "              precision    recall  f1-score   support\n",
            "\n",
            "           0       0.86      1.00      0.92         6\n",
            "           1       1.00      0.83      0.91         6\n",
            "\n",
            "    accuracy                           0.92        12\n",
            "   macro avg       0.93      0.92      0.92        12\n",
            "weighted avg       0.93      0.92      0.92        12\n",
            "\n",
            "[[6 0]\n",
            " [1 5]]\n",
            "Accuratezza Test: 91.000\n",
            "Precisione  Test: 85.000\n",
            "Sensitività Test: 100.000\n",
            "Specificità Test: 83.000\n",
            "F1 score    Test: 91.000\n"
          ]
        },
        {
          "name": "stderr",
          "output_type": "stream",
          "text": [
            "[Parallel(n_jobs=-1)]: Done 1956 tasks      | elapsed:    2.0s\n",
            "[Parallel(n_jobs=-1)]: Done 2160 out of 2160 | elapsed:    2.1s finished\n"
          ]
        }
      ]
    },
    {
      "cell_type": "code",
      "metadata": {
        "colab": {
          "base_uri": "https://localhost:8080/"
        },
        "id": "YMmoq0Ezh1Kz",
        "outputId": "89167111-47c5-4711-ebc7-647374076f4d"
      },
      "source": [
        "tuning_SVM(3,10)"
      ],
      "execution_count": null,
      "outputs": [
        {
          "name": "stderr",
          "output_type": "stream",
          "text": [
            "/usr/local/lib/python3.7/dist-packages/sklearn/model_selection/_search.py:281: UserWarning:\n",
            "\n",
            "The total space of parameters 2 is smaller than n_iter=20. Running 2 iterations. For exhaustive searches, use GridSearchCV.\n",
            "\n",
            "[Parallel(n_jobs=-1)]: Using backend LokyBackend with 2 concurrent workers.\n"
          ]
        },
        {
          "name": "stdout",
          "output_type": "stream",
          "text": [
            "Fitting 10 folds for each of 2 candidates, totalling 20 fits\n",
            "Accuratezza fase di Cross Validation con dati di Addestramento/Validazione: 0.900\n",
            "{'kernel': 'rbf'}\n",
            "Accuratezza con dati di Test: 0.833\n",
            "Risultato sui dati di test:\n",
            "              precision    recall  f1-score   support\n",
            "\n",
            "           0       0.75      1.00      0.86         6\n",
            "           1       1.00      0.67      0.80         6\n",
            "\n",
            "    accuracy                           0.83        12\n",
            "   macro avg       0.88      0.83      0.83        12\n",
            "weighted avg       0.88      0.83      0.83        12\n",
            "\n",
            "[[6 0]\n",
            " [2 4]]\n",
            "Accuratezza Test: 83.000\n",
            "Precisione  Test: 75.000\n",
            "Sensitività Test: 100.000\n",
            "Specificità Test: 66.000\n",
            "F1 score    Test: 85.000\n"
          ]
        },
        {
          "name": "stderr",
          "output_type": "stream",
          "text": [
            "[Parallel(n_jobs=-1)]: Done  20 out of  20 | elapsed:    9.4s finished\n",
            "/usr/local/lib/python3.7/dist-packages/sklearn/utils/validation.py:760: DataConversionWarning:\n",
            "\n",
            "A column-vector y was passed when a 1d array was expected. Please change the shape of y to (n_samples, ), for example using ravel().\n",
            "\n"
          ]
        }
      ]
    },
    {
      "cell_type": "code",
      "metadata": {
        "id": "bxyZ-Nfyh1Kz"
      },
      "source": [
        "#tuning_albero_decisione_CV(3,10)"
      ],
      "execution_count": null,
      "outputs": []
    },
    {
      "cell_type": "code",
      "metadata": {
        "id": "jdb_AzsHh1Kz"
      },
      "source": [
        "#tuning_SVM_CV(3,10)"
      ],
      "execution_count": null,
      "outputs": []
    },
    {
      "cell_type": "code",
      "metadata": {
        "id": "ZFDBHU_Oh1Kz"
      },
      "source": [
        "#validazione_incrociata_kfold(3,10,1)"
      ],
      "execution_count": null,
      "outputs": []
    },
    {
      "cell_type": "code",
      "metadata": {
        "id": "vaWlMiIdh1K0"
      },
      "source": [
        "#validazione_incrociata_kfold(3,10,2)"
      ],
      "execution_count": null,
      "outputs": []
    },
    {
      "cell_type": "code",
      "metadata": {
        "id": "HhNUAcuoh1K2"
      },
      "source": [
        "#validazione_incrociata_score(3,10,1)"
      ],
      "execution_count": null,
      "outputs": []
    },
    {
      "cell_type": "code",
      "metadata": {
        "id": "Vt4T61TZh1K2"
      },
      "source": [
        "#validazione_incrociata_score(3,10,2)"
      ],
      "execution_count": null,
      "outputs": []
    },
    {
      "cell_type": "code",
      "metadata": {
        "id": "qiRrRqhsh1K2"
      },
      "source": [
        "#prova_pipeline(3,2)"
      ],
      "execution_count": null,
      "outputs": []
    },
    {
      "cell_type": "code",
      "metadata": {
        "id": "OF1rFQMKh1K3"
      },
      "source": [
        "#exec_trad(3,1)"
      ],
      "execution_count": null,
      "outputs": []
    },
    {
      "cell_type": "code",
      "metadata": {
        "id": "RTi4PeNVh1K3"
      },
      "source": [
        "#exec_trad(3,2)"
      ],
      "execution_count": null,
      "outputs": []
    },
    {
      "cell_type": "code",
      "metadata": {
        "colab": {
          "base_uri": "https://localhost:8080/"
        },
        "id": "ExnkCguEh1K3",
        "outputId": "53a9e6b0-cb8d-4162-f3cf-2df292570ed4"
      },
      "source": [
        "tuning_KNN(3,5)"
      ],
      "execution_count": null,
      "outputs": [
        {
          "name": "stderr",
          "output_type": "stream",
          "text": [
            "[Parallel(n_jobs=-1)]: Using backend LokyBackend with 2 concurrent workers.\n"
          ]
        },
        {
          "name": "stdout",
          "output_type": "stream",
          "text": [
            "Fitting 5 folds for each of 16 candidates, totalling 80 fits\n",
            "Accuratezza fase di Cross Validation con dati di Addestramento/Validazione: 0.960\n",
            "{'algorithm': 'auto', 'n_neighbors': 5, 'weights': 'uniform'}\n",
            "Accuratezza con dati di Test: 0.917\n",
            "Risultato sui dati di test:\n",
            "              precision    recall  f1-score   support\n",
            "\n",
            "           0       0.86      1.00      0.92         6\n",
            "           1       1.00      0.83      0.91         6\n",
            "\n",
            "    accuracy                           0.92        12\n",
            "   macro avg       0.93      0.92      0.92        12\n",
            "weighted avg       0.93      0.92      0.92        12\n",
            "\n",
            "[[6 0]\n",
            " [1 5]]\n",
            "Accuratezza Test: 91.000\n",
            "Precisione  Test: 85.000\n",
            "Sensitività Test: 100.000\n",
            "Specificità Test: 83.000\n",
            "F1 score    Test: 91.000\n"
          ]
        },
        {
          "name": "stderr",
          "output_type": "stream",
          "text": [
            "[Parallel(n_jobs=-1)]: Done  80 out of  80 | elapsed:    0.2s finished\n",
            "/usr/local/lib/python3.7/dist-packages/sklearn/model_selection/_search.py:739: DataConversionWarning:\n",
            "\n",
            "A column-vector y was passed when a 1d array was expected. Please change the shape of y to (n_samples, ), for example using ravel().\n",
            "\n"
          ]
        }
      ]
    },
    {
      "cell_type": "code",
      "metadata": {
        "id": "whKCCJMgh1K3"
      },
      "source": [
        "#tuning_MP(3,10)"
      ],
      "execution_count": null,
      "outputs": []
    },
    {
      "cell_type": "code",
      "metadata": {
        "id": "Uugayvlbh1K4"
      },
      "source": [
        "#tuning_LR(3,5)"
      ],
      "execution_count": null,
      "outputs": []
    },
    {
      "cell_type": "code",
      "metadata": {
        "id": "xp2rIp-fh1K4"
      },
      "source": [
        "#tuning_foresta(3,10)"
      ],
      "execution_count": null,
      "outputs": []
    },
    {
      "cell_type": "code",
      "metadata": {
        "id": "QzlG98hJh1K5"
      },
      "source": [
        ""
      ],
      "execution_count": null,
      "outputs": []
    },
    {
      "cell_type": "markdown",
      "metadata": {
        "id": "Qq-y6awvh1K5"
      },
      "source": [
        "#### Caso4 CASE vs HCF"
      ]
    },
    {
      "cell_type": "code",
      "metadata": {
        "id": "6C4Uu4lqh1K5"
      },
      "source": [
        ""
      ],
      "execution_count": null,
      "outputs": []
    },
    {
      "cell_type": "code",
      "metadata": {
        "id": "crCuRESuh1K5"
      },
      "source": [
        "df=CASEHC.loc[:,0]\n",
        "\n",
        "X = df.to_numpy()\n",
        "\n",
        "Y = CASEHC.loc[:,1]\n",
        "y = Y.to_numpy()\n",
        "y = np.where(y == 3, 1, 0)\n",
        "#from sklearn.model_selection import train_test_split\n",
        "\n",
        "\n",
        "X_train, X_test, y_train, y_test = train_test_split(X, y, test_size=0.3,stratify=y,random_state=42)\n",
        "\n",
        "#pca = PCA(n_components=2)\n",
        "\n",
        "#X_train_pca = pca.fit_transform(X_train)\n",
        "#X_test_pca = pca.transform(X_test)\n",
        "\n",
        "X_train_caso4=X_train\n",
        "X_test_caso4=X_test\n",
        "y_train_caso4=y_train\n",
        "y_test_caso4=y_test"
      ],
      "execution_count": null,
      "outputs": []
    },
    {
      "cell_type": "code",
      "metadata": {
        "id": "fozZPeCbh1K5"
      },
      "source": [
        "X_train_caso4=X_train_caso4.reshape(-1,1)\n",
        "X_test_caso4=X_test_caso4.reshape(-1,1)\n",
        "y_train_caso4=y_train_caso4.reshape(-1,1)\n",
        "y_test_caso4=y_test_caso4.reshape(-1,1)"
      ],
      "execution_count": null,
      "outputs": []
    },
    {
      "cell_type": "code",
      "metadata": {
        "colab": {
          "base_uri": "https://localhost:8080/"
        },
        "id": "px6MFYuih1K6",
        "outputId": "c091e599-363c-452d-be09-8cb7380aab70"
      },
      "source": [
        "tuning_albero_decisione(4,5)"
      ],
      "execution_count": null,
      "outputs": [
        {
          "name": "stderr",
          "output_type": "stream",
          "text": [
            "[Parallel(n_jobs=-1)]: Using backend LokyBackend with 2 concurrent workers.\n"
          ]
        },
        {
          "name": "stdout",
          "output_type": "stream",
          "text": [
            "Fitting 5 folds for each of 216 candidates, totalling 1080 fits\n",
            "Accuratezza fase di Cross Validation con dati di Addestramento/Validazione: 0.950\n",
            "{'criterion': 'gini', 'max_depth': 3, 'min_samples_leaf': 3, 'min_samples_split': 2, 'min_weight_fraction_leaf': 0}\n",
            "Accuratezza con dati di Test: 0.944\n",
            "Risultato sui dati di test:\n",
            "              precision    recall  f1-score   support\n",
            "\n",
            "           0       1.00      0.92      0.96        12\n",
            "           1       0.86      1.00      0.92         6\n",
            "\n",
            "    accuracy                           0.94        18\n",
            "   macro avg       0.93      0.96      0.94        18\n",
            "weighted avg       0.95      0.94      0.95        18\n",
            "\n",
            "[[11  1]\n",
            " [ 0  6]]\n",
            "Accuratezza Test: 94.000\n",
            "Precisione  Test: 100.000\n",
            "Sensitività Test: 91.000\n",
            "Specificità Test: 100.000\n",
            "F1 score    Test: 95.000\n"
          ]
        },
        {
          "name": "stderr",
          "output_type": "stream",
          "text": [
            "[Parallel(n_jobs=-1)]: Done 1019 tasks      | elapsed:    1.1s\n",
            "[Parallel(n_jobs=-1)]: Done 1077 out of 1080 | elapsed:    1.2s remaining:    0.0s\n",
            "[Parallel(n_jobs=-1)]: Done 1080 out of 1080 | elapsed:    1.2s finished\n"
          ]
        }
      ]
    },
    {
      "cell_type": "code",
      "metadata": {
        "colab": {
          "base_uri": "https://localhost:8080/"
        },
        "id": "1XYDuctfh1K6",
        "outputId": "4cb2dc48-9fc9-43e5-cd65-33db5c5ac264"
      },
      "source": [
        "tuning_SVM(4,5)"
      ],
      "execution_count": null,
      "outputs": [
        {
          "name": "stderr",
          "output_type": "stream",
          "text": [
            "/usr/local/lib/python3.7/dist-packages/sklearn/model_selection/_search.py:281: UserWarning:\n",
            "\n",
            "The total space of parameters 2 is smaller than n_iter=20. Running 2 iterations. For exhaustive searches, use GridSearchCV.\n",
            "\n",
            "[Parallel(n_jobs=-1)]: Using backend LokyBackend with 2 concurrent workers.\n"
          ]
        },
        {
          "name": "stdout",
          "output_type": "stream",
          "text": [
            "Fitting 5 folds for each of 2 candidates, totalling 10 fits\n",
            "Accuratezza fase di Cross Validation con dati di Addestramento/Validazione: 0.925\n",
            "{'kernel': 'linear'}\n",
            "Accuratezza con dati di Test: 0.944\n",
            "Risultato sui dati di test:\n",
            "              precision    recall  f1-score   support\n",
            "\n",
            "           0       0.92      1.00      0.96        12\n",
            "           1       1.00      0.83      0.91         6\n",
            "\n",
            "    accuracy                           0.94        18\n",
            "   macro avg       0.96      0.92      0.93        18\n",
            "weighted avg       0.95      0.94      0.94        18\n",
            "\n",
            "[[12  0]\n",
            " [ 1  5]]\n",
            "Accuratezza Test: 94.000\n",
            "Precisione  Test: 92.000\n",
            "Sensitività Test: 100.000\n",
            "Specificità Test: 83.000\n",
            "F1 score    Test: 95.000\n"
          ]
        },
        {
          "name": "stderr",
          "output_type": "stream",
          "text": [
            "[Parallel(n_jobs=-1)]: Done  10 out of  10 | elapsed:    2.3s finished\n",
            "/usr/local/lib/python3.7/dist-packages/sklearn/utils/validation.py:760: DataConversionWarning:\n",
            "\n",
            "A column-vector y was passed when a 1d array was expected. Please change the shape of y to (n_samples, ), for example using ravel().\n",
            "\n"
          ]
        }
      ]
    },
    {
      "cell_type": "code",
      "metadata": {
        "id": "mYNPRtSBh1K6"
      },
      "source": [
        "#tuning_albero_decisione_CV(4,10)"
      ],
      "execution_count": null,
      "outputs": []
    },
    {
      "cell_type": "code",
      "metadata": {
        "id": "PdIG_yC7h1K7"
      },
      "source": [
        "#tuning_SVM_CV(4,10)"
      ],
      "execution_count": null,
      "outputs": []
    },
    {
      "cell_type": "code",
      "metadata": {
        "id": "awxC3BBih1K7"
      },
      "source": [
        "#validazione_incrociata_kfold(4,10,1)"
      ],
      "execution_count": null,
      "outputs": []
    },
    {
      "cell_type": "code",
      "metadata": {
        "id": "saoc2Dsch1K7"
      },
      "source": [
        "#validazione_incrociata_kfold(4,10,2)"
      ],
      "execution_count": null,
      "outputs": []
    },
    {
      "cell_type": "code",
      "metadata": {
        "id": "PoaYcyolh1K7"
      },
      "source": [
        "#validazione_incrociata_score(4,10,1)"
      ],
      "execution_count": null,
      "outputs": []
    },
    {
      "cell_type": "code",
      "metadata": {
        "id": "Z21tX69_h1K8"
      },
      "source": [
        "#validazione_incrociata_score(4,10,2)"
      ],
      "execution_count": null,
      "outputs": []
    },
    {
      "cell_type": "code",
      "metadata": {
        "id": "TF3j_ivch1K8"
      },
      "source": [
        "#prova_pipeline(4,2)"
      ],
      "execution_count": null,
      "outputs": []
    },
    {
      "cell_type": "code",
      "metadata": {
        "id": "efjI6aWYh1K8"
      },
      "source": [
        "#exec_trad(4,1)"
      ],
      "execution_count": null,
      "outputs": []
    },
    {
      "cell_type": "code",
      "metadata": {
        "id": "FOvDftDih1K8"
      },
      "source": [
        "#exec_trad(4,2)"
      ],
      "execution_count": null,
      "outputs": []
    },
    {
      "cell_type": "code",
      "metadata": {
        "colab": {
          "base_uri": "https://localhost:8080/"
        },
        "id": "JdeMEkemh1K9",
        "outputId": "0584da91-274f-4856-f681-9273a7071daa"
      },
      "source": [
        "tuning_KNN(4,5)"
      ],
      "execution_count": null,
      "outputs": [
        {
          "name": "stdout",
          "output_type": "stream",
          "text": [
            "Fitting 5 folds for each of 16 candidates, totalling 80 fits\n"
          ]
        },
        {
          "name": "stderr",
          "output_type": "stream",
          "text": [
            "[Parallel(n_jobs=-1)]: Using backend LokyBackend with 2 concurrent workers.\n"
          ]
        },
        {
          "name": "stdout",
          "output_type": "stream",
          "text": [
            "Accuratezza fase di Cross Validation con dati di Addestramento/Validazione: 0.975\n",
            "{'algorithm': 'auto', 'n_neighbors': 5, 'weights': 'uniform'}\n",
            "Accuratezza con dati di Test: 0.944\n",
            "Risultato sui dati di test:\n",
            "              precision    recall  f1-score   support\n",
            "\n",
            "           0       1.00      0.92      0.96        12\n",
            "           1       0.86      1.00      0.92         6\n",
            "\n",
            "    accuracy                           0.94        18\n",
            "   macro avg       0.93      0.96      0.94        18\n",
            "weighted avg       0.95      0.94      0.95        18\n",
            "\n",
            "[[11  1]\n",
            " [ 0  6]]\n",
            "Accuratezza Test: 94.000\n",
            "Precisione  Test: 100.000\n",
            "Sensitività Test: 91.000\n",
            "Specificità Test: 100.000\n",
            "F1 score    Test: 95.000\n"
          ]
        },
        {
          "name": "stderr",
          "output_type": "stream",
          "text": [
            "[Parallel(n_jobs=-1)]: Done  80 out of  80 | elapsed:    0.2s finished\n",
            "/usr/local/lib/python3.7/dist-packages/sklearn/model_selection/_search.py:739: DataConversionWarning:\n",
            "\n",
            "A column-vector y was passed when a 1d array was expected. Please change the shape of y to (n_samples, ), for example using ravel().\n",
            "\n"
          ]
        }
      ]
    },
    {
      "cell_type": "code",
      "metadata": {
        "id": "2sRZfMqxh1K9"
      },
      "source": [
        "#tuning_MP(4,10)"
      ],
      "execution_count": null,
      "outputs": []
    },
    {
      "cell_type": "code",
      "metadata": {
        "id": "hIdsf-C4h1K_"
      },
      "source": [
        "#tuning_LR(4,5)"
      ],
      "execution_count": null,
      "outputs": []
    },
    {
      "cell_type": "code",
      "metadata": {
        "id": "47Cu_yJmh1K_"
      },
      "source": [
        "#tuning_foresta(4,10)"
      ],
      "execution_count": null,
      "outputs": []
    },
    {
      "cell_type": "markdown",
      "metadata": {
        "id": "c6IrxCiHh1LA"
      },
      "source": [
        "<br>\n",
        "<br>"
      ]
    },
    {
      "cell_type": "code",
      "metadata": {
        "id": "YD6soIrWh1LA"
      },
      "source": [
        ""
      ],
      "execution_count": null,
      "outputs": []
    },
    {
      "cell_type": "code",
      "metadata": {
        "id": "XHexOwiFiFbO"
      },
      "source": [
        ""
      ],
      "execution_count": null,
      "outputs": []
    },
    {
      "cell_type": "markdown",
      "metadata": {
        "id": "7bCMZMvZiOtr"
      },
      "source": [
        "### 13 hz"
      ]
    },
    {
      "cell_type": "code",
      "metadata": {
        "id": "ANDWckZliOts"
      },
      "source": [
        ""
      ],
      "execution_count": null,
      "outputs": []
    },
    {
      "cell_type": "code",
      "metadata": {
        "id": "sqg-RwdKiOts"
      },
      "source": [
        "\n",
        "y1=hz13.loc[:,0].to_numpy()\n",
        "y2=hz13.loc[:,1].to_numpy()\n",
        "y3=hz13.loc[:,2].to_numpy()\n",
        "\n"
      ],
      "execution_count": null,
      "outputs": []
    },
    {
      "cell_type": "code",
      "metadata": {
        "id": "CGIGi11biOtt"
      },
      "source": [
        ""
      ],
      "execution_count": null,
      "outputs": []
    },
    {
      "cell_type": "code",
      "metadata": {
        "colab": {
          "base_uri": "https://localhost:8080/"
        },
        "id": "lg_rJEQSiOtt",
        "outputId": "5bb8d042-2629-402f-c1c5-cd6b30f521c2"
      },
      "source": [
        "y1,y2,y3,hz3"
      ],
      "execution_count": null,
      "outputs": [
        {
          "data": {
            "text/plain": [
              "(array([ 70778.55502551, 282579.33423277,  57357.18614387,  86613.74824105,\n",
              "         50928.19921352,  69730.42797932,  56502.56835444,  45013.87455658,\n",
              "        121181.68111677,  60305.84090089,  54184.83614883,  85413.23177312,\n",
              "        311294.78863042,  54901.13947576,  86659.6738866 , 101853.53379555,\n",
              "         60329.53730257,  80049.57092175,  41786.59004713]),\n",
              " array([ 30486.99524334,  17733.23238256,  12515.96884286,  39239.79418129,\n",
              "         55681.46632532,  33828.61895793,  32212.76746278,  23302.84359146,\n",
              "         23698.20225885,  14965.47786107,  29923.00151886,  27399.65829926,\n",
              "         21614.54041148,  58272.26833668,  18214.52602121,  23949.74605355,\n",
              "        177804.54392131, 229461.94717034,  71889.3095674 ]),\n",
              " array([ 9304.36391297,  9400.2877835 ,  3485.5335419 ,  1737.87171782,\n",
              "         1375.2237073 , 13778.07863802,  5477.64567249,  2777.48602771,\n",
              "        18446.42242893,  3989.07801381,  1403.32654309, 11694.01031264,\n",
              "         6095.50799265,  3571.45312368,  1501.09478857,  1326.18832113,\n",
              "         8688.84089657,  3211.10208541,  2203.94048173]),\n",
              "                 0              1             2\n",
              " 0    11941.878738    4543.079199   4260.988482\n",
              " 1    21550.001904    3171.543412   6215.959227\n",
              " 2     7954.533234    2502.250572   2878.113664\n",
              " 3    42676.089206   17653.023737    946.372606\n",
              " 4    12148.524998   27477.274131    612.110742\n",
              " 5    12297.442066    3811.751034   7665.308313\n",
              " 6    19050.995665   10227.178360   3062.984321\n",
              " 7     4992.630324   22822.837806   1211.440626\n",
              " 8    16011.533992    6828.018160  22390.062009\n",
              " 9     9151.569946    3078.353285   2888.256949\n",
              " 10   14843.201818    9843.491084    563.057786\n",
              " 11   10445.070016    5141.196547   4760.093445\n",
              " 12  182700.816803    4200.470742   4973.644479\n",
              " 13   15954.139771   16579.985919   2618.749608\n",
              " 14   11744.109673    5865.329829    698.500991\n",
              " 15    7023.707557   12802.749011    703.477024\n",
              " 16   37297.839360  104104.832648   4747.694480\n",
              " 17   11622.940208   71138.564456   2467.786370\n",
              " 18   14182.838368   23134.713975   1533.933877)"
            ]
          },
          "execution_count": 361,
          "metadata": {},
          "output_type": "execute_result"
        }
      ]
    },
    {
      "cell_type": "code",
      "metadata": {
        "id": "A_Et5WjhiOtt"
      },
      "source": [
        "x1 = np.linspace(0, 19, len(y1), endpoint=True)\n",
        "x2 = np.linspace(0, 19,len(y2), endpoint=True)\n",
        "x3 = np.linspace(0, 19,len(y3), endpoint=True)"
      ],
      "execution_count": null,
      "outputs": []
    },
    {
      "cell_type": "code",
      "metadata": {
        "colab": {
          "base_uri": "https://localhost:8080/",
          "height": 265
        },
        "id": "_rSzN--piOtu",
        "outputId": "1b281562-bd31-4870-9b26-85db5aa10e7d"
      },
      "source": [
        "plt.plot(x1, y1, 'g')\n",
        "plt.plot(x2, y2, 'b')\n",
        "plt.plot(x3, y3, 'r')\n",
        "#plt.ylim(0,300000)\n",
        "plt.show()"
      ],
      "execution_count": null,
      "outputs": [
        {
          "data": {
            "image/png": "[encoded data removed]",
            "text/plain": [
              "<Figure size 432x288 with 1 Axes>"
            ]
          },
          "metadata": {},
          "output_type": "display_data"
        }
      ]
    },
    {
      "cell_type": "code",
      "metadata": {
        "id": "tTbILa9FiOtu"
      },
      "source": [
        ""
      ],
      "execution_count": null,
      "outputs": []
    },
    {
      "cell_type": "code",
      "metadata": {
        "id": "OxFFOPXdiOtu"
      },
      "source": [
        "matriceAD = np.zeros((len(y1),2))\n",
        "matriceMCI = np.zeros((len(y2),2))\n",
        "matriceHC = np.zeros((len(y3),2))\n"
      ],
      "execution_count": null,
      "outputs": []
    },
    {
      "cell_type": "code",
      "metadata": {
        "id": "oq8oF6M3iOtu"
      },
      "source": [
        "matriceADHC = np.zeros((len(y1)+len(y3),2))\n",
        "matriceMCIHC = np.zeros((len(y2)+len(y3),2))\n",
        "matriceADMCI = np.zeros((len(y1)+len(y2),2))\n",
        "matriceCASEHC = np.zeros((len(y2)+len(y3)+len(y1),2))"
      ],
      "execution_count": null,
      "outputs": []
    },
    {
      "cell_type": "code",
      "metadata": {
        "id": "9LEQGtbSiOtv"
      },
      "source": [
        "for i in range(len(y1)):\n",
        "      matriceAD[i,0]=y1[i]\n",
        "      matriceAD[i,1]=1"
      ],
      "execution_count": null,
      "outputs": []
    },
    {
      "cell_type": "code",
      "metadata": {
        "id": "HT1PzPhpiOtv"
      },
      "source": [
        "for i in range(len(y2)):\n",
        "      matriceMCI[i,0]=y2[i]\n",
        "      matriceMCI[i,1]=2"
      ],
      "execution_count": null,
      "outputs": []
    },
    {
      "cell_type": "code",
      "metadata": {
        "id": "fFZVVKtuiOtv"
      },
      "source": [
        "for i in range(len(y3)):\n",
        "      matriceHC[i,0]=y3[i]\n",
        "      matriceHC[i,1]=3"
      ],
      "execution_count": null,
      "outputs": []
    },
    {
      "cell_type": "code",
      "metadata": {
        "id": "60F7YFeiiOtv"
      },
      "source": [
        "AD=pd.DataFrame(matriceAD)\n",
        "HC=pd.DataFrame(matriceHC)\n",
        "MCI=pd.DataFrame(matriceMCI)"
      ],
      "execution_count": null,
      "outputs": []
    },
    {
      "cell_type": "code",
      "metadata": {
        "id": "rpMGGr0yiOtw"
      },
      "source": [
        "ADHC=AD.copy()\n",
        "ADHC=ADHC.append(HC,ignore_index=True)"
      ],
      "execution_count": null,
      "outputs": []
    },
    {
      "cell_type": "code",
      "metadata": {
        "id": "NxI_4shZiOtw"
      },
      "source": [
        "ADMCI=AD.copy()\n",
        "ADMCI=ADMCI.append(MCI,ignore_index=True)"
      ],
      "execution_count": null,
      "outputs": []
    },
    {
      "cell_type": "code",
      "metadata": {
        "id": "saZyu0FIiOtw"
      },
      "source": [
        "MCIHC=MCI.copy()\n",
        "MCIHC=MCIHC.append(HC,ignore_index=True)"
      ],
      "execution_count": null,
      "outputs": []
    },
    {
      "cell_type": "code",
      "metadata": {
        "id": "d8VickJAiOtx"
      },
      "source": [
        "CASEHC=AD.copy()\n",
        "CASEHC=CASEHC.append(MCI,ignore_index=True)\n",
        "CASEHC=CASEHC.append(HC,ignore_index=True)"
      ],
      "execution_count": null,
      "outputs": []
    },
    {
      "cell_type": "code",
      "metadata": {
        "id": "jo52INmtiOtx"
      },
      "source": [
        ""
      ],
      "execution_count": null,
      "outputs": []
    },
    {
      "cell_type": "markdown",
      "metadata": {
        "id": "rvj-ReegiOtx"
      },
      "source": [
        "#### Caso1 AD vs HCF"
      ]
    },
    {
      "cell_type": "code",
      "metadata": {
        "id": "Hj9bR5rHiOtx"
      },
      "source": [
        "df=ADHC.loc[:,0]\n",
        "\n",
        "X = df.to_numpy()\n",
        "\n",
        "Y = ADHC.loc[:,1]\n",
        "y = Y.to_numpy()"
      ],
      "execution_count": null,
      "outputs": []
    },
    {
      "cell_type": "code",
      "metadata": {
        "id": "7TFcbsSciOty"
      },
      "source": [
        "y = np.where(y == 1, 1, 0)"
      ],
      "execution_count": null,
      "outputs": []
    },
    {
      "cell_type": "code",
      "metadata": {
        "colab": {
          "base_uri": "https://localhost:8080/"
        },
        "id": "o8uNYddDiOty",
        "outputId": "bd046524-9541-4a2f-9bbc-0181ac46f89f"
      },
      "source": [
        "X,y"
      ],
      "execution_count": null,
      "outputs": [
        {
          "data": {
            "text/plain": [
              "(array([ 70778.55502551, 282579.33423277,  57357.18614387,  86613.74824105,\n",
              "         50928.19921352,  69730.42797932,  56502.56835444,  45013.87455658,\n",
              "        121181.68111677,  60305.84090089,  54184.83614883,  85413.23177312,\n",
              "        311294.78863042,  54901.13947576,  86659.6738866 , 101853.53379555,\n",
              "         60329.53730257,  80049.57092175,  41786.59004713,   9304.36391297,\n",
              "          9400.2877835 ,   3485.5335419 ,   1737.87171782,   1375.2237073 ,\n",
              "         13778.07863802,   5477.64567249,   2777.48602771,  18446.42242893,\n",
              "          3989.07801381,   1403.32654309,  11694.01031264,   6095.50799265,\n",
              "          3571.45312368,   1501.09478857,   1326.18832113,   8688.84089657,\n",
              "          3211.10208541,   2203.94048173]),\n",
              " array([1, 1, 1, 1, 1, 1, 1, 1, 1, 1, 1, 1, 1, 1, 1, 1, 1, 1, 1, 0, 0, 0,\n",
              "        0, 0, 0, 0, 0, 0, 0, 0, 0, 0, 0, 0, 0, 0, 0, 0]))"
            ]
          },
          "execution_count": 376,
          "metadata": {},
          "output_type": "execute_result"
        }
      ]
    },
    {
      "cell_type": "code",
      "metadata": {
        "id": "_VmwnvW3iOty"
      },
      "source": [
        "df=ADHC.loc[:,0]\n",
        "\n",
        "X = df.to_numpy()\n",
        "\n",
        "Y = ADHC.loc[:,1]\n",
        "y = Y.to_numpy()\n",
        "y = np.where(y == 1, 1, 0)\n",
        "#from sklearn.model_selection import train_test_split\n",
        "\n",
        "\n",
        "X_train, X_test, y_train, y_test = train_test_split(X, y, test_size=0.3,stratify=y,random_state=42)\n",
        "\n",
        "#pca = PCA(n_components=2)\n",
        "\n",
        "#X_train_pca = pca.fit_transform(X_train)\n",
        "#X_test_pca = pca.transform(X_test)\n",
        "\n",
        "X_train_caso1=X_train\n",
        "X_test_caso1=X_test\n",
        "y_train_caso1=y_train\n",
        "y_test_caso1=y_test\n",
        "\n"
      ],
      "execution_count": null,
      "outputs": []
    },
    {
      "cell_type": "code",
      "metadata": {
        "id": "qVCeRbViiOty"
      },
      "source": [
        "X_train_caso1=X_train_caso1.reshape(-1,1)\n",
        "X_test_caso1=X_test_caso1.reshape(-1,1)\n",
        "y_train_caso1=y_train_caso1.reshape(-1,1)\n",
        "y_test_caso1=y_test_caso1.reshape(-1,1)\n"
      ],
      "execution_count": null,
      "outputs": []
    },
    {
      "cell_type": "code",
      "metadata": {
        "id": "1aHf3__MiOtz"
      },
      "source": [
        ""
      ],
      "execution_count": null,
      "outputs": []
    },
    {
      "cell_type": "code",
      "metadata": {
        "colab": {
          "base_uri": "https://localhost:8080/"
        },
        "id": "v9kM1RxPiOtz",
        "outputId": "0385228b-b1a8-40e4-b440-e321cb43803c"
      },
      "source": [
        "tuning_albero_decisione(1,5)"
      ],
      "execution_count": null,
      "outputs": [
        {
          "name": "stdout",
          "output_type": "stream",
          "text": [
            "Fitting 5 folds for each of 216 candidates, totalling 1080 fits\n"
          ]
        },
        {
          "name": "stderr",
          "output_type": "stream",
          "text": [
            "[Parallel(n_jobs=-1)]: Using backend LokyBackend with 2 concurrent workers.\n"
          ]
        },
        {
          "name": "stdout",
          "output_type": "stream",
          "text": [
            "Accuratezza fase di Cross Validation con dati di Addestramento/Validazione: 1.000\n",
            "{'criterion': 'gini', 'max_depth': 3, 'min_samples_leaf': 1, 'min_samples_split': 2, 'min_weight_fraction_leaf': 0}\n",
            "Accuratezza con dati di Test: 1.000\n",
            "Risultato sui dati di test:\n",
            "              precision    recall  f1-score   support\n",
            "\n",
            "           0       1.00      1.00      1.00         6\n",
            "           1       1.00      1.00      1.00         6\n",
            "\n",
            "    accuracy                           1.00        12\n",
            "   macro avg       1.00      1.00      1.00        12\n",
            "weighted avg       1.00      1.00      1.00        12\n",
            "\n",
            "[[6 0]\n",
            " [0 6]]\n",
            "Accuratezza Test: 100.000\n",
            "Precisione  Test: 100.000\n",
            "Sensitività Test: 100.000\n",
            "Specificità Test: 100.000\n",
            "F1 score    Test: 100.000\n"
          ]
        },
        {
          "name": "stderr",
          "output_type": "stream",
          "text": [
            "[Parallel(n_jobs=-1)]: Done 912 tasks      | elapsed:    1.9s\n",
            "[Parallel(n_jobs=-1)]: Done 1080 out of 1080 | elapsed:    2.0s finished\n"
          ]
        }
      ]
    },
    {
      "cell_type": "code",
      "metadata": {
        "colab": {
          "base_uri": "https://localhost:8080/"
        },
        "id": "PefFZ1aBiOtz",
        "outputId": "ea12fc60-6e1d-48a8-8f9b-d044a953bb30"
      },
      "source": [
        "tuning_SVM(1,5)"
      ],
      "execution_count": null,
      "outputs": [
        {
          "name": "stdout",
          "output_type": "stream",
          "text": [
            "Fitting 5 folds for each of 2 candidates, totalling 10 fits\n",
            "Accuratezza fase di Cross Validation con dati di Addestramento/Validazione: 1.000\n",
            "{'kernel': 'linear'}\n",
            "Accuratezza con dati di Test: 1.000\n",
            "Risultato sui dati di test:\n",
            "              precision    recall  f1-score   support\n",
            "\n",
            "           0       1.00      1.00      1.00         6\n",
            "           1       1.00      1.00      1.00         6\n",
            "\n",
            "    accuracy                           1.00        12\n",
            "   macro avg       1.00      1.00      1.00        12\n",
            "weighted avg       1.00      1.00      1.00        12\n",
            "\n",
            "[[6 0]\n",
            " [0 6]]\n",
            "Accuratezza Test: 100.000\n",
            "Precisione  Test: 100.000\n",
            "Sensitività Test: 100.000\n",
            "Specificità Test: 100.000\n",
            "F1 score    Test: 100.000\n"
          ]
        },
        {
          "name": "stderr",
          "output_type": "stream",
          "text": [
            "/usr/local/lib/python3.7/dist-packages/sklearn/model_selection/_search.py:281: UserWarning:\n",
            "\n",
            "The total space of parameters 2 is smaller than n_iter=20. Running 2 iterations. For exhaustive searches, use GridSearchCV.\n",
            "\n",
            "[Parallel(n_jobs=-1)]: Using backend LokyBackend with 2 concurrent workers.\n",
            "[Parallel(n_jobs=-1)]: Done  10 out of  10 | elapsed:    0.0s finished\n",
            "/usr/local/lib/python3.7/dist-packages/sklearn/utils/validation.py:760: DataConversionWarning:\n",
            "\n",
            "A column-vector y was passed when a 1d array was expected. Please change the shape of y to (n_samples, ), for example using ravel().\n",
            "\n"
          ]
        }
      ]
    },
    {
      "cell_type": "code",
      "metadata": {
        "id": "yK-PLmlliOt0"
      },
      "source": [
        "#tuning_foresta(1,10)"
      ],
      "execution_count": null,
      "outputs": []
    },
    {
      "cell_type": "code",
      "metadata": {
        "id": "jUlPHrR-iOt0"
      },
      "source": [
        "#tuning_albero_decisione_CV(1,10)"
      ],
      "execution_count": null,
      "outputs": []
    },
    {
      "cell_type": "code",
      "metadata": {
        "id": "53hXv7ueiOt1"
      },
      "source": [
        "#tuning_SVM_CV(1,10)"
      ],
      "execution_count": null,
      "outputs": []
    },
    {
      "cell_type": "code",
      "metadata": {
        "id": "_vfszM2IiOt1"
      },
      "source": [
        "#validazione_incrociata_kfold(1,10,1)"
      ],
      "execution_count": null,
      "outputs": []
    },
    {
      "cell_type": "code",
      "metadata": {
        "id": "JpchJavoiOt2"
      },
      "source": [
        "#validazione_incrociata_kfold(1,10,2)"
      ],
      "execution_count": null,
      "outputs": []
    },
    {
      "cell_type": "code",
      "metadata": {
        "id": "1-L5_4fgiOt2"
      },
      "source": [
        "#validazione_incrociata_score(1,10,1)"
      ],
      "execution_count": null,
      "outputs": []
    },
    {
      "cell_type": "code",
      "metadata": {
        "id": "C0FD13sSiOt2"
      },
      "source": [
        "#validazione_incrociata_score(1,10,2)"
      ],
      "execution_count": null,
      "outputs": []
    },
    {
      "cell_type": "code",
      "metadata": {
        "id": "tc5meiEhiOt2"
      },
      "source": [
        "#prova_pipeline(1,2)"
      ],
      "execution_count": null,
      "outputs": []
    },
    {
      "cell_type": "code",
      "metadata": {
        "id": "yR2Fxk1FiOt3"
      },
      "source": [
        ""
      ],
      "execution_count": null,
      "outputs": []
    },
    {
      "cell_type": "code",
      "metadata": {
        "colab": {
          "base_uri": "https://localhost:8080/"
        },
        "id": "qX-LFjMWiOt3",
        "outputId": "fed5b0de-2f65-4397-9d06-3d109ebc7ea3"
      },
      "source": [
        "tuning_KNN(1,5)"
      ],
      "execution_count": null,
      "outputs": [
        {
          "name": "stdout",
          "output_type": "stream",
          "text": [
            "Fitting 5 folds for each of 16 candidates, totalling 80 fits\n"
          ]
        },
        {
          "name": "stderr",
          "output_type": "stream",
          "text": [
            "[Parallel(n_jobs=-1)]: Using backend LokyBackend with 2 concurrent workers.\n"
          ]
        },
        {
          "name": "stdout",
          "output_type": "stream",
          "text": [
            "Accuratezza fase di Cross Validation con dati di Addestramento/Validazione: 1.000\n",
            "{'algorithm': 'auto', 'n_neighbors': 5, 'weights': 'uniform'}\n",
            "Accuratezza con dati di Test: 1.000\n",
            "Risultato sui dati di test:\n",
            "              precision    recall  f1-score   support\n",
            "\n",
            "           0       1.00      1.00      1.00         6\n",
            "           1       1.00      1.00      1.00         6\n",
            "\n",
            "    accuracy                           1.00        12\n",
            "   macro avg       1.00      1.00      1.00        12\n",
            "weighted avg       1.00      1.00      1.00        12\n",
            "\n",
            "[[6 0]\n",
            " [0 6]]\n",
            "Accuratezza Test: 100.000\n",
            "Precisione  Test: 100.000\n",
            "Sensitività Test: 100.000\n",
            "Specificità Test: 100.000\n",
            "F1 score    Test: 100.000\n"
          ]
        },
        {
          "name": "stderr",
          "output_type": "stream",
          "text": [
            "[Parallel(n_jobs=-1)]: Done  77 out of  80 | elapsed:    0.2s remaining:    0.0s\n",
            "[Parallel(n_jobs=-1)]: Done  80 out of  80 | elapsed:    0.2s finished\n",
            "/usr/local/lib/python3.7/dist-packages/sklearn/model_selection/_search.py:739: DataConversionWarning:\n",
            "\n",
            "A column-vector y was passed when a 1d array was expected. Please change the shape of y to (n_samples, ), for example using ravel().\n",
            "\n"
          ]
        }
      ]
    },
    {
      "cell_type": "code",
      "metadata": {
        "id": "h97iqYEZiOt3"
      },
      "source": [
        "#tuning_MP(1,5)"
      ],
      "execution_count": null,
      "outputs": []
    },
    {
      "cell_type": "code",
      "metadata": {
        "id": "phrutL48iOt4"
      },
      "source": [
        "#tuning_LR(1,5)"
      ],
      "execution_count": null,
      "outputs": []
    },
    {
      "cell_type": "code",
      "metadata": {
        "id": "1BuC45eAiOt4"
      },
      "source": [
        "#tuning_foresta(1,5)"
      ],
      "execution_count": null,
      "outputs": []
    },
    {
      "cell_type": "code",
      "metadata": {
        "id": "ye2edUFqiOt4"
      },
      "source": [
        ""
      ],
      "execution_count": null,
      "outputs": []
    },
    {
      "cell_type": "markdown",
      "metadata": {
        "id": "SyBIP9QYiOt5"
      },
      "source": [
        "#### Caso2 AD vs MCI"
      ]
    },
    {
      "cell_type": "code",
      "metadata": {
        "id": "9FZ_jMkBiOt5"
      },
      "source": [
        ""
      ],
      "execution_count": null,
      "outputs": []
    },
    {
      "cell_type": "code",
      "metadata": {
        "id": "K02gRLv0iOt6"
      },
      "source": [
        "\n",
        "df=ADMCI.loc[:,0]\n",
        "\n",
        "X = df.to_numpy()\n",
        "\n",
        "Y = ADMCI.loc[:,1]\n",
        "y = Y.to_numpy()\n",
        "y = np.where(y == 1, 1, 0)\n",
        "#from sklearn.model_selection import train_test_split\n",
        "\n",
        "X_train, X_test, y_train, y_test = train_test_split(X, y, test_size=0.3,stratify=y,random_state=42)\n",
        "\n",
        "#pca = PCA(n_components=5)\n",
        "\n",
        "#X_train_pca = pca.fit_transform(X_train)\n",
        "#X_test_pca = pca.transform(X_test)\n",
        "\n",
        "X_train_caso2=X_train\n",
        "X_test_caso2=X_test\n",
        "y_train_caso2=y_train\n",
        "y_test_caso2=y_test"
      ],
      "execution_count": null,
      "outputs": []
    },
    {
      "cell_type": "code",
      "metadata": {
        "id": "HT3inRsEiOt7"
      },
      "source": [
        "X_train_caso2=X_train_caso2.reshape(-1,1)\n",
        "X_test_caso2=X_test_caso2.reshape(-1,1)\n",
        "y_train_caso2=y_train_caso2.reshape(-1,1)\n",
        "y_test_caso2=y_test_caso2.reshape(-1,1)"
      ],
      "execution_count": null,
      "outputs": []
    },
    {
      "cell_type": "code",
      "metadata": {
        "colab": {
          "base_uri": "https://localhost:8080/"
        },
        "id": "HchL6IpeiOt7",
        "outputId": "695aff34-908e-4607-9916-67c1f9547ad1"
      },
      "source": [
        "tuning_albero_decisione(2,5)"
      ],
      "execution_count": null,
      "outputs": [
        {
          "name": "stderr",
          "output_type": "stream",
          "text": [
            "[Parallel(n_jobs=-1)]: Using backend LokyBackend with 2 concurrent workers.\n"
          ]
        },
        {
          "name": "stdout",
          "output_type": "stream",
          "text": [
            "Fitting 5 folds for each of 216 candidates, totalling 1080 fits\n",
            "Accuratezza fase di Cross Validation con dati di Addestramento/Validazione: 0.773\n",
            "{'criterion': 'gini', 'max_depth': 3, 'min_samples_leaf': 1, 'min_samples_split': 2, 'min_weight_fraction_leaf': 0}\n",
            "Accuratezza con dati di Test: 0.750\n",
            "Risultato sui dati di test:\n",
            "              precision    recall  f1-score   support\n",
            "\n",
            "           0       0.71      0.83      0.77         6\n",
            "           1       0.80      0.67      0.73         6\n",
            "\n",
            "    accuracy                           0.75        12\n",
            "   macro avg       0.76      0.75      0.75        12\n",
            "weighted avg       0.76      0.75      0.75        12\n",
            "\n",
            "[[5 1]\n",
            " [2 4]]\n",
            "Accuratezza Test: 75.000\n",
            "Precisione  Test: 71.000\n",
            "Sensitività Test: 83.000\n",
            "Specificità Test: 66.000\n",
            "F1 score    Test: 76.000\n"
          ]
        },
        {
          "name": "stderr",
          "output_type": "stream",
          "text": [
            "[Parallel(n_jobs=-1)]: Done 1062 tasks      | elapsed:    1.2s\n",
            "[Parallel(n_jobs=-1)]: Done 1077 out of 1080 | elapsed:    1.2s remaining:    0.0s\n",
            "[Parallel(n_jobs=-1)]: Done 1080 out of 1080 | elapsed:    1.2s finished\n"
          ]
        }
      ]
    },
    {
      "cell_type": "code",
      "metadata": {
        "colab": {
          "base_uri": "https://localhost:8080/"
        },
        "id": "4OyWOcoAiOt8",
        "outputId": "1ae83575-f2da-4db9-ae31-c9f95811d439"
      },
      "source": [
        "tuning_SVM(2,5)"
      ],
      "execution_count": null,
      "outputs": [
        {
          "name": "stderr",
          "output_type": "stream",
          "text": [
            "/usr/local/lib/python3.7/dist-packages/sklearn/model_selection/_search.py:281: UserWarning:\n",
            "\n",
            "The total space of parameters 2 is smaller than n_iter=20. Running 2 iterations. For exhaustive searches, use GridSearchCV.\n",
            "\n",
            "[Parallel(n_jobs=-1)]: Using backend LokyBackend with 2 concurrent workers.\n"
          ]
        },
        {
          "name": "stdout",
          "output_type": "stream",
          "text": [
            "Fitting 5 folds for each of 2 candidates, totalling 10 fits\n",
            "Accuratezza fase di Cross Validation con dati di Addestramento/Validazione: 0.813\n",
            "{'kernel': 'rbf'}\n",
            "Accuratezza con dati di Test: 0.750\n",
            "Risultato sui dati di test:\n",
            "              precision    recall  f1-score   support\n",
            "\n",
            "           0       0.71      0.83      0.77         6\n",
            "           1       0.80      0.67      0.73         6\n",
            "\n",
            "    accuracy                           0.75        12\n",
            "   macro avg       0.76      0.75      0.75        12\n",
            "weighted avg       0.76      0.75      0.75        12\n",
            "\n",
            "[[5 1]\n",
            " [2 4]]\n",
            "Accuratezza Test: 75.000\n",
            "Precisione  Test: 71.000\n",
            "Sensitività Test: 83.000\n",
            "Specificità Test: 66.000\n",
            "F1 score    Test: 76.000\n"
          ]
        },
        {
          "name": "stderr",
          "output_type": "stream",
          "text": [
            "[Parallel(n_jobs=-1)]: Done  10 out of  10 | elapsed:  2.3min finished\n",
            "/usr/local/lib/python3.7/dist-packages/sklearn/utils/validation.py:760: DataConversionWarning:\n",
            "\n",
            "A column-vector y was passed when a 1d array was expected. Please change the shape of y to (n_samples, ), for example using ravel().\n",
            "\n"
          ]
        }
      ]
    },
    {
      "cell_type": "code",
      "metadata": {
        "id": "WaMt6DCZiOt8"
      },
      "source": [
        "#tuning_foresta(2,10)"
      ],
      "execution_count": null,
      "outputs": []
    },
    {
      "cell_type": "code",
      "metadata": {
        "id": "qQF1mVEAiOt8"
      },
      "source": [
        "#tuning_albero_decisione_CV(2,10)"
      ],
      "execution_count": null,
      "outputs": []
    },
    {
      "cell_type": "code",
      "metadata": {
        "id": "rjAQOl1iiOt8"
      },
      "source": [
        "#tuning_SVM_CV(2,10)"
      ],
      "execution_count": null,
      "outputs": []
    },
    {
      "cell_type": "code",
      "metadata": {
        "id": "Z7qPlsi_iOt9"
      },
      "source": [
        "#validazione_incrociata_kfold(2,10,1)"
      ],
      "execution_count": null,
      "outputs": []
    },
    {
      "cell_type": "code",
      "metadata": {
        "id": "_NMmrI9PiOt9"
      },
      "source": [
        "#validazione_incrociata_kfold(2,10,2)"
      ],
      "execution_count": null,
      "outputs": []
    },
    {
      "cell_type": "code",
      "metadata": {
        "id": "kr5tkbYxiOt9"
      },
      "source": [
        "#validazione_incrociata_score(2,10,1)"
      ],
      "execution_count": null,
      "outputs": []
    },
    {
      "cell_type": "code",
      "metadata": {
        "id": "bFuA2SnGiOt9"
      },
      "source": [
        "#validazione_incrociata_score(2,10,2)"
      ],
      "execution_count": null,
      "outputs": []
    },
    {
      "cell_type": "code",
      "metadata": {
        "id": "y6e0-BUsiOt-"
      },
      "source": [
        "#prova_pipeline(2,2)"
      ],
      "execution_count": null,
      "outputs": []
    },
    {
      "cell_type": "code",
      "metadata": {
        "id": "ayH9_zEPiOt-"
      },
      "source": [
        "#exec_trad(2,1)"
      ],
      "execution_count": null,
      "outputs": []
    },
    {
      "cell_type": "code",
      "metadata": {
        "id": "ZhT_pb-EiOt-"
      },
      "source": [
        "#exec_trad(2,2)"
      ],
      "execution_count": null,
      "outputs": []
    },
    {
      "cell_type": "code",
      "metadata": {
        "colab": {
          "base_uri": "https://localhost:8080/"
        },
        "id": "vlKQQNm_iOt-",
        "outputId": "ad8aa725-7434-4513-ee96-188ee2188f3c"
      },
      "source": [
        "tuning_KNN(2,5)"
      ],
      "execution_count": null,
      "outputs": [
        {
          "name": "stderr",
          "output_type": "stream",
          "text": [
            "[Parallel(n_jobs=-1)]: Using backend LokyBackend with 2 concurrent workers.\n"
          ]
        },
        {
          "name": "stdout",
          "output_type": "stream",
          "text": [
            "Fitting 5 folds for each of 16 candidates, totalling 80 fits\n",
            "Accuratezza fase di Cross Validation con dati di Addestramento/Validazione: 0.813\n",
            "{'algorithm': 'auto', 'n_neighbors': 5, 'weights': 'uniform'}\n",
            "Accuratezza con dati di Test: 0.917\n",
            "Risultato sui dati di test:\n",
            "              precision    recall  f1-score   support\n",
            "\n",
            "           0       1.00      0.83      0.91         6\n",
            "           1       0.86      1.00      0.92         6\n",
            "\n",
            "    accuracy                           0.92        12\n",
            "   macro avg       0.93      0.92      0.92        12\n",
            "weighted avg       0.93      0.92      0.92        12\n",
            "\n",
            "[[5 1]\n",
            " [0 6]]\n",
            "Accuratezza Test: 91.000\n",
            "Precisione  Test: 100.000\n",
            "Sensitività Test: 83.000\n",
            "Specificità Test: 100.000\n",
            "F1 score    Test: 90.000\n"
          ]
        },
        {
          "name": "stderr",
          "output_type": "stream",
          "text": [
            "[Parallel(n_jobs=-1)]: Done  80 out of  80 | elapsed:    0.2s finished\n",
            "/usr/local/lib/python3.7/dist-packages/sklearn/model_selection/_search.py:739: DataConversionWarning:\n",
            "\n",
            "A column-vector y was passed when a 1d array was expected. Please change the shape of y to (n_samples, ), for example using ravel().\n",
            "\n"
          ]
        }
      ]
    },
    {
      "cell_type": "code",
      "metadata": {
        "id": "cJpuActQiOt_"
      },
      "source": [
        "#tuning_MP(2,10)"
      ],
      "execution_count": null,
      "outputs": []
    },
    {
      "cell_type": "code",
      "metadata": {
        "id": "V0_mm2KkiOt_"
      },
      "source": [
        "#tuning_LR(2,5)"
      ],
      "execution_count": null,
      "outputs": []
    },
    {
      "cell_type": "markdown",
      "metadata": {
        "id": "sgsizviIiOuA"
      },
      "source": [
        "<br>\n",
        "<br>"
      ]
    },
    {
      "cell_type": "markdown",
      "metadata": {
        "id": "wa47Fe2kiOuA"
      },
      "source": [
        "<br>\n",
        "<br>"
      ]
    },
    {
      "cell_type": "code",
      "metadata": {
        "id": "JY4zrEytiOuA"
      },
      "source": [
        "#tuning_foresta(2,10)"
      ],
      "execution_count": null,
      "outputs": []
    },
    {
      "cell_type": "markdown",
      "metadata": {
        "id": "GFM3eA6iiOuB"
      },
      "source": [
        "#### Caso3 MCI vs HCF"
      ]
    },
    {
      "cell_type": "code",
      "metadata": {
        "id": "T_hUtNpJiOuB"
      },
      "source": [
        ""
      ],
      "execution_count": null,
      "outputs": []
    },
    {
      "cell_type": "code",
      "metadata": {
        "id": "3nyEa0YSiOuB"
      },
      "source": [
        "\n",
        "df=MCIHC.loc[:,0]\n",
        "\n",
        "X = df.to_numpy()\n",
        "\n",
        "Y = MCIHC.loc[:,1]\n",
        "y = Y.to_numpy()\n",
        "y = np.where(y == 2, 1, 0)\n",
        "\n",
        "#from sklearn.model_selection import train_test_split\n",
        "\n",
        "\n",
        "X_train, X_test, y_train, y_test = train_test_split(X, y, test_size=0.3,stratify=y,random_state=42)\n",
        "\n",
        "#pca = PCA(n_components=2)\n",
        "\n",
        "#X_train_pca = pca.fit_transform(X_train)\n",
        "#X_test_pca = pca.transform(X_test)\n",
        "\n",
        "X_train_caso3=X_train\n",
        "X_test_caso3=X_test\n",
        "y_train_caso3=y_train\n",
        "y_test_caso3=y_test"
      ],
      "execution_count": null,
      "outputs": []
    },
    {
      "cell_type": "code",
      "metadata": {
        "id": "aWZFs1ADiOuB"
      },
      "source": [
        "X_train_caso3=X_train_caso3.reshape(-1,1)\n",
        "X_test_caso3=X_test_caso3.reshape(-1,1)\n",
        "y_train_caso3=y_train_caso3.reshape(-1,1)\n",
        "y_test_caso3=y_test_caso3.reshape(-1,1)"
      ],
      "execution_count": null,
      "outputs": []
    },
    {
      "cell_type": "code",
      "metadata": {
        "colab": {
          "base_uri": "https://localhost:8080/"
        },
        "id": "CTYHc7wXiOuC",
        "outputId": "2675ba49-4be5-4a70-e6a8-b4bc00d368ad"
      },
      "source": [
        "tuning_albero_decisione(3,10)"
      ],
      "execution_count": null,
      "outputs": [
        {
          "name": "stderr",
          "output_type": "stream",
          "text": [
            "[Parallel(n_jobs=-1)]: Using backend LokyBackend with 2 concurrent workers.\n"
          ]
        },
        {
          "name": "stdout",
          "output_type": "stream",
          "text": [
            "Fitting 10 folds for each of 216 candidates, totalling 2160 fits\n",
            "Accuratezza fase di Cross Validation con dati di Addestramento/Validazione: 0.883\n",
            "{'criterion': 'gini', 'max_depth': 3, 'min_samples_leaf': 2, 'min_samples_split': 2, 'min_weight_fraction_leaf': 0}\n",
            "Accuratezza con dati di Test: 0.833\n",
            "Risultato sui dati di test:\n",
            "              precision    recall  f1-score   support\n",
            "\n",
            "           0       0.75      1.00      0.86         6\n",
            "           1       1.00      0.67      0.80         6\n",
            "\n",
            "    accuracy                           0.83        12\n",
            "   macro avg       0.88      0.83      0.83        12\n",
            "weighted avg       0.88      0.83      0.83        12\n",
            "\n",
            "[[6 0]\n",
            " [2 4]]\n",
            "Accuratezza Test: 83.000\n",
            "Precisione  Test: 75.000\n",
            "Sensitività Test: 100.000\n",
            "Specificità Test: 66.000\n",
            "F1 score    Test: 85.000\n"
          ]
        },
        {
          "name": "stderr",
          "output_type": "stream",
          "text": [
            "[Parallel(n_jobs=-1)]: Done 1951 tasks      | elapsed:    2.2s\n",
            "[Parallel(n_jobs=-1)]: Done 2160 out of 2160 | elapsed:    2.4s finished\n"
          ]
        }
      ]
    },
    {
      "cell_type": "code",
      "metadata": {
        "colab": {
          "base_uri": "https://localhost:8080/"
        },
        "id": "B4bCtkv7iOuC",
        "outputId": "40514f3d-41a7-407e-dbba-2734fbb393f5"
      },
      "source": [
        "tuning_SVM(3,10)"
      ],
      "execution_count": null,
      "outputs": [
        {
          "name": "stderr",
          "output_type": "stream",
          "text": [
            "/usr/local/lib/python3.7/dist-packages/sklearn/model_selection/_search.py:281: UserWarning:\n",
            "\n",
            "The total space of parameters 2 is smaller than n_iter=20. Running 2 iterations. For exhaustive searches, use GridSearchCV.\n",
            "\n",
            "[Parallel(n_jobs=-1)]: Using backend LokyBackend with 2 concurrent workers.\n"
          ]
        },
        {
          "name": "stdout",
          "output_type": "stream",
          "text": [
            "Fitting 10 folds for each of 2 candidates, totalling 20 fits\n"
          ]
        },
        {
          "name": "stderr",
          "output_type": "stream",
          "text": [
            "[Parallel(n_jobs=-1)]: Done  20 out of  20 | elapsed:   25.7s finished\n",
            "/usr/local/lib/python3.7/dist-packages/sklearn/utils/validation.py:760: DataConversionWarning:\n",
            "\n",
            "A column-vector y was passed when a 1d array was expected. Please change the shape of y to (n_samples, ), for example using ravel().\n",
            "\n"
          ]
        },
        {
          "name": "stdout",
          "output_type": "stream",
          "text": [
            "Accuratezza fase di Cross Validation con dati di Addestramento/Validazione: 0.933\n",
            "{'kernel': 'linear'}\n",
            "Accuratezza con dati di Test: 1.000\n",
            "Risultato sui dati di test:\n",
            "              precision    recall  f1-score   support\n",
            "\n",
            "           0       1.00      1.00      1.00         6\n",
            "           1       1.00      1.00      1.00         6\n",
            "\n",
            "    accuracy                           1.00        12\n",
            "   macro avg       1.00      1.00      1.00        12\n",
            "weighted avg       1.00      1.00      1.00        12\n",
            "\n",
            "[[6 0]\n",
            " [0 6]]\n",
            "Accuratezza Test: 100.000\n",
            "Precisione  Test: 100.000\n",
            "Sensitività Test: 100.000\n",
            "Specificità Test: 100.000\n",
            "F1 score    Test: 100.000\n"
          ]
        }
      ]
    },
    {
      "cell_type": "code",
      "metadata": {
        "id": "Hvn9JclUiOuC"
      },
      "source": [
        "#tuning_albero_decisione_CV(3,10)"
      ],
      "execution_count": null,
      "outputs": []
    },
    {
      "cell_type": "code",
      "metadata": {
        "id": "4wUU7ANwiOuD"
      },
      "source": [
        "#tuning_SVM_CV(3,10)"
      ],
      "execution_count": null,
      "outputs": []
    },
    {
      "cell_type": "code",
      "metadata": {
        "id": "Hb8isLzEiOuD"
      },
      "source": [
        "#validazione_incrociata_kfold(3,10,1)"
      ],
      "execution_count": null,
      "outputs": []
    },
    {
      "cell_type": "code",
      "metadata": {
        "id": "iHSbdhkKiOuD"
      },
      "source": [
        "#validazione_incrociata_kfold(3,10,2)"
      ],
      "execution_count": null,
      "outputs": []
    },
    {
      "cell_type": "code",
      "metadata": {
        "id": "GAC1cqfBiOuD"
      },
      "source": [
        "#validazione_incrociata_score(3,10,1)"
      ],
      "execution_count": null,
      "outputs": []
    },
    {
      "cell_type": "code",
      "metadata": {
        "id": "xixf_m4RiOuE"
      },
      "source": [
        "#validazione_incrociata_score(3,10,2)"
      ],
      "execution_count": null,
      "outputs": []
    },
    {
      "cell_type": "code",
      "metadata": {
        "id": "VgOBsP0wiOuE"
      },
      "source": [
        "#prova_pipeline(3,2)"
      ],
      "execution_count": null,
      "outputs": []
    },
    {
      "cell_type": "code",
      "metadata": {
        "id": "mKm27xZYiOuE"
      },
      "source": [
        "#exec_trad(3,1)"
      ],
      "execution_count": null,
      "outputs": []
    },
    {
      "cell_type": "code",
      "metadata": {
        "id": "J4O1pitiiOuE"
      },
      "source": [
        "#exec_trad(3,2)"
      ],
      "execution_count": null,
      "outputs": []
    },
    {
      "cell_type": "code",
      "metadata": {
        "colab": {
          "base_uri": "https://localhost:8080/"
        },
        "id": "IkCoFwTyiOuF",
        "outputId": "46b349e9-ffda-4823-c011-6c3adb6cee9d"
      },
      "source": [
        "tuning_KNN(3,5)"
      ],
      "execution_count": null,
      "outputs": [
        {
          "name": "stdout",
          "output_type": "stream",
          "text": [
            "Fitting 5 folds for each of 16 candidates, totalling 80 fits\n"
          ]
        },
        {
          "name": "stderr",
          "output_type": "stream",
          "text": [
            "[Parallel(n_jobs=-1)]: Using backend LokyBackend with 2 concurrent workers.\n"
          ]
        },
        {
          "name": "stdout",
          "output_type": "stream",
          "text": [
            "Accuratezza fase di Cross Validation con dati di Addestramento/Validazione: 0.927\n",
            "{'algorithm': 'auto', 'n_neighbors': 5, 'weights': 'uniform'}\n",
            "Accuratezza con dati di Test: 0.917\n",
            "Risultato sui dati di test:\n",
            "              precision    recall  f1-score   support\n",
            "\n",
            "           0       0.86      1.00      0.92         6\n",
            "           1       1.00      0.83      0.91         6\n",
            "\n",
            "    accuracy                           0.92        12\n",
            "   macro avg       0.93      0.92      0.92        12\n",
            "weighted avg       0.93      0.92      0.92        12\n",
            "\n",
            "[[6 0]\n",
            " [1 5]]\n",
            "Accuratezza Test: 91.000\n",
            "Precisione  Test: 85.000\n",
            "Sensitività Test: 100.000\n",
            "Specificità Test: 83.000\n",
            "F1 score    Test: 91.000\n"
          ]
        },
        {
          "name": "stderr",
          "output_type": "stream",
          "text": [
            "[Parallel(n_jobs=-1)]: Done  80 out of  80 | elapsed:    0.2s finished\n",
            "/usr/local/lib/python3.7/dist-packages/sklearn/model_selection/_search.py:739: DataConversionWarning:\n",
            "\n",
            "A column-vector y was passed when a 1d array was expected. Please change the shape of y to (n_samples, ), for example using ravel().\n",
            "\n"
          ]
        }
      ]
    },
    {
      "cell_type": "code",
      "metadata": {
        "id": "nv1gRPNeiOuF"
      },
      "source": [
        "#tuning_MP(3,10)"
      ],
      "execution_count": null,
      "outputs": []
    },
    {
      "cell_type": "code",
      "metadata": {
        "id": "Wvb6pwD-iOuG"
      },
      "source": [
        "#tuning_LR(3,5)"
      ],
      "execution_count": null,
      "outputs": []
    },
    {
      "cell_type": "code",
      "metadata": {
        "id": "NTiOnrPaiOuG"
      },
      "source": [
        "#tuning_foresta(3,10)"
      ],
      "execution_count": null,
      "outputs": []
    },
    {
      "cell_type": "code",
      "metadata": {
        "id": "agUvJ6esiOuG"
      },
      "source": [
        ""
      ],
      "execution_count": null,
      "outputs": []
    },
    {
      "cell_type": "markdown",
      "metadata": {
        "id": "W2GX47BFiOuG"
      },
      "source": [
        "#### Caso4 CASE vs HCF"
      ]
    },
    {
      "cell_type": "code",
      "metadata": {
        "id": "RlUvTMlSiOuH"
      },
      "source": [
        ""
      ],
      "execution_count": null,
      "outputs": []
    },
    {
      "cell_type": "code",
      "metadata": {
        "id": "SytmrOnHiOuH"
      },
      "source": [
        "df=CASEHC.loc[:,0]\n",
        "\n",
        "X = df.to_numpy()\n",
        "\n",
        "Y = CASEHC.loc[:,1]\n",
        "y = Y.to_numpy()\n",
        "y = np.where(y == 3, 1, 0)\n",
        "#from sklearn.model_selection import train_test_split\n",
        "\n",
        "\n",
        "X_train, X_test, y_train, y_test = train_test_split(X, y, test_size=0.3,stratify=y,random_state=42)\n",
        "\n",
        "#pca = PCA(n_components=2)\n",
        "\n",
        "#X_train_pca = pca.fit_transform(X_train)\n",
        "#X_test_pca = pca.transform(X_test)\n",
        "\n",
        "X_train_caso4=X_train\n",
        "X_test_caso4=X_test\n",
        "y_train_caso4=y_train\n",
        "y_test_caso4=y_test"
      ],
      "execution_count": null,
      "outputs": []
    },
    {
      "cell_type": "code",
      "metadata": {
        "id": "4ohJw680iOuH"
      },
      "source": [
        "X_train_caso4=X_train_caso4.reshape(-1,1)\n",
        "X_test_caso4=X_test_caso4.reshape(-1,1)\n",
        "y_train_caso4=y_train_caso4.reshape(-1,1)\n",
        "y_test_caso4=y_test_caso4.reshape(-1,1)"
      ],
      "execution_count": null,
      "outputs": []
    },
    {
      "cell_type": "code",
      "metadata": {
        "colab": {
          "base_uri": "https://localhost:8080/"
        },
        "id": "d7jVj7ERiOuH",
        "outputId": "81fe9e72-ae86-4b19-c7fb-63a13c1e3ea8"
      },
      "source": [
        "tuning_albero_decisione(4,5)"
      ],
      "execution_count": null,
      "outputs": [
        {
          "name": "stderr",
          "output_type": "stream",
          "text": [
            "[Parallel(n_jobs=-1)]: Using backend LokyBackend with 2 concurrent workers.\n"
          ]
        },
        {
          "name": "stdout",
          "output_type": "stream",
          "text": [
            "Fitting 5 folds for each of 216 candidates, totalling 1080 fits\n",
            "Accuratezza fase di Cross Validation con dati di Addestramento/Validazione: 0.925\n",
            "{'criterion': 'gini', 'max_depth': 3, 'min_samples_leaf': 1, 'min_samples_split': 3, 'min_weight_fraction_leaf': 0}\n",
            "Accuratezza con dati di Test: 0.944\n",
            "Risultato sui dati di test:\n",
            "              precision    recall  f1-score   support\n",
            "\n",
            "           0       0.92      1.00      0.96        12\n",
            "           1       1.00      0.83      0.91         6\n",
            "\n",
            "    accuracy                           0.94        18\n",
            "   macro avg       0.96      0.92      0.93        18\n",
            "weighted avg       0.95      0.94      0.94        18\n",
            "\n",
            "[[12  0]\n",
            " [ 1  5]]\n",
            "Accuratezza Test: 94.000\n",
            "Precisione  Test: 92.000\n",
            "Sensitività Test: 100.000\n",
            "Specificità Test: 83.000\n",
            "F1 score    Test: 95.000\n"
          ]
        },
        {
          "name": "stderr",
          "output_type": "stream",
          "text": [
            "[Parallel(n_jobs=-1)]: Done 1065 tasks      | elapsed:    1.1s\n",
            "[Parallel(n_jobs=-1)]: Done 1077 out of 1080 | elapsed:    1.1s remaining:    0.0s\n",
            "[Parallel(n_jobs=-1)]: Done 1080 out of 1080 | elapsed:    1.1s finished\n"
          ]
        }
      ]
    },
    {
      "cell_type": "code",
      "metadata": {
        "colab": {
          "base_uri": "https://localhost:8080/"
        },
        "id": "Og72plzqiOuI",
        "outputId": "f2d398ad-9075-4b87-a676-117d59b14d35"
      },
      "source": [
        "tuning_SVM(4,5)"
      ],
      "execution_count": null,
      "outputs": [
        {
          "name": "stderr",
          "output_type": "stream",
          "text": [
            "/usr/local/lib/python3.7/dist-packages/sklearn/model_selection/_search.py:281: UserWarning:\n",
            "\n",
            "The total space of parameters 2 is smaller than n_iter=20. Running 2 iterations. For exhaustive searches, use GridSearchCV.\n",
            "\n",
            "[Parallel(n_jobs=-1)]: Using backend LokyBackend with 2 concurrent workers.\n"
          ]
        },
        {
          "name": "stdout",
          "output_type": "stream",
          "text": [
            "Fitting 5 folds for each of 2 candidates, totalling 10 fits\n",
            "Accuratezza fase di Cross Validation con dati di Addestramento/Validazione: 0.925\n",
            "{'kernel': 'linear'}\n",
            "Accuratezza con dati di Test: 0.944\n",
            "Risultato sui dati di test:\n",
            "              precision    recall  f1-score   support\n",
            "\n",
            "           0       0.92      1.00      0.96        12\n",
            "           1       1.00      0.83      0.91         6\n",
            "\n",
            "    accuracy                           0.94        18\n",
            "   macro avg       0.96      0.92      0.93        18\n",
            "weighted avg       0.95      0.94      0.94        18\n",
            "\n",
            "[[12  0]\n",
            " [ 1  5]]\n",
            "Accuratezza Test: 94.000\n",
            "Precisione  Test: 92.000\n",
            "Sensitività Test: 100.000\n",
            "Specificità Test: 83.000\n",
            "F1 score    Test: 95.000\n"
          ]
        },
        {
          "name": "stderr",
          "output_type": "stream",
          "text": [
            "[Parallel(n_jobs=-1)]: Done  10 out of  10 | elapsed:    2.2s finished\n",
            "/usr/local/lib/python3.7/dist-packages/sklearn/utils/validation.py:760: DataConversionWarning:\n",
            "\n",
            "A column-vector y was passed when a 1d array was expected. Please change the shape of y to (n_samples, ), for example using ravel().\n",
            "\n"
          ]
        }
      ]
    },
    {
      "cell_type": "code",
      "metadata": {
        "id": "yMK9LockiOuI"
      },
      "source": [
        "#tuning_albero_decisione_CV(4,10)"
      ],
      "execution_count": null,
      "outputs": []
    },
    {
      "cell_type": "code",
      "metadata": {
        "id": "WEGx9Gh9iOuI"
      },
      "source": [
        "#tuning_SVM_CV(4,10)"
      ],
      "execution_count": null,
      "outputs": []
    },
    {
      "cell_type": "code",
      "metadata": {
        "id": "-nIrhZKPiOuJ"
      },
      "source": [
        "#validazione_incrociata_kfold(4,10,1)"
      ],
      "execution_count": null,
      "outputs": []
    },
    {
      "cell_type": "code",
      "metadata": {
        "id": "D8cP3thqiOuJ"
      },
      "source": [
        "#validazione_incrociata_kfold(4,10,2)"
      ],
      "execution_count": null,
      "outputs": []
    },
    {
      "cell_type": "code",
      "metadata": {
        "id": "4PX-TlsOiOuJ"
      },
      "source": [
        "#validazione_incrociata_score(4,10,1)"
      ],
      "execution_count": null,
      "outputs": []
    },
    {
      "cell_type": "code",
      "metadata": {
        "id": "kuN56eCriOuJ"
      },
      "source": [
        "#validazione_incrociata_score(4,10,2)"
      ],
      "execution_count": null,
      "outputs": []
    },
    {
      "cell_type": "code",
      "metadata": {
        "id": "T8yGJVoviOuJ"
      },
      "source": [
        "#prova_pipeline(4,2)"
      ],
      "execution_count": null,
      "outputs": []
    },
    {
      "cell_type": "code",
      "metadata": {
        "id": "-mE5FGujiOuK"
      },
      "source": [
        "#exec_trad(4,1)"
      ],
      "execution_count": null,
      "outputs": []
    },
    {
      "cell_type": "code",
      "metadata": {
        "id": "2tf0-wgpiOuL"
      },
      "source": [
        "#exec_trad(4,2)"
      ],
      "execution_count": null,
      "outputs": []
    },
    {
      "cell_type": "code",
      "metadata": {
        "colab": {
          "base_uri": "https://localhost:8080/"
        },
        "id": "E1EmIQOKiOuL",
        "outputId": "6e9b1c4e-a428-4d4b-dad6-e27095f4d194"
      },
      "source": [
        "tuning_KNN(4,5)"
      ],
      "execution_count": null,
      "outputs": [
        {
          "name": "stdout",
          "output_type": "stream",
          "text": [
            "Fitting 5 folds for each of 16 candidates, totalling 80 fits\n"
          ]
        },
        {
          "name": "stderr",
          "output_type": "stream",
          "text": [
            "[Parallel(n_jobs=-1)]: Using backend LokyBackend with 2 concurrent workers.\n"
          ]
        },
        {
          "name": "stdout",
          "output_type": "stream",
          "text": [
            "Accuratezza fase di Cross Validation con dati di Addestramento/Validazione: 0.975\n",
            "{'algorithm': 'auto', 'n_neighbors': 5, 'weights': 'uniform'}\n",
            "Accuratezza con dati di Test: 0.889\n",
            "Risultato sui dati di test:\n",
            "              precision    recall  f1-score   support\n",
            "\n",
            "           0       0.92      0.92      0.92        12\n",
            "           1       0.83      0.83      0.83         6\n",
            "\n",
            "    accuracy                           0.89        18\n",
            "   macro avg       0.88      0.88      0.88        18\n",
            "weighted avg       0.89      0.89      0.89        18\n",
            "\n",
            "[[11  1]\n",
            " [ 1  5]]\n",
            "Accuratezza Test: 88.000\n",
            "Precisione  Test: 91.000\n",
            "Sensitività Test: 91.000\n",
            "Specificità Test: 83.000\n",
            "F1 score    Test: 91.000\n"
          ]
        },
        {
          "name": "stderr",
          "output_type": "stream",
          "text": [
            "[Parallel(n_jobs=-1)]: Done  80 out of  80 | elapsed:    0.2s finished\n",
            "/usr/local/lib/python3.7/dist-packages/sklearn/model_selection/_search.py:739: DataConversionWarning:\n",
            "\n",
            "A column-vector y was passed when a 1d array was expected. Please change the shape of y to (n_samples, ), for example using ravel().\n",
            "\n"
          ]
        }
      ]
    },
    {
      "cell_type": "code",
      "metadata": {
        "id": "iC4V3wlyiOuL"
      },
      "source": [
        "#tuning_MP(4,10)"
      ],
      "execution_count": null,
      "outputs": []
    },
    {
      "cell_type": "code",
      "metadata": {
        "id": "9wKx-uNAiOuM"
      },
      "source": [
        "#tuning_LR(4,5)"
      ],
      "execution_count": null,
      "outputs": []
    },
    {
      "cell_type": "code",
      "metadata": {
        "id": "f4YLWqIPiOuM"
      },
      "source": [
        "#tuning_foresta(4,10)"
      ],
      "execution_count": null,
      "outputs": []
    },
    {
      "cell_type": "markdown",
      "metadata": {
        "id": "YigxGnLliOuM"
      },
      "source": [
        "<br>\n",
        "<br>"
      ]
    },
    {
      "cell_type": "code",
      "metadata": {
        "id": "dGOfHufxiOuN"
      },
      "source": [
        ""
      ],
      "execution_count": null,
      "outputs": []
    },
    {
      "cell_type": "code",
      "metadata": {
        "id": "0QMbtreJh1LA"
      },
      "source": [
        ""
      ],
      "execution_count": null,
      "outputs": []
    },
    {
      "cell_type": "markdown",
      "metadata": {
        "id": "Dkj8Od5CjXr3"
      },
      "source": [
        "### 14 hz"
      ]
    },
    {
      "cell_type": "code",
      "metadata": {
        "id": "sCVnMOVijXr4"
      },
      "source": [
        ""
      ],
      "execution_count": null,
      "outputs": []
    },
    {
      "cell_type": "code",
      "metadata": {
        "id": "wRoMaD8kjXr4"
      },
      "source": [
        "\n",
        "y1=hz14.loc[:,0].to_numpy()\n",
        "y2=hz14.loc[:,1].to_numpy()\n",
        "y3=hz14.loc[:,2].to_numpy()\n",
        "\n"
      ],
      "execution_count": null,
      "outputs": []
    },
    {
      "cell_type": "code",
      "metadata": {
        "id": "opM9Zb83jXr5"
      },
      "source": [
        ""
      ],
      "execution_count": null,
      "outputs": []
    },
    {
      "cell_type": "code",
      "metadata": {
        "colab": {
          "base_uri": "https://localhost:8080/"
        },
        "id": "PkrCCTRHjXr6",
        "outputId": "f646ce6d-d5b3-465e-9986-b7512cefb5b4"
      },
      "source": [
        "y1,y2,y3,hz3"
      ],
      "execution_count": null,
      "outputs": [
        {
          "data": {
            "text/plain": [
              "(array([ 79554.39925066, 286776.79878846,  65754.60088215,  95595.92666349,\n",
              "         62045.11054525,  77214.58711363,  61135.34832245,  49494.66604407,\n",
              "        128307.30582543,  68578.24480001,  62469.48844739,  95347.34594162,\n",
              "        334713.48910534,  65838.67584022,  90091.33155696, 112348.3532952 ,\n",
              "         61726.28249567,  92710.21784115,  51245.10069748]),\n",
              " array([ 31706.82903043,  18587.69967088,  13101.83416851,  39791.46525138,\n",
              "         56612.909808  ,  35020.5424797 ,  33290.59123114,  26322.78799497,\n",
              "         24496.13356073,  15725.01574813,  30381.93943542,  28763.5100701 ,\n",
              "         22469.90171829,  59602.45338365,  18768.39269015,  24706.86448764,\n",
              "        183508.18998144, 249376.04554799,  73193.84660773]),\n",
              " array([10194.38577948, 10282.90820371,  3934.6665193 ,  1941.93742849,\n",
              "         1472.1031254 , 14926.93629037,  6033.88729102,  3034.78556323,\n",
              "        22977.39680939,  4402.57524368,  1524.17097788, 12683.16437722,\n",
              "         6788.86732267,  3972.50673624,  1676.99841462,  1432.56395328,\n",
              "         9523.84353998,  3666.37091847,  2446.32356381]),\n",
              "                 0              1             2\n",
              " 0    11941.878738    4543.079199   4260.988482\n",
              " 1    21550.001904    3171.543412   6215.959227\n",
              " 2     7954.533234    2502.250572   2878.113664\n",
              " 3    42676.089206   17653.023737    946.372606\n",
              " 4    12148.524998   27477.274131    612.110742\n",
              " 5    12297.442066    3811.751034   7665.308313\n",
              " 6    19050.995665   10227.178360   3062.984321\n",
              " 7     4992.630324   22822.837806   1211.440626\n",
              " 8    16011.533992    6828.018160  22390.062009\n",
              " 9     9151.569946    3078.353285   2888.256949\n",
              " 10   14843.201818    9843.491084    563.057786\n",
              " 11   10445.070016    5141.196547   4760.093445\n",
              " 12  182700.816803    4200.470742   4973.644479\n",
              " 13   15954.139771   16579.985919   2618.749608\n",
              " 14   11744.109673    5865.329829    698.500991\n",
              " 15    7023.707557   12802.749011    703.477024\n",
              " 16   37297.839360  104104.832648   4747.694480\n",
              " 17   11622.940208   71138.564456   2467.786370\n",
              " 18   14182.838368   23134.713975   1533.933877)"
            ]
          },
          "execution_count": 446,
          "metadata": {},
          "output_type": "execute_result"
        }
      ]
    },
    {
      "cell_type": "code",
      "metadata": {
        "id": "FTE3xcEfjXr7"
      },
      "source": [
        "x1 = np.linspace(0, 19, len(y1), endpoint=True)\n",
        "x2 = np.linspace(0, 19,len(y2), endpoint=True)\n",
        "x3 = np.linspace(0, 19,len(y3), endpoint=True)"
      ],
      "execution_count": null,
      "outputs": []
    },
    {
      "cell_type": "code",
      "metadata": {
        "colab": {
          "base_uri": "https://localhost:8080/",
          "height": 269
        },
        "id": "UETa2UkOjXr8",
        "outputId": "fcf118db-1cc8-4fa5-ac03-fb2fc9428c80"
      },
      "source": [
        "plt.plot(x1, y1, 'g')\n",
        "plt.plot(x2, y2, 'b')\n",
        "plt.plot(x3, y3, 'r')\n",
        "#plt.ylim(0,300000)\n",
        "plt.show()"
      ],
      "execution_count": null,
      "outputs": [
        {
          "data": {
            "image/png": "[encoded data removed]",
            "text/plain": [
              "<Figure size 432x288 with 1 Axes>"
            ]
          },
          "metadata": {},
          "output_type": "display_data"
        }
      ]
    },
    {
      "cell_type": "code",
      "metadata": {
        "id": "oXM20EZijXr9"
      },
      "source": [
        ""
      ],
      "execution_count": null,
      "outputs": []
    },
    {
      "cell_type": "code",
      "metadata": {
        "id": "jSy3infWjXr-"
      },
      "source": [
        "matriceAD = np.zeros((len(y1),2))\n",
        "matriceMCI = np.zeros((len(y2),2))\n",
        "matriceHC = np.zeros((len(y3),2))\n"
      ],
      "execution_count": null,
      "outputs": []
    },
    {
      "cell_type": "code",
      "metadata": {
        "id": "80bPIb1pjXr_"
      },
      "source": [
        "matriceADHC = np.zeros((len(y1)+len(y3),2))\n",
        "matriceMCIHC = np.zeros((len(y2)+len(y3),2))\n",
        "matriceADMCI = np.zeros((len(y1)+len(y2),2))\n",
        "matriceCASEHC = np.zeros((len(y2)+len(y3)+len(y1),2))"
      ],
      "execution_count": null,
      "outputs": []
    },
    {
      "cell_type": "code",
      "metadata": {
        "id": "UzpajjoxjXsA"
      },
      "source": [
        "for i in range(len(y1)):\n",
        "      matriceAD[i,0]=y1[i]\n",
        "      matriceAD[i,1]=1"
      ],
      "execution_count": null,
      "outputs": []
    },
    {
      "cell_type": "code",
      "metadata": {
        "id": "bDXKt-bzjXsB"
      },
      "source": [
        "for i in range(len(y2)):\n",
        "      matriceMCI[i,0]=y2[i]\n",
        "      matriceMCI[i,1]=2"
      ],
      "execution_count": null,
      "outputs": []
    },
    {
      "cell_type": "code",
      "metadata": {
        "id": "FdiUh9_zjXsC"
      },
      "source": [
        "for i in range(len(y3)):\n",
        "      matriceHC[i,0]=y3[i]\n",
        "      matriceHC[i,1]=3"
      ],
      "execution_count": null,
      "outputs": []
    },
    {
      "cell_type": "code",
      "metadata": {
        "id": "eUFMNChljXsC"
      },
      "source": [
        "AD=pd.DataFrame(matriceAD)\n",
        "HC=pd.DataFrame(matriceHC)\n",
        "MCI=pd.DataFrame(matriceMCI)"
      ],
      "execution_count": null,
      "outputs": []
    },
    {
      "cell_type": "code",
      "metadata": {
        "id": "WYTsJvznjXsD"
      },
      "source": [
        "ADHC=AD.copy()\n",
        "ADHC=ADHC.append(HC,ignore_index=True)"
      ],
      "execution_count": null,
      "outputs": []
    },
    {
      "cell_type": "code",
      "metadata": {
        "id": "gvX-MBVgjXsD"
      },
      "source": [
        "ADMCI=AD.copy()\n",
        "ADMCI=ADMCI.append(MCI,ignore_index=True)"
      ],
      "execution_count": null,
      "outputs": []
    },
    {
      "cell_type": "code",
      "metadata": {
        "id": "jZ8gEhsxjXsE"
      },
      "source": [
        "MCIHC=MCI.copy()\n",
        "MCIHC=MCIHC.append(HC,ignore_index=True)"
      ],
      "execution_count": null,
      "outputs": []
    },
    {
      "cell_type": "code",
      "metadata": {
        "id": "YEWDpRS3jXsE"
      },
      "source": [
        "CASEHC=AD.copy()\n",
        "CASEHC=CASEHC.append(MCI,ignore_index=True)\n",
        "CASEHC=CASEHC.append(HC,ignore_index=True)"
      ],
      "execution_count": null,
      "outputs": []
    },
    {
      "cell_type": "code",
      "metadata": {
        "id": "-DL0ZzIZjXsF"
      },
      "source": [
        ""
      ],
      "execution_count": null,
      "outputs": []
    },
    {
      "cell_type": "markdown",
      "metadata": {
        "id": "5GyWde1ojXsF"
      },
      "source": [
        "#### Caso1 AD vs HCF"
      ]
    },
    {
      "cell_type": "code",
      "metadata": {
        "id": "3S_dQrzXjXsF"
      },
      "source": [
        "df=ADHC.loc[:,0]\n",
        "\n",
        "X = df.to_numpy()\n",
        "\n",
        "Y = ADHC.loc[:,1]\n",
        "y = Y.to_numpy()"
      ],
      "execution_count": null,
      "outputs": []
    },
    {
      "cell_type": "code",
      "metadata": {
        "id": "oVvtL6VTjXsG"
      },
      "source": [
        "y = np.where(y == 1, 1, 0)"
      ],
      "execution_count": null,
      "outputs": []
    },
    {
      "cell_type": "code",
      "metadata": {
        "colab": {
          "base_uri": "https://localhost:8080/"
        },
        "id": "2fbue_u2jXsG",
        "outputId": "d85a2141-1e25-4491-c363-80f0a1abedb7"
      },
      "source": [
        "X,y"
      ],
      "execution_count": null,
      "outputs": [
        {
          "data": {
            "text/plain": [
              "(array([ 79554.39925066, 286776.79878846,  65754.60088215,  95595.92666349,\n",
              "         62045.11054525,  77214.58711363,  61135.34832245,  49494.66604407,\n",
              "        128307.30582543,  68578.24480001,  62469.48844739,  95347.34594162,\n",
              "        334713.48910534,  65838.67584022,  90091.33155696, 112348.3532952 ,\n",
              "         61726.28249567,  92710.21784115,  51245.10069748,  10194.38577948,\n",
              "         10282.90820371,   3934.6665193 ,   1941.93742849,   1472.1031254 ,\n",
              "         14926.93629037,   6033.88729102,   3034.78556323,  22977.39680939,\n",
              "          4402.57524368,   1524.17097788,  12683.16437722,   6788.86732267,\n",
              "          3972.50673624,   1676.99841462,   1432.56395328,   9523.84353998,\n",
              "          3666.37091847,   2446.32356381]),\n",
              " array([1, 1, 1, 1, 1, 1, 1, 1, 1, 1, 1, 1, 1, 1, 1, 1, 1, 1, 1, 0, 0, 0,\n",
              "        0, 0, 0, 0, 0, 0, 0, 0, 0, 0, 0, 0, 0, 0, 0, 0]))"
            ]
          },
          "execution_count": 461,
          "metadata": {},
          "output_type": "execute_result"
        }
      ]
    },
    {
      "cell_type": "code",
      "metadata": {
        "id": "EGh7JHIejXsG"
      },
      "source": [
        "df=ADHC.loc[:,0]\n",
        "\n",
        "X = df.to_numpy()\n",
        "\n",
        "Y = ADHC.loc[:,1]\n",
        "y = Y.to_numpy()\n",
        "y = np.where(y == 1, 1, 0)\n",
        "#from sklearn.model_selection import train_test_split\n",
        "\n",
        "\n",
        "X_train, X_test, y_train, y_test = train_test_split(X, y, test_size=0.3,stratify=y,random_state=42)\n",
        "\n",
        "#pca = PCA(n_components=2)\n",
        "\n",
        "#X_train_pca = pca.fit_transform(X_train)\n",
        "#X_test_pca = pca.transform(X_test)\n",
        "\n",
        "X_train_caso1=X_train\n",
        "X_test_caso1=X_test\n",
        "y_train_caso1=y_train\n",
        "y_test_caso1=y_test\n",
        "\n"
      ],
      "execution_count": null,
      "outputs": []
    },
    {
      "cell_type": "code",
      "metadata": {
        "id": "f-1s6sEhjXsH"
      },
      "source": [
        "X_train_caso1=X_train_caso1.reshape(-1,1)\n",
        "X_test_caso1=X_test_caso1.reshape(-1,1)\n",
        "y_train_caso1=y_train_caso1.reshape(-1,1)\n",
        "y_test_caso1=y_test_caso1.reshape(-1,1)\n"
      ],
      "execution_count": null,
      "outputs": []
    },
    {
      "cell_type": "code",
      "metadata": {
        "id": "wZAhuhMhjXsH"
      },
      "source": [
        ""
      ],
      "execution_count": null,
      "outputs": []
    },
    {
      "cell_type": "code",
      "metadata": {
        "colab": {
          "base_uri": "https://localhost:8080/"
        },
        "id": "KzqTWSi7jXsH",
        "outputId": "0ac47f55-5276-4079-94ee-41f3df144f73"
      },
      "source": [
        "tuning_albero_decisione(1,5)"
      ],
      "execution_count": null,
      "outputs": [
        {
          "name": "stdout",
          "output_type": "stream",
          "text": [
            "Fitting 5 folds for each of 216 candidates, totalling 1080 fits\n"
          ]
        },
        {
          "name": "stderr",
          "output_type": "stream",
          "text": [
            "[Parallel(n_jobs=-1)]: Using backend LokyBackend with 2 concurrent workers.\n"
          ]
        },
        {
          "name": "stdout",
          "output_type": "stream",
          "text": [
            "Accuratezza fase di Cross Validation con dati di Addestramento/Validazione: 1.000\n",
            "{'criterion': 'gini', 'max_depth': 3, 'min_samples_leaf': 1, 'min_samples_split': 2, 'min_weight_fraction_leaf': 0}\n",
            "Accuratezza con dati di Test: 1.000\n",
            "Risultato sui dati di test:\n",
            "              precision    recall  f1-score   support\n",
            "\n",
            "           0       1.00      1.00      1.00         6\n",
            "           1       1.00      1.00      1.00         6\n",
            "\n",
            "    accuracy                           1.00        12\n",
            "   macro avg       1.00      1.00      1.00        12\n",
            "weighted avg       1.00      1.00      1.00        12\n",
            "\n",
            "[[6 0]\n",
            " [0 6]]\n",
            "Accuratezza Test: 100.000\n",
            "Precisione  Test: 100.000\n",
            "Sensitività Test: 100.000\n",
            "Specificità Test: 100.000\n",
            "F1 score    Test: 100.000\n"
          ]
        },
        {
          "name": "stderr",
          "output_type": "stream",
          "text": [
            "[Parallel(n_jobs=-1)]: Done 912 tasks      | elapsed:    2.0s\n",
            "[Parallel(n_jobs=-1)]: Done 1080 out of 1080 | elapsed:    2.0s finished\n"
          ]
        }
      ]
    },
    {
      "cell_type": "code",
      "metadata": {
        "colab": {
          "base_uri": "https://localhost:8080/"
        },
        "id": "lOekml-EjXsI",
        "outputId": "17f97732-bf93-4f9a-9f19-9183cc583c7e"
      },
      "source": [
        "tuning_SVM(1,5)"
      ],
      "execution_count": null,
      "outputs": [
        {
          "name": "stdout",
          "output_type": "stream",
          "text": [
            "Fitting 5 folds for each of 2 candidates, totalling 10 fits\n",
            "Accuratezza fase di Cross Validation con dati di Addestramento/Validazione: 1.000\n",
            "{'kernel': 'linear'}\n",
            "Accuratezza con dati di Test: 1.000\n",
            "Risultato sui dati di test:\n",
            "              precision    recall  f1-score   support\n",
            "\n",
            "           0       1.00      1.00      1.00         6\n",
            "           1       1.00      1.00      1.00         6\n",
            "\n",
            "    accuracy                           1.00        12\n",
            "   macro avg       1.00      1.00      1.00        12\n",
            "weighted avg       1.00      1.00      1.00        12\n",
            "\n",
            "[[6 0]\n",
            " [0 6]]\n",
            "Accuratezza Test: 100.000\n",
            "Precisione  Test: 100.000\n",
            "Sensitività Test: 100.000\n",
            "Specificità Test: 100.000\n",
            "F1 score    Test: 100.000\n"
          ]
        },
        {
          "name": "stderr",
          "output_type": "stream",
          "text": [
            "/usr/local/lib/python3.7/dist-packages/sklearn/model_selection/_search.py:281: UserWarning:\n",
            "\n",
            "The total space of parameters 2 is smaller than n_iter=20. Running 2 iterations. For exhaustive searches, use GridSearchCV.\n",
            "\n",
            "[Parallel(n_jobs=-1)]: Using backend LokyBackend with 2 concurrent workers.\n",
            "[Parallel(n_jobs=-1)]: Done  10 out of  10 | elapsed:    0.0s finished\n",
            "/usr/local/lib/python3.7/dist-packages/sklearn/utils/validation.py:760: DataConversionWarning:\n",
            "\n",
            "A column-vector y was passed when a 1d array was expected. Please change the shape of y to (n_samples, ), for example using ravel().\n",
            "\n"
          ]
        }
      ]
    },
    {
      "cell_type": "code",
      "metadata": {
        "id": "o9jjvMnfjXsI"
      },
      "source": [
        "#tuning_foresta(1,10)"
      ],
      "execution_count": null,
      "outputs": []
    },
    {
      "cell_type": "code",
      "metadata": {
        "id": "4ZPqHgf0jXsJ"
      },
      "source": [
        "#tuning_albero_decisione_CV(1,10)"
      ],
      "execution_count": null,
      "outputs": []
    },
    {
      "cell_type": "code",
      "metadata": {
        "id": "bJb5ZU5gjXsJ"
      },
      "source": [
        "#tuning_SVM_CV(1,10)"
      ],
      "execution_count": null,
      "outputs": []
    },
    {
      "cell_type": "code",
      "metadata": {
        "id": "L32FpU2GjXsJ"
      },
      "source": [
        "#validazione_incrociata_kfold(1,10,1)"
      ],
      "execution_count": null,
      "outputs": []
    },
    {
      "cell_type": "code",
      "metadata": {
        "id": "Lco4Tsm4jXsK"
      },
      "source": [
        "#validazione_incrociata_kfold(1,10,2)"
      ],
      "execution_count": null,
      "outputs": []
    },
    {
      "cell_type": "code",
      "metadata": {
        "id": "n6opy3tMjXsK"
      },
      "source": [
        "#validazione_incrociata_score(1,10,1)"
      ],
      "execution_count": null,
      "outputs": []
    },
    {
      "cell_type": "code",
      "metadata": {
        "id": "YOH-YdmpjXsK"
      },
      "source": [
        "#validazione_incrociata_score(1,10,2)"
      ],
      "execution_count": null,
      "outputs": []
    },
    {
      "cell_type": "code",
      "metadata": {
        "id": "nlq4EuSSjXsK"
      },
      "source": [
        "#prova_pipeline(1,2)"
      ],
      "execution_count": null,
      "outputs": []
    },
    {
      "cell_type": "code",
      "metadata": {
        "id": "P0yPCAPAjXsL"
      },
      "source": [
        ""
      ],
      "execution_count": null,
      "outputs": []
    },
    {
      "cell_type": "code",
      "metadata": {
        "colab": {
          "base_uri": "https://localhost:8080/"
        },
        "id": "VdooEpqBjXsL",
        "outputId": "fa5854bd-e5ce-4c49-db5d-8d9395e8c0b9"
      },
      "source": [
        "tuning_KNN(1,5)"
      ],
      "execution_count": null,
      "outputs": [
        {
          "name": "stdout",
          "output_type": "stream",
          "text": [
            "Fitting 5 folds for each of 16 candidates, totalling 80 fits\n"
          ]
        },
        {
          "name": "stderr",
          "output_type": "stream",
          "text": [
            "[Parallel(n_jobs=-1)]: Using backend LokyBackend with 2 concurrent workers.\n"
          ]
        },
        {
          "name": "stdout",
          "output_type": "stream",
          "text": [
            "Accuratezza fase di Cross Validation con dati di Addestramento/Validazione: 1.000\n",
            "{'algorithm': 'auto', 'n_neighbors': 5, 'weights': 'uniform'}\n",
            "Accuratezza con dati di Test: 1.000\n",
            "Risultato sui dati di test:\n",
            "              precision    recall  f1-score   support\n",
            "\n",
            "           0       1.00      1.00      1.00         6\n",
            "           1       1.00      1.00      1.00         6\n",
            "\n",
            "    accuracy                           1.00        12\n",
            "   macro avg       1.00      1.00      1.00        12\n",
            "weighted avg       1.00      1.00      1.00        12\n",
            "\n",
            "[[6 0]\n",
            " [0 6]]\n",
            "Accuratezza Test: 100.000\n",
            "Precisione  Test: 100.000\n",
            "Sensitività Test: 100.000\n",
            "Specificità Test: 100.000\n",
            "F1 score    Test: 100.000\n"
          ]
        },
        {
          "name": "stderr",
          "output_type": "stream",
          "text": [
            "[Parallel(n_jobs=-1)]: Done  80 out of  80 | elapsed:    0.2s finished\n",
            "/usr/local/lib/python3.7/dist-packages/sklearn/model_selection/_search.py:739: DataConversionWarning:\n",
            "\n",
            "A column-vector y was passed when a 1d array was expected. Please change the shape of y to (n_samples, ), for example using ravel().\n",
            "\n"
          ]
        }
      ]
    },
    {
      "cell_type": "code",
      "metadata": {
        "id": "HvAA0LfOjXsL"
      },
      "source": [
        "#tuning_MP(1,5)"
      ],
      "execution_count": null,
      "outputs": []
    },
    {
      "cell_type": "code",
      "metadata": {
        "id": "pLoJzzTujXsL"
      },
      "source": [
        "#tuning_LR(1,5)"
      ],
      "execution_count": null,
      "outputs": []
    },
    {
      "cell_type": "code",
      "metadata": {
        "id": "mUEyIebQjXsM"
      },
      "source": [
        "#tuning_foresta(1,5)"
      ],
      "execution_count": null,
      "outputs": []
    },
    {
      "cell_type": "code",
      "metadata": {
        "id": "Ky3XS0nUjXsM"
      },
      "source": [
        ""
      ],
      "execution_count": null,
      "outputs": []
    },
    {
      "cell_type": "markdown",
      "metadata": {
        "id": "MVfSbfafjXsM"
      },
      "source": [
        "#### Caso2 AD vs MCI"
      ]
    },
    {
      "cell_type": "code",
      "metadata": {
        "id": "pMdk46rEjXsN"
      },
      "source": [
        ""
      ],
      "execution_count": null,
      "outputs": []
    },
    {
      "cell_type": "code",
      "metadata": {
        "id": "uWg4tLUhjXsN"
      },
      "source": [
        "\n",
        "df=ADMCI.loc[:,0]\n",
        "\n",
        "X = df.to_numpy()\n",
        "\n",
        "Y = ADMCI.loc[:,1]\n",
        "y = Y.to_numpy()\n",
        "y = np.where(y == 1, 1, 0)\n",
        "#from sklearn.model_selection import train_test_split\n",
        "\n",
        "X_train, X_test, y_train, y_test = train_test_split(X, y, test_size=0.3,stratify=y,random_state=42)\n",
        "\n",
        "#pca = PCA(n_components=5)\n",
        "\n",
        "#X_train_pca = pca.fit_transform(X_train)\n",
        "#X_test_pca = pca.transform(X_test)\n",
        "\n",
        "X_train_caso2=X_train\n",
        "X_test_caso2=X_test\n",
        "y_train_caso2=y_train\n",
        "y_test_caso2=y_test"
      ],
      "execution_count": null,
      "outputs": []
    },
    {
      "cell_type": "code",
      "metadata": {
        "id": "iGR-00AEjXsN"
      },
      "source": [
        "X_train_caso2=X_train_caso2.reshape(-1,1)\n",
        "X_test_caso2=X_test_caso2.reshape(-1,1)\n",
        "y_train_caso2=y_train_caso2.reshape(-1,1)\n",
        "y_test_caso2=y_test_caso2.reshape(-1,1)"
      ],
      "execution_count": null,
      "outputs": []
    },
    {
      "cell_type": "code",
      "metadata": {
        "colab": {
          "base_uri": "https://localhost:8080/"
        },
        "id": "J2JDMZwojXsT",
        "outputId": "4447530e-468a-4086-f3da-92da7175d827"
      },
      "source": [
        "tuning_albero_decisione(2,5)"
      ],
      "execution_count": null,
      "outputs": [
        {
          "name": "stderr",
          "output_type": "stream",
          "text": [
            "[Parallel(n_jobs=-1)]: Using backend LokyBackend with 2 concurrent workers.\n"
          ]
        },
        {
          "name": "stdout",
          "output_type": "stream",
          "text": [
            "Fitting 5 folds for each of 216 candidates, totalling 1080 fits\n",
            "Accuratezza fase di Cross Validation con dati di Addestramento/Validazione: 0.853\n",
            "{'criterion': 'gini', 'max_depth': 3, 'min_samples_leaf': 1, 'min_samples_split': 2, 'min_weight_fraction_leaf': 0}\n",
            "Accuratezza con dati di Test: 0.750\n",
            "Risultato sui dati di test:\n",
            "              precision    recall  f1-score   support\n",
            "\n",
            "           0       0.71      0.83      0.77         6\n",
            "           1       0.80      0.67      0.73         6\n",
            "\n",
            "    accuracy                           0.75        12\n",
            "   macro avg       0.76      0.75      0.75        12\n",
            "weighted avg       0.76      0.75      0.75        12\n",
            "\n",
            "[[5 1]\n",
            " [2 4]]\n",
            "Accuratezza Test: 75.000\n",
            "Precisione  Test: 71.000\n",
            "Sensitività Test: 83.000\n",
            "Specificità Test: 66.000\n",
            "F1 score    Test: 76.000\n"
          ]
        },
        {
          "name": "stderr",
          "output_type": "stream",
          "text": [
            "[Parallel(n_jobs=-1)]: Done 1067 tasks      | elapsed:    1.1s\n",
            "[Parallel(n_jobs=-1)]: Done 1080 out of 1080 | elapsed:    1.2s finished\n"
          ]
        }
      ]
    },
    {
      "cell_type": "code",
      "metadata": {
        "colab": {
          "base_uri": "https://localhost:8080/"
        },
        "id": "9uJrMMTMjXsU",
        "outputId": "7dbcbad5-6d53-49b2-cfdb-f6f89cf1d265"
      },
      "source": [
        "tuning_SVM(2,5)"
      ],
      "execution_count": null,
      "outputs": [
        {
          "name": "stderr",
          "output_type": "stream",
          "text": [
            "/usr/local/lib/python3.7/dist-packages/sklearn/model_selection/_search.py:281: UserWarning:\n",
            "\n",
            "The total space of parameters 2 is smaller than n_iter=20. Running 2 iterations. For exhaustive searches, use GridSearchCV.\n",
            "\n",
            "[Parallel(n_jobs=-1)]: Using backend LokyBackend with 2 concurrent workers.\n"
          ]
        },
        {
          "name": "stdout",
          "output_type": "stream",
          "text": [
            "Fitting 5 folds for each of 2 candidates, totalling 10 fits\n",
            "Accuratezza fase di Cross Validation con dati di Addestramento/Validazione: 0.853\n",
            "{'kernel': 'rbf'}\n",
            "Accuratezza con dati di Test: 0.750\n",
            "Risultato sui dati di test:\n",
            "              precision    recall  f1-score   support\n",
            "\n",
            "           0       0.71      0.83      0.77         6\n",
            "           1       0.80      0.67      0.73         6\n",
            "\n",
            "    accuracy                           0.75        12\n",
            "   macro avg       0.76      0.75      0.75        12\n",
            "weighted avg       0.76      0.75      0.75        12\n",
            "\n",
            "[[5 1]\n",
            " [2 4]]\n",
            "Accuratezza Test: 75.000\n",
            "Precisione  Test: 71.000\n",
            "Sensitività Test: 83.000\n",
            "Specificità Test: 66.000\n",
            "F1 score    Test: 76.000\n"
          ]
        },
        {
          "name": "stderr",
          "output_type": "stream",
          "text": [
            "[Parallel(n_jobs=-1)]: Done  10 out of  10 | elapsed:   42.3s finished\n",
            "/usr/local/lib/python3.7/dist-packages/sklearn/utils/validation.py:760: DataConversionWarning:\n",
            "\n",
            "A column-vector y was passed when a 1d array was expected. Please change the shape of y to (n_samples, ), for example using ravel().\n",
            "\n"
          ]
        }
      ]
    },
    {
      "cell_type": "code",
      "metadata": {
        "id": "vgiO8HWSjXsU"
      },
      "source": [
        "#tuning_foresta(2,10)"
      ],
      "execution_count": null,
      "outputs": []
    },
    {
      "cell_type": "code",
      "metadata": {
        "id": "f_YgyNBijXsU"
      },
      "source": [
        "#tuning_albero_decisione_CV(2,10)"
      ],
      "execution_count": null,
      "outputs": []
    },
    {
      "cell_type": "code",
      "metadata": {
        "id": "Ht4i--zXjXsV"
      },
      "source": [
        "#tuning_SVM_CV(2,10)"
      ],
      "execution_count": null,
      "outputs": []
    },
    {
      "cell_type": "code",
      "metadata": {
        "id": "yrTmdaXUjXsV"
      },
      "source": [
        "#validazione_incrociata_kfold(2,10,1)"
      ],
      "execution_count": null,
      "outputs": []
    },
    {
      "cell_type": "code",
      "metadata": {
        "id": "LGmnGRrCjXsV"
      },
      "source": [
        "#validazione_incrociata_kfold(2,10,2)"
      ],
      "execution_count": null,
      "outputs": []
    },
    {
      "cell_type": "code",
      "metadata": {
        "id": "2OP26tqnjXsV"
      },
      "source": [
        "#validazione_incrociata_score(2,10,1)"
      ],
      "execution_count": null,
      "outputs": []
    },
    {
      "cell_type": "code",
      "metadata": {
        "id": "9PAZ-ekpjXsb"
      },
      "source": [
        "#validazione_incrociata_score(2,10,2)"
      ],
      "execution_count": null,
      "outputs": []
    },
    {
      "cell_type": "code",
      "metadata": {
        "id": "vnc22bpVjXsb"
      },
      "source": [
        "#prova_pipeline(2,2)"
      ],
      "execution_count": null,
      "outputs": []
    },
    {
      "cell_type": "code",
      "metadata": {
        "id": "Rb75mTXSjXsb"
      },
      "source": [
        "#exec_trad(2,1)"
      ],
      "execution_count": null,
      "outputs": []
    },
    {
      "cell_type": "code",
      "metadata": {
        "id": "NzX0IqaejXsc"
      },
      "source": [
        "#exec_trad(2,2)"
      ],
      "execution_count": null,
      "outputs": []
    },
    {
      "cell_type": "code",
      "metadata": {
        "colab": {
          "base_uri": "https://localhost:8080/"
        },
        "id": "bEe6bBXSjXsc",
        "outputId": "954db222-3ddc-435e-8d20-620f52337559"
      },
      "source": [
        "tuning_KNN(2,5)"
      ],
      "execution_count": null,
      "outputs": [
        {
          "name": "stderr",
          "output_type": "stream",
          "text": [
            "[Parallel(n_jobs=-1)]: Using backend LokyBackend with 2 concurrent workers.\n"
          ]
        },
        {
          "name": "stdout",
          "output_type": "stream",
          "text": [
            "Fitting 5 folds for each of 16 candidates, totalling 80 fits\n",
            "Accuratezza fase di Cross Validation con dati di Addestramento/Validazione: 0.853\n",
            "{'algorithm': 'auto', 'n_neighbors': 5, 'weights': 'uniform'}\n",
            "Accuratezza con dati di Test: 0.917\n",
            "Risultato sui dati di test:\n",
            "              precision    recall  f1-score   support\n",
            "\n",
            "           0       1.00      0.83      0.91         6\n",
            "           1       0.86      1.00      0.92         6\n",
            "\n",
            "    accuracy                           0.92        12\n",
            "   macro avg       0.93      0.92      0.92        12\n",
            "weighted avg       0.93      0.92      0.92        12\n",
            "\n",
            "[[5 1]\n",
            " [0 6]]\n",
            "Accuratezza Test: 91.000\n",
            "Precisione  Test: 100.000\n",
            "Sensitività Test: 83.000\n",
            "Specificità Test: 100.000\n",
            "F1 score    Test: 90.000\n"
          ]
        },
        {
          "name": "stderr",
          "output_type": "stream",
          "text": [
            "[Parallel(n_jobs=-1)]: Done  80 out of  80 | elapsed:    0.2s finished\n",
            "/usr/local/lib/python3.7/dist-packages/sklearn/model_selection/_search.py:739: DataConversionWarning:\n",
            "\n",
            "A column-vector y was passed when a 1d array was expected. Please change the shape of y to (n_samples, ), for example using ravel().\n",
            "\n"
          ]
        }
      ]
    },
    {
      "cell_type": "code",
      "metadata": {
        "id": "goYVesLIjXsd"
      },
      "source": [
        "#tuning_MP(2,10)"
      ],
      "execution_count": null,
      "outputs": []
    },
    {
      "cell_type": "code",
      "metadata": {
        "id": "NdyGYkl4jXsd"
      },
      "source": [
        "#tuning_LR(2,5)"
      ],
      "execution_count": null,
      "outputs": []
    },
    {
      "cell_type": "markdown",
      "metadata": {
        "id": "xxPQhHsvjXsd"
      },
      "source": [
        "<br>\n",
        "<br>"
      ]
    },
    {
      "cell_type": "markdown",
      "metadata": {
        "id": "ZKOoMELNjXse"
      },
      "source": [
        "<br>\n",
        "<br>"
      ]
    },
    {
      "cell_type": "code",
      "metadata": {
        "id": "2rgwQxFQjXse"
      },
      "source": [
        "#tuning_foresta(2,10)"
      ],
      "execution_count": null,
      "outputs": []
    },
    {
      "cell_type": "markdown",
      "metadata": {
        "id": "NAfNHxWGjXse"
      },
      "source": [
        "#### Caso3 MCI vs HCF"
      ]
    },
    {
      "cell_type": "code",
      "metadata": {
        "id": "aOrDFZQejXse"
      },
      "source": [
        ""
      ],
      "execution_count": null,
      "outputs": []
    },
    {
      "cell_type": "code",
      "metadata": {
        "id": "dNbon_7ajXsf"
      },
      "source": [
        "\n",
        "df=MCIHC.loc[:,0]\n",
        "\n",
        "X = df.to_numpy()\n",
        "\n",
        "Y = MCIHC.loc[:,1]\n",
        "y = Y.to_numpy()\n",
        "y = np.where(y == 2, 1, 0)\n",
        "\n",
        "#from sklearn.model_selection import train_test_split\n",
        "\n",
        "\n",
        "X_train, X_test, y_train, y_test = train_test_split(X, y, test_size=0.3,stratify=y,random_state=42)\n",
        "\n",
        "#pca = PCA(n_components=2)\n",
        "\n",
        "#X_train_pca = pca.fit_transform(X_train)\n",
        "#X_test_pca = pca.transform(X_test)\n",
        "\n",
        "X_train_caso3=X_train\n",
        "X_test_caso3=X_test\n",
        "y_train_caso3=y_train\n",
        "y_test_caso3=y_test"
      ],
      "execution_count": null,
      "outputs": []
    },
    {
      "cell_type": "code",
      "metadata": {
        "id": "PViJn1n1jXsf"
      },
      "source": [
        "X_train_caso3=X_train_caso3.reshape(-1,1)\n",
        "X_test_caso3=X_test_caso3.reshape(-1,1)\n",
        "y_train_caso3=y_train_caso3.reshape(-1,1)\n",
        "y_test_caso3=y_test_caso3.reshape(-1,1)"
      ],
      "execution_count": null,
      "outputs": []
    },
    {
      "cell_type": "code",
      "metadata": {
        "colab": {
          "base_uri": "https://localhost:8080/"
        },
        "id": "QXktPgCmjXsf",
        "outputId": "9eeece63-6817-4b11-9705-8a57db80b624"
      },
      "source": [
        "tuning_albero_decisione(3,10)"
      ],
      "execution_count": null,
      "outputs": [
        {
          "name": "stderr",
          "output_type": "stream",
          "text": [
            "[Parallel(n_jobs=-1)]: Using backend LokyBackend with 2 concurrent workers.\n"
          ]
        },
        {
          "name": "stdout",
          "output_type": "stream",
          "text": [
            "Fitting 10 folds for each of 216 candidates, totalling 2160 fits\n",
            "Accuratezza fase di Cross Validation con dati di Addestramento/Validazione: 0.883\n",
            "{'criterion': 'gini', 'max_depth': 3, 'min_samples_leaf': 3, 'min_samples_split': 2, 'min_weight_fraction_leaf': 0}\n",
            "Accuratezza con dati di Test: 0.750\n",
            "Risultato sui dati di test:\n",
            "              precision    recall  f1-score   support\n",
            "\n",
            "           0       0.67      1.00      0.80         6\n",
            "           1       1.00      0.50      0.67         6\n",
            "\n",
            "    accuracy                           0.75        12\n",
            "   macro avg       0.83      0.75      0.73        12\n",
            "weighted avg       0.83      0.75      0.73        12\n",
            "\n",
            "[[6 0]\n",
            " [3 3]]\n",
            "Accuratezza Test: 75.000\n",
            "Precisione  Test: 66.000\n",
            "Sensitività Test: 100.000\n",
            "Specificità Test: 50.000\n",
            "F1 score    Test: 79.000\n"
          ]
        },
        {
          "name": "stderr",
          "output_type": "stream",
          "text": [
            "[Parallel(n_jobs=-1)]: Done 1951 tasks      | elapsed:    2.3s\n",
            "[Parallel(n_jobs=-1)]: Done 2160 out of 2160 | elapsed:    2.4s finished\n"
          ]
        }
      ]
    },
    {
      "cell_type": "code",
      "metadata": {
        "colab": {
          "base_uri": "https://localhost:8080/"
        },
        "id": "IhOiXIlQjXsf",
        "outputId": "eed062aa-4009-47ee-d3e9-fba15f0284bb"
      },
      "source": [
        "tuning_SVM(3,10)"
      ],
      "execution_count": null,
      "outputs": [
        {
          "name": "stderr",
          "output_type": "stream",
          "text": [
            "/usr/local/lib/python3.7/dist-packages/sklearn/model_selection/_search.py:281: UserWarning:\n",
            "\n",
            "The total space of parameters 2 is smaller than n_iter=20. Running 2 iterations. For exhaustive searches, use GridSearchCV.\n",
            "\n",
            "[Parallel(n_jobs=-1)]: Using backend LokyBackend with 2 concurrent workers.\n"
          ]
        },
        {
          "name": "stdout",
          "output_type": "stream",
          "text": [
            "Fitting 10 folds for each of 2 candidates, totalling 20 fits\n",
            "Accuratezza fase di Cross Validation con dati di Addestramento/Validazione: 0.900\n",
            "{'kernel': 'rbf'}\n",
            "Accuratezza con dati di Test: 0.833\n",
            "Risultato sui dati di test:\n",
            "              precision    recall  f1-score   support\n",
            "\n",
            "           0       0.75      1.00      0.86         6\n",
            "           1       1.00      0.67      0.80         6\n",
            "\n",
            "    accuracy                           0.83        12\n",
            "   macro avg       0.88      0.83      0.83        12\n",
            "weighted avg       0.88      0.83      0.83        12\n",
            "\n",
            "[[6 0]\n",
            " [2 4]]\n",
            "Accuratezza Test: 83.000\n",
            "Precisione  Test: 75.000\n",
            "Sensitività Test: 100.000\n",
            "Specificità Test: 66.000\n",
            "F1 score    Test: 85.000\n"
          ]
        },
        {
          "name": "stderr",
          "output_type": "stream",
          "text": [
            "[Parallel(n_jobs=-1)]: Done  20 out of  20 | elapsed:    3.7s finished\n",
            "/usr/local/lib/python3.7/dist-packages/sklearn/utils/validation.py:760: DataConversionWarning:\n",
            "\n",
            "A column-vector y was passed when a 1d array was expected. Please change the shape of y to (n_samples, ), for example using ravel().\n",
            "\n"
          ]
        }
      ]
    },
    {
      "cell_type": "code",
      "metadata": {
        "id": "GSSz_c3ejXsg"
      },
      "source": [
        "#tuning_albero_decisione_CV(3,10)"
      ],
      "execution_count": null,
      "outputs": []
    },
    {
      "cell_type": "code",
      "metadata": {
        "id": "tLFJjgqujXsg"
      },
      "source": [
        "#tuning_SVM_CV(3,10)"
      ],
      "execution_count": null,
      "outputs": []
    },
    {
      "cell_type": "code",
      "metadata": {
        "id": "vfk3Nq38jXsg"
      },
      "source": [
        "#validazione_incrociata_kfold(3,10,1)"
      ],
      "execution_count": null,
      "outputs": []
    },
    {
      "cell_type": "code",
      "metadata": {
        "id": "bN91j743jXsh"
      },
      "source": [
        "#validazione_incrociata_kfold(3,10,2)"
      ],
      "execution_count": null,
      "outputs": []
    },
    {
      "cell_type": "code",
      "metadata": {
        "id": "vnmJvGzAjXsh"
      },
      "source": [
        "#validazione_incrociata_score(3,10,1)"
      ],
      "execution_count": null,
      "outputs": []
    },
    {
      "cell_type": "code",
      "metadata": {
        "id": "vNBBbQZ0jXsi"
      },
      "source": [
        "#validazione_incrociata_score(3,10,2)"
      ],
      "execution_count": null,
      "outputs": []
    },
    {
      "cell_type": "code",
      "metadata": {
        "id": "uM6zVJaYjXsi"
      },
      "source": [
        "#prova_pipeline(3,2)"
      ],
      "execution_count": null,
      "outputs": []
    },
    {
      "cell_type": "code",
      "metadata": {
        "id": "4d6wxM0QjXsi"
      },
      "source": [
        "#exec_trad(3,1)"
      ],
      "execution_count": null,
      "outputs": []
    },
    {
      "cell_type": "code",
      "metadata": {
        "id": "DNjXGk9LjXsi"
      },
      "source": [
        "#exec_trad(3,2)"
      ],
      "execution_count": null,
      "outputs": []
    },
    {
      "cell_type": "code",
      "metadata": {
        "colab": {
          "base_uri": "https://localhost:8080/"
        },
        "id": "MBfPepJQjXsj",
        "outputId": "66543276-8095-4930-ae12-5cd80f0ab325"
      },
      "source": [
        "tuning_KNN(3,5)"
      ],
      "execution_count": null,
      "outputs": [
        {
          "name": "stderr",
          "output_type": "stream",
          "text": [
            "[Parallel(n_jobs=-1)]: Using backend LokyBackend with 2 concurrent workers.\n"
          ]
        },
        {
          "name": "stdout",
          "output_type": "stream",
          "text": [
            "Fitting 5 folds for each of 16 candidates, totalling 80 fits\n",
            "Accuratezza fase di Cross Validation con dati di Addestramento/Validazione: 0.887\n",
            "{'algorithm': 'auto', 'n_neighbors': 5, 'weights': 'uniform'}\n",
            "Accuratezza con dati di Test: 0.833\n",
            "Risultato sui dati di test:\n",
            "              precision    recall  f1-score   support\n",
            "\n",
            "           0       0.75      1.00      0.86         6\n",
            "           1       1.00      0.67      0.80         6\n",
            "\n",
            "    accuracy                           0.83        12\n",
            "   macro avg       0.88      0.83      0.83        12\n",
            "weighted avg       0.88      0.83      0.83        12\n",
            "\n",
            "[[6 0]\n",
            " [2 4]]\n",
            "Accuratezza Test: 83.000\n",
            "Precisione  Test: 75.000\n",
            "Sensitività Test: 100.000\n",
            "Specificità Test: 66.000\n",
            "F1 score    Test: 85.000\n"
          ]
        },
        {
          "name": "stderr",
          "output_type": "stream",
          "text": [
            "[Parallel(n_jobs=-1)]: Done  80 out of  80 | elapsed:    0.2s finished\n",
            "/usr/local/lib/python3.7/dist-packages/sklearn/model_selection/_search.py:739: DataConversionWarning:\n",
            "\n",
            "A column-vector y was passed when a 1d array was expected. Please change the shape of y to (n_samples, ), for example using ravel().\n",
            "\n"
          ]
        }
      ]
    },
    {
      "cell_type": "code",
      "metadata": {
        "id": "ye7m0G-sjXsj"
      },
      "source": [
        "#tuning_MP(3,10)"
      ],
      "execution_count": null,
      "outputs": []
    },
    {
      "cell_type": "code",
      "metadata": {
        "id": "_BtJUFCCjXsj"
      },
      "source": [
        "#tuning_LR(3,5)"
      ],
      "execution_count": null,
      "outputs": []
    },
    {
      "cell_type": "code",
      "metadata": {
        "id": "LFUysaCKjXsk"
      },
      "source": [
        "#tuning_foresta(3,10)"
      ],
      "execution_count": null,
      "outputs": []
    },
    {
      "cell_type": "code",
      "metadata": {
        "id": "2zFlZSP-jXsk"
      },
      "source": [
        ""
      ],
      "execution_count": null,
      "outputs": []
    },
    {
      "cell_type": "markdown",
      "metadata": {
        "id": "mMmXobu4jXsk"
      },
      "source": [
        "#### Caso4 CASE vs HCF"
      ]
    },
    {
      "cell_type": "code",
      "metadata": {
        "id": "4Ry1F9PsjXsl"
      },
      "source": [
        ""
      ],
      "execution_count": null,
      "outputs": []
    },
    {
      "cell_type": "code",
      "metadata": {
        "id": "kL5VO6OIjXsl"
      },
      "source": [
        "df=CASEHC.loc[:,0]\n",
        "\n",
        "X = df.to_numpy()\n",
        "\n",
        "Y = CASEHC.loc[:,1]\n",
        "y = Y.to_numpy()\n",
        "y = np.where(y == 3, 1, 0)\n",
        "#from sklearn.model_selection import train_test_split\n",
        "\n",
        "\n",
        "X_train, X_test, y_train, y_test = train_test_split(X, y, test_size=0.3,stratify=y,random_state=42)\n",
        "\n",
        "#pca = PCA(n_components=2)\n",
        "\n",
        "#X_train_pca = pca.fit_transform(X_train)\n",
        "#X_test_pca = pca.transform(X_test)\n",
        "\n",
        "X_train_caso4=X_train\n",
        "X_test_caso4=X_test\n",
        "y_train_caso4=y_train\n",
        "y_test_caso4=y_test"
      ],
      "execution_count": null,
      "outputs": []
    },
    {
      "cell_type": "code",
      "metadata": {
        "id": "QLxCeZlFjXsl"
      },
      "source": [
        "X_train_caso4=X_train_caso4.reshape(-1,1)\n",
        "X_test_caso4=X_test_caso4.reshape(-1,1)\n",
        "y_train_caso4=y_train_caso4.reshape(-1,1)\n",
        "y_test_caso4=y_test_caso4.reshape(-1,1)"
      ],
      "execution_count": null,
      "outputs": []
    },
    {
      "cell_type": "code",
      "metadata": {
        "colab": {
          "base_uri": "https://localhost:8080/"
        },
        "id": "T8cNhTXTjXsl",
        "outputId": "ff373e68-3c00-4bc5-906e-139f15f14624"
      },
      "source": [
        "tuning_albero_decisione(4,5)"
      ],
      "execution_count": null,
      "outputs": [
        {
          "name": "stderr",
          "output_type": "stream",
          "text": [
            "[Parallel(n_jobs=-1)]: Using backend LokyBackend with 2 concurrent workers.\n"
          ]
        },
        {
          "name": "stdout",
          "output_type": "stream",
          "text": [
            "Fitting 5 folds for each of 216 candidates, totalling 1080 fits\n",
            "Accuratezza fase di Cross Validation con dati di Addestramento/Validazione: 0.925\n",
            "{'criterion': 'gini', 'max_depth': 3, 'min_samples_leaf': 1, 'min_samples_split': 3, 'min_weight_fraction_leaf': 0}\n",
            "Accuratezza con dati di Test: 0.944\n",
            "Risultato sui dati di test:\n",
            "              precision    recall  f1-score   support\n",
            "\n",
            "           0       0.92      1.00      0.96        12\n",
            "           1       1.00      0.83      0.91         6\n",
            "\n",
            "    accuracy                           0.94        18\n",
            "   macro avg       0.96      0.92      0.93        18\n",
            "weighted avg       0.95      0.94      0.94        18\n",
            "\n",
            "[[12  0]\n",
            " [ 1  5]]\n",
            "Accuratezza Test: 94.000\n",
            "Precisione  Test: 92.000\n",
            "Sensitività Test: 100.000\n",
            "Specificità Test: 83.000\n",
            "F1 score    Test: 95.000\n"
          ]
        },
        {
          "name": "stderr",
          "output_type": "stream",
          "text": [
            "[Parallel(n_jobs=-1)]: Done 1065 tasks      | elapsed:    1.1s\n",
            "[Parallel(n_jobs=-1)]: Done 1077 out of 1080 | elapsed:    1.2s remaining:    0.0s\n",
            "[Parallel(n_jobs=-1)]: Done 1080 out of 1080 | elapsed:    1.2s finished\n"
          ]
        }
      ]
    },
    {
      "cell_type": "code",
      "metadata": {
        "colab": {
          "base_uri": "https://localhost:8080/"
        },
        "id": "QxlKAJYYjXsm",
        "outputId": "70b7aedb-b7cf-4a98-ec5b-5cebd5b6e301"
      },
      "source": [
        "tuning_SVM(4,5)"
      ],
      "execution_count": null,
      "outputs": [
        {
          "name": "stderr",
          "output_type": "stream",
          "text": [
            "/usr/local/lib/python3.7/dist-packages/sklearn/model_selection/_search.py:281: UserWarning:\n",
            "\n",
            "The total space of parameters 2 is smaller than n_iter=20. Running 2 iterations. For exhaustive searches, use GridSearchCV.\n",
            "\n",
            "[Parallel(n_jobs=-1)]: Using backend LokyBackend with 2 concurrent workers.\n"
          ]
        },
        {
          "name": "stdout",
          "output_type": "stream",
          "text": [
            "Fitting 5 folds for each of 2 candidates, totalling 10 fits\n",
            "Accuratezza fase di Cross Validation con dati di Addestramento/Validazione: 0.950\n",
            "{'kernel': 'linear'}\n",
            "Accuratezza con dati di Test: 0.944\n",
            "Risultato sui dati di test:\n",
            "              precision    recall  f1-score   support\n",
            "\n",
            "           0       0.92      1.00      0.96        12\n",
            "           1       1.00      0.83      0.91         6\n",
            "\n",
            "    accuracy                           0.94        18\n",
            "   macro avg       0.96      0.92      0.93        18\n",
            "weighted avg       0.95      0.94      0.94        18\n",
            "\n",
            "[[12  0]\n",
            " [ 1  5]]\n",
            "Accuratezza Test: 94.000\n",
            "Precisione  Test: 92.000\n",
            "Sensitività Test: 100.000\n",
            "Specificità Test: 83.000\n",
            "F1 score    Test: 95.000\n"
          ]
        },
        {
          "name": "stderr",
          "output_type": "stream",
          "text": [
            "[Parallel(n_jobs=-1)]: Done  10 out of  10 | elapsed:    2.1s finished\n",
            "/usr/local/lib/python3.7/dist-packages/sklearn/utils/validation.py:760: DataConversionWarning:\n",
            "\n",
            "A column-vector y was passed when a 1d array was expected. Please change the shape of y to (n_samples, ), for example using ravel().\n",
            "\n"
          ]
        }
      ]
    },
    {
      "cell_type": "code",
      "metadata": {
        "id": "jM2WXrjUjXsm"
      },
      "source": [
        "#tuning_albero_decisione_CV(4,10)"
      ],
      "execution_count": null,
      "outputs": []
    },
    {
      "cell_type": "code",
      "metadata": {
        "colab": {
          "background_save": true
        },
        "id": "3iIzLa4ejXsm"
      },
      "source": [
        "#tuning_SVM_CV(4,10)"
      ],
      "execution_count": null,
      "outputs": []
    },
    {
      "cell_type": "code",
      "metadata": {
        "colab": {
          "background_save": true
        },
        "id": "3FwOxZXGjXsn"
      },
      "source": [
        "#validazione_incrociata_kfold(4,10,1)"
      ],
      "execution_count": null,
      "outputs": []
    },
    {
      "cell_type": "code",
      "metadata": {
        "colab": {
          "background_save": true
        },
        "id": "FTEXFxQpjXsn"
      },
      "source": [
        "#validazione_incrociata_kfold(4,10,2)"
      ],
      "execution_count": null,
      "outputs": []
    },
    {
      "cell_type": "code",
      "metadata": {
        "colab": {
          "background_save": true
        },
        "id": "366WdYKQjXsn"
      },
      "source": [
        "#validazione_incrociata_score(4,10,1)"
      ],
      "execution_count": null,
      "outputs": []
    },
    {
      "cell_type": "code",
      "metadata": {
        "colab": {
          "background_save": true
        },
        "id": "t3ZoyEHwjXsn"
      },
      "source": [
        "#validazione_incrociata_score(4,10,2)"
      ],
      "execution_count": null,
      "outputs": []
    },
    {
      "cell_type": "code",
      "metadata": {
        "colab": {
          "background_save": true
        },
        "id": "_TyXjYGgjXsn"
      },
      "source": [
        "#prova_pipeline(4,2)"
      ],
      "execution_count": null,
      "outputs": []
    },
    {
      "cell_type": "code",
      "metadata": {
        "colab": {
          "background_save": true
        },
        "id": "WdRTj28EjXso"
      },
      "source": [
        "#exec_trad(4,1)"
      ],
      "execution_count": null,
      "outputs": []
    },
    {
      "cell_type": "code",
      "metadata": {
        "colab": {
          "background_save": true
        },
        "id": "1zFKg3ZEjXso"
      },
      "source": [
        "#exec_trad(4,2)"
      ],
      "execution_count": null,
      "outputs": []
    },
    {
      "cell_type": "code",
      "metadata": {
        "colab": {
          "background_save": true,
          "base_uri": "https://localhost:8080/"
        },
        "id": "vswhdFptjXso",
        "outputId": "7901894b-2ba6-4690-fc4d-9c6e7be69385"
      },
      "source": [
        "tuning_KNN(4,5)"
      ],
      "execution_count": null,
      "outputs": [
        {
          "name": "stderr",
          "output_type": "stream",
          "text": [
            "[Parallel(n_jobs=-1)]: Using backend LokyBackend with 2 concurrent workers.\n"
          ]
        },
        {
          "name": "stdout",
          "output_type": "stream",
          "text": [
            "Fitting 5 folds for each of 16 candidates, totalling 80 fits\n",
            "Accuratezza fase di Cross Validation con dati di Addestramento/Validazione: 0.975\n",
            "{'algorithm': 'auto', 'n_neighbors': 5, 'weights': 'uniform'}\n",
            "Accuratezza con dati di Test: 0.889\n",
            "Risultato sui dati di test:\n",
            "              precision    recall  f1-score   support\n",
            "\n",
            "           0       0.92      0.92      0.92        12\n",
            "           1       0.83      0.83      0.83         6\n",
            "\n",
            "    accuracy                           0.89        18\n",
            "   macro avg       0.88      0.88      0.88        18\n",
            "weighted avg       0.89      0.89      0.89        18\n",
            "\n",
            "[[11  1]\n",
            " [ 1  5]]\n",
            "Accuratezza Test: 88.000\n",
            "Precisione  Test: 91.000\n",
            "Sensitività Test: 91.000\n",
            "Specificità Test: 83.000\n",
            "F1 score    Test: 91.000\n"
          ]
        },
        {
          "name": "stderr",
          "output_type": "stream",
          "text": [
            "[Parallel(n_jobs=-1)]: Done  80 out of  80 | elapsed:    0.2s finished\n",
            "/usr/local/lib/python3.7/dist-packages/sklearn/model_selection/_search.py:739: DataConversionWarning:\n",
            "\n",
            "A column-vector y was passed when a 1d array was expected. Please change the shape of y to (n_samples, ), for example using ravel().\n",
            "\n"
          ]
        }
      ]
    },
    {
      "cell_type": "code",
      "metadata": {
        "colab": {
          "background_save": true
        },
        "id": "OLyfbVaNjXso"
      },
      "source": [
        "#tuning_MP(4,10)"
      ],
      "execution_count": null,
      "outputs": []
    },
    {
      "cell_type": "code",
      "metadata": {
        "colab": {
          "background_save": true
        },
        "id": "jJDn0b12jXsp"
      },
      "source": [
        "#tuning_LR(4,5)"
      ],
      "execution_count": null,
      "outputs": []
    },
    {
      "cell_type": "code",
      "metadata": {
        "colab": {
          "background_save": true
        },
        "id": "XYmK9cxSjXsp"
      },
      "source": [
        "#tuning_foresta(4,10)"
      ],
      "execution_count": null,
      "outputs": []
    },
    {
      "cell_type": "markdown",
      "metadata": {
        "id": "RYjlL4YfjXsp"
      },
      "source": [
        "<br>\n",
        "<br>"
      ]
    },
    {
      "cell_type": "code",
      "metadata": {
        "colab": {
          "background_save": true
        },
        "id": "FAZinsEJjXsq"
      },
      "source": [
        ""
      ],
      "execution_count": null,
      "outputs": []
    },
    {
      "cell_type": "code",
      "metadata": {
        "colab": {
          "background_save": true
        },
        "id": "xt-3TcIMjXsq"
      },
      "source": [
        ""
      ],
      "execution_count": null,
      "outputs": []
    },
    {
      "cell_type": "code",
      "metadata": {
        "colab": {
          "background_save": true
        },
        "id": "H36div6NjJy9"
      },
      "source": [
        ""
      ],
      "execution_count": null,
      "outputs": []
    },
    {
      "cell_type": "markdown",
      "metadata": {
        "id": "7-t_W7GAmmJT"
      },
      "source": [
        "### 15 hz"
      ]
    },
    {
      "cell_type": "code",
      "metadata": {
        "id": "0_XaPnGNmmJU"
      },
      "source": [
        ""
      ],
      "execution_count": null,
      "outputs": []
    },
    {
      "cell_type": "code",
      "metadata": {
        "id": "8nWrT-XCmmJV"
      },
      "source": [
        "\n",
        "y1=hz15.loc[:,0].to_numpy()\n",
        "y2=hz15.loc[:,1].to_numpy()\n",
        "y3=hz15.loc[:,2].to_numpy()\n",
        "\n"
      ],
      "execution_count": null,
      "outputs": []
    },
    {
      "cell_type": "code",
      "metadata": {
        "id": "703j2B5AmmJV"
      },
      "source": [
        ""
      ],
      "execution_count": null,
      "outputs": []
    },
    {
      "cell_type": "code",
      "metadata": {
        "colab": {
          "base_uri": "https://localhost:8080/"
        },
        "id": "dJvV5mrGmmJW",
        "outputId": "1a0fac98-5e31-4c88-8b93-c7f7f5e0fb51"
      },
      "source": [
        "y1,y2,y3,hz3"
      ],
      "execution_count": null,
      "outputs": [
        {
          "output_type": "execute_result",
          "data": {
            "text/plain": [
              "(array([ 88033.48456128, 292983.0647958 ,  74024.10229487, 104577.08972122,\n",
              "         73437.84896803,  84262.90793737,  65636.35085891,  53807.44198425,\n",
              "        136786.75771142,  76786.32456467,  70484.32745515, 104976.38916602,\n",
              "        356323.87421672,  76669.27491761,  94192.49998562, 122488.07606152,\n",
              "         63782.5765569 , 105214.98664667,  61029.82396775]),\n",
              " array([ 32854.64768227,  19406.97620374,  13617.59926962,  39970.6589029 ,\n",
              "         57400.74022956,  36071.21160839,  34278.1673461 ,  29344.29558033,\n",
              "         25236.09068627,  16378.3679677 ,  29409.31553842,  30061.35893817,\n",
              "         23227.04670606,  60754.08199061,  19222.84118384,  25354.73355806,\n",
              "        185894.26895159, 265286.71145619,  74326.46714008]),\n",
              " array([11074.08491266, 11146.44166742,  4370.11269887,  2129.14519453,\n",
              "         1558.33985301, 15939.36238209,  6517.62798534,  3250.67465769,\n",
              "        27572.9039044 ,  4797.96074829,  1636.80892379, 13639.76313846,\n",
              "         7473.05874478,  4347.67032639,  1838.12944188,  1532.80726893,\n",
              "        10346.76786813,  4109.41475915,  2682.63282003]),\n",
              "                 0              1             2\n",
              " 0    11941.878738    4543.079199   4260.988482\n",
              " 1    21550.001904    3171.543412   6215.959227\n",
              " 2     7954.533234    2502.250572   2878.113664\n",
              " 3    42676.089206   17653.023737    946.372606\n",
              " 4    12148.524998   27477.274131    612.110742\n",
              " 5    12297.442066    3811.751034   7665.308313\n",
              " 6    19050.995665   10227.178360   3062.984321\n",
              " 7     4992.630324   22822.837806   1211.440626\n",
              " 8    16011.533992    6828.018160  22390.062009\n",
              " 9     9151.569946    3078.353285   2888.256949\n",
              " 10   14843.201818    9843.491084    563.057786\n",
              " 11   10445.070016    5141.196547   4760.093445\n",
              " 12  182700.816803    4200.470742   4973.644479\n",
              " 13   15954.139771   16579.985919   2618.749608\n",
              " 14   11744.109673    5865.329829    698.500991\n",
              " 15    7023.707557   12802.749011    703.477024\n",
              " 16   37297.839360  104104.832648   4747.694480\n",
              " 17   11622.940208   71138.564456   2467.786370\n",
              " 18   14182.838368   23134.713975   1533.933877)"
            ]
          },
          "metadata": {},
          "execution_count": 531
        }
      ]
    },
    {
      "cell_type": "code",
      "metadata": {
        "id": "LoJBxukimmJX"
      },
      "source": [
        "x1 = np.linspace(0, 19, len(y1), endpoint=True)\n",
        "x2 = np.linspace(0, 19,len(y2), endpoint=True)\n",
        "x3 = np.linspace(0, 19,len(y3), endpoint=True)"
      ],
      "execution_count": null,
      "outputs": []
    },
    {
      "cell_type": "code",
      "metadata": {
        "colab": {
          "base_uri": "https://localhost:8080/",
          "height": 265
        },
        "id": "6tc7nShkmmJX",
        "outputId": "dbcf2cbb-6233-4af8-e8d5-64f79f51ba02"
      },
      "source": [
        "plt.plot(x1, y1, 'g')\n",
        "plt.plot(x2, y2, 'b')\n",
        "plt.plot(x3, y3, 'r')\n",
        "#plt.ylim(0,300000)\n",
        "plt.show()"
      ],
      "execution_count": null,
      "outputs": [
        {
          "output_type": "display_data",
          "data": {
            "image/png": "[encoded data removed]",
            "text/plain": [
              "<Figure size 432x288 with 1 Axes>"
            ]
          },
          "metadata": {
            "needs_background": "light"
          }
        }
      ]
    },
    {
      "cell_type": "code",
      "metadata": {
        "id": "9x0SGn0BmmJY"
      },
      "source": [
        ""
      ],
      "execution_count": null,
      "outputs": []
    },
    {
      "cell_type": "code",
      "metadata": {
        "id": "pgQfs7WxmmJY"
      },
      "source": [
        "matriceAD = np.zeros((len(y1),2))\n",
        "matriceMCI = np.zeros((len(y2),2))\n",
        "matriceHC = np.zeros((len(y3),2))\n"
      ],
      "execution_count": null,
      "outputs": []
    },
    {
      "cell_type": "code",
      "metadata": {
        "id": "jTOHLOCUmmJY"
      },
      "source": [
        "matriceADHC = np.zeros((len(y1)+len(y3),2))\n",
        "matriceMCIHC = np.zeros((len(y2)+len(y3),2))\n",
        "matriceADMCI = np.zeros((len(y1)+len(y2),2))\n",
        "matriceCASEHC = np.zeros((len(y2)+len(y3)+len(y1),2))"
      ],
      "execution_count": null,
      "outputs": []
    },
    {
      "cell_type": "code",
      "metadata": {
        "id": "pRERp6O6mmJY"
      },
      "source": [
        "for i in range(len(y1)):\n",
        "      matriceAD[i,0]=y1[i]\n",
        "      matriceAD[i,1]=1"
      ],
      "execution_count": null,
      "outputs": []
    },
    {
      "cell_type": "code",
      "metadata": {
        "id": "kuZnl6VsmmJZ"
      },
      "source": [
        "for i in range(len(y2)):\n",
        "      matriceMCI[i,0]=y2[i]\n",
        "      matriceMCI[i,1]=2"
      ],
      "execution_count": null,
      "outputs": []
    },
    {
      "cell_type": "code",
      "metadata": {
        "id": "C6ot8KJZmmJZ"
      },
      "source": [
        "for i in range(len(y3)):\n",
        "      matriceHC[i,0]=y3[i]\n",
        "      matriceHC[i,1]=3"
      ],
      "execution_count": null,
      "outputs": []
    },
    {
      "cell_type": "code",
      "metadata": {
        "id": "8_wKel-UmmJZ"
      },
      "source": [
        "AD=pd.DataFrame(matriceAD)\n",
        "HC=pd.DataFrame(matriceHC)\n",
        "MCI=pd.DataFrame(matriceMCI)"
      ],
      "execution_count": null,
      "outputs": []
    },
    {
      "cell_type": "code",
      "metadata": {
        "id": "W0uU75yrmmJZ"
      },
      "source": [
        "ADHC=AD.copy()\n",
        "ADHC=ADHC.append(HC,ignore_index=True)"
      ],
      "execution_count": null,
      "outputs": []
    },
    {
      "cell_type": "code",
      "metadata": {
        "id": "MdNeeizvmmJa"
      },
      "source": [
        "ADMCI=AD.copy()\n",
        "ADMCI=ADMCI.append(MCI,ignore_index=True)"
      ],
      "execution_count": null,
      "outputs": []
    },
    {
      "cell_type": "code",
      "metadata": {
        "id": "kog25t4bmmJa"
      },
      "source": [
        "MCIHC=MCI.copy()\n",
        "MCIHC=MCIHC.append(HC,ignore_index=True)"
      ],
      "execution_count": null,
      "outputs": []
    },
    {
      "cell_type": "code",
      "metadata": {
        "id": "xVjWXX-emmJa"
      },
      "source": [
        "CASEHC=AD.copy()\n",
        "CASEHC=CASEHC.append(MCI,ignore_index=True)\n",
        "CASEHC=CASEHC.append(HC,ignore_index=True)"
      ],
      "execution_count": null,
      "outputs": []
    },
    {
      "cell_type": "code",
      "metadata": {
        "id": "YuThLGdemmJa"
      },
      "source": [
        ""
      ],
      "execution_count": null,
      "outputs": []
    },
    {
      "cell_type": "markdown",
      "metadata": {
        "id": "WwmF1UanmmJb"
      },
      "source": [
        "#### Caso1 AD vs HCF"
      ]
    },
    {
      "cell_type": "code",
      "metadata": {
        "id": "XxIrRzajmmJb"
      },
      "source": [
        "df=ADHC.loc[:,0]\n",
        "\n",
        "X = df.to_numpy()\n",
        "\n",
        "Y = ADHC.loc[:,1]\n",
        "y = Y.to_numpy()"
      ],
      "execution_count": null,
      "outputs": []
    },
    {
      "cell_type": "code",
      "metadata": {
        "id": "6NAXZEkWmmJc"
      },
      "source": [
        "y = np.where(y == 1, 1, 0)"
      ],
      "execution_count": null,
      "outputs": []
    },
    {
      "cell_type": "code",
      "metadata": {
        "colab": {
          "base_uri": "https://localhost:8080/"
        },
        "id": "NCi02vRWmmJc",
        "outputId": "74a12245-0665-47a8-dee9-9a36f252f12d"
      },
      "source": [
        "X,y"
      ],
      "execution_count": null,
      "outputs": [
        {
          "output_type": "execute_result",
          "data": {
            "text/plain": [
              "(array([ 88033.48456128, 292983.0647958 ,  74024.10229487, 104577.08972122,\n",
              "         73437.84896803,  84262.90793737,  65636.35085891,  53807.44198425,\n",
              "        136786.75771142,  76786.32456467,  70484.32745515, 104976.38916602,\n",
              "        356323.87421672,  76669.27491761,  94192.49998562, 122488.07606152,\n",
              "         63782.5765569 , 105214.98664667,  61029.82396775,  11074.08491266,\n",
              "         11146.44166742,   4370.11269887,   2129.14519453,   1558.33985301,\n",
              "         15939.36238209,   6517.62798534,   3250.67465769,  27572.9039044 ,\n",
              "          4797.96074829,   1636.80892379,  13639.76313846,   7473.05874478,\n",
              "          4347.67032639,   1838.12944188,   1532.80726893,  10346.76786813,\n",
              "          4109.41475915,   2682.63282003]),\n",
              " array([1, 1, 1, 1, 1, 1, 1, 1, 1, 1, 1, 1, 1, 1, 1, 1, 1, 1, 1, 0, 0, 0,\n",
              "        0, 0, 0, 0, 0, 0, 0, 0, 0, 0, 0, 0, 0, 0, 0, 0]))"
            ]
          },
          "metadata": {},
          "execution_count": 546
        }
      ]
    },
    {
      "cell_type": "code",
      "metadata": {
        "id": "Ze5VOzVDmmJc"
      },
      "source": [
        "df=ADHC.loc[:,0]\n",
        "\n",
        "X = df.to_numpy()\n",
        "\n",
        "Y = ADHC.loc[:,1]\n",
        "y = Y.to_numpy()\n",
        "y = np.where(y == 1, 1, 0)\n",
        "#from sklearn.model_selection import train_test_split\n",
        "\n",
        "\n",
        "X_train, X_test, y_train, y_test = train_test_split(X, y, test_size=0.3,stratify=y,random_state=42)\n",
        "\n",
        "#pca = PCA(n_components=2)\n",
        "\n",
        "#X_train_pca = pca.fit_transform(X_train)\n",
        "#X_test_pca = pca.transform(X_test)\n",
        "\n",
        "X_train_caso1=X_train\n",
        "X_test_caso1=X_test\n",
        "y_train_caso1=y_train\n",
        "y_test_caso1=y_test\n",
        "\n"
      ],
      "execution_count": null,
      "outputs": []
    },
    {
      "cell_type": "code",
      "metadata": {
        "id": "kTgQrGvWmmJd"
      },
      "source": [
        "X_train_caso1=X_train_caso1.reshape(-1,1)\n",
        "X_test_caso1=X_test_caso1.reshape(-1,1)\n",
        "y_train_caso1=y_train_caso1.reshape(-1,1)\n",
        "y_test_caso1=y_test_caso1.reshape(-1,1)\n"
      ],
      "execution_count": null,
      "outputs": []
    },
    {
      "cell_type": "code",
      "metadata": {
        "id": "0WHsv0zJmmJd"
      },
      "source": [
        ""
      ],
      "execution_count": null,
      "outputs": []
    },
    {
      "cell_type": "code",
      "metadata": {
        "colab": {
          "base_uri": "https://localhost:8080/"
        },
        "id": "qlkVFeKVmmJd",
        "outputId": "70df2a31-ba95-49ef-c5da-fd4fd46bdedb"
      },
      "source": [
        "tuning_albero_decisione(1,5)"
      ],
      "execution_count": null,
      "outputs": [
        {
          "output_type": "stream",
          "name": "stdout",
          "text": [
            "Fitting 5 folds for each of 216 candidates, totalling 1080 fits\n"
          ]
        },
        {
          "output_type": "stream",
          "name": "stderr",
          "text": [
            "[Parallel(n_jobs=-1)]: Using backend LokyBackend with 2 concurrent workers.\n"
          ]
        },
        {
          "output_type": "stream",
          "name": "stdout",
          "text": [
            "Accuratezza fase di Cross Validation con dati di Addestramento/Validazione: 1.000\n",
            "{'criterion': 'gini', 'max_depth': 3, 'min_samples_leaf': 1, 'min_samples_split': 2, 'min_weight_fraction_leaf': 0}\n",
            "Accuratezza con dati di Test: 1.000\n",
            "Risultato sui dati di test:\n",
            "              precision    recall  f1-score   support\n",
            "\n",
            "           0       1.00      1.00      1.00         6\n",
            "           1       1.00      1.00      1.00         6\n",
            "\n",
            "    accuracy                           1.00        12\n",
            "   macro avg       1.00      1.00      1.00        12\n",
            "weighted avg       1.00      1.00      1.00        12\n",
            "\n",
            "[[6 0]\n",
            " [0 6]]\n",
            "Accuratezza Test: 100.000\n",
            "Precisione  Test: 100.000\n",
            "Sensitività Test: 100.000\n",
            "Specificità Test: 100.000\n",
            "F1 score    Test: 100.000\n"
          ]
        },
        {
          "output_type": "stream",
          "name": "stderr",
          "text": [
            "[Parallel(n_jobs=-1)]: Done 912 tasks      | elapsed:    2.0s\n",
            "[Parallel(n_jobs=-1)]: Done 1080 out of 1080 | elapsed:    2.1s finished\n"
          ]
        }
      ]
    },
    {
      "cell_type": "code",
      "metadata": {
        "colab": {
          "base_uri": "https://localhost:8080/"
        },
        "id": "Eev-5dKjmmJe",
        "outputId": "9d21f7e9-f953-4bce-8e94-448080f5a3c7"
      },
      "source": [
        "tuning_SVM(1,5)"
      ],
      "execution_count": null,
      "outputs": [
        {
          "output_type": "stream",
          "name": "stdout",
          "text": [
            "Fitting 5 folds for each of 2 candidates, totalling 10 fits\n",
            "Accuratezza fase di Cross Validation con dati di Addestramento/Validazione: 1.000\n",
            "{'kernel': 'linear'}\n",
            "Accuratezza con dati di Test: 1.000\n",
            "Risultato sui dati di test:\n",
            "              precision    recall  f1-score   support\n",
            "\n",
            "           0       1.00      1.00      1.00         6\n",
            "           1       1.00      1.00      1.00         6\n",
            "\n",
            "    accuracy                           1.00        12\n",
            "   macro avg       1.00      1.00      1.00        12\n",
            "weighted avg       1.00      1.00      1.00        12\n",
            "\n",
            "[[6 0]\n",
            " [0 6]]\n",
            "Accuratezza Test: 100.000\n",
            "Precisione  Test: 100.000\n",
            "Sensitività Test: 100.000\n",
            "Specificità Test: 100.000\n",
            "F1 score    Test: 100.000\n"
          ]
        },
        {
          "output_type": "stream",
          "name": "stderr",
          "text": [
            "/usr/local/lib/python3.7/dist-packages/sklearn/model_selection/_search.py:281: UserWarning:\n",
            "\n",
            "The total space of parameters 2 is smaller than n_iter=20. Running 2 iterations. For exhaustive searches, use GridSearchCV.\n",
            "\n",
            "[Parallel(n_jobs=-1)]: Using backend LokyBackend with 2 concurrent workers.\n",
            "[Parallel(n_jobs=-1)]: Done  10 out of  10 | elapsed:    0.0s finished\n",
            "/usr/local/lib/python3.7/dist-packages/sklearn/utils/validation.py:760: DataConversionWarning:\n",
            "\n",
            "A column-vector y was passed when a 1d array was expected. Please change the shape of y to (n_samples, ), for example using ravel().\n",
            "\n"
          ]
        }
      ]
    },
    {
      "cell_type": "code",
      "metadata": {
        "id": "ZSqW76odmmJe"
      },
      "source": [
        "#tuning_foresta(1,10)"
      ],
      "execution_count": null,
      "outputs": []
    },
    {
      "cell_type": "code",
      "metadata": {
        "id": "ABbowqNImmJe"
      },
      "source": [
        "#tuning_albero_decisione_CV(1,10)"
      ],
      "execution_count": null,
      "outputs": []
    },
    {
      "cell_type": "code",
      "metadata": {
        "id": "s2q6c8KFmmJe"
      },
      "source": [
        "#tuning_SVM_CV(1,10)"
      ],
      "execution_count": null,
      "outputs": []
    },
    {
      "cell_type": "code",
      "metadata": {
        "id": "cmmJTOuommJf"
      },
      "source": [
        "#validazione_incrociata_kfold(1,10,1)"
      ],
      "execution_count": null,
      "outputs": []
    },
    {
      "cell_type": "code",
      "metadata": {
        "id": "c_mnllLEmmJf"
      },
      "source": [
        "#validazione_incrociata_kfold(1,10,2)"
      ],
      "execution_count": null,
      "outputs": []
    },
    {
      "cell_type": "code",
      "metadata": {
        "id": "j_vbaHmPmmJf"
      },
      "source": [
        "#validazione_incrociata_score(1,10,1)"
      ],
      "execution_count": null,
      "outputs": []
    },
    {
      "cell_type": "code",
      "metadata": {
        "id": "Mmmi3mf0mmJf"
      },
      "source": [
        "#validazione_incrociata_score(1,10,2)"
      ],
      "execution_count": null,
      "outputs": []
    },
    {
      "cell_type": "code",
      "metadata": {
        "id": "CU6bEGOZmmJg"
      },
      "source": [
        "#prova_pipeline(1,2)"
      ],
      "execution_count": null,
      "outputs": []
    },
    {
      "cell_type": "code",
      "metadata": {
        "id": "H4YOQVHmmmJg"
      },
      "source": [
        ""
      ],
      "execution_count": null,
      "outputs": []
    },
    {
      "cell_type": "code",
      "metadata": {
        "colab": {
          "base_uri": "https://localhost:8080/"
        },
        "id": "Lzrvkp6qmmJg",
        "outputId": "b33dfcdc-311c-46a1-ef1e-64171b13d03d"
      },
      "source": [
        "tuning_KNN(1,5)"
      ],
      "execution_count": null,
      "outputs": [
        {
          "output_type": "stream",
          "name": "stdout",
          "text": [
            "Fitting 5 folds for each of 16 candidates, totalling 80 fits\n"
          ]
        },
        {
          "output_type": "stream",
          "name": "stderr",
          "text": [
            "[Parallel(n_jobs=-1)]: Using backend LokyBackend with 2 concurrent workers.\n"
          ]
        },
        {
          "output_type": "stream",
          "name": "stdout",
          "text": [
            "Accuratezza fase di Cross Validation con dati di Addestramento/Validazione: 1.000\n",
            "{'algorithm': 'auto', 'n_neighbors': 5, 'weights': 'uniform'}\n",
            "Accuratezza con dati di Test: 1.000\n",
            "Risultato sui dati di test:\n",
            "              precision    recall  f1-score   support\n",
            "\n",
            "           0       1.00      1.00      1.00         6\n",
            "           1       1.00      1.00      1.00         6\n",
            "\n",
            "    accuracy                           1.00        12\n",
            "   macro avg       1.00      1.00      1.00        12\n",
            "weighted avg       1.00      1.00      1.00        12\n",
            "\n",
            "[[6 0]\n",
            " [0 6]]\n",
            "Accuratezza Test: 100.000\n",
            "Precisione  Test: 100.000\n",
            "Sensitività Test: 100.000\n",
            "Specificità Test: 100.000\n",
            "F1 score    Test: 100.000\n"
          ]
        },
        {
          "output_type": "stream",
          "name": "stderr",
          "text": [
            "[Parallel(n_jobs=-1)]: Done  80 out of  80 | elapsed:    0.2s finished\n",
            "/usr/local/lib/python3.7/dist-packages/sklearn/model_selection/_search.py:739: DataConversionWarning:\n",
            "\n",
            "A column-vector y was passed when a 1d array was expected. Please change the shape of y to (n_samples, ), for example using ravel().\n",
            "\n"
          ]
        }
      ]
    },
    {
      "cell_type": "code",
      "metadata": {
        "id": "1fWg97sTmmJg"
      },
      "source": [
        "#tuning_MP(1,5)"
      ],
      "execution_count": null,
      "outputs": []
    },
    {
      "cell_type": "code",
      "metadata": {
        "id": "BYRDh7ZdmmJh"
      },
      "source": [
        "#tuning_LR(1,5)"
      ],
      "execution_count": null,
      "outputs": []
    },
    {
      "cell_type": "code",
      "metadata": {
        "id": "vN3Acm8PmmJh"
      },
      "source": [
        "#tuning_foresta(1,5)"
      ],
      "execution_count": null,
      "outputs": []
    },
    {
      "cell_type": "code",
      "metadata": {
        "id": "ZOftuVI9mmJh"
      },
      "source": [
        ""
      ],
      "execution_count": null,
      "outputs": []
    },
    {
      "cell_type": "markdown",
      "metadata": {
        "id": "AvZpDnI8mmJh"
      },
      "source": [
        "#### Caso2 AD vs MCI"
      ]
    },
    {
      "cell_type": "code",
      "metadata": {
        "id": "BxR0uzu_mmJi"
      },
      "source": [
        ""
      ],
      "execution_count": null,
      "outputs": []
    },
    {
      "cell_type": "code",
      "metadata": {
        "id": "Hr-k4CtGmmJi"
      },
      "source": [
        "\n",
        "df=ADMCI.loc[:,0]\n",
        "\n",
        "X = df.to_numpy()\n",
        "\n",
        "Y = ADMCI.loc[:,1]\n",
        "y = Y.to_numpy()\n",
        "y = np.where(y == 1, 1, 0)\n",
        "#from sklearn.model_selection import train_test_split\n",
        "\n",
        "X_train, X_test, y_train, y_test = train_test_split(X, y, test_size=0.3,stratify=y,random_state=42)\n",
        "\n",
        "#pca = PCA(n_components=5)\n",
        "\n",
        "#X_train_pca = pca.fit_transform(X_train)\n",
        "#X_test_pca = pca.transform(X_test)\n",
        "\n",
        "X_train_caso2=X_train\n",
        "X_test_caso2=X_test\n",
        "y_train_caso2=y_train\n",
        "y_test_caso2=y_test"
      ],
      "execution_count": null,
      "outputs": []
    },
    {
      "cell_type": "code",
      "metadata": {
        "id": "-XpAFIq1mmJi"
      },
      "source": [
        "X_train_caso2=X_train_caso2.reshape(-1,1)\n",
        "X_test_caso2=X_test_caso2.reshape(-1,1)\n",
        "y_train_caso2=y_train_caso2.reshape(-1,1)\n",
        "y_test_caso2=y_test_caso2.reshape(-1,1)"
      ],
      "execution_count": null,
      "outputs": []
    },
    {
      "cell_type": "code",
      "metadata": {
        "colab": {
          "base_uri": "https://localhost:8080/"
        },
        "id": "Afo5ATqpmmJi",
        "outputId": "67e85f8b-36dc-4900-90a1-4a2b6035b858"
      },
      "source": [
        "tuning_albero_decisione(2,5)"
      ],
      "execution_count": null,
      "outputs": [
        {
          "output_type": "stream",
          "name": "stderr",
          "text": [
            "[Parallel(n_jobs=-1)]: Using backend LokyBackend with 2 concurrent workers.\n"
          ]
        },
        {
          "output_type": "stream",
          "name": "stdout",
          "text": [
            "Fitting 5 folds for each of 216 candidates, totalling 1080 fits\n",
            "Accuratezza fase di Cross Validation con dati di Addestramento/Validazione: 0.787\n",
            "{'criterion': 'gini', 'max_depth': 3, 'min_samples_leaf': 1, 'min_samples_split': 2, 'min_weight_fraction_leaf': 0}\n",
            "Accuratezza con dati di Test: 0.833\n",
            "Risultato sui dati di test:\n",
            "              precision    recall  f1-score   support\n",
            "\n",
            "           0       0.75      1.00      0.86         6\n",
            "           1       1.00      0.67      0.80         6\n",
            "\n",
            "    accuracy                           0.83        12\n",
            "   macro avg       0.88      0.83      0.83        12\n",
            "weighted avg       0.88      0.83      0.83        12\n",
            "\n",
            "[[6 0]\n",
            " [2 4]]\n",
            "Accuratezza Test: 83.000\n",
            "Precisione  Test: 75.000\n",
            "Sensitività Test: 100.000\n",
            "Specificità Test: 66.000\n",
            "F1 score    Test: 85.000\n"
          ]
        },
        {
          "output_type": "stream",
          "name": "stderr",
          "text": [
            "[Parallel(n_jobs=-1)]: Done 1080 out of 1080 | elapsed:    1.3s finished\n"
          ]
        }
      ]
    },
    {
      "cell_type": "code",
      "metadata": {
        "colab": {
          "base_uri": "https://localhost:8080/"
        },
        "id": "3Uablb1ommJi",
        "outputId": "901fb7bf-c006-4e26-94f6-1cab5eb1f717"
      },
      "source": [
        "tuning_SVM(2,5)"
      ],
      "execution_count": null,
      "outputs": [
        {
          "output_type": "stream",
          "name": "stderr",
          "text": [
            "/usr/local/lib/python3.7/dist-packages/sklearn/model_selection/_search.py:281: UserWarning:\n",
            "\n",
            "The total space of parameters 2 is smaller than n_iter=20. Running 2 iterations. For exhaustive searches, use GridSearchCV.\n",
            "\n",
            "[Parallel(n_jobs=-1)]: Using backend LokyBackend with 2 concurrent workers.\n"
          ]
        },
        {
          "output_type": "stream",
          "name": "stdout",
          "text": [
            "Fitting 5 folds for each of 2 candidates, totalling 10 fits\n",
            "Accuratezza fase di Cross Validation con dati di Addestramento/Validazione: 0.853\n",
            "{'kernel': 'rbf'}\n",
            "Accuratezza con dati di Test: 0.750\n",
            "Risultato sui dati di test:\n",
            "              precision    recall  f1-score   support\n",
            "\n",
            "           0       0.71      0.83      0.77         6\n",
            "           1       0.80      0.67      0.73         6\n",
            "\n",
            "    accuracy                           0.75        12\n",
            "   macro avg       0.76      0.75      0.75        12\n",
            "weighted avg       0.76      0.75      0.75        12\n",
            "\n",
            "[[5 1]\n",
            " [2 4]]\n",
            "Accuratezza Test: 75.000\n",
            "Precisione  Test: 71.000\n",
            "Sensitività Test: 83.000\n",
            "Specificità Test: 66.000\n",
            "F1 score    Test: 76.000\n"
          ]
        },
        {
          "output_type": "stream",
          "name": "stderr",
          "text": [
            "[Parallel(n_jobs=-1)]: Done  10 out of  10 | elapsed:   41.6s finished\n",
            "/usr/local/lib/python3.7/dist-packages/sklearn/utils/validation.py:760: DataConversionWarning:\n",
            "\n",
            "A column-vector y was passed when a 1d array was expected. Please change the shape of y to (n_samples, ), for example using ravel().\n",
            "\n"
          ]
        }
      ]
    },
    {
      "cell_type": "code",
      "metadata": {
        "id": "QWJ-paLImmJj"
      },
      "source": [
        "#tuning_foresta(2,10)"
      ],
      "execution_count": null,
      "outputs": []
    },
    {
      "cell_type": "code",
      "metadata": {
        "id": "z5YAKXG2mmJj"
      },
      "source": [
        "#tuning_albero_decisione_CV(2,10)"
      ],
      "execution_count": null,
      "outputs": []
    },
    {
      "cell_type": "code",
      "metadata": {
        "id": "sL8J75wTmmJk"
      },
      "source": [
        "#tuning_SVM_CV(2,10)"
      ],
      "execution_count": null,
      "outputs": []
    },
    {
      "cell_type": "code",
      "metadata": {
        "id": "2FLJ8_RJmmJk"
      },
      "source": [
        "#validazione_incrociata_kfold(2,10,1)"
      ],
      "execution_count": null,
      "outputs": []
    },
    {
      "cell_type": "code",
      "metadata": {
        "id": "TbFABsjMmmJk"
      },
      "source": [
        "#validazione_incrociata_kfold(2,10,2)"
      ],
      "execution_count": null,
      "outputs": []
    },
    {
      "cell_type": "code",
      "metadata": {
        "id": "QZUldswDmmJk"
      },
      "source": [
        "#validazione_incrociata_score(2,10,1)"
      ],
      "execution_count": null,
      "outputs": []
    },
    {
      "cell_type": "code",
      "metadata": {
        "id": "ioovyQYemmJl"
      },
      "source": [
        "#validazione_incrociata_score(2,10,2)"
      ],
      "execution_count": null,
      "outputs": []
    },
    {
      "cell_type": "code",
      "metadata": {
        "id": "0NEY9NPNmmJl"
      },
      "source": [
        "#prova_pipeline(2,2)"
      ],
      "execution_count": null,
      "outputs": []
    },
    {
      "cell_type": "code",
      "metadata": {
        "id": "qNkTrtKpmmJl"
      },
      "source": [
        "#exec_trad(2,1)"
      ],
      "execution_count": null,
      "outputs": []
    },
    {
      "cell_type": "code",
      "metadata": {
        "id": "3sg-m1jJmmJl"
      },
      "source": [
        "#exec_trad(2,2)"
      ],
      "execution_count": null,
      "outputs": []
    },
    {
      "cell_type": "code",
      "metadata": {
        "colab": {
          "base_uri": "https://localhost:8080/"
        },
        "id": "o-USHohwmmJm",
        "outputId": "ad00d324-5bbd-4f12-af82-90bf8981f94d"
      },
      "source": [
        "tuning_KNN(2,5)"
      ],
      "execution_count": null,
      "outputs": [
        {
          "output_type": "stream",
          "name": "stderr",
          "text": [
            "[Parallel(n_jobs=-1)]: Using backend LokyBackend with 2 concurrent workers.\n"
          ]
        },
        {
          "output_type": "stream",
          "name": "stdout",
          "text": [
            "Fitting 5 folds for each of 16 candidates, totalling 80 fits\n"
          ]
        },
        {
          "output_type": "stream",
          "name": "stderr",
          "text": [
            "[Parallel(n_jobs=-1)]: Done  80 out of  80 | elapsed:    0.2s finished\n",
            "/usr/local/lib/python3.7/dist-packages/sklearn/model_selection/_search.py:739: DataConversionWarning:\n",
            "\n",
            "A column-vector y was passed when a 1d array was expected. Please change the shape of y to (n_samples, ), for example using ravel().\n",
            "\n"
          ]
        },
        {
          "output_type": "stream",
          "name": "stdout",
          "text": [
            "Accuratezza fase di Cross Validation con dati di Addestramento/Validazione: 0.853\n",
            "{'algorithm': 'auto', 'n_neighbors': 5, 'weights': 'uniform'}\n",
            "Accuratezza con dati di Test: 0.917\n",
            "Risultato sui dati di test:\n",
            "              precision    recall  f1-score   support\n",
            "\n",
            "           0       1.00      0.83      0.91         6\n",
            "           1       0.86      1.00      0.92         6\n",
            "\n",
            "    accuracy                           0.92        12\n",
            "   macro avg       0.93      0.92      0.92        12\n",
            "weighted avg       0.93      0.92      0.92        12\n",
            "\n",
            "[[5 1]\n",
            " [0 6]]\n",
            "Accuratezza Test: 91.000\n",
            "Precisione  Test: 100.000\n",
            "Sensitività Test: 83.000\n",
            "Specificità Test: 100.000\n",
            "F1 score    Test: 90.000\n"
          ]
        }
      ]
    },
    {
      "cell_type": "code",
      "metadata": {
        "id": "MV5bv2YNmmJm"
      },
      "source": [
        "#tuning_MP(2,10)"
      ],
      "execution_count": null,
      "outputs": []
    },
    {
      "cell_type": "code",
      "metadata": {
        "id": "rSY-RNeummJm"
      },
      "source": [
        "#tuning_LR(2,5)"
      ],
      "execution_count": null,
      "outputs": []
    },
    {
      "cell_type": "markdown",
      "metadata": {
        "id": "IEHlCMi_mmJn"
      },
      "source": [
        "<br>\n",
        "<br>"
      ]
    },
    {
      "cell_type": "markdown",
      "metadata": {
        "id": "k_kIvQEEmmJn"
      },
      "source": [
        "<br>\n",
        "<br>"
      ]
    },
    {
      "cell_type": "code",
      "metadata": {
        "id": "1uhfKxVRmmJn"
      },
      "source": [
        "#tuning_foresta(2,10)"
      ],
      "execution_count": null,
      "outputs": []
    },
    {
      "cell_type": "markdown",
      "metadata": {
        "id": "zjUrXzptmmJn"
      },
      "source": [
        "#### Caso3 MCI vs HCF"
      ]
    },
    {
      "cell_type": "code",
      "metadata": {
        "id": "FE9wW3DpmmJo"
      },
      "source": [
        ""
      ],
      "execution_count": null,
      "outputs": []
    },
    {
      "cell_type": "code",
      "metadata": {
        "id": "t55ZI4EgmmJo"
      },
      "source": [
        "\n",
        "df=MCIHC.loc[:,0]\n",
        "\n",
        "X = df.to_numpy()\n",
        "\n",
        "Y = MCIHC.loc[:,1]\n",
        "y = Y.to_numpy()\n",
        "y = np.where(y == 2, 1, 0)\n",
        "\n",
        "#from sklearn.model_selection import train_test_split\n",
        "\n",
        "\n",
        "X_train, X_test, y_train, y_test = train_test_split(X, y, test_size=0.3,stratify=y,random_state=42)\n",
        "\n",
        "#pca = PCA(n_components=2)\n",
        "\n",
        "#X_train_pca = pca.fit_transform(X_train)\n",
        "#X_test_pca = pca.transform(X_test)\n",
        "\n",
        "X_train_caso3=X_train\n",
        "X_test_caso3=X_test\n",
        "y_train_caso3=y_train\n",
        "y_test_caso3=y_test"
      ],
      "execution_count": null,
      "outputs": []
    },
    {
      "cell_type": "code",
      "metadata": {
        "id": "EPBNhg4AmmJo"
      },
      "source": [
        "X_train_caso3=X_train_caso3.reshape(-1,1)\n",
        "X_test_caso3=X_test_caso3.reshape(-1,1)\n",
        "y_train_caso3=y_train_caso3.reshape(-1,1)\n",
        "y_test_caso3=y_test_caso3.reshape(-1,1)"
      ],
      "execution_count": null,
      "outputs": []
    },
    {
      "cell_type": "code",
      "metadata": {
        "colab": {
          "base_uri": "https://localhost:8080/"
        },
        "id": "KG8LTrgLmmJo",
        "outputId": "06a8529f-619c-4bdf-f8ac-13fd5a6e1840"
      },
      "source": [
        "tuning_albero_decisione(3,10)"
      ],
      "execution_count": null,
      "outputs": [
        {
          "output_type": "stream",
          "name": "stderr",
          "text": [
            "[Parallel(n_jobs=-1)]: Using backend LokyBackend with 2 concurrent workers.\n"
          ]
        },
        {
          "output_type": "stream",
          "name": "stdout",
          "text": [
            "Fitting 10 folds for each of 216 candidates, totalling 2160 fits\n",
            "Accuratezza fase di Cross Validation con dati di Addestramento/Validazione: 0.900\n",
            "{'criterion': 'gini', 'max_depth': 3, 'min_samples_leaf': 2, 'min_samples_split': 2, 'min_weight_fraction_leaf': 0}\n",
            "Accuratezza con dati di Test: 0.917\n",
            "Risultato sui dati di test:\n",
            "              precision    recall  f1-score   support\n",
            "\n",
            "           0       0.86      1.00      0.92         6\n",
            "           1       1.00      0.83      0.91         6\n",
            "\n",
            "    accuracy                           0.92        12\n",
            "   macro avg       0.93      0.92      0.92        12\n",
            "weighted avg       0.93      0.92      0.92        12\n",
            "\n",
            "[[6 0]\n",
            " [1 5]]\n",
            "Accuratezza Test: 91.000\n",
            "Precisione  Test: 85.000\n",
            "Sensitività Test: 100.000\n",
            "Specificità Test: 83.000\n",
            "F1 score    Test: 91.000\n"
          ]
        },
        {
          "output_type": "stream",
          "name": "stderr",
          "text": [
            "[Parallel(n_jobs=-1)]: Done 1951 tasks      | elapsed:    2.3s\n",
            "[Parallel(n_jobs=-1)]: Done 2160 out of 2160 | elapsed:    2.4s finished\n"
          ]
        }
      ]
    },
    {
      "cell_type": "code",
      "metadata": {
        "colab": {
          "base_uri": "https://localhost:8080/"
        },
        "id": "6V145EErmmJp",
        "outputId": "a909c4c8-05de-4404-b299-53318870a7e9"
      },
      "source": [
        "tuning_SVM(3,10)"
      ],
      "execution_count": null,
      "outputs": [
        {
          "output_type": "stream",
          "name": "stderr",
          "text": [
            "/usr/local/lib/python3.7/dist-packages/sklearn/model_selection/_search.py:281: UserWarning:\n",
            "\n",
            "The total space of parameters 2 is smaller than n_iter=20. Running 2 iterations. For exhaustive searches, use GridSearchCV.\n",
            "\n",
            "[Parallel(n_jobs=-1)]: Using backend LokyBackend with 2 concurrent workers.\n"
          ]
        },
        {
          "output_type": "stream",
          "name": "stdout",
          "text": [
            "Fitting 10 folds for each of 2 candidates, totalling 20 fits\n",
            "Accuratezza fase di Cross Validation con dati di Addestramento/Validazione: 0.900\n",
            "{'kernel': 'rbf'}\n",
            "Accuratezza con dati di Test: 0.833\n",
            "Risultato sui dati di test:\n",
            "              precision    recall  f1-score   support\n",
            "\n",
            "           0       0.75      1.00      0.86         6\n",
            "           1       1.00      0.67      0.80         6\n",
            "\n",
            "    accuracy                           0.83        12\n",
            "   macro avg       0.88      0.83      0.83        12\n",
            "weighted avg       0.88      0.83      0.83        12\n",
            "\n",
            "[[6 0]\n",
            " [2 4]]\n",
            "Accuratezza Test: 83.000\n",
            "Precisione  Test: 75.000\n",
            "Sensitività Test: 100.000\n",
            "Specificità Test: 66.000\n",
            "F1 score    Test: 85.000\n"
          ]
        },
        {
          "output_type": "stream",
          "name": "stderr",
          "text": [
            "[Parallel(n_jobs=-1)]: Done  20 out of  20 | elapsed:    7.6s finished\n",
            "/usr/local/lib/python3.7/dist-packages/sklearn/utils/validation.py:760: DataConversionWarning:\n",
            "\n",
            "A column-vector y was passed when a 1d array was expected. Please change the shape of y to (n_samples, ), for example using ravel().\n",
            "\n"
          ]
        }
      ]
    },
    {
      "cell_type": "code",
      "metadata": {
        "id": "p5jblJOUmmJp"
      },
      "source": [
        "#tuning_albero_decisione_CV(3,10)"
      ],
      "execution_count": null,
      "outputs": []
    },
    {
      "cell_type": "code",
      "metadata": {
        "id": "J1UJHE9NmmJp"
      },
      "source": [
        "#tuning_SVM_CV(3,10)"
      ],
      "execution_count": null,
      "outputs": []
    },
    {
      "cell_type": "code",
      "metadata": {
        "id": "yunY8E9-mmJq"
      },
      "source": [
        "#validazione_incrociata_kfold(3,10,1)"
      ],
      "execution_count": null,
      "outputs": []
    },
    {
      "cell_type": "code",
      "metadata": {
        "id": "od1CHNrrmmJq"
      },
      "source": [
        "#validazione_incrociata_kfold(3,10,2)"
      ],
      "execution_count": null,
      "outputs": []
    },
    {
      "cell_type": "code",
      "metadata": {
        "id": "g5xIEizrmmJq"
      },
      "source": [
        "#validazione_incrociata_score(3,10,1)"
      ],
      "execution_count": null,
      "outputs": []
    },
    {
      "cell_type": "code",
      "metadata": {
        "id": "kXWyReqsmmJq"
      },
      "source": [
        "#validazione_incrociata_score(3,10,2)"
      ],
      "execution_count": null,
      "outputs": []
    },
    {
      "cell_type": "code",
      "metadata": {
        "id": "r560Yo3ommJr"
      },
      "source": [
        "#prova_pipeline(3,2)"
      ],
      "execution_count": null,
      "outputs": []
    },
    {
      "cell_type": "code",
      "metadata": {
        "id": "ZKcQO4qHmmJr"
      },
      "source": [
        "#exec_trad(3,1)"
      ],
      "execution_count": null,
      "outputs": []
    },
    {
      "cell_type": "code",
      "metadata": {
        "id": "0uMvgI66mmJr"
      },
      "source": [
        "#exec_trad(3,2)"
      ],
      "execution_count": null,
      "outputs": []
    },
    {
      "cell_type": "code",
      "metadata": {
        "colab": {
          "base_uri": "https://localhost:8080/"
        },
        "id": "J0pOzIIzmmJr",
        "outputId": "29b1c920-0f7d-4ccf-8c40-27c09c7da050"
      },
      "source": [
        "tuning_KNN(3,5)"
      ],
      "execution_count": null,
      "outputs": [
        {
          "output_type": "stream",
          "name": "stderr",
          "text": [
            "[Parallel(n_jobs=-1)]: Using backend LokyBackend with 2 concurrent workers.\n"
          ]
        },
        {
          "output_type": "stream",
          "name": "stdout",
          "text": [
            "Fitting 5 folds for each of 16 candidates, totalling 80 fits\n",
            "Accuratezza fase di Cross Validation con dati di Addestramento/Validazione: 0.887\n",
            "{'algorithm': 'auto', 'n_neighbors': 5, 'weights': 'uniform'}\n",
            "Accuratezza con dati di Test: 0.917\n",
            "Risultato sui dati di test:\n",
            "              precision    recall  f1-score   support\n",
            "\n",
            "           0       0.86      1.00      0.92         6\n",
            "           1       1.00      0.83      0.91         6\n",
            "\n",
            "    accuracy                           0.92        12\n",
            "   macro avg       0.93      0.92      0.92        12\n",
            "weighted avg       0.93      0.92      0.92        12\n",
            "\n",
            "[[6 0]\n",
            " [1 5]]\n",
            "Accuratezza Test: 91.000\n",
            "Precisione  Test: 85.000\n",
            "Sensitività Test: 100.000\n",
            "Specificità Test: 83.000\n",
            "F1 score    Test: 91.000\n"
          ]
        },
        {
          "output_type": "stream",
          "name": "stderr",
          "text": [
            "[Parallel(n_jobs=-1)]: Done  80 out of  80 | elapsed:    0.2s finished\n",
            "/usr/local/lib/python3.7/dist-packages/sklearn/model_selection/_search.py:739: DataConversionWarning:\n",
            "\n",
            "A column-vector y was passed when a 1d array was expected. Please change the shape of y to (n_samples, ), for example using ravel().\n",
            "\n"
          ]
        }
      ]
    },
    {
      "cell_type": "code",
      "metadata": {
        "id": "8iHAVJSxmmJs"
      },
      "source": [
        "#tuning_MP(3,10)"
      ],
      "execution_count": null,
      "outputs": []
    },
    {
      "cell_type": "code",
      "metadata": {
        "id": "hh-naNydmmJs"
      },
      "source": [
        "#tuning_LR(3,5)"
      ],
      "execution_count": null,
      "outputs": []
    },
    {
      "cell_type": "code",
      "metadata": {
        "id": "_S1G2aPlmmJs"
      },
      "source": [
        "#tuning_foresta(3,10)"
      ],
      "execution_count": null,
      "outputs": []
    },
    {
      "cell_type": "code",
      "metadata": {
        "id": "Np7ZMS7TmmJs"
      },
      "source": [
        ""
      ],
      "execution_count": null,
      "outputs": []
    },
    {
      "cell_type": "markdown",
      "metadata": {
        "id": "Ep9D_ElKmmJt"
      },
      "source": [
        "#### Caso4 CASE vs HCF"
      ]
    },
    {
      "cell_type": "code",
      "metadata": {
        "id": "pGbIaHLfmmJt"
      },
      "source": [
        ""
      ],
      "execution_count": null,
      "outputs": []
    },
    {
      "cell_type": "code",
      "metadata": {
        "id": "nNyK9tRommJt"
      },
      "source": [
        "df=CASEHC.loc[:,0]\n",
        "\n",
        "X = df.to_numpy()\n",
        "\n",
        "Y = CASEHC.loc[:,1]\n",
        "y = Y.to_numpy()\n",
        "y = np.where(y == 3, 1, 0)\n",
        "#from sklearn.model_selection import train_test_split\n",
        "\n",
        "\n",
        "X_train, X_test, y_train, y_test = train_test_split(X, y, test_size=0.3,stratify=y,random_state=42)\n",
        "\n",
        "#pca = PCA(n_components=2)\n",
        "\n",
        "#X_train_pca = pca.fit_transform(X_train)\n",
        "#X_test_pca = pca.transform(X_test)\n",
        "\n",
        "X_train_caso4=X_train\n",
        "X_test_caso4=X_test\n",
        "y_train_caso4=y_train\n",
        "y_test_caso4=y_test"
      ],
      "execution_count": null,
      "outputs": []
    },
    {
      "cell_type": "code",
      "metadata": {
        "id": "3Y-gzFT4mmJt"
      },
      "source": [
        "X_train_caso4=X_train_caso4.reshape(-1,1)\n",
        "X_test_caso4=X_test_caso4.reshape(-1,1)\n",
        "y_train_caso4=y_train_caso4.reshape(-1,1)\n",
        "y_test_caso4=y_test_caso4.reshape(-1,1)"
      ],
      "execution_count": null,
      "outputs": []
    },
    {
      "cell_type": "code",
      "metadata": {
        "colab": {
          "base_uri": "https://localhost:8080/"
        },
        "id": "R0-qQnJcmmJu",
        "outputId": "60a850fb-007d-42fd-c606-f6d834b53892"
      },
      "source": [
        "tuning_albero_decisione(4,5)"
      ],
      "execution_count": null,
      "outputs": [
        {
          "output_type": "stream",
          "name": "stderr",
          "text": [
            "[Parallel(n_jobs=-1)]: Using backend LokyBackend with 2 concurrent workers.\n"
          ]
        },
        {
          "output_type": "stream",
          "name": "stdout",
          "text": [
            "Fitting 5 folds for each of 216 candidates, totalling 1080 fits\n",
            "Accuratezza fase di Cross Validation con dati di Addestramento/Validazione: 0.950\n",
            "{'criterion': 'gini', 'max_depth': 3, 'min_samples_leaf': 3, 'min_samples_split': 2, 'min_weight_fraction_leaf': 0}\n",
            "Accuratezza con dati di Test: 0.889\n",
            "Risultato sui dati di test:\n",
            "              precision    recall  f1-score   support\n",
            "\n",
            "           0       0.92      0.92      0.92        12\n",
            "           1       0.83      0.83      0.83         6\n",
            "\n",
            "    accuracy                           0.89        18\n",
            "   macro avg       0.88      0.88      0.88        18\n",
            "weighted avg       0.89      0.89      0.89        18\n",
            "\n",
            "[[11  1]\n",
            " [ 1  5]]\n",
            "Accuratezza Test: 88.000\n",
            "Precisione  Test: 91.000\n",
            "Sensitività Test: 91.000\n",
            "Specificità Test: 83.000\n",
            "F1 score    Test: 91.000\n"
          ]
        },
        {
          "output_type": "stream",
          "name": "stderr",
          "text": [
            "[Parallel(n_jobs=-1)]: Done 1062 tasks      | elapsed:    1.3s\n",
            "[Parallel(n_jobs=-1)]: Done 1077 out of 1080 | elapsed:    1.3s remaining:    0.0s\n",
            "[Parallel(n_jobs=-1)]: Done 1080 out of 1080 | elapsed:    1.3s finished\n"
          ]
        }
      ]
    },
    {
      "cell_type": "code",
      "metadata": {
        "colab": {
          "base_uri": "https://localhost:8080/"
        },
        "id": "1dB4XN-8mmJu",
        "outputId": "5b0eec25-fe52-49e3-fd8b-4a49297bd2b4"
      },
      "source": [
        "tuning_SVM(4,5)"
      ],
      "execution_count": null,
      "outputs": [
        {
          "output_type": "stream",
          "name": "stderr",
          "text": [
            "/usr/local/lib/python3.7/dist-packages/sklearn/model_selection/_search.py:281: UserWarning:\n",
            "\n",
            "The total space of parameters 2 is smaller than n_iter=20. Running 2 iterations. For exhaustive searches, use GridSearchCV.\n",
            "\n",
            "[Parallel(n_jobs=-1)]: Using backend LokyBackend with 2 concurrent workers.\n"
          ]
        },
        {
          "output_type": "stream",
          "name": "stdout",
          "text": [
            "Fitting 5 folds for each of 2 candidates, totalling 10 fits\n",
            "Accuratezza fase di Cross Validation con dati di Addestramento/Validazione: 0.900\n",
            "{'kernel': 'linear'}\n",
            "Accuratezza con dati di Test: 0.889\n",
            "Risultato sui dati di test:\n",
            "              precision    recall  f1-score   support\n",
            "\n",
            "           0       0.92      0.92      0.92        12\n",
            "           1       0.83      0.83      0.83         6\n",
            "\n",
            "    accuracy                           0.89        18\n",
            "   macro avg       0.88      0.88      0.88        18\n",
            "weighted avg       0.89      0.89      0.89        18\n",
            "\n",
            "[[11  1]\n",
            " [ 1  5]]\n",
            "Accuratezza Test: 88.000\n",
            "Precisione  Test: 91.000\n",
            "Sensitività Test: 91.000\n",
            "Specificità Test: 83.000\n",
            "F1 score    Test: 91.000\n"
          ]
        },
        {
          "output_type": "stream",
          "name": "stderr",
          "text": [
            "[Parallel(n_jobs=-1)]: Done  10 out of  10 | elapsed:    2.9s finished\n",
            "/usr/local/lib/python3.7/dist-packages/sklearn/utils/validation.py:760: DataConversionWarning:\n",
            "\n",
            "A column-vector y was passed when a 1d array was expected. Please change the shape of y to (n_samples, ), for example using ravel().\n",
            "\n"
          ]
        }
      ]
    },
    {
      "cell_type": "code",
      "metadata": {
        "id": "9Va2C5FrmmJu"
      },
      "source": [
        "#tuning_albero_decisione_CV(4,10)"
      ],
      "execution_count": null,
      "outputs": []
    },
    {
      "cell_type": "code",
      "metadata": {
        "id": "4Al_y5L-mmJv"
      },
      "source": [
        "#tuning_SVM_CV(4,10)"
      ],
      "execution_count": null,
      "outputs": []
    },
    {
      "cell_type": "code",
      "metadata": {
        "id": "dOfA6ncbmmJv"
      },
      "source": [
        "#validazione_incrociata_kfold(4,10,1)"
      ],
      "execution_count": null,
      "outputs": []
    },
    {
      "cell_type": "code",
      "metadata": {
        "id": "cOC-r9z4mmJv"
      },
      "source": [
        "#validazione_incrociata_kfold(4,10,2)"
      ],
      "execution_count": null,
      "outputs": []
    },
    {
      "cell_type": "code",
      "metadata": {
        "id": "lbFbYkhPmmJv"
      },
      "source": [
        "#validazione_incrociata_score(4,10,1)"
      ],
      "execution_count": null,
      "outputs": []
    },
    {
      "cell_type": "code",
      "metadata": {
        "id": "fjOifRjHmmJw"
      },
      "source": [
        "#validazione_incrociata_score(4,10,2)"
      ],
      "execution_count": null,
      "outputs": []
    },
    {
      "cell_type": "code",
      "metadata": {
        "id": "IkCfWwM0mmJw"
      },
      "source": [
        "#prova_pipeline(4,2)"
      ],
      "execution_count": null,
      "outputs": []
    },
    {
      "cell_type": "code",
      "metadata": {
        "id": "VIvM2DFImmJw"
      },
      "source": [
        "#exec_trad(4,1)"
      ],
      "execution_count": null,
      "outputs": []
    },
    {
      "cell_type": "code",
      "metadata": {
        "id": "YSvg_KrammJw"
      },
      "source": [
        "#exec_trad(4,2)"
      ],
      "execution_count": null,
      "outputs": []
    },
    {
      "cell_type": "code",
      "metadata": {
        "colab": {
          "base_uri": "https://localhost:8080/"
        },
        "id": "JK9G7Oj-mmJx",
        "outputId": "36377071-69a8-429d-a41e-5571399376a2"
      },
      "source": [
        "tuning_KNN(4,5)"
      ],
      "execution_count": null,
      "outputs": [
        {
          "output_type": "stream",
          "name": "stdout",
          "text": [
            "Fitting 5 folds for each of 16 candidates, totalling 80 fits\n"
          ]
        },
        {
          "output_type": "stream",
          "name": "stderr",
          "text": [
            "[Parallel(n_jobs=-1)]: Using backend LokyBackend with 2 concurrent workers.\n"
          ]
        },
        {
          "output_type": "stream",
          "name": "stdout",
          "text": [
            "Accuratezza fase di Cross Validation con dati di Addestramento/Validazione: 0.950\n",
            "{'algorithm': 'auto', 'n_neighbors': 5, 'weights': 'uniform'}\n",
            "Accuratezza con dati di Test: 0.889\n",
            "Risultato sui dati di test:\n",
            "              precision    recall  f1-score   support\n",
            "\n",
            "           0       0.92      0.92      0.92        12\n",
            "           1       0.83      0.83      0.83         6\n",
            "\n",
            "    accuracy                           0.89        18\n",
            "   macro avg       0.88      0.88      0.88        18\n",
            "weighted avg       0.89      0.89      0.89        18\n",
            "\n",
            "[[11  1]\n",
            " [ 1  5]]\n",
            "Accuratezza Test: 88.000\n",
            "Precisione  Test: 91.000\n",
            "Sensitività Test: 91.000\n",
            "Specificità Test: 83.000\n",
            "F1 score    Test: 91.000\n"
          ]
        },
        {
          "output_type": "stream",
          "name": "stderr",
          "text": [
            "[Parallel(n_jobs=-1)]: Done  80 out of  80 | elapsed:    0.2s finished\n",
            "/usr/local/lib/python3.7/dist-packages/sklearn/model_selection/_search.py:739: DataConversionWarning:\n",
            "\n",
            "A column-vector y was passed when a 1d array was expected. Please change the shape of y to (n_samples, ), for example using ravel().\n",
            "\n"
          ]
        }
      ]
    },
    {
      "cell_type": "code",
      "metadata": {
        "id": "_cFFSAVummJx"
      },
      "source": [
        "#tuning_MP(4,10)"
      ],
      "execution_count": null,
      "outputs": []
    },
    {
      "cell_type": "code",
      "metadata": {
        "id": "ppKpM_WSmmJx"
      },
      "source": [
        "#tuning_LR(4,5)"
      ],
      "execution_count": null,
      "outputs": []
    },
    {
      "cell_type": "code",
      "metadata": {
        "id": "NEccFgiFmmJx"
      },
      "source": [
        "#tuning_foresta(4,10)"
      ],
      "execution_count": null,
      "outputs": []
    },
    {
      "cell_type": "markdown",
      "metadata": {
        "id": "dgVVBBqlmmJy"
      },
      "source": [
        "<br>\n",
        "<br>"
      ]
    },
    {
      "cell_type": "code",
      "metadata": {
        "id": "crkuQgqEmmJy"
      },
      "source": [
        ""
      ],
      "execution_count": null,
      "outputs": []
    },
    {
      "cell_type": "code",
      "metadata": {
        "id": "Z0_yr_CTmmJy"
      },
      "source": [
        ""
      ],
      "execution_count": null,
      "outputs": []
    },
    {
      "cell_type": "code",
      "metadata": {
        "id": "Zt6sHVlah1LB"
      },
      "source": [
        ""
      ],
      "execution_count": null,
      "outputs": []
    },
    {
      "cell_type": "code",
      "metadata": {
        "id": "746-RYMWh1LB"
      },
      "source": [
        ""
      ],
      "execution_count": null,
      "outputs": []
    },
    {
      "cell_type": "code",
      "metadata": {
        "id": "MIMbj8E4h1LB"
      },
      "source": [
        ""
      ],
      "execution_count": null,
      "outputs": []
    },
    {
      "cell_type": "code",
      "metadata": {
        "id": "QbgAXGtRh1LC"
      },
      "source": [
        ""
      ],
      "execution_count": null,
      "outputs": []
    },
    {
      "cell_type": "code",
      "metadata": {
        "id": "2F72RxAuh1LC"
      },
      "source": [
        ""
      ],
      "execution_count": null,
      "outputs": []
    },
    {
      "cell_type": "code",
      "metadata": {
        "id": "LxTfgKZIh1LC"
      },
      "source": [
        ""
      ],
      "execution_count": null,
      "outputs": []
    },
    {
      "cell_type": "code",
      "metadata": {
        "id": "DJ9ajyIWh1LC"
      },
      "source": [
        ""
      ],
      "execution_count": null,
      "outputs": []
    },
    {
      "cell_type": "code",
      "metadata": {
        "id": "xhDO3AlOh1LC"
      },
      "source": [
        ""
      ],
      "execution_count": null,
      "outputs": []
    },
    {
      "cell_type": "code",
      "metadata": {
        "id": "wkiR8qgHh1LD"
      },
      "source": [
        ""
      ],
      "execution_count": null,
      "outputs": []
    },
    {
      "cell_type": "code",
      "metadata": {
        "id": "zyTmu0kph1LD"
      },
      "source": [
        ""
      ],
      "execution_count": null,
      "outputs": []
    },
    {
      "cell_type": "code",
      "metadata": {
        "id": "taBJ9ZHsh1LD"
      },
      "source": [
        ""
      ],
      "execution_count": null,
      "outputs": []
    },
    {
      "cell_type": "code",
      "metadata": {
        "id": "5M3bQuwbh1LD"
      },
      "source": [
        ""
      ],
      "execution_count": null,
      "outputs": []
    },
    {
      "cell_type": "code",
      "metadata": {
        "id": "A2SUxsKGh1LD"
      },
      "source": [
        ""
      ],
      "execution_count": null,
      "outputs": []
    },
    {
      "cell_type": "code",
      "metadata": {
        "id": "pBJPIMBhh1LE"
      },
      "source": [
        ""
      ],
      "execution_count": null,
      "outputs": []
    },
    {
      "cell_type": "code",
      "metadata": {
        "id": "ZFSRKyzdh1LE"
      },
      "source": [
        ""
      ],
      "execution_count": null,
      "outputs": []
    },
    {
      "cell_type": "code",
      "metadata": {
        "id": "Ril9waA5h1LE"
      },
      "source": [
        ""
      ],
      "execution_count": null,
      "outputs": []
    },
    {
      "cell_type": "code",
      "metadata": {
        "id": "AHABECJdh1LE"
      },
      "source": [
        ""
      ],
      "execution_count": null,
      "outputs": []
    },
    {
      "cell_type": "code",
      "metadata": {
        "id": "Ug6LbemzcSZk"
      },
      "source": [
        ""
      ],
      "execution_count": null,
      "outputs": []
    },
    {
      "cell_type": "code",
      "metadata": {
        "id": "5wIM3PxWcSZk"
      },
      "source": [
        ""
      ],
      "execution_count": null,
      "outputs": []
    },
    {
      "cell_type": "code",
      "metadata": {
        "id": "lptmHhEpcSZl"
      },
      "source": [
        ""
      ],
      "execution_count": null,
      "outputs": []
    },
    {
      "cell_type": "code",
      "metadata": {
        "id": "k_m79zqccSZl"
      },
      "source": [
        ""
      ],
      "execution_count": null,
      "outputs": []
    },
    {
      "cell_type": "code",
      "metadata": {
        "id": "sC7dj_eHcSZl"
      },
      "source": [
        ""
      ],
      "execution_count": null,
      "outputs": []
    },
    {
      "cell_type": "code",
      "metadata": {
        "id": "mSZP5nHCcSZl"
      },
      "source": [
        ""
      ],
      "execution_count": null,
      "outputs": []
    },
    {
      "cell_type": "code",
      "metadata": {
        "id": "pFFsI1gBcSZl"
      },
      "source": [
        ""
      ],
      "execution_count": null,
      "outputs": []
    },
    {
      "cell_type": "code",
      "metadata": {
        "id": "v1sAPB6TcSZl"
      },
      "source": [
        ""
      ],
      "execution_count": null,
      "outputs": []
    },
    {
      "cell_type": "code",
      "metadata": {
        "id": "nWoQtNaCWXxe"
      },
      "source": [
        ""
      ],
      "execution_count": null,
      "outputs": []
    },
    {
      "cell_type": "code",
      "metadata": {
        "id": "kimRrAkAVuOJ"
      },
      "source": [
        ""
      ],
      "execution_count": null,
      "outputs": []
    },
    {
      "cell_type": "code",
      "metadata": {
        "id": "yVfcsM6pVuOJ"
      },
      "source": [
        ""
      ],
      "execution_count": null,
      "outputs": []
    },
    {
      "cell_type": "code",
      "metadata": {
        "id": "0dTQlqXpHY-O"
      },
      "source": [
        ""
      ],
      "execution_count": null,
      "outputs": []
    },
    {
      "cell_type": "code",
      "metadata": {
        "id": "oTMfCn1qHY-o"
      },
      "source": [
        ""
      ],
      "execution_count": null,
      "outputs": []
    },
    {
      "cell_type": "code",
      "metadata": {
        "id": "I1L3IPMhVr4m"
      },
      "source": [
        ""
      ],
      "execution_count": null,
      "outputs": []
    },
    {
      "cell_type": "code",
      "metadata": {
        "id": "w-wLEsVkWROt"
      },
      "source": [
        ""
      ],
      "execution_count": null,
      "outputs": []
    },
    {
      "cell_type": "code",
      "metadata": {
        "id": "hjYs_dniWWNl"
      },
      "source": [
        ""
      ],
      "execution_count": null,
      "outputs": []
    },
    {
      "cell_type": "code",
      "metadata": {
        "id": "Q2feIOZMcRCY"
      },
      "source": [
        ""
      ],
      "execution_count": null,
      "outputs": []
    },
    {
      "cell_type": "code",
      "metadata": {
        "id": "COTqaONtjXs0"
      },
      "source": [
        ""
      ],
      "execution_count": null,
      "outputs": []
    },
    {
      "cell_type": "code",
      "metadata": {
        "id": "x1WuHuh3hzSI"
      },
      "source": [
        ""
      ],
      "execution_count": null,
      "outputs": []
    },
    {
      "cell_type": "code",
      "metadata": {
        "id": "cT5oRQ-ymmJ6"
      },
      "source": [
        ""
      ],
      "execution_count": null,
      "outputs": []
    },
    {
      "cell_type": "code",
      "metadata": {
        "id": "mRRutOMXjreM"
      },
      "source": [
        ""
      ],
      "execution_count": null,
      "outputs": []
    },
    {
      "cell_type": "code",
      "metadata": {
        "id": "9elrDA6P2Q5S"
      },
      "source": [
        ""
      ],
      "execution_count": null,
      "outputs": []
    },
    {
      "cell_type": "markdown",
      "metadata": {
        "id": "_L9SvJq32oEK"
      },
      "source": [
        "### 16 hz"
      ]
    },
    {
      "cell_type": "code",
      "metadata": {
        "id": "d9iJBBZL2oEO"
      },
      "source": [
        ""
      ],
      "execution_count": null,
      "outputs": []
    },
    {
      "cell_type": "code",
      "metadata": {
        "id": "muiDm_d32oEP"
      },
      "source": [
        "\n",
        "y1=hz16.loc[:,0].to_numpy()\n",
        "y2=hz16.loc[:,1].to_numpy()\n",
        "y3=hz16.loc[:,2].to_numpy()\n",
        "\n"
      ],
      "execution_count": null,
      "outputs": []
    },
    {
      "cell_type": "code",
      "metadata": {
        "id": "W_ktfudP2oEP"
      },
      "source": [
        ""
      ],
      "execution_count": null,
      "outputs": []
    },
    {
      "cell_type": "code",
      "metadata": {
        "colab": {
          "base_uri": "https://localhost:8080/"
        },
        "id": "ssdSVC4I2oEQ",
        "outputId": "b01ae966-fbfc-4c56-9f00-423389d38134"
      },
      "source": [
        "y1,y2,y3,hz3"
      ],
      "execution_count": null,
      "outputs": [
        {
          "output_type": "execute_result",
          "data": {
            "text/plain": [
              "(array([ 96881.92504922, 301625.11195504,  82365.70110552, 114048.6116547 ,\n",
              "         85050.10425964,  91549.64283816,  70598.76634862,  58197.31161474,\n",
              "        146907.82353029,  85218.57530681,  78643.45951506, 114702.54400895,\n",
              "        374269.30197785,  87757.68123726, 100860.31462516, 132631.32341206,\n",
              "         67718.26613494, 117923.69948617,  71350.40514532]),\n",
              " array([ 33933.17836588,  20182.57444529,  14123.3969687 ,  40586.35942865,\n",
              "         58155.53967586,  37058.413767  ,  35306.21568128,  32602.51585702,\n",
              "         25982.31965229,  16996.49797094,  30105.74701254,  31331.8194841 ,\n",
              "         23984.51631801,  61862.38856127,  19669.0048451 ,  26000.70108354,\n",
              "        188132.28885558, 277145.5428346 ,  75403.98727585]),\n",
              " array([12021.01544772, 12064.99017151,  4789.7237232 ,  2301.07033975,\n",
              "         1638.0970265 , 16848.46027993,  6961.26646848,  3450.06645324,\n",
              "        32373.7157496 ,  5175.95101925,  1738.90593996, 14643.96382919,\n",
              "         8182.36145671,  4700.91976004,  1982.43582177,  1621.87963221,\n",
              "        11283.01908617,  4535.72335584,  2904.28473223]),\n",
              "                 0              1             2\n",
              " 0    11941.878738    4543.079199   4260.988482\n",
              " 1    21550.001904    3171.543412   6215.959227\n",
              " 2     7954.533234    2502.250572   2878.113664\n",
              " 3    42676.089206   17653.023737    946.372606\n",
              " 4    12148.524998   27477.274131    612.110742\n",
              " 5    12297.442066    3811.751034   7665.308313\n",
              " 6    19050.995665   10227.178360   3062.984321\n",
              " 7     4992.630324   22822.837806   1211.440626\n",
              " 8    16011.533992    6828.018160  22390.062009\n",
              " 9     9151.569946    3078.353285   2888.256949\n",
              " 10   14843.201818    9843.491084    563.057786\n",
              " 11   10445.070016    5141.196547   4760.093445\n",
              " 12  182700.816803    4200.470742   4973.644479\n",
              " 13   15954.139771   16579.985919   2618.749608\n",
              " 14   11744.109673    5865.329829    698.500991\n",
              " 15    7023.707557   12802.749011    703.477024\n",
              " 16   37297.839360  104104.832648   4747.694480\n",
              " 17   11622.940208   71138.564456   2467.786370\n",
              " 18   14182.838368   23134.713975   1533.933877)"
            ]
          },
          "metadata": {},
          "execution_count": 616
        }
      ]
    },
    {
      "cell_type": "code",
      "metadata": {
        "id": "c4FipOBt2oER"
      },
      "source": [
        "x1 = np.linspace(0, 19, len(y1), endpoint=True)\n",
        "x2 = np.linspace(0, 19,len(y2), endpoint=True)\n",
        "x3 = np.linspace(0, 19,len(y3), endpoint=True)"
      ],
      "execution_count": null,
      "outputs": []
    },
    {
      "cell_type": "code",
      "metadata": {
        "colab": {
          "base_uri": "https://localhost:8080/",
          "height": 265
        },
        "id": "JGzF2S9V2oES",
        "outputId": "305981a2-35cc-4ebf-b2e3-eac50f56488e"
      },
      "source": [
        "plt.plot(x1, y1, 'g')\n",
        "plt.plot(x2, y2, 'b')\n",
        "plt.plot(x3, y3, 'r')\n",
        "#plt.ylim(0,300000)\n",
        "plt.show()"
      ],
      "execution_count": null,
      "outputs": [
        {
          "output_type": "display_data",
          "data": {
            "image/png": "[encoded data removed]",
            "text/plain": [
              "<Figure size 432x288 with 1 Axes>"
            ]
          },
          "metadata": {
            "needs_background": "light"
          }
        }
      ]
    },
    {
      "cell_type": "code",
      "metadata": {
        "id": "GwdFlkrZ2oES"
      },
      "source": [
        ""
      ],
      "execution_count": null,
      "outputs": []
    },
    {
      "cell_type": "code",
      "metadata": {
        "id": "7KKKYlA72oES"
      },
      "source": [
        "matriceAD = np.zeros((len(y1),2))\n",
        "matriceMCI = np.zeros((len(y2),2))\n",
        "matriceHC = np.zeros((len(y3),2))\n"
      ],
      "execution_count": null,
      "outputs": []
    },
    {
      "cell_type": "code",
      "metadata": {
        "id": "DxYUPx912oET"
      },
      "source": [
        "matriceADHC = np.zeros((len(y1)+len(y3),2))\n",
        "matriceMCIHC = np.zeros((len(y2)+len(y3),2))\n",
        "matriceADMCI = np.zeros((len(y1)+len(y2),2))\n",
        "matriceCASEHC = np.zeros((len(y2)+len(y3)+len(y1),2))"
      ],
      "execution_count": null,
      "outputs": []
    },
    {
      "cell_type": "code",
      "metadata": {
        "id": "cvoIlAUA2oET"
      },
      "source": [
        "for i in range(len(y1)):\n",
        "      matriceAD[i,0]=y1[i]\n",
        "      matriceAD[i,1]=1"
      ],
      "execution_count": null,
      "outputs": []
    },
    {
      "cell_type": "code",
      "metadata": {
        "id": "Am-PcVI-2oEU"
      },
      "source": [
        "for i in range(len(y2)):\n",
        "      matriceMCI[i,0]=y2[i]\n",
        "      matriceMCI[i,1]=2"
      ],
      "execution_count": null,
      "outputs": []
    },
    {
      "cell_type": "code",
      "metadata": {
        "id": "zFd3tS1O2oEU"
      },
      "source": [
        "for i in range(len(y3)):\n",
        "      matriceHC[i,0]=y3[i]\n",
        "      matriceHC[i,1]=3"
      ],
      "execution_count": null,
      "outputs": []
    },
    {
      "cell_type": "code",
      "metadata": {
        "id": "vAfRrGFf2oEU"
      },
      "source": [
        "AD=pd.DataFrame(matriceAD)\n",
        "HC=pd.DataFrame(matriceHC)\n",
        "MCI=pd.DataFrame(matriceMCI)"
      ],
      "execution_count": null,
      "outputs": []
    },
    {
      "cell_type": "code",
      "metadata": {
        "id": "FTK4acC32oEU"
      },
      "source": [
        "ADHC=AD.copy()\n",
        "ADHC=ADHC.append(HC,ignore_index=True)"
      ],
      "execution_count": null,
      "outputs": []
    },
    {
      "cell_type": "code",
      "metadata": {
        "id": "dT92p8pI2oEV"
      },
      "source": [
        "ADMCI=AD.copy()\n",
        "ADMCI=ADMCI.append(MCI,ignore_index=True)"
      ],
      "execution_count": null,
      "outputs": []
    },
    {
      "cell_type": "code",
      "metadata": {
        "id": "ovYh_1bC2oEV"
      },
      "source": [
        "MCIHC=MCI.copy()\n",
        "MCIHC=MCIHC.append(HC,ignore_index=True)"
      ],
      "execution_count": null,
      "outputs": []
    },
    {
      "cell_type": "code",
      "metadata": {
        "id": "ZB1sF4Qo2oEV"
      },
      "source": [
        "CASEHC=AD.copy()\n",
        "CASEHC=CASEHC.append(MCI,ignore_index=True)\n",
        "CASEHC=CASEHC.append(HC,ignore_index=True)"
      ],
      "execution_count": null,
      "outputs": []
    },
    {
      "cell_type": "code",
      "metadata": {
        "id": "BO1Mk-hZ2oEW"
      },
      "source": [
        ""
      ],
      "execution_count": null,
      "outputs": []
    },
    {
      "cell_type": "markdown",
      "metadata": {
        "id": "bXiBZ_UlSmOS"
      },
      "source": [
        "#### 10 RUN AD vs HC"
      ]
    },
    {
      "cell_type": "code",
      "metadata": {
        "colab": {
          "base_uri": "https://localhost:8080/"
        },
        "id": "lGPg45P1MlSi",
        "outputId": "b1b4d91b-9caa-4293-ddb5-221bcbfbc55b"
      },
      "source": [
        "for i in range(10):\n",
        "    df=ADHC.loc[:,0]\n",
        "\n",
        "    X = df.to_numpy()\n",
        "\n",
        "    Y = ADHC.loc[:,1]\n",
        "    y = Y.to_numpy()\n",
        "    y = np.where(y == 1, 1, 0)\n",
        "    #from sklearn.model_selection import train_test_split\n",
        "\n",
        "\n",
        "    X_train, X_test, y_train, y_test = train_test_split(X, y, test_size=0.3,stratify=y)\n",
        "\n",
        "    #pca = PCA(n_components=2)\n",
        "\n",
        "    #X_train_pca = pca.fit_transform(X_train)\n",
        "    #X_test_pca = pca.transform(X_test)\n",
        "\n",
        "    X_train_caso1=X_train\n",
        "    X_test_caso1=X_test\n",
        "    y_train_caso1=y_train\n",
        "    y_test_caso1=y_test\n",
        "    X_train_caso1=X_train_caso1.reshape(-1,1)\n",
        "    X_test_caso1=X_test_caso1.reshape(-1,1)\n",
        "    y_train_caso1=y_train_caso1.reshape(-1,1)\n",
        "    y_test_caso1=y_test_caso1.reshape(-1,1)\n",
        "    tuning_albero_decisione(1,5)\n",
        "    tuning_SVM(1,5)\n",
        "    tuning_KNN(1,5)"
      ],
      "execution_count": null,
      "outputs": [
        {
          "output_type": "stream",
          "name": "stdout",
          "text": [
            "stimatore utilizzato - DecisionTreeClassifier\n",
            "Fitting 5 folds for each of 216 candidates, totalling 1080 fits\n"
          ]
        },
        {
          "output_type": "stream",
          "name": "stderr",
          "text": [
            "[Parallel(n_jobs=-1)]: Using backend LokyBackend with 2 concurrent workers.\n",
            "[Parallel(n_jobs=-1)]: Done 912 tasks      | elapsed:    1.8s\n",
            "[Parallel(n_jobs=-1)]: Done 1080 out of 1080 | elapsed:    1.9s finished\n",
            "[Parallel(n_jobs=-1)]: Using backend LokyBackend with 2 concurrent workers.\n"
          ]
        },
        {
          "output_type": "stream",
          "name": "stdout",
          "text": [
            "Accuratezza fase di Cross Validation con dati di Addestramento/Validazione: 0.960\n",
            "{'criterion': 'gini', 'max_depth': 3, 'min_samples_leaf': 1, 'min_samples_split': 2, 'min_weight_fraction_leaf': 0}\n",
            "Accuratezza con dati di Test: 1.000\n",
            "Risultato sui dati di test:\n",
            "              precision    recall  f1-score   support\n",
            "\n",
            "           0       1.00      1.00      1.00         6\n",
            "           1       1.00      1.00      1.00         6\n",
            "\n",
            "    accuracy                           1.00        12\n",
            "   macro avg       1.00      1.00      1.00        12\n",
            "weighted avg       1.00      1.00      1.00        12\n",
            "\n",
            "[[6 0]\n",
            " [0 6]]\n",
            "Accuratezza Test: 100.000\n",
            "Precisione  Test: 100.000\n",
            "Sensitività Test: 100.000\n",
            "Specificità Test: 100.000\n",
            "F1 score    Test: 100.000\n",
            "stimatore utilizzato - Support vector machine (SVC)\n",
            "Fitting 5 folds for each of 20 candidates, totalling 100 fits\n",
            "Accuratezza fase di Cross Validation con dati di Addestramento/Validazione: 0.960\n",
            "{'kernel': 'linear', 'gamma': 0.001, 'C': 100.0}\n",
            "Accuratezza con dati di Test: 1.000\n",
            "Risultato sui dati di test:\n",
            "              precision    recall  f1-score   support\n",
            "\n",
            "           0       1.00      1.00      1.00         6\n",
            "           1       1.00      1.00      1.00         6\n",
            "\n",
            "    accuracy                           1.00        12\n",
            "   macro avg       1.00      1.00      1.00        12\n",
            "weighted avg       1.00      1.00      1.00        12\n",
            "\n",
            "[[6 0]\n",
            " [0 6]]\n",
            "Accuratezza Test: 100.000\n",
            "Precisione  Test: 100.000\n",
            "Sensitività Test: 100.000\n",
            "Specificità Test: 100.000\n",
            "F1 score    Test: 100.000\n",
            "stimatore utilizzato - KNeighborsClassifier\n",
            "Fitting 5 folds for each of 16 candidates, totalling 80 fits\n"
          ]
        },
        {
          "output_type": "stream",
          "name": "stderr",
          "text": [
            "[Parallel(n_jobs=-1)]: Done 100 out of 100 | elapsed:    0.2s finished\n",
            "/usr/local/lib/python3.7/dist-packages/sklearn/utils/validation.py:760: DataConversionWarning:\n",
            "\n",
            "A column-vector y was passed when a 1d array was expected. Please change the shape of y to (n_samples, ), for example using ravel().\n",
            "\n",
            "[Parallel(n_jobs=-1)]: Using backend LokyBackend with 2 concurrent workers.\n",
            "[Parallel(n_jobs=-1)]: Done  80 out of  80 | elapsed:    0.2s finished\n",
            "/usr/local/lib/python3.7/dist-packages/sklearn/model_selection/_search.py:739: DataConversionWarning:\n",
            "\n",
            "A column-vector y was passed when a 1d array was expected. Please change the shape of y to (n_samples, ), for example using ravel().\n",
            "\n",
            "[Parallel(n_jobs=-1)]: Using backend LokyBackend with 2 concurrent workers.\n"
          ]
        },
        {
          "output_type": "stream",
          "name": "stdout",
          "text": [
            "Accuratezza fase di Cross Validation con dati di Addestramento/Validazione: 0.920\n",
            "{'algorithm': 'auto', 'n_neighbors': 5, 'weights': 'uniform'}\n",
            "Accuratezza con dati di Test: 1.000\n",
            "Risultato sui dati di test:\n",
            "              precision    recall  f1-score   support\n",
            "\n",
            "           0       1.00      1.00      1.00         6\n",
            "           1       1.00      1.00      1.00         6\n",
            "\n",
            "    accuracy                           1.00        12\n",
            "   macro avg       1.00      1.00      1.00        12\n",
            "weighted avg       1.00      1.00      1.00        12\n",
            "\n",
            "[[6 0]\n",
            " [0 6]]\n",
            "Accuratezza Test: 100.000\n",
            "Precisione  Test: 100.000\n",
            "Sensitività Test: 100.000\n",
            "Specificità Test: 100.000\n",
            "F1 score    Test: 100.000\n",
            "stimatore utilizzato - DecisionTreeClassifier\n",
            "Fitting 5 folds for each of 216 candidates, totalling 1080 fits\n"
          ]
        },
        {
          "output_type": "stream",
          "name": "stderr",
          "text": [
            "[Parallel(n_jobs=-1)]: Done 1062 tasks      | elapsed:    1.1s\n",
            "[Parallel(n_jobs=-1)]: Done 1077 out of 1080 | elapsed:    1.2s remaining:    0.0s\n",
            "[Parallel(n_jobs=-1)]: Done 1080 out of 1080 | elapsed:    1.2s finished\n",
            "[Parallel(n_jobs=-1)]: Using backend LokyBackend with 2 concurrent workers.\n"
          ]
        },
        {
          "output_type": "stream",
          "name": "stdout",
          "text": [
            "Accuratezza fase di Cross Validation con dati di Addestramento/Validazione: 0.967\n",
            "{'criterion': 'gini', 'max_depth': 3, 'min_samples_leaf': 1, 'min_samples_split': 2, 'min_weight_fraction_leaf': 0}\n",
            "Accuratezza con dati di Test: 1.000\n",
            "Risultato sui dati di test:\n",
            "              precision    recall  f1-score   support\n",
            "\n",
            "           0       1.00      1.00      1.00         6\n",
            "           1       1.00      1.00      1.00         6\n",
            "\n",
            "    accuracy                           1.00        12\n",
            "   macro avg       1.00      1.00      1.00        12\n",
            "weighted avg       1.00      1.00      1.00        12\n",
            "\n",
            "[[6 0]\n",
            " [0 6]]\n",
            "Accuratezza Test: 100.000\n",
            "Precisione  Test: 100.000\n",
            "Sensitività Test: 100.000\n",
            "Specificità Test: 100.000\n",
            "F1 score    Test: 100.000\n",
            "stimatore utilizzato - Support vector machine (SVC)\n",
            "Fitting 5 folds for each of 20 candidates, totalling 100 fits\n"
          ]
        },
        {
          "output_type": "stream",
          "name": "stderr",
          "text": [
            "[Parallel(n_jobs=-1)]: Done  97 out of 100 | elapsed:    0.2s remaining:    0.0s\n",
            "[Parallel(n_jobs=-1)]: Done 100 out of 100 | elapsed:    0.2s finished\n",
            "/usr/local/lib/python3.7/dist-packages/sklearn/utils/validation.py:760: DataConversionWarning:\n",
            "\n",
            "A column-vector y was passed when a 1d array was expected. Please change the shape of y to (n_samples, ), for example using ravel().\n",
            "\n",
            "[Parallel(n_jobs=-1)]: Using backend LokyBackend with 2 concurrent workers.\n"
          ]
        },
        {
          "output_type": "stream",
          "name": "stdout",
          "text": [
            "Accuratezza fase di Cross Validation con dati di Addestramento/Validazione: 0.967\n",
            "{'kernel': 'linear', 'gamma': 0.0001, 'C': 100.0}\n",
            "Accuratezza con dati di Test: 1.000\n",
            "Risultato sui dati di test:\n",
            "              precision    recall  f1-score   support\n",
            "\n",
            "           0       1.00      1.00      1.00         6\n",
            "           1       1.00      1.00      1.00         6\n",
            "\n",
            "    accuracy                           1.00        12\n",
            "   macro avg       1.00      1.00      1.00        12\n",
            "weighted avg       1.00      1.00      1.00        12\n",
            "\n",
            "[[6 0]\n",
            " [0 6]]\n",
            "Accuratezza Test: 100.000\n",
            "Precisione  Test: 100.000\n",
            "Sensitività Test: 100.000\n",
            "Specificità Test: 100.000\n",
            "F1 score    Test: 100.000\n",
            "stimatore utilizzato - KNeighborsClassifier\n",
            "Fitting 5 folds for each of 16 candidates, totalling 80 fits\n"
          ]
        },
        {
          "output_type": "stream",
          "name": "stderr",
          "text": [
            "[Parallel(n_jobs=-1)]: Done  80 out of  80 | elapsed:    0.3s finished\n",
            "/usr/local/lib/python3.7/dist-packages/sklearn/model_selection/_search.py:739: DataConversionWarning:\n",
            "\n",
            "A column-vector y was passed when a 1d array was expected. Please change the shape of y to (n_samples, ), for example using ravel().\n",
            "\n",
            "[Parallel(n_jobs=-1)]: Using backend LokyBackend with 2 concurrent workers.\n"
          ]
        },
        {
          "output_type": "stream",
          "name": "stdout",
          "text": [
            "Accuratezza fase di Cross Validation con dati di Addestramento/Validazione: 0.967\n",
            "{'algorithm': 'auto', 'n_neighbors': 5, 'weights': 'uniform'}\n",
            "Accuratezza con dati di Test: 1.000\n",
            "Risultato sui dati di test:\n",
            "              precision    recall  f1-score   support\n",
            "\n",
            "           0       1.00      1.00      1.00         6\n",
            "           1       1.00      1.00      1.00         6\n",
            "\n",
            "    accuracy                           1.00        12\n",
            "   macro avg       1.00      1.00      1.00        12\n",
            "weighted avg       1.00      1.00      1.00        12\n",
            "\n",
            "[[6 0]\n",
            " [0 6]]\n",
            "Accuratezza Test: 100.000\n",
            "Precisione  Test: 100.000\n",
            "Sensitività Test: 100.000\n",
            "Specificità Test: 100.000\n",
            "F1 score    Test: 100.000\n",
            "stimatore utilizzato - DecisionTreeClassifier\n",
            "Fitting 5 folds for each of 216 candidates, totalling 1080 fits\n"
          ]
        },
        {
          "output_type": "stream",
          "name": "stderr",
          "text": [
            "[Parallel(n_jobs=-1)]: Done 1062 tasks      | elapsed:    1.2s\n",
            "[Parallel(n_jobs=-1)]: Done 1077 out of 1080 | elapsed:    1.2s remaining:    0.0s\n",
            "[Parallel(n_jobs=-1)]: Done 1080 out of 1080 | elapsed:    1.2s finished\n",
            "[Parallel(n_jobs=-1)]: Using backend LokyBackend with 2 concurrent workers.\n"
          ]
        },
        {
          "output_type": "stream",
          "name": "stdout",
          "text": [
            "Accuratezza fase di Cross Validation con dati di Addestramento/Validazione: 1.000\n",
            "{'criterion': 'gini', 'max_depth': 3, 'min_samples_leaf': 1, 'min_samples_split': 2, 'min_weight_fraction_leaf': 0}\n",
            "Accuratezza con dati di Test: 1.000\n",
            "Risultato sui dati di test:\n",
            "              precision    recall  f1-score   support\n",
            "\n",
            "           0       1.00      1.00      1.00         6\n",
            "           1       1.00      1.00      1.00         6\n",
            "\n",
            "    accuracy                           1.00        12\n",
            "   macro avg       1.00      1.00      1.00        12\n",
            "weighted avg       1.00      1.00      1.00        12\n",
            "\n",
            "[[6 0]\n",
            " [0 6]]\n",
            "Accuratezza Test: 100.000\n",
            "Precisione  Test: 100.000\n",
            "Sensitività Test: 100.000\n",
            "Specificità Test: 100.000\n",
            "F1 score    Test: 100.000\n",
            "stimatore utilizzato - Support vector machine (SVC)\n",
            "Fitting 5 folds for each of 20 candidates, totalling 100 fits\n"
          ]
        },
        {
          "output_type": "stream",
          "name": "stderr",
          "text": [
            "[Parallel(n_jobs=-1)]: Done 100 out of 100 | elapsed:    0.2s finished\n",
            "/usr/local/lib/python3.7/dist-packages/sklearn/utils/validation.py:760: DataConversionWarning:\n",
            "\n",
            "A column-vector y was passed when a 1d array was expected. Please change the shape of y to (n_samples, ), for example using ravel().\n",
            "\n",
            "[Parallel(n_jobs=-1)]: Using backend LokyBackend with 2 concurrent workers.\n"
          ]
        },
        {
          "output_type": "stream",
          "name": "stdout",
          "text": [
            "Accuratezza fase di Cross Validation con dati di Addestramento/Validazione: 1.000\n",
            "{'kernel': 'linear', 'gamma': 1000.0, 'C': 1.0}\n",
            "Accuratezza con dati di Test: 1.000\n",
            "Risultato sui dati di test:\n",
            "              precision    recall  f1-score   support\n",
            "\n",
            "           0       1.00      1.00      1.00         6\n",
            "           1       1.00      1.00      1.00         6\n",
            "\n",
            "    accuracy                           1.00        12\n",
            "   macro avg       1.00      1.00      1.00        12\n",
            "weighted avg       1.00      1.00      1.00        12\n",
            "\n",
            "[[6 0]\n",
            " [0 6]]\n",
            "Accuratezza Test: 100.000\n",
            "Precisione  Test: 100.000\n",
            "Sensitività Test: 100.000\n",
            "Specificità Test: 100.000\n",
            "F1 score    Test: 100.000\n",
            "stimatore utilizzato - KNeighborsClassifier\n",
            "Fitting 5 folds for each of 16 candidates, totalling 80 fits\n"
          ]
        },
        {
          "output_type": "stream",
          "name": "stderr",
          "text": [
            "[Parallel(n_jobs=-1)]: Done  80 out of  80 | elapsed:    0.3s finished\n",
            "/usr/local/lib/python3.7/dist-packages/sklearn/model_selection/_search.py:739: DataConversionWarning:\n",
            "\n",
            "A column-vector y was passed when a 1d array was expected. Please change the shape of y to (n_samples, ), for example using ravel().\n",
            "\n",
            "[Parallel(n_jobs=-1)]: Using backend LokyBackend with 2 concurrent workers.\n"
          ]
        },
        {
          "output_type": "stream",
          "name": "stdout",
          "text": [
            "Accuratezza fase di Cross Validation con dati di Addestramento/Validazione: 0.960\n",
            "{'algorithm': 'auto', 'n_neighbors': 5, 'weights': 'distance'}\n",
            "Accuratezza con dati di Test: 1.000\n",
            "Risultato sui dati di test:\n",
            "              precision    recall  f1-score   support\n",
            "\n",
            "           0       1.00      1.00      1.00         6\n",
            "           1       1.00      1.00      1.00         6\n",
            "\n",
            "    accuracy                           1.00        12\n",
            "   macro avg       1.00      1.00      1.00        12\n",
            "weighted avg       1.00      1.00      1.00        12\n",
            "\n",
            "[[6 0]\n",
            " [0 6]]\n",
            "Accuratezza Test: 100.000\n",
            "Precisione  Test: 100.000\n",
            "Sensitività Test: 100.000\n",
            "Specificità Test: 100.000\n",
            "F1 score    Test: 100.000\n",
            "stimatore utilizzato - DecisionTreeClassifier\n",
            "Fitting 5 folds for each of 216 candidates, totalling 1080 fits\n"
          ]
        },
        {
          "output_type": "stream",
          "name": "stderr",
          "text": [
            "[Parallel(n_jobs=-1)]: Done 1065 tasks      | elapsed:    1.2s\n",
            "[Parallel(n_jobs=-1)]: Done 1077 out of 1080 | elapsed:    1.2s remaining:    0.0s\n",
            "[Parallel(n_jobs=-1)]: Done 1080 out of 1080 | elapsed:    1.2s finished\n",
            "[Parallel(n_jobs=-1)]: Using backend LokyBackend with 2 concurrent workers.\n",
            "[Parallel(n_jobs=-1)]: Done 100 out of 100 | elapsed:    0.2s finished\n",
            "/usr/local/lib/python3.7/dist-packages/sklearn/utils/validation.py:760: DataConversionWarning:\n",
            "\n",
            "A column-vector y was passed when a 1d array was expected. Please change the shape of y to (n_samples, ), for example using ravel().\n",
            "\n"
          ]
        },
        {
          "output_type": "stream",
          "name": "stdout",
          "text": [
            "Accuratezza fase di Cross Validation con dati di Addestramento/Validazione: 1.000\n",
            "{'criterion': 'gini', 'max_depth': 3, 'min_samples_leaf': 1, 'min_samples_split': 2, 'min_weight_fraction_leaf': 0}\n",
            "Accuratezza con dati di Test: 1.000\n",
            "Risultato sui dati di test:\n",
            "              precision    recall  f1-score   support\n",
            "\n",
            "           0       1.00      1.00      1.00         6\n",
            "           1       1.00      1.00      1.00         6\n",
            "\n",
            "    accuracy                           1.00        12\n",
            "   macro avg       1.00      1.00      1.00        12\n",
            "weighted avg       1.00      1.00      1.00        12\n",
            "\n",
            "[[6 0]\n",
            " [0 6]]\n",
            "Accuratezza Test: 100.000\n",
            "Precisione  Test: 100.000\n",
            "Sensitività Test: 100.000\n",
            "Specificità Test: 100.000\n",
            "F1 score    Test: 100.000\n",
            "stimatore utilizzato - Support vector machine (SVC)\n",
            "Fitting 5 folds for each of 20 candidates, totalling 100 fits\n",
            "Accuratezza fase di Cross Validation con dati di Addestramento/Validazione: 1.000\n",
            "{'kernel': 'linear', 'gamma': 1000.0, 'C': 0.0001}\n",
            "Accuratezza con dati di Test: 1.000\n",
            "Risultato sui dati di test:\n",
            "              precision    recall  f1-score   support\n",
            "\n",
            "           0       1.00      1.00      1.00         6\n",
            "           1       1.00      1.00      1.00         6\n",
            "\n",
            "    accuracy                           1.00        12\n",
            "   macro avg       1.00      1.00      1.00        12\n",
            "weighted avg       1.00      1.00      1.00        12\n",
            "\n",
            "[[6 0]\n",
            " [0 6]]\n",
            "Accuratezza Test: 100.000\n",
            "Precisione  Test: 100.000\n",
            "Sensitività Test: 100.000\n",
            "Specificità Test: 100.000\n",
            "F1 score    Test: 100.000\n",
            "stimatore utilizzato - KNeighborsClassifier\n",
            "Fitting 5 folds for each of 16 candidates, totalling 80 fits\n"
          ]
        },
        {
          "output_type": "stream",
          "name": "stderr",
          "text": [
            "[Parallel(n_jobs=-1)]: Using backend LokyBackend with 2 concurrent workers.\n",
            "[Parallel(n_jobs=-1)]: Done  80 out of  80 | elapsed:    0.2s finished\n",
            "/usr/local/lib/python3.7/dist-packages/sklearn/model_selection/_search.py:739: DataConversionWarning:\n",
            "\n",
            "A column-vector y was passed when a 1d array was expected. Please change the shape of y to (n_samples, ), for example using ravel().\n",
            "\n"
          ]
        },
        {
          "output_type": "stream",
          "name": "stdout",
          "text": [
            "Accuratezza fase di Cross Validation con dati di Addestramento/Validazione: 1.000\n",
            "{'algorithm': 'auto', 'n_neighbors': 5, 'weights': 'distance'}\n",
            "Accuratezza con dati di Test: 0.917\n",
            "Risultato sui dati di test:\n",
            "              precision    recall  f1-score   support\n",
            "\n",
            "           0       0.86      1.00      0.92         6\n",
            "           1       1.00      0.83      0.91         6\n",
            "\n",
            "    accuracy                           0.92        12\n",
            "   macro avg       0.93      0.92      0.92        12\n",
            "weighted avg       0.93      0.92      0.92        12\n",
            "\n",
            "[[6 0]\n",
            " [1 5]]\n",
            "Accuratezza Test: 91.000\n",
            "Precisione  Test: 85.000\n",
            "Sensitività Test: 100.000\n",
            "Specificità Test: 83.000\n",
            "F1 score    Test: 91.000\n",
            "stimatore utilizzato - DecisionTreeClassifier\n",
            "Fitting 5 folds for each of 216 candidates, totalling 1080 fits\n"
          ]
        },
        {
          "output_type": "stream",
          "name": "stderr",
          "text": [
            "[Parallel(n_jobs=-1)]: Using backend LokyBackend with 2 concurrent workers.\n",
            "[Parallel(n_jobs=-1)]: Done 1018 tasks      | elapsed:    1.1s\n",
            "[Parallel(n_jobs=-1)]: Done 1080 out of 1080 | elapsed:    1.2s finished\n",
            "[Parallel(n_jobs=-1)]: Using backend LokyBackend with 2 concurrent workers.\n"
          ]
        },
        {
          "output_type": "stream",
          "name": "stdout",
          "text": [
            "Accuratezza fase di Cross Validation con dati di Addestramento/Validazione: 1.000\n",
            "{'criterion': 'gini', 'max_depth': 3, 'min_samples_leaf': 1, 'min_samples_split': 2, 'min_weight_fraction_leaf': 0}\n",
            "Accuratezza con dati di Test: 1.000\n",
            "Risultato sui dati di test:\n",
            "              precision    recall  f1-score   support\n",
            "\n",
            "           0       1.00      1.00      1.00         6\n",
            "           1       1.00      1.00      1.00         6\n",
            "\n",
            "    accuracy                           1.00        12\n",
            "   macro avg       1.00      1.00      1.00        12\n",
            "weighted avg       1.00      1.00      1.00        12\n",
            "\n",
            "[[6 0]\n",
            " [0 6]]\n",
            "Accuratezza Test: 100.000\n",
            "Precisione  Test: 100.000\n",
            "Sensitività Test: 100.000\n",
            "Specificità Test: 100.000\n",
            "F1 score    Test: 100.000\n",
            "stimatore utilizzato - Support vector machine (SVC)\n",
            "Fitting 5 folds for each of 20 candidates, totalling 100 fits\n"
          ]
        },
        {
          "output_type": "stream",
          "name": "stderr",
          "text": [
            "[Parallel(n_jobs=-1)]: Done 100 out of 100 | elapsed:    0.2s finished\n",
            "/usr/local/lib/python3.7/dist-packages/sklearn/utils/validation.py:760: DataConversionWarning:\n",
            "\n",
            "A column-vector y was passed when a 1d array was expected. Please change the shape of y to (n_samples, ), for example using ravel().\n",
            "\n",
            "[Parallel(n_jobs=-1)]: Using backend LokyBackend with 2 concurrent workers.\n"
          ]
        },
        {
          "output_type": "stream",
          "name": "stdout",
          "text": [
            "Accuratezza fase di Cross Validation con dati di Addestramento/Validazione: 1.000\n",
            "{'kernel': 'linear', 'gamma': 1.0, 'C': 10.0}\n",
            "Accuratezza con dati di Test: 1.000\n",
            "Risultato sui dati di test:\n",
            "              precision    recall  f1-score   support\n",
            "\n",
            "           0       1.00      1.00      1.00         6\n",
            "           1       1.00      1.00      1.00         6\n",
            "\n",
            "    accuracy                           1.00        12\n",
            "   macro avg       1.00      1.00      1.00        12\n",
            "weighted avg       1.00      1.00      1.00        12\n",
            "\n",
            "[[6 0]\n",
            " [0 6]]\n",
            "Accuratezza Test: 100.000\n",
            "Precisione  Test: 100.000\n",
            "Sensitività Test: 100.000\n",
            "Specificità Test: 100.000\n",
            "F1 score    Test: 100.000\n",
            "stimatore utilizzato - KNeighborsClassifier\n",
            "Fitting 5 folds for each of 16 candidates, totalling 80 fits\n"
          ]
        },
        {
          "output_type": "stream",
          "name": "stderr",
          "text": [
            "[Parallel(n_jobs=-1)]: Done  80 out of  80 | elapsed:    0.2s finished\n",
            "/usr/local/lib/python3.7/dist-packages/sklearn/model_selection/_search.py:739: DataConversionWarning:\n",
            "\n",
            "A column-vector y was passed when a 1d array was expected. Please change the shape of y to (n_samples, ), for example using ravel().\n",
            "\n",
            "[Parallel(n_jobs=-1)]: Using backend LokyBackend with 2 concurrent workers.\n"
          ]
        },
        {
          "output_type": "stream",
          "name": "stdout",
          "text": [
            "Accuratezza fase di Cross Validation con dati di Addestramento/Validazione: 0.920\n",
            "{'algorithm': 'auto', 'n_neighbors': 5, 'weights': 'uniform'}\n",
            "Accuratezza con dati di Test: 1.000\n",
            "Risultato sui dati di test:\n",
            "              precision    recall  f1-score   support\n",
            "\n",
            "           0       1.00      1.00      1.00         6\n",
            "           1       1.00      1.00      1.00         6\n",
            "\n",
            "    accuracy                           1.00        12\n",
            "   macro avg       1.00      1.00      1.00        12\n",
            "weighted avg       1.00      1.00      1.00        12\n",
            "\n",
            "[[6 0]\n",
            " [0 6]]\n",
            "Accuratezza Test: 100.000\n",
            "Precisione  Test: 100.000\n",
            "Sensitività Test: 100.000\n",
            "Specificità Test: 100.000\n",
            "F1 score    Test: 100.000\n",
            "stimatore utilizzato - DecisionTreeClassifier\n",
            "Fitting 5 folds for each of 216 candidates, totalling 1080 fits\n"
          ]
        },
        {
          "output_type": "stream",
          "name": "stderr",
          "text": [
            "[Parallel(n_jobs=-1)]: Done 1062 tasks      | elapsed:    1.4s\n",
            "[Parallel(n_jobs=-1)]: Done 1077 out of 1080 | elapsed:    1.4s remaining:    0.0s\n",
            "[Parallel(n_jobs=-1)]: Done 1080 out of 1080 | elapsed:    1.4s finished\n",
            "[Parallel(n_jobs=-1)]: Using backend LokyBackend with 2 concurrent workers.\n"
          ]
        },
        {
          "output_type": "stream",
          "name": "stdout",
          "text": [
            "Accuratezza fase di Cross Validation con dati di Addestramento/Validazione: 0.960\n",
            "{'criterion': 'gini', 'max_depth': 3, 'min_samples_leaf': 1, 'min_samples_split': 2, 'min_weight_fraction_leaf': 0}\n",
            "Accuratezza con dati di Test: 1.000\n",
            "Risultato sui dati di test:\n",
            "              precision    recall  f1-score   support\n",
            "\n",
            "           0       1.00      1.00      1.00         6\n",
            "           1       1.00      1.00      1.00         6\n",
            "\n",
            "    accuracy                           1.00        12\n",
            "   macro avg       1.00      1.00      1.00        12\n",
            "weighted avg       1.00      1.00      1.00        12\n",
            "\n",
            "[[6 0]\n",
            " [0 6]]\n",
            "Accuratezza Test: 100.000\n",
            "Precisione  Test: 100.000\n",
            "Sensitività Test: 100.000\n",
            "Specificità Test: 100.000\n",
            "F1 score    Test: 100.000\n",
            "stimatore utilizzato - Support vector machine (SVC)\n",
            "Fitting 5 folds for each of 20 candidates, totalling 100 fits\n"
          ]
        },
        {
          "output_type": "stream",
          "name": "stderr",
          "text": [
            "[Parallel(n_jobs=-1)]: Done 100 out of 100 | elapsed:    0.2s finished\n",
            "/usr/local/lib/python3.7/dist-packages/sklearn/utils/validation.py:760: DataConversionWarning:\n",
            "\n",
            "A column-vector y was passed when a 1d array was expected. Please change the shape of y to (n_samples, ), for example using ravel().\n",
            "\n",
            "[Parallel(n_jobs=-1)]: Using backend LokyBackend with 2 concurrent workers.\n"
          ]
        },
        {
          "output_type": "stream",
          "name": "stdout",
          "text": [
            "Accuratezza fase di Cross Validation con dati di Addestramento/Validazione: 0.960\n",
            "{'kernel': 'linear', 'gamma': 0.1, 'C': 1.0}\n",
            "Accuratezza con dati di Test: 1.000\n",
            "Risultato sui dati di test:\n",
            "              precision    recall  f1-score   support\n",
            "\n",
            "           0       1.00      1.00      1.00         6\n",
            "           1       1.00      1.00      1.00         6\n",
            "\n",
            "    accuracy                           1.00        12\n",
            "   macro avg       1.00      1.00      1.00        12\n",
            "weighted avg       1.00      1.00      1.00        12\n",
            "\n",
            "[[6 0]\n",
            " [0 6]]\n",
            "Accuratezza Test: 100.000\n",
            "Precisione  Test: 100.000\n",
            "Sensitività Test: 100.000\n",
            "Specificità Test: 100.000\n",
            "F1 score    Test: 100.000\n",
            "stimatore utilizzato - KNeighborsClassifier\n",
            "Fitting 5 folds for each of 16 candidates, totalling 80 fits\n"
          ]
        },
        {
          "output_type": "stream",
          "name": "stderr",
          "text": [
            "[Parallel(n_jobs=-1)]: Done  80 out of  80 | elapsed:    0.3s finished\n",
            "/usr/local/lib/python3.7/dist-packages/sklearn/model_selection/_search.py:739: DataConversionWarning:\n",
            "\n",
            "A column-vector y was passed when a 1d array was expected. Please change the shape of y to (n_samples, ), for example using ravel().\n",
            "\n",
            "[Parallel(n_jobs=-1)]: Using backend LokyBackend with 2 concurrent workers.\n"
          ]
        },
        {
          "output_type": "stream",
          "name": "stdout",
          "text": [
            "Accuratezza fase di Cross Validation con dati di Addestramento/Validazione: 0.920\n",
            "{'algorithm': 'auto', 'n_neighbors': 5, 'weights': 'uniform'}\n",
            "Accuratezza con dati di Test: 0.917\n",
            "Risultato sui dati di test:\n",
            "              precision    recall  f1-score   support\n",
            "\n",
            "           0       0.86      1.00      0.92         6\n",
            "           1       1.00      0.83      0.91         6\n",
            "\n",
            "    accuracy                           0.92        12\n",
            "   macro avg       0.93      0.92      0.92        12\n",
            "weighted avg       0.93      0.92      0.92        12\n",
            "\n",
            "[[6 0]\n",
            " [1 5]]\n",
            "Accuratezza Test: 91.000\n",
            "Precisione  Test: 85.000\n",
            "Sensitività Test: 100.000\n",
            "Specificità Test: 83.000\n",
            "F1 score    Test: 91.000\n",
            "stimatore utilizzato - DecisionTreeClassifier\n",
            "Fitting 5 folds for each of 216 candidates, totalling 1080 fits\n"
          ]
        },
        {
          "output_type": "stream",
          "name": "stderr",
          "text": [
            "[Parallel(n_jobs=-1)]: Done 1062 tasks      | elapsed:    1.2s\n",
            "[Parallel(n_jobs=-1)]: Done 1077 out of 1080 | elapsed:    1.3s remaining:    0.0s\n",
            "[Parallel(n_jobs=-1)]: Done 1080 out of 1080 | elapsed:    1.3s finished\n",
            "[Parallel(n_jobs=-1)]: Using backend LokyBackend with 2 concurrent workers.\n"
          ]
        },
        {
          "output_type": "stream",
          "name": "stdout",
          "text": [
            "Accuratezza fase di Cross Validation con dati di Addestramento/Validazione: 1.000\n",
            "{'criterion': 'gini', 'max_depth': 3, 'min_samples_leaf': 1, 'min_samples_split': 2, 'min_weight_fraction_leaf': 0}\n",
            "Accuratezza con dati di Test: 1.000\n",
            "Risultato sui dati di test:\n",
            "              precision    recall  f1-score   support\n",
            "\n",
            "           0       1.00      1.00      1.00         6\n",
            "           1       1.00      1.00      1.00         6\n",
            "\n",
            "    accuracy                           1.00        12\n",
            "   macro avg       1.00      1.00      1.00        12\n",
            "weighted avg       1.00      1.00      1.00        12\n",
            "\n",
            "[[6 0]\n",
            " [0 6]]\n",
            "Accuratezza Test: 100.000\n",
            "Precisione  Test: 100.000\n",
            "Sensitività Test: 100.000\n",
            "Specificità Test: 100.000\n",
            "F1 score    Test: 100.000\n",
            "stimatore utilizzato - Support vector machine (SVC)\n",
            "Fitting 5 folds for each of 20 candidates, totalling 100 fits\n"
          ]
        },
        {
          "output_type": "stream",
          "name": "stderr",
          "text": [
            "[Parallel(n_jobs=-1)]: Done 100 out of 100 | elapsed:    0.2s finished\n",
            "/usr/local/lib/python3.7/dist-packages/sklearn/utils/validation.py:760: DataConversionWarning:\n",
            "\n",
            "A column-vector y was passed when a 1d array was expected. Please change the shape of y to (n_samples, ), for example using ravel().\n",
            "\n",
            "[Parallel(n_jobs=-1)]: Using backend LokyBackend with 2 concurrent workers.\n",
            "[Parallel(n_jobs=-1)]: Done  77 out of  80 | elapsed:    0.2s remaining:    0.0s\n",
            "[Parallel(n_jobs=-1)]: Done  80 out of  80 | elapsed:    0.2s finished\n"
          ]
        },
        {
          "output_type": "stream",
          "name": "stdout",
          "text": [
            "Accuratezza fase di Cross Validation con dati di Addestramento/Validazione: 1.000\n",
            "{'kernel': 'linear', 'gamma': 1.0, 'C': 0.01}\n",
            "Accuratezza con dati di Test: 1.000\n",
            "Risultato sui dati di test:\n",
            "              precision    recall  f1-score   support\n",
            "\n",
            "           0       1.00      1.00      1.00         6\n",
            "           1       1.00      1.00      1.00         6\n",
            "\n",
            "    accuracy                           1.00        12\n",
            "   macro avg       1.00      1.00      1.00        12\n",
            "weighted avg       1.00      1.00      1.00        12\n",
            "\n",
            "[[6 0]\n",
            " [0 6]]\n",
            "Accuratezza Test: 100.000\n",
            "Precisione  Test: 100.000\n",
            "Sensitività Test: 100.000\n",
            "Specificità Test: 100.000\n",
            "F1 score    Test: 100.000\n",
            "stimatore utilizzato - KNeighborsClassifier\n",
            "Fitting 5 folds for each of 16 candidates, totalling 80 fits\n",
            "Accuratezza fase di Cross Validation con dati di Addestramento/Validazione: 0.960\n",
            "{'algorithm': 'auto', 'n_neighbors': 5, 'weights': 'distance'}\n",
            "Accuratezza con dati di Test: 1.000\n",
            "Risultato sui dati di test:\n",
            "              precision    recall  f1-score   support\n",
            "\n",
            "           0       1.00      1.00      1.00         6\n",
            "           1       1.00      1.00      1.00         6\n",
            "\n",
            "    accuracy                           1.00        12\n",
            "   macro avg       1.00      1.00      1.00        12\n",
            "weighted avg       1.00      1.00      1.00        12\n",
            "\n",
            "[[6 0]\n",
            " [0 6]]\n",
            "Accuratezza Test: 100.000\n",
            "Precisione  Test: 100.000\n",
            "Sensitività Test: 100.000\n",
            "Specificità Test: 100.000\n",
            "F1 score    Test: 100.000\n",
            "stimatore utilizzato - DecisionTreeClassifier\n",
            "Fitting 5 folds for each of 216 candidates, totalling 1080 fits\n"
          ]
        },
        {
          "output_type": "stream",
          "name": "stderr",
          "text": [
            "/usr/local/lib/python3.7/dist-packages/sklearn/model_selection/_search.py:739: DataConversionWarning:\n",
            "\n",
            "A column-vector y was passed when a 1d array was expected. Please change the shape of y to (n_samples, ), for example using ravel().\n",
            "\n",
            "[Parallel(n_jobs=-1)]: Using backend LokyBackend with 2 concurrent workers.\n",
            "[Parallel(n_jobs=-1)]: Done 1062 tasks      | elapsed:    1.1s\n",
            "[Parallel(n_jobs=-1)]: Done 1077 out of 1080 | elapsed:    1.1s remaining:    0.0s\n",
            "[Parallel(n_jobs=-1)]: Done 1080 out of 1080 | elapsed:    1.1s finished\n",
            "[Parallel(n_jobs=-1)]: Using backend LokyBackend with 2 concurrent workers.\n"
          ]
        },
        {
          "output_type": "stream",
          "name": "stdout",
          "text": [
            "Accuratezza fase di Cross Validation con dati di Addestramento/Validazione: 1.000\n",
            "{'criterion': 'gini', 'max_depth': 3, 'min_samples_leaf': 1, 'min_samples_split': 2, 'min_weight_fraction_leaf': 0}\n",
            "Accuratezza con dati di Test: 1.000\n",
            "Risultato sui dati di test:\n",
            "              precision    recall  f1-score   support\n",
            "\n",
            "           0       1.00      1.00      1.00         6\n",
            "           1       1.00      1.00      1.00         6\n",
            "\n",
            "    accuracy                           1.00        12\n",
            "   macro avg       1.00      1.00      1.00        12\n",
            "weighted avg       1.00      1.00      1.00        12\n",
            "\n",
            "[[6 0]\n",
            " [0 6]]\n",
            "Accuratezza Test: 100.000\n",
            "Precisione  Test: 100.000\n",
            "Sensitività Test: 100.000\n",
            "Specificità Test: 100.000\n",
            "F1 score    Test: 100.000\n",
            "stimatore utilizzato - Support vector machine (SVC)\n",
            "Fitting 5 folds for each of 20 candidates, totalling 100 fits\n"
          ]
        },
        {
          "output_type": "stream",
          "name": "stderr",
          "text": [
            "[Parallel(n_jobs=-1)]: Done 100 out of 100 | elapsed:    0.2s finished\n",
            "/usr/local/lib/python3.7/dist-packages/sklearn/utils/validation.py:760: DataConversionWarning:\n",
            "\n",
            "A column-vector y was passed when a 1d array was expected. Please change the shape of y to (n_samples, ), for example using ravel().\n",
            "\n",
            "[Parallel(n_jobs=-1)]: Using backend LokyBackend with 2 concurrent workers.\n",
            "[Parallel(n_jobs=-1)]: Done  80 out of  80 | elapsed:    0.2s finished\n",
            "/usr/local/lib/python3.7/dist-packages/sklearn/model_selection/_search.py:739: DataConversionWarning:\n",
            "\n",
            "A column-vector y was passed when a 1d array was expected. Please change the shape of y to (n_samples, ), for example using ravel().\n",
            "\n"
          ]
        },
        {
          "output_type": "stream",
          "name": "stdout",
          "text": [
            "Accuratezza fase di Cross Validation con dati di Addestramento/Validazione: 1.000\n",
            "{'kernel': 'linear', 'gamma': 1.0, 'C': 0.0001}\n",
            "Accuratezza con dati di Test: 1.000\n",
            "Risultato sui dati di test:\n",
            "              precision    recall  f1-score   support\n",
            "\n",
            "           0       1.00      1.00      1.00         6\n",
            "           1       1.00      1.00      1.00         6\n",
            "\n",
            "    accuracy                           1.00        12\n",
            "   macro avg       1.00      1.00      1.00        12\n",
            "weighted avg       1.00      1.00      1.00        12\n",
            "\n",
            "[[6 0]\n",
            " [0 6]]\n",
            "Accuratezza Test: 100.000\n",
            "Precisione  Test: 100.000\n",
            "Sensitività Test: 100.000\n",
            "Specificità Test: 100.000\n",
            "F1 score    Test: 100.000\n",
            "stimatore utilizzato - KNeighborsClassifier\n",
            "Fitting 5 folds for each of 16 candidates, totalling 80 fits\n",
            "Accuratezza fase di Cross Validation con dati di Addestramento/Validazione: 0.967\n",
            "{'algorithm': 'auto', 'n_neighbors': 5, 'weights': 'distance'}\n",
            "Accuratezza con dati di Test: 1.000\n",
            "Risultato sui dati di test:\n",
            "              precision    recall  f1-score   support\n",
            "\n",
            "           0       1.00      1.00      1.00         6\n",
            "           1       1.00      1.00      1.00         6\n",
            "\n",
            "    accuracy                           1.00        12\n",
            "   macro avg       1.00      1.00      1.00        12\n",
            "weighted avg       1.00      1.00      1.00        12\n",
            "\n",
            "[[6 0]\n",
            " [0 6]]\n",
            "Accuratezza Test: 100.000\n",
            "Precisione  Test: 100.000\n",
            "Sensitività Test: 100.000\n",
            "Specificità Test: 100.000\n",
            "F1 score    Test: 100.000\n",
            "stimatore utilizzato - DecisionTreeClassifier\n",
            "Fitting 5 folds for each of 216 candidates, totalling 1080 fits\n"
          ]
        },
        {
          "output_type": "stream",
          "name": "stderr",
          "text": [
            "[Parallel(n_jobs=-1)]: Using backend LokyBackend with 2 concurrent workers.\n",
            "[Parallel(n_jobs=-1)]: Done 1064 tasks      | elapsed:    1.2s\n",
            "[Parallel(n_jobs=-1)]: Done 1080 out of 1080 | elapsed:    1.2s finished\n",
            "[Parallel(n_jobs=-1)]: Using backend LokyBackend with 2 concurrent workers.\n"
          ]
        },
        {
          "output_type": "stream",
          "name": "stdout",
          "text": [
            "Accuratezza fase di Cross Validation con dati di Addestramento/Validazione: 1.000\n",
            "{'criterion': 'gini', 'max_depth': 3, 'min_samples_leaf': 1, 'min_samples_split': 2, 'min_weight_fraction_leaf': 0}\n",
            "Accuratezza con dati di Test: 1.000\n",
            "Risultato sui dati di test:\n",
            "              precision    recall  f1-score   support\n",
            "\n",
            "           0       1.00      1.00      1.00         6\n",
            "           1       1.00      1.00      1.00         6\n",
            "\n",
            "    accuracy                           1.00        12\n",
            "   macro avg       1.00      1.00      1.00        12\n",
            "weighted avg       1.00      1.00      1.00        12\n",
            "\n",
            "[[6 0]\n",
            " [0 6]]\n",
            "Accuratezza Test: 100.000\n",
            "Precisione  Test: 100.000\n",
            "Sensitività Test: 100.000\n",
            "Specificità Test: 100.000\n",
            "F1 score    Test: 100.000\n",
            "stimatore utilizzato - Support vector machine (SVC)\n",
            "Fitting 5 folds for each of 20 candidates, totalling 100 fits\n"
          ]
        },
        {
          "output_type": "stream",
          "name": "stderr",
          "text": [
            "[Parallel(n_jobs=-1)]: Done 100 out of 100 | elapsed:    0.2s finished\n",
            "/usr/local/lib/python3.7/dist-packages/sklearn/utils/validation.py:760: DataConversionWarning:\n",
            "\n",
            "A column-vector y was passed when a 1d array was expected. Please change the shape of y to (n_samples, ), for example using ravel().\n",
            "\n",
            "[Parallel(n_jobs=-1)]: Using backend LokyBackend with 2 concurrent workers.\n"
          ]
        },
        {
          "output_type": "stream",
          "name": "stdout",
          "text": [
            "Accuratezza fase di Cross Validation con dati di Addestramento/Validazione: 1.000\n",
            "{'kernel': 'linear', 'gamma': 0.01, 'C': 10.0}\n",
            "Accuratezza con dati di Test: 1.000\n",
            "Risultato sui dati di test:\n",
            "              precision    recall  f1-score   support\n",
            "\n",
            "           0       1.00      1.00      1.00         6\n",
            "           1       1.00      1.00      1.00         6\n",
            "\n",
            "    accuracy                           1.00        12\n",
            "   macro avg       1.00      1.00      1.00        12\n",
            "weighted avg       1.00      1.00      1.00        12\n",
            "\n",
            "[[6 0]\n",
            " [0 6]]\n",
            "Accuratezza Test: 100.000\n",
            "Precisione  Test: 100.000\n",
            "Sensitività Test: 100.000\n",
            "Specificità Test: 100.000\n",
            "F1 score    Test: 100.000\n",
            "stimatore utilizzato - KNeighborsClassifier\n",
            "Fitting 5 folds for each of 16 candidates, totalling 80 fits\n"
          ]
        },
        {
          "output_type": "stream",
          "name": "stderr",
          "text": [
            "[Parallel(n_jobs=-1)]: Done  80 out of  80 | elapsed:    0.3s finished\n",
            "/usr/local/lib/python3.7/dist-packages/sklearn/model_selection/_search.py:739: DataConversionWarning:\n",
            "\n",
            "A column-vector y was passed when a 1d array was expected. Please change the shape of y to (n_samples, ), for example using ravel().\n",
            "\n",
            "[Parallel(n_jobs=-1)]: Using backend LokyBackend with 2 concurrent workers.\n"
          ]
        },
        {
          "output_type": "stream",
          "name": "stdout",
          "text": [
            "Accuratezza fase di Cross Validation con dati di Addestramento/Validazione: 0.960\n",
            "{'algorithm': 'auto', 'n_neighbors': 5, 'weights': 'distance'}\n",
            "Accuratezza con dati di Test: 1.000\n",
            "Risultato sui dati di test:\n",
            "              precision    recall  f1-score   support\n",
            "\n",
            "           0       1.00      1.00      1.00         6\n",
            "           1       1.00      1.00      1.00         6\n",
            "\n",
            "    accuracy                           1.00        12\n",
            "   macro avg       1.00      1.00      1.00        12\n",
            "weighted avg       1.00      1.00      1.00        12\n",
            "\n",
            "[[6 0]\n",
            " [0 6]]\n",
            "Accuratezza Test: 100.000\n",
            "Precisione  Test: 100.000\n",
            "Sensitività Test: 100.000\n",
            "Specificità Test: 100.000\n",
            "F1 score    Test: 100.000\n",
            "stimatore utilizzato - DecisionTreeClassifier\n",
            "Fitting 5 folds for each of 216 candidates, totalling 1080 fits\n"
          ]
        },
        {
          "output_type": "stream",
          "name": "stderr",
          "text": [
            "[Parallel(n_jobs=-1)]: Done 1062 tasks      | elapsed:    1.1s\n",
            "[Parallel(n_jobs=-1)]: Done 1077 out of 1080 | elapsed:    1.2s remaining:    0.0s\n",
            "[Parallel(n_jobs=-1)]: Done 1080 out of 1080 | elapsed:    1.2s finished\n",
            "[Parallel(n_jobs=-1)]: Using backend LokyBackend with 2 concurrent workers.\n"
          ]
        },
        {
          "output_type": "stream",
          "name": "stdout",
          "text": [
            "Accuratezza fase di Cross Validation con dati di Addestramento/Validazione: 0.960\n",
            "{'criterion': 'gini', 'max_depth': 3, 'min_samples_leaf': 1, 'min_samples_split': 2, 'min_weight_fraction_leaf': 0}\n",
            "Accuratezza con dati di Test: 1.000\n",
            "Risultato sui dati di test:\n",
            "              precision    recall  f1-score   support\n",
            "\n",
            "           0       1.00      1.00      1.00         6\n",
            "           1       1.00      1.00      1.00         6\n",
            "\n",
            "    accuracy                           1.00        12\n",
            "   macro avg       1.00      1.00      1.00        12\n",
            "weighted avg       1.00      1.00      1.00        12\n",
            "\n",
            "[[6 0]\n",
            " [0 6]]\n",
            "Accuratezza Test: 100.000\n",
            "Precisione  Test: 100.000\n",
            "Sensitività Test: 100.000\n",
            "Specificità Test: 100.000\n",
            "F1 score    Test: 100.000\n",
            "stimatore utilizzato - Support vector machine (SVC)\n",
            "Fitting 5 folds for each of 20 candidates, totalling 100 fits\n",
            "Accuratezza fase di Cross Validation con dati di Addestramento/Validazione: 0.960\n",
            "{'kernel': 'linear', 'gamma': 0.0001, 'C': 0.001}\n",
            "Accuratezza con dati di Test: 1.000\n",
            "Risultato sui dati di test:\n",
            "              precision    recall  f1-score   support\n",
            "\n",
            "           0       1.00      1.00      1.00         6\n",
            "           1       1.00      1.00      1.00         6\n",
            "\n",
            "    accuracy                           1.00        12\n",
            "   macro avg       1.00      1.00      1.00        12\n",
            "weighted avg       1.00      1.00      1.00        12\n",
            "\n",
            "[[6 0]\n",
            " [0 6]]\n",
            "Accuratezza Test: 100.000\n",
            "Precisione  Test: 100.000\n",
            "Sensitività Test: 100.000\n",
            "Specificità Test: 100.000\n",
            "F1 score    Test: 100.000\n",
            "stimatore utilizzato - KNeighborsClassifier\n"
          ]
        },
        {
          "output_type": "stream",
          "name": "stderr",
          "text": [
            "[Parallel(n_jobs=-1)]: Done 100 out of 100 | elapsed:    0.2s finished\n",
            "/usr/local/lib/python3.7/dist-packages/sklearn/utils/validation.py:760: DataConversionWarning:\n",
            "\n",
            "A column-vector y was passed when a 1d array was expected. Please change the shape of y to (n_samples, ), for example using ravel().\n",
            "\n",
            "[Parallel(n_jobs=-1)]: Using backend LokyBackend with 2 concurrent workers.\n"
          ]
        },
        {
          "output_type": "stream",
          "name": "stdout",
          "text": [
            "Fitting 5 folds for each of 16 candidates, totalling 80 fits\n",
            "Accuratezza fase di Cross Validation con dati di Addestramento/Validazione: 0.960\n",
            "{'algorithm': 'auto', 'n_neighbors': 5, 'weights': 'uniform'}\n",
            "Accuratezza con dati di Test: 0.917\n",
            "Risultato sui dati di test:\n",
            "              precision    recall  f1-score   support\n",
            "\n",
            "           0       0.86      1.00      0.92         6\n",
            "           1       1.00      0.83      0.91         6\n",
            "\n",
            "    accuracy                           0.92        12\n",
            "   macro avg       0.93      0.92      0.92        12\n",
            "weighted avg       0.93      0.92      0.92        12\n",
            "\n",
            "[[6 0]\n",
            " [1 5]]\n",
            "Accuratezza Test: 91.000\n",
            "Precisione  Test: 85.000\n",
            "Sensitività Test: 100.000\n",
            "Specificità Test: 83.000\n",
            "F1 score    Test: 91.000\n"
          ]
        },
        {
          "output_type": "stream",
          "name": "stderr",
          "text": [
            "[Parallel(n_jobs=-1)]: Done  80 out of  80 | elapsed:    0.2s finished\n",
            "/usr/local/lib/python3.7/dist-packages/sklearn/model_selection/_search.py:739: DataConversionWarning:\n",
            "\n",
            "A column-vector y was passed when a 1d array was expected. Please change the shape of y to (n_samples, ), for example using ravel().\n",
            "\n"
          ]
        }
      ]
    },
    {
      "cell_type": "markdown",
      "metadata": {
        "id": "cChFeKUo2oEW"
      },
      "source": [
        "#### Caso1 AD vs HCF"
      ]
    },
    {
      "cell_type": "code",
      "metadata": {
        "id": "S01cV-rE2oEX"
      },
      "source": [
        "df=ADHC.loc[:,0]\n",
        "\n",
        "X = df.to_numpy()\n",
        "\n",
        "Y = ADHC.loc[:,1]\n",
        "y = Y.to_numpy()"
      ],
      "execution_count": null,
      "outputs": []
    },
    {
      "cell_type": "code",
      "metadata": {
        "id": "NFTv1ijx2oEX"
      },
      "source": [
        "y = np.where(y == 1, 1, 0)"
      ],
      "execution_count": null,
      "outputs": []
    },
    {
      "cell_type": "code",
      "metadata": {
        "colab": {
          "base_uri": "https://localhost:8080/"
        },
        "id": "u9vMBX_y2oEX",
        "outputId": "346c1d34-7d8a-4bf7-c2ca-f85bb30b8dab"
      },
      "source": [
        "X,y"
      ],
      "execution_count": null,
      "outputs": [
        {
          "output_type": "execute_result",
          "data": {
            "text/plain": [
              "(array([ 96881.92504922, 301625.11195504,  82365.70110552, 114048.6116547 ,\n",
              "         85050.10425964,  91549.64283816,  70598.76634862,  58197.31161474,\n",
              "        146907.82353029,  85218.57530681,  78643.45951506, 114702.54400895,\n",
              "        374269.30197785,  87757.68123726, 100860.31462516, 132631.32341206,\n",
              "         67718.26613494, 117923.69948617,  71350.40514532,  12021.01544772,\n",
              "         12064.99017151,   4789.7237232 ,   2301.07033975,   1638.0970265 ,\n",
              "         16848.46027993,   6961.26646848,   3450.06645324,  32373.7157496 ,\n",
              "          5175.95101925,   1738.90593996,  14643.96382919,   8182.36145671,\n",
              "          4700.91976004,   1982.43582177,   1621.87963221,  11283.01908617,\n",
              "          4535.72335584,   2904.28473223]),\n",
              " array([1, 1, 1, 1, 1, 1, 1, 1, 1, 1, 1, 1, 1, 1, 1, 1, 1, 1, 1, 0, 0, 0,\n",
              "        0, 0, 0, 0, 0, 0, 0, 0, 0, 0, 0, 0, 0, 0, 0, 0]))"
            ]
          },
          "metadata": {},
          "execution_count": 631
        }
      ]
    },
    {
      "cell_type": "code",
      "metadata": {
        "id": "mlbqmcMl2oEX"
      },
      "source": [
        "df=ADHC.loc[:,0]\n",
        "\n",
        "X = df.to_numpy()\n",
        "\n",
        "Y = ADHC.loc[:,1]\n",
        "y = Y.to_numpy()\n",
        "y = np.where(y == 1, 1, 0)\n",
        "#from sklearn.model_selection import train_test_split\n",
        "\n",
        "\n",
        "X_train, X_test, y_train, y_test = train_test_split(X, y, test_size=0.3,stratify=y,random_state=42)\n",
        "\n",
        "#pca = PCA(n_components=2)\n",
        "\n",
        "#X_train_pca = pca.fit_transform(X_train)\n",
        "#X_test_pca = pca.transform(X_test)\n",
        "\n",
        "X_train_caso1=X_train\n",
        "X_test_caso1=X_test\n",
        "y_train_caso1=y_train\n",
        "y_test_caso1=y_test\n",
        "\n"
      ],
      "execution_count": null,
      "outputs": []
    },
    {
      "cell_type": "code",
      "metadata": {
        "id": "af9uVCSj2oEY"
      },
      "source": [
        "X_train_caso1=X_train_caso1.reshape(-1,1)\n",
        "X_test_caso1=X_test_caso1.reshape(-1,1)\n",
        "y_train_caso1=y_train_caso1.reshape(-1,1)\n",
        "y_test_caso1=y_test_caso1.reshape(-1,1)\n"
      ],
      "execution_count": null,
      "outputs": []
    },
    {
      "cell_type": "code",
      "metadata": {
        "id": "z5RQoTYl2oEY"
      },
      "source": [
        ""
      ],
      "execution_count": null,
      "outputs": []
    },
    {
      "cell_type": "code",
      "metadata": {
        "colab": {
          "base_uri": "https://localhost:8080/"
        },
        "id": "U6Evm7z02oEY",
        "outputId": "3d123813-fbc2-4a64-f4dd-1e181f85d69e"
      },
      "source": [
        "tuning_albero_decisione(1,5)"
      ],
      "execution_count": null,
      "outputs": [
        {
          "output_type": "stream",
          "name": "stdout",
          "text": [
            "Fitting 5 folds for each of 216 candidates, totalling 1080 fits\n"
          ]
        },
        {
          "output_type": "stream",
          "name": "stderr",
          "text": [
            "[Parallel(n_jobs=-1)]: Using backend LokyBackend with 2 concurrent workers.\n"
          ]
        },
        {
          "output_type": "stream",
          "name": "stdout",
          "text": [
            "Accuratezza fase di Cross Validation con dati di Addestramento/Validazione: 1.000\n",
            "{'criterion': 'gini', 'max_depth': 3, 'min_samples_leaf': 1, 'min_samples_split': 2, 'min_weight_fraction_leaf': 0}\n",
            "Accuratezza con dati di Test: 1.000\n",
            "Risultato sui dati di test:\n",
            "              precision    recall  f1-score   support\n",
            "\n",
            "           0       1.00      1.00      1.00         6\n",
            "           1       1.00      1.00      1.00         6\n",
            "\n",
            "    accuracy                           1.00        12\n",
            "   macro avg       1.00      1.00      1.00        12\n",
            "weighted avg       1.00      1.00      1.00        12\n",
            "\n",
            "[[6 0]\n",
            " [0 6]]\n",
            "Accuratezza Test: 100.000\n",
            "Precisione  Test: 100.000\n",
            "Sensitività Test: 100.000\n",
            "Specificità Test: 100.000\n",
            "F1 score    Test: 100.000\n"
          ]
        },
        {
          "output_type": "stream",
          "name": "stderr",
          "text": [
            "[Parallel(n_jobs=-1)]: Done 1062 tasks      | elapsed:    1.1s\n",
            "[Parallel(n_jobs=-1)]: Done 1077 out of 1080 | elapsed:    1.2s remaining:    0.0s\n",
            "[Parallel(n_jobs=-1)]: Done 1080 out of 1080 | elapsed:    1.2s finished\n"
          ]
        }
      ]
    },
    {
      "cell_type": "code",
      "metadata": {
        "colab": {
          "base_uri": "https://localhost:8080/"
        },
        "id": "o3TWyeQd2oEY",
        "outputId": "ec6eeecf-4532-4537-8d11-18b43910238b"
      },
      "source": [
        "tuning_SVM(1,5)"
      ],
      "execution_count": null,
      "outputs": [
        {
          "output_type": "stream",
          "name": "stdout",
          "text": [
            "Fitting 5 folds for each of 2 candidates, totalling 10 fits\n",
            "Accuratezza fase di Cross Validation con dati di Addestramento/Validazione: 1.000\n",
            "{'kernel': 'linear'}\n",
            "Accuratezza con dati di Test: 1.000\n",
            "Risultato sui dati di test:\n",
            "              precision    recall  f1-score   support\n",
            "\n",
            "           0       1.00      1.00      1.00         6\n",
            "           1       1.00      1.00      1.00         6\n",
            "\n",
            "    accuracy                           1.00        12\n",
            "   macro avg       1.00      1.00      1.00        12\n",
            "weighted avg       1.00      1.00      1.00        12\n",
            "\n",
            "[[6 0]\n",
            " [0 6]]\n",
            "Accuratezza Test: 100.000\n",
            "Precisione  Test: 100.000\n",
            "Sensitività Test: 100.000\n",
            "Specificità Test: 100.000\n",
            "F1 score    Test: 100.000\n"
          ]
        },
        {
          "output_type": "stream",
          "name": "stderr",
          "text": [
            "/usr/local/lib/python3.7/dist-packages/sklearn/model_selection/_search.py:281: UserWarning:\n",
            "\n",
            "The total space of parameters 2 is smaller than n_iter=20. Running 2 iterations. For exhaustive searches, use GridSearchCV.\n",
            "\n",
            "[Parallel(n_jobs=-1)]: Using backend LokyBackend with 2 concurrent workers.\n",
            "[Parallel(n_jobs=-1)]: Done  10 out of  10 | elapsed:    0.0s finished\n",
            "/usr/local/lib/python3.7/dist-packages/sklearn/utils/validation.py:760: DataConversionWarning:\n",
            "\n",
            "A column-vector y was passed when a 1d array was expected. Please change the shape of y to (n_samples, ), for example using ravel().\n",
            "\n"
          ]
        }
      ]
    },
    {
      "cell_type": "code",
      "metadata": {
        "id": "gcSp9AzF2oEZ"
      },
      "source": [
        "#tuning_foresta(1,10)"
      ],
      "execution_count": null,
      "outputs": []
    },
    {
      "cell_type": "code",
      "metadata": {
        "id": "HiXrpojt2oEZ"
      },
      "source": [
        "#tuning_albero_decisione_CV(1,10)"
      ],
      "execution_count": null,
      "outputs": []
    },
    {
      "cell_type": "code",
      "metadata": {
        "id": "ywvXBc4U2oEZ"
      },
      "source": [
        "#tuning_SVM_CV(1,10)"
      ],
      "execution_count": null,
      "outputs": []
    },
    {
      "cell_type": "code",
      "metadata": {
        "id": "lvuO8GxF2oEZ"
      },
      "source": [
        "#validazione_incrociata_kfold(1,10,1)"
      ],
      "execution_count": null,
      "outputs": []
    },
    {
      "cell_type": "code",
      "metadata": {
        "id": "fCN7Byrz2oEa"
      },
      "source": [
        "#validazione_incrociata_kfold(1,10,2)"
      ],
      "execution_count": null,
      "outputs": []
    },
    {
      "cell_type": "code",
      "metadata": {
        "id": "LCTMQBvm2oEa"
      },
      "source": [
        "#validazione_incrociata_score(1,10,1)"
      ],
      "execution_count": null,
      "outputs": []
    },
    {
      "cell_type": "code",
      "metadata": {
        "id": "uHGWP4jX2oEa"
      },
      "source": [
        "#validazione_incrociata_score(1,10,2)"
      ],
      "execution_count": null,
      "outputs": []
    },
    {
      "cell_type": "code",
      "metadata": {
        "id": "32pyq2-b2oEa"
      },
      "source": [
        "#prova_pipeline(1,2)"
      ],
      "execution_count": null,
      "outputs": []
    },
    {
      "cell_type": "code",
      "metadata": {
        "id": "ImuhCe812oEb"
      },
      "source": [
        ""
      ],
      "execution_count": null,
      "outputs": []
    },
    {
      "cell_type": "code",
      "metadata": {
        "colab": {
          "base_uri": "https://localhost:8080/"
        },
        "id": "qxzd7V8s2oEb",
        "outputId": "eaeed3da-f801-4381-9893-ab92ffbfb1fa"
      },
      "source": [
        "tuning_KNN(1,5)"
      ],
      "execution_count": null,
      "outputs": [
        {
          "output_type": "stream",
          "name": "stderr",
          "text": [
            "[Parallel(n_jobs=-1)]: Using backend LokyBackend with 2 concurrent workers.\n"
          ]
        },
        {
          "output_type": "stream",
          "name": "stdout",
          "text": [
            "Fitting 5 folds for each of 16 candidates, totalling 80 fits\n",
            "Accuratezza fase di Cross Validation con dati di Addestramento/Validazione: 1.000\n",
            "{'algorithm': 'auto', 'n_neighbors': 5, 'weights': 'uniform'}\n",
            "Accuratezza con dati di Test: 1.000\n",
            "Risultato sui dati di test:\n",
            "              precision    recall  f1-score   support\n",
            "\n",
            "           0       1.00      1.00      1.00         6\n",
            "           1       1.00      1.00      1.00         6\n",
            "\n",
            "    accuracy                           1.00        12\n",
            "   macro avg       1.00      1.00      1.00        12\n",
            "weighted avg       1.00      1.00      1.00        12\n",
            "\n",
            "[[6 0]\n",
            " [0 6]]\n",
            "Accuratezza Test: 100.000\n",
            "Precisione  Test: 100.000\n",
            "Sensitività Test: 100.000\n",
            "Specificità Test: 100.000\n",
            "F1 score    Test: 100.000\n"
          ]
        },
        {
          "output_type": "stream",
          "name": "stderr",
          "text": [
            "[Parallel(n_jobs=-1)]: Done  77 out of  80 | elapsed:    0.2s remaining:    0.0s\n",
            "[Parallel(n_jobs=-1)]: Done  80 out of  80 | elapsed:    0.2s finished\n",
            "/usr/local/lib/python3.7/dist-packages/sklearn/model_selection/_search.py:739: DataConversionWarning:\n",
            "\n",
            "A column-vector y was passed when a 1d array was expected. Please change the shape of y to (n_samples, ), for example using ravel().\n",
            "\n"
          ]
        }
      ]
    },
    {
      "cell_type": "code",
      "metadata": {
        "id": "aAuF19OX2oEb"
      },
      "source": [
        "#tuning_MP(1,5)"
      ],
      "execution_count": null,
      "outputs": []
    },
    {
      "cell_type": "code",
      "metadata": {
        "id": "8KiUMtPt2oEb"
      },
      "source": [
        "#tuning_LR(1,5)"
      ],
      "execution_count": null,
      "outputs": []
    },
    {
      "cell_type": "code",
      "metadata": {
        "id": "prhOfx4S2oEc"
      },
      "source": [
        "#tuning_foresta(1,5)"
      ],
      "execution_count": null,
      "outputs": []
    },
    {
      "cell_type": "code",
      "metadata": {
        "id": "KK-cqFJK2oEc"
      },
      "source": [
        ""
      ],
      "execution_count": null,
      "outputs": []
    },
    {
      "cell_type": "code",
      "metadata": {
        "id": "cjY1PV2Qg88h"
      },
      "source": [
        ""
      ],
      "execution_count": null,
      "outputs": []
    },
    {
      "cell_type": "code",
      "metadata": {
        "id": "r9-FqbwkhE8O"
      },
      "source": [
        ""
      ],
      "execution_count": null,
      "outputs": []
    },
    {
      "cell_type": "markdown",
      "metadata": {
        "id": "Rj_mdFmkTzHT"
      },
      "source": [
        "#### 10 RUN AD vs MCI"
      ]
    },
    {
      "cell_type": "code",
      "metadata": {
        "id": "D-MNzsIJKQcs",
        "colab": {
          "base_uri": "https://localhost:8080/"
        },
        "outputId": "47fa857e-a6ae-4f0b-bc1c-ab820bd5263d"
      },
      "source": [
        "for i in range(10):\n",
        "    df=ADMCI.loc[:,0]\n",
        "\n",
        "    X = df.to_numpy()\n",
        "\n",
        "    Y = ADMCI.loc[:,1]\n",
        "    y = Y.to_numpy()\n",
        "    y = np.where(y == 1, 1, 0)\n",
        "    #from sklearn.model_selection import train_test_split\n",
        "\n",
        "    X_train, X_test, y_train, y_test = train_test_split(X, y, test_size=0.3,stratify=y)\n",
        "\n",
        "    #pca = PCA(n_components=5)\n",
        "\n",
        "    #X_train_pca = pca.fit_transform(X_train)\n",
        "    #X_test_pca = pca.transform(X_test)\n",
        "\n",
        "    X_train_caso2=X_train\n",
        "    X_test_caso2=X_test\n",
        "    y_train_caso2=y_train\n",
        "    y_test_caso2=y_test\n",
        "    X_train_caso2=X_train_caso2.reshape(-1,1)\n",
        "    X_test_caso2=X_test_caso2.reshape(-1,1)\n",
        "    y_train_caso2=y_train_caso2.reshape(-1,1)\n",
        "    y_test_caso2=y_test_caso2.reshape(-1,1)\n",
        "\n",
        "    tuning_albero_decisione(2,5)\n",
        "    tuning_SVM(2,5)\n",
        "    tuning_KNN(2,5)"
      ],
      "execution_count": null,
      "outputs": [
        {
          "output_type": "stream",
          "name": "stdout",
          "text": [
            "stimatore utilizzato - DecisionTreeClassifier\n",
            "Fitting 5 folds for each of 216 candidates, totalling 1080 fits\n"
          ]
        },
        {
          "output_type": "stream",
          "name": "stderr",
          "text": [
            "[Parallel(n_jobs=-1)]: Using backend LokyBackend with 2 concurrent workers.\n",
            "[Parallel(n_jobs=-1)]: Done 1038 tasks      | elapsed:    1.9s\n",
            "[Parallel(n_jobs=-1)]: Done 1080 out of 1080 | elapsed:    2.0s finished\n",
            "/usr/local/lib/python3.7/dist-packages/sklearn/model_selection/_search.py:281: UserWarning:\n",
            "\n",
            "The total space of parameters 2 is smaller than n_iter=20. Running 2 iterations. For exhaustive searches, use GridSearchCV.\n",
            "\n",
            "[Parallel(n_jobs=-1)]: Using backend LokyBackend with 2 concurrent workers.\n"
          ]
        },
        {
          "output_type": "stream",
          "name": "stdout",
          "text": [
            "Accuratezza fase di Cross Validation con dati di Addestramento/Validazione: 0.693\n",
            "{'criterion': 'gini', 'max_depth': 3, 'min_samples_leaf': 1, 'min_samples_split': 2, 'min_weight_fraction_leaf': 0}\n",
            "Accuratezza con dati di Test: 0.417\n",
            "Risultato sui dati di test:\n",
            "              precision    recall  f1-score   support\n",
            "\n",
            "           0       0.40      0.33      0.36         6\n",
            "           1       0.43      0.50      0.46         6\n",
            "\n",
            "    accuracy                           0.42        12\n",
            "   macro avg       0.41      0.42      0.41        12\n",
            "weighted avg       0.41      0.42      0.41        12\n",
            "\n",
            "[[2 4]\n",
            " [3 3]]\n",
            "Accuratezza Test: 41.000\n",
            "Precisione  Test: 40.000\n",
            "Sensitività Test: 33.000\n",
            "Specificità Test: 50.000\n",
            "F1 score    Test: 36.000\n",
            "stimatore utilizzato - Support vector machine (SVC)\n",
            "Fitting 5 folds for each of 2 candidates, totalling 10 fits\n"
          ]
        },
        {
          "output_type": "stream",
          "name": "stderr",
          "text": [
            "[Parallel(n_jobs=-1)]: Done  10 out of  10 | elapsed:   27.6s finished\n",
            "/usr/local/lib/python3.7/dist-packages/sklearn/utils/validation.py:760: DataConversionWarning:\n",
            "\n",
            "A column-vector y was passed when a 1d array was expected. Please change the shape of y to (n_samples, ), for example using ravel().\n",
            "\n"
          ]
        },
        {
          "output_type": "stream",
          "name": "stdout",
          "text": [
            "Accuratezza fase di Cross Validation con dati di Addestramento/Validazione: 0.773\n",
            "{'kernel': 'linear'}\n",
            "Accuratezza con dati di Test: 0.583\n",
            "Risultato sui dati di test:\n",
            "              precision    recall  f1-score   support\n",
            "\n",
            "           0       0.60      0.50      0.55         6\n",
            "           1       0.57      0.67      0.62         6\n",
            "\n",
            "    accuracy                           0.58        12\n",
            "   macro avg       0.59      0.58      0.58        12\n",
            "weighted avg       0.59      0.58      0.58        12\n",
            "\n",
            "[[3 3]\n",
            " [2 4]]\n",
            "Accuratezza Test: 58.000\n",
            "Precisione  Test: 60.000\n",
            "Sensitività Test: 50.000\n",
            "Specificità Test: 66.000\n",
            "F1 score    Test: 54.000\n",
            "stimatore utilizzato - KNeighborsClassifier\n",
            "Fitting 5 folds for each of 16 candidates, totalling 80 fits\n",
            "Accuratezza fase di Cross Validation con dati di Addestramento/Validazione: 0.813\n",
            "{'algorithm': 'auto', 'n_neighbors': 5, 'weights': 'uniform'}\n",
            "Accuratezza con dati di Test: 0.583\n",
            "Risultato sui dati di test:\n"
          ]
        },
        {
          "output_type": "stream",
          "name": "stderr",
          "text": [
            "[Parallel(n_jobs=-1)]: Using backend LokyBackend with 2 concurrent workers.\n",
            "[Parallel(n_jobs=-1)]: Done  80 out of  80 | elapsed:    0.2s finished\n",
            "/usr/local/lib/python3.7/dist-packages/sklearn/model_selection/_search.py:739: DataConversionWarning:\n",
            "\n",
            "A column-vector y was passed when a 1d array was expected. Please change the shape of y to (n_samples, ), for example using ravel().\n",
            "\n",
            "[Parallel(n_jobs=-1)]: Using backend LokyBackend with 2 concurrent workers.\n"
          ]
        },
        {
          "output_type": "stream",
          "name": "stdout",
          "text": [
            "              precision    recall  f1-score   support\n",
            "\n",
            "           0       0.60      0.50      0.55         6\n",
            "           1       0.57      0.67      0.62         6\n",
            "\n",
            "    accuracy                           0.58        12\n",
            "   macro avg       0.59      0.58      0.58        12\n",
            "weighted avg       0.59      0.58      0.58        12\n",
            "\n",
            "[[3 3]\n",
            " [2 4]]\n",
            "Accuratezza Test: 58.000\n",
            "Precisione  Test: 60.000\n",
            "Sensitività Test: 50.000\n",
            "Specificità Test: 66.000\n",
            "F1 score    Test: 54.000\n",
            "stimatore utilizzato - DecisionTreeClassifier\n",
            "Fitting 5 folds for each of 216 candidates, totalling 1080 fits\n"
          ]
        },
        {
          "output_type": "stream",
          "name": "stderr",
          "text": [
            "[Parallel(n_jobs=-1)]: Done 1021 tasks      | elapsed:    1.2s\n",
            "[Parallel(n_jobs=-1)]: Done 1080 out of 1080 | elapsed:    1.3s finished\n",
            "/usr/local/lib/python3.7/dist-packages/sklearn/model_selection/_search.py:281: UserWarning:\n",
            "\n",
            "The total space of parameters 2 is smaller than n_iter=20. Running 2 iterations. For exhaustive searches, use GridSearchCV.\n",
            "\n",
            "[Parallel(n_jobs=-1)]: Using backend LokyBackend with 2 concurrent workers.\n"
          ]
        },
        {
          "output_type": "stream",
          "name": "stdout",
          "text": [
            "Accuratezza fase di Cross Validation con dati di Addestramento/Validazione: 0.733\n",
            "{'criterion': 'gini', 'max_depth': 3, 'min_samples_leaf': 1, 'min_samples_split': 2, 'min_weight_fraction_leaf': 0}\n",
            "Accuratezza con dati di Test: 0.583\n",
            "Risultato sui dati di test:\n",
            "              precision    recall  f1-score   support\n",
            "\n",
            "           0       0.67      0.33      0.44         6\n",
            "           1       0.56      0.83      0.67         6\n",
            "\n",
            "    accuracy                           0.58        12\n",
            "   macro avg       0.61      0.58      0.56        12\n",
            "weighted avg       0.61      0.58      0.56        12\n",
            "\n",
            "[[2 4]\n",
            " [1 5]]\n",
            "Accuratezza Test: 58.000\n",
            "Precisione  Test: 66.000\n",
            "Sensitività Test: 33.000\n",
            "Specificità Test: 83.000\n",
            "F1 score    Test: 44.000\n",
            "stimatore utilizzato - Support vector machine (SVC)\n",
            "Fitting 5 folds for each of 2 candidates, totalling 10 fits\n"
          ]
        },
        {
          "output_type": "stream",
          "name": "stderr",
          "text": [
            "[Parallel(n_jobs=-1)]: Done  10 out of  10 | elapsed:  2.5min finished\n",
            "/usr/local/lib/python3.7/dist-packages/sklearn/utils/validation.py:760: DataConversionWarning:\n",
            "\n",
            "A column-vector y was passed when a 1d array was expected. Please change the shape of y to (n_samples, ), for example using ravel().\n",
            "\n"
          ]
        },
        {
          "output_type": "stream",
          "name": "stdout",
          "text": [
            "Accuratezza fase di Cross Validation con dati di Addestramento/Validazione: 0.613\n",
            "{'kernel': 'linear'}\n",
            "Accuratezza con dati di Test: 0.750\n",
            "Risultato sui dati di test:\n",
            "              precision    recall  f1-score   support\n",
            "\n",
            "           0       0.80      0.67      0.73         6\n",
            "           1       0.71      0.83      0.77         6\n",
            "\n",
            "    accuracy                           0.75        12\n",
            "   macro avg       0.76      0.75      0.75        12\n",
            "weighted avg       0.76      0.75      0.75        12\n",
            "\n",
            "[[4 2]\n",
            " [1 5]]\n",
            "Accuratezza Test: 75.000\n",
            "Precisione  Test: 80.000\n",
            "Sensitività Test: 66.000\n",
            "Specificità Test: 83.000\n",
            "F1 score    Test: 72.000\n",
            "stimatore utilizzato - KNeighborsClassifier\n",
            "Fitting 5 folds for each of 16 candidates, totalling 80 fits\n",
            "Accuratezza fase di Cross Validation con dati di Addestramento/Validazione: 0.727\n",
            "{'algorithm': 'auto', 'n_neighbors': 5, 'weights': 'distance'}\n",
            "Accuratezza con dati di Test: 0.667\n",
            "Risultato sui dati di test:\n",
            "              precision    recall  f1-score   support\n",
            "\n",
            "           0       0.67      0.67      0.67         6\n",
            "           1       0.67      0.67      0.67         6\n",
            "\n",
            "    accuracy                           0.67        12\n",
            "   macro avg       0.67      0.67      0.67        12\n",
            "weighted avg       0.67      0.67      0.67        12\n",
            "\n",
            "[[4 2]\n",
            " [2 4]]\n",
            "Accuratezza Test: 66.000\n",
            "Precisione  Test: 66.000\n",
            "Sensitività Test: 66.000\n",
            "Specificità Test: 66.000\n",
            "F1 score    Test: 66.000\n",
            "stimatore utilizzato - DecisionTreeClassifier\n"
          ]
        },
        {
          "output_type": "stream",
          "name": "stderr",
          "text": [
            "[Parallel(n_jobs=-1)]: Using backend LokyBackend with 2 concurrent workers.\n",
            "[Parallel(n_jobs=-1)]: Done  80 out of  80 | elapsed:    0.2s finished\n",
            "/usr/local/lib/python3.7/dist-packages/sklearn/model_selection/_search.py:739: DataConversionWarning:\n",
            "\n",
            "A column-vector y was passed when a 1d array was expected. Please change the shape of y to (n_samples, ), for example using ravel().\n",
            "\n",
            "[Parallel(n_jobs=-1)]: Using backend LokyBackend with 2 concurrent workers.\n"
          ]
        },
        {
          "output_type": "stream",
          "name": "stdout",
          "text": [
            "Fitting 5 folds for each of 216 candidates, totalling 1080 fits\n"
          ]
        },
        {
          "output_type": "stream",
          "name": "stderr",
          "text": [
            "[Parallel(n_jobs=-1)]: Done 1062 tasks      | elapsed:    1.1s\n",
            "[Parallel(n_jobs=-1)]: Done 1077 out of 1080 | elapsed:    1.2s remaining:    0.0s\n",
            "[Parallel(n_jobs=-1)]: Done 1080 out of 1080 | elapsed:    1.2s finished\n",
            "/usr/local/lib/python3.7/dist-packages/sklearn/model_selection/_search.py:281: UserWarning:\n",
            "\n",
            "The total space of parameters 2 is smaller than n_iter=20. Running 2 iterations. For exhaustive searches, use GridSearchCV.\n",
            "\n",
            "[Parallel(n_jobs=-1)]: Using backend LokyBackend with 2 concurrent workers.\n"
          ]
        },
        {
          "output_type": "stream",
          "name": "stdout",
          "text": [
            "Accuratezza fase di Cross Validation con dati di Addestramento/Validazione: 0.620\n",
            "{'criterion': 'gini', 'max_depth': 3, 'min_samples_leaf': 3, 'min_samples_split': 2, 'min_weight_fraction_leaf': 0}\n",
            "Accuratezza con dati di Test: 0.500\n",
            "Risultato sui dati di test:\n",
            "              precision    recall  f1-score   support\n",
            "\n",
            "           0       0.50      0.50      0.50         6\n",
            "           1       0.50      0.50      0.50         6\n",
            "\n",
            "    accuracy                           0.50        12\n",
            "   macro avg       0.50      0.50      0.50        12\n",
            "weighted avg       0.50      0.50      0.50        12\n",
            "\n",
            "[[3 3]\n",
            " [3 3]]\n",
            "Accuratezza Test: 50.000\n",
            "Precisione  Test: 50.000\n",
            "Sensitività Test: 50.000\n",
            "Specificità Test: 50.000\n",
            "F1 score    Test: 50.000\n",
            "stimatore utilizzato - Support vector machine (SVC)\n",
            "Fitting 5 folds for each of 2 candidates, totalling 10 fits\n"
          ]
        },
        {
          "output_type": "stream",
          "name": "stderr",
          "text": [
            "[Parallel(n_jobs=-1)]: Done  10 out of  10 | elapsed:  1.1min finished\n",
            "/usr/local/lib/python3.7/dist-packages/sklearn/utils/validation.py:760: DataConversionWarning:\n",
            "\n",
            "A column-vector y was passed when a 1d array was expected. Please change the shape of y to (n_samples, ), for example using ravel().\n",
            "\n"
          ]
        },
        {
          "output_type": "stream",
          "name": "stdout",
          "text": [
            "Accuratezza fase di Cross Validation con dati di Addestramento/Validazione: 0.580\n",
            "{'kernel': 'linear'}\n",
            "Accuratezza con dati di Test: 0.583\n",
            "Risultato sui dati di test:\n",
            "              precision    recall  f1-score   support\n",
            "\n",
            "           0       1.00      0.17      0.29         6\n",
            "           1       0.55      1.00      0.71         6\n",
            "\n",
            "    accuracy                           0.58        12\n",
            "   macro avg       0.77      0.58      0.50        12\n",
            "weighted avg       0.77      0.58      0.50        12\n",
            "\n",
            "[[1 5]\n",
            " [0 6]]\n",
            "Accuratezza Test: 58.000\n",
            "Precisione  Test: 100.000\n",
            "Sensitività Test: 16.000\n",
            "Specificità Test: 100.000\n",
            "F1 score    Test: 27.000\n",
            "stimatore utilizzato - KNeighborsClassifier\n",
            "Fitting 5 folds for each of 16 candidates, totalling 80 fits\n"
          ]
        },
        {
          "output_type": "stream",
          "name": "stderr",
          "text": [
            "[Parallel(n_jobs=-1)]: Using backend LokyBackend with 2 concurrent workers.\n",
            "[Parallel(n_jobs=-1)]: Done  80 out of  80 | elapsed:    0.2s finished\n",
            "/usr/local/lib/python3.7/dist-packages/sklearn/model_selection/_search.py:739: DataConversionWarning:\n",
            "\n",
            "A column-vector y was passed when a 1d array was expected. Please change the shape of y to (n_samples, ), for example using ravel().\n",
            "\n",
            "[Parallel(n_jobs=-1)]: Using backend LokyBackend with 2 concurrent workers.\n"
          ]
        },
        {
          "output_type": "stream",
          "name": "stdout",
          "text": [
            "Accuratezza fase di Cross Validation con dati di Addestramento/Validazione: 0.693\n",
            "{'algorithm': 'auto', 'n_neighbors': 5, 'weights': 'uniform'}\n",
            "Accuratezza con dati di Test: 0.667\n",
            "Risultato sui dati di test:\n",
            "              precision    recall  f1-score   support\n",
            "\n",
            "           0       0.67      0.67      0.67         6\n",
            "           1       0.67      0.67      0.67         6\n",
            "\n",
            "    accuracy                           0.67        12\n",
            "   macro avg       0.67      0.67      0.67        12\n",
            "weighted avg       0.67      0.67      0.67        12\n",
            "\n",
            "[[4 2]\n",
            " [2 4]]\n",
            "Accuratezza Test: 66.000\n",
            "Precisione  Test: 66.000\n",
            "Sensitività Test: 66.000\n",
            "Specificità Test: 66.000\n",
            "F1 score    Test: 66.000\n",
            "stimatore utilizzato - DecisionTreeClassifier\n",
            "Fitting 5 folds for each of 216 candidates, totalling 1080 fits\n"
          ]
        },
        {
          "output_type": "stream",
          "name": "stderr",
          "text": [
            "[Parallel(n_jobs=-1)]: Done 1065 tasks      | elapsed:    1.2s\n",
            "[Parallel(n_jobs=-1)]: Done 1077 out of 1080 | elapsed:    1.2s remaining:    0.0s\n",
            "[Parallel(n_jobs=-1)]: Done 1080 out of 1080 | elapsed:    1.2s finished\n",
            "/usr/local/lib/python3.7/dist-packages/sklearn/model_selection/_search.py:281: UserWarning:\n",
            "\n",
            "The total space of parameters 2 is smaller than n_iter=20. Running 2 iterations. For exhaustive searches, use GridSearchCV.\n",
            "\n",
            "[Parallel(n_jobs=-1)]: Using backend LokyBackend with 2 concurrent workers.\n"
          ]
        },
        {
          "output_type": "stream",
          "name": "stdout",
          "text": [
            "Accuratezza fase di Cross Validation con dati di Addestramento/Validazione: 0.620\n",
            "{'criterion': 'gini', 'max_depth': 3, 'min_samples_leaf': 1, 'min_samples_split': 2, 'min_weight_fraction_leaf': 0}\n",
            "Accuratezza con dati di Test: 0.417\n",
            "Risultato sui dati di test:\n",
            "              precision    recall  f1-score   support\n",
            "\n",
            "           0       0.40      0.33      0.36         6\n",
            "           1       0.43      0.50      0.46         6\n",
            "\n",
            "    accuracy                           0.42        12\n",
            "   macro avg       0.41      0.42      0.41        12\n",
            "weighted avg       0.41      0.42      0.41        12\n",
            "\n",
            "[[2 4]\n",
            " [3 3]]\n",
            "Accuratezza Test: 41.000\n",
            "Precisione  Test: 40.000\n",
            "Sensitività Test: 33.000\n",
            "Specificità Test: 50.000\n",
            "F1 score    Test: 36.000\n",
            "stimatore utilizzato - Support vector machine (SVC)\n",
            "Fitting 5 folds for each of 2 candidates, totalling 10 fits\n"
          ]
        },
        {
          "output_type": "stream",
          "name": "stderr",
          "text": [
            "[Parallel(n_jobs=-1)]: Done  10 out of  10 | elapsed:  1.4min finished\n",
            "/usr/local/lib/python3.7/dist-packages/sklearn/utils/validation.py:760: DataConversionWarning:\n",
            "\n",
            "A column-vector y was passed when a 1d array was expected. Please change the shape of y to (n_samples, ), for example using ravel().\n",
            "\n"
          ]
        },
        {
          "output_type": "stream",
          "name": "stdout",
          "text": [
            "Accuratezza fase di Cross Validation con dati di Addestramento/Validazione: 0.653\n",
            "{'kernel': 'linear'}\n",
            "Accuratezza con dati di Test: 0.500\n",
            "Risultato sui dati di test:\n",
            "              precision    recall  f1-score   support\n",
            "\n",
            "           0       0.50      0.67      0.57         6\n",
            "           1       0.50      0.33      0.40         6\n",
            "\n",
            "    accuracy                           0.50        12\n",
            "   macro avg       0.50      0.50      0.49        12\n",
            "weighted avg       0.50      0.50      0.49        12\n",
            "\n",
            "[[4 2]\n",
            " [4 2]]\n",
            "Accuratezza Test: 50.000\n",
            "Precisione  Test: 50.000\n",
            "Sensitività Test: 66.000\n",
            "Specificità Test: 33.000\n",
            "F1 score    Test: 56.000\n",
            "stimatore utilizzato - KNeighborsClassifier\n",
            "Fitting 5 folds for each of 16 candidates, totalling 80 fits\n",
            "Accuratezza fase di Cross Validation con dati di Addestramento/Validazione: 0.693\n",
            "{'algorithm': 'auto', 'n_neighbors': 5, 'weights': 'uniform'}\n",
            "Accuratezza con dati di Test: 0.583\n",
            "Risultato sui dati di test:\n"
          ]
        },
        {
          "output_type": "stream",
          "name": "stderr",
          "text": [
            "[Parallel(n_jobs=-1)]: Using backend LokyBackend with 2 concurrent workers.\n",
            "[Parallel(n_jobs=-1)]: Done  80 out of  80 | elapsed:    0.2s finished\n",
            "/usr/local/lib/python3.7/dist-packages/sklearn/model_selection/_search.py:739: DataConversionWarning:\n",
            "\n",
            "A column-vector y was passed when a 1d array was expected. Please change the shape of y to (n_samples, ), for example using ravel().\n",
            "\n",
            "[Parallel(n_jobs=-1)]: Using backend LokyBackend with 2 concurrent workers.\n"
          ]
        },
        {
          "output_type": "stream",
          "name": "stdout",
          "text": [
            "              precision    recall  f1-score   support\n",
            "\n",
            "           0       0.57      0.67      0.62         6\n",
            "           1       0.60      0.50      0.55         6\n",
            "\n",
            "    accuracy                           0.58        12\n",
            "   macro avg       0.59      0.58      0.58        12\n",
            "weighted avg       0.59      0.58      0.58        12\n",
            "\n",
            "[[4 2]\n",
            " [3 3]]\n",
            "Accuratezza Test: 58.000\n",
            "Precisione  Test: 57.000\n",
            "Sensitività Test: 66.000\n",
            "Specificità Test: 50.000\n",
            "F1 score    Test: 61.000\n",
            "stimatore utilizzato - DecisionTreeClassifier\n",
            "Fitting 5 folds for each of 216 candidates, totalling 1080 fits\n"
          ]
        },
        {
          "output_type": "stream",
          "name": "stderr",
          "text": [
            "[Parallel(n_jobs=-1)]: Done 1062 tasks      | elapsed:    1.1s\n",
            "[Parallel(n_jobs=-1)]: Done 1077 out of 1080 | elapsed:    1.1s remaining:    0.0s\n",
            "[Parallel(n_jobs=-1)]: Done 1080 out of 1080 | elapsed:    1.1s finished\n",
            "/usr/local/lib/python3.7/dist-packages/sklearn/model_selection/_search.py:281: UserWarning:\n",
            "\n",
            "The total space of parameters 2 is smaller than n_iter=20. Running 2 iterations. For exhaustive searches, use GridSearchCV.\n",
            "\n",
            "[Parallel(n_jobs=-1)]: Using backend LokyBackend with 2 concurrent workers.\n"
          ]
        },
        {
          "output_type": "stream",
          "name": "stdout",
          "text": [
            "Accuratezza fase di Cross Validation con dati di Addestramento/Validazione: 0.687\n",
            "{'criterion': 'gini', 'max_depth': 4, 'min_samples_leaf': 1, 'min_samples_split': 2, 'min_weight_fraction_leaf': 0}\n",
            "Accuratezza con dati di Test: 0.583\n",
            "Risultato sui dati di test:\n",
            "              precision    recall  f1-score   support\n",
            "\n",
            "           0       0.56      0.83      0.67         6\n",
            "           1       0.67      0.33      0.44         6\n",
            "\n",
            "    accuracy                           0.58        12\n",
            "   macro avg       0.61      0.58      0.56        12\n",
            "weighted avg       0.61      0.58      0.56        12\n",
            "\n",
            "[[5 1]\n",
            " [4 2]]\n",
            "Accuratezza Test: 58.000\n",
            "Precisione  Test: 55.000\n",
            "Sensitività Test: 83.000\n",
            "Specificità Test: 33.000\n",
            "F1 score    Test: 66.000\n",
            "stimatore utilizzato - Support vector machine (SVC)\n",
            "Fitting 5 folds for each of 2 candidates, totalling 10 fits\n"
          ]
        },
        {
          "output_type": "stream",
          "name": "stderr",
          "text": [
            "[Parallel(n_jobs=-1)]: Done  10 out of  10 | elapsed:   46.9s finished\n",
            "/usr/local/lib/python3.7/dist-packages/sklearn/utils/validation.py:760: DataConversionWarning:\n",
            "\n",
            "A column-vector y was passed when a 1d array was expected. Please change the shape of y to (n_samples, ), for example using ravel().\n",
            "\n"
          ]
        },
        {
          "output_type": "stream",
          "name": "stdout",
          "text": [
            "Accuratezza fase di Cross Validation con dati di Addestramento/Validazione: 0.760\n",
            "{'kernel': 'linear'}\n",
            "Accuratezza con dati di Test: 0.667\n",
            "Risultato sui dati di test:\n",
            "              precision    recall  f1-score   support\n",
            "\n",
            "           0       0.67      0.67      0.67         6\n",
            "           1       0.67      0.67      0.67         6\n",
            "\n",
            "    accuracy                           0.67        12\n",
            "   macro avg       0.67      0.67      0.67        12\n",
            "weighted avg       0.67      0.67      0.67        12\n",
            "\n",
            "[[4 2]\n",
            " [2 4]]\n",
            "Accuratezza Test: 66.000\n",
            "Precisione  Test: 66.000\n",
            "Sensitività Test: 66.000\n",
            "Specificità Test: 66.000\n",
            "F1 score    Test: 66.000\n",
            "stimatore utilizzato - KNeighborsClassifier\n",
            "Fitting 5 folds for each of 16 candidates, totalling 80 fits\n",
            "Accuratezza fase di Cross Validation con dati di Addestramento/Validazione: 0.647\n",
            "{'algorithm': 'auto', 'n_neighbors': 5, 'weights': 'uniform'}\n",
            "Accuratezza con dati di Test: 0.583\n",
            "Risultato sui dati di test:\n",
            "              precision    recall  f1-score   support\n",
            "\n",
            "           0       0.56      0.83      0.67         6\n",
            "           1       0.67      0.33      0.44         6\n",
            "\n",
            "    accuracy                           0.58        12\n",
            "   macro avg       0.61      0.58      0.56        12\n",
            "weighted avg       0.61      0.58      0.56        12\n",
            "\n",
            "[[5 1]\n",
            " [4 2]]\n"
          ]
        },
        {
          "output_type": "stream",
          "name": "stderr",
          "text": [
            "[Parallel(n_jobs=-1)]: Using backend LokyBackend with 2 concurrent workers.\n",
            "[Parallel(n_jobs=-1)]: Done  80 out of  80 | elapsed:    0.2s finished\n",
            "/usr/local/lib/python3.7/dist-packages/sklearn/model_selection/_search.py:739: DataConversionWarning:\n",
            "\n",
            "A column-vector y was passed when a 1d array was expected. Please change the shape of y to (n_samples, ), for example using ravel().\n",
            "\n",
            "[Parallel(n_jobs=-1)]: Using backend LokyBackend with 2 concurrent workers.\n"
          ]
        },
        {
          "output_type": "stream",
          "name": "stdout",
          "text": [
            "Accuratezza Test: 58.000\n",
            "Precisione  Test: 55.000\n",
            "Sensitività Test: 83.000\n",
            "Specificità Test: 33.000\n",
            "F1 score    Test: 66.000\n",
            "stimatore utilizzato - DecisionTreeClassifier\n",
            "Fitting 5 folds for each of 216 candidates, totalling 1080 fits\n"
          ]
        },
        {
          "output_type": "stream",
          "name": "stderr",
          "text": [
            "[Parallel(n_jobs=-1)]: Done 1065 tasks      | elapsed:    1.0s\n",
            "[Parallel(n_jobs=-1)]: Done 1077 out of 1080 | elapsed:    1.1s remaining:    0.0s\n",
            "[Parallel(n_jobs=-1)]: Done 1080 out of 1080 | elapsed:    1.1s finished\n",
            "/usr/local/lib/python3.7/dist-packages/sklearn/model_selection/_search.py:281: UserWarning:\n",
            "\n",
            "The total space of parameters 2 is smaller than n_iter=20. Running 2 iterations. For exhaustive searches, use GridSearchCV.\n",
            "\n",
            "[Parallel(n_jobs=-1)]: Using backend LokyBackend with 2 concurrent workers.\n"
          ]
        },
        {
          "output_type": "stream",
          "name": "stdout",
          "text": [
            "Accuratezza fase di Cross Validation con dati di Addestramento/Validazione: 0.700\n",
            "{'criterion': 'gini', 'max_depth': 4, 'min_samples_leaf': 2, 'min_samples_split': 2, 'min_weight_fraction_leaf': 0}\n",
            "Accuratezza con dati di Test: 0.333\n",
            "Risultato sui dati di test:\n",
            "              precision    recall  f1-score   support\n",
            "\n",
            "           0       0.33      0.33      0.33         6\n",
            "           1       0.33      0.33      0.33         6\n",
            "\n",
            "    accuracy                           0.33        12\n",
            "   macro avg       0.33      0.33      0.33        12\n",
            "weighted avg       0.33      0.33      0.33        12\n",
            "\n",
            "[[2 4]\n",
            " [4 2]]\n",
            "Accuratezza Test: 33.000\n",
            "Precisione  Test: 33.000\n",
            "Sensitività Test: 33.000\n",
            "Specificità Test: 33.000\n",
            "F1 score    Test: 33.000\n",
            "stimatore utilizzato - Support vector machine (SVC)\n",
            "Fitting 5 folds for each of 2 candidates, totalling 10 fits\n"
          ]
        },
        {
          "output_type": "stream",
          "name": "stderr",
          "text": [
            "[Parallel(n_jobs=-1)]: Done  10 out of  10 | elapsed:   34.1s finished\n",
            "/usr/local/lib/python3.7/dist-packages/sklearn/utils/validation.py:760: DataConversionWarning:\n",
            "\n",
            "A column-vector y was passed when a 1d array was expected. Please change the shape of y to (n_samples, ), for example using ravel().\n",
            "\n",
            "[Parallel(n_jobs=-1)]: Using backend LokyBackend with 2 concurrent workers.\n",
            "[Parallel(n_jobs=-1)]: Done  80 out of  80 | elapsed:    0.2s finished\n",
            "/usr/local/lib/python3.7/dist-packages/sklearn/model_selection/_search.py:739: DataConversionWarning:\n",
            "\n",
            "A column-vector y was passed when a 1d array was expected. Please change the shape of y to (n_samples, ), for example using ravel().\n",
            "\n",
            "[Parallel(n_jobs=-1)]: Using backend LokyBackend with 2 concurrent workers.\n"
          ]
        },
        {
          "output_type": "stream",
          "name": "stdout",
          "text": [
            "Accuratezza fase di Cross Validation con dati di Addestramento/Validazione: 0.627\n",
            "{'kernel': 'rbf'}\n",
            "Accuratezza con dati di Test: 0.500\n",
            "Risultato sui dati di test:\n",
            "              precision    recall  f1-score   support\n",
            "\n",
            "           0       0.50      0.67      0.57         6\n",
            "           1       0.50      0.33      0.40         6\n",
            "\n",
            "    accuracy                           0.50        12\n",
            "   macro avg       0.50      0.50      0.49        12\n",
            "weighted avg       0.50      0.50      0.49        12\n",
            "\n",
            "[[4 2]\n",
            " [4 2]]\n",
            "Accuratezza Test: 50.000\n",
            "Precisione  Test: 50.000\n",
            "Sensitività Test: 66.000\n",
            "Specificità Test: 33.000\n",
            "F1 score    Test: 56.000\n",
            "stimatore utilizzato - KNeighborsClassifier\n",
            "Fitting 5 folds for each of 16 candidates, totalling 80 fits\n",
            "Accuratezza fase di Cross Validation con dati di Addestramento/Validazione: 0.660\n",
            "{'algorithm': 'auto', 'n_neighbors': 20, 'weights': 'distance'}\n",
            "Accuratezza con dati di Test: 0.667\n",
            "Risultato sui dati di test:\n",
            "              precision    recall  f1-score   support\n",
            "\n",
            "           0       0.67      0.67      0.67         6\n",
            "           1       0.67      0.67      0.67         6\n",
            "\n",
            "    accuracy                           0.67        12\n",
            "   macro avg       0.67      0.67      0.67        12\n",
            "weighted avg       0.67      0.67      0.67        12\n",
            "\n",
            "[[4 2]\n",
            " [2 4]]\n",
            "Accuratezza Test: 66.000\n",
            "Precisione  Test: 66.000\n",
            "Sensitività Test: 66.000\n",
            "Specificità Test: 66.000\n",
            "F1 score    Test: 66.000\n",
            "stimatore utilizzato - DecisionTreeClassifier\n",
            "Fitting 5 folds for each of 216 candidates, totalling 1080 fits\n"
          ]
        },
        {
          "output_type": "stream",
          "name": "stderr",
          "text": [
            "[Parallel(n_jobs=-1)]: Done 1065 tasks      | elapsed:    1.0s\n",
            "[Parallel(n_jobs=-1)]: Done 1077 out of 1080 | elapsed:    1.0s remaining:    0.0s\n",
            "[Parallel(n_jobs=-1)]: Done 1080 out of 1080 | elapsed:    1.0s finished\n",
            "/usr/local/lib/python3.7/dist-packages/sklearn/model_selection/_search.py:281: UserWarning:\n",
            "\n",
            "The total space of parameters 2 is smaller than n_iter=20. Running 2 iterations. For exhaustive searches, use GridSearchCV.\n",
            "\n",
            "[Parallel(n_jobs=-1)]: Using backend LokyBackend with 2 concurrent workers.\n"
          ]
        },
        {
          "output_type": "stream",
          "name": "stdout",
          "text": [
            "Accuratezza fase di Cross Validation con dati di Addestramento/Validazione: 0.580\n",
            "{'criterion': 'gini', 'max_depth': 10, 'min_samples_leaf': 1, 'min_samples_split': 2, 'min_weight_fraction_leaf': 0}\n",
            "Accuratezza con dati di Test: 0.667\n",
            "Risultato sui dati di test:\n",
            "              precision    recall  f1-score   support\n",
            "\n",
            "           0       0.62      0.83      0.71         6\n",
            "           1       0.75      0.50      0.60         6\n",
            "\n",
            "    accuracy                           0.67        12\n",
            "   macro avg       0.69      0.67      0.66        12\n",
            "weighted avg       0.69      0.67      0.66        12\n",
            "\n",
            "[[5 1]\n",
            " [3 3]]\n",
            "Accuratezza Test: 66.000\n",
            "Precisione  Test: 62.000\n",
            "Sensitività Test: 83.000\n",
            "Specificità Test: 50.000\n",
            "F1 score    Test: 70.000\n",
            "stimatore utilizzato - Support vector machine (SVC)\n",
            "Fitting 5 folds for each of 2 candidates, totalling 10 fits\n"
          ]
        },
        {
          "output_type": "stream",
          "name": "stderr",
          "text": [
            "[Parallel(n_jobs=-1)]: Done  10 out of  10 | elapsed:   22.3s finished\n",
            "/usr/local/lib/python3.7/dist-packages/sklearn/utils/validation.py:760: DataConversionWarning:\n",
            "\n",
            "A column-vector y was passed when a 1d array was expected. Please change the shape of y to (n_samples, ), for example using ravel().\n",
            "\n"
          ]
        },
        {
          "output_type": "stream",
          "name": "stdout",
          "text": [
            "Accuratezza fase di Cross Validation con dati di Addestramento/Validazione: 0.720\n",
            "{'kernel': 'linear'}\n",
            "Accuratezza con dati di Test: 0.750\n",
            "Risultato sui dati di test:\n",
            "              precision    recall  f1-score   support\n",
            "\n",
            "           0       0.80      0.67      0.73         6\n",
            "           1       0.71      0.83      0.77         6\n",
            "\n",
            "    accuracy                           0.75        12\n",
            "   macro avg       0.76      0.75      0.75        12\n",
            "weighted avg       0.76      0.75      0.75        12\n",
            "\n",
            "[[4 2]\n",
            " [1 5]]\n",
            "Accuratezza Test: 75.000\n",
            "Precisione  Test: 80.000\n",
            "Sensitività Test: 66.000\n",
            "Specificità Test: 83.000\n",
            "F1 score    Test: 72.000\n",
            "stimatore utilizzato - KNeighborsClassifier\n",
            "Fitting 5 folds for each of 16 candidates, totalling 80 fits\n"
          ]
        },
        {
          "output_type": "stream",
          "name": "stderr",
          "text": [
            "[Parallel(n_jobs=-1)]: Using backend LokyBackend with 2 concurrent workers.\n",
            "[Parallel(n_jobs=-1)]: Done  80 out of  80 | elapsed:    0.2s finished\n",
            "/usr/local/lib/python3.7/dist-packages/sklearn/model_selection/_search.py:739: DataConversionWarning:\n",
            "\n",
            "A column-vector y was passed when a 1d array was expected. Please change the shape of y to (n_samples, ), for example using ravel().\n",
            "\n",
            "[Parallel(n_jobs=-1)]: Using backend LokyBackend with 2 concurrent workers.\n"
          ]
        },
        {
          "output_type": "stream",
          "name": "stdout",
          "text": [
            "Accuratezza fase di Cross Validation con dati di Addestramento/Validazione: 0.693\n",
            "{'algorithm': 'auto', 'n_neighbors': 5, 'weights': 'distance'}\n",
            "Accuratezza con dati di Test: 0.667\n",
            "Risultato sui dati di test:\n",
            "              precision    recall  f1-score   support\n",
            "\n",
            "           0       0.67      0.67      0.67         6\n",
            "           1       0.67      0.67      0.67         6\n",
            "\n",
            "    accuracy                           0.67        12\n",
            "   macro avg       0.67      0.67      0.67        12\n",
            "weighted avg       0.67      0.67      0.67        12\n",
            "\n",
            "[[4 2]\n",
            " [2 4]]\n",
            "Accuratezza Test: 66.000\n",
            "Precisione  Test: 66.000\n",
            "Sensitività Test: 66.000\n",
            "Specificità Test: 66.000\n",
            "F1 score    Test: 66.000\n",
            "stimatore utilizzato - DecisionTreeClassifier\n",
            "Fitting 5 folds for each of 216 candidates, totalling 1080 fits\n"
          ]
        },
        {
          "output_type": "stream",
          "name": "stderr",
          "text": [
            "[Parallel(n_jobs=-1)]: Done 1062 tasks      | elapsed:    1.4s\n",
            "[Parallel(n_jobs=-1)]: Done 1077 out of 1080 | elapsed:    1.4s remaining:    0.0s\n",
            "[Parallel(n_jobs=-1)]: Done 1080 out of 1080 | elapsed:    1.4s finished\n",
            "/usr/local/lib/python3.7/dist-packages/sklearn/model_selection/_search.py:281: UserWarning:\n",
            "\n",
            "The total space of parameters 2 is smaller than n_iter=20. Running 2 iterations. For exhaustive searches, use GridSearchCV.\n",
            "\n",
            "[Parallel(n_jobs=-1)]: Using backend LokyBackend with 2 concurrent workers.\n"
          ]
        },
        {
          "output_type": "stream",
          "name": "stdout",
          "text": [
            "Accuratezza fase di Cross Validation con dati di Addestramento/Validazione: 0.580\n",
            "{'criterion': 'gini', 'max_depth': 10, 'min_samples_leaf': 1, 'min_samples_split': 2, 'min_weight_fraction_leaf': 0}\n",
            "Accuratezza con dati di Test: 0.500\n",
            "Risultato sui dati di test:\n",
            "              precision    recall  f1-score   support\n",
            "\n",
            "           0       0.50      0.33      0.40         6\n",
            "           1       0.50      0.67      0.57         6\n",
            "\n",
            "    accuracy                           0.50        12\n",
            "   macro avg       0.50      0.50      0.49        12\n",
            "weighted avg       0.50      0.50      0.49        12\n",
            "\n",
            "[[2 4]\n",
            " [2 4]]\n",
            "Accuratezza Test: 50.000\n",
            "Precisione  Test: 50.000\n",
            "Sensitività Test: 33.000\n",
            "Specificità Test: 66.000\n",
            "F1 score    Test: 39.000\n",
            "stimatore utilizzato - Support vector machine (SVC)\n",
            "Fitting 5 folds for each of 2 candidates, totalling 10 fits\n"
          ]
        },
        {
          "output_type": "stream",
          "name": "stderr",
          "text": [
            "[Parallel(n_jobs=-1)]: Done  10 out of  10 | elapsed:   21.8s finished\n",
            "/usr/local/lib/python3.7/dist-packages/sklearn/utils/validation.py:760: DataConversionWarning:\n",
            "\n",
            "A column-vector y was passed when a 1d array was expected. Please change the shape of y to (n_samples, ), for example using ravel().\n",
            "\n"
          ]
        },
        {
          "output_type": "stream",
          "name": "stdout",
          "text": [
            "Accuratezza fase di Cross Validation con dati di Addestramento/Validazione: 0.540\n",
            "{'kernel': 'linear'}\n",
            "Accuratezza con dati di Test: 0.750\n",
            "Risultato sui dati di test:\n",
            "              precision    recall  f1-score   support\n",
            "\n",
            "           0       0.67      1.00      0.80         6\n",
            "           1       1.00      0.50      0.67         6\n",
            "\n",
            "    accuracy                           0.75        12\n",
            "   macro avg       0.83      0.75      0.73        12\n",
            "weighted avg       0.83      0.75      0.73        12\n",
            "\n",
            "[[6 0]\n",
            " [3 3]]\n",
            "Accuratezza Test: 75.000\n",
            "Precisione  Test: 66.000\n",
            "Sensitività Test: 100.000\n",
            "Specificità Test: 50.000\n",
            "F1 score    Test: 79.000\n",
            "stimatore utilizzato - KNeighborsClassifier\n",
            "Fitting 5 folds for each of 16 candidates, totalling 80 fits\n"
          ]
        },
        {
          "output_type": "stream",
          "name": "stderr",
          "text": [
            "[Parallel(n_jobs=-1)]: Using backend LokyBackend with 2 concurrent workers.\n",
            "[Parallel(n_jobs=-1)]: Done  80 out of  80 | elapsed:    0.2s finished\n",
            "/usr/local/lib/python3.7/dist-packages/sklearn/model_selection/_search.py:739: DataConversionWarning:\n",
            "\n",
            "A column-vector y was passed when a 1d array was expected. Please change the shape of y to (n_samples, ), for example using ravel().\n",
            "\n",
            "[Parallel(n_jobs=-1)]: Using backend LokyBackend with 2 concurrent workers.\n"
          ]
        },
        {
          "output_type": "stream",
          "name": "stdout",
          "text": [
            "Accuratezza fase di Cross Validation con dati di Addestramento/Validazione: 0.620\n",
            "{'algorithm': 'auto', 'n_neighbors': 5, 'weights': 'distance'}\n",
            "Accuratezza con dati di Test: 0.667\n",
            "Risultato sui dati di test:\n",
            "              precision    recall  f1-score   support\n",
            "\n",
            "           0       0.62      0.83      0.71         6\n",
            "           1       0.75      0.50      0.60         6\n",
            "\n",
            "    accuracy                           0.67        12\n",
            "   macro avg       0.69      0.67      0.66        12\n",
            "weighted avg       0.69      0.67      0.66        12\n",
            "\n",
            "[[5 1]\n",
            " [3 3]]\n",
            "Accuratezza Test: 66.000\n",
            "Precisione  Test: 62.000\n",
            "Sensitività Test: 83.000\n",
            "Specificità Test: 50.000\n",
            "F1 score    Test: 70.000\n",
            "stimatore utilizzato - DecisionTreeClassifier\n",
            "Fitting 5 folds for each of 216 candidates, totalling 1080 fits\n"
          ]
        },
        {
          "output_type": "stream",
          "name": "stderr",
          "text": [
            "[Parallel(n_jobs=-1)]: Done 1062 tasks      | elapsed:    1.3s\n",
            "[Parallel(n_jobs=-1)]: Done 1077 out of 1080 | elapsed:    1.3s remaining:    0.0s\n",
            "[Parallel(n_jobs=-1)]: Done 1080 out of 1080 | elapsed:    1.3s finished\n",
            "/usr/local/lib/python3.7/dist-packages/sklearn/model_selection/_search.py:281: UserWarning:\n",
            "\n",
            "The total space of parameters 2 is smaller than n_iter=20. Running 2 iterations. For exhaustive searches, use GridSearchCV.\n",
            "\n",
            "[Parallel(n_jobs=-1)]: Using backend LokyBackend with 2 concurrent workers.\n"
          ]
        },
        {
          "output_type": "stream",
          "name": "stdout",
          "text": [
            "Accuratezza fase di Cross Validation con dati di Addestramento/Validazione: 0.767\n",
            "{'criterion': 'gini', 'max_depth': 3, 'min_samples_leaf': 2, 'min_samples_split': 2, 'min_weight_fraction_leaf': 0}\n",
            "Accuratezza con dati di Test: 0.417\n",
            "Risultato sui dati di test:\n",
            "              precision    recall  f1-score   support\n",
            "\n",
            "           0       0.43      0.50      0.46         6\n",
            "           1       0.40      0.33      0.36         6\n",
            "\n",
            "    accuracy                           0.42        12\n",
            "   macro avg       0.41      0.42      0.41        12\n",
            "weighted avg       0.41      0.42      0.41        12\n",
            "\n",
            "[[3 3]\n",
            " [4 2]]\n",
            "Accuratezza Test: 41.000\n",
            "Precisione  Test: 42.000\n",
            "Sensitività Test: 50.000\n",
            "Specificità Test: 33.000\n",
            "F1 score    Test: 45.000\n",
            "stimatore utilizzato - Support vector machine (SVC)\n",
            "Fitting 5 folds for each of 2 candidates, totalling 10 fits\n"
          ]
        },
        {
          "output_type": "stream",
          "name": "stderr",
          "text": [
            "[Parallel(n_jobs=-1)]: Done  10 out of  10 | elapsed:   25.3s finished\n",
            "/usr/local/lib/python3.7/dist-packages/sklearn/utils/validation.py:760: DataConversionWarning:\n",
            "\n",
            "A column-vector y was passed when a 1d array was expected. Please change the shape of y to (n_samples, ), for example using ravel().\n",
            "\n",
            "[Parallel(n_jobs=-1)]: Using backend LokyBackend with 2 concurrent workers.\n"
          ]
        },
        {
          "output_type": "stream",
          "name": "stdout",
          "text": [
            "Accuratezza fase di Cross Validation con dati di Addestramento/Validazione: 0.733\n",
            "{'kernel': 'rbf'}\n",
            "Accuratezza con dati di Test: 0.583\n",
            "Risultato sui dati di test:\n",
            "              precision    recall  f1-score   support\n",
            "\n",
            "           0       0.60      0.50      0.55         6\n",
            "           1       0.57      0.67      0.62         6\n",
            "\n",
            "    accuracy                           0.58        12\n",
            "   macro avg       0.59      0.58      0.58        12\n",
            "weighted avg       0.59      0.58      0.58        12\n",
            "\n",
            "[[3 3]\n",
            " [2 4]]\n",
            "Accuratezza Test: 58.000\n",
            "Precisione  Test: 60.000\n",
            "Sensitività Test: 50.000\n",
            "Specificità Test: 66.000\n",
            "F1 score    Test: 54.000\n",
            "stimatore utilizzato - KNeighborsClassifier\n",
            "Fitting 5 folds for each of 16 candidates, totalling 80 fits\n"
          ]
        },
        {
          "output_type": "stream",
          "name": "stderr",
          "text": [
            "[Parallel(n_jobs=-1)]: Done  80 out of  80 | elapsed:    0.3s finished\n",
            "/usr/local/lib/python3.7/dist-packages/sklearn/model_selection/_search.py:739: DataConversionWarning:\n",
            "\n",
            "A column-vector y was passed when a 1d array was expected. Please change the shape of y to (n_samples, ), for example using ravel().\n",
            "\n",
            "[Parallel(n_jobs=-1)]: Using backend LokyBackend with 2 concurrent workers.\n"
          ]
        },
        {
          "output_type": "stream",
          "name": "stdout",
          "text": [
            "Accuratezza fase di Cross Validation con dati di Addestramento/Validazione: 0.733\n",
            "{'algorithm': 'auto', 'n_neighbors': 5, 'weights': 'uniform'}\n",
            "Accuratezza con dati di Test: 0.417\n",
            "Risultato sui dati di test:\n",
            "              precision    recall  f1-score   support\n",
            "\n",
            "           0       0.40      0.33      0.36         6\n",
            "           1       0.43      0.50      0.46         6\n",
            "\n",
            "    accuracy                           0.42        12\n",
            "   macro avg       0.41      0.42      0.41        12\n",
            "weighted avg       0.41      0.42      0.41        12\n",
            "\n",
            "[[2 4]\n",
            " [3 3]]\n",
            "Accuratezza Test: 41.000\n",
            "Precisione  Test: 40.000\n",
            "Sensitività Test: 33.000\n",
            "Specificità Test: 50.000\n",
            "F1 score    Test: 36.000\n",
            "stimatore utilizzato - DecisionTreeClassifier\n",
            "Fitting 5 folds for each of 216 candidates, totalling 1080 fits\n"
          ]
        },
        {
          "output_type": "stream",
          "name": "stderr",
          "text": [
            "[Parallel(n_jobs=-1)]: Done 1062 tasks      | elapsed:    1.2s\n",
            "[Parallel(n_jobs=-1)]: Done 1077 out of 1080 | elapsed:    1.3s remaining:    0.0s\n",
            "[Parallel(n_jobs=-1)]: Done 1080 out of 1080 | elapsed:    1.3s finished\n",
            "/usr/local/lib/python3.7/dist-packages/sklearn/model_selection/_search.py:281: UserWarning:\n",
            "\n",
            "The total space of parameters 2 is smaller than n_iter=20. Running 2 iterations. For exhaustive searches, use GridSearchCV.\n",
            "\n",
            "[Parallel(n_jobs=-1)]: Using backend LokyBackend with 2 concurrent workers.\n"
          ]
        },
        {
          "output_type": "stream",
          "name": "stdout",
          "text": [
            "Accuratezza fase di Cross Validation con dati di Addestramento/Validazione: 0.687\n",
            "{'criterion': 'gini', 'max_depth': 5, 'min_samples_leaf': 1, 'min_samples_split': 2, 'min_weight_fraction_leaf': 0}\n",
            "Accuratezza con dati di Test: 0.500\n",
            "Risultato sui dati di test:\n",
            "              precision    recall  f1-score   support\n",
            "\n",
            "           0       0.50      0.33      0.40         6\n",
            "           1       0.50      0.67      0.57         6\n",
            "\n",
            "    accuracy                           0.50        12\n",
            "   macro avg       0.50      0.50      0.49        12\n",
            "weighted avg       0.50      0.50      0.49        12\n",
            "\n",
            "[[2 4]\n",
            " [2 4]]\n",
            "Accuratezza Test: 50.000\n",
            "Precisione  Test: 50.000\n",
            "Sensitività Test: 33.000\n",
            "Specificità Test: 66.000\n",
            "F1 score    Test: 39.000\n",
            "stimatore utilizzato - Support vector machine (SVC)\n",
            "Fitting 5 folds for each of 2 candidates, totalling 10 fits\n"
          ]
        },
        {
          "output_type": "stream",
          "name": "stderr",
          "text": [
            "[Parallel(n_jobs=-1)]: Done  10 out of  10 | elapsed:   17.4s finished\n",
            "/usr/local/lib/python3.7/dist-packages/sklearn/utils/validation.py:760: DataConversionWarning:\n",
            "\n",
            "A column-vector y was passed when a 1d array was expected. Please change the shape of y to (n_samples, ), for example using ravel().\n",
            "\n",
            "[Parallel(n_jobs=-1)]: Using backend LokyBackend with 2 concurrent workers.\n"
          ]
        },
        {
          "output_type": "stream",
          "name": "stdout",
          "text": [
            "Accuratezza fase di Cross Validation con dati di Addestramento/Validazione: 0.687\n",
            "{'kernel': 'rbf'}\n",
            "Accuratezza con dati di Test: 0.333\n",
            "Risultato sui dati di test:\n",
            "              precision    recall  f1-score   support\n",
            "\n",
            "           0       0.40      0.67      0.50         6\n",
            "           1       0.00      0.00      0.00         6\n",
            "\n",
            "    accuracy                           0.33        12\n",
            "   macro avg       0.20      0.33      0.25        12\n",
            "weighted avg       0.20      0.33      0.25        12\n",
            "\n",
            "[[4 2]\n",
            " [6 0]]\n",
            "Accuratezza Test: 33.000\n",
            "Precisione  Test: 40.000\n",
            "Sensitività Test: 66.000\n",
            "Specificità Test: 0.000\n",
            "F1 score    Test: 49.000\n",
            "stimatore utilizzato - KNeighborsClassifier\n",
            "Fitting 5 folds for each of 16 candidates, totalling 80 fits\n",
            "Accuratezza fase di Cross Validation con dati di Addestramento/Validazione: 0.727\n",
            "{'algorithm': 'auto', 'n_neighbors': 5, 'weights': 'uniform'}\n",
            "Accuratezza con dati di Test: 0.583\n",
            "Risultato sui dati di test:\n",
            "              precision    recall  f1-score   support\n",
            "\n",
            "           0       0.60      0.50      0.55         6\n",
            "           1       0.57      0.67      0.62         6\n",
            "\n",
            "    accuracy                           0.58        12\n",
            "   macro avg       0.59      0.58      0.58        12\n",
            "weighted avg       0.59      0.58      0.58        12\n",
            "\n",
            "[[3 3]\n",
            " [2 4]]\n",
            "Accuratezza Test: 58.000\n",
            "Precisione  Test: 60.000\n",
            "Sensitività Test: 50.000\n",
            "Specificità Test: 66.000\n",
            "F1 score    Test: 54.000\n"
          ]
        },
        {
          "output_type": "stream",
          "name": "stderr",
          "text": [
            "[Parallel(n_jobs=-1)]: Done  80 out of  80 | elapsed:    0.2s finished\n",
            "/usr/local/lib/python3.7/dist-packages/sklearn/model_selection/_search.py:739: DataConversionWarning:\n",
            "\n",
            "A column-vector y was passed when a 1d array was expected. Please change the shape of y to (n_samples, ), for example using ravel().\n",
            "\n"
          ]
        }
      ]
    },
    {
      "cell_type": "markdown",
      "metadata": {
        "id": "KVM2glc52oEd"
      },
      "source": [
        "#### Caso2 AD vs MCI"
      ]
    },
    {
      "cell_type": "code",
      "metadata": {
        "id": "G5ydrZUb2oEd"
      },
      "source": [
        ""
      ],
      "execution_count": null,
      "outputs": []
    },
    {
      "cell_type": "code",
      "metadata": {
        "id": "RA-cK7j72oEe"
      },
      "source": [
        "\n",
        "df=ADMCI.loc[:,0]\n",
        "\n",
        "X = df.to_numpy()\n",
        "\n",
        "Y = ADMCI.loc[:,1]\n",
        "y = Y.to_numpy()\n",
        "y = np.where(y == 1, 1, 0)\n",
        "#from sklearn.model_selection import train_test_split\n",
        "\n",
        "X_train, X_test, y_train, y_test = train_test_split(X, y, test_size=0.3,stratify=y,random_state=42)\n",
        "\n",
        "#pca = PCA(n_components=5)\n",
        "\n",
        "#X_train_pca = pca.fit_transform(X_train)\n",
        "#X_test_pca = pca.transform(X_test)\n",
        "\n",
        "X_train_caso2=X_train\n",
        "X_test_caso2=X_test\n",
        "y_train_caso2=y_train\n",
        "y_test_caso2=y_test"
      ],
      "execution_count": null,
      "outputs": []
    },
    {
      "cell_type": "code",
      "metadata": {
        "id": "rjtKlinO2oEf"
      },
      "source": [
        "X_train_caso2=X_train_caso2.reshape(-1,1)\n",
        "X_test_caso2=X_test_caso2.reshape(-1,1)\n",
        "y_train_caso2=y_train_caso2.reshape(-1,1)\n",
        "y_test_caso2=y_test_caso2.reshape(-1,1)"
      ],
      "execution_count": null,
      "outputs": []
    },
    {
      "cell_type": "code",
      "metadata": {
        "colab": {
          "base_uri": "https://localhost:8080/"
        },
        "id": "51jNRuBG2oEf",
        "outputId": "0108e22b-bfc5-41a8-ccb7-97abe6cc34cc"
      },
      "source": [
        "tuning_albero_decisione(2,5)"
      ],
      "execution_count": null,
      "outputs": [
        {
          "output_type": "stream",
          "name": "stderr",
          "text": [
            "[Parallel(n_jobs=-1)]: Using backend LokyBackend with 2 concurrent workers.\n"
          ]
        },
        {
          "output_type": "stream",
          "name": "stdout",
          "text": [
            "Fitting 5 folds for each of 216 candidates, totalling 1080 fits\n",
            "Accuratezza fase di Cross Validation con dati di Addestramento/Validazione: 0.820\n",
            "{'criterion': 'gini', 'max_depth': 3, 'min_samples_leaf': 1, 'min_samples_split': 2, 'min_weight_fraction_leaf': 0}\n",
            "Accuratezza con dati di Test: 0.750\n",
            "Risultato sui dati di test:\n",
            "              precision    recall  f1-score   support\n",
            "\n",
            "           0       0.71      0.83      0.77         6\n",
            "           1       0.80      0.67      0.73         6\n",
            "\n",
            "    accuracy                           0.75        12\n",
            "   macro avg       0.76      0.75      0.75        12\n",
            "weighted avg       0.76      0.75      0.75        12\n",
            "\n",
            "[[5 1]\n",
            " [2 4]]\n",
            "Accuratezza Test: 75.000\n",
            "Precisione  Test: 71.000\n",
            "Sensitività Test: 83.000\n",
            "Specificità Test: 66.000\n",
            "F1 score    Test: 76.000\n"
          ]
        },
        {
          "output_type": "stream",
          "name": "stderr",
          "text": [
            "[Parallel(n_jobs=-1)]: Done 1065 tasks      | elapsed:    1.2s\n",
            "[Parallel(n_jobs=-1)]: Done 1077 out of 1080 | elapsed:    1.2s remaining:    0.0s\n",
            "[Parallel(n_jobs=-1)]: Done 1080 out of 1080 | elapsed:    1.2s finished\n"
          ]
        }
      ]
    },
    {
      "cell_type": "code",
      "metadata": {
        "colab": {
          "base_uri": "https://localhost:8080/"
        },
        "id": "ND5fwDw52oEf",
        "outputId": "45adcf3f-3925-4d6e-e351-6934ff9bd256"
      },
      "source": [
        "tuning_SVM(2,5)"
      ],
      "execution_count": null,
      "outputs": [
        {
          "output_type": "stream",
          "name": "stderr",
          "text": [
            "/usr/local/lib/python3.7/dist-packages/sklearn/model_selection/_search.py:281: UserWarning:\n",
            "\n",
            "The total space of parameters 2 is smaller than n_iter=20. Running 2 iterations. For exhaustive searches, use GridSearchCV.\n",
            "\n",
            "[Parallel(n_jobs=-1)]: Using backend LokyBackend with 2 concurrent workers.\n"
          ]
        },
        {
          "output_type": "stream",
          "name": "stdout",
          "text": [
            "Fitting 5 folds for each of 2 candidates, totalling 10 fits\n"
          ]
        },
        {
          "output_type": "stream",
          "name": "stderr",
          "text": [
            "[Parallel(n_jobs=-1)]: Done   7 out of  10 | elapsed:   26.8s remaining:   11.5s\n"
          ]
        },
        {
          "output_type": "stream",
          "name": "stdout",
          "text": [
            "Accuratezza fase di Cross Validation con dati di Addestramento/Validazione: 0.853\n",
            "{'kernel': 'rbf'}\n",
            "Accuratezza con dati di Test: 0.750\n",
            "Risultato sui dati di test:\n",
            "              precision    recall  f1-score   support\n",
            "\n",
            "           0       0.71      0.83      0.77         6\n",
            "           1       0.80      0.67      0.73         6\n",
            "\n",
            "    accuracy                           0.75        12\n",
            "   macro avg       0.76      0.75      0.75        12\n",
            "weighted avg       0.76      0.75      0.75        12\n",
            "\n",
            "[[5 1]\n",
            " [2 4]]\n",
            "Accuratezza Test: 75.000\n",
            "Precisione  Test: 71.000\n",
            "Sensitività Test: 83.000\n",
            "Specificità Test: 66.000\n",
            "F1 score    Test: 76.000\n"
          ]
        },
        {
          "output_type": "stream",
          "name": "stderr",
          "text": [
            "[Parallel(n_jobs=-1)]: Done  10 out of  10 | elapsed:   29.4s finished\n",
            "/usr/local/lib/python3.7/dist-packages/sklearn/utils/validation.py:760: DataConversionWarning:\n",
            "\n",
            "A column-vector y was passed when a 1d array was expected. Please change the shape of y to (n_samples, ), for example using ravel().\n",
            "\n"
          ]
        }
      ]
    },
    {
      "cell_type": "code",
      "metadata": {
        "id": "9VquftAh2oEg"
      },
      "source": [
        "#tuning_foresta(2,10)"
      ],
      "execution_count": null,
      "outputs": []
    },
    {
      "cell_type": "code",
      "metadata": {
        "id": "1ChVHYeH2oEg"
      },
      "source": [
        "#tuning_albero_decisione_CV(2,10)"
      ],
      "execution_count": null,
      "outputs": []
    },
    {
      "cell_type": "code",
      "metadata": {
        "id": "1s4K2X222oEg"
      },
      "source": [
        "#tuning_SVM_CV(2,10)"
      ],
      "execution_count": null,
      "outputs": []
    },
    {
      "cell_type": "code",
      "metadata": {
        "id": "FImShas92oEg"
      },
      "source": [
        "#validazione_incrociata_kfold(2,10,1)"
      ],
      "execution_count": null,
      "outputs": []
    },
    {
      "cell_type": "code",
      "metadata": {
        "id": "3xp2tBoe2oEh"
      },
      "source": [
        "#validazione_incrociata_kfold(2,10,2)"
      ],
      "execution_count": null,
      "outputs": []
    },
    {
      "cell_type": "code",
      "metadata": {
        "id": "7z7sIV1Z2oEh"
      },
      "source": [
        "#validazione_incrociata_score(2,10,1)"
      ],
      "execution_count": null,
      "outputs": []
    },
    {
      "cell_type": "code",
      "metadata": {
        "id": "UvqMqOrR2oEh"
      },
      "source": [
        "#validazione_incrociata_score(2,10,2)"
      ],
      "execution_count": null,
      "outputs": []
    },
    {
      "cell_type": "code",
      "metadata": {
        "id": "xBzYR7Cc2oEh"
      },
      "source": [
        "#prova_pipeline(2,2)"
      ],
      "execution_count": null,
      "outputs": []
    },
    {
      "cell_type": "code",
      "metadata": {
        "id": "lgaFiUy_2oEh"
      },
      "source": [
        "#exec_trad(2,1)"
      ],
      "execution_count": null,
      "outputs": []
    },
    {
      "cell_type": "code",
      "metadata": {
        "id": "-jmcYhce2oEi"
      },
      "source": [
        "#exec_trad(2,2)"
      ],
      "execution_count": null,
      "outputs": []
    },
    {
      "cell_type": "code",
      "metadata": {
        "colab": {
          "base_uri": "https://localhost:8080/"
        },
        "id": "6F-F6QQt2oEi",
        "outputId": "2877ce26-c535-4b39-e12f-852962d759d7"
      },
      "source": [
        "tuning_KNN(2,5)"
      ],
      "execution_count": null,
      "outputs": [
        {
          "output_type": "stream",
          "name": "stderr",
          "text": [
            "[Parallel(n_jobs=-1)]: Using backend LokyBackend with 2 concurrent workers.\n"
          ]
        },
        {
          "output_type": "stream",
          "name": "stdout",
          "text": [
            "Fitting 5 folds for each of 16 candidates, totalling 80 fits\n"
          ]
        },
        {
          "output_type": "stream",
          "name": "stderr",
          "text": [
            "[Parallel(n_jobs=-1)]: Done  80 out of  80 | elapsed:    0.2s finished\n",
            "/usr/local/lib/python3.7/dist-packages/sklearn/model_selection/_search.py:739: DataConversionWarning:\n",
            "\n",
            "A column-vector y was passed when a 1d array was expected. Please change the shape of y to (n_samples, ), for example using ravel().\n",
            "\n"
          ]
        },
        {
          "output_type": "stream",
          "name": "stdout",
          "text": [
            "Accuratezza fase di Cross Validation con dati di Addestramento/Validazione: 0.853\n",
            "{'algorithm': 'auto', 'n_neighbors': 5, 'weights': 'uniform'}\n",
            "Accuratezza con dati di Test: 0.917\n",
            "Risultato sui dati di test:\n",
            "              precision    recall  f1-score   support\n",
            "\n",
            "           0       1.00      0.83      0.91         6\n",
            "           1       0.86      1.00      0.92         6\n",
            "\n",
            "    accuracy                           0.92        12\n",
            "   macro avg       0.93      0.92      0.92        12\n",
            "weighted avg       0.93      0.92      0.92        12\n",
            "\n",
            "[[5 1]\n",
            " [0 6]]\n",
            "Accuratezza Test: 91.000\n",
            "Precisione  Test: 100.000\n",
            "Sensitività Test: 83.000\n",
            "Specificità Test: 100.000\n",
            "F1 score    Test: 90.000\n"
          ]
        }
      ]
    },
    {
      "cell_type": "code",
      "metadata": {
        "id": "zPw6kdOB2oEi"
      },
      "source": [
        "#tuning_MP(2,10)"
      ],
      "execution_count": null,
      "outputs": []
    },
    {
      "cell_type": "code",
      "metadata": {
        "id": "qNRx1oYo2oEj"
      },
      "source": [
        "#tuning_LR(2,5)"
      ],
      "execution_count": null,
      "outputs": []
    },
    {
      "cell_type": "markdown",
      "metadata": {
        "id": "RdMtAfU92oEj"
      },
      "source": [
        "<br>\n",
        "<br>"
      ]
    },
    {
      "cell_type": "markdown",
      "metadata": {
        "id": "Faq_Pxz92oEj"
      },
      "source": [
        "<br>\n",
        "<br>"
      ]
    },
    {
      "cell_type": "code",
      "metadata": {
        "id": "u0XJSDb52oEj"
      },
      "source": [
        "#tuning_foresta(2,10)"
      ],
      "execution_count": null,
      "outputs": []
    },
    {
      "cell_type": "code",
      "metadata": {
        "id": "CKyHrQZxhUR4"
      },
      "source": [
        ""
      ],
      "execution_count": null,
      "outputs": []
    },
    {
      "cell_type": "markdown",
      "metadata": {
        "id": "rkM6EDsmUxnO"
      },
      "source": [
        "#### 10 RUN MCI vs HC"
      ]
    },
    {
      "cell_type": "code",
      "metadata": {
        "colab": {
          "base_uri": "https://localhost:8080/"
        },
        "id": "7usY_9tbU8ss",
        "outputId": "3bca9b44-6cbd-43ce-9ea2-b40cfba7b822"
      },
      "source": [
        "for i in range(10):\n",
        "    df=MCIHC.loc[:,0]\n",
        "\n",
        "    X = df.to_numpy()\n",
        "\n",
        "    Y = MCIHC.loc[:,1]\n",
        "    y = Y.to_numpy()\n",
        "    y = np.where(y == 2, 1, 0)\n",
        "\n",
        "    #from sklearn.model_selection import train_test_split\n",
        "\n",
        "\n",
        "    X_train, X_test, y_train, y_test = train_test_split(X, y, test_size=0.3,stratify=y)\n",
        "\n",
        "    #pca = PCA(n_components=2)\n",
        "\n",
        "    #X_train_pca = pca.fit_transform(X_train)\n",
        "    #X_test_pca = pca.transform(X_test)\n",
        "\n",
        "    X_train_caso3=X_train\n",
        "    X_test_caso3=X_test\n",
        "    y_train_caso3=y_train\n",
        "    y_test_caso3=y_test\n",
        "    X_train_caso3=X_train_caso3.reshape(-1,1)\n",
        "    X_test_caso3=X_test_caso3.reshape(-1,1)\n",
        "    y_train_caso3=y_train_caso3.reshape(-1,1)\n",
        "    y_test_caso3=y_test_caso3.reshape(-1,1)\n",
        "\n",
        "    tuning_albero_decisione(3,10)\n",
        "    tuning_SVM(3,5)\n",
        "    tuning_KNN(3,5)"
      ],
      "execution_count": null,
      "outputs": [
        {
          "output_type": "stream",
          "name": "stdout",
          "text": [
            "stimatore utilizzato - DecisionTreeClassifier\n",
            "Fitting 10 folds for each of 216 candidates, totalling 2160 fits\n"
          ]
        },
        {
          "output_type": "stream",
          "name": "stderr",
          "text": [
            "[Parallel(n_jobs=-1)]: Using backend LokyBackend with 2 concurrent workers.\n",
            "[Parallel(n_jobs=-1)]: Done 1951 tasks      | elapsed:    2.3s\n",
            "[Parallel(n_jobs=-1)]: Done 2160 out of 2160 | elapsed:    2.4s finished\n",
            "/usr/local/lib/python3.7/dist-packages/sklearn/model_selection/_search.py:281: UserWarning:\n",
            "\n",
            "The total space of parameters 2 is smaller than n_iter=20. Running 2 iterations. For exhaustive searches, use GridSearchCV.\n",
            "\n",
            "[Parallel(n_jobs=-1)]: Using backend LokyBackend with 2 concurrent workers.\n",
            "[Parallel(n_jobs=-1)]: Done  10 out of  10 | elapsed:    0.0s finished\n",
            "/usr/local/lib/python3.7/dist-packages/sklearn/utils/validation.py:760: DataConversionWarning:\n",
            "\n",
            "A column-vector y was passed when a 1d array was expected. Please change the shape of y to (n_samples, ), for example using ravel().\n",
            "\n"
          ]
        },
        {
          "output_type": "stream",
          "name": "stdout",
          "text": [
            "Accuratezza fase di Cross Validation con dati di Addestramento/Validazione: 1.000\n",
            "{'criterion': 'gini', 'max_depth': 3, 'min_samples_leaf': 1, 'min_samples_split': 2, 'min_weight_fraction_leaf': 0}\n",
            "Accuratezza con dati di Test: 1.000\n",
            "Risultato sui dati di test:\n",
            "              precision    recall  f1-score   support\n",
            "\n",
            "           0       1.00      1.00      1.00         6\n",
            "           1       1.00      1.00      1.00         6\n",
            "\n",
            "    accuracy                           1.00        12\n",
            "   macro avg       1.00      1.00      1.00        12\n",
            "weighted avg       1.00      1.00      1.00        12\n",
            "\n",
            "[[6 0]\n",
            " [0 6]]\n",
            "Accuratezza Test: 100.000\n",
            "Precisione  Test: 100.000\n",
            "Sensitività Test: 100.000\n",
            "Specificità Test: 100.000\n",
            "F1 score    Test: 100.000\n",
            "stimatore utilizzato - Support vector machine (SVC)\n",
            "Fitting 5 folds for each of 2 candidates, totalling 10 fits\n",
            "Accuratezza fase di Cross Validation con dati di Addestramento/Validazione: 1.000\n",
            "{'kernel': 'linear'}\n",
            "Accuratezza con dati di Test: 1.000\n",
            "Risultato sui dati di test:\n",
            "              precision    recall  f1-score   support\n",
            "\n",
            "           0       1.00      1.00      1.00         6\n",
            "           1       1.00      1.00      1.00         6\n",
            "\n",
            "    accuracy                           1.00        12\n",
            "   macro avg       1.00      1.00      1.00        12\n",
            "weighted avg       1.00      1.00      1.00        12\n",
            "\n",
            "[[6 0]\n",
            " [0 6]]\n",
            "Accuratezza Test: 100.000\n",
            "Precisione  Test: 100.000\n",
            "Sensitività Test: 100.000\n",
            "Specificità Test: 100.000\n",
            "F1 score    Test: 100.000\n",
            "stimatore utilizzato - KNeighborsClassifier\n",
            "Fitting 5 folds for each of 16 candidates, totalling 80 fits\n"
          ]
        },
        {
          "output_type": "stream",
          "name": "stderr",
          "text": [
            "[Parallel(n_jobs=-1)]: Using backend LokyBackend with 2 concurrent workers.\n",
            "[Parallel(n_jobs=-1)]: Done  80 out of  80 | elapsed:    0.2s finished\n",
            "/usr/local/lib/python3.7/dist-packages/sklearn/model_selection/_search.py:739: DataConversionWarning:\n",
            "\n",
            "A column-vector y was passed when a 1d array was expected. Please change the shape of y to (n_samples, ), for example using ravel().\n",
            "\n"
          ]
        },
        {
          "output_type": "stream",
          "name": "stdout",
          "text": [
            "Accuratezza fase di Cross Validation con dati di Addestramento/Validazione: 0.960\n",
            "{'algorithm': 'auto', 'n_neighbors': 5, 'weights': 'uniform'}\n",
            "Accuratezza con dati di Test: 1.000\n",
            "Risultato sui dati di test:\n",
            "              precision    recall  f1-score   support\n",
            "\n",
            "           0       1.00      1.00      1.00         6\n",
            "           1       1.00      1.00      1.00         6\n",
            "\n",
            "    accuracy                           1.00        12\n",
            "   macro avg       1.00      1.00      1.00        12\n",
            "weighted avg       1.00      1.00      1.00        12\n",
            "\n",
            "[[6 0]\n",
            " [0 6]]\n",
            "Accuratezza Test: 100.000\n",
            "Precisione  Test: 100.000\n",
            "Sensitività Test: 100.000\n",
            "Specificità Test: 100.000\n",
            "F1 score    Test: 100.000\n",
            "stimatore utilizzato - DecisionTreeClassifier\n",
            "Fitting 10 folds for each of 216 candidates, totalling 2160 fits\n"
          ]
        },
        {
          "output_type": "stream",
          "name": "stderr",
          "text": [
            "[Parallel(n_jobs=-1)]: Using backend LokyBackend with 2 concurrent workers.\n",
            "[Parallel(n_jobs=-1)]: Done 1951 tasks      | elapsed:    2.2s\n",
            "[Parallel(n_jobs=-1)]: Done 2160 out of 2160 | elapsed:    2.3s finished\n",
            "/usr/local/lib/python3.7/dist-packages/sklearn/model_selection/_search.py:281: UserWarning:\n",
            "\n",
            "The total space of parameters 2 is smaller than n_iter=20. Running 2 iterations. For exhaustive searches, use GridSearchCV.\n",
            "\n",
            "[Parallel(n_jobs=-1)]: Using backend LokyBackend with 2 concurrent workers.\n",
            "[Parallel(n_jobs=-1)]: Done  10 out of  10 | elapsed:    0.0s finished\n",
            "/usr/local/lib/python3.7/dist-packages/sklearn/utils/validation.py:760: DataConversionWarning:\n",
            "\n",
            "A column-vector y was passed when a 1d array was expected. Please change the shape of y to (n_samples, ), for example using ravel().\n",
            "\n",
            "[Parallel(n_jobs=-1)]: Using backend LokyBackend with 2 concurrent workers.\n"
          ]
        },
        {
          "output_type": "stream",
          "name": "stdout",
          "text": [
            "Accuratezza fase di Cross Validation con dati di Addestramento/Validazione: 1.000\n",
            "{'criterion': 'gini', 'max_depth': 3, 'min_samples_leaf': 1, 'min_samples_split': 2, 'min_weight_fraction_leaf': 0}\n",
            "Accuratezza con dati di Test: 1.000\n",
            "Risultato sui dati di test:\n",
            "              precision    recall  f1-score   support\n",
            "\n",
            "           0       1.00      1.00      1.00         6\n",
            "           1       1.00      1.00      1.00         6\n",
            "\n",
            "    accuracy                           1.00        12\n",
            "   macro avg       1.00      1.00      1.00        12\n",
            "weighted avg       1.00      1.00      1.00        12\n",
            "\n",
            "[[6 0]\n",
            " [0 6]]\n",
            "Accuratezza Test: 100.000\n",
            "Precisione  Test: 100.000\n",
            "Sensitività Test: 100.000\n",
            "Specificità Test: 100.000\n",
            "F1 score    Test: 100.000\n",
            "stimatore utilizzato - Support vector machine (SVC)\n",
            "Fitting 5 folds for each of 2 candidates, totalling 10 fits\n",
            "Accuratezza fase di Cross Validation con dati di Addestramento/Validazione: 0.920\n",
            "{'kernel': 'linear'}\n",
            "Accuratezza con dati di Test: 1.000\n",
            "Risultato sui dati di test:\n",
            "              precision    recall  f1-score   support\n",
            "\n",
            "           0       1.00      1.00      1.00         6\n",
            "           1       1.00      1.00      1.00         6\n",
            "\n",
            "    accuracy                           1.00        12\n",
            "   macro avg       1.00      1.00      1.00        12\n",
            "weighted avg       1.00      1.00      1.00        12\n",
            "\n",
            "[[6 0]\n",
            " [0 6]]\n",
            "Accuratezza Test: 100.000\n",
            "Precisione  Test: 100.000\n",
            "Sensitività Test: 100.000\n",
            "Specificità Test: 100.000\n",
            "F1 score    Test: 100.000\n",
            "stimatore utilizzato - KNeighborsClassifier\n",
            "Fitting 5 folds for each of 16 candidates, totalling 80 fits\n"
          ]
        },
        {
          "output_type": "stream",
          "name": "stderr",
          "text": [
            "[Parallel(n_jobs=-1)]: Done  80 out of  80 | elapsed:    0.2s finished\n",
            "/usr/local/lib/python3.7/dist-packages/sklearn/model_selection/_search.py:739: DataConversionWarning:\n",
            "\n",
            "A column-vector y was passed when a 1d array was expected. Please change the shape of y to (n_samples, ), for example using ravel().\n",
            "\n",
            "[Parallel(n_jobs=-1)]: Using backend LokyBackend with 2 concurrent workers.\n"
          ]
        },
        {
          "output_type": "stream",
          "name": "stdout",
          "text": [
            "Accuratezza fase di Cross Validation con dati di Addestramento/Validazione: 0.920\n",
            "{'algorithm': 'auto', 'n_neighbors': 5, 'weights': 'uniform'}\n",
            "Accuratezza con dati di Test: 1.000\n",
            "Risultato sui dati di test:\n",
            "              precision    recall  f1-score   support\n",
            "\n",
            "           0       1.00      1.00      1.00         6\n",
            "           1       1.00      1.00      1.00         6\n",
            "\n",
            "    accuracy                           1.00        12\n",
            "   macro avg       1.00      1.00      1.00        12\n",
            "weighted avg       1.00      1.00      1.00        12\n",
            "\n",
            "[[6 0]\n",
            " [0 6]]\n",
            "Accuratezza Test: 100.000\n",
            "Precisione  Test: 100.000\n",
            "Sensitività Test: 100.000\n",
            "Specificità Test: 100.000\n",
            "F1 score    Test: 100.000\n",
            "stimatore utilizzato - DecisionTreeClassifier\n",
            "Fitting 10 folds for each of 216 candidates, totalling 2160 fits\n"
          ]
        },
        {
          "output_type": "stream",
          "name": "stderr",
          "text": [
            "[Parallel(n_jobs=-1)]: Done 2074 tasks      | elapsed:    2.2s\n",
            "[Parallel(n_jobs=-1)]: Done 2160 out of 2160 | elapsed:    2.3s finished\n",
            "/usr/local/lib/python3.7/dist-packages/sklearn/model_selection/_search.py:281: UserWarning:\n",
            "\n",
            "The total space of parameters 2 is smaller than n_iter=20. Running 2 iterations. For exhaustive searches, use GridSearchCV.\n",
            "\n",
            "[Parallel(n_jobs=-1)]: Using backend LokyBackend with 2 concurrent workers.\n",
            "[Parallel(n_jobs=-1)]: Done  10 out of  10 | elapsed:    0.0s finished\n",
            "/usr/local/lib/python3.7/dist-packages/sklearn/utils/validation.py:760: DataConversionWarning:\n",
            "\n",
            "A column-vector y was passed when a 1d array was expected. Please change the shape of y to (n_samples, ), for example using ravel().\n",
            "\n",
            "[Parallel(n_jobs=-1)]: Using backend LokyBackend with 2 concurrent workers.\n"
          ]
        },
        {
          "output_type": "stream",
          "name": "stdout",
          "text": [
            "Accuratezza fase di Cross Validation con dati di Addestramento/Validazione: 1.000\n",
            "{'criterion': 'gini', 'max_depth': 3, 'min_samples_leaf': 1, 'min_samples_split': 2, 'min_weight_fraction_leaf': 0}\n",
            "Accuratezza con dati di Test: 1.000\n",
            "Risultato sui dati di test:\n",
            "              precision    recall  f1-score   support\n",
            "\n",
            "           0       1.00      1.00      1.00         6\n",
            "           1       1.00      1.00      1.00         6\n",
            "\n",
            "    accuracy                           1.00        12\n",
            "   macro avg       1.00      1.00      1.00        12\n",
            "weighted avg       1.00      1.00      1.00        12\n",
            "\n",
            "[[6 0]\n",
            " [0 6]]\n",
            "Accuratezza Test: 100.000\n",
            "Precisione  Test: 100.000\n",
            "Sensitività Test: 100.000\n",
            "Specificità Test: 100.000\n",
            "F1 score    Test: 100.000\n",
            "stimatore utilizzato - Support vector machine (SVC)\n",
            "Fitting 5 folds for each of 2 candidates, totalling 10 fits\n",
            "Accuratezza fase di Cross Validation con dati di Addestramento/Validazione: 1.000\n",
            "{'kernel': 'linear'}\n",
            "Accuratezza con dati di Test: 1.000\n",
            "Risultato sui dati di test:\n",
            "              precision    recall  f1-score   support\n",
            "\n",
            "           0       1.00      1.00      1.00         6\n",
            "           1       1.00      1.00      1.00         6\n",
            "\n",
            "    accuracy                           1.00        12\n",
            "   macro avg       1.00      1.00      1.00        12\n",
            "weighted avg       1.00      1.00      1.00        12\n",
            "\n",
            "[[6 0]\n",
            " [0 6]]\n",
            "Accuratezza Test: 100.000\n",
            "Precisione  Test: 100.000\n",
            "Sensitività Test: 100.000\n",
            "Specificità Test: 100.000\n",
            "F1 score    Test: 100.000\n",
            "stimatore utilizzato - KNeighborsClassifier\n",
            "Fitting 5 folds for each of 16 candidates, totalling 80 fits\n"
          ]
        },
        {
          "output_type": "stream",
          "name": "stderr",
          "text": [
            "[Parallel(n_jobs=-1)]: Done  80 out of  80 | elapsed:    0.2s finished\n",
            "/usr/local/lib/python3.7/dist-packages/sklearn/model_selection/_search.py:739: DataConversionWarning:\n",
            "\n",
            "A column-vector y was passed when a 1d array was expected. Please change the shape of y to (n_samples, ), for example using ravel().\n",
            "\n",
            "[Parallel(n_jobs=-1)]: Using backend LokyBackend with 2 concurrent workers.\n"
          ]
        },
        {
          "output_type": "stream",
          "name": "stdout",
          "text": [
            "Accuratezza fase di Cross Validation con dati di Addestramento/Validazione: 1.000\n",
            "{'algorithm': 'auto', 'n_neighbors': 5, 'weights': 'distance'}\n",
            "Accuratezza con dati di Test: 1.000\n",
            "Risultato sui dati di test:\n",
            "              precision    recall  f1-score   support\n",
            "\n",
            "           0       1.00      1.00      1.00         6\n",
            "           1       1.00      1.00      1.00         6\n",
            "\n",
            "    accuracy                           1.00        12\n",
            "   macro avg       1.00      1.00      1.00        12\n",
            "weighted avg       1.00      1.00      1.00        12\n",
            "\n",
            "[[6 0]\n",
            " [0 6]]\n",
            "Accuratezza Test: 100.000\n",
            "Precisione  Test: 100.000\n",
            "Sensitività Test: 100.000\n",
            "Specificità Test: 100.000\n",
            "F1 score    Test: 100.000\n",
            "stimatore utilizzato - DecisionTreeClassifier\n",
            "Fitting 10 folds for each of 216 candidates, totalling 2160 fits\n"
          ]
        },
        {
          "output_type": "stream",
          "name": "stderr",
          "text": [
            "[Parallel(n_jobs=-1)]: Done 2074 tasks      | elapsed:    2.2s\n",
            "[Parallel(n_jobs=-1)]: Done 2160 out of 2160 | elapsed:    2.3s finished\n",
            "/usr/local/lib/python3.7/dist-packages/sklearn/model_selection/_search.py:281: UserWarning:\n",
            "\n",
            "The total space of parameters 2 is smaller than n_iter=20. Running 2 iterations. For exhaustive searches, use GridSearchCV.\n",
            "\n",
            "[Parallel(n_jobs=-1)]: Using backend LokyBackend with 2 concurrent workers.\n",
            "[Parallel(n_jobs=-1)]: Done  10 out of  10 | elapsed:    0.0s finished\n",
            "/usr/local/lib/python3.7/dist-packages/sklearn/utils/validation.py:760: DataConversionWarning:\n",
            "\n",
            "A column-vector y was passed when a 1d array was expected. Please change the shape of y to (n_samples, ), for example using ravel().\n",
            "\n",
            "[Parallel(n_jobs=-1)]: Using backend LokyBackend with 2 concurrent workers.\n"
          ]
        },
        {
          "output_type": "stream",
          "name": "stdout",
          "text": [
            "Accuratezza fase di Cross Validation con dati di Addestramento/Validazione: 1.000\n",
            "{'criterion': 'gini', 'max_depth': 3, 'min_samples_leaf': 1, 'min_samples_split': 2, 'min_weight_fraction_leaf': 0}\n",
            "Accuratezza con dati di Test: 1.000\n",
            "Risultato sui dati di test:\n",
            "              precision    recall  f1-score   support\n",
            "\n",
            "           0       1.00      1.00      1.00         6\n",
            "           1       1.00      1.00      1.00         6\n",
            "\n",
            "    accuracy                           1.00        12\n",
            "   macro avg       1.00      1.00      1.00        12\n",
            "weighted avg       1.00      1.00      1.00        12\n",
            "\n",
            "[[6 0]\n",
            " [0 6]]\n",
            "Accuratezza Test: 100.000\n",
            "Precisione  Test: 100.000\n",
            "Sensitività Test: 100.000\n",
            "Specificità Test: 100.000\n",
            "F1 score    Test: 100.000\n",
            "stimatore utilizzato - Support vector machine (SVC)\n",
            "Fitting 5 folds for each of 2 candidates, totalling 10 fits\n",
            "Accuratezza fase di Cross Validation con dati di Addestramento/Validazione: 1.000\n",
            "{'kernel': 'linear'}\n",
            "Accuratezza con dati di Test: 1.000\n",
            "Risultato sui dati di test:\n",
            "              precision    recall  f1-score   support\n",
            "\n",
            "           0       1.00      1.00      1.00         6\n",
            "           1       1.00      1.00      1.00         6\n",
            "\n",
            "    accuracy                           1.00        12\n",
            "   macro avg       1.00      1.00      1.00        12\n",
            "weighted avg       1.00      1.00      1.00        12\n",
            "\n",
            "[[6 0]\n",
            " [0 6]]\n",
            "Accuratezza Test: 100.000\n",
            "Precisione  Test: 100.000\n",
            "Sensitività Test: 100.000\n",
            "Specificità Test: 100.000\n",
            "F1 score    Test: 100.000\n",
            "stimatore utilizzato - KNeighborsClassifier\n",
            "Fitting 5 folds for each of 16 candidates, totalling 80 fits\n"
          ]
        },
        {
          "output_type": "stream",
          "name": "stderr",
          "text": [
            "[Parallel(n_jobs=-1)]: Done  80 out of  80 | elapsed:    0.2s finished\n",
            "/usr/local/lib/python3.7/dist-packages/sklearn/model_selection/_search.py:739: DataConversionWarning:\n",
            "\n",
            "A column-vector y was passed when a 1d array was expected. Please change the shape of y to (n_samples, ), for example using ravel().\n",
            "\n",
            "[Parallel(n_jobs=-1)]: Using backend LokyBackend with 2 concurrent workers.\n"
          ]
        },
        {
          "output_type": "stream",
          "name": "stdout",
          "text": [
            "Accuratezza fase di Cross Validation con dati di Addestramento/Validazione: 0.960\n",
            "{'algorithm': 'auto', 'n_neighbors': 5, 'weights': 'distance'}\n",
            "Accuratezza con dati di Test: 1.000\n",
            "Risultato sui dati di test:\n",
            "              precision    recall  f1-score   support\n",
            "\n",
            "           0       1.00      1.00      1.00         6\n",
            "           1       1.00      1.00      1.00         6\n",
            "\n",
            "    accuracy                           1.00        12\n",
            "   macro avg       1.00      1.00      1.00        12\n",
            "weighted avg       1.00      1.00      1.00        12\n",
            "\n",
            "[[6 0]\n",
            " [0 6]]\n",
            "Accuratezza Test: 100.000\n",
            "Precisione  Test: 100.000\n",
            "Sensitività Test: 100.000\n",
            "Specificità Test: 100.000\n",
            "F1 score    Test: 100.000\n",
            "stimatore utilizzato - DecisionTreeClassifier\n",
            "Fitting 10 folds for each of 216 candidates, totalling 2160 fits\n"
          ]
        },
        {
          "output_type": "stream",
          "name": "stderr",
          "text": [
            "[Parallel(n_jobs=-1)]: Done 1972 tasks      | elapsed:    2.1s\n",
            "[Parallel(n_jobs=-1)]: Done 2160 out of 2160 | elapsed:    2.2s finished\n",
            "/usr/local/lib/python3.7/dist-packages/sklearn/model_selection/_search.py:281: UserWarning:\n",
            "\n",
            "The total space of parameters 2 is smaller than n_iter=20. Running 2 iterations. For exhaustive searches, use GridSearchCV.\n",
            "\n",
            "[Parallel(n_jobs=-1)]: Using backend LokyBackend with 2 concurrent workers.\n",
            "[Parallel(n_jobs=-1)]: Done  10 out of  10 | elapsed:    0.0s finished\n",
            "/usr/local/lib/python3.7/dist-packages/sklearn/utils/validation.py:760: DataConversionWarning:\n",
            "\n",
            "A column-vector y was passed when a 1d array was expected. Please change the shape of y to (n_samples, ), for example using ravel().\n",
            "\n",
            "[Parallel(n_jobs=-1)]: Using backend LokyBackend with 2 concurrent workers.\n"
          ]
        },
        {
          "output_type": "stream",
          "name": "stdout",
          "text": [
            "Accuratezza fase di Cross Validation con dati di Addestramento/Validazione: 0.967\n",
            "{'criterion': 'gini', 'max_depth': 3, 'min_samples_leaf': 1, 'min_samples_split': 2, 'min_weight_fraction_leaf': 0}\n",
            "Accuratezza con dati di Test: 1.000\n",
            "Risultato sui dati di test:\n",
            "              precision    recall  f1-score   support\n",
            "\n",
            "           0       1.00      1.00      1.00         6\n",
            "           1       1.00      1.00      1.00         6\n",
            "\n",
            "    accuracy                           1.00        12\n",
            "   macro avg       1.00      1.00      1.00        12\n",
            "weighted avg       1.00      1.00      1.00        12\n",
            "\n",
            "[[6 0]\n",
            " [0 6]]\n",
            "Accuratezza Test: 100.000\n",
            "Precisione  Test: 100.000\n",
            "Sensitività Test: 100.000\n",
            "Specificità Test: 100.000\n",
            "F1 score    Test: 100.000\n",
            "stimatore utilizzato - Support vector machine (SVC)\n",
            "Fitting 5 folds for each of 2 candidates, totalling 10 fits\n",
            "Accuratezza fase di Cross Validation con dati di Addestramento/Validazione: 0.960\n",
            "{'kernel': 'linear'}\n",
            "Accuratezza con dati di Test: 1.000\n",
            "Risultato sui dati di test:\n",
            "              precision    recall  f1-score   support\n",
            "\n",
            "           0       1.00      1.00      1.00         6\n",
            "           1       1.00      1.00      1.00         6\n",
            "\n",
            "    accuracy                           1.00        12\n",
            "   macro avg       1.00      1.00      1.00        12\n",
            "weighted avg       1.00      1.00      1.00        12\n",
            "\n",
            "[[6 0]\n",
            " [0 6]]\n",
            "Accuratezza Test: 100.000\n",
            "Precisione  Test: 100.000\n",
            "Sensitività Test: 100.000\n",
            "Specificità Test: 100.000\n",
            "F1 score    Test: 100.000\n",
            "stimatore utilizzato - KNeighborsClassifier\n",
            "Fitting 5 folds for each of 16 candidates, totalling 80 fits\n"
          ]
        },
        {
          "output_type": "stream",
          "name": "stderr",
          "text": [
            "[Parallel(n_jobs=-1)]: Done  80 out of  80 | elapsed:    0.2s finished\n",
            "/usr/local/lib/python3.7/dist-packages/sklearn/model_selection/_search.py:739: DataConversionWarning:\n",
            "\n",
            "A column-vector y was passed when a 1d array was expected. Please change the shape of y to (n_samples, ), for example using ravel().\n",
            "\n",
            "[Parallel(n_jobs=-1)]: Using backend LokyBackend with 2 concurrent workers.\n"
          ]
        },
        {
          "output_type": "stream",
          "name": "stdout",
          "text": [
            "Accuratezza fase di Cross Validation con dati di Addestramento/Validazione: 0.960\n",
            "{'algorithm': 'auto', 'n_neighbors': 5, 'weights': 'uniform'}\n",
            "Accuratezza con dati di Test: 0.917\n",
            "Risultato sui dati di test:\n",
            "              precision    recall  f1-score   support\n",
            "\n",
            "           0       0.86      1.00      0.92         6\n",
            "           1       1.00      0.83      0.91         6\n",
            "\n",
            "    accuracy                           0.92        12\n",
            "   macro avg       0.93      0.92      0.92        12\n",
            "weighted avg       0.93      0.92      0.92        12\n",
            "\n",
            "[[6 0]\n",
            " [1 5]]\n",
            "Accuratezza Test: 91.000\n",
            "Precisione  Test: 85.000\n",
            "Sensitività Test: 100.000\n",
            "Specificità Test: 83.000\n",
            "F1 score    Test: 91.000\n",
            "stimatore utilizzato - DecisionTreeClassifier\n",
            "Fitting 10 folds for each of 216 candidates, totalling 2160 fits\n"
          ]
        },
        {
          "output_type": "stream",
          "name": "stderr",
          "text": [
            "[Parallel(n_jobs=-1)]: Done 1016 tasks      | elapsed:    1.3s\n",
            "[Parallel(n_jobs=-1)]: Done 2160 out of 2160 | elapsed:    2.3s finished\n",
            "/usr/local/lib/python3.7/dist-packages/sklearn/model_selection/_search.py:281: UserWarning:\n",
            "\n",
            "The total space of parameters 2 is smaller than n_iter=20. Running 2 iterations. For exhaustive searches, use GridSearchCV.\n",
            "\n",
            "[Parallel(n_jobs=-1)]: Using backend LokyBackend with 2 concurrent workers.\n",
            "[Parallel(n_jobs=-1)]: Done  10 out of  10 | elapsed:    0.0s finished\n",
            "/usr/local/lib/python3.7/dist-packages/sklearn/utils/validation.py:760: DataConversionWarning:\n",
            "\n",
            "A column-vector y was passed when a 1d array was expected. Please change the shape of y to (n_samples, ), for example using ravel().\n",
            "\n",
            "[Parallel(n_jobs=-1)]: Using backend LokyBackend with 2 concurrent workers.\n"
          ]
        },
        {
          "output_type": "stream",
          "name": "stdout",
          "text": [
            "Accuratezza fase di Cross Validation con dati di Addestramento/Validazione: 1.000\n",
            "{'criterion': 'gini', 'max_depth': 3, 'min_samples_leaf': 1, 'min_samples_split': 2, 'min_weight_fraction_leaf': 0}\n",
            "Accuratezza con dati di Test: 1.000\n",
            "Risultato sui dati di test:\n",
            "              precision    recall  f1-score   support\n",
            "\n",
            "           0       1.00      1.00      1.00         6\n",
            "           1       1.00      1.00      1.00         6\n",
            "\n",
            "    accuracy                           1.00        12\n",
            "   macro avg       1.00      1.00      1.00        12\n",
            "weighted avg       1.00      1.00      1.00        12\n",
            "\n",
            "[[6 0]\n",
            " [0 6]]\n",
            "Accuratezza Test: 100.000\n",
            "Precisione  Test: 100.000\n",
            "Sensitività Test: 100.000\n",
            "Specificità Test: 100.000\n",
            "F1 score    Test: 100.000\n",
            "stimatore utilizzato - Support vector machine (SVC)\n",
            "Fitting 5 folds for each of 2 candidates, totalling 10 fits\n",
            "Accuratezza fase di Cross Validation con dati di Addestramento/Validazione: 1.000\n",
            "{'kernel': 'linear'}\n",
            "Accuratezza con dati di Test: 1.000\n",
            "Risultato sui dati di test:\n",
            "              precision    recall  f1-score   support\n",
            "\n",
            "           0       1.00      1.00      1.00         6\n",
            "           1       1.00      1.00      1.00         6\n",
            "\n",
            "    accuracy                           1.00        12\n",
            "   macro avg       1.00      1.00      1.00        12\n",
            "weighted avg       1.00      1.00      1.00        12\n",
            "\n",
            "[[6 0]\n",
            " [0 6]]\n",
            "Accuratezza Test: 100.000\n",
            "Precisione  Test: 100.000\n",
            "Sensitività Test: 100.000\n",
            "Specificità Test: 100.000\n",
            "F1 score    Test: 100.000\n",
            "stimatore utilizzato - KNeighborsClassifier\n",
            "Fitting 5 folds for each of 16 candidates, totalling 80 fits\n"
          ]
        },
        {
          "output_type": "stream",
          "name": "stderr",
          "text": [
            "[Parallel(n_jobs=-1)]: Done  80 out of  80 | elapsed:    0.2s finished\n",
            "/usr/local/lib/python3.7/dist-packages/sklearn/model_selection/_search.py:739: DataConversionWarning:\n",
            "\n",
            "A column-vector y was passed when a 1d array was expected. Please change the shape of y to (n_samples, ), for example using ravel().\n",
            "\n",
            "[Parallel(n_jobs=-1)]: Using backend LokyBackend with 2 concurrent workers.\n"
          ]
        },
        {
          "output_type": "stream",
          "name": "stdout",
          "text": [
            "Accuratezza fase di Cross Validation con dati di Addestramento/Validazione: 0.960\n",
            "{'algorithm': 'auto', 'n_neighbors': 5, 'weights': 'uniform'}\n",
            "Accuratezza con dati di Test: 1.000\n",
            "Risultato sui dati di test:\n",
            "              precision    recall  f1-score   support\n",
            "\n",
            "           0       1.00      1.00      1.00         6\n",
            "           1       1.00      1.00      1.00         6\n",
            "\n",
            "    accuracy                           1.00        12\n",
            "   macro avg       1.00      1.00      1.00        12\n",
            "weighted avg       1.00      1.00      1.00        12\n",
            "\n",
            "[[6 0]\n",
            " [0 6]]\n",
            "Accuratezza Test: 100.000\n",
            "Precisione  Test: 100.000\n",
            "Sensitività Test: 100.000\n",
            "Specificità Test: 100.000\n",
            "F1 score    Test: 100.000\n",
            "stimatore utilizzato - DecisionTreeClassifier\n",
            "Fitting 10 folds for each of 216 candidates, totalling 2160 fits\n"
          ]
        },
        {
          "output_type": "stream",
          "name": "stderr",
          "text": [
            "[Parallel(n_jobs=-1)]: Done 2074 tasks      | elapsed:    2.1s\n",
            "[Parallel(n_jobs=-1)]: Done 2160 out of 2160 | elapsed:    2.2s finished\n",
            "/usr/local/lib/python3.7/dist-packages/sklearn/model_selection/_search.py:281: UserWarning:\n",
            "\n",
            "The total space of parameters 2 is smaller than n_iter=20. Running 2 iterations. For exhaustive searches, use GridSearchCV.\n",
            "\n",
            "[Parallel(n_jobs=-1)]: Using backend LokyBackend with 2 concurrent workers.\n",
            "[Parallel(n_jobs=-1)]: Done  10 out of  10 | elapsed:    0.0s finished\n",
            "/usr/local/lib/python3.7/dist-packages/sklearn/utils/validation.py:760: DataConversionWarning:\n",
            "\n",
            "A column-vector y was passed when a 1d array was expected. Please change the shape of y to (n_samples, ), for example using ravel().\n",
            "\n",
            "[Parallel(n_jobs=-1)]: Using backend LokyBackend with 2 concurrent workers.\n"
          ]
        },
        {
          "output_type": "stream",
          "name": "stdout",
          "text": [
            "Accuratezza fase di Cross Validation con dati di Addestramento/Validazione: 1.000\n",
            "{'criterion': 'gini', 'max_depth': 3, 'min_samples_leaf': 1, 'min_samples_split': 2, 'min_weight_fraction_leaf': 0}\n",
            "Accuratezza con dati di Test: 1.000\n",
            "Risultato sui dati di test:\n",
            "              precision    recall  f1-score   support\n",
            "\n",
            "           0       1.00      1.00      1.00         6\n",
            "           1       1.00      1.00      1.00         6\n",
            "\n",
            "    accuracy                           1.00        12\n",
            "   macro avg       1.00      1.00      1.00        12\n",
            "weighted avg       1.00      1.00      1.00        12\n",
            "\n",
            "[[6 0]\n",
            " [0 6]]\n",
            "Accuratezza Test: 100.000\n",
            "Precisione  Test: 100.000\n",
            "Sensitività Test: 100.000\n",
            "Specificità Test: 100.000\n",
            "F1 score    Test: 100.000\n",
            "stimatore utilizzato - Support vector machine (SVC)\n",
            "Fitting 5 folds for each of 2 candidates, totalling 10 fits\n",
            "Accuratezza fase di Cross Validation con dati di Addestramento/Validazione: 1.000\n",
            "{'kernel': 'linear'}\n",
            "Accuratezza con dati di Test: 1.000\n",
            "Risultato sui dati di test:\n",
            "              precision    recall  f1-score   support\n",
            "\n",
            "           0       1.00      1.00      1.00         6\n",
            "           1       1.00      1.00      1.00         6\n",
            "\n",
            "    accuracy                           1.00        12\n",
            "   macro avg       1.00      1.00      1.00        12\n",
            "weighted avg       1.00      1.00      1.00        12\n",
            "\n",
            "[[6 0]\n",
            " [0 6]]\n",
            "Accuratezza Test: 100.000\n",
            "Precisione  Test: 100.000\n",
            "Sensitività Test: 100.000\n",
            "Specificità Test: 100.000\n",
            "F1 score    Test: 100.000\n",
            "stimatore utilizzato - KNeighborsClassifier\n",
            "Fitting 5 folds for each of 16 candidates, totalling 80 fits\n"
          ]
        },
        {
          "output_type": "stream",
          "name": "stderr",
          "text": [
            "[Parallel(n_jobs=-1)]: Done  80 out of  80 | elapsed:    0.2s finished\n",
            "/usr/local/lib/python3.7/dist-packages/sklearn/model_selection/_search.py:739: DataConversionWarning:\n",
            "\n",
            "A column-vector y was passed when a 1d array was expected. Please change the shape of y to (n_samples, ), for example using ravel().\n",
            "\n",
            "[Parallel(n_jobs=-1)]: Using backend LokyBackend with 2 concurrent workers.\n"
          ]
        },
        {
          "output_type": "stream",
          "name": "stdout",
          "text": [
            "Accuratezza fase di Cross Validation con dati di Addestramento/Validazione: 0.960\n",
            "{'algorithm': 'auto', 'n_neighbors': 5, 'weights': 'distance'}\n",
            "Accuratezza con dati di Test: 1.000\n",
            "Risultato sui dati di test:\n",
            "              precision    recall  f1-score   support\n",
            "\n",
            "           0       1.00      1.00      1.00         6\n",
            "           1       1.00      1.00      1.00         6\n",
            "\n",
            "    accuracy                           1.00        12\n",
            "   macro avg       1.00      1.00      1.00        12\n",
            "weighted avg       1.00      1.00      1.00        12\n",
            "\n",
            "[[6 0]\n",
            " [0 6]]\n",
            "Accuratezza Test: 100.000\n",
            "Precisione  Test: 100.000\n",
            "Sensitività Test: 100.000\n",
            "Specificità Test: 100.000\n",
            "F1 score    Test: 100.000\n",
            "stimatore utilizzato - DecisionTreeClassifier\n",
            "Fitting 10 folds for each of 216 candidates, totalling 2160 fits\n"
          ]
        },
        {
          "output_type": "stream",
          "name": "stderr",
          "text": [
            "[Parallel(n_jobs=-1)]: Done 1843 tasks      | elapsed:    2.1s\n",
            "[Parallel(n_jobs=-1)]: Done 2160 out of 2160 | elapsed:    2.2s finished\n",
            "/usr/local/lib/python3.7/dist-packages/sklearn/model_selection/_search.py:281: UserWarning:\n",
            "\n",
            "The total space of parameters 2 is smaller than n_iter=20. Running 2 iterations. For exhaustive searches, use GridSearchCV.\n",
            "\n",
            "[Parallel(n_jobs=-1)]: Using backend LokyBackend with 2 concurrent workers.\n",
            "[Parallel(n_jobs=-1)]: Done  10 out of  10 | elapsed:    0.0s finished\n",
            "/usr/local/lib/python3.7/dist-packages/sklearn/utils/validation.py:760: DataConversionWarning:\n",
            "\n",
            "A column-vector y was passed when a 1d array was expected. Please change the shape of y to (n_samples, ), for example using ravel().\n",
            "\n",
            "[Parallel(n_jobs=-1)]: Using backend LokyBackend with 2 concurrent workers.\n"
          ]
        },
        {
          "output_type": "stream",
          "name": "stdout",
          "text": [
            "Accuratezza fase di Cross Validation con dati di Addestramento/Validazione: 1.000\n",
            "{'criterion': 'gini', 'max_depth': 3, 'min_samples_leaf': 1, 'min_samples_split': 2, 'min_weight_fraction_leaf': 0}\n",
            "Accuratezza con dati di Test: 1.000\n",
            "Risultato sui dati di test:\n",
            "              precision    recall  f1-score   support\n",
            "\n",
            "           0       1.00      1.00      1.00         6\n",
            "           1       1.00      1.00      1.00         6\n",
            "\n",
            "    accuracy                           1.00        12\n",
            "   macro avg       1.00      1.00      1.00        12\n",
            "weighted avg       1.00      1.00      1.00        12\n",
            "\n",
            "[[6 0]\n",
            " [0 6]]\n",
            "Accuratezza Test: 100.000\n",
            "Precisione  Test: 100.000\n",
            "Sensitività Test: 100.000\n",
            "Specificità Test: 100.000\n",
            "F1 score    Test: 100.000\n",
            "stimatore utilizzato - Support vector machine (SVC)\n",
            "Fitting 5 folds for each of 2 candidates, totalling 10 fits\n",
            "Accuratezza fase di Cross Validation con dati di Addestramento/Validazione: 1.000\n",
            "{'kernel': 'linear'}\n",
            "Accuratezza con dati di Test: 1.000\n",
            "Risultato sui dati di test:\n",
            "              precision    recall  f1-score   support\n",
            "\n",
            "           0       1.00      1.00      1.00         6\n",
            "           1       1.00      1.00      1.00         6\n",
            "\n",
            "    accuracy                           1.00        12\n",
            "   macro avg       1.00      1.00      1.00        12\n",
            "weighted avg       1.00      1.00      1.00        12\n",
            "\n",
            "[[6 0]\n",
            " [0 6]]\n",
            "Accuratezza Test: 100.000\n",
            "Precisione  Test: 100.000\n",
            "Sensitività Test: 100.000\n",
            "Specificità Test: 100.000\n",
            "F1 score    Test: 100.000\n",
            "stimatore utilizzato - KNeighborsClassifier\n",
            "Fitting 5 folds for each of 16 candidates, totalling 80 fits\n"
          ]
        },
        {
          "output_type": "stream",
          "name": "stderr",
          "text": [
            "[Parallel(n_jobs=-1)]: Done  80 out of  80 | elapsed:    0.2s finished\n",
            "/usr/local/lib/python3.7/dist-packages/sklearn/model_selection/_search.py:739: DataConversionWarning:\n",
            "\n",
            "A column-vector y was passed when a 1d array was expected. Please change the shape of y to (n_samples, ), for example using ravel().\n",
            "\n",
            "[Parallel(n_jobs=-1)]: Using backend LokyBackend with 2 concurrent workers.\n"
          ]
        },
        {
          "output_type": "stream",
          "name": "stdout",
          "text": [
            "Accuratezza fase di Cross Validation con dati di Addestramento/Validazione: 0.960\n",
            "{'algorithm': 'auto', 'n_neighbors': 5, 'weights': 'distance'}\n",
            "Accuratezza con dati di Test: 1.000\n",
            "Risultato sui dati di test:\n",
            "              precision    recall  f1-score   support\n",
            "\n",
            "           0       1.00      1.00      1.00         6\n",
            "           1       1.00      1.00      1.00         6\n",
            "\n",
            "    accuracy                           1.00        12\n",
            "   macro avg       1.00      1.00      1.00        12\n",
            "weighted avg       1.00      1.00      1.00        12\n",
            "\n",
            "[[6 0]\n",
            " [0 6]]\n",
            "Accuratezza Test: 100.000\n",
            "Precisione  Test: 100.000\n",
            "Sensitività Test: 100.000\n",
            "Specificità Test: 100.000\n",
            "F1 score    Test: 100.000\n",
            "stimatore utilizzato - DecisionTreeClassifier\n",
            "Fitting 10 folds for each of 216 candidates, totalling 2160 fits\n"
          ]
        },
        {
          "output_type": "stream",
          "name": "stderr",
          "text": [
            "[Parallel(n_jobs=-1)]: Done 2094 tasks      | elapsed:    2.0s\n",
            "[Parallel(n_jobs=-1)]: Done 2160 out of 2160 | elapsed:    2.1s finished\n",
            "/usr/local/lib/python3.7/dist-packages/sklearn/model_selection/_search.py:281: UserWarning:\n",
            "\n",
            "The total space of parameters 2 is smaller than n_iter=20. Running 2 iterations. For exhaustive searches, use GridSearchCV.\n",
            "\n",
            "[Parallel(n_jobs=-1)]: Using backend LokyBackend with 2 concurrent workers.\n",
            "[Parallel(n_jobs=-1)]: Done  10 out of  10 | elapsed:    0.0s finished\n",
            "/usr/local/lib/python3.7/dist-packages/sklearn/utils/validation.py:760: DataConversionWarning:\n",
            "\n",
            "A column-vector y was passed when a 1d array was expected. Please change the shape of y to (n_samples, ), for example using ravel().\n",
            "\n",
            "[Parallel(n_jobs=-1)]: Using backend LokyBackend with 2 concurrent workers.\n"
          ]
        },
        {
          "output_type": "stream",
          "name": "stdout",
          "text": [
            "Accuratezza fase di Cross Validation con dati di Addestramento/Validazione: 0.967\n",
            "{'criterion': 'gini', 'max_depth': 3, 'min_samples_leaf': 1, 'min_samples_split': 2, 'min_weight_fraction_leaf': 0}\n",
            "Accuratezza con dati di Test: 1.000\n",
            "Risultato sui dati di test:\n",
            "              precision    recall  f1-score   support\n",
            "\n",
            "           0       1.00      1.00      1.00         6\n",
            "           1       1.00      1.00      1.00         6\n",
            "\n",
            "    accuracy                           1.00        12\n",
            "   macro avg       1.00      1.00      1.00        12\n",
            "weighted avg       1.00      1.00      1.00        12\n",
            "\n",
            "[[6 0]\n",
            " [0 6]]\n",
            "Accuratezza Test: 100.000\n",
            "Precisione  Test: 100.000\n",
            "Sensitività Test: 100.000\n",
            "Specificità Test: 100.000\n",
            "F1 score    Test: 100.000\n",
            "stimatore utilizzato - Support vector machine (SVC)\n",
            "Fitting 5 folds for each of 2 candidates, totalling 10 fits\n",
            "Accuratezza fase di Cross Validation con dati di Addestramento/Validazione: 0.967\n",
            "{'kernel': 'linear'}\n",
            "Accuratezza con dati di Test: 1.000\n",
            "Risultato sui dati di test:\n",
            "              precision    recall  f1-score   support\n",
            "\n",
            "           0       1.00      1.00      1.00         6\n",
            "           1       1.00      1.00      1.00         6\n",
            "\n",
            "    accuracy                           1.00        12\n",
            "   macro avg       1.00      1.00      1.00        12\n",
            "weighted avg       1.00      1.00      1.00        12\n",
            "\n",
            "[[6 0]\n",
            " [0 6]]\n",
            "Accuratezza Test: 100.000\n",
            "Precisione  Test: 100.000\n",
            "Sensitività Test: 100.000\n",
            "Specificità Test: 100.000\n",
            "F1 score    Test: 100.000\n",
            "stimatore utilizzato - KNeighborsClassifier\n",
            "Fitting 5 folds for each of 16 candidates, totalling 80 fits\n"
          ]
        },
        {
          "output_type": "stream",
          "name": "stderr",
          "text": [
            "[Parallel(n_jobs=-1)]: Done  80 out of  80 | elapsed:    0.2s finished\n",
            "/usr/local/lib/python3.7/dist-packages/sklearn/model_selection/_search.py:739: DataConversionWarning:\n",
            "\n",
            "A column-vector y was passed when a 1d array was expected. Please change the shape of y to (n_samples, ), for example using ravel().\n",
            "\n",
            "[Parallel(n_jobs=-1)]: Using backend LokyBackend with 2 concurrent workers.\n"
          ]
        },
        {
          "output_type": "stream",
          "name": "stdout",
          "text": [
            "Accuratezza fase di Cross Validation con dati di Addestramento/Validazione: 0.967\n",
            "{'algorithm': 'auto', 'n_neighbors': 5, 'weights': 'uniform'}\n",
            "Accuratezza con dati di Test: 0.917\n",
            "Risultato sui dati di test:\n",
            "              precision    recall  f1-score   support\n",
            "\n",
            "           0       0.86      1.00      0.92         6\n",
            "           1       1.00      0.83      0.91         6\n",
            "\n",
            "    accuracy                           0.92        12\n",
            "   macro avg       0.93      0.92      0.92        12\n",
            "weighted avg       0.93      0.92      0.92        12\n",
            "\n",
            "[[6 0]\n",
            " [1 5]]\n",
            "Accuratezza Test: 91.000\n",
            "Precisione  Test: 85.000\n",
            "Sensitività Test: 100.000\n",
            "Specificità Test: 83.000\n",
            "F1 score    Test: 91.000\n",
            "stimatore utilizzato - DecisionTreeClassifier\n",
            "Fitting 10 folds for each of 216 candidates, totalling 2160 fits\n"
          ]
        },
        {
          "output_type": "stream",
          "name": "stderr",
          "text": [
            "[Parallel(n_jobs=-1)]: Done 1951 tasks      | elapsed:    2.1s\n",
            "[Parallel(n_jobs=-1)]: Done 2160 out of 2160 | elapsed:    2.2s finished\n",
            "/usr/local/lib/python3.7/dist-packages/sklearn/model_selection/_search.py:281: UserWarning:\n",
            "\n",
            "The total space of parameters 2 is smaller than n_iter=20. Running 2 iterations. For exhaustive searches, use GridSearchCV.\n",
            "\n",
            "[Parallel(n_jobs=-1)]: Using backend LokyBackend with 2 concurrent workers.\n",
            "[Parallel(n_jobs=-1)]: Done  10 out of  10 | elapsed:    0.0s finished\n",
            "/usr/local/lib/python3.7/dist-packages/sklearn/utils/validation.py:760: DataConversionWarning:\n",
            "\n",
            "A column-vector y was passed when a 1d array was expected. Please change the shape of y to (n_samples, ), for example using ravel().\n",
            "\n",
            "[Parallel(n_jobs=-1)]: Using backend LokyBackend with 2 concurrent workers.\n"
          ]
        },
        {
          "output_type": "stream",
          "name": "stdout",
          "text": [
            "Accuratezza fase di Cross Validation con dati di Addestramento/Validazione: 1.000\n",
            "{'criterion': 'gini', 'max_depth': 3, 'min_samples_leaf': 1, 'min_samples_split': 2, 'min_weight_fraction_leaf': 0}\n",
            "Accuratezza con dati di Test: 1.000\n",
            "Risultato sui dati di test:\n",
            "              precision    recall  f1-score   support\n",
            "\n",
            "           0       1.00      1.00      1.00         6\n",
            "           1       1.00      1.00      1.00         6\n",
            "\n",
            "    accuracy                           1.00        12\n",
            "   macro avg       1.00      1.00      1.00        12\n",
            "weighted avg       1.00      1.00      1.00        12\n",
            "\n",
            "[[6 0]\n",
            " [0 6]]\n",
            "Accuratezza Test: 100.000\n",
            "Precisione  Test: 100.000\n",
            "Sensitività Test: 100.000\n",
            "Specificità Test: 100.000\n",
            "F1 score    Test: 100.000\n",
            "stimatore utilizzato - Support vector machine (SVC)\n",
            "Fitting 5 folds for each of 2 candidates, totalling 10 fits\n",
            "Accuratezza fase di Cross Validation con dati di Addestramento/Validazione: 1.000\n",
            "{'kernel': 'linear'}\n",
            "Accuratezza con dati di Test: 1.000\n",
            "Risultato sui dati di test:\n",
            "              precision    recall  f1-score   support\n",
            "\n",
            "           0       1.00      1.00      1.00         6\n",
            "           1       1.00      1.00      1.00         6\n",
            "\n",
            "    accuracy                           1.00        12\n",
            "   macro avg       1.00      1.00      1.00        12\n",
            "weighted avg       1.00      1.00      1.00        12\n",
            "\n",
            "[[6 0]\n",
            " [0 6]]\n",
            "Accuratezza Test: 100.000\n",
            "Precisione  Test: 100.000\n",
            "Sensitività Test: 100.000\n",
            "Specificità Test: 100.000\n",
            "F1 score    Test: 100.000\n",
            "stimatore utilizzato - KNeighborsClassifier\n",
            "Fitting 5 folds for each of 16 candidates, totalling 80 fits\n",
            "Accuratezza fase di Cross Validation con dati di Addestramento/Validazione: 1.000\n",
            "{'algorithm': 'auto', 'n_neighbors': 5, 'weights': 'distance'}\n",
            "Accuratezza con dati di Test: 1.000\n",
            "Risultato sui dati di test:\n",
            "              precision    recall  f1-score   support\n",
            "\n",
            "           0       1.00      1.00      1.00         6\n",
            "           1       1.00      1.00      1.00         6\n",
            "\n",
            "    accuracy                           1.00        12\n",
            "   macro avg       1.00      1.00      1.00        12\n",
            "weighted avg       1.00      1.00      1.00        12\n",
            "\n",
            "[[6 0]\n",
            " [0 6]]\n",
            "Accuratezza Test: 100.000\n",
            "Precisione  Test: 100.000\n",
            "Sensitività Test: 100.000\n",
            "Specificità Test: 100.000\n",
            "F1 score    Test: 100.000\n"
          ]
        },
        {
          "output_type": "stream",
          "name": "stderr",
          "text": [
            "[Parallel(n_jobs=-1)]: Done  80 out of  80 | elapsed:    0.2s finished\n",
            "/usr/local/lib/python3.7/dist-packages/sklearn/model_selection/_search.py:739: DataConversionWarning:\n",
            "\n",
            "A column-vector y was passed when a 1d array was expected. Please change the shape of y to (n_samples, ), for example using ravel().\n",
            "\n"
          ]
        }
      ]
    },
    {
      "cell_type": "markdown",
      "metadata": {
        "id": "jkO4JKhc2oEk"
      },
      "source": [
        "#### Caso3 MCI vs HCF"
      ]
    },
    {
      "cell_type": "code",
      "metadata": {
        "id": "UzA3WUfD2oEk"
      },
      "source": [
        ""
      ],
      "execution_count": null,
      "outputs": []
    },
    {
      "cell_type": "code",
      "metadata": {
        "id": "h0FH5ZLx2oEk"
      },
      "source": [
        "\n",
        "df=MCIHC.loc[:,0]\n",
        "\n",
        "X = df.to_numpy()\n",
        "\n",
        "Y = MCIHC.loc[:,1]\n",
        "y = Y.to_numpy()\n",
        "y = np.where(y == 2, 1, 0)\n",
        "\n",
        "#from sklearn.model_selection import train_test_split\n",
        "\n",
        "\n",
        "X_train, X_test, y_train, y_test = train_test_split(X, y, test_size=0.3,stratify=y,random_state=42)\n",
        "\n",
        "#pca = PCA(n_components=2)\n",
        "\n",
        "#X_train_pca = pca.fit_transform(X_train)\n",
        "#X_test_pca = pca.transform(X_test)\n",
        "\n",
        "X_train_caso3=X_train\n",
        "X_test_caso3=X_test\n",
        "y_train_caso3=y_train\n",
        "y_test_caso3=y_test"
      ],
      "execution_count": null,
      "outputs": []
    },
    {
      "cell_type": "code",
      "metadata": {
        "id": "OgGbBNgD2oEk"
      },
      "source": [
        "X_train_caso3=X_train_caso3.reshape(-1,1)\n",
        "X_test_caso3=X_test_caso3.reshape(-1,1)\n",
        "y_train_caso3=y_train_caso3.reshape(-1,1)\n",
        "y_test_caso3=y_test_caso3.reshape(-1,1)"
      ],
      "execution_count": null,
      "outputs": []
    },
    {
      "cell_type": "code",
      "metadata": {
        "colab": {
          "base_uri": "https://localhost:8080/"
        },
        "id": "2YEx1ejY2oEl",
        "outputId": "d41165a4-3aaa-4e53-a43f-53ab7c480e97"
      },
      "source": [
        "tuning_albero_decisione(3,10)"
      ],
      "execution_count": null,
      "outputs": [
        {
          "output_type": "stream",
          "name": "stderr",
          "text": [
            "[Parallel(n_jobs=-1)]: Using backend LokyBackend with 2 concurrent workers.\n"
          ]
        },
        {
          "output_type": "stream",
          "name": "stdout",
          "text": [
            "Fitting 10 folds for each of 216 candidates, totalling 2160 fits\n",
            "Accuratezza fase di Cross Validation con dati di Addestramento/Validazione: 0.817\n",
            "{'criterion': 'gini', 'max_depth': 3, 'min_samples_leaf': 1, 'min_samples_split': 3, 'min_weight_fraction_leaf': 0}\n",
            "Accuratezza con dati di Test: 0.833\n",
            "Risultato sui dati di test:\n",
            "              precision    recall  f1-score   support\n",
            "\n",
            "           0       0.75      1.00      0.86         6\n",
            "           1       1.00      0.67      0.80         6\n",
            "\n",
            "    accuracy                           0.83        12\n",
            "   macro avg       0.88      0.83      0.83        12\n",
            "weighted avg       0.88      0.83      0.83        12\n",
            "\n",
            "[[6 0]\n",
            " [2 4]]\n",
            "Accuratezza Test: 83.000\n",
            "Precisione  Test: 75.000\n",
            "Sensitività Test: 100.000\n",
            "Specificità Test: 66.000\n",
            "F1 score    Test: 85.000\n"
          ]
        },
        {
          "output_type": "stream",
          "name": "stderr",
          "text": [
            "[Parallel(n_jobs=-1)]: Done 1951 tasks      | elapsed:    2.2s\n",
            "[Parallel(n_jobs=-1)]: Done 2160 out of 2160 | elapsed:    2.4s finished\n"
          ]
        }
      ]
    },
    {
      "cell_type": "code",
      "metadata": {
        "colab": {
          "base_uri": "https://localhost:8080/"
        },
        "id": "H4a35ttp2oEl",
        "outputId": "7e999850-9076-41f1-f060-523ffb37b341"
      },
      "source": [
        "tuning_SVM(3,10)"
      ],
      "execution_count": null,
      "outputs": [
        {
          "output_type": "stream",
          "name": "stderr",
          "text": [
            "/usr/local/lib/python3.7/dist-packages/sklearn/model_selection/_search.py:281: UserWarning:\n",
            "\n",
            "The total space of parameters 2 is smaller than n_iter=20. Running 2 iterations. For exhaustive searches, use GridSearchCV.\n",
            "\n",
            "[Parallel(n_jobs=-1)]: Using backend LokyBackend with 2 concurrent workers.\n"
          ]
        },
        {
          "output_type": "stream",
          "name": "stdout",
          "text": [
            "Fitting 10 folds for each of 2 candidates, totalling 20 fits\n",
            "Accuratezza fase di Cross Validation con dati di Addestramento/Validazione: 0.867\n",
            "{'kernel': 'rbf'}\n",
            "Accuratezza con dati di Test: 0.833\n",
            "Risultato sui dati di test:\n",
            "              precision    recall  f1-score   support\n",
            "\n",
            "           0       0.75      1.00      0.86         6\n",
            "           1       1.00      0.67      0.80         6\n",
            "\n",
            "    accuracy                           0.83        12\n",
            "   macro avg       0.88      0.83      0.83        12\n",
            "weighted avg       0.88      0.83      0.83        12\n",
            "\n",
            "[[6 0]\n",
            " [2 4]]\n",
            "Accuratezza Test: 83.000\n",
            "Precisione  Test: 75.000\n",
            "Sensitività Test: 100.000\n",
            "Specificità Test: 66.000\n",
            "F1 score    Test: 85.000\n"
          ]
        },
        {
          "output_type": "stream",
          "name": "stderr",
          "text": [
            "[Parallel(n_jobs=-1)]: Done  20 out of  20 | elapsed:  1.4min finished\n",
            "/usr/local/lib/python3.7/dist-packages/sklearn/utils/validation.py:760: DataConversionWarning:\n",
            "\n",
            "A column-vector y was passed when a 1d array was expected. Please change the shape of y to (n_samples, ), for example using ravel().\n",
            "\n"
          ]
        }
      ]
    },
    {
      "cell_type": "code",
      "metadata": {
        "id": "Zs9ncMaZ2oEl"
      },
      "source": [
        "#tuning_albero_decisione_CV(3,10)"
      ],
      "execution_count": null,
      "outputs": []
    },
    {
      "cell_type": "code",
      "metadata": {
        "id": "0MvrAVxU2oEl"
      },
      "source": [
        "#tuning_SVM_CV(3,10)"
      ],
      "execution_count": null,
      "outputs": []
    },
    {
      "cell_type": "code",
      "metadata": {
        "id": "tYcIDq0Y2oEm"
      },
      "source": [
        "#validazione_incrociata_kfold(3,10,1)"
      ],
      "execution_count": null,
      "outputs": []
    },
    {
      "cell_type": "code",
      "metadata": {
        "id": "oU4bKcz42oEm"
      },
      "source": [
        "#validazione_incrociata_kfold(3,10,2)"
      ],
      "execution_count": null,
      "outputs": []
    },
    {
      "cell_type": "code",
      "metadata": {
        "id": "UMaGDYXo2oEm"
      },
      "source": [
        "#validazione_incrociata_score(3,10,1)"
      ],
      "execution_count": null,
      "outputs": []
    },
    {
      "cell_type": "code",
      "metadata": {
        "id": "-IiUAqdR2oEn"
      },
      "source": [
        "#validazione_incrociata_score(3,10,2)"
      ],
      "execution_count": null,
      "outputs": []
    },
    {
      "cell_type": "code",
      "metadata": {
        "id": "RPBp-sJ82oEn"
      },
      "source": [
        "#prova_pipeline(3,2)"
      ],
      "execution_count": null,
      "outputs": []
    },
    {
      "cell_type": "code",
      "metadata": {
        "id": "x1zIxe6n2oEn"
      },
      "source": [
        "#exec_trad(3,1)"
      ],
      "execution_count": null,
      "outputs": []
    },
    {
      "cell_type": "code",
      "metadata": {
        "id": "68GheBNN2oEn"
      },
      "source": [
        "#exec_trad(3,2)"
      ],
      "execution_count": null,
      "outputs": []
    },
    {
      "cell_type": "code",
      "metadata": {
        "colab": {
          "base_uri": "https://localhost:8080/"
        },
        "id": "CzZk3AU32oEn",
        "outputId": "fe24c8d9-524d-4d75-9208-45b9f87df5cd"
      },
      "source": [
        "tuning_KNN(3,5)"
      ],
      "execution_count": null,
      "outputs": [
        {
          "output_type": "stream",
          "name": "stderr",
          "text": [
            "[Parallel(n_jobs=-1)]: Using backend LokyBackend with 2 concurrent workers.\n"
          ]
        },
        {
          "output_type": "stream",
          "name": "stdout",
          "text": [
            "Fitting 5 folds for each of 16 candidates, totalling 80 fits\n",
            "Accuratezza fase di Cross Validation con dati di Addestramento/Validazione: 0.887\n",
            "{'algorithm': 'auto', 'n_neighbors': 5, 'weights': 'uniform'}\n",
            "Accuratezza con dati di Test: 0.917\n",
            "Risultato sui dati di test:\n",
            "              precision    recall  f1-score   support\n",
            "\n",
            "           0       0.86      1.00      0.92         6\n",
            "           1       1.00      0.83      0.91         6\n",
            "\n",
            "    accuracy                           0.92        12\n",
            "   macro avg       0.93      0.92      0.92        12\n",
            "weighted avg       0.93      0.92      0.92        12\n",
            "\n",
            "[[6 0]\n",
            " [1 5]]\n",
            "Accuratezza Test: 91.000\n",
            "Precisione  Test: 85.000\n",
            "Sensitività Test: 100.000\n",
            "Specificità Test: 83.000\n",
            "F1 score    Test: 91.000\n"
          ]
        },
        {
          "output_type": "stream",
          "name": "stderr",
          "text": [
            "[Parallel(n_jobs=-1)]: Done  80 out of  80 | elapsed:    0.2s finished\n",
            "/usr/local/lib/python3.7/dist-packages/sklearn/model_selection/_search.py:739: DataConversionWarning:\n",
            "\n",
            "A column-vector y was passed when a 1d array was expected. Please change the shape of y to (n_samples, ), for example using ravel().\n",
            "\n"
          ]
        }
      ]
    },
    {
      "cell_type": "code",
      "metadata": {
        "id": "x0pX82mC2oEo"
      },
      "source": [
        "#tuning_MP(3,10)"
      ],
      "execution_count": null,
      "outputs": []
    },
    {
      "cell_type": "code",
      "metadata": {
        "id": "luw1z78l2oEo"
      },
      "source": [
        "#tuning_LR(3,5)"
      ],
      "execution_count": null,
      "outputs": []
    },
    {
      "cell_type": "code",
      "metadata": {
        "id": "lFC6kpHm2oEo"
      },
      "source": [
        "#tuning_foresta(3,10)"
      ],
      "execution_count": null,
      "outputs": []
    },
    {
      "cell_type": "code",
      "metadata": {
        "id": "f0ASrwDx2oEp"
      },
      "source": [
        ""
      ],
      "execution_count": null,
      "outputs": []
    },
    {
      "cell_type": "code",
      "metadata": {
        "id": "sWkuz4cXhdo5"
      },
      "source": [
        ""
      ],
      "execution_count": null,
      "outputs": []
    },
    {
      "cell_type": "markdown",
      "metadata": {
        "id": "5DXJhR3ZWhRn"
      },
      "source": [
        "#### 10 Run CASE vs HC"
      ]
    },
    {
      "cell_type": "code",
      "metadata": {
        "colab": {
          "base_uri": "https://localhost:8080/"
        },
        "id": "_9xk4nkhWl3O",
        "outputId": "c5483009-225b-4e50-94fa-4164bab7aa07"
      },
      "source": [
        "for i in range(10):\n",
        "    df=CASEHC.loc[:,0]\n",
        "\n",
        "    X = df.to_numpy()\n",
        "\n",
        "    Y = CASEHC.loc[:,1]\n",
        "    y = Y.to_numpy()\n",
        "    y = np.where(y == 3, 1, 0)\n",
        "    #from sklearn.model_selection import train_test_split\n",
        "\n",
        "\n",
        "    X_train, X_test, y_train, y_test = train_test_split(X, y, test_size=0.3,stratify=y)\n",
        "\n",
        "    #pca = PCA(n_components=2)\n",
        "\n",
        "    #X_train_pca = pca.fit_transform(X_train)\n",
        "    #X_test_pca = pca.transform(X_test)\n",
        "\n",
        "    X_train_caso4=X_train\n",
        "    X_test_caso4=X_test\n",
        "    y_train_caso4=y_train\n",
        "    y_test_caso4=y_test\n",
        "    X_train_caso4=X_train_caso4.reshape(-1,1)\n",
        "    X_test_caso4=X_test_caso4.reshape(-1,1)\n",
        "    y_train_caso4=y_train_caso4.reshape(-1,1)\n",
        "    y_test_caso4=y_test_caso4.reshape(-1,1)\n",
        "\n",
        "    tuning_albero_decisione(4,5)\n",
        "    tuning_SVM(4,5)\n",
        "    tuning_KNN(4,5)"
      ],
      "execution_count": null,
      "outputs": [
        {
          "output_type": "stream",
          "name": "stdout",
          "text": [
            "stimatore utilizzato - DecisionTreeClassifier\n",
            "Fitting 5 folds for each of 216 candidates, totalling 1080 fits\n"
          ]
        },
        {
          "output_type": "stream",
          "name": "stderr",
          "text": [
            "[Parallel(n_jobs=-1)]: Using backend LokyBackend with 2 concurrent workers.\n",
            "[Parallel(n_jobs=-1)]: Done 1065 tasks      | elapsed:    1.1s\n",
            "[Parallel(n_jobs=-1)]: Done 1077 out of 1080 | elapsed:    1.2s remaining:    0.0s\n",
            "[Parallel(n_jobs=-1)]: Done 1080 out of 1080 | elapsed:    1.2s finished\n",
            "/usr/local/lib/python3.7/dist-packages/sklearn/model_selection/_search.py:281: UserWarning:\n",
            "\n",
            "The total space of parameters 2 is smaller than n_iter=20. Running 2 iterations. For exhaustive searches, use GridSearchCV.\n",
            "\n",
            "[Parallel(n_jobs=-1)]: Using backend LokyBackend with 2 concurrent workers.\n",
            "[Parallel(n_jobs=-1)]: Done  10 out of  10 | elapsed:    0.0s finished\n",
            "/usr/local/lib/python3.7/dist-packages/sklearn/utils/validation.py:760: DataConversionWarning:\n",
            "\n",
            "A column-vector y was passed when a 1d array was expected. Please change the shape of y to (n_samples, ), for example using ravel().\n",
            "\n",
            "[Parallel(n_jobs=-1)]: Using backend LokyBackend with 2 concurrent workers.\n"
          ]
        },
        {
          "output_type": "stream",
          "name": "stdout",
          "text": [
            "Accuratezza fase di Cross Validation con dati di Addestramento/Validazione: 1.000\n",
            "{'criterion': 'gini', 'max_depth': 3, 'min_samples_leaf': 1, 'min_samples_split': 2, 'min_weight_fraction_leaf': 0}\n",
            "Accuratezza con dati di Test: 1.000\n",
            "Risultato sui dati di test:\n",
            "              precision    recall  f1-score   support\n",
            "\n",
            "           0       1.00      1.00      1.00        12\n",
            "           1       1.00      1.00      1.00         6\n",
            "\n",
            "    accuracy                           1.00        18\n",
            "   macro avg       1.00      1.00      1.00        18\n",
            "weighted avg       1.00      1.00      1.00        18\n",
            "\n",
            "[[12  0]\n",
            " [ 0  6]]\n",
            "Accuratezza Test: 100.000\n",
            "Precisione  Test: 100.000\n",
            "Sensitività Test: 100.000\n",
            "Specificità Test: 100.000\n",
            "F1 score    Test: 100.000\n",
            "stimatore utilizzato - Support vector machine (SVC)\n",
            "Fitting 5 folds for each of 2 candidates, totalling 10 fits\n",
            "Accuratezza fase di Cross Validation con dati di Addestramento/Validazione: 1.000\n",
            "{'kernel': 'linear'}\n",
            "Accuratezza con dati di Test: 1.000\n",
            "Risultato sui dati di test:\n",
            "              precision    recall  f1-score   support\n",
            "\n",
            "           0       1.00      1.00      1.00        12\n",
            "           1       1.00      1.00      1.00         6\n",
            "\n",
            "    accuracy                           1.00        18\n",
            "   macro avg       1.00      1.00      1.00        18\n",
            "weighted avg       1.00      1.00      1.00        18\n",
            "\n",
            "[[12  0]\n",
            " [ 0  6]]\n",
            "Accuratezza Test: 100.000\n",
            "Precisione  Test: 100.000\n",
            "Sensitività Test: 100.000\n",
            "Specificità Test: 100.000\n",
            "F1 score    Test: 100.000\n",
            "stimatore utilizzato - KNeighborsClassifier\n",
            "Fitting 5 folds for each of 16 candidates, totalling 80 fits\n"
          ]
        },
        {
          "output_type": "stream",
          "name": "stderr",
          "text": [
            "[Parallel(n_jobs=-1)]: Done  80 out of  80 | elapsed:    0.2s finished\n",
            "/usr/local/lib/python3.7/dist-packages/sklearn/model_selection/_search.py:739: DataConversionWarning:\n",
            "\n",
            "A column-vector y was passed when a 1d array was expected. Please change the shape of y to (n_samples, ), for example using ravel().\n",
            "\n",
            "[Parallel(n_jobs=-1)]: Using backend LokyBackend with 2 concurrent workers.\n"
          ]
        },
        {
          "output_type": "stream",
          "name": "stdout",
          "text": [
            "Accuratezza fase di Cross Validation con dati di Addestramento/Validazione: 1.000\n",
            "{'algorithm': 'auto', 'n_neighbors': 5, 'weights': 'uniform'}\n",
            "Accuratezza con dati di Test: 0.889\n",
            "Risultato sui dati di test:\n",
            "              precision    recall  f1-score   support\n",
            "\n",
            "           0       1.00      0.83      0.91        12\n",
            "           1       0.75      1.00      0.86         6\n",
            "\n",
            "    accuracy                           0.89        18\n",
            "   macro avg       0.88      0.92      0.88        18\n",
            "weighted avg       0.92      0.89      0.89        18\n",
            "\n",
            "[[10  2]\n",
            " [ 0  6]]\n",
            "Accuratezza Test: 88.000\n",
            "Precisione  Test: 100.000\n",
            "Sensitività Test: 83.000\n",
            "Specificità Test: 100.000\n",
            "F1 score    Test: 90.000\n",
            "stimatore utilizzato - DecisionTreeClassifier\n",
            "Fitting 5 folds for each of 216 candidates, totalling 1080 fits\n"
          ]
        },
        {
          "output_type": "stream",
          "name": "stderr",
          "text": [
            "[Parallel(n_jobs=-1)]: Done 1062 tasks      | elapsed:    1.2s\n",
            "[Parallel(n_jobs=-1)]: Done 1077 out of 1080 | elapsed:    1.2s remaining:    0.0s\n",
            "[Parallel(n_jobs=-1)]: Done 1080 out of 1080 | elapsed:    1.2s finished\n",
            "/usr/local/lib/python3.7/dist-packages/sklearn/model_selection/_search.py:281: UserWarning:\n",
            "\n",
            "The total space of parameters 2 is smaller than n_iter=20. Running 2 iterations. For exhaustive searches, use GridSearchCV.\n",
            "\n",
            "[Parallel(n_jobs=-1)]: Using backend LokyBackend with 2 concurrent workers.\n",
            "[Parallel(n_jobs=-1)]: Done  10 out of  10 | elapsed:    0.0s finished\n",
            "/usr/local/lib/python3.7/dist-packages/sklearn/utils/validation.py:760: DataConversionWarning:\n",
            "\n",
            "A column-vector y was passed when a 1d array was expected. Please change the shape of y to (n_samples, ), for example using ravel().\n",
            "\n",
            "[Parallel(n_jobs=-1)]: Using backend LokyBackend with 2 concurrent workers.\n"
          ]
        },
        {
          "output_type": "stream",
          "name": "stdout",
          "text": [
            "Accuratezza fase di Cross Validation con dati di Addestramento/Validazione: 0.975\n",
            "{'criterion': 'gini', 'max_depth': 3, 'min_samples_leaf': 1, 'min_samples_split': 2, 'min_weight_fraction_leaf': 0}\n",
            "Accuratezza con dati di Test: 1.000\n",
            "Risultato sui dati di test:\n",
            "              precision    recall  f1-score   support\n",
            "\n",
            "           0       1.00      1.00      1.00        12\n",
            "           1       1.00      1.00      1.00         6\n",
            "\n",
            "    accuracy                           1.00        18\n",
            "   macro avg       1.00      1.00      1.00        18\n",
            "weighted avg       1.00      1.00      1.00        18\n",
            "\n",
            "[[12  0]\n",
            " [ 0  6]]\n",
            "Accuratezza Test: 100.000\n",
            "Precisione  Test: 100.000\n",
            "Sensitività Test: 100.000\n",
            "Specificità Test: 100.000\n",
            "F1 score    Test: 100.000\n",
            "stimatore utilizzato - Support vector machine (SVC)\n",
            "Fitting 5 folds for each of 2 candidates, totalling 10 fits\n",
            "Accuratezza fase di Cross Validation con dati di Addestramento/Validazione: 0.975\n",
            "{'kernel': 'linear'}\n",
            "Accuratezza con dati di Test: 1.000\n",
            "Risultato sui dati di test:\n",
            "              precision    recall  f1-score   support\n",
            "\n",
            "           0       1.00      1.00      1.00        12\n",
            "           1       1.00      1.00      1.00         6\n",
            "\n",
            "    accuracy                           1.00        18\n",
            "   macro avg       1.00      1.00      1.00        18\n",
            "weighted avg       1.00      1.00      1.00        18\n",
            "\n",
            "[[12  0]\n",
            " [ 0  6]]\n",
            "Accuratezza Test: 100.000\n",
            "Precisione  Test: 100.000\n",
            "Sensitività Test: 100.000\n",
            "Specificità Test: 100.000\n",
            "F1 score    Test: 100.000\n",
            "stimatore utilizzato - KNeighborsClassifier\n",
            "Fitting 5 folds for each of 16 candidates, totalling 80 fits\n"
          ]
        },
        {
          "output_type": "stream",
          "name": "stderr",
          "text": [
            "[Parallel(n_jobs=-1)]: Done  80 out of  80 | elapsed:    0.2s finished\n",
            "/usr/local/lib/python3.7/dist-packages/sklearn/model_selection/_search.py:739: DataConversionWarning:\n",
            "\n",
            "A column-vector y was passed when a 1d array was expected. Please change the shape of y to (n_samples, ), for example using ravel().\n",
            "\n",
            "[Parallel(n_jobs=-1)]: Using backend LokyBackend with 2 concurrent workers.\n"
          ]
        },
        {
          "output_type": "stream",
          "name": "stdout",
          "text": [
            "Accuratezza fase di Cross Validation con dati di Addestramento/Validazione: 0.975\n",
            "{'algorithm': 'auto', 'n_neighbors': 5, 'weights': 'uniform'}\n",
            "Accuratezza con dati di Test: 1.000\n",
            "Risultato sui dati di test:\n",
            "              precision    recall  f1-score   support\n",
            "\n",
            "           0       1.00      1.00      1.00        12\n",
            "           1       1.00      1.00      1.00         6\n",
            "\n",
            "    accuracy                           1.00        18\n",
            "   macro avg       1.00      1.00      1.00        18\n",
            "weighted avg       1.00      1.00      1.00        18\n",
            "\n",
            "[[12  0]\n",
            " [ 0  6]]\n",
            "Accuratezza Test: 100.000\n",
            "Precisione  Test: 100.000\n",
            "Sensitività Test: 100.000\n",
            "Specificità Test: 100.000\n",
            "F1 score    Test: 100.000\n",
            "stimatore utilizzato - DecisionTreeClassifier\n",
            "Fitting 5 folds for each of 216 candidates, totalling 1080 fits\n"
          ]
        },
        {
          "output_type": "stream",
          "name": "stderr",
          "text": [
            "[Parallel(n_jobs=-1)]: Done 1062 tasks      | elapsed:    1.1s\n",
            "[Parallel(n_jobs=-1)]: Done 1077 out of 1080 | elapsed:    1.1s remaining:    0.0s\n",
            "[Parallel(n_jobs=-1)]: Done 1080 out of 1080 | elapsed:    1.1s finished\n",
            "/usr/local/lib/python3.7/dist-packages/sklearn/model_selection/_search.py:281: UserWarning:\n",
            "\n",
            "The total space of parameters 2 is smaller than n_iter=20. Running 2 iterations. For exhaustive searches, use GridSearchCV.\n",
            "\n",
            "[Parallel(n_jobs=-1)]: Using backend LokyBackend with 2 concurrent workers.\n",
            "[Parallel(n_jobs=-1)]: Done  10 out of  10 | elapsed:    0.0s finished\n",
            "/usr/local/lib/python3.7/dist-packages/sklearn/utils/validation.py:760: DataConversionWarning:\n",
            "\n",
            "A column-vector y was passed when a 1d array was expected. Please change the shape of y to (n_samples, ), for example using ravel().\n",
            "\n",
            "[Parallel(n_jobs=-1)]: Using backend LokyBackend with 2 concurrent workers.\n"
          ]
        },
        {
          "output_type": "stream",
          "name": "stdout",
          "text": [
            "Accuratezza fase di Cross Validation con dati di Addestramento/Validazione: 1.000\n",
            "{'criterion': 'gini', 'max_depth': 3, 'min_samples_leaf': 1, 'min_samples_split': 2, 'min_weight_fraction_leaf': 0}\n",
            "Accuratezza con dati di Test: 1.000\n",
            "Risultato sui dati di test:\n",
            "              precision    recall  f1-score   support\n",
            "\n",
            "           0       1.00      1.00      1.00        12\n",
            "           1       1.00      1.00      1.00         6\n",
            "\n",
            "    accuracy                           1.00        18\n",
            "   macro avg       1.00      1.00      1.00        18\n",
            "weighted avg       1.00      1.00      1.00        18\n",
            "\n",
            "[[12  0]\n",
            " [ 0  6]]\n",
            "Accuratezza Test: 100.000\n",
            "Precisione  Test: 100.000\n",
            "Sensitività Test: 100.000\n",
            "Specificità Test: 100.000\n",
            "F1 score    Test: 100.000\n",
            "stimatore utilizzato - Support vector machine (SVC)\n",
            "Fitting 5 folds for each of 2 candidates, totalling 10 fits\n",
            "Accuratezza fase di Cross Validation con dati di Addestramento/Validazione: 1.000\n",
            "{'kernel': 'linear'}\n",
            "Accuratezza con dati di Test: 1.000\n",
            "Risultato sui dati di test:\n",
            "              precision    recall  f1-score   support\n",
            "\n",
            "           0       1.00      1.00      1.00        12\n",
            "           1       1.00      1.00      1.00         6\n",
            "\n",
            "    accuracy                           1.00        18\n",
            "   macro avg       1.00      1.00      1.00        18\n",
            "weighted avg       1.00      1.00      1.00        18\n",
            "\n",
            "[[12  0]\n",
            " [ 0  6]]\n",
            "Accuratezza Test: 100.000\n",
            "Precisione  Test: 100.000\n",
            "Sensitività Test: 100.000\n",
            "Specificità Test: 100.000\n",
            "F1 score    Test: 100.000\n",
            "stimatore utilizzato - KNeighborsClassifier\n",
            "Fitting 5 folds for each of 16 candidates, totalling 80 fits\n"
          ]
        },
        {
          "output_type": "stream",
          "name": "stderr",
          "text": [
            "[Parallel(n_jobs=-1)]: Done  80 out of  80 | elapsed:    0.2s finished\n",
            "/usr/local/lib/python3.7/dist-packages/sklearn/model_selection/_search.py:739: DataConversionWarning:\n",
            "\n",
            "A column-vector y was passed when a 1d array was expected. Please change the shape of y to (n_samples, ), for example using ravel().\n",
            "\n",
            "[Parallel(n_jobs=-1)]: Using backend LokyBackend with 2 concurrent workers.\n"
          ]
        },
        {
          "output_type": "stream",
          "name": "stdout",
          "text": [
            "Accuratezza fase di Cross Validation con dati di Addestramento/Validazione: 0.975\n",
            "{'algorithm': 'auto', 'n_neighbors': 5, 'weights': 'uniform'}\n",
            "Accuratezza con dati di Test: 1.000\n",
            "Risultato sui dati di test:\n",
            "              precision    recall  f1-score   support\n",
            "\n",
            "           0       1.00      1.00      1.00        12\n",
            "           1       1.00      1.00      1.00         6\n",
            "\n",
            "    accuracy                           1.00        18\n",
            "   macro avg       1.00      1.00      1.00        18\n",
            "weighted avg       1.00      1.00      1.00        18\n",
            "\n",
            "[[12  0]\n",
            " [ 0  6]]\n",
            "Accuratezza Test: 100.000\n",
            "Precisione  Test: 100.000\n",
            "Sensitività Test: 100.000\n",
            "Specificità Test: 100.000\n",
            "F1 score    Test: 100.000\n",
            "stimatore utilizzato - DecisionTreeClassifier\n",
            "Fitting 5 folds for each of 216 candidates, totalling 1080 fits\n"
          ]
        },
        {
          "output_type": "stream",
          "name": "stderr",
          "text": [
            "[Parallel(n_jobs=-1)]: Done 1065 tasks      | elapsed:    1.1s\n",
            "[Parallel(n_jobs=-1)]: Done 1077 out of 1080 | elapsed:    1.1s remaining:    0.0s\n",
            "[Parallel(n_jobs=-1)]: Done 1080 out of 1080 | elapsed:    1.1s finished\n",
            "/usr/local/lib/python3.7/dist-packages/sklearn/model_selection/_search.py:281: UserWarning:\n",
            "\n",
            "The total space of parameters 2 is smaller than n_iter=20. Running 2 iterations. For exhaustive searches, use GridSearchCV.\n",
            "\n",
            "[Parallel(n_jobs=-1)]: Using backend LokyBackend with 2 concurrent workers.\n",
            "[Parallel(n_jobs=-1)]: Done  10 out of  10 | elapsed:    0.0s finished\n",
            "/usr/local/lib/python3.7/dist-packages/sklearn/utils/validation.py:760: DataConversionWarning:\n",
            "\n",
            "A column-vector y was passed when a 1d array was expected. Please change the shape of y to (n_samples, ), for example using ravel().\n",
            "\n",
            "[Parallel(n_jobs=-1)]: Using backend LokyBackend with 2 concurrent workers.\n"
          ]
        },
        {
          "output_type": "stream",
          "name": "stdout",
          "text": [
            "Accuratezza fase di Cross Validation con dati di Addestramento/Validazione: 1.000\n",
            "{'criterion': 'gini', 'max_depth': 3, 'min_samples_leaf': 1, 'min_samples_split': 2, 'min_weight_fraction_leaf': 0}\n",
            "Accuratezza con dati di Test: 1.000\n",
            "Risultato sui dati di test:\n",
            "              precision    recall  f1-score   support\n",
            "\n",
            "           0       1.00      1.00      1.00        12\n",
            "           1       1.00      1.00      1.00         6\n",
            "\n",
            "    accuracy                           1.00        18\n",
            "   macro avg       1.00      1.00      1.00        18\n",
            "weighted avg       1.00      1.00      1.00        18\n",
            "\n",
            "[[12  0]\n",
            " [ 0  6]]\n",
            "Accuratezza Test: 100.000\n",
            "Precisione  Test: 100.000\n",
            "Sensitività Test: 100.000\n",
            "Specificità Test: 100.000\n",
            "F1 score    Test: 100.000\n",
            "stimatore utilizzato - Support vector machine (SVC)\n",
            "Fitting 5 folds for each of 2 candidates, totalling 10 fits\n",
            "Accuratezza fase di Cross Validation con dati di Addestramento/Validazione: 1.000\n",
            "{'kernel': 'linear'}\n",
            "Accuratezza con dati di Test: 1.000\n",
            "Risultato sui dati di test:\n",
            "              precision    recall  f1-score   support\n",
            "\n",
            "           0       1.00      1.00      1.00        12\n",
            "           1       1.00      1.00      1.00         6\n",
            "\n",
            "    accuracy                           1.00        18\n",
            "   macro avg       1.00      1.00      1.00        18\n",
            "weighted avg       1.00      1.00      1.00        18\n",
            "\n",
            "[[12  0]\n",
            " [ 0  6]]\n",
            "Accuratezza Test: 100.000\n",
            "Precisione  Test: 100.000\n",
            "Sensitività Test: 100.000\n",
            "Specificità Test: 100.000\n",
            "F1 score    Test: 100.000\n",
            "stimatore utilizzato - KNeighborsClassifier\n",
            "Fitting 5 folds for each of 16 candidates, totalling 80 fits\n"
          ]
        },
        {
          "output_type": "stream",
          "name": "stderr",
          "text": [
            "[Parallel(n_jobs=-1)]: Done  77 out of  80 | elapsed:    0.2s remaining:    0.0s\n",
            "[Parallel(n_jobs=-1)]: Done  80 out of  80 | elapsed:    0.2s finished\n",
            "/usr/local/lib/python3.7/dist-packages/sklearn/model_selection/_search.py:739: DataConversionWarning:\n",
            "\n",
            "A column-vector y was passed when a 1d array was expected. Please change the shape of y to (n_samples, ), for example using ravel().\n",
            "\n",
            "[Parallel(n_jobs=-1)]: Using backend LokyBackend with 2 concurrent workers.\n"
          ]
        },
        {
          "output_type": "stream",
          "name": "stdout",
          "text": [
            "Accuratezza fase di Cross Validation con dati di Addestramento/Validazione: 0.975\n",
            "{'algorithm': 'auto', 'n_neighbors': 5, 'weights': 'distance'}\n",
            "Accuratezza con dati di Test: 1.000\n",
            "Risultato sui dati di test:\n",
            "              precision    recall  f1-score   support\n",
            "\n",
            "           0       1.00      1.00      1.00        12\n",
            "           1       1.00      1.00      1.00         6\n",
            "\n",
            "    accuracy                           1.00        18\n",
            "   macro avg       1.00      1.00      1.00        18\n",
            "weighted avg       1.00      1.00      1.00        18\n",
            "\n",
            "[[12  0]\n",
            " [ 0  6]]\n",
            "Accuratezza Test: 100.000\n",
            "Precisione  Test: 100.000\n",
            "Sensitività Test: 100.000\n",
            "Specificità Test: 100.000\n",
            "F1 score    Test: 100.000\n",
            "stimatore utilizzato - DecisionTreeClassifier\n",
            "Fitting 5 folds for each of 216 candidates, totalling 1080 fits\n"
          ]
        },
        {
          "output_type": "stream",
          "name": "stderr",
          "text": [
            "[Parallel(n_jobs=-1)]: Done 937 tasks      | elapsed:    1.1s\n",
            "[Parallel(n_jobs=-1)]: Done 1080 out of 1080 | elapsed:    1.2s finished\n",
            "/usr/local/lib/python3.7/dist-packages/sklearn/model_selection/_search.py:281: UserWarning:\n",
            "\n",
            "The total space of parameters 2 is smaller than n_iter=20. Running 2 iterations. For exhaustive searches, use GridSearchCV.\n",
            "\n",
            "[Parallel(n_jobs=-1)]: Using backend LokyBackend with 2 concurrent workers.\n",
            "[Parallel(n_jobs=-1)]: Done  10 out of  10 | elapsed:    0.0s finished\n",
            "/usr/local/lib/python3.7/dist-packages/sklearn/utils/validation.py:760: DataConversionWarning:\n",
            "\n",
            "A column-vector y was passed when a 1d array was expected. Please change the shape of y to (n_samples, ), for example using ravel().\n",
            "\n",
            "[Parallel(n_jobs=-1)]: Using backend LokyBackend with 2 concurrent workers.\n"
          ]
        },
        {
          "output_type": "stream",
          "name": "stdout",
          "text": [
            "Accuratezza fase di Cross Validation con dati di Addestramento/Validazione: 1.000\n",
            "{'criterion': 'gini', 'max_depth': 3, 'min_samples_leaf': 1, 'min_samples_split': 2, 'min_weight_fraction_leaf': 0}\n",
            "Accuratezza con dati di Test: 1.000\n",
            "Risultato sui dati di test:\n",
            "              precision    recall  f1-score   support\n",
            "\n",
            "           0       1.00      1.00      1.00        12\n",
            "           1       1.00      1.00      1.00         6\n",
            "\n",
            "    accuracy                           1.00        18\n",
            "   macro avg       1.00      1.00      1.00        18\n",
            "weighted avg       1.00      1.00      1.00        18\n",
            "\n",
            "[[12  0]\n",
            " [ 0  6]]\n",
            "Accuratezza Test: 100.000\n",
            "Precisione  Test: 100.000\n",
            "Sensitività Test: 100.000\n",
            "Specificità Test: 100.000\n",
            "F1 score    Test: 100.000\n",
            "stimatore utilizzato - Support vector machine (SVC)\n",
            "Fitting 5 folds for each of 2 candidates, totalling 10 fits\n",
            "Accuratezza fase di Cross Validation con dati di Addestramento/Validazione: 1.000\n",
            "{'kernel': 'linear'}\n",
            "Accuratezza con dati di Test: 1.000\n",
            "Risultato sui dati di test:\n",
            "              precision    recall  f1-score   support\n",
            "\n",
            "           0       1.00      1.00      1.00        12\n",
            "           1       1.00      1.00      1.00         6\n",
            "\n",
            "    accuracy                           1.00        18\n",
            "   macro avg       1.00      1.00      1.00        18\n",
            "weighted avg       1.00      1.00      1.00        18\n",
            "\n",
            "[[12  0]\n",
            " [ 0  6]]\n",
            "Accuratezza Test: 100.000\n",
            "Precisione  Test: 100.000\n",
            "Sensitività Test: 100.000\n",
            "Specificità Test: 100.000\n",
            "F1 score    Test: 100.000\n",
            "stimatore utilizzato - KNeighborsClassifier\n",
            "Fitting 5 folds for each of 16 candidates, totalling 80 fits\n"
          ]
        },
        {
          "output_type": "stream",
          "name": "stderr",
          "text": [
            "[Parallel(n_jobs=-1)]: Done  80 out of  80 | elapsed:    0.2s finished\n",
            "/usr/local/lib/python3.7/dist-packages/sklearn/model_selection/_search.py:739: DataConversionWarning:\n",
            "\n",
            "A column-vector y was passed when a 1d array was expected. Please change the shape of y to (n_samples, ), for example using ravel().\n",
            "\n",
            "[Parallel(n_jobs=-1)]: Using backend LokyBackend with 2 concurrent workers.\n"
          ]
        },
        {
          "output_type": "stream",
          "name": "stdout",
          "text": [
            "Accuratezza fase di Cross Validation con dati di Addestramento/Validazione: 1.000\n",
            "{'algorithm': 'auto', 'n_neighbors': 5, 'weights': 'distance'}\n",
            "Accuratezza con dati di Test: 1.000\n",
            "Risultato sui dati di test:\n",
            "              precision    recall  f1-score   support\n",
            "\n",
            "           0       1.00      1.00      1.00        12\n",
            "           1       1.00      1.00      1.00         6\n",
            "\n",
            "    accuracy                           1.00        18\n",
            "   macro avg       1.00      1.00      1.00        18\n",
            "weighted avg       1.00      1.00      1.00        18\n",
            "\n",
            "[[12  0]\n",
            " [ 0  6]]\n",
            "Accuratezza Test: 100.000\n",
            "Precisione  Test: 100.000\n",
            "Sensitività Test: 100.000\n",
            "Specificità Test: 100.000\n",
            "F1 score    Test: 100.000\n",
            "stimatore utilizzato - DecisionTreeClassifier\n",
            "Fitting 5 folds for each of 216 candidates, totalling 1080 fits\n"
          ]
        },
        {
          "output_type": "stream",
          "name": "stderr",
          "text": [
            "[Parallel(n_jobs=-1)]: Done 1064 tasks      | elapsed:    1.0s\n",
            "[Parallel(n_jobs=-1)]: Done 1080 out of 1080 | elapsed:    1.0s finished\n",
            "/usr/local/lib/python3.7/dist-packages/sklearn/model_selection/_search.py:281: UserWarning:\n",
            "\n",
            "The total space of parameters 2 is smaller than n_iter=20. Running 2 iterations. For exhaustive searches, use GridSearchCV.\n",
            "\n",
            "[Parallel(n_jobs=-1)]: Using backend LokyBackend with 2 concurrent workers.\n",
            "[Parallel(n_jobs=-1)]: Done   7 out of  10 | elapsed:    0.0s remaining:    0.0s\n",
            "[Parallel(n_jobs=-1)]: Done  10 out of  10 | elapsed:    0.0s finished\n",
            "/usr/local/lib/python3.7/dist-packages/sklearn/utils/validation.py:760: DataConversionWarning:\n",
            "\n",
            "A column-vector y was passed when a 1d array was expected. Please change the shape of y to (n_samples, ), for example using ravel().\n",
            "\n",
            "[Parallel(n_jobs=-1)]: Using backend LokyBackend with 2 concurrent workers.\n"
          ]
        },
        {
          "output_type": "stream",
          "name": "stdout",
          "text": [
            "Accuratezza fase di Cross Validation con dati di Addestramento/Validazione: 1.000\n",
            "{'criterion': 'gini', 'max_depth': 3, 'min_samples_leaf': 1, 'min_samples_split': 2, 'min_weight_fraction_leaf': 0}\n",
            "Accuratezza con dati di Test: 1.000\n",
            "Risultato sui dati di test:\n",
            "              precision    recall  f1-score   support\n",
            "\n",
            "           0       1.00      1.00      1.00        12\n",
            "           1       1.00      1.00      1.00         6\n",
            "\n",
            "    accuracy                           1.00        18\n",
            "   macro avg       1.00      1.00      1.00        18\n",
            "weighted avg       1.00      1.00      1.00        18\n",
            "\n",
            "[[12  0]\n",
            " [ 0  6]]\n",
            "Accuratezza Test: 100.000\n",
            "Precisione  Test: 100.000\n",
            "Sensitività Test: 100.000\n",
            "Specificità Test: 100.000\n",
            "F1 score    Test: 100.000\n",
            "stimatore utilizzato - Support vector machine (SVC)\n",
            "Fitting 5 folds for each of 2 candidates, totalling 10 fits\n",
            "Accuratezza fase di Cross Validation con dati di Addestramento/Validazione: 1.000\n",
            "{'kernel': 'linear'}\n",
            "Accuratezza con dati di Test: 1.000\n",
            "Risultato sui dati di test:\n",
            "              precision    recall  f1-score   support\n",
            "\n",
            "           0       1.00      1.00      1.00        12\n",
            "           1       1.00      1.00      1.00         6\n",
            "\n",
            "    accuracy                           1.00        18\n",
            "   macro avg       1.00      1.00      1.00        18\n",
            "weighted avg       1.00      1.00      1.00        18\n",
            "\n",
            "[[12  0]\n",
            " [ 0  6]]\n",
            "Accuratezza Test: 100.000\n",
            "Precisione  Test: 100.000\n",
            "Sensitività Test: 100.000\n",
            "Specificità Test: 100.000\n",
            "F1 score    Test: 100.000\n",
            "stimatore utilizzato - KNeighborsClassifier\n",
            "Fitting 5 folds for each of 16 candidates, totalling 80 fits\n"
          ]
        },
        {
          "output_type": "stream",
          "name": "stderr",
          "text": [
            "[Parallel(n_jobs=-1)]: Done  80 out of  80 | elapsed:    0.2s finished\n",
            "/usr/local/lib/python3.7/dist-packages/sklearn/model_selection/_search.py:739: DataConversionWarning:\n",
            "\n",
            "A column-vector y was passed when a 1d array was expected. Please change the shape of y to (n_samples, ), for example using ravel().\n",
            "\n",
            "[Parallel(n_jobs=-1)]: Using backend LokyBackend with 2 concurrent workers.\n"
          ]
        },
        {
          "output_type": "stream",
          "name": "stdout",
          "text": [
            "Accuratezza fase di Cross Validation con dati di Addestramento/Validazione: 1.000\n",
            "{'algorithm': 'auto', 'n_neighbors': 5, 'weights': 'uniform'}\n",
            "Accuratezza con dati di Test: 0.944\n",
            "Risultato sui dati di test:\n",
            "              precision    recall  f1-score   support\n",
            "\n",
            "           0       1.00      0.92      0.96        12\n",
            "           1       0.86      1.00      0.92         6\n",
            "\n",
            "    accuracy                           0.94        18\n",
            "   macro avg       0.93      0.96      0.94        18\n",
            "weighted avg       0.95      0.94      0.95        18\n",
            "\n",
            "[[11  1]\n",
            " [ 0  6]]\n",
            "Accuratezza Test: 94.000\n",
            "Precisione  Test: 100.000\n",
            "Sensitività Test: 91.000\n",
            "Specificità Test: 100.000\n",
            "F1 score    Test: 95.000\n",
            "stimatore utilizzato - DecisionTreeClassifier\n",
            "Fitting 5 folds for each of 216 candidates, totalling 1080 fits\n"
          ]
        },
        {
          "output_type": "stream",
          "name": "stderr",
          "text": [
            "[Parallel(n_jobs=-1)]: Done 1062 tasks      | elapsed:    1.0s\n",
            "[Parallel(n_jobs=-1)]: Done 1077 out of 1080 | elapsed:    1.0s remaining:    0.0s\n",
            "[Parallel(n_jobs=-1)]: Done 1080 out of 1080 | elapsed:    1.0s finished\n",
            "/usr/local/lib/python3.7/dist-packages/sklearn/model_selection/_search.py:281: UserWarning:\n",
            "\n",
            "The total space of parameters 2 is smaller than n_iter=20. Running 2 iterations. For exhaustive searches, use GridSearchCV.\n",
            "\n",
            "[Parallel(n_jobs=-1)]: Using backend LokyBackend with 2 concurrent workers.\n",
            "[Parallel(n_jobs=-1)]: Done  10 out of  10 | elapsed:    0.0s finished\n",
            "/usr/local/lib/python3.7/dist-packages/sklearn/utils/validation.py:760: DataConversionWarning:\n",
            "\n",
            "A column-vector y was passed when a 1d array was expected. Please change the shape of y to (n_samples, ), for example using ravel().\n",
            "\n",
            "[Parallel(n_jobs=-1)]: Using backend LokyBackend with 2 concurrent workers.\n"
          ]
        },
        {
          "output_type": "stream",
          "name": "stdout",
          "text": [
            "Accuratezza fase di Cross Validation con dati di Addestramento/Validazione: 1.000\n",
            "{'criterion': 'gini', 'max_depth': 3, 'min_samples_leaf': 1, 'min_samples_split': 2, 'min_weight_fraction_leaf': 0}\n",
            "Accuratezza con dati di Test: 1.000\n",
            "Risultato sui dati di test:\n",
            "              precision    recall  f1-score   support\n",
            "\n",
            "           0       1.00      1.00      1.00        12\n",
            "           1       1.00      1.00      1.00         6\n",
            "\n",
            "    accuracy                           1.00        18\n",
            "   macro avg       1.00      1.00      1.00        18\n",
            "weighted avg       1.00      1.00      1.00        18\n",
            "\n",
            "[[12  0]\n",
            " [ 0  6]]\n",
            "Accuratezza Test: 100.000\n",
            "Precisione  Test: 100.000\n",
            "Sensitività Test: 100.000\n",
            "Specificità Test: 100.000\n",
            "F1 score    Test: 100.000\n",
            "stimatore utilizzato - Support vector machine (SVC)\n",
            "Fitting 5 folds for each of 2 candidates, totalling 10 fits\n",
            "Accuratezza fase di Cross Validation con dati di Addestramento/Validazione: 1.000\n",
            "{'kernel': 'linear'}\n",
            "Accuratezza con dati di Test: 1.000\n",
            "Risultato sui dati di test:\n",
            "              precision    recall  f1-score   support\n",
            "\n",
            "           0       1.00      1.00      1.00        12\n",
            "           1       1.00      1.00      1.00         6\n",
            "\n",
            "    accuracy                           1.00        18\n",
            "   macro avg       1.00      1.00      1.00        18\n",
            "weighted avg       1.00      1.00      1.00        18\n",
            "\n",
            "[[12  0]\n",
            " [ 0  6]]\n",
            "Accuratezza Test: 100.000\n",
            "Precisione  Test: 100.000\n",
            "Sensitività Test: 100.000\n",
            "Specificità Test: 100.000\n",
            "F1 score    Test: 100.000\n",
            "stimatore utilizzato - KNeighborsClassifier\n",
            "Fitting 5 folds for each of 16 candidates, totalling 80 fits\n"
          ]
        },
        {
          "output_type": "stream",
          "name": "stderr",
          "text": [
            "[Parallel(n_jobs=-1)]: Done  80 out of  80 | elapsed:    0.2s finished\n",
            "/usr/local/lib/python3.7/dist-packages/sklearn/model_selection/_search.py:739: DataConversionWarning:\n",
            "\n",
            "A column-vector y was passed when a 1d array was expected. Please change the shape of y to (n_samples, ), for example using ravel().\n",
            "\n",
            "[Parallel(n_jobs=-1)]: Using backend LokyBackend with 2 concurrent workers.\n"
          ]
        },
        {
          "output_type": "stream",
          "name": "stdout",
          "text": [
            "Accuratezza fase di Cross Validation con dati di Addestramento/Validazione: 1.000\n",
            "{'algorithm': 'auto', 'n_neighbors': 5, 'weights': 'distance'}\n",
            "Accuratezza con dati di Test: 1.000\n",
            "Risultato sui dati di test:\n",
            "              precision    recall  f1-score   support\n",
            "\n",
            "           0       1.00      1.00      1.00        12\n",
            "           1       1.00      1.00      1.00         6\n",
            "\n",
            "    accuracy                           1.00        18\n",
            "   macro avg       1.00      1.00      1.00        18\n",
            "weighted avg       1.00      1.00      1.00        18\n",
            "\n",
            "[[12  0]\n",
            " [ 0  6]]\n",
            "Accuratezza Test: 100.000\n",
            "Precisione  Test: 100.000\n",
            "Sensitività Test: 100.000\n",
            "Specificità Test: 100.000\n",
            "F1 score    Test: 100.000\n",
            "stimatore utilizzato - DecisionTreeClassifier\n",
            "Fitting 5 folds for each of 216 candidates, totalling 1080 fits\n"
          ]
        },
        {
          "output_type": "stream",
          "name": "stderr",
          "text": [
            "[Parallel(n_jobs=-1)]: Done 1062 tasks      | elapsed:    1.2s\n",
            "[Parallel(n_jobs=-1)]: Done 1077 out of 1080 | elapsed:    1.2s remaining:    0.0s\n",
            "[Parallel(n_jobs=-1)]: Done 1080 out of 1080 | elapsed:    1.2s finished\n",
            "/usr/local/lib/python3.7/dist-packages/sklearn/model_selection/_search.py:281: UserWarning:\n",
            "\n",
            "The total space of parameters 2 is smaller than n_iter=20. Running 2 iterations. For exhaustive searches, use GridSearchCV.\n",
            "\n",
            "[Parallel(n_jobs=-1)]: Using backend LokyBackend with 2 concurrent workers.\n",
            "[Parallel(n_jobs=-1)]: Done   7 out of  10 | elapsed:    0.0s remaining:    0.0s\n",
            "[Parallel(n_jobs=-1)]: Done  10 out of  10 | elapsed:    0.0s finished\n",
            "/usr/local/lib/python3.7/dist-packages/sklearn/utils/validation.py:760: DataConversionWarning:\n",
            "\n",
            "A column-vector y was passed when a 1d array was expected. Please change the shape of y to (n_samples, ), for example using ravel().\n",
            "\n",
            "[Parallel(n_jobs=-1)]: Using backend LokyBackend with 2 concurrent workers.\n"
          ]
        },
        {
          "output_type": "stream",
          "name": "stdout",
          "text": [
            "Accuratezza fase di Cross Validation con dati di Addestramento/Validazione: 1.000\n",
            "{'criterion': 'gini', 'max_depth': 3, 'min_samples_leaf': 1, 'min_samples_split': 2, 'min_weight_fraction_leaf': 0}\n",
            "Accuratezza con dati di Test: 1.000\n",
            "Risultato sui dati di test:\n",
            "              precision    recall  f1-score   support\n",
            "\n",
            "           0       1.00      1.00      1.00        12\n",
            "           1       1.00      1.00      1.00         6\n",
            "\n",
            "    accuracy                           1.00        18\n",
            "   macro avg       1.00      1.00      1.00        18\n",
            "weighted avg       1.00      1.00      1.00        18\n",
            "\n",
            "[[12  0]\n",
            " [ 0  6]]\n",
            "Accuratezza Test: 100.000\n",
            "Precisione  Test: 100.000\n",
            "Sensitività Test: 100.000\n",
            "Specificità Test: 100.000\n",
            "F1 score    Test: 100.000\n",
            "stimatore utilizzato - Support vector machine (SVC)\n",
            "Fitting 5 folds for each of 2 candidates, totalling 10 fits\n",
            "Accuratezza fase di Cross Validation con dati di Addestramento/Validazione: 1.000\n",
            "{'kernel': 'linear'}\n",
            "Accuratezza con dati di Test: 1.000\n",
            "Risultato sui dati di test:\n",
            "              precision    recall  f1-score   support\n",
            "\n",
            "           0       1.00      1.00      1.00        12\n",
            "           1       1.00      1.00      1.00         6\n",
            "\n",
            "    accuracy                           1.00        18\n",
            "   macro avg       1.00      1.00      1.00        18\n",
            "weighted avg       1.00      1.00      1.00        18\n",
            "\n",
            "[[12  0]\n",
            " [ 0  6]]\n",
            "Accuratezza Test: 100.000\n",
            "Precisione  Test: 100.000\n",
            "Sensitività Test: 100.000\n",
            "Specificità Test: 100.000\n",
            "F1 score    Test: 100.000\n",
            "stimatore utilizzato - KNeighborsClassifier\n",
            "Fitting 5 folds for each of 16 candidates, totalling 80 fits\n"
          ]
        },
        {
          "output_type": "stream",
          "name": "stderr",
          "text": [
            "[Parallel(n_jobs=-1)]: Done  80 out of  80 | elapsed:    0.2s finished\n",
            "/usr/local/lib/python3.7/dist-packages/sklearn/model_selection/_search.py:739: DataConversionWarning:\n",
            "\n",
            "A column-vector y was passed when a 1d array was expected. Please change the shape of y to (n_samples, ), for example using ravel().\n",
            "\n",
            "[Parallel(n_jobs=-1)]: Using backend LokyBackend with 2 concurrent workers.\n"
          ]
        },
        {
          "output_type": "stream",
          "name": "stdout",
          "text": [
            "Accuratezza fase di Cross Validation con dati di Addestramento/Validazione: 1.000\n",
            "{'algorithm': 'auto', 'n_neighbors': 5, 'weights': 'uniform'}\n",
            "Accuratezza con dati di Test: 1.000\n",
            "Risultato sui dati di test:\n",
            "              precision    recall  f1-score   support\n",
            "\n",
            "           0       1.00      1.00      1.00        12\n",
            "           1       1.00      1.00      1.00         6\n",
            "\n",
            "    accuracy                           1.00        18\n",
            "   macro avg       1.00      1.00      1.00        18\n",
            "weighted avg       1.00      1.00      1.00        18\n",
            "\n",
            "[[12  0]\n",
            " [ 0  6]]\n",
            "Accuratezza Test: 100.000\n",
            "Precisione  Test: 100.000\n",
            "Sensitività Test: 100.000\n",
            "Specificità Test: 100.000\n",
            "F1 score    Test: 100.000\n",
            "stimatore utilizzato - DecisionTreeClassifier\n",
            "Fitting 5 folds for each of 216 candidates, totalling 1080 fits\n"
          ]
        },
        {
          "output_type": "stream",
          "name": "stderr",
          "text": [
            "[Parallel(n_jobs=-1)]: Done 1062 tasks      | elapsed:    1.1s\n",
            "[Parallel(n_jobs=-1)]: Done 1077 out of 1080 | elapsed:    1.1s remaining:    0.0s\n",
            "[Parallel(n_jobs=-1)]: Done 1080 out of 1080 | elapsed:    1.2s finished\n",
            "/usr/local/lib/python3.7/dist-packages/sklearn/model_selection/_search.py:281: UserWarning:\n",
            "\n",
            "The total space of parameters 2 is smaller than n_iter=20. Running 2 iterations. For exhaustive searches, use GridSearchCV.\n",
            "\n",
            "[Parallel(n_jobs=-1)]: Using backend LokyBackend with 2 concurrent workers.\n",
            "[Parallel(n_jobs=-1)]: Done  10 out of  10 | elapsed:    0.0s finished\n",
            "/usr/local/lib/python3.7/dist-packages/sklearn/utils/validation.py:760: DataConversionWarning:\n",
            "\n",
            "A column-vector y was passed when a 1d array was expected. Please change the shape of y to (n_samples, ), for example using ravel().\n",
            "\n",
            "[Parallel(n_jobs=-1)]: Using backend LokyBackend with 2 concurrent workers.\n"
          ]
        },
        {
          "output_type": "stream",
          "name": "stdout",
          "text": [
            "Accuratezza fase di Cross Validation con dati di Addestramento/Validazione: 1.000\n",
            "{'criterion': 'gini', 'max_depth': 3, 'min_samples_leaf': 1, 'min_samples_split': 2, 'min_weight_fraction_leaf': 0}\n",
            "Accuratezza con dati di Test: 1.000\n",
            "Risultato sui dati di test:\n",
            "              precision    recall  f1-score   support\n",
            "\n",
            "           0       1.00      1.00      1.00        12\n",
            "           1       1.00      1.00      1.00         6\n",
            "\n",
            "    accuracy                           1.00        18\n",
            "   macro avg       1.00      1.00      1.00        18\n",
            "weighted avg       1.00      1.00      1.00        18\n",
            "\n",
            "[[12  0]\n",
            " [ 0  6]]\n",
            "Accuratezza Test: 100.000\n",
            "Precisione  Test: 100.000\n",
            "Sensitività Test: 100.000\n",
            "Specificità Test: 100.000\n",
            "F1 score    Test: 100.000\n",
            "stimatore utilizzato - Support vector machine (SVC)\n",
            "Fitting 5 folds for each of 2 candidates, totalling 10 fits\n",
            "Accuratezza fase di Cross Validation con dati di Addestramento/Validazione: 1.000\n",
            "{'kernel': 'linear'}\n",
            "Accuratezza con dati di Test: 1.000\n",
            "Risultato sui dati di test:\n",
            "              precision    recall  f1-score   support\n",
            "\n",
            "           0       1.00      1.00      1.00        12\n",
            "           1       1.00      1.00      1.00         6\n",
            "\n",
            "    accuracy                           1.00        18\n",
            "   macro avg       1.00      1.00      1.00        18\n",
            "weighted avg       1.00      1.00      1.00        18\n",
            "\n",
            "[[12  0]\n",
            " [ 0  6]]\n",
            "Accuratezza Test: 100.000\n",
            "Precisione  Test: 100.000\n",
            "Sensitività Test: 100.000\n",
            "Specificità Test: 100.000\n",
            "F1 score    Test: 100.000\n",
            "stimatore utilizzato - KNeighborsClassifier\n",
            "Fitting 5 folds for each of 16 candidates, totalling 80 fits\n"
          ]
        },
        {
          "output_type": "stream",
          "name": "stderr",
          "text": [
            "[Parallel(n_jobs=-1)]: Done  80 out of  80 | elapsed:    0.2s finished\n",
            "/usr/local/lib/python3.7/dist-packages/sklearn/model_selection/_search.py:739: DataConversionWarning:\n",
            "\n",
            "A column-vector y was passed when a 1d array was expected. Please change the shape of y to (n_samples, ), for example using ravel().\n",
            "\n",
            "[Parallel(n_jobs=-1)]: Using backend LokyBackend with 2 concurrent workers.\n"
          ]
        },
        {
          "output_type": "stream",
          "name": "stdout",
          "text": [
            "Accuratezza fase di Cross Validation con dati di Addestramento/Validazione: 0.975\n",
            "{'algorithm': 'auto', 'n_neighbors': 5, 'weights': 'distance'}\n",
            "Accuratezza con dati di Test: 1.000\n",
            "Risultato sui dati di test:\n",
            "              precision    recall  f1-score   support\n",
            "\n",
            "           0       1.00      1.00      1.00        12\n",
            "           1       1.00      1.00      1.00         6\n",
            "\n",
            "    accuracy                           1.00        18\n",
            "   macro avg       1.00      1.00      1.00        18\n",
            "weighted avg       1.00      1.00      1.00        18\n",
            "\n",
            "[[12  0]\n",
            " [ 0  6]]\n",
            "Accuratezza Test: 100.000\n",
            "Precisione  Test: 100.000\n",
            "Sensitività Test: 100.000\n",
            "Specificità Test: 100.000\n",
            "F1 score    Test: 100.000\n",
            "stimatore utilizzato - DecisionTreeClassifier\n",
            "Fitting 5 folds for each of 216 candidates, totalling 1080 fits\n"
          ]
        },
        {
          "output_type": "stream",
          "name": "stderr",
          "text": [
            "[Parallel(n_jobs=-1)]: Done 937 tasks      | elapsed:    1.1s\n",
            "[Parallel(n_jobs=-1)]: Done 1077 out of 1080 | elapsed:    1.1s remaining:    0.0s\n",
            "[Parallel(n_jobs=-1)]: Done 1080 out of 1080 | elapsed:    1.1s finished\n",
            "/usr/local/lib/python3.7/dist-packages/sklearn/model_selection/_search.py:281: UserWarning:\n",
            "\n",
            "The total space of parameters 2 is smaller than n_iter=20. Running 2 iterations. For exhaustive searches, use GridSearchCV.\n",
            "\n",
            "[Parallel(n_jobs=-1)]: Using backend LokyBackend with 2 concurrent workers.\n",
            "[Parallel(n_jobs=-1)]: Done  10 out of  10 | elapsed:    0.0s finished\n",
            "/usr/local/lib/python3.7/dist-packages/sklearn/utils/validation.py:760: DataConversionWarning:\n",
            "\n",
            "A column-vector y was passed when a 1d array was expected. Please change the shape of y to (n_samples, ), for example using ravel().\n",
            "\n",
            "[Parallel(n_jobs=-1)]: Using backend LokyBackend with 2 concurrent workers.\n"
          ]
        },
        {
          "output_type": "stream",
          "name": "stdout",
          "text": [
            "Accuratezza fase di Cross Validation con dati di Addestramento/Validazione: 0.975\n",
            "{'criterion': 'gini', 'max_depth': 3, 'min_samples_leaf': 1, 'min_samples_split': 2, 'min_weight_fraction_leaf': 0}\n",
            "Accuratezza con dati di Test: 1.000\n",
            "Risultato sui dati di test:\n",
            "              precision    recall  f1-score   support\n",
            "\n",
            "           0       1.00      1.00      1.00        12\n",
            "           1       1.00      1.00      1.00         6\n",
            "\n",
            "    accuracy                           1.00        18\n",
            "   macro avg       1.00      1.00      1.00        18\n",
            "weighted avg       1.00      1.00      1.00        18\n",
            "\n",
            "[[12  0]\n",
            " [ 0  6]]\n",
            "Accuratezza Test: 100.000\n",
            "Precisione  Test: 100.000\n",
            "Sensitività Test: 100.000\n",
            "Specificità Test: 100.000\n",
            "F1 score    Test: 100.000\n",
            "stimatore utilizzato - Support vector machine (SVC)\n",
            "Fitting 5 folds for each of 2 candidates, totalling 10 fits\n",
            "Accuratezza fase di Cross Validation con dati di Addestramento/Validazione: 0.975\n",
            "{'kernel': 'linear'}\n",
            "Accuratezza con dati di Test: 1.000\n",
            "Risultato sui dati di test:\n",
            "              precision    recall  f1-score   support\n",
            "\n",
            "           0       1.00      1.00      1.00        12\n",
            "           1       1.00      1.00      1.00         6\n",
            "\n",
            "    accuracy                           1.00        18\n",
            "   macro avg       1.00      1.00      1.00        18\n",
            "weighted avg       1.00      1.00      1.00        18\n",
            "\n",
            "[[12  0]\n",
            " [ 0  6]]\n",
            "Accuratezza Test: 100.000\n",
            "Precisione  Test: 100.000\n",
            "Sensitività Test: 100.000\n",
            "Specificità Test: 100.000\n",
            "F1 score    Test: 100.000\n",
            "stimatore utilizzato - KNeighborsClassifier\n",
            "Fitting 5 folds for each of 16 candidates, totalling 80 fits\n",
            "Accuratezza fase di Cross Validation con dati di Addestramento/Validazione: 1.000\n",
            "{'algorithm': 'auto', 'n_neighbors': 5, 'weights': 'uniform'}\n",
            "Accuratezza con dati di Test: 0.944\n",
            "Risultato sui dati di test:\n",
            "              precision    recall  f1-score   support\n",
            "\n",
            "           0       1.00      0.92      0.96        12\n",
            "           1       0.86      1.00      0.92         6\n",
            "\n",
            "    accuracy                           0.94        18\n",
            "   macro avg       0.93      0.96      0.94        18\n",
            "weighted avg       0.95      0.94      0.95        18\n",
            "\n",
            "[[11  1]\n",
            " [ 0  6]]\n",
            "Accuratezza Test: 94.000\n",
            "Precisione  Test: 100.000\n",
            "Sensitività Test: 91.000\n",
            "Specificità Test: 100.000\n",
            "F1 score    Test: 95.000\n"
          ]
        },
        {
          "output_type": "stream",
          "name": "stderr",
          "text": [
            "[Parallel(n_jobs=-1)]: Done  80 out of  80 | elapsed:    0.2s finished\n",
            "/usr/local/lib/python3.7/dist-packages/sklearn/model_selection/_search.py:739: DataConversionWarning:\n",
            "\n",
            "A column-vector y was passed when a 1d array was expected. Please change the shape of y to (n_samples, ), for example using ravel().\n",
            "\n"
          ]
        }
      ]
    },
    {
      "cell_type": "markdown",
      "metadata": {
        "id": "GnLLpH9f2oEp"
      },
      "source": [
        "#### Caso4 CASE vs HCF"
      ]
    },
    {
      "cell_type": "code",
      "metadata": {
        "id": "OK7DQ9I-2oEp"
      },
      "source": [
        ""
      ],
      "execution_count": null,
      "outputs": []
    },
    {
      "cell_type": "code",
      "metadata": {
        "id": "Gm_5Koyg2oEp"
      },
      "source": [
        "df=CASEHC.loc[:,0]\n",
        "\n",
        "X = df.to_numpy()\n",
        "\n",
        "Y = CASEHC.loc[:,1]\n",
        "y = Y.to_numpy()\n",
        "y = np.where(y == 3, 1, 0)\n",
        "#from sklearn.model_selection import train_test_split\n",
        "\n",
        "\n",
        "X_train, X_test, y_train, y_test = train_test_split(X, y, test_size=0.3,stratify=y,random_state=42)\n",
        "\n",
        "#pca = PCA(n_components=2)\n",
        "\n",
        "#X_train_pca = pca.fit_transform(X_train)\n",
        "#X_test_pca = pca.transform(X_test)\n",
        "\n",
        "X_train_caso4=X_train\n",
        "X_test_caso4=X_test\n",
        "y_train_caso4=y_train\n",
        "y_test_caso4=y_test"
      ],
      "execution_count": null,
      "outputs": []
    },
    {
      "cell_type": "code",
      "metadata": {
        "id": "q6R2BgGA2oEq"
      },
      "source": [
        "X_train_caso4=X_train_caso4.reshape(-1,1)\n",
        "X_test_caso4=X_test_caso4.reshape(-1,1)\n",
        "y_train_caso4=y_train_caso4.reshape(-1,1)\n",
        "y_test_caso4=y_test_caso4.reshape(-1,1)"
      ],
      "execution_count": null,
      "outputs": []
    },
    {
      "cell_type": "code",
      "metadata": {
        "colab": {
          "base_uri": "https://localhost:8080/"
        },
        "id": "64p2jgu32oEq",
        "outputId": "863cc7f1-bd4b-4485-bfcb-3eb377de32e0"
      },
      "source": [
        "tuning_albero_decisione(4,5)"
      ],
      "execution_count": null,
      "outputs": [
        {
          "output_type": "stream",
          "name": "stderr",
          "text": [
            "[Parallel(n_jobs=-1)]: Using backend LokyBackend with 2 concurrent workers.\n"
          ]
        },
        {
          "output_type": "stream",
          "name": "stdout",
          "text": [
            "Fitting 5 folds for each of 216 candidates, totalling 1080 fits\n",
            "Accuratezza fase di Cross Validation con dati di Addestramento/Validazione: 0.950\n",
            "{'criterion': 'gini', 'max_depth': 3, 'min_samples_leaf': 3, 'min_samples_split': 2, 'min_weight_fraction_leaf': 0}\n",
            "Accuratezza con dati di Test: 0.889\n",
            "Risultato sui dati di test:\n",
            "              precision    recall  f1-score   support\n",
            "\n",
            "           0       0.92      0.92      0.92        12\n",
            "           1       0.83      0.83      0.83         6\n",
            "\n",
            "    accuracy                           0.89        18\n",
            "   macro avg       0.88      0.88      0.88        18\n",
            "weighted avg       0.89      0.89      0.89        18\n",
            "\n",
            "[[11  1]\n",
            " [ 1  5]]\n",
            "Accuratezza Test: 88.000\n",
            "Precisione  Test: 91.000\n",
            "Sensitività Test: 91.000\n",
            "Specificità Test: 83.000\n",
            "F1 score    Test: 91.000\n"
          ]
        },
        {
          "output_type": "stream",
          "name": "stderr",
          "text": [
            "[Parallel(n_jobs=-1)]: Done 1065 tasks      | elapsed:    1.1s\n",
            "[Parallel(n_jobs=-1)]: Done 1077 out of 1080 | elapsed:    1.1s remaining:    0.0s\n",
            "[Parallel(n_jobs=-1)]: Done 1080 out of 1080 | elapsed:    1.1s finished\n"
          ]
        }
      ]
    },
    {
      "cell_type": "code",
      "metadata": {
        "colab": {
          "base_uri": "https://localhost:8080/"
        },
        "id": "IQE-mj-f2oEq",
        "outputId": "ccb70a0b-4c2c-41bc-ffcd-7d724934ff4a"
      },
      "source": [
        "tuning_SVM(4,5)"
      ],
      "execution_count": null,
      "outputs": [
        {
          "output_type": "stream",
          "name": "stderr",
          "text": [
            "/usr/local/lib/python3.7/dist-packages/sklearn/model_selection/_search.py:281: UserWarning:\n",
            "\n",
            "The total space of parameters 2 is smaller than n_iter=20. Running 2 iterations. For exhaustive searches, use GridSearchCV.\n",
            "\n",
            "[Parallel(n_jobs=-1)]: Using backend LokyBackend with 2 concurrent workers.\n"
          ]
        },
        {
          "output_type": "stream",
          "name": "stdout",
          "text": [
            "Fitting 5 folds for each of 2 candidates, totalling 10 fits\n"
          ]
        },
        {
          "output_type": "stream",
          "name": "stderr",
          "text": [
            "[Parallel(n_jobs=-1)]: Done  10 out of  10 | elapsed:   11.3s finished\n",
            "/usr/local/lib/python3.7/dist-packages/sklearn/utils/validation.py:760: DataConversionWarning:\n",
            "\n",
            "A column-vector y was passed when a 1d array was expected. Please change the shape of y to (n_samples, ), for example using ravel().\n",
            "\n"
          ]
        },
        {
          "output_type": "stream",
          "name": "stdout",
          "text": [
            "Accuratezza fase di Cross Validation con dati di Addestramento/Validazione: 0.900\n",
            "{'kernel': 'linear'}\n",
            "Accuratezza con dati di Test: 0.944\n",
            "Risultato sui dati di test:\n",
            "              precision    recall  f1-score   support\n",
            "\n",
            "           0       0.92      1.00      0.96        12\n",
            "           1       1.00      0.83      0.91         6\n",
            "\n",
            "    accuracy                           0.94        18\n",
            "   macro avg       0.96      0.92      0.93        18\n",
            "weighted avg       0.95      0.94      0.94        18\n",
            "\n",
            "[[12  0]\n",
            " [ 1  5]]\n",
            "Accuratezza Test: 94.000\n",
            "Precisione  Test: 92.000\n",
            "Sensitività Test: 100.000\n",
            "Specificità Test: 83.000\n",
            "F1 score    Test: 95.000\n"
          ]
        }
      ]
    },
    {
      "cell_type": "code",
      "metadata": {
        "id": "15wKCDdJ2oEq"
      },
      "source": [
        "#tuning_albero_decisione_CV(4,10)"
      ],
      "execution_count": null,
      "outputs": []
    },
    {
      "cell_type": "code",
      "metadata": {
        "id": "CX0_poZl2oEr"
      },
      "source": [
        "#tuning_SVM_CV(4,10)"
      ],
      "execution_count": null,
      "outputs": []
    },
    {
      "cell_type": "code",
      "metadata": {
        "id": "raC5T8Rv2oEr"
      },
      "source": [
        "#validazione_incrociata_kfold(4,10,1)"
      ],
      "execution_count": null,
      "outputs": []
    },
    {
      "cell_type": "code",
      "metadata": {
        "id": "515Jp3082oEr"
      },
      "source": [
        "#validazione_incrociata_kfold(4,10,2)"
      ],
      "execution_count": null,
      "outputs": []
    },
    {
      "cell_type": "code",
      "metadata": {
        "id": "3NRnACCC2oEr"
      },
      "source": [
        "#validazione_incrociata_score(4,10,1)"
      ],
      "execution_count": null,
      "outputs": []
    },
    {
      "cell_type": "code",
      "metadata": {
        "id": "i4NiBEcd2oEs"
      },
      "source": [
        "#validazione_incrociata_score(4,10,2)"
      ],
      "execution_count": null,
      "outputs": []
    },
    {
      "cell_type": "code",
      "metadata": {
        "id": "QZEX2NDt2oEt"
      },
      "source": [
        "#prova_pipeline(4,2)"
      ],
      "execution_count": null,
      "outputs": []
    },
    {
      "cell_type": "code",
      "metadata": {
        "id": "vCrUzxTM2oEu"
      },
      "source": [
        "#exec_trad(4,1)"
      ],
      "execution_count": null,
      "outputs": []
    },
    {
      "cell_type": "code",
      "metadata": {
        "id": "41QlSTbt2oEv"
      },
      "source": [
        "#exec_trad(4,2)"
      ],
      "execution_count": null,
      "outputs": []
    },
    {
      "cell_type": "code",
      "metadata": {
        "colab": {
          "base_uri": "https://localhost:8080/"
        },
        "id": "l_QBVne12oEv",
        "outputId": "42c217d8-f153-4341-b7c9-1cbdcf9b69b5"
      },
      "source": [
        "tuning_KNN(4,5)"
      ],
      "execution_count": null,
      "outputs": [
        {
          "output_type": "stream",
          "name": "stdout",
          "text": [
            "Fitting 5 folds for each of 16 candidates, totalling 80 fits\n"
          ]
        },
        {
          "output_type": "stream",
          "name": "stderr",
          "text": [
            "[Parallel(n_jobs=-1)]: Using backend LokyBackend with 2 concurrent workers.\n"
          ]
        },
        {
          "output_type": "stream",
          "name": "stdout",
          "text": [
            "Accuratezza fase di Cross Validation con dati di Addestramento/Validazione: 0.950\n",
            "{'algorithm': 'auto', 'n_neighbors': 5, 'weights': 'uniform'}\n",
            "Accuratezza con dati di Test: 0.889\n",
            "Risultato sui dati di test:\n",
            "              precision    recall  f1-score   support\n",
            "\n",
            "           0       0.92      0.92      0.92        12\n",
            "           1       0.83      0.83      0.83         6\n",
            "\n",
            "    accuracy                           0.89        18\n",
            "   macro avg       0.88      0.88      0.88        18\n",
            "weighted avg       0.89      0.89      0.89        18\n",
            "\n",
            "[[11  1]\n",
            " [ 1  5]]\n",
            "Accuratezza Test: 88.000\n",
            "Precisione  Test: 91.000\n",
            "Sensitività Test: 91.000\n",
            "Specificità Test: 83.000\n",
            "F1 score    Test: 91.000\n"
          ]
        },
        {
          "output_type": "stream",
          "name": "stderr",
          "text": [
            "[Parallel(n_jobs=-1)]: Done  80 out of  80 | elapsed:    0.2s finished\n",
            "/usr/local/lib/python3.7/dist-packages/sklearn/model_selection/_search.py:739: DataConversionWarning:\n",
            "\n",
            "A column-vector y was passed when a 1d array was expected. Please change the shape of y to (n_samples, ), for example using ravel().\n",
            "\n"
          ]
        }
      ]
    },
    {
      "cell_type": "code",
      "metadata": {
        "id": "59f_ez9-2oEv"
      },
      "source": [
        "#tuning_MP(4,10)"
      ],
      "execution_count": null,
      "outputs": []
    },
    {
      "cell_type": "code",
      "metadata": {
        "id": "xH2WOe6k2oEw"
      },
      "source": [
        "#tuning_LR(4,5)"
      ],
      "execution_count": null,
      "outputs": []
    },
    {
      "cell_type": "code",
      "metadata": {
        "id": "u34UL1XK2oEw"
      },
      "source": [
        "#tuning_foresta(4,10)"
      ],
      "execution_count": null,
      "outputs": []
    },
    {
      "cell_type": "markdown",
      "metadata": {
        "id": "d9mO21Vx2oEx"
      },
      "source": [
        "<br>\n",
        "<br>"
      ]
    },
    {
      "cell_type": "code",
      "metadata": {
        "id": "dMLxP8A72oEx"
      },
      "source": [
        ""
      ],
      "execution_count": null,
      "outputs": []
    },
    {
      "cell_type": "code",
      "metadata": {
        "id": "jQ2UiuOK2oEx"
      },
      "source": [
        ""
      ],
      "execution_count": null,
      "outputs": []
    },
    {
      "cell_type": "code",
      "metadata": {
        "id": "I4qi9Hbn2oEx"
      },
      "source": [
        ""
      ],
      "execution_count": null,
      "outputs": []
    },
    {
      "cell_type": "code",
      "metadata": {
        "id": "B-Fp09fC2oEx"
      },
      "source": [
        ""
      ],
      "execution_count": null,
      "outputs": []
    },
    {
      "cell_type": "code",
      "metadata": {
        "id": "zDjSmRMl2oEy"
      },
      "source": [
        ""
      ],
      "execution_count": null,
      "outputs": []
    },
    {
      "cell_type": "code",
      "metadata": {
        "id": "ZrbCh4ca2oEy"
      },
      "source": [
        ""
      ],
      "execution_count": null,
      "outputs": []
    },
    {
      "cell_type": "code",
      "metadata": {
        "id": "d5MBhomR2oEy"
      },
      "source": [
        ""
      ],
      "execution_count": null,
      "outputs": []
    },
    {
      "cell_type": "code",
      "metadata": {
        "id": "ddepzj092oEy"
      },
      "source": [
        ""
      ],
      "execution_count": null,
      "outputs": []
    },
    {
      "cell_type": "code",
      "metadata": {
        "id": "50_9srVO2oEy"
      },
      "source": [
        ""
      ],
      "execution_count": null,
      "outputs": []
    },
    {
      "cell_type": "code",
      "metadata": {
        "id": "xxE9okCz2oEz"
      },
      "source": [
        ""
      ],
      "execution_count": null,
      "outputs": []
    },
    {
      "cell_type": "code",
      "metadata": {
        "id": "krXt4Qbj2oEz"
      },
      "source": [
        ""
      ],
      "execution_count": null,
      "outputs": []
    },
    {
      "cell_type": "code",
      "metadata": {
        "id": "RBKBUtsF2oEz"
      },
      "source": [
        ""
      ],
      "execution_count": null,
      "outputs": []
    },
    {
      "cell_type": "code",
      "metadata": {
        "id": "0qMvt5mD2oEz"
      },
      "source": [
        ""
      ],
      "execution_count": null,
      "outputs": []
    },
    {
      "cell_type": "code",
      "metadata": {
        "id": "IbMfPtQm2oEz"
      },
      "source": [
        ""
      ],
      "execution_count": null,
      "outputs": []
    },
    {
      "cell_type": "code",
      "metadata": {
        "id": "79sRTDVz2oE0"
      },
      "source": [
        ""
      ],
      "execution_count": null,
      "outputs": []
    },
    {
      "cell_type": "code",
      "metadata": {
        "id": "WJzOTbns2oE0"
      },
      "source": [
        ""
      ],
      "execution_count": null,
      "outputs": []
    },
    {
      "cell_type": "code",
      "metadata": {
        "id": "oT9yqYyl2oE0"
      },
      "source": [
        ""
      ],
      "execution_count": null,
      "outputs": []
    },
    {
      "cell_type": "code",
      "metadata": {
        "id": "jBHe46Fg2oE1"
      },
      "source": [
        ""
      ],
      "execution_count": null,
      "outputs": []
    },
    {
      "cell_type": "code",
      "metadata": {
        "id": "fL_ScIbi2oE1"
      },
      "source": [
        ""
      ],
      "execution_count": null,
      "outputs": []
    },
    {
      "cell_type": "code",
      "metadata": {
        "id": "1XAg3EU62oE2"
      },
      "source": [
        ""
      ],
      "execution_count": null,
      "outputs": []
    },
    {
      "cell_type": "code",
      "metadata": {
        "id": "aBc4WaEA2oE2"
      },
      "source": [
        ""
      ],
      "execution_count": null,
      "outputs": []
    },
    {
      "cell_type": "code",
      "metadata": {
        "id": "vOcMd-mk2oE2"
      },
      "source": [
        ""
      ],
      "execution_count": null,
      "outputs": []
    },
    {
      "cell_type": "code",
      "metadata": {
        "id": "F06DipvM2oE2"
      },
      "source": [
        ""
      ],
      "execution_count": null,
      "outputs": []
    },
    {
      "cell_type": "code",
      "metadata": {
        "id": "IZpIsavU2oE3"
      },
      "source": [
        ""
      ],
      "execution_count": null,
      "outputs": []
    },
    {
      "cell_type": "code",
      "metadata": {
        "id": "Cc1E5Jcm2oE3"
      },
      "source": [
        ""
      ],
      "execution_count": null,
      "outputs": []
    },
    {
      "cell_type": "code",
      "metadata": {
        "id": "Dr44lCxO2oE3"
      },
      "source": [
        ""
      ],
      "execution_count": null,
      "outputs": []
    },
    {
      "cell_type": "code",
      "metadata": {
        "id": "w-ja86ez2oE3"
      },
      "source": [
        ""
      ],
      "execution_count": null,
      "outputs": []
    },
    {
      "cell_type": "code",
      "metadata": {
        "id": "-x7mbl8E2oE3"
      },
      "source": [
        ""
      ],
      "execution_count": null,
      "outputs": []
    },
    {
      "cell_type": "code",
      "metadata": {
        "id": "4krJsT2S2oE4"
      },
      "source": [
        ""
      ],
      "execution_count": null,
      "outputs": []
    },
    {
      "cell_type": "code",
      "metadata": {
        "id": "LmZsZ8ds2oE4"
      },
      "source": [
        ""
      ],
      "execution_count": null,
      "outputs": []
    },
    {
      "cell_type": "code",
      "metadata": {
        "id": "_9pHFoTa2oE4"
      },
      "source": [
        ""
      ],
      "execution_count": null,
      "outputs": []
    },
    {
      "cell_type": "code",
      "metadata": {
        "id": "RoDapcC82oE4"
      },
      "source": [
        ""
      ],
      "execution_count": null,
      "outputs": []
    },
    {
      "cell_type": "code",
      "metadata": {
        "id": "EWhJfvZR2oE4"
      },
      "source": [
        ""
      ],
      "execution_count": null,
      "outputs": []
    },
    {
      "cell_type": "code",
      "metadata": {
        "id": "XyqHRvWQ2oE4"
      },
      "source": [
        ""
      ],
      "execution_count": null,
      "outputs": []
    },
    {
      "cell_type": "code",
      "metadata": {
        "id": "C_EvbMn62oE5"
      },
      "source": [
        ""
      ],
      "execution_count": null,
      "outputs": []
    },
    {
      "cell_type": "code",
      "metadata": {
        "id": "uQS1xJ222oE5"
      },
      "source": [
        ""
      ],
      "execution_count": null,
      "outputs": []
    },
    {
      "cell_type": "code",
      "metadata": {
        "id": "3pUQT9Tl2oE5"
      },
      "source": [
        ""
      ],
      "execution_count": null,
      "outputs": []
    },
    {
      "cell_type": "code",
      "metadata": {
        "id": "jpX2AbMv2oE5"
      },
      "source": [
        ""
      ],
      "execution_count": null,
      "outputs": []
    },
    {
      "cell_type": "code",
      "metadata": {
        "id": "r1XxVToa2oE5"
      },
      "source": [
        ""
      ],
      "execution_count": null,
      "outputs": []
    },
    {
      "cell_type": "code",
      "metadata": {
        "id": "u1Cv95872oE5"
      },
      "source": [
        ""
      ],
      "execution_count": null,
      "outputs": []
    }
  ]
}