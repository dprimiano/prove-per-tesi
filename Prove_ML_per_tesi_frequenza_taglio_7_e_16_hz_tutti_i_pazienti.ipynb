{
  "nbformat": 4,
  "nbformat_minor": 0,
  "metadata": {
    "anaconda-cloud": {},
    "colab": {
      "name": "Prove_ML_per_tesi frequenza taglio 7 e 16  hz tutti i pazienti.ipynb",
      "provenance": [],
      "collapsed_sections": [
        "gzXYEWesX__s",
        "rTbZscg9i6gj",
        "XEJkfZZceXUk",
        "jDqRJiaXejvb",
        "qKwzQyr7eyAS",
        "KbYc958kMQj1",
        "6qYR77kGauG7",
        "Gf9an-wYcGCJ",
        "ZTKrzSWodUzh",
        "7O0RgPtldsh7"
      ],
      "toc_visible": true
    },
    "kernelspec": {
      "display_name": "Python 3",
      "language": "python",
      "name": "python3"
    },
    "language_info": {
      "codemirror_mode": {
        "name": "ipython",
        "version": 3
      },
      "file_extension": ".py",
      "mimetype": "text/x-python",
      "name": "python",
      "nbconvert_exporter": "python",
      "pygments_lexer": "ipython3",
      "version": "3.8.3"
    },
    "toc": {
      "nav_menu": {},
      "number_sections": true,
      "sideBar": true,
      "skip_h1_title": false,
      "title_cell": "Table of Contents",
      "title_sidebar": "Contents",
      "toc_cell": false,
      "toc_position": {},
      "toc_section_display": true,
      "toc_window_display": false
    }
  },
  "cells": [
    {
      "cell_type": "markdown",
      "metadata": {
        "id": "qeoP3Mk-60Zw"
      },
      "source": [
        "# Prove ML per tesi"
      ]
    },
    {
      "cell_type": "code",
      "metadata": {
        "id": "X4ReBTXfZG4-"
      },
      "source": [
        ""
      ],
      "execution_count": null,
      "outputs": []
    },
    {
      "cell_type": "code",
      "metadata": {
        "colab": {
          "base_uri": "https://localhost:8080/"
        },
        "id": "oFoXnoQKZJ3G",
        "outputId": "a5d4a724-fe3b-4e96-a712-f464d8c5ce53"
      },
      "source": [
        "from google.colab import drive\n",
        "drive.mount('/content/drive')"
      ],
      "execution_count": null,
      "outputs": [
        {
          "output_type": "stream",
          "name": "stdout",
          "text": [
            "Mounted at /content/drive\n"
          ]
        }
      ]
    },
    {
      "cell_type": "markdown",
      "metadata": {
        "id": "h7E124NO7lW2"
      },
      "source": [
        "Si parte dal precedente progetto \"Elaborazione del segnale EEG con metodi supervisionati per la classificazione dei pazienti di Alzheimer\". Si individuano alcuni dei classificaori utilizzati, per eseguerire k-fold cross validation unita alla greadsearchCV per individuare gli iperparametri ottimali con i quali addestrare i classificatori e alla fine eseguire i modelli."
      ]
    },
    {
      "cell_type": "markdown",
      "metadata": {
        "id": "UM3STYYL9gNY"
      },
      "source": [
        "Si esegue l'import delle principali librerie utilizzate per il progetto di machine learning"
      ]
    },
    {
      "cell_type": "code",
      "metadata": {
        "id": "NyX9DTjDhrI5"
      },
      "source": [
        "import numpy as np\n",
        "import scipy as sp\n",
        "import matplotlib as mpl\n",
        "import seaborn as sns\n",
        "import matplotlib.pyplot as plt\n",
        "import plotly.express as px\n",
        "import pandas as pd\n",
        "from scipy.fftpack import fft, ifft, fftfreq,rfft\n",
        "from sklearn import tree\n",
        "from sklearn.model_selection import train_test_split\n",
        "from sklearn.tree import DecisionTreeClassifier\n",
        "from sklearn.metrics import accuracy_score\n",
        "from sklearn.metrics import classification_report, confusion_matrix\n",
        "from sklearn.metrics import precision_score, \\\n",
        "    recall_score, \\\n",
        "    accuracy_score, f1_score\n",
        "\n",
        "# Lets import some modules for basic computation\n",
        "import time\n",
        "\n",
        "\n",
        "import pickle\n",
        "\n",
        "# Some modules for plotting and visualizing\n",
        "import seaborn as sns\n",
        "import matplotlib.pyplot as plt\n",
        "from IPython.display import display\n",
        "\n",
        "# And some Machine Learning modules from scikit-learn\n",
        "from sklearn.decomposition import PCA\n",
        "from sklearn.preprocessing import StandardScaler, LabelEncoder\n",
        "\n",
        "from sklearn.linear_model import LogisticRegression\n",
        "from sklearn.svm import SVC\n",
        "from sklearn.neighbors import KNeighborsClassifier\n",
        "from sklearn import tree\n",
        "from sklearn.neural_network import MLPClassifier\n",
        "from sklearn.neighbors import KNeighborsClassifier\n",
        "from sklearn.ensemble import GradientBoostingClassifier\n",
        "from sklearn.gaussian_process.kernels import RBF\n",
        "from sklearn.ensemble import RandomForestClassifier\n",
        "from sklearn.naive_bayes import GaussianNB\n",
        "\n",
        "from sklearn.metrics import accuracy_score\n",
        "from sklearn.preprocessing import StandardScaler\n",
        "\n",
        "from sklearn.decomposition import PCA\n",
        "from sklearn.pipeline import make_pipeline\n",
        "from sklearn.model_selection import GridSearchCV\n",
        "from sklearn.model_selection import RandomizedSearchCV\n",
        "from sklearn.model_selection import cross_val_score\n",
        "from sklearn.ensemble import RandomForestClassifier\n",
        "from sklearn.model_selection import GroupKFold\n",
        "\n",
        "from sklearn.discriminant_analysis import LinearDiscriminantAnalysis as LDA\n",
        "from sklearn.decomposition import KernelPCA"
      ],
      "execution_count": null,
      "outputs": []
    },
    {
      "cell_type": "code",
      "metadata": {
        "id": "6wyL4LnwZ9IO",
        "colab": {
          "base_uri": "https://localhost:8080/"
        },
        "outputId": "e6296a14-31a6-4d39-fd8a-78693ec3e12b"
      },
      "source": [
        "!python --version"
      ],
      "execution_count": null,
      "outputs": [
        {
          "output_type": "stream",
          "name": "stdout",
          "text": [
            "Python 3.7.12\n"
          ]
        }
      ]
    },
    {
      "cell_type": "markdown",
      "metadata": {
        "id": "UqMP_dBn90fs"
      },
      "source": [
        "## Principali funzioni di utilità"
      ]
    },
    {
      "cell_type": "code",
      "metadata": {
        "id": "qsHn2py9-Sa8"
      },
      "source": [
        "def tuning_albero_decisione(caso,numerocv):\n",
        "    ncv=numerocv\n",
        "    if caso==1:\n",
        "       X_traina=X_train_caso1\n",
        "       y_traina=y_train_caso1\n",
        "       X_testa=X_test_caso1\n",
        "       y_testa=y_test_caso1\n",
        "    if caso==2:\n",
        "       X_traina=X_train_caso2\n",
        "       y_traina=y_train_caso2\n",
        "       X_testa=X_test_caso2\n",
        "       y_testa=y_test_caso2\n",
        "    if caso==3:\n",
        "       X_traina=X_train_caso3\n",
        "       y_traina=y_train_caso3  \n",
        "       X_testa=X_test_caso3\n",
        "       y_testa=y_test_caso3   \n",
        "    if caso==4:\n",
        "       X_traina=X_train_caso4\n",
        "       y_traina=y_train_caso4   \n",
        "       X_testa=X_test_caso4\n",
        "       y_testa=y_test_caso4\n",
        "    if caso==5:\n",
        "       X_traina=X_train_caso5\n",
        "       y_traina=y_train_caso5   \n",
        "       X_testa=X_test_caso5\n",
        "       y_testa=y_test_caso5   \n",
        "\n",
        "    print (\"stimatore utilizzato - DecisionTreeClassifier\")\n",
        "    parametri1 = {\"criterion\":[\"gini\",\"entropy\"],\n",
        "              \"max_depth\": [3,4,5,10]}\n",
        "\n",
        "    parametri = {\"criterion\":[\"gini\",\"entropy\"],\n",
        "              \"max_depth\": [3,4,5,10],\n",
        "              \"min_samples_leaf\":[1,2,3],\n",
        "              \"min_samples_split\":[1,2,3],\n",
        "              \"min_weight_fraction_leaf\":[0,1,2]\n",
        "              }\n",
        "\n",
        "    cercap = GridSearchCV(estimator=DecisionTreeClassifier(), \n",
        "                  param_grid=parametri, \n",
        "                  scoring='accuracy', \n",
        "                  refit=True,\n",
        "                  cv=ncv,\n",
        "                  verbose=1,\n",
        "                  n_jobs=-1)\n",
        "    gs = cercap.fit(X_traina, y_traina)\n",
        "    print('Accuratezza fase di Cross Validation con dati di Addestramento/Validazione: %.3f' % gs.best_score_)\n",
        "    print(gs.best_params_)\n",
        "\n",
        "\n",
        "    clf = gs.best_estimator_\n",
        "    # clf.fit(X_train, y_train) \n",
        "    \n",
        "  \n",
        "    print('Accuratezza con dati di Test: %.3f' % clf.score(X_testa, y_testa))\n",
        "\n",
        "    y_true, y_pred = y_testa , clf.predict(X_testa)\n",
        "    \n",
        "    print('Risultato sui dati di test:')\n",
        "    print(classification_report(y_true, y_pred))\n",
        "\n",
        "    target_names = ['Positivo','Negativo']\n",
        "    print(confusion_matrix(y_testa,y_pred))\n",
        "    matrice=confusion_matrix(y_testa,y_pred)\n",
        "        #print(y_test,y_pred)\n",
        "    if caso !=5:\n",
        "        tp=matrice[0,0]\n",
        "        fn=matrice[0,1]\n",
        "        fp=matrice[1,0]\n",
        "        tn=matrice[1,1]\n",
        "         \n",
        "        #print(tp,fp,fn,tn)\n",
        "        accurancy=int(((tp+tn)/(tn+fp+fn+tp))*100)\n",
        "        precision=int((tp/(tp+fp))*100)\n",
        "        sensitivity=int((tp/(tp+fn))*100)\n",
        "        specificity=int((tn/(tn+fp))*100)\n",
        "        if (precision== 0 and sensitivity==0):\n",
        "            f1score=0\n",
        "        else:\n",
        "            f1score=int(2*((precision * sensitivity)/(precision + sensitivity)))\n",
        " \n",
        "        print('Accuratezza Test: %.3f' % accurancy)  \n",
        "        print('Precisione  Test: %.3f' % precision)\n",
        "        print('Sensitività Test: %.3f' % sensitivity)\n",
        "        print('Specificità Test: %.3f' % specificity)\n",
        "        print('F1 score    Test: %.3f' % f1score)\n",
        "    #print(classification_report(y_test,y_pred,target_names=target_names))"
      ],
      "execution_count": null,
      "outputs": []
    },
    {
      "cell_type": "code",
      "metadata": {
        "id": "UsJEZFSr-SzM"
      },
      "source": [
        "def tuning_albero_decisione_CV(caso,numerocv):\n",
        "    ncv=numerocv\n",
        "    if caso==1:\n",
        "       X_traina=X_train_caso1\n",
        "       y_traina=y_train_caso1\n",
        "       X_testa=X_test_caso1\n",
        "       y_testa=y_test_caso1\n",
        "    if caso==2:\n",
        "       X_traina=X_train_caso2\n",
        "       y_traina=y_train_caso2\n",
        "       X_testa=X_test_caso2\n",
        "       y_testa=y_test_caso2\n",
        "    if caso==3:\n",
        "       X_traina=X_train_caso3\n",
        "       y_traina=y_train_caso3  \n",
        "       X_testa=X_test_caso3\n",
        "       y_testa=y_test_caso3   \n",
        "    if caso==4:\n",
        "       X_traina=X_train_caso4\n",
        "       y_traina=y_train_caso4   \n",
        "       X_testa=X_test_caso4\n",
        "       y_testa=y_test_caso4 \n",
        "    if caso==5:\n",
        "       X_traina=X_train_caso5\n",
        "       y_traina=y_train_caso5   \n",
        "       X_testa=X_test_caso5\n",
        "       y_testa=y_test_caso5\n",
        "\n",
        "    parametri1 = {\"criterion\":[\"gini\",\"entropy\"],\n",
        "              \"max_depth\": [3,4,5,10]}\n",
        "\n",
        "    parametri = {\"criterion\":[\"gini\",\"entropy\"],\n",
        "              \"max_depth\": [3,4,5,10],\n",
        "              \"min_samples_leaf\":[1,2,3],\n",
        "              \"min_samples_split\":[1,2,3],\n",
        "              \"min_weight_fraction_leaf\":[0,1,2]}\n",
        "\n",
        "    cercap = GridSearchCV(estimator=DecisionTreeClassifier(random_state=0), \n",
        "                  param_grid=parametri, \n",
        "                  scoring='accuracy', \n",
        "                  refit=True,\n",
        "                  cv=2,\n",
        "                  verbose=1,\n",
        "                  n_jobs=-1)\n",
        "    gs = cercap.fit(X_traina, y_traina)\n",
        "    print(gs.best_score_)\n",
        "    print(gs.best_params_)\n",
        "\n",
        "\n",
        "             \n",
        "    \n",
        "   \n",
        "\n",
        "    scores = cross_val_score(gs, X_traina, y_traina, \n",
        "                         scoring='accuracy', cv=ncv)\n",
        "    print('CV accuracy: %.3f +/- %.3f' % (np.mean(scores),\n",
        "                                      np.std(scores)))\n",
        "\n",
        "    clf = gs.best_estimator_\n",
        "    # clf.fit(X_train, y_train) \n",
        "    #questa parte non viene eseguita in quanto  è stato già eseguita avendo imnpostato refit=True.\n",
        "   \n",
        "  \n",
        "    print('Accuratezza con dati di Test: %.3f' % clf.score(X_testa, y_testa))\n",
        "\n",
        "    y_true, y_pred = y_testa , clf.predict(X_testa)\n",
        "    \n",
        "    print('Risultato sui dati di test:')\n",
        "    print(classification_report(y_true, y_pred))\n",
        "    print('Test accuracy: %.3f' % clf.score(X_testa, y_testa))\n",
        "\n",
        "    print(confusion_matrix(y_testa,y_pred))\n",
        "    matrice=confusion_matrix(y_testa,y_pred)"
      ],
      "execution_count": null,
      "outputs": []
    },
    {
      "cell_type": "code",
      "metadata": {
        "id": "QhjwAbFn-TZD"
      },
      "source": [
        ""
      ],
      "execution_count": null,
      "outputs": []
    },
    {
      "cell_type": "code",
      "metadata": {
        "id": "Y5SUVDLTG8XV"
      },
      "source": [
        "def tuning_SVM(caso,numerocv):\n",
        "    ncv=numerocv\n",
        "    if caso==1:\n",
        "       X_trains=X_train_caso1\n",
        "       y_trains=y_train_caso1\n",
        "       X_tests=X_test_caso1\n",
        "       y_tests=y_test_caso1\n",
        "    if caso==2:\n",
        "       X_trains=X_train_caso2\n",
        "       y_trains=y_train_caso2\n",
        "       X_tests=X_test_caso2\n",
        "       y_tests=y_test_caso2\n",
        "    if caso==3:\n",
        "       X_trains=X_train_caso3\n",
        "       y_trains=y_train_caso3  \n",
        "       X_tests=X_test_caso3\n",
        "       y_tests=y_test_caso3   \n",
        "    if caso==4:\n",
        "       X_trains=X_train_caso4\n",
        "       y_trains=y_train_caso4   \n",
        "       X_tests=X_test_caso4\n",
        "       y_tests=y_test_caso4\n",
        "    if caso==5:\n",
        "       X_trains=X_train_caso5\n",
        "       y_trains=y_train_caso5   \n",
        "       X_tests=X_test_caso5\n",
        "       y_tests=y_test_caso5       \n",
        "\n",
        "    print (\"stimatore utilizzato - Support vector machine (SVC)\")\n",
        "    parametri = {'C': [0.0001, 0.001, 0.01, 0.1, 1.0, 10.0, 100.0, 1000.0], \n",
        "               'gamma': [0.0001, 0.001, 0.01, 0.1, 1.0, 10.0, 100.0, 1000.0], \n",
        "               'kernel': ['linear','rbf']}\n",
        "\n",
        "    parametri1 = {'kernel': ['linear','rbf']}\n",
        "\n",
        "    #cercap = GridSearchCV(estimator=SVC(), \n",
        "    #              param_grid=parametri, \n",
        "    #              scoring='accuracy', \n",
        "    #              refit=True,\n",
        "    #              cv=ncv,\n",
        "    #              verbose=1,\n",
        "    #              n_jobs=-1)\n",
        "    cercap = RandomizedSearchCV(estimator=SVC(), \n",
        "                  param_distributions=parametri, \n",
        "                  scoring='accuracy', \n",
        "                  refit=True,\n",
        "                  cv=ncv,\n",
        "                  verbose=1,\n",
        "                  n_iter=20,\n",
        "                  n_jobs=-1)\n",
        "    gs = cercap.fit(X_trains, y_trains)\n",
        "    print('Accuratezza fase di Cross Validation con dati di Addestramento/Validazione: %.3f' % gs.best_score_)\n",
        "    print(gs.best_params_)\n",
        "\n",
        "\n",
        "    clf = gs.best_estimator_\n",
        "    # clf.fit(X_train, y_train) \n",
        "    # note that we do not need to refit the classifier\n",
        "    # because this is done automatically via refit=True.\n",
        "    print('Accuratezza con dati di Test: %.3f' % clf.score(X_tests, y_tests))\n",
        "\n",
        "    y_true, y_pred = y_tests , clf.predict(X_tests)\n",
        "    \n",
        "    print('Risultato sui dati di test:')\n",
        "    print(classification_report(y_true, y_pred))\n",
        "\n",
        "    target_names = ['Positivo','Negativo']\n",
        "    print(confusion_matrix(y_tests,y_pred))\n",
        "    matrice=confusion_matrix(y_tests,y_pred)\n",
        "        #print(y_test,y_pred)\n",
        "    if caso !=5:\n",
        "        tp=matrice[0,0]\n",
        "        fn=matrice[0,1]\n",
        "        fp=matrice[1,0]\n",
        "        tn=matrice[1,1]\n",
        "            \n",
        "            #print(tp,fp,fn,tn)\n",
        "        accurancy=int(((tp+tn)/(tn+fp+fn+tp))*100)\n",
        "        precision=int((tp/(tp+fp))*100)\n",
        "        sensitivity=int((tp/(tp+fn))*100)\n",
        "        specificity=int((tn/(tn+fp))*100)\n",
        "        if (precision== 0 and sensitivity==0):\n",
        "            f1score=0\n",
        "        else:\n",
        "            f1score=int(2*((precision * sensitivity)/(precision + sensitivity)))\n",
        "\n",
        "        print('Accuratezza Test: %.3f' % accurancy)  \n",
        "        print('Precisione  Test: %.3f' % precision)\n",
        "        print('Sensitività Test: %.3f' % sensitivity)\n",
        "        print('Specificità Test: %.3f' % specificity)\n",
        "        print('F1 score    Test: %.3f' % f1score)"
      ],
      "execution_count": null,
      "outputs": []
    },
    {
      "cell_type": "code",
      "metadata": {
        "id": "n9W5Zf3uUpNX"
      },
      "source": [
        "def tuning_SVM_1(caso,numerocv):\n",
        "    ncv=numerocv\n",
        "    if caso==1:\n",
        "       X_trains=X_train_caso1\n",
        "       y_trains=y_train_caso1\n",
        "       X_tests=X_test_caso1\n",
        "       y_tests=y_test_caso1\n",
        "    if caso==2:\n",
        "       X_trains=X_train_caso2\n",
        "       y_trains=y_train_caso2\n",
        "       X_tests=X_test_caso2\n",
        "       y_tests=y_test_caso2\n",
        "    if caso==3:\n",
        "       X_trains=X_train_caso3\n",
        "       y_trains=y_train_caso3  \n",
        "       X_tests=X_test_caso3\n",
        "       y_tests=y_test_caso3   \n",
        "    if caso==4:\n",
        "       X_trains=X_train_caso4\n",
        "       y_trains=y_train_caso4   \n",
        "       X_tests=X_test_caso4\n",
        "       y_tests=y_test_caso4\n",
        "    if caso==5:\n",
        "       X_trains=X_train_caso5\n",
        "       y_trains=y_train_caso5   \n",
        "       X_tests=X_test_caso5\n",
        "       y_tests=y_test_caso5       \n",
        "\n",
        "    print (\"stimatore utilizzato - Support vector machine (SVC)\")\n",
        "    parametri = {'C': [0.0001, 0.001, 0.01, 0.1, 1.0, 10.0, 100.0, 1000.0], \n",
        "               'gamma': [0.0001, 0.001, 0.01, 0.1, 1.0, 10.0, 100.0, 1000.0], \n",
        "               'kernel': ['linear','rbf']}\n",
        "\n",
        "    parametri1 = {'C': [1000.0], \n",
        "               'gamma': [0.001], \n",
        "               'kernel': ['rbf']}\n",
        "\n",
        "    cercap = GridSearchCV(estimator=SVC(), \n",
        "                  param_grid=parametri, \n",
        "                  scoring='accuracy', \n",
        "                  refit=True,\n",
        "                  cv=ncv,\n",
        "                  verbose=1,\n",
        "                  n_jobs=-1)\n",
        "    #cercap = RandomizedSearchCV(estimator=SVC(), \n",
        "    #              param_distributions=parametri, \n",
        "    #              scoring='accuracy', \n",
        "    #              refit=True,\n",
        "    #              cv=ncv,\n",
        "    #              verbose=1,\n",
        "    #              n_iter=20,\n",
        "    #              n_jobs=-1)\n",
        "    gs = cercap.fit(X_trains, y_trains)\n",
        "    print('Accuratezza fase di Cross Validation con dati di Addestramento/Validazione: %.3f' % gs.best_score_)\n",
        "    print(gs.best_params_)\n",
        "\n",
        "\n",
        "    clf = gs.best_estimator_\n",
        "    # clf.fit(X_train, y_train) \n",
        "    # note that we do not need to refit the classifier\n",
        "    # because this is done automatically via refit=True.\n",
        "    print('Accuratezza con dati di Test: %.3f' % clf.score(X_tests, y_tests))\n",
        "\n",
        "    y_true, y_pred = y_tests , clf.predict(X_tests)\n",
        "    \n",
        "    print('Risultato sui dati di test:')\n",
        "    print(classification_report(y_true, y_pred))\n",
        "\n",
        "    target_names = ['Positivo','Negativo']\n",
        "    print(confusion_matrix(y_tests,y_pred))\n",
        "    matrice=confusion_matrix(y_tests,y_pred)\n",
        "        #print(y_test,y_pred)\n",
        "    if caso !=5:\n",
        "        tp=matrice[0,0]\n",
        "        fn=matrice[0,1]\n",
        "        fp=matrice[1,0]\n",
        "        tn=matrice[1,1]\n",
        "            \n",
        "            #print(tp,fp,fn,tn)\n",
        "        accurancy=int(((tp+tn)/(tn+fp+fn+tp))*100)\n",
        "        precision=int((tp/(tp+fp))*100)\n",
        "        sensitivity=int((tp/(tp+fn))*100)\n",
        "        specificity=int((tn/(tn+fp))*100)\n",
        "        if (precision== 0 and sensitivity==0):\n",
        "            f1score=0\n",
        "        else:\n",
        "            f1score=int(2*((precision * sensitivity)/(precision + sensitivity)))\n",
        "\n",
        "        print('Accuratezza Test: %.3f' % accurancy)  \n",
        "        print('Precisione  Test: %.3f' % precision)\n",
        "        print('Sensitività Test: %.3f' % sensitivity)\n",
        "        print('Specificità Test: %.3f' % specificity)\n",
        "        print('F1 score    Test: %.3f' % f1score)"
      ],
      "execution_count": null,
      "outputs": []
    },
    {
      "cell_type": "code",
      "metadata": {
        "id": "ED-M4IyNTZiY"
      },
      "source": [
        "def tuning_foresta(caso,numerocv):\n",
        "    ncv=numerocv\n",
        "    if caso==1:\n",
        "       X_trainf=X_train_caso1\n",
        "       y_trainf=y_train_caso1\n",
        "       X_testf=X_test_caso1\n",
        "       y_testf=y_test_caso1\n",
        "    if caso==2:\n",
        "       X_trainf=X_train_caso2\n",
        "       y_trainf=y_train_caso2\n",
        "       X_testf=X_test_caso2\n",
        "       y_testf=y_test_caso2\n",
        "    if caso==3:\n",
        "       X_trainf=X_train_caso3\n",
        "       y_trainf=y_train_caso3  \n",
        "       X_testf=X_test_caso3\n",
        "       y_testf=y_test_caso3   \n",
        "    if caso==4:\n",
        "       X_trainf=X_train_caso4\n",
        "       y_trainf=y_train_caso4   \n",
        "       X_testf=X_test_caso4\n",
        "       y_testf=y_test_caso4     \n",
        "\n",
        "     \n",
        "    parametri = {\"max_depth\": [8, 12, None],\n",
        "                 \"max_features\": [1, 3, 10],\n",
        "                 \"min_samples_split\": [1, 3, 10],\n",
        "                 \"min_samples_leaf\": [1, 3, 10],\n",
        "                 \"bootstrap\": [True, False],\n",
        "                 \"criterion\": [\"gini\", \"entropy\"],\n",
        "                 \"n_estimators\": [20, 40, 80]}\n",
        "  \n",
        "\n",
        "    #cercap = GridSearchCV(estimator=RandomForestClassifier(random_state=42), \n",
        "    #              param_grid=parametri, \n",
        "    #              scoring='accuracy', \n",
        "    #              refit=True,\n",
        "    #              cv=ncv,\n",
        "    #              verbose=1,\n",
        "    #              n_jobs=-1)\n",
        "    cercap = RandomizedSearchCV(estimator=RandomForestClassifier(random_state=42), \n",
        "                  param_distributions=parametri, \n",
        "                  scoring='accuracy', \n",
        "                  refit=True,\n",
        "                  cv=ncv,\n",
        "                  verbose=1,\n",
        "                  n_iter=20,\n",
        "                  n_jobs=-1)\n",
        "    \n",
        "   \n",
        "    gs = cercap.fit(X_trainf, y_trainf)\n",
        "    print('Accuratezza fase di Cross Validation con dati di Addestramento/Validazione: %.3f' % gs.best_score_)\n",
        "    print(gs.best_params_)\n",
        "\n",
        "\n",
        "    clf = gs.best_estimator_\n",
        "    # clf.fit(X_train, y_train) \n",
        "    \n",
        "    print('Accuratezza con dati di Test: %.3f' % clf.score(X_testf, y_testf))\n",
        "\n",
        "    y_true, y_pred = y_testf , clf.predict(X_testf)\n",
        "    \n",
        "    print('Risultato sui dati di test:')\n",
        "    print(classification_report(y_true, y_pred))\n",
        "\n",
        "    target_names = ['Positivo','Negativo']\n",
        "    print(confusion_matrix(y_testf,y_pred))\n",
        "    matrice=confusion_matrix(y_testf,y_pred)\n",
        "        #print(y_test,y_pred)\n",
        "    tp=matrice[0,0]\n",
        "    fn=matrice[0,1]\n",
        "    fp=matrice[1,0]\n",
        "    tn=matrice[1,1]\n",
        "         \n",
        "        #print(tp,fp,fn,tn)\n",
        "    accurancy=int(((tp+tn)/(tn+fp+fn+tp))*100)\n",
        "    precision=int((tp/(tp+fp))*100)\n",
        "    sensitivity=int((tp/(tp+fn))*100)\n",
        "    specificity=int((tn/(tn+fp))*100)\n",
        "    if (precision== 0 and sensitivity==0):\n",
        "        f1score=0\n",
        "    else:\n",
        "        f1score=int(2*((precision * sensitivity)/(precision + sensitivity)))\n",
        "\n",
        "    print('Accuratezza Test: %.3f' % accurancy)  \n",
        "    print('Precisione  Test: %.3f' % precision)\n",
        "    print('Sensitività Test: %.3f' % sensitivity)\n",
        "    print('Specificità Test: %.3f' % specificity)\n",
        "    print('F1 score    Test: %.3f' % f1score)\n"
      ],
      "execution_count": null,
      "outputs": []
    },
    {
      "cell_type": "code",
      "metadata": {
        "id": "27v1j31vTecI"
      },
      "source": [
        "def tuning_SVM_CV(caso,numerocv):\n",
        "    ncv=numerocv\n",
        "    if caso==1:\n",
        "       X_train=X_train_caso1\n",
        "       y_train=y_train_caso1\n",
        "       X_test=X_test_caso1\n",
        "       y_test=y_test_caso1\n",
        "    if caso==2:\n",
        "       X_train=X_train_caso2\n",
        "       y_train=y_train_caso2\n",
        "       X_test=X_test_caso2\n",
        "       y_test=y_test_caso2\n",
        "    if caso==3:\n",
        "       X_train=X_train_caso3\n",
        "       y_train=y_train_caso3  \n",
        "       X_test=X_test_caso3\n",
        "       y_test=y_test_caso3   \n",
        "    if caso==4:\n",
        "       X_train=X_train_caso4\n",
        "       y_train=y_train_caso4   \n",
        "       X_test=X_test_caso4\n",
        "       y_test=y_test_caso4 \n",
        "    if caso==5:\n",
        "       X_train=X_train_caso5\n",
        "       y_train=y_train_caso5   \n",
        "       X_test=X_test_caso5\n",
        "       y_test=y_test_caso5 \n",
        "\n",
        "    range_valori = [0.0001, 0.001, 0.01, 0.1, 1.0, 10.0, 100.0, 1000.0]\n",
        "\n",
        "    parametri = {'C': [0.0001, 0.001, 0.01, 0.1, 1.0, 10.0, 100.0, 1000.0], \n",
        "               'gamma': [0.0001, 0.001, 0.01, 0.1, 1.0, 10.0, 100.0, 1000.0], \n",
        "               'kernel': ['linear','rbf']}\n",
        "\n",
        "  \n",
        "\n",
        "    cercap = GridSearchCV(estimator=SVC(), \n",
        "                  param_grid=parametri, \n",
        "                  scoring='accuracy', \n",
        "                  refit=True,\n",
        "                  cv=ncv,\n",
        "                  verbose=1,\n",
        "                  n_jobs=-1)\n",
        "    \n",
        "    gs = cercap.fit(X_train, y_train)\n",
        "    print(gs.best_score_)\n",
        "    print(gs.best_params_)\n",
        "\n",
        "\n",
        "        \n",
        "\n",
        "    scores = cross_val_score(gs, X_train, y_train, \n",
        "                         scoring='accuracy', cv=ncv)\n",
        "    print('Accuratezza fase di Cross Validation con dati di Addestramento/Validazione:: %.3f +/- %.3f' % (np.mean(scores),\n",
        "                                      np.std(scores)))\n",
        "\n",
        "    \n",
        "\n",
        "    clf = gs.best_estimator_\n",
        "    # clf.fit(X_train, y_train) \n",
        "    #questa parte non viene eseguita in quanto  è stato già eseguita avendo imnpostato refit=True.\n",
        "   \n",
        "  \n",
        "    print('Accuratezza con dati di Test: %.3f' % clf.score(X_test, y_test))\n",
        "\n",
        "    y_true, y_pred = y_test , clf.predict(X_test)\n",
        "    \n",
        "    print('Risultato sui dati di test:')\n",
        "    print(classification_report(y_true, y_pred))\n",
        "    print('Test accuracy: %.3f' % clf.score(X_test, y_test))\n",
        "\n",
        "    print(confusion_matrix(y_test,y_pred))\n",
        "    matrice=confusion_matrix(y_test,y_pred)"
      ],
      "execution_count": null,
      "outputs": []
    },
    {
      "cell_type": "code",
      "metadata": {
        "id": "3ToL3lGmTaDl"
      },
      "source": [
        "def tuning_KNN(caso,numerocv):\n",
        "    ncv=numerocv\n",
        "\n",
        "    if caso==1:\n",
        "       X_traink=X_train_caso1\n",
        "       y_traink=y_train_caso1\n",
        "       X_testk=X_test_caso1\n",
        "       y_testk=y_test_caso1\n",
        "    if caso==2:\n",
        "       X_traink=X_train_caso2\n",
        "       y_traink=y_train_caso2\n",
        "       X_testk=X_test_caso2\n",
        "       y_testk=y_test_caso2\n",
        "    if caso==3:\n",
        "       X_traink=X_train_caso3\n",
        "       y_traink=y_train_caso3  \n",
        "       X_testk=X_test_caso3\n",
        "       y_testk=y_test_caso3   \n",
        "    if caso==4:\n",
        "       X_traink=X_train_caso4\n",
        "       y_traink=y_train_caso4   \n",
        "       X_testk=X_test_caso4\n",
        "       y_testk=y_test_caso4\n",
        "    if caso==5:\n",
        "       X_traink=X_train_caso5\n",
        "       y_traink=y_train_caso5   \n",
        "       X_testk=X_test_caso5\n",
        "       y_testk=y_test_caso5        \n",
        "\n",
        "    print (\"stimatore utilizzato - KNeighborsClassifier\")   \n",
        "    parametri = {\n",
        "             'n_neighbors' : [5, 20],\n",
        "             'weights': ['uniform', 'distance'],\n",
        "             'algorithm': ['auto', 'ball_tree', 'kd_tree', 'brute']\n",
        "              }\n",
        "\n",
        "    cercap = GridSearchCV(estimator=KNeighborsClassifier(), \n",
        "                  param_grid=parametri, \n",
        "                  scoring='accuracy', \n",
        "                  refit=True,\n",
        "                  cv=ncv,\n",
        "                  verbose=1,\n",
        "                  n_jobs=-1)\n",
        "    \n",
        "    gs = cercap.fit(X_traink, y_traink)\n",
        "    print('Accuratezza fase di Cross Validation con dati di Addestramento/Validazione: %.3f' % gs.best_score_)\n",
        "    print(gs.best_params_)\n",
        "\n",
        "\n",
        "    clf = gs.best_estimator_\n",
        "    # clf.fit(X_train, y_train) \n",
        "    \n",
        "    print('Accuratezza con dati di Test: %.3f' % clf.score(X_testk, y_testk))\n",
        "\n",
        "    y_true, y_pred = y_testk , clf.predict(X_testk)\n",
        "    \n",
        "    print('Risultato sui dati di test:')\n",
        "    print(classification_report(y_true, y_pred))\n",
        "\n",
        "    target_names = ['Positivo','Negativo']\n",
        "    print(confusion_matrix(y_testk,y_pred))\n",
        "    matrice=confusion_matrix(y_testk,y_pred)\n",
        "        #print(y_test,y_pred)\n",
        "    if caso !=5:    \n",
        "        tp=matrice[0,0]\n",
        "        fn=matrice[0,1]\n",
        "        fp=matrice[1,0]\n",
        "        tn=matrice[1,1]\n",
        "            \n",
        "            #print(tp,fp,fn,tn)\n",
        "        accurancy=int(((tp+tn)/(tn+fp+fn+tp))*100)\n",
        "        precision=int((tp/(tp+fp))*100)\n",
        "        sensitivity=int((tp/(tp+fn))*100)\n",
        "        specificity=int((tn/(tn+fp))*100)\n",
        "        if (precision== 0 and sensitivity==0):\n",
        "            f1score=0\n",
        "        else:\n",
        "            f1score=int(2*((precision * sensitivity)/(precision + sensitivity)))\n",
        "\n",
        "        print('Accuratezza Test: %.3f' % accurancy)  \n",
        "        print('Precisione  Test: %.3f' % precision)\n",
        "        print('Sensitività Test: %.3f' % sensitivity)\n",
        "        print('Specificità Test: %.3f' % specificity)\n",
        "        print('F1 score    Test: %.3f' % f1score)"
      ],
      "execution_count": null,
      "outputs": []
    },
    {
      "cell_type": "code",
      "metadata": {
        "id": "jbV9ClqhndQp"
      },
      "source": [
        ""
      ],
      "execution_count": null,
      "outputs": []
    },
    {
      "cell_type": "code",
      "metadata": {
        "id": "g9fMRq18ndon"
      },
      "source": [
        "def tuning_MP(caso,numerocv):\n",
        "    ncv=numerocv\n",
        "\n",
        "    if caso==1:\n",
        "       X_trainm=X_train_caso1\n",
        "       y_trainm=y_train_caso1\n",
        "       X_testm=X_test_caso1\n",
        "       y_testm=y_test_caso1\n",
        "    if caso==2:\n",
        "       X_trainm=X_train_caso2\n",
        "       y_trainm=y_train_caso2\n",
        "       X_testm=X_test_caso2\n",
        "       y_testm=y_test_caso2\n",
        "    if caso==3:\n",
        "       X_trainm=X_train_caso3\n",
        "       y_trainm=y_train_caso3  \n",
        "       X_testm=X_test_caso3\n",
        "       y_testm=y_test_caso3   \n",
        "    if caso==4:\n",
        "       X_trainm=X_train_caso4\n",
        "       y_trainm=y_train_caso4   \n",
        "       X_testm=X_test_caso4\n",
        "       y_testm=y_test_caso4     \n",
        "\n",
        "    parametri = {  'hidden_layer_sizes': [(10,30,10),(20,)],\n",
        "                    'activation': ['tanh', 'relu'],\n",
        "                    'solver': ['sgd', 'adam'],\n",
        "                    'alpha': [0.0001, 0.05, 0.1,1],\n",
        "                    'learning_rate': ['constant','adaptive']\n",
        "                  }\n",
        "\n",
        "    cercap = GridSearchCV(estimator=MLPClassifier(max_iter=100), \n",
        "                  param_grid=parametri, \n",
        "                  scoring='accuracy', \n",
        "                  refit=True,\n",
        "                  cv=ncv,\n",
        "                  verbose=1,\n",
        "                  n_jobs=-1)\n",
        "    \n",
        "    gs = cercap.fit(X_trainm, y_trainm)\n",
        "    print('Accuratezza fase di Cross Validation con dati di Addestramento/Validazione: %.3f' % gs.best_score_)\n",
        "    print('I migliori parametri trvati sono :\\n', gs.best_params_)\n",
        "    #print(gs.best_params_)\n",
        "\n",
        "    means = gs.cv_results_['mean_test_score']\n",
        "    stds = gs.cv_results_['std_test_score']\n",
        "    #for mean, std, params in zip(means, stds, gs.cv_results_['params']):\n",
        "    #    print(\"%0.3f (+/-%0.03f) for %r\" % (mean, std * 2, params))\n",
        "\n",
        "    \n",
        "    \n",
        "    clf = gs.best_estimator_\n",
        "    # clf.fit(X_train, y_train) \n",
        "    \n",
        "    print('Accuratezza con dati di Test: %.3f' % clf.score(X_testm, y_testm))\n",
        "\n",
        "    y_true, y_pred = y_testm , clf.predict(X_testm)\n",
        "    \n",
        "    print('Risultato sui dati di test:')\n",
        "    print(classification_report(y_true, y_pred))\n",
        "\n",
        "    target_names = ['Positivo','Negativo']\n",
        "    print(confusion_matrix(y_testm,y_pred))\n",
        "    matrice=confusion_matrix(y_testm,y_pred)\n",
        "        #print(y_test,y_pred)\n",
        "    tp=matrice[0,0]\n",
        "    fn=matrice[0,1]\n",
        "    fp=matrice[1,0]\n",
        "    tn=matrice[1,1]\n",
        "         \n",
        "        #print(tp,fp,fn,tn)\n",
        "    accurancy=int(((tp+tn)/(tn+fp+fn+tp))*100)\n",
        "    precision=int((tp/(tp+fp))*100)\n",
        "    sensitivity=int((tp/(tp+fn))*100)\n",
        "    specificity=int((tn/(tn+fp))*100)\n",
        "    if (precision== 0 and sensitivity==0):\n",
        "        f1score=0\n",
        "    else:\n",
        "        f1score=int(2*((precision * sensitivity)/(precision + sensitivity)))\n",
        "\n",
        "    print('Accuratezza Test: %.3f' % accurancy)  \n",
        "    print('Precisione  Test: %.3f' % precision)\n",
        "    print('Sensitività Test: %.3f' % sensitivity)\n",
        "    print('Specificità Test: %.3f' % specificity)\n",
        "    print('F1 score    Test: %.3f' % f1score)"
      ],
      "execution_count": null,
      "outputs": []
    },
    {
      "cell_type": "code",
      "metadata": {
        "id": "kakkSbyZfVJT"
      },
      "source": [
        ""
      ],
      "execution_count": null,
      "outputs": []
    },
    {
      "cell_type": "code",
      "metadata": {
        "id": "jeEO52RXwaYD"
      },
      "source": [
        ""
      ],
      "execution_count": null,
      "outputs": []
    },
    {
      "cell_type": "code",
      "metadata": {
        "id": "Y-rBLQWcwayw"
      },
      "source": [
        "def tuning_LR(caso,numerocv):\n",
        "    ncv=numerocv\n",
        "\n",
        "    if caso==1:\n",
        "       X_trainl=X_train_caso1\n",
        "       y_trainl=y_train_caso1\n",
        "       X_testl=X_test_caso1\n",
        "       y_testl=y_test_caso1\n",
        "    if caso==2:\n",
        "       X_trainl=X_train_caso2\n",
        "       y_trainl=y_train_caso2\n",
        "       X_testl=X_test_caso2\n",
        "       y_testl=y_test_caso2\n",
        "    if caso==3:\n",
        "       X_trainl=X_train_caso3\n",
        "       y_trainl=y_train_caso3  \n",
        "       X_testl=X_test_caso3\n",
        "       y_testl=y_test_caso3   \n",
        "    if caso==4:\n",
        "       X_trainl=X_train_caso4\n",
        "       y_trainl=y_train_caso4   \n",
        "       X_testl=X_test_caso4\n",
        "       y_testl=y_test_caso4     \n",
        "\n",
        "    \n",
        "    parametri ={\"C\":np.logspace(-3,3,7), \"penalty\":[\"l1\",\"l2\"]}\n",
        "\n",
        "    cercap = GridSearchCV(estimator=LogisticRegression(), \n",
        "                  param_grid=parametri, \n",
        "                  scoring='accuracy', \n",
        "                  refit=True,\n",
        "                  cv=ncv,\n",
        "                  verbose=1,\n",
        "                  n_jobs=-1)\n",
        "    \n",
        "    gs = cercap.fit(X_trainl, y_trainl)\n",
        "    print('Accuratezza fase di Cross Validation con dati di Addestramento/Validazione: %.3f' % gs.best_score_)\n",
        "    print('I migliori parametri trvati sono :\\n', gs.best_params_)\n",
        "    #print(gs.best_params_)\n",
        "\n",
        "    means = gs.cv_results_['mean_test_score']\n",
        "    stds = gs.cv_results_['std_test_score']\n",
        "    #for mean, std, params in zip(means, stds, gs.cv_results_['params']):\n",
        "    #    print(\"%0.3f (+/-%0.03f) for %r\" % (mean, std * 2, params))\n",
        "\n",
        "    \n",
        "    \n",
        "    clf = gs.best_estimator_\n",
        "    # clf.fit(X_train, y_train) \n",
        "    \n",
        "    print('Accuratezza con dati di Test: %.3f' % clf.score(X_testl, y_testl))\n",
        "\n",
        "    y_true, y_pred = y_testl , clf.predict(X_testl)\n",
        "    print('Risultato sui dati di test:')\n",
        "    print(classification_report(y_true, y_pred))\n",
        "\n",
        "    target_names = ['Positivo','Negativo']\n",
        "    print(confusion_matrix(y_testl,y_pred))\n",
        "    matrice=confusion_matrix(y_testl,y_pred)\n",
        "        #print(y_test,y_pred)\n",
        "    tp=matrice[0,0]\n",
        "    fn=matrice[0,1]\n",
        "    fp=matrice[1,0]\n",
        "    tn=matrice[1,1]\n",
        "         \n",
        "        #print(tp,fp,fn,tn)\n",
        "    accurancy=int(((tp+tn)/(tn+fp+fn+tp))*100)\n",
        "    if (fp== 0 and fp==0):\n",
        "        precision=0\n",
        "    else:\n",
        "        precision=int((tp/(tp+fp))*100)\n",
        "    sensitivity=int((tp/(tp+fn))*100)\n",
        "    specificity=int((tn/(tn+fp))*100)\n",
        "    if (precision== 0 and sensitivity==0):\n",
        "        f1score=0\n",
        "    else:\n",
        "        f1score=int(2*((precision * sensitivity)/(precision + sensitivity)))\n",
        "\n",
        "    print('Accuratezza Test: %.3f' % accurancy)  \n",
        "    print('Precisione  Test: %.3f' % precision)\n",
        "    print('Sensitività Test: %.3f' % sensitivity)\n",
        "    print('Specificità Test: %.3f' % specificity)\n",
        "    print('F1 score    Test: %.3f' % f1score)"
      ],
      "execution_count": null,
      "outputs": []
    },
    {
      "cell_type": "code",
      "metadata": {
        "id": "r-N6wUlVV0El"
      },
      "source": [
        "def validazione_incrociata_kfold(caso,numerocv,modello):\n",
        "    ncv=numerocv\n",
        "    if modello==1:\n",
        "       classificatore=DecisionTreeClassifier()\n",
        "    if modello==2:\n",
        "       classificatore=SVC()\n",
        "       \n",
        "\n",
        "    if caso==1:\n",
        "       X_train=X_train_caso1\n",
        "       y_train=y_train_caso1\n",
        "       X_test=X_test_caso1\n",
        "       y_test=y_test_caso1\n",
        "    if caso==2:\n",
        "       X_train=X_train_caso2\n",
        "       y_train=y_train_caso2\n",
        "       X_test=X_test_caso2\n",
        "       y_test=y_test_caso2\n",
        "    if caso==3:\n",
        "       X_train=X_train_caso3\n",
        "       y_train=y_train_caso3  \n",
        "       X_test=X_test_caso3\n",
        "       y_test=y_test_caso3   \n",
        "    if caso==4:\n",
        "       X_train=X_train_caso4\n",
        "       y_train=y_train_caso4   \n",
        "       X_test=X_test_caso4\n",
        "       y_test=y_test_caso4     \n",
        "\n",
        "    from sklearn.model_selection import StratifiedKFold\n",
        "    \n",
        "\n",
        "    kfold = StratifiedKFold(n_splits=10).split(X_train, y_train)\n",
        "\n",
        "    scores = []\n",
        "    for k, (train, test) in enumerate(kfold):\n",
        "        classificatore.fit(X_train[train], y_train[train])\n",
        "        score = classificatore.score(X_train[test], y_train[test])\n",
        "        scores.append(score)\n",
        "        print('Fold: %2d, Class dist.: %s, Acc: %.3f' % (k+1,\n",
        "              np.bincount(y_train[train]), score))\n",
        "    \n",
        "    print('\\nCV accuracy: %.3f +/- %.3f' % (np.mean(scores), np.std(scores)))"
      ],
      "execution_count": null,
      "outputs": []
    },
    {
      "cell_type": "code",
      "metadata": {
        "id": "xn0MP7vjVuUP"
      },
      "source": [
        "\n",
        "def validazione_incrociata_score(caso,numerocv,modello):\n",
        "    ncv=numerocv\n",
        "    if modello==1:\n",
        "       classificatore=DecisionTreeClassifier()\n",
        "    if modello==2:\n",
        "       classificatore=SVC()\n",
        "       \n",
        "\n",
        "    if caso==1:\n",
        "       X_train=X_train_caso1\n",
        "       y_train=y_train_caso1\n",
        "       X_test=X_test_caso1\n",
        "       y_test=y_test_caso1\n",
        "    if caso==2:\n",
        "       X_train=X_train_caso2\n",
        "       y_train=y_train_caso2\n",
        "       X_test=X_test_caso2\n",
        "       y_test=y_test_caso2\n",
        "    if caso==3:\n",
        "       X_train=X_train_caso3\n",
        "       y_train=y_train_caso3  \n",
        "       X_test=X_test_caso3\n",
        "       y_test=y_test_caso3   \n",
        "    if caso==4:\n",
        "       X_train=X_train_caso4\n",
        "       y_train=y_train_caso4   \n",
        "       X_test=X_test_caso4\n",
        "       y_test=y_test_caso4     \n",
        "\n",
        "    \n",
        "    scores = cross_val_score(estimator=classificatore,\n",
        "                             X=X_train,\n",
        "                             y=y_train,\n",
        "                             cv=10,\n",
        "                             n_jobs=1)\n",
        "    print('CV accuracy scores: %s' % scores)\n",
        "    print('CV accuracy: %.3f +/- %.3f' % (np.mean(scores), np.std(scores)))"
      ],
      "execution_count": null,
      "outputs": []
    },
    {
      "cell_type": "code",
      "metadata": {
        "id": "YcF92qAtVuxr"
      },
      "source": [
        ""
      ],
      "execution_count": null,
      "outputs": []
    },
    {
      "cell_type": "code",
      "metadata": {
        "id": "uEwFqaH7VvNj"
      },
      "source": [
        "def prepara_dati(caso,pca,split):\n",
        "    \n",
        "    \n",
        "       \n",
        "\n",
        "    if caso==1:\n",
        "       df=pca_wa_AD_HCF.iloc[:,1:913]\n",
        "       X = df.to_numpy()\n",
        "       Y = pca_wa_AD_HCF[' class']\n",
        "       y = Y.to_numpy()\n",
        "       y = np.where(y == ' Control', 1, 0)\n",
        "\n",
        "    if caso==2:\n",
        "       df=pca_wa_MCI_AD.iloc[:,1:913]\n",
        "       X = df.to_numpy()\n",
        "       Y = pca_wa_MCI_AD[' class']\n",
        "       y = Y.to_numpy()\n",
        "       y = np.where(y == ' AD', 1, 0)\n",
        "       X_train=X_train_caso2\n",
        "       y_train=y_train_caso2\n",
        "       X_test=X_test_caso2\n",
        "       y_test=y_test_caso2\n",
        "    if caso==3:\n",
        "       df=pca_wa_MCI_HCF.iloc[:,1:913]\n",
        "       X = df.to_numpy()\n",
        "       Y = pca_wa_MCI_HCF[' class']\n",
        "       y = Y.to_numpy()\n",
        "       y = np.where(y == ' MCI', 1, 0)\n",
        "       X_train=X_train_caso3\n",
        "       y_train=y_train_caso3  \n",
        "       X_test=X_test_caso3\n",
        "       y_test=y_test_caso3   \n",
        "    if caso==4:\n",
        "       df=pca_wa_CASE_HCF.iloc[:,1:913]\n",
        "       X = df.to_numpy()\n",
        "       Y = pca_wa_CASE_HCF[' class']\n",
        "       y = Y.to_numpy()\n",
        "       y = np.where(y == ' Case', 1, 0)\n",
        "       X_train=X_train_caso4\n",
        "       y_train=y_train_caso4   \n",
        "       X_test=X_test_caso4\n",
        "       y_test=y_test_caso4     \n",
        "\n",
        "    \n",
        "   \n",
        "    \n",
        "    pipe_cl = make_pipeline(StandardScaler(),\n",
        "                        PCA(n_components=2),\n",
        "                        classificatore)\n",
        "\n",
        "    pipe_cl.fit(X_train, y_train)\n",
        "    y_pred = pipe_cl.predict(X_test)\n",
        "    print('Test Accuracy: %.3f' % pipe_lr.score(X_test, y_test))"
      ],
      "execution_count": null,
      "outputs": []
    },
    {
      "cell_type": "code",
      "metadata": {
        "id": "4IxkSQsubMaO"
      },
      "source": [
        "\n",
        "def exec_trad(caso,modello):\n",
        "    \n",
        "    if modello==1:\n",
        "       classificatore=DecisionTreeClassifier(criterion='gini', max_depth=3)\n",
        "    if modello==2:\n",
        "       classificatore=SVC()\n",
        "       \n",
        "    if caso==1:\n",
        "       df=pca_wa_AD_HCF.iloc[:,1:913]\n",
        "       X = df.to_numpy()\n",
        "       Y = pca_wa_AD_HCF[' class']\n",
        "       y = Y.to_numpy()\n",
        "       y = np.where(y == ' Control', 1, 0)\n",
        "       X_train, X_test, y_train, y_test = train_test_split(X, y, test_size=0.3,stratify=y,random_state=42)\n",
        "    if caso==2:\n",
        "       df=pca_wa_MCI_AD.iloc[:,1:913]\n",
        "       X = df.to_numpy()\n",
        "       Y = pca_wa_MCI_AD[' class']\n",
        "       y = Y.to_numpy()\n",
        "       y = np.where(y == ' AD', 1, 0)\n",
        "       X_train, X_test, y_train, y_test = train_test_split(X, y, test_size=0.3,stratify=y,random_state=42)\n",
        "      \n",
        "    if caso==3:\n",
        "       df=pca_wa_MCI_HCF.iloc[:,1:913]\n",
        "       X = df.to_numpy()\n",
        "       Y = pca_wa_MCI_HCF[' class']\n",
        "       y = Y.to_numpy()\n",
        "       y = np.where(y == ' MCI', 1, 0)\n",
        "       X_train, X_test, y_train, y_test = train_test_split(X, y, test_size=0.3,stratify=y,random_state=42)\n",
        "         \n",
        "    if caso==4:\n",
        "       df=pca_wa_CASE_HCF.iloc[:,1:913]\n",
        "       X = df.to_numpy()\n",
        "       Y = pca_wa_CASE_HCF[' class']\n",
        "       y = Y.to_numpy()\n",
        "       y = np.where(y == ' Case', 1, 0)\n",
        "       X_train, X_test, y_train, y_test = train_test_split(X, y, test_size=0.3,stratify=y,random_state=42)\n",
        "           \n",
        "\n",
        "    \n",
        "      \n",
        "    classificatore.fit(X_train, y_train)\n",
        "        \n",
        "    train_score = int((classificatore.score(X_train, y_train))*100)\n",
        "    test_score = int((classificatore.score(X_test, y_test))*100)\n",
        "    y_pred = classificatore.predict(X_test)\n",
        "    test_accurancy=int((accuracy_score(y_test, y_pred))*100)\n",
        "    print(\"accurancy test :\", test_accurancy)"
      ],
      "execution_count": null,
      "outputs": []
    },
    {
      "cell_type": "code",
      "metadata": {
        "id": "C9lO1MiMVvdr"
      },
      "source": [
        ""
      ],
      "execution_count": null,
      "outputs": []
    },
    {
      "cell_type": "code",
      "metadata": {
        "id": "AjTDzuayiBwX"
      },
      "source": [
        "\n",
        "def prova_pipeline(caso,modello):\n",
        "    \n",
        "    if modello==1:\n",
        "       classificatore=tree.DecisionTreeClassifier(criterion='gini', max_depth=3)\n",
        "    if modello==2:\n",
        "       classificatore=SVC()\n",
        "       \n",
        "    if caso==1:\n",
        "       df=pca_wa_AD_HCF.iloc[:,1:913]\n",
        "       X = df.to_numpy()\n",
        "       Y = pca_wa_AD_HCF[' class']\n",
        "       y = Y.to_numpy()\n",
        "       y = np.where(y == ' Control', 1, 0)\n",
        "       X_train, X_test, y_train, y_test = train_test_split(X, y, test_size=0.2,stratify=y,random_state=42)\n",
        "    if caso==2:\n",
        "       df=pca_wa_MCI_AD.iloc[:,1:913]\n",
        "       X = df.to_numpy()\n",
        "       Y = pca_wa_MCI_AD[' class']\n",
        "       y = Y.to_numpy()\n",
        "       y = np.where(y == ' AD', 1, 0)\n",
        "       X_train, X_test, y_train, y_test = train_test_split(X, y, test_size=0.2,stratify=y,random_state=42)\n",
        "      \n",
        "    if caso==3:\n",
        "       df=pca_wa_MCI_HCF.iloc[:,1:913]\n",
        "       X = df.to_numpy()\n",
        "       Y = pca_wa_MCI_HCF[' class']\n",
        "       y = Y.to_numpy()\n",
        "       y = np.where(y == ' MCI', 1, 0)\n",
        "       X_train, X_test, y_train, y_test = train_test_split(X, y, test_size=0.2,stratify=y,random_state=42)\n",
        "         \n",
        "    if caso==4:\n",
        "       df=pca_wa_CASE_HCF.iloc[:,1:913]\n",
        "       X = df.to_numpy()\n",
        "       Y = pca_wa_CASE_HCF[' class']\n",
        "       y = Y.to_numpy()\n",
        "       y = np.where(y == ' Case', 1, 0)\n",
        "       X_train, X_test, y_train, y_test = train_test_split(X, y, test_size=0.2,stratify=y,random_state=42)\n",
        "           \n",
        "\n",
        "    \n",
        "   \n",
        "    \n",
        "    pipe_cl = make_pipeline(StandardScaler(),\n",
        "                        PCA(n_components=2),\n",
        "                        classificatore)\n",
        "\n",
        "    pipe_cl.fit(X_train, y_train)\n",
        "    y_pred = pipe_cl.predict(X_test)\n",
        "    print('Test Accuracy: %.3f' % pipe_cl.score(X_test, y_test))"
      ],
      "execution_count": null,
      "outputs": []
    },
    {
      "cell_type": "markdown",
      "metadata": {
        "id": "gzXYEWesX__s"
      },
      "source": [
        "## Preparazione dei dati frequenza di taglio a 7 HZ"
      ]
    },
    {
      "cell_type": "code",
      "metadata": {
        "id": "mIf4ssnwYFzW"
      },
      "source": [
        ""
      ],
      "execution_count": null,
      "outputs": []
    },
    {
      "cell_type": "code",
      "metadata": {
        "id": "emjl7lsxeWyr"
      },
      "source": [
        "pmAD=pd.read_csv(\"/content/drive/MyDrive/Dati EEG/pazienti a 7 HZ/Frq7_AbsDiff_PxxAD_2_rc48x19.txt\", sep=\"|\",header=None)\n",
        "pmMCI=pd.read_csv(\"/content/drive/MyDrive/Dati EEG/pazienti a 7 HZ/Frq7_AbsDiff_PxxMCI_2_rc37x19.txt\", sep=\"|\",header=None)\n",
        "pmHC=pd.read_csv(\"/content/drive/MyDrive/Dati EEG/pazienti a 7 HZ/Frq7_AbsDiff_PxxHC_2_rc20x19.txt\", sep=\"|\",header=None)"
      ],
      "execution_count": null,
      "outputs": []
    },
    {
      "cell_type": "code",
      "metadata": {
        "colab": {
          "base_uri": "https://localhost:8080/"
        },
        "id": "JkwjVCCWerir",
        "outputId": "c1448450-3917-4640-961a-439dec8faa1b"
      },
      "source": [
        "pmAD.head()"
      ],
      "execution_count": null,
      "outputs": [
        {
          "output_type": "execute_result",
          "data": {
            "text/html": [
              "<div>\n",
              "<style scoped>\n",
              "    .dataframe tbody tr th:only-of-type {\n",
              "        vertical-align: middle;\n",
              "    }\n",
              "\n",
              "    .dataframe tbody tr th {\n",
              "        vertical-align: top;\n",
              "    }\n",
              "\n",
              "    .dataframe thead th {\n",
              "        text-align: right;\n",
              "    }\n",
              "</style>\n",
              "<table border=\"1\" class=\"dataframe\">\n",
              "  <thead>\n",
              "    <tr style=\"text-align: right;\">\n",
              "      <th></th>\n",
              "      <th>0</th>\n",
              "      <th>1</th>\n",
              "      <th>2</th>\n",
              "      <th>3</th>\n",
              "      <th>4</th>\n",
              "      <th>5</th>\n",
              "      <th>6</th>\n",
              "      <th>7</th>\n",
              "      <th>8</th>\n",
              "      <th>9</th>\n",
              "      <th>10</th>\n",
              "      <th>11</th>\n",
              "      <th>12</th>\n",
              "      <th>13</th>\n",
              "      <th>14</th>\n",
              "      <th>15</th>\n",
              "      <th>16</th>\n",
              "      <th>17</th>\n",
              "      <th>18</th>\n",
              "    </tr>\n",
              "  </thead>\n",
              "  <tbody>\n",
              "    <tr>\n",
              "      <th>0</th>\n",
              "      <td>0.000000</td>\n",
              "      <td>0.000000</td>\n",
              "      <td>0.000000</td>\n",
              "      <td>0.000000e+00</td>\n",
              "      <td>0.000000</td>\n",
              "      <td>0.000000</td>\n",
              "      <td>0.000000</td>\n",
              "      <td>0.000000</td>\n",
              "      <td>0.000000</td>\n",
              "      <td>0.000000</td>\n",
              "      <td>0.000000</td>\n",
              "      <td>0.000000</td>\n",
              "      <td>0.000000</td>\n",
              "      <td>0.000000</td>\n",
              "      <td>0.000000</td>\n",
              "      <td>0.000000</td>\n",
              "      <td>0.000000</td>\n",
              "      <td>0.000000</td>\n",
              "      <td>0.000000</td>\n",
              "    </tr>\n",
              "    <tr>\n",
              "      <th>1</th>\n",
              "      <td>0.000000</td>\n",
              "      <td>0.000000</td>\n",
              "      <td>0.000000</td>\n",
              "      <td>0.000000e+00</td>\n",
              "      <td>0.000000</td>\n",
              "      <td>0.000000</td>\n",
              "      <td>0.000000</td>\n",
              "      <td>0.000000</td>\n",
              "      <td>0.000000</td>\n",
              "      <td>0.000000</td>\n",
              "      <td>0.000000</td>\n",
              "      <td>0.000000</td>\n",
              "      <td>0.000000</td>\n",
              "      <td>0.000000</td>\n",
              "      <td>0.000000</td>\n",
              "      <td>0.000000</td>\n",
              "      <td>0.000000</td>\n",
              "      <td>0.000000</td>\n",
              "      <td>0.000000</td>\n",
              "    </tr>\n",
              "    <tr>\n",
              "      <th>2</th>\n",
              "      <td>16710.274386</td>\n",
              "      <td>491.826487</td>\n",
              "      <td>64883.355334</td>\n",
              "      <td>1.302347e+04</td>\n",
              "      <td>7035.999901</td>\n",
              "      <td>2584.586004</td>\n",
              "      <td>11037.942466</td>\n",
              "      <td>6386.799694</td>\n",
              "      <td>13757.095528</td>\n",
              "      <td>628.647278</td>\n",
              "      <td>16083.756395</td>\n",
              "      <td>84709.230856</td>\n",
              "      <td>20612.584788</td>\n",
              "      <td>1059.206620</td>\n",
              "      <td>123.334152</td>\n",
              "      <td>12152.299400</td>\n",
              "      <td>3922.639015</td>\n",
              "      <td>3923.191270</td>\n",
              "      <td>4888.347621</td>\n",
              "    </tr>\n",
              "    <tr>\n",
              "      <th>3</th>\n",
              "      <td>26001.170207</td>\n",
              "      <td>3549.454647</td>\n",
              "      <td>30864.681000</td>\n",
              "      <td>1.548235e+06</td>\n",
              "      <td>18787.870784</td>\n",
              "      <td>20950.704489</td>\n",
              "      <td>1024.154193</td>\n",
              "      <td>5005.654471</td>\n",
              "      <td>4143.589313</td>\n",
              "      <td>64958.443496</td>\n",
              "      <td>2678.570561</td>\n",
              "      <td>26905.955678</td>\n",
              "      <td>6418.752207</td>\n",
              "      <td>18760.705068</td>\n",
              "      <td>17757.939252</td>\n",
              "      <td>62873.778695</td>\n",
              "      <td>20549.576317</td>\n",
              "      <td>16318.303360</td>\n",
              "      <td>25023.776818</td>\n",
              "    </tr>\n",
              "    <tr>\n",
              "      <th>4</th>\n",
              "      <td>58.987504</td>\n",
              "      <td>22.993610</td>\n",
              "      <td>109.179982</td>\n",
              "      <td>1.249574e+02</td>\n",
              "      <td>1252.618400</td>\n",
              "      <td>1785.282194</td>\n",
              "      <td>14380.546589</td>\n",
              "      <td>920.462956</td>\n",
              "      <td>6773.058498</td>\n",
              "      <td>2274.558515</td>\n",
              "      <td>2862.266430</td>\n",
              "      <td>21.442147</td>\n",
              "      <td>1.426629</td>\n",
              "      <td>1311.841404</td>\n",
              "      <td>48.696497</td>\n",
              "      <td>20650.598312</td>\n",
              "      <td>170.095069</td>\n",
              "      <td>2586.197193</td>\n",
              "      <td>9.256284</td>\n",
              "    </tr>\n",
              "  </tbody>\n",
              "</table>\n",
              "</div>"
            ],
            "text/plain": [
              "             0            1   ...            17            18\n",
              "0      0.000000     0.000000  ...      0.000000      0.000000\n",
              "1      0.000000     0.000000  ...      0.000000      0.000000\n",
              "2  16710.274386   491.826487  ...   3923.191270   4888.347621\n",
              "3  26001.170207  3549.454647  ...  16318.303360  25023.776818\n",
              "4     58.987504    22.993610  ...   2586.197193      9.256284\n",
              "\n",
              "[5 rows x 19 columns]"
            ]
          },
          "metadata": {},
          "execution_count": 161
        }
      ]
    },
    {
      "cell_type": "code",
      "metadata": {
        "id": "-qXpKXnmYQr-"
      },
      "source": [
        "pmAD = pmAD[(pmAD > 0).all(axis=1)]\n",
        "pmMCI = pmMCI[(pmMCI > 0).all(axis=1)]\n",
        "pmHC = pmHC[(pmHC > 0).all(axis=1)]"
      ],
      "execution_count": null,
      "outputs": []
    },
    {
      "cell_type": "code",
      "metadata": {
        "id": "WO4NiNyPujkX",
        "colab": {
          "base_uri": "https://localhost:8080/"
        },
        "outputId": "7abd8a58-8128-4fce-d8db-abb57c155cf9"
      },
      "source": [
        "pmMCI"
      ],
      "execution_count": null,
      "outputs": [
        {
          "output_type": "execute_result",
          "data": {
            "text/html": [
              "<div>\n",
              "<style scoped>\n",
              "    .dataframe tbody tr th:only-of-type {\n",
              "        vertical-align: middle;\n",
              "    }\n",
              "\n",
              "    .dataframe tbody tr th {\n",
              "        vertical-align: top;\n",
              "    }\n",
              "\n",
              "    .dataframe thead th {\n",
              "        text-align: right;\n",
              "    }\n",
              "</style>\n",
              "<table border=\"1\" class=\"dataframe\">\n",
              "  <thead>\n",
              "    <tr style=\"text-align: right;\">\n",
              "      <th></th>\n",
              "      <th>0</th>\n",
              "      <th>1</th>\n",
              "      <th>2</th>\n",
              "      <th>3</th>\n",
              "      <th>4</th>\n",
              "      <th>5</th>\n",
              "      <th>6</th>\n",
              "      <th>7</th>\n",
              "      <th>8</th>\n",
              "      <th>9</th>\n",
              "      <th>10</th>\n",
              "      <th>11</th>\n",
              "      <th>12</th>\n",
              "      <th>13</th>\n",
              "      <th>14</th>\n",
              "      <th>15</th>\n",
              "      <th>16</th>\n",
              "      <th>17</th>\n",
              "      <th>18</th>\n",
              "    </tr>\n",
              "  </thead>\n",
              "  <tbody>\n",
              "    <tr>\n",
              "      <th>2</th>\n",
              "      <td>2724.467440</td>\n",
              "      <td>520.751982</td>\n",
              "      <td>1000.136789</td>\n",
              "      <td>1426.458162</td>\n",
              "      <td>1.638828e+03</td>\n",
              "      <td>879.800791</td>\n",
              "      <td>141.448282</td>\n",
              "      <td>888.495390</td>\n",
              "      <td>2640.046947</td>\n",
              "      <td>454.455537</td>\n",
              "      <td>1867.527153</td>\n",
              "      <td>2824.158246</td>\n",
              "      <td>1201.600566</td>\n",
              "      <td>1.504339e+03</td>\n",
              "      <td>2646.056935</td>\n",
              "      <td>1913.825321</td>\n",
              "      <td>7.235763e+02</td>\n",
              "      <td>8703.194851</td>\n",
              "      <td>4.759629e+03</td>\n",
              "    </tr>\n",
              "    <tr>\n",
              "      <th>3</th>\n",
              "      <td>374.185166</td>\n",
              "      <td>1292.681953</td>\n",
              "      <td>11353.171021</td>\n",
              "      <td>129444.202857</td>\n",
              "      <td>7.375426e+03</td>\n",
              "      <td>5686.025251</td>\n",
              "      <td>86636.600026</td>\n",
              "      <td>29130.740702</td>\n",
              "      <td>162669.099977</td>\n",
              "      <td>10761.376389</td>\n",
              "      <td>6608.604161</td>\n",
              "      <td>974.352665</td>\n",
              "      <td>1006.296996</td>\n",
              "      <td>1.333396e+04</td>\n",
              "      <td>48427.010068</td>\n",
              "      <td>12251.154738</td>\n",
              "      <td>3.468599e+03</td>\n",
              "      <td>4991.374802</td>\n",
              "      <td>9.469812e+03</td>\n",
              "    </tr>\n",
              "    <tr>\n",
              "      <th>4</th>\n",
              "      <td>20.012464</td>\n",
              "      <td>3.612164</td>\n",
              "      <td>2250.218999</td>\n",
              "      <td>4968.287674</td>\n",
              "      <td>5.844233e+03</td>\n",
              "      <td>135.871585</td>\n",
              "      <td>39496.830887</td>\n",
              "      <td>1759.503693</td>\n",
              "      <td>13.633649</td>\n",
              "      <td>139.004392</td>\n",
              "      <td>102.628451</td>\n",
              "      <td>231.938480</td>\n",
              "      <td>6.324766</td>\n",
              "      <td>2.129870e+03</td>\n",
              "      <td>2130.600584</td>\n",
              "      <td>6154.308980</td>\n",
              "      <td>1.272799e+03</td>\n",
              "      <td>556197.837975</td>\n",
              "      <td>6.998255e+02</td>\n",
              "    </tr>\n",
              "    <tr>\n",
              "      <th>5</th>\n",
              "      <td>13739.314285</td>\n",
              "      <td>1664.877865</td>\n",
              "      <td>5380.969886</td>\n",
              "      <td>2893.488961</td>\n",
              "      <td>3.335069e+03</td>\n",
              "      <td>6846.593498</td>\n",
              "      <td>5286.333099</td>\n",
              "      <td>4131.924573</td>\n",
              "      <td>13974.902626</td>\n",
              "      <td>11798.737932</td>\n",
              "      <td>1896.481952</td>\n",
              "      <td>14639.260054</td>\n",
              "      <td>2291.352841</td>\n",
              "      <td>1.230231e+03</td>\n",
              "      <td>1640.866162</td>\n",
              "      <td>2731.955264</td>\n",
              "      <td>2.937249e+04</td>\n",
              "      <td>8861.865345</td>\n",
              "      <td>2.535114e+03</td>\n",
              "    </tr>\n",
              "    <tr>\n",
              "      <th>6</th>\n",
              "      <td>5493.037284</td>\n",
              "      <td>4043.903920</td>\n",
              "      <td>2476.674966</td>\n",
              "      <td>1264.178026</td>\n",
              "      <td>3.349965e+03</td>\n",
              "      <td>1975.166581</td>\n",
              "      <td>2369.679877</td>\n",
              "      <td>2452.163398</td>\n",
              "      <td>15222.567939</td>\n",
              "      <td>1874.511305</td>\n",
              "      <td>26262.049647</td>\n",
              "      <td>5352.197552</td>\n",
              "      <td>27414.951383</td>\n",
              "      <td>1.324776e+04</td>\n",
              "      <td>4462.529738</td>\n",
              "      <td>9054.481279</td>\n",
              "      <td>2.592044e+03</td>\n",
              "      <td>6698.711116</td>\n",
              "      <td>4.343172e+03</td>\n",
              "    </tr>\n",
              "    <tr>\n",
              "      <th>7</th>\n",
              "      <td>805.991715</td>\n",
              "      <td>78.581057</td>\n",
              "      <td>16.918353</td>\n",
              "      <td>46.222007</td>\n",
              "      <td>5.848477e-01</td>\n",
              "      <td>189.025705</td>\n",
              "      <td>0.789208</td>\n",
              "      <td>34.025687</td>\n",
              "      <td>143.569265</td>\n",
              "      <td>145.729741</td>\n",
              "      <td>7.015491</td>\n",
              "      <td>146.096758</td>\n",
              "      <td>174.885342</td>\n",
              "      <td>5.854943e+01</td>\n",
              "      <td>2.578830</td>\n",
              "      <td>37.805749</td>\n",
              "      <td>5.465668e+02</td>\n",
              "      <td>73.055604</td>\n",
              "      <td>5.888796e-01</td>\n",
              "    </tr>\n",
              "    <tr>\n",
              "      <th>8</th>\n",
              "      <td>97.778785</td>\n",
              "      <td>57.455961</td>\n",
              "      <td>1512.202680</td>\n",
              "      <td>3881.211858</td>\n",
              "      <td>8.410955e+02</td>\n",
              "      <td>920.306528</td>\n",
              "      <td>1279.140219</td>\n",
              "      <td>361.182404</td>\n",
              "      <td>46.292297</td>\n",
              "      <td>5294.654902</td>\n",
              "      <td>1193.968961</td>\n",
              "      <td>106.174905</td>\n",
              "      <td>107.225628</td>\n",
              "      <td>8.202231e+01</td>\n",
              "      <td>660.161657</td>\n",
              "      <td>1129.680916</td>\n",
              "      <td>2.786676e+03</td>\n",
              "      <td>482.600734</td>\n",
              "      <td>6.019940e+02</td>\n",
              "    </tr>\n",
              "    <tr>\n",
              "      <th>9</th>\n",
              "      <td>9337.227495</td>\n",
              "      <td>13555.539655</td>\n",
              "      <td>5320.670120</td>\n",
              "      <td>219707.508847</td>\n",
              "      <td>2.356176e+04</td>\n",
              "      <td>11890.728058</td>\n",
              "      <td>7510.388117</td>\n",
              "      <td>15617.754172</td>\n",
              "      <td>5682.477688</td>\n",
              "      <td>11310.666476</td>\n",
              "      <td>39638.949183</td>\n",
              "      <td>14809.724016</td>\n",
              "      <td>107031.062689</td>\n",
              "      <td>7.656509e+03</td>\n",
              "      <td>18646.937180</td>\n",
              "      <td>13321.886397</td>\n",
              "      <td>1.865989e+04</td>\n",
              "      <td>38957.104035</td>\n",
              "      <td>3.129556e+04</td>\n",
              "    </tr>\n",
              "    <tr>\n",
              "      <th>10</th>\n",
              "      <td>4889.523713</td>\n",
              "      <td>1465.844748</td>\n",
              "      <td>287.083072</td>\n",
              "      <td>44715.317070</td>\n",
              "      <td>1.371104e+03</td>\n",
              "      <td>2160.462085</td>\n",
              "      <td>4721.222212</td>\n",
              "      <td>2742.628978</td>\n",
              "      <td>4471.000230</td>\n",
              "      <td>10456.874824</td>\n",
              "      <td>723.509983</td>\n",
              "      <td>7563.051846</td>\n",
              "      <td>940.644846</td>\n",
              "      <td>2.185788e+04</td>\n",
              "      <td>785.078617</td>\n",
              "      <td>187.921728</td>\n",
              "      <td>3.051720e+02</td>\n",
              "      <td>0.002790</td>\n",
              "      <td>2.685175e+02</td>\n",
              "    </tr>\n",
              "    <tr>\n",
              "      <th>11</th>\n",
              "      <td>2165.502378</td>\n",
              "      <td>250.300116</td>\n",
              "      <td>1466.523966</td>\n",
              "      <td>3510.769963</td>\n",
              "      <td>2.473244e+03</td>\n",
              "      <td>5273.386138</td>\n",
              "      <td>10506.087939</td>\n",
              "      <td>3837.710962</td>\n",
              "      <td>255.877460</td>\n",
              "      <td>1595.421473</td>\n",
              "      <td>2288.101762</td>\n",
              "      <td>1389.311271</td>\n",
              "      <td>102.559104</td>\n",
              "      <td>6.147246e+02</td>\n",
              "      <td>966.784184</td>\n",
              "      <td>64887.360315</td>\n",
              "      <td>7.242447e+03</td>\n",
              "      <td>47396.977378</td>\n",
              "      <td>2.453847e+03</td>\n",
              "    </tr>\n",
              "    <tr>\n",
              "      <th>12</th>\n",
              "      <td>2172.009622</td>\n",
              "      <td>491.732256</td>\n",
              "      <td>258.742675</td>\n",
              "      <td>197.550343</td>\n",
              "      <td>2.376990e+01</td>\n",
              "      <td>739.559758</td>\n",
              "      <td>668.970234</td>\n",
              "      <td>58.277751</td>\n",
              "      <td>614.003303</td>\n",
              "      <td>791.146169</td>\n",
              "      <td>219.999143</td>\n",
              "      <td>7174.710057</td>\n",
              "      <td>465.936651</td>\n",
              "      <td>1.588252e+01</td>\n",
              "      <td>17.033930</td>\n",
              "      <td>77.919436</td>\n",
              "      <td>3.141651e+02</td>\n",
              "      <td>229.449040</td>\n",
              "      <td>2.065714e-01</td>\n",
              "    </tr>\n",
              "    <tr>\n",
              "      <th>13</th>\n",
              "      <td>309.098546</td>\n",
              "      <td>6.544803</td>\n",
              "      <td>0.147293</td>\n",
              "      <td>59495.668371</td>\n",
              "      <td>9.928601e+04</td>\n",
              "      <td>38.554643</td>\n",
              "      <td>49.250920</td>\n",
              "      <td>1270.174500</td>\n",
              "      <td>13.807072</td>\n",
              "      <td>128.066264</td>\n",
              "      <td>5992.853795</td>\n",
              "      <td>200.328371</td>\n",
              "      <td>1.139429</td>\n",
              "      <td>8.939190e+01</td>\n",
              "      <td>669.248298</td>\n",
              "      <td>4016.844259</td>\n",
              "      <td>8.116825e+02</td>\n",
              "      <td>851.534070</td>\n",
              "      <td>8.298180e+02</td>\n",
              "    </tr>\n",
              "    <tr>\n",
              "      <th>14</th>\n",
              "      <td>67.498915</td>\n",
              "      <td>19.575864</td>\n",
              "      <td>86.319783</td>\n",
              "      <td>34.529871</td>\n",
              "      <td>1.056066e+04</td>\n",
              "      <td>153.236146</td>\n",
              "      <td>287.167505</td>\n",
              "      <td>15.240293</td>\n",
              "      <td>22.836122</td>\n",
              "      <td>11.790365</td>\n",
              "      <td>2.785036</td>\n",
              "      <td>259.746281</td>\n",
              "      <td>25.193550</td>\n",
              "      <td>7.645449e+01</td>\n",
              "      <td>4.570066</td>\n",
              "      <td>24.725900</td>\n",
              "      <td>2.602952e+02</td>\n",
              "      <td>411.312338</td>\n",
              "      <td>1.173793e+02</td>\n",
              "    </tr>\n",
              "    <tr>\n",
              "      <th>15</th>\n",
              "      <td>167.469914</td>\n",
              "      <td>1857.440033</td>\n",
              "      <td>1788.697124</td>\n",
              "      <td>183.247966</td>\n",
              "      <td>2.485608e+01</td>\n",
              "      <td>1463.975111</td>\n",
              "      <td>66113.149901</td>\n",
              "      <td>278.300842</td>\n",
              "      <td>681.481578</td>\n",
              "      <td>1189.757446</td>\n",
              "      <td>86.203107</td>\n",
              "      <td>0.764957</td>\n",
              "      <td>1210.529722</td>\n",
              "      <td>1.403678e+03</td>\n",
              "      <td>469.537011</td>\n",
              "      <td>38.477278</td>\n",
              "      <td>1.279613e+03</td>\n",
              "      <td>1278.950257</td>\n",
              "      <td>3.910304e+02</td>\n",
              "    </tr>\n",
              "    <tr>\n",
              "      <th>16</th>\n",
              "      <td>3592.577442</td>\n",
              "      <td>2014.177450</td>\n",
              "      <td>1225.960955</td>\n",
              "      <td>140.401781</td>\n",
              "      <td>2.059656e+02</td>\n",
              "      <td>2488.642980</td>\n",
              "      <td>528.046768</td>\n",
              "      <td>222.331076</td>\n",
              "      <td>1850.610232</td>\n",
              "      <td>675.635801</td>\n",
              "      <td>127.953416</td>\n",
              "      <td>2992.355844</td>\n",
              "      <td>1450.193036</td>\n",
              "      <td>6.152795e+02</td>\n",
              "      <td>75.411953</td>\n",
              "      <td>285.073417</td>\n",
              "      <td>1.636877e+03</td>\n",
              "      <td>352.865575</td>\n",
              "      <td>6.464283e+01</td>\n",
              "    </tr>\n",
              "    <tr>\n",
              "      <th>17</th>\n",
              "      <td>1612.913532</td>\n",
              "      <td>4210.282605</td>\n",
              "      <td>27166.103789</td>\n",
              "      <td>134012.076882</td>\n",
              "      <td>1.813301e+05</td>\n",
              "      <td>62522.912761</td>\n",
              "      <td>72530.871243</td>\n",
              "      <td>125521.294503</td>\n",
              "      <td>2073.311039</td>\n",
              "      <td>18985.403042</td>\n",
              "      <td>126483.781596</td>\n",
              "      <td>2714.337659</td>\n",
              "      <td>6092.738925</td>\n",
              "      <td>4.984234e+04</td>\n",
              "      <td>198981.680726</td>\n",
              "      <td>169401.553458</td>\n",
              "      <td>4.513773e+04</td>\n",
              "      <td>134804.471566</td>\n",
              "      <td>1.956568e+05</td>\n",
              "    </tr>\n",
              "    <tr>\n",
              "      <th>18</th>\n",
              "      <td>9424.051244</td>\n",
              "      <td>567.003068</td>\n",
              "      <td>1.861289</td>\n",
              "      <td>1.067903</td>\n",
              "      <td>5.502711e+00</td>\n",
              "      <td>1448.891991</td>\n",
              "      <td>43.955403</td>\n",
              "      <td>82.237035</td>\n",
              "      <td>323.579190</td>\n",
              "      <td>0.012357</td>\n",
              "      <td>0.523449</td>\n",
              "      <td>3082.043317</td>\n",
              "      <td>82.387706</td>\n",
              "      <td>1.937249e+01</td>\n",
              "      <td>10.611586</td>\n",
              "      <td>8.204994</td>\n",
              "      <td>2.493688e+03</td>\n",
              "      <td>3.356241</td>\n",
              "      <td>3.644520e+01</td>\n",
              "    </tr>\n",
              "    <tr>\n",
              "      <th>19</th>\n",
              "      <td>1592.386902</td>\n",
              "      <td>54.528796</td>\n",
              "      <td>12.848803</td>\n",
              "      <td>8.993468</td>\n",
              "      <td>1.449049e+01</td>\n",
              "      <td>48.116023</td>\n",
              "      <td>24.947847</td>\n",
              "      <td>81.167651</td>\n",
              "      <td>6.232940</td>\n",
              "      <td>4.733816</td>\n",
              "      <td>2.083103</td>\n",
              "      <td>232.806119</td>\n",
              "      <td>0.006593</td>\n",
              "      <td>1.033694e+01</td>\n",
              "      <td>10.463146</td>\n",
              "      <td>11.031388</td>\n",
              "      <td>2.467745e+00</td>\n",
              "      <td>4.171931</td>\n",
              "      <td>2.149233e+00</td>\n",
              "    </tr>\n",
              "    <tr>\n",
              "      <th>20</th>\n",
              "      <td>5.301290</td>\n",
              "      <td>10.529897</td>\n",
              "      <td>108.964631</td>\n",
              "      <td>29.781164</td>\n",
              "      <td>1.041362e+00</td>\n",
              "      <td>799.020497</td>\n",
              "      <td>44.362120</td>\n",
              "      <td>34.457639</td>\n",
              "      <td>22.914789</td>\n",
              "      <td>18.559825</td>\n",
              "      <td>35.033167</td>\n",
              "      <td>687.598349</td>\n",
              "      <td>55.024482</td>\n",
              "      <td>1.004908e+02</td>\n",
              "      <td>149.693334</td>\n",
              "      <td>7.034017</td>\n",
              "      <td>1.186561e+03</td>\n",
              "      <td>531.473791</td>\n",
              "      <td>5.143695e+02</td>\n",
              "    </tr>\n",
              "    <tr>\n",
              "      <th>21</th>\n",
              "      <td>1151.119356</td>\n",
              "      <td>18.758253</td>\n",
              "      <td>32.268194</td>\n",
              "      <td>5.764093</td>\n",
              "      <td>6.055856e-02</td>\n",
              "      <td>1629.666068</td>\n",
              "      <td>88.751825</td>\n",
              "      <td>5.560789</td>\n",
              "      <td>0.308693</td>\n",
              "      <td>0.149679</td>\n",
              "      <td>0.510569</td>\n",
              "      <td>2493.683372</td>\n",
              "      <td>0.036163</td>\n",
              "      <td>4.120209e+01</td>\n",
              "      <td>11.949553</td>\n",
              "      <td>30.468052</td>\n",
              "      <td>1.773142e+06</td>\n",
              "      <td>13.807871</td>\n",
              "      <td>3.130840e+04</td>\n",
              "    </tr>\n",
              "    <tr>\n",
              "      <th>22</th>\n",
              "      <td>12071.483859</td>\n",
              "      <td>69.580770</td>\n",
              "      <td>1.666775</td>\n",
              "      <td>14.965156</td>\n",
              "      <td>4.379747e+00</td>\n",
              "      <td>42.925605</td>\n",
              "      <td>4.191472</td>\n",
              "      <td>21.034996</td>\n",
              "      <td>14.706860</td>\n",
              "      <td>7.324727</td>\n",
              "      <td>1.108944</td>\n",
              "      <td>105.254198</td>\n",
              "      <td>12.749381</td>\n",
              "      <td>5.597632e+00</td>\n",
              "      <td>0.368310</td>\n",
              "      <td>15.876916</td>\n",
              "      <td>7.020356e+01</td>\n",
              "      <td>0.900336</td>\n",
              "      <td>3.211030e+00</td>\n",
              "    </tr>\n",
              "    <tr>\n",
              "      <th>23</th>\n",
              "      <td>536.974038</td>\n",
              "      <td>353.357551</td>\n",
              "      <td>2.615380</td>\n",
              "      <td>1.762775</td>\n",
              "      <td>1.325869e+00</td>\n",
              "      <td>217.228395</td>\n",
              "      <td>365.651324</td>\n",
              "      <td>12.352905</td>\n",
              "      <td>113.478425</td>\n",
              "      <td>1.721962</td>\n",
              "      <td>1.894414</td>\n",
              "      <td>497.684644</td>\n",
              "      <td>114.829771</td>\n",
              "      <td>1.970225e+00</td>\n",
              "      <td>0.528822</td>\n",
              "      <td>424.572214</td>\n",
              "      <td>2.472049e+02</td>\n",
              "      <td>108.844262</td>\n",
              "      <td>2.199227e+01</td>\n",
              "    </tr>\n",
              "    <tr>\n",
              "      <th>24</th>\n",
              "      <td>139311.213274</td>\n",
              "      <td>74023.177816</td>\n",
              "      <td>36642.533273</td>\n",
              "      <td>31702.424015</td>\n",
              "      <td>6.888079e+03</td>\n",
              "      <td>180694.506716</td>\n",
              "      <td>185491.837472</td>\n",
              "      <td>35201.200031</td>\n",
              "      <td>68510.326595</td>\n",
              "      <td>37953.343683</td>\n",
              "      <td>28012.110570</td>\n",
              "      <td>157774.445468</td>\n",
              "      <td>68246.487677</td>\n",
              "      <td>1.093504e+06</td>\n",
              "      <td>30148.258770</td>\n",
              "      <td>122711.269903</td>\n",
              "      <td>6.626049e+05</td>\n",
              "      <td>133177.141842</td>\n",
              "      <td>6.572197e+04</td>\n",
              "    </tr>\n",
              "    <tr>\n",
              "      <th>25</th>\n",
              "      <td>28.086823</td>\n",
              "      <td>53.186433</td>\n",
              "      <td>60.612648</td>\n",
              "      <td>319.046881</td>\n",
              "      <td>9.029621e+02</td>\n",
              "      <td>1224.420955</td>\n",
              "      <td>419.776516</td>\n",
              "      <td>12.133298</td>\n",
              "      <td>25.732538</td>\n",
              "      <td>29.924002</td>\n",
              "      <td>230.607720</td>\n",
              "      <td>58.530906</td>\n",
              "      <td>22.221773</td>\n",
              "      <td>4.646481e+01</td>\n",
              "      <td>71.321021</td>\n",
              "      <td>139.784959</td>\n",
              "      <td>9.018684e+02</td>\n",
              "      <td>0.052876</td>\n",
              "      <td>1.043170e+03</td>\n",
              "    </tr>\n",
              "    <tr>\n",
              "      <th>26</th>\n",
              "      <td>3715.073709</td>\n",
              "      <td>1286.871399</td>\n",
              "      <td>1525.995342</td>\n",
              "      <td>1665.345187</td>\n",
              "      <td>1.057646e+03</td>\n",
              "      <td>5408.279897</td>\n",
              "      <td>1320.035481</td>\n",
              "      <td>1159.843232</td>\n",
              "      <td>1395.634456</td>\n",
              "      <td>1510.717000</td>\n",
              "      <td>1931.398426</td>\n",
              "      <td>2189.650026</td>\n",
              "      <td>1254.870283</td>\n",
              "      <td>1.572207e+03</td>\n",
              "      <td>1490.971460</td>\n",
              "      <td>1644.951064</td>\n",
              "      <td>1.446668e+05</td>\n",
              "      <td>2298.548316</td>\n",
              "      <td>2.706167e+03</td>\n",
              "    </tr>\n",
              "    <tr>\n",
              "      <th>27</th>\n",
              "      <td>2096.853850</td>\n",
              "      <td>344.129093</td>\n",
              "      <td>56.802226</td>\n",
              "      <td>42.087758</td>\n",
              "      <td>5.909183e+01</td>\n",
              "      <td>381.314529</td>\n",
              "      <td>99.997128</td>\n",
              "      <td>71.675380</td>\n",
              "      <td>301.641205</td>\n",
              "      <td>69.081037</td>\n",
              "      <td>57.474399</td>\n",
              "      <td>1126.794033</td>\n",
              "      <td>324.440402</td>\n",
              "      <td>6.331483e+01</td>\n",
              "      <td>35.684934</td>\n",
              "      <td>29.376127</td>\n",
              "      <td>7.152952e+02</td>\n",
              "      <td>53.275208</td>\n",
              "      <td>8.454007e+01</td>\n",
              "    </tr>\n",
              "    <tr>\n",
              "      <th>28</th>\n",
              "      <td>21355.631873</td>\n",
              "      <td>5367.618540</td>\n",
              "      <td>1792.809012</td>\n",
              "      <td>241.682126</td>\n",
              "      <td>7.827403e+01</td>\n",
              "      <td>17743.247099</td>\n",
              "      <td>5169.137583</td>\n",
              "      <td>818.182508</td>\n",
              "      <td>4935.969760</td>\n",
              "      <td>1284.341854</td>\n",
              "      <td>257.308195</td>\n",
              "      <td>12314.959853</td>\n",
              "      <td>5350.948077</td>\n",
              "      <td>5.423297e+03</td>\n",
              "      <td>391.872339</td>\n",
              "      <td>66.166579</td>\n",
              "      <td>6.505379e+03</td>\n",
              "      <td>1359.334061</td>\n",
              "      <td>8.062860e+02</td>\n",
              "    </tr>\n",
              "    <tr>\n",
              "      <th>29</th>\n",
              "      <td>46325.507176</td>\n",
              "      <td>31714.246081</td>\n",
              "      <td>10229.498008</td>\n",
              "      <td>2266.176950</td>\n",
              "      <td>6.861645e+04</td>\n",
              "      <td>72223.182752</td>\n",
              "      <td>38100.186562</td>\n",
              "      <td>21017.468050</td>\n",
              "      <td>28134.327410</td>\n",
              "      <td>11671.976564</td>\n",
              "      <td>730.924403</td>\n",
              "      <td>47647.081596</td>\n",
              "      <td>24328.480432</td>\n",
              "      <td>6.673360e+03</td>\n",
              "      <td>1554.570004</td>\n",
              "      <td>15133.113149</td>\n",
              "      <td>6.296344e+04</td>\n",
              "      <td>31069.672675</td>\n",
              "      <td>4.256437e+04</td>\n",
              "    </tr>\n",
              "    <tr>\n",
              "      <th>30</th>\n",
              "      <td>6076.008731</td>\n",
              "      <td>988.236746</td>\n",
              "      <td>154.873906</td>\n",
              "      <td>399.409971</td>\n",
              "      <td>7.617560e+01</td>\n",
              "      <td>3980.257962</td>\n",
              "      <td>427.755031</td>\n",
              "      <td>20.716568</td>\n",
              "      <td>688.434293</td>\n",
              "      <td>3879.600242</td>\n",
              "      <td>691.379542</td>\n",
              "      <td>1637.136525</td>\n",
              "      <td>324.246655</td>\n",
              "      <td>1.169337e+03</td>\n",
              "      <td>18.857038</td>\n",
              "      <td>103.663807</td>\n",
              "      <td>5.310216e+03</td>\n",
              "      <td>184.013143</td>\n",
              "      <td>1.109951e+02</td>\n",
              "    </tr>\n",
              "    <tr>\n",
              "      <th>31</th>\n",
              "      <td>83865.146739</td>\n",
              "      <td>20539.425560</td>\n",
              "      <td>6512.712380</td>\n",
              "      <td>1483.315463</td>\n",
              "      <td>8.514553e+02</td>\n",
              "      <td>20807.610283</td>\n",
              "      <td>7696.519692</td>\n",
              "      <td>2806.354337</td>\n",
              "      <td>31795.839859</td>\n",
              "      <td>12192.371647</td>\n",
              "      <td>17024.663386</td>\n",
              "      <td>46600.099415</td>\n",
              "      <td>30752.682244</td>\n",
              "      <td>8.500368e+03</td>\n",
              "      <td>2056.679468</td>\n",
              "      <td>2895.042863</td>\n",
              "      <td>1.184376e+04</td>\n",
              "      <td>7495.992880</td>\n",
              "      <td>6.567011e+03</td>\n",
              "    </tr>\n",
              "    <tr>\n",
              "      <th>32</th>\n",
              "      <td>35332.385794</td>\n",
              "      <td>1945.923032</td>\n",
              "      <td>1088.969847</td>\n",
              "      <td>7522.143639</td>\n",
              "      <td>3.234606e+01</td>\n",
              "      <td>4189.866557</td>\n",
              "      <td>5727.439187</td>\n",
              "      <td>149.245442</td>\n",
              "      <td>238.550008</td>\n",
              "      <td>697.823607</td>\n",
              "      <td>2767.292791</td>\n",
              "      <td>1159.733044</td>\n",
              "      <td>191.282046</td>\n",
              "      <td>2.477232e+04</td>\n",
              "      <td>242.728713</td>\n",
              "      <td>24.830500</td>\n",
              "      <td>4.322676e+02</td>\n",
              "      <td>736.674757</td>\n",
              "      <td>5.114793e+02</td>\n",
              "    </tr>\n",
              "    <tr>\n",
              "      <th>33</th>\n",
              "      <td>89663.495864</td>\n",
              "      <td>65253.547292</td>\n",
              "      <td>45032.271640</td>\n",
              "      <td>247029.454694</td>\n",
              "      <td>1.002826e+06</td>\n",
              "      <td>116897.906342</td>\n",
              "      <td>68591.867224</td>\n",
              "      <td>63373.556339</td>\n",
              "      <td>80309.236115</td>\n",
              "      <td>48695.266927</td>\n",
              "      <td>186038.919206</td>\n",
              "      <td>82774.021827</td>\n",
              "      <td>66889.660827</td>\n",
              "      <td>2.060845e+05</td>\n",
              "      <td>28387.079551</td>\n",
              "      <td>5036.023190</td>\n",
              "      <td>7.481350e+04</td>\n",
              "      <td>865557.872670</td>\n",
              "      <td>1.447131e+06</td>\n",
              "    </tr>\n",
              "    <tr>\n",
              "      <th>34</th>\n",
              "      <td>9343.428203</td>\n",
              "      <td>7088.832796</td>\n",
              "      <td>6798.518030</td>\n",
              "      <td>4441.612414</td>\n",
              "      <td>1.076310e+04</td>\n",
              "      <td>23457.634175</td>\n",
              "      <td>6123.504375</td>\n",
              "      <td>5855.744260</td>\n",
              "      <td>6704.500570</td>\n",
              "      <td>5494.670840</td>\n",
              "      <td>6681.755258</td>\n",
              "      <td>20685.075266</td>\n",
              "      <td>8703.864630</td>\n",
              "      <td>4.624675e+03</td>\n",
              "      <td>6889.599043</td>\n",
              "      <td>5173.628346</td>\n",
              "      <td>9.692586e+03</td>\n",
              "      <td>5605.309759</td>\n",
              "      <td>4.262877e+03</td>\n",
              "    </tr>\n",
              "    <tr>\n",
              "      <th>35</th>\n",
              "      <td>119.518728</td>\n",
              "      <td>163.638828</td>\n",
              "      <td>946.442906</td>\n",
              "      <td>279.359902</td>\n",
              "      <td>8.110063e+01</td>\n",
              "      <td>769.942221</td>\n",
              "      <td>536.771979</td>\n",
              "      <td>203.059610</td>\n",
              "      <td>16.825761</td>\n",
              "      <td>860.473709</td>\n",
              "      <td>301.228299</td>\n",
              "      <td>431.992613</td>\n",
              "      <td>845.142125</td>\n",
              "      <td>2.633388e+02</td>\n",
              "      <td>202.161596</td>\n",
              "      <td>9.590167</td>\n",
              "      <td>1.011965e+03</td>\n",
              "      <td>580.277935</td>\n",
              "      <td>7.713204e+01</td>\n",
              "    </tr>\n",
              "    <tr>\n",
              "      <th>36</th>\n",
              "      <td>295.764156</td>\n",
              "      <td>48.084413</td>\n",
              "      <td>26.230296</td>\n",
              "      <td>13.438326</td>\n",
              "      <td>1.710203e+01</td>\n",
              "      <td>89.870121</td>\n",
              "      <td>21.706187</td>\n",
              "      <td>12.211566</td>\n",
              "      <td>62.973568</td>\n",
              "      <td>49.210732</td>\n",
              "      <td>23.857428</td>\n",
              "      <td>230.171827</td>\n",
              "      <td>48.717019</td>\n",
              "      <td>1.100242e+01</td>\n",
              "      <td>5.893627</td>\n",
              "      <td>11.997385</td>\n",
              "      <td>8.535792e+01</td>\n",
              "      <td>0.108791</td>\n",
              "      <td>1.034769e+01</td>\n",
              "    </tr>\n",
              "  </tbody>\n",
              "</table>\n",
              "</div>"
            ],
            "text/plain": [
              "               0             1   ...             17            18\n",
              "2     2724.467440    520.751982  ...    8703.194851  4.759629e+03\n",
              "3      374.185166   1292.681953  ...    4991.374802  9.469812e+03\n",
              "4       20.012464      3.612164  ...  556197.837975  6.998255e+02\n",
              "5    13739.314285   1664.877865  ...    8861.865345  2.535114e+03\n",
              "6     5493.037284   4043.903920  ...    6698.711116  4.343172e+03\n",
              "7      805.991715     78.581057  ...      73.055604  5.888796e-01\n",
              "8       97.778785     57.455961  ...     482.600734  6.019940e+02\n",
              "9     9337.227495  13555.539655  ...   38957.104035  3.129556e+04\n",
              "10    4889.523713   1465.844748  ...       0.002790  2.685175e+02\n",
              "11    2165.502378    250.300116  ...   47396.977378  2.453847e+03\n",
              "12    2172.009622    491.732256  ...     229.449040  2.065714e-01\n",
              "13     309.098546      6.544803  ...     851.534070  8.298180e+02\n",
              "14      67.498915     19.575864  ...     411.312338  1.173793e+02\n",
              "15     167.469914   1857.440033  ...    1278.950257  3.910304e+02\n",
              "16    3592.577442   2014.177450  ...     352.865575  6.464283e+01\n",
              "17    1612.913532   4210.282605  ...  134804.471566  1.956568e+05\n",
              "18    9424.051244    567.003068  ...       3.356241  3.644520e+01\n",
              "19    1592.386902     54.528796  ...       4.171931  2.149233e+00\n",
              "20       5.301290     10.529897  ...     531.473791  5.143695e+02\n",
              "21    1151.119356     18.758253  ...      13.807871  3.130840e+04\n",
              "22   12071.483859     69.580770  ...       0.900336  3.211030e+00\n",
              "23     536.974038    353.357551  ...     108.844262  2.199227e+01\n",
              "24  139311.213274  74023.177816  ...  133177.141842  6.572197e+04\n",
              "25      28.086823     53.186433  ...       0.052876  1.043170e+03\n",
              "26    3715.073709   1286.871399  ...    2298.548316  2.706167e+03\n",
              "27    2096.853850    344.129093  ...      53.275208  8.454007e+01\n",
              "28   21355.631873   5367.618540  ...    1359.334061  8.062860e+02\n",
              "29   46325.507176  31714.246081  ...   31069.672675  4.256437e+04\n",
              "30    6076.008731    988.236746  ...     184.013143  1.109951e+02\n",
              "31   83865.146739  20539.425560  ...    7495.992880  6.567011e+03\n",
              "32   35332.385794   1945.923032  ...     736.674757  5.114793e+02\n",
              "33   89663.495864  65253.547292  ...  865557.872670  1.447131e+06\n",
              "34    9343.428203   7088.832796  ...    5605.309759  4.262877e+03\n",
              "35     119.518728    163.638828  ...     580.277935  7.713204e+01\n",
              "36     295.764156     48.084413  ...       0.108791  1.034769e+01\n",
              "\n",
              "[35 rows x 19 columns]"
            ]
          },
          "metadata": {},
          "execution_count": 163
        }
      ]
    },
    {
      "cell_type": "code",
      "metadata": {
        "id": "nBkfv_byJ1Vy"
      },
      "source": [
        "df_pmAD=pmAD.assign(label=lambda pmAD: 1)\n",
        "df_pmMCI=pmMCI.assign(label=lambda pmMCI: 2)\n",
        "df_pmHC=pmHC.assign(label=lambda pmHC: 3)"
      ],
      "execution_count": null,
      "outputs": []
    },
    {
      "cell_type": "code",
      "metadata": {
        "colab": {
          "base_uri": "https://localhost:8080/"
        },
        "id": "wJqxSHpjKEeS",
        "outputId": "351fc43a-3854-4405-c1a3-b7c73763bb91"
      },
      "source": [
        "df_pmHC.head(10)"
      ],
      "execution_count": null,
      "outputs": [
        {
          "output_type": "execute_result",
          "data": {
            "text/html": [
              "<div>\n",
              "<style scoped>\n",
              "    .dataframe tbody tr th:only-of-type {\n",
              "        vertical-align: middle;\n",
              "    }\n",
              "\n",
              "    .dataframe tbody tr th {\n",
              "        vertical-align: top;\n",
              "    }\n",
              "\n",
              "    .dataframe thead th {\n",
              "        text-align: right;\n",
              "    }\n",
              "</style>\n",
              "<table border=\"1\" class=\"dataframe\">\n",
              "  <thead>\n",
              "    <tr style=\"text-align: right;\">\n",
              "      <th></th>\n",
              "      <th>0</th>\n",
              "      <th>1</th>\n",
              "      <th>2</th>\n",
              "      <th>3</th>\n",
              "      <th>4</th>\n",
              "      <th>5</th>\n",
              "      <th>6</th>\n",
              "      <th>7</th>\n",
              "      <th>8</th>\n",
              "      <th>9</th>\n",
              "      <th>10</th>\n",
              "      <th>11</th>\n",
              "      <th>12</th>\n",
              "      <th>13</th>\n",
              "      <th>14</th>\n",
              "      <th>15</th>\n",
              "      <th>16</th>\n",
              "      <th>17</th>\n",
              "      <th>18</th>\n",
              "      <th>label</th>\n",
              "    </tr>\n",
              "  </thead>\n",
              "  <tbody>\n",
              "    <tr>\n",
              "      <th>2</th>\n",
              "      <td>447.293251</td>\n",
              "      <td>543.451278</td>\n",
              "      <td>349.564660</td>\n",
              "      <td>11.086940</td>\n",
              "      <td>343.759430</td>\n",
              "      <td>22151.712841</td>\n",
              "      <td>85.483030</td>\n",
              "      <td>1.053554</td>\n",
              "      <td>411.621368</td>\n",
              "      <td>72.356791</td>\n",
              "      <td>0.504811</td>\n",
              "      <td>304.992239</td>\n",
              "      <td>464.632629</td>\n",
              "      <td>130.595245</td>\n",
              "      <td>16.546065</td>\n",
              "      <td>1.206923</td>\n",
              "      <td>81.338219</td>\n",
              "      <td>28.814019</td>\n",
              "      <td>7.266700</td>\n",
              "      <td>3</td>\n",
              "    </tr>\n",
              "    <tr>\n",
              "      <th>3</th>\n",
              "      <td>1265.820003</td>\n",
              "      <td>332.194402</td>\n",
              "      <td>176.658936</td>\n",
              "      <td>20.129522</td>\n",
              "      <td>70.999475</td>\n",
              "      <td>192.063457</td>\n",
              "      <td>48.206651</td>\n",
              "      <td>7.430307</td>\n",
              "      <td>340.751722</td>\n",
              "      <td>68.120675</td>\n",
              "      <td>161.331687</td>\n",
              "      <td>2137.350360</td>\n",
              "      <td>168.748825</td>\n",
              "      <td>2534.879958</td>\n",
              "      <td>120.435642</td>\n",
              "      <td>90.007591</td>\n",
              "      <td>1146.579810</td>\n",
              "      <td>97.046575</td>\n",
              "      <td>67.234905</td>\n",
              "      <td>3</td>\n",
              "    </tr>\n",
              "    <tr>\n",
              "      <th>4</th>\n",
              "      <td>47.073477</td>\n",
              "      <td>52.927254</td>\n",
              "      <td>48.685353</td>\n",
              "      <td>11.879670</td>\n",
              "      <td>36.916831</td>\n",
              "      <td>12485.561230</td>\n",
              "      <td>2719.622344</td>\n",
              "      <td>76.787325</td>\n",
              "      <td>55.982192</td>\n",
              "      <td>3439.803691</td>\n",
              "      <td>9.054244</td>\n",
              "      <td>35.853627</td>\n",
              "      <td>130.564317</td>\n",
              "      <td>34.523075</td>\n",
              "      <td>25.483382</td>\n",
              "      <td>41.784106</td>\n",
              "      <td>167.036958</td>\n",
              "      <td>66.833310</td>\n",
              "      <td>153.136993</td>\n",
              "      <td>3</td>\n",
              "    </tr>\n",
              "    <tr>\n",
              "      <th>5</th>\n",
              "      <td>10275.433287</td>\n",
              "      <td>1811.861309</td>\n",
              "      <td>262.495314</td>\n",
              "      <td>35.272782</td>\n",
              "      <td>0.000259</td>\n",
              "      <td>6704.045992</td>\n",
              "      <td>547.951463</td>\n",
              "      <td>27.467115</td>\n",
              "      <td>4696.032247</td>\n",
              "      <td>376.192705</td>\n",
              "      <td>93.763276</td>\n",
              "      <td>15646.424500</td>\n",
              "      <td>3634.645153</td>\n",
              "      <td>265.535571</td>\n",
              "      <td>49.094920</td>\n",
              "      <td>2.308568</td>\n",
              "      <td>5347.910054</td>\n",
              "      <td>308.049560</td>\n",
              "      <td>0.668080</td>\n",
              "      <td>3</td>\n",
              "    </tr>\n",
              "    <tr>\n",
              "      <th>6</th>\n",
              "      <td>645.484839</td>\n",
              "      <td>409.340792</td>\n",
              "      <td>37.883315</td>\n",
              "      <td>0.317932</td>\n",
              "      <td>0.531118</td>\n",
              "      <td>267.707083</td>\n",
              "      <td>15.749864</td>\n",
              "      <td>11.590294</td>\n",
              "      <td>170.213466</td>\n",
              "      <td>1.077663</td>\n",
              "      <td>0.030371</td>\n",
              "      <td>374.775608</td>\n",
              "      <td>36.721441</td>\n",
              "      <td>21.341524</td>\n",
              "      <td>0.037401</td>\n",
              "      <td>0.187715</td>\n",
              "      <td>536.031156</td>\n",
              "      <td>201.335471</td>\n",
              "      <td>177.793226</td>\n",
              "      <td>3</td>\n",
              "    </tr>\n",
              "    <tr>\n",
              "      <th>7</th>\n",
              "      <td>6.450017</td>\n",
              "      <td>339.700872</td>\n",
              "      <td>252.729356</td>\n",
              "      <td>69.321500</td>\n",
              "      <td>11.345585</td>\n",
              "      <td>245.187822</td>\n",
              "      <td>355.862779</td>\n",
              "      <td>139.275145</td>\n",
              "      <td>274.503869</td>\n",
              "      <td>168.378744</td>\n",
              "      <td>19.273832</td>\n",
              "      <td>0.744986</td>\n",
              "      <td>238.481265</td>\n",
              "      <td>136.004217</td>\n",
              "      <td>37.169531</td>\n",
              "      <td>26.231767</td>\n",
              "      <td>131.332807</td>\n",
              "      <td>171.396161</td>\n",
              "      <td>81.159180</td>\n",
              "      <td>3</td>\n",
              "    </tr>\n",
              "    <tr>\n",
              "      <th>8</th>\n",
              "      <td>932.832511</td>\n",
              "      <td>144.333332</td>\n",
              "      <td>1.573848</td>\n",
              "      <td>2.356230</td>\n",
              "      <td>0.675322</td>\n",
              "      <td>2348.328981</td>\n",
              "      <td>25.278061</td>\n",
              "      <td>50.337843</td>\n",
              "      <td>77.297207</td>\n",
              "      <td>1.132673</td>\n",
              "      <td>1.912120</td>\n",
              "      <td>1352.634385</td>\n",
              "      <td>21.414398</td>\n",
              "      <td>0.389132</td>\n",
              "      <td>0.205752</td>\n",
              "      <td>61.892518</td>\n",
              "      <td>87.911983</td>\n",
              "      <td>2.821365</td>\n",
              "      <td>2.321664</td>\n",
              "      <td>3</td>\n",
              "    </tr>\n",
              "    <tr>\n",
              "      <th>9</th>\n",
              "      <td>3408.034943</td>\n",
              "      <td>3108.041206</td>\n",
              "      <td>2324.607754</td>\n",
              "      <td>3446.230535</td>\n",
              "      <td>3559.167348</td>\n",
              "      <td>4500.276652</td>\n",
              "      <td>6153.719681</td>\n",
              "      <td>13800.288853</td>\n",
              "      <td>3454.938857</td>\n",
              "      <td>2661.275575</td>\n",
              "      <td>2812.196048</td>\n",
              "      <td>16875.877773</td>\n",
              "      <td>2904.685447</td>\n",
              "      <td>2137.482030</td>\n",
              "      <td>2142.043583</td>\n",
              "      <td>2674.946915</td>\n",
              "      <td>35287.470060</td>\n",
              "      <td>1469.773086</td>\n",
              "      <td>1721.271135</td>\n",
              "      <td>3</td>\n",
              "    </tr>\n",
              "    <tr>\n",
              "      <th>10</th>\n",
              "      <td>3568.785729</td>\n",
              "      <td>92.790414</td>\n",
              "      <td>966.723177</td>\n",
              "      <td>231.605349</td>\n",
              "      <td>76.168696</td>\n",
              "      <td>3000.708529</td>\n",
              "      <td>1483.370572</td>\n",
              "      <td>382.802043</td>\n",
              "      <td>3148.010768</td>\n",
              "      <td>1036.613021</td>\n",
              "      <td>54.748083</td>\n",
              "      <td>1629.345061</td>\n",
              "      <td>2626.024838</td>\n",
              "      <td>951.846940</td>\n",
              "      <td>137.711425</td>\n",
              "      <td>71.693303</td>\n",
              "      <td>2365.087309</td>\n",
              "      <td>1776.627601</td>\n",
              "      <td>1028.062419</td>\n",
              "      <td>3</td>\n",
              "    </tr>\n",
              "    <tr>\n",
              "      <th>11</th>\n",
              "      <td>945.672928</td>\n",
              "      <td>3925.019869</td>\n",
              "      <td>789.677253</td>\n",
              "      <td>1871.671288</td>\n",
              "      <td>1542.128854</td>\n",
              "      <td>260.789901</td>\n",
              "      <td>84.308562</td>\n",
              "      <td>1452.166631</td>\n",
              "      <td>8151.005482</td>\n",
              "      <td>1941.310339</td>\n",
              "      <td>2799.293378</td>\n",
              "      <td>3352.909539</td>\n",
              "      <td>5692.929228</td>\n",
              "      <td>846.583578</td>\n",
              "      <td>1791.881515</td>\n",
              "      <td>1547.747431</td>\n",
              "      <td>5654.208659</td>\n",
              "      <td>174.910844</td>\n",
              "      <td>668.771302</td>\n",
              "      <td>3</td>\n",
              "    </tr>\n",
              "  </tbody>\n",
              "</table>\n",
              "</div>"
            ],
            "text/plain": [
              "               0            1            2  ...           17           18  label\n",
              "2     447.293251   543.451278   349.564660  ...    28.814019     7.266700      3\n",
              "3    1265.820003   332.194402   176.658936  ...    97.046575    67.234905      3\n",
              "4      47.073477    52.927254    48.685353  ...    66.833310   153.136993      3\n",
              "5   10275.433287  1811.861309   262.495314  ...   308.049560     0.668080      3\n",
              "6     645.484839   409.340792    37.883315  ...   201.335471   177.793226      3\n",
              "7       6.450017   339.700872   252.729356  ...   171.396161    81.159180      3\n",
              "8     932.832511   144.333332     1.573848  ...     2.821365     2.321664      3\n",
              "9    3408.034943  3108.041206  2324.607754  ...  1469.773086  1721.271135      3\n",
              "10   3568.785729    92.790414   966.723177  ...  1776.627601  1028.062419      3\n",
              "11    945.672928  3925.019869   789.677253  ...   174.910844   668.771302      3\n",
              "\n",
              "[10 rows x 20 columns]"
            ]
          },
          "metadata": {},
          "execution_count": 165
        }
      ]
    },
    {
      "cell_type": "code",
      "metadata": {
        "id": "4MryzZx6pO0u"
      },
      "source": [
        "ADHC=df_pmAD.copy()\n",
        "ADHC=ADHC.append(df_pmHC,ignore_index=True)"
      ],
      "execution_count": null,
      "outputs": []
    },
    {
      "cell_type": "code",
      "metadata": {
        "id": "y07Sf4fHgIYJ"
      },
      "source": [
        "ADMCI=df_pmAD.copy()\n",
        "ADMCI=ADMCI.append(df_pmMCI,ignore_index=True)"
      ],
      "execution_count": null,
      "outputs": []
    },
    {
      "cell_type": "code",
      "metadata": {
        "id": "0vAqsOd1gI3Y"
      },
      "source": [
        "MCIHC=df_pmMCI.copy()\n",
        "MCIHC=MCIHC.append(df_pmHC,ignore_index=True)"
      ],
      "execution_count": null,
      "outputs": []
    },
    {
      "cell_type": "code",
      "metadata": {
        "id": "v4mfn9vZgJQO"
      },
      "source": [
        "CASEHC=df_pmAD.copy()\n",
        "CASEHC=CASEHC.append(df_pmMCI,ignore_index=True)\n",
        "CASEHC=CASEHC.append(df_pmHC,ignore_index=True)"
      ],
      "execution_count": null,
      "outputs": []
    },
    {
      "cell_type": "code",
      "metadata": {
        "id": "itiHp95ogJi-"
      },
      "source": [
        ""
      ],
      "execution_count": null,
      "outputs": []
    },
    {
      "cell_type": "code",
      "metadata": {
        "colab": {
          "base_uri": "https://localhost:8080/"
        },
        "id": "oQHz-YlLpPIX",
        "outputId": "a8d67080-a4bc-4bba-d17b-48bada0d3dc7"
      },
      "source": [
        "CASEHC.loc[:,18]"
      ],
      "execution_count": null,
      "outputs": [
        {
          "output_type": "execute_result",
          "data": {
            "text/plain": [
              "0      4888.347621\n",
              "1     25023.776818\n",
              "2         9.256284\n",
              "3      1254.814396\n",
              "4        90.799499\n",
              "          ...     \n",
              "94     1561.026769\n",
              "95        0.366040\n",
              "96      106.064311\n",
              "97       43.966376\n",
              "98        0.045293\n",
              "Name: 18, Length: 99, dtype: float64"
            ]
          },
          "metadata": {},
          "execution_count": 170
        }
      ]
    },
    {
      "cell_type": "code",
      "metadata": {
        "id": "jIk79CVmvPXc"
      },
      "source": [
        ""
      ],
      "execution_count": null,
      "outputs": []
    },
    {
      "cell_type": "markdown",
      "metadata": {
        "id": "SSj3LcYk1Hnz"
      },
      "source": [
        "## Valutazione modello con frequenza di taglio a 7 hz"
      ]
    },
    {
      "cell_type": "markdown",
      "metadata": {
        "id": "5NBqwdkxdE2x"
      },
      "source": [
        "### Caso1 AD vs HCF"
      ]
    },
    {
      "cell_type": "code",
      "metadata": {
        "id": "nrP3khsfI1nS"
      },
      "source": [
        "df=ADHC.loc[:,[0,1,2,3,4,5,6,7,8,9,10,11,12,13,14,15,16,17,18]]\n",
        "\n",
        "X = df.to_numpy()\n",
        "\n",
        "Y = ADHC.loc[:,'label']\n",
        "y = Y.to_numpy()\n",
        "#y = np.where(y == 1, 1, 0)"
      ],
      "execution_count": null,
      "outputs": []
    },
    {
      "cell_type": "code",
      "metadata": {
        "id": "r4XdxOnhhc2g"
      },
      "source": [
        "#y = np.where(y == 1, 1, 0)"
      ],
      "execution_count": null,
      "outputs": []
    },
    {
      "cell_type": "code",
      "metadata": {
        "colab": {
          "base_uri": "https://localhost:8080/"
        },
        "id": "jQe6UJ0uj3Z5",
        "outputId": "00e07889-4a29-47f8-c509-1047a69e3a0c"
      },
      "source": [
        "X,y"
      ],
      "execution_count": null,
      "outputs": [
        {
          "output_type": "execute_result",
          "data": {
            "text/plain": [
              "(array([[1.67102744e+04, 4.91826487e+02, 6.48833553e+04, ...,\n",
              "         3.92263902e+03, 3.92319127e+03, 4.88834762e+03],\n",
              "        [2.60011702e+04, 3.54945465e+03, 3.08646810e+04, ...,\n",
              "         2.05495763e+04, 1.63183034e+04, 2.50237768e+04],\n",
              "        [5.89875043e+01, 2.29936097e+01, 1.09179982e+02, ...,\n",
              "         1.70095069e+02, 2.58619719e+03, 9.25628367e+00],\n",
              "        ...,\n",
              "        [3.08601722e+01, 2.21152010e+01, 1.01736076e+01, ...,\n",
              "         3.52643210e+01, 1.60163651e+02, 1.06064311e+02],\n",
              "        [3.20521347e+01, 1.10008571e+02, 3.81341437e+01, ...,\n",
              "         2.21070662e+01, 9.58008948e-01, 4.39663761e+01],\n",
              "        [1.20309663e+03, 1.77766016e+03, 1.04214999e+03, ...,\n",
              "         5.89391166e+02, 1.11087370e+02, 4.52934851e-02]]),\n",
              " array([1, 1, 1, 1, 1, 1, 1, 1, 1, 1, 1, 1, 1, 1, 1, 1, 1, 1, 1, 1, 1, 1,\n",
              "        1, 1, 1, 1, 1, 1, 1, 1, 1, 1, 1, 1, 1, 1, 1, 1, 1, 1, 1, 1, 1, 1,\n",
              "        1, 1, 3, 3, 3, 3, 3, 3, 3, 3, 3, 3, 3, 3, 3, 3, 3, 3, 3, 3]))"
            ]
          },
          "metadata": {},
          "execution_count": 88
        }
      ]
    },
    {
      "cell_type": "code",
      "metadata": {
        "id": "Y6SWgOuOI2fh"
      },
      "source": [
        "\n",
        "#from sklearn.model_selection import train_test_split\n",
        "\n",
        "\n",
        "X_train, X_test, y_train, y_test = train_test_split(X, y, test_size=0.3,stratify=y,random_state=42)\n",
        "\n",
        "#pca = PCA(n_components=2)\n",
        "\n",
        "#X_train_pca = pca.fit_transform(X_train)\n",
        "#X_test_pca = pca.transform(X_test)\n",
        "\n",
        "X_train_caso1=X_train\n",
        "X_test_caso1=X_test\n",
        "y_train_caso1=y_train\n",
        "y_test_caso1=y_test\n",
        "\n"
      ],
      "execution_count": null,
      "outputs": []
    },
    {
      "cell_type": "code",
      "metadata": {
        "id": "ZkvgvV-PHCLo"
      },
      "source": [
        "#X_train_caso1=X_train_caso1.reshape(-1,1)\n",
        "#X_test_caso1=X_test_caso1.reshape(-1,1)\n",
        "#y_train_caso1=y_train_caso1.reshape(-1,1)\n",
        "#y_test_caso1=y_test_caso1.reshape(-1,1)\n"
      ],
      "execution_count": null,
      "outputs": []
    },
    {
      "cell_type": "code",
      "metadata": {
        "id": "uh3T9J6cKcyI"
      },
      "source": [
        ""
      ],
      "execution_count": null,
      "outputs": []
    },
    {
      "cell_type": "code",
      "metadata": {
        "colab": {
          "base_uri": "https://localhost:8080/"
        },
        "id": "Fjz8NPpHdNtn",
        "outputId": "3b1b7936-92ff-4e1d-9ece-c7df96ce15ec"
      },
      "source": [
        "tuning_albero_decisione(1,10)"
      ],
      "execution_count": null,
      "outputs": [
        {
          "output_type": "stream",
          "name": "stdout",
          "text": [
            "stimatore utilizzato - DecisionTreeClassifier\n",
            "Fitting 10 folds for each of 216 candidates, totalling 2160 fits\n"
          ]
        },
        {
          "output_type": "stream",
          "name": "stderr",
          "text": [
            "[Parallel(n_jobs=-1)]: Using backend LokyBackend with 2 concurrent workers.\n"
          ]
        },
        {
          "output_type": "stream",
          "name": "stdout",
          "text": [
            "Accuratezza fase di Cross Validation con dati di Addestramento/Validazione: 0.680\n",
            "{'criterion': 'gini', 'max_depth': 10, 'min_samples_leaf': 3, 'min_samples_split': 3, 'min_weight_fraction_leaf': 0}\n",
            "Accuratezza con dati di Test: 0.700\n",
            "Risultato sui dati di test:\n",
            "              precision    recall  f1-score   support\n",
            "\n",
            "           1       0.83      0.71      0.77        14\n",
            "           3       0.50      0.67      0.57         6\n",
            "\n",
            "    accuracy                           0.70        20\n",
            "   macro avg       0.67      0.69      0.67        20\n",
            "weighted avg       0.73      0.70      0.71        20\n",
            "\n",
            "[[10  4]\n",
            " [ 2  4]]\n",
            "Accuratezza Test: 70.000\n",
            "Precisione  Test: 83.000\n",
            "Sensitività Test: 71.000\n",
            "Specificità Test: 66.000\n",
            "F1 score    Test: 76.000\n"
          ]
        },
        {
          "output_type": "stream",
          "name": "stderr",
          "text": [
            "[Parallel(n_jobs=-1)]: Done 2074 tasks      | elapsed:    2.4s\n",
            "[Parallel(n_jobs=-1)]: Done 2160 out of 2160 | elapsed:    2.5s finished\n"
          ]
        }
      ]
    },
    {
      "cell_type": "code",
      "metadata": {
        "colab": {
          "base_uri": "https://localhost:8080/"
        },
        "id": "WS-Rbkf5fhlC",
        "outputId": "59c17559-18b2-479d-c501-792ddc1e5ada"
      },
      "source": [
        "tuning_SVM(1,10)"
      ],
      "execution_count": null,
      "outputs": [
        {
          "output_type": "stream",
          "name": "stderr",
          "text": [
            "[Parallel(n_jobs=-1)]: Using backend LokyBackend with 2 concurrent workers.\n"
          ]
        },
        {
          "output_type": "stream",
          "name": "stdout",
          "text": [
            "stimatore utilizzato - Support vector machine (SVC)\n",
            "Fitting 10 folds for each of 20 candidates, totalling 200 fits\n",
            "Accuratezza fase di Cross Validation con dati di Addestramento/Validazione: 0.730\n",
            "{'kernel': 'rbf', 'gamma': 0.0001, 'C': 1.0}\n",
            "Accuratezza con dati di Test: 0.700\n",
            "Risultato sui dati di test:\n",
            "              precision    recall  f1-score   support\n",
            "\n",
            "           1       0.70      1.00      0.82        14\n",
            "           3       0.00      0.00      0.00         6\n",
            "\n",
            "    accuracy                           0.70        20\n",
            "   macro avg       0.35      0.50      0.41        20\n",
            "weighted avg       0.49      0.70      0.58        20\n",
            "\n",
            "[[14  0]\n",
            " [ 6  0]]\n",
            "Accuratezza Test: 70.000\n",
            "Precisione  Test: 70.000\n",
            "Sensitività Test: 100.000\n",
            "Specificità Test: 0.000\n",
            "F1 score    Test: 82.000\n"
          ]
        },
        {
          "output_type": "stream",
          "name": "stderr",
          "text": [
            "[Parallel(n_jobs=-1)]: Done 200 out of 200 | elapsed:    2.2s finished\n",
            "/usr/local/lib/python3.7/dist-packages/sklearn/metrics/_classification.py:1272: UndefinedMetricWarning:\n",
            "\n",
            "Precision and F-score are ill-defined and being set to 0.0 in labels with no predicted samples. Use `zero_division` parameter to control this behavior.\n",
            "\n"
          ]
        }
      ]
    },
    {
      "cell_type": "code",
      "metadata": {
        "id": "kCRLpQF2l-ZS"
      },
      "source": [
        "#tuning_foresta(1,10)"
      ],
      "execution_count": null,
      "outputs": []
    },
    {
      "cell_type": "code",
      "metadata": {
        "id": "jqVnoQLc5hVt"
      },
      "source": [
        "#tuning_albero_decisione_CV(1,10)"
      ],
      "execution_count": null,
      "outputs": []
    },
    {
      "cell_type": "code",
      "metadata": {
        "id": "oLAluIB45hv8"
      },
      "source": [
        "#tuning_SVM_CV(1,10)"
      ],
      "execution_count": null,
      "outputs": []
    },
    {
      "cell_type": "code",
      "metadata": {
        "id": "OcXTmGY0hVZg"
      },
      "source": [
        "#validazione_incrociata_kfold(1,10,1)"
      ],
      "execution_count": null,
      "outputs": []
    },
    {
      "cell_type": "code",
      "metadata": {
        "id": "f4CrlbiC5gKH"
      },
      "source": [
        "#validazione_incrociata_kfold(1,10,2)"
      ],
      "execution_count": null,
      "outputs": []
    },
    {
      "cell_type": "code",
      "metadata": {
        "id": "bPEwGLGl6hEd"
      },
      "source": [
        "#validazione_incrociata_score(1,10,1)"
      ],
      "execution_count": null,
      "outputs": []
    },
    {
      "cell_type": "code",
      "metadata": {
        "id": "cQ_U2dgX7HqC"
      },
      "source": [
        "#validazione_incrociata_score(1,10,2)"
      ],
      "execution_count": null,
      "outputs": []
    },
    {
      "cell_type": "code",
      "metadata": {
        "id": "xGAzBzLfePHw"
      },
      "source": [
        "#prova_pipeline(1,2)"
      ],
      "execution_count": null,
      "outputs": []
    },
    {
      "cell_type": "code",
      "metadata": {
        "id": "hZuHsgSYePgF"
      },
      "source": [
        ""
      ],
      "execution_count": null,
      "outputs": []
    },
    {
      "cell_type": "code",
      "metadata": {
        "colab": {
          "base_uri": "https://localhost:8080/"
        },
        "id": "VJWmucjUmXCa",
        "outputId": "89c8139d-2766-4f15-8785-7244ff7fbac4"
      },
      "source": [
        "tuning_KNN(1,10)"
      ],
      "execution_count": null,
      "outputs": [
        {
          "output_type": "stream",
          "name": "stderr",
          "text": [
            "[Parallel(n_jobs=-1)]: Using backend LokyBackend with 2 concurrent workers.\n"
          ]
        },
        {
          "output_type": "stream",
          "name": "stdout",
          "text": [
            "stimatore utilizzato - KNeighborsClassifier\n",
            "Fitting 10 folds for each of 16 candidates, totalling 160 fits\n",
            "Accuratezza fase di Cross Validation con dati di Addestramento/Validazione: 0.730\n",
            "{'algorithm': 'auto', 'n_neighbors': 20, 'weights': 'uniform'}\n",
            "Accuratezza con dati di Test: 0.700\n",
            "Risultato sui dati di test:\n",
            "              precision    recall  f1-score   support\n",
            "\n",
            "           1       0.70      1.00      0.82        14\n",
            "           3       0.00      0.00      0.00         6\n",
            "\n",
            "    accuracy                           0.70        20\n",
            "   macro avg       0.35      0.50      0.41        20\n",
            "weighted avg       0.49      0.70      0.58        20\n",
            "\n",
            "[[14  0]\n",
            " [ 6  0]]\n",
            "Accuratezza Test: 70.000\n",
            "Precisione  Test: 70.000\n",
            "Sensitività Test: 100.000\n",
            "Specificità Test: 0.000\n",
            "F1 score    Test: 82.000\n"
          ]
        },
        {
          "output_type": "stream",
          "name": "stderr",
          "text": [
            "[Parallel(n_jobs=-1)]: Done 160 out of 160 | elapsed:    0.3s finished\n",
            "/usr/local/lib/python3.7/dist-packages/sklearn/metrics/_classification.py:1272: UndefinedMetricWarning:\n",
            "\n",
            "Precision and F-score are ill-defined and being set to 0.0 in labels with no predicted samples. Use `zero_division` parameter to control this behavior.\n",
            "\n"
          ]
        }
      ]
    },
    {
      "cell_type": "code",
      "metadata": {
        "id": "WSrjUeB6mXCh"
      },
      "source": [
        "#tuning_MP(1,5)"
      ],
      "execution_count": null,
      "outputs": []
    },
    {
      "cell_type": "code",
      "metadata": {
        "id": "J3EClDg1mj4H"
      },
      "source": [
        "#tuning_LR(1,5)"
      ],
      "execution_count": null,
      "outputs": []
    },
    {
      "cell_type": "code",
      "metadata": {
        "id": "CgqVabv-ZEgv"
      },
      "source": [
        "#tuning_foresta(1,5)"
      ],
      "execution_count": null,
      "outputs": []
    },
    {
      "cell_type": "code",
      "metadata": {
        "id": "ZFWa93BKfSKx"
      },
      "source": [
        ""
      ],
      "execution_count": null,
      "outputs": []
    },
    {
      "cell_type": "markdown",
      "metadata": {
        "id": "pcKyjDWzfSuI"
      },
      "source": [
        "### Caso2 AD vs MCI"
      ]
    },
    {
      "cell_type": "code",
      "metadata": {
        "id": "D-MNzsIJKQcs"
      },
      "source": [
        ""
      ],
      "execution_count": null,
      "outputs": []
    },
    {
      "cell_type": "code",
      "metadata": {
        "id": "s9Ey2kBDKQ1c"
      },
      "source": [
        "\n",
        "df=ADMCI.loc[:,[0,1,2,3,4,5,6,7,8,9,10,11,12,13,14,15,16,17,18]]\n",
        "\n",
        "X = df.to_numpy()\n",
        "\n",
        "Y = ADMCI.loc[:,'label']\n",
        "y = Y.to_numpy()\n",
        "#y = np.where(y == 1, 1, 0)\n",
        "#from sklearn.model_selection import train_test_split\n",
        "\n",
        "X_train, X_test, y_train, y_test = train_test_split(X, y, test_size=0.3,stratify=y,random_state=42)\n",
        "\n",
        "#pca = PCA(n_components=5)\n",
        "\n",
        "#X_train_pca = pca.fit_transform(X_train)\n",
        "#X_test_pca = pca.transform(X_test)\n",
        "\n",
        "X_train_caso2=X_train\n",
        "X_test_caso2=X_test\n",
        "y_train_caso2=y_train\n",
        "y_test_caso2=y_test"
      ],
      "execution_count": null,
      "outputs": []
    },
    {
      "cell_type": "code",
      "metadata": {
        "id": "7vFHr-EEM7j3"
      },
      "source": [
        "#X_train_caso2=X_train_caso2.reshape(-1,1)\n",
        "#X_test_caso2=X_test_caso2.reshape(-1,1)\n",
        "#y_train_caso2=y_train_caso2.reshape(-1,1)\n",
        "#y_test_caso2=y_test_caso2.reshape(-1,1)"
      ],
      "execution_count": null,
      "outputs": []
    },
    {
      "cell_type": "code",
      "metadata": {
        "colab": {
          "base_uri": "https://localhost:8080/"
        },
        "id": "TW9gnHEzfSuL",
        "outputId": "9bf824c6-6042-46b0-ddff-49cca8cbc670"
      },
      "source": [
        "tuning_albero_decisione(2,10)"
      ],
      "execution_count": null,
      "outputs": [
        {
          "output_type": "stream",
          "name": "stdout",
          "text": [
            "stimatore utilizzato - DecisionTreeClassifier\n",
            "Fitting 10 folds for each of 216 candidates, totalling 2160 fits\n"
          ]
        },
        {
          "output_type": "stream",
          "name": "stderr",
          "text": [
            "[Parallel(n_jobs=-1)]: Using backend LokyBackend with 2 concurrent workers.\n"
          ]
        },
        {
          "output_type": "stream",
          "name": "stdout",
          "text": [
            "Accuratezza fase di Cross Validation con dati di Addestramento/Validazione: 0.603\n",
            "{'criterion': 'gini', 'max_depth': 4, 'min_samples_leaf': 3, 'min_samples_split': 3, 'min_weight_fraction_leaf': 0}\n",
            "Accuratezza con dati di Test: 0.480\n",
            "Risultato sui dati di test:\n",
            "              precision    recall  f1-score   support\n",
            "\n",
            "           1       0.52      0.79      0.63        14\n",
            "           2       0.25      0.09      0.13        11\n",
            "\n",
            "    accuracy                           0.48        25\n",
            "   macro avg       0.39      0.44      0.38        25\n",
            "weighted avg       0.40      0.48      0.41        25\n",
            "\n",
            "[[11  3]\n",
            " [10  1]]\n",
            "Accuratezza Test: 48.000\n",
            "Precisione  Test: 52.000\n",
            "Sensitività Test: 78.000\n",
            "Specificità Test: 9.000\n",
            "F1 score    Test: 62.000\n"
          ]
        },
        {
          "output_type": "stream",
          "name": "stderr",
          "text": [
            "[Parallel(n_jobs=-1)]: Done 1956 tasks      | elapsed:    2.3s\n",
            "[Parallel(n_jobs=-1)]: Done 2160 out of 2160 | elapsed:    2.4s finished\n"
          ]
        }
      ]
    },
    {
      "cell_type": "code",
      "metadata": {
        "colab": {
          "base_uri": "https://localhost:8080/",
          "height": 395
        },
        "id": "pXhWGoq-fSuT",
        "outputId": "02bba025-ac87-4d2a-b9f3-c1983d2f1fbd"
      },
      "source": [
        "tuning_SVM(2,10)"
      ],
      "execution_count": null,
      "outputs": [
        {
          "output_type": "stream",
          "name": "stderr",
          "text": [
            "[Parallel(n_jobs=-1)]: Using backend LokyBackend with 2 concurrent workers.\n"
          ]
        },
        {
          "output_type": "stream",
          "name": "stdout",
          "text": [
            "stimatore utilizzato - Support vector machine (SVC)\n",
            "Fitting 10 folds for each of 20 candidates, totalling 200 fits\n"
          ]
        },
        {
          "output_type": "stream",
          "name": "stderr",
          "text": [
            "[Parallel(n_jobs=-1)]: Done  54 tasks      | elapsed:  1.2min\n"
          ]
        },
        {
          "output_type": "error",
          "ename": "KeyboardInterrupt",
          "evalue": "ignored",
          "traceback": [
            "\u001b[0;31m---------------------------------------------------------------------------\u001b[0m",
            "\u001b[0;31mKeyboardInterrupt\u001b[0m                         Traceback (most recent call last)",
            "\u001b[0;32m<ipython-input-390-ce381967fefa>\u001b[0m in \u001b[0;36m<module>\u001b[0;34m()\u001b[0m\n\u001b[0;32m----> 1\u001b[0;31m \u001b[0mtuning_SVM\u001b[0m\u001b[0;34m(\u001b[0m\u001b[0;36m2\u001b[0m\u001b[0;34m,\u001b[0m\u001b[0;36m10\u001b[0m\u001b[0;34m)\u001b[0m\u001b[0;34m\u001b[0m\u001b[0;34m\u001b[0m\u001b[0m\n\u001b[0m",
            "\u001b[0;32m<ipython-input-74-e786505c9696>\u001b[0m in \u001b[0;36mtuning_SVM\u001b[0;34m(caso, numerocv)\u001b[0m\n\u001b[1;32m     49\u001b[0m                   \u001b[0mn_iter\u001b[0m\u001b[0;34m=\u001b[0m\u001b[0;36m20\u001b[0m\u001b[0;34m,\u001b[0m\u001b[0;34m\u001b[0m\u001b[0;34m\u001b[0m\u001b[0m\n\u001b[1;32m     50\u001b[0m                   n_jobs=-1)\n\u001b[0;32m---> 51\u001b[0;31m     \u001b[0mgs\u001b[0m \u001b[0;34m=\u001b[0m \u001b[0mcercap\u001b[0m\u001b[0;34m.\u001b[0m\u001b[0mfit\u001b[0m\u001b[0;34m(\u001b[0m\u001b[0mX_trains\u001b[0m\u001b[0;34m,\u001b[0m \u001b[0my_trains\u001b[0m\u001b[0;34m)\u001b[0m\u001b[0;34m\u001b[0m\u001b[0;34m\u001b[0m\u001b[0m\n\u001b[0m\u001b[1;32m     52\u001b[0m     \u001b[0mprint\u001b[0m\u001b[0;34m(\u001b[0m\u001b[0;34m'Accuratezza fase di Cross Validation con dati di Addestramento/Validazione: %.3f'\u001b[0m \u001b[0;34m%\u001b[0m \u001b[0mgs\u001b[0m\u001b[0;34m.\u001b[0m\u001b[0mbest_score_\u001b[0m\u001b[0;34m)\u001b[0m\u001b[0;34m\u001b[0m\u001b[0;34m\u001b[0m\u001b[0m\n\u001b[1;32m     53\u001b[0m     \u001b[0mprint\u001b[0m\u001b[0;34m(\u001b[0m\u001b[0mgs\u001b[0m\u001b[0;34m.\u001b[0m\u001b[0mbest_params_\u001b[0m\u001b[0;34m)\u001b[0m\u001b[0;34m\u001b[0m\u001b[0;34m\u001b[0m\u001b[0m\n",
            "\u001b[0;32m/usr/local/lib/python3.7/dist-packages/sklearn/model_selection/_search.py\u001b[0m in \u001b[0;36mfit\u001b[0;34m(self, X, y, groups, **fit_params)\u001b[0m\n\u001b[1;32m    708\u001b[0m                 \u001b[0;32mreturn\u001b[0m \u001b[0mresults\u001b[0m\u001b[0;34m\u001b[0m\u001b[0;34m\u001b[0m\u001b[0m\n\u001b[1;32m    709\u001b[0m \u001b[0;34m\u001b[0m\u001b[0m\n\u001b[0;32m--> 710\u001b[0;31m             \u001b[0mself\u001b[0m\u001b[0;34m.\u001b[0m\u001b[0m_run_search\u001b[0m\u001b[0;34m(\u001b[0m\u001b[0mevaluate_candidates\u001b[0m\u001b[0;34m)\u001b[0m\u001b[0;34m\u001b[0m\u001b[0;34m\u001b[0m\u001b[0m\n\u001b[0m\u001b[1;32m    711\u001b[0m \u001b[0;34m\u001b[0m\u001b[0m\n\u001b[1;32m    712\u001b[0m         \u001b[0;31m# For multi-metric evaluation, store the best_index_, best_params_ and\u001b[0m\u001b[0;34m\u001b[0m\u001b[0;34m\u001b[0m\u001b[0;34m\u001b[0m\u001b[0m\n",
            "\u001b[0;32m/usr/local/lib/python3.7/dist-packages/sklearn/model_selection/_search.py\u001b[0m in \u001b[0;36m_run_search\u001b[0;34m(self, evaluate_candidates)\u001b[0m\n\u001b[1;32m   1482\u001b[0m         evaluate_candidates(ParameterSampler(\n\u001b[1;32m   1483\u001b[0m             \u001b[0mself\u001b[0m\u001b[0;34m.\u001b[0m\u001b[0mparam_distributions\u001b[0m\u001b[0;34m,\u001b[0m \u001b[0mself\u001b[0m\u001b[0;34m.\u001b[0m\u001b[0mn_iter\u001b[0m\u001b[0;34m,\u001b[0m\u001b[0;34m\u001b[0m\u001b[0;34m\u001b[0m\u001b[0m\n\u001b[0;32m-> 1484\u001b[0;31m             random_state=self.random_state))\n\u001b[0m",
            "\u001b[0;32m/usr/local/lib/python3.7/dist-packages/sklearn/model_selection/_search.py\u001b[0m in \u001b[0;36mevaluate_candidates\u001b[0;34m(candidate_params)\u001b[0m\n\u001b[1;32m    687\u001b[0m                                \u001b[0;32mfor\u001b[0m \u001b[0mparameters\u001b[0m\u001b[0;34m,\u001b[0m \u001b[0;34m(\u001b[0m\u001b[0mtrain\u001b[0m\u001b[0;34m,\u001b[0m \u001b[0mtest\u001b[0m\u001b[0;34m)\u001b[0m\u001b[0;34m\u001b[0m\u001b[0;34m\u001b[0m\u001b[0m\n\u001b[1;32m    688\u001b[0m                                in product(candidate_params,\n\u001b[0;32m--> 689\u001b[0;31m                                           cv.split(X, y, groups)))\n\u001b[0m\u001b[1;32m    690\u001b[0m \u001b[0;34m\u001b[0m\u001b[0m\n\u001b[1;32m    691\u001b[0m                 \u001b[0;32mif\u001b[0m \u001b[0mlen\u001b[0m\u001b[0;34m(\u001b[0m\u001b[0mout\u001b[0m\u001b[0;34m)\u001b[0m \u001b[0;34m<\u001b[0m \u001b[0;36m1\u001b[0m\u001b[0;34m:\u001b[0m\u001b[0;34m\u001b[0m\u001b[0;34m\u001b[0m\u001b[0m\n",
            "\u001b[0;32m/usr/local/lib/python3.7/dist-packages/joblib/parallel.py\u001b[0m in \u001b[0;36m__call__\u001b[0;34m(self, iterable)\u001b[0m\n\u001b[1;32m   1052\u001b[0m \u001b[0;34m\u001b[0m\u001b[0m\n\u001b[1;32m   1053\u001b[0m             \u001b[0;32mwith\u001b[0m \u001b[0mself\u001b[0m\u001b[0;34m.\u001b[0m\u001b[0m_backend\u001b[0m\u001b[0;34m.\u001b[0m\u001b[0mretrieval_context\u001b[0m\u001b[0;34m(\u001b[0m\u001b[0;34m)\u001b[0m\u001b[0;34m:\u001b[0m\u001b[0;34m\u001b[0m\u001b[0;34m\u001b[0m\u001b[0m\n\u001b[0;32m-> 1054\u001b[0;31m                 \u001b[0mself\u001b[0m\u001b[0;34m.\u001b[0m\u001b[0mretrieve\u001b[0m\u001b[0;34m(\u001b[0m\u001b[0;34m)\u001b[0m\u001b[0;34m\u001b[0m\u001b[0;34m\u001b[0m\u001b[0m\n\u001b[0m\u001b[1;32m   1055\u001b[0m             \u001b[0;31m# Make sure that we get a last message telling us we are done\u001b[0m\u001b[0;34m\u001b[0m\u001b[0;34m\u001b[0m\u001b[0;34m\u001b[0m\u001b[0m\n\u001b[1;32m   1056\u001b[0m             \u001b[0melapsed_time\u001b[0m \u001b[0;34m=\u001b[0m \u001b[0mtime\u001b[0m\u001b[0;34m.\u001b[0m\u001b[0mtime\u001b[0m\u001b[0;34m(\u001b[0m\u001b[0;34m)\u001b[0m \u001b[0;34m-\u001b[0m \u001b[0mself\u001b[0m\u001b[0;34m.\u001b[0m\u001b[0m_start_time\u001b[0m\u001b[0;34m\u001b[0m\u001b[0;34m\u001b[0m\u001b[0m\n",
            "\u001b[0;32m/usr/local/lib/python3.7/dist-packages/joblib/parallel.py\u001b[0m in \u001b[0;36mretrieve\u001b[0;34m(self)\u001b[0m\n\u001b[1;32m    931\u001b[0m             \u001b[0;32mtry\u001b[0m\u001b[0;34m:\u001b[0m\u001b[0;34m\u001b[0m\u001b[0;34m\u001b[0m\u001b[0m\n\u001b[1;32m    932\u001b[0m                 \u001b[0;32mif\u001b[0m \u001b[0mgetattr\u001b[0m\u001b[0;34m(\u001b[0m\u001b[0mself\u001b[0m\u001b[0;34m.\u001b[0m\u001b[0m_backend\u001b[0m\u001b[0;34m,\u001b[0m \u001b[0;34m'supports_timeout'\u001b[0m\u001b[0;34m,\u001b[0m \u001b[0;32mFalse\u001b[0m\u001b[0;34m)\u001b[0m\u001b[0;34m:\u001b[0m\u001b[0;34m\u001b[0m\u001b[0;34m\u001b[0m\u001b[0m\n\u001b[0;32m--> 933\u001b[0;31m                     \u001b[0mself\u001b[0m\u001b[0;34m.\u001b[0m\u001b[0m_output\u001b[0m\u001b[0;34m.\u001b[0m\u001b[0mextend\u001b[0m\u001b[0;34m(\u001b[0m\u001b[0mjob\u001b[0m\u001b[0;34m.\u001b[0m\u001b[0mget\u001b[0m\u001b[0;34m(\u001b[0m\u001b[0mtimeout\u001b[0m\u001b[0;34m=\u001b[0m\u001b[0mself\u001b[0m\u001b[0;34m.\u001b[0m\u001b[0mtimeout\u001b[0m\u001b[0;34m)\u001b[0m\u001b[0;34m)\u001b[0m\u001b[0;34m\u001b[0m\u001b[0;34m\u001b[0m\u001b[0m\n\u001b[0m\u001b[1;32m    934\u001b[0m                 \u001b[0;32melse\u001b[0m\u001b[0;34m:\u001b[0m\u001b[0;34m\u001b[0m\u001b[0;34m\u001b[0m\u001b[0m\n\u001b[1;32m    935\u001b[0m                     \u001b[0mself\u001b[0m\u001b[0;34m.\u001b[0m\u001b[0m_output\u001b[0m\u001b[0;34m.\u001b[0m\u001b[0mextend\u001b[0m\u001b[0;34m(\u001b[0m\u001b[0mjob\u001b[0m\u001b[0;34m.\u001b[0m\u001b[0mget\u001b[0m\u001b[0;34m(\u001b[0m\u001b[0;34m)\u001b[0m\u001b[0;34m)\u001b[0m\u001b[0;34m\u001b[0m\u001b[0;34m\u001b[0m\u001b[0m\n",
            "\u001b[0;32m/usr/local/lib/python3.7/dist-packages/joblib/_parallel_backends.py\u001b[0m in \u001b[0;36mwrap_future_result\u001b[0;34m(future, timeout)\u001b[0m\n\u001b[1;32m    540\u001b[0m         AsyncResults.get from multiprocessing.\"\"\"\n\u001b[1;32m    541\u001b[0m         \u001b[0;32mtry\u001b[0m\u001b[0;34m:\u001b[0m\u001b[0;34m\u001b[0m\u001b[0;34m\u001b[0m\u001b[0m\n\u001b[0;32m--> 542\u001b[0;31m             \u001b[0;32mreturn\u001b[0m \u001b[0mfuture\u001b[0m\u001b[0;34m.\u001b[0m\u001b[0mresult\u001b[0m\u001b[0;34m(\u001b[0m\u001b[0mtimeout\u001b[0m\u001b[0;34m=\u001b[0m\u001b[0mtimeout\u001b[0m\u001b[0;34m)\u001b[0m\u001b[0;34m\u001b[0m\u001b[0;34m\u001b[0m\u001b[0m\n\u001b[0m\u001b[1;32m    543\u001b[0m         \u001b[0;32mexcept\u001b[0m \u001b[0mCfTimeoutError\u001b[0m \u001b[0;32mas\u001b[0m \u001b[0me\u001b[0m\u001b[0;34m:\u001b[0m\u001b[0;34m\u001b[0m\u001b[0;34m\u001b[0m\u001b[0m\n\u001b[1;32m    544\u001b[0m             \u001b[0;32mraise\u001b[0m \u001b[0mTimeoutError\u001b[0m \u001b[0;32mfrom\u001b[0m \u001b[0me\u001b[0m\u001b[0;34m\u001b[0m\u001b[0;34m\u001b[0m\u001b[0m\n",
            "\u001b[0;32m/usr/lib/python3.7/concurrent/futures/_base.py\u001b[0m in \u001b[0;36mresult\u001b[0;34m(self, timeout)\u001b[0m\n\u001b[1;32m    428\u001b[0m                 \u001b[0;32mreturn\u001b[0m \u001b[0mself\u001b[0m\u001b[0;34m.\u001b[0m\u001b[0m__get_result\u001b[0m\u001b[0;34m(\u001b[0m\u001b[0;34m)\u001b[0m\u001b[0;34m\u001b[0m\u001b[0;34m\u001b[0m\u001b[0m\n\u001b[1;32m    429\u001b[0m \u001b[0;34m\u001b[0m\u001b[0m\n\u001b[0;32m--> 430\u001b[0;31m             \u001b[0mself\u001b[0m\u001b[0;34m.\u001b[0m\u001b[0m_condition\u001b[0m\u001b[0;34m.\u001b[0m\u001b[0mwait\u001b[0m\u001b[0;34m(\u001b[0m\u001b[0mtimeout\u001b[0m\u001b[0;34m)\u001b[0m\u001b[0;34m\u001b[0m\u001b[0;34m\u001b[0m\u001b[0m\n\u001b[0m\u001b[1;32m    431\u001b[0m \u001b[0;34m\u001b[0m\u001b[0m\n\u001b[1;32m    432\u001b[0m             \u001b[0;32mif\u001b[0m \u001b[0mself\u001b[0m\u001b[0;34m.\u001b[0m\u001b[0m_state\u001b[0m \u001b[0;32min\u001b[0m \u001b[0;34m[\u001b[0m\u001b[0mCANCELLED\u001b[0m\u001b[0;34m,\u001b[0m \u001b[0mCANCELLED_AND_NOTIFIED\u001b[0m\u001b[0;34m]\u001b[0m\u001b[0;34m:\u001b[0m\u001b[0;34m\u001b[0m\u001b[0;34m\u001b[0m\u001b[0m\n",
            "\u001b[0;32m/usr/lib/python3.7/threading.py\u001b[0m in \u001b[0;36mwait\u001b[0;34m(self, timeout)\u001b[0m\n\u001b[1;32m    294\u001b[0m         \u001b[0;32mtry\u001b[0m\u001b[0;34m:\u001b[0m    \u001b[0;31m# restore state no matter what (e.g., KeyboardInterrupt)\u001b[0m\u001b[0;34m\u001b[0m\u001b[0;34m\u001b[0m\u001b[0m\n\u001b[1;32m    295\u001b[0m             \u001b[0;32mif\u001b[0m \u001b[0mtimeout\u001b[0m \u001b[0;32mis\u001b[0m \u001b[0;32mNone\u001b[0m\u001b[0;34m:\u001b[0m\u001b[0;34m\u001b[0m\u001b[0;34m\u001b[0m\u001b[0m\n\u001b[0;32m--> 296\u001b[0;31m                 \u001b[0mwaiter\u001b[0m\u001b[0;34m.\u001b[0m\u001b[0macquire\u001b[0m\u001b[0;34m(\u001b[0m\u001b[0;34m)\u001b[0m\u001b[0;34m\u001b[0m\u001b[0;34m\u001b[0m\u001b[0m\n\u001b[0m\u001b[1;32m    297\u001b[0m                 \u001b[0mgotit\u001b[0m \u001b[0;34m=\u001b[0m \u001b[0;32mTrue\u001b[0m\u001b[0;34m\u001b[0m\u001b[0;34m\u001b[0m\u001b[0m\n\u001b[1;32m    298\u001b[0m             \u001b[0;32melse\u001b[0m\u001b[0;34m:\u001b[0m\u001b[0;34m\u001b[0m\u001b[0;34m\u001b[0m\u001b[0m\n",
            "\u001b[0;31mKeyboardInterrupt\u001b[0m: "
          ]
        }
      ]
    },
    {
      "cell_type": "code",
      "metadata": {
        "id": "dRiAuzZap42v"
      },
      "source": [
        "#tuning_foresta(2,10)"
      ],
      "execution_count": null,
      "outputs": []
    },
    {
      "cell_type": "code",
      "metadata": {
        "id": "q_HsyUWHfSuT"
      },
      "source": [
        "#tuning_albero_decisione_CV(2,10)"
      ],
      "execution_count": null,
      "outputs": []
    },
    {
      "cell_type": "code",
      "metadata": {
        "id": "PMvvP8AUfSuU"
      },
      "source": [
        "#tuning_SVM_CV(2,10)"
      ],
      "execution_count": null,
      "outputs": []
    },
    {
      "cell_type": "code",
      "metadata": {
        "id": "WiGJRDZSfSuV"
      },
      "source": [
        "#validazione_incrociata_kfold(2,10,1)"
      ],
      "execution_count": null,
      "outputs": []
    },
    {
      "cell_type": "code",
      "metadata": {
        "id": "LrRrnfwVfSuW"
      },
      "source": [
        "#validazione_incrociata_kfold(2,10,2)"
      ],
      "execution_count": null,
      "outputs": []
    },
    {
      "cell_type": "code",
      "metadata": {
        "id": "6RRAuA1qfSuW"
      },
      "source": [
        "#validazione_incrociata_score(2,10,1)"
      ],
      "execution_count": null,
      "outputs": []
    },
    {
      "cell_type": "code",
      "metadata": {
        "id": "H7px54K2fSuX"
      },
      "source": [
        "#validazione_incrociata_score(2,10,2)"
      ],
      "execution_count": null,
      "outputs": []
    },
    {
      "cell_type": "code",
      "metadata": {
        "id": "4i_AWLXsfSuX"
      },
      "source": [
        "#prova_pipeline(2,2)"
      ],
      "execution_count": null,
      "outputs": []
    },
    {
      "cell_type": "code",
      "metadata": {
        "id": "SrWDGW1PfSuY"
      },
      "source": [
        "#exec_trad(2,1)"
      ],
      "execution_count": null,
      "outputs": []
    },
    {
      "cell_type": "code",
      "metadata": {
        "id": "iHTBu8kMfSuY"
      },
      "source": [
        "#exec_trad(2,2)"
      ],
      "execution_count": null,
      "outputs": []
    },
    {
      "cell_type": "code",
      "metadata": {
        "id": "_WXavkVEmsPb"
      },
      "source": [
        "tuning_KNN(2,5)"
      ],
      "execution_count": null,
      "outputs": []
    },
    {
      "cell_type": "code",
      "metadata": {
        "id": "WSj-6bF6msPe"
      },
      "source": [
        "#tuning_MP(2,5)"
      ],
      "execution_count": null,
      "outputs": []
    },
    {
      "cell_type": "code",
      "metadata": {
        "id": "LpyJDt5amsPg"
      },
      "source": [
        "#tuning_LR(2,10)"
      ],
      "execution_count": null,
      "outputs": []
    },
    {
      "cell_type": "markdown",
      "metadata": {
        "id": "dJGuPZpZjRor"
      },
      "source": [
        "<br>\n",
        "<br>"
      ]
    },
    {
      "cell_type": "markdown",
      "metadata": {
        "id": "v_Guzf0TjRot"
      },
      "source": [
        "<br>\n",
        "<br>"
      ]
    },
    {
      "cell_type": "code",
      "metadata": {
        "id": "LjXHnjb7iILZ"
      },
      "source": [
        "#tuning_foresta(2,5)"
      ],
      "execution_count": null,
      "outputs": []
    },
    {
      "cell_type": "markdown",
      "metadata": {
        "id": "M3cduXq-iMIL"
      },
      "source": [
        "### Caso3 MCI vs HCF"
      ]
    },
    {
      "cell_type": "code",
      "metadata": {
        "id": "wmxlNbNqK7UC"
      },
      "source": [
        ""
      ],
      "execution_count": null,
      "outputs": []
    },
    {
      "cell_type": "code",
      "metadata": {
        "id": "gT2p--yxK7qk"
      },
      "source": [
        "\n",
        "df=MCIHC.loc[:,0]\n",
        "\n",
        "X = df.to_numpy()\n",
        "\n",
        "Y = MCIHC.loc[:,1]\n",
        "y = Y.to_numpy()\n",
        "#y = np.where(y == 2, 1, 0)\n",
        "\n",
        "#from sklearn.model_selection import train_test_split\n",
        "\n",
        "\n",
        "X_train, X_test, y_train, y_test = train_test_split(X, y, test_size=0.3,stratify=y,random_state=42)\n",
        "\n",
        "#pca = PCA(n_components=2)\n",
        "\n",
        "#X_train_pca = pca.fit_transform(X_train)\n",
        "#X_test_pca = pca.transform(X_test)\n",
        "\n",
        "X_train_caso3=X_train\n",
        "X_test_caso3=X_test\n",
        "y_train_caso3=y_train\n",
        "y_test_caso3=y_test"
      ],
      "execution_count": null,
      "outputs": []
    },
    {
      "cell_type": "code",
      "metadata": {
        "id": "LUE8xnr5Nu2p"
      },
      "source": [
        "#X_train_caso3=X_train_caso3.reshape(-1,1)\n",
        "#X_test_caso3=X_test_caso3.reshape(-1,1)\n",
        "#y_train_caso3=y_train_caso3.reshape(-1,1)\n",
        "#y_test_caso3=y_test_caso3.reshape(-1,1)"
      ],
      "execution_count": null,
      "outputs": []
    },
    {
      "cell_type": "code",
      "metadata": {
        "id": "yLe1VeMTiMIN"
      },
      "source": [
        "tuning_albero_decisione(3,10)"
      ],
      "execution_count": null,
      "outputs": []
    },
    {
      "cell_type": "code",
      "metadata": {
        "id": "wI0oLtBuiMIO"
      },
      "source": [
        "tuning_SVM(3,5)"
      ],
      "execution_count": null,
      "outputs": []
    },
    {
      "cell_type": "code",
      "metadata": {
        "id": "kwH4VXMoiMIP"
      },
      "source": [
        "#tuning_albero_decisione_CV(3,10)"
      ],
      "execution_count": null,
      "outputs": []
    },
    {
      "cell_type": "code",
      "metadata": {
        "id": "czBUhiLAiMIQ"
      },
      "source": [
        "#tuning_SVM_CV(3,10)"
      ],
      "execution_count": null,
      "outputs": []
    },
    {
      "cell_type": "code",
      "metadata": {
        "id": "glM4t-oXiMIR"
      },
      "source": [
        "#validazione_incrociata_kfold(3,10,1)"
      ],
      "execution_count": null,
      "outputs": []
    },
    {
      "cell_type": "code",
      "metadata": {
        "id": "iyMJ5m4JiMIS"
      },
      "source": [
        "#validazione_incrociata_kfold(3,10,2)"
      ],
      "execution_count": null,
      "outputs": []
    },
    {
      "cell_type": "code",
      "metadata": {
        "id": "eH3J9XmwiMIT"
      },
      "source": [
        "#validazione_incrociata_score(3,10,1)"
      ],
      "execution_count": null,
      "outputs": []
    },
    {
      "cell_type": "code",
      "metadata": {
        "id": "FHx-NAlriMIU"
      },
      "source": [
        "#validazione_incrociata_score(3,10,2)"
      ],
      "execution_count": null,
      "outputs": []
    },
    {
      "cell_type": "code",
      "metadata": {
        "id": "SUXUIDjmiMIV"
      },
      "source": [
        "#prova_pipeline(3,2)"
      ],
      "execution_count": null,
      "outputs": []
    },
    {
      "cell_type": "code",
      "metadata": {
        "id": "wnRXTARmiMIW"
      },
      "source": [
        "#exec_trad(3,1)"
      ],
      "execution_count": null,
      "outputs": []
    },
    {
      "cell_type": "code",
      "metadata": {
        "id": "PJqtaHb6iMIZ"
      },
      "source": [
        "#exec_trad(3,2)"
      ],
      "execution_count": null,
      "outputs": []
    },
    {
      "cell_type": "code",
      "metadata": {
        "id": "wxKwOTMdmytB"
      },
      "source": [
        "tuning_KNN(3,5)"
      ],
      "execution_count": null,
      "outputs": []
    },
    {
      "cell_type": "code",
      "metadata": {
        "id": "WDlhWC3pmytC"
      },
      "source": [
        "#tuning_MP(3,10)"
      ],
      "execution_count": null,
      "outputs": []
    },
    {
      "cell_type": "code",
      "metadata": {
        "id": "y_RVi2_5mytD"
      },
      "source": [
        "#tuning_LR(3,10)"
      ],
      "execution_count": null,
      "outputs": []
    },
    {
      "cell_type": "code",
      "metadata": {
        "id": "9ySwvY8yi2-r"
      },
      "source": [
        "#tuning_foresta(3,10)"
      ],
      "execution_count": null,
      "outputs": []
    },
    {
      "cell_type": "code",
      "metadata": {
        "id": "CdJOjkYOi3eD"
      },
      "source": [
        ""
      ],
      "execution_count": null,
      "outputs": []
    },
    {
      "cell_type": "markdown",
      "metadata": {
        "id": "rTbZscg9i6gj"
      },
      "source": [
        "### Caso4 CASE vs HCF"
      ]
    },
    {
      "cell_type": "code",
      "metadata": {
        "id": "25XFuM53LU45"
      },
      "source": [
        ""
      ],
      "execution_count": null,
      "outputs": []
    },
    {
      "cell_type": "code",
      "metadata": {
        "id": "0aKRy4Q4LVW5"
      },
      "source": [
        "\n",
        "df=CASEHC.loc[:,[0,1,2,3,4,5,6,7,8,9,10,11,12,13,14,15,16,17,18]]\n",
        "\n",
        "X = df.to_numpy()\n",
        "\n",
        "Y = CASEHC.loc[:,'label']\n",
        "y = Y.to_numpy()\n",
        "y = np.where(y == 3, 1, 0)\n",
        "#from sklearn.model_selection import train_test_split\n",
        "\n",
        "\n",
        "X_train, X_test, y_train, y_test = train_test_split(X, y, test_size=0.3,stratify=y,random_state=42)\n",
        "\n",
        "#pca = PCA(n_components=2)\n",
        "\n",
        "#X_train_pca = pca.fit_transform(X_train)\n",
        "#X_test_pca = pca.transform(X_test)\n",
        "\n",
        "X_train_caso4=X_train\n",
        "X_test_caso4=X_test\n",
        "y_train_caso4=y_train\n",
        "y_test_caso4=y_test"
      ],
      "execution_count": null,
      "outputs": []
    },
    {
      "cell_type": "code",
      "metadata": {
        "id": "ZOH7UBe4OZQi"
      },
      "source": [
        "#X_train_caso4=X_train_caso4.reshape(-1,1)\n",
        "#X_test_caso4=X_test_caso4.reshape(-1,1)\n",
        "#y_train_caso4=y_train_caso4.reshape(-1,1)\n",
        "#y_test_caso4=y_test_caso4.reshape(-1,1)"
      ],
      "execution_count": null,
      "outputs": []
    },
    {
      "cell_type": "code",
      "metadata": {
        "id": "X4LvXraSi6gm"
      },
      "source": [
        "tuning_albero_decisione(4,5)"
      ],
      "execution_count": null,
      "outputs": []
    },
    {
      "cell_type": "code",
      "metadata": {
        "id": "Ummkm-HIi6gp"
      },
      "source": [
        "tuning_SVM(4,5)"
      ],
      "execution_count": null,
      "outputs": []
    },
    {
      "cell_type": "code",
      "metadata": {
        "id": "mOhBF3_ei6gr"
      },
      "source": [
        "#tuning_albero_decisione_CV(4,10)"
      ],
      "execution_count": null,
      "outputs": []
    },
    {
      "cell_type": "code",
      "metadata": {
        "id": "eO9IeabPi6gt"
      },
      "source": [
        "#tuning_SVM_CV(4,10)"
      ],
      "execution_count": null,
      "outputs": []
    },
    {
      "cell_type": "code",
      "metadata": {
        "id": "73z0PdmSi6gv"
      },
      "source": [
        "#validazione_incrociata_kfold(4,10,1)"
      ],
      "execution_count": null,
      "outputs": []
    },
    {
      "cell_type": "code",
      "metadata": {
        "id": "4tGWn7hGi6gx"
      },
      "source": [
        "#validazione_incrociata_kfold(4,10,2)"
      ],
      "execution_count": null,
      "outputs": []
    },
    {
      "cell_type": "code",
      "metadata": {
        "id": "-MyVoJrki6gy"
      },
      "source": [
        "#validazione_incrociata_score(4,10,1)"
      ],
      "execution_count": null,
      "outputs": []
    },
    {
      "cell_type": "code",
      "metadata": {
        "id": "dCr9fu3Zi6gz"
      },
      "source": [
        "#validazione_incrociata_score(4,10,2)"
      ],
      "execution_count": null,
      "outputs": []
    },
    {
      "cell_type": "code",
      "metadata": {
        "id": "cn-GCF1gi6g0"
      },
      "source": [
        "#prova_pipeline(4,2)"
      ],
      "execution_count": null,
      "outputs": []
    },
    {
      "cell_type": "code",
      "metadata": {
        "id": "ktaCUXZQi6g1"
      },
      "source": [
        "#exec_trad(4,1)"
      ],
      "execution_count": null,
      "outputs": []
    },
    {
      "cell_type": "code",
      "metadata": {
        "id": "rO5Cj1B5i6g2"
      },
      "source": [
        "#exec_trad(4,2)"
      ],
      "execution_count": null,
      "outputs": []
    },
    {
      "cell_type": "code",
      "metadata": {
        "id": "MDeor0aAm5VX"
      },
      "source": [
        "tuning_KNN(4,5)"
      ],
      "execution_count": null,
      "outputs": []
    },
    {
      "cell_type": "code",
      "metadata": {
        "id": "oFz5tANvm5VY"
      },
      "source": [
        "#tuning_MP(4,10)"
      ],
      "execution_count": null,
      "outputs": []
    },
    {
      "cell_type": "code",
      "metadata": {
        "id": "RPVPFj2pm5VZ"
      },
      "source": [
        "#tuning_LR(4,10)"
      ],
      "execution_count": null,
      "outputs": []
    },
    {
      "cell_type": "code",
      "metadata": {
        "id": "vgmWLYP4U95q"
      },
      "source": [
        "#tuning_foresta(4,10)"
      ],
      "execution_count": null,
      "outputs": []
    },
    {
      "cell_type": "markdown",
      "metadata": {
        "id": "4uuSEjd8i6g3"
      },
      "source": [
        "<br>\n",
        "<br>"
      ]
    },
    {
      "cell_type": "code",
      "metadata": {
        "id": "ANlHZlqoi6g6"
      },
      "source": [
        ""
      ],
      "execution_count": null,
      "outputs": []
    },
    {
      "cell_type": "markdown",
      "metadata": {
        "id": "mmtZK2ppIpbv"
      },
      "source": [
        "### Caso5 AD vs MCI vs HC"
      ]
    },
    {
      "cell_type": "code",
      "metadata": {
        "id": "Aq3LR_AOIpbw"
      },
      "source": [
        ""
      ],
      "execution_count": null,
      "outputs": []
    },
    {
      "cell_type": "code",
      "metadata": {
        "id": "Dzq2mZtyIpbx"
      },
      "source": [
        "\n",
        "df=CASEHC.loc[:,[0,1,2,3,4,5,6,7,8,9,10,11,12,13,14,15,16,17,18]]\n",
        "\n",
        "X = df.to_numpy()\n",
        "\n",
        "Y = CASEHC.loc[:,'label']\n",
        "y = Y.to_numpy()\n",
        "#y = np.where(y == 3, 1, 0)\n",
        "#from sklearn.model_selection import train_test_split\n",
        "\n",
        "\n",
        "X_train, X_test, y_train, y_test = train_test_split(X, y, test_size=0.3,stratify=y,random_state=42)\n",
        "\n",
        "#pca = PCA(n_components=2)\n",
        "\n",
        "#X_train_pca = pca.fit_transform(X_train)\n",
        "#X_test_pca = pca.transform(X_test)\n",
        "\n",
        "X_train_caso5=X_train\n",
        "X_test_caso5=X_test\n",
        "y_train_caso5=y_train\n",
        "y_test_caso5=y_test"
      ],
      "execution_count": null,
      "outputs": []
    },
    {
      "cell_type": "code",
      "metadata": {
        "id": "Lr14pMl-Ipby"
      },
      "source": [
        "#X_train_caso4=X_train_caso4.reshape(-1,1)\n",
        "#X_test_caso4=X_test_caso4.reshape(-1,1)\n",
        "#y_train_caso4=y_train_caso4.reshape(-1,1)\n",
        "#y_test_caso4=y_test_caso4.reshape(-1,1)"
      ],
      "execution_count": null,
      "outputs": []
    },
    {
      "cell_type": "code",
      "metadata": {
        "colab": {
          "base_uri": "https://localhost:8080/"
        },
        "id": "i5f3C95CIpby",
        "outputId": "cbf6ad7d-8a82-47fb-da74-18661b7150c4"
      },
      "source": [
        "tuning_albero_decisione(5,10)"
      ],
      "execution_count": null,
      "outputs": [
        {
          "output_type": "stream",
          "name": "stdout",
          "text": [
            "Fitting 10 folds for each of 216 candidates, totalling 2160 fits\n"
          ]
        },
        {
          "output_type": "stream",
          "name": "stderr",
          "text": [
            "[Parallel(n_jobs=-1)]: Using backend LokyBackend with 2 concurrent workers.\n",
            "[Parallel(n_jobs=-1)]: Done 1542 tasks      | elapsed:    3.0s\n"
          ]
        },
        {
          "output_type": "stream",
          "name": "stdout",
          "text": [
            "Accuratezza fase di Cross Validation con dati di Addestramento/Validazione: 0.427\n",
            "{'criterion': 'entropy', 'max_depth': 10, 'min_samples_leaf': 1, 'min_samples_split': 3, 'min_weight_fraction_leaf': 0}\n",
            "Accuratezza con dati di Test: 0.438\n",
            "Risultato sui dati di test:\n",
            "              precision    recall  f1-score   support\n",
            "\n",
            "           1       0.50      0.53      0.52        15\n",
            "           2       0.45      0.45      0.45        11\n",
            "           3       0.20      0.17      0.18         6\n",
            "\n",
            "    accuracy                           0.44        32\n",
            "   macro avg       0.38      0.38      0.38        32\n",
            "weighted avg       0.43      0.44      0.43        32\n",
            "\n",
            "[[8 4 3]\n",
            " [5 5 1]\n",
            " [3 2 1]]\n"
          ]
        },
        {
          "output_type": "stream",
          "name": "stderr",
          "text": [
            "[Parallel(n_jobs=-1)]: Done 2160 out of 2160 | elapsed:    3.6s finished\n"
          ]
        }
      ]
    },
    {
      "cell_type": "code",
      "metadata": {
        "colab": {
          "base_uri": "https://localhost:8080/",
          "height": 358
        },
        "id": "hUEUSJayIpbz",
        "outputId": "a5bf8ef7-4d94-4135-fc59-9b07581c6f3c"
      },
      "source": [
        "tuning_SVM(5,10)"
      ],
      "execution_count": null,
      "outputs": [
        {
          "output_type": "stream",
          "name": "stdout",
          "text": [
            "Fitting 10 folds for each of 20 candidates, totalling 200 fits\n"
          ]
        },
        {
          "output_type": "stream",
          "name": "stderr",
          "text": [
            "[Parallel(n_jobs=-1)]: Using backend LokyBackend with 2 concurrent workers.\n"
          ]
        },
        {
          "output_type": "error",
          "ename": "KeyboardInterrupt",
          "evalue": "ignored",
          "traceback": [
            "\u001b[0;31m---------------------------------------------------------------------------\u001b[0m",
            "\u001b[0;31mKeyboardInterrupt\u001b[0m                         Traceback (most recent call last)",
            "\u001b[0;32m<ipython-input-24-ea2e14e77000>\u001b[0m in \u001b[0;36m<module>\u001b[0;34m()\u001b[0m\n\u001b[0;32m----> 1\u001b[0;31m \u001b[0mtuning_SVM\u001b[0m\u001b[0;34m(\u001b[0m\u001b[0;36m5\u001b[0m\u001b[0;34m,\u001b[0m\u001b[0;36m10\u001b[0m\u001b[0;34m)\u001b[0m\u001b[0;34m\u001b[0m\u001b[0;34m\u001b[0m\u001b[0m\n\u001b[0m",
            "\u001b[0;32m<ipython-input-5-99ad79bac861>\u001b[0m in \u001b[0;36mtuning_SVM\u001b[0;34m(caso, numerocv)\u001b[0m\n\u001b[1;32m     49\u001b[0m                   \u001b[0mn_iter\u001b[0m\u001b[0;34m=\u001b[0m\u001b[0;36m20\u001b[0m\u001b[0;34m,\u001b[0m\u001b[0;34m\u001b[0m\u001b[0;34m\u001b[0m\u001b[0m\n\u001b[1;32m     50\u001b[0m                   n_jobs=-1)\n\u001b[0;32m---> 51\u001b[0;31m     \u001b[0mgs\u001b[0m \u001b[0;34m=\u001b[0m \u001b[0mcercap\u001b[0m\u001b[0;34m.\u001b[0m\u001b[0mfit\u001b[0m\u001b[0;34m(\u001b[0m\u001b[0mX_trains\u001b[0m\u001b[0;34m,\u001b[0m \u001b[0my_trains\u001b[0m\u001b[0;34m)\u001b[0m\u001b[0;34m\u001b[0m\u001b[0;34m\u001b[0m\u001b[0m\n\u001b[0m\u001b[1;32m     52\u001b[0m     \u001b[0mprint\u001b[0m\u001b[0;34m(\u001b[0m\u001b[0;34m'Accuratezza fase di Cross Validation con dati di Addestramento/Validazione: %.3f'\u001b[0m \u001b[0;34m%\u001b[0m \u001b[0mgs\u001b[0m\u001b[0;34m.\u001b[0m\u001b[0mbest_score_\u001b[0m\u001b[0;34m)\u001b[0m\u001b[0;34m\u001b[0m\u001b[0;34m\u001b[0m\u001b[0m\n\u001b[1;32m     53\u001b[0m     \u001b[0mprint\u001b[0m\u001b[0;34m(\u001b[0m\u001b[0mgs\u001b[0m\u001b[0;34m.\u001b[0m\u001b[0mbest_params_\u001b[0m\u001b[0;34m)\u001b[0m\u001b[0;34m\u001b[0m\u001b[0;34m\u001b[0m\u001b[0m\n",
            "\u001b[0;32m/usr/local/lib/python3.7/dist-packages/sklearn/model_selection/_search.py\u001b[0m in \u001b[0;36mfit\u001b[0;34m(self, X, y, groups, **fit_params)\u001b[0m\n\u001b[1;32m    708\u001b[0m                 \u001b[0;32mreturn\u001b[0m \u001b[0mresults\u001b[0m\u001b[0;34m\u001b[0m\u001b[0;34m\u001b[0m\u001b[0m\n\u001b[1;32m    709\u001b[0m \u001b[0;34m\u001b[0m\u001b[0m\n\u001b[0;32m--> 710\u001b[0;31m             \u001b[0mself\u001b[0m\u001b[0;34m.\u001b[0m\u001b[0m_run_search\u001b[0m\u001b[0;34m(\u001b[0m\u001b[0mevaluate_candidates\u001b[0m\u001b[0;34m)\u001b[0m\u001b[0;34m\u001b[0m\u001b[0;34m\u001b[0m\u001b[0m\n\u001b[0m\u001b[1;32m    711\u001b[0m \u001b[0;34m\u001b[0m\u001b[0m\n\u001b[1;32m    712\u001b[0m         \u001b[0;31m# For multi-metric evaluation, store the best_index_, best_params_ and\u001b[0m\u001b[0;34m\u001b[0m\u001b[0;34m\u001b[0m\u001b[0;34m\u001b[0m\u001b[0m\n",
            "\u001b[0;32m/usr/local/lib/python3.7/dist-packages/sklearn/model_selection/_search.py\u001b[0m in \u001b[0;36m_run_search\u001b[0;34m(self, evaluate_candidates)\u001b[0m\n\u001b[1;32m   1482\u001b[0m         evaluate_candidates(ParameterSampler(\n\u001b[1;32m   1483\u001b[0m             \u001b[0mself\u001b[0m\u001b[0;34m.\u001b[0m\u001b[0mparam_distributions\u001b[0m\u001b[0;34m,\u001b[0m \u001b[0mself\u001b[0m\u001b[0;34m.\u001b[0m\u001b[0mn_iter\u001b[0m\u001b[0;34m,\u001b[0m\u001b[0;34m\u001b[0m\u001b[0;34m\u001b[0m\u001b[0m\n\u001b[0;32m-> 1484\u001b[0;31m             random_state=self.random_state))\n\u001b[0m",
            "\u001b[0;32m/usr/local/lib/python3.7/dist-packages/sklearn/model_selection/_search.py\u001b[0m in \u001b[0;36mevaluate_candidates\u001b[0;34m(candidate_params)\u001b[0m\n\u001b[1;32m    687\u001b[0m                                \u001b[0;32mfor\u001b[0m \u001b[0mparameters\u001b[0m\u001b[0;34m,\u001b[0m \u001b[0;34m(\u001b[0m\u001b[0mtrain\u001b[0m\u001b[0;34m,\u001b[0m \u001b[0mtest\u001b[0m\u001b[0;34m)\u001b[0m\u001b[0;34m\u001b[0m\u001b[0;34m\u001b[0m\u001b[0m\n\u001b[1;32m    688\u001b[0m                                in product(candidate_params,\n\u001b[0;32m--> 689\u001b[0;31m                                           cv.split(X, y, groups)))\n\u001b[0m\u001b[1;32m    690\u001b[0m \u001b[0;34m\u001b[0m\u001b[0m\n\u001b[1;32m    691\u001b[0m                 \u001b[0;32mif\u001b[0m \u001b[0mlen\u001b[0m\u001b[0;34m(\u001b[0m\u001b[0mout\u001b[0m\u001b[0;34m)\u001b[0m \u001b[0;34m<\u001b[0m \u001b[0;36m1\u001b[0m\u001b[0;34m:\u001b[0m\u001b[0;34m\u001b[0m\u001b[0;34m\u001b[0m\u001b[0m\n",
            "\u001b[0;32m/usr/local/lib/python3.7/dist-packages/joblib/parallel.py\u001b[0m in \u001b[0;36m__call__\u001b[0;34m(self, iterable)\u001b[0m\n\u001b[1;32m   1052\u001b[0m \u001b[0;34m\u001b[0m\u001b[0m\n\u001b[1;32m   1053\u001b[0m             \u001b[0;32mwith\u001b[0m \u001b[0mself\u001b[0m\u001b[0;34m.\u001b[0m\u001b[0m_backend\u001b[0m\u001b[0;34m.\u001b[0m\u001b[0mretrieval_context\u001b[0m\u001b[0;34m(\u001b[0m\u001b[0;34m)\u001b[0m\u001b[0;34m:\u001b[0m\u001b[0;34m\u001b[0m\u001b[0;34m\u001b[0m\u001b[0m\n\u001b[0;32m-> 1054\u001b[0;31m                 \u001b[0mself\u001b[0m\u001b[0;34m.\u001b[0m\u001b[0mretrieve\u001b[0m\u001b[0;34m(\u001b[0m\u001b[0;34m)\u001b[0m\u001b[0;34m\u001b[0m\u001b[0;34m\u001b[0m\u001b[0m\n\u001b[0m\u001b[1;32m   1055\u001b[0m             \u001b[0;31m# Make sure that we get a last message telling us we are done\u001b[0m\u001b[0;34m\u001b[0m\u001b[0;34m\u001b[0m\u001b[0;34m\u001b[0m\u001b[0m\n\u001b[1;32m   1056\u001b[0m             \u001b[0melapsed_time\u001b[0m \u001b[0;34m=\u001b[0m \u001b[0mtime\u001b[0m\u001b[0;34m.\u001b[0m\u001b[0mtime\u001b[0m\u001b[0;34m(\u001b[0m\u001b[0;34m)\u001b[0m \u001b[0;34m-\u001b[0m \u001b[0mself\u001b[0m\u001b[0;34m.\u001b[0m\u001b[0m_start_time\u001b[0m\u001b[0;34m\u001b[0m\u001b[0;34m\u001b[0m\u001b[0m\n",
            "\u001b[0;32m/usr/local/lib/python3.7/dist-packages/joblib/parallel.py\u001b[0m in \u001b[0;36mretrieve\u001b[0;34m(self)\u001b[0m\n\u001b[1;32m    931\u001b[0m             \u001b[0;32mtry\u001b[0m\u001b[0;34m:\u001b[0m\u001b[0;34m\u001b[0m\u001b[0;34m\u001b[0m\u001b[0m\n\u001b[1;32m    932\u001b[0m                 \u001b[0;32mif\u001b[0m \u001b[0mgetattr\u001b[0m\u001b[0;34m(\u001b[0m\u001b[0mself\u001b[0m\u001b[0;34m.\u001b[0m\u001b[0m_backend\u001b[0m\u001b[0;34m,\u001b[0m \u001b[0;34m'supports_timeout'\u001b[0m\u001b[0;34m,\u001b[0m \u001b[0;32mFalse\u001b[0m\u001b[0;34m)\u001b[0m\u001b[0;34m:\u001b[0m\u001b[0;34m\u001b[0m\u001b[0;34m\u001b[0m\u001b[0m\n\u001b[0;32m--> 933\u001b[0;31m                     \u001b[0mself\u001b[0m\u001b[0;34m.\u001b[0m\u001b[0m_output\u001b[0m\u001b[0;34m.\u001b[0m\u001b[0mextend\u001b[0m\u001b[0;34m(\u001b[0m\u001b[0mjob\u001b[0m\u001b[0;34m.\u001b[0m\u001b[0mget\u001b[0m\u001b[0;34m(\u001b[0m\u001b[0mtimeout\u001b[0m\u001b[0;34m=\u001b[0m\u001b[0mself\u001b[0m\u001b[0;34m.\u001b[0m\u001b[0mtimeout\u001b[0m\u001b[0;34m)\u001b[0m\u001b[0;34m)\u001b[0m\u001b[0;34m\u001b[0m\u001b[0;34m\u001b[0m\u001b[0m\n\u001b[0m\u001b[1;32m    934\u001b[0m                 \u001b[0;32melse\u001b[0m\u001b[0;34m:\u001b[0m\u001b[0;34m\u001b[0m\u001b[0;34m\u001b[0m\u001b[0m\n\u001b[1;32m    935\u001b[0m                     \u001b[0mself\u001b[0m\u001b[0;34m.\u001b[0m\u001b[0m_output\u001b[0m\u001b[0;34m.\u001b[0m\u001b[0mextend\u001b[0m\u001b[0;34m(\u001b[0m\u001b[0mjob\u001b[0m\u001b[0;34m.\u001b[0m\u001b[0mget\u001b[0m\u001b[0;34m(\u001b[0m\u001b[0;34m)\u001b[0m\u001b[0;34m)\u001b[0m\u001b[0;34m\u001b[0m\u001b[0;34m\u001b[0m\u001b[0m\n",
            "\u001b[0;32m/usr/local/lib/python3.7/dist-packages/joblib/_parallel_backends.py\u001b[0m in \u001b[0;36mwrap_future_result\u001b[0;34m(future, timeout)\u001b[0m\n\u001b[1;32m    540\u001b[0m         AsyncResults.get from multiprocessing.\"\"\"\n\u001b[1;32m    541\u001b[0m         \u001b[0;32mtry\u001b[0m\u001b[0;34m:\u001b[0m\u001b[0;34m\u001b[0m\u001b[0;34m\u001b[0m\u001b[0m\n\u001b[0;32m--> 542\u001b[0;31m             \u001b[0;32mreturn\u001b[0m \u001b[0mfuture\u001b[0m\u001b[0;34m.\u001b[0m\u001b[0mresult\u001b[0m\u001b[0;34m(\u001b[0m\u001b[0mtimeout\u001b[0m\u001b[0;34m=\u001b[0m\u001b[0mtimeout\u001b[0m\u001b[0;34m)\u001b[0m\u001b[0;34m\u001b[0m\u001b[0;34m\u001b[0m\u001b[0m\n\u001b[0m\u001b[1;32m    543\u001b[0m         \u001b[0;32mexcept\u001b[0m \u001b[0mCfTimeoutError\u001b[0m \u001b[0;32mas\u001b[0m \u001b[0me\u001b[0m\u001b[0;34m:\u001b[0m\u001b[0;34m\u001b[0m\u001b[0;34m\u001b[0m\u001b[0m\n\u001b[1;32m    544\u001b[0m             \u001b[0;32mraise\u001b[0m \u001b[0mTimeoutError\u001b[0m \u001b[0;32mfrom\u001b[0m \u001b[0me\u001b[0m\u001b[0;34m\u001b[0m\u001b[0;34m\u001b[0m\u001b[0m\n",
            "\u001b[0;32m/usr/lib/python3.7/concurrent/futures/_base.py\u001b[0m in \u001b[0;36mresult\u001b[0;34m(self, timeout)\u001b[0m\n\u001b[1;32m    428\u001b[0m                 \u001b[0;32mreturn\u001b[0m \u001b[0mself\u001b[0m\u001b[0;34m.\u001b[0m\u001b[0m__get_result\u001b[0m\u001b[0;34m(\u001b[0m\u001b[0;34m)\u001b[0m\u001b[0;34m\u001b[0m\u001b[0;34m\u001b[0m\u001b[0m\n\u001b[1;32m    429\u001b[0m \u001b[0;34m\u001b[0m\u001b[0m\n\u001b[0;32m--> 430\u001b[0;31m             \u001b[0mself\u001b[0m\u001b[0;34m.\u001b[0m\u001b[0m_condition\u001b[0m\u001b[0;34m.\u001b[0m\u001b[0mwait\u001b[0m\u001b[0;34m(\u001b[0m\u001b[0mtimeout\u001b[0m\u001b[0;34m)\u001b[0m\u001b[0;34m\u001b[0m\u001b[0;34m\u001b[0m\u001b[0m\n\u001b[0m\u001b[1;32m    431\u001b[0m \u001b[0;34m\u001b[0m\u001b[0m\n\u001b[1;32m    432\u001b[0m             \u001b[0;32mif\u001b[0m \u001b[0mself\u001b[0m\u001b[0;34m.\u001b[0m\u001b[0m_state\u001b[0m \u001b[0;32min\u001b[0m \u001b[0;34m[\u001b[0m\u001b[0mCANCELLED\u001b[0m\u001b[0;34m,\u001b[0m \u001b[0mCANCELLED_AND_NOTIFIED\u001b[0m\u001b[0;34m]\u001b[0m\u001b[0;34m:\u001b[0m\u001b[0;34m\u001b[0m\u001b[0;34m\u001b[0m\u001b[0m\n",
            "\u001b[0;32m/usr/lib/python3.7/threading.py\u001b[0m in \u001b[0;36mwait\u001b[0;34m(self, timeout)\u001b[0m\n\u001b[1;32m    294\u001b[0m         \u001b[0;32mtry\u001b[0m\u001b[0;34m:\u001b[0m    \u001b[0;31m# restore state no matter what (e.g., KeyboardInterrupt)\u001b[0m\u001b[0;34m\u001b[0m\u001b[0;34m\u001b[0m\u001b[0m\n\u001b[1;32m    295\u001b[0m             \u001b[0;32mif\u001b[0m \u001b[0mtimeout\u001b[0m \u001b[0;32mis\u001b[0m \u001b[0;32mNone\u001b[0m\u001b[0;34m:\u001b[0m\u001b[0;34m\u001b[0m\u001b[0;34m\u001b[0m\u001b[0m\n\u001b[0;32m--> 296\u001b[0;31m                 \u001b[0mwaiter\u001b[0m\u001b[0;34m.\u001b[0m\u001b[0macquire\u001b[0m\u001b[0;34m(\u001b[0m\u001b[0;34m)\u001b[0m\u001b[0;34m\u001b[0m\u001b[0;34m\u001b[0m\u001b[0m\n\u001b[0m\u001b[1;32m    297\u001b[0m                 \u001b[0mgotit\u001b[0m \u001b[0;34m=\u001b[0m \u001b[0;32mTrue\u001b[0m\u001b[0;34m\u001b[0m\u001b[0;34m\u001b[0m\u001b[0m\n\u001b[1;32m    298\u001b[0m             \u001b[0;32melse\u001b[0m\u001b[0;34m:\u001b[0m\u001b[0;34m\u001b[0m\u001b[0;34m\u001b[0m\u001b[0m\n",
            "\u001b[0;31mKeyboardInterrupt\u001b[0m: "
          ]
        }
      ]
    },
    {
      "cell_type": "code",
      "metadata": {
        "id": "h1FEZfjYIpb0"
      },
      "source": [
        "#tuning_albero_decisione_CV(4,10)"
      ],
      "execution_count": null,
      "outputs": []
    },
    {
      "cell_type": "code",
      "metadata": {
        "id": "KcV4RW9-Ipb0"
      },
      "source": [
        "#tuning_SVM_CV(4,10)"
      ],
      "execution_count": null,
      "outputs": []
    },
    {
      "cell_type": "code",
      "metadata": {
        "id": "8D53tNQyIpb0"
      },
      "source": [
        "#validazione_incrociata_kfold(4,10,1)"
      ],
      "execution_count": null,
      "outputs": []
    },
    {
      "cell_type": "code",
      "metadata": {
        "id": "v5QIJlTvIpb1"
      },
      "source": [
        "#validazione_incrociata_kfold(4,10,2)"
      ],
      "execution_count": null,
      "outputs": []
    },
    {
      "cell_type": "code",
      "metadata": {
        "id": "he6ZIixwIpb1"
      },
      "source": [
        "#validazione_incrociata_score(4,10,1)"
      ],
      "execution_count": null,
      "outputs": []
    },
    {
      "cell_type": "code",
      "metadata": {
        "id": "NKcjZJu4Ipb2"
      },
      "source": [
        "#validazione_incrociata_score(4,10,2)"
      ],
      "execution_count": null,
      "outputs": []
    },
    {
      "cell_type": "code",
      "metadata": {
        "id": "gExCFWnwIpb2"
      },
      "source": [
        "#prova_pipeline(4,2)"
      ],
      "execution_count": null,
      "outputs": []
    },
    {
      "cell_type": "code",
      "metadata": {
        "id": "Upz0GtmKIpb2"
      },
      "source": [
        "#exec_trad(4,1)"
      ],
      "execution_count": null,
      "outputs": []
    },
    {
      "cell_type": "code",
      "metadata": {
        "id": "Ut21ykmOIpb3"
      },
      "source": [
        "#exec_trad(4,2)"
      ],
      "execution_count": null,
      "outputs": []
    },
    {
      "cell_type": "code",
      "metadata": {
        "colab": {
          "base_uri": "https://localhost:8080/"
        },
        "id": "WfAH4veZIpb3",
        "outputId": "a553cbc4-6b8f-4863-a885-ae97f122f2a1"
      },
      "source": [
        "tuning_KNN(5,10)"
      ],
      "execution_count": null,
      "outputs": [
        {
          "output_type": "stream",
          "name": "stdout",
          "text": [
            "Fitting 10 folds for each of 16 candidates, totalling 160 fits\n"
          ]
        },
        {
          "output_type": "stream",
          "name": "stderr",
          "text": [
            "[Parallel(n_jobs=-1)]: Using backend LokyBackend with 2 concurrent workers.\n"
          ]
        },
        {
          "output_type": "stream",
          "name": "stdout",
          "text": [
            "Accuratezza fase di Cross Validation con dati di Addestramento/Validazione: 0.466\n",
            "{'algorithm': 'auto', 'n_neighbors': 5, 'weights': 'uniform'}\n",
            "Accuratezza con dati di Test: 0.438\n",
            "Risultato sui dati di test:\n",
            "              precision    recall  f1-score   support\n",
            "\n",
            "           1       0.41      0.47      0.44        15\n",
            "           2       0.42      0.45      0.43        11\n",
            "           3       0.67      0.33      0.44         6\n",
            "\n",
            "    accuracy                           0.44        32\n",
            "   macro avg       0.50      0.42      0.44        32\n",
            "weighted avg       0.46      0.44      0.44        32\n",
            "\n",
            "[[7 7 1]\n",
            " [6 5 0]\n",
            " [4 0 2]]\n"
          ]
        },
        {
          "output_type": "stream",
          "name": "stderr",
          "text": [
            "[Parallel(n_jobs=-1)]: Done 150 tasks      | elapsed:    1.1s\n",
            "[Parallel(n_jobs=-1)]: Done 160 out of 160 | elapsed:    1.1s finished\n"
          ]
        }
      ]
    },
    {
      "cell_type": "code",
      "metadata": {
        "id": "ZRUYq5mJIpb4"
      },
      "source": [
        "#tuning_MP(4,10)"
      ],
      "execution_count": null,
      "outputs": []
    },
    {
      "cell_type": "code",
      "metadata": {
        "id": "ezijVwCyIpb5"
      },
      "source": [
        "#tuning_LR(4,10)"
      ],
      "execution_count": null,
      "outputs": []
    },
    {
      "cell_type": "code",
      "metadata": {
        "id": "646PQ-RoIpb5"
      },
      "source": [
        "#tuning_foresta(4,10)"
      ],
      "execution_count": null,
      "outputs": []
    },
    {
      "cell_type": "markdown",
      "metadata": {
        "id": "o643oHnAIpb5"
      },
      "source": [
        "<br>\n",
        "<br>"
      ]
    },
    {
      "cell_type": "code",
      "metadata": {
        "id": "hsqSQ5weIpb6"
      },
      "source": [
        ""
      ],
      "execution_count": null,
      "outputs": []
    },
    {
      "cell_type": "code",
      "metadata": {
        "id": "ia-NnGh0Ipb6"
      },
      "source": [
        ""
      ],
      "execution_count": null,
      "outputs": []
    },
    {
      "cell_type": "code",
      "metadata": {
        "id": "jFM5w4k-Ipb6"
      },
      "source": [
        ""
      ],
      "execution_count": null,
      "outputs": []
    },
    {
      "cell_type": "code",
      "metadata": {
        "id": "3lTwG0c8i6g7"
      },
      "source": [
        ""
      ],
      "execution_count": null,
      "outputs": []
    },
    {
      "cell_type": "code",
      "metadata": {
        "id": "xMs6RXXii6g7"
      },
      "source": [
        ""
      ],
      "execution_count": null,
      "outputs": []
    },
    {
      "cell_type": "code",
      "metadata": {
        "id": "jAEi0HJVIotD"
      },
      "source": [
        ""
      ],
      "execution_count": null,
      "outputs": []
    },
    {
      "cell_type": "markdown",
      "metadata": {
        "id": "N0xxIS5M_Lav"
      },
      "source": [
        "## Riduzione di dimensioni con LDA a 7 HZ"
      ]
    },
    {
      "cell_type": "code",
      "metadata": {
        "id": "2Lqcywvz_Yg-"
      },
      "source": [
        ""
      ],
      "execution_count": null,
      "outputs": []
    },
    {
      "cell_type": "markdown",
      "metadata": {
        "id": "1_oXuC_LRG_m"
      },
      "source": [
        "### LDA"
      ]
    },
    {
      "cell_type": "code",
      "metadata": {
        "id": "ht9w57-JeW9t"
      },
      "source": [
        ""
      ],
      "execution_count": null,
      "outputs": []
    },
    {
      "cell_type": "markdown",
      "metadata": {
        "id": "XEJkfZZceXUk"
      },
      "source": [
        "#### 10 RUN AD vs HC"
      ]
    },
    {
      "cell_type": "code",
      "metadata": {
        "id": "j10Smi2FeXUl"
      },
      "source": [
        "for i in range(10):\n",
        "    df=ADHC.loc[:,[0,1,2,3,4,5,6,7,8,9,10,11,12,13,14,15,16,17,18]]\n",
        "\n",
        "    X = df.to_numpy()\n",
        "\n",
        "    Y = ADHC.loc[:,'label']\n",
        "    y = Y.to_numpy()\n",
        "    y = np.where(y == 1, 1, 0)\n",
        "    #from sklearn.model_selection import train_test_split\n",
        "\n",
        "\n",
        "    X_train, X_test, y_train, y_test = train_test_split(X, y, test_size=0.3,stratify=y)\n",
        "\n",
        "\n",
        "\n",
        "    lda = LDA(n_components=2)\n",
        "    X_train_lda1 = lda.fit_transform(X_train, y_train)\n",
        "    #X_test_lda1 = lda.transform(X_test)\n",
        "    X_test_lda1 = lda.fit_transform(X_test,y_test)\n",
        "\n",
        "    X_train_caso1=X_train_lda1\n",
        "    X_test_caso1=X_test_lda1\n",
        "    y_train_caso1=y_train\n",
        "    y_test_caso1=y_test\n",
        "    tuning_albero_decisione(1,10)\n",
        "    tuning_SVM(1,10)\n",
        "    tuning_SVM_1(1,10)\n",
        "    tuning_KNN(1,10)\n"
      ],
      "execution_count": null,
      "outputs": []
    },
    {
      "cell_type": "markdown",
      "metadata": {
        "id": "xiXNqg_99Lty"
      },
      "source": [
        "#### Caso 1 AD vs HCF"
      ]
    },
    {
      "cell_type": "code",
      "metadata": {
        "colab": {
          "base_uri": "https://localhost:8080/"
        },
        "id": "QEhwtVL39Ltz",
        "outputId": "7d719f22-9e1d-49aa-f0c0-13a235778c61"
      },
      "source": [
        "\n",
        "df=ADHC.loc[:,[0,1,2,3,4,5,6,7,8,9,10,11,12,13,14,15,16,17,18]]\n",
        "\n",
        "X = df.to_numpy()\n",
        "\n",
        "Y = ADHC.loc[:,'label']\n",
        "y = Y.to_numpy()\n",
        "#y = np.where(y == 1, 1, 0)\n",
        "#from sklearn.model_selection import train_test_split\n",
        "\n",
        "\n",
        "X_train, X_test, y_train, y_test = train_test_split(X, y, test_size=0.3)\n",
        "\n",
        "\n",
        "lda = LDA(n_components=2)\n",
        "X_train_lda1 = lda.fit_transform(X_train, y_train)\n",
        "#X_test_lda1 = lda.transform(X_test)\n",
        "X_test_lda1 = lda.fit_transform(X_test,y_test)\n",
        "\n",
        "X_train_caso1=X_train_lda1\n",
        "X_test_caso1=X_test_lda1\n",
        "y_train_caso1=y_train\n",
        "y_test_caso1=y_test"
      ],
      "execution_count": null,
      "outputs": [
        {
          "output_type": "stream",
          "name": "stderr",
          "text": [
            "/usr/local/lib/python3.7/dist-packages/sklearn/discriminant_analysis.py:463: ChangedBehaviorWarning:\n",
            "\n",
            "n_components cannot be larger than min(n_features, n_classes - 1). Using min(n_features, n_classes - 1) = min(19, 2 - 1) = 1 components.\n",
            "\n",
            "/usr/local/lib/python3.7/dist-packages/sklearn/discriminant_analysis.py:469: FutureWarning:\n",
            "\n",
            "In version 0.23, setting n_components > min(n_features, n_classes - 1) will raise a ValueError. You should set n_components to None (default), or a value smaller or equal to min(n_features, n_classes - 1).\n",
            "\n",
            "/usr/local/lib/python3.7/dist-packages/sklearn/discriminant_analysis.py:463: ChangedBehaviorWarning:\n",
            "\n",
            "n_components cannot be larger than min(n_features, n_classes - 1). Using min(n_features, n_classes - 1) = min(19, 2 - 1) = 1 components.\n",
            "\n",
            "/usr/local/lib/python3.7/dist-packages/sklearn/discriminant_analysis.py:469: FutureWarning:\n",
            "\n",
            "In version 0.23, setting n_components > min(n_features, n_classes - 1) will raise a ValueError. You should set n_components to None (default), or a value smaller or equal to min(n_features, n_classes - 1).\n",
            "\n"
          ]
        }
      ]
    },
    {
      "cell_type": "code",
      "metadata": {
        "id": "68AK3dMO9Sd3"
      },
      "source": [
        "#tuning_albero_decisione_CV(1,10)"
      ],
      "execution_count": null,
      "outputs": []
    },
    {
      "cell_type": "code",
      "metadata": {
        "colab": {
          "base_uri": "https://localhost:8080/"
        },
        "id": "Z0Yip2MYFRr7",
        "outputId": "f36b1093-9428-4c44-9aa1-e6e4c5834799"
      },
      "source": [
        "tuning_albero_decisione(1,10)"
      ],
      "execution_count": null,
      "outputs": [
        {
          "output_type": "stream",
          "name": "stdout",
          "text": [
            "stimatore utilizzato - DecisionTreeClassifier\n",
            "Fitting 10 folds for each of 216 candidates, totalling 2160 fits\n"
          ]
        },
        {
          "output_type": "stream",
          "name": "stderr",
          "text": [
            "[Parallel(n_jobs=-1)]: Using backend LokyBackend with 2 concurrent workers.\n"
          ]
        },
        {
          "output_type": "stream",
          "name": "stdout",
          "text": [
            "Accuratezza fase di Cross Validation con dati di Addestramento/Validazione: 0.795\n",
            "{'criterion': 'gini', 'max_depth': 3, 'min_samples_leaf': 1, 'min_samples_split': 2, 'min_weight_fraction_leaf': 0}\n",
            "Accuratezza con dati di Test: 1.000\n",
            "Risultato sui dati di test:\n",
            "              precision    recall  f1-score   support\n",
            "\n",
            "           1       1.00      1.00      1.00        16\n",
            "           3       1.00      1.00      1.00         4\n",
            "\n",
            "    accuracy                           1.00        20\n",
            "   macro avg       1.00      1.00      1.00        20\n",
            "weighted avg       1.00      1.00      1.00        20\n",
            "\n",
            "[[16  0]\n",
            " [ 0  4]]\n",
            "Accuratezza Test: 100.000\n",
            "Precisione  Test: 100.000\n",
            "Sensitività Test: 100.000\n",
            "Specificità Test: 100.000\n",
            "F1 score    Test: 100.000\n"
          ]
        },
        {
          "output_type": "stream",
          "name": "stderr",
          "text": [
            "[Parallel(n_jobs=-1)]: Done 1908 tasks      | elapsed:    2.1s\n",
            "[Parallel(n_jobs=-1)]: Done 2160 out of 2160 | elapsed:    2.3s finished\n"
          ]
        }
      ]
    },
    {
      "cell_type": "code",
      "metadata": {
        "id": "ETCRIWRQz9xM"
      },
      "source": [
        "#tuning_albero_decisione_CV(1,10)"
      ],
      "execution_count": null,
      "outputs": []
    },
    {
      "cell_type": "code",
      "metadata": {
        "colab": {
          "base_uri": "https://localhost:8080/"
        },
        "id": "R4Gfi8NIFRsP",
        "outputId": "ec1f2054-ca71-4322-8b9b-15b351d64d63"
      },
      "source": [
        "tuning_SVM(1,10)"
      ],
      "execution_count": null,
      "outputs": [
        {
          "output_type": "stream",
          "name": "stdout",
          "text": [
            "stimatore utilizzato - Support vector machine (SVC)\n",
            "Fitting 10 folds for each of 20 candidates, totalling 200 fits\n"
          ]
        },
        {
          "output_type": "stream",
          "name": "stderr",
          "text": [
            "[Parallel(n_jobs=-1)]: Using backend LokyBackend with 2 concurrent workers.\n"
          ]
        },
        {
          "output_type": "stream",
          "name": "stdout",
          "text": [
            "Accuratezza fase di Cross Validation con dati di Addestramento/Validazione: 0.770\n",
            "{'kernel': 'rbf', 'gamma': 100.0, 'C': 100.0}\n",
            "Accuratezza con dati di Test: 0.800\n",
            "Risultato sui dati di test:\n",
            "              precision    recall  f1-score   support\n",
            "\n",
            "           1       0.80      1.00      0.89        16\n",
            "           3       0.00      0.00      0.00         4\n",
            "\n",
            "    accuracy                           0.80        20\n",
            "   macro avg       0.40      0.50      0.44        20\n",
            "weighted avg       0.64      0.80      0.71        20\n",
            "\n",
            "[[16  0]\n",
            " [ 4  0]]\n",
            "Accuratezza Test: 80.000\n",
            "Precisione  Test: 80.000\n",
            "Sensitività Test: 100.000\n",
            "Specificità Test: 0.000\n",
            "F1 score    Test: 88.000\n"
          ]
        },
        {
          "output_type": "stream",
          "name": "stderr",
          "text": [
            "[Parallel(n_jobs=-1)]: Done 200 out of 200 | elapsed:    0.3s finished\n",
            "/usr/local/lib/python3.7/dist-packages/sklearn/metrics/_classification.py:1272: UndefinedMetricWarning:\n",
            "\n",
            "Precision and F-score are ill-defined and being set to 0.0 in labels with no predicted samples. Use `zero_division` parameter to control this behavior.\n",
            "\n"
          ]
        }
      ]
    },
    {
      "cell_type": "code",
      "metadata": {
        "colab": {
          "base_uri": "https://localhost:8080/"
        },
        "id": "a1I-KHkVfdEm",
        "outputId": "2f25573f-6da6-4049-a8e9-f828e398716f"
      },
      "source": [
        "tuning_SVM_1(1,10)"
      ],
      "execution_count": null,
      "outputs": [
        {
          "output_type": "stream",
          "name": "stderr",
          "text": [
            "[Parallel(n_jobs=-1)]: Using backend LokyBackend with 2 concurrent workers.\n"
          ]
        },
        {
          "output_type": "stream",
          "name": "stdout",
          "text": [
            "stimatore utilizzato - Support vector machine (SVC)\n",
            "Fitting 10 folds for each of 128 candidates, totalling 1280 fits\n",
            "Accuratezza fase di Cross Validation con dati di Addestramento/Validazione: 0.795\n",
            "{'C': 10.0, 'gamma': 100.0, 'kernel': 'rbf'}\n",
            "Accuratezza con dati di Test: 0.800\n",
            "Risultato sui dati di test:\n",
            "              precision    recall  f1-score   support\n",
            "\n",
            "           1       0.80      1.00      0.89        16\n",
            "           3       0.00      0.00      0.00         4\n",
            "\n",
            "    accuracy                           0.80        20\n",
            "   macro avg       0.40      0.50      0.44        20\n",
            "weighted avg       0.64      0.80      0.71        20\n",
            "\n",
            "[[16  0]\n",
            " [ 4  0]]\n",
            "Accuratezza Test: 80.000\n",
            "Precisione  Test: 80.000\n",
            "Sensitività Test: 100.000\n",
            "Specificità Test: 0.000\n",
            "F1 score    Test: 88.000\n"
          ]
        },
        {
          "output_type": "stream",
          "name": "stderr",
          "text": [
            "[Parallel(n_jobs=-1)]: Done 1280 out of 1280 | elapsed:    1.5s finished\n",
            "/usr/local/lib/python3.7/dist-packages/sklearn/metrics/_classification.py:1272: UndefinedMetricWarning:\n",
            "\n",
            "Precision and F-score are ill-defined and being set to 0.0 in labels with no predicted samples. Use `zero_division` parameter to control this behavior.\n",
            "\n"
          ]
        }
      ]
    },
    {
      "cell_type": "code",
      "metadata": {
        "id": "r-y6iDGO9S4G",
        "colab": {
          "base_uri": "https://localhost:8080/"
        },
        "outputId": "1b52d88c-7c0c-4716-90dd-256541e0ad41"
      },
      "source": [
        "tuning_KNN(1,10)"
      ],
      "execution_count": null,
      "outputs": [
        {
          "output_type": "stream",
          "name": "stderr",
          "text": [
            "[Parallel(n_jobs=-1)]: Using backend LokyBackend with 2 concurrent workers.\n"
          ]
        },
        {
          "output_type": "stream",
          "name": "stdout",
          "text": [
            "stimatore utilizzato - KNeighborsClassifier\n",
            "Fitting 10 folds for each of 16 candidates, totalling 160 fits\n",
            "Accuratezza fase di Cross Validation con dati di Addestramento/Validazione: 0.815\n",
            "{'algorithm': 'auto', 'n_neighbors': 5, 'weights': 'uniform'}\n",
            "Accuratezza con dati di Test: 1.000\n",
            "Risultato sui dati di test:\n",
            "              precision    recall  f1-score   support\n",
            "\n",
            "           1       1.00      1.00      1.00        16\n",
            "           3       1.00      1.00      1.00         4\n",
            "\n",
            "    accuracy                           1.00        20\n",
            "   macro avg       1.00      1.00      1.00        20\n",
            "weighted avg       1.00      1.00      1.00        20\n",
            "\n",
            "[[16  0]\n",
            " [ 0  4]]\n",
            "Accuratezza Test: 100.000\n",
            "Precisione  Test: 100.000\n",
            "Sensitività Test: 100.000\n",
            "Specificità Test: 100.000\n",
            "F1 score    Test: 100.000\n"
          ]
        },
        {
          "output_type": "stream",
          "name": "stderr",
          "text": [
            "[Parallel(n_jobs=-1)]: Done 150 tasks      | elapsed:    0.3s\n",
            "[Parallel(n_jobs=-1)]: Done 160 out of 160 | elapsed:    0.3s finished\n"
          ]
        }
      ]
    },
    {
      "cell_type": "code",
      "metadata": {
        "id": "5iHDGY1jszwP"
      },
      "source": [
        "#tuning_MP(1,10)"
      ],
      "execution_count": null,
      "outputs": []
    },
    {
      "cell_type": "code",
      "metadata": {
        "id": "T2F1lPutxYil"
      },
      "source": [
        ""
      ],
      "execution_count": null,
      "outputs": []
    },
    {
      "cell_type": "code",
      "metadata": {
        "id": "YOsgJRwpxY4X"
      },
      "source": [
        "#tuning_LR(1,10)"
      ],
      "execution_count": null,
      "outputs": []
    },
    {
      "cell_type": "code",
      "metadata": {
        "id": "OzHhPC7sNNbG"
      },
      "source": [
        "#tuning_foresta(1,10)"
      ],
      "execution_count": null,
      "outputs": []
    },
    {
      "cell_type": "code",
      "metadata": {
        "id": "sCqkGZG1efid"
      },
      "source": [
        ""
      ],
      "execution_count": null,
      "outputs": []
    },
    {
      "cell_type": "code",
      "metadata": {
        "id": "SrniudquejV2"
      },
      "source": [
        ""
      ],
      "execution_count": null,
      "outputs": []
    },
    {
      "cell_type": "markdown",
      "metadata": {
        "id": "jDqRJiaXejvb"
      },
      "source": [
        "#### 10 RUN AD vs MCI"
      ]
    },
    {
      "cell_type": "code",
      "metadata": {
        "id": "5kIdzpCmejvb"
      },
      "source": [
        ""
      ],
      "execution_count": null,
      "outputs": []
    },
    {
      "cell_type": "code",
      "metadata": {
        "id": "fj5RUHqQejvb"
      },
      "source": [
        "for i in range(10):\n",
        "    df=ADMCI.loc[:,[0,1,2,3,4,5,6,7,8,9,10,11,12,13,14,15,16,17,18]]\n",
        "\n",
        "    X = df.to_numpy()\n",
        "\n",
        "    Y = ADMCI.loc[:,'label']\n",
        "    y = Y.to_numpy()\n",
        "    #y = np.where(y == 1, 1, 0)\n",
        "    #from sklearn.model_selection import train_test_split\n",
        "\n",
        "\n",
        "    #X_train, X_test, y_train, y_test = train_test_split(X, y, test_size=0.3,stratify=y,random_state=42)\n",
        "    X_train, X_test, y_train, y_test = train_test_split(X, y, test_size=0.3,stratify=y)\n",
        "    lda = LDA(n_components=2)\n",
        "    X_train_lda2 = lda.fit_transform(X_train, y_train)\n",
        "    #X_test_lda2 = lda.transform(X_test)\n",
        "    X_test_lda2 = lda.fit_transform(X_test,y_test)\n",
        "\n",
        "    X_train_caso2=X_train_lda2\n",
        "    X_test_caso2=X_test_lda2\n",
        "    y_train_caso2=y_train\n",
        "    y_test_caso2=y_test\n",
        "    tuning_albero_decisione(2,10)\n",
        "    tuning_SVM(2,10)\n",
        "    tuning_SVM_1(2,10)\n",
        "    tuning_KNN(2,10)\n"
      ],
      "execution_count": null,
      "outputs": []
    },
    {
      "cell_type": "markdown",
      "metadata": {
        "id": "WJYBl-5t9TcB"
      },
      "source": [
        "#### Caso 2 AD vs MCI"
      ]
    },
    {
      "cell_type": "code",
      "metadata": {
        "colab": {
          "base_uri": "https://localhost:8080/"
        },
        "id": "_PfZ28yv9TcC",
        "outputId": "a9dd8b40-d49a-45cf-bffd-2d83ee6cd8d4"
      },
      "source": [
        "\n",
        "df=ADMCI.loc[:,[0,1,2,3,4,5,6,7,8,9,10,11,12,13,14,15,16,17,18]]\n",
        "\n",
        "X = df.to_numpy()\n",
        "\n",
        "Y = ADMCI.loc[:,'label']\n",
        "y = Y.to_numpy()\n",
        "#y = np.where(y == 1, 1, 0)\n",
        "#from sklearn.model_selection import train_test_split\n",
        "\n",
        "\n",
        "#X_train, X_test, y_train, y_test = train_test_split(X, y, test_size=0.3,stratify=y,random_state=42)\n",
        "X_train, X_test, y_train, y_test = train_test_split(X, y, test_size=0.3,stratify=y,random_state=42)\n",
        "lda = LDA(n_components=2)\n",
        "X_train_lda2 = lda.fit_transform(X_train, y_train)\n",
        "#X_test_lda2 = lda.transform(X_test)\n",
        "X_test_lda2 = lda.fit_transform(X_test,y_test)\n",
        "\n",
        "X_train_caso2=X_train_lda2\n",
        "X_test_caso2=X_test_lda2\n",
        "y_train_caso2=y_train\n",
        "y_test_caso2=y_test"
      ],
      "execution_count": null,
      "outputs": [
        {
          "output_type": "stream",
          "name": "stderr",
          "text": [
            "/usr/local/lib/python3.7/dist-packages/sklearn/discriminant_analysis.py:463: ChangedBehaviorWarning:\n",
            "\n",
            "n_components cannot be larger than min(n_features, n_classes - 1). Using min(n_features, n_classes - 1) = min(19, 2 - 1) = 1 components.\n",
            "\n",
            "/usr/local/lib/python3.7/dist-packages/sklearn/discriminant_analysis.py:469: FutureWarning:\n",
            "\n",
            "In version 0.23, setting n_components > min(n_features, n_classes - 1) will raise a ValueError. You should set n_components to None (default), or a value smaller or equal to min(n_features, n_classes - 1).\n",
            "\n",
            "/usr/local/lib/python3.7/dist-packages/sklearn/discriminant_analysis.py:463: ChangedBehaviorWarning:\n",
            "\n",
            "n_components cannot be larger than min(n_features, n_classes - 1). Using min(n_features, n_classes - 1) = min(19, 2 - 1) = 1 components.\n",
            "\n",
            "/usr/local/lib/python3.7/dist-packages/sklearn/discriminant_analysis.py:469: FutureWarning:\n",
            "\n",
            "In version 0.23, setting n_components > min(n_features, n_classes - 1) will raise a ValueError. You should set n_components to None (default), or a value smaller or equal to min(n_features, n_classes - 1).\n",
            "\n"
          ]
        }
      ]
    },
    {
      "cell_type": "code",
      "metadata": {
        "id": "N46xT0G39U1m"
      },
      "source": [
        ""
      ],
      "execution_count": null,
      "outputs": []
    },
    {
      "cell_type": "code",
      "metadata": {
        "colab": {
          "base_uri": "https://localhost:8080/"
        },
        "id": "ON3U9WVXFYMD",
        "outputId": "8b4b3434-6973-497e-d596-44be410a03dc"
      },
      "source": [
        "tuning_albero_decisione(2,10)"
      ],
      "execution_count": null,
      "outputs": [
        {
          "output_type": "stream",
          "name": "stderr",
          "text": [
            "[Parallel(n_jobs=-1)]: Using backend LokyBackend with 2 concurrent workers.\n"
          ]
        },
        {
          "output_type": "stream",
          "name": "stdout",
          "text": [
            "stimatore utilizzato - DecisionTreeClassifier\n",
            "Fitting 10 folds for each of 216 candidates, totalling 2160 fits\n",
            "Accuratezza fase di Cross Validation con dati di Addestramento/Validazione: 0.700\n",
            "{'criterion': 'gini', 'max_depth': 4, 'min_samples_leaf': 3, 'min_samples_split': 2, 'min_weight_fraction_leaf': 0}\n",
            "Accuratezza con dati di Test: 1.000\n",
            "Risultato sui dati di test:\n",
            "              precision    recall  f1-score   support\n",
            "\n",
            "           1       1.00      1.00      1.00        14\n",
            "           2       1.00      1.00      1.00        11\n",
            "\n",
            "    accuracy                           1.00        25\n",
            "   macro avg       1.00      1.00      1.00        25\n",
            "weighted avg       1.00      1.00      1.00        25\n",
            "\n",
            "[[14  0]\n",
            " [ 0 11]]\n",
            "Accuratezza Test: 100.000\n",
            "Precisione  Test: 100.000\n",
            "Sensitività Test: 100.000\n",
            "Specificità Test: 100.000\n",
            "F1 score    Test: 100.000\n"
          ]
        },
        {
          "output_type": "stream",
          "name": "stderr",
          "text": [
            "[Parallel(n_jobs=-1)]: Done 1956 tasks      | elapsed:    2.5s\n",
            "[Parallel(n_jobs=-1)]: Done 2160 out of 2160 | elapsed:    2.6s finished\n"
          ]
        }
      ]
    },
    {
      "cell_type": "code",
      "metadata": {
        "colab": {
          "base_uri": "https://localhost:8080/"
        },
        "id": "NLZDvxHOFYMG",
        "outputId": "483d38e6-df09-48c6-89c1-f7f00640dfd0"
      },
      "source": [
        "tuning_SVM(2,10)"
      ],
      "execution_count": null,
      "outputs": [
        {
          "output_type": "stream",
          "name": "stderr",
          "text": [
            "[Parallel(n_jobs=-1)]: Using backend LokyBackend with 2 concurrent workers.\n"
          ]
        },
        {
          "output_type": "stream",
          "name": "stdout",
          "text": [
            "stimatore utilizzato - Support vector machine (SVC)\n",
            "Fitting 10 folds for each of 20 candidates, totalling 200 fits\n",
            "Accuratezza fase di Cross Validation con dati di Addestramento/Validazione: 0.737\n",
            "{'kernel': 'linear', 'gamma': 0.001, 'C': 1.0}\n",
            "Accuratezza con dati di Test: 0.960\n",
            "Risultato sui dati di test:\n",
            "              precision    recall  f1-score   support\n",
            "\n",
            "           1       0.93      1.00      0.97        14\n",
            "           2       1.00      0.91      0.95        11\n",
            "\n",
            "    accuracy                           0.96        25\n",
            "   macro avg       0.97      0.95      0.96        25\n",
            "weighted avg       0.96      0.96      0.96        25\n",
            "\n",
            "[[14  0]\n",
            " [ 1 10]]\n",
            "Accuratezza Test: 96.000\n",
            "Precisione  Test: 93.000\n",
            "Sensitività Test: 100.000\n",
            "Specificità Test: 90.000\n",
            "F1 score    Test: 96.000\n"
          ]
        },
        {
          "output_type": "stream",
          "name": "stderr",
          "text": [
            "[Parallel(n_jobs=-1)]: Done 200 out of 200 | elapsed:    0.3s finished\n"
          ]
        }
      ]
    },
    {
      "cell_type": "code",
      "metadata": {
        "id": "8UJc8uqtllaa",
        "colab": {
          "base_uri": "https://localhost:8080/"
        },
        "outputId": "c3de2bbe-e256-4496-91a3-bc92574c7b26"
      },
      "source": [
        "tuning_SVM_1(2,10)"
      ],
      "execution_count": null,
      "outputs": [
        {
          "output_type": "stream",
          "name": "stderr",
          "text": [
            "[Parallel(n_jobs=-1)]: Using backend LokyBackend with 2 concurrent workers.\n"
          ]
        },
        {
          "output_type": "stream",
          "name": "stdout",
          "text": [
            "stimatore utilizzato - Support vector machine (SVC)\n",
            "Fitting 10 folds for each of 128 candidates, totalling 1280 fits\n",
            "Accuratezza fase di Cross Validation con dati di Addestramento/Validazione: 0.737\n",
            "{'C': 0.1, 'gamma': 0.0001, 'kernel': 'linear'}\n",
            "Accuratezza con dati di Test: 0.920\n",
            "Risultato sui dati di test:\n",
            "              precision    recall  f1-score   support\n",
            "\n",
            "           1       0.88      1.00      0.93        14\n",
            "           2       1.00      0.82      0.90        11\n",
            "\n",
            "    accuracy                           0.92        25\n",
            "   macro avg       0.94      0.91      0.92        25\n",
            "weighted avg       0.93      0.92      0.92        25\n",
            "\n",
            "[[14  0]\n",
            " [ 2  9]]\n",
            "Accuratezza Test: 92.000\n",
            "Precisione  Test: 87.000\n",
            "Sensitività Test: 100.000\n",
            "Specificità Test: 81.000\n",
            "F1 score    Test: 93.000\n"
          ]
        },
        {
          "output_type": "stream",
          "name": "stderr",
          "text": [
            "[Parallel(n_jobs=-1)]: Done 1280 out of 1280 | elapsed:    1.6s finished\n"
          ]
        }
      ]
    },
    {
      "cell_type": "code",
      "metadata": {
        "colab": {
          "base_uri": "https://localhost:8080/"
        },
        "id": "XoPUj3iYllso",
        "outputId": "0dbc6167-2790-4d25-a831-c868bc9747c9"
      },
      "source": [
        "tuning_KNN(2,10)"
      ],
      "execution_count": null,
      "outputs": [
        {
          "output_type": "stream",
          "name": "stderr",
          "text": [
            "[Parallel(n_jobs=-1)]: Using backend LokyBackend with 2 concurrent workers.\n"
          ]
        },
        {
          "output_type": "stream",
          "name": "stdout",
          "text": [
            "stimatore utilizzato - KNeighborsClassifier\n",
            "Fitting 10 folds for each of 16 candidates, totalling 160 fits\n",
            "Accuratezza fase di Cross Validation con dati di Addestramento/Validazione: 0.737\n",
            "{'algorithm': 'auto', 'n_neighbors': 20, 'weights': 'uniform'}\n",
            "Accuratezza con dati di Test: 0.960\n",
            "Risultato sui dati di test:\n",
            "              precision    recall  f1-score   support\n",
            "\n",
            "           1       0.93      1.00      0.97        14\n",
            "           2       1.00      0.91      0.95        11\n",
            "\n",
            "    accuracy                           0.96        25\n",
            "   macro avg       0.97      0.95      0.96        25\n",
            "weighted avg       0.96      0.96      0.96        25\n",
            "\n",
            "[[14  0]\n",
            " [ 1 10]]\n",
            "Accuratezza Test: 96.000\n",
            "Precisione  Test: 93.000\n",
            "Sensitività Test: 100.000\n",
            "Specificità Test: 90.000\n",
            "F1 score    Test: 96.000\n"
          ]
        },
        {
          "output_type": "stream",
          "name": "stderr",
          "text": [
            "[Parallel(n_jobs=-1)]: Done 150 tasks      | elapsed:    0.3s\n",
            "[Parallel(n_jobs=-1)]: Done 160 out of 160 | elapsed:    0.3s finished\n"
          ]
        }
      ]
    },
    {
      "cell_type": "code",
      "metadata": {
        "id": "fk9ExoOhuwqH"
      },
      "source": [
        ""
      ],
      "execution_count": null,
      "outputs": []
    },
    {
      "cell_type": "code",
      "metadata": {
        "id": "81g9GnWiuw_V"
      },
      "source": [
        "#tuning_MP(2,10)"
      ],
      "execution_count": null,
      "outputs": []
    },
    {
      "cell_type": "code",
      "metadata": {
        "id": "AJXxkPLSxcjK"
      },
      "source": [
        ""
      ],
      "execution_count": null,
      "outputs": []
    },
    {
      "cell_type": "code",
      "metadata": {
        "id": "Xwkz0tkzxc2J"
      },
      "source": [
        "#tuning_LR(2,10)"
      ],
      "execution_count": null,
      "outputs": []
    },
    {
      "cell_type": "code",
      "metadata": {
        "id": "HGxKeNXxRfU6"
      },
      "source": [
        "#tuning_foresta(2,10)"
      ],
      "execution_count": null,
      "outputs": []
    },
    {
      "cell_type": "code",
      "metadata": {
        "id": "BWHZ2hDLesH9"
      },
      "source": [
        ""
      ],
      "execution_count": null,
      "outputs": []
    },
    {
      "cell_type": "markdown",
      "metadata": {
        "id": "cc_jagNXeslU"
      },
      "source": [
        "#### 10 RUN MCI vs HC"
      ]
    },
    {
      "cell_type": "code",
      "metadata": {
        "id": "mNYUEFWbeslU"
      },
      "source": [
        ""
      ],
      "execution_count": null,
      "outputs": []
    },
    {
      "cell_type": "code",
      "metadata": {
        "id": "D-Rh8y0OeslU"
      },
      "source": [
        "for i in range(10):\n",
        "    df=MCIHC.loc[:,[0,1,2,3,4,5,6,7,8,9,10,11,12,13,14,15,16,17,18]]\n",
        "\n",
        "    X = df.to_numpy()\n",
        "\n",
        "    Y = MCIHC.loc[:,'label']\n",
        "    y = Y.to_numpy()\n",
        "    #y = np.where(y == 2, 1, 0)\n",
        "    #from sklearn.model_selection import train_test_split\n",
        "\n",
        "\n",
        "    #X_train, X_test, y_train, y_test = train_test_split(X, y, test_size=0.3,stratify=y,random_state=42)\n",
        "    X_train, X_test, y_train, y_test = train_test_split(X, y, test_size=0.3,stratify=y)\n",
        "    lda = LDA(n_components=2)\n",
        "    X_train_lda3 = lda.fit_transform(X_train, y_train)\n",
        "    #X_test_lda3 = lda.transform(X_test)\n",
        "    X_test_lda3 = lda.fit_transform(X_test,y_test)\n",
        "\n",
        "    X_train_caso3=X_train_lda3\n",
        "    X_test_caso3=X_test_lda3\n",
        "    y_train_caso3=y_train\n",
        "    y_test_caso3=y_test\n",
        "    tuning_albero_decisione(3,10)\n",
        "    tuning_SVM(3,10)\n",
        "    tuning_SVM_1(3,10)\n",
        "    tuning_KNN(3,10)\n"
      ],
      "execution_count": null,
      "outputs": []
    },
    {
      "cell_type": "markdown",
      "metadata": {
        "id": "sPQKZltm9bNA"
      },
      "source": [
        "#### Caso 3 MCI vs HCF"
      ]
    },
    {
      "cell_type": "code",
      "metadata": {
        "colab": {
          "base_uri": "https://localhost:8080/"
        },
        "id": "Ml9KWqo89bNB",
        "outputId": "f7baa769-392b-4a0e-9619-4edbea6efd9b"
      },
      "source": [
        "\n",
        "df=MCIHC.loc[:,[0,1,2,3,4,5,6,7,8,9,10,11,12,13,14,15,16,17,18]]\n",
        "\n",
        "X = df.to_numpy()\n",
        "\n",
        "Y = MCIHC.loc[:,'label']\n",
        "y = Y.to_numpy()\n",
        "#y = np.where(y == 2, 1, 0)\n",
        "#from sklearn.model_selection import train_test_split\n",
        "\n",
        "\n",
        "#X_train, X_test, y_train, y_test = train_test_split(X, y, test_size=0.3,stratify=y,random_state=42)\n",
        "X_train, X_test, y_train, y_test = train_test_split(X, y, test_size=0.3,stratify=y,random_state=42)\n",
        "lda = LDA(n_components=2)\n",
        "X_train_lda3 = lda.fit_transform(X_train, y_train)\n",
        "#X_test_lda3 = lda.transform(X_test)\n",
        "X_test_lda3 = lda.fit_transform(X_test,y_test)\n",
        "\n",
        "X_train_caso3=X_train_lda3\n",
        "X_test_caso3=X_test_lda3\n",
        "y_train_caso3=y_train\n",
        "y_test_caso3=y_test"
      ],
      "execution_count": null,
      "outputs": [
        {
          "output_type": "stream",
          "name": "stderr",
          "text": [
            "/usr/local/lib/python3.7/dist-packages/sklearn/discriminant_analysis.py:463: ChangedBehaviorWarning:\n",
            "\n",
            "n_components cannot be larger than min(n_features, n_classes - 1). Using min(n_features, n_classes - 1) = min(19, 2 - 1) = 1 components.\n",
            "\n",
            "/usr/local/lib/python3.7/dist-packages/sklearn/discriminant_analysis.py:469: FutureWarning:\n",
            "\n",
            "In version 0.23, setting n_components > min(n_features, n_classes - 1) will raise a ValueError. You should set n_components to None (default), or a value smaller or equal to min(n_features, n_classes - 1).\n",
            "\n",
            "/usr/local/lib/python3.7/dist-packages/sklearn/discriminant_analysis.py:463: ChangedBehaviorWarning:\n",
            "\n",
            "n_components cannot be larger than min(n_features, n_classes - 1). Using min(n_features, n_classes - 1) = min(19, 2 - 1) = 1 components.\n",
            "\n",
            "/usr/local/lib/python3.7/dist-packages/sklearn/discriminant_analysis.py:469: FutureWarning:\n",
            "\n",
            "In version 0.23, setting n_components > min(n_features, n_classes - 1) will raise a ValueError. You should set n_components to None (default), or a value smaller or equal to min(n_features, n_classes - 1).\n",
            "\n"
          ]
        }
      ]
    },
    {
      "cell_type": "code",
      "metadata": {
        "id": "dbr024Qt9VJm"
      },
      "source": [
        ""
      ],
      "execution_count": null,
      "outputs": []
    },
    {
      "cell_type": "code",
      "metadata": {
        "colab": {
          "base_uri": "https://localhost:8080/"
        },
        "id": "xnn87uTUGfPZ",
        "outputId": "03d8bc53-0406-4b2a-f8c4-cbd79e9979df"
      },
      "source": [
        "tuning_albero_decisione(3,10)"
      ],
      "execution_count": null,
      "outputs": [
        {
          "output_type": "stream",
          "name": "stderr",
          "text": [
            "[Parallel(n_jobs=-1)]: Using backend LokyBackend with 2 concurrent workers.\n"
          ]
        },
        {
          "output_type": "stream",
          "name": "stdout",
          "text": [
            "stimatore utilizzato - DecisionTreeClassifier\n",
            "Fitting 10 folds for each of 216 candidates, totalling 2160 fits\n",
            "Accuratezza fase di Cross Validation con dati di Addestramento/Validazione: 0.875\n",
            "{'criterion': 'gini', 'max_depth': 3, 'min_samples_leaf': 2, 'min_samples_split': 2, 'min_weight_fraction_leaf': 0}\n",
            "Accuratezza con dati di Test: 0.938\n",
            "Risultato sui dati di test:\n",
            "              precision    recall  f1-score   support\n",
            "\n",
            "           2       1.00      0.91      0.95        11\n",
            "           3       0.83      1.00      0.91         5\n",
            "\n",
            "    accuracy                           0.94        16\n",
            "   macro avg       0.92      0.95      0.93        16\n",
            "weighted avg       0.95      0.94      0.94        16\n",
            "\n",
            "[[10  1]\n",
            " [ 0  5]]\n",
            "Accuratezza Test: 93.000\n",
            "Precisione  Test: 100.000\n",
            "Sensitività Test: 90.000\n",
            "Specificità Test: 100.000\n",
            "F1 score    Test: 94.000\n"
          ]
        },
        {
          "output_type": "stream",
          "name": "stderr",
          "text": [
            "[Parallel(n_jobs=-1)]: Done 1956 tasks      | elapsed:    2.2s\n",
            "[Parallel(n_jobs=-1)]: Done 2160 out of 2160 | elapsed:    2.3s finished\n"
          ]
        }
      ]
    },
    {
      "cell_type": "code",
      "metadata": {
        "colab": {
          "base_uri": "https://localhost:8080/"
        },
        "id": "GqEnb1krGfPw",
        "outputId": "9ae1267d-8dc9-4da0-b88f-4abcfd91cb8d"
      },
      "source": [
        "tuning_SVM(3,10)"
      ],
      "execution_count": null,
      "outputs": [
        {
          "output_type": "stream",
          "name": "stderr",
          "text": [
            "[Parallel(n_jobs=-1)]: Using backend LokyBackend with 2 concurrent workers.\n"
          ]
        },
        {
          "output_type": "stream",
          "name": "stdout",
          "text": [
            "stimatore utilizzato - Support vector machine (SVC)\n",
            "Fitting 10 folds for each of 128 candidates, totalling 1280 fits\n",
            "Accuratezza fase di Cross Validation con dati di Addestramento/Validazione: 0.867\n",
            "{'C': 1.0, 'gamma': 1.0, 'kernel': 'rbf'}\n",
            "Accuratezza con dati di Test: 0.938\n",
            "Risultato sui dati di test:\n",
            "              precision    recall  f1-score   support\n",
            "\n",
            "           2       1.00      0.91      0.95        11\n",
            "           3       0.83      1.00      0.91         5\n",
            "\n",
            "    accuracy                           0.94        16\n",
            "   macro avg       0.92      0.95      0.93        16\n",
            "weighted avg       0.95      0.94      0.94        16\n",
            "\n",
            "[[10  1]\n",
            " [ 0  5]]\n",
            "Accuratezza Test: 93.000\n",
            "Precisione  Test: 100.000\n",
            "Sensitività Test: 90.000\n",
            "Specificità Test: 100.000\n",
            "F1 score    Test: 94.000\n"
          ]
        },
        {
          "output_type": "stream",
          "name": "stderr",
          "text": [
            "[Parallel(n_jobs=-1)]: Done 1280 out of 1280 | elapsed:    1.5s finished\n"
          ]
        }
      ]
    },
    {
      "cell_type": "code",
      "metadata": {
        "id": "GdasQgbBly0-",
        "colab": {
          "base_uri": "https://localhost:8080/"
        },
        "outputId": "9db8ea25-de64-4476-9d3e-b2fb2070253d"
      },
      "source": [
        "tuning_SVM_1(3,10)"
      ],
      "execution_count": null,
      "outputs": [
        {
          "output_type": "stream",
          "name": "stderr",
          "text": [
            "[Parallel(n_jobs=-1)]: Using backend LokyBackend with 2 concurrent workers.\n"
          ]
        },
        {
          "output_type": "stream",
          "name": "stdout",
          "text": [
            "stimatore utilizzato - Support vector machine (SVC)\n",
            "Fitting 10 folds for each of 20 candidates, totalling 200 fits\n",
            "Accuratezza fase di Cross Validation con dati di Addestramento/Validazione: 0.825\n",
            "{'kernel': 'linear', 'gamma': 0.0001, 'C': 100.0}\n",
            "Accuratezza con dati di Test: 1.000\n",
            "Risultato sui dati di test:\n",
            "              precision    recall  f1-score   support\n",
            "\n",
            "           1       1.00      1.00      1.00        14\n",
            "           3       1.00      1.00      1.00         6\n",
            "\n",
            "    accuracy                           1.00        20\n",
            "   macro avg       1.00      1.00      1.00        20\n",
            "weighted avg       1.00      1.00      1.00        20\n",
            "\n",
            "[[14  0]\n",
            " [ 0  6]]\n",
            "Accuratezza Test: 100.000\n",
            "Precisione  Test: 100.000\n",
            "Sensitività Test: 100.000\n",
            "Specificità Test: 100.000\n",
            "F1 score    Test: 100.000\n"
          ]
        },
        {
          "output_type": "stream",
          "name": "stderr",
          "text": [
            "[Parallel(n_jobs=-1)]: Done 197 out of 200 | elapsed:    0.3s remaining:    0.0s\n",
            "[Parallel(n_jobs=-1)]: Done 200 out of 200 | elapsed:    0.3s finished\n"
          ]
        }
      ]
    },
    {
      "cell_type": "code",
      "metadata": {
        "colab": {
          "base_uri": "https://localhost:8080/"
        },
        "id": "GHfNr-ZJlzL6",
        "outputId": "fe7990c5-b6c4-433c-8f52-ae05cd06c869"
      },
      "source": [
        "tuning_KNN(3,10)"
      ],
      "execution_count": null,
      "outputs": [
        {
          "output_type": "stream",
          "name": "stderr",
          "text": [
            "[Parallel(n_jobs=-1)]: Using backend LokyBackend with 2 concurrent workers.\n"
          ]
        },
        {
          "output_type": "stream",
          "name": "stdout",
          "text": [
            "stimatore utilizzato - KNeighborsClassifier\n",
            "Fitting 10 folds for each of 16 candidates, totalling 160 fits\n",
            "Accuratezza fase di Cross Validation con dati di Addestramento/Validazione: 0.842\n",
            "{'algorithm': 'auto', 'n_neighbors': 20, 'weights': 'uniform'}\n",
            "Accuratezza con dati di Test: 0.938\n",
            "Risultato sui dati di test:\n",
            "              precision    recall  f1-score   support\n",
            "\n",
            "           2       1.00      0.91      0.95        11\n",
            "           3       0.83      1.00      0.91         5\n",
            "\n",
            "    accuracy                           0.94        16\n",
            "   macro avg       0.92      0.95      0.93        16\n",
            "weighted avg       0.95      0.94      0.94        16\n",
            "\n",
            "[[10  1]\n",
            " [ 0  5]]\n",
            "Accuratezza Test: 93.000\n",
            "Precisione  Test: 100.000\n",
            "Sensitività Test: 90.000\n",
            "Specificità Test: 100.000\n",
            "F1 score    Test: 94.000\n"
          ]
        },
        {
          "output_type": "stream",
          "name": "stderr",
          "text": [
            "[Parallel(n_jobs=-1)]: Done 150 tasks      | elapsed:    0.3s\n",
            "[Parallel(n_jobs=-1)]: Done 160 out of 160 | elapsed:    0.4s finished\n"
          ]
        }
      ]
    },
    {
      "cell_type": "code",
      "metadata": {
        "id": "aSljuu-ou1GE"
      },
      "source": [
        ""
      ],
      "execution_count": null,
      "outputs": []
    },
    {
      "cell_type": "code",
      "metadata": {
        "id": "nw4zr-kdu1Zg"
      },
      "source": [
        "#tuning_MP(3,10)"
      ],
      "execution_count": null,
      "outputs": []
    },
    {
      "cell_type": "code",
      "metadata": {
        "id": "MVXBFbYyxhza"
      },
      "source": [
        "#tuning_LR(3,10)"
      ],
      "execution_count": null,
      "outputs": []
    },
    {
      "cell_type": "code",
      "metadata": {
        "id": "3PXw9w8sR_fx"
      },
      "source": [
        "#tuning_foresta(3,10)"
      ],
      "execution_count": null,
      "outputs": []
    },
    {
      "cell_type": "code",
      "metadata": {
        "id": "DOBidNIKexgV"
      },
      "source": [
        ""
      ],
      "execution_count": null,
      "outputs": []
    },
    {
      "cell_type": "markdown",
      "metadata": {
        "id": "qKwzQyr7eyAS"
      },
      "source": [
        "#### 10 RUN CASE vs HC"
      ]
    },
    {
      "cell_type": "code",
      "metadata": {
        "id": "xVt-FxGZeyAU"
      },
      "source": [
        ""
      ],
      "execution_count": null,
      "outputs": []
    },
    {
      "cell_type": "code",
      "metadata": {
        "id": "KeusW3R4eyAV"
      },
      "source": [
        "for i in range(10):\n",
        "    df=CASEHC.loc[:,[0,1,2,3,4,5,6,7,8,9,10,11,12,13,14,15,16,17,18]]\n",
        "\n",
        "    X = df.to_numpy()\n",
        "\n",
        "    Y = CASEHC.loc[:,'label']\n",
        "    y = Y.to_numpy()\n",
        "    y = np.where(y == 3, 1, 0)\n",
        "    #from sklearn.model_selection import train_test_split\n",
        "\n",
        "\n",
        "    #X_train, X_test, y_train, y_test = train_test_split(X, y, test_size=0.3,stratify=y,random_state=42)\n",
        "    X_train, X_test, y_train, y_test = train_test_split(X, y, test_size=0.3,stratify=y)\n",
        "    lda = LDA(n_components=2)\n",
        "    X_train_lda4 = lda.fit_transform(X_train, y_train)\n",
        "    #X_test_lda4 = lda.transform(X_test)\n",
        "    X_test_lda4 = lda.fit_transform(X_test,y_test)\n",
        "\n",
        "    X_train_caso4=X_train_lda4\n",
        "    X_test_caso4=X_test_lda4\n",
        "    y_train_caso4=y_train\n",
        "    y_test_caso4=y_test\n",
        "    tuning_albero_decisione(4,10)\n",
        "    tuning_SVM(4,10)\n",
        "    tuning_SVM_1(4,10)\n",
        "    tuning_KNN(4,10)\n"
      ],
      "execution_count": null,
      "outputs": []
    },
    {
      "cell_type": "markdown",
      "metadata": {
        "id": "C9rTjmIT9EAn"
      },
      "source": [
        "#### Caso 4 CASE vs HCF"
      ]
    },
    {
      "cell_type": "code",
      "metadata": {
        "id": "8jQH9wc49EA4",
        "colab": {
          "base_uri": "https://localhost:8080/"
        },
        "outputId": "3ecf7b8a-d2cf-4a4c-afe0-fb28be3e8ca9"
      },
      "source": [
        "\n",
        "df=CASEHC.loc[:,[0,1,2,3,4,5,6,7,8,9,10,11,12,13,14,15,16,17,18]]\n",
        "\n",
        "X = df.to_numpy()\n",
        "\n",
        "Y = CASEHC.loc[:,'label']\n",
        "y = Y.to_numpy()\n",
        "y = np.where(y == 3, 1, 0)\n",
        "#from sklearn.model_selection import train_test_split\n",
        "\n",
        "\n",
        "#X_train, X_test, y_train, y_test = train_test_split(X, y, test_size=0.3,stratify=y,random_state=42)\n",
        "X_train, X_test, y_train, y_test = train_test_split(X, y, test_size=0.3,stratify=y,random_state=42)\n",
        "lda = LDA(n_components=2)\n",
        "X_train_lda4 = lda.fit_transform(X_train, y_train)\n",
        "#X_test_lda4 = lda.transform(X_test)\n",
        "X_test_lda4 = lda.fit_transform(X_test,y_test)\n",
        "\n",
        "X_train_caso4=X_train_lda4\n",
        "X_test_caso4=X_test_lda4\n",
        "y_train_caso4=y_train\n",
        "y_test_caso4=y_test"
      ],
      "execution_count": null,
      "outputs": [
        {
          "output_type": "stream",
          "name": "stderr",
          "text": [
            "/usr/local/lib/python3.7/dist-packages/sklearn/discriminant_analysis.py:463: ChangedBehaviorWarning:\n",
            "\n",
            "n_components cannot be larger than min(n_features, n_classes - 1). Using min(n_features, n_classes - 1) = min(19, 2 - 1) = 1 components.\n",
            "\n",
            "/usr/local/lib/python3.7/dist-packages/sklearn/discriminant_analysis.py:469: FutureWarning:\n",
            "\n",
            "In version 0.23, setting n_components > min(n_features, n_classes - 1) will raise a ValueError. You should set n_components to None (default), or a value smaller or equal to min(n_features, n_classes - 1).\n",
            "\n",
            "/usr/local/lib/python3.7/dist-packages/sklearn/discriminant_analysis.py:463: ChangedBehaviorWarning:\n",
            "\n",
            "n_components cannot be larger than min(n_features, n_classes - 1). Using min(n_features, n_classes - 1) = min(19, 2 - 1) = 1 components.\n",
            "\n",
            "/usr/local/lib/python3.7/dist-packages/sklearn/discriminant_analysis.py:469: FutureWarning:\n",
            "\n",
            "In version 0.23, setting n_components > min(n_features, n_classes - 1) will raise a ValueError. You should set n_components to None (default), or a value smaller or equal to min(n_features, n_classes - 1).\n",
            "\n"
          ]
        }
      ]
    },
    {
      "cell_type": "code",
      "metadata": {
        "id": "r46lwEcai6g7"
      },
      "source": [
        ""
      ],
      "execution_count": null,
      "outputs": []
    },
    {
      "cell_type": "code",
      "metadata": {
        "colab": {
          "base_uri": "https://localhost:8080/"
        },
        "id": "CKUpllXsGv8_",
        "outputId": "b52dada6-872e-4d7d-d4fc-7805a86caed0"
      },
      "source": [
        "tuning_albero_decisione(4,10)"
      ],
      "execution_count": null,
      "outputs": [
        {
          "output_type": "stream",
          "name": "stderr",
          "text": [
            "[Parallel(n_jobs=-1)]: Using backend LokyBackend with 2 concurrent workers.\n"
          ]
        },
        {
          "output_type": "stream",
          "name": "stdout",
          "text": [
            "stimatore utilizzato - DecisionTreeClassifier\n",
            "Fitting 10 folds for each of 216 candidates, totalling 2160 fits\n"
          ]
        },
        {
          "output_type": "stream",
          "name": "stderr",
          "text": [
            "[Parallel(n_jobs=-1)]: Done 1951 tasks      | elapsed:    2.2s\n",
            "[Parallel(n_jobs=-1)]: Done 2160 out of 2160 | elapsed:    2.4s finished\n",
            "/usr/local/lib/python3.7/dist-packages/sklearn/metrics/_classification.py:1272: UndefinedMetricWarning:\n",
            "\n",
            "Precision and F-score are ill-defined and being set to 0.0 in labels with no predicted samples. Use `zero_division` parameter to control this behavior.\n",
            "\n"
          ]
        },
        {
          "output_type": "stream",
          "name": "stdout",
          "text": [
            "Accuratezza fase di Cross Validation con dati di Addestramento/Validazione: 0.840\n",
            "{'criterion': 'gini', 'max_depth': 3, 'min_samples_leaf': 1, 'min_samples_split': 2, 'min_weight_fraction_leaf': 0}\n",
            "Accuratezza con dati di Test: 0.833\n",
            "Risultato sui dati di test:\n",
            "              precision    recall  f1-score   support\n",
            "\n",
            "           0       0.83      1.00      0.91        25\n",
            "           1       0.00      0.00      0.00         5\n",
            "\n",
            "    accuracy                           0.83        30\n",
            "   macro avg       0.42      0.50      0.45        30\n",
            "weighted avg       0.69      0.83      0.76        30\n",
            "\n",
            "[[25  0]\n",
            " [ 5  0]]\n",
            "Accuratezza Test: 83.000\n",
            "Precisione  Test: 83.000\n",
            "Sensitività Test: 100.000\n",
            "Specificità Test: 0.000\n",
            "F1 score    Test: 90.000\n"
          ]
        }
      ]
    },
    {
      "cell_type": "code",
      "metadata": {
        "colab": {
          "base_uri": "https://localhost:8080/"
        },
        "id": "qcxI617EGv9A",
        "outputId": "9328ed97-cba5-4dfc-8ff2-fdb262bb05e3"
      },
      "source": [
        "tuning_SVM(4,10)"
      ],
      "execution_count": null,
      "outputs": [
        {
          "output_type": "stream",
          "name": "stdout",
          "text": [
            "stimatore utilizzato - Support vector machine (SVC)\n",
            "Fitting 10 folds for each of 20 candidates, totalling 200 fits\n"
          ]
        },
        {
          "output_type": "stream",
          "name": "stderr",
          "text": [
            "[Parallel(n_jobs=-1)]: Using backend LokyBackend with 2 concurrent workers.\n"
          ]
        },
        {
          "output_type": "stream",
          "name": "stdout",
          "text": [
            "Accuratezza fase di Cross Validation con dati di Addestramento/Validazione: 0.812\n",
            "{'kernel': 'rbf', 'gamma': 100.0, 'C': 0.0001}\n",
            "Accuratezza con dati di Test: 0.833\n",
            "Risultato sui dati di test:\n",
            "              precision    recall  f1-score   support\n",
            "\n",
            "           0       0.83      1.00      0.91        25\n",
            "           1       0.00      0.00      0.00         5\n",
            "\n",
            "    accuracy                           0.83        30\n",
            "   macro avg       0.42      0.50      0.45        30\n",
            "weighted avg       0.69      0.83      0.76        30\n",
            "\n",
            "[[25  0]\n",
            " [ 5  0]]\n",
            "Accuratezza Test: 83.000\n",
            "Precisione  Test: 83.000\n",
            "Sensitività Test: 100.000\n",
            "Specificità Test: 0.000\n",
            "F1 score    Test: 90.000\n"
          ]
        },
        {
          "output_type": "stream",
          "name": "stderr",
          "text": [
            "[Parallel(n_jobs=-1)]: Done 200 out of 200 | elapsed:    0.3s finished\n",
            "/usr/local/lib/python3.7/dist-packages/sklearn/metrics/_classification.py:1272: UndefinedMetricWarning:\n",
            "\n",
            "Precision and F-score are ill-defined and being set to 0.0 in labels with no predicted samples. Use `zero_division` parameter to control this behavior.\n",
            "\n"
          ]
        }
      ]
    },
    {
      "cell_type": "markdown",
      "metadata": {
        "id": "pB-vHX4ghMdh"
      },
      "source": [
        "<br>\n",
        "<br>"
      ]
    },
    {
      "cell_type": "code",
      "metadata": {
        "id": "QD2fUIb7hMdi",
        "colab": {
          "base_uri": "https://localhost:8080/"
        },
        "outputId": "e4e6f4e4-d4e9-48da-b189-a3964cc9d8cd"
      },
      "source": [
        "tuning_SVM_1(4,10)"
      ],
      "execution_count": null,
      "outputs": [
        {
          "output_type": "stream",
          "name": "stderr",
          "text": [
            "[Parallel(n_jobs=-1)]: Using backend LokyBackend with 2 concurrent workers.\n"
          ]
        },
        {
          "output_type": "stream",
          "name": "stdout",
          "text": [
            "stimatore utilizzato - Support vector machine (SVC)\n",
            "Fitting 10 folds for each of 128 candidates, totalling 1280 fits\n",
            "Accuratezza fase di Cross Validation con dati di Addestramento/Validazione: 0.825\n",
            "{'C': 10.0, 'gamma': 10.0, 'kernel': 'rbf'}\n",
            "Accuratezza con dati di Test: 0.700\n",
            "Risultato sui dati di test:\n",
            "              precision    recall  f1-score   support\n",
            "\n",
            "           1       0.70      1.00      0.82        14\n",
            "           3       0.00      0.00      0.00         6\n",
            "\n",
            "    accuracy                           0.70        20\n",
            "   macro avg       0.35      0.50      0.41        20\n",
            "weighted avg       0.49      0.70      0.58        20\n",
            "\n",
            "[[14  0]\n",
            " [ 6  0]]\n",
            "Accuratezza Test: 70.000\n",
            "Precisione  Test: 70.000\n",
            "Sensitività Test: 100.000\n",
            "Specificità Test: 0.000\n",
            "F1 score    Test: 82.000\n"
          ]
        },
        {
          "output_type": "stream",
          "name": "stderr",
          "text": [
            "[Parallel(n_jobs=-1)]: Done 1280 out of 1280 | elapsed:    1.5s finished\n",
            "/usr/local/lib/python3.7/dist-packages/sklearn/metrics/_classification.py:1272: UndefinedMetricWarning:\n",
            "\n",
            "Precision and F-score are ill-defined and being set to 0.0 in labels with no predicted samples. Use `zero_division` parameter to control this behavior.\n",
            "\n"
          ]
        }
      ]
    },
    {
      "cell_type": "code",
      "metadata": {
        "colab": {
          "base_uri": "https://localhost:8080/"
        },
        "id": "EXKOyp69mAxh",
        "outputId": "9de085fd-5726-40a2-dc73-92e09545be68"
      },
      "source": [
        "tuning_KNN(4,10)"
      ],
      "execution_count": null,
      "outputs": [
        {
          "output_type": "stream",
          "name": "stderr",
          "text": [
            "[Parallel(n_jobs=-1)]: Using backend LokyBackend with 2 concurrent workers.\n"
          ]
        },
        {
          "output_type": "stream",
          "name": "stdout",
          "text": [
            "stimatore utilizzato - KNeighborsClassifier\n",
            "Fitting 10 folds for each of 16 candidates, totalling 160 fits\n",
            "Accuratezza fase di Cross Validation con dati di Addestramento/Validazione: 0.812\n",
            "{'algorithm': 'auto', 'n_neighbors': 20, 'weights': 'uniform'}\n",
            "Accuratezza con dati di Test: 0.833\n",
            "Risultato sui dati di test:\n",
            "              precision    recall  f1-score   support\n",
            "\n",
            "           0       0.83      1.00      0.91        25\n",
            "           1       0.00      0.00      0.00         5\n",
            "\n",
            "    accuracy                           0.83        30\n",
            "   macro avg       0.42      0.50      0.45        30\n",
            "weighted avg       0.69      0.83      0.76        30\n",
            "\n",
            "[[25  0]\n",
            " [ 5  0]]\n",
            "Accuratezza Test: 83.000\n",
            "Precisione  Test: 83.000\n",
            "Sensitività Test: 100.000\n",
            "Specificità Test: 0.000\n",
            "F1 score    Test: 90.000\n"
          ]
        },
        {
          "output_type": "stream",
          "name": "stderr",
          "text": [
            "[Parallel(n_jobs=-1)]: Done 150 tasks      | elapsed:    0.3s\n",
            "[Parallel(n_jobs=-1)]: Done 160 out of 160 | elapsed:    0.3s finished\n",
            "/usr/local/lib/python3.7/dist-packages/sklearn/metrics/_classification.py:1272: UndefinedMetricWarning:\n",
            "\n",
            "Precision and F-score are ill-defined and being set to 0.0 in labels with no predicted samples. Use `zero_division` parameter to control this behavior.\n",
            "\n"
          ]
        }
      ]
    },
    {
      "cell_type": "code",
      "metadata": {
        "id": "TkskY_schMdi"
      },
      "source": [
        ""
      ],
      "execution_count": null,
      "outputs": []
    },
    {
      "cell_type": "code",
      "metadata": {
        "id": "zNFOzOm8u3pT"
      },
      "source": [
        "#tuning_MP(4,10)"
      ],
      "execution_count": null,
      "outputs": []
    },
    {
      "cell_type": "code",
      "metadata": {
        "id": "Vt6-gJrZxkma"
      },
      "source": [
        "#tuning_LR(4,10)"
      ],
      "execution_count": null,
      "outputs": []
    },
    {
      "cell_type": "code",
      "metadata": {
        "id": "k3Acgo0zSaja"
      },
      "source": [
        "#tuning_foresta(4,10)"
      ],
      "execution_count": null,
      "outputs": []
    },
    {
      "cell_type": "code",
      "metadata": {
        "id": "Rcx5iJrjMQB0"
      },
      "source": [
        ""
      ],
      "execution_count": null,
      "outputs": []
    },
    {
      "cell_type": "code",
      "metadata": {
        "id": "0m0Oc0uvG_oo"
      },
      "source": [
        ""
      ],
      "execution_count": null,
      "outputs": []
    },
    {
      "cell_type": "code",
      "metadata": {
        "id": "oH16_RkxHCtd"
      },
      "source": [
        ""
      ],
      "execution_count": null,
      "outputs": []
    },
    {
      "cell_type": "markdown",
      "metadata": {
        "id": "KbYc958kMQj1"
      },
      "source": [
        "## Preparazione dei dati frequenza di taglio a 16 HZ"
      ]
    },
    {
      "cell_type": "code",
      "metadata": {
        "id": "2bafNbsWMQj1"
      },
      "source": [
        ""
      ],
      "execution_count": null,
      "outputs": []
    },
    {
      "cell_type": "code",
      "metadata": {
        "id": "WoDeMn8MMQj2"
      },
      "source": [
        "pmAD=pd.read_csv(\"/content/drive/MyDrive/Dati EEG/pazienti a 16 hz/Frq16_AbsDiff_PxxAD_2_rc48x19.txt\", sep=\"|\",header=None)\n",
        "pmMCI=pd.read_csv(\"/content/drive/MyDrive/Dati EEG/pazienti a 16 hz/Frq16_AbsDiff_PxxMCI_2_rc37x19.txt\", sep=\"|\",header=None)\n",
        "pmHC=pd.read_csv(\"/content/drive/MyDrive/Dati EEG/pazienti a 16 hz/Frq16_AbsDiff_PxxHC_2_rc20x19.txt\", sep=\"|\",header=None)"
      ],
      "execution_count": null,
      "outputs": []
    },
    {
      "cell_type": "code",
      "metadata": {
        "colab": {
          "base_uri": "https://localhost:8080/",
          "height": 225
        },
        "id": "CAgsU06dMQj2",
        "outputId": "4dfe7526-5abe-4f16-e1c2-d79af136b37d"
      },
      "source": [
        "pmAD.head()"
      ],
      "execution_count": null,
      "outputs": [
        {
          "output_type": "execute_result",
          "data": {
            "text/html": [
              "<div>\n",
              "<style scoped>\n",
              "    .dataframe tbody tr th:only-of-type {\n",
              "        vertical-align: middle;\n",
              "    }\n",
              "\n",
              "    .dataframe tbody tr th {\n",
              "        vertical-align: top;\n",
              "    }\n",
              "\n",
              "    .dataframe thead th {\n",
              "        text-align: right;\n",
              "    }\n",
              "</style>\n",
              "<table border=\"1\" class=\"dataframe\">\n",
              "  <thead>\n",
              "    <tr style=\"text-align: right;\">\n",
              "      <th></th>\n",
              "      <th>0</th>\n",
              "      <th>1</th>\n",
              "      <th>2</th>\n",
              "      <th>3</th>\n",
              "      <th>4</th>\n",
              "      <th>5</th>\n",
              "      <th>6</th>\n",
              "      <th>7</th>\n",
              "      <th>8</th>\n",
              "      <th>9</th>\n",
              "      <th>10</th>\n",
              "      <th>11</th>\n",
              "      <th>12</th>\n",
              "      <th>13</th>\n",
              "      <th>14</th>\n",
              "      <th>15</th>\n",
              "      <th>16</th>\n",
              "      <th>17</th>\n",
              "      <th>18</th>\n",
              "    </tr>\n",
              "  </thead>\n",
              "  <tbody>\n",
              "    <tr>\n",
              "      <th>0</th>\n",
              "      <td>0.000000</td>\n",
              "      <td>0.000000</td>\n",
              "      <td>0.000000</td>\n",
              "      <td>0.000000e+00</td>\n",
              "      <td>0.000000</td>\n",
              "      <td>0.000000</td>\n",
              "      <td>0.000000</td>\n",
              "      <td>0.000000</td>\n",
              "      <td>0.000000</td>\n",
              "      <td>0.000000</td>\n",
              "      <td>0.000000</td>\n",
              "      <td>0.000000</td>\n",
              "      <td>0.000000</td>\n",
              "      <td>0.000000</td>\n",
              "      <td>0.000000</td>\n",
              "      <td>0.000000</td>\n",
              "      <td>0.000000</td>\n",
              "      <td>0.000000</td>\n",
              "      <td>0.000000</td>\n",
              "    </tr>\n",
              "    <tr>\n",
              "      <th>1</th>\n",
              "      <td>0.000000</td>\n",
              "      <td>0.000000</td>\n",
              "      <td>0.000000</td>\n",
              "      <td>0.000000e+00</td>\n",
              "      <td>0.000000</td>\n",
              "      <td>0.000000</td>\n",
              "      <td>0.000000</td>\n",
              "      <td>0.000000</td>\n",
              "      <td>0.000000</td>\n",
              "      <td>0.000000</td>\n",
              "      <td>0.000000</td>\n",
              "      <td>0.000000</td>\n",
              "      <td>0.000000</td>\n",
              "      <td>0.000000</td>\n",
              "      <td>0.000000</td>\n",
              "      <td>0.000000</td>\n",
              "      <td>0.000000</td>\n",
              "      <td>0.000000</td>\n",
              "      <td>0.000000</td>\n",
              "    </tr>\n",
              "    <tr>\n",
              "      <th>2</th>\n",
              "      <td>32143.872243</td>\n",
              "      <td>1473.191618</td>\n",
              "      <td>138277.439778</td>\n",
              "      <td>9.381498e+04</td>\n",
              "      <td>129238.458867</td>\n",
              "      <td>41406.800553</td>\n",
              "      <td>90814.237478</td>\n",
              "      <td>100313.855500</td>\n",
              "      <td>35007.637003</td>\n",
              "      <td>43787.915058</td>\n",
              "      <td>116073.453133</td>\n",
              "      <td>111395.633785</td>\n",
              "      <td>35052.734842</td>\n",
              "      <td>28877.298723</td>\n",
              "      <td>62754.619416</td>\n",
              "      <td>95632.036961</td>\n",
              "      <td>34043.733403</td>\n",
              "      <td>39635.557436</td>\n",
              "      <td>68779.781659</td>\n",
              "    </tr>\n",
              "    <tr>\n",
              "      <th>3</th>\n",
              "      <td>35292.493875</td>\n",
              "      <td>4128.735147</td>\n",
              "      <td>33290.394932</td>\n",
              "      <td>1.530284e+06</td>\n",
              "      <td>31625.741817</td>\n",
              "      <td>41114.657914</td>\n",
              "      <td>2718.443392</td>\n",
              "      <td>9827.675510</td>\n",
              "      <td>4595.550292</td>\n",
              "      <td>71678.447360</td>\n",
              "      <td>7951.046485</td>\n",
              "      <td>30514.635248</td>\n",
              "      <td>6720.114645</td>\n",
              "      <td>20399.712776</td>\n",
              "      <td>25171.470670</td>\n",
              "      <td>87472.759064</td>\n",
              "      <td>27380.751575</td>\n",
              "      <td>21497.913569</td>\n",
              "      <td>35276.323631</td>\n",
              "    </tr>\n",
              "    <tr>\n",
              "      <th>4</th>\n",
              "      <td>542.888834</td>\n",
              "      <td>395.895540</td>\n",
              "      <td>5800.279654</td>\n",
              "      <td>1.736756e+04</td>\n",
              "      <td>13384.464263</td>\n",
              "      <td>15159.661826</td>\n",
              "      <td>50665.207547</td>\n",
              "      <td>14397.859962</td>\n",
              "      <td>10706.293158</td>\n",
              "      <td>20016.559228</td>\n",
              "      <td>23926.727140</td>\n",
              "      <td>538.389037</td>\n",
              "      <td>174.523294</td>\n",
              "      <td>6911.772777</td>\n",
              "      <td>8364.287326</td>\n",
              "      <td>59763.872559</td>\n",
              "      <td>6368.719315</td>\n",
              "      <td>18239.035543</td>\n",
              "      <td>14373.366038</td>\n",
              "    </tr>\n",
              "  </tbody>\n",
              "</table>\n",
              "</div>"
            ],
            "text/plain": [
              "             0            1   ...            17            18\n",
              "0      0.000000     0.000000  ...      0.000000      0.000000\n",
              "1      0.000000     0.000000  ...      0.000000      0.000000\n",
              "2  32143.872243  1473.191618  ...  39635.557436  68779.781659\n",
              "3  35292.493875  4128.735147  ...  21497.913569  35276.323631\n",
              "4    542.888834   395.895540  ...  18239.035543  14373.366038\n",
              "\n",
              "[5 rows x 19 columns]"
            ]
          },
          "metadata": {},
          "execution_count": 141
        }
      ]
    },
    {
      "cell_type": "code",
      "metadata": {
        "id": "xmVi0GUhMQj2"
      },
      "source": [
        "pmAD = pmAD[(pmAD > 0).all(axis=1)]\n",
        "pmMCI = pmMCI[(pmMCI > 0).all(axis=1)]\n",
        "pmHC = pmHC[(pmHC > 0).all(axis=1)]"
      ],
      "execution_count": null,
      "outputs": []
    },
    {
      "cell_type": "code",
      "metadata": {
        "colab": {
          "base_uri": "https://localhost:8080/",
          "height": 1000
        },
        "id": "EhCk0i8TMQj3",
        "outputId": "5bfec8c1-9765-43fa-ac3d-a8007b641ef2"
      },
      "source": [
        "pmMCI"
      ],
      "execution_count": null,
      "outputs": [
        {
          "output_type": "execute_result",
          "data": {
            "text/html": [
              "<div>\n",
              "<style scoped>\n",
              "    .dataframe tbody tr th:only-of-type {\n",
              "        vertical-align: middle;\n",
              "    }\n",
              "\n",
              "    .dataframe tbody tr th {\n",
              "        vertical-align: top;\n",
              "    }\n",
              "\n",
              "    .dataframe thead th {\n",
              "        text-align: right;\n",
              "    }\n",
              "</style>\n",
              "<table border=\"1\" class=\"dataframe\">\n",
              "  <thead>\n",
              "    <tr style=\"text-align: right;\">\n",
              "      <th></th>\n",
              "      <th>0</th>\n",
              "      <th>1</th>\n",
              "      <th>2</th>\n",
              "      <th>3</th>\n",
              "      <th>4</th>\n",
              "      <th>5</th>\n",
              "      <th>6</th>\n",
              "      <th>7</th>\n",
              "      <th>8</th>\n",
              "      <th>9</th>\n",
              "      <th>10</th>\n",
              "      <th>11</th>\n",
              "      <th>12</th>\n",
              "      <th>13</th>\n",
              "      <th>14</th>\n",
              "      <th>15</th>\n",
              "      <th>16</th>\n",
              "      <th>17</th>\n",
              "      <th>18</th>\n",
              "    </tr>\n",
              "  </thead>\n",
              "  <tbody>\n",
              "    <tr>\n",
              "      <th>0</th>\n",
              "      <td>0.000000</td>\n",
              "      <td>0.000000</td>\n",
              "      <td>0.000000</td>\n",
              "      <td>0.000000</td>\n",
              "      <td>0.000000e+00</td>\n",
              "      <td>0.000000</td>\n",
              "      <td>0.000000</td>\n",
              "      <td>0.000000</td>\n",
              "      <td>0.000000</td>\n",
              "      <td>0.000000</td>\n",
              "      <td>0.000000</td>\n",
              "      <td>0.000000</td>\n",
              "      <td>0.000000</td>\n",
              "      <td>0.000000e+00</td>\n",
              "      <td>0.000000</td>\n",
              "      <td>0.000000</td>\n",
              "      <td>0.000000e+00</td>\n",
              "      <td>0.000000e+00</td>\n",
              "      <td>0.000000e+00</td>\n",
              "    </tr>\n",
              "    <tr>\n",
              "      <th>1</th>\n",
              "      <td>0.000000</td>\n",
              "      <td>0.000000</td>\n",
              "      <td>0.000000</td>\n",
              "      <td>0.000000</td>\n",
              "      <td>0.000000e+00</td>\n",
              "      <td>0.000000</td>\n",
              "      <td>0.000000</td>\n",
              "      <td>0.000000</td>\n",
              "      <td>0.000000</td>\n",
              "      <td>0.000000</td>\n",
              "      <td>0.000000</td>\n",
              "      <td>0.000000</td>\n",
              "      <td>0.000000</td>\n",
              "      <td>0.000000e+00</td>\n",
              "      <td>0.000000</td>\n",
              "      <td>0.000000</td>\n",
              "      <td>0.000000e+00</td>\n",
              "      <td>0.000000e+00</td>\n",
              "      <td>0.000000e+00</td>\n",
              "    </tr>\n",
              "    <tr>\n",
              "      <th>2</th>\n",
              "      <td>5161.487469</td>\n",
              "      <td>1366.419865</td>\n",
              "      <td>1853.816614</td>\n",
              "      <td>1968.192713</td>\n",
              "      <td>1.821007e+03</td>\n",
              "      <td>1904.606572</td>\n",
              "      <td>625.451831</td>\n",
              "      <td>1414.694372</td>\n",
              "      <td>4822.616352</td>\n",
              "      <td>1244.708657</td>\n",
              "      <td>2476.713174</td>\n",
              "      <td>4689.744889</td>\n",
              "      <td>2438.304650</td>\n",
              "      <td>2.499486e+03</td>\n",
              "      <td>3468.840041</td>\n",
              "      <td>2286.108954</td>\n",
              "      <td>1.966304e+03</td>\n",
              "      <td>1.034682e+04</td>\n",
              "      <td>5.990172e+03</td>\n",
              "    </tr>\n",
              "    <tr>\n",
              "      <th>3</th>\n",
              "      <td>1145.846315</td>\n",
              "      <td>2087.806886</td>\n",
              "      <td>15284.790307</td>\n",
              "      <td>144048.645063</td>\n",
              "      <td>1.331684e+04</td>\n",
              "      <td>8177.164724</td>\n",
              "      <td>103868.634757</td>\n",
              "      <td>518695.791309</td>\n",
              "      <td>162065.935610</td>\n",
              "      <td>17268.429982</td>\n",
              "      <td>13022.634874</td>\n",
              "      <td>1752.818273</td>\n",
              "      <td>1390.198722</td>\n",
              "      <td>1.689656e+04</td>\n",
              "      <td>98558.845169</td>\n",
              "      <td>25960.114632</td>\n",
              "      <td>6.159438e+03</td>\n",
              "      <td>8.175185e+03</td>\n",
              "      <td>1.507103e+04</td>\n",
              "    </tr>\n",
              "    <tr>\n",
              "      <th>4</th>\n",
              "      <td>420.868876</td>\n",
              "      <td>28.277832</td>\n",
              "      <td>5355.031911</td>\n",
              "      <td>24977.354320</td>\n",
              "      <td>8.949826e+03</td>\n",
              "      <td>1824.376815</td>\n",
              "      <td>60521.696955</td>\n",
              "      <td>2524.719633</td>\n",
              "      <td>107.093000</td>\n",
              "      <td>3695.065278</td>\n",
              "      <td>13867.702583</td>\n",
              "      <td>1196.416952</td>\n",
              "      <td>28.214685</td>\n",
              "      <td>6.520844e+03</td>\n",
              "      <td>3482.097843</td>\n",
              "      <td>9891.816416</td>\n",
              "      <td>4.322326e+04</td>\n",
              "      <td>7.981047e+06</td>\n",
              "      <td>2.255194e+03</td>\n",
              "    </tr>\n",
              "    <tr>\n",
              "      <th>5</th>\n",
              "      <td>16159.907352</td>\n",
              "      <td>17107.485758</td>\n",
              "      <td>12995.909975</td>\n",
              "      <td>7572.274372</td>\n",
              "      <td>9.490764e+03</td>\n",
              "      <td>13669.054014</td>\n",
              "      <td>13433.759654</td>\n",
              "      <td>11014.410331</td>\n",
              "      <td>24802.276769</td>\n",
              "      <td>49916.858682</td>\n",
              "      <td>6523.968624</td>\n",
              "      <td>22575.213585</td>\n",
              "      <td>4487.034623</td>\n",
              "      <td>3.129137e+03</td>\n",
              "      <td>4696.113507</td>\n",
              "      <td>8051.580687</td>\n",
              "      <td>4.296327e+04</td>\n",
              "      <td>1.536867e+04</td>\n",
              "      <td>8.321640e+03</td>\n",
              "    </tr>\n",
              "    <tr>\n",
              "      <th>6</th>\n",
              "      <td>7708.940244</td>\n",
              "      <td>5695.723410</td>\n",
              "      <td>4557.889747</td>\n",
              "      <td>3893.925214</td>\n",
              "      <td>8.880025e+03</td>\n",
              "      <td>4359.725651</td>\n",
              "      <td>5293.154519</td>\n",
              "      <td>6629.191288</td>\n",
              "      <td>18818.864128</td>\n",
              "      <td>4966.252071</td>\n",
              "      <td>36316.156168</td>\n",
              "      <td>7542.684115</td>\n",
              "      <td>34137.732611</td>\n",
              "      <td>2.033306e+04</td>\n",
              "      <td>9886.527255</td>\n",
              "      <td>18513.082403</td>\n",
              "      <td>5.562094e+03</td>\n",
              "      <td>1.117053e+04</td>\n",
              "      <td>9.319182e+03</td>\n",
              "    </tr>\n",
              "    <tr>\n",
              "      <th>7</th>\n",
              "      <td>1804.128271</td>\n",
              "      <td>666.791409</td>\n",
              "      <td>1896.157762</td>\n",
              "      <td>4516.502036</td>\n",
              "      <td>5.042960e+03</td>\n",
              "      <td>5882.961111</td>\n",
              "      <td>5224.298718</td>\n",
              "      <td>7321.026613</td>\n",
              "      <td>446.938715</td>\n",
              "      <td>1101.600398</td>\n",
              "      <td>3114.226413</td>\n",
              "      <td>367.869784</td>\n",
              "      <td>871.414472</td>\n",
              "      <td>1.583380e+03</td>\n",
              "      <td>3570.167383</td>\n",
              "      <td>8275.394298</td>\n",
              "      <td>3.874830e+03</td>\n",
              "      <td>3.824174e+03</td>\n",
              "      <td>7.237835e+03</td>\n",
              "    </tr>\n",
              "    <tr>\n",
              "      <th>8</th>\n",
              "      <td>455.304554</td>\n",
              "      <td>261.996676</td>\n",
              "      <td>3569.655700</td>\n",
              "      <td>9383.695603</td>\n",
              "      <td>5.034093e+03</td>\n",
              "      <td>3308.171486</td>\n",
              "      <td>4135.592052</td>\n",
              "      <td>3675.682125</td>\n",
              "      <td>331.558862</td>\n",
              "      <td>9626.216885</td>\n",
              "      <td>4745.660881</td>\n",
              "      <td>1703.844223</td>\n",
              "      <td>345.971565</td>\n",
              "      <td>6.064901e+02</td>\n",
              "      <td>3013.938057</td>\n",
              "      <td>4433.288778</td>\n",
              "      <td>6.578159e+03</td>\n",
              "      <td>2.209033e+03</td>\n",
              "      <td>3.162073e+03</td>\n",
              "    </tr>\n",
              "    <tr>\n",
              "      <th>9</th>\n",
              "      <td>23317.527928</td>\n",
              "      <td>27577.764856</td>\n",
              "      <td>20774.013110</td>\n",
              "      <td>356969.930647</td>\n",
              "      <td>1.205670e+05</td>\n",
              "      <td>32930.485342</td>\n",
              "      <td>27301.323757</td>\n",
              "      <td>58139.669041</td>\n",
              "      <td>16492.185987</td>\n",
              "      <td>35878.089606</td>\n",
              "      <td>303595.262268</td>\n",
              "      <td>29357.485401</td>\n",
              "      <td>145483.725548</td>\n",
              "      <td>2.419640e+04</td>\n",
              "      <td>51420.227316</td>\n",
              "      <td>85740.444325</td>\n",
              "      <td>4.075263e+04</td>\n",
              "      <td>7.259929e+04</td>\n",
              "      <td>7.904251e+04</td>\n",
              "    </tr>\n",
              "    <tr>\n",
              "      <th>10</th>\n",
              "      <td>5567.291730</td>\n",
              "      <td>1796.749931</td>\n",
              "      <td>580.484626</td>\n",
              "      <td>48187.218051</td>\n",
              "      <td>3.270632e+03</td>\n",
              "      <td>3603.298368</td>\n",
              "      <td>6133.615951</td>\n",
              "      <td>4998.512579</td>\n",
              "      <td>5292.925324</td>\n",
              "      <td>11780.307032</td>\n",
              "      <td>2210.794968</td>\n",
              "      <td>7829.573448</td>\n",
              "      <td>1157.698489</td>\n",
              "      <td>2.255260e+04</td>\n",
              "      <td>1724.126279</td>\n",
              "      <td>212.209752</td>\n",
              "      <td>8.414740e+02</td>\n",
              "      <td>1.714296e+02</td>\n",
              "      <td>1.212511e+03</td>\n",
              "    </tr>\n",
              "    <tr>\n",
              "      <th>11</th>\n",
              "      <td>2986.282124</td>\n",
              "      <td>424.554059</td>\n",
              "      <td>2921.594359</td>\n",
              "      <td>9927.050423</td>\n",
              "      <td>8.854755e+03</td>\n",
              "      <td>8177.891703</td>\n",
              "      <td>15702.136357</td>\n",
              "      <td>10699.089833</td>\n",
              "      <td>767.217428</td>\n",
              "      <td>5433.911572</td>\n",
              "      <td>7228.915489</td>\n",
              "      <td>1990.274482</td>\n",
              "      <td>216.152046</td>\n",
              "      <td>1.422458e+03</td>\n",
              "      <td>3630.712761</td>\n",
              "      <td>88136.421484</td>\n",
              "      <td>1.190856e+04</td>\n",
              "      <td>5.906048e+04</td>\n",
              "      <td>7.388325e+03</td>\n",
              "    </tr>\n",
              "    <tr>\n",
              "      <th>12</th>\n",
              "      <td>4546.392982</td>\n",
              "      <td>1398.058435</td>\n",
              "      <td>1709.303673</td>\n",
              "      <td>3294.052340</td>\n",
              "      <td>3.534776e+03</td>\n",
              "      <td>5180.637210</td>\n",
              "      <td>4703.101250</td>\n",
              "      <td>3906.598952</td>\n",
              "      <td>1926.131288</td>\n",
              "      <td>4351.418827</td>\n",
              "      <td>4547.222623</td>\n",
              "      <td>57931.831102</td>\n",
              "      <td>1299.660537</td>\n",
              "      <td>1.321682e+03</td>\n",
              "      <td>2848.804560</td>\n",
              "      <td>4468.662071</td>\n",
              "      <td>3.516099e+03</td>\n",
              "      <td>3.853067e+03</td>\n",
              "      <td>3.856236e+03</td>\n",
              "    </tr>\n",
              "    <tr>\n",
              "      <th>13</th>\n",
              "      <td>1579.582699</td>\n",
              "      <td>324.526139</td>\n",
              "      <td>2666.301110</td>\n",
              "      <td>115798.623066</td>\n",
              "      <td>1.519770e+05</td>\n",
              "      <td>40615.336140</td>\n",
              "      <td>6280.003115</td>\n",
              "      <td>13718.807050</td>\n",
              "      <td>598.540626</td>\n",
              "      <td>11496.628580</td>\n",
              "      <td>24659.679884</td>\n",
              "      <td>1369.239437</td>\n",
              "      <td>231.211615</td>\n",
              "      <td>2.243287e+03</td>\n",
              "      <td>11663.465900</td>\n",
              "      <td>25775.174927</td>\n",
              "      <td>5.333605e+03</td>\n",
              "      <td>7.179494e+03</td>\n",
              "      <td>9.696474e+03</td>\n",
              "    </tr>\n",
              "    <tr>\n",
              "      <th>14</th>\n",
              "      <td>175.018570</td>\n",
              "      <td>74.967313</td>\n",
              "      <td>380.203888</td>\n",
              "      <td>1761.256011</td>\n",
              "      <td>2.488290e+04</td>\n",
              "      <td>816.060237</td>\n",
              "      <td>1279.940019</td>\n",
              "      <td>1542.826339</td>\n",
              "      <td>92.620380</td>\n",
              "      <td>716.680276</td>\n",
              "      <td>2473.669655</td>\n",
              "      <td>515.727583</td>\n",
              "      <td>82.275383</td>\n",
              "      <td>2.984273e+02</td>\n",
              "      <td>1102.078947</td>\n",
              "      <td>2956.662973</td>\n",
              "      <td>1.011519e+03</td>\n",
              "      <td>1.564897e+03</td>\n",
              "      <td>2.302753e+03</td>\n",
              "    </tr>\n",
              "    <tr>\n",
              "      <th>15</th>\n",
              "      <td>6641.524252</td>\n",
              "      <td>3542.528395</td>\n",
              "      <td>18066.443143</td>\n",
              "      <td>842.621721</td>\n",
              "      <td>1.520568e+02</td>\n",
              "      <td>22597.925278</td>\n",
              "      <td>145018.247371</td>\n",
              "      <td>1695.811474</td>\n",
              "      <td>5321.282791</td>\n",
              "      <td>1294.190852</td>\n",
              "      <td>490.171994</td>\n",
              "      <td>11439.880880</td>\n",
              "      <td>5268.397878</td>\n",
              "      <td>1.981885e+03</td>\n",
              "      <td>885.842653</td>\n",
              "      <td>185.852436</td>\n",
              "      <td>3.924327e+03</td>\n",
              "      <td>2.761159e+03</td>\n",
              "      <td>1.522382e+03</td>\n",
              "    </tr>\n",
              "    <tr>\n",
              "      <th>16</th>\n",
              "      <td>11108.101011</td>\n",
              "      <td>8548.205276</td>\n",
              "      <td>5733.791528</td>\n",
              "      <td>830.038137</td>\n",
              "      <td>5.148412e+02</td>\n",
              "      <td>6981.089135</td>\n",
              "      <td>2421.220039</td>\n",
              "      <td>1423.129537</td>\n",
              "      <td>7399.278025</td>\n",
              "      <td>2895.637606</td>\n",
              "      <td>453.025106</td>\n",
              "      <td>10147.311843</td>\n",
              "      <td>6849.079453</td>\n",
              "      <td>3.101571e+03</td>\n",
              "      <td>504.986442</td>\n",
              "      <td>2922.544196</td>\n",
              "      <td>5.352598e+03</td>\n",
              "      <td>2.274362e+03</td>\n",
              "      <td>1.132949e+03</td>\n",
              "    </tr>\n",
              "    <tr>\n",
              "      <th>17</th>\n",
              "      <td>3772.967013</td>\n",
              "      <td>9124.400642</td>\n",
              "      <td>50821.102765</td>\n",
              "      <td>197241.125403</td>\n",
              "      <td>2.649326e+05</td>\n",
              "      <td>88708.269734</td>\n",
              "      <td>105057.031756</td>\n",
              "      <td>177747.770090</td>\n",
              "      <td>4751.964513</td>\n",
              "      <td>37783.486816</td>\n",
              "      <td>202484.996137</td>\n",
              "      <td>6541.167258</td>\n",
              "      <td>16609.779315</td>\n",
              "      <td>9.864700e+04</td>\n",
              "      <td>298296.255566</td>\n",
              "      <td>263539.516987</td>\n",
              "      <td>7.079068e+04</td>\n",
              "      <td>1.882976e+05</td>\n",
              "      <td>2.667635e+05</td>\n",
              "    </tr>\n",
              "    <tr>\n",
              "      <th>18</th>\n",
              "      <td>25561.690905</td>\n",
              "      <td>6217.016170</td>\n",
              "      <td>1890.964109</td>\n",
              "      <td>1589.505802</td>\n",
              "      <td>4.487312e+02</td>\n",
              "      <td>8654.809453</td>\n",
              "      <td>2860.671101</td>\n",
              "      <td>1003.785359</td>\n",
              "      <td>4832.392410</td>\n",
              "      <td>1601.253405</td>\n",
              "      <td>399.578158</td>\n",
              "      <td>12684.011318</td>\n",
              "      <td>3711.711416</td>\n",
              "      <td>1.471506e+03</td>\n",
              "      <td>321.463282</td>\n",
              "      <td>346.728158</td>\n",
              "      <td>1.156799e+04</td>\n",
              "      <td>2.532890e+03</td>\n",
              "      <td>3.336185e+03</td>\n",
              "    </tr>\n",
              "    <tr>\n",
              "      <th>19</th>\n",
              "      <td>10518.428770</td>\n",
              "      <td>4301.482222</td>\n",
              "      <td>1285.641907</td>\n",
              "      <td>440.835097</td>\n",
              "      <td>8.292751e+02</td>\n",
              "      <td>3481.873718</td>\n",
              "      <td>1353.742972</td>\n",
              "      <td>977.788679</td>\n",
              "      <td>3984.515091</td>\n",
              "      <td>1667.434996</td>\n",
              "      <td>361.315986</td>\n",
              "      <td>6633.310164</td>\n",
              "      <td>3640.168442</td>\n",
              "      <td>1.452478e+03</td>\n",
              "      <td>427.454131</td>\n",
              "      <td>1584.858367</td>\n",
              "      <td>2.782380e+03</td>\n",
              "      <td>2.240403e+03</td>\n",
              "      <td>1.942237e+03</td>\n",
              "    </tr>\n",
              "    <tr>\n",
              "      <th>20</th>\n",
              "      <td>3358.163946</td>\n",
              "      <td>1561.433586</td>\n",
              "      <td>929.111402</td>\n",
              "      <td>3296.981514</td>\n",
              "      <td>7.624236e+03</td>\n",
              "      <td>6863.236121</td>\n",
              "      <td>2632.145902</td>\n",
              "      <td>5243.392841</td>\n",
              "      <td>1356.814923</td>\n",
              "      <td>7358.406339</td>\n",
              "      <td>3122.838881</td>\n",
              "      <td>6406.984407</td>\n",
              "      <td>2084.986202</td>\n",
              "      <td>9.241362e+02</td>\n",
              "      <td>3656.174511</td>\n",
              "      <td>9931.810989</td>\n",
              "      <td>9.893313e+03</td>\n",
              "      <td>5.973511e+03</td>\n",
              "      <td>1.177565e+04</td>\n",
              "    </tr>\n",
              "    <tr>\n",
              "      <th>21</th>\n",
              "      <td>22657.349997</td>\n",
              "      <td>12383.769096</td>\n",
              "      <td>2792.067351</td>\n",
              "      <td>498.294212</td>\n",
              "      <td>1.053369e+02</td>\n",
              "      <td>18399.082569</td>\n",
              "      <td>3254.694423</td>\n",
              "      <td>1464.130397</td>\n",
              "      <td>12236.475676</td>\n",
              "      <td>4177.966383</td>\n",
              "      <td>514.416026</td>\n",
              "      <td>30461.353218</td>\n",
              "      <td>11647.567185</td>\n",
              "      <td>3.088473e+03</td>\n",
              "      <td>603.358264</td>\n",
              "      <td>301.011892</td>\n",
              "      <td>4.879722e+06</td>\n",
              "      <td>3.402610e+04</td>\n",
              "      <td>8.120257e+04</td>\n",
              "    </tr>\n",
              "    <tr>\n",
              "      <th>22</th>\n",
              "      <td>21605.550960</td>\n",
              "      <td>1625.992435</td>\n",
              "      <td>456.863214</td>\n",
              "      <td>145.220142</td>\n",
              "      <td>2.203438e+02</td>\n",
              "      <td>1540.647183</td>\n",
              "      <td>755.031629</td>\n",
              "      <td>368.323827</td>\n",
              "      <td>1292.892831</td>\n",
              "      <td>359.313629</td>\n",
              "      <td>85.382444</td>\n",
              "      <td>1948.459836</td>\n",
              "      <td>1275.503414</td>\n",
              "      <td>3.824598e+02</td>\n",
              "      <td>176.380788</td>\n",
              "      <td>72.381034</td>\n",
              "      <td>1.545842e+03</td>\n",
              "      <td>5.127461e+02</td>\n",
              "      <td>4.148896e+02</td>\n",
              "    </tr>\n",
              "    <tr>\n",
              "      <th>23</th>\n",
              "      <td>3173.197005</td>\n",
              "      <td>2535.103617</td>\n",
              "      <td>547.873171</td>\n",
              "      <td>80.613683</td>\n",
              "      <td>3.718299e+01</td>\n",
              "      <td>2023.292459</td>\n",
              "      <td>1781.683951</td>\n",
              "      <td>241.056084</td>\n",
              "      <td>1699.372897</td>\n",
              "      <td>536.345503</td>\n",
              "      <td>103.882480</td>\n",
              "      <td>2766.365073</td>\n",
              "      <td>1567.653727</td>\n",
              "      <td>4.762523e+02</td>\n",
              "      <td>114.449187</td>\n",
              "      <td>949.611489</td>\n",
              "      <td>1.768601e+03</td>\n",
              "      <td>1.098795e+03</td>\n",
              "      <td>3.786153e+02</td>\n",
              "    </tr>\n",
              "    <tr>\n",
              "      <th>24</th>\n",
              "      <td>305627.228225</td>\n",
              "      <td>182386.580147</td>\n",
              "      <td>105138.020004</td>\n",
              "      <td>85246.711737</td>\n",
              "      <td>7.118632e+04</td>\n",
              "      <td>394590.299622</td>\n",
              "      <td>414101.576706</td>\n",
              "      <td>103766.121518</td>\n",
              "      <td>174954.529036</td>\n",
              "      <td>110282.926001</td>\n",
              "      <td>78683.907624</td>\n",
              "      <td>318602.496299</td>\n",
              "      <td>178362.361746</td>\n",
              "      <td>1.443236e+06</td>\n",
              "      <td>89353.855172</td>\n",
              "      <td>294129.074513</td>\n",
              "      <td>1.042488e+06</td>\n",
              "      <td>2.861145e+05</td>\n",
              "      <td>1.585202e+05</td>\n",
              "    </tr>\n",
              "    <tr>\n",
              "      <th>25</th>\n",
              "      <td>4484.987011</td>\n",
              "      <td>4347.783910</td>\n",
              "      <td>2670.665966</td>\n",
              "      <td>2413.383102</td>\n",
              "      <td>2.524787e+03</td>\n",
              "      <td>9727.144593</td>\n",
              "      <td>6473.612788</td>\n",
              "      <td>1602.714709</td>\n",
              "      <td>4239.727712</td>\n",
              "      <td>3152.607462</td>\n",
              "      <td>1819.713165</td>\n",
              "      <td>4575.333844</td>\n",
              "      <td>3844.586463</td>\n",
              "      <td>2.932353e+03</td>\n",
              "      <td>1292.463330</td>\n",
              "      <td>669.250690</td>\n",
              "      <td>8.979134e+03</td>\n",
              "      <td>2.819960e+03</td>\n",
              "      <td>5.050591e+03</td>\n",
              "    </tr>\n",
              "    <tr>\n",
              "      <th>26</th>\n",
              "      <td>10268.726199</td>\n",
              "      <td>5131.437627</td>\n",
              "      <td>4823.038085</td>\n",
              "      <td>4025.335339</td>\n",
              "      <td>1.934615e+03</td>\n",
              "      <td>13751.623387</td>\n",
              "      <td>5182.007098</td>\n",
              "      <td>5131.866465</td>\n",
              "      <td>4992.170386</td>\n",
              "      <td>4343.675915</td>\n",
              "      <td>3319.416627</td>\n",
              "      <td>6940.414555</td>\n",
              "      <td>5001.468850</td>\n",
              "      <td>4.277628e+03</td>\n",
              "      <td>2927.506659</td>\n",
              "      <td>2639.297506</td>\n",
              "      <td>2.618455e+05</td>\n",
              "      <td>5.925343e+03</td>\n",
              "      <td>6.424885e+03</td>\n",
              "    </tr>\n",
              "    <tr>\n",
              "      <th>27</th>\n",
              "      <td>4828.797016</td>\n",
              "      <td>1464.608378</td>\n",
              "      <td>464.948880</td>\n",
              "      <td>168.297200</td>\n",
              "      <td>1.334633e+02</td>\n",
              "      <td>1581.447949</td>\n",
              "      <td>637.999146</td>\n",
              "      <td>417.259800</td>\n",
              "      <td>1433.790742</td>\n",
              "      <td>455.059319</td>\n",
              "      <td>156.351079</td>\n",
              "      <td>3186.895794</td>\n",
              "      <td>1464.402292</td>\n",
              "      <td>4.656467e+02</td>\n",
              "      <td>168.290548</td>\n",
              "      <td>65.128853</td>\n",
              "      <td>2.631387e+03</td>\n",
              "      <td>5.525619e+02</td>\n",
              "      <td>4.846302e+02</td>\n",
              "    </tr>\n",
              "    <tr>\n",
              "      <th>28</th>\n",
              "      <td>37597.737093</td>\n",
              "      <td>11821.823211</td>\n",
              "      <td>4468.433454</td>\n",
              "      <td>854.183553</td>\n",
              "      <td>4.232472e+02</td>\n",
              "      <td>31760.674432</td>\n",
              "      <td>9356.813793</td>\n",
              "      <td>2638.207829</td>\n",
              "      <td>11230.199509</td>\n",
              "      <td>4014.743355</td>\n",
              "      <td>1399.587706</td>\n",
              "      <td>24492.934368</td>\n",
              "      <td>13009.879518</td>\n",
              "      <td>1.092323e+04</td>\n",
              "      <td>1418.141923</td>\n",
              "      <td>301.125875</td>\n",
              "      <td>1.504740e+04</td>\n",
              "      <td>4.749492e+03</td>\n",
              "      <td>3.551260e+03</td>\n",
              "    </tr>\n",
              "    <tr>\n",
              "      <th>29</th>\n",
              "      <td>104704.690984</td>\n",
              "      <td>78587.134078</td>\n",
              "      <td>30865.459999</td>\n",
              "      <td>8002.589957</td>\n",
              "      <td>1.157801e+05</td>\n",
              "      <td>177474.236896</td>\n",
              "      <td>86737.998833</td>\n",
              "      <td>63795.523985</td>\n",
              "      <td>70896.903542</td>\n",
              "      <td>64770.403143</td>\n",
              "      <td>3601.241875</td>\n",
              "      <td>109094.973034</td>\n",
              "      <td>67865.975024</td>\n",
              "      <td>2.571568e+04</td>\n",
              "      <td>6740.499987</td>\n",
              "      <td>27028.406298</td>\n",
              "      <td>1.303468e+05</td>\n",
              "      <td>7.167075e+04</td>\n",
              "      <td>7.551104e+04</td>\n",
              "    </tr>\n",
              "    <tr>\n",
              "      <th>30</th>\n",
              "      <td>19987.064252</td>\n",
              "      <td>7870.948431</td>\n",
              "      <td>2763.328514</td>\n",
              "      <td>2076.786968</td>\n",
              "      <td>5.907066e+02</td>\n",
              "      <td>15266.194429</td>\n",
              "      <td>3823.553728</td>\n",
              "      <td>1010.168402</td>\n",
              "      <td>7476.405182</td>\n",
              "      <td>10305.445654</td>\n",
              "      <td>2497.936088</td>\n",
              "      <td>11075.307546</td>\n",
              "      <td>4843.534893</td>\n",
              "      <td>1.409896e+04</td>\n",
              "      <td>681.046890</td>\n",
              "      <td>999.302027</td>\n",
              "      <td>1.611934e+04</td>\n",
              "      <td>2.714368e+03</td>\n",
              "      <td>1.769621e+03</td>\n",
              "    </tr>\n",
              "    <tr>\n",
              "      <th>31</th>\n",
              "      <td>112620.084196</td>\n",
              "      <td>31495.438600</td>\n",
              "      <td>10277.974850</td>\n",
              "      <td>2644.820926</td>\n",
              "      <td>1.455345e+03</td>\n",
              "      <td>31808.751883</td>\n",
              "      <td>12317.544722</td>\n",
              "      <td>5422.221913</td>\n",
              "      <td>46077.983714</td>\n",
              "      <td>17960.468225</td>\n",
              "      <td>20239.921558</td>\n",
              "      <td>65010.533226</td>\n",
              "      <td>45709.701970</td>\n",
              "      <td>1.518975e+04</td>\n",
              "      <td>3696.471782</td>\n",
              "      <td>7505.391429</td>\n",
              "      <td>3.030034e+04</td>\n",
              "      <td>1.467103e+04</td>\n",
              "      <td>1.094502e+04</td>\n",
              "    </tr>\n",
              "    <tr>\n",
              "      <th>32</th>\n",
              "      <td>136593.210913</td>\n",
              "      <td>47607.636616</td>\n",
              "      <td>13824.552975</td>\n",
              "      <td>29786.442920</td>\n",
              "      <td>9.153220e+02</td>\n",
              "      <td>53115.152676</td>\n",
              "      <td>34930.787438</td>\n",
              "      <td>9362.041268</td>\n",
              "      <td>40976.026161</td>\n",
              "      <td>15239.412655</td>\n",
              "      <td>16905.083378</td>\n",
              "      <td>42117.333926</td>\n",
              "      <td>29107.918941</td>\n",
              "      <td>7.836797e+04</td>\n",
              "      <td>5727.779749</td>\n",
              "      <td>1705.854924</td>\n",
              "      <td>2.212859e+04</td>\n",
              "      <td>4.974231e+03</td>\n",
              "      <td>5.612613e+03</td>\n",
              "    </tr>\n",
              "    <tr>\n",
              "      <th>33</th>\n",
              "      <td>310726.490513</td>\n",
              "      <td>244419.779838</td>\n",
              "      <td>173184.045645</td>\n",
              "      <td>415030.774487</td>\n",
              "      <td>1.298490e+06</td>\n",
              "      <td>305572.883768</td>\n",
              "      <td>195800.184377</td>\n",
              "      <td>165906.349262</td>\n",
              "      <td>294067.800255</td>\n",
              "      <td>167401.244241</td>\n",
              "      <td>339742.988723</td>\n",
              "      <td>302349.566437</td>\n",
              "      <td>267094.858985</td>\n",
              "      <td>4.621491e+05</td>\n",
              "      <td>97891.474074</td>\n",
              "      <td>52000.354192</td>\n",
              "      <td>2.453941e+05</td>\n",
              "      <td>1.428246e+06</td>\n",
              "      <td>1.988466e+06</td>\n",
              "    </tr>\n",
              "    <tr>\n",
              "      <th>34</th>\n",
              "      <td>19320.630614</td>\n",
              "      <td>15215.116543</td>\n",
              "      <td>13575.733921</td>\n",
              "      <td>9042.464776</td>\n",
              "      <td>1.724569e+04</td>\n",
              "      <td>41256.219982</td>\n",
              "      <td>13669.186110</td>\n",
              "      <td>11696.324121</td>\n",
              "      <td>15120.351879</td>\n",
              "      <td>12416.129576</td>\n",
              "      <td>11781.188372</td>\n",
              "      <td>36627.518717</td>\n",
              "      <td>21207.078872</td>\n",
              "      <td>1.145812e+04</td>\n",
              "      <td>12813.177163</td>\n",
              "      <td>10268.564842</td>\n",
              "      <td>2.005053e+04</td>\n",
              "      <td>1.316854e+04</td>\n",
              "      <td>9.388493e+03</td>\n",
              "    </tr>\n",
              "    <tr>\n",
              "      <th>35</th>\n",
              "      <td>7643.500903</td>\n",
              "      <td>7099.135277</td>\n",
              "      <td>3064.205122</td>\n",
              "      <td>5005.481629</td>\n",
              "      <td>5.171182e+02</td>\n",
              "      <td>4805.480626</td>\n",
              "      <td>3284.214390</td>\n",
              "      <td>910.384999</td>\n",
              "      <td>9685.806036</td>\n",
              "      <td>2876.790031</td>\n",
              "      <td>811.103562</td>\n",
              "      <td>5535.022364</td>\n",
              "      <td>4339.349425</td>\n",
              "      <td>4.624016e+03</td>\n",
              "      <td>852.078777</td>\n",
              "      <td>103.804884</td>\n",
              "      <td>3.672011e+03</td>\n",
              "      <td>2.127352e+03</td>\n",
              "      <td>5.538333e+02</td>\n",
              "    </tr>\n",
              "    <tr>\n",
              "      <th>36</th>\n",
              "      <td>1698.898645</td>\n",
              "      <td>656.777810</td>\n",
              "      <td>376.269053</td>\n",
              "      <td>134.070697</td>\n",
              "      <td>7.100233e+01</td>\n",
              "      <td>751.204112</td>\n",
              "      <td>377.322999</td>\n",
              "      <td>187.694687</td>\n",
              "      <td>754.239356</td>\n",
              "      <td>501.315972</td>\n",
              "      <td>155.984894</td>\n",
              "      <td>1817.423531</td>\n",
              "      <td>751.544812</td>\n",
              "      <td>3.404214e+02</td>\n",
              "      <td>138.083373</td>\n",
              "      <td>75.106807</td>\n",
              "      <td>8.527996e+02</td>\n",
              "      <td>3.631208e+02</td>\n",
              "      <td>3.445898e+02</td>\n",
              "    </tr>\n",
              "  </tbody>\n",
              "</table>\n",
              "</div>"
            ],
            "text/plain": [
              "               0              1   ...            17            18\n",
              "0        0.000000       0.000000  ...  0.000000e+00  0.000000e+00\n",
              "1        0.000000       0.000000  ...  0.000000e+00  0.000000e+00\n",
              "2     5161.487469    1366.419865  ...  1.034682e+04  5.990172e+03\n",
              "3     1145.846315    2087.806886  ...  8.175185e+03  1.507103e+04\n",
              "4      420.868876      28.277832  ...  7.981047e+06  2.255194e+03\n",
              "5    16159.907352   17107.485758  ...  1.536867e+04  8.321640e+03\n",
              "6     7708.940244    5695.723410  ...  1.117053e+04  9.319182e+03\n",
              "7     1804.128271     666.791409  ...  3.824174e+03  7.237835e+03\n",
              "8      455.304554     261.996676  ...  2.209033e+03  3.162073e+03\n",
              "9    23317.527928   27577.764856  ...  7.259929e+04  7.904251e+04\n",
              "10    5567.291730    1796.749931  ...  1.714296e+02  1.212511e+03\n",
              "11    2986.282124     424.554059  ...  5.906048e+04  7.388325e+03\n",
              "12    4546.392982    1398.058435  ...  3.853067e+03  3.856236e+03\n",
              "13    1579.582699     324.526139  ...  7.179494e+03  9.696474e+03\n",
              "14     175.018570      74.967313  ...  1.564897e+03  2.302753e+03\n",
              "15    6641.524252    3542.528395  ...  2.761159e+03  1.522382e+03\n",
              "16   11108.101011    8548.205276  ...  2.274362e+03  1.132949e+03\n",
              "17    3772.967013    9124.400642  ...  1.882976e+05  2.667635e+05\n",
              "18   25561.690905    6217.016170  ...  2.532890e+03  3.336185e+03\n",
              "19   10518.428770    4301.482222  ...  2.240403e+03  1.942237e+03\n",
              "20    3358.163946    1561.433586  ...  5.973511e+03  1.177565e+04\n",
              "21   22657.349997   12383.769096  ...  3.402610e+04  8.120257e+04\n",
              "22   21605.550960    1625.992435  ...  5.127461e+02  4.148896e+02\n",
              "23    3173.197005    2535.103617  ...  1.098795e+03  3.786153e+02\n",
              "24  305627.228225  182386.580147  ...  2.861145e+05  1.585202e+05\n",
              "25    4484.987011    4347.783910  ...  2.819960e+03  5.050591e+03\n",
              "26   10268.726199    5131.437627  ...  5.925343e+03  6.424885e+03\n",
              "27    4828.797016    1464.608378  ...  5.525619e+02  4.846302e+02\n",
              "28   37597.737093   11821.823211  ...  4.749492e+03  3.551260e+03\n",
              "29  104704.690984   78587.134078  ...  7.167075e+04  7.551104e+04\n",
              "30   19987.064252    7870.948431  ...  2.714368e+03  1.769621e+03\n",
              "31  112620.084196   31495.438600  ...  1.467103e+04  1.094502e+04\n",
              "32  136593.210913   47607.636616  ...  4.974231e+03  5.612613e+03\n",
              "33  310726.490513  244419.779838  ...  1.428246e+06  1.988466e+06\n",
              "34   19320.630614   15215.116543  ...  1.316854e+04  9.388493e+03\n",
              "35    7643.500903    7099.135277  ...  2.127352e+03  5.538333e+02\n",
              "36    1698.898645     656.777810  ...  3.631208e+02  3.445898e+02\n",
              "\n",
              "[37 rows x 19 columns]"
            ]
          },
          "metadata": {},
          "execution_count": 142
        }
      ]
    },
    {
      "cell_type": "code",
      "metadata": {
        "id": "Ze7yfVhIMQj3"
      },
      "source": [
        "df_pmAD=pmAD.assign(label=lambda pmAD: 1)\n",
        "df_pmMCI=pmMCI.assign(label=lambda pmMCI: 2)\n",
        "df_pmHC=pmHC.assign(label=lambda pmHC: 3)"
      ],
      "execution_count": null,
      "outputs": []
    },
    {
      "cell_type": "code",
      "metadata": {
        "colab": {
          "base_uri": "https://localhost:8080/",
          "height": 382
        },
        "id": "kf9NrirIMQj3",
        "outputId": "f97cfd9b-a71c-498a-e4f3-be1017dc85a1"
      },
      "source": [
        "df_pmHC.head(10)"
      ],
      "execution_count": null,
      "outputs": [
        {
          "output_type": "execute_result",
          "data": {
            "text/html": [
              "<div>\n",
              "<style scoped>\n",
              "    .dataframe tbody tr th:only-of-type {\n",
              "        vertical-align: middle;\n",
              "    }\n",
              "\n",
              "    .dataframe tbody tr th {\n",
              "        vertical-align: top;\n",
              "    }\n",
              "\n",
              "    .dataframe thead th {\n",
              "        text-align: right;\n",
              "    }\n",
              "</style>\n",
              "<table border=\"1\" class=\"dataframe\">\n",
              "  <thead>\n",
              "    <tr style=\"text-align: right;\">\n",
              "      <th></th>\n",
              "      <th>0</th>\n",
              "      <th>1</th>\n",
              "      <th>2</th>\n",
              "      <th>3</th>\n",
              "      <th>4</th>\n",
              "      <th>5</th>\n",
              "      <th>6</th>\n",
              "      <th>7</th>\n",
              "      <th>8</th>\n",
              "      <th>9</th>\n",
              "      <th>10</th>\n",
              "      <th>11</th>\n",
              "      <th>12</th>\n",
              "      <th>13</th>\n",
              "      <th>14</th>\n",
              "      <th>15</th>\n",
              "      <th>16</th>\n",
              "      <th>17</th>\n",
              "      <th>18</th>\n",
              "      <th>label</th>\n",
              "    </tr>\n",
              "  </thead>\n",
              "  <tbody>\n",
              "    <tr>\n",
              "      <th>2</th>\n",
              "      <td>5166.844584</td>\n",
              "      <td>58318.523201</td>\n",
              "      <td>3671.596315</td>\n",
              "      <td>1380.330930</td>\n",
              "      <td>1235.381255</td>\n",
              "      <td>59486.760386</td>\n",
              "      <td>2771.289434</td>\n",
              "      <td>3036.332411</td>\n",
              "      <td>4407.931642</td>\n",
              "      <td>3487.344391</td>\n",
              "      <td>928.040809</td>\n",
              "      <td>4738.533606</td>\n",
              "      <td>5042.386512</td>\n",
              "      <td>2859.187464</td>\n",
              "      <td>1468.160892</td>\n",
              "      <td>1053.836881</td>\n",
              "      <td>3784.704973</td>\n",
              "      <td>2611.082183</td>\n",
              "      <td>1687.152992</td>\n",
              "      <td>3</td>\n",
              "    </tr>\n",
              "    <tr>\n",
              "      <th>3</th>\n",
              "      <td>2994.644427</td>\n",
              "      <td>1321.849825</td>\n",
              "      <td>691.918146</td>\n",
              "      <td>130.407934</td>\n",
              "      <td>174.495428</td>\n",
              "      <td>1004.692145</td>\n",
              "      <td>431.850625</td>\n",
              "      <td>219.506348</td>\n",
              "      <td>1270.966457</td>\n",
              "      <td>442.919828</td>\n",
              "      <td>484.943707</td>\n",
              "      <td>4475.892165</td>\n",
              "      <td>853.605517</td>\n",
              "      <td>4091.331210</td>\n",
              "      <td>328.913746</td>\n",
              "      <td>209.561636</td>\n",
              "      <td>2784.179484</td>\n",
              "      <td>605.055494</td>\n",
              "      <td>451.123468</td>\n",
              "      <td>3</td>\n",
              "    </tr>\n",
              "    <tr>\n",
              "      <th>4</th>\n",
              "      <td>4282.692812</td>\n",
              "      <td>3090.563274</td>\n",
              "      <td>1500.223045</td>\n",
              "      <td>578.708846</td>\n",
              "      <td>289.009270</td>\n",
              "      <td>119390.888785</td>\n",
              "      <td>11144.617168</td>\n",
              "      <td>936.637730</td>\n",
              "      <td>3384.815199</td>\n",
              "      <td>10604.822252</td>\n",
              "      <td>442.291759</td>\n",
              "      <td>4720.991693</td>\n",
              "      <td>2844.834046</td>\n",
              "      <td>1844.265576</td>\n",
              "      <td>1033.557408</td>\n",
              "      <td>707.579410</td>\n",
              "      <td>3435.193025</td>\n",
              "      <td>3102.014029</td>\n",
              "      <td>1500.147564</td>\n",
              "      <td>3</td>\n",
              "    </tr>\n",
              "    <tr>\n",
              "      <th>5</th>\n",
              "      <td>13604.787104</td>\n",
              "      <td>3034.804807</td>\n",
              "      <td>614.856775</td>\n",
              "      <td>116.800616</td>\n",
              "      <td>7.161705</td>\n",
              "      <td>9281.625088</td>\n",
              "      <td>1282.094166</td>\n",
              "      <td>139.566666</td>\n",
              "      <td>469914.098589</td>\n",
              "      <td>758.349495</td>\n",
              "      <td>199.902751</td>\n",
              "      <td>20675.607270</td>\n",
              "      <td>5479.661869</td>\n",
              "      <td>624.432430</td>\n",
              "      <td>145.160147</td>\n",
              "      <td>8.799568</td>\n",
              "      <td>8659.830217</td>\n",
              "      <td>1025.505402</td>\n",
              "      <td>148.270507</td>\n",
              "      <td>3</td>\n",
              "    </tr>\n",
              "    <tr>\n",
              "      <th>6</th>\n",
              "      <td>3021.718325</td>\n",
              "      <td>2217.329798</td>\n",
              "      <td>660.405116</td>\n",
              "      <td>133.955196</td>\n",
              "      <td>31.272995</td>\n",
              "      <td>2047.617476</td>\n",
              "      <td>674.827664</td>\n",
              "      <td>473.217453</td>\n",
              "      <td>1572.563476</td>\n",
              "      <td>320.905740</td>\n",
              "      <td>55.274907</td>\n",
              "      <td>2310.639439</td>\n",
              "      <td>924.465041</td>\n",
              "      <td>413.371751</td>\n",
              "      <td>62.173106</td>\n",
              "      <td>31.051052</td>\n",
              "      <td>2602.260705</td>\n",
              "      <td>920.957266</td>\n",
              "      <td>608.744539</td>\n",
              "      <td>3</td>\n",
              "    </tr>\n",
              "    <tr>\n",
              "      <th>7</th>\n",
              "      <td>2900.404187</td>\n",
              "      <td>877.061306</td>\n",
              "      <td>441.497213</td>\n",
              "      <td>107.175604</td>\n",
              "      <td>11.685968</td>\n",
              "      <td>1342.712897</td>\n",
              "      <td>615.195441</td>\n",
              "      <td>180.059918</td>\n",
              "      <td>815.831925</td>\n",
              "      <td>380.925154</td>\n",
              "      <td>77.619599</td>\n",
              "      <td>2431.476365</td>\n",
              "      <td>734.762421</td>\n",
              "      <td>284.619102</td>\n",
              "      <td>89.685524</td>\n",
              "      <td>34.045881</td>\n",
              "      <td>1199.642460</td>\n",
              "      <td>446.141142</td>\n",
              "      <td>305.925443</td>\n",
              "      <td>3</td>\n",
              "    </tr>\n",
              "    <tr>\n",
              "      <th>8</th>\n",
              "      <td>4626.268534</td>\n",
              "      <td>2050.239284</td>\n",
              "      <td>532.274027</td>\n",
              "      <td>99.067038</td>\n",
              "      <td>31.554010</td>\n",
              "      <td>7273.879995</td>\n",
              "      <td>896.504039</td>\n",
              "      <td>255.784036</td>\n",
              "      <td>1688.100899</td>\n",
              "      <td>514.337415</td>\n",
              "      <td>77.217752</td>\n",
              "      <td>5513.056292</td>\n",
              "      <td>1205.842394</td>\n",
              "      <td>421.482212</td>\n",
              "      <td>118.943414</td>\n",
              "      <td>326.955349</td>\n",
              "      <td>2490.828983</td>\n",
              "      <td>516.906650</td>\n",
              "      <td>137.450798</td>\n",
              "      <td>3</td>\n",
              "    </tr>\n",
              "    <tr>\n",
              "      <th>9</th>\n",
              "      <td>18619.761244</td>\n",
              "      <td>17207.404481</td>\n",
              "      <td>12384.228716</td>\n",
              "      <td>13698.811457</td>\n",
              "      <td>10535.432654</td>\n",
              "      <td>21952.987971</td>\n",
              "      <td>28511.978692</td>\n",
              "      <td>32314.611655</td>\n",
              "      <td>18493.816194</td>\n",
              "      <td>12706.332131</td>\n",
              "      <td>9768.474367</td>\n",
              "      <td>52360.899304</td>\n",
              "      <td>18303.394555</td>\n",
              "      <td>13272.472238</td>\n",
              "      <td>10346.101497</td>\n",
              "      <td>8611.020495</td>\n",
              "      <td>79383.203799</td>\n",
              "      <td>22081.560395</td>\n",
              "      <td>12587.283204</td>\n",
              "      <td>3</td>\n",
              "    </tr>\n",
              "    <tr>\n",
              "      <th>10</th>\n",
              "      <td>9585.006164</td>\n",
              "      <td>24923.228991</td>\n",
              "      <td>2041.845558</td>\n",
              "      <td>477.152102</td>\n",
              "      <td>244.241534</td>\n",
              "      <td>6831.286822</td>\n",
              "      <td>2900.851190</td>\n",
              "      <td>922.471809</td>\n",
              "      <td>7092.463057</td>\n",
              "      <td>2295.948426</td>\n",
              "      <td>157.055330</td>\n",
              "      <td>13276.190971</td>\n",
              "      <td>6103.275423</td>\n",
              "      <td>2092.013837</td>\n",
              "      <td>306.542582</td>\n",
              "      <td>176.287545</td>\n",
              "      <td>5392.443808</td>\n",
              "      <td>3149.211993</td>\n",
              "      <td>1709.213549</td>\n",
              "      <td>3</td>\n",
              "    </tr>\n",
              "    <tr>\n",
              "      <th>11</th>\n",
              "      <td>94912.919844</td>\n",
              "      <td>69668.266171</td>\n",
              "      <td>38482.634982</td>\n",
              "      <td>13623.624487</td>\n",
              "      <td>12654.011735</td>\n",
              "      <td>53601.437429</td>\n",
              "      <td>29708.085949</td>\n",
              "      <td>14776.695598</td>\n",
              "      <td>75320.036488</td>\n",
              "      <td>39997.181580</td>\n",
              "      <td>14763.949926</td>\n",
              "      <td>84690.169328</td>\n",
              "      <td>66135.386871</td>\n",
              "      <td>38309.710250</td>\n",
              "      <td>12279.365963</td>\n",
              "      <td>13881.047232</td>\n",
              "      <td>58709.434492</td>\n",
              "      <td>26454.165202</td>\n",
              "      <td>20888.120280</td>\n",
              "      <td>3</td>\n",
              "    </tr>\n",
              "  </tbody>\n",
              "</table>\n",
              "</div>"
            ],
            "text/plain": [
              "               0             1             2  ...            17            18  label\n",
              "2    5166.844584  58318.523201   3671.596315  ...   2611.082183   1687.152992      3\n",
              "3    2994.644427   1321.849825    691.918146  ...    605.055494    451.123468      3\n",
              "4    4282.692812   3090.563274   1500.223045  ...   3102.014029   1500.147564      3\n",
              "5   13604.787104   3034.804807    614.856775  ...   1025.505402    148.270507      3\n",
              "6    3021.718325   2217.329798    660.405116  ...    920.957266    608.744539      3\n",
              "7    2900.404187    877.061306    441.497213  ...    446.141142    305.925443      3\n",
              "8    4626.268534   2050.239284    532.274027  ...    516.906650    137.450798      3\n",
              "9   18619.761244  17207.404481  12384.228716  ...  22081.560395  12587.283204      3\n",
              "10   9585.006164  24923.228991   2041.845558  ...   3149.211993   1709.213549      3\n",
              "11  94912.919844  69668.266171  38482.634982  ...  26454.165202  20888.120280      3\n",
              "\n",
              "[10 rows x 20 columns]"
            ]
          },
          "metadata": {},
          "execution_count": 145
        }
      ]
    },
    {
      "cell_type": "code",
      "metadata": {
        "id": "vbJdMm3oMQj4"
      },
      "source": [
        "ADHC=df_pmAD.copy()\n",
        "ADHC=ADHC.append(df_pmHC,ignore_index=True)"
      ],
      "execution_count": null,
      "outputs": []
    },
    {
      "cell_type": "code",
      "metadata": {
        "id": "DENzVTzHMQj4"
      },
      "source": [
        "ADMCI=df_pmAD.copy()\n",
        "ADMCI=ADMCI.append(df_pmMCI,ignore_index=True)"
      ],
      "execution_count": null,
      "outputs": []
    },
    {
      "cell_type": "code",
      "metadata": {
        "id": "_zf-ZF9tMQj4"
      },
      "source": [
        "MCIHC=df_pmMCI.copy()\n",
        "MCIHC=MCIHC.append(df_pmHC,ignore_index=True)"
      ],
      "execution_count": null,
      "outputs": []
    },
    {
      "cell_type": "code",
      "metadata": {
        "id": "1r9v0RlJMQj5"
      },
      "source": [
        "CASEHC=df_pmAD.copy()\n",
        "CASEHC=CASEHC.append(df_pmMCI,ignore_index=True)\n",
        "CASEHC=CASEHC.append(df_pmHC,ignore_index=True)"
      ],
      "execution_count": null,
      "outputs": []
    },
    {
      "cell_type": "code",
      "metadata": {
        "id": "PRge3AOYMQj5"
      },
      "source": [
        ""
      ],
      "execution_count": null,
      "outputs": []
    },
    {
      "cell_type": "code",
      "metadata": {
        "colab": {
          "base_uri": "https://localhost:8080/"
        },
        "id": "a9szS2YWMQj5",
        "outputId": "02b242b3-2494-4c88-a467-f04a3db53e5e"
      },
      "source": [
        "CASEHC.loc[:,18]"
      ],
      "execution_count": null,
      "outputs": [
        {
          "output_type": "execute_result",
          "data": {
            "text/plain": [
              "0      4888.347621\n",
              "1     25023.776818\n",
              "2         9.256284\n",
              "3      1254.814396\n",
              "4        90.799499\n",
              "          ...     \n",
              "94     1561.026769\n",
              "95        0.366040\n",
              "96      106.064311\n",
              "97       43.966376\n",
              "98        0.045293\n",
              "Name: 18, Length: 99, dtype: float64"
            ]
          },
          "metadata": {},
          "execution_count": 35
        }
      ]
    },
    {
      "cell_type": "code",
      "metadata": {
        "id": "w4-oOfidMQj5"
      },
      "source": [
        ""
      ],
      "execution_count": null,
      "outputs": []
    },
    {
      "cell_type": "markdown",
      "metadata": {
        "id": "4vcGXJeUMe0Q"
      },
      "source": [
        "## Riduzione di dimensioni con LDA a 16 HZ"
      ]
    },
    {
      "cell_type": "code",
      "metadata": {
        "id": "OZzHFjNNMe0R"
      },
      "source": [
        ""
      ],
      "execution_count": null,
      "outputs": []
    },
    {
      "cell_type": "markdown",
      "metadata": {
        "id": "udLiu6_OMe0R"
      },
      "source": [
        "### LDA"
      ]
    },
    {
      "cell_type": "markdown",
      "metadata": {
        "id": "6qYR77kGauG7"
      },
      "source": [
        "#### 10 RUN AD vs HC"
      ]
    },
    {
      "cell_type": "code",
      "metadata": {
        "id": "3w1qZtDea15M"
      },
      "source": [
        "for i in range(10):\n",
        "    df=ADHC.loc[:,[0,1,2,3,4,5,6,7,8,9,10,11,12,13,14,15,16,17,18]]\n",
        "\n",
        "    X = df.to_numpy()\n",
        "\n",
        "    Y = ADHC.loc[:,'label']\n",
        "    y = Y.to_numpy()\n",
        "    y = np.where(y == 1, 1, 0)\n",
        "    #from sklearn.model_selection import train_test_split\n",
        "\n",
        "\n",
        "    X_train, X_test, y_train, y_test = train_test_split(X, y, test_size=0.3,stratify=y)\n",
        "\n",
        "\n",
        "\n",
        "    lda = LDA(n_components=2)\n",
        "    X_train_lda1 = lda.fit_transform(X_train, y_train)\n",
        "    #X_test_lda1 = lda.transform(X_test)\n",
        "    X_test_lda1 = lda.fit_transform(X_test,y_test)\n",
        "\n",
        "    X_train_caso1=X_train_lda1\n",
        "    X_test_caso1=X_test_lda1\n",
        "    y_train_caso1=y_train\n",
        "    y_test_caso1=y_test\n",
        "    tuning_albero_decisione(1,10)\n",
        "    tuning_SVM(1,10)\n",
        "    tuning_SVM_1(1,10)\n",
        "    tuning_KNN(1,10)\n"
      ],
      "execution_count": null,
      "outputs": []
    },
    {
      "cell_type": "markdown",
      "metadata": {
        "id": "Z2RHRyPjMe0R"
      },
      "source": [
        "#### Caso 1 AD vs HCF"
      ]
    },
    {
      "cell_type": "code",
      "metadata": {
        "colab": {
          "base_uri": "https://localhost:8080/"
        },
        "id": "yQ0jh2EcMe0S",
        "outputId": "b5c91d43-c7b2-41f4-85c5-ec2efb99d6ea"
      },
      "source": [
        "\n",
        "df=ADHC.loc[:,[0,1,2,3,4,5,6,7,8,9,10,11,12,13,14,15,16,17,18]]\n",
        "\n",
        "X = df.to_numpy()\n",
        "\n",
        "Y = ADHC.loc[:,'label']\n",
        "y = Y.to_numpy()\n",
        "y = np.where(y == 1, 1, 0)\n",
        "#from sklearn.model_selection import train_test_split\n",
        "\n",
        "\n",
        "X_train, X_test, y_train, y_test = train_test_split(X, y, test_size=0.3,stratify=y,random_state=42)\n",
        "\n",
        "\n",
        "lda = LDA(n_components=2)\n",
        "X_train_lda1 = lda.fit_transform(X_train, y_train)\n",
        "#X_test_lda1 = lda.transform(X_test)\n",
        "X_test_lda1 = lda.fit_transform(X_test,y_test)\n",
        "\n",
        "X_train_caso1=X_train_lda1\n",
        "X_test_caso1=X_test_lda1\n",
        "y_train_caso1=y_train\n",
        "y_test_caso1=y_test"
      ],
      "execution_count": null,
      "outputs": [
        {
          "output_type": "stream",
          "name": "stderr",
          "text": [
            "/usr/local/lib/python3.7/dist-packages/sklearn/discriminant_analysis.py:463: ChangedBehaviorWarning:\n",
            "\n",
            "n_components cannot be larger than min(n_features, n_classes - 1). Using min(n_features, n_classes - 1) = min(19, 2 - 1) = 1 components.\n",
            "\n",
            "/usr/local/lib/python3.7/dist-packages/sklearn/discriminant_analysis.py:469: FutureWarning:\n",
            "\n",
            "In version 0.23, setting n_components > min(n_features, n_classes - 1) will raise a ValueError. You should set n_components to None (default), or a value smaller or equal to min(n_features, n_classes - 1).\n",
            "\n",
            "/usr/local/lib/python3.7/dist-packages/sklearn/discriminant_analysis.py:463: ChangedBehaviorWarning:\n",
            "\n",
            "n_components cannot be larger than min(n_features, n_classes - 1). Using min(n_features, n_classes - 1) = min(19, 2 - 1) = 1 components.\n",
            "\n",
            "/usr/local/lib/python3.7/dist-packages/sklearn/discriminant_analysis.py:469: FutureWarning:\n",
            "\n",
            "In version 0.23, setting n_components > min(n_features, n_classes - 1) will raise a ValueError. You should set n_components to None (default), or a value smaller or equal to min(n_features, n_classes - 1).\n",
            "\n"
          ]
        }
      ]
    },
    {
      "cell_type": "code",
      "metadata": {
        "id": "hrPyvvquMe0S"
      },
      "source": [
        "#tuning_albero_decisione_CV(1,10)"
      ],
      "execution_count": null,
      "outputs": []
    },
    {
      "cell_type": "code",
      "metadata": {
        "colab": {
          "base_uri": "https://localhost:8080/"
        },
        "id": "Nvpfy4AAMe0S",
        "outputId": "daaf2c63-84a1-40b7-dab9-e3f057b21efe"
      },
      "source": [
        "tuning_albero_decisione(1,10)"
      ],
      "execution_count": null,
      "outputs": [
        {
          "output_type": "stream",
          "name": "stderr",
          "text": [
            "[Parallel(n_jobs=-1)]: Using backend LokyBackend with 2 concurrent workers.\n"
          ]
        },
        {
          "output_type": "stream",
          "name": "stdout",
          "text": [
            "stimatore utilizzato - DecisionTreeClassifier\n",
            "Fitting 10 folds for each of 216 candidates, totalling 2160 fits\n",
            "Accuratezza fase di Cross Validation con dati di Addestramento/Validazione: 0.835\n",
            "{'criterion': 'entropy', 'max_depth': 3, 'min_samples_leaf': 1, 'min_samples_split': 2, 'min_weight_fraction_leaf': 0}\n",
            "Accuratezza con dati di Test: 0.900\n",
            "Risultato sui dati di test:\n",
            "              precision    recall  f1-score   support\n",
            "\n",
            "           0       0.75      1.00      0.86         6\n",
            "           1       1.00      0.86      0.92        14\n",
            "\n",
            "    accuracy                           0.90        20\n",
            "   macro avg       0.88      0.93      0.89        20\n",
            "weighted avg       0.93      0.90      0.90        20\n",
            "\n",
            "[[ 6  0]\n",
            " [ 2 12]]\n",
            "Accuratezza Test: 90.000\n",
            "Precisione  Test: 75.000\n",
            "Sensitività Test: 100.000\n",
            "Specificità Test: 85.000\n",
            "F1 score    Test: 85.000\n"
          ]
        },
        {
          "output_type": "stream",
          "name": "stderr",
          "text": [
            "[Parallel(n_jobs=-1)]: Done 1843 tasks      | elapsed:    2.1s\n",
            "[Parallel(n_jobs=-1)]: Done 2160 out of 2160 | elapsed:    2.2s finished\n"
          ]
        }
      ]
    },
    {
      "cell_type": "code",
      "metadata": {
        "id": "RgzGzmTmMe0T"
      },
      "source": [
        "#tuning_albero_decisione_CV(1,10)"
      ],
      "execution_count": null,
      "outputs": []
    },
    {
      "cell_type": "code",
      "metadata": {
        "colab": {
          "base_uri": "https://localhost:8080/"
        },
        "id": "XJlhIiocMe0T",
        "outputId": "fd38c1ed-d257-452c-d476-34136612b18c"
      },
      "source": [
        "tuning_SVM(1,10)"
      ],
      "execution_count": null,
      "outputs": [
        {
          "output_type": "stream",
          "name": "stderr",
          "text": [
            "[Parallel(n_jobs=-1)]: Using backend LokyBackend with 2 concurrent workers.\n"
          ]
        },
        {
          "output_type": "stream",
          "name": "stdout",
          "text": [
            "stimatore utilizzato - Support vector machine (SVC)\n",
            "Fitting 10 folds for each of 20 candidates, totalling 200 fits\n",
            "Accuratezza fase di Cross Validation con dati di Addestramento/Validazione: 0.835\n",
            "{'kernel': 'rbf', 'gamma': 1.0, 'C': 100.0}\n",
            "Accuratezza con dati di Test: 0.850\n",
            "Risultato sui dati di test:\n",
            "              precision    recall  f1-score   support\n",
            "\n",
            "           0       0.80      0.67      0.73         6\n",
            "           1       0.87      0.93      0.90        14\n",
            "\n",
            "    accuracy                           0.85        20\n",
            "   macro avg       0.83      0.80      0.81        20\n",
            "weighted avg       0.85      0.85      0.85        20\n",
            "\n",
            "[[ 4  2]\n",
            " [ 1 13]]\n",
            "Accuratezza Test: 85.000\n",
            "Precisione  Test: 80.000\n",
            "Sensitività Test: 66.000\n",
            "Specificità Test: 92.000\n",
            "F1 score    Test: 72.000\n"
          ]
        },
        {
          "output_type": "stream",
          "name": "stderr",
          "text": [
            "[Parallel(n_jobs=-1)]: Done 200 out of 200 | elapsed:    0.3s finished\n"
          ]
        }
      ]
    },
    {
      "cell_type": "code",
      "metadata": {
        "colab": {
          "base_uri": "https://localhost:8080/"
        },
        "id": "V2DvEDBmh5es",
        "outputId": "b371be15-1894-474c-d38f-b19625031bde"
      },
      "source": [
        "tuning_SVM_1(1,10)"
      ],
      "execution_count": null,
      "outputs": [
        {
          "output_type": "stream",
          "name": "stderr",
          "text": [
            "[Parallel(n_jobs=-1)]: Using backend LokyBackend with 2 concurrent workers.\n"
          ]
        },
        {
          "output_type": "stream",
          "name": "stdout",
          "text": [
            "stimatore utilizzato - Support vector machine (SVC)\n",
            "Fitting 10 folds for each of 128 candidates, totalling 1280 fits\n",
            "Accuratezza fase di Cross Validation con dati di Addestramento/Validazione: 0.835\n",
            "{'C': 10.0, 'gamma': 1.0, 'kernel': 'rbf'}\n",
            "Accuratezza con dati di Test: 0.850\n",
            "Risultato sui dati di test:\n",
            "              precision    recall  f1-score   support\n",
            "\n",
            "           0       0.80      0.67      0.73         6\n",
            "           1       0.87      0.93      0.90        14\n",
            "\n",
            "    accuracy                           0.85        20\n",
            "   macro avg       0.83      0.80      0.81        20\n",
            "weighted avg       0.85      0.85      0.85        20\n",
            "\n",
            "[[ 4  2]\n",
            " [ 1 13]]\n",
            "Accuratezza Test: 85.000\n",
            "Precisione  Test: 80.000\n",
            "Sensitività Test: 66.000\n",
            "Specificità Test: 92.000\n",
            "F1 score    Test: 72.000\n"
          ]
        },
        {
          "output_type": "stream",
          "name": "stderr",
          "text": [
            "[Parallel(n_jobs=-1)]: Done 1080 tasks      | elapsed:    1.3s\n",
            "[Parallel(n_jobs=-1)]: Done 1280 out of 1280 | elapsed:    1.4s finished\n"
          ]
        }
      ]
    },
    {
      "cell_type": "code",
      "metadata": {
        "colab": {
          "base_uri": "https://localhost:8080/"
        },
        "id": "j-kEe2vGMe0T",
        "outputId": "9471a905-5572-476b-97d6-116ef6226080"
      },
      "source": [
        "tuning_KNN(1,10)"
      ],
      "execution_count": null,
      "outputs": [
        {
          "output_type": "stream",
          "name": "stdout",
          "text": [
            "stimatore utilizzato - KNeighborsClassifier\n",
            "Fitting 10 folds for each of 16 candidates, totalling 160 fits\n"
          ]
        },
        {
          "output_type": "stream",
          "name": "stderr",
          "text": [
            "[Parallel(n_jobs=-1)]: Using backend LokyBackend with 2 concurrent workers.\n"
          ]
        },
        {
          "output_type": "stream",
          "name": "stdout",
          "text": [
            "Accuratezza fase di Cross Validation con dati di Addestramento/Validazione: 0.840\n",
            "{'algorithm': 'auto', 'n_neighbors': 20, 'weights': 'distance'}\n",
            "Accuratezza con dati di Test: 0.900\n",
            "Risultato sui dati di test:\n",
            "              precision    recall  f1-score   support\n",
            "\n",
            "           0       0.83      0.83      0.83         6\n",
            "           1       0.93      0.93      0.93        14\n",
            "\n",
            "    accuracy                           0.90        20\n",
            "   macro avg       0.88      0.88      0.88        20\n",
            "weighted avg       0.90      0.90      0.90        20\n",
            "\n",
            "[[ 5  1]\n",
            " [ 1 13]]\n",
            "Accuratezza Test: 90.000\n",
            "Precisione  Test: 83.000\n",
            "Sensitività Test: 83.000\n",
            "Specificità Test: 92.000\n",
            "F1 score    Test: 83.000\n"
          ]
        },
        {
          "output_type": "stream",
          "name": "stderr",
          "text": [
            "[Parallel(n_jobs=-1)]: Done 150 tasks      | elapsed:    0.3s\n",
            "[Parallel(n_jobs=-1)]: Done 160 out of 160 | elapsed:    0.3s finished\n"
          ]
        }
      ]
    },
    {
      "cell_type": "code",
      "metadata": {
        "id": "9Gije_zuMe0T"
      },
      "source": [
        "#tuning_MP(1,10)"
      ],
      "execution_count": null,
      "outputs": []
    },
    {
      "cell_type": "code",
      "metadata": {
        "id": "oSR-TVqbMe0U"
      },
      "source": [
        ""
      ],
      "execution_count": null,
      "outputs": []
    },
    {
      "cell_type": "code",
      "metadata": {
        "id": "F5yvblWpMe0U"
      },
      "source": [
        "#tuning_LR(1,10)"
      ],
      "execution_count": null,
      "outputs": []
    },
    {
      "cell_type": "code",
      "metadata": {
        "id": "Zz4d096oMe0U"
      },
      "source": [
        "#tuning_foresta(1,10)"
      ],
      "execution_count": null,
      "outputs": []
    },
    {
      "cell_type": "code",
      "metadata": {
        "id": "e-hquJERcBIQ"
      },
      "source": [
        ""
      ],
      "execution_count": null,
      "outputs": []
    },
    {
      "cell_type": "markdown",
      "metadata": {
        "id": "Gf9an-wYcGCJ"
      },
      "source": [
        "#### 10 RUN AD vs MCI"
      ]
    },
    {
      "cell_type": "code",
      "metadata": {
        "id": "O8C1WyqCcFnE"
      },
      "source": [
        ""
      ],
      "execution_count": null,
      "outputs": []
    },
    {
      "cell_type": "code",
      "metadata": {
        "id": "v0LGmAOgcGCK"
      },
      "source": [
        "for i in range(10):\n",
        "    df=ADMCI.loc[:,[0,1,2,3,4,5,6,7,8,9,10,11,12,13,14,15,16,17,18]]\n",
        "\n",
        "    X = df.to_numpy()\n",
        "\n",
        "    Y = ADMCI.loc[:,'label']\n",
        "    y = Y.to_numpy()\n",
        "    #y = np.where(y == 1, 1, 0)\n",
        "    #from sklearn.model_selection import train_test_split\n",
        "\n",
        "\n",
        "    #X_train, X_test, y_train, y_test = train_test_split(X, y, test_size=0.3,stratify=y,random_state=42)\n",
        "    X_train, X_test, y_train, y_test = train_test_split(X, y, test_size=0.3,stratify=y)\n",
        "    lda = LDA(n_components=2)\n",
        "    X_train_lda2 = lda.fit_transform(X_train, y_train)\n",
        "    #X_test_lda2 = lda.transform(X_test)\n",
        "    X_test_lda2 = lda.fit_transform(X_test,y_test)\n",
        "\n",
        "    X_train_caso2=X_train_lda2\n",
        "    X_test_caso2=X_test_lda2\n",
        "    y_train_caso2=y_train\n",
        "    y_test_caso2=y_test\n",
        "    tuning_albero_decisione(2,10)\n",
        "    tuning_SVM(2,10)\n",
        "    tuning_SVM_1(2,10)\n",
        "    tuning_KNN(2,10)\n"
      ],
      "execution_count": null,
      "outputs": []
    },
    {
      "cell_type": "markdown",
      "metadata": {
        "id": "GT_5tNwCMe0U"
      },
      "source": [
        "#### Caso 2 AD vs MCI"
      ]
    },
    {
      "cell_type": "code",
      "metadata": {
        "colab": {
          "base_uri": "https://localhost:8080/"
        },
        "id": "zp5OfzOrMe0V",
        "outputId": "5c80a82e-3d7a-453a-a544-39014c88f4f4"
      },
      "source": [
        "\n",
        "df=ADMCI.loc[:,[0,1,2,3,4,5,6,7,8,9,10,11,12,13,14,15,16,17,18]]\n",
        "\n",
        "X = df.to_numpy()\n",
        "\n",
        "Y = ADMCI.loc[:,'label']\n",
        "y = Y.to_numpy()\n",
        "#y = np.where(y == 1, 1, 0)\n",
        "#from sklearn.model_selection import train_test_split\n",
        "\n",
        "\n",
        "#X_train, X_test, y_train, y_test = train_test_split(X, y, test_size=0.3,stratify=y,random_state=42)\n",
        "X_train, X_test, y_train, y_test = train_test_split(X, y, test_size=0.3,stratify=y,random_state=42)\n",
        "lda = LDA(n_components=2)\n",
        "X_train_lda2 = lda.fit_transform(X_train, y_train)\n",
        "#X_test_lda2 = lda.transform(X_test)\n",
        "X_test_lda2 = lda.fit_transform(X_test,y_test)\n",
        "\n",
        "X_train_caso2=X_train_lda2\n",
        "X_test_caso2=X_test_lda2\n",
        "y_train_caso2=y_train\n",
        "y_test_caso2=y_test"
      ],
      "execution_count": null,
      "outputs": [
        {
          "output_type": "stream",
          "name": "stderr",
          "text": [
            "/usr/local/lib/python3.7/dist-packages/sklearn/discriminant_analysis.py:463: ChangedBehaviorWarning:\n",
            "\n",
            "n_components cannot be larger than min(n_features, n_classes - 1). Using min(n_features, n_classes - 1) = min(19, 2 - 1) = 1 components.\n",
            "\n",
            "/usr/local/lib/python3.7/dist-packages/sklearn/discriminant_analysis.py:469: FutureWarning:\n",
            "\n",
            "In version 0.23, setting n_components > min(n_features, n_classes - 1) will raise a ValueError. You should set n_components to None (default), or a value smaller or equal to min(n_features, n_classes - 1).\n",
            "\n",
            "/usr/local/lib/python3.7/dist-packages/sklearn/discriminant_analysis.py:463: ChangedBehaviorWarning:\n",
            "\n",
            "n_components cannot be larger than min(n_features, n_classes - 1). Using min(n_features, n_classes - 1) = min(19, 2 - 1) = 1 components.\n",
            "\n",
            "/usr/local/lib/python3.7/dist-packages/sklearn/discriminant_analysis.py:469: FutureWarning:\n",
            "\n",
            "In version 0.23, setting n_components > min(n_features, n_classes - 1) will raise a ValueError. You should set n_components to None (default), or a value smaller or equal to min(n_features, n_classes - 1).\n",
            "\n"
          ]
        }
      ]
    },
    {
      "cell_type": "code",
      "metadata": {
        "colab": {
          "base_uri": "https://localhost:8080/"
        },
        "id": "9XJweokXSgbR",
        "outputId": "6fbb5517-1662-471b-8e34-07011bc79b06"
      },
      "source": [
        "y"
      ],
      "execution_count": null,
      "outputs": [
        {
          "output_type": "execute_result",
          "data": {
            "text/plain": [
              "array([1, 1, 1, 1, 1, 1, 1, 1, 1, 1, 1, 1, 1, 1, 1, 1, 1, 1, 1, 1, 1, 1,\n",
              "       1, 1, 1, 1, 1, 1, 1, 1, 1, 1, 1, 1, 1, 1, 1, 1, 1, 1, 1, 1, 1, 1,\n",
              "       1, 1, 2, 2, 2, 2, 2, 2, 2, 2, 2, 2, 2, 2, 2, 2, 2, 2, 2, 2, 2, 2,\n",
              "       2, 2, 2, 2, 2, 2, 2, 2, 2, 2, 2, 2, 2, 2, 2])"
            ]
          },
          "metadata": {},
          "execution_count": 536
        }
      ]
    },
    {
      "cell_type": "code",
      "metadata": {
        "id": "L2y6OVl5Me0V"
      },
      "source": [
        ""
      ],
      "execution_count": null,
      "outputs": []
    },
    {
      "cell_type": "code",
      "metadata": {
        "colab": {
          "base_uri": "https://localhost:8080/"
        },
        "id": "b4axx-w_Me0V",
        "outputId": "5e5ccc90-81b0-4ccc-f4db-24bd6f89cd19"
      },
      "source": [
        "tuning_albero_decisione(2,10)"
      ],
      "execution_count": null,
      "outputs": [
        {
          "output_type": "stream",
          "name": "stdout",
          "text": [
            "stimatore utilizzato - DecisionTreeClassifier\n",
            "Fitting 10 folds for each of 216 candidates, totalling 2160 fits\n"
          ]
        },
        {
          "output_type": "stream",
          "name": "stderr",
          "text": [
            "[Parallel(n_jobs=-1)]: Using backend LokyBackend with 2 concurrent workers.\n"
          ]
        },
        {
          "output_type": "stream",
          "name": "stdout",
          "text": [
            "Accuratezza fase di Cross Validation con dati di Addestramento/Validazione: 0.700\n",
            "{'criterion': 'gini', 'max_depth': 4, 'min_samples_leaf': 3, 'min_samples_split': 2, 'min_weight_fraction_leaf': 0}\n",
            "Accuratezza con dati di Test: 1.000\n",
            "Risultato sui dati di test:\n",
            "              precision    recall  f1-score   support\n",
            "\n",
            "           1       1.00      1.00      1.00        14\n",
            "           2       1.00      1.00      1.00        11\n",
            "\n",
            "    accuracy                           1.00        25\n",
            "   macro avg       1.00      1.00      1.00        25\n",
            "weighted avg       1.00      1.00      1.00        25\n",
            "\n",
            "[[14  0]\n",
            " [ 0 11]]\n",
            "Accuratezza Test: 100.000\n",
            "Precisione  Test: 100.000\n",
            "Sensitività Test: 100.000\n",
            "Specificità Test: 100.000\n",
            "F1 score    Test: 100.000\n"
          ]
        },
        {
          "output_type": "stream",
          "name": "stderr",
          "text": [
            "[Parallel(n_jobs=-1)]: Done 2074 tasks      | elapsed:    2.1s\n",
            "[Parallel(n_jobs=-1)]: Done 2160 out of 2160 | elapsed:    2.2s finished\n"
          ]
        }
      ]
    },
    {
      "cell_type": "code",
      "metadata": {
        "colab": {
          "base_uri": "https://localhost:8080/"
        },
        "id": "lJpEcD8oMe0V",
        "outputId": "a9ea37c1-5f1d-4370-cd4e-dd108fb3b65a"
      },
      "source": [
        "tuning_SVM(2,10)"
      ],
      "execution_count": null,
      "outputs": [
        {
          "output_type": "stream",
          "name": "stderr",
          "text": [
            "[Parallel(n_jobs=-1)]: Using backend LokyBackend with 2 concurrent workers.\n"
          ]
        },
        {
          "output_type": "stream",
          "name": "stdout",
          "text": [
            "stimatore utilizzato - Support vector machine (SVC)\n",
            "Fitting 10 folds for each of 20 candidates, totalling 200 fits\n",
            "Accuratezza fase di Cross Validation con dati di Addestramento/Validazione: 0.737\n",
            "{'kernel': 'linear', 'gamma': 1000.0, 'C': 1000.0}\n",
            "Accuratezza con dati di Test: 0.960\n",
            "Risultato sui dati di test:\n",
            "              precision    recall  f1-score   support\n",
            "\n",
            "           1       0.93      1.00      0.97        14\n",
            "           2       1.00      0.91      0.95        11\n",
            "\n",
            "    accuracy                           0.96        25\n",
            "   macro avg       0.97      0.95      0.96        25\n",
            "weighted avg       0.96      0.96      0.96        25\n",
            "\n",
            "[[14  0]\n",
            " [ 1 10]]\n",
            "Accuratezza Test: 96.000\n",
            "Precisione  Test: 93.000\n",
            "Sensitività Test: 100.000\n",
            "Specificità Test: 90.000\n",
            "F1 score    Test: 96.000\n"
          ]
        },
        {
          "output_type": "stream",
          "name": "stderr",
          "text": [
            "[Parallel(n_jobs=-1)]: Done 200 out of 200 | elapsed:    0.3s finished\n"
          ]
        }
      ]
    },
    {
      "cell_type": "code",
      "metadata": {
        "id": "clBnlFOsMe0W",
        "colab": {
          "base_uri": "https://localhost:8080/"
        },
        "outputId": "cbcf14ff-dc1b-4400-f66e-e70fb3136a3b"
      },
      "source": [
        "tuning_SVM_1(1,10)"
      ],
      "execution_count": null,
      "outputs": [
        {
          "output_type": "stream",
          "name": "stderr",
          "text": [
            "[Parallel(n_jobs=-1)]: Using backend LokyBackend with 2 concurrent workers.\n"
          ]
        },
        {
          "output_type": "stream",
          "name": "stdout",
          "text": [
            "stimatore utilizzato - Support vector machine (SVC)\n",
            "Fitting 10 folds for each of 128 candidates, totalling 1280 fits\n",
            "Accuratezza fase di Cross Validation con dati di Addestramento/Validazione: 0.835\n",
            "{'C': 10.0, 'gamma': 1.0, 'kernel': 'rbf'}\n",
            "Accuratezza con dati di Test: 0.850\n",
            "Risultato sui dati di test:\n",
            "              precision    recall  f1-score   support\n",
            "\n",
            "           0       0.80      0.67      0.73         6\n",
            "           1       0.87      0.93      0.90        14\n",
            "\n",
            "    accuracy                           0.85        20\n",
            "   macro avg       0.83      0.80      0.81        20\n",
            "weighted avg       0.85      0.85      0.85        20\n",
            "\n",
            "[[ 4  2]\n",
            " [ 1 13]]\n",
            "Accuratezza Test: 85.000\n",
            "Precisione  Test: 80.000\n",
            "Sensitività Test: 66.000\n",
            "Specificità Test: 92.000\n",
            "F1 score    Test: 72.000\n"
          ]
        },
        {
          "output_type": "stream",
          "name": "stderr",
          "text": [
            "[Parallel(n_jobs=-1)]: Done 1280 out of 1280 | elapsed:    1.4s finished\n"
          ]
        }
      ]
    },
    {
      "cell_type": "code",
      "metadata": {
        "colab": {
          "base_uri": "https://localhost:8080/"
        },
        "id": "zpTHpNQ9Me0W",
        "outputId": "4a26226a-cff2-4fb2-bfee-fe267e2b44a4"
      },
      "source": [
        "tuning_KNN(2,10)"
      ],
      "execution_count": null,
      "outputs": [
        {
          "output_type": "stream",
          "name": "stderr",
          "text": [
            "[Parallel(n_jobs=-1)]: Using backend LokyBackend with 2 concurrent workers.\n"
          ]
        },
        {
          "output_type": "stream",
          "name": "stdout",
          "text": [
            "stimatore utilizzato - KNeighborsClassifier\n",
            "Fitting 10 folds for each of 16 candidates, totalling 160 fits\n",
            "Accuratezza fase di Cross Validation con dati di Addestramento/Validazione: 0.737\n",
            "{'algorithm': 'auto', 'n_neighbors': 20, 'weights': 'uniform'}\n",
            "Accuratezza con dati di Test: 0.960\n",
            "Risultato sui dati di test:\n",
            "              precision    recall  f1-score   support\n",
            "\n",
            "           1       0.93      1.00      0.97        14\n",
            "           2       1.00      0.91      0.95        11\n",
            "\n",
            "    accuracy                           0.96        25\n",
            "   macro avg       0.97      0.95      0.96        25\n",
            "weighted avg       0.96      0.96      0.96        25\n",
            "\n",
            "[[14  0]\n",
            " [ 1 10]]\n",
            "Accuratezza Test: 96.000\n",
            "Precisione  Test: 93.000\n",
            "Sensitività Test: 100.000\n",
            "Specificità Test: 90.000\n",
            "F1 score    Test: 96.000\n"
          ]
        },
        {
          "output_type": "stream",
          "name": "stderr",
          "text": [
            "[Parallel(n_jobs=-1)]: Done 150 tasks      | elapsed:    0.3s\n",
            "[Parallel(n_jobs=-1)]: Done 160 out of 160 | elapsed:    0.3s finished\n"
          ]
        }
      ]
    },
    {
      "cell_type": "code",
      "metadata": {
        "id": "Qapa4c-pMe0W"
      },
      "source": [
        ""
      ],
      "execution_count": null,
      "outputs": []
    },
    {
      "cell_type": "code",
      "metadata": {
        "id": "0ysuPZJvMe0W"
      },
      "source": [
        "#tuning_MP(2,10)"
      ],
      "execution_count": null,
      "outputs": []
    },
    {
      "cell_type": "code",
      "metadata": {
        "id": "3J0KA4c_Me0X"
      },
      "source": [
        ""
      ],
      "execution_count": null,
      "outputs": []
    },
    {
      "cell_type": "code",
      "metadata": {
        "id": "xpJ3M4mtMe0X"
      },
      "source": [
        "#tuning_LR(2,10)"
      ],
      "execution_count": null,
      "outputs": []
    },
    {
      "cell_type": "code",
      "metadata": {
        "id": "LvkF7u9cMe0X"
      },
      "source": [
        "#tuning_foresta(2,10)"
      ],
      "execution_count": null,
      "outputs": []
    },
    {
      "cell_type": "code",
      "metadata": {
        "id": "nKfVYn08dUav"
      },
      "source": [
        ""
      ],
      "execution_count": null,
      "outputs": []
    },
    {
      "cell_type": "markdown",
      "metadata": {
        "id": "ZTKrzSWodUzh"
      },
      "source": [
        "#### 10 RUN MCI vs HC"
      ]
    },
    {
      "cell_type": "code",
      "metadata": {
        "id": "0iqDMS0ndUzi"
      },
      "source": [
        ""
      ],
      "execution_count": null,
      "outputs": []
    },
    {
      "cell_type": "code",
      "metadata": {
        "id": "VTK-Unh8dUzj"
      },
      "source": [
        "for i in range(10):\n",
        "    df=MCIHC.loc[:,[0,1,2,3,4,5,6,7,8,9,10,11,12,13,14,15,16,17,18]]\n",
        "\n",
        "    X = df.to_numpy()\n",
        "\n",
        "    Y = MCIHC.loc[:,'label']\n",
        "    y = Y.to_numpy()\n",
        "    #y = np.where(y == 2, 1, 0)\n",
        "    #from sklearn.model_selection import train_test_split\n",
        "\n",
        "\n",
        "    #X_train, X_test, y_train, y_test = train_test_split(X, y, test_size=0.3,stratify=y,random_state=42)\n",
        "    X_train, X_test, y_train, y_test = train_test_split(X, y, test_size=0.3,stratify=y)\n",
        "    lda = LDA(n_components=2)\n",
        "    X_train_lda3 = lda.fit_transform(X_train, y_train)\n",
        "    #X_test_lda3 = lda.transform(X_test)\n",
        "    X_test_lda3 = lda.fit_transform(X_test,y_test)\n",
        "\n",
        "    X_train_caso3=X_train_lda3\n",
        "    X_test_caso3=X_test_lda3\n",
        "    y_train_caso3=y_train\n",
        "    y_test_caso3=y_test\n",
        "    tuning_albero_decisione(3,10)\n",
        "    tuning_SVM(3,10)\n",
        "    tuning_SVM_1(3,10)\n",
        "    tuning_KNN(3,10)\n"
      ],
      "execution_count": null,
      "outputs": []
    },
    {
      "cell_type": "markdown",
      "metadata": {
        "id": "oe5UUgMkMe0X"
      },
      "source": [
        "#### Caso 3 MCI vs HCF"
      ]
    },
    {
      "cell_type": "code",
      "metadata": {
        "colab": {
          "base_uri": "https://localhost:8080/"
        },
        "id": "u1W9of7pMe0Y",
        "outputId": "02e2929a-6303-46a4-de28-d1683e7c3088"
      },
      "source": [
        "\n",
        "df=MCIHC.loc[:,[0,1,2,3,4,5,6,7,8,9,10,11,12,13,14,15,16,17,18]]\n",
        "\n",
        "X = df.to_numpy()\n",
        "\n",
        "Y = MCIHC.loc[:,'label']\n",
        "y = Y.to_numpy()\n",
        "#y = np.where(y == 2, 1, 0)\n",
        "#from sklearn.model_selection import train_test_split\n",
        "\n",
        "\n",
        "#X_train, X_test, y_train, y_test = train_test_split(X, y, test_size=0.3,stratify=y,random_state=42)\n",
        "X_train, X_test, y_train, y_test = train_test_split(X, y, test_size=0.3,stratify=y,random_state=42)\n",
        "lda = LDA(n_components=2)\n",
        "X_train_lda3 = lda.fit_transform(X_train, y_train)\n",
        "#X_test_lda3 = lda.transform(X_test)\n",
        "X_test_lda3 = lda.fit_transform(X_test,y_test)\n",
        "\n",
        "X_train_caso3=X_train_lda3\n",
        "X_test_caso3=X_test_lda3\n",
        "y_train_caso3=y_train\n",
        "y_test_caso3=y_test"
      ],
      "execution_count": null,
      "outputs": [
        {
          "output_type": "stream",
          "name": "stderr",
          "text": [
            "/usr/local/lib/python3.7/dist-packages/sklearn/discriminant_analysis.py:463: ChangedBehaviorWarning:\n",
            "\n",
            "n_components cannot be larger than min(n_features, n_classes - 1). Using min(n_features, n_classes - 1) = min(19, 2 - 1) = 1 components.\n",
            "\n",
            "/usr/local/lib/python3.7/dist-packages/sklearn/discriminant_analysis.py:469: FutureWarning:\n",
            "\n",
            "In version 0.23, setting n_components > min(n_features, n_classes - 1) will raise a ValueError. You should set n_components to None (default), or a value smaller or equal to min(n_features, n_classes - 1).\n",
            "\n",
            "/usr/local/lib/python3.7/dist-packages/sklearn/discriminant_analysis.py:463: ChangedBehaviorWarning:\n",
            "\n",
            "n_components cannot be larger than min(n_features, n_classes - 1). Using min(n_features, n_classes - 1) = min(19, 2 - 1) = 1 components.\n",
            "\n",
            "/usr/local/lib/python3.7/dist-packages/sklearn/discriminant_analysis.py:469: FutureWarning:\n",
            "\n",
            "In version 0.23, setting n_components > min(n_features, n_classes - 1) will raise a ValueError. You should set n_components to None (default), or a value smaller or equal to min(n_features, n_classes - 1).\n",
            "\n"
          ]
        }
      ]
    },
    {
      "cell_type": "code",
      "metadata": {
        "id": "AWdOkjvfMe0Y"
      },
      "source": [
        ""
      ],
      "execution_count": null,
      "outputs": []
    },
    {
      "cell_type": "code",
      "metadata": {
        "colab": {
          "base_uri": "https://localhost:8080/"
        },
        "id": "33BJmmJ8Me0Z",
        "outputId": "974be311-9a9e-4cdb-cd03-6b7dd622bb7d"
      },
      "source": [
        "tuning_albero_decisione(3,10)"
      ],
      "execution_count": null,
      "outputs": [
        {
          "output_type": "stream",
          "name": "stdout",
          "text": [
            "stimatore utilizzato - DecisionTreeClassifier\n",
            "Fitting 10 folds for each of 216 candidates, totalling 2160 fits\n"
          ]
        },
        {
          "output_type": "stream",
          "name": "stderr",
          "text": [
            "[Parallel(n_jobs=-1)]: Using backend LokyBackend with 2 concurrent workers.\n",
            "[Parallel(n_jobs=-1)]: Done 1080 tasks      | elapsed:    1.3s\n"
          ]
        },
        {
          "output_type": "stream",
          "name": "stdout",
          "text": [
            "Accuratezza fase di Cross Validation con dati di Addestramento/Validazione: 0.875\n",
            "{'criterion': 'gini', 'max_depth': 3, 'min_samples_leaf': 2, 'min_samples_split': 2, 'min_weight_fraction_leaf': 0}\n",
            "Accuratezza con dati di Test: 0.938\n",
            "Risultato sui dati di test:\n",
            "              precision    recall  f1-score   support\n",
            "\n",
            "           2       1.00      0.91      0.95        11\n",
            "           3       0.83      1.00      0.91         5\n",
            "\n",
            "    accuracy                           0.94        16\n",
            "   macro avg       0.92      0.95      0.93        16\n",
            "weighted avg       0.95      0.94      0.94        16\n",
            "\n",
            "[[10  1]\n",
            " [ 0  5]]\n",
            "Accuratezza Test: 93.000\n",
            "Precisione  Test: 100.000\n",
            "Sensitività Test: 90.000\n",
            "Specificità Test: 100.000\n",
            "F1 score    Test: 94.000\n"
          ]
        },
        {
          "output_type": "stream",
          "name": "stderr",
          "text": [
            "[Parallel(n_jobs=-1)]: Done 2160 out of 2160 | elapsed:    2.3s finished\n"
          ]
        }
      ]
    },
    {
      "cell_type": "code",
      "metadata": {
        "colab": {
          "base_uri": "https://localhost:8080/"
        },
        "id": "9JX9OpeJMe0b",
        "outputId": "a8dd6825-d450-4f82-aae2-fe5c89232cfc"
      },
      "source": [
        "tuning_SVM(3,10)"
      ],
      "execution_count": null,
      "outputs": [
        {
          "output_type": "stream",
          "name": "stderr",
          "text": [
            "[Parallel(n_jobs=-1)]: Using backend LokyBackend with 2 concurrent workers.\n"
          ]
        },
        {
          "output_type": "stream",
          "name": "stdout",
          "text": [
            "stimatore utilizzato - Support vector machine (SVC)\n",
            "Fitting 10 folds for each of 20 candidates, totalling 200 fits\n",
            "Accuratezza fase di Cross Validation con dati di Addestramento/Validazione: 0.867\n",
            "{'kernel': 'rbf', 'gamma': 1.0, 'C': 10.0}\n",
            "Accuratezza con dati di Test: 0.938\n",
            "Risultato sui dati di test:\n",
            "              precision    recall  f1-score   support\n",
            "\n",
            "           2       1.00      0.91      0.95        11\n",
            "           3       0.83      1.00      0.91         5\n",
            "\n",
            "    accuracy                           0.94        16\n",
            "   macro avg       0.92      0.95      0.93        16\n",
            "weighted avg       0.95      0.94      0.94        16\n",
            "\n",
            "[[10  1]\n",
            " [ 0  5]]\n",
            "Accuratezza Test: 93.000\n",
            "Precisione  Test: 100.000\n",
            "Sensitività Test: 90.000\n",
            "Specificità Test: 100.000\n",
            "F1 score    Test: 94.000\n"
          ]
        },
        {
          "output_type": "stream",
          "name": "stderr",
          "text": [
            "[Parallel(n_jobs=-1)]: Done 200 out of 200 | elapsed:    0.3s finished\n"
          ]
        }
      ]
    },
    {
      "cell_type": "code",
      "metadata": {
        "id": "3wfz2qKCMe0c",
        "colab": {
          "base_uri": "https://localhost:8080/"
        },
        "outputId": "53580bc9-1b0d-4c73-80f0-0eb651ae1528"
      },
      "source": [
        "tuning_SVM_1(1,10)"
      ],
      "execution_count": null,
      "outputs": [
        {
          "output_type": "stream",
          "name": "stderr",
          "text": [
            "[Parallel(n_jobs=-1)]: Using backend LokyBackend with 2 concurrent workers.\n"
          ]
        },
        {
          "output_type": "stream",
          "name": "stdout",
          "text": [
            "stimatore utilizzato - Support vector machine (SVC)\n",
            "Fitting 10 folds for each of 128 candidates, totalling 1280 fits\n",
            "Accuratezza fase di Cross Validation con dati di Addestramento/Validazione: 0.835\n",
            "{'C': 10.0, 'gamma': 1.0, 'kernel': 'rbf'}\n",
            "Accuratezza con dati di Test: 0.850\n",
            "Risultato sui dati di test:\n",
            "              precision    recall  f1-score   support\n",
            "\n",
            "           0       0.80      0.67      0.73         6\n",
            "           1       0.87      0.93      0.90        14\n",
            "\n",
            "    accuracy                           0.85        20\n",
            "   macro avg       0.83      0.80      0.81        20\n",
            "weighted avg       0.85      0.85      0.85        20\n",
            "\n",
            "[[ 4  2]\n",
            " [ 1 13]]\n",
            "Accuratezza Test: 85.000\n",
            "Precisione  Test: 80.000\n",
            "Sensitività Test: 66.000\n",
            "Specificità Test: 92.000\n",
            "F1 score    Test: 72.000\n"
          ]
        },
        {
          "output_type": "stream",
          "name": "stderr",
          "text": [
            "[Parallel(n_jobs=-1)]: Done 1280 out of 1280 | elapsed:    1.4s finished\n"
          ]
        }
      ]
    },
    {
      "cell_type": "code",
      "metadata": {
        "colab": {
          "base_uri": "https://localhost:8080/"
        },
        "id": "w3H-v-BzMe0c",
        "outputId": "b8438245-8b81-4c38-c21d-67928943de29"
      },
      "source": [
        "tuning_KNN(3,10)"
      ],
      "execution_count": null,
      "outputs": [
        {
          "output_type": "stream",
          "name": "stderr",
          "text": [
            "[Parallel(n_jobs=-1)]: Using backend LokyBackend with 2 concurrent workers.\n"
          ]
        },
        {
          "output_type": "stream",
          "name": "stdout",
          "text": [
            "stimatore utilizzato - KNeighborsClassifier\n",
            "Fitting 10 folds for each of 16 candidates, totalling 160 fits\n",
            "Accuratezza fase di Cross Validation con dati di Addestramento/Validazione: 0.842\n",
            "{'algorithm': 'auto', 'n_neighbors': 20, 'weights': 'uniform'}\n",
            "Accuratezza con dati di Test: 0.938\n",
            "Risultato sui dati di test:\n",
            "              precision    recall  f1-score   support\n",
            "\n",
            "           2       1.00      0.91      0.95        11\n",
            "           3       0.83      1.00      0.91         5\n",
            "\n",
            "    accuracy                           0.94        16\n",
            "   macro avg       0.92      0.95      0.93        16\n",
            "weighted avg       0.95      0.94      0.94        16\n",
            "\n",
            "[[10  1]\n",
            " [ 0  5]]\n",
            "Accuratezza Test: 93.000\n",
            "Precisione  Test: 100.000\n",
            "Sensitività Test: 90.000\n",
            "Specificità Test: 100.000\n",
            "F1 score    Test: 94.000\n"
          ]
        },
        {
          "output_type": "stream",
          "name": "stderr",
          "text": [
            "[Parallel(n_jobs=-1)]: Done 150 tasks      | elapsed:    0.3s\n",
            "[Parallel(n_jobs=-1)]: Done 160 out of 160 | elapsed:    0.3s finished\n"
          ]
        }
      ]
    },
    {
      "cell_type": "code",
      "metadata": {
        "id": "z_4ib1ZaMe0c"
      },
      "source": [
        ""
      ],
      "execution_count": null,
      "outputs": []
    },
    {
      "cell_type": "code",
      "metadata": {
        "id": "jzvQCOZjMe0c"
      },
      "source": [
        "#tuning_MP(3,10)"
      ],
      "execution_count": null,
      "outputs": []
    },
    {
      "cell_type": "code",
      "metadata": {
        "id": "EAPgGL4YMe0d"
      },
      "source": [
        "#tuning_LR(3,10)"
      ],
      "execution_count": null,
      "outputs": []
    },
    {
      "cell_type": "code",
      "metadata": {
        "id": "eKaNWXknMe0d"
      },
      "source": [
        "#tuning_foresta(3,10)"
      ],
      "execution_count": null,
      "outputs": []
    },
    {
      "cell_type": "code",
      "metadata": {
        "id": "6VrySDy2dsJ9"
      },
      "source": [
        ""
      ],
      "execution_count": null,
      "outputs": []
    },
    {
      "cell_type": "markdown",
      "metadata": {
        "id": "7O0RgPtldsh7"
      },
      "source": [
        "#### 10 RUN CASE vs HC"
      ]
    },
    {
      "cell_type": "code",
      "metadata": {
        "id": "3g--Ao8ddsh-"
      },
      "source": [
        ""
      ],
      "execution_count": null,
      "outputs": []
    },
    {
      "cell_type": "code",
      "metadata": {
        "id": "13vJNE8zdsh_"
      },
      "source": [
        "for i in range(10):\n",
        "    df=CASEHC.loc[:,[0,1,2,3,4,5,6,7,8,9,10,11,12,13,14,15,16,17,18]]\n",
        "\n",
        "    X = df.to_numpy()\n",
        "\n",
        "    Y = CASEHC.loc[:,'label']\n",
        "    y = Y.to_numpy()\n",
        "    y = np.where(y == 3, 1, 0)\n",
        "    #from sklearn.model_selection import train_test_split\n",
        "\n",
        "\n",
        "    #X_train, X_test, y_train, y_test = train_test_split(X, y, test_size=0.3,stratify=y,random_state=42)\n",
        "    X_train, X_test, y_train, y_test = train_test_split(X, y, test_size=0.3,stratify=y)\n",
        "    lda = LDA(n_components=2)\n",
        "    X_train_lda4 = lda.fit_transform(X_train, y_train)\n",
        "    #X_test_lda4 = lda.transform(X_test)\n",
        "    X_test_lda4 = lda.fit_transform(X_test,y_test)\n",
        "\n",
        "    X_train_caso4=X_train_lda4\n",
        "    X_test_caso4=X_test_lda4\n",
        "    y_train_caso4=y_train\n",
        "    y_test_caso4=y_test\n",
        "    tuning_albero_decisione(4,10)\n",
        "    tuning_SVM(4,10)\n",
        "    tuning_SVM_1(4,10)\n",
        "    tuning_KNN(4,10)\n"
      ],
      "execution_count": null,
      "outputs": []
    },
    {
      "cell_type": "markdown",
      "metadata": {
        "id": "AxPLyUWjMe0d"
      },
      "source": [
        "#### Caso 4 CASE vs HCF"
      ]
    },
    {
      "cell_type": "code",
      "metadata": {
        "colab": {
          "base_uri": "https://localhost:8080/"
        },
        "id": "p0FEdC9bMe0e",
        "outputId": "8e4c7696-e93b-41d1-c60a-4c53ebd5159f"
      },
      "source": [
        "\n",
        "df=CASEHC.loc[:,[0,1,2,3,4,5,6,7,8,9,10,11,12,13,14,15,16,17,18]]\n",
        "\n",
        "X = df.to_numpy()\n",
        "\n",
        "Y = CASEHC.loc[:,'label']\n",
        "y = Y.to_numpy()\n",
        "y = np.where(y == 3, 1, 0)\n",
        "#from sklearn.model_selection import train_test_split\n",
        "\n",
        "\n",
        "#X_train, X_test, y_train, y_test = train_test_split(X, y, test_size=0.3,stratify=y,random_state=42)\n",
        "X_train, X_test, y_train, y_test = train_test_split(X, y, test_size=0.3,stratify=y,random_state=42)\n",
        "lda = LDA(n_components=2)\n",
        "X_train_lda4 = lda.fit_transform(X_train, y_train)\n",
        "#X_test_lda4 = lda.transform(X_test)\n",
        "X_test_lda4 = lda.fit_transform(X_test,y_test)\n",
        "\n",
        "X_train_caso4=X_train_lda4\n",
        "X_test_caso4=X_test_lda4\n",
        "y_train_caso4=y_train\n",
        "y_test_caso4=y_test"
      ],
      "execution_count": null,
      "outputs": [
        {
          "output_type": "stream",
          "name": "stderr",
          "text": [
            "/usr/local/lib/python3.7/dist-packages/sklearn/discriminant_analysis.py:463: ChangedBehaviorWarning:\n",
            "\n",
            "n_components cannot be larger than min(n_features, n_classes - 1). Using min(n_features, n_classes - 1) = min(19, 2 - 1) = 1 components.\n",
            "\n",
            "/usr/local/lib/python3.7/dist-packages/sklearn/discriminant_analysis.py:469: FutureWarning:\n",
            "\n",
            "In version 0.23, setting n_components > min(n_features, n_classes - 1) will raise a ValueError. You should set n_components to None (default), or a value smaller or equal to min(n_features, n_classes - 1).\n",
            "\n",
            "/usr/local/lib/python3.7/dist-packages/sklearn/discriminant_analysis.py:463: ChangedBehaviorWarning:\n",
            "\n",
            "n_components cannot be larger than min(n_features, n_classes - 1). Using min(n_features, n_classes - 1) = min(19, 2 - 1) = 1 components.\n",
            "\n",
            "/usr/local/lib/python3.7/dist-packages/sklearn/discriminant_analysis.py:469: FutureWarning:\n",
            "\n",
            "In version 0.23, setting n_components > min(n_features, n_classes - 1) will raise a ValueError. You should set n_components to None (default), or a value smaller or equal to min(n_features, n_classes - 1).\n",
            "\n"
          ]
        }
      ]
    },
    {
      "cell_type": "code",
      "metadata": {
        "id": "oe0_TWsuMe0e"
      },
      "source": [
        ""
      ],
      "execution_count": null,
      "outputs": []
    },
    {
      "cell_type": "code",
      "metadata": {
        "colab": {
          "base_uri": "https://localhost:8080/"
        },
        "id": "iC0P6mgCMe0e",
        "outputId": "30c6405e-e4e7-49bd-d4ab-4d70028da581"
      },
      "source": [
        "tuning_albero_decisione(4,10)"
      ],
      "execution_count": null,
      "outputs": [
        {
          "output_type": "stream",
          "name": "stdout",
          "text": [
            "stimatore utilizzato - DecisionTreeClassifier\n",
            "Fitting 10 folds for each of 216 candidates, totalling 2160 fits\n"
          ]
        },
        {
          "output_type": "stream",
          "name": "stderr",
          "text": [
            "[Parallel(n_jobs=-1)]: Using backend LokyBackend with 2 concurrent workers.\n"
          ]
        },
        {
          "output_type": "stream",
          "name": "stdout",
          "text": [
            "Accuratezza fase di Cross Validation con dati di Addestramento/Validazione: 0.840\n",
            "{'criterion': 'gini', 'max_depth': 3, 'min_samples_leaf': 1, 'min_samples_split': 2, 'min_weight_fraction_leaf': 0}\n",
            "Accuratezza con dati di Test: 0.833\n",
            "Risultato sui dati di test:\n",
            "              precision    recall  f1-score   support\n",
            "\n",
            "           0       0.83      1.00      0.91        25\n",
            "           1       0.00      0.00      0.00         5\n",
            "\n",
            "    accuracy                           0.83        30\n",
            "   macro avg       0.42      0.50      0.45        30\n",
            "weighted avg       0.69      0.83      0.76        30\n",
            "\n",
            "[[25  0]\n",
            " [ 5  0]]\n",
            "Accuratezza Test: 83.000\n",
            "Precisione  Test: 83.000\n",
            "Sensitività Test: 100.000\n",
            "Specificità Test: 0.000\n",
            "F1 score    Test: 90.000\n"
          ]
        },
        {
          "output_type": "stream",
          "name": "stderr",
          "text": [
            "[Parallel(n_jobs=-1)]: Done 2074 tasks      | elapsed:    2.4s\n",
            "[Parallel(n_jobs=-1)]: Done 2160 out of 2160 | elapsed:    2.5s finished\n",
            "/usr/local/lib/python3.7/dist-packages/sklearn/metrics/_classification.py:1272: UndefinedMetricWarning:\n",
            "\n",
            "Precision and F-score are ill-defined and being set to 0.0 in labels with no predicted samples. Use `zero_division` parameter to control this behavior.\n",
            "\n"
          ]
        }
      ]
    },
    {
      "cell_type": "code",
      "metadata": {
        "colab": {
          "base_uri": "https://localhost:8080/"
        },
        "id": "g88fGN-OMe0e",
        "outputId": "58ad64e7-d1b1-4784-f506-80443f38054b"
      },
      "source": [
        "tuning_SVM(4,10)"
      ],
      "execution_count": null,
      "outputs": [
        {
          "output_type": "stream",
          "name": "stderr",
          "text": [
            "[Parallel(n_jobs=-1)]: Using backend LokyBackend with 2 concurrent workers.\n"
          ]
        },
        {
          "output_type": "stream",
          "name": "stdout",
          "text": [
            "stimatore utilizzato - Support vector machine (SVC)\n",
            "Fitting 10 folds for each of 20 candidates, totalling 200 fits\n",
            "Accuratezza fase di Cross Validation con dati di Addestramento/Validazione: 0.826\n",
            "{'kernel': 'rbf', 'gamma': 1000.0, 'C': 1.0}\n",
            "Accuratezza con dati di Test: 0.833\n",
            "Risultato sui dati di test:\n",
            "              precision    recall  f1-score   support\n",
            "\n",
            "           0       0.83      1.00      0.91        25\n",
            "           1       0.00      0.00      0.00         5\n",
            "\n",
            "    accuracy                           0.83        30\n",
            "   macro avg       0.42      0.50      0.45        30\n",
            "weighted avg       0.69      0.83      0.76        30\n",
            "\n",
            "[[25  0]\n",
            " [ 5  0]]\n",
            "Accuratezza Test: 83.000\n",
            "Precisione  Test: 83.000\n",
            "Sensitività Test: 100.000\n",
            "Specificità Test: 0.000\n",
            "F1 score    Test: 90.000\n"
          ]
        },
        {
          "output_type": "stream",
          "name": "stderr",
          "text": [
            "[Parallel(n_jobs=-1)]: Done 200 out of 200 | elapsed:    0.3s finished\n",
            "/usr/local/lib/python3.7/dist-packages/sklearn/metrics/_classification.py:1272: UndefinedMetricWarning:\n",
            "\n",
            "Precision and F-score are ill-defined and being set to 0.0 in labels with no predicted samples. Use `zero_division` parameter to control this behavior.\n",
            "\n"
          ]
        }
      ]
    },
    {
      "cell_type": "markdown",
      "metadata": {
        "id": "_tnkpufvMe0h"
      },
      "source": [
        "<br>\n",
        "<br>"
      ]
    },
    {
      "cell_type": "code",
      "metadata": {
        "id": "0BI9ScCoMe0i",
        "colab": {
          "base_uri": "https://localhost:8080/"
        },
        "outputId": "0d6dc5b2-2c42-438f-86ba-fd2feeb1ee36"
      },
      "source": [
        "tuning_SVM_1(1,10)"
      ],
      "execution_count": null,
      "outputs": [
        {
          "output_type": "stream",
          "name": "stderr",
          "text": [
            "[Parallel(n_jobs=-1)]: Using backend LokyBackend with 2 concurrent workers.\n"
          ]
        },
        {
          "output_type": "stream",
          "name": "stdout",
          "text": [
            "stimatore utilizzato - Support vector machine (SVC)\n",
            "Fitting 10 folds for each of 128 candidates, totalling 1280 fits\n",
            "Accuratezza fase di Cross Validation con dati di Addestramento/Validazione: 0.835\n",
            "{'C': 10.0, 'gamma': 1.0, 'kernel': 'rbf'}\n",
            "Accuratezza con dati di Test: 0.850\n",
            "Risultato sui dati di test:\n",
            "              precision    recall  f1-score   support\n",
            "\n",
            "           0       0.80      0.67      0.73         6\n",
            "           1       0.87      0.93      0.90        14\n",
            "\n",
            "    accuracy                           0.85        20\n",
            "   macro avg       0.83      0.80      0.81        20\n",
            "weighted avg       0.85      0.85      0.85        20\n",
            "\n",
            "[[ 4  2]\n",
            " [ 1 13]]\n",
            "Accuratezza Test: 85.000\n",
            "Precisione  Test: 80.000\n",
            "Sensitività Test: 66.000\n",
            "Specificità Test: 92.000\n",
            "F1 score    Test: 72.000\n"
          ]
        },
        {
          "output_type": "stream",
          "name": "stderr",
          "text": [
            "[Parallel(n_jobs=-1)]: Done 1280 out of 1280 | elapsed:    1.4s finished\n"
          ]
        }
      ]
    },
    {
      "cell_type": "code",
      "metadata": {
        "colab": {
          "base_uri": "https://localhost:8080/"
        },
        "id": "SIXppnatMe0i",
        "outputId": "0a89b6f0-805b-405f-9688-6b4cb1c45654"
      },
      "source": [
        "tuning_KNN(4,10)"
      ],
      "execution_count": null,
      "outputs": [
        {
          "output_type": "stream",
          "name": "stderr",
          "text": [
            "[Parallel(n_jobs=-1)]: Using backend LokyBackend with 2 concurrent workers.\n"
          ]
        },
        {
          "output_type": "stream",
          "name": "stdout",
          "text": [
            "stimatore utilizzato - KNeighborsClassifier\n",
            "Fitting 10 folds for each of 16 candidates, totalling 160 fits\n",
            "Accuratezza fase di Cross Validation con dati di Addestramento/Validazione: 0.812\n",
            "{'algorithm': 'auto', 'n_neighbors': 20, 'weights': 'uniform'}\n",
            "Accuratezza con dati di Test: 0.833\n",
            "Risultato sui dati di test:\n",
            "              precision    recall  f1-score   support\n",
            "\n",
            "           0       0.83      1.00      0.91        25\n",
            "           1       0.00      0.00      0.00         5\n",
            "\n",
            "    accuracy                           0.83        30\n",
            "   macro avg       0.42      0.50      0.45        30\n",
            "weighted avg       0.69      0.83      0.76        30\n",
            "\n",
            "[[25  0]\n",
            " [ 5  0]]\n",
            "Accuratezza Test: 83.000\n",
            "Precisione  Test: 83.000\n",
            "Sensitività Test: 100.000\n",
            "Specificità Test: 0.000\n",
            "F1 score    Test: 90.000\n"
          ]
        },
        {
          "output_type": "stream",
          "name": "stderr",
          "text": [
            "[Parallel(n_jobs=-1)]: Done 150 tasks      | elapsed:    0.3s\n",
            "[Parallel(n_jobs=-1)]: Done 160 out of 160 | elapsed:    0.3s finished\n",
            "/usr/local/lib/python3.7/dist-packages/sklearn/metrics/_classification.py:1272: UndefinedMetricWarning:\n",
            "\n",
            "Precision and F-score are ill-defined and being set to 0.0 in labels with no predicted samples. Use `zero_division` parameter to control this behavior.\n",
            "\n"
          ]
        }
      ]
    },
    {
      "cell_type": "code",
      "metadata": {
        "id": "CYruXBuPMe0i"
      },
      "source": [
        ""
      ],
      "execution_count": null,
      "outputs": []
    },
    {
      "cell_type": "code",
      "metadata": {
        "id": "Hjjk8_AhMe0i"
      },
      "source": [
        "#tuning_MP(4,10)"
      ],
      "execution_count": null,
      "outputs": []
    },
    {
      "cell_type": "code",
      "metadata": {
        "id": "DT350KLDMe0j"
      },
      "source": [
        "#tuning_LR(4,10)"
      ],
      "execution_count": null,
      "outputs": []
    },
    {
      "cell_type": "code",
      "metadata": {
        "id": "RgEumeWwMe0j"
      },
      "source": [
        "#tuning_foresta(4,10)"
      ],
      "execution_count": null,
      "outputs": []
    },
    {
      "cell_type": "code",
      "metadata": {
        "id": "Xnr891s-Me0j"
      },
      "source": [
        ""
      ],
      "execution_count": null,
      "outputs": []
    },
    {
      "cell_type": "markdown",
      "metadata": {
        "id": "FPGjJU1hJeqI"
      },
      "source": [
        "## Valutazione media potenza singoli pazienti per individuare soglia di separazione delle classi"
      ]
    },
    {
      "cell_type": "code",
      "metadata": {
        "id": "KVDuRGd8J6k6"
      },
      "source": [
        ""
      ],
      "execution_count": null,
      "outputs": []
    },
    {
      "cell_type": "code",
      "metadata": {
        "id": "t6Vi_9C4KD0W"
      },
      "source": [
        "pm7AD=pd.read_csv(\"/content/drive/MyDrive/Dati EEG/pazienti a 7 HZ/Frq7_AbsDiff_PxxAD_2_rc48x19.txt\", sep=\"|\",header=None)\n",
        "pm7MCI=pd.read_csv(\"/content/drive/MyDrive/Dati EEG/pazienti a 7 HZ/Frq7_AbsDiff_PxxMCI_2_rc37x19.txt\", sep=\"|\",header=None)\n",
        "pm7HC=pd.read_csv(\"/content/drive/MyDrive/Dati EEG/pazienti a 7 HZ/Frq7_AbsDiff_PxxHC_2_rc20x19.txt\", sep=\"|\",header=None)"
      ],
      "execution_count": null,
      "outputs": []
    },
    {
      "cell_type": "code",
      "metadata": {
        "id": "vFBoIcApKpuq"
      },
      "source": [
        "pm7AD = pm7AD[(pm7AD > 0).all(axis=1)]\n",
        "pm7MCI = pm7MCI[(pm7MCI > 0).all(axis=1)]\n",
        "pm7HC = pm7HC[(pm7HC > 0).all(axis=1)]"
      ],
      "execution_count": null,
      "outputs": []
    },
    {
      "cell_type": "code",
      "metadata": {
        "id": "DY7AH6n5K_pa"
      },
      "source": [
        "temp7AD=pm7AD.assign(label=lambda pm7AD: 1)\n",
        "temp7MCI=pm7MCI.assign(label=lambda pm7MCI: 2)\n",
        "temp7HC=pm7HC.assign(label=lambda pm7HC: 3)"
      ],
      "execution_count": null,
      "outputs": []
    },
    {
      "cell_type": "code",
      "metadata": {
        "id": "CTeEaGezLHFa"
      },
      "source": [
        "df_pm7AD=temp7AD.assign(potenza=lambda temp7AD: np.mean(temp7AD.iloc[:]))\n",
        "df_pm7MCI=temp7MCI.assign(potenza=lambda temp7MCI: np.mean(temp7MCI.iloc[:]))\n",
        "df_pm7HC=temp7HC.assign(potenza=lambda temp7HC: np.mean(temp7HC.iloc[:]))"
      ],
      "execution_count": null,
      "outputs": []
    },
    {
      "cell_type": "code",
      "metadata": {
        "id": "cVoYeYhzJ64d"
      },
      "source": [
        "pm16AD=pd.read_csv(\"/content/drive/MyDrive/Dati EEG/pazienti a 16 hz/Frq16_AbsDiff_PxxAD_2_rc48x19.txt\", sep=\"|\",header=None)\n",
        "pm16MCI=pd.read_csv(\"/content/drive/MyDrive/Dati EEG/pazienti a 16 hz/Frq16_AbsDiff_PxxMCI_2_rc37x19.txt\", sep=\"|\",header=None)\n",
        "pm16HC=pd.read_csv(\"/content/drive/MyDrive/Dati EEG/pazienti a 16 hz/Frq16_AbsDiff_PxxHC_2_rc20x19.txt\", sep=\"|\",header=None)"
      ],
      "execution_count": null,
      "outputs": []
    },
    {
      "cell_type": "code",
      "metadata": {
        "id": "AE96EWrWKu0T"
      },
      "source": [
        "pm16AD = pm16AD[(pm16AD > 0).all(axis=1)]\n",
        "pm16MCI = pm16MCI[(pm16MCI > 0).all(axis=1)]\n",
        "pm16HC = pm16HC[(pm16HC > 0).all(axis=1)]"
      ],
      "execution_count": null,
      "outputs": []
    },
    {
      "cell_type": "code",
      "metadata": {
        "id": "PbNcRYyZdFmV"
      },
      "source": [
        ""
      ],
      "execution_count": null,
      "outputs": []
    },
    {
      "cell_type": "code",
      "metadata": {
        "id": "exQqxQ0Vdxry"
      },
      "source": [
        "temp16AD=pm16AD.assign(label=lambda pm16AD: 1)\n",
        "temp16MCI=pm16MCI.assign(label=lambda pm16MCI: 2)\n",
        "temp16HC=pm16HC.assign(label=lambda pm16HC: 3)"
      ],
      "execution_count": null,
      "outputs": []
    },
    {
      "cell_type": "code",
      "metadata": {
        "id": "lbS55_jHdxrz"
      },
      "source": [
        "df_pm16AD=temp16AD.assign(potenza=lambda temp16AD: np.mean(temp16AD.iloc[:]))\n",
        "df_pm16MCI=temp16MCI.assign(potenza=lambda temp16MCI: np.mean(temp16MCI.iloc[:]))\n",
        "df_pm16HC=temp16HC.assign(potenza=lambda temp16HC: np.mean(temp16HC.iloc[:]))"
      ],
      "execution_count": null,
      "outputs": []
    },
    {
      "cell_type": "code",
      "metadata": {
        "colab": {
          "base_uri": "https://localhost:8080/"
        },
        "id": "_MVnjgjDeowj",
        "outputId": "555e49fc-90bf-46f5-961e-68e08f901995"
      },
      "source": [
        "df_pm7AD.columns"
      ],
      "execution_count": null,
      "outputs": [
        {
          "output_type": "execute_result",
          "data": {
            "text/plain": [
              "Index([        0,         1,         2,         3,         4,         5,\n",
              "               6,         7,         8,         9,        10,        11,\n",
              "              12,        13,        14,        15,        16,        17,\n",
              "              18,   'label', 'potenza'],\n",
              "      dtype='object')"
            ]
          },
          "metadata": {},
          "execution_count": 22
        }
      ]
    },
    {
      "cell_type": "code",
      "metadata": {
        "id": "48HRXFzuOr3b"
      },
      "source": [
        "\n",
        "y1=df_pm7AD.loc[:,'potenza'].to_numpy()\n",
        "y2=df_pm7MCI.loc[:,'potenza'].to_numpy()\n",
        "y3=df_pm7HC.loc[:,'potenza'].to_numpy()\n",
        "\n"
      ],
      "execution_count": null,
      "outputs": []
    },
    {
      "cell_type": "code",
      "metadata": {
        "id": "g0Wrx-wDXMTt"
      },
      "source": [
        "dfstampa=pmad.concat(pm)"
      ],
      "execution_count": null,
      "outputs": []
    },
    {
      "cell_type": "code",
      "metadata": {
        "id": "fA1lPH1qXbo-"
      },
      "source": [
        "fig = px.line(BA_2020, x='elettrodi', y=\"avg(Potenza)\", color=\"label\")\n",
        "\n",
        "fig.update_layout(title='Adamento della potenzia media del segnale',\n",
        "                   xaxis_title='sequenza degli elettrodi',\n",
        "                   yaxis_title='Valori della potenza espressa in decibel')\n",
        "\n",
        "\n",
        "fig.show()"
      ],
      "execution_count": null,
      "outputs": []
    },
    {
      "cell_type": "code",
      "metadata": {
        "id": "7BrybTjJQ52W"
      },
      "source": [
        "x1 = np.linspace(0, len(y1), len(y1), endpoint=True)\n",
        "x2 = np.linspace(0, len(y2),len(y2), endpoint=True)\n",
        "x3 = np.linspace(0, len(y3),len(y3), endpoint=True)"
      ],
      "execution_count": null,
      "outputs": []
    },
    {
      "cell_type": "code",
      "metadata": {
        "colab": {
          "base_uri": "https://localhost:8080/",
          "height": 266
        },
        "id": "rWm6He4TpET-",
        "outputId": "2aa20711-7281-4ac4-8c67-bc72fcf81edb"
      },
      "source": [
        "plt.plot(x1, y1, 'g')\n",
        "plt.plot(x2, y2, 'b')\n",
        "plt.plot(x3, y3, 'r')\n",
        "\n",
        "plt.show()"
      ],
      "execution_count": null,
      "outputs": [
        {
          "output_type": "display_data",
          "data": {
            "image/png": "[encoded data removed]",
            "text/plain": [
              "<Figure size 432x288 with 1 Axes>"
            ]
          },
          "metadata": {
            "needs_background": "light"
          }
        }
      ]
    },
    {
      "cell_type": "code",
      "metadata": {
        "id": "Quv_4n88gRsy"
      },
      "source": [
        ""
      ],
      "execution_count": null,
      "outputs": []
    },
    {
      "cell_type": "code",
      "metadata": {
        "id": "C_giM9VbgZmJ"
      },
      "source": [
        "\n",
        "y1=df_pm16AD.loc[:,'potenza'].to_numpy()\n",
        "y2=df_pm16MCI.loc[:,'potenza'].to_numpy()\n",
        "y3=df_pm16HC.loc[:,'potenza'].to_numpy()\n",
        "\n"
      ],
      "execution_count": null,
      "outputs": []
    },
    {
      "cell_type": "code",
      "metadata": {
        "id": "GU9qO1jagccy"
      },
      "source": [
        ""
      ],
      "execution_count": null,
      "outputs": []
    },
    {
      "cell_type": "code",
      "metadata": {
        "id": "Ps2n-_Yagcvu"
      },
      "source": [
        "x1 = np.linspace(0, len(y1),len(y1), endpoint=True)\n",
        "x2 = np.linspace(0, len(y2),len(y2), endpoint=True)\n",
        "x3 = np.linspace(0, len(y3),len(y3), endpoint=True)"
      ],
      "execution_count": null,
      "outputs": []
    },
    {
      "cell_type": "code",
      "metadata": {
        "colab": {
          "base_uri": "https://localhost:8080/",
          "height": 265
        },
        "id": "QQuWQZTygcvu",
        "outputId": "3059632f-e8f0-4e0a-dc50-a97c9051437a"
      },
      "source": [
        "plt.plot(x1, y1, 'g')\n",
        "plt.plot(x2, y2, 'b')\n",
        "plt.plot(x3, y3, 'r')\n",
        "\n",
        "plt.show()"
      ],
      "execution_count": null,
      "outputs": [
        {
          "output_type": "display_data",
          "data": {
            "image/png": "[encoded data removed]",
            "text/plain": [
              "<Figure size 432x288 with 1 Axes>"
            ]
          },
          "metadata": {
            "needs_background": "light"
          }
        }
      ]
    },
    {
      "cell_type": "markdown",
      "metadata": {
        "id": "b0xC-PM0CYpO"
      },
      "source": [
        "# Prove sulle tre classi AD,MCI e HC con 10-kfold "
      ]
    },
    {
      "cell_type": "code",
      "metadata": {
        "id": "6obyzaozDBOk"
      },
      "source": [
        ""
      ],
      "execution_count": null,
      "outputs": []
    },
    {
      "cell_type": "markdown",
      "metadata": {
        "id": "Y2icx7hhDBky"
      },
      "source": [
        "## Preparazione dei dati frequenza di taglio a 7 HZ"
      ]
    },
    {
      "cell_type": "code",
      "metadata": {
        "id": "qx3MhWyYDBkz"
      },
      "source": [
        ""
      ],
      "execution_count": null,
      "outputs": []
    },
    {
      "cell_type": "code",
      "metadata": {
        "id": "UcEWRV_RDBkz"
      },
      "source": [
        "pmAD=pd.read_csv(\"/content/drive/MyDrive/Dati EEG/pazienti a 7 HZ/Frq7_AbsDiff_PxxAD_2_rc48x19.txt\", sep=\"|\",header=None)\n",
        "pmMCI=pd.read_csv(\"/content/drive/MyDrive/Dati EEG/pazienti a 7 HZ/Frq7_AbsDiff_PxxMCI_2_rc37x19.txt\", sep=\"|\",header=None)\n",
        "pmHC=pd.read_csv(\"/content/drive/MyDrive/Dati EEG/pazienti a 7 HZ/Frq7_AbsDiff_PxxHC_2_rc20x19.txt\", sep=\"|\",header=None)"
      ],
      "execution_count": null,
      "outputs": []
    },
    {
      "cell_type": "code",
      "metadata": {
        "colab": {
          "base_uri": "https://localhost:8080/",
          "height": 225
        },
        "id": "L1dHmLXnDBkz",
        "outputId": "5a879cdd-9b71-4f13-aea9-314af62d4669"
      },
      "source": [
        "pmAD.head()"
      ],
      "execution_count": null,
      "outputs": [
        {
          "output_type": "execute_result",
          "data": {
            "text/html": [
              "<div>\n",
              "<style scoped>\n",
              "    .dataframe tbody tr th:only-of-type {\n",
              "        vertical-align: middle;\n",
              "    }\n",
              "\n",
              "    .dataframe tbody tr th {\n",
              "        vertical-align: top;\n",
              "    }\n",
              "\n",
              "    .dataframe thead th {\n",
              "        text-align: right;\n",
              "    }\n",
              "</style>\n",
              "<table border=\"1\" class=\"dataframe\">\n",
              "  <thead>\n",
              "    <tr style=\"text-align: right;\">\n",
              "      <th></th>\n",
              "      <th>0</th>\n",
              "      <th>1</th>\n",
              "      <th>2</th>\n",
              "      <th>3</th>\n",
              "      <th>4</th>\n",
              "      <th>5</th>\n",
              "      <th>6</th>\n",
              "      <th>7</th>\n",
              "      <th>8</th>\n",
              "      <th>9</th>\n",
              "      <th>10</th>\n",
              "      <th>11</th>\n",
              "      <th>12</th>\n",
              "      <th>13</th>\n",
              "      <th>14</th>\n",
              "      <th>15</th>\n",
              "      <th>16</th>\n",
              "      <th>17</th>\n",
              "      <th>18</th>\n",
              "    </tr>\n",
              "  </thead>\n",
              "  <tbody>\n",
              "    <tr>\n",
              "      <th>2</th>\n",
              "      <td>16710.274386</td>\n",
              "      <td>491.826487</td>\n",
              "      <td>64883.355334</td>\n",
              "      <td>1.302347e+04</td>\n",
              "      <td>7035.999901</td>\n",
              "      <td>2584.586004</td>\n",
              "      <td>11037.942466</td>\n",
              "      <td>6386.799694</td>\n",
              "      <td>13757.095528</td>\n",
              "      <td>628.647278</td>\n",
              "      <td>16083.756395</td>\n",
              "      <td>84709.230856</td>\n",
              "      <td>20612.584788</td>\n",
              "      <td>1059.206620</td>\n",
              "      <td>123.334152</td>\n",
              "      <td>12152.299400</td>\n",
              "      <td>3922.639015</td>\n",
              "      <td>3923.191270</td>\n",
              "      <td>4888.347621</td>\n",
              "    </tr>\n",
              "    <tr>\n",
              "      <th>3</th>\n",
              "      <td>26001.170207</td>\n",
              "      <td>3549.454647</td>\n",
              "      <td>30864.681000</td>\n",
              "      <td>1.548235e+06</td>\n",
              "      <td>18787.870784</td>\n",
              "      <td>20950.704489</td>\n",
              "      <td>1024.154193</td>\n",
              "      <td>5005.654471</td>\n",
              "      <td>4143.589313</td>\n",
              "      <td>64958.443496</td>\n",
              "      <td>2678.570561</td>\n",
              "      <td>26905.955678</td>\n",
              "      <td>6418.752207</td>\n",
              "      <td>18760.705068</td>\n",
              "      <td>17757.939252</td>\n",
              "      <td>62873.778695</td>\n",
              "      <td>20549.576317</td>\n",
              "      <td>16318.303360</td>\n",
              "      <td>25023.776818</td>\n",
              "    </tr>\n",
              "    <tr>\n",
              "      <th>4</th>\n",
              "      <td>58.987504</td>\n",
              "      <td>22.993610</td>\n",
              "      <td>109.179982</td>\n",
              "      <td>1.249574e+02</td>\n",
              "      <td>1252.618400</td>\n",
              "      <td>1785.282194</td>\n",
              "      <td>14380.546589</td>\n",
              "      <td>920.462956</td>\n",
              "      <td>6773.058498</td>\n",
              "      <td>2274.558515</td>\n",
              "      <td>2862.266430</td>\n",
              "      <td>21.442147</td>\n",
              "      <td>1.426629</td>\n",
              "      <td>1311.841404</td>\n",
              "      <td>48.696497</td>\n",
              "      <td>20650.598312</td>\n",
              "      <td>170.095069</td>\n",
              "      <td>2586.197193</td>\n",
              "      <td>9.256284</td>\n",
              "    </tr>\n",
              "    <tr>\n",
              "      <th>5</th>\n",
              "      <td>12.783612</td>\n",
              "      <td>1.914625</td>\n",
              "      <td>151.477409</td>\n",
              "      <td>4.985188e+02</td>\n",
              "      <td>643.262941</td>\n",
              "      <td>41.071880</td>\n",
              "      <td>12.697732</td>\n",
              "      <td>4947.941699</td>\n",
              "      <td>89.516703</td>\n",
              "      <td>943.750703</td>\n",
              "      <td>292.242334</td>\n",
              "      <td>326.005754</td>\n",
              "      <td>84.511000</td>\n",
              "      <td>196.394138</td>\n",
              "      <td>3556.229706</td>\n",
              "      <td>2241.504110</td>\n",
              "      <td>389.791407</td>\n",
              "      <td>693.741442</td>\n",
              "      <td>1254.814396</td>\n",
              "    </tr>\n",
              "    <tr>\n",
              "      <th>6</th>\n",
              "      <td>278.462569</td>\n",
              "      <td>426.151941</td>\n",
              "      <td>5.410233</td>\n",
              "      <td>6.670465e+03</td>\n",
              "      <td>22.246485</td>\n",
              "      <td>4328.701283</td>\n",
              "      <td>550.050744</td>\n",
              "      <td>120.815338</td>\n",
              "      <td>753.259291</td>\n",
              "      <td>228.913540</td>\n",
              "      <td>33147.146694</td>\n",
              "      <td>1.231050</td>\n",
              "      <td>0.547352</td>\n",
              "      <td>72.362399</td>\n",
              "      <td>1.828590</td>\n",
              "      <td>37.303860</td>\n",
              "      <td>111.443217</td>\n",
              "      <td>8644.668808</td>\n",
              "      <td>90.799499</td>\n",
              "    </tr>\n",
              "  </tbody>\n",
              "</table>\n",
              "</div>"
            ],
            "text/plain": [
              "             0            1   ...            17            18\n",
              "2  16710.274386   491.826487  ...   3923.191270   4888.347621\n",
              "3  26001.170207  3549.454647  ...  16318.303360  25023.776818\n",
              "4     58.987504    22.993610  ...   2586.197193      9.256284\n",
              "5     12.783612     1.914625  ...    693.741442   1254.814396\n",
              "6    278.462569   426.151941  ...   8644.668808     90.799499\n",
              "\n",
              "[5 rows x 19 columns]"
            ]
          },
          "metadata": {},
          "execution_count": 31
        }
      ]
    },
    {
      "cell_type": "code",
      "metadata": {
        "id": "s9fNZEftDBk0"
      },
      "source": [
        "pmAD = pmAD[(pmAD > 0).all(axis=1)]\n",
        "pmMCI = pmMCI[(pmMCI > 0).all(axis=1)]\n",
        "pmHC = pmHC[(pmHC > 0).all(axis=1)]"
      ],
      "execution_count": null,
      "outputs": []
    },
    {
      "cell_type": "code",
      "metadata": {
        "id": "IMSvWSdeDBk1"
      },
      "source": [
        "df_pmAD=pmAD.assign(label=lambda pmAD: 1)\n",
        "df_pmMCI=pmMCI.assign(label=lambda pmMCI: 2)\n",
        "df_pmHC=pmHC.assign(label=lambda pmHC: 3)"
      ],
      "execution_count": null,
      "outputs": []
    },
    {
      "cell_type": "code",
      "metadata": {
        "id": "WXzU13udDBk1"
      },
      "source": [
        "ADHC=df_pmAD.copy()\n",
        "ADHC=ADHC.append(df_pmHC,ignore_index=True)"
      ],
      "execution_count": null,
      "outputs": []
    },
    {
      "cell_type": "code",
      "metadata": {
        "id": "G4ehSY5iDBk1"
      },
      "source": [
        "ADMCI=df_pmAD.copy()\n",
        "ADMCI=ADMCI.append(df_pmMCI,ignore_index=True)"
      ],
      "execution_count": null,
      "outputs": []
    },
    {
      "cell_type": "code",
      "metadata": {
        "id": "TZrAMvZADBk2"
      },
      "source": [
        "MCIHC=df_pmMCI.copy()\n",
        "MCIHC=MCIHC.append(df_pmHC,ignore_index=True)"
      ],
      "execution_count": null,
      "outputs": []
    },
    {
      "cell_type": "code",
      "metadata": {
        "id": "tJmD_1kxDBk2"
      },
      "source": [
        "CASEHC=df_pmAD.copy()\n",
        "CASEHC=CASEHC.append(df_pmMCI,ignore_index=True)\n",
        "CASEHC=CASEHC.append(df_pmHC,ignore_index=True)"
      ],
      "execution_count": null,
      "outputs": []
    },
    {
      "cell_type": "code",
      "metadata": {
        "id": "d9ndGYitDBk2"
      },
      "source": [
        ""
      ],
      "execution_count": null,
      "outputs": []
    },
    {
      "cell_type": "code",
      "metadata": {
        "id": "U7JnCJW9DRY0"
      },
      "source": [
        ""
      ],
      "execution_count": null,
      "outputs": []
    },
    {
      "cell_type": "markdown",
      "metadata": {
        "id": "SqpH1eH7DRuD"
      },
      "source": [
        "## Riduzione di dimensioni con LDA a 7 HZ"
      ]
    },
    {
      "cell_type": "code",
      "metadata": {
        "id": "ocd8Uyo-DRuE"
      },
      "source": [
        ""
      ],
      "execution_count": null,
      "outputs": []
    },
    {
      "cell_type": "markdown",
      "metadata": {
        "id": "r8awarXYDRuF"
      },
      "source": [
        "### LDA"
      ]
    },
    {
      "cell_type": "code",
      "metadata": {
        "id": "wGs29hSeYIkI"
      },
      "source": [
        ""
      ],
      "execution_count": null,
      "outputs": []
    },
    {
      "cell_type": "markdown",
      "metadata": {
        "id": "bXiBZ_UlSmOS"
      },
      "source": [
        "#### 10 RUN"
      ]
    },
    {
      "cell_type": "code",
      "metadata": {
        "id": "lGPg45P1MlSi"
      },
      "source": [
        "for i in range(10):\n",
        "    df=CASEHC.loc[:,[0,1,2,3,4,5,6,7,8,9,10,11,12,13,14,15,16,17,18]]\n",
        "\n",
        "    X = df.to_numpy()\n",
        "\n",
        "    Y = CASEHC.loc[:,'label']\n",
        "    y = Y.to_numpy()\n",
        "    #y = np.where(y == 3, 1, 0)\n",
        "    #from sklearn.model_selection import train_test_split\n",
        "\n",
        "\n",
        "    #X_train, X_test, y_train, y_test = train_test_split(X, y, test_size=0.3,stratify=y,random_state=42)\n",
        "    X_train, X_test, y_train, y_test = train_test_split(X, y, test_size=0.2,stratify=y)\n",
        "    lda = LDA(n_components=2)\n",
        "    X_train_lda4 = lda.fit_transform(X_train, y_train)\n",
        "    #X_test_lda4 = lda.transform(X_test)\n",
        "    X_test_lda4 = lda.fit_transform(X_test,y_test)\n",
        "\n",
        "    X_train_caso5=X_train_lda4\n",
        "    X_test_caso5=X_test_lda4\n",
        "    y_train_caso5=y_train\n",
        "    y_test_caso5=y_test\n",
        "    tuning_albero_decisione(5,10)\n",
        "    tuning_SVM(5,10)\n",
        "    tuning_SVM_1(5,10)\n",
        "    tuning_KNN(5,10)\n"
      ],
      "execution_count": null,
      "outputs": []
    },
    {
      "cell_type": "markdown",
      "metadata": {
        "id": "2TzuIp31D2O3"
      },
      "source": [
        "#### Caso 5 AD vs MCI vs HC"
      ]
    },
    {
      "cell_type": "code",
      "metadata": {
        "id": "GtiiOmGtD2O6"
      },
      "source": [
        "\n",
        "df=CASEHC.loc[:,[0,1,2,3,4,5,6,7,8,9,10,11,12,13,14,15,16,17,18]]\n",
        "\n",
        "    X = df.to_numpy()\n",
        "\n",
        "    Y = CASEHC.loc[:,'label']\n",
        "    y = Y.to_numpy()\n",
        "    #y = np.where(y == 3, 1, 0)\n",
        "    #from sklearn.model_selection import train_test_split\n",
        "\n",
        "\n",
        "    #X_train, X_test, y_train, y_test = train_test_split(X, y, test_size=0.3,stratify=y,random_state=42)\n",
        "    X_train, X_test, y_train, y_test = train_test_split(X, y, test_size=0.2,stratify=y)\n",
        "    lda = LDA(n_components=2)\n",
        "    X_train_lda4 = lda.fit_transform(X_train, y_train)\n",
        "    #X_test_lda4 = lda.transform(X_test)\n",
        "    X_test_lda4 = lda.fit_transform(X_test,y_test)\n",
        "\n",
        "    X_train_caso5=X_train_lda4\n",
        "    X_test_caso5=X_test_lda4\n",
        "    y_train_caso5=y_train\n",
        "    y_test_caso5=y_test\n",
        "    "
      ],
      "execution_count": null,
      "outputs": []
    },
    {
      "cell_type": "code",
      "metadata": {
        "id": "cLTqGf8fD2O7"
      },
      "source": [
        ""
      ],
      "execution_count": null,
      "outputs": []
    },
    {
      "cell_type": "code",
      "metadata": {
        "colab": {
          "base_uri": "https://localhost:8080/"
        },
        "id": "S6JcR8-aD2O8",
        "outputId": "40b0f856-868c-4ef1-cae2-e133b2754a85"
      },
      "source": [
        "tuning_albero_decisione(5,10)"
      ],
      "execution_count": null,
      "outputs": [
        {
          "output_type": "stream",
          "name": "stdout",
          "text": [
            "stimatore utilizzato - DecisionTreeClassifier\n",
            "Fitting 10 folds for each of 216 candidates, totalling 2160 fits\n"
          ]
        },
        {
          "output_type": "stream",
          "name": "stderr",
          "text": [
            "[Parallel(n_jobs=-1)]: Using backend LokyBackend with 2 concurrent workers.\n",
            "[Parallel(n_jobs=-1)]: Done 1204 tasks      | elapsed:    1.4s\n"
          ]
        },
        {
          "output_type": "stream",
          "name": "stdout",
          "text": [
            "Accuratezza fase di Cross Validation con dati di Addestramento/Validazione: 0.571\n",
            "{'criterion': 'entropy', 'max_depth': 3, 'min_samples_leaf': 3, 'min_samples_split': 2, 'min_weight_fraction_leaf': 0}\n",
            "Accuratezza con dati di Test: 0.750\n",
            "Risultato sui dati di test:\n",
            "              precision    recall  f1-score   support\n",
            "\n",
            "           1       0.64      1.00      0.78         9\n",
            "           2       1.00      0.86      0.92         7\n",
            "           3       0.00      0.00      0.00         4\n",
            "\n",
            "    accuracy                           0.75        20\n",
            "   macro avg       0.55      0.62      0.57        20\n",
            "weighted avg       0.64      0.75      0.68        20\n",
            "\n",
            "[[9 0 0]\n",
            " [1 6 0]\n",
            " [4 0 0]]\n"
          ]
        },
        {
          "output_type": "stream",
          "name": "stderr",
          "text": [
            "[Parallel(n_jobs=-1)]: Done 2160 out of 2160 | elapsed:    2.3s finished\n",
            "/usr/local/lib/python3.7/dist-packages/sklearn/metrics/_classification.py:1272: UndefinedMetricWarning:\n",
            "\n",
            "Precision and F-score are ill-defined and being set to 0.0 in labels with no predicted samples. Use `zero_division` parameter to control this behavior.\n",
            "\n"
          ]
        }
      ]
    },
    {
      "cell_type": "code",
      "metadata": {
        "id": "wS9YVlzPFTAs"
      },
      "source": [
        "#tuning_albero_decisione_CV(5,10)"
      ],
      "execution_count": null,
      "outputs": []
    },
    {
      "cell_type": "code",
      "metadata": {
        "colab": {
          "base_uri": "https://localhost:8080/"
        },
        "id": "wXRxmsqvD2O9",
        "outputId": "42f80261-376e-4108-8f71-f1e5c0efd035"
      },
      "source": [
        "tuning_SVM(5,10)"
      ],
      "execution_count": null,
      "outputs": [
        {
          "output_type": "stream",
          "name": "stderr",
          "text": [
            "[Parallel(n_jobs=-1)]: Using backend LokyBackend with 2 concurrent workers.\n"
          ]
        },
        {
          "output_type": "stream",
          "name": "stdout",
          "text": [
            "stimatore utilizzato - Support vector machine (SVC)\n",
            "Fitting 10 folds for each of 20 candidates, totalling 200 fits\n",
            "Accuratezza fase di Cross Validation con dati di Addestramento/Validazione: 0.582\n",
            "{'kernel': 'rbf', 'gamma': 0.01, 'C': 1.0}\n",
            "Accuratezza con dati di Test: 0.800\n",
            "Risultato sui dati di test:\n",
            "              precision    recall  f1-score   support\n",
            "\n",
            "           1       0.69      1.00      0.82         9\n",
            "           2       1.00      1.00      1.00         7\n",
            "           3       0.00      0.00      0.00         4\n",
            "\n",
            "    accuracy                           0.80        20\n",
            "   macro avg       0.56      0.67      0.61        20\n",
            "weighted avg       0.66      0.80      0.72        20\n",
            "\n",
            "[[9 0 0]\n",
            " [0 7 0]\n",
            " [4 0 0]]\n"
          ]
        },
        {
          "output_type": "stream",
          "name": "stderr",
          "text": [
            "[Parallel(n_jobs=-1)]: Done 200 out of 200 | elapsed:    0.4s finished\n",
            "/usr/local/lib/python3.7/dist-packages/sklearn/metrics/_classification.py:1272: UndefinedMetricWarning:\n",
            "\n",
            "Precision and F-score are ill-defined and being set to 0.0 in labels with no predicted samples. Use `zero_division` parameter to control this behavior.\n",
            "\n"
          ]
        }
      ]
    },
    {
      "cell_type": "code",
      "metadata": {
        "colab": {
          "base_uri": "https://localhost:8080/"
        },
        "id": "gXhojsw_U7m1",
        "outputId": "c417295e-f617-4d40-af4d-b63b3ea7eea2"
      },
      "source": [
        "tuning_SVM_1(5,10)"
      ],
      "execution_count": null,
      "outputs": [
        {
          "output_type": "stream",
          "name": "stderr",
          "text": [
            "[Parallel(n_jobs=-1)]: Using backend LokyBackend with 2 concurrent workers.\n"
          ]
        },
        {
          "output_type": "stream",
          "name": "stdout",
          "text": [
            "stimatore utilizzato - Support vector machine (SVC)\n",
            "Fitting 10 folds for each of 128 candidates, totalling 1280 fits\n"
          ]
        },
        {
          "output_type": "stream",
          "name": "stderr",
          "text": [
            "[Parallel(n_jobs=-1)]: Done 1080 tasks      | elapsed:    1.7s\n"
          ]
        },
        {
          "output_type": "stream",
          "name": "stdout",
          "text": [
            "Accuratezza fase di Cross Validation con dati di Addestramento/Validazione: 0.582\n",
            "{'C': 1.0, 'gamma': 0.01, 'kernel': 'rbf'}\n",
            "Accuratezza con dati di Test: 0.800\n",
            "Risultato sui dati di test:\n",
            "              precision    recall  f1-score   support\n",
            "\n",
            "           1       0.69      1.00      0.82         9\n",
            "           2       1.00      1.00      1.00         7\n",
            "           3       0.00      0.00      0.00         4\n",
            "\n",
            "    accuracy                           0.80        20\n",
            "   macro avg       0.56      0.67      0.61        20\n",
            "weighted avg       0.66      0.80      0.72        20\n",
            "\n",
            "[[9 0 0]\n",
            " [0 7 0]\n",
            " [4 0 0]]\n"
          ]
        },
        {
          "output_type": "stream",
          "name": "stderr",
          "text": [
            "[Parallel(n_jobs=-1)]: Done 1280 out of 1280 | elapsed:    2.3s finished\n",
            "/usr/local/lib/python3.7/dist-packages/sklearn/metrics/_classification.py:1272: UndefinedMetricWarning:\n",
            "\n",
            "Precision and F-score are ill-defined and being set to 0.0 in labels with no predicted samples. Use `zero_division` parameter to control this behavior.\n",
            "\n"
          ]
        }
      ]
    },
    {
      "cell_type": "code",
      "metadata": {
        "id": "IfRT_4A4FXvs"
      },
      "source": [
        "#tuning_SVM_CV(5,10)"
      ],
      "execution_count": null,
      "outputs": []
    },
    {
      "cell_type": "markdown",
      "metadata": {
        "id": "P9UC7cRFD2O-"
      },
      "source": [
        "<br>\n",
        "<br>"
      ]
    },
    {
      "cell_type": "code",
      "metadata": {
        "id": "FBnrDkc3D2O_"
      },
      "source": [
        ""
      ],
      "execution_count": null,
      "outputs": []
    },
    {
      "cell_type": "code",
      "metadata": {
        "colab": {
          "base_uri": "https://localhost:8080/"
        },
        "id": "8m9lLlSzD2O_",
        "outputId": "16c53945-0547-4ab3-c54d-11084345b8c1"
      },
      "source": [
        "tuning_KNN(5,10)"
      ],
      "execution_count": null,
      "outputs": [
        {
          "output_type": "stream",
          "name": "stderr",
          "text": [
            "[Parallel(n_jobs=-1)]: Using backend LokyBackend with 2 concurrent workers.\n"
          ]
        },
        {
          "output_type": "stream",
          "name": "stdout",
          "text": [
            "stimatore utilizzato - KNeighborsClassifier\n",
            "Fitting 10 folds for each of 16 candidates, totalling 160 fits\n",
            "Accuratezza fase di Cross Validation con dati di Addestramento/Validazione: 0.505\n",
            "{'algorithm': 'auto', 'n_neighbors': 5, 'weights': 'uniform'}\n",
            "Accuratezza con dati di Test: 0.800\n",
            "Risultato sui dati di test:\n",
            "              precision    recall  f1-score   support\n",
            "\n",
            "           1       0.69      1.00      0.82         9\n",
            "           2       1.00      1.00      1.00         7\n",
            "           3       0.00      0.00      0.00         4\n",
            "\n",
            "    accuracy                           0.80        20\n",
            "   macro avg       0.56      0.67      0.61        20\n",
            "weighted avg       0.66      0.80      0.72        20\n",
            "\n",
            "[[9 0 0]\n",
            " [0 7 0]\n",
            " [4 0 0]]\n"
          ]
        },
        {
          "output_type": "stream",
          "name": "stderr",
          "text": [
            "[Parallel(n_jobs=-1)]: Done 150 tasks      | elapsed:    0.4s\n",
            "[Parallel(n_jobs=-1)]: Done 160 out of 160 | elapsed:    0.4s finished\n",
            "/usr/local/lib/python3.7/dist-packages/sklearn/metrics/_classification.py:1272: UndefinedMetricWarning:\n",
            "\n",
            "Precision and F-score are ill-defined and being set to 0.0 in labels with no predicted samples. Use `zero_division` parameter to control this behavior.\n",
            "\n"
          ]
        }
      ]
    },
    {
      "cell_type": "code",
      "metadata": {
        "id": "5qLqaMNcD2PA"
      },
      "source": [
        ""
      ],
      "execution_count": null,
      "outputs": []
    },
    {
      "cell_type": "code",
      "metadata": {
        "id": "umpZUcbjD2PB"
      },
      "source": [
        "#tuning_MP(4,10)"
      ],
      "execution_count": null,
      "outputs": []
    },
    {
      "cell_type": "code",
      "metadata": {
        "id": "tnzY9ACvD2PC"
      },
      "source": [
        "#tuning_LR(4,10)"
      ],
      "execution_count": null,
      "outputs": []
    },
    {
      "cell_type": "code",
      "metadata": {
        "id": "xif8CTukD2PC"
      },
      "source": [
        "#tuning_foresta(4,10)"
      ],
      "execution_count": null,
      "outputs": []
    },
    {
      "cell_type": "code",
      "metadata": {
        "id": "krLD-z7FD2PD"
      },
      "source": [
        ""
      ],
      "execution_count": null,
      "outputs": []
    },
    {
      "cell_type": "code",
      "metadata": {
        "id": "56NpRMFED2PD"
      },
      "source": [
        ""
      ],
      "execution_count": null,
      "outputs": []
    },
    {
      "cell_type": "code",
      "metadata": {
        "id": "7Tvp5INvHZV4"
      },
      "source": [
        ""
      ],
      "execution_count": null,
      "outputs": []
    },
    {
      "cell_type": "code",
      "metadata": {
        "id": "hBntyUI0Hjd5"
      },
      "source": [
        ""
      ],
      "execution_count": null,
      "outputs": []
    },
    {
      "cell_type": "markdown",
      "metadata": {
        "id": "Y_IWVUqAHj6G"
      },
      "source": [
        "## Preparazione dei dati frequenza di taglio a 16 HZ"
      ]
    },
    {
      "cell_type": "code",
      "metadata": {
        "id": "hefbU7zwHj6H"
      },
      "source": [
        ""
      ],
      "execution_count": null,
      "outputs": []
    },
    {
      "cell_type": "code",
      "metadata": {
        "id": "611X7ys2Hj6H"
      },
      "source": [
        "pmAD=pd.read_csv(\"/content/drive/MyDrive/Dati EEG/pazienti a 16 hz/Frq16_AbsDiff_PxxAD_2_rc48x19.txt\", sep=\"|\",header=None)\n",
        "pmMCI=pd.read_csv(\"/content/drive/MyDrive/Dati EEG/pazienti a 16 hz/Frq16_AbsDiff_PxxMCI_2_rc37x19.txt\", sep=\"|\",header=None)\n",
        "pmHC=pd.read_csv(\"/content/drive/MyDrive/Dati EEG/pazienti a 16 hz/Frq16_AbsDiff_PxxHC_2_rc20x19.txt\", sep=\"|\",header=None)"
      ],
      "execution_count": null,
      "outputs": []
    },
    {
      "cell_type": "code",
      "metadata": {
        "id": "_Gmpf2x0Hj6I"
      },
      "source": [
        "pmAD = pmAD[(pmAD > 0).all(axis=1)]\n",
        "pmMCI = pmMCI[(pmMCI > 0).all(axis=1)]\n",
        "pmHC = pmHC[(pmHC > 0).all(axis=1)]"
      ],
      "execution_count": null,
      "outputs": []
    },
    {
      "cell_type": "code",
      "metadata": {
        "id": "5-cU8DQTHj6I"
      },
      "source": [
        "df_pmAD=pmAD.assign(label=lambda pmAD: 1)\n",
        "df_pmMCI=pmMCI.assign(label=lambda pmMCI: 2)\n",
        "df_pmHC=pmHC.assign(label=lambda pmHC: 3)"
      ],
      "execution_count": null,
      "outputs": []
    },
    {
      "cell_type": "code",
      "metadata": {
        "id": "4CyIBtm6Hj6J"
      },
      "source": [
        "ADHC=df_pmAD.copy()\n",
        "ADHC=ADHC.append(df_pmHC,ignore_index=True)"
      ],
      "execution_count": null,
      "outputs": []
    },
    {
      "cell_type": "code",
      "metadata": {
        "id": "634mHWW8Hj6J"
      },
      "source": [
        "ADMCI=df_pmAD.copy()\n",
        "ADMCI=ADMCI.append(df_pmMCI,ignore_index=True)"
      ],
      "execution_count": null,
      "outputs": []
    },
    {
      "cell_type": "code",
      "metadata": {
        "id": "Om2LfQvlHj6J"
      },
      "source": [
        "MCIHC=df_pmMCI.copy()\n",
        "MCIHC=MCIHC.append(df_pmHC,ignore_index=True)"
      ],
      "execution_count": null,
      "outputs": []
    },
    {
      "cell_type": "code",
      "metadata": {
        "id": "RHneUu3OHj6J"
      },
      "source": [
        "CASEHC=df_pmAD.copy()\n",
        "CASEHC=CASEHC.append(df_pmMCI,ignore_index=True)\n",
        "CASEHC=CASEHC.append(df_pmHC,ignore_index=True)"
      ],
      "execution_count": null,
      "outputs": []
    },
    {
      "cell_type": "code",
      "metadata": {
        "id": "eQdKBmeAHj6K"
      },
      "source": [
        ""
      ],
      "execution_count": null,
      "outputs": []
    },
    {
      "cell_type": "code",
      "metadata": {
        "colab": {
          "base_uri": "https://localhost:8080/"
        },
        "id": "4JtIsSRBHj6K",
        "outputId": "e66a90f0-f026-4640-bacd-e4559ed632d0"
      },
      "source": [
        "CASEHC.loc[:,18]"
      ],
      "execution_count": null,
      "outputs": [
        {
          "output_type": "execute_result",
          "data": {
            "text/plain": [
              "0     68779.781659\n",
              "1     35276.323631\n",
              "2     14373.366038\n",
              "3      9046.952937\n",
              "4      2006.775632\n",
              "          ...     \n",
              "94    11270.974247\n",
              "95      304.189828\n",
              "96     1152.498408\n",
              "97      806.917847\n",
              "98     1481.406641\n",
              "Name: 18, Length: 99, dtype: float64"
            ]
          },
          "metadata": {},
          "execution_count": 826
        }
      ]
    },
    {
      "cell_type": "markdown",
      "metadata": {
        "id": "fYIFhYnFY2gm"
      },
      "source": [
        "### 10 Run"
      ]
    },
    {
      "cell_type": "code",
      "metadata": {
        "id": "89ykmOfeHj6K"
      },
      "source": [
        "for i in range(10):\n",
        "    df=CASEHC.loc[:,[0,1,2,3,4,5,6,7,8,9,10,11,12,13,14,15,16,17,18]]\n",
        "\n",
        "    X = df.to_numpy()\n",
        "\n",
        "    Y = CASEHC.loc[:,'label']\n",
        "    y = Y.to_numpy()\n",
        "    #y = np.where(y == 3, 1, 0)\n",
        "    #from sklearn.model_selection import train_test_split\n",
        "\n",
        "\n",
        "    #X_train, X_test, y_train, y_test = train_test_split(X, y, test_size=0.3,stratify=y,random_state=42)\n",
        "    X_train, X_test, y_train, y_test = train_test_split(X, y, test_size=0.2,stratify=y)\n",
        "    lda = LDA(n_components=2)\n",
        "    X_train_lda4 = lda.fit_transform(X_train, y_train)\n",
        "    #X_test_lda4 = lda.transform(X_test)\n",
        "    X_test_lda4 = lda.fit_transform(X_test,y_test)\n",
        "\n",
        "    X_train_caso5=X_train_lda4\n",
        "    X_test_caso5=X_test_lda4\n",
        "    y_train_caso5=y_train\n",
        "    y_test_caso5=y_test\n",
        "    tuning_albero_decisione(5,10)\n",
        "    tuning_SVM(5,10)\n",
        "    tuning_SVM_1(5,10)\n",
        "    tuning_KNN(5,10)"
      ],
      "execution_count": null,
      "outputs": []
    },
    {
      "cell_type": "markdown",
      "metadata": {
        "id": "zQpMXvYiH5Av"
      },
      "source": [
        "### Caso 5 AD vs MCI vs HC"
      ]
    },
    {
      "cell_type": "code",
      "metadata": {
        "id": "eh81cEmkH5Ax"
      },
      "source": [
        "\n",
        "df=CASEHC.loc[:,[0,1,2,3,4,5,6,7,8,9,10,11,12,13,14,15,16,17,18]]\n",
        "\n",
        "X = df.to_numpy()\n",
        "\n",
        "Y = CASEHC.loc[:,'label']\n",
        "y = Y.to_numpy()\n",
        "#y = np.where(y == 3, 1, 0)\n",
        "#from sklearn.model_selection import train_test_split\n",
        "\n",
        "\n",
        "#X_train, X_test, y_train, y_test = train_test_split(X, y, test_size=0.3,stratify=y,random_state=42)\n",
        "X_train, X_test, y_train, y_test = train_test_split(X, y, test_size=0.2,stratify=y)\n",
        "lda = LDA(n_components=2)\n",
        "X_train_lda4 = lda.fit_transform(X_train, y_train)\n",
        "#X_test_lda4 = lda.transform(X_test)\n",
        "X_test_lda4 = lda.fit_transform(X_test,y_test)\n",
        "\n",
        "X_train_caso5=X_train_lda4\n",
        "X_test_caso5=X_test_lda4\n",
        "y_train_caso5=y_train\n",
        "y_test_caso5=y_test"
      ],
      "execution_count": null,
      "outputs": []
    },
    {
      "cell_type": "code",
      "metadata": {
        "colab": {
          "base_uri": "https://localhost:8080/"
        },
        "id": "85oss0CSH5A0",
        "outputId": "3eb6ba23-bf6c-47a1-98ed-04c7dcb4ca68"
      },
      "source": [
        "tuning_albero_decisione(5,10)"
      ],
      "execution_count": null,
      "outputs": [
        {
          "output_type": "stream",
          "name": "stdout",
          "text": [
            "stimatore utilizzato - DecisionTreeClassifier\n",
            "Fitting 10 folds for each of 216 candidates, totalling 2160 fits\n"
          ]
        },
        {
          "output_type": "stream",
          "name": "stderr",
          "text": [
            "[Parallel(n_jobs=-1)]: Using backend LokyBackend with 2 concurrent workers.\n"
          ]
        },
        {
          "output_type": "stream",
          "name": "stdout",
          "text": [
            "Accuratezza fase di Cross Validation con dati di Addestramento/Validazione: 0.711\n",
            "{'criterion': 'gini', 'max_depth': 3, 'min_samples_leaf': 1, 'min_samples_split': 2, 'min_weight_fraction_leaf': 0}\n",
            "Accuratezza con dati di Test: 0.800\n",
            "Risultato sui dati di test:\n",
            "              precision    recall  f1-score   support\n",
            "\n",
            "           1       0.69      1.00      0.82         9\n",
            "           2       1.00      1.00      1.00         7\n",
            "           3       0.00      0.00      0.00         4\n",
            "\n",
            "    accuracy                           0.80        20\n",
            "   macro avg       0.56      0.67      0.61        20\n",
            "weighted avg       0.66      0.80      0.72        20\n",
            "\n",
            "[[9 0 0]\n",
            " [0 7 0]\n",
            " [4 0 0]]\n"
          ]
        },
        {
          "output_type": "stream",
          "name": "stderr",
          "text": [
            "[Parallel(n_jobs=-1)]: Done 1951 tasks      | elapsed:    2.4s\n",
            "[Parallel(n_jobs=-1)]: Done 2160 out of 2160 | elapsed:    2.5s finished\n",
            "/usr/local/lib/python3.7/dist-packages/sklearn/metrics/_classification.py:1272: UndefinedMetricWarning:\n",
            "\n",
            "Precision and F-score are ill-defined and being set to 0.0 in labels with no predicted samples. Use `zero_division` parameter to control this behavior.\n",
            "\n"
          ]
        }
      ]
    },
    {
      "cell_type": "code",
      "metadata": {
        "id": "jTQj9b6AH5A1"
      },
      "source": [
        "#tuning_albero_decisione_CV(5,10)"
      ],
      "execution_count": null,
      "outputs": []
    },
    {
      "cell_type": "code",
      "metadata": {
        "colab": {
          "base_uri": "https://localhost:8080/"
        },
        "id": "tFgAFk6RH5A2",
        "outputId": "4810c314-2f22-44de-8722-27a79863daae"
      },
      "source": [
        "tuning_SVM(5,10)"
      ],
      "execution_count": null,
      "outputs": [
        {
          "output_type": "stream",
          "name": "stderr",
          "text": [
            "[Parallel(n_jobs=-1)]: Using backend LokyBackend with 2 concurrent workers.\n"
          ]
        },
        {
          "output_type": "stream",
          "name": "stdout",
          "text": [
            "stimatore utilizzato - Support vector machine (SVC)\n",
            "Fitting 10 folds for each of 20 candidates, totalling 200 fits\n",
            "Accuratezza fase di Cross Validation con dati di Addestramento/Validazione: 0.646\n",
            "{'kernel': 'linear', 'gamma': 1.0, 'C': 1.0}\n",
            "Accuratezza con dati di Test: 0.950\n",
            "Risultato sui dati di test:\n",
            "              precision    recall  f1-score   support\n",
            "\n",
            "           1       0.90      1.00      0.95         9\n",
            "           2       1.00      1.00      1.00         7\n",
            "           3       1.00      0.75      0.86         4\n",
            "\n",
            "    accuracy                           0.95        20\n",
            "   macro avg       0.97      0.92      0.93        20\n",
            "weighted avg       0.96      0.95      0.95        20\n",
            "\n",
            "[[9 0 0]\n",
            " [0 7 0]\n",
            " [1 0 3]]\n"
          ]
        },
        {
          "output_type": "stream",
          "name": "stderr",
          "text": [
            "[Parallel(n_jobs=-1)]: Done 200 out of 200 | elapsed:    0.4s finished\n"
          ]
        }
      ]
    },
    {
      "cell_type": "code",
      "metadata": {
        "colab": {
          "base_uri": "https://localhost:8080/"
        },
        "id": "1p35-CuAXFRm",
        "outputId": "21a7a038-dba5-438d-894e-fdc2273d477b"
      },
      "source": [
        "tuning_SVM_1(5,10)"
      ],
      "execution_count": null,
      "outputs": [
        {
          "output_type": "stream",
          "name": "stderr",
          "text": [
            "[Parallel(n_jobs=-1)]: Using backend LokyBackend with 2 concurrent workers.\n"
          ]
        },
        {
          "output_type": "stream",
          "name": "stdout",
          "text": [
            "stimatore utilizzato - Support vector machine (SVC)\n",
            "Fitting 10 folds for each of 128 candidates, totalling 1280 fits\n",
            "Accuratezza fase di Cross Validation con dati di Addestramento/Validazione: 0.646\n",
            "{'C': 1.0, 'gamma': 0.0001, 'kernel': 'linear'}\n",
            "Accuratezza con dati di Test: 0.950\n",
            "Risultato sui dati di test:\n",
            "              precision    recall  f1-score   support\n",
            "\n",
            "           1       0.90      1.00      0.95         9\n",
            "           2       1.00      1.00      1.00         7\n",
            "           3       1.00      0.75      0.86         4\n",
            "\n",
            "    accuracy                           0.95        20\n",
            "   macro avg       0.97      0.92      0.93        20\n",
            "weighted avg       0.96      0.95      0.95        20\n",
            "\n",
            "[[9 0 0]\n",
            " [0 7 0]\n",
            " [1 0 3]]\n"
          ]
        },
        {
          "output_type": "stream",
          "name": "stderr",
          "text": [
            "[Parallel(n_jobs=-1)]: Done 1280 out of 1280 | elapsed:    3.5s finished\n"
          ]
        }
      ]
    },
    {
      "cell_type": "code",
      "metadata": {
        "id": "UDDbCWttH5A2"
      },
      "source": [
        "#tuning_SVM_CV(5,10)"
      ],
      "execution_count": null,
      "outputs": []
    },
    {
      "cell_type": "markdown",
      "metadata": {
        "id": "lFp4HScGH5A3"
      },
      "source": [
        "<br>\n",
        "<br>"
      ]
    },
    {
      "cell_type": "code",
      "metadata": {
        "id": "OksgmCfXH5A4"
      },
      "source": [
        ""
      ],
      "execution_count": null,
      "outputs": []
    },
    {
      "cell_type": "code",
      "metadata": {
        "colab": {
          "base_uri": "https://localhost:8080/"
        },
        "id": "BPqtlhUdH5A5",
        "outputId": "1e527fef-c692-42e6-d93a-76d6cfd0acea"
      },
      "source": [
        "tuning_KNN(5,10)"
      ],
      "execution_count": null,
      "outputs": [
        {
          "output_type": "stream",
          "name": "stderr",
          "text": [
            "[Parallel(n_jobs=-1)]: Using backend LokyBackend with 2 concurrent workers.\n"
          ]
        },
        {
          "output_type": "stream",
          "name": "stdout",
          "text": [
            "stimatore utilizzato - KNeighborsClassifier\n",
            "Fitting 10 folds for each of 16 candidates, totalling 160 fits\n",
            "Accuratezza fase di Cross Validation con dati di Addestramento/Validazione: 0.648\n",
            "{'algorithm': 'auto', 'n_neighbors': 5, 'weights': 'distance'}\n",
            "Accuratezza con dati di Test: 0.950\n",
            "Risultato sui dati di test:\n",
            "              precision    recall  f1-score   support\n",
            "\n",
            "           1       1.00      1.00      1.00         9\n",
            "           2       0.88      1.00      0.93         7\n",
            "           3       1.00      0.75      0.86         4\n",
            "\n",
            "    accuracy                           0.95        20\n",
            "   macro avg       0.96      0.92      0.93        20\n",
            "weighted avg       0.96      0.95      0.95        20\n",
            "\n",
            "[[9 0 0]\n",
            " [0 7 0]\n",
            " [0 1 3]]\n"
          ]
        },
        {
          "output_type": "stream",
          "name": "stderr",
          "text": [
            "[Parallel(n_jobs=-1)]: Done 151 tasks      | elapsed:    0.3s\n",
            "[Parallel(n_jobs=-1)]: Done 160 out of 160 | elapsed:    0.4s finished\n"
          ]
        }
      ]
    },
    {
      "cell_type": "code",
      "metadata": {
        "id": "1GdU5C4aH5A5"
      },
      "source": [
        ""
      ],
      "execution_count": null,
      "outputs": []
    },
    {
      "cell_type": "code",
      "metadata": {
        "id": "-FmQJiKaH5A6"
      },
      "source": [
        "#tuning_MP(4,10)"
      ],
      "execution_count": null,
      "outputs": []
    },
    {
      "cell_type": "code",
      "metadata": {
        "id": "7x2q8u6pH5A6"
      },
      "source": [
        "#tuning_LR(4,10)"
      ],
      "execution_count": null,
      "outputs": []
    },
    {
      "cell_type": "code",
      "metadata": {
        "id": "_T8p2SQtH5A7"
      },
      "source": [
        "#tuning_foresta(4,10)"
      ],
      "execution_count": null,
      "outputs": []
    },
    {
      "cell_type": "code",
      "metadata": {
        "id": "222Tbw_WH5A7"
      },
      "source": [
        ""
      ],
      "execution_count": null,
      "outputs": []
    },
    {
      "cell_type": "code",
      "metadata": {
        "id": "vXBY7ThoH5A7"
      },
      "source": [
        ""
      ],
      "execution_count": null,
      "outputs": []
    },
    {
      "cell_type": "code",
      "metadata": {
        "id": "uP69W1-QH5A8"
      },
      "source": [
        ""
      ],
      "execution_count": null,
      "outputs": []
    },
    {
      "cell_type": "code",
      "metadata": {
        "id": "kfeMjILLH5A8"
      },
      "source": [
        ""
      ],
      "execution_count": null,
      "outputs": []
    }
  ]
}